{
 "cells": [
  {
   "cell_type": "code",
   "execution_count": 34,
   "metadata": {},
   "outputs": [
    {
     "data": {
      "text/plain": [
       "0"
      ]
     },
     "execution_count": 34,
     "metadata": {},
     "output_type": "execute_result"
    }
   ],
   "source": [
    "# noexport\n",
    "\n",
    "import os\n",
    "os.system('export_notebook diskmemo.ipynb')"
   ]
  },
  {
   "cell_type": "code",
   "execution_count": 30,
   "metadata": {},
   "outputs": [],
   "source": [
    "import numpy as np\n",
    "import os, shelve, inspect, functools, hashlib\n",
    "\n",
    "# doesn't work with nested stuff (like dicts in argument lists)\n",
    "\n",
    "cache_dirname = 'cached_func_calls'\n",
    "path_to_shelve = {}\n",
    "\n",
    "def diskmemo(f):\n",
    "    if not os.path.isdir(cache_dirname):\n",
    "        os.mkdir(cache_dirname)\n",
    "        print('Created cache directory %s' % os.path.join(os.path.abspath(__file__),cache_dirname))\n",
    "\n",
    "    cache_filename = f.__module__ + f.__name__\n",
    "    cachepath = os.path.join(cache_dirname, cache_filename)\n",
    "    memcache = {}\n",
    "    cache = path_to_shelve.get(cachepath, None)\n",
    "    if cache == None:\n",
    "      try:\n",
    "        cache = shelve.open(cachepath,protocol=2)\n",
    "        print('successfully opened %s' % cachepath)\n",
    "        path_to_shelve[cachepath] = cache\n",
    "      except Exception as e:\n",
    "        print('Could not open cache file %s, maybe name collision' % cachepath)\n",
    "        print(e)\n",
    "\n",
    "    @functools.wraps(f)\n",
    "    def wrapped(*args,**kwargs):\n",
    "        argdict = {}\n",
    "\n",
    "        # handle instance methods\n",
    "        if hasattr(f,'__self__'):\n",
    "            args = args[1:]\n",
    "            # argdict['classname'] = f.__self__.__class__\n",
    "\n",
    "        tempargdict = inspect.getcallargs(f,*args,**kwargs)\n",
    "\n",
    "        # handle numpy arrays\n",
    "        for k,v in tempargdict.items():\n",
    "            if isinstance(v,np.ndarray):\n",
    "                argdict[k] = hashlib.sha1(v).hexdigest()\n",
    "            else:\n",
    "                argdict[k] = v\n",
    "\n",
    "        key = str(hash(frozenset(argdict.items())))\n",
    "        try:\n",
    "          return memcache[key]\n",
    "        except KeyError:\n",
    "          try:\n",
    "              return cache[key]\n",
    "          except KeyError:\n",
    "              value = f(*args,**kwargs)\n",
    "              cache[key] = value\n",
    "              cache.sync()\n",
    "              return value\n",
    "        except TypeError:\n",
    "            print('Warning: could not disk cache call to %s; it probably has unhashable args' % (f.__module__ + '.' + f.__name__))\n",
    "            return f(*args,**kwargs)\n",
    "\n",
    "    return wrapped"
   ]
  }
 ],
 "metadata": {
  "kernelspec": {
   "display_name": "Python 3",
   "language": "python",
   "name": "python3"
  },
  "language_info": {
   "codemirror_mode": {
    "name": "ipython",
    "version": 3
   },
   "file_extension": ".py",
   "mimetype": "text/x-python",
   "name": "python",
   "nbconvert_exporter": "python",
   "pygments_lexer": "ipython3",
   "version": "3.7.2"
  }
 },
 "nbformat": 4,
 "nbformat_minor": 2
}
