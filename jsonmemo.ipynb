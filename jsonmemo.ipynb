{
 "cells": [
  {
   "cell_type": "code",
   "execution_count": 21,
   "metadata": {},
   "outputs": [
    {
     "name": "stdout",
     "output_type": "stream",
     "text": [
      "[NbConvertApp] Converting notebook jsonmemo.ipynb to python\n",
      "jsonmemo.py:77: error: Need type annotation for 'path_to_cache_1arg'\n"
     ]
    }
   ],
   "source": [
    "# noexport\n",
    "\n",
    "!typech jsonmemo.ipynb\n",
    "#import os\n",
    "#os.system('export_notebook jsonmemo.ipynb')"
   ]
  },
  {
   "cell_type": "code",
   "execution_count": 5,
   "metadata": {},
   "outputs": [],
   "source": [
    "try:\n",
    "  from typing import Dict, Any\n",
    "except ImportError:\n",
    "  pass\n",
    "\n",
    "import arrow\n",
    "import json\n",
    "import os, functools\n",
    "\n",
    "def decode_custom(obj):\n",
    "  if '__arrow__' in obj:\n",
    "    obj = arrow.get(obj['as_str'])\n",
    "  return obj\n",
    "\n",
    "def encode_custom(obj):\n",
    "  if isinstance(obj, arrow.Arrow):\n",
    "    return {'__arrow__': True, 'as_str': str(obj)}\n",
    "  return obj\n",
    "\n",
    "# doesn't work with nested stuff (like dicts in argument lists)\n",
    "\n",
    "cache_dirname = None\n",
    "\n",
    "def set_cache_dirname(new_cache_dirname):\n",
    "  global cache_dirname\n",
    "  cache_dirname = new_cache_dirname\n",
    "\n",
    "def get_cache_dirname():\n",
    "  if cache_dirname == None:\n",
    "    return 'cached_func_calls'\n",
    "  return cache_dirname\n",
    "\n",
    "path_to_cache = {} # type: Dict[str, Any]\n",
    "\n",
    "def jsonmemo(f):\n",
    "  if not os.path.isdir(get_cache_dirname()):\n",
    "    os.mkdir(get_cache_dirname())\n",
    "    print('Created cache directory %s' % os.path.join(os.path.abspath(__file__), get_cache_dirname()))\n",
    "\n",
    "  funcname = f.__name__\n",
    "  #cache_filename = f.__module__ + f.__name__ + '.json'\n",
    "  cache_filename = funcname + '.json'\n",
    "  cachepath = os.path.join(get_cache_dirname(), cache_filename)\n",
    "  cache = None\n",
    "\n",
    "  @functools.wraps(f)\n",
    "  def wrapped():\n",
    "    nonlocal cache\n",
    "    if cache != None:\n",
    "      return cache\n",
    "    cache = path_to_cache.get(funcname, None)\n",
    "    if cache != None:\n",
    "      return cache\n",
    "    try:\n",
    "      cache = json.load(open(cachepath), object_hook=decode_custom)\n",
    "      path_to_cache[cache_filename] = cache\n",
    "      return cache\n",
    "    except Exception as e:\n",
    "      pass\n",
    "    print('performing computation ' + cachepath)\n",
    "    cache = f()\n",
    "    print('done with computation ' + cachepath)\n",
    "    path_to_cache[funcname] = cache\n",
    "    json.dump(cache, open(cachepath, 'w'), default=encode_custom)\n",
    "    return cache\n",
    "  return wrapped\n",
    "\n"
   ]
  },
  {
   "cell_type": "code",
   "execution_count": 17,
   "metadata": {},
   "outputs": [],
   "source": [
    "path_to_cache_1arg = {}\n",
    "\n",
    "def jsonmemo1arg(f):\n",
    "  if not os.path.isdir(get_cache_dirname()):\n",
    "    os.mkdir(get_cache_dirname())\n",
    "    print('Created cache directory %s' % get_cache_dirname())\n",
    "  funcname = f.__name__\n",
    "  func_cache_dir = os.path.join(get_cache_dirname(), funcname)\n",
    "  if not os.path.isdir(func_cache_dir):\n",
    "    os.mkdir(func_cache_dir)\n",
    "    print('Created cache directory %s' % func_cache_dir)\n",
    "  \n",
    "  if funcname in path_to_cache_1arg:\n",
    "    cache = path_to_cache_1arg[funcname]\n",
    "  else:\n",
    "    cache = {}\n",
    "    path_to_cache_1arg[funcname] = cache\n",
    "  \n",
    "  @functools.wraps(f)\n",
    "  def wrapped(arg1):\n",
    "    nonlocal cache\n",
    "    val = cache.get(arg1, None)\n",
    "    if val != None:\n",
    "      return val\n",
    "    cachepath = os.path.join(func_cache_dir, str(arg1) + '.json')\n",
    "    try:\n",
    "      cache = json.load(open(cachepath), object_hook=decode_custom)\n",
    "      path_to_cache_1arg[funcname][arg1] = cache\n",
    "      return cache\n",
    "    except Exception as e:\n",
    "      pass\n",
    "    print('performing computation ' + cachepath + ' for arg ' + str(arg1))\n",
    "    cache = f(arg1)\n",
    "    print('done with computation ' + cachepath)\n",
    "    path_to_cache_1arg[funcname][arg1] = cache\n",
    "    json.dump(cache, open(cachepath, 'w'), default=encode_custom)\n",
    "    return cache\n",
    "  return wrapped"
   ]
  },
  {
   "cell_type": "code",
   "execution_count": 20,
   "metadata": {},
   "outputs": [
    {
     "data": {
      "text/plain": [
       "8"
      ]
     },
     "execution_count": 20,
     "metadata": {},
     "output_type": "execute_result"
    }
   ],
   "source": [
    "@jsonmemo1arg\n",
    "def foobar(x):\n",
    "  return x+2\n",
    "\n",
    "foobar(6)"
   ]
  }
 ],
 "metadata": {
  "kernelspec": {
   "display_name": "Python 3",
   "language": "python",
   "name": "python3"
  },
  "language_info": {
   "codemirror_mode": {
    "name": "ipython",
    "version": 3
   },
   "file_extension": ".py",
   "mimetype": "text/x-python",
   "name": "python",
   "nbconvert_exporter": "python",
   "pygments_lexer": "ipython3",
   "version": "3.7.2"
  }
 },
 "nbformat": 4,
 "nbformat_minor": 2
}
