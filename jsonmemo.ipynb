{
 "cells": [
  {
   "cell_type": "code",
   "execution_count": 11,
   "metadata": {},
   "outputs": [
    {
     "name": "stdout",
     "output_type": "stream",
     "text": [
      "[NbConvertApp] Converting notebook jsonmemo.ipynb to python\r\n"
     ]
    }
   ],
   "source": [
    "# noexport\n",
    "\n",
    "!typech jsonmemo.ipynb\n",
    "#import os\n",
    "#os.system('export_notebook jsonmemo.ipynb')"
   ]
  },
  {
   "cell_type": "code",
   "execution_count": 4,
   "metadata": {},
   "outputs": [],
   "source": [
    "try:\n",
    "  from typing import Dict, Any\n",
    "except ImportError:\n",
    "  pass\n",
    "\n",
    "import arrow\n",
    "import json\n",
    "import os, functools\n",
    "\n",
    "def decode_custom(obj):\n",
    "  if '__arrow__' in obj:\n",
    "    obj = arrow.get(obj['as_str'])\n",
    "  return obj\n",
    "\n",
    "def encode_custom(obj):\n",
    "  if isinstance(obj, arrow.Arrow):\n",
    "    return {'__arrow__': True, 'as_str': str(obj)}\n",
    "  return obj\n",
    "\n",
    "# doesn't work with nested stuff (like dicts in argument lists)\n",
    "\n",
    "cache_dirname = None\n",
    "\n",
    "def set_cache_dirname(new_cache_dirname):\n",
    "  global cache_dirname\n",
    "  cache_dirname = new_cache_dirname\n",
    "\n",
    "def get_cache_dirname():\n",
    "  if cache_dirname == None:\n",
    "    return 'cached_func_calls'\n",
    "  return cache_dirname\n",
    "\n",
    "path_to_cache = {} # type: Dict[str, Any]\n",
    "\n",
    "def jsonmemo(f):\n",
    "  if not os.path.isdir(cache_dirname):\n",
    "    os.mkdir(cache_dirname)\n",
    "    print('Created cache directory %s' % os.path.join(os.path.abspath(__file__), get_cache_dirname()))\n",
    "\n",
    "  #cache_filename = f.__module__ + f.__name__ + '.json'\n",
    "  cache_filename = f.__name__ + '.json'\n",
    "  cachepath = os.path.join(get_cache_dirname(), cache_filename)\n",
    "  memcache = {}\n",
    "  cache = None\n",
    "\n",
    "  @functools.wraps(f)\n",
    "  def wrapped():\n",
    "    nonlocal cache\n",
    "    if cache != None:\n",
    "      return cache\n",
    "    cache = path_to_cache.get(cache_filename, None)\n",
    "    if cache != None:\n",
    "      return cache\n",
    "    try:\n",
    "      cache = json.load(open(cachepath), object_hook=decode_custom)\n",
    "      path_to_cache[cache_filename] = cache\n",
    "      return cache\n",
    "    except Exception as e:\n",
    "      pass\n",
    "    print('performing computation ' + cache_filename)\n",
    "    cache = f()\n",
    "    print('done with computation ' + cache_filename)\n",
    "    path_to_cache[cache_filename] = cache\n",
    "    json.dump(cache, open(cachepath, 'w'), default=encode_custom)\n",
    "    return cache\n",
    "  return wrapped"
   ]
  }
 ],
 "metadata": {
  "kernelspec": {
   "display_name": "Python 3",
   "language": "python",
   "name": "python3"
  },
  "language_info": {
   "codemirror_mode": {
    "name": "ipython",
    "version": 3
   },
   "file_extension": ".py",
   "mimetype": "text/x-python",
   "name": "python",
   "nbconvert_exporter": "python",
   "pygments_lexer": "ipython3",
   "version": "3.7.2"
  }
 },
 "nbformat": 4,
 "nbformat_minor": 2
}
