{
 "cells": [
  {
   "cell_type": "code",
   "execution_count": 3,
   "metadata": {},
   "outputs": [],
   "source": [
    "from collections import Counter\n",
    "\n",
    "afford = Counter({'nothing': 296, 'easy': 209, 'medium': 91, 'hard': 78})\n",
    "this = Counter({'nothing': 589, 'easy': 435, 'medium': 332, 'hard': 24})\n",
    "settings = Counter({'medium': 399, 'nothing': 376, 'hard': 132, 'easy': 90})\n"
   ]
  },
  {
   "cell_type": "code",
   "execution_count": 4,
   "metadata": {},
   "outputs": [],
   "source": [
    "def to_percentage(d):\n",
    "  output = {}\n",
    "  total = sum(d.values())\n",
    "  for k,v in d.items():\n",
    "    output[k] = v / total\n",
    "  return output"
   ]
  },
  {
   "cell_type": "code",
   "execution_count": 8,
   "metadata": {},
   "outputs": [],
   "source": [
    "def printdict(d):\n",
    "  for x in 'nothing easy medium hard'.split(' '):\n",
    "    print(x + ' ' + str(d[x]))\n"
   ]
  },
  {
   "cell_type": "code",
   "execution_count": 9,
   "metadata": {},
   "outputs": [
    {
     "name": "stdout",
     "output_type": "stream",
     "text": [
      "nothing 0.4391691394658754\n",
      "easy 0.31008902077151335\n",
      "medium 0.13501483679525222\n",
      "hard 0.11572700296735905\n"
     ]
    }
   ],
   "source": [
    "printdict(to_percentage(afford))"
   ]
  },
  {
   "cell_type": "code",
   "execution_count": 10,
   "metadata": {},
   "outputs": [
    {
     "name": "stdout",
     "output_type": "stream",
     "text": [
      "nothing 0.42681159420289855\n",
      "easy 0.31521739130434784\n",
      "medium 0.24057971014492754\n",
      "hard 0.017391304347826087\n"
     ]
    }
   ],
   "source": [
    "printdict(to_percentage(this))"
   ]
  },
  {
   "cell_type": "code",
   "execution_count": 11,
   "metadata": {},
   "outputs": [
    {
     "name": "stdout",
     "output_type": "stream",
     "text": [
      "nothing 0.37713139418254765\n",
      "easy 0.09027081243731194\n",
      "medium 0.4002006018054162\n",
      "hard 0.13239719157472418\n"
     ]
    }
   ],
   "source": [
    "printdict(to_percentage(settings))"
   ]
  },
  {
   "cell_type": "code",
   "execution_count": 12,
   "metadata": {},
   "outputs": [],
   "source": [
    "freq1 = Counter({'nothing': 14006, 'easy': 4294, 'medium': 1154, 'hard': 609})\n",
    "freq05 = Counter({'nothing': 4306, 'easy': 2512, 'medium': 1433, 'hard': 823})\n",
    "freq025 = Counter({'nothing': 3402, 'easy': 1279, 'medium': 987, 'hard': 310})\n"
   ]
  },
  {
   "cell_type": "code",
   "execution_count": 13,
   "metadata": {},
   "outputs": [
    {
     "name": "stdout",
     "output_type": "stream",
     "text": [
      "nothing 0.698100981906993\n",
      "easy 0.21402581867118575\n",
      "medium 0.057518815730449084\n",
      "hard 0.030354383691372177\n"
     ]
    }
   ],
   "source": [
    "printdict(to_percentage(freq1))"
   ]
  },
  {
   "cell_type": "code",
   "execution_count": 14,
   "metadata": {},
   "outputs": [
    {
     "name": "stdout",
     "output_type": "stream",
     "text": [
      "nothing 0.4745426493277496\n",
      "easy 0.2768349129380648\n",
      "medium 0.1579237381529645\n",
      "hard 0.09069869958122107\n"
     ]
    }
   ],
   "source": [
    "printdict(to_percentage(freq05))"
   ]
  },
  {
   "cell_type": "code",
   "execution_count": 15,
   "metadata": {},
   "outputs": [
    {
     "name": "stdout",
     "output_type": "stream",
     "text": [
      "nothing 0.5690866510538641\n",
      "easy 0.21395115423218466\n",
      "medium 0.16510538641686182\n",
      "hard 0.05185680829708933\n"
     ]
    }
   ],
   "source": [
    "printdict(to_percentage(freq025))"
   ]
  }
 ],
 "metadata": {
  "kernelspec": {
   "display_name": "Python 3",
   "language": "python",
   "name": "python3"
  },
  "language_info": {
   "codemirror_mode": {
    "name": "ipython",
    "version": 3
   },
   "file_extension": ".py",
   "mimetype": "text/x-python",
   "name": "python",
   "nbconvert_exporter": "python",
   "pygments_lexer": "ipython3",
   "version": "3.6.5"
  }
 },
 "nbformat": 4,
 "nbformat_minor": 2
}
