{
 "cells": [
  {
   "cell_type": "code",
   "execution_count": 1,
   "metadata": {},
   "outputs": [
    {
     "name": "stdout",
     "output_type": "stream",
     "text": [
      "[NbConvertApp] Converting notebook evaluation_utils_extended.ipynb to python\r\n"
     ]
    }
   ],
   "source": [
    "# noexport\n",
    "\n",
    "!typech evaluation_utils_extended.ipynb"
   ]
  },
  {
   "cell_type": "code",
   "execution_count": 2,
   "metadata": {},
   "outputs": [
    {
     "data": {
      "text/html": [
       "<script type=\"text/javascript\">window.PlotlyConfig = {MathJaxConfig: 'local'};</script><script type=\"text/javascript\">if (window.MathJax) {MathJax.Hub.Config({SVG: {font: \"STIX-Web\"}});}</script><script>requirejs.config({paths: { 'plotly': ['https://cdn.plot.ly/plotly-latest.min']},});if(!window._Plotly) {require(['plotly'],function(plotly) {window._Plotly=plotly;});}</script>"
      ],
      "text/vnd.plotly.v1+html": [
       "<script type=\"text/javascript\">window.PlotlyConfig = {MathJaxConfig: 'local'};</script><script type=\"text/javascript\">if (window.MathJax) {MathJax.Hub.Config({SVG: {font: \"STIX-Web\"}});}</script><script>requirejs.config({paths: { 'plotly': ['https://cdn.plot.ly/plotly-latest.min']},});if(!window._Plotly) {require(['plotly'],function(plotly) {window._Plotly=plotly;});}</script>"
      ]
     },
     "metadata": {},
     "output_type": "display_data"
    }
   ],
   "source": [
    "from evaluation_utils import *"
   ]
  },
  {
   "cell_type": "code",
   "execution_count": 3,
   "metadata": {},
   "outputs": [],
   "source": [
    "def get_difficulty_first_chosen_by_user(user):\n",
    "  user_to_features_data = get_all_features_data()\n",
    "  features_data = user_to_features_data.get(user, None)\n",
    "  if features_data == None:\n",
    "    return 'nothing'\n",
    "  if len(features_data['difficulty_items']) == 0:\n",
    "    return 'nothing'\n",
    "  return features_data['difficulty_items'][0]['difficulty']"
   ]
  },
  {
   "cell_type": "code",
   "execution_count": 4,
   "metadata": {},
   "outputs": [],
   "source": [
    "def get_difficulty_chosen_by_user_at_idx(user, idx):\n",
    "  user_to_features_data = get_all_features_data()\n",
    "  features_data = user_to_features_data.get(user, None)\n",
    "  if features_data == None:\n",
    "    return 'nothing'\n",
    "  return features_data['difficulty_items'][idx]['difficulty']\n"
   ]
  },
  {
   "cell_type": "code",
   "execution_count": 5,
   "metadata": {},
   "outputs": [],
   "source": [
    "\n",
    "\n",
    "def get_initial_difficulty_v2(tensor, parameter_info_list):\n",
    "  feature = tensor['feature']\n",
    "  history_length = feature.size()[0]\n",
    "  timestep = 0\n",
    "  #if len(feature) < 2:\n",
    "  #  return 'nothing'\n",
    "  enabled_feature_list = get_enabled_features_list_from_parameter_info_list(parameter_info_list)\n",
    "  get_feature_index = make_get_index(enabled_feature_list)\n",
    "  difficulty_feature_idx = get_feature_index('initial_difficulty')\n",
    "  for difficulty_idx,difficulty in enumerate(['nothing', 'easy', 'medium', 'hard']):\n",
    "    if feature[timestep][0][difficulty_feature_idx + difficulty_idx].item() > 0:\n",
    "      return difficulty\n",
    "  return 'nothing'\n",
    "\n",
    "def get_first_chosen_difficulty_v2(tensor, parameter_info_list):\n",
    "  user = tensor['user']\n",
    "  feature = tensor['feature']\n",
    "  history_length = feature.size()[0]\n",
    "  if history_length < 2:\n",
    "    return 'nothing'\n",
    "  return get_difficulty_first_chosen_by_user(user)\n",
    "\n",
    "def always_predict_most_common_previous_v2(tensor, parameter_info_list):\n",
    "  feature = tensor['feature']\n",
    "  history_length = feature.size()[0]\n",
    "  if len(feature) < 2:\n",
    "    return 'nothing'\n",
    "  enabled_feature_list = get_enabled_features_list_from_parameter_info_list(parameter_info_list)\n",
    "  get_feature_index = make_get_index(enabled_feature_list)\n",
    "  difficulty_feature_idx = get_feature_index('difficulty')\n",
    "  difficulty_choices = Counter()\n",
    "  for timestep in range(0, history_length - 1):\n",
    "    for difficulty_idx,difficulty in enumerate(['nothing', 'easy', 'medium', 'hard']):\n",
    "      if feature[timestep][0][difficulty_feature_idx + difficulty_idx].item() > 0:\n",
    "        difficulty_choices[difficulty] += 1\n",
    "  output = most_common_key_for_counter(difficulty_choices)\n",
    "  if output == None:\n",
    "    return 'nothing'\n",
    "  return output\n",
    "  #return 'nothing'"
   ]
  },
  {
   "cell_type": "code",
   "execution_count": 6,
   "metadata": {},
   "outputs": [],
   "source": [
    "def evaluate_function_model_on_dataset_v2(parameter_info_list, func, dataset, prefix='dev_') -> Dict[str, Any]:\n",
    "  confusion = [[0,0,0,0],[0,0,0,0],[0,0,0,0],[0,0,0,0]]\n",
    "  correct = 0\n",
    "  total = 0\n",
    "  for item in dataset:\n",
    "    category_tensor = item['category']\n",
    "    feature_tensor = item['feature']\n",
    "    #if feature_tensor.size()[0] == 0:\n",
    "    #    continue\n",
    "    difficulty = tensor_to_difficulty(category_tensor)\n",
    "    difficulty_idx = get_difficulty_idx(difficulty)\n",
    "    #predicted_tensor = make_prediction(model, feature_tensor.cuda())\n",
    "    #predicted_difficulty = prediction_to_difficulty(predicted_tensor)\n",
    "    predicted_difficulty = func(item, parameter_info_list)\n",
    "    predicted_difficulty_idx = get_difficulty_idx(predicted_difficulty)\n",
    "    if predicted_difficulty_idx == difficulty_idx:\n",
    "      correct += 1\n",
    "    total += 1\n",
    "    confusion[difficulty_idx][predicted_difficulty_idx] += 1\n",
    "  return {\n",
    "    prefix + 'correct': correct,\n",
    "    prefix + 'total': total,\n",
    "    prefix + 'confusion': confusion,\n",
    "  }"
   ]
  },
  {
   "cell_type": "code",
   "execution_count": 7,
   "metadata": {},
   "outputs": [],
   "source": [
    "def get_baseline_names():\n",
    "  return [\n",
    "    'initial_difficulty',\n",
    "    'first_chosen',\n",
    "    'always_nothing',\n",
    "    'most_common_previous',\n",
    "  ]\n",
    "\n",
    "@jsonmemo1arg\n",
    "def get_evaluation_results_for_named_baseline_v4(baseline_name):\n",
    "  baseline_name_to_func = {\n",
    "    'initial_difficulty': get_initial_difficulty_v2,\n",
    "    'first_chosen': get_first_chosen_difficulty_v2,\n",
    "    'always_nothing': always_predict_nothing,\n",
    "    'most_common_previous': always_predict_most_common_previous_v2,\n",
    "  }\n",
    "  true = True\n",
    "  false = False\n",
    "  parameter_info_list : List[Dict[str, Any]] = get_default_parameter_info_list()\n",
    "  #train_data,dev_data,test_data = get_data_for_parameters(parameter_info_list)\n",
    "  train_data,dev_data,test_data = get_default_train_dev_test_data()\n",
    "  baseline_func = baseline_name_to_func[baseline_name]\n",
    "  return evaluate_function_model_on_dataset_v2(parameter_info_list, baseline_func, dev_data)"
   ]
  },
  {
   "cell_type": "code",
   "execution_count": 8,
   "metadata": {},
   "outputs": [],
   "source": [
    "def get_default_parameter_info_list():\n",
    "  true = True\n",
    "  false = False\n",
    "  return [{\"name\": \"dataset_name\", \"type\": \"dataset\", \"values\": [\"2019_04_11\"], \"value\": \"2019_04_11\"}, {\"name\": \"model_name\", \"type\": \"model\", \"values\": [\"selfattentionlstm\"], \"value\": \"selfattentionlstm\"}, {\"name\": \"criterion\", \"type\": \"model\", \"values\": [\"NLLLoss\"], \"value\": \"NLLLoss\"}, {\"name\": \"learning_rate\", \"type\": \"model\", \"values\": [0.005, 0.05, 0.0005, 5e-05], \"value\": 5e-05}, {\"name\": \"window_embed_size\", \"type\": \"model\", \"values\": [64, 128, 256, 512], \"value\": 256}, {\"name\": \"difficulty\", \"type\": \"feature\", \"values\": [true, false], \"value\": true}, {\"name\": \"time_of_day\", \"type\": \"feature\", \"values\": [true, false], \"value\": true}, {\"name\": \"day_of_week\", \"type\": \"feature\", \"values\": [true, false], \"value\": true}, {\"name\": \"domain_productivity\", \"type\": \"feature\", \"values\": [true, false], \"value\": true}, {\"name\": \"domain_category\", \"type\": \"feature\", \"values\": [true, false], \"value\": true}, {\"name\": \"initial_difficulty\", \"type\": \"feature\", \"values\": [true, false], \"value\": true}, {\"name\": \"languages\", \"type\": \"feature\", \"values\": [true, false], \"value\": true}, {\"name\": \"num_prior_entries\", \"type\": \"dataparam\", \"values\": [10, 20, 30, 40], \"value\": 10}, {\"name\": \"sample_every_n_visits\", \"type\": \"dataparam\", \"values\": [1], \"value\": 1}, {\"name\": \"sample_difficulty_every_n_visits\", \"type\": \"dataparam\", \"values\": [1], \"value\": 1}, {\"name\": \"disable_prior_visit_history\", \"type\": \"dataparam\", \"values\": [false, true], \"value\": false}, {\"name\": \"disable_difficulty_history\", \"type\": \"dataparam\", \"values\": [false, true], \"value\": false}, {\"name\": \"enable_current_difficulty\", \"type\": \"dataparam\", \"values\": [false, true], \"value\": false}, {\"name\": \"num_features\", \"type\": \"model\", \"values\": [277], \"value\": 277}]\n",
    "\n",
    "@msgpackmemo\n",
    "def get_default_train_dev_test_data():\n",
    "  parameter_info_list = get_default_parameter_info_list()\n",
    "  #set_parameter_in_parameter_info_list(parameter_info_list, 'sample_every_n_visits', 1)\n",
    "  train_data,dev_data,test_data = get_data_for_parameters(parameter_info_list)\n",
    "  return train_data,dev_data,test_data\n"
   ]
  },
  {
   "cell_type": "code",
   "execution_count": 9,
   "metadata": {},
   "outputs": [],
   "source": [
    "# noexport\n",
    "\n",
    "#train_data,dev_data,test_data = get_default_train_dev_test_data()"
   ]
  },
  {
   "cell_type": "code",
   "execution_count": 10,
   "metadata": {},
   "outputs": [],
   "source": [
    "#print(type(train_data))\n",
    "#print((train_data[0][list(train_data[0].keys())[0]]))\n",
    "#pytorch_tensor = train_data[0]['feature']"
   ]
  },
  {
   "cell_type": "code",
   "execution_count": 11,
   "metadata": {},
   "outputs": [],
   "source": [
    "#pytorch_serialized = json.dumps(pytorch_tensor.numpy().tolist())"
   ]
  },
  {
   "cell_type": "code",
   "execution_count": 12,
   "metadata": {},
   "outputs": [],
   "source": [
    "#import numpy"
   ]
  },
  {
   "cell_type": "code",
   "execution_count": 13,
   "metadata": {},
   "outputs": [],
   "source": [
    "#pytorch_new = torch.tensor(numpy.array(json.loads(pytorch_serialized), dtype='float32'), dtype=torch.float32)"
   ]
  },
  {
   "cell_type": "code",
   "execution_count": 14,
   "metadata": {},
   "outputs": [],
   "source": [
    "#pytorch_new.numpy().dtype"
   ]
  },
  {
   "cell_type": "code",
   "execution_count": 15,
   "metadata": {},
   "outputs": [],
   "source": [
    "# print(type(pytorch_tensor))\n",
    "# print(pytorch_tensor.type())\n",
    "# print(pytorch_tensor.numpy().dtype == numpy.float32)"
   ]
  },
  {
   "cell_type": "code",
   "execution_count": 16,
   "metadata": {},
   "outputs": [],
   "source": [
    "# noexport\n",
    "\n",
    "#a = get_default_train_dev_test_data()"
   ]
  },
  {
   "cell_type": "code",
   "execution_count": null,
   "metadata": {},
   "outputs": [],
   "source": []
  },
  {
   "cell_type": "code",
   "execution_count": 17,
   "metadata": {},
   "outputs": [],
   "source": [
    "def get_nearest_visit_idx_for_sample_rate(visit_idx, sample_rate):\n",
    "  num_visits_ago = visit_idx % sample_rate\n",
    "  return visit_idx - num_visits_ago"
   ]
  },
  {
   "cell_type": "code",
   "execution_count": 18,
   "metadata": {},
   "outputs": [],
   "source": [
    "@jsonmemo1arg\n",
    "def get_evaluation_results_for_sample_every_n_visits_v3(sample_every_n_visits):\n",
    "  true = True\n",
    "  false = False\n",
    "  def evaluation_func(tensor, parameter_info_list):\n",
    "    user = tensor['user']\n",
    "    visit_idx = tensor['visit_idx']\n",
    "    if visit_idx < 1:\n",
    "      return 'nothing'\n",
    "    sampled_visit_idx = get_nearest_visit_idx_for_sample_rate(visit_idx - 1, sample_every_n_visits)\n",
    "    return get_difficulty_chosen_by_user_at_idx(user, sampled_visit_idx)\n",
    "  parameter_info_list = get_default_parameter_info_list()\n",
    "  train_data,dev_data,test_data = get_default_train_dev_test_data()\n",
    "  return evaluate_function_model_on_dataset_v2(parameter_info_list, evaluation_func, dev_data)\n",
    "  "
   ]
  },
  {
   "cell_type": "code",
   "execution_count": 19,
   "metadata": {},
   "outputs": [],
   "source": [
    "@jsonmemo1arg\n",
    "def get_evaluation_results_for_sample_every_n_seconds_v2(sample_every_n_seconds):\n",
    "  true = True\n",
    "  false = False\n",
    "  user_to_idx_to_difficulty = {}\n",
    "  def evaluation_func(tensor, parameter_info_list):\n",
    "    user = tensor['user']\n",
    "    visit_idx = tensor['visit_idx']\n",
    "    if user not in user_to_idx_to_difficulty:\n",
    "      user_to_idx_to_difficulty[user] = get_visit_idx_to_predictions_for_timed_sampling_rate(user, sample_every_n_seconds)\n",
    "    #if visit_idx < 1:\n",
    "    #  return 'nothing'\n",
    "    #sampled_visit_idx = get_nearest_visit_idx_for_sample_rate(visit_idx - 1, sample_every_n_visits)\n",
    "    return user_to_idx_to_difficulty[user][visit_idx]\n",
    "  parameter_info_list = get_default_parameter_info_list()\n",
    "  train_data,dev_data,test_data = get_default_train_dev_test_data()\n",
    "  return evaluate_function_model_on_dataset_v2(parameter_info_list, evaluation_func, dev_data)\n",
    "  "
   ]
  },
  {
   "cell_type": "code",
   "execution_count": 20,
   "metadata": {},
   "outputs": [],
   "source": [
    "@jsonmemo1arg\n",
    "def get_evaluation_results_for_sample_every_n_seconds_v3(sample_every_n_seconds):\n",
    "  true = True\n",
    "  false = False\n",
    "  user_to_idx_to_difficulty = {}\n",
    "  def evaluation_func(tensor, parameter_info_list):\n",
    "    user = tensor['user']\n",
    "    visit_idx = tensor['visit_idx']\n",
    "    if user not in user_to_idx_to_difficulty:\n",
    "      user_to_idx_to_difficulty[user] = get_visit_idx_to_predictions_for_timed_sampling_rate_v2(user, sample_every_n_seconds)\n",
    "    #if visit_idx < 1:\n",
    "    #  return 'nothing'\n",
    "    #sampled_visit_idx = get_nearest_visit_idx_for_sample_rate(visit_idx - 1, sample_every_n_visits)\n",
    "    return user_to_idx_to_difficulty[user][visit_idx]\n",
    "  parameter_info_list = get_default_parameter_info_list()\n",
    "  train_data,dev_data,test_data = get_default_train_dev_test_data()\n",
    "  return evaluate_function_model_on_dataset_v2(parameter_info_list, evaluation_func, dev_data)\n",
    "  "
   ]
  },
  {
   "cell_type": "code",
   "execution_count": 21,
   "metadata": {},
   "outputs": [],
   "source": [
    "def get_visit_idx_to_predictions_for_timed_sampling_rate_v2(user, sampling_rate_seconds):\n",
    "  user_to_features_data = get_all_features_data()\n",
    "  features_data = user_to_features_data.get(user, None)\n",
    "  if features_data == None:\n",
    "    return 'nothing'\n",
    "  sampled_according_to_time = []\n",
    "  last_sampled_time = None\n",
    "  last_sampled_value = 'nothing'\n",
    "  for idx,item in enumerate(features_data['difficulty_items']):\n",
    "    difficulty = item['difficulty']\n",
    "    arrow_time = item['arrow_time']\n",
    "    sampled_according_to_time.append(last_sampled_value)\n",
    "    if last_sampled_time != None:\n",
    "      seconds_since_last_sample = (arrow_time - last_sampled_time).total_seconds()\n",
    "      if seconds_since_last_sample >= sampling_rate_seconds:\n",
    "        last_sampled_time = arrow_time\n",
    "        last_sampled_value = difficulty\n",
    "    else:\n",
    "      last_sampled_time = arrow_time\n",
    "      last_sampled_value = difficulty\n",
    "  return sampled_according_to_time\n"
   ]
  },
  {
   "cell_type": "code",
   "execution_count": 22,
   "metadata": {},
   "outputs": [],
   "source": [
    "def get_visit_idx_to_predictions_for_timed_sampling_rate(user, sampling_rate_seconds):\n",
    "  user_to_features_data = get_all_features_data()\n",
    "  features_data = user_to_features_data.get(user, None)\n",
    "  if features_data == None:\n",
    "    return 'nothing'\n",
    "  sampled_according_to_time = []\n",
    "  last_sampled_time = None\n",
    "  last_sampled_value = 'nothing'\n",
    "  for idx,item in enumerate(features_data['difficulty_items']):\n",
    "    difficulty = item['difficulty']\n",
    "    arrow_time = item['arrow_time']\n",
    "    sampled_according_to_time.append(last_sampled_value)\n",
    "    if last_sampled_time != None:\n",
    "      seconds_since_last_sample = (arrow_time - last_sampled_time).total_seconds()\n",
    "      if seconds_since_last_sample >= sampling_rate_seconds:\n",
    "        last_sampled_time = arrow_time\n",
    "        last_sampled_value = difficulty\n",
    "    else:\n",
    "      last_sampled_time = arrow_time\n",
    "      last_sampled_value = difficulty\n",
    "  return sampled_according_to_time\n"
   ]
  },
  {
   "cell_type": "code",
   "execution_count": 23,
   "metadata": {},
   "outputs": [],
   "source": [
    "# noexport\n",
    "\n",
    "def main():\n",
    "  for baseline_name in ['initial_difficulty', 'first_chosen', 'always_nothing', 'most_common_previous']:\n",
    "    print(baseline_name)\n",
    "    print(get_evaluation_results_for_named_baseline_v4(baseline_name))\n",
    "  \n",
    "  sample_every_n_visits_options = [1,2,3,4,5,7,9,10,15,20,25,30,35,40,45,50,55,60,65,70,75,80,85,90,95,100,105,110,115,120,125,130]\n",
    "  sample_every_n_visits_options.extend(list(range(1, 1000)))\n",
    "  for sample_every_n_visits in sample_every_n_visits_options:\n",
    "    print(sample_every_n_visits)\n",
    "    print(get_evaluation_results_for_sample_every_n_visits_v3(sample_every_n_visits))\n"
   ]
  },
  {
   "cell_type": "code",
   "execution_count": 24,
   "metadata": {},
   "outputs": [
    {
     "name": "stdout",
     "output_type": "stream",
     "text": [
      "initial_difficulty\n",
      "exception in jsonmemo1arg for file 2019_08_29/get_evaluation_results_for_named_baseline_v4/initial_difficulty.json\n",
      "[Errno 2] No such file or directory: '2019_08_29/get_evaluation_results_for_named_baseline_v4/initial_difficulty.json'\n",
      "performing computation 2019_08_29/get_evaluation_results_for_named_baseline_v4/initial_difficulty.json for arg initial_difficulty\n",
      "exception in msgpackmemo for file 2019_08_29/get_default_train_dev_test_data.msgpack\n",
      "Unpack failed: incomplete input\n",
      "running get_data_for_parameters\n",
      "{'name': 'num_prior_entries', 'type': 'dataparam', 'values': [10, 20, 30, 40], 'value': 10}\n",
      "{'name': 'sample_every_n_visits', 'type': 'dataparam', 'values': [1], 'value': 1}\n",
      "{'name': 'sample_difficulty_every_n_visits', 'type': 'dataparam', 'values': [1], 'value': 1}\n",
      "{'name': 'disable_prior_visit_history', 'type': 'dataparam', 'values': [False, True], 'value': False}\n",
      "{'name': 'disable_difficulty_history', 'type': 'dataparam', 'values': [False, True], 'value': False}\n",
      "{'name': 'enable_current_difficulty', 'type': 'dataparam', 'values': [False, True], 'value': False}\n",
      "running get_all_features_data\n",
      "all_features_data is\n",
      "<class 'dict'>\n"
     ]
    },
    {
     "ename": "KeyboardInterrupt",
     "evalue": "",
     "output_type": "error",
     "traceback": [
      "\u001b[0;31m---------------------------------------------------------------------------\u001b[0m",
      "\u001b[0;31mKeyboardInterrupt\u001b[0m                         Traceback (most recent call last)",
      "\u001b[0;32m<ipython-input-24-b824ae557985>\u001b[0m in \u001b[0;36m<module>\u001b[0;34m\u001b[0m\n\u001b[1;32m      1\u001b[0m \u001b[0;31m# noexport\u001b[0m\u001b[0;34m\u001b[0m\u001b[0;34m\u001b[0m\u001b[0;34m\u001b[0m\u001b[0m\n\u001b[1;32m      2\u001b[0m \u001b[0;34m\u001b[0m\u001b[0m\n\u001b[0;32m----> 3\u001b[0;31m \u001b[0mmain\u001b[0m\u001b[0;34m(\u001b[0m\u001b[0;34m)\u001b[0m\u001b[0;34m\u001b[0m\u001b[0;34m\u001b[0m\u001b[0m\n\u001b[0m",
      "\u001b[0;32m<ipython-input-23-b13858cb2742>\u001b[0m in \u001b[0;36mmain\u001b[0;34m()\u001b[0m\n\u001b[1;32m      4\u001b[0m   \u001b[0;32mfor\u001b[0m \u001b[0mbaseline_name\u001b[0m \u001b[0;32min\u001b[0m \u001b[0;34m[\u001b[0m\u001b[0;34m'initial_difficulty'\u001b[0m\u001b[0;34m,\u001b[0m \u001b[0;34m'first_chosen'\u001b[0m\u001b[0;34m,\u001b[0m \u001b[0;34m'always_nothing'\u001b[0m\u001b[0;34m,\u001b[0m \u001b[0;34m'most_common_previous'\u001b[0m\u001b[0;34m]\u001b[0m\u001b[0;34m:\u001b[0m\u001b[0;34m\u001b[0m\u001b[0;34m\u001b[0m\u001b[0m\n\u001b[1;32m      5\u001b[0m     \u001b[0mprint\u001b[0m\u001b[0;34m(\u001b[0m\u001b[0mbaseline_name\u001b[0m\u001b[0;34m)\u001b[0m\u001b[0;34m\u001b[0m\u001b[0;34m\u001b[0m\u001b[0m\n\u001b[0;32m----> 6\u001b[0;31m     \u001b[0mprint\u001b[0m\u001b[0;34m(\u001b[0m\u001b[0mget_evaluation_results_for_named_baseline_v4\u001b[0m\u001b[0;34m(\u001b[0m\u001b[0mbaseline_name\u001b[0m\u001b[0;34m)\u001b[0m\u001b[0;34m)\u001b[0m\u001b[0;34m\u001b[0m\u001b[0;34m\u001b[0m\u001b[0m\n\u001b[0m\u001b[1;32m      7\u001b[0m \u001b[0;34m\u001b[0m\u001b[0m\n\u001b[1;32m      8\u001b[0m   \u001b[0msample_every_n_visits_options\u001b[0m \u001b[0;34m=\u001b[0m \u001b[0;34m[\u001b[0m\u001b[0;36m1\u001b[0m\u001b[0;34m,\u001b[0m\u001b[0;36m2\u001b[0m\u001b[0;34m,\u001b[0m\u001b[0;36m3\u001b[0m\u001b[0;34m,\u001b[0m\u001b[0;36m4\u001b[0m\u001b[0;34m,\u001b[0m\u001b[0;36m5\u001b[0m\u001b[0;34m,\u001b[0m\u001b[0;36m7\u001b[0m\u001b[0;34m,\u001b[0m\u001b[0;36m9\u001b[0m\u001b[0;34m,\u001b[0m\u001b[0;36m10\u001b[0m\u001b[0;34m,\u001b[0m\u001b[0;36m15\u001b[0m\u001b[0;34m,\u001b[0m\u001b[0;36m20\u001b[0m\u001b[0;34m,\u001b[0m\u001b[0;36m25\u001b[0m\u001b[0;34m,\u001b[0m\u001b[0;36m30\u001b[0m\u001b[0;34m,\u001b[0m\u001b[0;36m35\u001b[0m\u001b[0;34m,\u001b[0m\u001b[0;36m40\u001b[0m\u001b[0;34m,\u001b[0m\u001b[0;36m45\u001b[0m\u001b[0;34m,\u001b[0m\u001b[0;36m50\u001b[0m\u001b[0;34m,\u001b[0m\u001b[0;36m55\u001b[0m\u001b[0;34m,\u001b[0m\u001b[0;36m60\u001b[0m\u001b[0;34m,\u001b[0m\u001b[0;36m65\u001b[0m\u001b[0;34m,\u001b[0m\u001b[0;36m70\u001b[0m\u001b[0;34m,\u001b[0m\u001b[0;36m75\u001b[0m\u001b[0;34m,\u001b[0m\u001b[0;36m80\u001b[0m\u001b[0;34m,\u001b[0m\u001b[0;36m85\u001b[0m\u001b[0;34m,\u001b[0m\u001b[0;36m90\u001b[0m\u001b[0;34m,\u001b[0m\u001b[0;36m95\u001b[0m\u001b[0;34m,\u001b[0m\u001b[0;36m100\u001b[0m\u001b[0;34m,\u001b[0m\u001b[0;36m105\u001b[0m\u001b[0;34m,\u001b[0m\u001b[0;36m110\u001b[0m\u001b[0;34m,\u001b[0m\u001b[0;36m115\u001b[0m\u001b[0;34m,\u001b[0m\u001b[0;36m120\u001b[0m\u001b[0;34m,\u001b[0m\u001b[0;36m125\u001b[0m\u001b[0;34m,\u001b[0m\u001b[0;36m130\u001b[0m\u001b[0;34m]\u001b[0m\u001b[0;34m\u001b[0m\u001b[0;34m\u001b[0m\u001b[0m\n",
      "\u001b[0;32m~/motivation/jsonmemo.py\u001b[0m in \u001b[0;36mwrapped\u001b[0;34m(arg1)\u001b[0m\n\u001b[1;32m    254\u001b[0m         \u001b[0;32mpass\u001b[0m\u001b[0;34m\u001b[0m\u001b[0;34m\u001b[0m\u001b[0m\n\u001b[1;32m    255\u001b[0m       \u001b[0mprint\u001b[0m\u001b[0;34m(\u001b[0m\u001b[0;34m'performing computation '\u001b[0m \u001b[0;34m+\u001b[0m \u001b[0mcachepath\u001b[0m \u001b[0;34m+\u001b[0m \u001b[0;34m' for arg '\u001b[0m \u001b[0;34m+\u001b[0m \u001b[0mstr\u001b[0m\u001b[0;34m(\u001b[0m\u001b[0marg1\u001b[0m\u001b[0;34m)\u001b[0m\u001b[0;34m)\u001b[0m\u001b[0;34m\u001b[0m\u001b[0;34m\u001b[0m\u001b[0m\n\u001b[0;32m--> 256\u001b[0;31m       \u001b[0mcacheitem\u001b[0m \u001b[0;34m=\u001b[0m \u001b[0mf\u001b[0m\u001b[0;34m(\u001b[0m\u001b[0marg1\u001b[0m\u001b[0;34m)\u001b[0m\u001b[0;34m\u001b[0m\u001b[0;34m\u001b[0m\u001b[0m\n\u001b[0m\u001b[1;32m    257\u001b[0m       \u001b[0mprint\u001b[0m\u001b[0;34m(\u001b[0m\u001b[0;34m'done with computation '\u001b[0m \u001b[0;34m+\u001b[0m \u001b[0mcachepath\u001b[0m\u001b[0;34m)\u001b[0m\u001b[0;34m\u001b[0m\u001b[0;34m\u001b[0m\u001b[0m\n\u001b[1;32m    258\u001b[0m       \u001b[0;32mif\u001b[0m \u001b[0;32mnot\u001b[0m \u001b[0mis_lowmem_funcname\u001b[0m\u001b[0;34m(\u001b[0m\u001b[0mfuncname\u001b[0m\u001b[0;34m)\u001b[0m\u001b[0;34m:\u001b[0m\u001b[0;34m\u001b[0m\u001b[0;34m\u001b[0m\u001b[0m\n",
      "\u001b[0;32m<ipython-input-7-a3e08ba03812>\u001b[0m in \u001b[0;36mget_evaluation_results_for_named_baseline_v4\u001b[0;34m(baseline_name)\u001b[0m\n\u001b[1;32m     19\u001b[0m   \u001b[0mparameter_info_list\u001b[0m \u001b[0;34m:\u001b[0m \u001b[0mList\u001b[0m\u001b[0;34m[\u001b[0m\u001b[0mDict\u001b[0m\u001b[0;34m[\u001b[0m\u001b[0mstr\u001b[0m\u001b[0;34m,\u001b[0m \u001b[0mAny\u001b[0m\u001b[0;34m]\u001b[0m\u001b[0;34m]\u001b[0m \u001b[0;34m=\u001b[0m \u001b[0mget_default_parameter_info_list\u001b[0m\u001b[0;34m(\u001b[0m\u001b[0;34m)\u001b[0m\u001b[0;34m\u001b[0m\u001b[0;34m\u001b[0m\u001b[0m\n\u001b[1;32m     20\u001b[0m   \u001b[0;31m#train_data,dev_data,test_data = get_data_for_parameters(parameter_info_list)\u001b[0m\u001b[0;34m\u001b[0m\u001b[0;34m\u001b[0m\u001b[0;34m\u001b[0m\u001b[0m\n\u001b[0;32m---> 21\u001b[0;31m   \u001b[0mtrain_data\u001b[0m\u001b[0;34m,\u001b[0m\u001b[0mdev_data\u001b[0m\u001b[0;34m,\u001b[0m\u001b[0mtest_data\u001b[0m \u001b[0;34m=\u001b[0m \u001b[0mget_default_train_dev_test_data\u001b[0m\u001b[0;34m(\u001b[0m\u001b[0;34m)\u001b[0m\u001b[0;34m\u001b[0m\u001b[0;34m\u001b[0m\u001b[0m\n\u001b[0m\u001b[1;32m     22\u001b[0m   \u001b[0mbaseline_func\u001b[0m \u001b[0;34m=\u001b[0m \u001b[0mbaseline_name_to_func\u001b[0m\u001b[0;34m[\u001b[0m\u001b[0mbaseline_name\u001b[0m\u001b[0;34m]\u001b[0m\u001b[0;34m\u001b[0m\u001b[0;34m\u001b[0m\u001b[0m\n\u001b[1;32m     23\u001b[0m   \u001b[0;32mreturn\u001b[0m \u001b[0mevaluate_function_model_on_dataset_v2\u001b[0m\u001b[0;34m(\u001b[0m\u001b[0mparameter_info_list\u001b[0m\u001b[0;34m,\u001b[0m \u001b[0mbaseline_func\u001b[0m\u001b[0;34m,\u001b[0m \u001b[0mdev_data\u001b[0m\u001b[0;34m)\u001b[0m\u001b[0;34m\u001b[0m\u001b[0;34m\u001b[0m\u001b[0m\n",
      "\u001b[0;32m~/motivation/jsonmemo.py\u001b[0m in \u001b[0;36mwrapped\u001b[0;34m()\u001b[0m\n\u001b[1;32m    174\u001b[0m         \u001b[0mprint\u001b[0m\u001b[0;34m(\u001b[0m\u001b[0me\u001b[0m\u001b[0;34m)\u001b[0m\u001b[0;34m\u001b[0m\u001b[0;34m\u001b[0m\u001b[0m\n\u001b[1;32m    175\u001b[0m         \u001b[0;32mpass\u001b[0m\u001b[0;34m\u001b[0m\u001b[0;34m\u001b[0m\u001b[0m\n\u001b[0;32m--> 176\u001b[0;31m       \u001b[0mcache\u001b[0m \u001b[0;34m=\u001b[0m \u001b[0mf\u001b[0m\u001b[0;34m(\u001b[0m\u001b[0;34m)\u001b[0m\u001b[0;34m\u001b[0m\u001b[0;34m\u001b[0m\u001b[0m\n\u001b[0m\u001b[1;32m    177\u001b[0m       \u001b[0;32mif\u001b[0m \u001b[0;32mnot\u001b[0m \u001b[0mis_lowmem_funcname\u001b[0m\u001b[0;34m(\u001b[0m\u001b[0mfuncname\u001b[0m\u001b[0;34m)\u001b[0m\u001b[0;34m:\u001b[0m\u001b[0;34m\u001b[0m\u001b[0;34m\u001b[0m\u001b[0m\n\u001b[1;32m    178\u001b[0m         \u001b[0mpath_to_cache_msgpackmemo\u001b[0m\u001b[0;34m[\u001b[0m\u001b[0mfuncname\u001b[0m\u001b[0;34m]\u001b[0m \u001b[0;34m=\u001b[0m \u001b[0mcache\u001b[0m\u001b[0;34m\u001b[0m\u001b[0;34m\u001b[0m\u001b[0m\n",
      "\u001b[0;32m<ipython-input-8-e94c8ca5279f>\u001b[0m in \u001b[0;36mget_default_train_dev_test_data\u001b[0;34m()\u001b[0m\n\u001b[1;32m      8\u001b[0m   \u001b[0mparameter_info_list\u001b[0m \u001b[0;34m=\u001b[0m \u001b[0mget_default_parameter_info_list\u001b[0m\u001b[0;34m(\u001b[0m\u001b[0;34m)\u001b[0m\u001b[0;34m\u001b[0m\u001b[0;34m\u001b[0m\u001b[0m\n\u001b[1;32m      9\u001b[0m   \u001b[0;31m#set_parameter_in_parameter_info_list(parameter_info_list, 'sample_every_n_visits', 1)\u001b[0m\u001b[0;34m\u001b[0m\u001b[0;34m\u001b[0m\u001b[0;34m\u001b[0m\u001b[0m\n\u001b[0;32m---> 10\u001b[0;31m   \u001b[0mtrain_data\u001b[0m\u001b[0;34m,\u001b[0m\u001b[0mdev_data\u001b[0m\u001b[0;34m,\u001b[0m\u001b[0mtest_data\u001b[0m \u001b[0;34m=\u001b[0m \u001b[0mget_data_for_parameters\u001b[0m\u001b[0;34m(\u001b[0m\u001b[0mparameter_info_list\u001b[0m\u001b[0;34m)\u001b[0m\u001b[0;34m\u001b[0m\u001b[0;34m\u001b[0m\u001b[0m\n\u001b[0m\u001b[1;32m     11\u001b[0m   \u001b[0;32mreturn\u001b[0m \u001b[0mtrain_data\u001b[0m\u001b[0;34m,\u001b[0m\u001b[0mdev_data\u001b[0m\u001b[0;34m,\u001b[0m\u001b[0mtest_data\u001b[0m\u001b[0;34m\u001b[0m\u001b[0;34m\u001b[0m\u001b[0m\n",
      "\u001b[0;32m~/motivation/train_utils.py\u001b[0m in \u001b[0;36mget_data_for_parameters\u001b[0;34m(parameter_info_list)\u001b[0m\n\u001b[1;32m    226\u001b[0m   \u001b[0mprint\u001b[0m\u001b[0;34m(\u001b[0m\u001b[0;34m'all_features_data is'\u001b[0m\u001b[0;34m)\u001b[0m\u001b[0;34m\u001b[0m\u001b[0;34m\u001b[0m\u001b[0m\n\u001b[1;32m    227\u001b[0m   \u001b[0mprint\u001b[0m\u001b[0;34m(\u001b[0m\u001b[0mtype\u001b[0m\u001b[0;34m(\u001b[0m\u001b[0mall_features_data\u001b[0m\u001b[0;34m)\u001b[0m\u001b[0;34m)\u001b[0m\u001b[0;34m\u001b[0m\u001b[0;34m\u001b[0m\u001b[0m\n\u001b[0;32m--> 228\u001b[0;31m   \u001b[0mall_data_tensors\u001b[0m \u001b[0;34m=\u001b[0m \u001b[0mmake_tensors_from_features\u001b[0m\u001b[0;34m(\u001b[0m\u001b[0mall_features_data\u001b[0m\u001b[0;34m,\u001b[0m \u001b[0mdataparams\u001b[0m\u001b[0;34m)\u001b[0m\u001b[0;34m\u001b[0m\u001b[0;34m\u001b[0m\u001b[0m\n\u001b[0m\u001b[1;32m    229\u001b[0m   \u001b[0mprint\u001b[0m\u001b[0;34m(\u001b[0m\u001b[0;34m'all_data_tensors is'\u001b[0m\u001b[0;34m)\u001b[0m\u001b[0;34m\u001b[0m\u001b[0;34m\u001b[0m\u001b[0m\n\u001b[1;32m    230\u001b[0m   \u001b[0mprint\u001b[0m\u001b[0;34m(\u001b[0m\u001b[0mtype\u001b[0m\u001b[0;34m(\u001b[0m\u001b[0mall_data_tensors\u001b[0m\u001b[0;34m)\u001b[0m\u001b[0;34m)\u001b[0m\u001b[0;34m\u001b[0m\u001b[0;34m\u001b[0m\u001b[0m\n",
      "\u001b[0;32m~/motivation/mkdata.py\u001b[0m in \u001b[0;36mmake_tensors_from_features_v8\u001b[0;34m(features, parameters)\u001b[0m\n\u001b[1;32m   1008\u001b[0m   \u001b[0moutput\u001b[0m \u001b[0;34m=\u001b[0m \u001b[0;34m[\u001b[0m\u001b[0;34m]\u001b[0m\u001b[0;34m\u001b[0m\u001b[0;34m\u001b[0m\u001b[0m\n\u001b[1;32m   1009\u001b[0m   \u001b[0;32mfor\u001b[0m \u001b[0muser\u001b[0m\u001b[0;34m,\u001b[0m\u001b[0muser_features\u001b[0m \u001b[0;32min\u001b[0m \u001b[0mfeatures\u001b[0m\u001b[0;34m.\u001b[0m\u001b[0mitems\u001b[0m\u001b[0;34m(\u001b[0m\u001b[0;34m)\u001b[0m\u001b[0;34m:\u001b[0m\u001b[0;34m\u001b[0m\u001b[0;34m\u001b[0m\u001b[0m\n\u001b[0;32m-> 1010\u001b[0;31m     \u001b[0;32mfor\u001b[0m \u001b[0mx\u001b[0m \u001b[0;32min\u001b[0m \u001b[0mmake_tensors_from_features_for_user_v8\u001b[0m\u001b[0;34m(\u001b[0m\u001b[0muser\u001b[0m\u001b[0;34m,\u001b[0m \u001b[0muser_features\u001b[0m\u001b[0;34m,\u001b[0m \u001b[0mparameters\u001b[0m\u001b[0;34m)\u001b[0m\u001b[0;34m:\u001b[0m\u001b[0;34m\u001b[0m\u001b[0;34m\u001b[0m\u001b[0m\n\u001b[0m\u001b[1;32m   1011\u001b[0m       \u001b[0moutput\u001b[0m\u001b[0;34m.\u001b[0m\u001b[0mappend\u001b[0m\u001b[0;34m(\u001b[0m\u001b[0mx\u001b[0m\u001b[0;34m)\u001b[0m\u001b[0;34m\u001b[0m\u001b[0;34m\u001b[0m\u001b[0m\n\u001b[1;32m   1012\u001b[0m   \u001b[0;32mreturn\u001b[0m \u001b[0moutput\u001b[0m\u001b[0;34m\u001b[0m\u001b[0;34m\u001b[0m\u001b[0m\n",
      "\u001b[0;32m~/motivation/mkdata.py\u001b[0m in \u001b[0;36mmake_tensors_from_features_for_user_v8\u001b[0;34m(user, features, parameters)\u001b[0m\n\u001b[1;32m    989\u001b[0m         \u001b[0mf\u001b[0m\u001b[0;34m(\u001b[0m\u001b[0midx\u001b[0m\u001b[0;34m,\u001b[0m \u001b[0;34m'initial_difficulty'\u001b[0m\u001b[0;34m,\u001b[0m \u001b[0mfeatures\u001b[0m\u001b[0;34m[\u001b[0m\u001b[0;34m'initial_difficulty'\u001b[0m\u001b[0;34m]\u001b[0m\u001b[0;34m)\u001b[0m\u001b[0;34m\u001b[0m\u001b[0;34m\u001b[0m\u001b[0m\n\u001b[1;32m    990\u001b[0m         \u001b[0;32mfor\u001b[0m \u001b[0mlanguage\u001b[0m \u001b[0;32min\u001b[0m \u001b[0mfeatures\u001b[0m\u001b[0;34m[\u001b[0m\u001b[0;34m'languages'\u001b[0m\u001b[0;34m]\u001b[0m\u001b[0;34m:\u001b[0m\u001b[0;34m\u001b[0m\u001b[0;34m\u001b[0m\u001b[0m\n\u001b[0;32m--> 991\u001b[0;31m           \u001b[0mf\u001b[0m\u001b[0;34m(\u001b[0m\u001b[0midx\u001b[0m\u001b[0;34m,\u001b[0m \u001b[0;34m'languages'\u001b[0m\u001b[0;34m,\u001b[0m \u001b[0mlanguage\u001b[0m\u001b[0;34m)\u001b[0m\u001b[0;34m\u001b[0m\u001b[0;34m\u001b[0m\u001b[0m\n\u001b[0m\u001b[1;32m    992\u001b[0m         \u001b[0mf\u001b[0m\u001b[0;34m(\u001b[0m\u001b[0midx\u001b[0m\u001b[0;34m,\u001b[0m \u001b[0;34m'time_of_day'\u001b[0m\u001b[0;34m,\u001b[0m \u001b[0mprior_entry\u001b[0m\u001b[0;34m[\u001b[0m\u001b[0;34m'arrow_time'\u001b[0m\u001b[0;34m]\u001b[0m\u001b[0;34m)\u001b[0m\u001b[0;34m\u001b[0m\u001b[0;34m\u001b[0m\u001b[0m\n\u001b[1;32m    993\u001b[0m         \u001b[0mf\u001b[0m\u001b[0;34m(\u001b[0m\u001b[0midx\u001b[0m\u001b[0;34m,\u001b[0m \u001b[0;34m'day_of_week'\u001b[0m\u001b[0;34m,\u001b[0m \u001b[0mprior_entry\u001b[0m\u001b[0;34m[\u001b[0m\u001b[0;34m'arrow_time'\u001b[0m\u001b[0;34m]\u001b[0m\u001b[0;34m)\u001b[0m\u001b[0;34m\u001b[0m\u001b[0;34m\u001b[0m\u001b[0m\n",
      "\u001b[0;32m~/motivation/mkdata.py\u001b[0m in \u001b[0;36mget_feature_setter\u001b[0;34m(time_idx, feature_name, offset, value)\u001b[0m\n\u001b[1;32m    737\u001b[0m       \u001b[0;32mreturn\u001b[0m\u001b[0;34m\u001b[0m\u001b[0;34m\u001b[0m\u001b[0m\n\u001b[1;32m    738\u001b[0m     \u001b[0mfeature_idx\u001b[0m \u001b[0;34m=\u001b[0m \u001b[0mget_index\u001b[0m\u001b[0;34m(\u001b[0m\u001b[0mfeature_name\u001b[0m\u001b[0;34m)\u001b[0m\u001b[0;34m\u001b[0m\u001b[0;34m\u001b[0m\u001b[0m\n\u001b[0;32m--> 739\u001b[0;31m     \u001b[0mfeature_tensor\u001b[0m\u001b[0;34m[\u001b[0m\u001b[0mtime_idx\u001b[0m\u001b[0;34m]\u001b[0m\u001b[0;34m[\u001b[0m\u001b[0;36m0\u001b[0m\u001b[0;34m]\u001b[0m\u001b[0;34m[\u001b[0m\u001b[0mfeature_idx\u001b[0m \u001b[0;34m+\u001b[0m \u001b[0moffset_idx\u001b[0m\u001b[0;34m]\u001b[0m \u001b[0;34m=\u001b[0m \u001b[0mvalue\u001b[0m\u001b[0;34m\u001b[0m\u001b[0;34m\u001b[0m\u001b[0m\n\u001b[0m\u001b[1;32m    740\u001b[0m   \u001b[0;32mreturn\u001b[0m \u001b[0mget_feature_setter\u001b[0m\u001b[0;34m\u001b[0m\u001b[0;34m\u001b[0m\u001b[0m\n\u001b[1;32m    741\u001b[0m \u001b[0;34m\u001b[0m\u001b[0m\n",
      "\u001b[0;31mKeyboardInterrupt\u001b[0m: "
     ]
    }
   ],
   "source": [
    "# noexport\n",
    "\n",
    "main()"
   ]
  },
  {
   "cell_type": "code",
   "execution_count": null,
   "metadata": {},
   "outputs": [],
   "source": [
    "# noexport\n",
    "\n",
    "import plotly.graph_objs as go\n",
    "from plotly.offline import download_plotlyjs, init_notebook_mode, plot, iplot\n",
    "\n",
    "baseline_name_and_correctness : List[Tuple[str, float]] = []\n",
    "for baseline_name in get_baseline_names():\n",
    "  results = get_evaluation_results_for_named_baseline_v4(baseline_name)\n",
    "  correctness : float = float(results['dev_correct'] / results['dev_total'])\n",
    "  baseline_name_and_correctness.append((baseline_name, correctness))\n",
    "\n",
    "print(baseline_name_and_correctness)"
   ]
  },
  {
   "cell_type": "code",
   "execution_count": null,
   "metadata": {},
   "outputs": [],
   "source": [
    "# scatterplot = []\n",
    "# for sample_every_n_visits in range(1, 200):\n",
    "#   results = get_evaluation_results_for_sample_every_n_visits_v3(sample_every_n_visits)\n",
    "#   scatterplot.append([sample_every_n_visits, results['dev_correct'] / results['dev_total']])\n",
    "\n",
    "\n",
    "\n",
    "\n",
    "# # Create a trace\n",
    "# trace = go.Scatter(\n",
    "#     x = [x[0] for x in scatterplot],\n",
    "#     y = [x[1] for x in scatterplot],\n",
    "#     mode = 'markers'\n",
    "# )\n",
    "\n",
    "# data = [trace]\n",
    "\n",
    "# # Plot and embed in ipython notebook!\n",
    "# iplot(data)\n"
   ]
  },
  {
   "cell_type": "code",
   "execution_count": 28,
   "metadata": {},
   "outputs": [
    {
     "name": "stdout",
     "output_type": "stream",
     "text": [
      "n_seconds is 1\n",
      "exception in jsonmemo1arg for file 2019_08_29/get_evaluation_results_for_sample_every_n_seconds_v2/1.json\n",
      "[Errno 2] No such file or directory: '2019_08_29/get_evaluation_results_for_sample_every_n_seconds_v2/1.json'\n",
      "performing computation 2019_08_29/get_evaluation_results_for_sample_every_n_seconds_v2/1.json for arg 1\n",
      "exception in msgpackmemo for file 2019_08_29/get_default_train_dev_test_data.msgpack\n",
      "[Errno 2] No such file or directory: '2019_08_29/get_default_train_dev_test_data.msgpack'\n",
      "running get_data_for_parameters\n",
      "{'name': 'num_prior_entries', 'type': 'dataparam', 'values': [10, 20, 30, 40], 'value': 10}\n",
      "{'name': 'sample_every_n_visits', 'type': 'dataparam', 'values': [1], 'value': 1}\n",
      "{'name': 'sample_difficulty_every_n_visits', 'type': 'dataparam', 'values': [1], 'value': 1}\n",
      "{'name': 'disable_prior_visit_history', 'type': 'dataparam', 'values': [False, True], 'value': False}\n",
      "{'name': 'disable_difficulty_history', 'type': 'dataparam', 'values': [False, True], 'value': False}\n",
      "{'name': 'enable_current_difficulty', 'type': 'dataparam', 'values': [False, True], 'value': False}\n",
      "running get_all_features_data\n",
      "all_features_data is\n",
      "<class 'dict'>\n",
      "all_data_tensors is\n",
      "<class 'list'>\n",
      "running split_into_train_dev_test\n"
     ]
    },
    {
     "name": "stderr",
     "output_type": "stream",
     "text": [
      "ERROR:root:Internal Python error in the inspect module.\n",
      "Below is the traceback from this internal error.\n",
      "\n"
     ]
    },
    {
     "name": "stdout",
     "output_type": "stream",
     "text": [
      "Traceback (most recent call last):\n",
      "  File \"/usr/local/lib/python3.7/dist-packages/IPython/core/interactiveshell.py\", line 3291, in run_code\n",
      "    exec(code_obj, self.user_global_ns, self.user_ns)\n",
      "  File \"<ipython-input-28-0b75493811fb>\", line 6, in <module>\n",
      "    results = get_evaluation_results_for_sample_every_n_seconds_v2(n_seconds)\n",
      "  File \"/home/geza/motivation/jsonmemo.py\", line 256, in wrapped\n",
      "    cacheitem = f(arg1)\n",
      "  File \"<ipython-input-19-f84e6a1b89ed>\", line 16, in get_evaluation_results_for_sample_every_n_seconds_v2\n",
      "    train_data,dev_data,test_data = get_default_train_dev_test_data()\n",
      "  File \"/home/geza/motivation/jsonmemo.py\", line 179, in wrapped\n",
      "    msgpack.dump(cache, open(cachepath, 'wb'), default=encode_custom)\n",
      "  File \"/usr/local/lib/python3.7/dist-packages/msgpack/__init__.py\", line 37, in pack\n",
      "    stream.write(packer.pack(o))\n",
      "  File \"msgpack/_packer.pyx\", line 282, in msgpack._cmsgpack.Packer.pack\n",
      "  File \"msgpack/_packer.pyx\", line 288, in msgpack._cmsgpack.Packer.pack\n",
      "  File \"msgpack/_packer.pyx\", line 285, in msgpack._cmsgpack.Packer.pack\n",
      "  File \"msgpack/_packer.pyx\", line 261, in msgpack._cmsgpack.Packer._pack\n",
      "  File \"msgpack/_packer.pyx\", line 261, in msgpack._cmsgpack.Packer._pack\n",
      "  File \"msgpack/_packer.pyx\", line 232, in msgpack._cmsgpack.Packer._pack\n",
      "  File \"msgpack/_packer.pyx\", line 275, in msgpack._cmsgpack.Packer._pack\n",
      "  File \"/home/geza/motivation/jsonmemo.py\", line 37, in encode_custom\n",
      "    return {'__torch_tensor_int64__': True, 'as_str': json.dumps(numpy_obj.tolist())}\n",
      "  File \"/usr/lib/python3.7/json/__init__.py\", line 231, in dumps\n",
      "    return _default_encoder.encode(obj)\n",
      "  File \"/usr/lib/python3.7/json/encoder.py\", line 199, in encode\n",
      "    chunks = self.iterencode(o, _one_shot=True)\n",
      "  File \"/usr/lib/python3.7/json/encoder.py\", line 257, in iterencode\n",
      "    return _iterencode(o, 0)\n",
      "KeyboardInterrupt\n",
      "\n",
      "During handling of the above exception, another exception occurred:\n",
      "\n",
      "Traceback (most recent call last):\n",
      "  File \"/usr/local/lib/python3.7/dist-packages/IPython/core/interactiveshell.py\", line 2033, in showtraceback\n",
      "    stb = value._render_traceback_()\n",
      "AttributeError: 'KeyboardInterrupt' object has no attribute '_render_traceback_'\n",
      "\n",
      "During handling of the above exception, another exception occurred:\n",
      "\n",
      "Traceback (most recent call last):\n",
      "  File \"/usr/local/lib/python3.7/dist-packages/IPython/core/ultratb.py\", line 1095, in get_records\n",
      "    return _fixed_getinnerframes(etb, number_of_lines_of_context, tb_offset)\n",
      "  File \"/usr/local/lib/python3.7/dist-packages/IPython/core/ultratb.py\", line 313, in wrapped\n",
      "    return f(*args, **kwargs)\n",
      "  File \"/usr/local/lib/python3.7/dist-packages/IPython/core/ultratb.py\", line 347, in _fixed_getinnerframes\n",
      "    records = fix_frame_records_filenames(inspect.getinnerframes(etb, context))\n",
      "  File \"/usr/lib/python3.7/inspect.py\", line 1502, in getinnerframes\n",
      "    frameinfo = (tb.tb_frame,) + getframeinfo(tb, context)\n",
      "  File \"/usr/lib/python3.7/inspect.py\", line 1460, in getframeinfo\n",
      "    filename = getsourcefile(frame) or getfile(frame)\n",
      "  File \"/usr/lib/python3.7/inspect.py\", line 696, in getsourcefile\n",
      "    if getattr(getmodule(object, filename), '__loader__', None) is not None:\n",
      "  File \"/usr/lib/python3.7/inspect.py\", line 732, in getmodule\n",
      "    for modname, module in list(sys.modules.items()):\n",
      "KeyboardInterrupt\n"
     ]
    },
    {
     "ename": "KeyboardInterrupt",
     "evalue": "",
     "output_type": "error",
     "traceback": [
      "\u001b[0;31m---------------------------------------------------------------------------\u001b[0m"
     ]
    }
   ],
   "source": [
    "# noexport\n",
    "\n",
    "scatterplot = []\n",
    "for n_seconds in range(1, 60*60*24*60, 60): # 60*60*24*60\n",
    "  print('n_seconds is ' + str(n_seconds))\n",
    "  results = get_evaluation_results_for_sample_every_n_seconds_v2(n_seconds)\n",
    "  scatterplot.append([n_seconds / 3600, results['dev_correct'] / results['dev_total']])\n",
    "\n",
    "\n",
    "\n",
    "\n",
    "# Create a trace\n",
    "trace = go.Scatter(\n",
    "    x = [x[0] for x in scatterplot],\n",
    "    y = [x[1] for x in scatterplot],\n",
    "    mode = 'markers'\n",
    ")\n",
    "\n",
    "data = [trace]\n",
    "\n",
    "# Plot and embed in ipython notebook!\n",
    "iplot(data)\n"
   ]
  }
 ],
 "metadata": {
  "kernelspec": {
   "display_name": "Python 3",
   "language": "python",
   "name": "python3"
  },
  "language_info": {
   "codemirror_mode": {
    "name": "ipython",
    "version": 3
   },
   "file_extension": ".py",
   "mimetype": "text/x-python",
   "name": "python",
   "nbconvert_exporter": "python",
   "pygments_lexer": "ipython3",
   "version": "3.7.2"
  }
 },
 "nbformat": 4,
 "nbformat_minor": 2
}
