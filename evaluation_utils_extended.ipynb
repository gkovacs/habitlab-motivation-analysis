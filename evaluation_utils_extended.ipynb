{
 "cells": [
  {
   "cell_type": "code",
   "execution_count": null,
   "metadata": {},
   "outputs": [],
   "source": [
    "# noexport\n",
    "\n",
    "!typech evaluation_utils_extended.ipynb"
   ]
  },
  {
   "cell_type": "code",
   "execution_count": 1,
   "metadata": {},
   "outputs": [
    {
     "name": "stderr",
     "output_type": "stream",
     "text": [
      "/usr/local/lib/python3.7/site-packages/getsecret/__init__.py:7: YAMLLoadWarning: calling yaml.load() without Loader=... is deprecated, as the default Loader is unsafe. Please read https://msg.pyyaml.org/load for full details.\n",
      "  secrets = yaml.load(open('.getsecret.yaml'))\n",
      "/usr/local/lib/python3.7/site-packages/getsecret/__init__.py:7: YAMLLoadWarning: calling yaml.load() without Loader=... is deprecated, as the default Loader is unsafe. Please read https://msg.pyyaml.org/load for full details.\n",
      "  secrets = yaml.load(open('.getsecret.yaml'))\n"
     ]
    },
    {
     "data": {
      "text/html": [
       "        <script type=\"text/javascript\">\n",
       "        window.PlotlyConfig = {MathJaxConfig: 'local'};\n",
       "        if (window.MathJax) {MathJax.Hub.Config({SVG: {font: \"STIX-Web\"}});}\n",
       "        if (typeof require !== 'undefined') {\n",
       "        require.undef(\"plotly\");\n",
       "        requirejs.config({\n",
       "            paths: {\n",
       "                'plotly': ['https://cdn.plot.ly/plotly-latest.min']\n",
       "            }\n",
       "        });\n",
       "        require(['plotly'], function(Plotly) {\n",
       "            window._Plotly = Plotly;\n",
       "        });\n",
       "        }\n",
       "        </script>\n",
       "        "
      ]
     },
     "metadata": {},
     "output_type": "display_data"
    },
    {
     "name": "stderr",
     "output_type": "stream",
     "text": [
      "/usr/local/lib/python3.7/site-packages/getsecret/__init__.py:7: YAMLLoadWarning:\n",
      "\n",
      "calling yaml.load() without Loader=... is deprecated, as the default Loader is unsafe. Please read https://msg.pyyaml.org/load for full details.\n",
      "\n"
     ]
    }
   ],
   "source": [
    "from evaluation_utils import *"
   ]
  },
  {
   "cell_type": "code",
   "execution_count": 2,
   "metadata": {},
   "outputs": [],
   "source": [
    "def get_difficulty_first_chosen_by_user(user):\n",
    "  user_to_features_data = get_all_features_data()\n",
    "  features_data = user_to_features_data.get(user, None)\n",
    "  if features_data == None:\n",
    "    return 'nothing'\n",
    "  if len(features_data['difficulty_items']) == 0:\n",
    "    return 'nothing'\n",
    "  return features_data['difficulty_items'][0]['difficulty']"
   ]
  },
  {
   "cell_type": "code",
   "execution_count": 3,
   "metadata": {},
   "outputs": [],
   "source": [
    "def get_difficulty_chosen_by_user_at_idx(user, idx):\n",
    "  user_to_features_data = get_all_features_data()\n",
    "  features_data = user_to_features_data.get(user, None)\n",
    "  if features_data == None:\n",
    "    return 'nothing'\n",
    "  return features_data['difficulty_items'][idx]['difficulty']\n"
   ]
  },
  {
   "cell_type": "code",
   "execution_count": 4,
   "metadata": {},
   "outputs": [],
   "source": [
    "\n",
    "\n",
    "def get_initial_difficulty_v2(tensor, parameter_info_list):\n",
    "  feature = tensor['feature']\n",
    "  history_length = feature.size()[0]\n",
    "  timestep = 0\n",
    "  #if len(feature) < 2:\n",
    "  #  return 'nothing'\n",
    "  enabled_feature_list = get_enabled_features_list_from_parameter_info_list(parameter_info_list)\n",
    "  get_feature_index = make_get_index(enabled_feature_list)\n",
    "  difficulty_feature_idx = get_feature_index('initial_difficulty')\n",
    "  for difficulty_idx,difficulty in enumerate(['nothing', 'easy', 'medium', 'hard']):\n",
    "    if feature[timestep][0][difficulty_feature_idx + difficulty_idx].item() > 0:\n",
    "      return difficulty\n",
    "  return 'nothing'\n",
    "\n",
    "def get_first_chosen_difficulty_v2(tensor, parameter_info_list):\n",
    "  user = tensor['user']\n",
    "  feature = tensor['feature']\n",
    "  history_length = feature.size()[0]\n",
    "  if history_length < 2:\n",
    "    return 'nothing'\n",
    "  return get_difficulty_first_chosen_by_user(user)\n",
    "\n",
    "def always_predict_most_common_previous_v2(tensor, parameter_info_list):\n",
    "  feature = tensor['feature']\n",
    "  history_length = feature.size()[0]\n",
    "  if len(feature) < 2:\n",
    "    return 'nothing'\n",
    "  enabled_feature_list = get_enabled_features_list_from_parameter_info_list(parameter_info_list)\n",
    "  get_feature_index = make_get_index(enabled_feature_list)\n",
    "  difficulty_feature_idx = get_feature_index('difficulty')\n",
    "  difficulty_choices = Counter()\n",
    "  for timestep in range(0, history_length - 1):\n",
    "    for difficulty_idx,difficulty in enumerate(['nothing', 'easy', 'medium', 'hard']):\n",
    "      if feature[timestep][0][difficulty_feature_idx + difficulty_idx].item() > 0:\n",
    "        difficulty_choices[difficulty] += 1\n",
    "  output = most_common_key_for_counter(difficulty_choices)\n",
    "  if output == None:\n",
    "    return 'nothing'\n",
    "  return output\n",
    "  #return 'nothing'"
   ]
  },
  {
   "cell_type": "code",
   "execution_count": 5,
   "metadata": {},
   "outputs": [],
   "source": [
    "def evaluate_function_model_on_dataset_v2(parameter_info_list, func, dataset, prefix='dev_') -> Dict[str, Any]:\n",
    "  confusion = [[0,0,0,0],[0,0,0,0],[0,0,0,0],[0,0,0,0]]\n",
    "  correct = 0\n",
    "  total = 0\n",
    "  for item in dataset:\n",
    "    category_tensor = item['category']\n",
    "    feature_tensor = item['feature']\n",
    "    #if feature_tensor.size()[0] == 0:\n",
    "    #    continue\n",
    "    difficulty = tensor_to_difficulty(category_tensor)\n",
    "    difficulty_idx = get_difficulty_idx(difficulty)\n",
    "    #predicted_tensor = make_prediction(model, feature_tensor.cuda())\n",
    "    #predicted_difficulty = prediction_to_difficulty(predicted_tensor)\n",
    "    predicted_difficulty = func(item, parameter_info_list)\n",
    "    predicted_difficulty_idx = get_difficulty_idx(predicted_difficulty)\n",
    "    if predicted_difficulty_idx == difficulty_idx:\n",
    "      correct += 1\n",
    "    total += 1\n",
    "    confusion[difficulty_idx][predicted_difficulty_idx] += 1\n",
    "  return {\n",
    "    prefix + 'correct': correct,\n",
    "    prefix + 'total': total,\n",
    "    prefix + 'confusion': confusion,\n",
    "  }"
   ]
  },
  {
   "cell_type": "code",
   "execution_count": 6,
   "metadata": {},
   "outputs": [],
   "source": [
    "def get_baseline_names():\n",
    "  return [\n",
    "    'initial_difficulty',\n",
    "    'first_chosen',\n",
    "    'always_nothing',\n",
    "    'most_common_previous',\n",
    "  ]\n",
    "\n",
    "@jsonmemo1arg\n",
    "def get_evaluation_results_for_named_baseline_v4(baseline_name):\n",
    "  baseline_name_to_func = {\n",
    "    'initial_difficulty': get_initial_difficulty_v2,\n",
    "    'first_chosen': get_first_chosen_difficulty_v2,\n",
    "    'always_nothing': always_predict_nothing,\n",
    "    'most_common_previous': always_predict_most_common_previous_v2,\n",
    "  }\n",
    "  true = True\n",
    "  false = False\n",
    "  parameter_info_list : List[Dict[str, Any]] = get_default_parameter_info_list()\n",
    "  #train_data,dev_data,test_data = get_data_for_parameters(parameter_info_list)\n",
    "  baseline_func = baseline_name_to_func[baseline_name]\n",
    "  return evaluate_function_model_on_dataset_v2(parameter_info_list, baseline_func, dev_data)"
   ]
  },
  {
   "cell_type": "code",
   "execution_count": 33,
   "metadata": {},
   "outputs": [],
   "source": [
    "def get_default_parameter_info_list():\n",
    "  true = True\n",
    "  false = False\n",
    "  return [{\"name\": \"dataset_name\", \"type\": \"dataset\", \"values\": [\"2019_04_11\"], \"value\": \"2019_04_11\"}, {\"name\": \"model_name\", \"type\": \"model\", \"values\": [\"selfattentionlstm\"], \"value\": \"selfattentionlstm\"}, {\"name\": \"criterion\", \"type\": \"model\", \"values\": [\"NLLLoss\"], \"value\": \"NLLLoss\"}, {\"name\": \"learning_rate\", \"type\": \"model\", \"values\": [0.005, 0.05, 0.0005, 5e-05], \"value\": 5e-05}, {\"name\": \"window_embed_size\", \"type\": \"model\", \"values\": [64, 128, 256, 512], \"value\": 256}, {\"name\": \"difficulty\", \"type\": \"feature\", \"values\": [true, false], \"value\": true}, {\"name\": \"time_of_day\", \"type\": \"feature\", \"values\": [true, false], \"value\": true}, {\"name\": \"day_of_week\", \"type\": \"feature\", \"values\": [true, false], \"value\": true}, {\"name\": \"domain_productivity\", \"type\": \"feature\", \"values\": [true, false], \"value\": true}, {\"name\": \"domain_category\", \"type\": \"feature\", \"values\": [true, false], \"value\": true}, {\"name\": \"initial_difficulty\", \"type\": \"feature\", \"values\": [true, false], \"value\": true}, {\"name\": \"languages\", \"type\": \"feature\", \"values\": [true, false], \"value\": true}, {\"name\": \"num_prior_entries\", \"type\": \"dataparam\", \"values\": [10, 20, 30, 40], \"value\": 10}, {\"name\": \"sample_every_n_visits\", \"type\": \"dataparam\", \"values\": [1], \"value\": 1}, {\"name\": \"sample_difficulty_every_n_visits\", \"type\": \"dataparam\", \"values\": [1], \"value\": 1}, {\"name\": \"disable_prior_visit_history\", \"type\": \"dataparam\", \"values\": [false, true], \"value\": false}, {\"name\": \"disable_difficulty_history\", \"type\": \"dataparam\", \"values\": [false, true], \"value\": false}, {\"name\": \"enable_current_difficulty\", \"type\": \"dataparam\", \"values\": [false, true], \"value\": false}, {\"name\": \"num_features\", \"type\": \"model\", \"values\": [277], \"value\": 277}]\n",
    "\n",
    "@msgpackmemo\n",
    "def get_default_train_dev_test_data():\n",
    "  parameter_info_list = get_default_parameter_info_list()\n",
    "  #set_parameter_in_parameter_info_list(parameter_info_list, 'sample_every_n_visits', 1)\n",
    "  train_data,dev_data,test_data = get_data_for_parameters(parameter_info_list)\n",
    "  return train_data,dev_data,test_data\n"
   ]
  },
  {
   "cell_type": "code",
   "execution_count": 11,
   "metadata": {},
   "outputs": [],
   "source": [
    "# noexport\n",
    "\n",
    "#train_data,dev_data,test_data = get_default_train_dev_test_data()"
   ]
  },
  {
   "cell_type": "code",
   "execution_count": null,
   "metadata": {},
   "outputs": [],
   "source": [
    "#print(type(train_data))\n",
    "#print((train_data[0][list(train_data[0].keys())[0]]))\n",
    "#pytorch_tensor = train_data[0]['feature']"
   ]
  },
  {
   "cell_type": "code",
   "execution_count": null,
   "metadata": {},
   "outputs": [],
   "source": [
    "#pytorch_serialized = json.dumps(pytorch_tensor.numpy().tolist())"
   ]
  },
  {
   "cell_type": "code",
   "execution_count": null,
   "metadata": {},
   "outputs": [],
   "source": [
    "#import numpy"
   ]
  },
  {
   "cell_type": "code",
   "execution_count": null,
   "metadata": {},
   "outputs": [],
   "source": [
    "#pytorch_new = torch.tensor(numpy.array(json.loads(pytorch_serialized), dtype='float32'), dtype=torch.float32)"
   ]
  },
  {
   "cell_type": "code",
   "execution_count": null,
   "metadata": {},
   "outputs": [],
   "source": [
    "#pytorch_new.numpy().dtype"
   ]
  },
  {
   "cell_type": "code",
   "execution_count": null,
   "metadata": {},
   "outputs": [],
   "source": [
    "# print(type(pytorch_tensor))\n",
    "# print(pytorch_tensor.type())\n",
    "# print(pytorch_tensor.numpy().dtype == numpy.float32)"
   ]
  },
  {
   "cell_type": "code",
   "execution_count": 12,
   "metadata": {},
   "outputs": [],
   "source": [
    "# noexport\n",
    "\n",
    "#a = get_default_train_dev_test_data()"
   ]
  },
  {
   "cell_type": "code",
   "execution_count": null,
   "metadata": {},
   "outputs": [],
   "source": []
  },
  {
   "cell_type": "code",
   "execution_count": 24,
   "metadata": {},
   "outputs": [],
   "source": [
    "def get_nearest_visit_idx_for_sample_rate(visit_idx, sample_rate):\n",
    "  num_visits_ago = visit_idx % sample_rate\n",
    "  return visit_idx - num_visits_ago"
   ]
  },
  {
   "cell_type": "code",
   "execution_count": 30,
   "metadata": {},
   "outputs": [],
   "source": [
    "@jsonmemo1arg\n",
    "def get_evaluation_results_for_sample_every_n_visits_v3(sample_every_n_visits):\n",
    "  true = True\n",
    "  false = False\n",
    "  def evaluation_func(tensor, parameter_info_list):\n",
    "    user = tensor['user']\n",
    "    visit_idx = tensor['visit_idx']\n",
    "    if visit_idx < 1:\n",
    "      return 'nothing'\n",
    "    sampled_visit_idx = get_nearest_visit_idx_for_sample_rate(visit_idx - 1, sample_every_n_visits)\n",
    "    return get_difficulty_chosen_by_user_at_idx(user, sampled_visit_idx)\n",
    "  parameter_info_list = get_default_parameter_info_list()\n",
    "  return evaluate_function_model_on_dataset_v2(parameter_info_list, evaluation_func, dev_data)\n",
    "  "
   ]
  },
  {
   "cell_type": "code",
   "execution_count": 31,
   "metadata": {},
   "outputs": [],
   "source": [
    "@jsonmemo1arg\n",
    "def get_evaluation_results_for_sample_every_n_seconds_v2(sample_every_n_seconds):\n",
    "  true = True\n",
    "  false = False\n",
    "  user_to_idx_to_difficulty = {}\n",
    "  def evaluation_func(tensor, parameter_info_list):\n",
    "    user = tensor['user']\n",
    "    visit_idx = tensor['visit_idx']\n",
    "    if user not in user_to_idx_to_difficulty:\n",
    "      user_to_idx_to_difficulty[user] = get_visit_idx_to_predictions_for_timed_sampling_rate(user, sample_every_n_seconds)\n",
    "    #if visit_idx < 1:\n",
    "    #  return 'nothing'\n",
    "    #sampled_visit_idx = get_nearest_visit_idx_for_sample_rate(visit_idx - 1, sample_every_n_visits)\n",
    "    return user_to_idx_to_difficulty[user][visit_idx]\n",
    "  parameter_info_list = get_default_parameter_info_list()\n",
    "  return evaluate_function_model_on_dataset_v2(parameter_info_list, evaluation_func, dev_data)\n",
    "  "
   ]
  },
  {
   "cell_type": "code",
   "execution_count": 27,
   "metadata": {},
   "outputs": [],
   "source": [
    "def get_visit_idx_to_predictions_for_timed_sampling_rate(user, sampling_rate_seconds):\n",
    "  user_to_features_data = get_all_features_data()\n",
    "  features_data = user_to_features_data.get(user, None)\n",
    "  if features_data == None:\n",
    "    return 'nothing'\n",
    "  sampled_according_to_time = []\n",
    "  last_sampled_time = None\n",
    "  last_sampled_value = 'nothing'\n",
    "  for idx,item in enumerate(features_data['difficulty_items']):\n",
    "    difficulty = item['difficulty']\n",
    "    arrow_time = item['arrow_time']\n",
    "    sampled_according_to_time.append(last_sampled_value)\n",
    "    if last_sampled_time != None:\n",
    "      seconds_since_last_sample = (arrow_time - last_sampled_time).total_seconds()\n",
    "      if seconds_since_last_sample >= sampling_rate_seconds:\n",
    "        last_sampled_time = arrow_time\n",
    "        last_sampled_value = difficulty\n",
    "    else:\n",
    "      last_sampled_time = arrow_time\n",
    "      last_sampled_value = difficulty\n",
    "  return sampled_according_to_time\n"
   ]
  },
  {
   "cell_type": "code",
   "execution_count": 28,
   "metadata": {},
   "outputs": [],
   "source": [
    "def main():\n",
    "  for baseline_name in ['initial_difficulty', 'first_chosen', 'always_nothing', 'most_common_previous']:\n",
    "    print(baseline_name)\n",
    "    print(get_evaluation_results_for_named_baseline_v4(baseline_name))\n",
    "  \n",
    "  sample_every_n_visits_options = [1,2,3,4,5,7,9,10,15,20,25,30,35,40,45,50,55,60,65,70,75,80,85,90,95,100,105,110,115,120,125,130]\n",
    "  sample_every_n_visits_options.extend(list(range(1, 1000)))\n",
    "  for sample_every_n_visits in sample_every_n_visits_options:\n",
    "    print(sample_every_n_visits)\n",
    "    print(get_evaluation_results_for_sample_every_n_visits_v3(sample_every_n_visits))\n"
   ]
  },
  {
   "cell_type": "code",
   "execution_count": 32,
   "metadata": {},
   "outputs": [
    {
     "name": "stdout",
     "output_type": "stream",
     "text": [
      "initial_difficulty\n",
      "{'dev_correct': 2454, 'dev_total': 7560, 'dev_confusion': [[141, 1485, 810, 783], [281, 1183, 573, 160], [68, 575, 1079, 59], [4, 124, 184, 51]]}\n",
      "first_chosen\n",
      "{'dev_correct': 4069, 'dev_total': 7560, 'dev_confusion': [[1266, 1190, 321, 442], [223, 1506, 333, 135], [131, 501, 1130, 19], [46, 29, 121, 167]]}\n",
      "always_nothing\n",
      "{'dev_correct': 3219, 'dev_total': 7560, 'dev_confusion': [[3219, 0, 0, 0], [2197, 0, 0, 0], [1781, 0, 0, 0], [363, 0, 0, 0]]}\n",
      "most_common_previous\n",
      "{'dev_correct': 6552, 'dev_total': 7560, 'dev_confusion': [[2916, 213, 47, 43], [212, 1812, 147, 26], [85, 100, 1578, 18], [46, 20, 51, 246]]}\n",
      "1\n",
      "exception in jsonmemo1arg for file 2019_04_25/get_evaluation_results_for_sample_every_n_visits_v3/1.json\n",
      "[Errno 2] No such file or directory: '2019_04_25/get_evaluation_results_for_sample_every_n_visits_v3/1.json'\n",
      "performing computation 2019_04_25/get_evaluation_results_for_sample_every_n_visits_v3/1.json for arg 1\n"
     ]
    },
    {
     "ename": "NameError",
     "evalue": "name 'true' is not defined",
     "output_type": "error",
     "traceback": [
      "\u001b[0;31m---------------------------------------------------------------------------\u001b[0m",
      "\u001b[0;31mNameError\u001b[0m                                 Traceback (most recent call last)",
      "\u001b[0;32m<ipython-input-32-b824ae557985>\u001b[0m in \u001b[0;36m<module>\u001b[0;34m\u001b[0m\n\u001b[1;32m      1\u001b[0m \u001b[0;31m# noexport\u001b[0m\u001b[0;34m\u001b[0m\u001b[0;34m\u001b[0m\u001b[0;34m\u001b[0m\u001b[0m\n\u001b[1;32m      2\u001b[0m \u001b[0;34m\u001b[0m\u001b[0m\n\u001b[0;32m----> 3\u001b[0;31m \u001b[0mmain\u001b[0m\u001b[0;34m(\u001b[0m\u001b[0;34m)\u001b[0m\u001b[0;34m\u001b[0m\u001b[0;34m\u001b[0m\u001b[0m\n\u001b[0m",
      "\u001b[0;32m<ipython-input-28-78e679fc2632>\u001b[0m in \u001b[0;36mmain\u001b[0;34m()\u001b[0m\n\u001b[1;32m      8\u001b[0m   \u001b[0;32mfor\u001b[0m \u001b[0msample_every_n_visits\u001b[0m \u001b[0;32min\u001b[0m \u001b[0msample_every_n_visits_options\u001b[0m\u001b[0;34m:\u001b[0m\u001b[0;34m\u001b[0m\u001b[0;34m\u001b[0m\u001b[0m\n\u001b[1;32m      9\u001b[0m     \u001b[0mprint\u001b[0m\u001b[0;34m(\u001b[0m\u001b[0msample_every_n_visits\u001b[0m\u001b[0;34m)\u001b[0m\u001b[0;34m\u001b[0m\u001b[0;34m\u001b[0m\u001b[0m\n\u001b[0;32m---> 10\u001b[0;31m     \u001b[0mprint\u001b[0m\u001b[0;34m(\u001b[0m\u001b[0mget_evaluation_results_for_sample_every_n_visits_v3\u001b[0m\u001b[0;34m(\u001b[0m\u001b[0msample_every_n_visits\u001b[0m\u001b[0;34m)\u001b[0m\u001b[0;34m)\u001b[0m\u001b[0;34m\u001b[0m\u001b[0;34m\u001b[0m\u001b[0m\n\u001b[0m",
      "\u001b[0;32m~/motivation/jsonmemo.py\u001b[0m in \u001b[0;36mwrapped\u001b[0;34m(arg1)\u001b[0m\n\u001b[1;32m    254\u001b[0m         \u001b[0;32mpass\u001b[0m\u001b[0;34m\u001b[0m\u001b[0;34m\u001b[0m\u001b[0m\n\u001b[1;32m    255\u001b[0m       \u001b[0mprint\u001b[0m\u001b[0;34m(\u001b[0m\u001b[0;34m'performing computation '\u001b[0m \u001b[0;34m+\u001b[0m \u001b[0mcachepath\u001b[0m \u001b[0;34m+\u001b[0m \u001b[0;34m' for arg '\u001b[0m \u001b[0;34m+\u001b[0m \u001b[0mstr\u001b[0m\u001b[0;34m(\u001b[0m\u001b[0marg1\u001b[0m\u001b[0;34m)\u001b[0m\u001b[0;34m)\u001b[0m\u001b[0;34m\u001b[0m\u001b[0;34m\u001b[0m\u001b[0m\n\u001b[0;32m--> 256\u001b[0;31m       \u001b[0mcacheitem\u001b[0m \u001b[0;34m=\u001b[0m \u001b[0mf\u001b[0m\u001b[0;34m(\u001b[0m\u001b[0marg1\u001b[0m\u001b[0;34m)\u001b[0m\u001b[0;34m\u001b[0m\u001b[0;34m\u001b[0m\u001b[0m\n\u001b[0m\u001b[1;32m    257\u001b[0m       \u001b[0mprint\u001b[0m\u001b[0;34m(\u001b[0m\u001b[0;34m'done with computation '\u001b[0m \u001b[0;34m+\u001b[0m \u001b[0mcachepath\u001b[0m\u001b[0;34m)\u001b[0m\u001b[0;34m\u001b[0m\u001b[0;34m\u001b[0m\u001b[0m\n\u001b[1;32m    258\u001b[0m       \u001b[0;32mif\u001b[0m \u001b[0;32mnot\u001b[0m \u001b[0mis_lowmem_funcname\u001b[0m\u001b[0;34m(\u001b[0m\u001b[0mfuncname\u001b[0m\u001b[0;34m)\u001b[0m\u001b[0;34m:\u001b[0m\u001b[0;34m\u001b[0m\u001b[0;34m\u001b[0m\u001b[0m\n",
      "\u001b[0;32m<ipython-input-30-470d18665cf7>\u001b[0m in \u001b[0;36mget_evaluation_results_for_sample_every_n_visits_v3\u001b[0;34m(sample_every_n_visits)\u001b[0m\n\u001b[1;32m     10\u001b[0m     \u001b[0msampled_visit_idx\u001b[0m \u001b[0;34m=\u001b[0m \u001b[0mget_nearest_visit_idx_for_sample_rate\u001b[0m\u001b[0;34m(\u001b[0m\u001b[0mvisit_idx\u001b[0m \u001b[0;34m-\u001b[0m \u001b[0;36m1\u001b[0m\u001b[0;34m,\u001b[0m \u001b[0msample_every_n_visits\u001b[0m\u001b[0;34m)\u001b[0m\u001b[0;34m\u001b[0m\u001b[0;34m\u001b[0m\u001b[0m\n\u001b[1;32m     11\u001b[0m     \u001b[0;32mreturn\u001b[0m \u001b[0mget_difficulty_chosen_by_user_at_idx\u001b[0m\u001b[0;34m(\u001b[0m\u001b[0muser\u001b[0m\u001b[0;34m,\u001b[0m \u001b[0msampled_visit_idx\u001b[0m\u001b[0;34m)\u001b[0m\u001b[0;34m\u001b[0m\u001b[0;34m\u001b[0m\u001b[0m\n\u001b[0;32m---> 12\u001b[0;31m   \u001b[0mparameter_info_list\u001b[0m \u001b[0;34m=\u001b[0m \u001b[0mget_default_parameter_info_list\u001b[0m\u001b[0;34m(\u001b[0m\u001b[0;34m)\u001b[0m\u001b[0;34m\u001b[0m\u001b[0;34m\u001b[0m\u001b[0m\n\u001b[0m\u001b[1;32m     13\u001b[0m   \u001b[0;32mreturn\u001b[0m \u001b[0mevaluate_function_model_on_dataset_v2\u001b[0m\u001b[0;34m(\u001b[0m\u001b[0mparameter_info_list\u001b[0m\u001b[0;34m,\u001b[0m \u001b[0mevaluation_func\u001b[0m\u001b[0;34m,\u001b[0m \u001b[0mdev_data\u001b[0m\u001b[0;34m)\u001b[0m\u001b[0;34m\u001b[0m\u001b[0;34m\u001b[0m\u001b[0m\n\u001b[1;32m     14\u001b[0m \u001b[0;34m\u001b[0m\u001b[0m\n",
      "\u001b[0;32m<ipython-input-23-03b615c225cb>\u001b[0m in \u001b[0;36mget_default_parameter_info_list\u001b[0;34m()\u001b[0m\n\u001b[1;32m      1\u001b[0m \u001b[0;32mdef\u001b[0m \u001b[0mget_default_parameter_info_list\u001b[0m\u001b[0;34m(\u001b[0m\u001b[0;34m)\u001b[0m\u001b[0;34m:\u001b[0m\u001b[0;34m\u001b[0m\u001b[0;34m\u001b[0m\u001b[0m\n\u001b[0;32m----> 2\u001b[0;31m   \u001b[0;32mreturn\u001b[0m \u001b[0;34m[\u001b[0m\u001b[0;34m{\u001b[0m\u001b[0;34m\"name\"\u001b[0m\u001b[0;34m:\u001b[0m \u001b[0;34m\"dataset_name\"\u001b[0m\u001b[0;34m,\u001b[0m \u001b[0;34m\"type\"\u001b[0m\u001b[0;34m:\u001b[0m \u001b[0;34m\"dataset\"\u001b[0m\u001b[0;34m,\u001b[0m \u001b[0;34m\"values\"\u001b[0m\u001b[0;34m:\u001b[0m \u001b[0;34m[\u001b[0m\u001b[0;34m\"2019_04_11\"\u001b[0m\u001b[0;34m]\u001b[0m\u001b[0;34m,\u001b[0m \u001b[0;34m\"value\"\u001b[0m\u001b[0;34m:\u001b[0m \u001b[0;34m\"2019_04_11\"\u001b[0m\u001b[0;34m}\u001b[0m\u001b[0;34m,\u001b[0m \u001b[0;34m{\u001b[0m\u001b[0;34m\"name\"\u001b[0m\u001b[0;34m:\u001b[0m \u001b[0;34m\"model_name\"\u001b[0m\u001b[0;34m,\u001b[0m \u001b[0;34m\"type\"\u001b[0m\u001b[0;34m:\u001b[0m \u001b[0;34m\"model\"\u001b[0m\u001b[0;34m,\u001b[0m \u001b[0;34m\"values\"\u001b[0m\u001b[0;34m:\u001b[0m \u001b[0;34m[\u001b[0m\u001b[0;34m\"selfattentionlstm\"\u001b[0m\u001b[0;34m]\u001b[0m\u001b[0;34m,\u001b[0m \u001b[0;34m\"value\"\u001b[0m\u001b[0;34m:\u001b[0m \u001b[0;34m\"selfattentionlstm\"\u001b[0m\u001b[0;34m}\u001b[0m\u001b[0;34m,\u001b[0m \u001b[0;34m{\u001b[0m\u001b[0;34m\"name\"\u001b[0m\u001b[0;34m:\u001b[0m \u001b[0;34m\"criterion\"\u001b[0m\u001b[0;34m,\u001b[0m \u001b[0;34m\"type\"\u001b[0m\u001b[0;34m:\u001b[0m \u001b[0;34m\"model\"\u001b[0m\u001b[0;34m,\u001b[0m \u001b[0;34m\"values\"\u001b[0m\u001b[0;34m:\u001b[0m \u001b[0;34m[\u001b[0m\u001b[0;34m\"NLLLoss\"\u001b[0m\u001b[0;34m]\u001b[0m\u001b[0;34m,\u001b[0m \u001b[0;34m\"value\"\u001b[0m\u001b[0;34m:\u001b[0m \u001b[0;34m\"NLLLoss\"\u001b[0m\u001b[0;34m}\u001b[0m\u001b[0;34m,\u001b[0m \u001b[0;34m{\u001b[0m\u001b[0;34m\"name\"\u001b[0m\u001b[0;34m:\u001b[0m \u001b[0;34m\"learning_rate\"\u001b[0m\u001b[0;34m,\u001b[0m \u001b[0;34m\"type\"\u001b[0m\u001b[0;34m:\u001b[0m \u001b[0;34m\"model\"\u001b[0m\u001b[0;34m,\u001b[0m \u001b[0;34m\"values\"\u001b[0m\u001b[0;34m:\u001b[0m \u001b[0;34m[\u001b[0m\u001b[0;36m0.005\u001b[0m\u001b[0;34m,\u001b[0m \u001b[0;36m0.05\u001b[0m\u001b[0;34m,\u001b[0m \u001b[0;36m0.0005\u001b[0m\u001b[0;34m,\u001b[0m \u001b[0;36m5e-05\u001b[0m\u001b[0;34m]\u001b[0m\u001b[0;34m,\u001b[0m \u001b[0;34m\"value\"\u001b[0m\u001b[0;34m:\u001b[0m \u001b[0;36m5e-05\u001b[0m\u001b[0;34m}\u001b[0m\u001b[0;34m,\u001b[0m \u001b[0;34m{\u001b[0m\u001b[0;34m\"name\"\u001b[0m\u001b[0;34m:\u001b[0m \u001b[0;34m\"window_embed_size\"\u001b[0m\u001b[0;34m,\u001b[0m \u001b[0;34m\"type\"\u001b[0m\u001b[0;34m:\u001b[0m \u001b[0;34m\"model\"\u001b[0m\u001b[0;34m,\u001b[0m \u001b[0;34m\"values\"\u001b[0m\u001b[0;34m:\u001b[0m \u001b[0;34m[\u001b[0m\u001b[0;36m64\u001b[0m\u001b[0;34m,\u001b[0m \u001b[0;36m128\u001b[0m\u001b[0;34m,\u001b[0m \u001b[0;36m256\u001b[0m\u001b[0;34m,\u001b[0m \u001b[0;36m512\u001b[0m\u001b[0;34m]\u001b[0m\u001b[0;34m,\u001b[0m \u001b[0;34m\"value\"\u001b[0m\u001b[0;34m:\u001b[0m \u001b[0;36m256\u001b[0m\u001b[0;34m}\u001b[0m\u001b[0;34m,\u001b[0m \u001b[0;34m{\u001b[0m\u001b[0;34m\"name\"\u001b[0m\u001b[0;34m:\u001b[0m \u001b[0;34m\"difficulty\"\u001b[0m\u001b[0;34m,\u001b[0m \u001b[0;34m\"type\"\u001b[0m\u001b[0;34m:\u001b[0m \u001b[0;34m\"feature\"\u001b[0m\u001b[0;34m,\u001b[0m \u001b[0;34m\"values\"\u001b[0m\u001b[0;34m:\u001b[0m \u001b[0;34m[\u001b[0m\u001b[0mtrue\u001b[0m\u001b[0;34m,\u001b[0m \u001b[0mfalse\u001b[0m\u001b[0;34m]\u001b[0m\u001b[0;34m,\u001b[0m \u001b[0;34m\"value\"\u001b[0m\u001b[0;34m:\u001b[0m \u001b[0mtrue\u001b[0m\u001b[0;34m}\u001b[0m\u001b[0;34m,\u001b[0m \u001b[0;34m{\u001b[0m\u001b[0;34m\"name\"\u001b[0m\u001b[0;34m:\u001b[0m \u001b[0;34m\"time_of_day\"\u001b[0m\u001b[0;34m,\u001b[0m \u001b[0;34m\"type\"\u001b[0m\u001b[0;34m:\u001b[0m \u001b[0;34m\"feature\"\u001b[0m\u001b[0;34m,\u001b[0m \u001b[0;34m\"values\"\u001b[0m\u001b[0;34m:\u001b[0m \u001b[0;34m[\u001b[0m\u001b[0mtrue\u001b[0m\u001b[0;34m,\u001b[0m \u001b[0mfalse\u001b[0m\u001b[0;34m]\u001b[0m\u001b[0;34m,\u001b[0m \u001b[0;34m\"value\"\u001b[0m\u001b[0;34m:\u001b[0m \u001b[0mtrue\u001b[0m\u001b[0;34m}\u001b[0m\u001b[0;34m,\u001b[0m \u001b[0;34m{\u001b[0m\u001b[0;34m\"name\"\u001b[0m\u001b[0;34m:\u001b[0m \u001b[0;34m\"day_of_week\"\u001b[0m\u001b[0;34m,\u001b[0m \u001b[0;34m\"type\"\u001b[0m\u001b[0;34m:\u001b[0m \u001b[0;34m\"feature\"\u001b[0m\u001b[0;34m,\u001b[0m \u001b[0;34m\"values\"\u001b[0m\u001b[0;34m:\u001b[0m \u001b[0;34m[\u001b[0m\u001b[0mtrue\u001b[0m\u001b[0;34m,\u001b[0m \u001b[0mfalse\u001b[0m\u001b[0;34m]\u001b[0m\u001b[0;34m,\u001b[0m \u001b[0;34m\"value\"\u001b[0m\u001b[0;34m:\u001b[0m \u001b[0mtrue\u001b[0m\u001b[0;34m}\u001b[0m\u001b[0;34m,\u001b[0m \u001b[0;34m{\u001b[0m\u001b[0;34m\"name\"\u001b[0m\u001b[0;34m:\u001b[0m \u001b[0;34m\"domain_productivity\"\u001b[0m\u001b[0;34m,\u001b[0m \u001b[0;34m\"type\"\u001b[0m\u001b[0;34m:\u001b[0m \u001b[0;34m\"feature\"\u001b[0m\u001b[0;34m,\u001b[0m \u001b[0;34m\"values\"\u001b[0m\u001b[0;34m:\u001b[0m \u001b[0;34m[\u001b[0m\u001b[0mtrue\u001b[0m\u001b[0;34m,\u001b[0m \u001b[0mfalse\u001b[0m\u001b[0;34m]\u001b[0m\u001b[0;34m,\u001b[0m \u001b[0;34m\"value\"\u001b[0m\u001b[0;34m:\u001b[0m \u001b[0mtrue\u001b[0m\u001b[0;34m}\u001b[0m\u001b[0;34m,\u001b[0m \u001b[0;34m{\u001b[0m\u001b[0;34m\"name\"\u001b[0m\u001b[0;34m:\u001b[0m \u001b[0;34m\"domain_category\"\u001b[0m\u001b[0;34m,\u001b[0m \u001b[0;34m\"type\"\u001b[0m\u001b[0;34m:\u001b[0m \u001b[0;34m\"feature\"\u001b[0m\u001b[0;34m,\u001b[0m \u001b[0;34m\"values\"\u001b[0m\u001b[0;34m:\u001b[0m \u001b[0;34m[\u001b[0m\u001b[0mtrue\u001b[0m\u001b[0;34m,\u001b[0m \u001b[0mfalse\u001b[0m\u001b[0;34m]\u001b[0m\u001b[0;34m,\u001b[0m \u001b[0;34m\"value\"\u001b[0m\u001b[0;34m:\u001b[0m \u001b[0mtrue\u001b[0m\u001b[0;34m}\u001b[0m\u001b[0;34m,\u001b[0m \u001b[0;34m{\u001b[0m\u001b[0;34m\"name\"\u001b[0m\u001b[0;34m:\u001b[0m \u001b[0;34m\"initial_difficulty\"\u001b[0m\u001b[0;34m,\u001b[0m \u001b[0;34m\"type\"\u001b[0m\u001b[0;34m:\u001b[0m \u001b[0;34m\"feature\"\u001b[0m\u001b[0;34m,\u001b[0m \u001b[0;34m\"values\"\u001b[0m\u001b[0;34m:\u001b[0m \u001b[0;34m[\u001b[0m\u001b[0mtrue\u001b[0m\u001b[0;34m,\u001b[0m \u001b[0mfalse\u001b[0m\u001b[0;34m]\u001b[0m\u001b[0;34m,\u001b[0m \u001b[0;34m\"value\"\u001b[0m\u001b[0;34m:\u001b[0m \u001b[0mtrue\u001b[0m\u001b[0;34m}\u001b[0m\u001b[0;34m,\u001b[0m \u001b[0;34m{\u001b[0m\u001b[0;34m\"name\"\u001b[0m\u001b[0;34m:\u001b[0m \u001b[0;34m\"languages\"\u001b[0m\u001b[0;34m,\u001b[0m \u001b[0;34m\"type\"\u001b[0m\u001b[0;34m:\u001b[0m \u001b[0;34m\"feature\"\u001b[0m\u001b[0;34m,\u001b[0m \u001b[0;34m\"values\"\u001b[0m\u001b[0;34m:\u001b[0m \u001b[0;34m[\u001b[0m\u001b[0mtrue\u001b[0m\u001b[0;34m,\u001b[0m \u001b[0mfalse\u001b[0m\u001b[0;34m]\u001b[0m\u001b[0;34m,\u001b[0m \u001b[0;34m\"value\"\u001b[0m\u001b[0;34m:\u001b[0m \u001b[0mtrue\u001b[0m\u001b[0;34m}\u001b[0m\u001b[0;34m,\u001b[0m \u001b[0;34m{\u001b[0m\u001b[0;34m\"name\"\u001b[0m\u001b[0;34m:\u001b[0m \u001b[0;34m\"num_prior_entries\"\u001b[0m\u001b[0;34m,\u001b[0m \u001b[0;34m\"type\"\u001b[0m\u001b[0;34m:\u001b[0m \u001b[0;34m\"dataparam\"\u001b[0m\u001b[0;34m,\u001b[0m \u001b[0;34m\"values\"\u001b[0m\u001b[0;34m:\u001b[0m \u001b[0;34m[\u001b[0m\u001b[0;36m10\u001b[0m\u001b[0;34m,\u001b[0m \u001b[0;36m20\u001b[0m\u001b[0;34m,\u001b[0m \u001b[0;36m30\u001b[0m\u001b[0;34m,\u001b[0m \u001b[0;36m40\u001b[0m\u001b[0;34m]\u001b[0m\u001b[0;34m,\u001b[0m \u001b[0;34m\"value\"\u001b[0m\u001b[0;34m:\u001b[0m \u001b[0;36m10\u001b[0m\u001b[0;34m}\u001b[0m\u001b[0;34m,\u001b[0m \u001b[0;34m{\u001b[0m\u001b[0;34m\"name\"\u001b[0m\u001b[0;34m:\u001b[0m \u001b[0;34m\"sample_every_n_visits\"\u001b[0m\u001b[0;34m,\u001b[0m \u001b[0;34m\"type\"\u001b[0m\u001b[0;34m:\u001b[0m \u001b[0;34m\"dataparam\"\u001b[0m\u001b[0;34m,\u001b[0m \u001b[0;34m\"values\"\u001b[0m\u001b[0;34m:\u001b[0m \u001b[0;34m[\u001b[0m\u001b[0;36m1\u001b[0m\u001b[0;34m]\u001b[0m\u001b[0;34m,\u001b[0m \u001b[0;34m\"value\"\u001b[0m\u001b[0;34m:\u001b[0m \u001b[0;36m1\u001b[0m\u001b[0;34m}\u001b[0m\u001b[0;34m,\u001b[0m \u001b[0;34m{\u001b[0m\u001b[0;34m\"name\"\u001b[0m\u001b[0;34m:\u001b[0m \u001b[0;34m\"sample_difficulty_every_n_visits\"\u001b[0m\u001b[0;34m,\u001b[0m \u001b[0;34m\"type\"\u001b[0m\u001b[0;34m:\u001b[0m \u001b[0;34m\"dataparam\"\u001b[0m\u001b[0;34m,\u001b[0m \u001b[0;34m\"values\"\u001b[0m\u001b[0;34m:\u001b[0m \u001b[0;34m[\u001b[0m\u001b[0;36m1\u001b[0m\u001b[0;34m]\u001b[0m\u001b[0;34m,\u001b[0m \u001b[0;34m\"value\"\u001b[0m\u001b[0;34m:\u001b[0m \u001b[0;36m1\u001b[0m\u001b[0;34m}\u001b[0m\u001b[0;34m,\u001b[0m \u001b[0;34m{\u001b[0m\u001b[0;34m\"name\"\u001b[0m\u001b[0;34m:\u001b[0m \u001b[0;34m\"disable_prior_visit_history\"\u001b[0m\u001b[0;34m,\u001b[0m \u001b[0;34m\"type\"\u001b[0m\u001b[0;34m:\u001b[0m \u001b[0;34m\"dataparam\"\u001b[0m\u001b[0;34m,\u001b[0m \u001b[0;34m\"values\"\u001b[0m\u001b[0;34m:\u001b[0m \u001b[0;34m[\u001b[0m\u001b[0mfalse\u001b[0m\u001b[0;34m,\u001b[0m \u001b[0mtrue\u001b[0m\u001b[0;34m]\u001b[0m\u001b[0;34m,\u001b[0m \u001b[0;34m\"value\"\u001b[0m\u001b[0;34m:\u001b[0m \u001b[0mfalse\u001b[0m\u001b[0;34m}\u001b[0m\u001b[0;34m,\u001b[0m \u001b[0;34m{\u001b[0m\u001b[0;34m\"name\"\u001b[0m\u001b[0;34m:\u001b[0m \u001b[0;34m\"disable_difficulty_history\"\u001b[0m\u001b[0;34m,\u001b[0m \u001b[0;34m\"type\"\u001b[0m\u001b[0;34m:\u001b[0m \u001b[0;34m\"dataparam\"\u001b[0m\u001b[0;34m,\u001b[0m \u001b[0;34m\"values\"\u001b[0m\u001b[0;34m:\u001b[0m \u001b[0;34m[\u001b[0m\u001b[0mfalse\u001b[0m\u001b[0;34m,\u001b[0m \u001b[0mtrue\u001b[0m\u001b[0;34m]\u001b[0m\u001b[0;34m,\u001b[0m \u001b[0;34m\"value\"\u001b[0m\u001b[0;34m:\u001b[0m \u001b[0mfalse\u001b[0m\u001b[0;34m}\u001b[0m\u001b[0;34m,\u001b[0m \u001b[0;34m{\u001b[0m\u001b[0;34m\"name\"\u001b[0m\u001b[0;34m:\u001b[0m \u001b[0;34m\"enable_current_difficulty\"\u001b[0m\u001b[0;34m,\u001b[0m \u001b[0;34m\"type\"\u001b[0m\u001b[0;34m:\u001b[0m \u001b[0;34m\"dataparam\"\u001b[0m\u001b[0;34m,\u001b[0m \u001b[0;34m\"values\"\u001b[0m\u001b[0;34m:\u001b[0m \u001b[0;34m[\u001b[0m\u001b[0mfalse\u001b[0m\u001b[0;34m,\u001b[0m \u001b[0mtrue\u001b[0m\u001b[0;34m]\u001b[0m\u001b[0;34m,\u001b[0m \u001b[0;34m\"value\"\u001b[0m\u001b[0;34m:\u001b[0m \u001b[0mfalse\u001b[0m\u001b[0;34m}\u001b[0m\u001b[0;34m,\u001b[0m \u001b[0;34m{\u001b[0m\u001b[0;34m\"name\"\u001b[0m\u001b[0;34m:\u001b[0m \u001b[0;34m\"num_features\"\u001b[0m\u001b[0;34m,\u001b[0m \u001b[0;34m\"type\"\u001b[0m\u001b[0;34m:\u001b[0m \u001b[0;34m\"model\"\u001b[0m\u001b[0;34m,\u001b[0m \u001b[0;34m\"values\"\u001b[0m\u001b[0;34m:\u001b[0m \u001b[0;34m[\u001b[0m\u001b[0;36m277\u001b[0m\u001b[0;34m]\u001b[0m\u001b[0;34m,\u001b[0m \u001b[0;34m\"value\"\u001b[0m\u001b[0;34m:\u001b[0m \u001b[0;36m277\u001b[0m\u001b[0;34m}\u001b[0m\u001b[0;34m]\u001b[0m\u001b[0;34m\u001b[0m\u001b[0;34m\u001b[0m\u001b[0m\n\u001b[0m\u001b[1;32m      3\u001b[0m \u001b[0;34m\u001b[0m\u001b[0m\n\u001b[1;32m      4\u001b[0m \u001b[0;34m@\u001b[0m\u001b[0mmsgpackmemo\u001b[0m\u001b[0;34m\u001b[0m\u001b[0;34m\u001b[0m\u001b[0m\n\u001b[1;32m      5\u001b[0m \u001b[0;32mdef\u001b[0m \u001b[0mget_default_train_dev_test_data\u001b[0m\u001b[0;34m(\u001b[0m\u001b[0;34m)\u001b[0m\u001b[0;34m:\u001b[0m\u001b[0;34m\u001b[0m\u001b[0;34m\u001b[0m\u001b[0m\n",
      "\u001b[0;31mNameError\u001b[0m: name 'true' is not defined"
     ]
    }
   ],
   "source": [
    "# noexport\n",
    "\n",
    "main()"
   ]
  },
  {
   "cell_type": "code",
   "execution_count": null,
   "metadata": {},
   "outputs": [],
   "source": [
    "# noexport\n",
    "\n",
    "import plotly.graph_objs as go\n",
    "from plotly.offline import download_plotlyjs, init_notebook_mode, plot, iplot\n",
    "\n",
    "baseline_name_and_correctness : List[Tuple[str, float]] = []\n",
    "for baseline_name in get_baseline_names():\n",
    "  results = get_evaluation_results_for_named_baseline_v4(baseline_name)\n",
    "  correctness : float = float(results['dev_correct'] / results['dev_total'])\n",
    "  baseline_name_and_correctness.append((baseline_name, correctness))\n",
    "\n",
    "print(baseline_name_and_correctness)"
   ]
  },
  {
   "cell_type": "code",
   "execution_count": null,
   "metadata": {},
   "outputs": [],
   "source": [
    "# scatterplot = []\n",
    "# for sample_every_n_visits in range(1, 200):\n",
    "#   results = get_evaluation_results_for_sample_every_n_visits_v3(sample_every_n_visits)\n",
    "#   scatterplot.append([sample_every_n_visits, results['dev_correct'] / results['dev_total']])\n",
    "\n",
    "\n",
    "\n",
    "\n",
    "# # Create a trace\n",
    "# trace = go.Scatter(\n",
    "#     x = [x[0] for x in scatterplot],\n",
    "#     y = [x[1] for x in scatterplot],\n",
    "#     mode = 'markers'\n",
    "# )\n",
    "\n",
    "# data = [trace]\n",
    "\n",
    "# # Plot and embed in ipython notebook!\n",
    "# iplot(data)\n"
   ]
  },
  {
   "cell_type": "code",
   "execution_count": null,
   "metadata": {},
   "outputs": [],
   "source": [
    "# noexport\n",
    "\n",
    "scatterplot = []\n",
    "for n_seconds in range(1, 60*60*24*7, 60): # 60*60*24*60\n",
    "  results = get_evaluation_results_for_sample_every_n_seconds_v2(n_seconds)\n",
    "  scatterplot.append([n_seconds / 3600, results['dev_correct'] / results['dev_total']])\n",
    "\n",
    "\n",
    "\n",
    "\n",
    "# Create a trace\n",
    "trace = go.Scatter(\n",
    "    x = [x[0] for x in scatterplot],\n",
    "    y = [x[1] for x in scatterplot],\n",
    "    mode = 'markers'\n",
    ")\n",
    "\n",
    "data = [trace]\n",
    "\n",
    "# Plot and embed in ipython notebook!\n",
    "iplot(data)\n"
   ]
  }
 ],
 "metadata": {
  "kernelspec": {
   "display_name": "Python 3",
   "language": "python",
   "name": "python3"
  },
  "language_info": {
   "codemirror_mode": {
    "name": "ipython",
    "version": 3
   },
   "file_extension": ".py",
   "mimetype": "text/x-python",
   "name": "python",
   "nbconvert_exporter": "python",
   "pygments_lexer": "ipython3",
   "version": "3.7.2"
  }
 },
 "nbformat": 4,
 "nbformat_minor": 2
}
