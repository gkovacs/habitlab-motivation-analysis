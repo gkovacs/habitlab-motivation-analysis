{
 "cells": [
  {
   "cell_type": "code",
   "execution_count": 9,
   "metadata": {},
   "outputs": [],
   "source": [
    "import torch\n",
    "from importlib import reload"
   ]
  },
  {
   "cell_type": "code",
   "execution_count": 47,
   "metadata": {},
   "outputs": [
    {
     "data": {
      "text/html": [
       "<script type=\"text/javascript\">window.PlotlyConfig = {MathJaxConfig: 'local'};</script><script type=\"text/javascript\">if (window.MathJax) {MathJax.Hub.Config({SVG: {font: \"STIX-Web\"}});}</script><script>requirejs.config({paths: { 'plotly': ['https://cdn.plot.ly/plotly-latest.min']},});if(!window._Plotly) {require(['plotly'],function(plotly) {window._Plotly=plotly;});}</script>"
      ],
      "text/vnd.plotly.v1+html": [
       "<script type=\"text/javascript\">window.PlotlyConfig = {MathJaxConfig: 'local'};</script><script type=\"text/javascript\">if (window.MathJax) {MathJax.Hub.Config({SVG: {font: \"STIX-Web\"}});}</script><script>requirejs.config({paths: { 'plotly': ['https://cdn.plot.ly/plotly-latest.min']},});if(!window._Plotly) {require(['plotly'],function(plotly) {window._Plotly=plotly;});}</script>"
      ]
     },
     "metadata": {},
     "output_type": "display_data"
    }
   ],
   "source": [
    "import libmotivation\n",
    "reload(libmotivation)\n",
    "from libmotivation import *\n"
   ]
  },
  {
   "cell_type": "code",
   "execution_count": 3,
   "metadata": {},
   "outputs": [],
   "source": [
    "user_list = get_users_with_choose_difficulty()"
   ]
  },
  {
   "cell_type": "code",
   "execution_count": 4,
   "metadata": {},
   "outputs": [],
   "source": [
    "user_to_difficulty_items = {}\n",
    "for user in user_list:\n",
    "  user_to_difficulty_items[user] = get_choose_difficulty_items_for_user(user)"
   ]
  },
  {
   "cell_type": "code",
   "execution_count": 6,
   "metadata": {},
   "outputs": [
    {
     "name": "stdout",
     "output_type": "stream",
     "text": [
      "{'_id': ObjectId('5c104667c6466e0014e3a47f'), 'url': 'https://www.facebook.com/', 'tab_id': 279, 'session_id': 0, 'is_new_session': True, 'is_preview_mode': False, 'is_suggestion_mode': False, 'is_previously_seen': False, 'type': 'impression', 'intervention': 'internal/choose_difficulty', 'userid': '8d2c9eb27dee2dc85bca705b', 'install_id': '70870c04da0d5fee89b69c40', 'day': 1075, 'synced': 0, 'timestamp': 1544570471554.0, 'localtime': 'Tue Dec 11 2018 23:57:49 GMT+0100 (Central European Standard Time)', 'itemid': 'a8b4d51da34a71ebb1b33824', 'log_major_ver': '8', 'log_minor_ver': '1', 'habitlab_version': '1.0.258', 'id': 1, 'logname': 'internal/choose_difficulty', 'timestamp_local': 1544569069091.0}\n"
     ]
    }
   ],
   "source": [
    "for user in user_list:\n",
    "  difficulty_items = user_to_difficulty_items[user]\n",
    "  if len(difficulty_items) > 0:\n",
    "    print(difficulty_items[0])\n",
    "    break\n"
   ]
  },
  {
   "cell_type": "code",
   "execution_count": 16,
   "metadata": {},
   "outputs": [
    {
     "name": "stdout",
     "output_type": "stream",
     "text": [
      "nothing\n"
     ]
    }
   ],
   "source": [
    "print(get_most_common_difficulty_for_user('8d2c9eb27dee2dc85bca705b'))"
   ]
  },
  {
   "cell_type": "code",
   "execution_count": 36,
   "metadata": {},
   "outputs": [
    {
     "name": "stdout",
     "output_type": "stream",
     "text": [
      "nothing\n"
     ]
    }
   ],
   "source": [
    "print(get_most_common_difficulty_overall())"
   ]
  },
  {
   "cell_type": "code",
   "execution_count": 45,
   "metadata": {},
   "outputs": [],
   "source": [
    "def get_correctness_of_naive_overall_strategy(user):\n",
    "  output = {'correct': 0, 'incorrect': 0}\n",
    "  difficulty_counts = get_choose_difficulty_counts_for_user(user)\n",
    "  most_common = get_most_common_difficulty_overall()\n",
    "  if most_common == None:\n",
    "    return None\n",
    "  output['total'] = sum(difficulty_counts.values())\n",
    "  if output['total'] == 0:\n",
    "    return None\n",
    "  output['correct'] = difficulty_counts.get(most_common, 0)\n",
    "  output['incorrect'] = output['total'] - output['correct']\n",
    "  output['accuracy'] = output['correct'] / output['total']\n",
    "  return output"
   ]
  },
  {
   "cell_type": "code",
   "execution_count": 24,
   "metadata": {},
   "outputs": [],
   "source": [
    "def get_correctness_of_naive_peruser_strategy(user):\n",
    "  output = {'correct': 0, 'incorrect': 0}\n",
    "  difficulty_counts = get_choose_difficulty_counts_for_user(user)\n",
    "  most_common = get_most_common_difficulty_for_user(user)\n",
    "  if most_common == None:\n",
    "    return None\n",
    "  output['correct'] = difficulty_counts[most_common]\n",
    "  output['total'] = sum(difficulty_counts.values())\n",
    "  output['incorrect'] = output['total'] - output['correct']\n",
    "  output['accuracy'] = output['correct'] / output['total']\n",
    "  return output"
   ]
  },
  {
   "cell_type": "code",
   "execution_count": 25,
   "metadata": {},
   "outputs": [
    {
     "name": "stdout",
     "output_type": "stream",
     "text": [
      "0.6666666666666666\n",
      "0.7035437782954957\n"
     ]
    }
   ],
   "source": [
    "correctnes_of_naive_per_user = []\n",
    "for user in user_list:\n",
    "  correctness_info = get_correctness_of_naive_peruser_strategy(user)\n",
    "  if correctness_info == None:\n",
    "    continue\n",
    "  accuracy = correctness_info['accuracy']\n",
    "  correctnes_of_naive_per_user.append(accuracy)\n",
    "\n",
    "print(np.median(correctnes_of_naive_per_user))\n",
    "print(np.mean(correctnes_of_naive_per_user))"
   ]
  },
  {
   "cell_type": "code",
   "execution_count": 48,
   "metadata": {},
   "outputs": [
    {
     "name": "stdout",
     "output_type": "stream",
     "text": [
      "0.3333333333333333\n",
      "0.4041840943289177\n"
     ]
    }
   ],
   "source": [
    "correctnes_of_naive_per_user = []\n",
    "for user in user_list:\n",
    "  correctness_info = get_correctness_of_naive_overall_strategy(user)\n",
    "  if correctness_info == None:\n",
    "    continue\n",
    "  accuracy = correctness_info['accuracy']\n",
    "  correctnes_of_naive_per_user.append(accuracy)\n",
    "\n",
    "print(np.median(correctnes_of_naive_per_user))\n",
    "print(np.mean(correctnes_of_naive_per_user))"
   ]
  },
  {
   "cell_type": "code",
   "execution_count": null,
   "metadata": {},
   "outputs": [],
   "source": []
  }
 ],
 "metadata": {
  "kernelspec": {
   "display_name": "Python 3",
   "language": "python",
   "name": "python3"
  },
  "language_info": {
   "codemirror_mode": {
    "name": "ipython",
    "version": 3
   },
   "file_extension": ".py",
   "mimetype": "text/x-python",
   "name": "python",
   "nbconvert_exporter": "python",
   "pygments_lexer": "ipython3",
   "version": "3.7.2"
  }
 },
 "nbformat": 4,
 "nbformat_minor": 2
}
