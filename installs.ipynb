{
 "cells": [
  {
   "cell_type": "code",
   "execution_count": 1,
   "metadata": {},
   "outputs": [
    {
     "name": "stdout",
     "output_type": "stream",
     "text": [
      "Created cache directory 2019_11_14\n",
      "Created cache directory 2019_11_14/get_collection_items\n",
      "Created cache directory 2019_11_14/get_all_install_ids_for_user\n",
      "Created cache directory 2019_11_14/get_is_user_unofficial\n"
     ]
    }
   ],
   "source": [
    "from browser_libs import get_collection_items\n",
    "import arrow\n"
   ]
  },
  {
   "cell_type": "code",
   "execution_count": 2,
   "metadata": {},
   "outputs": [
    {
     "name": "stdout",
     "output_type": "stream",
     "text": [
      "exception in msgpackmemo1arg for file 2019_11_14/get_collection_items/installs.msgpack\n",
      "[Errno 2] No such file or directory: '2019_11_14/get_collection_items/installs.msgpack'\n",
      "performing computation 2019_11_14/get_collection_items/installs.msgpack for arg installs\n",
      "done with computation 2019_11_14/get_collection_items/installs.msgpack\n"
     ]
    }
   ],
   "source": [
    "install_info_list = get_collection_items('installs')"
   ]
  },
  {
   "cell_type": "code",
   "execution_count": 5,
   "metadata": {},
   "outputs": [
    {
     "name": "stdout",
     "output_type": "stream",
     "text": [
      "1726\n",
      "354\n"
     ]
    }
   ],
   "source": [
    "num_installs_past_month = 0\n",
    "num_installs_past_week = 0\n",
    "for x in install_info_list:\n",
    "  days_since_install = (arrow.get() - arrow.get(int(x['timestamp'])/1000)).days\n",
    "  #print(days_since_install)\n",
    "  if days_since_install < 30:\n",
    "    num_installs_past_month += 1\n",
    "  if days_since_install < 7:\n",
    "    num_installs_past_week += 1\n",
    "print(num_installs_past_month)\n",
    "print(num_installs_past_week)"
   ]
  }
 ],
 "metadata": {
  "kernelspec": {
   "display_name": "Python 3.7",
   "language": "python",
   "name": "python3.7"
  },
  "language_info": {
   "codemirror_mode": {
    "name": "ipython",
    "version": 3
   },
   "file_extension": ".py",
   "mimetype": "text/x-python",
   "name": "python",
   "nbconvert_exporter": "python",
   "pygments_lexer": "ipython3",
   "version": "3.7.2"
  }
 },
 "nbformat": 4,
 "nbformat_minor": 2
}
