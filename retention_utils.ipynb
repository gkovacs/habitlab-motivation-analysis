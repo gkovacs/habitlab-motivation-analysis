{
 "cells": [
  {
   "cell_type": "code",
   "execution_count": 1,
   "metadata": {},
   "outputs": [],
   "source": [
    "# noexport\n",
    "\n",
    "!typech retention_utils.ipynb"
   ]
  },
  {
   "cell_type": "code",
   "execution_count": 2,
   "metadata": {},
   "outputs": [],
   "source": [
    "from r_utils import r, r_assign"
   ]
  },
  {
   "cell_type": "code",
   "execution_count": 3,
   "metadata": {},
   "outputs": [
    {
     "data": {
      "text/html": [
       "<script type=\"text/javascript\">window.PlotlyConfig = {MathJaxConfig: 'local'};</script><script type=\"text/javascript\">if (window.MathJax) {MathJax.Hub.Config({SVG: {font: \"STIX-Web\"}});}</script><script>requirejs.config({paths: { 'plotly': ['https://cdn.plot.ly/plotly-latest.min']},});if(!window._Plotly) {require(['plotly'],function(plotly) {window._Plotly=plotly;});}</script>"
      ],
      "text/vnd.plotly.v1+html": [
       "<script type=\"text/javascript\">window.PlotlyConfig = {MathJaxConfig: 'local'};</script><script type=\"text/javascript\">if (window.MathJax) {MathJax.Hub.Config({SVG: {font: \"STIX-Web\"}});}</script><script>requirejs.config({paths: { 'plotly': ['https://cdn.plot.ly/plotly-latest.min']},});if(!window._Plotly) {require(['plotly'],function(plotly) {window._Plotly=plotly;});}</script>"
      ]
     },
     "metadata": {},
     "output_type": "display_data"
    }
   ],
   "source": [
    "from train_utils import *"
   ]
  },
  {
   "cell_type": "code",
   "execution_count": 4,
   "metadata": {},
   "outputs": [],
   "source": [
    "@msgpackmemo\n",
    "def get_install_to_dates_active_list():\n",
    "  output = {}\n",
    "  for install,dates_active_set in get_install_to_dates_active_set().items():\n",
    "    dates_active_list = sorted(list(dates_active_set))\n",
    "    output[install] = dates_active_list\n",
    "  return output"
   ]
  },
  {
   "cell_type": "code",
   "execution_count": 5,
   "metadata": {},
   "outputs": [],
   "source": [
    "def get_install_to_dates_active_set():\n",
    "  install_active_dates = get_collection_items('install_active_dates')\n",
    "  output = {}\n",
    "  #weird_items = []\n",
    "  for item in install_active_dates:\n",
    "    if 'day' not in item or 'install' not in item:\n",
    "      #weird_items.append(item)\n",
    "      continue\n",
    "    day = item['day']\n",
    "    install = item['install']\n",
    "    if install not in output:\n",
    "      output[install] = set()\n",
    "    output[install].add(day)\n",
    "  #print(len(weird_items))\n",
    "  #print(weird_items[:100])\n",
    "  return output\n",
    "\n",
    "#print(user_active_dates[0])"
   ]
  },
  {
   "cell_type": "code",
   "execution_count": 6,
   "metadata": {},
   "outputs": [],
   "source": [
    "@msgpackmemo\n",
    "def get_user_to_dates_active_list():\n",
    "  output = {}\n",
    "  for user,dates_active_set in get_user_to_dates_active_set().items():\n",
    "    dates_active_list = sorted(list(dates_active_set))\n",
    "    output[user] = dates_active_list\n",
    "  return output"
   ]
  },
  {
   "cell_type": "code",
   "execution_count": 7,
   "metadata": {},
   "outputs": [],
   "source": [
    "def get_user_to_dates_active_set():\n",
    "  user_active_dates = get_collection_items('user_active_dates')\n",
    "  output = {}\n",
    "  #weird_items = []\n",
    "  for item in user_active_dates:\n",
    "    if 'day' not in item or 'user' not in item:\n",
    "      #weird_items.append(item)\n",
    "      continue\n",
    "    day = item['day']\n",
    "    user = item['user']\n",
    "    if user not in output:\n",
    "      output[user] = set()\n",
    "    output[user].add(day)\n",
    "  #print(len(weird_items))\n",
    "  #print(weird_items[:100])\n",
    "  return output\n",
    "\n",
    "#print(user_active_dates[0])"
   ]
  },
  {
   "cell_type": "code",
   "execution_count": 8,
   "metadata": {},
   "outputs": [],
   "source": [
    "def get_date_to_users_active_set():\n",
    "  output = {}\n",
    "  for user,dates_active_list in get_user_to_dates_active_list().items():\n",
    "    for date in dates_active_list:\n",
    "      if date not in output:\n",
    "        output[date] = set()\n",
    "      output[date].add(user)\n",
    "  return output"
   ]
  },
  {
   "cell_type": "code",
   "execution_count": 9,
   "metadata": {},
   "outputs": [],
   "source": [
    "@msgpackmemo\n",
    "def get_date_to_users_active_list():\n",
    "  output = {}\n",
    "  for date,users_active_set in get_date_to_users_active_set().items():\n",
    "    output[date] = sorted(list(users_active_set))\n",
    "  return output"
   ]
  },
  {
   "cell_type": "code",
   "execution_count": 10,
   "metadata": {},
   "outputs": [],
   "source": [
    "def get_date_to_installs_active_set():\n",
    "  output = {}\n",
    "  for install,dates_active_list in get_install_to_dates_active_list().items():\n",
    "    for date in dates_active_list:\n",
    "      if date not in output:\n",
    "        output[date] = set()\n",
    "      output[date].add(install)\n",
    "  return output"
   ]
  },
  {
   "cell_type": "code",
   "execution_count": 11,
   "metadata": {},
   "outputs": [],
   "source": [
    "@msgpackmemo\n",
    "def get_date_to_installs_active_list():\n",
    "  output = {}\n",
    "  for date,installs_active_set in get_date_to_installs_active_set().items():\n",
    "    output[date] = sorted(list(installs_active_set))\n",
    "  return output"
   ]
  },
  {
   "cell_type": "code",
   "execution_count": 12,
   "metadata": {},
   "outputs": [],
   "source": [
    "from datetime import datetime\n",
    "from dateutil import tz\n",
    "\n",
    "def get_epoch_start_arrowdate():\n",
    "  return arrow.get(datetime(2016, 1, 1)) #, tz.gettz('US/Pacific'))\n",
    "\n",
    "def convert_date_to_arrowdate(date):\n",
    "  year = int(date[0:4])\n",
    "  month = int(date[4:6])\n",
    "  day = int(date[6:8])\n",
    "  return arrow.get(datetime(year, month, day)) #, tz.gettz('US/Pacific'))\n",
    "\n",
    "def get_dump_date():\n",
    "  return sorted(list(get_date_to_users_active_list().keys()))[-1]\n",
    "\n",
    "def get_dump_arrowdate():\n",
    "  dump_date = get_dump_date()\n",
    "  return convert_date_to_arrowdate(dump_date)\n",
    "\n",
    "def get_dump_epoch():\n",
    "  dump_arrowdate = get_dump_arrowdate()\n",
    "  return convert_arrowdate_to_epoch(dump_arrowdate)\n",
    "\n",
    "def convert_arrowdate_to_epoch(arrowdate):\n",
    "  return (arrowdate - get_epoch_start_arrowdate()).days\n",
    "\n",
    "def convert_date_to_epoch(date):\n",
    "  arrowdate = convert_date_to_arrowdate(date)\n",
    "  return convert_arrowdate_to_epoch(arrowdate)"
   ]
  },
  {
   "cell_type": "code",
   "execution_count": 13,
   "metadata": {},
   "outputs": [],
   "source": [
    "@msgpackmemo\n",
    "def get_user_to_retention_info():\n",
    "  output = {}\n",
    "  dump_epoch = get_dump_epoch()\n",
    "  for user,dates_active in get_user_to_dates_active_list().items():\n",
    "    epochs_active = sorted([convert_date_to_epoch(x) for x in dates_active])\n",
    "    first_active = epochs_active[0]\n",
    "    last_active = epochs_active[-1]\n",
    "    days_alive = last_active - first_active\n",
    "    is_alive = (dump_epoch - last_active) <= 4\n",
    "    attritioned = not is_alive\n",
    "    output[user] = {'lifetime': days_alive, 'attritioned': attritioned}\n",
    "  return output"
   ]
  },
  {
   "cell_type": "code",
   "execution_count": 14,
   "metadata": {},
   "outputs": [],
   "source": [
    "@msgpackmemo\n",
    "def get_install_to_retention_info():\n",
    "  output = {}\n",
    "  dump_epoch = get_dump_epoch()\n",
    "  for install,dates_active in get_install_to_dates_active_list().items():\n",
    "    epochs_active = sorted([convert_date_to_epoch(x) for x in dates_active])\n",
    "    first_active = epochs_active[0]\n",
    "    last_active = epochs_active[-1]\n",
    "    days_alive = last_active - first_active\n",
    "    is_alive = (dump_epoch - last_active) <= 4\n",
    "    attritioned = not is_alive\n",
    "    output[install] = {'lifetime': days_alive, 'attritioned': attritioned}\n",
    "  return output"
   ]
  },
  {
   "cell_type": "code",
   "execution_count": null,
   "metadata": {},
   "outputs": [],
   "source": []
  },
  {
   "cell_type": "code",
   "execution_count": 15,
   "metadata": {},
   "outputs": [],
   "source": [
    "def to_dataframe(list_of_dict):\n",
    "  columns = list(list_of_dict[0].keys())\n",
    "  d = {}\n",
    "  for column in columns:\n",
    "    d[column] = []\n",
    "    for item in list_of_dict:\n",
    "      d[column].append(item[column])\n",
    "  return pd.DataFrame(d)\n"
   ]
  },
  {
   "cell_type": "code",
   "execution_count": 16,
   "metadata": {},
   "outputs": [],
   "source": [
    "def get_all_user_retentions_dataframe():\n",
    "  user_retentions = []\n",
    "  for user,retention_info in get_user_to_retention_info().items():\n",
    "    user_retentions.append(retention_info)\n",
    "  return to_dataframe(user_retentions)"
   ]
  },
  {
   "cell_type": "code",
   "execution_count": 17,
   "metadata": {},
   "outputs": [],
   "source": [
    "def get_retention_info_for_groups_to_installs(group_to_installs, category_name):\n",
    "  output = []\n",
    "  install_to_retention_info = get_install_to_retention_info()\n",
    "  for group,install_list in group_to_installs.items():\n",
    "    for install in install_list:\n",
    "      if get_is_install_unofficial(install):\n",
    "        continue\n",
    "      retention_info = install_to_retention_info[install]\n",
    "      output.append({\n",
    "        'lifetime': retention_info['lifetime'],\n",
    "        'attritioned': retention_info['attritioned'],\n",
    "        category_name: group,\n",
    "      }) \n",
    "  return to_dataframe(output)"
   ]
  },
  {
   "cell_type": "code",
   "execution_count": 18,
   "metadata": {},
   "outputs": [],
   "source": [
    "def get_retention_info_for_groups_to_users(group_to_users, category_name):\n",
    "  output = []\n",
    "  user_to_retention_info = get_user_to_retention_info()\n",
    "  for group,user_list in group_to_users.items():\n",
    "    for user in user_list:\n",
    "      if get_is_user_unofficial(user):\n",
    "        continue\n",
    "      retention_info = user_to_retention_info[user]\n",
    "      output.append({\n",
    "        'lifetime': retention_info['lifetime'],\n",
    "        'attritioned': retention_info['attritioned'],\n",
    "        category_name: group,\n",
    "      }) \n",
    "  return to_dataframe(output)"
   ]
  },
  {
   "cell_type": "code",
   "execution_count": 19,
   "metadata": {},
   "outputs": [],
   "source": [
    "def get_retention_info_by_frequency_of_choose_difficulty_by_install():\n",
    "  condition_to_installs = get_conditions_to_install_list_in_abtest('frequency_of_choose_difficulty', ['0.0', '0.25', '0.5', '1.0'])\n",
    "  return get_retention_info_for_groups_to_installs(condition_to_installs, 'frequency_of_choose_difficulty')"
   ]
  },
  {
   "cell_type": "code",
   "execution_count": 20,
   "metadata": {},
   "outputs": [],
   "source": [
    "def get_retention_info_by_frequency_of_choose_difficulty_by_user():\n",
    "  condition_to_users = get_conditions_to_user_list_in_abtest('frequency_of_choose_difficulty', ['0.0', '0.25', '0.5', '1.0'])\n",
    "  return get_retention_info_for_groups_to_users(condition_to_users, 'frequency_of_choose_difficulty')"
   ]
  },
  {
   "cell_type": "code",
   "execution_count": 21,
   "metadata": {},
   "outputs": [],
   "source": [
    "# def get_retention_info_by_frequency_of_choose_difficulty_by_install():\n",
    "#   output = []\n",
    "#   install_list = get_installs_with_choose_difficulty()\n",
    "#   install_to_retention_info = get_install_to_retention_info()\n",
    "#   for install in install_list:\n",
    "#     if get_is_install_unofficial(install):\n",
    "#       continue\n",
    "#     abtest_settings = get_abtest_settings_for_install(install)\n",
    "#     frequency_of_choose_difficulty = abtest_settings.get('frequency_of_choose_difficulty')\n",
    "#     if frequency_of_choose_difficulty == None:\n",
    "#       continue\n",
    "#     conditions = get_abtest_experiment_conditions_for_install(install).get('frequency_of_choose_difficulty')\n",
    "#     if conditions != ['0.0', '0.25', '0.5', '1.0']:\n",
    "#       continue\n",
    "#     retention_info = install_to_retention_info[install]\n",
    "#     output.append({\n",
    "#       'lifetime': retention_info['lifetime'],\n",
    "#       'attritioned': retention_info['attritioned'],\n",
    "#       'frequency_of_choose_difficulty': frequency_of_choose_difficulty,\n",
    "#     })\n",
    "#   return to_dataframe(output)"
   ]
  },
  {
   "cell_type": "code",
   "execution_count": null,
   "metadata": {
    "scrolled": true
   },
   "outputs": [],
   "source": []
  },
  {
   "cell_type": "code",
   "execution_count": 22,
   "metadata": {},
   "outputs": [],
   "source": [
    "# def get_retention_info_by_frequency_of_choose_difficulty():\n",
    "#   output = []\n",
    "#   user_list = get_users_with_choose_difficulty()\n",
    "#   user_to_retention_info = get_user_to_retention_info()\n",
    "#   for user in user_list:\n",
    "#     if get_is_user_unofficial(user):\n",
    "#       continue\n",
    "#     abtest_settings = get_abtest_settings(user)\n",
    "#     frequency_of_choose_difficulty = abtest_settings.get('frequency_of_choose_difficulty')\n",
    "#     if frequency_of_choose_difficulty == None:\n",
    "#       continue\n",
    "#     conditions = get_abtest_experiment_conditions(user).get('frequency_of_choose_difficulty')\n",
    "#     if conditions != ['0.0', '0.25', '0.5', '1.0']:\n",
    "#       continue\n",
    "#     retention_info = user_to_retention_info[user]\n",
    "#     output.append({\n",
    "#       'lifetime': retention_info['lifetime'],\n",
    "#       'attritioned': retention_info['attritioned'],\n",
    "#       'frequency_of_choose_difficulty': frequency_of_choose_difficulty,\n",
    "#     })\n",
    "#   return to_dataframe(output)"
   ]
  },
  {
   "cell_type": "code",
   "execution_count": 23,
   "metadata": {},
   "outputs": [],
   "source": [
    "def plot_attrition(pandas_df, varname):\n",
    "  r_assign('plot_attrition_df', pandas_df)\n",
    "  r(f\"\"\"\n",
    "  plot_attrition_df$lifetime <- as.numeric(plot_attrition_df$lifetime)\n",
    "  plot_attrition_df$attritioned <- as.logical(plot_attrition_df$attritioned)\n",
    "  plot_attrition_df${varname} <- as.factor(plot_attrition_df${varname})\n",
    "  library(\"survival\")\n",
    "  library(\"survminer\")\n",
    "  fit <- survfit(Surv(lifetime, attritioned) ~ {varname}, data=plot_attrition_df)\n",
    "  summary(fit)\n",
    "  ggsurvplot(fit,\n",
    "    pval = TRUE, conf.int = TRUE,\n",
    "    risk.table = TRUE, # Add risk table\n",
    "    risk.table.col = \"strata\", # Change risk table color by groups\n",
    "    linetype = \"strata\", # Change line type by groups\n",
    "    surv.median.line = \"hv\", # Specify median survival\n",
    "    ggtheme = theme_bw(), # Change ggplot2 theme\n",
    "  )\n",
    "  \"\"\")\n",
    "#   r(f\"\"\"\n",
    "#   plot_attrition_df$lifetime <- as.numeric(plot_attrition_df$lifetime)\n",
    "#   plot_attrition_df$attritioned <- as.logical(plot_attrition_df$attritioned)\n",
    "#   plot_attrition_df${varname} <- as.factor(plot_attrition_df${varname})\n",
    "#   library(\"survival\")\n",
    "#   library(\"survminer\")\n",
    "#   fit <- survfit(Surv(lifetime, attritioned) ~ {varname}, data=plot_attrition_df)\n",
    "#   summary(fit)\n",
    "#   plot_attrition_func <- function() {{\n",
    "    \n",
    "#   }}\n",
    "#   \"\"\")\n",
    "#   %R -w 1000 print(plot_attrition_func())\n"
   ]
  },
  {
   "cell_type": "code",
   "execution_count": 24,
   "metadata": {},
   "outputs": [],
   "source": [
    "def make_attrition_plot_by_install_for_frequency_of_choose_difficulty():\n",
    "  plot_attrition(get_retention_info_by_frequency_of_choose_difficulty_by_install(), 'frequency_of_choose_difficulty')"
   ]
  },
  {
   "cell_type": "code",
   "execution_count": null,
   "metadata": {},
   "outputs": [
    {
     "name": "stdout",
     "output_type": "stream",
     "text": [
      "exception in msgpackmemo for file 2019_05_20/get_installs_with_choose_difficulty.msgpack\n",
      "[Errno 2] 没有那个文件或目录: '2019_05_20/get_installs_with_choose_difficulty.msgpack'\n"
     ]
    }
   ],
   "source": [
    "# noexport\n",
    "\n",
    "make_attrition_plot_by_install_for_frequency_of_choose_difficulty()"
   ]
  },
  {
   "cell_type": "code",
   "execution_count": null,
   "metadata": {},
   "outputs": [],
   "source": [
    "# noexport\n",
    "\n",
    "plot_attrition(get_retention_info_by_frequency_of_choose_difficulty_by_user(), 'frequency_of_choose_difficulty')"
   ]
  }
 ],
 "metadata": {
  "kernelspec": {
   "display_name": "Python 3",
   "language": "python",
   "name": "python3"
  },
  "language_info": {
   "codemirror_mode": {
    "name": "ipython",
    "version": 3
   },
   "file_extension": ".py",
   "mimetype": "text/x-python",
   "name": "python",
   "nbconvert_exporter": "python",
   "pygments_lexer": "ipython3",
   "version": "3.7.2"
  }
 },
 "nbformat": 4,
 "nbformat_minor": 2
}
