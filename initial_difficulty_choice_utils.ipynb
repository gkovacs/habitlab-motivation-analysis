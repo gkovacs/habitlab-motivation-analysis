{
 "cells": [
  {
   "cell_type": "code",
   "execution_count": 1,
   "metadata": {},
   "outputs": [
    {
     "name": "stdout",
     "output_type": "stream",
     "text": [
      "[NbConvertApp] Converting notebook initial_difficulty_choice_utils.ipynb to python\r\n"
     ]
    }
   ],
   "source": [
    "# noexport\n",
    "!typech initial_difficulty_choice_utils.ipynb"
   ]
  },
  {
   "cell_type": "code",
   "execution_count": 40,
   "metadata": {},
   "outputs": [],
   "source": [
    "from mkdata import *\n",
    "from plot_utils import *\n",
    "import itertools\n",
    "from scipy.stats import chi2_contingency"
   ]
  },
  {
   "cell_type": "code",
   "execution_count": 33,
   "metadata": {},
   "outputs": [],
   "source": [
    "def plot_initial_chosen_difficulties_per_user():\n",
    "  chosen_difficulties = Counter()\n",
    "  for user in get_users_with_choose_difficulty():\n",
    "    initial_difficulty = get_initial_difficulty_for_user(user)\n",
    "    if initial_difficulty is None:\n",
    "      continue\n",
    "    chosen_difficulties[initial_difficulty] += 1\n",
    "  print('sample size: ', sum(chosen_difficulties.values()))\n",
    "  print(chosen_difficulties)\n",
    "  plot_dict_as_bar(\n",
    "    chosen_difficulties,\n",
    "    title = 'Initial difficulty chosen during onboarding',\n",
    "    xlabel = 'Difficulty level',\n",
    "    ylabel = 'Number of users',\n",
    "  )"
   ]
  },
  {
   "cell_type": "code",
   "execution_count": 32,
   "metadata": {},
   "outputs": [],
   "source": [
    "def plot_initial_chosen_difficulties_per_install():\n",
    "  chosen_difficulties = Counter()\n",
    "  for install in get_installs_with_choose_difficulty():\n",
    "    initial_difficulty = get_initial_difficulty_for_install(install)\n",
    "    if initial_difficulty is None:\n",
    "      continue\n",
    "    chosen_difficulties[initial_difficulty] += 1\n",
    "  plot_dict_as_bar(\n",
    "    chosen_difficulties,\n",
    "    title = 'Initial difficulty chosen during onboarding',\n",
    "    xlabel = 'Difficulty level',\n",
    "    ylabel = 'Number of users',\n",
    "  )"
   ]
  },
  {
   "cell_type": "code",
   "execution_count": 47,
   "metadata": {},
   "outputs": [],
   "source": [
    "def plot_initial_chosen_difficulties_per_install_percent():\n",
    "  chosen_difficulties = Counter()\n",
    "  for install in get_installs_with_choose_difficulty():\n",
    "    initial_difficulty = get_initial_difficulty_for_install(install)\n",
    "    if initial_difficulty is None:\n",
    "      continue\n",
    "    chosen_difficulties[initial_difficulty] += 1\n",
    "  print('sample size: ', sum(chosen_difficulties.values()))\n",
    "  print(chosen_difficulties)\n",
    "  for pair in itertools.combinations(chosen_difficulties.keys(), 2):\n",
    "    counts1 = chosen_difficulties[pair[0]]\n",
    "    counts2 = chosen_difficulties[pair[1]]\n",
    "    counts_total = counts1 + counts2\n",
    "    print('')\n",
    "    print(pair)\n",
    "    print(chi2_contingency([[counts1, counts2], [counts_total, counts_total]]))\n",
    "    print('')\n",
    "  plot_dict_as_bar_percent(\n",
    "    chosen_difficulties,\n",
    "    title = 'Initial difficulty chosen during onboarding',\n",
    "    xlabel = 'Difficulty level',\n",
    "    ylabel = 'Fraction of users',\n",
    "  )"
   ]
  },
  {
   "cell_type": "code",
   "execution_count": 29,
   "metadata": {},
   "outputs": [
    {
     "name": "stdout",
     "output_type": "stream",
     "text": [
      "sample size:  5929\n",
      "Counter({'easy': 2207, 'medium': 1578, None: 885, 'hard': 685, 'nothing': 574})\n"
     ]
    },
    {
     "data": {
      "application/vnd.plotly.v1+json": {
       "config": {
        "linkText": "Export to plot.ly",
        "plotlyServerURL": "https://plot.ly",
        "showLink": false
       },
       "data": [
        {
         "type": "bar",
         "uid": "2fbc90fe-81f6-4bbe-8a20-3e214e20fc17",
         "x": [
          "easy",
          "medium",
          null,
          "hard",
          "nothing"
         ],
         "y": [
          2207,
          1578,
          885,
          685,
          574
         ]
        }
       ],
       "layout": {
        "title": {
         "text": "Initial difficulty chosen during onboarding"
        },
        "xaxis": {
         "title": {
          "text": "Difficulty level"
         }
        },
        "yaxis": {
         "title": {
          "text": "Number of users"
         }
        }
       }
      },
      "text/html": [
       "<div id=\"517453bb-da74-4566-9106-5ca988c664e0\" style=\"height: 525px; width: 100%;\" class=\"plotly-graph-div\"></div><script type=\"text/javascript\">require([\"plotly\"], function(Plotly) { window.PLOTLYENV=window.PLOTLYENV || {};window.PLOTLYENV.BASE_URL=\"https://plot.ly\";Plotly.newPlot(\"517453bb-da74-4566-9106-5ca988c664e0\", [{\"x\": [\"easy\", \"medium\", null, \"hard\", \"nothing\"], \"y\": [2207, 1578, 885, 685, 574], \"type\": \"bar\", \"uid\": \"2fbc90fe-81f6-4bbe-8a20-3e214e20fc17\"}], {\"title\": {\"text\": \"Initial difficulty chosen during onboarding\"}, \"xaxis\": {\"title\": {\"text\": \"Difficulty level\"}}, \"yaxis\": {\"title\": {\"text\": \"Number of users\"}}}, {\"showLink\": false, \"linkText\": \"Export to plot.ly\", \"plotlyServerURL\": \"https://plot.ly\"})});</script><script type=\"text/javascript\">window.addEventListener(\"resize\", function(){window._Plotly.Plots.resize(document.getElementById(\"517453bb-da74-4566-9106-5ca988c664e0\"));});</script>"
      ],
      "text/vnd.plotly.v1+html": [
       "<div id=\"517453bb-da74-4566-9106-5ca988c664e0\" style=\"height: 525px; width: 100%;\" class=\"plotly-graph-div\"></div><script type=\"text/javascript\">require([\"plotly\"], function(Plotly) { window.PLOTLYENV=window.PLOTLYENV || {};window.PLOTLYENV.BASE_URL=\"https://plot.ly\";Plotly.newPlot(\"517453bb-da74-4566-9106-5ca988c664e0\", [{\"x\": [\"easy\", \"medium\", null, \"hard\", \"nothing\"], \"y\": [2207, 1578, 885, 685, 574], \"type\": \"bar\", \"uid\": \"2fbc90fe-81f6-4bbe-8a20-3e214e20fc17\"}], {\"title\": {\"text\": \"Initial difficulty chosen during onboarding\"}, \"xaxis\": {\"title\": {\"text\": \"Difficulty level\"}}, \"yaxis\": {\"title\": {\"text\": \"Number of users\"}}}, {\"showLink\": false, \"linkText\": \"Export to plot.ly\", \"plotlyServerURL\": \"https://plot.ly\"})});</script><script type=\"text/javascript\">window.addEventListener(\"resize\", function(){window._Plotly.Plots.resize(document.getElementById(\"517453bb-da74-4566-9106-5ca988c664e0\"));});</script>"
      ]
     },
     "metadata": {},
     "output_type": "display_data"
    }
   ],
   "source": [
    "# noexport\n",
    "\n",
    "plot_initial_chosen_difficulties_per_user()"
   ]
  },
  {
   "cell_type": "code",
   "execution_count": 7,
   "metadata": {},
   "outputs": [
    {
     "data": {
      "application/vnd.plotly.v1+json": {
       "config": {
        "linkText": "Export to plot.ly",
        "plotlyServerURL": "https://plot.ly",
        "showLink": false
       },
       "data": [
        {
         "type": "bar",
         "uid": "4a65007e-4c09-4fe7-b1ce-c92eb7b81831",
         "x": [
          null,
          "easy",
          "medium",
          "hard",
          "nothing"
         ],
         "y": [
          2348,
          2308,
          1663,
          691,
          452
         ]
        }
       ],
       "layout": {
        "title": {
         "text": "Initial difficulty chosen during onboarding"
        },
        "xaxis": {
         "title": {
          "text": "Difficulty level"
         }
        },
        "yaxis": {
         "title": {
          "text": "Number of users"
         }
        }
       }
      },
      "text/html": [
       "<div id=\"ea1de767-512e-46a7-94e0-df40ab3d2388\" style=\"height: 525px; width: 100%;\" class=\"plotly-graph-div\"></div><script type=\"text/javascript\">require([\"plotly\"], function(Plotly) { window.PLOTLYENV=window.PLOTLYENV || {};window.PLOTLYENV.BASE_URL=\"https://plot.ly\";Plotly.newPlot(\"ea1de767-512e-46a7-94e0-df40ab3d2388\", [{\"x\": [null, \"easy\", \"medium\", \"hard\", \"nothing\"], \"y\": [2348, 2308, 1663, 691, 452], \"type\": \"bar\", \"uid\": \"4a65007e-4c09-4fe7-b1ce-c92eb7b81831\"}], {\"title\": {\"text\": \"Initial difficulty chosen during onboarding\"}, \"xaxis\": {\"title\": {\"text\": \"Difficulty level\"}}, \"yaxis\": {\"title\": {\"text\": \"Number of users\"}}}, {\"showLink\": false, \"linkText\": \"Export to plot.ly\", \"plotlyServerURL\": \"https://plot.ly\"})});</script><script type=\"text/javascript\">window.addEventListener(\"resize\", function(){window._Plotly.Plots.resize(document.getElementById(\"ea1de767-512e-46a7-94e0-df40ab3d2388\"));});</script>"
      ],
      "text/vnd.plotly.v1+html": [
       "<div id=\"ea1de767-512e-46a7-94e0-df40ab3d2388\" style=\"height: 525px; width: 100%;\" class=\"plotly-graph-div\"></div><script type=\"text/javascript\">require([\"plotly\"], function(Plotly) { window.PLOTLYENV=window.PLOTLYENV || {};window.PLOTLYENV.BASE_URL=\"https://plot.ly\";Plotly.newPlot(\"ea1de767-512e-46a7-94e0-df40ab3d2388\", [{\"x\": [null, \"easy\", \"medium\", \"hard\", \"nothing\"], \"y\": [2348, 2308, 1663, 691, 452], \"type\": \"bar\", \"uid\": \"4a65007e-4c09-4fe7-b1ce-c92eb7b81831\"}], {\"title\": {\"text\": \"Initial difficulty chosen during onboarding\"}, \"xaxis\": {\"title\": {\"text\": \"Difficulty level\"}}, \"yaxis\": {\"title\": {\"text\": \"Number of users\"}}}, {\"showLink\": false, \"linkText\": \"Export to plot.ly\", \"plotlyServerURL\": \"https://plot.ly\"})});</script><script type=\"text/javascript\">window.addEventListener(\"resize\", function(){window._Plotly.Plots.resize(document.getElementById(\"ea1de767-512e-46a7-94e0-df40ab3d2388\"));});</script>"
      ]
     },
     "metadata": {},
     "output_type": "display_data"
    }
   ],
   "source": [
    "# noexport\n",
    "\n",
    "plot_initial_chosen_difficulties_per_install()"
   ]
  },
  {
   "cell_type": "code",
   "execution_count": 48,
   "metadata": {},
   "outputs": [
    {
     "name": "stdout",
     "output_type": "stream",
     "text": [
      "sample size:  5114\n",
      "Counter({'easy': 2308, 'medium': 1663, 'hard': 691, 'nothing': 452})\n",
      "\n",
      "('medium', 'easy')\n",
      "(69.72377984045403, 6.821868832745772e-17, 1, array([[1878., 2093.],\n",
      "       [3756., 4186.]]))\n",
      "\n",
      "\n",
      "('medium', 'nothing')\n",
      "(478.548053317208, 4.422674847587749e-106, 1, array([[1259.33333333,  855.66666667],\n",
      "       [2518.66666667, 1711.33333333]]))\n",
      "\n",
      "\n",
      "('medium', 'hard')\n",
      "(271.89402778339837, 4.38651275742222e-61, 1, array([[1339., 1015.],\n",
      "       [2678., 2030.]]))\n",
      "\n",
      "\n",
      "('easy', 'nothing')\n",
      "(874.665252135097, 3.1577500596756178e-192, 1, array([[1689.33333333, 1070.66666667],\n",
      "       [3378.66666667, 2141.33333333]]))\n",
      "\n",
      "\n",
      "('easy', 'hard')\n",
      "(599.5234787119634, 2.1254273868186178e-132, 1, array([[1769., 1230.],\n",
      "       [3538., 2460.]]))\n",
      "\n",
      "\n",
      "('nothing', 'hard')\n",
      "(33.060140783801614, 8.93518026496934e-09, 1, array([[ 531.66666667,  611.33333333],\n",
      "       [1063.33333333, 1222.66666667]]))\n",
      "\n"
     ]
    },
    {
     "data": {
      "application/vnd.plotly.v1+json": {
       "config": {
        "linkText": "Export to plot.ly",
        "plotlyServerURL": "https://plot.ly",
        "showLink": false
       },
       "data": [
        {
         "type": "bar",
         "uid": "8422e32e-dd74-4aa5-9447-5b44b24b8f7c",
         "x": [
          "easy",
          "medium",
          "hard",
          "nothing"
         ],
         "y": [
          0.45131012905748924,
          0.325185764567853,
          0.13511928040672663,
          0.08838482596793117
         ]
        }
       ],
       "layout": {
        "title": {
         "text": "Initial difficulty chosen during onboarding"
        },
        "xaxis": {
         "title": {
          "text": "Difficulty level"
         }
        },
        "yaxis": {
         "title": {
          "text": "Fraction of users"
         }
        }
       }
      },
      "text/html": [
       "<div id=\"f726e1e5-07dc-4e2a-9d99-ca7e72e702c6\" style=\"height: 525px; width: 100%;\" class=\"plotly-graph-div\"></div><script type=\"text/javascript\">require([\"plotly\"], function(Plotly) { window.PLOTLYENV=window.PLOTLYENV || {};window.PLOTLYENV.BASE_URL=\"https://plot.ly\";Plotly.newPlot(\"f726e1e5-07dc-4e2a-9d99-ca7e72e702c6\", [{\"x\": [\"easy\", \"medium\", \"hard\", \"nothing\"], \"y\": [0.45131012905748924, 0.325185764567853, 0.13511928040672663, 0.08838482596793117], \"type\": \"bar\", \"uid\": \"8422e32e-dd74-4aa5-9447-5b44b24b8f7c\"}], {\"title\": {\"text\": \"Initial difficulty chosen during onboarding\"}, \"xaxis\": {\"title\": {\"text\": \"Difficulty level\"}}, \"yaxis\": {\"title\": {\"text\": \"Fraction of users\"}}}, {\"showLink\": false, \"linkText\": \"Export to plot.ly\", \"plotlyServerURL\": \"https://plot.ly\"})});</script><script type=\"text/javascript\">window.addEventListener(\"resize\", function(){window._Plotly.Plots.resize(document.getElementById(\"f726e1e5-07dc-4e2a-9d99-ca7e72e702c6\"));});</script>"
      ],
      "text/vnd.plotly.v1+html": [
       "<div id=\"f726e1e5-07dc-4e2a-9d99-ca7e72e702c6\" style=\"height: 525px; width: 100%;\" class=\"plotly-graph-div\"></div><script type=\"text/javascript\">require([\"plotly\"], function(Plotly) { window.PLOTLYENV=window.PLOTLYENV || {};window.PLOTLYENV.BASE_URL=\"https://plot.ly\";Plotly.newPlot(\"f726e1e5-07dc-4e2a-9d99-ca7e72e702c6\", [{\"x\": [\"easy\", \"medium\", \"hard\", \"nothing\"], \"y\": [0.45131012905748924, 0.325185764567853, 0.13511928040672663, 0.08838482596793117], \"type\": \"bar\", \"uid\": \"8422e32e-dd74-4aa5-9447-5b44b24b8f7c\"}], {\"title\": {\"text\": \"Initial difficulty chosen during onboarding\"}, \"xaxis\": {\"title\": {\"text\": \"Difficulty level\"}}, \"yaxis\": {\"title\": {\"text\": \"Fraction of users\"}}}, {\"showLink\": false, \"linkText\": \"Export to plot.ly\", \"plotlyServerURL\": \"https://plot.ly\"})});</script><script type=\"text/javascript\">window.addEventListener(\"resize\", function(){window._Plotly.Plots.resize(document.getElementById(\"f726e1e5-07dc-4e2a-9d99-ca7e72e702c6\"));});</script>"
      ]
     },
     "metadata": {},
     "output_type": "display_data"
    }
   ],
   "source": [
    "# noexport\n",
    "\n",
    "plot_initial_chosen_difficulties_per_install_percent()"
   ]
  },
  {
   "cell_type": "code",
   "execution_count": 22,
   "metadata": {},
   "outputs": [
    {
     "data": {
      "text/plain": [
       "\n",
       "\t2-sample test for equality of proportions with continuity correction\n",
       "\n",
       "data:  c(70, 30) out of c(100, 100)\n",
       "X-squared = 30.42, df = 1, p-value = 3.479e-08\n",
       "alternative hypothesis: two.sided\n",
       "95 percent confidence interval:\n",
       " 0.2629798 0.5370202\n",
       "sample estimates:\n",
       "prop 1 prop 2 \n",
       "   0.7    0.3 \n",
       "\n"
      ]
     },
     "metadata": {},
     "output_type": "display_data"
    }
   ],
   "source": [
    "# from r_utils import r\n",
    "\n",
    "# # https://stackoverflow.com/questions/51469801/confidence-interval-for-a-chi-square-in-r\n",
    "# r('''\n",
    "# prop.test(x=c(70,30),n=c(100,100))\n",
    "# ''')\n"
   ]
  },
  {
   "cell_type": "code",
   "execution_count": 17,
   "metadata": {},
   "outputs": [
    {
     "name": "stdout",
     "output_type": "stream",
     "text": [
      "10.06052036199095\n",
      "0.0015148043539880544\n",
      "1\n",
      "[[ 56.66666667  43.33333333]\n",
      " [113.33333333  86.66666667]]\n"
     ]
    }
   ],
   "source": [
    "# \n",
    "\n",
    "# obs = np.array([[70, 30], [100, 100]])\n",
    "\n",
    "# chi2, p, dof, expected = chi2_contingency(obs)\n",
    "\n",
    "# print(chi2)\n",
    "# print(p)\n",
    "# print(dof)\n",
    "# print(expected)\n",
    "\n",
    "# # chosen_difficulties = Counter()\n",
    "# #   for install in get_installs_with_choose_difficulty():\n",
    "# #     initial_difficulty = get_initial_difficulty_for_install(install)\n",
    "# #     chosen_difficulties[initial_difficulty] += 1"
   ]
  }
 ],
 "metadata": {
  "kernelspec": {
   "display_name": "Python 3",
   "language": "python",
   "name": "python3"
  },
  "language_info": {
   "codemirror_mode": {
    "name": "ipython",
    "version": 3
   },
   "file_extension": ".py",
   "mimetype": "text/x-python",
   "name": "python",
   "nbconvert_exporter": "python",
   "pygments_lexer": "ipython3",
   "version": "3.7.2"
  }
 },
 "nbformat": 4,
 "nbformat_minor": 2
}
