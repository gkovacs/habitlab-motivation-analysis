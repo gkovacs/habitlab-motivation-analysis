{
 "cells": [
  {
   "cell_type": "code",
   "execution_count": 1,
   "metadata": {},
   "outputs": [
    {
     "name": "stdout",
     "output_type": "stream",
     "text": [
      "[NbConvertApp] Converting notebook initial_difficulty_choice_utils.ipynb to python\r\n"
     ]
    }
   ],
   "source": [
    "# noexport\n",
    "!typech initial_difficulty_choice_utils.ipynb"
   ]
  },
  {
   "cell_type": "code",
   "execution_count": 2,
   "metadata": {},
   "outputs": [
    {
     "data": {
      "text/html": [
       "<script type=\"text/javascript\">window.PlotlyConfig = {MathJaxConfig: 'local'};</script><script type=\"text/javascript\">if (window.MathJax) {MathJax.Hub.Config({SVG: {font: \"STIX-Web\"}});}</script><script>requirejs.config({paths: { 'plotly': ['https://cdn.plot.ly/plotly-latest.min']},});if(!window._Plotly) {require(['plotly'],function(plotly) {window._Plotly=plotly;});}</script>"
      ],
      "text/vnd.plotly.v1+html": [
       "<script type=\"text/javascript\">window.PlotlyConfig = {MathJaxConfig: 'local'};</script><script type=\"text/javascript\">if (window.MathJax) {MathJax.Hub.Config({SVG: {font: \"STIX-Web\"}});}</script><script>requirejs.config({paths: { 'plotly': ['https://cdn.plot.ly/plotly-latest.min']},});if(!window._Plotly) {require(['plotly'],function(plotly) {window._Plotly=plotly;});}</script>"
      ]
     },
     "metadata": {},
     "output_type": "display_data"
    },
    {
     "data": {
      "text/html": [
       "<script type=\"text/javascript\">window.PlotlyConfig = {MathJaxConfig: 'local'};</script><script type=\"text/javascript\">if (window.MathJax) {MathJax.Hub.Config({SVG: {font: \"STIX-Web\"}});}</script><script>requirejs.config({paths: { 'plotly': ['https://cdn.plot.ly/plotly-latest.min']},});if(!window._Plotly) {require(['plotly'],function(plotly) {window._Plotly=plotly;});}</script>"
      ],
      "text/vnd.plotly.v1+html": [
       "<script type=\"text/javascript\">window.PlotlyConfig = {MathJaxConfig: 'local'};</script><script type=\"text/javascript\">if (window.MathJax) {MathJax.Hub.Config({SVG: {font: \"STIX-Web\"}});}</script><script>requirejs.config({paths: { 'plotly': ['https://cdn.plot.ly/plotly-latest.min']},});if(!window._Plotly) {require(['plotly'],function(plotly) {window._Plotly=plotly;});}</script>"
      ]
     },
     "metadata": {},
     "output_type": "display_data"
    }
   ],
   "source": [
    "from mkdata import *\n",
    "from plot_utils import *\n",
    "import itertools\n",
    "from scipy.stats import chi2_contingency"
   ]
  },
  {
   "cell_type": "code",
   "execution_count": 3,
   "metadata": {},
   "outputs": [],
   "source": [
    "def plot_initial_chosen_difficulties_per_user():\n",
    "  chosen_difficulties = Counter()\n",
    "  for user in get_users_with_choose_difficulty():\n",
    "    initial_difficulty = get_initial_difficulty_for_user(user)\n",
    "    if initial_difficulty is None:\n",
    "      continue\n",
    "    chosen_difficulties[initial_difficulty] += 1\n",
    "  print('sample size: ', sum(chosen_difficulties.values()))\n",
    "  print(chosen_difficulties)\n",
    "  plot_dict_as_bar(\n",
    "    chosen_difficulties,\n",
    "    title = 'Initial difficulty chosen during onboarding',\n",
    "    xlabel = 'Difficulty level',\n",
    "    ylabel = 'Number of users',\n",
    "  )"
   ]
  },
  {
   "cell_type": "code",
   "execution_count": 13,
   "metadata": {},
   "outputs": [],
   "source": [
    "def plot_initial_chosen_difficulties_per_install():\n",
    "  chosen_difficulties = Counter()\n",
    "  for install in get_installs_with_choose_difficulty():\n",
    "    initial_difficulty = get_initial_difficulty_for_install(install)\n",
    "    if initial_difficulty is None:\n",
    "      continue\n",
    "    chosen_difficulties[initial_difficulty] += 1\n",
    "  plot_dict_as_bar(\n",
    "    chosen_difficulties,\n",
    "    title = 'Initial difficulty chosen during onboarding',\n",
    "    xlabel = 'Difficulty level',\n",
    "    ylabel = 'Number of users',\n",
    "    remap_labels = {'easy': 'Easy', 'medium': 'Medium', 'hard': 'Hard', 'nothing': 'Nothing'},\n",
    "    #font=dict(family='Courier New, monospace', size=18, color='#7f7f7f'),\n",
    "    font=dict(size=20),\n",
    "  )"
   ]
  },
  {
   "cell_type": "code",
   "execution_count": 16,
   "metadata": {},
   "outputs": [],
   "source": [
    "def plot_initial_chosen_difficulties_per_install_percent():\n",
    "  chosen_difficulties = Counter()\n",
    "  for install in get_installs_with_choose_difficulty():\n",
    "    initial_difficulty = get_initial_difficulty_for_install(install)\n",
    "    if initial_difficulty is None:\n",
    "      continue\n",
    "    chosen_difficulties[initial_difficulty] += 1\n",
    "  print('sample size: ', sum(chosen_difficulties.values()))\n",
    "  print(chosen_difficulties)\n",
    "  for pair in itertools.combinations(chosen_difficulties.keys(), 2):\n",
    "    counts1 = chosen_difficulties[pair[0]]\n",
    "    counts2 = chosen_difficulties[pair[1]]\n",
    "    counts_total = counts1 + counts2\n",
    "    print('')\n",
    "    print(pair)\n",
    "    print(chi2_contingency([[counts1, counts2], [counts_total, counts_total]]))\n",
    "    print('')\n",
    "  plot_dict_as_bar_percent(\n",
    "    chosen_difficulties,\n",
    "    title = 'Initial difficulty chosen during onboarding',\n",
    "    xlabel = 'Difficulty level',\n",
    "    ylabel = 'Percent of users',\n",
    "    remap_labels = {'easy': 'Easy', 'medium': 'Medium', 'hard': 'Hard', 'nothing': 'Nothing'},\n",
    "    font=dict(size=22),\n",
    "  )"
   ]
  },
  {
   "cell_type": "code",
   "execution_count": 6,
   "metadata": {},
   "outputs": [
    {
     "name": "stdout",
     "output_type": "stream",
     "text": [
      "sample size:  5962\n",
      "Counter({'easy': 2548, 'medium': 1816, 'hard': 853, 'nothing': 745})\n"
     ]
    },
    {
     "data": {
      "application/vnd.plotly.v1+json": {
       "config": {
        "linkText": "Export to plot.ly",
        "plotlyServerURL": "https://plot.ly",
        "showLink": false
       },
       "data": [
        {
         "type": "bar",
         "uid": "8d792a63-e984-4252-8d55-802d3a76752d",
         "x": [
          "easy",
          "medium",
          "hard",
          "nothing"
         ],
         "y": [
          2548,
          1816,
          853,
          745
         ]
        }
       ],
       "layout": {
        "title": {
         "text": "Initial difficulty chosen during onboarding"
        },
        "xaxis": {
         "title": {
          "text": "Difficulty level"
         }
        },
        "yaxis": {
         "title": {
          "text": "Number of users"
         }
        }
       }
      },
      "text/html": [
       "<div id=\"5b604386-7568-40ae-a2b9-3c4ac969639c\" style=\"height: 525px; width: 100%;\" class=\"plotly-graph-div\"></div><script type=\"text/javascript\">require([\"plotly\"], function(Plotly) { window.PLOTLYENV=window.PLOTLYENV || {};window.PLOTLYENV.BASE_URL=\"https://plot.ly\";Plotly.newPlot(\"5b604386-7568-40ae-a2b9-3c4ac969639c\", [{\"x\": [\"easy\", \"medium\", \"hard\", \"nothing\"], \"y\": [2548, 1816, 853, 745], \"type\": \"bar\", \"uid\": \"8d792a63-e984-4252-8d55-802d3a76752d\"}], {\"title\": {\"text\": \"Initial difficulty chosen during onboarding\"}, \"xaxis\": {\"title\": {\"text\": \"Difficulty level\"}}, \"yaxis\": {\"title\": {\"text\": \"Number of users\"}}}, {\"showLink\": false, \"linkText\": \"Export to plot.ly\", \"plotlyServerURL\": \"https://plot.ly\"})});</script><script type=\"text/javascript\">window.addEventListener(\"resize\", function(){window._Plotly.Plots.resize(document.getElementById(\"5b604386-7568-40ae-a2b9-3c4ac969639c\"));});</script>"
      ],
      "text/vnd.plotly.v1+html": [
       "<div id=\"5b604386-7568-40ae-a2b9-3c4ac969639c\" style=\"height: 525px; width: 100%;\" class=\"plotly-graph-div\"></div><script type=\"text/javascript\">require([\"plotly\"], function(Plotly) { window.PLOTLYENV=window.PLOTLYENV || {};window.PLOTLYENV.BASE_URL=\"https://plot.ly\";Plotly.newPlot(\"5b604386-7568-40ae-a2b9-3c4ac969639c\", [{\"x\": [\"easy\", \"medium\", \"hard\", \"nothing\"], \"y\": [2548, 1816, 853, 745], \"type\": \"bar\", \"uid\": \"8d792a63-e984-4252-8d55-802d3a76752d\"}], {\"title\": {\"text\": \"Initial difficulty chosen during onboarding\"}, \"xaxis\": {\"title\": {\"text\": \"Difficulty level\"}}, \"yaxis\": {\"title\": {\"text\": \"Number of users\"}}}, {\"showLink\": false, \"linkText\": \"Export to plot.ly\", \"plotlyServerURL\": \"https://plot.ly\"})});</script><script type=\"text/javascript\">window.addEventListener(\"resize\", function(){window._Plotly.Plots.resize(document.getElementById(\"5b604386-7568-40ae-a2b9-3c4ac969639c\"));});</script>"
      ]
     },
     "metadata": {},
     "output_type": "display_data"
    }
   ],
   "source": [
    "# noexport\n",
    "\n",
    "plot_initial_chosen_difficulties_per_user()"
   ]
  },
  {
   "cell_type": "code",
   "execution_count": 14,
   "metadata": {},
   "outputs": [
    {
     "data": {
      "application/vnd.plotly.v1+json": {
       "config": {
        "linkText": "Export to plot.ly",
        "plotlyServerURL": "https://plot.ly",
        "showLink": false
       },
       "data": [
        {
         "type": "bar",
         "uid": "c3299dbd-a839-491d-8a0f-ff930acf6186",
         "x": [
          "Easy",
          "Medium",
          "Hard",
          "Nothing"
         ],
         "y": [
          2724,
          1955,
          888,
          576
         ]
        }
       ],
       "layout": {
        "font": {
         "size": 20
        },
        "title": {
         "text": "Initial difficulty chosen during onboarding"
        },
        "xaxis": {
         "title": {
          "text": "Difficulty level"
         }
        },
        "yaxis": {
         "title": {
          "text": "Number of users"
         }
        }
       }
      },
      "text/html": [
       "<div id=\"9bc73949-e1e7-442a-999b-6232161e169f\" style=\"height: 525px; width: 100%;\" class=\"plotly-graph-div\"></div><script type=\"text/javascript\">require([\"plotly\"], function(Plotly) { window.PLOTLYENV=window.PLOTLYENV || {};window.PLOTLYENV.BASE_URL=\"https://plot.ly\";Plotly.newPlot(\"9bc73949-e1e7-442a-999b-6232161e169f\", [{\"x\": [\"Easy\", \"Medium\", \"Hard\", \"Nothing\"], \"y\": [2724, 1955, 888, 576], \"type\": \"bar\", \"uid\": \"c3299dbd-a839-491d-8a0f-ff930acf6186\"}], {\"font\": {\"size\": 20}, \"title\": {\"text\": \"Initial difficulty chosen during onboarding\"}, \"xaxis\": {\"title\": {\"text\": \"Difficulty level\"}}, \"yaxis\": {\"title\": {\"text\": \"Number of users\"}}}, {\"showLink\": false, \"linkText\": \"Export to plot.ly\", \"plotlyServerURL\": \"https://plot.ly\"})});</script><script type=\"text/javascript\">window.addEventListener(\"resize\", function(){window._Plotly.Plots.resize(document.getElementById(\"9bc73949-e1e7-442a-999b-6232161e169f\"));});</script>"
      ],
      "text/vnd.plotly.v1+html": [
       "<div id=\"9bc73949-e1e7-442a-999b-6232161e169f\" style=\"height: 525px; width: 100%;\" class=\"plotly-graph-div\"></div><script type=\"text/javascript\">require([\"plotly\"], function(Plotly) { window.PLOTLYENV=window.PLOTLYENV || {};window.PLOTLYENV.BASE_URL=\"https://plot.ly\";Plotly.newPlot(\"9bc73949-e1e7-442a-999b-6232161e169f\", [{\"x\": [\"Easy\", \"Medium\", \"Hard\", \"Nothing\"], \"y\": [2724, 1955, 888, 576], \"type\": \"bar\", \"uid\": \"c3299dbd-a839-491d-8a0f-ff930acf6186\"}], {\"font\": {\"size\": 20}, \"title\": {\"text\": \"Initial difficulty chosen during onboarding\"}, \"xaxis\": {\"title\": {\"text\": \"Difficulty level\"}}, \"yaxis\": {\"title\": {\"text\": \"Number of users\"}}}, {\"showLink\": false, \"linkText\": \"Export to plot.ly\", \"plotlyServerURL\": \"https://plot.ly\"})});</script><script type=\"text/javascript\">window.addEventListener(\"resize\", function(){window._Plotly.Plots.resize(document.getElementById(\"9bc73949-e1e7-442a-999b-6232161e169f\"));});</script>"
      ]
     },
     "metadata": {},
     "output_type": "display_data"
    }
   ],
   "source": [
    "# noexport\n",
    "\n",
    "plot_initial_chosen_difficulties_per_install()"
   ]
  },
  {
   "cell_type": "code",
   "execution_count": 17,
   "metadata": {},
   "outputs": [
    {
     "name": "stdout",
     "output_type": "stream",
     "text": [
      "sample size:  6143\n",
      "Counter({'easy': 2724, 'medium': 1955, 'hard': 888, 'nothing': 576})\n",
      "\n",
      "('medium', 'easy')\n",
      "(84.1817318196662, 4.51321725880312e-20, 1, array([[2211.33333333, 2467.66666667],\n",
      "       [4422.66666667, 4935.33333333]]))\n",
      "\n",
      "\n",
      "('medium', 'nothing')\n",
      "(516.8518757656226, 2.048622636830524e-114, 1, array([[1495.33333333, 1035.66666667],\n",
      "       [2990.66666667, 2071.33333333]]))\n",
      "\n",
      "\n",
      "('medium', 'hard')\n",
      "(270.45158697774434, 9.046657298384805e-61, 1, array([[1599.33333333, 1243.66666667],\n",
      "       [3198.66666667, 2487.33333333]]))\n",
      "\n",
      "\n",
      "('easy', 'nothing')\n",
      "(976.7833609447658, 1.9988748957663518e-214, 1, array([[2008., 1292.],\n",
      "       [4016., 2584.]]))\n",
      "\n",
      "\n",
      "('easy', 'hard')\n",
      "(639.5091321022728, 4.272643083315525e-141, 1, array([[2112., 1500.],\n",
      "       [4224., 3000.]]))\n",
      "\n",
      "\n",
      "('nothing', 'hard')\n",
      "(44.12533951080432, 3.0800779424653585e-11, 1, array([[ 680.,  784.],\n",
      "       [1360., 1568.]]))\n",
      "\n"
     ]
    },
    {
     "data": {
      "application/vnd.plotly.v1+json": {
       "config": {
        "linkText": "Export to plot.ly",
        "plotlyServerURL": "https://plot.ly",
        "showLink": false
       },
       "data": [
        {
         "type": "bar",
         "uid": "fdac727b-1dfd-487a-a5f8-5aa4c910438f",
         "x": [
          "Easy",
          "Medium",
          "Hard",
          "Nothing"
         ],
         "y": [
          44.34315481035325,
          31.824841282760865,
          14.455477779586522,
          9.376526127299366
         ]
        }
       ],
       "layout": {
        "font": {
         "size": 22
        },
        "title": {
         "text": "Initial difficulty chosen during onboarding"
        },
        "xaxis": {
         "title": {
          "text": "Difficulty level"
         }
        },
        "yaxis": {
         "title": {
          "text": "Percent of users"
         }
        }
       }
      },
      "text/html": [
       "<div id=\"75581854-40e5-4cd9-a94a-af4c2f2d0d9d\" style=\"height: 525px; width: 100%;\" class=\"plotly-graph-div\"></div><script type=\"text/javascript\">require([\"plotly\"], function(Plotly) { window.PLOTLYENV=window.PLOTLYENV || {};window.PLOTLYENV.BASE_URL=\"https://plot.ly\";Plotly.newPlot(\"75581854-40e5-4cd9-a94a-af4c2f2d0d9d\", [{\"x\": [\"Easy\", \"Medium\", \"Hard\", \"Nothing\"], \"y\": [44.34315481035325, 31.824841282760865, 14.455477779586522, 9.376526127299366], \"type\": \"bar\", \"uid\": \"fdac727b-1dfd-487a-a5f8-5aa4c910438f\"}], {\"font\": {\"size\": 22}, \"title\": {\"text\": \"Initial difficulty chosen during onboarding\"}, \"xaxis\": {\"title\": {\"text\": \"Difficulty level\"}}, \"yaxis\": {\"title\": {\"text\": \"Percent of users\"}}}, {\"showLink\": false, \"linkText\": \"Export to plot.ly\", \"plotlyServerURL\": \"https://plot.ly\"})});</script><script type=\"text/javascript\">window.addEventListener(\"resize\", function(){window._Plotly.Plots.resize(document.getElementById(\"75581854-40e5-4cd9-a94a-af4c2f2d0d9d\"));});</script>"
      ],
      "text/vnd.plotly.v1+html": [
       "<div id=\"75581854-40e5-4cd9-a94a-af4c2f2d0d9d\" style=\"height: 525px; width: 100%;\" class=\"plotly-graph-div\"></div><script type=\"text/javascript\">require([\"plotly\"], function(Plotly) { window.PLOTLYENV=window.PLOTLYENV || {};window.PLOTLYENV.BASE_URL=\"https://plot.ly\";Plotly.newPlot(\"75581854-40e5-4cd9-a94a-af4c2f2d0d9d\", [{\"x\": [\"Easy\", \"Medium\", \"Hard\", \"Nothing\"], \"y\": [44.34315481035325, 31.824841282760865, 14.455477779586522, 9.376526127299366], \"type\": \"bar\", \"uid\": \"fdac727b-1dfd-487a-a5f8-5aa4c910438f\"}], {\"font\": {\"size\": 22}, \"title\": {\"text\": \"Initial difficulty chosen during onboarding\"}, \"xaxis\": {\"title\": {\"text\": \"Difficulty level\"}}, \"yaxis\": {\"title\": {\"text\": \"Percent of users\"}}}, {\"showLink\": false, \"linkText\": \"Export to plot.ly\", \"plotlyServerURL\": \"https://plot.ly\"})});</script><script type=\"text/javascript\">window.addEventListener(\"resize\", function(){window._Plotly.Plots.resize(document.getElementById(\"75581854-40e5-4cd9-a94a-af4c2f2d0d9d\"));});</script>"
      ]
     },
     "metadata": {},
     "output_type": "display_data"
    }
   ],
   "source": [
    "# noexport\n",
    "\n",
    "plot_initial_chosen_difficulties_per_install_percent()"
   ]
  },
  {
   "cell_type": "code",
   "execution_count": 9,
   "metadata": {},
   "outputs": [],
   "source": [
    "# from r_utils import r\n",
    "\n",
    "# # https://stackoverflow.com/questions/51469801/confidence-interval-for-a-chi-square-in-r\n",
    "# r('''\n",
    "# prop.test(x=c(70,30),n=c(100,100))\n",
    "# ''')\n"
   ]
  },
  {
   "cell_type": "code",
   "execution_count": 10,
   "metadata": {},
   "outputs": [],
   "source": [
    "# \n",
    "\n",
    "# obs = np.array([[70, 30], [100, 100]])\n",
    "\n",
    "# chi2, p, dof, expected = chi2_contingency(obs)\n",
    "\n",
    "# print(chi2)\n",
    "# print(p)\n",
    "# print(dof)\n",
    "# print(expected)\n",
    "\n",
    "# # chosen_difficulties = Counter()\n",
    "# #   for install in get_installs_with_choose_difficulty():\n",
    "# #     initial_difficulty = get_initial_difficulty_for_install(install)\n",
    "# #     chosen_difficulties[initial_difficulty] += 1"
   ]
  }
 ],
 "metadata": {
  "kernelspec": {
   "display_name": "Python 3",
   "language": "python",
   "name": "python3"
  },
  "language_info": {
   "codemirror_mode": {
    "name": "ipython",
    "version": 3
   },
   "file_extension": ".py",
   "mimetype": "text/x-python",
   "name": "python",
   "nbconvert_exporter": "python",
   "pygments_lexer": "ipython3",
   "version": "3.7.2"
  }
 },
 "nbformat": 4,
 "nbformat_minor": 2
}
