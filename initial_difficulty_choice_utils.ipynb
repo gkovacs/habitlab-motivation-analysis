{
 "cells": [
  {
   "cell_type": "code",
   "execution_count": 1,
   "metadata": {},
   "outputs": [
    {
     "name": "stdout",
     "output_type": "stream",
     "text": [
      "[NbConvertApp] Converting notebook initial_difficulty_choice_utils.ipynb to python\r\n"
     ]
    }
   ],
   "source": [
    "# noexport\n",
    "!typech initial_difficulty_choice_utils.ipynb"
   ]
  },
  {
   "cell_type": "code",
   "execution_count": 2,
   "metadata": {},
   "outputs": [
    {
     "data": {
      "text/html": [
       "        <script type=\"text/javascript\">\n",
       "        window.PlotlyConfig = {MathJaxConfig: 'local'};\n",
       "        if (window.MathJax) {MathJax.Hub.Config({SVG: {font: \"STIX-Web\"}});}\n",
       "        if (typeof require !== 'undefined') {\n",
       "        require.undef(\"plotly\");\n",
       "        requirejs.config({\n",
       "            paths: {\n",
       "                'plotly': ['https://cdn.plot.ly/plotly-latest.min']\n",
       "            }\n",
       "        });\n",
       "        require(['plotly'], function(Plotly) {\n",
       "            window._Plotly = Plotly;\n",
       "        });\n",
       "        }\n",
       "        </script>\n",
       "        "
      ]
     },
     "metadata": {},
     "output_type": "display_data"
    },
    {
     "data": {
      "text/html": [
       "        <script type=\"text/javascript\">\n",
       "        window.PlotlyConfig = {MathJaxConfig: 'local'};\n",
       "        if (window.MathJax) {MathJax.Hub.Config({SVG: {font: \"STIX-Web\"}});}\n",
       "        if (typeof require !== 'undefined') {\n",
       "        require.undef(\"plotly\");\n",
       "        requirejs.config({\n",
       "            paths: {\n",
       "                'plotly': ['https://cdn.plot.ly/plotly-latest.min']\n",
       "            }\n",
       "        });\n",
       "        require(['plotly'], function(Plotly) {\n",
       "            window._Plotly = Plotly;\n",
       "        });\n",
       "        }\n",
       "        </script>\n",
       "        "
      ]
     },
     "metadata": {},
     "output_type": "display_data"
    }
   ],
   "source": [
    "from mkdata import *\n",
    "from plot_utils import *\n",
    "import itertools\n",
    "from scipy.stats import chi2_contingency"
   ]
  },
  {
   "cell_type": "code",
   "execution_count": 3,
   "metadata": {},
   "outputs": [],
   "source": [
    "def plot_initial_chosen_difficulties_per_user():\n",
    "  chosen_difficulties = Counter()\n",
    "  for user in get_users_with_choose_difficulty():\n",
    "    initial_difficulty = get_initial_difficulty_for_user(user)\n",
    "    if initial_difficulty is None:\n",
    "      continue\n",
    "    chosen_difficulties[initial_difficulty] += 1\n",
    "  print('sample size: ', sum(chosen_difficulties.values()))\n",
    "  print(chosen_difficulties)\n",
    "  plot_dict_as_bar(\n",
    "    chosen_difficulties,\n",
    "    title = 'Initial difficulty chosen during onboarding',\n",
    "    xlabel = 'Difficulty level',\n",
    "    ylabel = 'Number of users',\n",
    "  )"
   ]
  },
  {
   "cell_type": "code",
   "execution_count": 4,
   "metadata": {},
   "outputs": [],
   "source": [
    "def plot_initial_chosen_difficulties_per_install():\n",
    "  chosen_difficulties = Counter()\n",
    "  for install in get_installs_with_choose_difficulty():\n",
    "    initial_difficulty = get_initial_difficulty_for_install(install)\n",
    "    if initial_difficulty is None:\n",
    "      continue\n",
    "    chosen_difficulties[initial_difficulty] += 1\n",
    "  plot_dict_as_bar(\n",
    "    chosen_difficulties,\n",
    "    title = 'Initial difficulty chosen during onboarding',\n",
    "    xlabel = 'Difficulty level',\n",
    "    ylabel = 'Number of users',\n",
    "    remap_labels = {'easy': 'Easy', 'medium': 'Medium', 'hard': 'Hard', 'nothing': 'No Intervention'},\n",
    "    #font=dict(family='Courier New, monospace', size=18, color='#7f7f7f'),\n",
    "    font=dict(size=20),\n",
    "  )"
   ]
  },
  {
   "cell_type": "code",
   "execution_count": 5,
   "metadata": {},
   "outputs": [],
   "source": [
    "def plot_initial_chosen_difficulties_per_install_percent():\n",
    "  chosen_difficulties = Counter()\n",
    "  for install in get_installs_with_choose_difficulty():\n",
    "    initial_difficulty = get_initial_difficulty_for_install(install)\n",
    "    if initial_difficulty is None:\n",
    "      continue\n",
    "    chosen_difficulties[initial_difficulty] += 1\n",
    "  print('sample size: ', sum(chosen_difficulties.values()))\n",
    "  print(chosen_difficulties)\n",
    "  for pair in itertools.combinations(chosen_difficulties.keys(), 2):\n",
    "    counts1 = chosen_difficulties[pair[0]]\n",
    "    counts2 = chosen_difficulties[pair[1]]\n",
    "    counts_total = counts1 + counts2\n",
    "    print('')\n",
    "    print(pair)\n",
    "    print(chi2_contingency([[counts1, counts2], [counts_total, counts_total]]))\n",
    "    print('')\n",
    "  plot_dict_as_bar_percent(\n",
    "    chosen_difficulties,\n",
    "    title = 'Initial difficulty chosen during onboarding',\n",
    "    xlabel = 'Difficulty level',\n",
    "    ylabel = 'Percent of users',\n",
    "    remap_labels = {'easy': 'Easy', 'medium': 'Medium', 'hard': 'Hard', 'nothing': 'No Intervention'},\n",
    "    font=dict(size=22),\n",
    "  )"
   ]
  },
  {
   "cell_type": "code",
   "execution_count": 6,
   "metadata": {},
   "outputs": [
    {
     "name": "stdout",
     "output_type": "stream",
     "text": [
      "sample size:  7392\n",
      "Counter({'easy': 2894, 'medium': 2259, 'hard': 1264, 'nothing': 975})\n"
     ]
    },
    {
     "data": {
      "application/vnd.plotly.v1+json": {
       "config": {
        "linkText": "Export to plot.ly",
        "plotlyServerURL": "https://plot.ly",
        "responsive": true,
        "showLink": false
       },
       "data": [
        {
         "orientation": "v",
         "type": "bar",
         "uid": "1f86b033-5c4b-401b-b7cb-ac33e7a451d4",
         "x": [
          "easy",
          "medium",
          "hard",
          "nothing"
         ],
         "y": [
          2894,
          2259,
          1264,
          975
         ]
        }
       ],
       "layout": {
        "title": {
         "text": "Initial difficulty chosen during onboarding"
        },
        "xaxis": {
         "title": {
          "text": "Difficulty level"
         }
        },
        "yaxis": {
         "title": {
          "text": "Number of users"
         }
        }
       }
      },
      "text/html": [
       "<div>\n",
       "        \n",
       "        \n",
       "            <div id=\"ad056123-3b85-42f2-8325-7fab804eae2c\" class=\"plotly-graph-div\" style=\"height:525px; width:100%;\"></div>\n",
       "            <script type=\"text/javascript\">\n",
       "                require([\"plotly\"], function(Plotly) {\n",
       "                    window.PLOTLYENV=window.PLOTLYENV || {};\n",
       "                    window.PLOTLYENV.BASE_URL='https://plot.ly';\n",
       "                    \n",
       "                if (document.getElementById(\"ad056123-3b85-42f2-8325-7fab804eae2c\")) {\n",
       "                    Plotly.newPlot(\n",
       "                        'ad056123-3b85-42f2-8325-7fab804eae2c',\n",
       "                        [{\"orientation\": \"v\", \"type\": \"bar\", \"uid\": \"176bf37d-ed49-4fdc-b306-85003644c3d0\", \"x\": [\"easy\", \"medium\", \"hard\", \"nothing\"], \"y\": [2894, 2259, 1264, 975]}],\n",
       "                        {\"title\": {\"text\": \"Initial difficulty chosen during onboarding\"}, \"xaxis\": {\"title\": {\"text\": \"Difficulty level\"}}, \"yaxis\": {\"title\": {\"text\": \"Number of users\"}}},\n",
       "                        {\"showLink\": false, \"linkText\": \"Export to plot.ly\", \"plotlyServerURL\": \"https://plot.ly\", \"responsive\": true}\n",
       "                    ).then(function(){\n",
       "                            \n",
       "var gd = document.getElementById('ad056123-3b85-42f2-8325-7fab804eae2c');\n",
       "var x = new MutationObserver(function (mutations, observer) {{\n",
       "        var display = window.getComputedStyle(gd).display;\n",
       "        if (!display || display === 'none') {{\n",
       "            console.log([gd, 'removed!']);\n",
       "            Plotly.purge(gd);\n",
       "            observer.disconnect();\n",
       "        }}\n",
       "}});\n",
       "\n",
       "// Listen for the removal of the full notebook cells\n",
       "var notebookContainer = gd.closest('#notebook-container');\n",
       "if (notebookContainer) {{\n",
       "    x.observe(notebookContainer, {childList: true});\n",
       "}}\n",
       "\n",
       "// Listen for the clearing of the current output cell\n",
       "var outputEl = gd.closest('.output');\n",
       "if (outputEl) {{\n",
       "    x.observe(outputEl, {childList: true});\n",
       "}}\n",
       "\n",
       "                        })\n",
       "                };\n",
       "                });\n",
       "            </script>\n",
       "        </div>"
      ]
     },
     "metadata": {},
     "output_type": "display_data"
    }
   ],
   "source": [
    "# noexport\n",
    "\n",
    "plot_initial_chosen_difficulties_per_user()"
   ]
  },
  {
   "cell_type": "code",
   "execution_count": 7,
   "metadata": {},
   "outputs": [
    {
     "data": {
      "application/vnd.plotly.v1+json": {
       "config": {
        "linkText": "Export to plot.ly",
        "plotlyServerURL": "https://plot.ly",
        "responsive": true,
        "showLink": false
       },
       "data": [
        {
         "orientation": "v",
         "type": "bar",
         "uid": "55eea826-56e4-4cf3-a904-619d17c12cc2",
         "x": [
          "Easy",
          "Medium",
          "Hard",
          "No Intervention"
         ],
         "y": [
          3214,
          2520,
          1366,
          658
         ]
        }
       ],
       "layout": {
        "font": {
         "size": 20
        },
        "title": {
         "text": "Initial difficulty chosen during onboarding"
        },
        "xaxis": {
         "title": {
          "text": "Difficulty level"
         }
        },
        "yaxis": {
         "title": {
          "text": "Number of users"
         }
        }
       }
      },
      "text/html": [
       "<div>\n",
       "        \n",
       "        \n",
       "            <div id=\"0a746794-cd53-4b57-8b10-fbf92d144927\" class=\"plotly-graph-div\" style=\"height:525px; width:100%;\"></div>\n",
       "            <script type=\"text/javascript\">\n",
       "                require([\"plotly\"], function(Plotly) {\n",
       "                    window.PLOTLYENV=window.PLOTLYENV || {};\n",
       "                    window.PLOTLYENV.BASE_URL='https://plot.ly';\n",
       "                    \n",
       "                if (document.getElementById(\"0a746794-cd53-4b57-8b10-fbf92d144927\")) {\n",
       "                    Plotly.newPlot(\n",
       "                        '0a746794-cd53-4b57-8b10-fbf92d144927',\n",
       "                        [{\"orientation\": \"v\", \"type\": \"bar\", \"uid\": \"42d17464-2321-4b6e-9ee0-22006327a654\", \"x\": [\"Easy\", \"Medium\", \"Hard\", \"No Intervention\"], \"y\": [3214, 2520, 1366, 658]}],\n",
       "                        {\"font\": {\"size\": 20}, \"title\": {\"text\": \"Initial difficulty chosen during onboarding\"}, \"xaxis\": {\"title\": {\"text\": \"Difficulty level\"}}, \"yaxis\": {\"title\": {\"text\": \"Number of users\"}}},\n",
       "                        {\"showLink\": false, \"linkText\": \"Export to plot.ly\", \"plotlyServerURL\": \"https://plot.ly\", \"responsive\": true}\n",
       "                    ).then(function(){\n",
       "                            \n",
       "var gd = document.getElementById('0a746794-cd53-4b57-8b10-fbf92d144927');\n",
       "var x = new MutationObserver(function (mutations, observer) {{\n",
       "        var display = window.getComputedStyle(gd).display;\n",
       "        if (!display || display === 'none') {{\n",
       "            console.log([gd, 'removed!']);\n",
       "            Plotly.purge(gd);\n",
       "            observer.disconnect();\n",
       "        }}\n",
       "}});\n",
       "\n",
       "// Listen for the removal of the full notebook cells\n",
       "var notebookContainer = gd.closest('#notebook-container');\n",
       "if (notebookContainer) {{\n",
       "    x.observe(notebookContainer, {childList: true});\n",
       "}}\n",
       "\n",
       "// Listen for the clearing of the current output cell\n",
       "var outputEl = gd.closest('.output');\n",
       "if (outputEl) {{\n",
       "    x.observe(outputEl, {childList: true});\n",
       "}}\n",
       "\n",
       "                        })\n",
       "                };\n",
       "                });\n",
       "            </script>\n",
       "        </div>"
      ]
     },
     "metadata": {},
     "output_type": "display_data"
    }
   ],
   "source": [
    "# noexport\n",
    "\n",
    "plot_initial_chosen_difficulties_per_install()"
   ]
  },
  {
   "cell_type": "code",
   "execution_count": 8,
   "metadata": {},
   "outputs": [
    {
     "name": "stdout",
     "output_type": "stream",
     "text": [
      "sample size:  7758\n",
      "Counter({'easy': 3214, 'medium': 2520, 'hard': 1366, 'nothing': 658})\n",
      "\n",
      "('medium', 'easy')\n",
      "(55.846770412801035, 7.834533533105843e-14, 1, array([[2751.33333333, 2982.66666667],\n",
      "       [5502.66666667, 5965.33333333]]))\n",
      "\n",
      "\n",
      "('medium', 'nothing')\n",
      "(754.9243908894912, 3.4093087633417774e-166, 1, array([[1899.33333333, 1278.66666667],\n",
      "       [3798.66666667, 2557.33333333]]))\n",
      "\n",
      "\n",
      "('medium', 'hard')\n",
      "(230.1252491431538, 5.597935205516246e-52, 1, array([[2135.33333333, 1750.66666667],\n",
      "       [4270.66666667, 3501.33333333]]))\n",
      "\n",
      "\n",
      "('easy', 'nothing')\n",
      "(1180.6986637208338, 9.550942942552008e-259, 1, array([[2362., 1510.],\n",
      "       [4724., 3020.]]))\n",
      "\n",
      "\n",
      "('easy', 'hard')\n",
      "(505.4405192343097, 6.226382355798138e-112, 1, array([[2598., 1982.],\n",
      "       [5196., 3964.]]))\n",
      "\n",
      "\n",
      "('nothing', 'hard')\n",
      "(166.67391162321078, 3.9414726715725016e-38, 1, array([[ 894., 1130.],\n",
      "       [1788., 2260.]]))\n",
      "\n"
     ]
    },
    {
     "data": {
      "application/vnd.plotly.v1+json": {
       "config": {
        "linkText": "Export to plot.ly",
        "plotlyServerURL": "https://plot.ly",
        "responsive": true,
        "showLink": false
       },
       "data": [
        {
         "orientation": "v",
         "type": "bar",
         "uid": "53105ad4-2e69-4893-9eb6-a0932d6f1156",
         "x": [
          "Easy",
          "Medium",
          "Hard",
          "No Intervention"
         ],
         "y": [
          41.4282031451405,
          32.48259860788863,
          17.607630832688837,
          8.481567414282031
         ]
        }
       ],
       "layout": {
        "font": {
         "size": 22
        },
        "title": {
         "text": "Initial difficulty chosen during onboarding"
        },
        "xaxis": {
         "title": {
          "text": "Difficulty level"
         }
        },
        "yaxis": {
         "title": {
          "text": "Percent of users"
         }
        }
       }
      },
      "text/html": [
       "<div>\n",
       "        \n",
       "        \n",
       "            <div id=\"bfac93b7-e2a2-4fcc-9b17-3f1b61f88e3a\" class=\"plotly-graph-div\" style=\"height:525px; width:100%;\"></div>\n",
       "            <script type=\"text/javascript\">\n",
       "                require([\"plotly\"], function(Plotly) {\n",
       "                    window.PLOTLYENV=window.PLOTLYENV || {};\n",
       "                    window.PLOTLYENV.BASE_URL='https://plot.ly';\n",
       "                    \n",
       "                if (document.getElementById(\"bfac93b7-e2a2-4fcc-9b17-3f1b61f88e3a\")) {\n",
       "                    Plotly.newPlot(\n",
       "                        'bfac93b7-e2a2-4fcc-9b17-3f1b61f88e3a',\n",
       "                        [{\"orientation\": \"v\", \"type\": \"bar\", \"uid\": \"4aaf097a-c605-45f1-9439-93bd954f7a32\", \"x\": [\"Easy\", \"Medium\", \"Hard\", \"No Intervention\"], \"y\": [41.4282031451405, 32.48259860788863, 17.607630832688837, 8.481567414282031]}],\n",
       "                        {\"font\": {\"size\": 22}, \"title\": {\"text\": \"Initial difficulty chosen during onboarding\"}, \"xaxis\": {\"title\": {\"text\": \"Difficulty level\"}}, \"yaxis\": {\"title\": {\"text\": \"Percent of users\"}}},\n",
       "                        {\"showLink\": false, \"linkText\": \"Export to plot.ly\", \"plotlyServerURL\": \"https://plot.ly\", \"responsive\": true}\n",
       "                    ).then(function(){\n",
       "                            \n",
       "var gd = document.getElementById('bfac93b7-e2a2-4fcc-9b17-3f1b61f88e3a');\n",
       "var x = new MutationObserver(function (mutations, observer) {{\n",
       "        var display = window.getComputedStyle(gd).display;\n",
       "        if (!display || display === 'none') {{\n",
       "            console.log([gd, 'removed!']);\n",
       "            Plotly.purge(gd);\n",
       "            observer.disconnect();\n",
       "        }}\n",
       "}});\n",
       "\n",
       "// Listen for the removal of the full notebook cells\n",
       "var notebookContainer = gd.closest('#notebook-container');\n",
       "if (notebookContainer) {{\n",
       "    x.observe(notebookContainer, {childList: true});\n",
       "}}\n",
       "\n",
       "// Listen for the clearing of the current output cell\n",
       "var outputEl = gd.closest('.output');\n",
       "if (outputEl) {{\n",
       "    x.observe(outputEl, {childList: true});\n",
       "}}\n",
       "\n",
       "                        })\n",
       "                };\n",
       "                });\n",
       "            </script>\n",
       "        </div>"
      ]
     },
     "metadata": {},
     "output_type": "display_data"
    }
   ],
   "source": [
    "# noexport\n",
    "\n",
    "plot_initial_chosen_difficulties_per_install_percent()"
   ]
  },
  {
   "cell_type": "code",
   "execution_count": 9,
   "metadata": {},
   "outputs": [],
   "source": [
    "# from r_utils import r\n",
    "\n",
    "# # https://stackoverflow.com/questions/51469801/confidence-interval-for-a-chi-square-in-r\n",
    "# r('''\n",
    "# prop.test(x=c(70,30),n=c(100,100))\n",
    "# ''')\n"
   ]
  },
  {
   "cell_type": "code",
   "execution_count": 10,
   "metadata": {},
   "outputs": [],
   "source": [
    "# \n",
    "\n",
    "# obs = np.array([[70, 30], [100, 100]])\n",
    "\n",
    "# chi2, p, dof, expected = chi2_contingency(obs)\n",
    "\n",
    "# print(chi2)\n",
    "# print(p)\n",
    "# print(dof)\n",
    "# print(expected)\n",
    "\n",
    "# # chosen_difficulties = Counter()\n",
    "# #   for install in get_installs_with_choose_difficulty():\n",
    "# #     initial_difficulty = get_initial_difficulty_for_install(install)\n",
    "# #     chosen_difficulties[initial_difficulty] += 1"
   ]
  }
 ],
 "metadata": {
  "kernelspec": {
   "display_name": "Python 3",
   "language": "python",
   "name": "python3"
  },
  "language_info": {
   "codemirror_mode": {
    "name": "ipython",
    "version": 3
   },
   "file_extension": ".py",
   "mimetype": "text/x-python",
   "name": "python",
   "nbconvert_exporter": "python",
   "pygments_lexer": "ipython3",
   "version": "3.7.4"
  }
 },
 "nbformat": 4,
 "nbformat_minor": 2
}
