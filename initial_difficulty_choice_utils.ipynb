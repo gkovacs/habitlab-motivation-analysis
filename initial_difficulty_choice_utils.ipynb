{
 "cells": [
  {
   "cell_type": "code",
   "execution_count": 10,
   "metadata": {},
   "outputs": [
    {
     "name": "stdout",
     "output_type": "stream",
     "text": [
      "[NbConvertApp] Converting notebook initial_difficulty_choice_utils.ipynb to python\r\n"
     ]
    }
   ],
   "source": [
    "# noexport\n",
    "!typech initial_difficulty_choice_utils.ipynb"
   ]
  },
  {
   "cell_type": "code",
   "execution_count": 2,
   "metadata": {},
   "outputs": [
    {
     "data": {
      "text/html": [
       "<script type=\"text/javascript\">window.PlotlyConfig = {MathJaxConfig: 'local'};</script><script type=\"text/javascript\">if (window.MathJax) {MathJax.Hub.Config({SVG: {font: \"STIX-Web\"}});}</script><script>requirejs.config({paths: { 'plotly': ['https://cdn.plot.ly/plotly-latest.min']},});if(!window._Plotly) {require(['plotly'],function(plotly) {window._Plotly=plotly;});}</script>"
      ],
      "text/vnd.plotly.v1+html": [
       "<script type=\"text/javascript\">window.PlotlyConfig = {MathJaxConfig: 'local'};</script><script type=\"text/javascript\">if (window.MathJax) {MathJax.Hub.Config({SVG: {font: \"STIX-Web\"}});}</script><script>requirejs.config({paths: { 'plotly': ['https://cdn.plot.ly/plotly-latest.min']},});if(!window._Plotly) {require(['plotly'],function(plotly) {window._Plotly=plotly;});}</script>"
      ]
     },
     "metadata": {},
     "output_type": "display_data"
    },
    {
     "data": {
      "text/html": [
       "<script type=\"text/javascript\">window.PlotlyConfig = {MathJaxConfig: 'local'};</script><script type=\"text/javascript\">if (window.MathJax) {MathJax.Hub.Config({SVG: {font: \"STIX-Web\"}});}</script><script>requirejs.config({paths: { 'plotly': ['https://cdn.plot.ly/plotly-latest.min']},});if(!window._Plotly) {require(['plotly'],function(plotly) {window._Plotly=plotly;});}</script>"
      ],
      "text/vnd.plotly.v1+html": [
       "<script type=\"text/javascript\">window.PlotlyConfig = {MathJaxConfig: 'local'};</script><script type=\"text/javascript\">if (window.MathJax) {MathJax.Hub.Config({SVG: {font: \"STIX-Web\"}});}</script><script>requirejs.config({paths: { 'plotly': ['https://cdn.plot.ly/plotly-latest.min']},});if(!window._Plotly) {require(['plotly'],function(plotly) {window._Plotly=plotly;});}</script>"
      ]
     },
     "metadata": {},
     "output_type": "display_data"
    }
   ],
   "source": [
    "from mkdata import *\n",
    "from plot_utils import *"
   ]
  },
  {
   "cell_type": "code",
   "execution_count": 3,
   "metadata": {},
   "outputs": [],
   "source": [
    "def plot_initial_chosen_difficulties_per_user():\n",
    "  chosen_difficulties = Counter()\n",
    "  for user in get_users_with_choose_difficulty():\n",
    "    initial_difficulty = get_initial_difficulty_for_user(user)\n",
    "    chosen_difficulties[initial_difficulty] += 1\n",
    "  plot_dict_as_bar(\n",
    "    chosen_difficulties,\n",
    "    title = 'Initial difficulty chosen during onboarding',\n",
    "    xlabel = 'Difficulty level',\n",
    "    ylabel = 'Number of users',\n",
    "  )"
   ]
  },
  {
   "cell_type": "code",
   "execution_count": 7,
   "metadata": {},
   "outputs": [],
   "source": [
    "def plot_initial_chosen_difficulties_per_install():\n",
    "  chosen_difficulties = Counter()\n",
    "  for install in get_installs_with_choose_difficulty():\n",
    "    initial_difficulty = get_initial_difficulty_for_install(install)\n",
    "    chosen_difficulties[initial_difficulty] += 1\n",
    "  plot_dict_as_bar(\n",
    "    chosen_difficulties,\n",
    "    title = 'Initial difficulty chosen during onboarding',\n",
    "    xlabel = 'Difficulty level',\n",
    "    ylabel = 'Number of users',\n",
    "  )"
   ]
  },
  {
   "cell_type": "code",
   "execution_count": 5,
   "metadata": {},
   "outputs": [
    {
     "data": {
      "application/vnd.plotly.v1+json": {
       "config": {
        "linkText": "Export to plot.ly",
        "plotlyServerURL": "https://plot.ly",
        "showLink": false
       },
       "data": [
        {
         "type": "bar",
         "uid": "beb8012d-2dd8-489c-ac18-2a5cec8fd332",
         "x": [
          "easy",
          "medium",
          null,
          "hard",
          "nothing"
         ],
         "y": [
          2207,
          1578,
          885,
          685,
          574
         ]
        }
       ],
       "layout": {
        "title": {
         "text": "Initial difficulty chosen during onboarding"
        },
        "xaxis": {
         "title": {
          "text": "Difficulty level"
         }
        },
        "yaxis": {
         "title": {
          "text": "Number of users"
         }
        }
       }
      },
      "text/html": [
       "<div id=\"42fa0a93-97de-4930-a459-fc0d667fba9d\" style=\"height: 525px; width: 100%;\" class=\"plotly-graph-div\"></div><script type=\"text/javascript\">require([\"plotly\"], function(Plotly) { window.PLOTLYENV=window.PLOTLYENV || {};window.PLOTLYENV.BASE_URL=\"https://plot.ly\";Plotly.newPlot(\"42fa0a93-97de-4930-a459-fc0d667fba9d\", [{\"x\": [\"easy\", \"medium\", null, \"hard\", \"nothing\"], \"y\": [2207, 1578, 885, 685, 574], \"type\": \"bar\", \"uid\": \"beb8012d-2dd8-489c-ac18-2a5cec8fd332\"}], {\"title\": {\"text\": \"Initial difficulty chosen during onboarding\"}, \"xaxis\": {\"title\": {\"text\": \"Difficulty level\"}}, \"yaxis\": {\"title\": {\"text\": \"Number of users\"}}}, {\"showLink\": false, \"linkText\": \"Export to plot.ly\", \"plotlyServerURL\": \"https://plot.ly\"})});</script><script type=\"text/javascript\">window.addEventListener(\"resize\", function(){window._Plotly.Plots.resize(document.getElementById(\"42fa0a93-97de-4930-a459-fc0d667fba9d\"));});</script>"
      ],
      "text/vnd.plotly.v1+html": [
       "<div id=\"42fa0a93-97de-4930-a459-fc0d667fba9d\" style=\"height: 525px; width: 100%;\" class=\"plotly-graph-div\"></div><script type=\"text/javascript\">require([\"plotly\"], function(Plotly) { window.PLOTLYENV=window.PLOTLYENV || {};window.PLOTLYENV.BASE_URL=\"https://plot.ly\";Plotly.newPlot(\"42fa0a93-97de-4930-a459-fc0d667fba9d\", [{\"x\": [\"easy\", \"medium\", null, \"hard\", \"nothing\"], \"y\": [2207, 1578, 885, 685, 574], \"type\": \"bar\", \"uid\": \"beb8012d-2dd8-489c-ac18-2a5cec8fd332\"}], {\"title\": {\"text\": \"Initial difficulty chosen during onboarding\"}, \"xaxis\": {\"title\": {\"text\": \"Difficulty level\"}}, \"yaxis\": {\"title\": {\"text\": \"Number of users\"}}}, {\"showLink\": false, \"linkText\": \"Export to plot.ly\", \"plotlyServerURL\": \"https://plot.ly\"})});</script><script type=\"text/javascript\">window.addEventListener(\"resize\", function(){window._Plotly.Plots.resize(document.getElementById(\"42fa0a93-97de-4930-a459-fc0d667fba9d\"));});</script>"
      ]
     },
     "metadata": {},
     "output_type": "display_data"
    }
   ],
   "source": [
    "# noexport\n",
    "\n",
    "plot_initial_chosen_difficulties_per_user()"
   ]
  },
  {
   "cell_type": "code",
   "execution_count": 8,
   "metadata": {},
   "outputs": [
    {
     "data": {
      "application/vnd.plotly.v1+json": {
       "config": {
        "linkText": "Export to plot.ly",
        "plotlyServerURL": "https://plot.ly",
        "showLink": false
       },
       "data": [
        {
         "type": "bar",
         "uid": "6dba1849-fc63-4d47-a160-0497b9db41f6",
         "x": [
          null,
          "easy",
          "medium",
          "hard",
          "nothing"
         ],
         "y": [
          2348,
          2308,
          1663,
          691,
          452
         ]
        }
       ],
       "layout": {
        "title": {
         "text": "Initial difficulty chosen during onboarding"
        },
        "xaxis": {
         "title": {
          "text": "Difficulty level"
         }
        },
        "yaxis": {
         "title": {
          "text": "Number of users"
         }
        }
       }
      },
      "text/html": [
       "<div id=\"29ed45de-ca07-431e-a236-54c0794f3da5\" style=\"height: 525px; width: 100%;\" class=\"plotly-graph-div\"></div><script type=\"text/javascript\">require([\"plotly\"], function(Plotly) { window.PLOTLYENV=window.PLOTLYENV || {};window.PLOTLYENV.BASE_URL=\"https://plot.ly\";Plotly.newPlot(\"29ed45de-ca07-431e-a236-54c0794f3da5\", [{\"x\": [null, \"easy\", \"medium\", \"hard\", \"nothing\"], \"y\": [2348, 2308, 1663, 691, 452], \"type\": \"bar\", \"uid\": \"6dba1849-fc63-4d47-a160-0497b9db41f6\"}], {\"title\": {\"text\": \"Initial difficulty chosen during onboarding\"}, \"xaxis\": {\"title\": {\"text\": \"Difficulty level\"}}, \"yaxis\": {\"title\": {\"text\": \"Number of users\"}}}, {\"showLink\": false, \"linkText\": \"Export to plot.ly\", \"plotlyServerURL\": \"https://plot.ly\"})});</script><script type=\"text/javascript\">window.addEventListener(\"resize\", function(){window._Plotly.Plots.resize(document.getElementById(\"29ed45de-ca07-431e-a236-54c0794f3da5\"));});</script>"
      ],
      "text/vnd.plotly.v1+html": [
       "<div id=\"29ed45de-ca07-431e-a236-54c0794f3da5\" style=\"height: 525px; width: 100%;\" class=\"plotly-graph-div\"></div><script type=\"text/javascript\">require([\"plotly\"], function(Plotly) { window.PLOTLYENV=window.PLOTLYENV || {};window.PLOTLYENV.BASE_URL=\"https://plot.ly\";Plotly.newPlot(\"29ed45de-ca07-431e-a236-54c0794f3da5\", [{\"x\": [null, \"easy\", \"medium\", \"hard\", \"nothing\"], \"y\": [2348, 2308, 1663, 691, 452], \"type\": \"bar\", \"uid\": \"6dba1849-fc63-4d47-a160-0497b9db41f6\"}], {\"title\": {\"text\": \"Initial difficulty chosen during onboarding\"}, \"xaxis\": {\"title\": {\"text\": \"Difficulty level\"}}, \"yaxis\": {\"title\": {\"text\": \"Number of users\"}}}, {\"showLink\": false, \"linkText\": \"Export to plot.ly\", \"plotlyServerURL\": \"https://plot.ly\"})});</script><script type=\"text/javascript\">window.addEventListener(\"resize\", function(){window._Plotly.Plots.resize(document.getElementById(\"29ed45de-ca07-431e-a236-54c0794f3da5\"));});</script>"
      ]
     },
     "metadata": {},
     "output_type": "display_data"
    }
   ],
   "source": [
    "# noexport\n",
    "\n",
    "plot_initial_chosen_difficulties_per_install()"
   ]
  }
 ],
 "metadata": {
  "kernelspec": {
   "display_name": "Python 3",
   "language": "python",
   "name": "python3"
  },
  "language_info": {
   "codemirror_mode": {
    "name": "ipython",
    "version": 3
   },
   "file_extension": ".py",
   "mimetype": "text/x-python",
   "name": "python",
   "nbconvert_exporter": "python",
   "pygments_lexer": "ipython3",
   "version": "3.7.2"
  }
 },
 "nbformat": 4,
 "nbformat_minor": 2
}
