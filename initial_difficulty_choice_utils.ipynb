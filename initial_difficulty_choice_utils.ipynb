{
 "cells": [
  {
   "cell_type": "code",
   "execution_count": 1,
   "metadata": {},
   "outputs": [
    {
     "name": "stdout",
     "output_type": "stream",
     "text": [
      "[NbConvertApp] Converting notebook initial_difficulty_choice_utils.ipynb to python\r\n"
     ]
    }
   ],
   "source": [
    "# noexport\n",
    "!typech initial_difficulty_choice_utils.ipynb"
   ]
  },
  {
   "cell_type": "code",
   "execution_count": 1,
   "metadata": {},
   "outputs": [
    {
     "data": {
      "text/html": [
       "        <script type=\"text/javascript\">\n",
       "        window.PlotlyConfig = {MathJaxConfig: 'local'};\n",
       "        if (window.MathJax) {MathJax.Hub.Config({SVG: {font: \"STIX-Web\"}});}\n",
       "        if (typeof require !== 'undefined') {\n",
       "        require.undef(\"plotly\");\n",
       "        requirejs.config({\n",
       "            paths: {\n",
       "                'plotly': ['https://cdn.plot.ly/plotly-latest.min']\n",
       "            }\n",
       "        });\n",
       "        require(['plotly'], function(Plotly) {\n",
       "            window._Plotly = Plotly;\n",
       "        });\n",
       "        }\n",
       "        </script>\n",
       "        "
      ]
     },
     "metadata": {},
     "output_type": "display_data"
    },
    {
     "data": {
      "text/html": [
       "        <script type=\"text/javascript\">\n",
       "        window.PlotlyConfig = {MathJaxConfig: 'local'};\n",
       "        if (window.MathJax) {MathJax.Hub.Config({SVG: {font: \"STIX-Web\"}});}\n",
       "        if (typeof require !== 'undefined') {\n",
       "        require.undef(\"plotly\");\n",
       "        requirejs.config({\n",
       "            paths: {\n",
       "                'plotly': ['https://cdn.plot.ly/plotly-latest.min']\n",
       "            }\n",
       "        });\n",
       "        require(['plotly'], function(Plotly) {\n",
       "            window._Plotly = Plotly;\n",
       "        });\n",
       "        }\n",
       "        </script>\n",
       "        "
      ]
     },
     "metadata": {},
     "output_type": "display_data"
    }
   ],
   "source": [
    "from mkdata import *\n",
    "from plot_utils import *\n",
    "import itertools\n",
    "from scipy.stats import chi2_contingency"
   ]
  },
  {
   "cell_type": "code",
   "execution_count": 2,
   "metadata": {},
   "outputs": [],
   "source": [
    "def plot_initial_chosen_difficulties_per_user():\n",
    "  chosen_difficulties = Counter()\n",
    "  for user in get_users_with_choose_difficulty():\n",
    "    initial_difficulty = get_initial_difficulty_for_user(user)\n",
    "    if initial_difficulty is None:\n",
    "      continue\n",
    "    chosen_difficulties[initial_difficulty] += 1\n",
    "  print('sample size: ', sum(chosen_difficulties.values()))\n",
    "  print(chosen_difficulties)\n",
    "  plot_dict_as_bar(\n",
    "    chosen_difficulties,\n",
    "    title = 'Initial difficulty chosen during onboarding',\n",
    "    xlabel = 'Difficulty level',\n",
    "    ylabel = 'Number of users',\n",
    "  )"
   ]
  },
  {
   "cell_type": "code",
   "execution_count": 3,
   "metadata": {},
   "outputs": [],
   "source": [
    "def plot_initial_chosen_difficulties_per_install():\n",
    "  chosen_difficulties = Counter()\n",
    "  for install in get_installs_with_choose_difficulty():\n",
    "    initial_difficulty = get_initial_difficulty_for_install(install)\n",
    "    if initial_difficulty is None:\n",
    "      continue\n",
    "    chosen_difficulties[initial_difficulty] += 1\n",
    "  plot_dict_as_bar(\n",
    "    chosen_difficulties,\n",
    "    title = 'Initial difficulty chosen during onboarding',\n",
    "    xlabel = 'Difficulty level',\n",
    "    ylabel = 'Number of users',\n",
    "    remap_labels = {'easy': 'Easy', 'medium': 'Medium', 'hard': 'Hard', 'nothing': 'No Intervention'},\n",
    "    key_order = ['nothing', 'easy', 'medium', 'hard'],\n",
    "    #font=dict(family='Courier New, monospace', size=18, color='#7f7f7f'),\n",
    "    font=dict(size=20),\n",
    "  )"
   ]
  },
  {
   "cell_type": "code",
   "execution_count": 4,
   "metadata": {},
   "outputs": [],
   "source": [
    "def plot_initial_chosen_difficulties_per_install_percent():\n",
    "  chosen_difficulties = Counter()\n",
    "  for install in get_installs_with_choose_difficulty():\n",
    "    initial_difficulty = get_initial_difficulty_for_install(install)\n",
    "    if initial_difficulty is None:\n",
    "      continue\n",
    "    chosen_difficulties[initial_difficulty] += 1\n",
    "  print('sample size: ', sum(chosen_difficulties.values()))\n",
    "  print(chosen_difficulties)\n",
    "  for pair in itertools.combinations(chosen_difficulties.keys(), 2):\n",
    "    counts1 = chosen_difficulties[pair[0]]\n",
    "    counts2 = chosen_difficulties[pair[1]]\n",
    "    counts_total = counts1 + counts2\n",
    "    print('')\n",
    "    print(pair)\n",
    "    print(chi2_contingency([[counts1, counts2], [counts_total, counts_total]]))\n",
    "    print('')\n",
    "  plot_dict_as_bar_percent(\n",
    "    chosen_difficulties,\n",
    "    title = 'Initial difficulty chosen during onboarding',\n",
    "    xlabel = 'Difficulty level',\n",
    "    ylabel = 'Percent of users',\n",
    "    remap_labels = {'easy': 'Easy', 'medium': 'Medium', 'hard': 'Hard', 'nothing': 'No Intervention'},\n",
    "    key_order = ['nothing', 'easy', 'medium', 'hard'],\n",
    "    font=dict(size=22),\n",
    "  )"
   ]
  },
  {
   "cell_type": "code",
   "execution_count": 5,
   "metadata": {},
   "outputs": [
    {
     "name": "stdout",
     "output_type": "stream",
     "text": [
      "sample size:  7921\n",
      "Counter({'easy': 3040, 'medium': 2390, 'hard': 1422, 'nothing': 1069})\n"
     ]
    },
    {
     "data": {
      "application/vnd.plotly.v1+json": {
       "config": {
        "linkText": "Export to plot.ly",
        "plotlyServerURL": "https://plot.ly",
        "responsive": true,
        "showLink": false
       },
       "data": [
        {
         "orientation": "v",
         "type": "bar",
         "uid": "9ce032ee-5064-4416-bb19-d3354a100a70",
         "x": [
          "easy",
          "medium",
          "hard",
          "nothing"
         ],
         "y": [
          3040,
          2390,
          1422,
          1069
         ]
        }
       ],
       "layout": {
        "title": {
         "text": "Initial difficulty chosen during onboarding"
        },
        "xaxis": {
         "title": {
          "text": "Difficulty level"
         }
        },
        "yaxis": {
         "title": {
          "text": "Number of users"
         }
        }
       }
      },
      "text/html": [
       "<div>\n",
       "        \n",
       "        \n",
       "            <div id=\"8c47bb27-c46f-4849-ad71-0e47ae729843\" class=\"plotly-graph-div\" style=\"height:525px; width:100%;\"></div>\n",
       "            <script type=\"text/javascript\">\n",
       "                require([\"plotly\"], function(Plotly) {\n",
       "                    window.PLOTLYENV=window.PLOTLYENV || {};\n",
       "                    window.PLOTLYENV.BASE_URL='https://plot.ly';\n",
       "                    \n",
       "                if (document.getElementById(\"8c47bb27-c46f-4849-ad71-0e47ae729843\")) {\n",
       "                    Plotly.newPlot(\n",
       "                        '8c47bb27-c46f-4849-ad71-0e47ae729843',\n",
       "                        [{\"orientation\": \"v\", \"type\": \"bar\", \"uid\": \"1500f83f-1f0f-42dd-bb9b-605ae7899782\", \"x\": [\"easy\", \"medium\", \"hard\", \"nothing\"], \"y\": [3040, 2390, 1422, 1069]}],\n",
       "                        {\"title\": {\"text\": \"Initial difficulty chosen during onboarding\"}, \"xaxis\": {\"title\": {\"text\": \"Difficulty level\"}}, \"yaxis\": {\"title\": {\"text\": \"Number of users\"}}},\n",
       "                        {\"showLink\": false, \"linkText\": \"Export to plot.ly\", \"plotlyServerURL\": \"https://plot.ly\", \"responsive\": true}\n",
       "                    ).then(function(){\n",
       "                            \n",
       "var gd = document.getElementById('8c47bb27-c46f-4849-ad71-0e47ae729843');\n",
       "var x = new MutationObserver(function (mutations, observer) {{\n",
       "        var display = window.getComputedStyle(gd).display;\n",
       "        if (!display || display === 'none') {{\n",
       "            console.log([gd, 'removed!']);\n",
       "            Plotly.purge(gd);\n",
       "            observer.disconnect();\n",
       "        }}\n",
       "}});\n",
       "\n",
       "// Listen for the removal of the full notebook cells\n",
       "var notebookContainer = gd.closest('#notebook-container');\n",
       "if (notebookContainer) {{\n",
       "    x.observe(notebookContainer, {childList: true});\n",
       "}}\n",
       "\n",
       "// Listen for the clearing of the current output cell\n",
       "var outputEl = gd.closest('.output');\n",
       "if (outputEl) {{\n",
       "    x.observe(outputEl, {childList: true});\n",
       "}}\n",
       "\n",
       "                        })\n",
       "                };\n",
       "                });\n",
       "            </script>\n",
       "        </div>"
      ]
     },
     "metadata": {},
     "output_type": "display_data"
    }
   ],
   "source": [
    "# noexport\n",
    "\n",
    "plot_initial_chosen_difficulties_per_user()"
   ]
  },
  {
   "cell_type": "code",
   "execution_count": 6,
   "metadata": {},
   "outputs": [
    {
     "data": {
      "application/vnd.plotly.v1+json": {
       "config": {
        "linkText": "Export to plot.ly",
        "plotlyServerURL": "https://plot.ly",
        "responsive": true,
        "showLink": false
       },
       "data": [
        {
         "orientation": "v",
         "type": "bar",
         "uid": "95fea746-39da-4880-b499-961a71ded85c",
         "x": [
          "No Intervention",
          "Easy",
          "Medium",
          "Hard"
         ],
         "y": [
          694,
          3403,
          2722,
          1553
         ]
        }
       ],
       "layout": {
        "font": {
         "size": 20
        },
        "title": {
         "text": "Initial difficulty chosen during onboarding"
        },
        "xaxis": {
         "title": {
          "text": "Difficulty level"
         }
        },
        "yaxis": {
         "title": {
          "text": "Number of users"
         }
        }
       }
      },
      "text/html": [
       "<div>\n",
       "        \n",
       "        \n",
       "            <div id=\"5dc37a17-e54e-4b7a-b15b-a7547f767d7e\" class=\"plotly-graph-div\" style=\"height:525px; width:100%;\"></div>\n",
       "            <script type=\"text/javascript\">\n",
       "                require([\"plotly\"], function(Plotly) {\n",
       "                    window.PLOTLYENV=window.PLOTLYENV || {};\n",
       "                    window.PLOTLYENV.BASE_URL='https://plot.ly';\n",
       "                    \n",
       "                if (document.getElementById(\"5dc37a17-e54e-4b7a-b15b-a7547f767d7e\")) {\n",
       "                    Plotly.newPlot(\n",
       "                        '5dc37a17-e54e-4b7a-b15b-a7547f767d7e',\n",
       "                        [{\"orientation\": \"v\", \"type\": \"bar\", \"uid\": \"c43aa5c2-5516-4401-97a8-89765cecb670\", \"x\": [\"No Intervention\", \"Easy\", \"Medium\", \"Hard\"], \"y\": [694, 3403, 2722, 1553]}],\n",
       "                        {\"font\": {\"size\": 20}, \"title\": {\"text\": \"Initial difficulty chosen during onboarding\"}, \"xaxis\": {\"title\": {\"text\": \"Difficulty level\"}}, \"yaxis\": {\"title\": {\"text\": \"Number of users\"}}},\n",
       "                        {\"showLink\": false, \"linkText\": \"Export to plot.ly\", \"plotlyServerURL\": \"https://plot.ly\", \"responsive\": true}\n",
       "                    ).then(function(){\n",
       "                            \n",
       "var gd = document.getElementById('5dc37a17-e54e-4b7a-b15b-a7547f767d7e');\n",
       "var x = new MutationObserver(function (mutations, observer) {{\n",
       "        var display = window.getComputedStyle(gd).display;\n",
       "        if (!display || display === 'none') {{\n",
       "            console.log([gd, 'removed!']);\n",
       "            Plotly.purge(gd);\n",
       "            observer.disconnect();\n",
       "        }}\n",
       "}});\n",
       "\n",
       "// Listen for the removal of the full notebook cells\n",
       "var notebookContainer = gd.closest('#notebook-container');\n",
       "if (notebookContainer) {{\n",
       "    x.observe(notebookContainer, {childList: true});\n",
       "}}\n",
       "\n",
       "// Listen for the clearing of the current output cell\n",
       "var outputEl = gd.closest('.output');\n",
       "if (outputEl) {{\n",
       "    x.observe(outputEl, {childList: true});\n",
       "}}\n",
       "\n",
       "                        })\n",
       "                };\n",
       "                });\n",
       "            </script>\n",
       "        </div>"
      ]
     },
     "metadata": {},
     "output_type": "display_data"
    }
   ],
   "source": [
    "# noexport\n",
    "\n",
    "plot_initial_chosen_difficulties_per_install()"
   ]
  },
  {
   "cell_type": "code",
   "execution_count": 7,
   "metadata": {},
   "outputs": [
    {
     "name": "stdout",
     "output_type": "stream",
     "text": [
      "sample size:  8372\n",
      "Counter({'easy': 3403, 'medium': 2722, 'hard': 1553, 'nothing': 694})\n",
      "\n",
      "('medium', 'easy')\n",
      "(50.324387581646164, 1.303199051571736e-12, 1, array([[2949., 3176.],\n",
      "       [5898., 6352.]]))\n",
      "\n",
      "\n",
      "('medium', 'nothing')\n",
      "(834.129788941927, 2.050321081318187e-183, 1, array([[2046., 1370.],\n",
      "       [4092., 2740.]]))\n",
      "\n",
      "\n",
      "('medium', 'hard')\n",
      "(214.34321452808632, 1.550045626435651e-48, 1, array([[2332.33333333, 1942.66666667],\n",
      "       [4664.66666667, 3885.33333333]]))\n",
      "\n",
      "\n",
      "('easy', 'nothing')\n",
      "(1253.737798215404, 1.2787546643122074e-274, 1, array([[2500., 1597.],\n",
      "       [5000., 3194.]]))\n",
      "\n",
      "\n",
      "('easy', 'hard')\n",
      "(466.8666693678264, 1.540313699850577e-103, 1, array([[2786.33333333, 2169.66666667],\n",
      "       [5572.66666667, 4339.33333333]]))\n",
      "\n",
      "\n",
      "('nothing', 'hard')\n",
      "(221.76038544220543, 3.7359876602979077e-50, 1, array([[ 980.33333333, 1266.66666667],\n",
      "       [1960.66666667, 2533.33333333]]))\n",
      "\n"
     ]
    },
    {
     "data": {
      "application/vnd.plotly.v1+json": {
       "config": {
        "linkText": "Export to plot.ly",
        "plotlyServerURL": "https://plot.ly",
        "responsive": true,
        "showLink": false
       },
       "data": [
        {
         "orientation": "v",
         "type": "bar",
         "uid": "08695a4d-4698-4f90-a049-10932537bcc1",
         "x": [
          "No Intervention",
          "Easy",
          "Medium",
          "Hard"
         ],
         "y": [
          8.289536550406115,
          40.64739608217869,
          32.513139034878165,
          18.54992833253703
         ]
        }
       ],
       "layout": {
        "font": {
         "size": 22
        },
        "title": {
         "text": "Initial difficulty chosen during onboarding"
        },
        "xaxis": {
         "title": {
          "text": "Difficulty level"
         }
        },
        "yaxis": {
         "title": {
          "text": "Percent of users"
         }
        }
       }
      },
      "text/html": [
       "<div>\n",
       "        \n",
       "        \n",
       "            <div id=\"b12a43f9-3a82-448a-9174-dcf62e9fed46\" class=\"plotly-graph-div\" style=\"height:525px; width:100%;\"></div>\n",
       "            <script type=\"text/javascript\">\n",
       "                require([\"plotly\"], function(Plotly) {\n",
       "                    window.PLOTLYENV=window.PLOTLYENV || {};\n",
       "                    window.PLOTLYENV.BASE_URL='https://plot.ly';\n",
       "                    \n",
       "                if (document.getElementById(\"b12a43f9-3a82-448a-9174-dcf62e9fed46\")) {\n",
       "                    Plotly.newPlot(\n",
       "                        'b12a43f9-3a82-448a-9174-dcf62e9fed46',\n",
       "                        [{\"orientation\": \"v\", \"type\": \"bar\", \"uid\": \"6a92c77e-5373-4656-b4f8-1ce2ddac7120\", \"x\": [\"No Intervention\", \"Easy\", \"Medium\", \"Hard\"], \"y\": [8.289536550406115, 40.64739608217869, 32.513139034878165, 18.54992833253703]}],\n",
       "                        {\"font\": {\"size\": 22}, \"title\": {\"text\": \"Initial difficulty chosen during onboarding\"}, \"xaxis\": {\"title\": {\"text\": \"Difficulty level\"}}, \"yaxis\": {\"title\": {\"text\": \"Percent of users\"}}},\n",
       "                        {\"showLink\": false, \"linkText\": \"Export to plot.ly\", \"plotlyServerURL\": \"https://plot.ly\", \"responsive\": true}\n",
       "                    ).then(function(){\n",
       "                            \n",
       "var gd = document.getElementById('b12a43f9-3a82-448a-9174-dcf62e9fed46');\n",
       "var x = new MutationObserver(function (mutations, observer) {{\n",
       "        var display = window.getComputedStyle(gd).display;\n",
       "        if (!display || display === 'none') {{\n",
       "            console.log([gd, 'removed!']);\n",
       "            Plotly.purge(gd);\n",
       "            observer.disconnect();\n",
       "        }}\n",
       "}});\n",
       "\n",
       "// Listen for the removal of the full notebook cells\n",
       "var notebookContainer = gd.closest('#notebook-container');\n",
       "if (notebookContainer) {{\n",
       "    x.observe(notebookContainer, {childList: true});\n",
       "}}\n",
       "\n",
       "// Listen for the clearing of the current output cell\n",
       "var outputEl = gd.closest('.output');\n",
       "if (outputEl) {{\n",
       "    x.observe(outputEl, {childList: true});\n",
       "}}\n",
       "\n",
       "                        })\n",
       "                };\n",
       "                });\n",
       "            </script>\n",
       "        </div>"
      ]
     },
     "metadata": {},
     "output_type": "display_data"
    }
   ],
   "source": [
    "# noexport\n",
    "\n",
    "plot_initial_chosen_difficulties_per_install_percent()"
   ]
  },
  {
   "cell_type": "code",
   "execution_count": 9,
   "metadata": {},
   "outputs": [],
   "source": [
    "# from r_utils import r\n",
    "\n",
    "# # https://stackoverflow.com/questions/51469801/confidence-interval-for-a-chi-square-in-r\n",
    "# r('''\n",
    "# prop.test(x=c(70,30),n=c(100,100))\n",
    "# ''')\n"
   ]
  },
  {
   "cell_type": "code",
   "execution_count": 10,
   "metadata": {},
   "outputs": [],
   "source": [
    "# \n",
    "\n",
    "# obs = np.array([[70, 30], [100, 100]])\n",
    "\n",
    "# chi2, p, dof, expected = chi2_contingency(obs)\n",
    "\n",
    "# print(chi2)\n",
    "# print(p)\n",
    "# print(dof)\n",
    "# print(expected)\n",
    "\n",
    "# # chosen_difficulties = Counter()\n",
    "# #   for install in get_installs_with_choose_difficulty():\n",
    "# #     initial_difficulty = get_initial_difficulty_for_install(install)\n",
    "# #     chosen_difficulties[initial_difficulty] += 1"
   ]
  }
 ],
 "metadata": {
  "kernelspec": {
   "display_name": "Python 3",
   "language": "python",
   "name": "python3"
  },
  "language_info": {
   "codemirror_mode": {
    "name": "ipython",
    "version": 3
   },
   "file_extension": ".py",
   "mimetype": "text/x-python",
   "name": "python",
   "nbconvert_exporter": "python",
   "pygments_lexer": "ipython3",
   "version": "3.7.8"
  }
 },
 "nbformat": 4,
 "nbformat_minor": 2
}
