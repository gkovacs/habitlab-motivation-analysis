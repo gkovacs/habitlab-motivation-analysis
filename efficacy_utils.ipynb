{
 "cells": [
  {
   "cell_type": "code",
   "execution_count": 1,
   "metadata": {},
   "outputs": [
    {
     "name": "stdout",
     "output_type": "stream",
     "text": [
      "[NbConvertApp] Converting notebook efficacy_utils.ipynb to python\n",
      "retention_utils.py:398: error: Name 'get_ipython' is not defined\n",
      "efficacy_utils.py:40: error: Name 'get_condition_to_installs_for_random_assignment_abtest' already defined on line 27\n",
      "efficacy_utils.py:160: error: Name 'get_ipython' is not defined\n",
      "efficacy_utils.py:169: error: Name 'get_ipython' is not defined\n",
      "efficacy_utils.py:186: error: Name 'get_ipython' is not defined\n",
      "efficacy_utils.py:190: error: Name 'get_ipython' is not defined\n",
      "efficacy_utils.py:194: error: Name 'get_ipython' is not defined\n",
      "efficacy_utils.py:208: error: Name 'condition_to_mlengths' is not defined\n"
     ]
    }
   ],
   "source": [
    "# noexport\n",
    "\n",
    "!typech efficacy_utils.ipynb"
   ]
  },
  {
   "cell_type": "code",
   "execution_count": 2,
   "metadata": {},
   "outputs": [
    {
     "data": {
      "text/html": [
       "<script type=\"text/javascript\">window.PlotlyConfig = {MathJaxConfig: 'local'};</script><script type=\"text/javascript\">if (window.MathJax) {MathJax.Hub.Config({SVG: {font: \"STIX-Web\"}});}</script><script>requirejs.config({paths: { 'plotly': ['https://cdn.plot.ly/plotly-latest.min']},});if(!window._Plotly) {require(['plotly'],function(plotly) {window._Plotly=plotly;});}</script>"
      ],
      "text/vnd.plotly.v1+html": [
       "<script type=\"text/javascript\">window.PlotlyConfig = {MathJaxConfig: 'local'};</script><script type=\"text/javascript\">if (window.MathJax) {MathJax.Hub.Config({SVG: {font: \"STIX-Web\"}});}</script><script>requirejs.config({paths: { 'plotly': ['https://cdn.plot.ly/plotly-latest.min']},});if(!window._Plotly) {require(['plotly'],function(plotly) {window._Plotly=plotly;});}</script>"
      ]
     },
     "metadata": {},
     "output_type": "display_data"
    },
    {
     "data": {
      "application/javascript": [
       "IPython.OutputArea.prototype._should_scroll = function(lines) {\n",
       "    return false;\n",
       "}"
      ],
      "text/plain": [
       "<IPython.core.display.Javascript object>"
      ]
     },
     "metadata": {},
     "output_type": "display_data"
    }
   ],
   "source": [
    "from retention_utils import *"
   ]
  },
  {
   "cell_type": "code",
   "execution_count": 3,
   "metadata": {},
   "outputs": [],
   "source": [
    "import jsonmemo as jsonmemo_module\n",
    "jsonmemo_module.set_lowmem(True)"
   ]
  },
  {
   "cell_type": "code",
   "execution_count": 4,
   "metadata": {},
   "outputs": [],
   "source": [
    "#installs_with_experiment_vars = get_installs_with_experiment_vars()"
   ]
  },
  {
   "cell_type": "code",
   "execution_count": 5,
   "metadata": {},
   "outputs": [],
   "source": [
    "#print(installs_with_experiment_vars[0])"
   ]
  },
  {
   "cell_type": "code",
   "execution_count": 6,
   "metadata": {},
   "outputs": [],
   "source": [
    "\n",
    "\n",
    "def get_condition_to_installs_for_random_assignment_abtest():\n",
    "  abtest_name = 'difficulty_selection_screen'\n",
    "  groups = ['survey_nochoice_nothing', 'survey_nochoice_easy', 'survey_nochoice_medium', 'survey_nochoice_hard']\n",
    "  condition_to_installs = get_conditions_to_install_list_in_abtest_unstrict(abtest_name)\n",
    "  for k in list(condition_to_installs.keys()):\n",
    "    if k not in groups:\n",
    "      del condition_to_installs[k]\n",
    "  return condition_to_installs\n"
   ]
  },
  {
   "cell_type": "code",
   "execution_count": 7,
   "metadata": {},
   "outputs": [],
   "source": [
    "\n",
    "\n",
    "def get_condition_to_installs_for_random_assignment_abtest():\n",
    "  abtest_name = 'difficulty_selection_screen_and_choose_difficulty_frequency'\n",
    "  groups = ['survey', 'nodefault_forcedchoice_userchoice', 'survey_nochoice_nothing', 'survey_nochoice_easy', 'survey_nochoice_medium', 'survey_nochoice_hard']\n",
    "  #condition_to_installs = get_conditions_to_install_list_in_abtest_unstrict(abtest_name)\n",
    "  condition_to_installs = get_conditions_to_install_list_in_abtest(abtest_name, groups)\n",
    "  for k in list(condition_to_installs.keys()):\n",
    "    if k not in groups:\n",
    "      del condition_to_installs[k]\n",
    "  return condition_to_installs\n"
   ]
  },
  {
   "cell_type": "code",
   "execution_count": 8,
   "metadata": {},
   "outputs": [],
   "source": [
    "\n",
    "#for install in installs_with_experiment_vars:\n",
    "@msgpackmemo1arg\n",
    "def get_domain_to_intervention_to_session_lengths_for_install(install):\n",
    "  seconds_on_domain_per_session = get_collection_for_install(install, 'synced:seconds_on_domain_per_session')\n",
    "  interventions_active_for_domain_and_session = get_collection_for_install(install, 'synced:interventions_active_for_domain_and_session')\n",
    "  \n",
    "  domain_to_session_to_intervention = {}\n",
    "  for x in interventions_active_for_domain_and_session:\n",
    "    if x.get('val') is None:\n",
    "      continue\n",
    "    interventions_active = json.loads(x['val'])\n",
    "    if len(interventions_active) == 0:\n",
    "      continue\n",
    "    intervention_name = interventions_active[0]\n",
    "    domain = x['key']\n",
    "    session_id = x['key2']\n",
    "    if domain not in domain_to_session_to_intervention:\n",
    "      domain_to_session_to_intervention[domain] = {}\n",
    "    domain_to_session_to_intervention[domain][session_id] = intervention_name\n",
    "  \n",
    "  domain_to_intervention_to_session_lengths = {}\n",
    "  for x in seconds_on_domain_per_session:\n",
    "    if 'key' not in x:\n",
    "      print('missing key in seconds_on_domain_per_session')\n",
    "      print(x)\n",
    "      continue\n",
    "    domain = x['key']\n",
    "    session_id = x['key2']\n",
    "    time_spent = x['val']\n",
    "    if domain not in domain_to_session_to_intervention:\n",
    "      continue\n",
    "    intervention_name = domain_to_session_to_intervention[domain].get(session_id)\n",
    "    if intervention_name is None:\n",
    "      continue\n",
    "    if domain not in domain_to_intervention_to_session_lengths:\n",
    "      domain_to_intervention_to_session_lengths[domain] = {}\n",
    "    if intervention_name not in domain_to_intervention_to_session_lengths[domain]:\n",
    "      domain_to_intervention_to_session_lengths[domain][intervention_name] = []\n",
    "    domain_to_intervention_to_session_lengths[domain][intervention_name].append(time_spent)\n",
    "  return domain_to_intervention_to_session_lengths\n",
    "  "
   ]
  },
  {
   "cell_type": "code",
   "execution_count": 9,
   "metadata": {},
   "outputs": [
    {
     "name": "stdout",
     "output_type": "stream",
     "text": [
      "edceda6041ef668213a96ba5_synced:seconds_on_domain_per_day\n"
     ]
    }
   ],
   "source": [
    "# noexport\n",
    "\n",
    "for x in get_collection_names():\n",
    "  if 'per_day' in x and 'visits' not in x:\n",
    "    print(x)\n",
    "    break"
   ]
  },
  {
   "cell_type": "code",
   "execution_count": 10,
   "metadata": {},
   "outputs": [],
   "source": [
    "@msgpackmemo1arg\n",
    "def get_epoch_to_domain_to_time_spent(install):\n",
    "  seconds_on_domain_per_day = get_collection_for_install(install, 'synced:seconds_on_domain_per_day')\n",
    "  output = {}\n",
    "  for x in seconds_on_domain_per_day:\n",
    "    if 'key' not in x:\n",
    "      print('missing key in seconds_on_domain_per_day')\n",
    "      print(x)\n",
    "      continue\n",
    "    domain = x['key']\n",
    "    epoch = x['key2']\n",
    "    seconds = x['val']\n",
    "    if epoch not in output:\n",
    "      output[epoch] = {}\n",
    "    output[epoch][domain] = seconds\n",
    "  return output"
   ]
  },
  {
   "cell_type": "code",
   "execution_count": 11,
   "metadata": {},
   "outputs": [],
   "source": [
    "# noexport\n",
    "\n",
    "condition_to_installs = get_condition_to_installs_for_random_assignment_abtest()\n"
   ]
  },
  {
   "cell_type": "code",
   "execution_count": 12,
   "metadata": {},
   "outputs": [
    {
     "name": "stdout",
     "output_type": "stream",
     "text": [
      "[1294, 1295, 1296, 1297, 1298, 1299, 1300, 1301, 1302, 1303, 1304, 1305, 1306, 1307, 1308, 1309, 1310, 1311, 1312, 1313, 1314, 1315, 1316, 1317, 1318, 1325, 1326, 1328, 1329, 1330, 1331, 1332, 1333, 1334, 1335, 1336]\n",
      "[1323, 1327, 1335]\n",
      "[]\n",
      "[1326]\n",
      "[1302, 1303, 1304, 1305, 1306, 1307, 1308, 1309, 1310, 1311, 1312, 1313, 1314, 1315, 1316, 1317, 1318, 1319, 1320, 1321, 1322, 1323, 1324, 1325, 1326, 1327, 1328, 1329, 1330, 1331, 1332, 1333, 1334, 1335]\n",
      "[]\n"
     ]
    }
   ],
   "source": [
    "# noexport\n",
    "\n",
    "for condition,installs in condition_to_installs.items():\n",
    "  for install in installs:\n",
    "    print(sorted(get_epoch_to_domain_to_time_spent(install).keys()))\n",
    "    break"
   ]
  },
  {
   "cell_type": "code",
   "execution_count": null,
   "metadata": {},
   "outputs": [],
   "source": []
  },
  {
   "cell_type": "code",
   "execution_count": 13,
   "metadata": {},
   "outputs": [],
   "source": [
    "import math\n",
    "\n",
    "def make_domain_to_daily_time_dataframe():\n",
    "  output = []\n",
    "  for condition,installs in condition_to_installs.items():\n",
    "    #condition_to_lengths[condition] = []\n",
    "    for install in installs:\n",
    "      for epoch,domain_to_time_spent in get_epoch_to_domain_to_time_spent(install).items():\n",
    "#         total_time_spent = sum(domain_to_time_spent.values())\n",
    "#         output.append({\n",
    "#           'user': install,\n",
    "#           'epoch': epoch,\n",
    "#           'time': total_time_spent,\n",
    "#           'logtime': math.log(total_time_spent),\n",
    "#           'condition': condition,\n",
    "#         })\n",
    "        for domain,total_time_spent in  domain_to_time_spent.items():\n",
    "          output.append({\n",
    "            'domain': domain,\n",
    "            'user': install,\n",
    "            'epoch': epoch,\n",
    "            'time': total_time_spent,\n",
    "            'logtime': math.log(total_time_spent),\n",
    "            'condition': condition,\n",
    "          })\n",
    "  return to_dataframe(output)"
   ]
  },
  {
   "cell_type": "code",
   "execution_count": 14,
   "metadata": {},
   "outputs": [],
   "source": [
    "df = make_domain_to_daily_time_dataframe()"
   ]
  },
  {
   "cell_type": "code",
   "execution_count": 15,
   "metadata": {},
   "outputs": [],
   "source": [
    "#print(df)"
   ]
  },
  {
   "cell_type": "code",
   "execution_count": 16,
   "metadata": {},
   "outputs": [
    {
     "name": "stderr",
     "output_type": "stream",
     "text": [
      "/usr/local/lib/python3.7/dist-packages/rpy2/robjects/pandas2ri.py:191: FutureWarning:\n",
      "\n",
      "from_items is deprecated. Please use DataFrame.from_dict(dict(items), ...) instead. DataFrame.from_dict(OrderedDict(items)) may be used to preserve the key order.\n",
      "\n"
     ]
    }
   ],
   "source": [
    "%Rpush df"
   ]
  },
  {
   "cell_type": "code",
   "execution_count": 17,
   "metadata": {},
   "outputs": [],
   "source": [
    "#%%R\n",
    "#install.library"
   ]
  },
  {
   "cell_type": "code",
   "execution_count": 18,
   "metadata": {},
   "outputs": [
    {
     "name": "stderr",
     "output_type": "stream",
     "text": [
      "/usr/local/lib/python3.7/dist-packages/rpy2/rinterface/__init__.py:146: RRuntimeWarning:\n",
      "\n",
      "载入需要的程辑包：Matrix\n",
      "\n",
      "\n",
      "/usr/local/lib/python3.7/dist-packages/rpy2/rinterface/__init__.py:146: RRuntimeWarning:\n",
      "\n",
      "\n",
      "载入程辑包：‘lmerTest’\n",
      "\n",
      "\n",
      "\n",
      "/usr/local/lib/python3.7/dist-packages/rpy2/rinterface/__init__.py:146: RRuntimeWarning:\n",
      "\n",
      "The following object is masked from ‘package:lme4’:\n",
      "\n",
      "    lmer\n",
      "\n",
      "\n",
      "\n",
      "/usr/local/lib/python3.7/dist-packages/rpy2/rinterface/__init__.py:146: RRuntimeWarning:\n",
      "\n",
      "The following object is masked from ‘package:stats’:\n",
      "\n",
      "    step\n",
      "\n",
      "\n",
      "\n",
      "/usr/local/lib/python3.7/dist-packages/rpy2/rinterface/__init__.py:146: RRuntimeWarning:\n",
      "\n",
      "\n",
      "Please cite as: \n",
      "\n",
      "\n",
      "\n",
      "/usr/local/lib/python3.7/dist-packages/rpy2/rinterface/__init__.py:146: RRuntimeWarning:\n",
      "\n",
      " Hlavac, Marek (2018). stargazer: Well-Formatted Regression and Summary Statistics Tables.\n",
      "\n",
      "\n",
      "/usr/local/lib/python3.7/dist-packages/rpy2/rinterface/__init__.py:146: RRuntimeWarning:\n",
      "\n",
      " R package version 5.2.2. https://CRAN.R-project.org/package=stargazer \n",
      "\n",
      "\n",
      "\n"
     ]
    }
   ],
   "source": [
    "%%R\n",
    "library(lme4)\n",
    "#library(sjPlot)\n",
    "library(lmerTest)\n",
    "library(stargazer)\n"
   ]
  },
  {
   "cell_type": "code",
   "execution_count": 19,
   "metadata": {},
   "outputs": [],
   "source": [
    "# %%R\n",
    "\n",
    "# df$user <- as.factor(df$user)\n",
    "# #df$domain <- as.factor(df$domain)\n",
    "# df$condition <- as.factor(df$condition)\n",
    "# df$condition <- factor(df$condition, levels = c(\"survey_nochoice_nothing\", \"survey_nochoice_easy\", \"survey_nochoice_medium\", \"survey_nochoice_hard\"))\n",
    "# df$epoch <- as.factor(df$epoch)\n",
    "# df$logtime <- as.numeric(df$logtime)\n",
    "# df$time <- as.numeric(df$time)\n",
    "# summary(df)\n",
    "\n"
   ]
  },
  {
   "cell_type": "code",
   "execution_count": 20,
   "metadata": {},
   "outputs": [
    {
     "data": {
      "text/plain": [
       "              domain                             user            epoch       \n",
       " www.google.com  :  7272   9ec9126bfe989d527d87f56a:  4150   1319   :  6600  \n",
       " www.youtube.com :  5029   4923f5d68ea2b45c0e582fa9:  3924   1333   :  6599  \n",
       " mail.google.com :  4588   3d8f23613f3849ed266ace58:  3148   1328   :  6555  \n",
       " www.facebook.com:  3524   f9329b2116e3bd031cca0519:  2867   1329   :  6409  \n",
       " docs.google.com :  2407   ac3fb867e496b79bd34dff4a:  2807   1320   :  6382  \n",
       " drive.google.com:  1758   a99d3dda7e8757513429395b:  2708   1327   :  6292  \n",
       " (Other)         :209309   (Other)                 :214283   (Other):195050  \n",
       "      time            logtime                                   condition    \n",
       " Min.   :    1.0   Min.   : 0.000   survey_nochoice_nothing          :36536  \n",
       " 1st Qu.:   14.0   1st Qu.: 2.639   survey_nochoice_easy             :44561  \n",
       " Median :   54.0   Median : 3.989   survey_nochoice_medium           :31895  \n",
       " Mean   :  347.8   Mean   : 3.987   survey_nochoice_hard             :44698  \n",
       " 3rd Qu.:  191.0   3rd Qu.: 5.252   survey                           :38062  \n",
       " Max.   :86400.0   Max.   :11.367   nodefault_forcedchoice_userchoice:38135  \n",
       "                                                                             \n"
      ]
     },
     "metadata": {},
     "output_type": "display_data"
    }
   ],
   "source": [
    "%%R\n",
    "\n",
    "df$user <- as.factor(df$user)\n",
    "df$domain <- as.factor(df$domain)\n",
    "df$condition <- as.factor(df$condition)\n",
    "df$condition <- factor(df$condition, levels = c(\"survey_nochoice_nothing\", \"survey_nochoice_easy\", \"survey_nochoice_medium\", \"survey_nochoice_hard\", \"survey\", \"nodefault_forcedchoice_userchoice\"))\n",
    "df$epoch <- as.factor(df$epoch)\n",
    "df$logtime <- as.numeric(df$logtime)\n",
    "df$time <- as.numeric(df$time)\n",
    "summary(df)\n",
    "\n",
    "\n"
   ]
  },
  {
   "cell_type": "code",
   "execution_count": 21,
   "metadata": {},
   "outputs": [
    {
     "data": {
      "text/plain": [
       "NULL\n"
      ]
     },
     "metadata": {},
     "output_type": "display_data"
    }
   ],
   "source": [
    "%%R\n",
    "\n",
    "#dfsub <- df[df$domain == 'www.youtube.com', ]\n",
    "#show(summary(dfsub))\n",
    "#show(summary(subset(df, domain='www.youtube.com')))\n",
    "#dfsub <- subset(df, domain='www.youtube.com')\n",
    "#show(summary(dfsub))"
   ]
  },
  {
   "cell_type": "code",
   "execution_count": 22,
   "metadata": {},
   "outputs": [
    {
     "data": {
      "text/plain": [
       "              domain                           user          epoch     \n",
       " www.facebook.com:3524   3d8f23613f3849ed266ace58: 146   1327   :  97  \n",
       " 0.0.0.0         :   0   4d061e26d5746a4c1202a2ee:  75   1328   :  95  \n",
       " 0.0.0.0:3000    :   0   44a79b99de35752f235f8c14:  53   1320   :  93  \n",
       " 0.0.0.0:4200    :   0   9ec9126bfe989d527d87f56a:  52   1329   :  91  \n",
       " 0.0.0.0:5000    :   0   f9329b2116e3bd031cca0519:  50   1319   :  89  \n",
       " 0.0.0.0:5601    :   0   99f8e8c38815d9002d35ef3e:  47   1333   :  88  \n",
       " (Other)         :   0   (Other)                 :3101   (Other):2971  \n",
       "      time          logtime                                   condition  \n",
       " Min.   :    1   Min.   : 0.000   survey_nochoice_nothing          :560  \n",
       " 1st Qu.:   90   1st Qu.: 4.500   survey_nochoice_easy             :772  \n",
       " Median :  381   Median : 5.943   survey_nochoice_medium           :507  \n",
       " Mean   : 1132   Mean   : 5.664   survey_nochoice_hard             :541  \n",
       " 3rd Qu.: 1256   3rd Qu.: 7.136   survey                           :600  \n",
       " Max.   :25649   Max.   :10.152   nodefault_forcedchoice_userchoice:544  \n",
       "                                                                         \n",
       "Linear mixed model fit by REML ['lmerModLmerTest']\n",
       "Formula: logtime ~ condition + (1 | user)\n",
       "   Data: dfsub\n",
       "REML criterion at convergence: 13376.43\n",
       "Random effects:\n",
       " Groups   Name        Std.Dev.\n",
       " user     (Intercept) 1.464   \n",
       " Residual             1.455   \n",
       "Number of obs: 3524, groups:  user, 413\n",
       "Fixed Effects:\n",
       "                               (Intercept)  \n",
       "                                    5.3233  \n",
       "             conditionsurvey_nochoice_easy  \n",
       "                                   -0.1817  \n",
       "           conditionsurvey_nochoice_medium  \n",
       "                                   -0.2226  \n",
       "             conditionsurvey_nochoice_hard  \n",
       "                                   -0.5376  \n",
       "                           conditionsurvey  \n",
       "                                   -0.4952  \n",
       "conditionnodefault_forcedchoice_userchoice  \n",
       "                                   -0.6151  \n",
       "Linear mixed model fit by REML. t-tests use Satterthwaite's method [\n",
       "lmerModLmerTest]\n",
       "Formula: logtime ~ condition + (1 | user)\n",
       "   Data: dfsub\n",
       "\n",
       "REML criterion at convergence: 13376.4\n",
       "\n",
       "Scaled residuals: \n",
       "    Min      1Q  Median      3Q     Max \n",
       "-4.6595 -0.4869  0.1409  0.6344  2.6387 \n",
       "\n",
       "Random effects:\n",
       " Groups   Name        Variance Std.Dev.\n",
       " user     (Intercept) 2.142    1.464   \n",
       " Residual             2.118    1.455   \n",
       "Number of obs: 3524, groups:  user, 413\n",
       "\n",
       "Fixed effects:\n",
       "                                           Estimate Std. Error       df t value\n",
       "(Intercept)                                  5.3233     0.2284 333.3257  23.310\n",
       "conditionsurvey_nochoice_easy               -0.1817     0.3021 340.1876  -0.601\n",
       "conditionsurvey_nochoice_medium             -0.2226     0.3102 347.3483  -0.718\n",
       "conditionsurvey_nochoice_hard               -0.5376     0.3069 352.7941  -1.752\n",
       "conditionsurvey                             -0.4952     0.2984 348.0472  -1.660\n",
       "conditionnodefault_forcedchoice_userchoice  -0.6151     0.2977 347.0671  -2.066\n",
       "                                           Pr(>|t|)    \n",
       "(Intercept)                                  <2e-16 ***\n",
       "conditionsurvey_nochoice_easy                0.5480    \n",
       "conditionsurvey_nochoice_medium              0.4735    \n",
       "conditionsurvey_nochoice_hard                0.0807 .  \n",
       "conditionsurvey                              0.0979 .  \n",
       "conditionnodefault_forcedchoice_userchoice   0.0396 *  \n",
       "---\n",
       "Signif. codes:  0 ‘***’ 0.001 ‘**’ 0.01 ‘*’ 0.05 ‘.’ 0.1 ‘ ’ 1\n",
       "\n",
       "Correlation of Fixed Effects:\n",
       "                 (Intr) cndtnsrvy_nchc_s cndtnsrvy_nchc_m cndtnsrvy_nchc_h\n",
       "cndtnsrvy_nchc_s -0.756                                                   \n",
       "cndtnsrvy_nchc_m -0.736  0.557                                            \n",
       "cndtnsrvy_nchc_h -0.744  0.563            0.548                           \n",
       "conditnsrvy      -0.765  0.579            0.563            0.570          \n",
       "cndtnndfl__      -0.767  0.580            0.565            0.571          \n",
       "                 cndtns\n",
       "cndtnsrvy_nchc_s       \n",
       "cndtnsrvy_nchc_m       \n",
       "cndtnsrvy_nchc_h       \n",
       "conditnsrvy            \n",
       "cndtnndfl__       0.587\n",
       "\n",
       "% Table created by stargazer v.5.2.2 by Marek Hlavac, Harvard University. E-mail: hlavac at fas.harvard.edu\n",
       "% Date and time: 四, 9月 19, 2019 - 12时51分24秒\n",
       "\\begin{table}[!htbp] \\centering \n",
       "  \\caption{} \n",
       "  \\label{} \n",
       "\\begin{tabular}{@{\\extracolsep{5pt}}lc} \n",
       "\\\\[-1.8ex]\\hline \n",
       "\\hline \\\\[-1.8ex] \n",
       " & \\multicolumn{1}{c}{\\textit{Dependent variable:}} \\\\ \n",
       "\\cline{2-2} \n",
       "\\\\[-1.8ex] & logtime \\\\ \n",
       "\\hline \\\\[-1.8ex] \n",
       " conditionsurvey\\_nochoice\\_easy & $-$0.182 \\\\ \n",
       "  & (0.302) \\\\ \n",
       "  & \\\\ \n",
       " conditionsurvey\\_nochoice\\_medium & $-$0.223 \\\\ \n",
       "  & (0.310) \\\\ \n",
       "  & \\\\ \n",
       " conditionsurvey\\_nochoice\\_hard & $-$0.538$^{*}$ \\\\ \n",
       "  & (0.307) \\\\ \n",
       "  & \\\\ \n",
       " conditionsurvey & $-$0.495$^{*}$ \\\\ \n",
       "  & (0.298) \\\\ \n",
       "  & \\\\ \n",
       " conditionnodefault\\_forcedchoice\\_userchoice & $-$0.615$^{**}$ \\\\ \n",
       "  & (0.298) \\\\ \n",
       "  & \\\\ \n",
       " Constant & 5.323$^{***}$ \\\\ \n",
       "  & (0.228) \\\\ \n",
       "  & \\\\ \n",
       "\\hline \\\\[-1.8ex] \n",
       "Observations & 3,524 \\\\ \n",
       "Log Likelihood & $-$6,688.215 \\\\ \n",
       "Akaike Inf. Crit. & 13,392.430 \\\\ \n",
       "Bayesian Inf. Crit. & 13,441.770 \\\\ \n",
       "\\hline \n",
       "\\hline \\\\[-1.8ex] \n",
       "\\textit{Note:}  & \\multicolumn{1}{r}{$^{*}$p$<$0.1; $^{**}$p$<$0.05; $^{***}$p$<$0.01} \\\\ \n",
       "\\end{tabular} \n",
       "\\end{table} \n"
      ]
     },
     "metadata": {},
     "output_type": "display_data"
    }
   ],
   "source": [
    "%%R\n",
    "\n",
    "dfsub <- df[df$domain == 'www.facebook.com', ]\n",
    "show(summary(dfsub))\n",
    "#results <- lmer(logtime ~ condition + (1|user), data = df)\n",
    "results <- lmer(logtime ~ condition + (1|user), data = dfsub)\n",
    "#results <- lmer(logtime ~ condition + (1|user) + (1|domain), data = df)\n",
    "show(results)\n",
    "show(summary(results))\n",
    "class(results) <- \"lmerMod\"\n",
    "stargazer(results)"
   ]
  },
  {
   "cell_type": "code",
   "execution_count": 23,
   "metadata": {},
   "outputs": [],
   "source": [
    "# noexport\n",
    "\n",
    "condition_to_lengths = {}\n",
    "for condition,installs in condition_to_installs.items():\n",
    "  condition_to_lengths[condition] = []\n",
    "  for install in installs:\n",
    "    for epoch,domain_to_time_spent in get_epoch_to_domain_to_time_spent(install).items():\n",
    "      total_time_spent = sum(domain_to_time_spent.values())\n",
    "      condition_to_lengths[condition].append(total_time_spent)\n",
    "      #if 'www.facebook.com' not in domain_to_time_spent:\n",
    "      #  continue\n",
    "      #time_on_facebook = domain_to_time_spent.get('www.facebook.com', 0)\n",
    "      #condition_to_lengths[condition].append(time_on_facebook)"
   ]
  },
  {
   "cell_type": "code",
   "execution_count": 24,
   "metadata": {},
   "outputs": [],
   "source": [
    "# noexport\n",
    "# bad\n",
    "\n",
    "\n",
    "condition_to_lengths = {}\n",
    "for condition,installs in condition_to_installs.items():\n",
    "  condition_to_lengths[condition] = []\n",
    "  for install in installs:\n",
    "    for domain,intervention_to_session_lengths in get_domain_to_intervention_to_session_lengths_for_install(install).items():\n",
    "      if domain != 'www.youtube.com':\n",
    "        continue\n",
    "      for intervention,session_lengths in intervention_to_session_lengths.items():\n",
    "        for session_length in session_lengths:\n",
    "          condition_to_lengths[condition].append(session_length)\n"
   ]
  },
  {
   "cell_type": "code",
   "execution_count": 25,
   "metadata": {},
   "outputs": [],
   "source": [
    "# noexport\n",
    "\n",
    "condition_to_lengths = {}\n",
    "for condition,installs in condition_to_installs.items():\n",
    "  condition_to_lengths[condition] = []\n",
    "  for install in installs:\n",
    "    all_lengths_for_user = []\n",
    "    for epoch,domain_to_time_spent in get_epoch_to_domain_to_time_spent(install).items():\n",
    "      total_time_spent = sum(domain_to_time_spent.values())\n",
    "      all_lengths_for_user.append(total_time_spent)\n",
    "    if len(all_lengths_for_user) == 0:\n",
    "      continue\n",
    "    condition_to_lengths[condition].append(np.median(all_lengths_for_user))\n",
    "      #if 'www.facebook.com' not in domain_to_time_spent:\n",
    "      #  continue\n",
    "      #time_on_facebook = domain_to_time_spent.get('www.facebook.com', 0)\n",
    "      #condition_to_lengths[condition].append(time_on_facebook)"
   ]
  },
  {
   "cell_type": "code",
   "execution_count": 26,
   "metadata": {},
   "outputs": [],
   "source": [
    "# noexport\n",
    "\n",
    "condition_to_lengths = {}\n",
    "for condition,installs in condition_to_installs.items():\n",
    "  condition_to_lengths[condition] = []\n",
    "  for install in installs:\n",
    "    for epoch,domain_to_time_spent in get_epoch_to_domain_to_time_spent(install).items():\n",
    "      if 'www.facebook.com' not in domain_to_time_spent:\n",
    "        continue\n",
    "      time_on_facebook = domain_to_time_spent.get('www.facebook.com', 0)\n",
    "      condition_to_lengths[condition].append(time_on_facebook)"
   ]
  },
  {
   "cell_type": "code",
   "execution_count": 27,
   "metadata": {},
   "outputs": [
    {
     "name": "stdout",
     "output_type": "stream",
     "text": [
      "survey 857.5116666666667\n",
      "nodefault_forcedchoice_userchoice 886.2849264705883\n",
      "survey_nochoice_hard 1181.743068391867\n",
      "survey_nochoice_medium 1158.2426035502958\n",
      "survey_nochoice_nothing 628.2053571428571\n",
      "survey_nochoice_easy 1832.9417098445597\n",
      "Ttest_indResult(statistic=-3.8441432304743293, pvalue=0.00012677234604202193)\n"
     ]
    }
   ],
   "source": [
    "# noexport\n",
    "from scipy.stats import ttest_ind\n",
    "\n",
    "condition_to_mlengths = {}\n",
    "for condition,session_lengths in condition_to_lengths.items():\n",
    "  print(condition, np.mean(session_lengths))\n",
    "  condition_to_mlengths[condition] = np.mean(session_lengths) / 60\n",
    "\n",
    "#print(ttest_ind(condition_to_lengths['survey_nochoice_hard'], condition_to_lengths['survey_nochoice_nothing']))\n",
    "print(ttest_ind(condition_to_lengths['survey_nochoice_hard'], condition_to_lengths['survey_nochoice_easy']))\n",
    "#print(ttest_ind(condition_to_lengths['survey_nochoice_easy'], condition_to_lengths['survey_nochoice_medium']))\n"
   ]
  },
  {
   "cell_type": "code",
   "execution_count": 28,
   "metadata": {},
   "outputs": [
    {
     "data": {
      "text/html": [
       "<script type=\"text/javascript\">window.PlotlyConfig = {MathJaxConfig: 'local'};</script><script type=\"text/javascript\">if (window.MathJax) {MathJax.Hub.Config({SVG: {font: \"STIX-Web\"}});}</script><script>requirejs.config({paths: { 'plotly': ['https://cdn.plot.ly/plotly-latest.min']},});if(!window._Plotly) {require(['plotly'],function(plotly) {window._Plotly=plotly;});}</script>"
      ],
      "text/vnd.plotly.v1+html": [
       "<script type=\"text/javascript\">window.PlotlyConfig = {MathJaxConfig: 'local'};</script><script type=\"text/javascript\">if (window.MathJax) {MathJax.Hub.Config({SVG: {font: \"STIX-Web\"}});}</script><script>requirejs.config({paths: { 'plotly': ['https://cdn.plot.ly/plotly-latest.min']},});if(!window._Plotly) {require(['plotly'],function(plotly) {window._Plotly=plotly;});}</script>"
      ]
     },
     "metadata": {},
     "output_type": "display_data"
    }
   ],
   "source": [
    "from plot_utils import *\n"
   ]
  },
  {
   "cell_type": "code",
   "execution_count": 29,
   "metadata": {},
   "outputs": [
    {
     "data": {
      "application/vnd.plotly.v1+json": {
       "config": {
        "linkText": "Export to plot.ly",
        "plotlyServerURL": "https://plot.ly",
        "showLink": false
       },
       "data": [
        {
         "type": "bar",
         "uid": "dc1646b1-d15f-405f-87ea-ac417074b0d2",
         "x": [
          "Easy",
          "Hard",
          "Medium",
          "Onboarding Choice",
          "Experience Sampling",
          "Nothing"
         ],
         "y": [
          30.549028497409328,
          19.695717806531114,
          19.30404339250493,
          14.77141544117647,
          14.29186111111111,
          10.470089285714286
         ]
        }
       ],
       "layout": {
        "title": {
         "text": "Total minutes spent daily on sites"
        },
        "xaxis": {
         "title": {
          "text": "Difficulty"
         }
        },
        "yaxis": {
         "title": {
          "text": "Minutes spent daily on sites"
         }
        }
       }
      },
      "text/html": [
       "<div id=\"786fead4-e0a5-4541-9432-59ee26118860\" style=\"height: 525px; width: 100%;\" class=\"plotly-graph-div\"></div><script type=\"text/javascript\">require([\"plotly\"], function(Plotly) { window.PLOTLYENV=window.PLOTLYENV || {};window.PLOTLYENV.BASE_URL=\"https://plot.ly\";Plotly.newPlot(\"786fead4-e0a5-4541-9432-59ee26118860\", [{\"x\": [\"Easy\", \"Hard\", \"Medium\", \"Onboarding Choice\", \"Experience Sampling\", \"Nothing\"], \"y\": [30.549028497409328, 19.695717806531114, 19.30404339250493, 14.77141544117647, 14.29186111111111, 10.470089285714286], \"type\": \"bar\", \"uid\": \"dc1646b1-d15f-405f-87ea-ac417074b0d2\"}], {\"title\": {\"text\": \"Total minutes spent daily on sites\"}, \"xaxis\": {\"title\": {\"text\": \"Difficulty\"}}, \"yaxis\": {\"title\": {\"text\": \"Minutes spent daily on sites\"}}}, {\"showLink\": false, \"linkText\": \"Export to plot.ly\", \"plotlyServerURL\": \"https://plot.ly\"})});</script><script type=\"text/javascript\">window.addEventListener(\"resize\", function(){window._Plotly.Plots.resize(document.getElementById(\"786fead4-e0a5-4541-9432-59ee26118860\"));});</script>"
      ],
      "text/vnd.plotly.v1+html": [
       "<div id=\"786fead4-e0a5-4541-9432-59ee26118860\" style=\"height: 525px; width: 100%;\" class=\"plotly-graph-div\"></div><script type=\"text/javascript\">require([\"plotly\"], function(Plotly) { window.PLOTLYENV=window.PLOTLYENV || {};window.PLOTLYENV.BASE_URL=\"https://plot.ly\";Plotly.newPlot(\"786fead4-e0a5-4541-9432-59ee26118860\", [{\"x\": [\"Easy\", \"Hard\", \"Medium\", \"Onboarding Choice\", \"Experience Sampling\", \"Nothing\"], \"y\": [30.549028497409328, 19.695717806531114, 19.30404339250493, 14.77141544117647, 14.29186111111111, 10.470089285714286], \"type\": \"bar\", \"uid\": \"dc1646b1-d15f-405f-87ea-ac417074b0d2\"}], {\"title\": {\"text\": \"Total minutes spent daily on sites\"}, \"xaxis\": {\"title\": {\"text\": \"Difficulty\"}}, \"yaxis\": {\"title\": {\"text\": \"Minutes spent daily on sites\"}}}, {\"showLink\": false, \"linkText\": \"Export to plot.ly\", \"plotlyServerURL\": \"https://plot.ly\"})});</script><script type=\"text/javascript\">window.addEventListener(\"resize\", function(){window._Plotly.Plots.resize(document.getElementById(\"786fead4-e0a5-4541-9432-59ee26118860\"));});</script>"
      ]
     },
     "metadata": {},
     "output_type": "display_data"
    }
   ],
   "source": [
    "#from plot_utils import *\n",
    "plot_dict_as_bar(condition_to_mlengths, title='Total minutes spent daily on sites', xlabel='Difficulty', ylabel='Minutes spent daily on sites', remap_labels={'survey_nochoice_nothing': 'Nothing', 'survey_nochoice_easy': 'Easy', 'survey_nochoice_medium': 'Medium', 'survey_nochoice_hard': 'Hard', 'survey': 'Experience Sampling', 'nodefault_forcedchoice_userchoice': 'Onboarding Choice'})"
   ]
  },
  {
   "cell_type": "code",
   "execution_count": 30,
   "metadata": {},
   "outputs": [],
   "source": [
    "# for install in installs_with_experiment_vars:\n",
    "#   #seconds_on_domain_per_session = get_collection_for_install(install, 'synced:seconds_on_domain_per_session')\n",
    "#   #interventions_active_for_domain_and_session = get_collection_for_install(install, 'synced:interventions_active_for_domain_and_session')\n",
    "#   res = get_domain_to_intervention_to_session_lengths_for_install(install)\n",
    "#   #if len(res) > 0:\n",
    "#   #  print(res)\n",
    "#   #  break"
   ]
  }
 ],
 "metadata": {
  "kernelspec": {
   "display_name": "Python 3",
   "language": "python",
   "name": "python3"
  },
  "language_info": {
   "codemirror_mode": {
    "name": "ipython",
    "version": 3
   },
   "file_extension": ".py",
   "mimetype": "text/x-python",
   "name": "python",
   "nbconvert_exporter": "python",
   "pygments_lexer": "ipython3",
   "version": "3.7.2"
  }
 },
 "nbformat": 4,
 "nbformat_minor": 2
}
