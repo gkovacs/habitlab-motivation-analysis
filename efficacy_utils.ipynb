{
 "cells": [
  {
   "cell_type": "code",
   "execution_count": 1,
   "metadata": {},
   "outputs": [
    {
     "name": "stdout",
     "output_type": "stream",
     "text": [
      "[NbConvertApp] Converting notebook efficacy_utils.ipynb to python\n",
      "retention_utils.py:448: \u001b[1m\u001b[31merror:\u001b[m Name 'get_ipython' is not defined\u001b[m\n",
      "retention_utils.py:511: \u001b[1m\u001b[31merror:\u001b[m Name 'get_ipython' is not defined\u001b[m\n",
      "efficacy_utils.py:40: \u001b[1m\u001b[31merror:\u001b[m Name 'get_condition_to_installs_for_random_assignment_abtest' already defined on line 27\u001b[m\n",
      "efficacy_utils.py:163: \u001b[1m\u001b[31merror:\u001b[m Name 'get_ipython' is not defined\u001b[m\n",
      "efficacy_utils.py:180: \u001b[1m\u001b[31merror:\u001b[m Name 'get_ipython' is not defined\u001b[m\n",
      "efficacy_utils.py:184: \u001b[1m\u001b[31merror:\u001b[m Name 'get_ipython' is not defined\u001b[m\n",
      "efficacy_utils.py:188: \u001b[1m\u001b[31merror:\u001b[m Name 'get_ipython' is not defined\u001b[m\n",
      "efficacy_utils.py:192: \u001b[1m\u001b[31merror:\u001b[m Name 'get_ipython' is not defined\u001b[m\n",
      "\u001b[1m\u001b[31mFound 8 errors in 2 files (checked 1 source file)\u001b[m\n"
     ]
    }
   ],
   "source": [
    "# noexport\n",
    "\n",
    "!typech efficacy_utils.ipynb"
   ]
  },
  {
   "cell_type": "code",
   "execution_count": 2,
   "metadata": {},
   "outputs": [
    {
     "data": {
      "text/html": [
       "        <script type=\"text/javascript\">\n",
       "        window.PlotlyConfig = {MathJaxConfig: 'local'};\n",
       "        if (window.MathJax) {MathJax.Hub.Config({SVG: {font: \"STIX-Web\"}});}\n",
       "        if (typeof require !== 'undefined') {\n",
       "        require.undef(\"plotly\");\n",
       "        requirejs.config({\n",
       "            paths: {\n",
       "                'plotly': ['https://cdn.plot.ly/plotly-latest.min']\n",
       "            }\n",
       "        });\n",
       "        require(['plotly'], function(Plotly) {\n",
       "            window._Plotly = Plotly;\n",
       "        });\n",
       "        }\n",
       "        </script>\n",
       "        "
      ]
     },
     "metadata": {},
     "output_type": "display_data"
    },
    {
     "name": "stdout",
     "output_type": "stream",
     "text": [
      "The rpy2.ipython extension is already loaded. To reload it, use:\n",
      "  %reload_ext rpy2.ipython\n"
     ]
    },
    {
     "data": {
      "application/javascript": [
       "IPython.OutputArea.prototype._should_scroll = function(lines) {\n",
       "    return false;\n",
       "}"
      ],
      "text/plain": [
       "<IPython.core.display.Javascript object>"
      ]
     },
     "metadata": {},
     "output_type": "display_data"
    },
    {
     "name": "stderr",
     "output_type": "stream",
     "text": [
      "R[write to console]: Error in withVisible({ : 找不到对象'plot_attrition_df'\n",
      "\n"
     ]
    },
    {
     "name": "stdout",
     "output_type": "stream",
     "text": [
      "\n",
      "Error in withVisible({ : 找不到对象'plot_attrition_df'\n"
     ]
    }
   ],
   "source": [
    "from retention_utils import *"
   ]
  },
  {
   "cell_type": "code",
   "execution_count": 3,
   "metadata": {},
   "outputs": [],
   "source": [
    "import jsonmemo as jsonmemo_module\n",
    "jsonmemo_module.set_lowmem(True)"
   ]
  },
  {
   "cell_type": "code",
   "execution_count": 4,
   "metadata": {},
   "outputs": [],
   "source": [
    "#installs_with_experiment_vars = get_installs_with_experiment_vars()"
   ]
  },
  {
   "cell_type": "code",
   "execution_count": 5,
   "metadata": {},
   "outputs": [],
   "source": [
    "#print(installs_with_experiment_vars[0])"
   ]
  },
  {
   "cell_type": "code",
   "execution_count": 6,
   "metadata": {},
   "outputs": [],
   "source": [
    "\n",
    "\n",
    "def get_condition_to_installs_for_random_assignment_abtest():\n",
    "  abtest_name = 'difficulty_selection_screen'\n",
    "  groups = ['survey_nochoice_nothing', 'survey_nochoice_easy', 'survey_nochoice_medium', 'survey_nochoice_hard']\n",
    "  condition_to_installs = get_conditions_to_install_list_in_abtest_unstrict(abtest_name)\n",
    "  for k in list(condition_to_installs.keys()):\n",
    "    if k not in groups:\n",
    "      del condition_to_installs[k]\n",
    "  return condition_to_installs\n"
   ]
  },
  {
   "cell_type": "code",
   "execution_count": 7,
   "metadata": {},
   "outputs": [],
   "source": [
    "\n",
    "\n",
    "def get_condition_to_installs_for_random_assignment_abtest():\n",
    "  abtest_name = 'difficulty_selection_screen_and_choose_difficulty_frequency'\n",
    "  groups = ['survey', 'nodefault_forcedchoice_userchoice', 'survey_nochoice_nothing', 'survey_nochoice_easy', 'survey_nochoice_medium', 'survey_nochoice_hard']\n",
    "  #condition_to_installs = get_conditions_to_install_list_in_abtest_unstrict(abtest_name)\n",
    "  condition_to_installs = get_conditions_to_install_list_in_abtest(abtest_name, groups)\n",
    "  for k in list(condition_to_installs.keys()):\n",
    "    if k not in groups:\n",
    "      del condition_to_installs[k]\n",
    "  return condition_to_installs\n"
   ]
  },
  {
   "cell_type": "code",
   "execution_count": 8,
   "metadata": {},
   "outputs": [],
   "source": [
    "\n",
    "#for install in installs_with_experiment_vars:\n",
    "@msgpackmemo1arg\n",
    "def get_domain_to_intervention_to_session_lengths_for_install(install):\n",
    "  seconds_on_domain_per_session = get_collection_for_install(install, 'synced:seconds_on_domain_per_session')\n",
    "  interventions_active_for_domain_and_session = get_collection_for_install(install, 'synced:interventions_active_for_domain_and_session')\n",
    "  \n",
    "  domain_to_session_to_intervention = {}\n",
    "  for x in interventions_active_for_domain_and_session:\n",
    "    if x.get('val') is None:\n",
    "      continue\n",
    "    interventions_active = json.loads(x['val'])\n",
    "    if len(interventions_active) == 0:\n",
    "      continue\n",
    "    intervention_name = interventions_active[0]\n",
    "    domain = x['key']\n",
    "    session_id = x['key2']\n",
    "    if domain not in domain_to_session_to_intervention:\n",
    "      domain_to_session_to_intervention[domain] = {}\n",
    "    domain_to_session_to_intervention[domain][session_id] = intervention_name\n",
    "  \n",
    "  domain_to_intervention_to_session_lengths = {}\n",
    "  for x in seconds_on_domain_per_session:\n",
    "    if 'key' not in x:\n",
    "      print('missing key in seconds_on_domain_per_session')\n",
    "      print(x)\n",
    "      continue\n",
    "    domain = x['key']\n",
    "    session_id = x['key2']\n",
    "    time_spent = x['val']\n",
    "    if domain not in domain_to_session_to_intervention:\n",
    "      continue\n",
    "    intervention_name = domain_to_session_to_intervention[domain].get(session_id)\n",
    "    if intervention_name is None:\n",
    "      continue\n",
    "    if domain not in domain_to_intervention_to_session_lengths:\n",
    "      domain_to_intervention_to_session_lengths[domain] = {}\n",
    "    if intervention_name not in domain_to_intervention_to_session_lengths[domain]:\n",
    "      domain_to_intervention_to_session_lengths[domain][intervention_name] = []\n",
    "    domain_to_intervention_to_session_lengths[domain][intervention_name].append(time_spent)\n",
    "  return domain_to_intervention_to_session_lengths\n",
    "  "
   ]
  },
  {
   "cell_type": "code",
   "execution_count": 9,
   "metadata": {},
   "outputs": [
    {
     "name": "stdout",
     "output_type": "stream",
     "text": [
      "edceda6041ef668213a96ba5_synced:seconds_on_domain_per_day\n"
     ]
    }
   ],
   "source": [
    "# noexport\n",
    "\n",
    "for x in get_collection_names():\n",
    "  if 'per_day' in x and 'visits' not in x:\n",
    "    print(x)\n",
    "    break"
   ]
  },
  {
   "cell_type": "code",
   "execution_count": 10,
   "metadata": {},
   "outputs": [],
   "source": [
    "@msgpackmemo1arg\n",
    "def get_epoch_to_domain_to_time_spent(install):\n",
    "  seconds_on_domain_per_day = get_collection_for_install(install, 'synced:seconds_on_domain_per_day')\n",
    "  output = {}\n",
    "  for x in seconds_on_domain_per_day:\n",
    "    if 'key' not in x:\n",
    "      print('missing key in seconds_on_domain_per_day')\n",
    "      print(x)\n",
    "      continue\n",
    "    domain = x['key']\n",
    "    epoch = x['key2']\n",
    "    seconds = x['val']\n",
    "    if epoch not in output:\n",
    "      output[epoch] = {}\n",
    "    output[epoch][domain] = seconds\n",
    "  return output"
   ]
  },
  {
   "cell_type": "code",
   "execution_count": 11,
   "metadata": {},
   "outputs": [],
   "source": [
    "# noexport\n",
    "\n",
    "condition_to_installs = get_condition_to_installs_for_random_assignment_abtest()\n"
   ]
  },
  {
   "cell_type": "code",
   "execution_count": 12,
   "metadata": {},
   "outputs": [],
   "source": [
    "# noexport\n",
    "\n",
    "for condition,installs in condition_to_installs.items():\n",
    "  for install in installs:\n",
    "    get_epoch_to_domain_to_time_spent(install)\n",
    "    #print(sorted(get_epoch_to_domain_to_time_spent(install).keys()))\n",
    "    break"
   ]
  },
  {
   "cell_type": "code",
   "execution_count": null,
   "metadata": {},
   "outputs": [],
   "source": []
  },
  {
   "cell_type": "code",
   "execution_count": 13,
   "metadata": {},
   "outputs": [],
   "source": [
    "import math\n",
    "\n",
    "def make_domain_to_daily_time_dataframe():\n",
    "  output = []\n",
    "  for condition,installs in condition_to_installs.items():\n",
    "    #condition_to_lengths[condition] = []\n",
    "    for install in installs:\n",
    "      for epoch,domain_to_time_spent in get_epoch_to_domain_to_time_spent(install).items():\n",
    "#         total_time_spent = sum(domain_to_time_spent.values())\n",
    "#         output.append({\n",
    "#           'user': install,\n",
    "#           'epoch': epoch,\n",
    "#           'time': total_time_spent,\n",
    "#           'logtime': math.log(total_time_spent),\n",
    "#           'condition': condition,\n",
    "#         })\n",
    "        for domain,total_time_spent in  domain_to_time_spent.items():\n",
    "          output.append({\n",
    "            'domain': domain,\n",
    "            'user': install,\n",
    "            'epoch': epoch,\n",
    "            'time': total_time_spent,\n",
    "            'logtime': math.log(total_time_spent),\n",
    "            'condition': condition,\n",
    "          })\n",
    "  return to_dataframe(output)"
   ]
  },
  {
   "cell_type": "code",
   "execution_count": 14,
   "metadata": {},
   "outputs": [],
   "source": [
    "# noexport\n",
    "\n",
    "df = make_domain_to_daily_time_dataframe()"
   ]
  },
  {
   "cell_type": "code",
   "execution_count": 15,
   "metadata": {},
   "outputs": [],
   "source": [
    "#print(df)"
   ]
  },
  {
   "cell_type": "code",
   "execution_count": 16,
   "metadata": {},
   "outputs": [],
   "source": [
    "# noexport\n",
    "\n",
    "%Rpush df"
   ]
  },
  {
   "cell_type": "code",
   "execution_count": 17,
   "metadata": {},
   "outputs": [],
   "source": [
    "#%%R\n",
    "#install.library"
   ]
  },
  {
   "cell_type": "code",
   "execution_count": 18,
   "metadata": {},
   "outputs": [
    {
     "name": "stderr",
     "output_type": "stream",
     "text": [
      "R[write to console]: 载入需要的程辑包：Matrix\n",
      "\n",
      "R[write to console]: Registered S3 methods overwritten by 'ggplot2':\n",
      "  method         from \n",
      "  [.quosures     rlang\n",
      "  c.quosures     rlang\n",
      "  print.quosures rlang\n",
      "\n",
      "R[write to console]: \n",
      "载入程辑包：‘lmerTest’\n",
      "\n",
      "\n",
      "R[write to console]: The following object is masked from ‘package:lme4’:\n",
      "\n",
      "    lmer\n",
      "\n",
      "\n",
      "R[write to console]: The following object is masked from ‘package:stats’:\n",
      "\n",
      "    step\n",
      "\n",
      "\n",
      "R[write to console]: \n",
      "Please cite as: \n",
      "\n",
      "\n",
      "R[write to console]:  Hlavac, Marek (2018). stargazer: Well-Formatted Regression and Summary Statistics Tables.\n",
      "\n",
      "R[write to console]:  R package version 5.2.2. https://CRAN.R-project.org/package=stargazer \n",
      "\n",
      "\n"
     ]
    }
   ],
   "source": [
    "%%R\n",
    "\n",
    "library(lme4)\n",
    "#library(sjPlot)\n",
    "library(lmerTest)\n",
    "library(stargazer)\n"
   ]
  },
  {
   "cell_type": "code",
   "execution_count": 19,
   "metadata": {},
   "outputs": [],
   "source": [
    "# %%R\n",
    "\n",
    "# df$user <- as.factor(df$user)\n",
    "# #df$domain <- as.factor(df$domain)\n",
    "# df$condition <- as.factor(df$condition)\n",
    "# df$condition <- factor(df$condition, levels = c(\"survey_nochoice_nothing\", \"survey_nochoice_easy\", \"survey_nochoice_medium\", \"survey_nochoice_hard\"))\n",
    "# df$epoch <- as.factor(df$epoch)\n",
    "# df$logtime <- as.numeric(df$logtime)\n",
    "# df$time <- as.numeric(df$time)\n",
    "# summary(df)\n",
    "\n"
   ]
  },
  {
   "cell_type": "code",
   "execution_count": 20,
   "metadata": {},
   "outputs": [
    {
     "name": "stdout",
     "output_type": "stream",
     "text": [
      "[[1]]\n",
      "[1] \"www.google.com  : 239777  \"\n",
      "\n",
      "[[2]]\n",
      "[1] \"www.youtube.com : 168371  \"\n",
      "\n",
      "[[3]]\n",
      "[1] \"mail.google.com : 154988  \"\n",
      "\n",
      "[[4]]\n",
      "[1] \"www.facebook.com: 112296  \"\n",
      "\n",
      "[[5]]\n",
      "[1] \"docs.google.com :  91410  \"\n",
      "\n",
      "[[6]]\n",
      "[1] \"drive.google.com:  62719  \"\n",
      "\n",
      "[[7]]\n",
      "[1] \"(Other)         :6518902  \"\n",
      "\n",
      "[[8]]\n",
      "[1] \"f9329b2116e3bd031cca0519:  24853  \"\n",
      "\n",
      "[[9]]\n",
      "[1] \"1e42870bb128918b18137b18:  22344  \"\n",
      "\n",
      "[[10]]\n",
      "[1] \"23b9ce6a12de923653ac786d:  22298  \"\n",
      "\n",
      "[[11]]\n",
      "[1] \"dd83217732fe6ba08644289a:  19079  \"\n",
      "\n",
      "[[12]]\n",
      "[1] \"d37967a410f11ae1d3d85f29:  18360  \"\n",
      "\n",
      "[[13]]\n",
      "[1] \"fdf4e9c44628fd753700ce44:  17516  \"\n",
      "\n",
      "[[14]]\n",
      "[1] \"(Other)                 :7224013  \"\n",
      "\n",
      "[[15]]\n",
      "[1] \"1600   :  28588  \"\n",
      "\n",
      "[[16]]\n",
      "[1] \"1578   :  28551  \"\n",
      "\n",
      "[[17]]\n",
      "[1] \"1573   :  28178  \"\n",
      "\n",
      "[[18]]\n",
      "[1] \"1607   :  27964  \"\n",
      "\n",
      "[[19]]\n",
      "[1] \"1565   :  27917  \"\n",
      "\n",
      "[[20]]\n",
      "[1] \"1567   :  27901  \"\n",
      "\n",
      "[[21]]\n",
      "[1] \"(Other):7179364  \"\n",
      "\n",
      "[[22]]\n",
      "[1] \"Min.   :    1.0  \"\n",
      "\n",
      "[[23]]\n",
      "[1] \"1st Qu.:   14.0  \"\n",
      "\n",
      "[[24]]\n",
      "[1] \"Median :   55.0  \"\n",
      "\n",
      "[[25]]\n",
      "[1] \"Mean   :  375.8  \"\n",
      "\n",
      "[[26]]\n",
      "[1] \"3rd Qu.:  201.0  \"\n",
      "\n",
      "[[27]]\n",
      "[1] \"Max.   :89087.0  \"\n",
      "\n",
      "[[28]]\n",
      "<CHARSXP: NA>\n",
      "\n",
      "[[29]]\n",
      "[1] \"Min.   : 0.000  \"\n",
      "\n",
      "[[30]]\n",
      "[1] \"1st Qu.: 2.639  \"\n",
      "\n",
      "[[31]]\n",
      "[1] \"Median : 4.007  \"\n",
      "\n",
      "[[32]]\n",
      "[1] \"Mean   : 4.008  \"\n",
      "\n",
      "[[33]]\n",
      "[1] \"3rd Qu.: 5.303  \"\n",
      "\n",
      "[[34]]\n",
      "[1] \"Max.   :11.397  \"\n",
      "\n",
      "[[35]]\n",
      "<CHARSXP: NA>\n",
      "\n",
      "[[36]]\n",
      "[1] \"survey_nochoice_nothing          : 979094  \"\n",
      "\n",
      "[[37]]\n",
      "[1] \"survey_nochoice_easy             :1218966  \"\n",
      "\n",
      "[[38]]\n",
      "[1] \"survey_nochoice_medium           :1353191  \"\n",
      "\n",
      "[[39]]\n",
      "[1] \"survey_nochoice_hard             :1244086  \"\n",
      "\n",
      "[[40]]\n",
      "[1] \"survey                           :1346101  \"\n",
      "\n",
      "[[41]]\n",
      "[1] \"nodefault_forcedchoice_userchoice:1207025  \"\n",
      "\n",
      "[[42]]\n",
      "<CHARSXP: NA>\n",
      "\n"
     ]
    }
   ],
   "source": [
    "%%R\n",
    "\n",
    "df$user <- as.factor(df$user)\n",
    "df$domain <- as.factor(df$domain)\n",
    "df$condition <- as.factor(df$condition)\n",
    "df$condition <- factor(df$condition, levels = c(\"survey_nochoice_nothing\", \"survey_nochoice_easy\", \"survey_nochoice_medium\", \"survey_nochoice_hard\", \"survey\", \"nodefault_forcedchoice_userchoice\"))\n",
    "df$epoch <- as.factor(df$epoch)\n",
    "df$logtime <- as.numeric(df$logtime)\n",
    "df$time <- as.numeric(df$time)\n",
    "summary(df)\n",
    "\n",
    "\n"
   ]
  },
  {
   "cell_type": "code",
   "execution_count": 21,
   "metadata": {},
   "outputs": [
    {
     "name": "stdout",
     "output_type": "stream",
     "text": [
      "NULL\n"
     ]
    }
   ],
   "source": [
    "%%R\n",
    "\n",
    "#dfsub <- df[df$domain == 'www.youtube.com', ]\n",
    "#show(summary(dfsub))\n",
    "#show(summary(subset(df, domain='www.youtube.com')))\n",
    "#dfsub <- subset(df, domain='www.youtube.com')\n",
    "#show(summary(dfsub))"
   ]
  },
  {
   "cell_type": "code",
   "execution_count": 22,
   "metadata": {},
   "outputs": [
    {
     "name": "stdout",
     "output_type": "stream",
     "text": [
      "              domain                              user        \n",
      " www.google.com  : 239777   f9329b2116e3bd031cca0519:  24853  \n",
      " www.youtube.com : 168371   1e42870bb128918b18137b18:  22344  \n",
      " mail.google.com : 154988   23b9ce6a12de923653ac786d:  22298  \n",
      " www.facebook.com: 112296   dd83217732fe6ba08644289a:  19079  \n",
      " docs.google.com :  91410   d37967a410f11ae1d3d85f29:  18360  \n",
      " drive.google.com:  62719   fdf4e9c44628fd753700ce44:  17516  \n",
      " (Other)         :6518902   (Other)                 :7224013  \n",
      "     epoch              time            logtime      \n",
      " 1600   :  28588   Min.   :    1.0   Min.   : 0.000  \n",
      " 1578   :  28551   1st Qu.:   14.0   1st Qu.: 2.639  \n",
      " 1573   :  28178   Median :   55.0   Median : 4.007  \n",
      " 1607   :  27964   Mean   :  375.8   Mean   : 4.008  \n",
      " 1565   :  27917   3rd Qu.:  201.0   3rd Qu.: 5.303  \n",
      " 1567   :  27901   Max.   :89087.0   Max.   :11.397  \n",
      " (Other):7179364                                     \n",
      "                             condition      \n",
      " survey_nochoice_nothing          : 979094  \n",
      " survey_nochoice_easy             :1218966  \n",
      " survey_nochoice_medium           :1353191  \n",
      " survey_nochoice_hard             :1244086  \n",
      " survey                           :1346101  \n",
      " nodefault_forcedchoice_userchoice:1207025  \n",
      "                                            \n",
      "Linear mixed model fit by REML ['lmerModLmerTest']\n",
      "Formula: logtime ~ condition + (1 | user) + (1 | domain)\n",
      "   Data: df\n",
      "REML criterion at convergence: 27933595\n",
      "Random effects:\n",
      " Groups   Name        Std.Dev.\n",
      " domain   (Intercept) 0.7422  \n",
      " user     (Intercept) 0.3705  \n",
      " Residual             1.5724  \n",
      "Number of obs: 7348463, groups:  domain, 941630; user, 6037\n",
      "Fixed Effects:\n",
      "                               (Intercept)  \n",
      "                                   3.43660  \n",
      "             conditionsurvey_nochoice_easy  \n",
      "                                  -0.01620  \n",
      "           conditionsurvey_nochoice_medium  \n",
      "                                  -0.02907  \n",
      "             conditionsurvey_nochoice_hard  \n",
      "                                  -0.02320  \n",
      "                           conditionsurvey  \n",
      "                                  -0.02571  \n",
      "conditionnodefault_forcedchoice_userchoice  \n",
      "                                  -0.03008  \n",
      "convergence code 0; 0 optimizer warnings; 1 lme4 warnings \n",
      "Linear mixed model fit by REML. t-tests use Satterthwaite's method [\n",
      "lmerModLmerTest]\n",
      "Formula: logtime ~ condition + (1 | user) + (1 | domain)\n",
      "   Data: df\n",
      "\n",
      "REML criterion at convergence: 27933595\n",
      "\n",
      "Scaled residuals: \n",
      "    Min      1Q  Median      3Q     Max \n",
      "-5.4401 -0.6035  0.0499  0.6670  5.3043 \n",
      "\n",
      "Random effects:\n",
      " Groups   Name        Variance Std.Dev.\n",
      " domain   (Intercept) 0.5508   0.7422  \n",
      " user     (Intercept) 0.1373   0.3705  \n",
      " Residual             2.4723   1.5724  \n",
      "Number of obs: 7348463, groups:  domain, 941630; user, 6037\n",
      "\n",
      "Fixed effects:\n",
      "                                             Estimate Std. Error         df\n",
      "(Intercept)                                   3.43660    0.01544 4923.92388\n",
      "conditionsurvey_nochoice_easy                -0.01620    0.01997 4867.55721\n",
      "conditionsurvey_nochoice_medium              -0.02907    0.01975 4860.40130\n",
      "conditionsurvey_nochoice_hard                -0.02320    0.02003 4860.75551\n",
      "conditionsurvey                              -0.02571    0.01980 4839.88479\n",
      "conditionnodefault_forcedchoice_userchoice   -0.03008    0.01998 4849.81619\n",
      "                                           t value Pr(>|t|)    \n",
      "(Intercept)                                222.628   <2e-16 ***\n",
      "conditionsurvey_nochoice_easy               -0.811    0.417    \n",
      "conditionsurvey_nochoice_medium             -1.472    0.141    \n",
      "conditionsurvey_nochoice_hard               -1.159    0.247    \n",
      "conditionsurvey                             -1.298    0.194    \n",
      "conditionnodefault_forcedchoice_userchoice  -1.506    0.132    \n",
      "---\n",
      "Signif. codes:  0 ‘***’ 0.001 ‘**’ 0.01 ‘*’ 0.05 ‘.’ 0.1 ‘ ’ 1\n",
      "\n",
      "Correlation of Fixed Effects:\n",
      "                 (Intr) cndtnsrvy_nchc_s cndtnsrvy_nchc_m cndtnsrvy_nchc_h\n",
      "cndtnsrvy_nchc_s -0.767                                                   \n",
      "cndtnsrvy_nchc_m -0.776  0.600                                            \n",
      "cndtnsrvy_nchc_h -0.765  0.592            0.598                           \n",
      "conditnsrvy      -0.774  0.598            0.605            0.596          \n",
      "cndtnndfl__      -0.767  0.593            0.600            0.591          \n",
      "                 cndtns\n",
      "cndtnsrvy_nchc_s       \n",
      "cndtnsrvy_nchc_m       \n",
      "cndtnsrvy_nchc_h       \n",
      "conditnsrvy            \n",
      "cndtnndfl__       0.598\n",
      "convergence code: 0\n",
      "Model is nearly unidentifiable: very large eigenvalue\n",
      " - Rescale variables?\n",
      "\n",
      "\n",
      "% Table created by stargazer v.5.2.2 by Marek Hlavac, Harvard University. E-mail: hlavac at fas.harvard.edu\n",
      "% Date and time: 一,  9 14, 2020 - 13时34分25秒\n",
      "\\begin{table}[!htbp] \\centering \n",
      "  \\caption{} \n",
      "  \\label{} \n",
      "\\begin{tabular}{@{\\extracolsep{5pt}}lc} \n",
      "\\\\[-1.8ex]\\hline \n",
      "\\hline \\\\[-1.8ex] \n",
      " & \\multicolumn{1}{c}{\\textit{Dependent variable:}} \\\\ \n",
      "\\cline{2-2} \n",
      "\\\\[-1.8ex] & logtime \\\\ \n",
      "\\hline \\\\[-1.8ex] \n",
      " conditionsurvey\\_nochoice\\_easy & $-$0.016 \\\\ \n",
      "  & (0.020) \\\\ \n",
      "  & \\\\ \n",
      " conditionsurvey\\_nochoice\\_medium & $-$0.029 \\\\ \n",
      "  & (0.020) \\\\ \n",
      "  & \\\\ \n",
      " conditionsurvey\\_nochoice\\_hard & $-$0.023 \\\\ \n",
      "  & (0.020) \\\\ \n",
      "  & \\\\ \n",
      " conditionsurvey & $-$0.026 \\\\ \n",
      "  & (0.020) \\\\ \n",
      "  & \\\\ \n",
      " conditionnodefault\\_forcedchoice\\_userchoice & $-$0.030 \\\\ \n",
      "  & (0.020) \\\\ \n",
      "  & \\\\ \n",
      " Constant & 3.437$^{***}$ \\\\ \n",
      "  & (0.015) \\\\ \n",
      "  & \\\\ \n",
      "\\hline \\\\[-1.8ex] \n",
      "Observations & 7,348,463 \\\\ \n",
      "Log Likelihood & $-$13,966,798.000 \\\\ \n",
      "Akaike Inf. Crit. & 27,933,613.000 \\\\ \n",
      "Bayesian Inf. Crit. & 27,933,737.000 \\\\ \n",
      "\\hline \n",
      "\\hline \\\\[-1.8ex] \n",
      "\\textit{Note:}  & \\multicolumn{1}{r}{$^{*}$p$<$0.1; $^{**}$p$<$0.05; $^{***}$p$<$0.01} \\\\ \n",
      "\\end{tabular} \n",
      "\\end{table} \n"
     ]
    }
   ],
   "source": [
    "%%R\n",
    "\n",
    "dfsub <- df\n",
    "show(summary(dfsub))\n",
    "#results <- lmer(logtime ~ condition + (1|user), data = df)\n",
    "#results <- lmer(logtime ~ condition + (1|user), data = dfsub)\n",
    "results <- lmer(logtime ~ condition + (1|user) + (1|domain), data = df)\n",
    "show(results)\n",
    "show(summary(results))\n",
    "class(results) <- \"lmerMod\"\n",
    "stargazer(results)"
   ]
  },
  {
   "cell_type": "code",
   "execution_count": 23,
   "metadata": {},
   "outputs": [
    {
     "name": "stdout",
     "output_type": "stream",
     "text": [
      "                                          domain      \n",
      " www.facebook.com                            :112296  \n",
      " _.shoprintee.com                            :     0  \n",
      " _354ee77b690e05ac66854a6c6d9f5ad6.testera.ir:     0  \n",
      " _antonia.gr                                 :     0  \n",
      " _dmarc.adoreme.com                          :     0  \n",
      " _dnslink.your.website                       :     0  \n",
      " (Other)                                     :     0  \n",
      "                       user            epoch             time      \n",
      " 3d8f23613f3849ed266ace58:   418   1592   :   430   Min.   :    1  \n",
      " f9329b2116e3bd031cca0519:   387   1573   :   429   1st Qu.:  116  \n",
      " e02d077981cded46b3146e43:   366   1609   :   426   Median :  457  \n",
      " 319241bc0a9dee7ccacbc105:   339   1587   :   423   Mean   : 1158  \n",
      " a7311fce31d8d92e37288573:   337   1599   :   422   3rd Qu.: 1355  \n",
      " 269aa5d6e571d088ee3ad433:   325   1608   :   422   Max.   :88216  \n",
      " (Other)                 :110124   (Other):109744                  \n",
      "    logtime                                   condition    \n",
      " Min.   : 0.000   survey_nochoice_nothing          :15445  \n",
      " 1st Qu.: 4.754   survey_nochoice_easy             :19981  \n",
      " Median : 6.125   survey_nochoice_medium           :19486  \n",
      " Mean   : 5.831   survey_nochoice_hard             :19141  \n",
      " 3rd Qu.: 7.212   survey                           :19488  \n",
      " Max.   :11.388   nodefault_forcedchoice_userchoice:18755  \n",
      "                                                           \n",
      "Linear mixed model fit by REML ['lmerModLmerTest']\n",
      "Formula: logtime ~ condition + (1 | user)\n",
      "   Data: dfsub\n",
      "REML criterion at convergence: 411798.8\n",
      "Random effects:\n",
      " Groups   Name        Std.Dev.\n",
      " user     (Intercept) 1.417   \n",
      " Residual             1.452   \n",
      "Number of obs: 112296, groups:  user, 4016\n",
      "Fixed Effects:\n",
      "                               (Intercept)  \n",
      "                                  5.036956  \n",
      "             conditionsurvey_nochoice_easy  \n",
      "                                  0.003113  \n",
      "           conditionsurvey_nochoice_medium  \n",
      "                                  0.002877  \n",
      "             conditionsurvey_nochoice_hard  \n",
      "                                 -0.074950  \n",
      "                           conditionsurvey  \n",
      "                                 -0.208622  \n",
      "conditionnodefault_forcedchoice_userchoice  \n",
      "                                 -0.083110  \n",
      "Linear mixed model fit by REML. t-tests use Satterthwaite's method [\n",
      "lmerModLmerTest]\n",
      "Formula: logtime ~ condition + (1 | user)\n",
      "   Data: dfsub\n",
      "\n",
      "REML criterion at convergence: 411798.8\n",
      "\n",
      "Scaled residuals: \n",
      "    Min      1Q  Median      3Q     Max \n",
      "-5.9555 -0.4900  0.1512  0.6475  5.0747 \n",
      "\n",
      "Random effects:\n",
      " Groups   Name        Variance Std.Dev.\n",
      " user     (Intercept) 2.007    1.417   \n",
      " Residual             2.108    1.452   \n",
      "Number of obs: 112296, groups:  user, 4016\n",
      "\n",
      "Fixed effects:\n",
      "                                             Estimate Std. Error         df\n",
      "(Intercept)                                 5.037e+00  7.188e-02  3.505e+03\n",
      "conditionsurvey_nochoice_easy               3.113e-03  9.380e-02  3.552e+03\n",
      "conditionsurvey_nochoice_medium             2.877e-03  9.296e-02  3.573e+03\n",
      "conditionsurvey_nochoice_hard              -7.495e-02  9.359e-02  3.587e+03\n",
      "conditionsurvey                            -2.086e-01  9.253e-02  3.553e+03\n",
      "conditionnodefault_forcedchoice_userchoice -8.311e-02  9.336e-02  3.557e+03\n",
      "                                           t value Pr(>|t|)    \n",
      "(Intercept)                                 70.074   <2e-16 ***\n",
      "conditionsurvey_nochoice_easy                0.033   0.9735    \n",
      "conditionsurvey_nochoice_medium              0.031   0.9753    \n",
      "conditionsurvey_nochoice_hard               -0.801   0.4233    \n",
      "conditionsurvey                             -2.255   0.0242 *  \n",
      "conditionnodefault_forcedchoice_userchoice  -0.890   0.3734    \n",
      "---\n",
      "Signif. codes:  0 ‘***’ 0.001 ‘**’ 0.01 ‘*’ 0.05 ‘.’ 0.1 ‘ ’ 1\n",
      "\n",
      "Correlation of Fixed Effects:\n",
      "                 (Intr) cndtnsrvy_nchc_s cndtnsrvy_nchc_m cndtnsrvy_nchc_h\n",
      "cndtnsrvy_nchc_s -0.766                                                   \n",
      "cndtnsrvy_nchc_m -0.773  0.593                                            \n",
      "cndtnsrvy_nchc_h -0.768  0.589            0.594                           \n",
      "conditnsrvy      -0.777  0.595            0.601            0.597          \n",
      "cndtnndfl__      -0.770  0.590            0.595            0.591          \n",
      "                 cndtns\n",
      "cndtnsrvy_nchc_s       \n",
      "cndtnsrvy_nchc_m       \n",
      "cndtnsrvy_nchc_h       \n",
      "conditnsrvy            \n",
      "cndtnndfl__       0.598\n",
      "\n",
      "% Table created by stargazer v.5.2.2 by Marek Hlavac, Harvard University. E-mail: hlavac at fas.harvard.edu\n",
      "% Date and time: 一,  9 14, 2020 - 13时34分28秒\n",
      "\\begin{table}[!htbp] \\centering \n",
      "  \\caption{} \n",
      "  \\label{} \n",
      "\\begin{tabular}{@{\\extracolsep{5pt}}lc} \n",
      "\\\\[-1.8ex]\\hline \n",
      "\\hline \\\\[-1.8ex] \n",
      " & \\multicolumn{1}{c}{\\textit{Dependent variable:}} \\\\ \n",
      "\\cline{2-2} \n",
      "\\\\[-1.8ex] & logtime \\\\ \n",
      "\\hline \\\\[-1.8ex] \n",
      " conditionsurvey\\_nochoice\\_easy & 0.003 \\\\ \n",
      "  & (0.094) \\\\ \n",
      "  & \\\\ \n",
      " conditionsurvey\\_nochoice\\_medium & 0.003 \\\\ \n",
      "  & (0.093) \\\\ \n",
      "  & \\\\ \n",
      " conditionsurvey\\_nochoice\\_hard & $-$0.075 \\\\ \n",
      "  & (0.094) \\\\ \n",
      "  & \\\\ \n",
      " conditionsurvey & $-$0.209$^{**}$ \\\\ \n",
      "  & (0.093) \\\\ \n",
      "  & \\\\ \n",
      " conditionnodefault\\_forcedchoice\\_userchoice & $-$0.083 \\\\ \n",
      "  & (0.093) \\\\ \n",
      "  & \\\\ \n",
      " Constant & 5.037$^{***}$ \\\\ \n",
      "  & (0.072) \\\\ \n",
      "  & \\\\ \n",
      "\\hline \\\\[-1.8ex] \n",
      "Observations & 112,296 \\\\ \n",
      "Log Likelihood & $-$205,899.400 \\\\ \n",
      "Akaike Inf. Crit. & 411,814.800 \\\\ \n",
      "Bayesian Inf. Crit. & 411,891.800 \\\\ \n",
      "\\hline \n",
      "\\hline \\\\[-1.8ex] \n",
      "\\textit{Note:}  & \\multicolumn{1}{r}{$^{*}$p$<$0.1; $^{**}$p$<$0.05; $^{***}$p$<$0.01} \\\\ \n",
      "\\end{tabular} \n",
      "\\end{table} \n"
     ]
    }
   ],
   "source": [
    "%%R\n",
    "\n",
    "dfsub <- df[df$domain == 'www.facebook.com', ]\n",
    "show(summary(dfsub))\n",
    "#results <- lmer(logtime ~ condition + (1|user), data = df)\n",
    "results <- lmer(logtime ~ condition + (1|user), data = dfsub)\n",
    "#results <- lmer(logtime ~ condition + (1|user) + (1|domain), data = df)\n",
    "show(results)\n",
    "show(summary(results))\n",
    "class(results) <- \"lmerMod\"\n",
    "stargazer(results)"
   ]
  },
  {
   "cell_type": "code",
   "execution_count": 24,
   "metadata": {},
   "outputs": [],
   "source": [
    "# noexport\n",
    "\n",
    "condition_to_lengths = {}\n",
    "for condition,installs in condition_to_installs.items():\n",
    "  condition_to_lengths[condition] = []\n",
    "  for install in installs:\n",
    "    for epoch,domain_to_time_spent in get_epoch_to_domain_to_time_spent(install).items():\n",
    "      total_time_spent = sum(domain_to_time_spent.values())\n",
    "      condition_to_lengths[condition].append(total_time_spent)\n",
    "      #if 'www.facebook.com' not in domain_to_time_spent:\n",
    "      #  continue\n",
    "      #time_on_facebook = domain_to_time_spent.get('www.facebook.com', 0)\n",
    "      #condition_to_lengths[condition].append(time_on_facebook)"
   ]
  },
  {
   "cell_type": "code",
   "execution_count": 25,
   "metadata": {},
   "outputs": [],
   "source": [
    "# noexport\n",
    "# bad\n",
    "\n",
    "\n",
    "condition_to_lengths = {}\n",
    "for condition,installs in condition_to_installs.items():\n",
    "  condition_to_lengths[condition] = []\n",
    "  for install in installs:\n",
    "    for domain,intervention_to_session_lengths in get_domain_to_intervention_to_session_lengths_for_install(install).items():\n",
    "      if domain != 'www.youtube.com':\n",
    "        continue\n",
    "      for intervention,session_lengths in intervention_to_session_lengths.items():\n",
    "        for session_length in session_lengths:\n",
    "          condition_to_lengths[condition].append(session_length)\n"
   ]
  },
  {
   "cell_type": "code",
   "execution_count": 26,
   "metadata": {},
   "outputs": [],
   "source": [
    "# noexport\n",
    "\n",
    "condition_to_lengths = {}\n",
    "for condition,installs in condition_to_installs.items():\n",
    "  condition_to_lengths[condition] = []\n",
    "  for install in installs:\n",
    "    all_lengths_for_user = []\n",
    "    for epoch,domain_to_time_spent in get_epoch_to_domain_to_time_spent(install).items():\n",
    "      total_time_spent = sum(domain_to_time_spent.values())\n",
    "      all_lengths_for_user.append(total_time_spent)\n",
    "    if len(all_lengths_for_user) == 0:\n",
    "      continue\n",
    "    condition_to_lengths[condition].append(np.median(all_lengths_for_user))\n",
    "      #if 'www.facebook.com' not in domain_to_time_spent:\n",
    "      #  continue\n",
    "      #time_on_facebook = domain_to_time_spent.get('www.facebook.com', 0)\n",
    "      #condition_to_lengths[condition].append(time_on_facebook)"
   ]
  },
  {
   "cell_type": "code",
   "execution_count": 27,
   "metadata": {},
   "outputs": [],
   "source": [
    "# noexport\n",
    "\n",
    "condition_to_lengths = {}\n",
    "for condition,installs in condition_to_installs.items():\n",
    "  condition_to_lengths[condition] = []\n",
    "  for install in installs:\n",
    "    for epoch,domain_to_time_spent in get_epoch_to_domain_to_time_spent(install).items():\n",
    "      if 'www.facebook.com' not in domain_to_time_spent:\n",
    "        continue\n",
    "      time_on_facebook = domain_to_time_spent.get('www.facebook.com', 0)\n",
    "      condition_to_lengths[condition].append(time_on_facebook)"
   ]
  },
  {
   "cell_type": "code",
   "execution_count": 28,
   "metadata": {},
   "outputs": [
    {
     "name": "stdout",
     "output_type": "stream",
     "text": [
      "nodefault_forcedchoice_userchoice 945.6508664356172\n",
      "survey 1146.7481527093596\n",
      "survey_nochoice_hard 1152.458648973408\n",
      "survey_nochoice_easy 1376.3333166508182\n",
      "survey_nochoice_nothing 1050.2378763353836\n",
      "survey_nochoice_medium 1239.4932259057784\n",
      "Ttest_indResult(statistic=-9.386884766792647, pvalue=6.501266012485611e-21)\n"
     ]
    }
   ],
   "source": [
    "# noexport\n",
    "from scipy.stats import ttest_ind\n",
    "\n",
    "condition_to_mlengths = {}\n",
    "for condition,session_lengths in condition_to_lengths.items():\n",
    "  print(condition, np.mean(session_lengths))\n",
    "  condition_to_mlengths[condition] = np.mean(session_lengths) / 60\n",
    "\n",
    "#print(ttest_ind(condition_to_lengths['survey_nochoice_hard'], condition_to_lengths['survey_nochoice_nothing']))\n",
    "print(ttest_ind(condition_to_lengths['survey_nochoice_hard'], condition_to_lengths['survey_nochoice_easy']))\n",
    "#print(ttest_ind(condition_to_lengths['survey_nochoice_easy'], condition_to_lengths['survey_nochoice_medium']))\n"
   ]
  },
  {
   "cell_type": "code",
   "execution_count": 29,
   "metadata": {},
   "outputs": [
    {
     "data": {
      "text/html": [
       "        <script type=\"text/javascript\">\n",
       "        window.PlotlyConfig = {MathJaxConfig: 'local'};\n",
       "        if (window.MathJax) {MathJax.Hub.Config({SVG: {font: \"STIX-Web\"}});}\n",
       "        if (typeof require !== 'undefined') {\n",
       "        require.undef(\"plotly\");\n",
       "        requirejs.config({\n",
       "            paths: {\n",
       "                'plotly': ['https://cdn.plot.ly/plotly-latest.min']\n",
       "            }\n",
       "        });\n",
       "        require(['plotly'], function(Plotly) {\n",
       "            window._Plotly = Plotly;\n",
       "        });\n",
       "        }\n",
       "        </script>\n",
       "        "
      ]
     },
     "metadata": {},
     "output_type": "display_data"
    }
   ],
   "source": [
    "# noexport\n",
    "\n",
    "from plot_utils import *\n"
   ]
  },
  {
   "cell_type": "code",
   "execution_count": 30,
   "metadata": {},
   "outputs": [
    {
     "data": {
      "application/vnd.plotly.v1+json": {
       "config": {
        "linkText": "Export to plot.ly",
        "plotlyServerURL": "https://plot.ly",
        "responsive": true,
        "showLink": false
       },
       "data": [
        {
         "orientation": "v",
         "type": "bar",
         "uid": "2fd0262a-8061-486e-89aa-bbe2069f045e",
         "x": [
          "Easy",
          "Medium",
          "Hard",
          "Experience Sampling",
          "Nothing",
          "Onboarding Choice"
         ],
         "y": [
          22.93888861084697,
          20.658220431762974,
          19.2076441495568,
          19.11246921182266,
          17.503964605589726,
          15.760847773926953
         ]
        }
       ],
       "layout": {
        "title": {
         "text": "Total minutes spent daily on sites"
        },
        "xaxis": {
         "title": {
          "text": "Difficulty"
         }
        },
        "yaxis": {
         "title": {
          "text": "Minutes spent daily on sites"
         }
        }
       }
      },
      "text/html": [
       "<div>\n",
       "        \n",
       "        \n",
       "            <div id=\"f3855beb-d734-4604-9da2-36ad5e7eeaaf\" class=\"plotly-graph-div\" style=\"height:525px; width:100%;\"></div>\n",
       "            <script type=\"text/javascript\">\n",
       "                require([\"plotly\"], function(Plotly) {\n",
       "                    window.PLOTLYENV=window.PLOTLYENV || {};\n",
       "                    window.PLOTLYENV.BASE_URL='https://plot.ly';\n",
       "                    \n",
       "                if (document.getElementById(\"f3855beb-d734-4604-9da2-36ad5e7eeaaf\")) {\n",
       "                    Plotly.newPlot(\n",
       "                        'f3855beb-d734-4604-9da2-36ad5e7eeaaf',\n",
       "                        [{\"orientation\": \"v\", \"type\": \"bar\", \"uid\": \"80d1fd1b-fd95-4328-a6e1-18f63a987c5e\", \"x\": [\"Easy\", \"Medium\", \"Hard\", \"Experience Sampling\", \"Nothing\", \"Onboarding Choice\"], \"y\": [22.93888861084697, 20.658220431762974, 19.2076441495568, 19.11246921182266, 17.503964605589726, 15.760847773926953]}],\n",
       "                        {\"title\": {\"text\": \"Total minutes spent daily on sites\"}, \"xaxis\": {\"title\": {\"text\": \"Difficulty\"}}, \"yaxis\": {\"title\": {\"text\": \"Minutes spent daily on sites\"}}},\n",
       "                        {\"showLink\": false, \"linkText\": \"Export to plot.ly\", \"plotlyServerURL\": \"https://plot.ly\", \"responsive\": true}\n",
       "                    ).then(function(){\n",
       "                            \n",
       "var gd = document.getElementById('f3855beb-d734-4604-9da2-36ad5e7eeaaf');\n",
       "var x = new MutationObserver(function (mutations, observer) {{\n",
       "        var display = window.getComputedStyle(gd).display;\n",
       "        if (!display || display === 'none') {{\n",
       "            console.log([gd, 'removed!']);\n",
       "            Plotly.purge(gd);\n",
       "            observer.disconnect();\n",
       "        }}\n",
       "}});\n",
       "\n",
       "// Listen for the removal of the full notebook cells\n",
       "var notebookContainer = gd.closest('#notebook-container');\n",
       "if (notebookContainer) {{\n",
       "    x.observe(notebookContainer, {childList: true});\n",
       "}}\n",
       "\n",
       "// Listen for the clearing of the current output cell\n",
       "var outputEl = gd.closest('.output');\n",
       "if (outputEl) {{\n",
       "    x.observe(outputEl, {childList: true});\n",
       "}}\n",
       "\n",
       "                        })\n",
       "                };\n",
       "                });\n",
       "            </script>\n",
       "        </div>"
      ]
     },
     "metadata": {},
     "output_type": "display_data"
    }
   ],
   "source": [
    "# noexport\n",
    "\n",
    "#from plot_utils import *\n",
    "plot_dict_as_bar(condition_to_mlengths, title='Total minutes spent daily on sites', xlabel='Difficulty', ylabel='Minutes spent daily on sites', remap_labels={'survey_nochoice_nothing': 'Nothing', 'survey_nochoice_easy': 'Easy', 'survey_nochoice_medium': 'Medium', 'survey_nochoice_hard': 'Hard', 'survey': 'Experience Sampling', 'nodefault_forcedchoice_userchoice': 'Onboarding Choice'})"
   ]
  },
  {
   "cell_type": "code",
   "execution_count": 31,
   "metadata": {},
   "outputs": [],
   "source": [
    "# for install in installs_with_experiment_vars:\n",
    "#   #seconds_on_domain_per_session = get_collection_for_install(install, 'synced:seconds_on_domain_per_session')\n",
    "#   #interventions_active_for_domain_and_session = get_collection_for_install(install, 'synced:interventions_active_for_domain_and_session')\n",
    "#   res = get_domain_to_intervention_to_session_lengths_for_install(install)\n",
    "#   #if len(res) > 0:\n",
    "#   #  print(res)\n",
    "#   #  break"
   ]
  }
 ],
 "metadata": {
  "kernelspec": {
   "display_name": "Python 3",
   "language": "python",
   "name": "python3"
  },
  "language_info": {
   "codemirror_mode": {
    "name": "ipython",
    "version": 3
   },
   "file_extension": ".py",
   "mimetype": "text/x-python",
   "name": "python",
   "nbconvert_exporter": "python",
   "pygments_lexer": "ipython3",
   "version": "3.7.8"
  }
 },
 "nbformat": 4,
 "nbformat_minor": 2
}
