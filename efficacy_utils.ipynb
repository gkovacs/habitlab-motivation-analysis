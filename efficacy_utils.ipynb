{
 "cells": [
  {
   "cell_type": "code",
   "execution_count": 1,
   "metadata": {},
   "outputs": [
    {
     "name": "stdout",
     "output_type": "stream",
     "text": [
      "[NbConvertApp] Converting notebook efficacy_utils.ipynb to python\n",
      "retention_utils.py:448: error: Name 'get_ipython' is not defined\n",
      "efficacy_utils.py:40: error: Name 'get_condition_to_installs_for_random_assignment_abtest' already defined on line 27\n",
      "efficacy_utils.py:163: error: Name 'get_ipython' is not defined\n",
      "efficacy_utils.py:180: error: Name 'get_ipython' is not defined\n",
      "efficacy_utils.py:184: error: Name 'get_ipython' is not defined\n",
      "efficacy_utils.py:188: error: Name 'get_ipython' is not defined\n"
     ]
    }
   ],
   "source": [
    "# noexport\n",
    "\n",
    "!typech efficacy_utils.ipynb"
   ]
  },
  {
   "cell_type": "code",
   "execution_count": 2,
   "metadata": {},
   "outputs": [
    {
     "data": {
      "text/html": [
       "        <script type=\"text/javascript\">\n",
       "        window.PlotlyConfig = {MathJaxConfig: 'local'};\n",
       "        if (window.MathJax) {MathJax.Hub.Config({SVG: {font: \"STIX-Web\"}});}\n",
       "        if (typeof require !== 'undefined') {\n",
       "        require.undef(\"plotly\");\n",
       "        requirejs.config({\n",
       "            paths: {\n",
       "                'plotly': ['https://cdn.plot.ly/plotly-latest.min']\n",
       "            }\n",
       "        });\n",
       "        require(['plotly'], function(Plotly) {\n",
       "            window._Plotly = Plotly;\n",
       "        });\n",
       "        }\n",
       "        </script>\n",
       "        "
      ]
     },
     "metadata": {},
     "output_type": "display_data"
    },
    {
     "name": "stdout",
     "output_type": "stream",
     "text": [
      "The rpy2.ipython extension is already loaded. To reload it, use:\n",
      "  %reload_ext rpy2.ipython\n"
     ]
    },
    {
     "data": {
      "application/javascript": [
       "IPython.OutputArea.prototype._should_scroll = function(lines) {\n",
       "    return false;\n",
       "}"
      ],
      "text/plain": [
       "<IPython.core.display.Javascript object>"
      ]
     },
     "metadata": {},
     "output_type": "display_data"
    }
   ],
   "source": [
    "from retention_utils import *"
   ]
  },
  {
   "cell_type": "code",
   "execution_count": 3,
   "metadata": {},
   "outputs": [],
   "source": [
    "import jsonmemo as jsonmemo_module\n",
    "jsonmemo_module.set_lowmem(True)"
   ]
  },
  {
   "cell_type": "code",
   "execution_count": 4,
   "metadata": {},
   "outputs": [],
   "source": [
    "#installs_with_experiment_vars = get_installs_with_experiment_vars()"
   ]
  },
  {
   "cell_type": "code",
   "execution_count": 5,
   "metadata": {},
   "outputs": [],
   "source": [
    "#print(installs_with_experiment_vars[0])"
   ]
  },
  {
   "cell_type": "code",
   "execution_count": 6,
   "metadata": {},
   "outputs": [],
   "source": [
    "\n",
    "\n",
    "def get_condition_to_installs_for_random_assignment_abtest():\n",
    "  abtest_name = 'difficulty_selection_screen'\n",
    "  groups = ['survey_nochoice_nothing', 'survey_nochoice_easy', 'survey_nochoice_medium', 'survey_nochoice_hard']\n",
    "  condition_to_installs = get_conditions_to_install_list_in_abtest_unstrict(abtest_name)\n",
    "  for k in list(condition_to_installs.keys()):\n",
    "    if k not in groups:\n",
    "      del condition_to_installs[k]\n",
    "  return condition_to_installs\n"
   ]
  },
  {
   "cell_type": "code",
   "execution_count": 7,
   "metadata": {},
   "outputs": [],
   "source": [
    "\n",
    "\n",
    "def get_condition_to_installs_for_random_assignment_abtest():\n",
    "  abtest_name = 'difficulty_selection_screen_and_choose_difficulty_frequency'\n",
    "  groups = ['survey', 'nodefault_forcedchoice_userchoice', 'survey_nochoice_nothing', 'survey_nochoice_easy', 'survey_nochoice_medium', 'survey_nochoice_hard']\n",
    "  #condition_to_installs = get_conditions_to_install_list_in_abtest_unstrict(abtest_name)\n",
    "  condition_to_installs = get_conditions_to_install_list_in_abtest(abtest_name, groups)\n",
    "  for k in list(condition_to_installs.keys()):\n",
    "    if k not in groups:\n",
    "      del condition_to_installs[k]\n",
    "  return condition_to_installs\n"
   ]
  },
  {
   "cell_type": "code",
   "execution_count": 8,
   "metadata": {},
   "outputs": [],
   "source": [
    "\n",
    "#for install in installs_with_experiment_vars:\n",
    "@msgpackmemo1arg\n",
    "def get_domain_to_intervention_to_session_lengths_for_install(install):\n",
    "  seconds_on_domain_per_session = get_collection_for_install(install, 'synced:seconds_on_domain_per_session')\n",
    "  interventions_active_for_domain_and_session = get_collection_for_install(install, 'synced:interventions_active_for_domain_and_session')\n",
    "  \n",
    "  domain_to_session_to_intervention = {}\n",
    "  for x in interventions_active_for_domain_and_session:\n",
    "    if x.get('val') is None:\n",
    "      continue\n",
    "    interventions_active = json.loads(x['val'])\n",
    "    if len(interventions_active) == 0:\n",
    "      continue\n",
    "    intervention_name = interventions_active[0]\n",
    "    domain = x['key']\n",
    "    session_id = x['key2']\n",
    "    if domain not in domain_to_session_to_intervention:\n",
    "      domain_to_session_to_intervention[domain] = {}\n",
    "    domain_to_session_to_intervention[domain][session_id] = intervention_name\n",
    "  \n",
    "  domain_to_intervention_to_session_lengths = {}\n",
    "  for x in seconds_on_domain_per_session:\n",
    "    if 'key' not in x:\n",
    "      print('missing key in seconds_on_domain_per_session')\n",
    "      print(x)\n",
    "      continue\n",
    "    domain = x['key']\n",
    "    session_id = x['key2']\n",
    "    time_spent = x['val']\n",
    "    if domain not in domain_to_session_to_intervention:\n",
    "      continue\n",
    "    intervention_name = domain_to_session_to_intervention[domain].get(session_id)\n",
    "    if intervention_name is None:\n",
    "      continue\n",
    "    if domain not in domain_to_intervention_to_session_lengths:\n",
    "      domain_to_intervention_to_session_lengths[domain] = {}\n",
    "    if intervention_name not in domain_to_intervention_to_session_lengths[domain]:\n",
    "      domain_to_intervention_to_session_lengths[domain][intervention_name] = []\n",
    "    domain_to_intervention_to_session_lengths[domain][intervention_name].append(time_spent)\n",
    "  return domain_to_intervention_to_session_lengths\n",
    "  "
   ]
  },
  {
   "cell_type": "code",
   "execution_count": 9,
   "metadata": {},
   "outputs": [
    {
     "name": "stdout",
     "output_type": "stream",
     "text": [
      "edceda6041ef668213a96ba5_synced:seconds_on_domain_per_day\n"
     ]
    }
   ],
   "source": [
    "# noexport\n",
    "\n",
    "for x in get_collection_names():\n",
    "  if 'per_day' in x and 'visits' not in x:\n",
    "    print(x)\n",
    "    break"
   ]
  },
  {
   "cell_type": "code",
   "execution_count": 10,
   "metadata": {},
   "outputs": [],
   "source": [
    "@msgpackmemo1arg\n",
    "def get_epoch_to_domain_to_time_spent(install):\n",
    "  seconds_on_domain_per_day = get_collection_for_install(install, 'synced:seconds_on_domain_per_day')\n",
    "  output = {}\n",
    "  for x in seconds_on_domain_per_day:\n",
    "    if 'key' not in x:\n",
    "      print('missing key in seconds_on_domain_per_day')\n",
    "      print(x)\n",
    "      continue\n",
    "    domain = x['key']\n",
    "    epoch = x['key2']\n",
    "    seconds = x['val']\n",
    "    if epoch not in output:\n",
    "      output[epoch] = {}\n",
    "    output[epoch][domain] = seconds\n",
    "  return output"
   ]
  },
  {
   "cell_type": "code",
   "execution_count": 11,
   "metadata": {},
   "outputs": [],
   "source": [
    "# noexport\n",
    "\n",
    "condition_to_installs = get_condition_to_installs_for_random_assignment_abtest()\n"
   ]
  },
  {
   "cell_type": "code",
   "execution_count": 12,
   "metadata": {},
   "outputs": [],
   "source": [
    "# noexport\n",
    "\n",
    "for condition,installs in condition_to_installs.items():\n",
    "  for install in installs:\n",
    "    get_epoch_to_domain_to_time_spent(install)\n",
    "    #print(sorted(get_epoch_to_domain_to_time_spent(install).keys()))\n",
    "    break"
   ]
  },
  {
   "cell_type": "code",
   "execution_count": null,
   "metadata": {},
   "outputs": [],
   "source": []
  },
  {
   "cell_type": "code",
   "execution_count": 13,
   "metadata": {},
   "outputs": [],
   "source": [
    "import math\n",
    "\n",
    "def make_domain_to_daily_time_dataframe():\n",
    "  output = []\n",
    "  for condition,installs in condition_to_installs.items():\n",
    "    #condition_to_lengths[condition] = []\n",
    "    for install in installs:\n",
    "      for epoch,domain_to_time_spent in get_epoch_to_domain_to_time_spent(install).items():\n",
    "#         total_time_spent = sum(domain_to_time_spent.values())\n",
    "#         output.append({\n",
    "#           'user': install,\n",
    "#           'epoch': epoch,\n",
    "#           'time': total_time_spent,\n",
    "#           'logtime': math.log(total_time_spent),\n",
    "#           'condition': condition,\n",
    "#         })\n",
    "        for domain,total_time_spent in  domain_to_time_spent.items():\n",
    "          output.append({\n",
    "            'domain': domain,\n",
    "            'user': install,\n",
    "            'epoch': epoch,\n",
    "            'time': total_time_spent,\n",
    "            'logtime': math.log(total_time_spent),\n",
    "            'condition': condition,\n",
    "          })\n",
    "  return to_dataframe(output)"
   ]
  },
  {
   "cell_type": "code",
   "execution_count": 32,
   "metadata": {},
   "outputs": [],
   "source": [
    "# noexport\n",
    "\n",
    "df = make_domain_to_daily_time_dataframe()"
   ]
  },
  {
   "cell_type": "code",
   "execution_count": 15,
   "metadata": {},
   "outputs": [],
   "source": [
    "#print(df)"
   ]
  },
  {
   "cell_type": "code",
   "execution_count": 34,
   "metadata": {},
   "outputs": [
    {
     "name": "stderr",
     "output_type": "stream",
     "text": [
      "/usr/local/lib/python3.7/site-packages/rpy2/robjects/pandas2ri.py:63: UserWarning:\n",
      "\n",
      "Error while trying to convert the column \"condition\". Fall back to string conversion. The error is: module 'pandas' has no attribute 'NA'\n",
      "\n"
     ]
    }
   ],
   "source": [
    "# noexport\n",
    "\n",
    "%Rpush df"
   ]
  },
  {
   "cell_type": "code",
   "execution_count": 17,
   "metadata": {},
   "outputs": [],
   "source": [
    "#%%R\n",
    "#install.library"
   ]
  },
  {
   "cell_type": "code",
   "execution_count": 35,
   "metadata": {},
   "outputs": [],
   "source": [
    "%%R\n",
    "\n",
    "library(lme4)\n",
    "#library(sjPlot)\n",
    "library(lmerTest)\n",
    "library(stargazer)\n"
   ]
  },
  {
   "cell_type": "code",
   "execution_count": 19,
   "metadata": {},
   "outputs": [],
   "source": [
    "# %%R\n",
    "\n",
    "# df$user <- as.factor(df$user)\n",
    "# #df$domain <- as.factor(df$domain)\n",
    "# df$condition <- as.factor(df$condition)\n",
    "# df$condition <- factor(df$condition, levels = c(\"survey_nochoice_nothing\", \"survey_nochoice_easy\", \"survey_nochoice_medium\", \"survey_nochoice_hard\"))\n",
    "# df$epoch <- as.factor(df$epoch)\n",
    "# df$logtime <- as.numeric(df$logtime)\n",
    "# df$time <- as.numeric(df$time)\n",
    "# summary(df)\n",
    "\n"
   ]
  },
  {
   "cell_type": "code",
   "execution_count": 36,
   "metadata": {},
   "outputs": [
    {
     "name": "stdout",
     "output_type": "stream",
     "text": [
      "[[1]]\n",
      "[1] \"www.google.com  : 150738  \"\n",
      "\n",
      "[[2]]\n",
      "[1] \"www.youtube.com : 105926  \"\n",
      "\n",
      "[[3]]\n",
      "[1] \"mail.google.com :  95790  \"\n",
      "\n",
      "[[4]]\n",
      "[1] \"www.facebook.com:  71314  \"\n",
      "\n",
      "[[5]]\n",
      "[1] \"docs.google.com :  58150  \"\n",
      "\n",
      "[[6]]\n",
      "[1] \"drive.google.com:  39631  \"\n",
      "\n",
      "[[7]]\n",
      "[1] \"(Other)         :4089948  \"\n",
      "\n",
      "[[8]]\n",
      "[1] \"f9329b2116e3bd031cca0519:  19134  \"\n",
      "\n",
      "[[9]]\n",
      "[1] \"ac3fb867e496b79bd34dff4a:  17419  \"\n",
      "\n",
      "[[10]]\n",
      "[1] \"1e42870bb128918b18137b18:  16560  \"\n",
      "\n",
      "[[11]]\n",
      "[1] \"1e02d5363a5d3f7ae81fbbc1:  14910  \"\n",
      "\n",
      "[[12]]\n",
      "[1] \"0063f0e0e7858c3c37a1586a:  14144  \"\n",
      "\n",
      "[[13]]\n",
      "[1] \"c58636d9d2fd7f7d6640f3e1:  14115  \"\n",
      "\n",
      "[[14]]\n",
      "[1] \"(Other)                 :4515215  \"\n",
      "\n",
      "[[15]]\n",
      "[1] \"1578   :  25779  \"\n",
      "\n",
      "[[16]]\n",
      "[1] \"1567   :  25361  \"\n",
      "\n",
      "[[17]]\n",
      "[1] \"1573   :  25224  \"\n",
      "\n",
      "[[18]]\n",
      "[1] \"1566   :  25218  \"\n",
      "\n",
      "[[19]]\n",
      "[1] \"1551   :  25142  \"\n",
      "\n",
      "[[20]]\n",
      "[1] \"1550   :  25113  \"\n",
      "\n",
      "[[21]]\n",
      "[1] \"(Other):4459660  \"\n",
      "\n",
      "[[22]]\n",
      "[1] \"Min.   :    1.0  \"\n",
      "\n",
      "[[23]]\n",
      "[1] \"1st Qu.:   14.0  \"\n",
      "\n",
      "[[24]]\n",
      "[1] \"Median :   55.0  \"\n",
      "\n",
      "[[25]]\n",
      "[1] \"Mean   :  372.9  \"\n",
      "\n",
      "[[26]]\n",
      "[1] \"3rd Qu.:  200.0  \"\n",
      "\n",
      "[[27]]\n",
      "[1] \"Max.   :89087.0  \"\n",
      "\n",
      "[[28]]\n",
      "<CHARSXP: NA>\n",
      "\n",
      "[[29]]\n",
      "[1] \"Min.   : 0.000  \"\n",
      "\n",
      "[[30]]\n",
      "[1] \"1st Qu.: 2.639  \"\n",
      "\n",
      "[[31]]\n",
      "[1] \"Median : 4.007  \"\n",
      "\n",
      "[[32]]\n",
      "[1] \"Mean   : 4.008  \"\n",
      "\n",
      "[[33]]\n",
      "[1] \"3rd Qu.: 5.298  \"\n",
      "\n",
      "[[34]]\n",
      "[1] \"Max.   :11.397  \"\n",
      "\n",
      "[[35]]\n",
      "<CHARSXP: NA>\n",
      "\n",
      "[[36]]\n",
      "[1] \"survey_nochoice_nothing          :610056  \"\n",
      "\n",
      "[[37]]\n",
      "[1] \"survey_nochoice_easy             :767220  \"\n",
      "\n",
      "[[38]]\n",
      "[1] \"survey_nochoice_medium           :836347  \"\n",
      "\n",
      "[[39]]\n",
      "[1] \"survey_nochoice_hard             :812813  \"\n",
      "\n",
      "[[40]]\n",
      "[1] \"survey                           :834291  \"\n",
      "\n",
      "[[41]]\n",
      "[1] \"nodefault_forcedchoice_userchoice:750770  \"\n",
      "\n",
      "[[42]]\n",
      "<CHARSXP: NA>\n",
      "\n"
     ]
    }
   ],
   "source": [
    "%%R\n",
    "\n",
    "df$user <- as.factor(df$user)\n",
    "df$domain <- as.factor(df$domain)\n",
    "df$condition <- as.factor(df$condition)\n",
    "df$condition <- factor(df$condition, levels = c(\"survey_nochoice_nothing\", \"survey_nochoice_easy\", \"survey_nochoice_medium\", \"survey_nochoice_hard\", \"survey\", \"nodefault_forcedchoice_userchoice\"))\n",
    "df$epoch <- as.factor(df$epoch)\n",
    "df$logtime <- as.numeric(df$logtime)\n",
    "df$time <- as.numeric(df$time)\n",
    "summary(df)\n",
    "\n",
    "\n"
   ]
  },
  {
   "cell_type": "code",
   "execution_count": 21,
   "metadata": {},
   "outputs": [
    {
     "name": "stdout",
     "output_type": "stream",
     "text": [
      "NULL\n"
     ]
    }
   ],
   "source": [
    "%%R\n",
    "\n",
    "#dfsub <- df[df$domain == 'www.youtube.com', ]\n",
    "#show(summary(dfsub))\n",
    "#show(summary(subset(df, domain='www.youtube.com')))\n",
    "#dfsub <- subset(df, domain='www.youtube.com')\n",
    "#show(summary(dfsub))"
   ]
  },
  {
   "cell_type": "code",
   "execution_count": 37,
   "metadata": {},
   "outputs": [
    {
     "name": "stdout",
     "output_type": "stream",
     "text": [
      "              domain                              user        \n",
      " www.google.com  : 150738   f9329b2116e3bd031cca0519:  19134  \n",
      " www.youtube.com : 105926   ac3fb867e496b79bd34dff4a:  17419  \n",
      " mail.google.com :  95790   1e42870bb128918b18137b18:  16560  \n",
      " www.facebook.com:  71314   1e02d5363a5d3f7ae81fbbc1:  14910  \n",
      " docs.google.com :  58150   0063f0e0e7858c3c37a1586a:  14144  \n",
      " drive.google.com:  39631   c58636d9d2fd7f7d6640f3e1:  14115  \n",
      " (Other)         :4089948   (Other)                 :4515215  \n",
      "     epoch              time            logtime      \n",
      " 1578   :  25779   Min.   :    1.0   Min.   : 0.000  \n",
      " 1567   :  25361   1st Qu.:   14.0   1st Qu.: 2.639  \n",
      " 1573   :  25224   Median :   55.0   Median : 4.007  \n",
      " 1566   :  25218   Mean   :  372.9   Mean   : 4.008  \n",
      " 1551   :  25142   3rd Qu.:  200.0   3rd Qu.: 5.298  \n",
      " 1550   :  25113   Max.   :89087.0   Max.   :11.397  \n",
      " (Other):4459660                                     \n",
      "                             condition     \n",
      " survey_nochoice_nothing          :610056  \n",
      " survey_nochoice_easy             :767220  \n",
      " survey_nochoice_medium           :836347  \n",
      " survey_nochoice_hard             :812813  \n",
      " survey                           :834291  \n",
      " nodefault_forcedchoice_userchoice:750770  \n",
      "                                           \n",
      "Linear mixed model fit by REML ['lmerModLmerTest']\n",
      "Formula: logtime ~ condition + (1 | user) + (1 | domain)\n",
      "   Data: df\n",
      "REML criterion at convergence: 17527496\n",
      "Random effects:\n",
      " Groups   Name        Std.Dev.\n",
      " domain   (Intercept) 0.7511  \n",
      " user     (Intercept) 0.3701  \n",
      " Residual             1.5665  \n",
      "Number of obs: 4611497, groups:  domain, 663304; user, 4524\n",
      "Fixed Effects:\n",
      "                               (Intercept)  \n",
      "                                  3.437450  \n",
      "             conditionsurvey_nochoice_easy  \n",
      "                                  0.001226  \n",
      "           conditionsurvey_nochoice_medium  \n",
      "                                 -0.033048  \n",
      "             conditionsurvey_nochoice_hard  \n",
      "                                 -0.011742  \n",
      "                           conditionsurvey  \n",
      "                                 -0.024272  \n",
      "conditionnodefault_forcedchoice_userchoice  \n",
      "                                 -0.025807  \n",
      "convergence code 0; 0 optimizer warnings; 1 lme4 warnings \n",
      "Linear mixed model fit by REML. t-tests use Satterthwaite's method [\n",
      "lmerModLmerTest]\n",
      "Formula: logtime ~ condition + (1 | user) + (1 | domain)\n",
      "   Data: df\n",
      "\n",
      "REML criterion at convergence: 17527496\n",
      "\n",
      "Scaled residuals: \n",
      "    Min      1Q  Median      3Q     Max \n",
      "-5.6261 -0.6021  0.0500  0.6654  5.3133 \n",
      "\n",
      "Random effects:\n",
      " Groups   Name        Variance Std.Dev.\n",
      " domain   (Intercept) 0.5641   0.7511  \n",
      " user     (Intercept) 0.1369   0.3701  \n",
      " Residual             2.4540   1.5665  \n",
      "Number of obs: 4611497, groups:  domain, 663304; user, 4524\n",
      "\n",
      "Fixed effects:\n",
      "                                             Estimate Std. Error         df\n",
      "(Intercept)                                 3.437e+00  1.784e-02  3.668e+03\n",
      "conditionsurvey_nochoice_easy               1.226e-03  2.309e-02  3.611e+03\n",
      "conditionsurvey_nochoice_medium            -3.305e-02  2.283e-02  3.613e+03\n",
      "conditionsurvey_nochoice_hard              -1.174e-02  2.322e-02  3.630e+03\n",
      "conditionsurvey                            -2.427e-02  2.286e-02  3.608e+03\n",
      "conditionnodefault_forcedchoice_userchoice -2.581e-02  2.308e-02  3.613e+03\n",
      "                                           t value Pr(>|t|)    \n",
      "(Intercept)                                192.735   <2e-16 ***\n",
      "conditionsurvey_nochoice_easy                0.053    0.958    \n",
      "conditionsurvey_nochoice_medium             -1.448    0.148    \n",
      "conditionsurvey_nochoice_hard               -0.506    0.613    \n",
      "conditionsurvey                             -1.062    0.288    \n",
      "conditionnodefault_forcedchoice_userchoice  -1.118    0.264    \n",
      "---\n",
      "Signif. codes:  0 ‘***’ 0.001 ‘**’ 0.01 ‘*’ 0.05 ‘.’ 0.1 ‘ ’ 1\n",
      "\n",
      "Correlation of Fixed Effects:\n",
      "                 (Intr) cndtnsrvy_nchc_s cndtnsrvy_nchc_m cndtnsrvy_nchc_h\n",
      "cndtnsrvy_nchc_s -0.766                                                   \n",
      "cndtnsrvy_nchc_m -0.775  0.599                                            \n",
      "cndtnsrvy_nchc_h -0.762  0.589            0.595                           \n",
      "conditnsrvy      -0.774  0.598            0.605            0.594          \n",
      "cndtnndfl__      -0.767  0.592            0.599            0.589          \n",
      "                 cndtns\n",
      "cndtnsrvy_nchc_s       \n",
      "cndtnsrvy_nchc_m       \n",
      "cndtnsrvy_nchc_h       \n",
      "conditnsrvy            \n",
      "cndtnndfl__       0.598\n",
      "convergence code: 0\n",
      "Model is nearly unidentifiable: very large eigenvalue\n",
      " - Rescale variables?\n",
      "\n",
      "\n",
      "% Table created by stargazer v.5.2.2 by Marek Hlavac, Harvard University. E-mail: hlavac at fas.harvard.edu\n",
      "% Date and time: 二,  5 26, 2020 - 17时40分38秒\n",
      "\\begin{table}[!htbp] \\centering \n",
      "  \\caption{} \n",
      "  \\label{} \n",
      "\\begin{tabular}{@{\\extracolsep{5pt}}lc} \n",
      "\\\\[-1.8ex]\\hline \n",
      "\\hline \\\\[-1.8ex] \n",
      " & \\multicolumn{1}{c}{\\textit{Dependent variable:}} \\\\ \n",
      "\\cline{2-2} \n",
      "\\\\[-1.8ex] & logtime \\\\ \n",
      "\\hline \\\\[-1.8ex] \n",
      " conditionsurvey\\_nochoice\\_easy & 0.001 \\\\ \n",
      "  & (0.023) \\\\ \n",
      "  & \\\\ \n",
      " conditionsurvey\\_nochoice\\_medium & $-$0.033 \\\\ \n",
      "  & (0.023) \\\\ \n",
      "  & \\\\ \n",
      " conditionsurvey\\_nochoice\\_hard & $-$0.012 \\\\ \n",
      "  & (0.023) \\\\ \n",
      "  & \\\\ \n",
      " conditionsurvey & $-$0.024 \\\\ \n",
      "  & (0.023) \\\\ \n",
      "  & \\\\ \n",
      " conditionnodefault\\_forcedchoice\\_userchoice & $-$0.026 \\\\ \n",
      "  & (0.023) \\\\ \n",
      "  & \\\\ \n",
      " Constant & 3.437$^{***}$ \\\\ \n",
      "  & (0.018) \\\\ \n",
      "  & \\\\ \n",
      "\\hline \\\\[-1.8ex] \n",
      "Observations & 4,611,497 \\\\ \n",
      "Log Likelihood & $-$8,763,748.000 \\\\ \n",
      "Akaike Inf. Crit. & 17,527,514.000 \\\\ \n",
      "Bayesian Inf. Crit. & 17,527,634.000 \\\\ \n",
      "\\hline \n",
      "\\hline \\\\[-1.8ex] \n",
      "\\textit{Note:}  & \\multicolumn{1}{r}{$^{*}$p$<$0.1; $^{**}$p$<$0.05; $^{***}$p$<$0.01} \\\\ \n",
      "\\end{tabular} \n",
      "\\end{table} \n"
     ]
    }
   ],
   "source": [
    "%%R\n",
    "\n",
    "dfsub <- df\n",
    "show(summary(dfsub))\n",
    "#results <- lmer(logtime ~ condition + (1|user), data = df)\n",
    "#results <- lmer(logtime ~ condition + (1|user), data = dfsub)\n",
    "results <- lmer(logtime ~ condition + (1|user) + (1|domain), data = df)\n",
    "show(results)\n",
    "show(summary(results))\n",
    "class(results) <- \"lmerMod\"\n",
    "stargazer(results)"
   ]
  },
  {
   "cell_type": "code",
   "execution_count": 22,
   "metadata": {},
   "outputs": [
    {
     "name": "stdout",
     "output_type": "stream",
     "text": [
      "                   domain                            user           epoch      \n",
      " www.facebook.com     :71314   3d8f23613f3849ed266ace58:  338   1573   :  388  \n",
      " _.shoprintee.com     :    0   f9329b2116e3bd031cca0519:  278   1557   :  386  \n",
      " _antonia.gr          :    0   79f9aa9fe47ba2f0fa59ba73:  270   1565   :  381  \n",
      " _dmarc.adoreme.com   :    0   71da006ec218a9b8e3eb317e:  265   1574   :  378  \n",
      " _dnslink.your.website:    0   26c1461ecb3d3dd841ecbaac:  263   1566   :  377  \n",
      " _kunden.suedcom.info :    0   e02d077981cded46b3146e43:  257   1587   :  376  \n",
      " (Other)              :    0   (Other)                 :69643   (Other):69028  \n",
      "      time          logtime                                   condition    \n",
      " Min.   :    1   Min.   : 0.000   survey_nochoice_nothing          : 9994  \n",
      " 1st Qu.:  114   1st Qu.: 4.736   survey_nochoice_easy             :12776  \n",
      " Median :  445   Median : 6.098   survey_nochoice_medium           :12055  \n",
      " Mean   : 1128   Mean   : 5.813   survey_nochoice_hard             :12904  \n",
      " 3rd Qu.: 1329   3rd Qu.: 7.192   survey                           :12229  \n",
      " Max.   :88216   Max.   :11.388   nodefault_forcedchoice_userchoice:11356  \n",
      "                                                                           \n",
      "Linear mixed model fit by REML ['lmerModLmerTest']\n",
      "Formula: logtime ~ condition + (1 | user)\n",
      "   Data: dfsub\n",
      "REML criterion at convergence: 260661.5\n",
      "Random effects:\n",
      " Groups   Name        Std.Dev.\n",
      " user     (Intercept) 1.437   \n",
      " Residual             1.434   \n",
      "Number of obs: 71314, groups:  user, 2997\n",
      "Fixed Effects:\n",
      "                               (Intercept)  \n",
      "                                   5.04546  \n",
      "             conditionsurvey_nochoice_easy  \n",
      "                                   0.02049  \n",
      "           conditionsurvey_nochoice_medium  \n",
      "                                  -0.02084  \n",
      "             conditionsurvey_nochoice_hard  \n",
      "                                  -0.01799  \n",
      "                           conditionsurvey  \n",
      "                                  -0.26172  \n",
      "conditionnodefault_forcedchoice_userchoice  \n",
      "                                  -0.11223  \n",
      "Linear mixed model fit by REML. t-tests use Satterthwaite's method [\n",
      "lmerModLmerTest]\n",
      "Formula: logtime ~ condition + (1 | user)\n",
      "   Data: dfsub\n",
      "\n",
      "REML criterion at convergence: 260661.5\n",
      "\n",
      "Scaled residuals: \n",
      "    Min      1Q  Median      3Q     Max \n",
      "-6.0439 -0.4921  0.1466  0.6445  5.1403 \n",
      "\n",
      "Random effects:\n",
      " Groups   Name        Variance Std.Dev.\n",
      " user     (Intercept) 2.065    1.437   \n",
      " Residual             2.057    1.434   \n",
      "Number of obs: 71314, groups:  user, 2997\n",
      "\n",
      "Fixed effects:\n",
      "                                             Estimate Std. Error         df\n",
      "(Intercept)                                   5.04546    0.08432 2633.64337\n",
      "conditionsurvey_nochoice_easy                 0.02049    0.10973 2648.90088\n",
      "conditionsurvey_nochoice_medium              -0.02084    0.10893 2690.16170\n",
      "conditionsurvey_nochoice_hard                -0.01799    0.11015 2682.70240\n",
      "conditionsurvey                              -0.26172    0.10838 2688.21286\n",
      "conditionnodefault_forcedchoice_userchoice   -0.11223    0.10991 2670.14542\n",
      "                                           t value Pr(>|t|)    \n",
      "(Intercept)                                 59.834   <2e-16 ***\n",
      "conditionsurvey_nochoice_easy                0.187   0.8519    \n",
      "conditionsurvey_nochoice_medium             -0.191   0.8483    \n",
      "conditionsurvey_nochoice_hard               -0.163   0.8703    \n",
      "conditionsurvey                             -2.415   0.0158 *  \n",
      "conditionnodefault_forcedchoice_userchoice  -1.021   0.3073    \n",
      "---\n",
      "Signif. codes:  0 ‘***’ 0.001 ‘**’ 0.01 ‘*’ 0.05 ‘.’ 0.1 ‘ ’ 1\n",
      "\n",
      "Correlation of Fixed Effects:\n",
      "                 (Intr) cndtnsrvy_nchc_s cndtnsrvy_nchc_m cndtnsrvy_nchc_h\n",
      "cndtnsrvy_nchc_s -0.768                                                   \n",
      "cndtnsrvy_nchc_m -0.774  0.595                                            \n",
      "cndtnsrvy_nchc_h -0.766  0.588            0.593                           \n",
      "conditnsrvy      -0.778  0.598            0.602            0.596          \n",
      "cndtnndfl__      -0.767  0.590            0.594            0.587          \n",
      "                 cndtns\n",
      "cndtnsrvy_nchc_s       \n",
      "cndtnsrvy_nchc_m       \n",
      "cndtnsrvy_nchc_h       \n",
      "conditnsrvy            \n",
      "cndtnndfl__       0.597\n",
      "\n",
      "% Table created by stargazer v.5.2.2 by Marek Hlavac, Harvard University. E-mail: hlavac at fas.harvard.edu\n",
      "% Date and time: 二,  5 26, 2020 - 16时19分21秒\n",
      "\\begin{table}[!htbp] \\centering \n",
      "  \\caption{} \n",
      "  \\label{} \n",
      "\\begin{tabular}{@{\\extracolsep{5pt}}lc} \n",
      "\\\\[-1.8ex]\\hline \n",
      "\\hline \\\\[-1.8ex] \n",
      " & \\multicolumn{1}{c}{\\textit{Dependent variable:}} \\\\ \n",
      "\\cline{2-2} \n",
      "\\\\[-1.8ex] & logtime \\\\ \n",
      "\\hline \\\\[-1.8ex] \n",
      " conditionsurvey\\_nochoice\\_easy & 0.020 \\\\ \n",
      "  & (0.110) \\\\ \n",
      "  & \\\\ \n",
      " conditionsurvey\\_nochoice\\_medium & $-$0.021 \\\\ \n",
      "  & (0.109) \\\\ \n",
      "  & \\\\ \n",
      " conditionsurvey\\_nochoice\\_hard & $-$0.018 \\\\ \n",
      "  & (0.110) \\\\ \n",
      "  & \\\\ \n",
      " conditionsurvey & $-$0.262$^{**}$ \\\\ \n",
      "  & (0.108) \\\\ \n",
      "  & \\\\ \n",
      " conditionnodefault\\_forcedchoice\\_userchoice & $-$0.112 \\\\ \n",
      "  & (0.110) \\\\ \n",
      "  & \\\\ \n",
      " Constant & 5.045$^{***}$ \\\\ \n",
      "  & (0.084) \\\\ \n",
      "  & \\\\ \n",
      "\\hline \\\\[-1.8ex] \n",
      "Observations & 71,314 \\\\ \n",
      "Log Likelihood & $-$130,330.800 \\\\ \n",
      "Akaike Inf. Crit. & 260,677.500 \\\\ \n",
      "Bayesian Inf. Crit. & 260,750.900 \\\\ \n",
      "\\hline \n",
      "\\hline \\\\[-1.8ex] \n",
      "\\textit{Note:}  & \\multicolumn{1}{r}{$^{*}$p$<$0.1; $^{**}$p$<$0.05; $^{***}$p$<$0.01} \\\\ \n",
      "\\end{tabular} \n",
      "\\end{table} \n"
     ]
    }
   ],
   "source": [
    "%%R\n",
    "\n",
    "dfsub <- df[df$domain == 'www.facebook.com', ]\n",
    "show(summary(dfsub))\n",
    "#results <- lmer(logtime ~ condition + (1|user), data = df)\n",
    "results <- lmer(logtime ~ condition + (1|user), data = dfsub)\n",
    "#results <- lmer(logtime ~ condition + (1|user) + (1|domain), data = df)\n",
    "show(results)\n",
    "show(summary(results))\n",
    "class(results) <- \"lmerMod\"\n",
    "stargazer(results)"
   ]
  },
  {
   "cell_type": "code",
   "execution_count": 23,
   "metadata": {},
   "outputs": [],
   "source": [
    "# noexport\n",
    "\n",
    "condition_to_lengths = {}\n",
    "for condition,installs in condition_to_installs.items():\n",
    "  condition_to_lengths[condition] = []\n",
    "  for install in installs:\n",
    "    for epoch,domain_to_time_spent in get_epoch_to_domain_to_time_spent(install).items():\n",
    "      total_time_spent = sum(domain_to_time_spent.values())\n",
    "      condition_to_lengths[condition].append(total_time_spent)\n",
    "      #if 'www.facebook.com' not in domain_to_time_spent:\n",
    "      #  continue\n",
    "      #time_on_facebook = domain_to_time_spent.get('www.facebook.com', 0)\n",
    "      #condition_to_lengths[condition].append(time_on_facebook)"
   ]
  },
  {
   "cell_type": "code",
   "execution_count": 24,
   "metadata": {},
   "outputs": [],
   "source": [
    "# noexport\n",
    "# bad\n",
    "\n",
    "\n",
    "condition_to_lengths = {}\n",
    "for condition,installs in condition_to_installs.items():\n",
    "  condition_to_lengths[condition] = []\n",
    "  for install in installs:\n",
    "    for domain,intervention_to_session_lengths in get_domain_to_intervention_to_session_lengths_for_install(install).items():\n",
    "      if domain != 'www.youtube.com':\n",
    "        continue\n",
    "      for intervention,session_lengths in intervention_to_session_lengths.items():\n",
    "        for session_length in session_lengths:\n",
    "          condition_to_lengths[condition].append(session_length)\n"
   ]
  },
  {
   "cell_type": "code",
   "execution_count": 25,
   "metadata": {},
   "outputs": [],
   "source": [
    "# noexport\n",
    "\n",
    "condition_to_lengths = {}\n",
    "for condition,installs in condition_to_installs.items():\n",
    "  condition_to_lengths[condition] = []\n",
    "  for install in installs:\n",
    "    all_lengths_for_user = []\n",
    "    for epoch,domain_to_time_spent in get_epoch_to_domain_to_time_spent(install).items():\n",
    "      total_time_spent = sum(domain_to_time_spent.values())\n",
    "      all_lengths_for_user.append(total_time_spent)\n",
    "    if len(all_lengths_for_user) == 0:\n",
    "      continue\n",
    "    condition_to_lengths[condition].append(np.median(all_lengths_for_user))\n",
    "      #if 'www.facebook.com' not in domain_to_time_spent:\n",
    "      #  continue\n",
    "      #time_on_facebook = domain_to_time_spent.get('www.facebook.com', 0)\n",
    "      #condition_to_lengths[condition].append(time_on_facebook)"
   ]
  },
  {
   "cell_type": "code",
   "execution_count": 26,
   "metadata": {},
   "outputs": [],
   "source": [
    "# noexport\n",
    "\n",
    "condition_to_lengths = {}\n",
    "for condition,installs in condition_to_installs.items():\n",
    "  condition_to_lengths[condition] = []\n",
    "  for install in installs:\n",
    "    for epoch,domain_to_time_spent in get_epoch_to_domain_to_time_spent(install).items():\n",
    "      if 'www.facebook.com' not in domain_to_time_spent:\n",
    "        continue\n",
    "      time_on_facebook = domain_to_time_spent.get('www.facebook.com', 0)\n",
    "      condition_to_lengths[condition].append(time_on_facebook)"
   ]
  },
  {
   "cell_type": "code",
   "execution_count": 27,
   "metadata": {},
   "outputs": [
    {
     "name": "stdout",
     "output_type": "stream",
     "text": [
      "survey 1096.5792787635946\n",
      "nodefault_forcedchoice_userchoice 942.6471468827052\n",
      "survey_nochoice_hard 1207.3468691878488\n",
      "survey_nochoice_nothing 990.8107864718831\n",
      "survey_nochoice_easy 1330.2546180338134\n",
      "survey_nochoice_medium 1148.6735794276233\n",
      "Ttest_indResult(statistic=-4.19997517189966, pvalue=2.6784397884211723e-05)\n"
     ]
    }
   ],
   "source": [
    "# noexport\n",
    "from scipy.stats import ttest_ind\n",
    "\n",
    "condition_to_mlengths = {}\n",
    "for condition,session_lengths in condition_to_lengths.items():\n",
    "  print(condition, np.mean(session_lengths))\n",
    "  condition_to_mlengths[condition] = np.mean(session_lengths) / 60\n",
    "\n",
    "#print(ttest_ind(condition_to_lengths['survey_nochoice_hard'], condition_to_lengths['survey_nochoice_nothing']))\n",
    "print(ttest_ind(condition_to_lengths['survey_nochoice_hard'], condition_to_lengths['survey_nochoice_easy']))\n",
    "#print(ttest_ind(condition_to_lengths['survey_nochoice_easy'], condition_to_lengths['survey_nochoice_medium']))\n"
   ]
  },
  {
   "cell_type": "code",
   "execution_count": 28,
   "metadata": {},
   "outputs": [
    {
     "data": {
      "text/html": [
       "        <script type=\"text/javascript\">\n",
       "        window.PlotlyConfig = {MathJaxConfig: 'local'};\n",
       "        if (window.MathJax) {MathJax.Hub.Config({SVG: {font: \"STIX-Web\"}});}\n",
       "        if (typeof require !== 'undefined') {\n",
       "        require.undef(\"plotly\");\n",
       "        requirejs.config({\n",
       "            paths: {\n",
       "                'plotly': ['https://cdn.plot.ly/plotly-latest.min']\n",
       "            }\n",
       "        });\n",
       "        require(['plotly'], function(Plotly) {\n",
       "            window._Plotly = Plotly;\n",
       "        });\n",
       "        }\n",
       "        </script>\n",
       "        "
      ]
     },
     "metadata": {},
     "output_type": "display_data"
    }
   ],
   "source": [
    "# noexport\n",
    "\n",
    "from plot_utils import *\n"
   ]
  },
  {
   "cell_type": "code",
   "execution_count": 29,
   "metadata": {},
   "outputs": [
    {
     "data": {
      "application/vnd.plotly.v1+json": {
       "config": {
        "linkText": "Export to plot.ly",
        "plotlyServerURL": "https://plot.ly",
        "responsive": true,
        "showLink": false
       },
       "data": [
        {
         "type": "bar",
         "uid": "6c24a49e-36b8-4ff7-ba31-9ff66885a9c1",
         "x": [
          "Easy",
          "Hard",
          "Medium",
          "Experience Sampling",
          "Nothing",
          "Onboarding Choice"
         ],
         "y": [
          22.170910300563555,
          20.12244781979748,
          19.144559657127054,
          18.276321312726576,
          16.513513107864718,
          15.710785781378421
         ]
        }
       ],
       "layout": {
        "title": {
         "text": "Total minutes spent daily on sites"
        },
        "xaxis": {
         "title": {
          "text": "Difficulty"
         }
        },
        "yaxis": {
         "title": {
          "text": "Minutes spent daily on sites"
         }
        }
       }
      },
      "text/html": [
       "<div>\n",
       "        \n",
       "        \n",
       "            <div id=\"a0d6b923-c83b-4883-9857-5363240f2e9f\" class=\"plotly-graph-div\" style=\"height:525px; width:100%;\"></div>\n",
       "            <script type=\"text/javascript\">\n",
       "                require([\"plotly\"], function(Plotly) {\n",
       "                    window.PLOTLYENV=window.PLOTLYENV || {};\n",
       "                    window.PLOTLYENV.BASE_URL='https://plot.ly';\n",
       "                    \n",
       "                if (document.getElementById(\"a0d6b923-c83b-4883-9857-5363240f2e9f\")) {\n",
       "                    Plotly.newPlot(\n",
       "                        'a0d6b923-c83b-4883-9857-5363240f2e9f',\n",
       "                        [{\"type\": \"bar\", \"uid\": \"ad81df22-b9fe-4a4a-b562-8fbc1be4bea7\", \"x\": [\"Easy\", \"Hard\", \"Medium\", \"Experience Sampling\", \"Nothing\", \"Onboarding Choice\"], \"y\": [22.170910300563555, 20.12244781979748, 19.144559657127054, 18.276321312726576, 16.513513107864718, 15.710785781378421]}],\n",
       "                        {\"title\": {\"text\": \"Total minutes spent daily on sites\"}, \"xaxis\": {\"title\": {\"text\": \"Difficulty\"}}, \"yaxis\": {\"title\": {\"text\": \"Minutes spent daily on sites\"}}},\n",
       "                        {\"showLink\": false, \"linkText\": \"Export to plot.ly\", \"plotlyServerURL\": \"https://plot.ly\", \"responsive\": true}\n",
       "                    ).then(function(){\n",
       "                            \n",
       "var gd = document.getElementById('a0d6b923-c83b-4883-9857-5363240f2e9f');\n",
       "var x = new MutationObserver(function (mutations, observer) {{\n",
       "        var display = window.getComputedStyle(gd).display;\n",
       "        if (!display || display === 'none') {{\n",
       "            console.log([gd, 'removed!']);\n",
       "            Plotly.purge(gd);\n",
       "            observer.disconnect();\n",
       "        }}\n",
       "}});\n",
       "\n",
       "// Listen for the removal of the full notebook cells\n",
       "var notebookContainer = gd.closest('#notebook-container');\n",
       "if (notebookContainer) {{\n",
       "    x.observe(notebookContainer, {childList: true});\n",
       "}}\n",
       "\n",
       "// Listen for the clearing of the current output cell\n",
       "var outputEl = gd.closest('.output');\n",
       "if (outputEl) {{\n",
       "    x.observe(outputEl, {childList: true});\n",
       "}}\n",
       "\n",
       "                        })\n",
       "                };\n",
       "                });\n",
       "            </script>\n",
       "        </div>"
      ]
     },
     "metadata": {},
     "output_type": "display_data"
    }
   ],
   "source": [
    "# noexport\n",
    "\n",
    "#from plot_utils import *\n",
    "plot_dict_as_bar(condition_to_mlengths, title='Total minutes spent daily on sites', xlabel='Difficulty', ylabel='Minutes spent daily on sites', remap_labels={'survey_nochoice_nothing': 'Nothing', 'survey_nochoice_easy': 'Easy', 'survey_nochoice_medium': 'Medium', 'survey_nochoice_hard': 'Hard', 'survey': 'Experience Sampling', 'nodefault_forcedchoice_userchoice': 'Onboarding Choice'})"
   ]
  },
  {
   "cell_type": "code",
   "execution_count": 30,
   "metadata": {},
   "outputs": [],
   "source": [
    "# for install in installs_with_experiment_vars:\n",
    "#   #seconds_on_domain_per_session = get_collection_for_install(install, 'synced:seconds_on_domain_per_session')\n",
    "#   #interventions_active_for_domain_and_session = get_collection_for_install(install, 'synced:interventions_active_for_domain_and_session')\n",
    "#   res = get_domain_to_intervention_to_session_lengths_for_install(install)\n",
    "#   #if len(res) > 0:\n",
    "#   #  print(res)\n",
    "#   #  break"
   ]
  }
 ],
 "metadata": {
  "kernelspec": {
   "display_name": "Python 3",
   "language": "python",
   "name": "python3"
  },
  "language_info": {
   "codemirror_mode": {
    "name": "ipython",
    "version": 3
   },
   "file_extension": ".py",
   "mimetype": "text/x-python",
   "name": "python",
   "nbconvert_exporter": "python",
   "pygments_lexer": "ipython3",
   "version": "3.7.4"
  }
 },
 "nbformat": 4,
 "nbformat_minor": 2
}
