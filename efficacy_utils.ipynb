{
 "cells": [
  {
   "cell_type": "code",
   "execution_count": 1,
   "metadata": {},
   "outputs": [
    {
     "name": "stdout",
     "output_type": "stream",
     "text": [
      "[NbConvertApp] Converting notebook efficacy_utils.ipynb to python\n",
      "retention_utils.py:398: error: Name 'get_ipython' is not defined\n",
      "efficacy_utils.py:40: error: Name 'get_condition_to_installs_for_random_assignment_abtest' already defined on line 27\n",
      "efficacy_utils.py:159: error: Name 'get_ipython' is not defined\n",
      "efficacy_utils.py:163: error: Name 'get_ipython' is not defined\n",
      "efficacy_utils.py:180: error: Name 'get_ipython' is not defined\n",
      "efficacy_utils.py:198: error: Name 'condition_to_mlengths' is not defined\n"
     ]
    }
   ],
   "source": [
    "# noexport\n",
    "\n",
    "!typech efficacy_utils.ipynb"
   ]
  },
  {
   "cell_type": "code",
   "execution_count": 2,
   "metadata": {},
   "outputs": [
    {
     "data": {
      "text/html": [
       "<script type=\"text/javascript\">window.PlotlyConfig = {MathJaxConfig: 'local'};</script><script type=\"text/javascript\">if (window.MathJax) {MathJax.Hub.Config({SVG: {font: \"STIX-Web\"}});}</script><script>requirejs.config({paths: { 'plotly': ['https://cdn.plot.ly/plotly-latest.min']},});if(!window._Plotly) {require(['plotly'],function(plotly) {window._Plotly=plotly;});}</script>"
      ],
      "text/vnd.plotly.v1+html": [
       "<script type=\"text/javascript\">window.PlotlyConfig = {MathJaxConfig: 'local'};</script><script type=\"text/javascript\">if (window.MathJax) {MathJax.Hub.Config({SVG: {font: \"STIX-Web\"}});}</script><script>requirejs.config({paths: { 'plotly': ['https://cdn.plot.ly/plotly-latest.min']},});if(!window._Plotly) {require(['plotly'],function(plotly) {window._Plotly=plotly;});}</script>"
      ]
     },
     "metadata": {},
     "output_type": "display_data"
    },
    {
     "data": {
      "application/javascript": [
       "IPython.OutputArea.prototype._should_scroll = function(lines) {\n",
       "    return false;\n",
       "}"
      ],
      "text/plain": [
       "<IPython.core.display.Javascript object>"
      ]
     },
     "metadata": {},
     "output_type": "display_data"
    }
   ],
   "source": [
    "from retention_utils import *"
   ]
  },
  {
   "cell_type": "code",
   "execution_count": 3,
   "metadata": {},
   "outputs": [],
   "source": [
    "import jsonmemo as jsonmemo_module\n",
    "jsonmemo_module.set_lowmem(True)"
   ]
  },
  {
   "cell_type": "code",
   "execution_count": 4,
   "metadata": {},
   "outputs": [],
   "source": [
    "#installs_with_experiment_vars = get_installs_with_experiment_vars()"
   ]
  },
  {
   "cell_type": "code",
   "execution_count": 5,
   "metadata": {},
   "outputs": [],
   "source": [
    "#print(installs_with_experiment_vars[0])"
   ]
  },
  {
   "cell_type": "code",
   "execution_count": 6,
   "metadata": {},
   "outputs": [],
   "source": [
    "\n",
    "\n",
    "def get_condition_to_installs_for_random_assignment_abtest():\n",
    "  abtest_name = 'difficulty_selection_screen'\n",
    "  groups = ['survey_nochoice_nothing', 'survey_nochoice_easy', 'survey_nochoice_medium', 'survey_nochoice_hard']\n",
    "  condition_to_installs = get_conditions_to_install_list_in_abtest_unstrict(abtest_name)\n",
    "  for k in list(condition_to_installs.keys()):\n",
    "    if k not in groups:\n",
    "      del condition_to_installs[k]\n",
    "  return condition_to_installs\n"
   ]
  },
  {
   "cell_type": "code",
   "execution_count": 7,
   "metadata": {},
   "outputs": [],
   "source": [
    "\n",
    "\n",
    "def get_condition_to_installs_for_random_assignment_abtest():\n",
    "  abtest_name = 'difficulty_selection_screen_and_choose_difficulty_frequency'\n",
    "  groups = ['survey', 'nodefault_forcedchoice_userchoice', 'survey_nochoice_nothing', 'survey_nochoice_easy', 'survey_nochoice_medium', 'survey_nochoice_hard']\n",
    "  condition_to_installs = get_conditions_to_install_list_in_abtest_unstrict(abtest_name)\n",
    "  for k in list(condition_to_installs.keys()):\n",
    "    if k not in groups:\n",
    "      del condition_to_installs[k]\n",
    "  return condition_to_installs\n"
   ]
  },
  {
   "cell_type": "code",
   "execution_count": 8,
   "metadata": {},
   "outputs": [],
   "source": [
    "\n",
    "#for install in installs_with_experiment_vars:\n",
    "@msgpackmemo1arg\n",
    "def get_domain_to_intervention_to_session_lengths_for_install(install):\n",
    "  seconds_on_domain_per_session = get_collection_for_install(install, 'synced:seconds_on_domain_per_session')\n",
    "  interventions_active_for_domain_and_session = get_collection_for_install(install, 'synced:interventions_active_for_domain_and_session')\n",
    "  \n",
    "  domain_to_session_to_intervention = {}\n",
    "  for x in interventions_active_for_domain_and_session:\n",
    "    if x.get('val') is None:\n",
    "      continue\n",
    "    interventions_active = json.loads(x['val'])\n",
    "    if len(interventions_active) == 0:\n",
    "      continue\n",
    "    intervention_name = interventions_active[0]\n",
    "    domain = x['key']\n",
    "    session_id = x['key2']\n",
    "    if domain not in domain_to_session_to_intervention:\n",
    "      domain_to_session_to_intervention[domain] = {}\n",
    "    domain_to_session_to_intervention[domain][session_id] = intervention_name\n",
    "  \n",
    "  domain_to_intervention_to_session_lengths = {}\n",
    "  for x in seconds_on_domain_per_session:\n",
    "    if 'key' not in x:\n",
    "      print('missing key in seconds_on_domain_per_session')\n",
    "      print(x)\n",
    "      continue\n",
    "    domain = x['key']\n",
    "    session_id = x['key2']\n",
    "    time_spent = x['val']\n",
    "    if domain not in domain_to_session_to_intervention:\n",
    "      continue\n",
    "    intervention_name = domain_to_session_to_intervention[domain].get(session_id)\n",
    "    if intervention_name is None:\n",
    "      continue\n",
    "    if domain not in domain_to_intervention_to_session_lengths:\n",
    "      domain_to_intervention_to_session_lengths[domain] = {}\n",
    "    if intervention_name not in domain_to_intervention_to_session_lengths[domain]:\n",
    "      domain_to_intervention_to_session_lengths[domain][intervention_name] = []\n",
    "    domain_to_intervention_to_session_lengths[domain][intervention_name].append(time_spent)\n",
    "  return domain_to_intervention_to_session_lengths\n",
    "  "
   ]
  },
  {
   "cell_type": "code",
   "execution_count": 9,
   "metadata": {},
   "outputs": [
    {
     "name": "stdout",
     "output_type": "stream",
     "text": [
      "edceda6041ef668213a96ba5_synced:seconds_on_domain_per_day\n"
     ]
    }
   ],
   "source": [
    "# noexport\n",
    "\n",
    "for x in get_collection_names():\n",
    "  if 'per_day' in x and 'visits' not in x:\n",
    "    print(x)\n",
    "    break"
   ]
  },
  {
   "cell_type": "code",
   "execution_count": 10,
   "metadata": {},
   "outputs": [],
   "source": [
    "@msgpackmemo1arg\n",
    "def get_epoch_to_domain_to_time_spent(install):\n",
    "  seconds_on_domain_per_day = get_collection_for_install(install, 'synced:seconds_on_domain_per_day')\n",
    "  output = {}\n",
    "  for x in seconds_on_domain_per_day:\n",
    "    if 'key' not in x:\n",
    "      print('missing key in seconds_on_domain_per_day')\n",
    "      print(x)\n",
    "      continue\n",
    "    domain = x['key']\n",
    "    epoch = x['key2']\n",
    "    seconds = x['val']\n",
    "    if epoch not in output:\n",
    "      output[epoch] = {}\n",
    "    output[epoch][domain] = seconds\n",
    "  return output"
   ]
  },
  {
   "cell_type": "code",
   "execution_count": 11,
   "metadata": {},
   "outputs": [],
   "source": [
    "# noexport\n",
    "\n",
    "condition_to_installs = get_condition_to_installs_for_random_assignment_abtest()\n"
   ]
  },
  {
   "cell_type": "code",
   "execution_count": 12,
   "metadata": {},
   "outputs": [
    {
     "name": "stdout",
     "output_type": "stream",
     "text": [
      "[1294, 1295, 1296, 1297, 1298, 1299, 1300, 1301, 1302, 1303, 1304, 1305, 1306, 1307, 1308, 1309, 1310, 1311, 1312, 1313, 1314, 1315, 1316, 1317, 1318, 1325, 1326, 1328, 1329, 1330, 1331, 1332, 1333, 1334, 1335, 1336]\n",
      "[1323, 1327, 1335]\n",
      "[]\n",
      "[1326]\n",
      "[1302, 1303, 1304, 1305, 1306, 1307, 1308, 1309, 1310, 1311, 1312, 1313, 1314, 1315, 1316, 1317, 1318, 1319, 1320, 1321, 1322, 1323, 1324, 1325, 1326, 1327, 1328, 1329, 1330, 1331, 1332, 1333, 1334, 1335]\n",
      "[]\n"
     ]
    }
   ],
   "source": [
    "# noexport\n",
    "\n",
    "for condition,installs in condition_to_installs.items():\n",
    "  for install in installs:\n",
    "    print(sorted(get_epoch_to_domain_to_time_spent(install).keys()))\n",
    "    break"
   ]
  },
  {
   "cell_type": "code",
   "execution_count": null,
   "metadata": {},
   "outputs": [],
   "source": []
  },
  {
   "cell_type": "code",
   "execution_count": 13,
   "metadata": {},
   "outputs": [],
   "source": [
    "import math\n",
    "\n",
    "def make_domain_to_daily_time_dataframe():\n",
    "  output = []\n",
    "  for condition,installs in condition_to_installs.items():\n",
    "    #condition_to_lengths[condition] = []\n",
    "    for install in installs:\n",
    "      for epoch,domain_to_time_spent in get_epoch_to_domain_to_time_spent(install).items():\n",
    "        total_time_spent = sum(domain_to_time_spent.values())\n",
    "        output.append({\n",
    "          'user': install,\n",
    "          'epoch': epoch,\n",
    "          'time': total_time_spent,\n",
    "          'logtime': math.log(total_time_spent),\n",
    "          'condition': condition,\n",
    "        })\n",
    "#         for domain,total_time_spent in  domain_to_time_spent.items():\n",
    "#           output.append({\n",
    "#             'domain': domain,\n",
    "#             'user': install,\n",
    "#             'epoch': epoch,\n",
    "#             'time': total_time_spent,\n",
    "#             'logtime': math.log(total_time_spent),\n",
    "#             'condition': condition,\n",
    "#           })\n",
    "  return to_dataframe(output)"
   ]
  },
  {
   "cell_type": "code",
   "execution_count": 14,
   "metadata": {},
   "outputs": [],
   "source": [
    "df = make_domain_to_daily_time_dataframe()"
   ]
  },
  {
   "cell_type": "code",
   "execution_count": 15,
   "metadata": {},
   "outputs": [],
   "source": [
    "#print(df)"
   ]
  },
  {
   "cell_type": "code",
   "execution_count": 16,
   "metadata": {},
   "outputs": [
    {
     "name": "stderr",
     "output_type": "stream",
     "text": [
      "/usr/local/lib/python3.7/dist-packages/rpy2/robjects/pandas2ri.py:191: FutureWarning:\n",
      "\n",
      "from_items is deprecated. Please use DataFrame.from_dict(dict(items), ...) instead. DataFrame.from_dict(OrderedDict(items)) may be used to preserve the key order.\n",
      "\n"
     ]
    }
   ],
   "source": [
    "%Rpush df"
   ]
  },
  {
   "cell_type": "code",
   "execution_count": 17,
   "metadata": {},
   "outputs": [
    {
     "name": "stdout",
     "output_type": "stream",
     "text": [
      "\n",
      "Error in library(lme4) : 不存在叫‘lme4’这个名字的程辑包\n"
     ]
    },
    {
     "name": "stderr",
     "output_type": "stream",
     "text": [
      "/usr/local/lib/python3.7/dist-packages/rpy2/rinterface/__init__.py:146: RRuntimeWarning:\n",
      "\n",
      "Error in library(lme4) : 不存在叫‘lme4’这个名字的程辑包\n",
      "\n",
      "\n"
     ]
    }
   ],
   "source": [
    "%%R\n",
    "library(lme4)\n",
    "#library(sjPlot)\n",
    "library(lmerTest)\n",
    "#library(stargazer)\n"
   ]
  },
  {
   "cell_type": "code",
   "execution_count": 18,
   "metadata": {},
   "outputs": [],
   "source": [
    "# %%R\n",
    "\n",
    "# df$user <- as.factor(df$user)\n",
    "# #df$domain <- as.factor(df$domain)\n",
    "# df$condition <- as.factor(df$condition)\n",
    "# df$condition <- factor(df$condition, levels = c(\"survey_nochoice_nothing\", \"survey_nochoice_easy\", \"survey_nochoice_medium\", \"survey_nochoice_hard\"))\n",
    "# df$epoch <- as.factor(df$epoch)\n",
    "# df$logtime <- as.numeric(df$logtime)\n",
    "# df$time <- as.numeric(df$time)\n",
    "# summary(df)\n",
    "\n"
   ]
  },
  {
   "cell_type": "code",
   "execution_count": 19,
   "metadata": {},
   "outputs": [
    {
     "data": {
      "text/plain": [
       "                       user          epoch           time      \n",
       " 3d8f23613f3849ed266ace58: 154   1333   : 252   Min.   :    1  \n",
       " 4923f5d68ea2b45c0e582fa9: 137   1326   : 247   1st Qu.: 1824  \n",
       " 4d061e26d5746a4c1202a2ee:  96   1334   : 246   Median : 5704  \n",
       " 11ae57ceae0127f030b9cb45:  60   1327   : 243   Mean   : 8729  \n",
       " 0a02fa66d5236d68f5ad4f64:  56   1329   : 241   3rd Qu.:12074  \n",
       " 44a79b99de35752f235f8c14:  54   1328   : 240   Max.   :86400  \n",
       " (Other)                 :8762   (Other):7850                  \n",
       "    logtime                         condition   \n",
       " Min.   : 0.000   survey_nochoice_nothing:1379  \n",
       " 1st Qu.: 7.509   survey_nochoice_easy   :1841  \n",
       " Median : 8.649   survey_nochoice_medium :1257  \n",
       " Mean   : 8.230   survey_nochoice_hard   :1716  \n",
       " 3rd Qu.: 9.399   NA's                   :3126  \n",
       " Max.   :11.367                                 \n",
       "                                                \n"
      ]
     },
     "metadata": {},
     "output_type": "display_data"
    }
   ],
   "source": [
    "%%R\n",
    "\n",
    "df$user <- as.factor(df$user)\n",
    "#df$domain <- as.factor(df$domain)\n",
    "df$condition <- as.factor(df$condition)\n",
    "df$condition <- factor(df$condition, levels = c(\"survey_nochoice_nothing\", \"survey_nochoice_easy\", \"survey_nochoice_medium\", \"survey_nochoice_hard\"))\n",
    "df$epoch <- as.factor(df$epoch)\n",
    "df$logtime <- as.numeric(df$logtime)\n",
    "df$time <- as.numeric(df$time)\n",
    "summary(df)\n",
    "\n",
    "\n",
    "#results <- lmer(logtime ~ condition + (1|user), data = df)\n",
    "#results <- lmer(logtime ~ condition + (1|user), data = df)\n",
    "#results <- lmer(logtime ~ condition + (1|user) + (1|domain), data = df)\n",
    "#show(results)\n",
    "#show(summary(results))\n",
    "#class(results) <- \"lmerMod\"\n",
    "#stargazer(results)"
   ]
  },
  {
   "cell_type": "code",
   "execution_count": null,
   "metadata": {},
   "outputs": [],
   "source": []
  },
  {
   "cell_type": "code",
   "execution_count": 20,
   "metadata": {},
   "outputs": [],
   "source": [
    "# noexport\n",
    "\n",
    "condition_to_lengths = {}\n",
    "for condition,installs in condition_to_installs.items():\n",
    "  condition_to_lengths[condition] = []\n",
    "  for install in installs:\n",
    "    for epoch,domain_to_time_spent in get_epoch_to_domain_to_time_spent(install).items():\n",
    "      total_time_spent = sum(domain_to_time_spent.values())\n",
    "      condition_to_lengths[condition].append(total_time_spent)\n",
    "      #if 'www.facebook.com' not in domain_to_time_spent:\n",
    "      #  continue\n",
    "      #time_on_facebook = domain_to_time_spent.get('www.facebook.com', 0)\n",
    "      #condition_to_lengths[condition].append(time_on_facebook)"
   ]
  },
  {
   "cell_type": "code",
   "execution_count": 21,
   "metadata": {},
   "outputs": [],
   "source": [
    "# noexport\n",
    "# bad\n",
    "\n",
    "\n",
    "condition_to_lengths = {}\n",
    "for condition,installs in condition_to_installs.items():\n",
    "  condition_to_lengths[condition] = []\n",
    "  for install in installs:\n",
    "    for domain,intervention_to_session_lengths in get_domain_to_intervention_to_session_lengths_for_install(install).items():\n",
    "      if domain != 'www.youtube.com':\n",
    "        continue\n",
    "      for intervention,session_lengths in intervention_to_session_lengths.items():\n",
    "        for session_length in session_lengths:\n",
    "          condition_to_lengths[condition].append(session_length)\n"
   ]
  },
  {
   "cell_type": "code",
   "execution_count": 22,
   "metadata": {},
   "outputs": [],
   "source": [
    "# noexport\n",
    "\n",
    "condition_to_lengths = {}\n",
    "for condition,installs in condition_to_installs.items():\n",
    "  condition_to_lengths[condition] = []\n",
    "  for install in installs:\n",
    "    all_lengths_for_user = []\n",
    "    for epoch,domain_to_time_spent in get_epoch_to_domain_to_time_spent(install).items():\n",
    "      total_time_spent = sum(domain_to_time_spent.values())\n",
    "      all_lengths_for_user.append(total_time_spent)\n",
    "    if len(all_lengths_for_user) == 0:\n",
    "      continue\n",
    "    condition_to_lengths[condition].append(np.median(all_lengths_for_user))\n",
    "      #if 'www.facebook.com' not in domain_to_time_spent:\n",
    "      #  continue\n",
    "      #time_on_facebook = domain_to_time_spent.get('www.facebook.com', 0)\n",
    "      #condition_to_lengths[condition].append(time_on_facebook)"
   ]
  },
  {
   "cell_type": "code",
   "execution_count": 23,
   "metadata": {},
   "outputs": [],
   "source": [
    "# noexport\n",
    "\n",
    "condition_to_lengths = {}\n",
    "for condition,installs in condition_to_installs.items():\n",
    "  condition_to_lengths[condition] = []\n",
    "  for install in installs:\n",
    "    for epoch,domain_to_time_spent in get_epoch_to_domain_to_time_spent(install).items():\n",
    "      if 'www.facebook.com' not in domain_to_time_spent:\n",
    "        continue\n",
    "      time_on_facebook = domain_to_time_spent.get('www.facebook.com', 0)\n",
    "      condition_to_lengths[condition].append(time_on_facebook)"
   ]
  },
  {
   "cell_type": "code",
   "execution_count": 24,
   "metadata": {},
   "outputs": [
    {
     "name": "stdout",
     "output_type": "stream",
     "text": [
      "survey 857.5116666666667\n",
      "nodefault_forcedchoice_userchoice 886.2849264705883\n",
      "survey_nochoice_hard 1181.743068391867\n",
      "survey_nochoice_medium 1158.2426035502958\n",
      "survey_nochoice_nothing 628.2053571428571\n",
      "survey_nochoice_easy 1832.9417098445597\n",
      "Ttest_indResult(statistic=-3.8441432304743293, pvalue=0.00012677234604202193)\n"
     ]
    }
   ],
   "source": [
    "# noexport\n",
    "from scipy.stats import ttest_ind\n",
    "\n",
    "condition_to_mlengths = {}\n",
    "for condition,session_lengths in condition_to_lengths.items():\n",
    "  print(condition, np.mean(session_lengths))\n",
    "  condition_to_mlengths[condition] = np.mean(session_lengths) / 60\n",
    "\n",
    "#print(ttest_ind(condition_to_lengths['survey_nochoice_hard'], condition_to_lengths['survey_nochoice_nothing']))\n",
    "print(ttest_ind(condition_to_lengths['survey_nochoice_hard'], condition_to_lengths['survey_nochoice_easy']))\n",
    "#print(ttest_ind(condition_to_lengths['survey_nochoice_easy'], condition_to_lengths['survey_nochoice_medium']))\n"
   ]
  },
  {
   "cell_type": "code",
   "execution_count": 25,
   "metadata": {},
   "outputs": [
    {
     "data": {
      "text/html": [
       "<script type=\"text/javascript\">window.PlotlyConfig = {MathJaxConfig: 'local'};</script><script type=\"text/javascript\">if (window.MathJax) {MathJax.Hub.Config({SVG: {font: \"STIX-Web\"}});}</script><script>requirejs.config({paths: { 'plotly': ['https://cdn.plot.ly/plotly-latest.min']},});if(!window._Plotly) {require(['plotly'],function(plotly) {window._Plotly=plotly;});}</script>"
      ],
      "text/vnd.plotly.v1+html": [
       "<script type=\"text/javascript\">window.PlotlyConfig = {MathJaxConfig: 'local'};</script><script type=\"text/javascript\">if (window.MathJax) {MathJax.Hub.Config({SVG: {font: \"STIX-Web\"}});}</script><script>requirejs.config({paths: { 'plotly': ['https://cdn.plot.ly/plotly-latest.min']},});if(!window._Plotly) {require(['plotly'],function(plotly) {window._Plotly=plotly;});}</script>"
      ]
     },
     "metadata": {},
     "output_type": "display_data"
    }
   ],
   "source": [
    "from plot_utils import *\n"
   ]
  },
  {
   "cell_type": "code",
   "execution_count": 26,
   "metadata": {},
   "outputs": [
    {
     "data": {
      "application/vnd.plotly.v1+json": {
       "config": {
        "linkText": "Export to plot.ly",
        "plotlyServerURL": "https://plot.ly",
        "showLink": false
       },
       "data": [
        {
         "type": "bar",
         "uid": "783bf529-f07b-4cac-8532-271ea89db74d",
         "x": [
          "Easy",
          "Hard",
          "Medium",
          "Onboarding Choice",
          "Experience Sampling",
          "Nothing"
         ],
         "y": [
          30.549028497409328,
          19.695717806531114,
          19.30404339250493,
          14.77141544117647,
          14.29186111111111,
          10.470089285714286
         ]
        }
       ],
       "layout": {
        "title": {
         "text": "Total minutes spent daily on sites"
        },
        "xaxis": {
         "title": {
          "text": "Difficulty"
         }
        },
        "yaxis": {
         "title": {
          "text": "Minutes spent daily on sites"
         }
        }
       }
      },
      "text/html": [
       "<div id=\"fca4c364-a1f6-4eae-a6f4-5d5fc6096004\" style=\"height: 525px; width: 100%;\" class=\"plotly-graph-div\"></div><script type=\"text/javascript\">require([\"plotly\"], function(Plotly) { window.PLOTLYENV=window.PLOTLYENV || {};window.PLOTLYENV.BASE_URL=\"https://plot.ly\";Plotly.newPlot(\"fca4c364-a1f6-4eae-a6f4-5d5fc6096004\", [{\"x\": [\"Easy\", \"Hard\", \"Medium\", \"Onboarding Choice\", \"Experience Sampling\", \"Nothing\"], \"y\": [30.549028497409328, 19.695717806531114, 19.30404339250493, 14.77141544117647, 14.29186111111111, 10.470089285714286], \"type\": \"bar\", \"uid\": \"783bf529-f07b-4cac-8532-271ea89db74d\"}], {\"title\": {\"text\": \"Total minutes spent daily on sites\"}, \"xaxis\": {\"title\": {\"text\": \"Difficulty\"}}, \"yaxis\": {\"title\": {\"text\": \"Minutes spent daily on sites\"}}}, {\"showLink\": false, \"linkText\": \"Export to plot.ly\", \"plotlyServerURL\": \"https://plot.ly\"})});</script><script type=\"text/javascript\">window.addEventListener(\"resize\", function(){window._Plotly.Plots.resize(document.getElementById(\"fca4c364-a1f6-4eae-a6f4-5d5fc6096004\"));});</script>"
      ],
      "text/vnd.plotly.v1+html": [
       "<div id=\"fca4c364-a1f6-4eae-a6f4-5d5fc6096004\" style=\"height: 525px; width: 100%;\" class=\"plotly-graph-div\"></div><script type=\"text/javascript\">require([\"plotly\"], function(Plotly) { window.PLOTLYENV=window.PLOTLYENV || {};window.PLOTLYENV.BASE_URL=\"https://plot.ly\";Plotly.newPlot(\"fca4c364-a1f6-4eae-a6f4-5d5fc6096004\", [{\"x\": [\"Easy\", \"Hard\", \"Medium\", \"Onboarding Choice\", \"Experience Sampling\", \"Nothing\"], \"y\": [30.549028497409328, 19.695717806531114, 19.30404339250493, 14.77141544117647, 14.29186111111111, 10.470089285714286], \"type\": \"bar\", \"uid\": \"783bf529-f07b-4cac-8532-271ea89db74d\"}], {\"title\": {\"text\": \"Total minutes spent daily on sites\"}, \"xaxis\": {\"title\": {\"text\": \"Difficulty\"}}, \"yaxis\": {\"title\": {\"text\": \"Minutes spent daily on sites\"}}}, {\"showLink\": false, \"linkText\": \"Export to plot.ly\", \"plotlyServerURL\": \"https://plot.ly\"})});</script><script type=\"text/javascript\">window.addEventListener(\"resize\", function(){window._Plotly.Plots.resize(document.getElementById(\"fca4c364-a1f6-4eae-a6f4-5d5fc6096004\"));});</script>"
      ]
     },
     "metadata": {},
     "output_type": "display_data"
    }
   ],
   "source": [
    "#from plot_utils import *\n",
    "plot_dict_as_bar(condition_to_mlengths, title='Total minutes spent daily on sites', xlabel='Difficulty', ylabel='Minutes spent daily on sites', remap_labels={'survey_nochoice_nothing': 'Nothing', 'survey_nochoice_easy': 'Easy', 'survey_nochoice_medium': 'Medium', 'survey_nochoice_hard': 'Hard', 'survey': 'Experience Sampling', 'nodefault_forcedchoice_userchoice': 'Onboarding Choice'})"
   ]
  },
  {
   "cell_type": "code",
   "execution_count": 27,
   "metadata": {},
   "outputs": [],
   "source": [
    "# for install in installs_with_experiment_vars:\n",
    "#   #seconds_on_domain_per_session = get_collection_for_install(install, 'synced:seconds_on_domain_per_session')\n",
    "#   #interventions_active_for_domain_and_session = get_collection_for_install(install, 'synced:interventions_active_for_domain_and_session')\n",
    "#   res = get_domain_to_intervention_to_session_lengths_for_install(install)\n",
    "#   #if len(res) > 0:\n",
    "#   #  print(res)\n",
    "#   #  break"
   ]
  }
 ],
 "metadata": {
  "kernelspec": {
   "display_name": "Python 3",
   "language": "python",
   "name": "python3"
  },
  "language_info": {
   "codemirror_mode": {
    "name": "ipython",
    "version": 3
   },
   "file_extension": ".py",
   "mimetype": "text/x-python",
   "name": "python",
   "nbconvert_exporter": "python",
   "pygments_lexer": "ipython3",
   "version": "3.7.2"
  }
 },
 "nbformat": 4,
 "nbformat_minor": 2
}
