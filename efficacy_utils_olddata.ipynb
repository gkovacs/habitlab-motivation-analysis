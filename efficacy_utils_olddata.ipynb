{
 "cells": [
  {
   "cell_type": "code",
   "execution_count": 1,
   "metadata": {},
   "outputs": [
    {
     "name": "stdout",
     "output_type": "stream",
     "text": [
      "retention_utils.py:448: \u001b[1m\u001b[31merror:\u001b[m Name 'get_ipython' is not defined\u001b[m\r\n",
      "retention_utils.py:511: \u001b[1m\u001b[31merror:\u001b[m Name 'get_ipython' is not defined\u001b[m\r\n",
      "retention_utils.py:515: \u001b[1m\u001b[31merror:\u001b[m Name 'get_ipython' is not defined\u001b[m\r\n",
      "efficacy_utils.py:40: \u001b[1m\u001b[31merror:\u001b[m Name 'get_condition_to_installs_for_random_assignment_abtest' already defined on line 27\u001b[m\r\n",
      "efficacy_utils.py:163: \u001b[1m\u001b[31merror:\u001b[m Name 'get_ipython' is not defined\u001b[m\r\n",
      "efficacy_utils.py:180: \u001b[1m\u001b[31merror:\u001b[m Name 'get_ipython' is not defined\u001b[m\r\n",
      "efficacy_utils.py:184: \u001b[1m\u001b[31merror:\u001b[m Name 'get_ipython' is not defined\u001b[m\r\n",
      "efficacy_utils.py:188: \u001b[1m\u001b[31merror:\u001b[m Name 'get_ipython' is not defined\u001b[m\r\n",
      "efficacy_utils.py:192: \u001b[1m\u001b[31merror:\u001b[m Name 'get_ipython' is not defined\u001b[m\r\n",
      "\u001b[1m\u001b[31mFound 9 errors in 2 files (checked 1 source file)\u001b[m\r\n"
     ]
    }
   ],
   "source": [
    "# noexport\n",
    "\n",
    "!typech efficacy_utils.ipynb"
   ]
  },
  {
   "cell_type": "code",
   "execution_count": 2,
   "metadata": {},
   "outputs": [
    {
     "data": {
      "text/html": [
       "        <script type=\"text/javascript\">\n",
       "        window.PlotlyConfig = {MathJaxConfig: 'local'};\n",
       "        if (window.MathJax) {MathJax.Hub.Config({SVG: {font: \"STIX-Web\"}});}\n",
       "        if (typeof require !== 'undefined') {\n",
       "        require.undef(\"plotly\");\n",
       "        requirejs.config({\n",
       "            paths: {\n",
       "                'plotly': ['https://cdn.plot.ly/plotly-latest.min']\n",
       "            }\n",
       "        });\n",
       "        require(['plotly'], function(Plotly) {\n",
       "            window._Plotly = Plotly;\n",
       "        });\n",
       "        }\n",
       "        </script>\n",
       "        "
      ]
     },
     "metadata": {},
     "output_type": "display_data"
    },
    {
     "name": "stdout",
     "output_type": "stream",
     "text": [
      "The rpy2.ipython extension is already loaded. To reload it, use:\n",
      "  %reload_ext rpy2.ipython\n"
     ]
    },
    {
     "data": {
      "application/javascript": [
       "IPython.OutputArea.prototype._should_scroll = function(lines) {\n",
       "    return false;\n",
       "}"
      ],
      "text/plain": [
       "<IPython.core.display.Javascript object>"
      ]
     },
     "metadata": {},
     "output_type": "display_data"
    },
    {
     "name": "stderr",
     "output_type": "stream",
     "text": [
      "R[write to console]: Error in withVisible({ : 找不到对象'plot_attrition_df'\n",
      "\n",
      "R[write to console]: Error in coxph(formula = Surv(lifetime, attritioned) ~ Frequency, data = plot_attrition_df) : \n",
      "  没有\"coxph\"这个函数\n",
      "\n"
     ]
    },
    {
     "name": "stdout",
     "output_type": "stream",
     "text": [
      "\n",
      "Error in withVisible({ : 找不到对象'plot_attrition_df'\n",
      "\n",
      "Error in coxph(formula = Surv(lifetime, attritioned) ~ Frequency, data = plot_attrition_df) : \n",
      "  没有\"coxph\"这个函数\n"
     ]
    }
   ],
   "source": [
    "from retention_utils import *"
   ]
  },
  {
   "cell_type": "code",
   "execution_count": 3,
   "metadata": {},
   "outputs": [],
   "source": [
    "import jsonmemo as jsonmemo_module\n",
    "jsonmemo_module.set_lowmem(True)"
   ]
  },
  {
   "cell_type": "code",
   "execution_count": 4,
   "metadata": {},
   "outputs": [],
   "source": [
    "#installs_with_experiment_vars = get_installs_with_experiment_vars()"
   ]
  },
  {
   "cell_type": "code",
   "execution_count": 5,
   "metadata": {},
   "outputs": [],
   "source": [
    "#print(installs_with_experiment_vars[0])"
   ]
  },
  {
   "cell_type": "code",
   "execution_count": 6,
   "metadata": {},
   "outputs": [],
   "source": [
    "\n",
    "\n",
    "def get_condition_to_installs_for_random_assignment_abtest():\n",
    "  abtest_name = 'difficulty_selection_screen'\n",
    "  groups = ['survey_nochoice_nothing', 'survey_nochoice_easy', 'survey_nochoice_medium', 'survey_nochoice_hard']\n",
    "  condition_to_installs = get_conditions_to_install_list_in_abtest_unstrict(abtest_name)\n",
    "  for k in list(condition_to_installs.keys()):\n",
    "    if k not in groups:\n",
    "      del condition_to_installs[k]\n",
    "  return condition_to_installs\n"
   ]
  },
  {
   "cell_type": "code",
   "execution_count": 7,
   "metadata": {},
   "outputs": [],
   "source": [
    "\n",
    "\n",
    "def get_condition_to_installs_for_random_assignment_abtest():\n",
    "  abtest_name = 'difficulty_selection_screen_and_choose_difficulty_frequency'\n",
    "  groups = ['survey', 'nodefault_forcedchoice_userchoice', 'survey_nochoice_nothing', 'survey_nochoice_easy', 'survey_nochoice_medium', 'survey_nochoice_hard']\n",
    "  #condition_to_installs = get_conditions_to_install_list_in_abtest_unstrict(abtest_name)\n",
    "  condition_to_installs = get_conditions_to_install_list_in_abtest(abtest_name, groups)\n",
    "  for k in list(condition_to_installs.keys()):\n",
    "    if k not in groups:\n",
    "      del condition_to_installs[k]\n",
    "  return condition_to_installs\n"
   ]
  },
  {
   "cell_type": "code",
   "execution_count": 8,
   "metadata": {},
   "outputs": [],
   "source": [
    "@msgpackmemo1arg\n",
    "def get_domain_to_intervention_to_session_lengths_for_install_olddata(install):\n",
    "  seconds_on_domain_per_session = get_collection_for_install_olddata(install, 'synced:seconds_on_domain_per_session')\n",
    "  interventions_active_for_domain_and_session = get_collection_for_install_olddata(install, 'synced:interventions_active_for_domain_and_session')\n",
    "  domain_to_session_to_intervention = {}\n",
    "  for x in interventions_active_for_domain_and_session:\n",
    "    val = x.get('val')\n",
    "    if val is None or type(val) == int:\n",
    "      continue\n",
    "    interventions_active = json.loads(val)\n",
    "    if len(interventions_active) == 0:\n",
    "      continue\n",
    "    intervention_name = interventions_active[0]\n",
    "    domain = x['key']\n",
    "    session_id = x['key2']\n",
    "    if domain not in domain_to_session_to_intervention:\n",
    "      domain_to_session_to_intervention[domain] = {}\n",
    "    domain_to_session_to_intervention[domain][session_id] = intervention_name\n",
    "  \n",
    "  domain_to_intervention_to_session_lengths = {}\n",
    "  for x in seconds_on_domain_per_session:\n",
    "    if 'key' not in x:\n",
    "      print('missing key in seconds_on_domain_per_session')\n",
    "      print(x)\n",
    "      continue\n",
    "    domain = x['key']\n",
    "    session_id = x['key2']\n",
    "    time_spent = x['val']\n",
    "    if domain not in domain_to_session_to_intervention:\n",
    "      continue\n",
    "    intervention_name = domain_to_session_to_intervention[domain].get(session_id)\n",
    "    if intervention_name is None:\n",
    "      continue\n",
    "    if domain not in domain_to_intervention_to_session_lengths:\n",
    "      domain_to_intervention_to_session_lengths[domain] = {}\n",
    "    if intervention_name not in domain_to_intervention_to_session_lengths[domain]:\n",
    "      domain_to_intervention_to_session_lengths[domain][intervention_name] = []\n",
    "    domain_to_intervention_to_session_lengths[domain][intervention_name].append(time_spent)\n",
    "  return domain_to_intervention_to_session_lengths\n",
    "  "
   ]
  },
  {
   "cell_type": "code",
   "execution_count": 9,
   "metadata": {},
   "outputs": [
    {
     "name": "stdout",
     "output_type": "stream",
     "text": [
      "edceda6041ef668213a96ba5_synced:seconds_on_domain_per_day\n"
     ]
    }
   ],
   "source": [
    "# noexport\n",
    "\n",
    "for x in get_collection_names():\n",
    "  if 'per_day' in x and 'visits' not in x:\n",
    "    print(x)\n",
    "    break"
   ]
  },
  {
   "cell_type": "code",
   "execution_count": 10,
   "metadata": {},
   "outputs": [],
   "source": [
    "@msgpackmemo1arg\n",
    "def get_epoch_to_domain_to_time_spent(install):\n",
    "  seconds_on_domain_per_day = get_collection_for_install(install, 'synced:seconds_on_domain_per_day')\n",
    "  output = {}\n",
    "  for x in seconds_on_domain_per_day:\n",
    "    if 'key' not in x:\n",
    "      print('missing key in seconds_on_domain_per_day')\n",
    "      print(x)\n",
    "      continue\n",
    "    domain = x['key']\n",
    "    epoch = x['key2']\n",
    "    seconds = x['val']\n",
    "    if epoch not in output:\n",
    "      output[epoch] = {}\n",
    "    output[epoch][domain] = seconds\n",
    "  return output"
   ]
  },
  {
   "cell_type": "code",
   "execution_count": 11,
   "metadata": {},
   "outputs": [],
   "source": [
    "# noexport\n",
    "\n",
    "condition_to_installs = get_condition_to_installs_for_random_assignment_abtest()\n"
   ]
  },
  {
   "cell_type": "code",
   "execution_count": 12,
   "metadata": {},
   "outputs": [],
   "source": [
    "# noexport\n",
    "\n",
    "for condition,installs in condition_to_installs.items():\n",
    "  for install in installs:\n",
    "    get_epoch_to_domain_to_time_spent(install)\n",
    "    #print(sorted(get_epoch_to_domain_to_time_spent(install).keys()))\n",
    "    break"
   ]
  },
  {
   "cell_type": "code",
   "execution_count": 13,
   "metadata": {},
   "outputs": [],
   "source": [
    "def convert_date_to_epoch(date):\n",
    "  #start_of_epoch = moment.now().timezone(\"US/Pacific\").replace(years=2016, months=1, days=1, hours=0, minutes=0, seconds=0, milliseconds=0, microseconds=0)\n",
    "  start_of_epoch = moment.now().replace(years=2016, months=1, days=1, hours=0, minutes=0, seconds=0, milliseconds=0, microseconds=0)\n",
    "  year = int(date[0:4])\n",
    "  month = int(date[4:6])\n",
    "  day = int(date[6:8])\n",
    "  #date_moment = moment.now().timezone(\"US/Pacific\").replace(years=year, months=month, days=day, hours=0, minutes=0, seconds=0, milliseconds=0, microseconds=0)\n",
    "  date_moment = moment.now().replace(years=year, months=month, days=day, hours=0, minutes=0, seconds=0, milliseconds=0, microseconds=0)\n",
    "  return date_moment.diff(start_of_epoch).days\n",
    "\n",
    "#import moment\n",
    "#convert_date_to_epoch('20200527')"
   ]
  },
  {
   "cell_type": "code",
   "execution_count": 14,
   "metadata": {},
   "outputs": [],
   "source": [
    "import math\n",
    "\n",
    "def make_domain_to_daily_time_dataframe():\n",
    "  output = []\n",
    "  for condition,installs in condition_to_installs.items():\n",
    "    #condition_to_lengths[condition] = []\n",
    "    for install in installs:\n",
    "      for epoch,domain_to_time_spent in get_epoch_to_domain_to_time_spent(install).items():\n",
    "        if epoch > 1608: # 2020/05/27\n",
    "          continue\n",
    "#         total_time_spent = sum(domain_to_time_spent.values())\n",
    "#         output.append({\n",
    "#           'user': install,\n",
    "#           'epoch': epoch,\n",
    "#           'time': total_time_spent,\n",
    "#           'logtime': math.log(total_time_spent),\n",
    "#           'condition': condition,\n",
    "#         })\n",
    "        for domain,total_time_spent in  domain_to_time_spent.items():\n",
    "          output.append({\n",
    "            'domain': domain,\n",
    "            'user': install,\n",
    "            'epoch': epoch,\n",
    "            'time': total_time_spent,\n",
    "            'logtime': math.log(total_time_spent),\n",
    "            'condition': condition,\n",
    "          })\n",
    "  return to_dataframe(output)"
   ]
  },
  {
   "cell_type": "code",
   "execution_count": 15,
   "metadata": {},
   "outputs": [],
   "source": [
    "# noexport\n",
    "\n",
    "df = make_domain_to_daily_time_dataframe()"
   ]
  },
  {
   "cell_type": "code",
   "execution_count": 16,
   "metadata": {},
   "outputs": [],
   "source": [
    "#print(df)"
   ]
  },
  {
   "cell_type": "code",
   "execution_count": 17,
   "metadata": {},
   "outputs": [],
   "source": [
    "# noexport\n",
    "\n",
    "%Rpush df"
   ]
  },
  {
   "cell_type": "code",
   "execution_count": 18,
   "metadata": {},
   "outputs": [],
   "source": [
    "#%%R\n",
    "#install.library"
   ]
  },
  {
   "cell_type": "code",
   "execution_count": 19,
   "metadata": {},
   "outputs": [
    {
     "name": "stderr",
     "output_type": "stream",
     "text": [
      "R[write to console]: 载入需要的程辑包：Matrix\n",
      "\n",
      "R[write to console]: Registered S3 methods overwritten by 'ggplot2':\n",
      "  method         from \n",
      "  [.quosures     rlang\n",
      "  c.quosures     rlang\n",
      "  print.quosures rlang\n",
      "\n",
      "R[write to console]: \n",
      "载入程辑包：‘lmerTest’\n",
      "\n",
      "\n",
      "R[write to console]: The following object is masked from ‘package:lme4’:\n",
      "\n",
      "    lmer\n",
      "\n",
      "\n",
      "R[write to console]: The following object is masked from ‘package:stats’:\n",
      "\n",
      "    step\n",
      "\n",
      "\n",
      "R[write to console]: \n",
      "Please cite as: \n",
      "\n",
      "\n",
      "R[write to console]:  Hlavac, Marek (2018). stargazer: Well-Formatted Regression and Summary Statistics Tables.\n",
      "\n",
      "R[write to console]:  R package version 5.2.2. https://CRAN.R-project.org/package=stargazer \n",
      "\n",
      "\n"
     ]
    }
   ],
   "source": [
    "%%R\n",
    "\n",
    "library(lme4)\n",
    "#library(sjPlot)\n",
    "library(lmerTest)\n",
    "library(stargazer)\n"
   ]
  },
  {
   "cell_type": "code",
   "execution_count": 20,
   "metadata": {},
   "outputs": [],
   "source": [
    "# %%R\n",
    "\n",
    "# df$user <- as.factor(df$user)\n",
    "# #df$domain <- as.factor(df$domain)\n",
    "# df$condition <- as.factor(df$condition)\n",
    "# df$condition <- factor(df$condition, levels = c(\"survey_nochoice_nothing\", \"survey_nochoice_easy\", \"survey_nochoice_medium\", \"survey_nochoice_hard\"))\n",
    "# df$epoch <- as.factor(df$epoch)\n",
    "# df$logtime <- as.numeric(df$logtime)\n",
    "# df$time <- as.numeric(df$time)\n",
    "# summary(df)\n",
    "\n"
   ]
  },
  {
   "cell_type": "code",
   "execution_count": 30,
   "metadata": {},
   "outputs": [],
   "source": [
    "%%R\n",
    "\n",
    "df$user <- as.factor(df$user)\n",
    "df$domain <- as.factor(df$domain)\n",
    "df$condition <- as.factor(df$condition)\n",
    "#df$condition <- factor(df$condition, levels = c(\"survey_nochoice_nothing\", \"survey_nochoice_easy\", \"survey_nochoice_medium\", \"survey_nochoice_hard\", \"survey\", \"nodefault_forcedchoice_userchoice\"))\n",
    "df$condition <- factor(df$condition, levels = c(\"survey\", \"survey_nochoice_nothing\", \"survey_nochoice_easy\", \"survey_nochoice_medium\", \"survey_nochoice_hard\", \"nodefault_forcedchoice_userchoice\"))\n",
    "df$epoch <- as.factor(df$epoch)\n",
    "df$logtime <- as.numeric(df$logtime)\n",
    "df$time <- as.numeric(df$time)\n",
    "#summary(df)\n",
    "\n",
    "\n"
   ]
  },
  {
   "cell_type": "code",
   "execution_count": 22,
   "metadata": {},
   "outputs": [
    {
     "name": "stdout",
     "output_type": "stream",
     "text": [
      "NULL\n"
     ]
    }
   ],
   "source": [
    "%%R\n",
    "\n",
    "#dfsub <- df[df$domain == 'www.youtube.com', ]\n",
    "#show(summary(dfsub))\n",
    "#show(summary(subset(df, domain='www.youtube.com')))\n",
    "#dfsub <- subset(df, domain='www.youtube.com')\n",
    "#show(summary(dfsub))"
   ]
  },
  {
   "cell_type": "code",
   "execution_count": 23,
   "metadata": {},
   "outputs": [],
   "source": [
    "# %%R\n",
    "\n",
    "# dfsub <- df\n",
    "# show(summary(dfsub))\n",
    "# #results <- lmer(logtime ~ condition + (1|user), data = df)\n",
    "# #results <- lmer(logtime ~ condition + (1|user), data = dfsub)\n",
    "# results <- lmer(logtime ~ condition + (1|user) + (1|domain), data = df)\n",
    "# show(results)\n",
    "# show(summary(results))\n",
    "# class(results) <- \"lmerMod\"\n",
    "# stargazer(results)"
   ]
  },
  {
   "cell_type": "code",
   "execution_count": 28,
   "metadata": {},
   "outputs": [],
   "source": [
    "%%R\n",
    "\n",
    "#show(df)"
   ]
  },
  {
   "cell_type": "code",
   "execution_count": 38,
   "metadata": {},
   "outputs": [
    {
     "data": {
      "text/plain": [
       "'20171231'"
      ]
     },
     "execution_count": 38,
     "metadata": {},
     "output_type": "execute_result"
    }
   ],
   "source": [
    "def convert_epoch_to_date(epoch):\n",
    "  #start_of_epoch = moment.now().timezone(\"US/Pacific\").replace(years=2016, months=1, days=1, hours=0, minutes=0, seconds=0, milliseconds=0, microseconds=0)\n",
    "  start_of_epoch = moment.now().replace(years=2016, months=1, days=1, hours=0, minutes=0, seconds=0, milliseconds=0, microseconds=0)\n",
    "  start_of_epoch.add(days=epoch)\n",
    "  return start_of_epoch.format('YYYYMMDD')\n",
    "\n",
    "import moment\n",
    "convert_epoch_to_date(730)"
   ]
  },
  {
   "cell_type": "code",
   "execution_count": 36,
   "metadata": {},
   "outputs": [
    {
     "data": {
      "text/plain": [
       "730"
      ]
     },
     "execution_count": 36,
     "metadata": {},
     "output_type": "execute_result"
    }
   ],
   "source": [
    "min([x for x in df['epoch'].values if x > 0])"
   ]
  },
  {
   "cell_type": "code",
   "execution_count": 31,
   "metadata": {},
   "outputs": [
    {
     "name": "stdout",
     "output_type": "stream",
     "text": [
      "                   domain                            user           epoch      \n",
      " www.facebook.com     :77165   3d8f23613f3849ed266ace58:  341   1592   :  430  \n",
      " _.shoprintee.com     :    0   f9329b2116e3bd031cca0519:  281   1573   :  429  \n",
      " _antonia.gr          :    0   65180c485ea59d22fdc32a4d:  271   1587   :  423  \n",
      " _dmarc.adoreme.com   :    0   79f9aa9fe47ba2f0fa59ba73:  270   1599   :  422  \n",
      " _dnslink.your.website:    0   71da006ec218a9b8e3eb317e:  268   1608   :  422  \n",
      " _kunden.suedcom.info :    0   26c1461ecb3d3dd841ecbaac:  266   1571   :  421  \n",
      " (Other)              :    0   (Other)                 :75468   (Other):74618  \n",
      "      time          logtime                                   condition    \n",
      " Min.   :    1   Min.   : 0.000   survey                           :12837  \n",
      " 1st Qu.:  115   1st Qu.: 4.745   survey_nochoice_nothing          :11401  \n",
      " Median :  450   Median : 6.109   survey_nochoice_easy             :13963  \n",
      " Mean   : 1146   Mean   : 5.823   survey_nochoice_medium           :13031  \n",
      " 3rd Qu.: 1338   3rd Qu.: 7.199   survey_nochoice_hard             :13639  \n",
      " Max.   :88216   Max.   :11.388   nodefault_forcedchoice_userchoice:12294  \n",
      "                                                                           \n",
      "Linear mixed model fit by REML ['lmerModLmerTest']\n",
      "Formula: logtime ~ condition + (1 | user)\n",
      "   Data: dfsub\n",
      "REML criterion at convergence: 282390.5\n",
      "Random effects:\n",
      " Groups   Name        Std.Dev.\n",
      " user     (Intercept) 1.434   \n",
      " Residual             1.438   \n",
      "Number of obs: 77165, groups:  user, 3207\n",
      "Fixed Effects:\n",
      "                               (Intercept)  \n",
      "                                    4.7917  \n",
      "          conditionsurvey_nochoice_nothing  \n",
      "                                    0.2609  \n",
      "             conditionsurvey_nochoice_easy  \n",
      "                                    0.2973  \n",
      "           conditionsurvey_nochoice_medium  \n",
      "                                    0.2806  \n",
      "             conditionsurvey_nochoice_hard  \n",
      "                                    0.2265  \n",
      "conditionnodefault_forcedchoice_userchoice  \n",
      "                                    0.1689  \n",
      "Linear mixed model fit by REML. t-tests use Satterthwaite's method [\n",
      "lmerModLmerTest]\n",
      "Formula: logtime ~ condition + (1 | user)\n",
      "   Data: dfsub\n",
      "\n",
      "REML criterion at convergence: 282390.5\n",
      "\n",
      "Scaled residuals: \n",
      "    Min      1Q  Median      3Q     Max \n",
      "-6.0264 -0.4894  0.1486  0.6447  5.1266 \n",
      "\n",
      "Random effects:\n",
      " Groups   Name        Variance Std.Dev.\n",
      " user     (Intercept) 2.056    1.434   \n",
      " Residual             2.067    1.438   \n",
      "Number of obs: 77165, groups:  user, 3207\n",
      "\n",
      "Fixed effects:\n",
      "                                            Estimate Std. Error        df\n",
      "(Intercept)                                4.792e+00  6.565e-02 2.986e+03\n",
      "conditionsurvey_nochoice_nothing           2.609e-01  1.032e-01 2.878e+03\n",
      "conditionsurvey_nochoice_easy              2.973e-01  9.449e-02 2.924e+03\n",
      "conditionsurvey_nochoice_medium            2.806e-01  9.362e-02 2.958e+03\n",
      "conditionsurvey_nochoice_hard              2.265e-01  9.524e-02 2.971e+03\n",
      "conditionnodefault_forcedchoice_userchoice 1.689e-01  9.427e-02 2.943e+03\n",
      "                                           t value Pr(>|t|)    \n",
      "(Intercept)                                 72.989  < 2e-16 ***\n",
      "conditionsurvey_nochoice_nothing             2.528  0.01153 *  \n",
      "conditionsurvey_nochoice_easy                3.147  0.00167 ** \n",
      "conditionsurvey_nochoice_medium              2.997  0.00275 ** \n",
      "conditionsurvey_nochoice_hard                2.379  0.01744 *  \n",
      "conditionnodefault_forcedchoice_userchoice   1.791  0.07335 .  \n",
      "---\n",
      "Signif. codes:  0 ‘***’ 0.001 ‘**’ 0.01 ‘*’ 0.05 ‘.’ 0.1 ‘ ’ 1\n",
      "\n",
      "Correlation of Fixed Effects:\n",
      "                 (Intr) cndtnsrvy_nchc_n cndtnsrvy_nchc_s cndtnsrvy_nchc_m\n",
      "cndtnsrvy_nchc_n -0.636                                                   \n",
      "cndtnsrvy_nchc_s -0.695  0.442                                            \n",
      "cndtnsrvy_nchc_m -0.701  0.446            0.487                           \n",
      "cndtnsrvy_nchc_h -0.689  0.439            0.479            0.483          \n",
      "cndtnndfl__      -0.696  0.443            0.484            0.488          \n",
      "                 cndtnsrvy_nchc_h\n",
      "cndtnsrvy_nchc_n                 \n",
      "cndtnsrvy_nchc_s                 \n",
      "cndtnsrvy_nchc_m                 \n",
      "cndtnsrvy_nchc_h                 \n",
      "cndtnndfl__       0.480          \n",
      "\n",
      "% Table created by stargazer v.5.2.2 by Marek Hlavac, Harvard University. E-mail: hlavac at fas.harvard.edu\n",
      "% Date and time: 四,  9 17, 2020 - 07时06分36秒\n",
      "\\begin{table}[!htbp] \\centering \n",
      "  \\caption{} \n",
      "  \\label{} \n",
      "\\begin{tabular}{@{\\extracolsep{5pt}}lc} \n",
      "\\\\[-1.8ex]\\hline \n",
      "\\hline \\\\[-1.8ex] \n",
      " & \\multicolumn{1}{c}{\\textit{Dependent variable:}} \\\\ \n",
      "\\cline{2-2} \n",
      "\\\\[-1.8ex] & logtime \\\\ \n",
      "\\hline \\\\[-1.8ex] \n",
      " conditionsurvey\\_nochoice\\_nothing & 0.261$^{**}$ \\\\ \n",
      "  & (0.103) \\\\ \n",
      "  & \\\\ \n",
      " conditionsurvey\\_nochoice\\_easy & 0.297$^{***}$ \\\\ \n",
      "  & (0.094) \\\\ \n",
      "  & \\\\ \n",
      " conditionsurvey\\_nochoice\\_medium & 0.281$^{***}$ \\\\ \n",
      "  & (0.094) \\\\ \n",
      "  & \\\\ \n",
      " conditionsurvey\\_nochoice\\_hard & 0.227$^{**}$ \\\\ \n",
      "  & (0.095) \\\\ \n",
      "  & \\\\ \n",
      " conditionnodefault\\_forcedchoice\\_userchoice & 0.169$^{*}$ \\\\ \n",
      "  & (0.094) \\\\ \n",
      "  & \\\\ \n",
      " Constant & 4.792$^{***}$ \\\\ \n",
      "  & (0.066) \\\\ \n",
      "  & \\\\ \n",
      "\\hline \\\\[-1.8ex] \n",
      "Observations & 77,165 \\\\ \n",
      "Log Likelihood & $-$141,195.300 \\\\ \n",
      "Akaike Inf. Crit. & 282,406.500 \\\\ \n",
      "Bayesian Inf. Crit. & 282,480.500 \\\\ \n",
      "\\hline \n",
      "\\hline \\\\[-1.8ex] \n",
      "\\textit{Note:}  & \\multicolumn{1}{r}{$^{*}$p$<$0.1; $^{**}$p$<$0.05; $^{***}$p$<$0.01} \\\\ \n",
      "\\end{tabular} \n",
      "\\end{table} \n"
     ]
    }
   ],
   "source": [
    "%%R\n",
    "\n",
    "dfsub <- df[df$domain == 'www.facebook.com', ]\n",
    "show(summary(dfsub))\n",
    "#results <- lmer(logtime ~ condition + (1|user), data = df)\n",
    "results <- lmer(logtime ~ condition + (1|user), data = dfsub)\n",
    "#results <- lmer(logtime ~ condition + (1|user) + (1|domain), data = df)\n",
    "show(results)\n",
    "show(summary(results))\n",
    "class(results) <- \"lmerMod\"\n",
    "stargazer(results)"
   ]
  },
  {
   "cell_type": "code",
   "execution_count": null,
   "metadata": {},
   "outputs": [],
   "source": [
    "# noexport\n",
    "\n",
    "condition_to_lengths = {}\n",
    "for condition,installs in condition_to_installs.items():\n",
    "  condition_to_lengths[condition] = []\n",
    "  for install in installs:\n",
    "    for epoch,domain_to_time_spent in get_epoch_to_domain_to_time_spent(install).items():\n",
    "      total_time_spent = sum(domain_to_time_spent.values())\n",
    "      condition_to_lengths[condition].append(total_time_spent)\n",
    "      #if 'www.facebook.com' not in domain_to_time_spent:\n",
    "      #  continue\n",
    "      #time_on_facebook = domain_to_time_spent.get('www.facebook.com', 0)\n",
    "      #condition_to_lengths[condition].append(time_on_facebook)"
   ]
  },
  {
   "cell_type": "code",
   "execution_count": null,
   "metadata": {},
   "outputs": [],
   "source": [
    "# noexport\n",
    "# bad\n",
    "\n",
    "\n",
    "condition_to_lengths = {}\n",
    "for condition,installs in condition_to_installs.items():\n",
    "  condition_to_lengths[condition] = []\n",
    "  for install in installs:\n",
    "    for domain,intervention_to_session_lengths in get_domain_to_intervention_to_session_lengths_for_install_olddata(install).items():\n",
    "      if domain != 'www.youtube.com':\n",
    "        continue\n",
    "      for intervention,session_lengths in intervention_to_session_lengths.items():\n",
    "        for session_length in session_lengths:\n",
    "          condition_to_lengths[condition].append(session_length)\n"
   ]
  },
  {
   "cell_type": "code",
   "execution_count": null,
   "metadata": {},
   "outputs": [],
   "source": [
    "# noexport\n",
    "\n",
    "condition_to_lengths = {}\n",
    "for condition,installs in condition_to_installs.items():\n",
    "  condition_to_lengths[condition] = []\n",
    "  for install in installs:\n",
    "    all_lengths_for_user = []\n",
    "    for epoch,domain_to_time_spent in get_epoch_to_domain_to_time_spent(install).items():\n",
    "      total_time_spent = sum(domain_to_time_spent.values())\n",
    "      all_lengths_for_user.append(total_time_spent)\n",
    "    if len(all_lengths_for_user) == 0:\n",
    "      continue\n",
    "    condition_to_lengths[condition].append(np.median(all_lengths_for_user))\n",
    "      #if 'www.facebook.com' not in domain_to_time_spent:\n",
    "      #  continue\n",
    "      #time_on_facebook = domain_to_time_spent.get('www.facebook.com', 0)\n",
    "      #condition_to_lengths[condition].append(time_on_facebook)"
   ]
  },
  {
   "cell_type": "code",
   "execution_count": null,
   "metadata": {},
   "outputs": [],
   "source": [
    "# noexport\n",
    "\n",
    "condition_to_lengths = {}\n",
    "for condition,installs in condition_to_installs.items():\n",
    "  condition_to_lengths[condition] = []\n",
    "  for install in installs:\n",
    "    for epoch,domain_to_time_spent in get_epoch_to_domain_to_time_spent(install).items():\n",
    "      if 'www.facebook.com' not in domain_to_time_spent:\n",
    "        continue\n",
    "      time_on_facebook = domain_to_time_spent.get('www.facebook.com', 0)\n",
    "      condition_to_lengths[condition].append(time_on_facebook)"
   ]
  },
  {
   "cell_type": "code",
   "execution_count": null,
   "metadata": {},
   "outputs": [],
   "source": [
    "# noexport\n",
    "from scipy.stats import ttest_ind\n",
    "\n",
    "condition_to_mlengths = {}\n",
    "for condition,session_lengths in condition_to_lengths.items():\n",
    "  print(condition, np.mean(session_lengths))\n",
    "  condition_to_mlengths[condition] = np.mean(session_lengths) / 60\n",
    "\n",
    "#print(ttest_ind(condition_to_lengths['survey_nochoice_hard'], condition_to_lengths['survey_nochoice_nothing']))\n",
    "print(ttest_ind(condition_to_lengths['survey_nochoice_hard'], condition_to_lengths['survey_nochoice_easy']))\n",
    "#print(ttest_ind(condition_to_lengths['survey_nochoice_easy'], condition_to_lengths['survey_nochoice_medium']))\n"
   ]
  },
  {
   "cell_type": "code",
   "execution_count": null,
   "metadata": {},
   "outputs": [],
   "source": [
    "# noexport\n",
    "\n",
    "from plot_utils import *\n"
   ]
  },
  {
   "cell_type": "code",
   "execution_count": null,
   "metadata": {},
   "outputs": [],
   "source": [
    "# noexport\n",
    "\n",
    "#from plot_utils import *\n",
    "plot_dict_as_bar(condition_to_mlengths, title='Total minutes spent daily on sites', xlabel='Difficulty', ylabel='Minutes spent daily on sites', remap_labels={'survey_nochoice_nothing': 'Nothing', 'survey_nochoice_easy': 'Easy', 'survey_nochoice_medium': 'Medium', 'survey_nochoice_hard': 'Hard', 'survey': 'Experience Sampling', 'nodefault_forcedchoice_userchoice': 'Onboarding Choice'})"
   ]
  },
  {
   "cell_type": "code",
   "execution_count": null,
   "metadata": {},
   "outputs": [],
   "source": [
    "# for install in installs_with_experiment_vars:\n",
    "#   #seconds_on_domain_per_session = get_collection_for_install(install, 'synced:seconds_on_domain_per_session')\n",
    "#   #interventions_active_for_domain_and_session = get_collection_for_install(install, 'synced:interventions_active_for_domain_and_session')\n",
    "#   res = get_domain_to_intervention_to_session_lengths_for_install(install)\n",
    "#   #if len(res) > 0:\n",
    "#   #  print(res)\n",
    "#   #  break"
   ]
  }
 ],
 "metadata": {
  "kernelspec": {
   "display_name": "Python 3",
   "language": "python",
   "name": "python3"
  },
  "language_info": {
   "codemirror_mode": {
    "name": "ipython",
    "version": 3
   },
   "file_extension": ".py",
   "mimetype": "text/x-python",
   "name": "python",
   "nbconvert_exporter": "python",
   "pygments_lexer": "ipython3",
   "version": "3.7.8"
  }
 },
 "nbformat": 4,
 "nbformat_minor": 2
}
