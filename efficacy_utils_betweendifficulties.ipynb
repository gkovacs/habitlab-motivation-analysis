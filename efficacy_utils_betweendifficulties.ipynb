{
 "cells": [
  {
   "cell_type": "code",
   "execution_count": 2,
   "metadata": {},
   "outputs": [
    {
     "name": "stdout",
     "output_type": "stream",
     "text": [
      "[NbConvertApp] Converting notebook efficacy_utils_betweendifficulties.ipynb to python\n",
      "retention_utils.py:398: error: Name 'get_ipython' is not defined\n",
      "efficacy_utils_betweendifficulties.py:40: error: Name 'get_condition_to_installs_for_random_assignment_abtest' already defined on line 27\n",
      "efficacy_utils_betweendifficulties.py:159: error: Name 'get_ipython' is not defined\n",
      "efficacy_utils_betweendifficulties.py:168: error: Name 'get_ipython' is not defined\n",
      "efficacy_utils_betweendifficulties.py:185: error: Name 'get_ipython' is not defined\n",
      "efficacy_utils_betweendifficulties.py:189: error: Name 'get_ipython' is not defined\n",
      "efficacy_utils_betweendifficulties.py:203: error: Name 'condition_to_mlengths' is not defined\n"
     ]
    }
   ],
   "source": [
    "# noexport\n",
    "\n",
    "!typech efficacy_utils_betweendifficulties.ipynb"
   ]
  },
  {
   "cell_type": "code",
   "execution_count": 3,
   "metadata": {},
   "outputs": [
    {
     "data": {
      "text/html": [
       "<script type=\"text/javascript\">window.PlotlyConfig = {MathJaxConfig: 'local'};</script><script type=\"text/javascript\">if (window.MathJax) {MathJax.Hub.Config({SVG: {font: \"STIX-Web\"}});}</script><script>requirejs.config({paths: { 'plotly': ['https://cdn.plot.ly/plotly-latest.min']},});if(!window._Plotly) {require(['plotly'],function(plotly) {window._Plotly=plotly;});}</script>"
      ],
      "text/vnd.plotly.v1+html": [
       "<script type=\"text/javascript\">window.PlotlyConfig = {MathJaxConfig: 'local'};</script><script type=\"text/javascript\">if (window.MathJax) {MathJax.Hub.Config({SVG: {font: \"STIX-Web\"}});}</script><script>requirejs.config({paths: { 'plotly': ['https://cdn.plot.ly/plotly-latest.min']},});if(!window._Plotly) {require(['plotly'],function(plotly) {window._Plotly=plotly;});}</script>"
      ]
     },
     "metadata": {},
     "output_type": "display_data"
    },
    {
     "data": {
      "application/javascript": [
       "IPython.OutputArea.prototype._should_scroll = function(lines) {\n",
       "    return false;\n",
       "}"
      ],
      "text/plain": [
       "<IPython.core.display.Javascript object>"
      ]
     },
     "metadata": {},
     "output_type": "display_data"
    }
   ],
   "source": [
    "from retention_utils import *"
   ]
  },
  {
   "cell_type": "code",
   "execution_count": 4,
   "metadata": {},
   "outputs": [],
   "source": [
    "import jsonmemo as jsonmemo_module\n",
    "jsonmemo_module.set_lowmem(True)"
   ]
  },
  {
   "cell_type": "code",
   "execution_count": 4,
   "metadata": {},
   "outputs": [],
   "source": [
    "#installs_with_experiment_vars = get_installs_with_experiment_vars()"
   ]
  },
  {
   "cell_type": "code",
   "execution_count": 5,
   "metadata": {},
   "outputs": [],
   "source": [
    "#print(installs_with_experiment_vars[0])"
   ]
  },
  {
   "cell_type": "code",
   "execution_count": 5,
   "metadata": {},
   "outputs": [],
   "source": [
    "\n",
    "\n",
    "def get_condition_to_installs_for_random_assignment_abtest():\n",
    "  abtest_name = 'difficulty_selection_screen'\n",
    "  groups = ['survey_nochoice_nothing', 'survey_nochoice_easy', 'survey_nochoice_medium', 'survey_nochoice_hard']\n",
    "  condition_to_installs = get_conditions_to_install_list_in_abtest_unstrict(abtest_name)\n",
    "  for k in list(condition_to_installs.keys()):\n",
    "    if k not in groups:\n",
    "      del condition_to_installs[k]\n",
    "  return condition_to_installs\n"
   ]
  },
  {
   "cell_type": "code",
   "execution_count": 34,
   "metadata": {},
   "outputs": [],
   "source": [
    "\n",
    "\n",
    "# def get_condition_to_installs_for_random_assignment_abtest():\n",
    "#   abtest_name = 'difficulty_selection_screen_and_choose_difficulty_frequency'\n",
    "#   groups = ['survey', 'nodefault_forcedchoice_userchoice', 'survey_nochoice_nothing', 'survey_nochoice_easy', 'survey_nochoice_medium', 'survey_nochoice_hard']\n",
    "#   condition_to_installs = get_conditions_to_install_list_in_abtest_unstrict(abtest_name)\n",
    "#   for k in list(condition_to_installs.keys()):\n",
    "#     if k not in groups:\n",
    "#       del condition_to_installs[k]\n",
    "#   return condition_to_installs\n"
   ]
  },
  {
   "cell_type": "code",
   "execution_count": 35,
   "metadata": {},
   "outputs": [],
   "source": [
    "\n",
    "#for install in installs_with_experiment_vars:\n",
    "@msgpackmemo1arg\n",
    "def get_domain_to_intervention_to_session_lengths_for_install(install):\n",
    "  seconds_on_domain_per_session = get_collection_for_install(install, 'synced:seconds_on_domain_per_session')\n",
    "  interventions_active_for_domain_and_session = get_collection_for_install(install, 'synced:interventions_active_for_domain_and_session')\n",
    "  \n",
    "  domain_to_session_to_intervention = {}\n",
    "  for x in interventions_active_for_domain_and_session:\n",
    "    if x.get('val') is None:\n",
    "      continue\n",
    "    interventions_active = json.loads(x['val'])\n",
    "    if len(interventions_active) == 0:\n",
    "      continue\n",
    "    intervention_name = interventions_active[0]\n",
    "    domain = x['key']\n",
    "    session_id = x['key2']\n",
    "    if domain not in domain_to_session_to_intervention:\n",
    "      domain_to_session_to_intervention[domain] = {}\n",
    "    domain_to_session_to_intervention[domain][session_id] = intervention_name\n",
    "  \n",
    "  domain_to_intervention_to_session_lengths = {}\n",
    "  for x in seconds_on_domain_per_session:\n",
    "    if 'key' not in x:\n",
    "      print('missing key in seconds_on_domain_per_session')\n",
    "      print(x)\n",
    "      continue\n",
    "    domain = x['key']\n",
    "    session_id = x['key2']\n",
    "    time_spent = x['val']\n",
    "    if domain not in domain_to_session_to_intervention:\n",
    "      continue\n",
    "    intervention_name = domain_to_session_to_intervention[domain].get(session_id)\n",
    "    if intervention_name is None:\n",
    "      continue\n",
    "    if domain not in domain_to_intervention_to_session_lengths:\n",
    "      domain_to_intervention_to_session_lengths[domain] = {}\n",
    "    if intervention_name not in domain_to_intervention_to_session_lengths[domain]:\n",
    "      domain_to_intervention_to_session_lengths[domain][intervention_name] = []\n",
    "    domain_to_intervention_to_session_lengths[domain][intervention_name].append(time_spent)\n",
    "  return domain_to_intervention_to_session_lengths\n",
    "  "
   ]
  },
  {
   "cell_type": "code",
   "execution_count": 36,
   "metadata": {},
   "outputs": [
    {
     "name": "stdout",
     "output_type": "stream",
     "text": [
      "edceda6041ef668213a96ba5_synced:seconds_on_domain_per_day\n"
     ]
    }
   ],
   "source": [
    "# noexport\n",
    "\n",
    "for x in get_collection_names():\n",
    "  if 'per_day' in x and 'visits' not in x:\n",
    "    print(x)\n",
    "    break"
   ]
  },
  {
   "cell_type": "code",
   "execution_count": 37,
   "metadata": {},
   "outputs": [],
   "source": [
    "@msgpackmemo1arg\n",
    "def get_epoch_to_domain_to_time_spent(install):\n",
    "  seconds_on_domain_per_day = get_collection_for_install(install, 'synced:seconds_on_domain_per_day')\n",
    "  output = {}\n",
    "  for x in seconds_on_domain_per_day:\n",
    "    if 'key' not in x:\n",
    "      print('missing key in seconds_on_domain_per_day')\n",
    "      print(x)\n",
    "      continue\n",
    "    domain = x['key']\n",
    "    epoch = x['key2']\n",
    "    seconds = x['val']\n",
    "    if epoch not in output:\n",
    "      output[epoch] = {}\n",
    "    output[epoch][domain] = seconds\n",
    "  return output"
   ]
  },
  {
   "cell_type": "code",
   "execution_count": 38,
   "metadata": {},
   "outputs": [],
   "source": [
    "# noexport\n",
    "\n",
    "condition_to_installs = get_condition_to_installs_for_random_assignment_abtest()\n"
   ]
  },
  {
   "cell_type": "code",
   "execution_count": 39,
   "metadata": {},
   "outputs": [
    {
     "name": "stdout",
     "output_type": "stream",
     "text": [
      "[1294, 1295, 1296, 1297, 1298, 1299, 1300, 1301, 1302, 1303, 1304, 1305, 1306, 1307, 1308, 1309, 1310, 1311, 1312, 1313, 1314, 1315, 1316, 1317, 1318, 1325, 1326, 1328, 1329, 1330, 1331, 1332, 1333, 1334, 1335, 1336]\n",
      "[1323, 1327, 1335]\n",
      "[]\n",
      "[1326]\n",
      "[1302, 1303, 1304, 1305, 1306, 1307, 1308, 1309, 1310, 1311, 1312, 1313, 1314, 1315, 1316, 1317, 1318, 1319, 1320, 1321, 1322, 1323, 1324, 1325, 1326, 1327, 1328, 1329, 1330, 1331, 1332, 1333, 1334, 1335]\n",
      "[]\n"
     ]
    }
   ],
   "source": [
    "# noexport\n",
    "\n",
    "for condition,installs in condition_to_installs.items():\n",
    "  for install in installs:\n",
    "    print(sorted(get_epoch_to_domain_to_time_spent(install).keys()))\n",
    "    break"
   ]
  },
  {
   "cell_type": "code",
   "execution_count": null,
   "metadata": {},
   "outputs": [],
   "source": []
  },
  {
   "cell_type": "code",
   "execution_count": 63,
   "metadata": {},
   "outputs": [],
   "source": [
    "import math\n",
    "\n",
    "def make_domain_to_daily_time_dataframe():\n",
    "  output = []\n",
    "  for condition,installs in condition_to_installs.items():\n",
    "    #condition_to_lengths[condition] = []\n",
    "    for install in installs:\n",
    "      for epoch,domain_to_time_spent in get_epoch_to_domain_to_time_spent(install).items():\n",
    "#         total_time_spent = sum(domain_to_time_spent.values())\n",
    "#         output.append({\n",
    "#           'user': install,\n",
    "#           'epoch': epoch,\n",
    "#           'time': total_time_spent,\n",
    "#           'logtime': math.log(total_time_spent),\n",
    "#           'condition': condition,\n",
    "#         })\n",
    "        for domain,total_time_spent in  domain_to_time_spent.items():\n",
    "          output.append({\n",
    "            'domain': domain,\n",
    "            'user': install,\n",
    "            'epoch': epoch,\n",
    "            'time': total_time_spent,\n",
    "            'logtime': math.log(total_time_spent),\n",
    "            'condition': condition,\n",
    "          })\n",
    "  return to_dataframe(output)"
   ]
  },
  {
   "cell_type": "code",
   "execution_count": 64,
   "metadata": {},
   "outputs": [],
   "source": [
    "df = make_domain_to_daily_time_dataframe()"
   ]
  },
  {
   "cell_type": "code",
   "execution_count": 15,
   "metadata": {},
   "outputs": [],
   "source": [
    "#print(df)"
   ]
  },
  {
   "cell_type": "code",
   "execution_count": 67,
   "metadata": {},
   "outputs": [],
   "source": [
    "%Rpush df"
   ]
  },
  {
   "cell_type": "code",
   "execution_count": 50,
   "metadata": {},
   "outputs": [],
   "source": [
    "#%%R\n",
    "#install.library"
   ]
  },
  {
   "cell_type": "code",
   "execution_count": 65,
   "metadata": {},
   "outputs": [],
   "source": [
    "%%R\n",
    "library(lme4)\n",
    "#library(sjPlot)\n",
    "library(lmerTest)\n",
    "library(stargazer)\n"
   ]
  },
  {
   "cell_type": "code",
   "execution_count": 18,
   "metadata": {},
   "outputs": [],
   "source": [
    "# %%R\n",
    "\n",
    "# df$user <- as.factor(df$user)\n",
    "# #df$domain <- as.factor(df$domain)\n",
    "# df$condition <- as.factor(df$condition)\n",
    "# df$condition <- factor(df$condition, levels = c(\"survey_nochoice_nothing\", \"survey_nochoice_easy\", \"survey_nochoice_medium\", \"survey_nochoice_hard\"))\n",
    "# df$epoch <- as.factor(df$epoch)\n",
    "# df$logtime <- as.numeric(df$logtime)\n",
    "# df$time <- as.numeric(df$time)\n",
    "# summary(df)\n",
    "\n"
   ]
  },
  {
   "cell_type": "code",
   "execution_count": 68,
   "metadata": {},
   "outputs": [
    {
     "data": {
      "text/plain": [
       "              domain                             user            epoch       \n",
       " www.google.com  :  7272   9ec9126bfe989d527d87f56a:  4150   1319   :  6600  \n",
       " www.youtube.com :  5029   4923f5d68ea2b45c0e582fa9:  3924   1333   :  6599  \n",
       " mail.google.com :  4588   3d8f23613f3849ed266ace58:  3148   1328   :  6555  \n",
       " www.facebook.com:  3524   f9329b2116e3bd031cca0519:  2867   1329   :  6409  \n",
       " docs.google.com :  2407   ac3fb867e496b79bd34dff4a:  2807   1320   :  6382  \n",
       " drive.google.com:  1758   a99d3dda7e8757513429395b:  2708   1327   :  6292  \n",
       " (Other)         :209309   (Other)                 :214283   (Other):195050  \n",
       "      time            logtime                                   condition    \n",
       " Min.   :    1.0   Min.   : 0.000   survey_nochoice_nothing          :36536  \n",
       " 1st Qu.:   14.0   1st Qu.: 2.639   survey_nochoice_easy             :44561  \n",
       " Median :   54.0   Median : 3.989   survey_nochoice_medium           :31895  \n",
       " Mean   :  347.8   Mean   : 3.987   survey_nochoice_hard             :44698  \n",
       " 3rd Qu.:  191.0   3rd Qu.: 5.252   survey                           :38062  \n",
       " Max.   :86400.0   Max.   :11.367   nodefault_forcedchoice_userchoice:38135  \n",
       "                                                                             \n"
      ]
     },
     "metadata": {},
     "output_type": "display_data"
    }
   ],
   "source": [
    "%%R\n",
    "\n",
    "df$user <- as.factor(df$user)\n",
    "df$domain <- as.factor(df$domain)\n",
    "df$condition <- as.factor(df$condition)\n",
    "df$condition <- factor(df$condition, levels = c(\"survey_nochoice_nothing\", \"survey_nochoice_easy\", \"survey_nochoice_medium\", \"survey_nochoice_hard\", \"survey\", \"nodefault_forcedchoice_userchoice\"))\n",
    "df$epoch <- as.factor(df$epoch)\n",
    "df$logtime <- as.numeric(df$logtime)\n",
    "df$time <- as.numeric(df$time)\n",
    "summary(df)\n",
    "\n",
    "\n"
   ]
  },
  {
   "cell_type": "code",
   "execution_count": 70,
   "metadata": {},
   "outputs": [
    {
     "data": {
      "text/plain": [
       "Linear mixed model fit by REML ['lmerModLmerTest']\n",
       "Formula: logtime ~ condition + (1 | user) + (1 | domain)\n",
       "   Data: df\n",
       "REML criterion at convergence: 895180.7\n",
       "Random effects:\n",
       " Groups   Name        Std.Dev.\n",
       " domain   (Intercept) 0.8027  \n",
       " user     (Intercept) 0.3569  \n",
       " Residual             1.5388  \n",
       "Number of obs: 233887, groups:  domain, 69212; user, 693\n",
       "Fixed Effects:\n",
       "                               (Intercept)  \n",
       "                                 3.5137305  \n",
       "             conditionsurvey_nochoice_easy  \n",
       "                                 0.0098042  \n",
       "           conditionsurvey_nochoice_medium  \n",
       "                                -0.0567833  \n",
       "             conditionsurvey_nochoice_hard  \n",
       "                                 0.0006367  \n",
       "                           conditionsurvey  \n",
       "                                -0.0244560  \n",
       "conditionnodefault_forcedchoice_userchoice  \n",
       "                                -0.0675178  \n",
       "Linear mixed model fit by REML. t-tests use Satterthwaite's method [\n",
       "lmerModLmerTest]\n",
       "Formula: logtime ~ condition + (1 | user) + (1 | domain)\n",
       "   Data: df\n",
       "\n",
       "REML criterion at convergence: 895180.7\n",
       "\n",
       "Scaled residuals: \n",
       "    Min      1Q  Median      3Q     Max \n",
       "-5.0542 -0.5970  0.0472  0.6507  4.5981 \n",
       "\n",
       "Random effects:\n",
       " Groups   Name        Variance Std.Dev.\n",
       " domain   (Intercept) 0.6443   0.8027  \n",
       " user     (Intercept) 0.1274   0.3569  \n",
       " Residual             2.3679   1.5388  \n",
       "Number of obs: 233887, groups:  domain, 69212; user, 693\n",
       "\n",
       "Fixed effects:\n",
       "                                             Estimate Std. Error         df\n",
       "(Intercept)                                 3.514e+00  4.458e-02  5.299e+02\n",
       "conditionsurvey_nochoice_easy               9.804e-03  5.794e-02  5.187e+02\n",
       "conditionsurvey_nochoice_medium            -5.678e-02  6.016e-02  5.267e+02\n",
       "conditionsurvey_nochoice_hard               6.367e-04  5.830e-02  5.178e+02\n",
       "conditionsurvey                            -2.446e-02  5.711e-02  5.181e+02\n",
       "conditionnodefault_forcedchoice_userchoice -6.752e-02  5.825e-02  5.142e+02\n",
       "                                           t value Pr(>|t|)    \n",
       "(Intercept)                                 78.820   <2e-16 ***\n",
       "conditionsurvey_nochoice_easy                0.169    0.866    \n",
       "conditionsurvey_nochoice_medium             -0.944    0.346    \n",
       "conditionsurvey_nochoice_hard                0.011    0.991    \n",
       "conditionsurvey                             -0.428    0.669    \n",
       "conditionnodefault_forcedchoice_userchoice  -1.159    0.247    \n",
       "---\n",
       "Signif. codes:  0 ‘***’ 0.001 ‘**’ 0.01 ‘*’ 0.05 ‘.’ 0.1 ‘ ’ 1\n",
       "\n",
       "Correlation of Fixed Effects:\n",
       "                 (Intr) cndtnsrvy_nchc_s cndtnsrvy_nchc_m cndtnsrvy_nchc_h\n",
       "cndtnsrvy_nchc_s -0.761                                                   \n",
       "cndtnsrvy_nchc_m -0.733  0.564                                            \n",
       "cndtnsrvy_nchc_h -0.756  0.582            0.560                           \n",
       "conditnsrvy      -0.772  0.594            0.572            0.590          \n",
       "cndtnndfl__      -0.757  0.582            0.560            0.578          \n",
       "                 cndtns\n",
       "cndtnsrvy_nchc_s       \n",
       "cndtnsrvy_nchc_m       \n",
       "cndtnsrvy_nchc_h       \n",
       "conditnsrvy            \n",
       "cndtnndfl__       0.590\n",
       "\n",
       "% Table created by stargazer v.5.2.2 by Marek Hlavac, Harvard University. E-mail: hlavac at fas.harvard.edu\n",
       "% Date and time: 四, 9月 19, 2019 - 02时53分51秒\n",
       "\\begin{table}[!htbp] \\centering \n",
       "  \\caption{} \n",
       "  \\label{} \n",
       "\\begin{tabular}{@{\\extracolsep{5pt}}lc} \n",
       "\\\\[-1.8ex]\\hline \n",
       "\\hline \\\\[-1.8ex] \n",
       " & \\multicolumn{1}{c}{\\textit{Dependent variable:}} \\\\ \n",
       "\\cline{2-2} \n",
       "\\\\[-1.8ex] & logtime \\\\ \n",
       "\\hline \\\\[-1.8ex] \n",
       " conditionsurvey\\_nochoice\\_easy & 0.010 \\\\ \n",
       "  & (0.058) \\\\ \n",
       "  & \\\\ \n",
       " conditionsurvey\\_nochoice\\_medium & $-$0.057 \\\\ \n",
       "  & (0.060) \\\\ \n",
       "  & \\\\ \n",
       " conditionsurvey\\_nochoice\\_hard & 0.001 \\\\ \n",
       "  & (0.058) \\\\ \n",
       "  & \\\\ \n",
       " conditionsurvey & $-$0.024 \\\\ \n",
       "  & (0.057) \\\\ \n",
       "  & \\\\ \n",
       " conditionnodefault\\_forcedchoice\\_userchoice & $-$0.068 \\\\ \n",
       "  & (0.058) \\\\ \n",
       "  & \\\\ \n",
       " Constant & 3.514$^{***}$ \\\\ \n",
       "  & (0.045) \\\\ \n",
       "  & \\\\ \n",
       "\\hline \\\\[-1.8ex] \n",
       "Observations & 233,887 \\\\ \n",
       "Log Likelihood & $-$447,590.400 \\\\ \n",
       "Akaike Inf. Crit. & 895,198.700 \\\\ \n",
       "Bayesian Inf. Crit. & 895,292.000 \\\\ \n",
       "\\hline \n",
       "\\hline \\\\[-1.8ex] \n",
       "\\textit{Note:}  & \\multicolumn{1}{r}{$^{*}$p$<$0.1; $^{**}$p$<$0.05; $^{***}$p$<$0.01} \\\\ \n",
       "\\end{tabular} \n",
       "\\end{table} \n"
      ]
     },
     "metadata": {},
     "output_type": "display_data"
    }
   ],
   "source": [
    "%%R\n",
    "\n",
    "#results <- lmer(logtime ~ condition + (1|user), data = df)\n",
    "#results <- lmer(logtime ~ condition + (1|user), data = df)\n",
    "results <- lmer(logtime ~ condition + (1|user) + (1|domain), data = df)\n",
    "show(results)\n",
    "show(summary(results))\n",
    "class(results) <- \"lmerMod\"\n",
    "stargazer(results)"
   ]
  },
  {
   "cell_type": "code",
   "execution_count": 20,
   "metadata": {},
   "outputs": [],
   "source": [
    "# noexport\n",
    "\n",
    "condition_to_lengths = {}\n",
    "for condition,installs in condition_to_installs.items():\n",
    "  condition_to_lengths[condition] = []\n",
    "  for install in installs:\n",
    "    for epoch,domain_to_time_spent in get_epoch_to_domain_to_time_spent(install).items():\n",
    "      total_time_spent = sum(domain_to_time_spent.values())\n",
    "      condition_to_lengths[condition].append(total_time_spent)\n",
    "      #if 'www.facebook.com' not in domain_to_time_spent:\n",
    "      #  continue\n",
    "      #time_on_facebook = domain_to_time_spent.get('www.facebook.com', 0)\n",
    "      #condition_to_lengths[condition].append(time_on_facebook)"
   ]
  },
  {
   "cell_type": "code",
   "execution_count": 21,
   "metadata": {},
   "outputs": [],
   "source": [
    "# noexport\n",
    "# bad\n",
    "\n",
    "\n",
    "condition_to_lengths = {}\n",
    "for condition,installs in condition_to_installs.items():\n",
    "  condition_to_lengths[condition] = []\n",
    "  for install in installs:\n",
    "    for domain,intervention_to_session_lengths in get_domain_to_intervention_to_session_lengths_for_install(install).items():\n",
    "      if domain != 'www.youtube.com':\n",
    "        continue\n",
    "      for intervention,session_lengths in intervention_to_session_lengths.items():\n",
    "        for session_length in session_lengths:\n",
    "          condition_to_lengths[condition].append(session_length)\n"
   ]
  },
  {
   "cell_type": "code",
   "execution_count": 22,
   "metadata": {},
   "outputs": [],
   "source": [
    "# noexport\n",
    "\n",
    "condition_to_lengths = {}\n",
    "for condition,installs in condition_to_installs.items():\n",
    "  condition_to_lengths[condition] = []\n",
    "  for install in installs:\n",
    "    all_lengths_for_user = []\n",
    "    for epoch,domain_to_time_spent in get_epoch_to_domain_to_time_spent(install).items():\n",
    "      total_time_spent = sum(domain_to_time_spent.values())\n",
    "      all_lengths_for_user.append(total_time_spent)\n",
    "    if len(all_lengths_for_user) == 0:\n",
    "      continue\n",
    "    condition_to_lengths[condition].append(np.median(all_lengths_for_user))\n",
    "      #if 'www.facebook.com' not in domain_to_time_spent:\n",
    "      #  continue\n",
    "      #time_on_facebook = domain_to_time_spent.get('www.facebook.com', 0)\n",
    "      #condition_to_lengths[condition].append(time_on_facebook)"
   ]
  },
  {
   "cell_type": "code",
   "execution_count": 23,
   "metadata": {},
   "outputs": [],
   "source": [
    "# noexport\n",
    "\n",
    "condition_to_lengths = {}\n",
    "for condition,installs in condition_to_installs.items():\n",
    "  condition_to_lengths[condition] = []\n",
    "  for install in installs:\n",
    "    for epoch,domain_to_time_spent in get_epoch_to_domain_to_time_spent(install).items():\n",
    "      if 'www.facebook.com' not in domain_to_time_spent:\n",
    "        continue\n",
    "      time_on_facebook = domain_to_time_spent.get('www.facebook.com', 0)\n",
    "      condition_to_lengths[condition].append(time_on_facebook)"
   ]
  },
  {
   "cell_type": "code",
   "execution_count": 29,
   "metadata": {},
   "outputs": [
    {
     "name": "stdout",
     "output_type": "stream",
     "text": [
      "survey 857.5116666666667\n",
      "nodefault_forcedchoice_userchoice 886.2849264705883\n",
      "survey_nochoice_hard 1181.743068391867\n",
      "survey_nochoice_medium 1158.2426035502958\n",
      "survey_nochoice_nothing 628.2053571428571\n",
      "survey_nochoice_easy 1832.9417098445597\n",
      "Ttest_indResult(statistic=-3.8441432304743293, pvalue=0.00012677234604202193)\n"
     ]
    }
   ],
   "source": [
    "# noexport\n",
    "from scipy.stats import ttest_ind\n",
    "\n",
    "condition_to_mlengths = {}\n",
    "for condition,session_lengths in condition_to_lengths.items():\n",
    "  print(condition, np.mean(session_lengths))\n",
    "  condition_to_mlengths[condition] = np.mean(session_lengths) / 60\n",
    "\n",
    "#print(ttest_ind(condition_to_lengths['survey_nochoice_hard'], condition_to_lengths['survey_nochoice_nothing']))\n",
    "print(ttest_ind(condition_to_lengths['survey_nochoice_hard'], condition_to_lengths['survey_nochoice_easy']))\n",
    "#print(ttest_ind(condition_to_lengths['survey_nochoice_easy'], condition_to_lengths['survey_nochoice_medium']))\n"
   ]
  },
  {
   "cell_type": "code",
   "execution_count": 25,
   "metadata": {},
   "outputs": [
    {
     "data": {
      "text/html": [
       "<script type=\"text/javascript\">window.PlotlyConfig = {MathJaxConfig: 'local'};</script><script type=\"text/javascript\">if (window.MathJax) {MathJax.Hub.Config({SVG: {font: \"STIX-Web\"}});}</script><script>requirejs.config({paths: { 'plotly': ['https://cdn.plot.ly/plotly-latest.min']},});if(!window._Plotly) {require(['plotly'],function(plotly) {window._Plotly=plotly;});}</script>"
      ],
      "text/vnd.plotly.v1+html": [
       "<script type=\"text/javascript\">window.PlotlyConfig = {MathJaxConfig: 'local'};</script><script type=\"text/javascript\">if (window.MathJax) {MathJax.Hub.Config({SVG: {font: \"STIX-Web\"}});}</script><script>requirejs.config({paths: { 'plotly': ['https://cdn.plot.ly/plotly-latest.min']},});if(!window._Plotly) {require(['plotly'],function(plotly) {window._Plotly=plotly;});}</script>"
      ]
     },
     "metadata": {},
     "output_type": "display_data"
    }
   ],
   "source": [
    "from plot_utils import *\n"
   ]
  },
  {
   "cell_type": "code",
   "execution_count": 26,
   "metadata": {},
   "outputs": [
    {
     "data": {
      "application/vnd.plotly.v1+json": {
       "config": {
        "linkText": "Export to plot.ly",
        "plotlyServerURL": "https://plot.ly",
        "showLink": false
       },
       "data": [
        {
         "type": "bar",
         "uid": "783bf529-f07b-4cac-8532-271ea89db74d",
         "x": [
          "Easy",
          "Hard",
          "Medium",
          "Onboarding Choice",
          "Experience Sampling",
          "Nothing"
         ],
         "y": [
          30.549028497409328,
          19.695717806531114,
          19.30404339250493,
          14.77141544117647,
          14.29186111111111,
          10.470089285714286
         ]
        }
       ],
       "layout": {
        "title": {
         "text": "Total minutes spent daily on sites"
        },
        "xaxis": {
         "title": {
          "text": "Difficulty"
         }
        },
        "yaxis": {
         "title": {
          "text": "Minutes spent daily on sites"
         }
        }
       }
      },
      "text/html": [
       "<div id=\"fca4c364-a1f6-4eae-a6f4-5d5fc6096004\" style=\"height: 525px; width: 100%;\" class=\"plotly-graph-div\"></div><script type=\"text/javascript\">require([\"plotly\"], function(Plotly) { window.PLOTLYENV=window.PLOTLYENV || {};window.PLOTLYENV.BASE_URL=\"https://plot.ly\";Plotly.newPlot(\"fca4c364-a1f6-4eae-a6f4-5d5fc6096004\", [{\"x\": [\"Easy\", \"Hard\", \"Medium\", \"Onboarding Choice\", \"Experience Sampling\", \"Nothing\"], \"y\": [30.549028497409328, 19.695717806531114, 19.30404339250493, 14.77141544117647, 14.29186111111111, 10.470089285714286], \"type\": \"bar\", \"uid\": \"783bf529-f07b-4cac-8532-271ea89db74d\"}], {\"title\": {\"text\": \"Total minutes spent daily on sites\"}, \"xaxis\": {\"title\": {\"text\": \"Difficulty\"}}, \"yaxis\": {\"title\": {\"text\": \"Minutes spent daily on sites\"}}}, {\"showLink\": false, \"linkText\": \"Export to plot.ly\", \"plotlyServerURL\": \"https://plot.ly\"})});</script><script type=\"text/javascript\">window.addEventListener(\"resize\", function(){window._Plotly.Plots.resize(document.getElementById(\"fca4c364-a1f6-4eae-a6f4-5d5fc6096004\"));});</script>"
      ],
      "text/vnd.plotly.v1+html": [
       "<div id=\"fca4c364-a1f6-4eae-a6f4-5d5fc6096004\" style=\"height: 525px; width: 100%;\" class=\"plotly-graph-div\"></div><script type=\"text/javascript\">require([\"plotly\"], function(Plotly) { window.PLOTLYENV=window.PLOTLYENV || {};window.PLOTLYENV.BASE_URL=\"https://plot.ly\";Plotly.newPlot(\"fca4c364-a1f6-4eae-a6f4-5d5fc6096004\", [{\"x\": [\"Easy\", \"Hard\", \"Medium\", \"Onboarding Choice\", \"Experience Sampling\", \"Nothing\"], \"y\": [30.549028497409328, 19.695717806531114, 19.30404339250493, 14.77141544117647, 14.29186111111111, 10.470089285714286], \"type\": \"bar\", \"uid\": \"783bf529-f07b-4cac-8532-271ea89db74d\"}], {\"title\": {\"text\": \"Total minutes spent daily on sites\"}, \"xaxis\": {\"title\": {\"text\": \"Difficulty\"}}, \"yaxis\": {\"title\": {\"text\": \"Minutes spent daily on sites\"}}}, {\"showLink\": false, \"linkText\": \"Export to plot.ly\", \"plotlyServerURL\": \"https://plot.ly\"})});</script><script type=\"text/javascript\">window.addEventListener(\"resize\", function(){window._Plotly.Plots.resize(document.getElementById(\"fca4c364-a1f6-4eae-a6f4-5d5fc6096004\"));});</script>"
      ]
     },
     "metadata": {},
     "output_type": "display_data"
    }
   ],
   "source": [
    "#from plot_utils import *\n",
    "plot_dict_as_bar(condition_to_mlengths, title='Total minutes spent daily on sites', xlabel='Difficulty', ylabel='Minutes spent daily on sites', remap_labels={'survey_nochoice_nothing': 'Nothing', 'survey_nochoice_easy': 'Easy', 'survey_nochoice_medium': 'Medium', 'survey_nochoice_hard': 'Hard', 'survey': 'Experience Sampling', 'nodefault_forcedchoice_userchoice': 'Onboarding Choice'})"
   ]
  },
  {
   "cell_type": "code",
   "execution_count": 27,
   "metadata": {},
   "outputs": [],
   "source": [
    "# for install in installs_with_experiment_vars:\n",
    "#   #seconds_on_domain_per_session = get_collection_for_install(install, 'synced:seconds_on_domain_per_session')\n",
    "#   #interventions_active_for_domain_and_session = get_collection_for_install(install, 'synced:interventions_active_for_domain_and_session')\n",
    "#   res = get_domain_to_intervention_to_session_lengths_for_install(install)\n",
    "#   #if len(res) > 0:\n",
    "#   #  print(res)\n",
    "#   #  break"
   ]
  }
 ],
 "metadata": {
  "kernelspec": {
   "display_name": "Python 3",
   "language": "python",
   "name": "python3"
  },
  "language_info": {
   "codemirror_mode": {
    "name": "ipython",
    "version": 3
   },
   "file_extension": ".py",
   "mimetype": "text/x-python",
   "name": "python",
   "nbconvert_exporter": "python",
   "pygments_lexer": "ipython3",
   "version": "3.7.2"
  }
 },
 "nbformat": 4,
 "nbformat_minor": 2
}
