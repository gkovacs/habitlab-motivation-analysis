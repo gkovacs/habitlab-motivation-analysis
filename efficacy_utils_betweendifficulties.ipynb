{
 "cells": [
  {
   "cell_type": "code",
   "execution_count": 1,
   "metadata": {},
   "outputs": [
    {
     "name": "stdout",
     "output_type": "stream",
     "text": [
      "[NbConvertApp] Converting notebook efficacy_utils_betweendifficulties.ipynb to python\n",
      "retention_utils.py:448: \u001b[1m\u001b[31merror:\u001b[m Name 'get_ipython' is not defined\u001b[m\n",
      "retention_utils.py:511: \u001b[1m\u001b[31merror:\u001b[m Name 'get_ipython' is not defined\u001b[m\n",
      "efficacy_utils_betweendifficulties.py:156: \u001b[1m\u001b[31merror:\u001b[m Name 'get_ipython' is not defined\u001b[m\n",
      "efficacy_utils_betweendifficulties.py:165: \u001b[1m\u001b[31merror:\u001b[m Name 'get_ipython' is not defined\u001b[m\n",
      "efficacy_utils_betweendifficulties.py:182: \u001b[1m\u001b[31merror:\u001b[m Name 'get_ipython' is not defined\u001b[m\n",
      "efficacy_utils_betweendifficulties.py:186: \u001b[1m\u001b[31merror:\u001b[m Name 'get_ipython' is not defined\u001b[m\n",
      "\u001b[1m\u001b[31mFound 6 errors in 2 files (checked 1 source file)\u001b[m\n"
     ]
    }
   ],
   "source": [
    "# noexport\n",
    "\n",
    "!typech efficacy_utils_betweendifficulties.ipynb"
   ]
  },
  {
   "cell_type": "code",
   "execution_count": 2,
   "metadata": {},
   "outputs": [
    {
     "data": {
      "text/html": [
       "        <script type=\"text/javascript\">\n",
       "        window.PlotlyConfig = {MathJaxConfig: 'local'};\n",
       "        if (window.MathJax) {MathJax.Hub.Config({SVG: {font: \"STIX-Web\"}});}\n",
       "        if (typeof require !== 'undefined') {\n",
       "        require.undef(\"plotly\");\n",
       "        requirejs.config({\n",
       "            paths: {\n",
       "                'plotly': ['https://cdn.plot.ly/plotly-latest.min']\n",
       "            }\n",
       "        });\n",
       "        require(['plotly'], function(Plotly) {\n",
       "            window._Plotly = Plotly;\n",
       "        });\n",
       "        }\n",
       "        </script>\n",
       "        "
      ]
     },
     "metadata": {},
     "output_type": "display_data"
    },
    {
     "name": "stdout",
     "output_type": "stream",
     "text": [
      "The rpy2.ipython extension is already loaded. To reload it, use:\n",
      "  %reload_ext rpy2.ipython\n"
     ]
    },
    {
     "data": {
      "application/javascript": [
       "IPython.OutputArea.prototype._should_scroll = function(lines) {\n",
       "    return false;\n",
       "}"
      ],
      "text/plain": [
       "<IPython.core.display.Javascript object>"
      ]
     },
     "metadata": {},
     "output_type": "display_data"
    },
    {
     "name": "stderr",
     "output_type": "stream",
     "text": [
      "R[write to console]: Error in withVisible({ : 找不到对象'plot_attrition_df'\n",
      "\n"
     ]
    },
    {
     "name": "stdout",
     "output_type": "stream",
     "text": [
      "\n",
      "Error in withVisible({ : 找不到对象'plot_attrition_df'\n"
     ]
    }
   ],
   "source": [
    "from retention_utils import *"
   ]
  },
  {
   "cell_type": "code",
   "execution_count": 3,
   "metadata": {},
   "outputs": [],
   "source": [
    "import jsonmemo as jsonmemo_module\n",
    "jsonmemo_module.set_lowmem(True)"
   ]
  },
  {
   "cell_type": "code",
   "execution_count": 4,
   "metadata": {},
   "outputs": [],
   "source": [
    "#installs_with_experiment_vars = get_installs_with_experiment_vars()"
   ]
  },
  {
   "cell_type": "code",
   "execution_count": 5,
   "metadata": {},
   "outputs": [],
   "source": [
    "#print(installs_with_experiment_vars[0])"
   ]
  },
  {
   "cell_type": "code",
   "execution_count": 6,
   "metadata": {},
   "outputs": [],
   "source": [
    "\n",
    "\n",
    "def get_condition_to_installs_for_random_assignment_abtest():\n",
    "  abtest_name = 'difficulty_selection_screen'\n",
    "  groups = ['survey_nochoice_nothing', 'survey_nochoice_easy', 'survey_nochoice_medium', 'survey_nochoice_hard']\n",
    "  condition_to_installs = get_conditions_to_install_list_in_abtest_unstrict(abtest_name)\n",
    "  for k in list(condition_to_installs.keys()):\n",
    "    if k not in groups:\n",
    "      del condition_to_installs[k]\n",
    "  return condition_to_installs\n"
   ]
  },
  {
   "cell_type": "code",
   "execution_count": 7,
   "metadata": {},
   "outputs": [],
   "source": [
    "\n",
    "\n",
    "# def get_condition_to_installs_for_random_assignment_abtest():\n",
    "#   abtest_name = 'difficulty_selection_screen_and_choose_difficulty_frequency'\n",
    "#   groups = ['survey', 'nodefault_forcedchoice_userchoice', 'survey_nochoice_nothing', 'survey_nochoice_easy', 'survey_nochoice_medium', 'survey_nochoice_hard']\n",
    "#   condition_to_installs = get_conditions_to_install_list_in_abtest_unstrict(abtest_name)\n",
    "#   for k in list(condition_to_installs.keys()):\n",
    "#     if k not in groups:\n",
    "#       del condition_to_installs[k]\n",
    "#   return condition_to_installs\n"
   ]
  },
  {
   "cell_type": "code",
   "execution_count": 8,
   "metadata": {},
   "outputs": [],
   "source": [
    "\n",
    "#for install in installs_with_experiment_vars:\n",
    "@msgpackmemo1arg\n",
    "def get_domain_to_intervention_to_session_lengths_for_install(install):\n",
    "  seconds_on_domain_per_session = get_collection_for_install(install, 'synced:seconds_on_domain_per_session')\n",
    "  interventions_active_for_domain_and_session = get_collection_for_install(install, 'synced:interventions_active_for_domain_and_session')\n",
    "  \n",
    "  domain_to_session_to_intervention = {}\n",
    "  for x in interventions_active_for_domain_and_session:\n",
    "    if x.get('val') is None:\n",
    "      continue\n",
    "    interventions_active = json.loads(x['val'])\n",
    "    if len(interventions_active) == 0:\n",
    "      continue\n",
    "    intervention_name = interventions_active[0]\n",
    "    domain = x['key']\n",
    "    session_id = x['key2']\n",
    "    if domain not in domain_to_session_to_intervention:\n",
    "      domain_to_session_to_intervention[domain] = {}\n",
    "    domain_to_session_to_intervention[domain][session_id] = intervention_name\n",
    "  \n",
    "  domain_to_intervention_to_session_lengths = {}\n",
    "  for x in seconds_on_domain_per_session:\n",
    "    if 'key' not in x:\n",
    "      print('missing key in seconds_on_domain_per_session')\n",
    "      print(x)\n",
    "      continue\n",
    "    domain = x['key']\n",
    "    session_id = x['key2']\n",
    "    time_spent = x['val']\n",
    "    if domain not in domain_to_session_to_intervention:\n",
    "      continue\n",
    "    intervention_name = domain_to_session_to_intervention[domain].get(session_id)\n",
    "    if intervention_name is None:\n",
    "      continue\n",
    "    if domain not in domain_to_intervention_to_session_lengths:\n",
    "      domain_to_intervention_to_session_lengths[domain] = {}\n",
    "    if intervention_name not in domain_to_intervention_to_session_lengths[domain]:\n",
    "      domain_to_intervention_to_session_lengths[domain][intervention_name] = []\n",
    "    domain_to_intervention_to_session_lengths[domain][intervention_name].append(time_spent)\n",
    "  return domain_to_intervention_to_session_lengths\n",
    "  "
   ]
  },
  {
   "cell_type": "code",
   "execution_count": 9,
   "metadata": {},
   "outputs": [
    {
     "name": "stdout",
     "output_type": "stream",
     "text": [
      "edceda6041ef668213a96ba5_synced:seconds_on_domain_per_day\n"
     ]
    }
   ],
   "source": [
    "# noexport\n",
    "\n",
    "for x in get_collection_names():\n",
    "  if 'per_day' in x and 'visits' not in x:\n",
    "    print(x)\n",
    "    break"
   ]
  },
  {
   "cell_type": "code",
   "execution_count": 10,
   "metadata": {},
   "outputs": [],
   "source": [
    "@msgpackmemo1arg\n",
    "def get_epoch_to_domain_to_time_spent(install):\n",
    "  seconds_on_domain_per_day = get_collection_for_install(install, 'synced:seconds_on_domain_per_day')\n",
    "  output = {}\n",
    "  for x in seconds_on_domain_per_day:\n",
    "    if 'key' not in x:\n",
    "      print('missing key in seconds_on_domain_per_day')\n",
    "      print(x)\n",
    "      continue\n",
    "    domain = x['key']\n",
    "    epoch = x['key2']\n",
    "    seconds = x['val']\n",
    "    if epoch not in output:\n",
    "      output[epoch] = {}\n",
    "    output[epoch][domain] = seconds\n",
    "  return output"
   ]
  },
  {
   "cell_type": "code",
   "execution_count": 11,
   "metadata": {},
   "outputs": [],
   "source": [
    "# noexport\n",
    "\n",
    "condition_to_installs = get_condition_to_installs_for_random_assignment_abtest()\n"
   ]
  },
  {
   "cell_type": "code",
   "execution_count": 12,
   "metadata": {},
   "outputs": [
    {
     "name": "stdout",
     "output_type": "stream",
     "text": [
      "[1030, 1034, 1035, 1036, 1037, 1039, 1040, 1041, 1042, 1043, 1044, 1045, 1046, 1048, 1049, 1050, 1051, 1054, 1057, 1058, 1059, 1060, 1065, 1066, 1067, 1068, 1070, 1071, 1072, 1073, 1075, 1076, 1077, 1078, 1080, 1081, 1082, 1084, 1085, 1086, 1087, 1088, 1089, 1090, 1092, 1093, 1094, 1095, 1097, 1098, 1100, 1101, 1102, 1105, 1109, 1112, 1114, 1115, 1118, 1119, 1120, 1121, 1122, 1127, 1128, 1129, 1131, 1132, 1133, 1135, 1147, 1149, 1151, 1152, 1155, 1156, 1158, 1159, 1161, 1163, 1170, 1171, 1176, 1178, 1181, 1182, 1183, 1184, 1186, 1187, 1188, 1190, 1191, 1197, 1198, 1199, 1200, 1201, 1202, 1203, 1204, 1205, 1206, 1210, 1211, 1212, 1213, 1215, 1217, 1219, 1220, 1221, 1222, 1223, 1224, 1225, 1226, 1227, 1229, 1230, 1231, 1232, 1233, 1236, 1237, 1238, 1239, 1240, 1241, 1242, 1245, 1247, 1248, 1249, 1251, 1253, 1254, 1255, 1257, 1258, 1259, 1260, 1261, 1262, 1265, 1266, 1267, 1268, 1269, 1270, 1271, 1272, 1273, 1274, 1275, 1277, 1278, 1279, 1280, 1281, 1282, 1283, 1285, 1286, 1287, 1288, 1289, 1290, 1292, 1294]\n",
      "[1475, 1476, 1477, 1480, 1481, 1482, 1483, 1484, 1487, 1488, 1489, 1490, 1491, 1494, 1495, 1496, 1497, 1498, 1501, 1502, 1503, 1504, 1505, 1508, 1509, 1510, 1511, 1512, 1515, 1516, 1517, 1518, 1519, 1523, 1524, 1525, 1526, 1529, 1672, 1696, 1697, 1703]\n",
      "[1651, 1655, 1672]\n",
      "[1505]\n"
     ]
    }
   ],
   "source": [
    "# noexport\n",
    "\n",
    "for condition,installs in condition_to_installs.items():\n",
    "  for install in installs:\n",
    "    print(sorted(get_epoch_to_domain_to_time_spent(install).keys()))\n",
    "    break"
   ]
  },
  {
   "cell_type": "code",
   "execution_count": null,
   "metadata": {},
   "outputs": [],
   "source": []
  },
  {
   "cell_type": "code",
   "execution_count": 13,
   "metadata": {},
   "outputs": [],
   "source": [
    "import math\n",
    "\n",
    "def make_domain_to_daily_time_dataframe():\n",
    "  output = []\n",
    "  for condition,installs in condition_to_installs.items():\n",
    "    #condition_to_lengths[condition] = []\n",
    "    for install in installs:\n",
    "      for epoch,domain_to_time_spent in get_epoch_to_domain_to_time_spent(install).items():\n",
    "#         total_time_spent = sum(domain_to_time_spent.values())\n",
    "#         output.append({\n",
    "#           'user': install,\n",
    "#           'epoch': epoch,\n",
    "#           'time': total_time_spent,\n",
    "#           'logtime': math.log(total_time_spent),\n",
    "#           'condition': condition,\n",
    "#         })\n",
    "        for domain,total_time_spent in  domain_to_time_spent.items():\n",
    "          output.append({\n",
    "            'domain': domain,\n",
    "            'user': install,\n",
    "            'epoch': epoch,\n",
    "            'time': total_time_spent,\n",
    "            'logtime': math.log(total_time_spent),\n",
    "            'condition': condition,\n",
    "          })\n",
    "  return to_dataframe(output)"
   ]
  },
  {
   "cell_type": "code",
   "execution_count": 14,
   "metadata": {},
   "outputs": [],
   "source": [
    "# noexport\n",
    "\n",
    "df = make_domain_to_daily_time_dataframe()"
   ]
  },
  {
   "cell_type": "code",
   "execution_count": 15,
   "metadata": {},
   "outputs": [],
   "source": [
    "#print(df)"
   ]
  },
  {
   "cell_type": "code",
   "execution_count": 16,
   "metadata": {},
   "outputs": [],
   "source": [
    "%Rpush df"
   ]
  },
  {
   "cell_type": "code",
   "execution_count": 17,
   "metadata": {},
   "outputs": [],
   "source": [
    "#%%R\n",
    "#install.library"
   ]
  },
  {
   "cell_type": "code",
   "execution_count": 18,
   "metadata": {},
   "outputs": [
    {
     "name": "stderr",
     "output_type": "stream",
     "text": [
      "R[write to console]: 载入需要的程辑包：Matrix\n",
      "\n",
      "R[write to console]: Registered S3 methods overwritten by 'ggplot2':\n",
      "  method         from \n",
      "  [.quosures     rlang\n",
      "  c.quosures     rlang\n",
      "  print.quosures rlang\n",
      "\n",
      "R[write to console]: \n",
      "载入程辑包：‘lmerTest’\n",
      "\n",
      "\n",
      "R[write to console]: The following object is masked from ‘package:lme4’:\n",
      "\n",
      "    lmer\n",
      "\n",
      "\n",
      "R[write to console]: The following object is masked from ‘package:stats’:\n",
      "\n",
      "    step\n",
      "\n",
      "\n",
      "R[write to console]: \n",
      "Please cite as: \n",
      "\n",
      "\n",
      "R[write to console]:  Hlavac, Marek (2018). stargazer: Well-Formatted Regression and Summary Statistics Tables.\n",
      "\n",
      "R[write to console]:  R package version 5.2.2. https://CRAN.R-project.org/package=stargazer \n",
      "\n",
      "\n"
     ]
    }
   ],
   "source": [
    "%%R\n",
    "library(lme4)\n",
    "#library(sjPlot)\n",
    "library(lmerTest)\n",
    "library(stargazer)\n"
   ]
  },
  {
   "cell_type": "code",
   "execution_count": 19,
   "metadata": {},
   "outputs": [],
   "source": [
    "# %%R\n",
    "\n",
    "# df$user <- as.factor(df$user)\n",
    "# #df$domain <- as.factor(df$domain)\n",
    "# df$condition <- as.factor(df$condition)\n",
    "# df$condition <- factor(df$condition, levels = c(\"survey_nochoice_nothing\", \"survey_nochoice_easy\", \"survey_nochoice_medium\", \"survey_nochoice_hard\"))\n",
    "# df$epoch <- as.factor(df$epoch)\n",
    "# df$logtime <- as.numeric(df$logtime)\n",
    "# df$time <- as.numeric(df$time)\n",
    "# summary(df)\n",
    "\n"
   ]
  },
  {
   "cell_type": "code",
   "execution_count": 20,
   "metadata": {},
   "outputs": [
    {
     "name": "stdout",
     "output_type": "stream",
     "text": [
      "[[1]]\n",
      "[1] \"www.google.com  : 191342  \"\n",
      "\n",
      "[[2]]\n",
      "[1] \"www.youtube.com : 136800  \"\n",
      "\n",
      "[[3]]\n",
      "[1] \"mail.google.com : 130043  \"\n",
      "\n",
      "[[4]]\n",
      "[1] \"www.facebook.com:  97692  \"\n",
      "\n",
      "[[5]]\n",
      "[1] \"docs.google.com :  74912  \"\n",
      "\n",
      "[[6]]\n",
      "[1] \"drive.google.com:  51942  \"\n",
      "\n",
      "[[7]]\n",
      "[1] \"(Other)         :5429955  \"\n",
      "\n",
      "[[8]]\n",
      "[1] \"b2409c54e0a4d10027f7e6e1:  27515  \"\n",
      "\n",
      "[[9]]\n",
      "[1] \"7f3577b5ca745779ab3e350c:  27188  \"\n",
      "\n",
      "[[10]]\n",
      "[1] \"24fd08130ec8ddfc639f6a8b:  26859  \"\n",
      "\n",
      "[[11]]\n",
      "[1] \"31a8e9394197a38212207aeb:  25020  \"\n",
      "\n",
      "[[12]]\n",
      "[1] \"f9329b2116e3bd031cca0519:  24853  \"\n",
      "\n",
      "[[13]]\n",
      "[1] \"8ac5482864109872c0f624c8:  22800  \"\n",
      "\n",
      "[[14]]\n",
      "[1] \"(Other)                 :5958451  \"\n",
      "\n",
      "[[15]]\n",
      "[1] \"1578   :  20130  \"\n",
      "\n",
      "[[16]]\n",
      "[1] \"1565   :  19728  \"\n",
      "\n",
      "[[17]]\n",
      "[1] \"1573   :  19678  \"\n",
      "\n",
      "[[18]]\n",
      "[1] \"1572   :  19615  \"\n",
      "\n",
      "[[19]]\n",
      "[1] \"1567   :  19552  \"\n",
      "\n",
      "[[20]]\n",
      "[1] \"1566   :  19387  \"\n",
      "\n",
      "[[21]]\n",
      "[1] \"(Other):5994596  \"\n",
      "\n",
      "[[22]]\n",
      "[1] \"Min.   :    1.0  \"\n",
      "\n",
      "[[23]]\n",
      "[1] \"1st Qu.:   14.0  \"\n",
      "\n",
      "[[24]]\n",
      "[1] \"Median :   54.0  \"\n",
      "\n",
      "[[25]]\n",
      "[1] \"Mean   :  364.6  \"\n",
      "\n",
      "[[26]]\n",
      "[1] \"3rd Qu.:  197.0  \"\n",
      "\n",
      "[[27]]\n",
      "[1] \"Max.   :89087.0  \"\n",
      "\n",
      "[[28]]\n",
      "<CHARSXP: NA>\n",
      "\n",
      "[[29]]\n",
      "[1] \"Min.   : 0.000  \"\n",
      "\n",
      "[[30]]\n",
      "[1] \"1st Qu.: 2.639  \"\n",
      "\n",
      "[[31]]\n",
      "[1] \"Median : 3.989  \"\n",
      "\n",
      "[[32]]\n",
      "[1] \"Mean   : 3.989  \"\n",
      "\n",
      "[[33]]\n",
      "[1] \"3rd Qu.: 5.283  \"\n",
      "\n",
      "[[34]]\n",
      "[1] \"Max.   :11.397  \"\n",
      "\n",
      "[[35]]\n",
      "<CHARSXP: NA>\n",
      "\n",
      "[[36]]\n",
      "[1] \"survey_nochoice_nothing          :1372131  \"\n",
      "\n",
      "[[37]]\n",
      "[1] \"survey_nochoice_easy             :1499994  \"\n",
      "\n",
      "[[38]]\n",
      "[1] \"survey_nochoice_medium           :1733010  \"\n",
      "\n",
      "[[39]]\n",
      "[1] \"survey_nochoice_hard             :1507551  \"\n",
      "\n",
      "[[40]]\n",
      "[1] \"survey                           :      0  \"\n",
      "\n",
      "[[41]]\n",
      "[1] \"nodefault_forcedchoice_userchoice:      0  \"\n",
      "\n",
      "[[42]]\n",
      "<CHARSXP: NA>\n",
      "\n"
     ]
    }
   ],
   "source": [
    "%%R\n",
    "\n",
    "df$user <- as.factor(df$user)\n",
    "df$domain <- as.factor(df$domain)\n",
    "df$condition <- as.factor(df$condition)\n",
    "df$condition <- factor(df$condition, levels = c(\"survey_nochoice_nothing\", \"survey_nochoice_easy\", \"survey_nochoice_medium\", \"survey_nochoice_hard\", \"survey\", \"nodefault_forcedchoice_userchoice\"))\n",
    "df$epoch <- as.factor(df$epoch)\n",
    "df$logtime <- as.numeric(df$logtime)\n",
    "df$time <- as.numeric(df$time)\n",
    "summary(df)\n",
    "\n",
    "\n"
   ]
  },
  {
   "cell_type": "code",
   "execution_count": 21,
   "metadata": {},
   "outputs": [
    {
     "name": "stdout",
     "output_type": "stream",
     "text": [
      "Linear mixed model fit by REML ['lmerModLmerTest']\n",
      "Formula: logtime ~ condition + (1 | user) + (1 | domain)\n",
      "   Data: df\n",
      "REML criterion at convergence: 23228442\n",
      "Random effects:\n",
      " Groups   Name        Std.Dev.\n",
      " domain   (Intercept) 0.7421  \n",
      " user     (Intercept) 0.3619  \n",
      " Residual             1.5692  \n",
      "Number of obs: 6112686, groups:  domain, 840036; user, 4460\n",
      "Fixed Effects:\n",
      "                    (Intercept)    conditionsurvey_nochoice_easy  \n",
      "                       3.429579                        -0.004701  \n",
      "conditionsurvey_nochoice_medium    conditionsurvey_nochoice_hard  \n",
      "                      -0.018120                        -0.008699  \n",
      "convergence code 0; 0 optimizer warnings; 1 lme4 warnings \n",
      "Linear mixed model fit by REML. t-tests use Satterthwaite's method [\n",
      "lmerModLmerTest]\n",
      "Formula: logtime ~ condition + (1 | user) + (1 | domain)\n",
      "   Data: df\n",
      "\n",
      "REML criterion at convergence: 23228442\n",
      "\n",
      "Scaled residuals: \n",
      "    Min      1Q  Median      3Q     Max \n",
      "-5.4469 -0.6030  0.0502  0.6660  5.8818 \n",
      "\n",
      "Random effects:\n",
      " Groups   Name        Variance Std.Dev.\n",
      " domain   (Intercept) 0.5507   0.7421  \n",
      " user     (Intercept) 0.1310   0.3619  \n",
      " Residual             2.4623   1.5692  \n",
      "Number of obs: 6112686, groups:  domain, 840036; user, 4460\n",
      "\n",
      "Fixed effects:\n",
      "                                  Estimate Std. Error         df t value\n",
      "(Intercept)                      3.430e+00  1.379e-02  3.625e+03 248.793\n",
      "conditionsurvey_nochoice_easy   -4.701e-03  1.796e-02  3.553e+03  -0.262\n",
      "conditionsurvey_nochoice_medium -1.812e-02  1.782e-02  3.551e+03  -1.017\n",
      "conditionsurvey_nochoice_hard   -8.699e-03  1.813e-02  3.561e+03  -0.480\n",
      "                                Pr(>|t|)    \n",
      "(Intercept)                       <2e-16 ***\n",
      "conditionsurvey_nochoice_easy      0.794    \n",
      "conditionsurvey_nochoice_medium    0.309    \n",
      "conditionsurvey_nochoice_hard      0.631    \n",
      "---\n",
      "Signif. codes:  0 ‘***’ 0.001 ‘**’ 0.01 ‘*’ 0.05 ‘.’ 0.1 ‘ ’ 1\n",
      "\n",
      "Correlation of Fixed Effects:\n",
      "                 (Intr) cndtnsrvy_nchc_s cndtnsrvy_nchc_m\n",
      "cndtnsrvy_nchc_s -0.760                                  \n",
      "cndtnsrvy_nchc_m -0.766  0.588                           \n",
      "cndtnsrvy_nchc_h -0.753  0.578            0.582          \n",
      "convergence code: 0\n",
      "Model is nearly unidentifiable: very large eigenvalue\n",
      " - Rescale variables?\n",
      "\n",
      "\n",
      "% Table created by stargazer v.5.2.2 by Marek Hlavac, Harvard University. E-mail: hlavac at fas.harvard.edu\n",
      "% Date and time: 二,  9 15, 2020 - 10时50分19秒\n",
      "\\begin{table}[!htbp] \\centering \n",
      "  \\caption{} \n",
      "  \\label{} \n",
      "\\begin{tabular}{@{\\extracolsep{5pt}}lc} \n",
      "\\\\[-1.8ex]\\hline \n",
      "\\hline \\\\[-1.8ex] \n",
      " & \\multicolumn{1}{c}{\\textit{Dependent variable:}} \\\\ \n",
      "\\cline{2-2} \n",
      "\\\\[-1.8ex] & logtime \\\\ \n",
      "\\hline \\\\[-1.8ex] \n",
      " conditionsurvey\\_nochoice\\_easy & $-$0.005 \\\\ \n",
      "  & (0.018) \\\\ \n",
      "  & \\\\ \n",
      " conditionsurvey\\_nochoice\\_medium & $-$0.018 \\\\ \n",
      "  & (0.018) \\\\ \n",
      "  & \\\\ \n",
      " conditionsurvey\\_nochoice\\_hard & $-$0.009 \\\\ \n",
      "  & (0.018) \\\\ \n",
      "  & \\\\ \n",
      " Constant & 3.430$^{***}$ \\\\ \n",
      "  & (0.014) \\\\ \n",
      "  & \\\\ \n",
      "\\hline \\\\[-1.8ex] \n",
      "Observations & 6,112,686 \\\\ \n",
      "Log Likelihood & $-$11,614,221.000 \\\\ \n",
      "Akaike Inf. Crit. & 23,228,456.000 \\\\ \n",
      "Bayesian Inf. Crit. & 23,228,551.000 \\\\ \n",
      "\\hline \n",
      "\\hline \\\\[-1.8ex] \n",
      "\\textit{Note:}  & \\multicolumn{1}{r}{$^{*}$p$<$0.1; $^{**}$p$<$0.05; $^{***}$p$<$0.01} \\\\ \n",
      "\\end{tabular} \n",
      "\\end{table} \n"
     ]
    }
   ],
   "source": [
    "%%R\n",
    "\n",
    "#results <- lmer(logtime ~ condition + (1|user), data = df)\n",
    "#results <- lmer(logtime ~ condition + (1|user), data = df)\n",
    "results <- lmer(logtime ~ condition + (1|user) + (1|domain), data = df)\n",
    "show(results)\n",
    "show(summary(results))\n",
    "class(results) <- \"lmerMod\"\n",
    "stargazer(results)"
   ]
  },
  {
   "cell_type": "code",
   "execution_count": 22,
   "metadata": {},
   "outputs": [],
   "source": [
    "# noexport\n",
    "\n",
    "condition_to_lengths = {}\n",
    "for condition,installs in condition_to_installs.items():\n",
    "  condition_to_lengths[condition] = []\n",
    "  for install in installs:\n",
    "    for epoch,domain_to_time_spent in get_epoch_to_domain_to_time_spent(install).items():\n",
    "      total_time_spent = sum(domain_to_time_spent.values())\n",
    "      condition_to_lengths[condition].append(total_time_spent)\n",
    "      #if 'www.facebook.com' not in domain_to_time_spent:\n",
    "      #  continue\n",
    "      #time_on_facebook = domain_to_time_spent.get('www.facebook.com', 0)\n",
    "      #condition_to_lengths[condition].append(time_on_facebook)"
   ]
  },
  {
   "cell_type": "code",
   "execution_count": 23,
   "metadata": {},
   "outputs": [],
   "source": [
    "# noexport\n",
    "# bad\n",
    "\n",
    "\n",
    "condition_to_lengths = {}\n",
    "for condition,installs in condition_to_installs.items():\n",
    "  condition_to_lengths[condition] = []\n",
    "  for install in installs:\n",
    "    for domain,intervention_to_session_lengths in get_domain_to_intervention_to_session_lengths_for_install(install).items():\n",
    "      if domain != 'www.youtube.com':\n",
    "        continue\n",
    "      for intervention,session_lengths in intervention_to_session_lengths.items():\n",
    "        for session_length in session_lengths:\n",
    "          condition_to_lengths[condition].append(session_length)\n"
   ]
  },
  {
   "cell_type": "code",
   "execution_count": 24,
   "metadata": {},
   "outputs": [],
   "source": [
    "# noexport\n",
    "\n",
    "condition_to_lengths = {}\n",
    "for condition,installs in condition_to_installs.items():\n",
    "  condition_to_lengths[condition] = []\n",
    "  for install in installs:\n",
    "    all_lengths_for_user = []\n",
    "    for epoch,domain_to_time_spent in get_epoch_to_domain_to_time_spent(install).items():\n",
    "      total_time_spent = sum(domain_to_time_spent.values())\n",
    "      all_lengths_for_user.append(total_time_spent)\n",
    "    if len(all_lengths_for_user) == 0:\n",
    "      continue\n",
    "    condition_to_lengths[condition].append(np.median(all_lengths_for_user))\n",
    "      #if 'www.facebook.com' not in domain_to_time_spent:\n",
    "      #  continue\n",
    "      #time_on_facebook = domain_to_time_spent.get('www.facebook.com', 0)\n",
    "      #condition_to_lengths[condition].append(time_on_facebook)"
   ]
  },
  {
   "cell_type": "code",
   "execution_count": 25,
   "metadata": {},
   "outputs": [],
   "source": [
    "# noexport\n",
    "\n",
    "condition_to_lengths = {}\n",
    "for condition,installs in condition_to_installs.items():\n",
    "  condition_to_lengths[condition] = []\n",
    "  for install in installs:\n",
    "    for epoch,domain_to_time_spent in get_epoch_to_domain_to_time_spent(install).items():\n",
    "      if 'www.facebook.com' not in domain_to_time_spent:\n",
    "        continue\n",
    "      time_on_facebook = domain_to_time_spent.get('www.facebook.com', 0)\n",
    "      condition_to_lengths[condition].append(time_on_facebook)"
   ]
  },
  {
   "cell_type": "code",
   "execution_count": 26,
   "metadata": {},
   "outputs": [
    {
     "name": "stdout",
     "output_type": "stream",
     "text": [
      "survey_nochoice_medium 1325.7554657794676\n",
      "survey_nochoice_hard 1126.4841606591144\n",
      "survey_nochoice_easy 1295.7606325625973\n",
      "survey_nochoice_nothing 996.0523175371844\n",
      "Ttest_indResult(statistic=-8.370550725688883, pvalue=5.883488046257315e-17)\n"
     ]
    }
   ],
   "source": [
    "# noexport\n",
    "from scipy.stats import ttest_ind\n",
    "\n",
    "condition_to_mlengths = {}\n",
    "for condition,session_lengths in condition_to_lengths.items():\n",
    "  print(condition, np.mean(session_lengths))\n",
    "  condition_to_mlengths[condition] = np.mean(session_lengths) / 60\n",
    "\n",
    "#print(ttest_ind(condition_to_lengths['survey_nochoice_hard'], condition_to_lengths['survey_nochoice_nothing']))\n",
    "print(ttest_ind(condition_to_lengths['survey_nochoice_hard'], condition_to_lengths['survey_nochoice_easy']))\n",
    "#print(ttest_ind(condition_to_lengths['survey_nochoice_easy'], condition_to_lengths['survey_nochoice_medium']))\n"
   ]
  },
  {
   "cell_type": "code",
   "execution_count": 27,
   "metadata": {},
   "outputs": [
    {
     "data": {
      "text/html": [
       "        <script type=\"text/javascript\">\n",
       "        window.PlotlyConfig = {MathJaxConfig: 'local'};\n",
       "        if (window.MathJax) {MathJax.Hub.Config({SVG: {font: \"STIX-Web\"}});}\n",
       "        if (typeof require !== 'undefined') {\n",
       "        require.undef(\"plotly\");\n",
       "        requirejs.config({\n",
       "            paths: {\n",
       "                'plotly': ['https://cdn.plot.ly/plotly-latest.min']\n",
       "            }\n",
       "        });\n",
       "        require(['plotly'], function(Plotly) {\n",
       "            window._Plotly = Plotly;\n",
       "        });\n",
       "        }\n",
       "        </script>\n",
       "        "
      ]
     },
     "metadata": {},
     "output_type": "display_data"
    }
   ],
   "source": [
    "# noexport\n",
    "\n",
    "\n",
    "from plot_utils import *\n"
   ]
  },
  {
   "cell_type": "code",
   "execution_count": 28,
   "metadata": {},
   "outputs": [
    {
     "data": {
      "application/vnd.plotly.v1+json": {
       "config": {
        "linkText": "Export to plot.ly",
        "plotlyServerURL": "https://plot.ly",
        "responsive": true,
        "showLink": false
       },
       "data": [
        {
         "orientation": "v",
         "type": "bar",
         "uid": "3454df69-1582-4b6d-9d42-374ca7b861b6",
         "x": [
          "Medium",
          "Easy",
          "Hard",
          "Nothing"
         ],
         "y": [
          22.095924429657792,
          21.596010542709955,
          18.77473601098524,
          16.600871958953075
         ]
        }
       ],
       "layout": {
        "title": {
         "text": "Total minutes spent daily on sites"
        },
        "xaxis": {
         "title": {
          "text": "Difficulty"
         }
        },
        "yaxis": {
         "title": {
          "text": "Minutes spent daily on sites"
         }
        }
       }
      },
      "text/html": [
       "<div>\n",
       "        \n",
       "        \n",
       "            <div id=\"d09c0641-7316-4de7-b02d-242c6fc72da7\" class=\"plotly-graph-div\" style=\"height:525px; width:100%;\"></div>\n",
       "            <script type=\"text/javascript\">\n",
       "                require([\"plotly\"], function(Plotly) {\n",
       "                    window.PLOTLYENV=window.PLOTLYENV || {};\n",
       "                    window.PLOTLYENV.BASE_URL='https://plot.ly';\n",
       "                    \n",
       "                if (document.getElementById(\"d09c0641-7316-4de7-b02d-242c6fc72da7\")) {\n",
       "                    Plotly.newPlot(\n",
       "                        'd09c0641-7316-4de7-b02d-242c6fc72da7',\n",
       "                        [{\"orientation\": \"v\", \"type\": \"bar\", \"uid\": \"84014b02-8a82-4a90-93bc-9790b9eb9928\", \"x\": [\"Medium\", \"Easy\", \"Hard\", \"Nothing\"], \"y\": [22.095924429657792, 21.596010542709955, 18.77473601098524, 16.600871958953075]}],\n",
       "                        {\"title\": {\"text\": \"Total minutes spent daily on sites\"}, \"xaxis\": {\"title\": {\"text\": \"Difficulty\"}}, \"yaxis\": {\"title\": {\"text\": \"Minutes spent daily on sites\"}}},\n",
       "                        {\"showLink\": false, \"linkText\": \"Export to plot.ly\", \"plotlyServerURL\": \"https://plot.ly\", \"responsive\": true}\n",
       "                    ).then(function(){\n",
       "                            \n",
       "var gd = document.getElementById('d09c0641-7316-4de7-b02d-242c6fc72da7');\n",
       "var x = new MutationObserver(function (mutations, observer) {{\n",
       "        var display = window.getComputedStyle(gd).display;\n",
       "        if (!display || display === 'none') {{\n",
       "            console.log([gd, 'removed!']);\n",
       "            Plotly.purge(gd);\n",
       "            observer.disconnect();\n",
       "        }}\n",
       "}});\n",
       "\n",
       "// Listen for the removal of the full notebook cells\n",
       "var notebookContainer = gd.closest('#notebook-container');\n",
       "if (notebookContainer) {{\n",
       "    x.observe(notebookContainer, {childList: true});\n",
       "}}\n",
       "\n",
       "// Listen for the clearing of the current output cell\n",
       "var outputEl = gd.closest('.output');\n",
       "if (outputEl) {{\n",
       "    x.observe(outputEl, {childList: true});\n",
       "}}\n",
       "\n",
       "                        })\n",
       "                };\n",
       "                });\n",
       "            </script>\n",
       "        </div>"
      ]
     },
     "metadata": {},
     "output_type": "display_data"
    }
   ],
   "source": [
    "# noexport\n",
    "\n",
    "#from plot_utils import *\n",
    "plot_dict_as_bar(condition_to_mlengths, title='Total minutes spent daily on sites', xlabel='Difficulty', ylabel='Minutes spent daily on sites', remap_labels={'survey_nochoice_nothing': 'Nothing', 'survey_nochoice_easy': 'Easy', 'survey_nochoice_medium': 'Medium', 'survey_nochoice_hard': 'Hard', 'survey': 'Experience Sampling', 'nodefault_forcedchoice_userchoice': 'Onboarding Choice'})"
   ]
  },
  {
   "cell_type": "code",
   "execution_count": 29,
   "metadata": {},
   "outputs": [],
   "source": [
    "# for install in installs_with_experiment_vars:\n",
    "#   #seconds_on_domain_per_session = get_collection_for_install(install, 'synced:seconds_on_domain_per_session')\n",
    "#   #interventions_active_for_domain_and_session = get_collection_for_install(install, 'synced:interventions_active_for_domain_and_session')\n",
    "#   res = get_domain_to_intervention_to_session_lengths_for_install(install)\n",
    "#   #if len(res) > 0:\n",
    "#   #  print(res)\n",
    "#   #  break"
   ]
  }
 ],
 "metadata": {
  "kernelspec": {
   "display_name": "Python 3",
   "language": "python",
   "name": "python3"
  },
  "language_info": {
   "codemirror_mode": {
    "name": "ipython",
    "version": 3
   },
   "file_extension": ".py",
   "mimetype": "text/x-python",
   "name": "python",
   "nbconvert_exporter": "python",
   "pygments_lexer": "ipython3",
   "version": "3.7.8"
  }
 },
 "nbformat": 4,
 "nbformat_minor": 2
}
