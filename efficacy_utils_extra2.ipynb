{
 "cells": [
  {
   "cell_type": "code",
   "execution_count": 1,
   "metadata": {},
   "outputs": [
    {
     "data": {
      "text/html": [
       "<script type=\"text/javascript\">window.PlotlyConfig = {MathJaxConfig: 'local'};</script><script type=\"text/javascript\">if (window.MathJax) {MathJax.Hub.Config({SVG: {font: \"STIX-Web\"}});}</script><script>requirejs.config({paths: { 'plotly': ['https://cdn.plot.ly/plotly-latest.min']},});if(!window._Plotly) {require(['plotly'],function(plotly) {window._Plotly=plotly;});}</script>"
      ],
      "text/vnd.plotly.v1+html": [
       "<script type=\"text/javascript\">window.PlotlyConfig = {MathJaxConfig: 'local'};</script><script type=\"text/javascript\">if (window.MathJax) {MathJax.Hub.Config({SVG: {font: \"STIX-Web\"}});}</script><script>requirejs.config({paths: { 'plotly': ['https://cdn.plot.ly/plotly-latest.min']},});if(!window._Plotly) {require(['plotly'],function(plotly) {window._Plotly=plotly;});}</script>"
      ]
     },
     "metadata": {},
     "output_type": "display_data"
    },
    {
     "name": "stdout",
     "output_type": "stream",
     "text": [
      "The rpy2.ipython extension is already loaded. To reload it, use:\n",
      "  %reload_ext rpy2.ipython\n"
     ]
    },
    {
     "data": {
      "application/javascript": [
       "IPython.OutputArea.prototype._should_scroll = function(lines) {\n",
       "    return false;\n",
       "}"
      ],
      "text/plain": [
       "<IPython.core.display.Javascript object>"
      ]
     },
     "metadata": {},
     "output_type": "display_data"
    }
   ],
   "source": [
    "from efficacy_utils import *"
   ]
  },
  {
   "cell_type": "code",
   "execution_count": 2,
   "metadata": {},
   "outputs": [],
   "source": [
    "import jsonmemo as jsonmemo_module\n",
    "jsonmemo_module.set_lowmem(True)"
   ]
  },
  {
   "cell_type": "code",
   "execution_count": 5,
   "metadata": {},
   "outputs": [],
   "source": [
    "installs_with_experiment_vars = get_installs_with_experiment_vars()"
   ]
  },
  {
   "cell_type": "code",
   "execution_count": 6,
   "metadata": {},
   "outputs": [
    {
     "name": "stdout",
     "output_type": "stream",
     "text": [
      "11916\n"
     ]
    }
   ],
   "source": [
    "print(len(installs_with_experiment_vars))"
   ]
  },
  {
   "cell_type": "code",
   "execution_count": 51,
   "metadata": {},
   "outputs": [],
   "source": [
    "intervention_name_to_difficulty = {\n",
    "  'facebook/remove_news_feed': 1,\n",
    "  #'facebook/prompt_reason': 2,\n",
    "  'facebook/remove_clickbait': 1,\n",
    "  #'internal/choose_difficulty',\n",
    "  #'facebook/show_user_info_banner',\n",
    "  'facebook/toast_notifications': 2,\n",
    "  'facebook/feed_injection_timer': 1,\n",
    "  'facebook/remove_comments': 2,\n",
    "  'facebook/block_after_interval_per_visit': 2,\n",
    "  'facebook/show_user_info_interstitial': 3,\n",
    "  'facebook/close_tab_timer': 3,\n",
    "  'facebook/scroll_blocker': 3,\n",
    "  'facebook/make_user_wait': 2,\n",
    "  'facebook/rich_notifications': 1,\n",
    "  'facebook/show_timer_banner': 1,\n",
    "}\n",
    "\n",
    "session_info_list = []\n",
    "\n",
    "intervention_set = set()\n",
    "difficulty_to_session_lengths = {}\n",
    "for install in installs_with_experiment_vars: #[:100]:\n",
    "  domain_to_intervention_to_session_lengths = get_domain_to_intervention_to_session_lengths_for_install(install)\n",
    "  for domain,intervention_to_session_lengths in domain_to_intervention_to_session_lengths.items():\n",
    "    if domain != 'www.facebook.com':\n",
    "      continue\n",
    "    for intervention,session_lengths in intervention_to_session_lengths.items():\n",
    "      difficulty = intervention_name_to_difficulty.get(intervention)\n",
    "      if difficulty == None:\n",
    "        continue\n",
    "      if difficulty not in difficulty_to_session_lengths:\n",
    "        difficulty_to_session_lengths[difficulty] = []\n",
    "      for session_length in session_lengths:\n",
    "        difficulty_to_session_lengths[difficulty].append(session_length)\n",
    "        session_info_list.append({\n",
    "          'user': install,\n",
    "          'difficulty': difficulty,\n",
    "          'logtime': math.log(session_length),\n",
    "        })"
   ]
  },
  {
   "cell_type": "code",
   "execution_count": 52,
   "metadata": {},
   "outputs": [],
   "source": [
    "from browser_libs import convert_list_of_dicts_into_dataframe\n",
    "\n",
    "df = convert_list_of_dicts_into_dataframe(session_info_list)"
   ]
  },
  {
   "cell_type": "code",
   "execution_count": 53,
   "metadata": {},
   "outputs": [],
   "source": [
    "%Rpush df"
   ]
  },
  {
   "cell_type": "code",
   "execution_count": 54,
   "metadata": {},
   "outputs": [],
   "source": [
    "%%R\n",
    "library(lme4)\n",
    "#library(sjPlot)\n",
    "library(lmerTest)\n",
    "library(stargazer)"
   ]
  },
  {
   "cell_type": "code",
   "execution_count": 55,
   "metadata": {},
   "outputs": [
    {
     "data": {
      "text/plain": [
       "                       user         difficulty    logtime      \n",
       " a85b38dea50b24bc26604e2d:  22596   1:990002   Min.   : 0.000  \n",
       " b9029ed18ed93bd058ee0d3e:  17975   2:513790   1st Qu.: 3.871  \n",
       " d118e2dcfb05429f3dceaff4:  16698   3:131557   Median : 5.159  \n",
       " 027223e0aebde2a4356b0b33:  13884              Mean   : 5.071  \n",
       " 52ab95cbc4a45d2b751c65cd:  13773              3rd Qu.: 6.353  \n",
       " fe3a90a6471f28ba6b7f3608:  12791              Max.   :11.138  \n",
       " (Other)                 :1537632                              \n"
      ]
     },
     "metadata": {},
     "output_type": "display_data"
    }
   ],
   "source": [
    "%%R\n",
    "\n",
    "df$user <- as.factor(df$user)\n",
    "df$difficulty <- factor(df$difficulty, levels = c(1, 2, 3))\n",
    "df$logtime <- as.numeric(df$logtime)\n",
    "summary(df)"
   ]
  },
  {
   "cell_type": "code",
   "execution_count": 56,
   "metadata": {},
   "outputs": [
    {
     "data": {
      "text/plain": [
       "Linear mixed model fit by REML ['lmerModLmerTest']\n",
       "Formula: logtime ~ difficulty + (1 | user)\n",
       "   Data: df\n",
       "REML criterion at convergence: 6029950\n",
       "Random effects:\n",
       " Groups   Name        Std.Dev.\n",
       " user     (Intercept) 1.002   \n",
       " Residual             1.521   \n",
       "Number of obs: 1635349, groups:  user, 6136\n",
       "Fixed Effects:\n",
       "(Intercept)  difficulty2  difficulty3  \n",
       "    4.40237      0.00239     -0.18027  \n",
       "Linear mixed model fit by REML. t-tests use Satterthwaite's method [\n",
       "lmerModLmerTest]\n",
       "Formula: logtime ~ difficulty + (1 | user)\n",
       "   Data: df\n",
       "\n",
       "REML criterion at convergence: 6029950\n",
       "\n",
       "Scaled residuals: \n",
       "    Min      1Q  Median      3Q     Max \n",
       "-5.8286 -0.5836  0.1337  0.7113  3.5458 \n",
       "\n",
       "Random effects:\n",
       " Groups   Name        Variance Std.Dev.\n",
       " user     (Intercept) 1.004    1.002   \n",
       " Residual             2.312    1.521   \n",
       "Number of obs: 1635349, groups:  user, 6136\n",
       "\n",
       "Fixed effects:\n",
       "              Estimate Std. Error         df t value Pr(>|t|)    \n",
       "(Intercept)  4.402e+00  1.413e-02  5.577e+03 311.455   <2e-16 ***\n",
       "difficulty2  2.390e-03  2.806e-03  1.634e+06   0.852    0.394    \n",
       "difficulty3 -1.803e-01  4.910e-03  1.635e+06 -36.718   <2e-16 ***\n",
       "---\n",
       "Signif. codes:  0 ‘***’ 0.001 ‘**’ 0.01 ‘*’ 0.05 ‘.’ 0.1 ‘ ’ 1\n",
       "\n",
       "Correlation of Fixed Effects:\n",
       "            (Intr) dffcl2\n",
       "difficulty2 -0.072       \n",
       "difficulty3 -0.046  0.221\n",
       "\n",
       "% Table created by stargazer v.5.2.2 by Marek Hlavac, Harvard University. E-mail: hlavac at fas.harvard.edu\n",
       "% Date and time: 五, 11月 22, 2019 - 16时07分20秒\n",
       "\\begin{table}[!htbp] \\centering \n",
       "  \\caption{} \n",
       "  \\label{} \n",
       "\\begin{tabular}{@{\\extracolsep{5pt}}lc} \n",
       "\\\\[-1.8ex]\\hline \n",
       "\\hline \\\\[-1.8ex] \n",
       " & \\multicolumn{1}{c}{\\textit{Dependent variable:}} \\\\ \n",
       "\\cline{2-2} \n",
       "\\\\[-1.8ex] & logtime \\\\ \n",
       "\\hline \\\\[-1.8ex] \n",
       " difficulty2 & 0.002 \\\\ \n",
       "  & (0.003) \\\\ \n",
       "  & \\\\ \n",
       " difficulty3 & $-$0.180$^{***}$ \\\\ \n",
       "  & (0.005) \\\\ \n",
       "  & \\\\ \n",
       " Constant & 4.402$^{***}$ \\\\ \n",
       "  & (0.014) \\\\ \n",
       "  & \\\\ \n",
       "\\hline \\\\[-1.8ex] \n",
       "Observations & 1,635,349 \\\\ \n",
       "Log Likelihood & $-$3,014,975.000 \\\\ \n",
       "Akaike Inf. Crit. & 6,029,960.000 \\\\ \n",
       "Bayesian Inf. Crit. & 6,030,021.000 \\\\ \n",
       "\\hline \n",
       "\\hline \\\\[-1.8ex] \n",
       "\\textit{Note:}  & \\multicolumn{1}{r}{$^{*}$p$<$0.1; $^{**}$p$<$0.05; $^{***}$p$<$0.01} \\\\ \n",
       "\\end{tabular} \n",
       "\\end{table} \n"
      ]
     },
     "metadata": {},
     "output_type": "display_data"
    }
   ],
   "source": [
    "%%R\n",
    "\n",
    "results <- lmer(logtime ~ difficulty + (1|user), data = df)\n",
    "#results <- lmer(logtime ~ condition + (1|user) + (1|domain), data = df)\n",
    "show(results)\n",
    "show(summary(results))\n",
    "class(results) <- \"lmerMod\"\n",
    "stargazer(results)"
   ]
  },
  {
   "cell_type": "code",
   "execution_count": 25,
   "metadata": {},
   "outputs": [],
   "source": [
    "import numpy as np"
   ]
  },
  {
   "cell_type": "code",
   "execution_count": 57,
   "metadata": {},
   "outputs": [],
   "source": [
    "difficulty_to_median_session_lengths = {}\n",
    "for difficulty,session_lengths in difficulty_to_session_lengths.items():\n",
    "  difficulty_to_median_session_lengths[difficulty] = np.mean(session_lengths)\n"
   ]
  },
  {
   "cell_type": "code",
   "execution_count": 58,
   "metadata": {},
   "outputs": [],
   "source": [
    "from plot_utils import *"
   ]
  },
  {
   "cell_type": "code",
   "execution_count": 59,
   "metadata": {},
   "outputs": [
    {
     "data": {
      "application/vnd.plotly.v1+json": {
       "config": {
        "linkText": "Export to plot.ly",
        "plotlyServerURL": "https://plot.ly",
        "showLink": false
       },
       "data": [
        {
         "type": "bar",
         "uid": "4923fea8-315e-4961-88bd-5145d1016877",
         "x": [
          1,
          2,
          3
         ],
         "y": [
          794.8992072743288,
          746.9336421495163,
          584.0759594700396
         ]
        }
       ],
       "layout": {}
      },
      "text/html": [
       "<div id=\"244b21c7-96c9-4cb4-a733-e82daec2ac1f\" style=\"height: 525px; width: 100%;\" class=\"plotly-graph-div\"></div><script type=\"text/javascript\">require([\"plotly\"], function(Plotly) { window.PLOTLYENV=window.PLOTLYENV || {};window.PLOTLYENV.BASE_URL=\"https://plot.ly\";Plotly.newPlot(\"244b21c7-96c9-4cb4-a733-e82daec2ac1f\", [{\"x\": [1, 2, 3], \"y\": [794.8992072743288, 746.9336421495163, 584.0759594700396], \"type\": \"bar\", \"uid\": \"4923fea8-315e-4961-88bd-5145d1016877\"}], {}, {\"showLink\": false, \"linkText\": \"Export to plot.ly\", \"plotlyServerURL\": \"https://plot.ly\"})});</script><script type=\"text/javascript\">window.addEventListener(\"resize\", function(){window._Plotly.Plots.resize(document.getElementById(\"244b21c7-96c9-4cb4-a733-e82daec2ac1f\"));});</script>"
      ],
      "text/vnd.plotly.v1+html": [
       "<div id=\"244b21c7-96c9-4cb4-a733-e82daec2ac1f\" style=\"height: 525px; width: 100%;\" class=\"plotly-graph-div\"></div><script type=\"text/javascript\">require([\"plotly\"], function(Plotly) { window.PLOTLYENV=window.PLOTLYENV || {};window.PLOTLYENV.BASE_URL=\"https://plot.ly\";Plotly.newPlot(\"244b21c7-96c9-4cb4-a733-e82daec2ac1f\", [{\"x\": [1, 2, 3], \"y\": [794.8992072743288, 746.9336421495163, 584.0759594700396], \"type\": \"bar\", \"uid\": \"4923fea8-315e-4961-88bd-5145d1016877\"}], {}, {\"showLink\": false, \"linkText\": \"Export to plot.ly\", \"plotlyServerURL\": \"https://plot.ly\"})});</script><script type=\"text/javascript\">window.addEventListener(\"resize\", function(){window._Plotly.Plots.resize(document.getElementById(\"244b21c7-96c9-4cb4-a733-e82daec2ac1f\"));});</script>"
      ]
     },
     "metadata": {},
     "output_type": "display_data"
    }
   ],
   "source": [
    "plot_dict_as_bar(difficulty_to_median_session_lengths)"
   ]
  },
  {
   "cell_type": "code",
   "execution_count": 11,
   "metadata": {},
   "outputs": [
    {
     "name": "stdout",
     "output_type": "stream",
     "text": [
      "{'facebook/remove_news_feed', 'facebook/prompt_reason', 'facebook/remove_clickbait', 'internal/choose_difficulty', 'facebook/show_user_info_banner', 'facebook/toast_notifications', 'facebook/feed_injection_timer', 'facebook/remove_comments', 'facebook/block_after_interval_per_visit', 'facebook/show_user_info_interstitial', 'facebook/close_tab_timer', 'facebook/scroll_blocker', 'facebook/make_user_wait', 'facebook/rich_notifications', 'facebook/show_timer_banner'}\n"
     ]
    }
   ],
   "source": [
    "print(intervention_set)"
   ]
  }
 ],
 "metadata": {
  "kernelspec": {
   "display_name": "Python 3",
   "language": "python",
   "name": "python3"
  },
  "language_info": {
   "codemirror_mode": {
    "name": "ipython",
    "version": 3
   },
   "file_extension": ".py",
   "mimetype": "text/x-python",
   "name": "python",
   "nbconvert_exporter": "python",
   "pygments_lexer": "ipython3",
   "version": "3.7.2"
  }
 },
 "nbformat": 4,
 "nbformat_minor": 2
}
