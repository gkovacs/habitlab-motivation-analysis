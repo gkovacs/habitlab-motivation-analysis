{
 "cells": [
  {
   "cell_type": "code",
   "execution_count": 1,
   "metadata": {},
   "outputs": [
    {
     "data": {
      "text/html": [
       "        <script type=\"text/javascript\">\n",
       "        window.PlotlyConfig = {MathJaxConfig: 'local'};\n",
       "        if (window.MathJax) {MathJax.Hub.Config({SVG: {font: \"STIX-Web\"}});}\n",
       "        if (typeof require !== 'undefined') {\n",
       "        require.undef(\"plotly\");\n",
       "        requirejs.config({\n",
       "            paths: {\n",
       "                'plotly': ['https://cdn.plot.ly/plotly-latest.min']\n",
       "            }\n",
       "        });\n",
       "        require(['plotly'], function(Plotly) {\n",
       "            window._Plotly = Plotly;\n",
       "        });\n",
       "        }\n",
       "        </script>\n",
       "        "
      ]
     },
     "metadata": {},
     "output_type": "display_data"
    },
    {
     "name": "stdout",
     "output_type": "stream",
     "text": [
      "The rpy2.ipython extension is already loaded. To reload it, use:\n",
      "  %reload_ext rpy2.ipython\n"
     ]
    },
    {
     "data": {
      "application/javascript": [
       "IPython.OutputArea.prototype._should_scroll = function(lines) {\n",
       "    return false;\n",
       "}"
      ],
      "text/plain": [
       "<IPython.core.display.Javascript object>"
      ]
     },
     "metadata": {},
     "output_type": "display_data"
    },
    {
     "name": "stderr",
     "output_type": "stream",
     "text": [
      "R[write to console]: Error in withVisible({ : 找不到对象'plot_attrition_df'\n",
      "\n",
      "R[write to console]: 载入需要的程辑包：Matrix\n",
      "\n"
     ]
    },
    {
     "name": "stdout",
     "output_type": "stream",
     "text": [
      "\n",
      "Error in withVisible({ : 找不到对象'plot_attrition_df'\n"
     ]
    },
    {
     "name": "stderr",
     "output_type": "stream",
     "text": [
      "R[write to console]: Registered S3 methods overwritten by 'ggplot2':\n",
      "  method         from \n",
      "  [.quosures     rlang\n",
      "  c.quosures     rlang\n",
      "  print.quosures rlang\n",
      "\n",
      "R[write to console]: \n",
      "载入程辑包：‘lmerTest’\n",
      "\n",
      "\n",
      "R[write to console]: The following object is masked from ‘package:lme4’:\n",
      "\n",
      "    lmer\n",
      "\n",
      "\n",
      "R[write to console]: The following object is masked from ‘package:stats’:\n",
      "\n",
      "    step\n",
      "\n",
      "\n",
      "R[write to console]: \n",
      "Please cite as: \n",
      "\n",
      "\n",
      "R[write to console]:  Hlavac, Marek (2018). stargazer: Well-Formatted Regression and Summary Statistics Tables.\n",
      "\n",
      "R[write to console]:  R package version 5.2.2. https://CRAN.R-project.org/package=stargazer \n",
      "\n",
      "\n",
      "R[write to console]: Error in df$user : 类别为'closure'的对象不可以取子集\n",
      "\n",
      "R[write to console]: 此外: \n",
      "R[write to console]: Warning messages:\n",
      "\n",
      "R[write to console]: 1: 程辑包‘lme4’是用R版本3.6.2 来建造的 \n",
      "\n",
      "R[write to console]: 2: 程辑包‘lmerTest’是用R版本3.6.2 来建造的 \n",
      "\n"
     ]
    },
    {
     "name": "stdout",
     "output_type": "stream",
     "text": [
      "\n",
      "Error in df$user : 类别为'closure'的对象不可以取子集\n",
      "NULL\n"
     ]
    },
    {
     "name": "stderr",
     "output_type": "stream",
     "text": [
      "R[write to console]: Error in object[[i]] : 类别为'closure'的对象不可以取子集\n",
      "\n",
      "R[write to console]: Error in df$domain : 类别为'closure'的对象不可以取子集\n",
      "\n"
     ]
    },
    {
     "name": "stdout",
     "output_type": "stream",
     "text": [
      "\n",
      "Error in object[[i]] : 类别为'closure'的对象不可以取子集\n",
      "\n",
      "Error in df$domain : 类别为'closure'的对象不可以取子集\n"
     ]
    }
   ],
   "source": [
    "from efficacy_utils import *"
   ]
  },
  {
   "cell_type": "code",
   "execution_count": 2,
   "metadata": {},
   "outputs": [],
   "source": [
    "import jsonmemo as jsonmemo_module\n",
    "jsonmemo_module.set_lowmem(True)"
   ]
  },
  {
   "cell_type": "code",
   "execution_count": 3,
   "metadata": {},
   "outputs": [],
   "source": [
    "installs_with_experiment_vars = get_installs_with_experiment_vars()"
   ]
  },
  {
   "cell_type": "code",
   "execution_count": 4,
   "metadata": {},
   "outputs": [
    {
     "name": "stdout",
     "output_type": "stream",
     "text": [
      "18195\n"
     ]
    }
   ],
   "source": [
    "print(len(installs_with_experiment_vars))"
   ]
  },
  {
   "cell_type": "code",
   "execution_count": 5,
   "metadata": {},
   "outputs": [],
   "source": [
    "intervention_name_to_difficulty = {\n",
    "  'facebook/remove_news_feed': 1,\n",
    "  #'facebook/prompt_reason': 2,\n",
    "  'facebook/remove_clickbait': 1,\n",
    "  #'internal/choose_difficulty',\n",
    "  #'facebook/show_user_info_banner',\n",
    "  'facebook/toast_notifications': 2,\n",
    "  'facebook/feed_injection_timer': 1,\n",
    "  'facebook/remove_comments': 2,\n",
    "  'facebook/block_after_interval_per_visit': 2,\n",
    "  'facebook/show_user_info_interstitial': 3,\n",
    "  'facebook/close_tab_timer': 3,\n",
    "  'facebook/scroll_blocker': 3,\n",
    "  'facebook/make_user_wait': 2,\n",
    "  'facebook/rich_notifications': 1,\n",
    "  'facebook/show_timer_banner': 1,\n",
    "}\n",
    "\n",
    "session_info_list = []\n",
    "\n",
    "intervention_set = set()\n",
    "difficulty_to_session_lengths = {}\n",
    "for install in installs_with_experiment_vars: #[:100]:\n",
    "  domain_to_intervention_to_session_lengths = get_domain_to_intervention_to_session_lengths_for_install(install)\n",
    "  for domain,intervention_to_session_lengths in domain_to_intervention_to_session_lengths.items():\n",
    "    if domain != 'www.facebook.com':\n",
    "      continue\n",
    "    for intervention,session_lengths in intervention_to_session_lengths.items():\n",
    "      difficulty = intervention_name_to_difficulty.get(intervention)\n",
    "      if difficulty == None:\n",
    "        continue\n",
    "      if difficulty not in difficulty_to_session_lengths:\n",
    "        difficulty_to_session_lengths[difficulty] = []\n",
    "      for session_length in session_lengths:\n",
    "        difficulty_to_session_lengths[difficulty].append(session_length)\n",
    "        session_info_list.append({\n",
    "          'user': install,\n",
    "          'difficulty': difficulty,\n",
    "          'logtime': math.log(session_length),\n",
    "        })"
   ]
  },
  {
   "cell_type": "code",
   "execution_count": 6,
   "metadata": {},
   "outputs": [],
   "source": [
    "from browser_libs import convert_list_of_dicts_into_dataframe\n",
    "\n",
    "df = convert_list_of_dicts_into_dataframe(session_info_list)"
   ]
  },
  {
   "cell_type": "code",
   "execution_count": 7,
   "metadata": {},
   "outputs": [],
   "source": [
    "%Rpush df"
   ]
  },
  {
   "cell_type": "code",
   "execution_count": 8,
   "metadata": {},
   "outputs": [],
   "source": [
    "%%R\n",
    "library(lme4)\n",
    "#library(sjPlot)\n",
    "library(lmerTest)\n",
    "library(stargazer)"
   ]
  },
  {
   "cell_type": "code",
   "execution_count": 9,
   "metadata": {},
   "outputs": [
    {
     "name": "stdout",
     "output_type": "stream",
     "text": [
      "[[1]]\n",
      "[1] \"05b3c37c2a72180d4cf5e590:  53190  \"\n",
      "\n",
      "[[2]]\n",
      "[1] \"123ce1aebe3fee618bbc8e73:  34833  \"\n",
      "\n",
      "[[3]]\n",
      "[1] \"3e3ac64e84482ca34bc271e9:  28859  \"\n",
      "\n",
      "[[4]]\n",
      "[1] \"a85b38dea50b24bc26604e2d:  22596  \"\n",
      "\n",
      "[[5]]\n",
      "[1] \"feb60418db5ca1238fd322cf:  21601  \"\n",
      "\n",
      "[[6]]\n",
      "[1] \"34402cda1da6dedf07eaaaa5:  20904  \"\n",
      "\n",
      "[[7]]\n",
      "[1] \"(Other)                 :3427678  \"\n",
      "\n",
      "[[8]]\n",
      "[1] \"1:2197124  \"\n",
      "\n",
      "[[9]]\n",
      "[1] \"2:1093239  \"\n",
      "\n",
      "[[10]]\n",
      "[1] \"3: 319298  \"\n",
      "\n",
      "[[11]]\n",
      "<CHARSXP: NA>\n",
      "\n",
      "[[12]]\n",
      "<CHARSXP: NA>\n",
      "\n",
      "[[13]]\n",
      "<CHARSXP: NA>\n",
      "\n",
      "[[14]]\n",
      "<CHARSXP: NA>\n",
      "\n",
      "[[15]]\n",
      "[1] \"Min.   : 0.000  \"\n",
      "\n",
      "[[16]]\n",
      "[1] \"1st Qu.: 3.912  \"\n",
      "\n",
      "[[17]]\n",
      "[1] \"Median : 5.198  \"\n",
      "\n",
      "[[18]]\n",
      "[1] \"Mean   : 5.105  \"\n",
      "\n",
      "[[19]]\n",
      "[1] \"3rd Qu.: 6.375  \"\n",
      "\n",
      "[[20]]\n",
      "[1] \"Max.   :11.662  \"\n",
      "\n",
      "[[21]]\n",
      "<CHARSXP: NA>\n",
      "\n"
     ]
    }
   ],
   "source": [
    "%%R\n",
    "\n",
    "df$user <- as.factor(df$user)\n",
    "df$difficulty <- factor(df$difficulty, levels = c(1, 2, 3))\n",
    "df$logtime <- as.numeric(df$logtime)\n",
    "summary(df)"
   ]
  },
  {
   "cell_type": "code",
   "execution_count": 10,
   "metadata": {},
   "outputs": [
    {
     "name": "stdout",
     "output_type": "stream",
     "text": [
      "Linear mixed model fit by REML ['lmerModLmerTest']\n",
      "Formula: logtime ~ difficulty + (1 | user)\n",
      "   Data: df\n",
      "REML criterion at convergence: 13360619\n",
      "Random effects:\n",
      " Groups   Name        Std.Dev.\n",
      " user     (Intercept) 1.021   \n",
      " Residual             1.534   \n",
      "Number of obs: 3609661, groups:  user, 8518\n",
      "Fixed Effects:\n",
      "(Intercept)  difficulty2  difficulty3  \n",
      "    4.42003      0.01395     -0.14759  \n",
      "Linear mixed model fit by REML. t-tests use Satterthwaite's method [\n",
      "lmerModLmerTest]\n",
      "Formula: logtime ~ difficulty + (1 | user)\n",
      "   Data: df\n",
      "\n",
      "REML criterion at convergence: 13360619\n",
      "\n",
      "Scaled residuals: \n",
      "    Min      1Q  Median      3Q     Max \n",
      "-6.2982 -0.5827  0.1321  0.7084  3.6775 \n",
      "\n",
      "Random effects:\n",
      " Groups   Name        Variance Std.Dev.\n",
      " user     (Intercept) 1.042    1.021   \n",
      " Residual             2.354    1.534   \n",
      "Number of obs: 3609661, groups:  user, 8518\n",
      "\n",
      "Fixed effects:\n",
      "              Estimate Std. Error         df t value Pr(>|t|)    \n",
      "(Intercept)  4.420e+00  1.213e-02  7.586e+03 364.553  < 2e-16 ***\n",
      "difficulty2  1.395e-02  1.945e-03  3.609e+06   7.173 7.33e-13 ***\n",
      "difficulty3 -1.476e-01  3.440e-03  3.609e+06 -42.909  < 2e-16 ***\n",
      "---\n",
      "Signif. codes:  0 ‘***’ 0.001 ‘**’ 0.01 ‘*’ 0.05 ‘.’ 0.1 ‘ ’ 1\n",
      "\n",
      "Correlation of Fixed Effects:\n",
      "            (Intr) dffcl2\n",
      "difficulty2 -0.060       \n",
      "difficulty3 -0.041  0.263\n",
      "\n",
      "% Table created by stargazer v.5.2.2 by Marek Hlavac, Harvard University. E-mail: hlavac at fas.harvard.edu\n",
      "% Date and time: 二,  9 15, 2020 - 21时14分05秒\n",
      "\\begin{table}[!htbp] \\centering \n",
      "  \\caption{} \n",
      "  \\label{} \n",
      "\\begin{tabular}{@{\\extracolsep{5pt}}lc} \n",
      "\\\\[-1.8ex]\\hline \n",
      "\\hline \\\\[-1.8ex] \n",
      " & \\multicolumn{1}{c}{\\textit{Dependent variable:}} \\\\ \n",
      "\\cline{2-2} \n",
      "\\\\[-1.8ex] & logtime \\\\ \n",
      "\\hline \\\\[-1.8ex] \n",
      " difficulty2 & 0.014$^{***}$ \\\\ \n",
      "  & (0.002) \\\\ \n",
      "  & \\\\ \n",
      " difficulty3 & $-$0.148$^{***}$ \\\\ \n",
      "  & (0.003) \\\\ \n",
      "  & \\\\ \n",
      " Constant & 4.420$^{***}$ \\\\ \n",
      "  & (0.012) \\\\ \n",
      "  & \\\\ \n",
      "\\hline \\\\[-1.8ex] \n",
      "Observations & 3,609,661 \\\\ \n",
      "Log Likelihood & $-$6,680,310.000 \\\\ \n",
      "Akaike Inf. Crit. & 13,360,629.000 \\\\ \n",
      "Bayesian Inf. Crit. & 13,360,695.000 \\\\ \n",
      "\\hline \n",
      "\\hline \\\\[-1.8ex] \n",
      "\\textit{Note:}  & \\multicolumn{1}{r}{$^{*}$p$<$0.1; $^{**}$p$<$0.05; $^{***}$p$<$0.01} \\\\ \n",
      "\\end{tabular} \n",
      "\\end{table} \n"
     ]
    }
   ],
   "source": [
    "%%R\n",
    "\n",
    "results <- lmer(logtime ~ difficulty + (1|user), data = df)\n",
    "#results <- lmer(logtime ~ condition + (1|user) + (1|domain), data = df)\n",
    "show(results)\n",
    "show(summary(results))\n",
    "class(results) <- \"lmerMod\"\n",
    "stargazer(results)"
   ]
  },
  {
   "cell_type": "code",
   "execution_count": 11,
   "metadata": {},
   "outputs": [],
   "source": [
    "import numpy as np"
   ]
  },
  {
   "cell_type": "code",
   "execution_count": 12,
   "metadata": {},
   "outputs": [],
   "source": [
    "difficulty_to_median_session_lengths = {}\n",
    "for difficulty,session_lengths in difficulty_to_session_lengths.items():\n",
    "  difficulty_to_median_session_lengths[difficulty] = np.mean(session_lengths)\n"
   ]
  },
  {
   "cell_type": "code",
   "execution_count": 13,
   "metadata": {},
   "outputs": [
    {
     "data": {
      "text/html": [
       "        <script type=\"text/javascript\">\n",
       "        window.PlotlyConfig = {MathJaxConfig: 'local'};\n",
       "        if (window.MathJax) {MathJax.Hub.Config({SVG: {font: \"STIX-Web\"}});}\n",
       "        if (typeof require !== 'undefined') {\n",
       "        require.undef(\"plotly\");\n",
       "        requirejs.config({\n",
       "            paths: {\n",
       "                'plotly': ['https://cdn.plot.ly/plotly-latest.min']\n",
       "            }\n",
       "        });\n",
       "        require(['plotly'], function(Plotly) {\n",
       "            window._Plotly = Plotly;\n",
       "        });\n",
       "        }\n",
       "        </script>\n",
       "        "
      ]
     },
     "metadata": {},
     "output_type": "display_data"
    }
   ],
   "source": [
    "from plot_utils import *"
   ]
  },
  {
   "cell_type": "code",
   "execution_count": 14,
   "metadata": {},
   "outputs": [
    {
     "data": {
      "application/vnd.plotly.v1+json": {
       "config": {
        "linkText": "Export to plot.ly",
        "plotlyServerURL": "https://plot.ly",
        "responsive": true,
        "showLink": false
       },
       "data": [
        {
         "orientation": "v",
         "type": "bar",
         "uid": "61b43271-664d-4030-8433-3cfb04e7d519",
         "x": [
          1,
          2,
          3
         ],
         "y": [
          940.3335560487255,
          792.6534710159443,
          611.6515981935371
         ]
        }
       ],
       "layout": {}
      },
      "text/html": [
       "<div>\n",
       "        \n",
       "        \n",
       "            <div id=\"ac5d45f8-ee69-4947-858c-7d8acf0110ff\" class=\"plotly-graph-div\" style=\"height:525px; width:100%;\"></div>\n",
       "            <script type=\"text/javascript\">\n",
       "                require([\"plotly\"], function(Plotly) {\n",
       "                    window.PLOTLYENV=window.PLOTLYENV || {};\n",
       "                    window.PLOTLYENV.BASE_URL='https://plot.ly';\n",
       "                    \n",
       "                if (document.getElementById(\"ac5d45f8-ee69-4947-858c-7d8acf0110ff\")) {\n",
       "                    Plotly.newPlot(\n",
       "                        'ac5d45f8-ee69-4947-858c-7d8acf0110ff',\n",
       "                        [{\"orientation\": \"v\", \"type\": \"bar\", \"uid\": \"e1b86d9f-d793-431e-998d-aaa8c1d20f43\", \"x\": [1, 2, 3], \"y\": [940.3335560487255, 792.6534710159443, 611.6515981935371]}],\n",
       "                        {},\n",
       "                        {\"showLink\": false, \"linkText\": \"Export to plot.ly\", \"plotlyServerURL\": \"https://plot.ly\", \"responsive\": true}\n",
       "                    ).then(function(){\n",
       "                            \n",
       "var gd = document.getElementById('ac5d45f8-ee69-4947-858c-7d8acf0110ff');\n",
       "var x = new MutationObserver(function (mutations, observer) {{\n",
       "        var display = window.getComputedStyle(gd).display;\n",
       "        if (!display || display === 'none') {{\n",
       "            console.log([gd, 'removed!']);\n",
       "            Plotly.purge(gd);\n",
       "            observer.disconnect();\n",
       "        }}\n",
       "}});\n",
       "\n",
       "// Listen for the removal of the full notebook cells\n",
       "var notebookContainer = gd.closest('#notebook-container');\n",
       "if (notebookContainer) {{\n",
       "    x.observe(notebookContainer, {childList: true});\n",
       "}}\n",
       "\n",
       "// Listen for the clearing of the current output cell\n",
       "var outputEl = gd.closest('.output');\n",
       "if (outputEl) {{\n",
       "    x.observe(outputEl, {childList: true});\n",
       "}}\n",
       "\n",
       "                        })\n",
       "                };\n",
       "                });\n",
       "            </script>\n",
       "        </div>"
      ]
     },
     "metadata": {},
     "output_type": "display_data"
    }
   ],
   "source": [
    "plot_dict_as_bar(difficulty_to_median_session_lengths)"
   ]
  },
  {
   "cell_type": "code",
   "execution_count": 15,
   "metadata": {},
   "outputs": [
    {
     "name": "stdout",
     "output_type": "stream",
     "text": [
      "set()\n"
     ]
    }
   ],
   "source": [
    "print(intervention_set)"
   ]
  }
 ],
 "metadata": {
  "kernelspec": {
   "display_name": "Python 3",
   "language": "python",
   "name": "python3"
  },
  "language_info": {
   "codemirror_mode": {
    "name": "ipython",
    "version": 3
   },
   "file_extension": ".py",
   "mimetype": "text/x-python",
   "name": "python",
   "nbconvert_exporter": "python",
   "pygments_lexer": "ipython3",
   "version": "3.7.8"
  }
 },
 "nbformat": 4,
 "nbformat_minor": 2
}
