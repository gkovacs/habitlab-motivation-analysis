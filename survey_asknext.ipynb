{
 "cells": [
  {
   "cell_type": "code",
   "execution_count": 1,
   "metadata": {},
   "outputs": [
    {
     "name": "stdout",
     "output_type": "stream",
     "text": [
      "[NbConvertApp] Converting notebook survey_asknext.ipynb to python\n",
      "survey_asknext.py:101: error: Name 'day_set' is not defined\n",
      "survey_asknext.py:102: error: Name 'day_set' is not defined\n",
      "survey_asknext.py:103: error: Name 'day_set' is not defined\n",
      "survey_asknext.py:219: error: Name 'survey_choice_to_difficulty_choice_counts' is not defined\n"
     ]
    }
   ],
   "source": [
    "# noexport\n",
    "!typech survey_asknext.ipynb"
   ]
  },
  {
   "cell_type": "code",
   "execution_count": 2,
   "metadata": {},
   "outputs": [
    {
     "data": {
      "text/html": [
       "        <script type=\"text/javascript\">\n",
       "        window.PlotlyConfig = {MathJaxConfig: 'local'};\n",
       "        if (window.MathJax) {MathJax.Hub.Config({SVG: {font: \"STIX-Web\"}});}\n",
       "        if (typeof require !== 'undefined') {\n",
       "        require.undef(\"plotly\");\n",
       "        requirejs.config({\n",
       "            paths: {\n",
       "                'plotly': ['https://cdn.plot.ly/plotly-latest.min']\n",
       "            }\n",
       "        });\n",
       "        require(['plotly'], function(Plotly) {\n",
       "            window._Plotly = Plotly;\n",
       "        });\n",
       "        }\n",
       "        </script>\n",
       "        "
      ]
     },
     "metadata": {},
     "output_type": "display_data"
    },
    {
     "data": {
      "text/html": [
       "        <script type=\"text/javascript\">\n",
       "        window.PlotlyConfig = {MathJaxConfig: 'local'};\n",
       "        if (window.MathJax) {MathJax.Hub.Config({SVG: {font: \"STIX-Web\"}});}\n",
       "        if (typeof require !== 'undefined') {\n",
       "        require.undef(\"plotly\");\n",
       "        requirejs.config({\n",
       "            paths: {\n",
       "                'plotly': ['https://cdn.plot.ly/plotly-latest.min']\n",
       "            }\n",
       "        });\n",
       "        require(['plotly'], function(Plotly) {\n",
       "            window._Plotly = Plotly;\n",
       "        });\n",
       "        }\n",
       "        </script>\n",
       "        "
      ]
     },
     "metadata": {},
     "output_type": "display_data"
    }
   ],
   "source": [
    "from train_utils import *\n",
    "from plot_utils import *\n",
    "from scipy.stats import chisquare\n"
   ]
  },
  {
   "cell_type": "code",
   "execution_count": 3,
   "metadata": {},
   "outputs": [],
   "source": [
    "def get_most_common_key_in_dict(d):\n",
    "  most_common = None\n",
    "  for k in sorted(d.keys()):\n",
    "    if most_common == None:\n",
    "      most_common = k\n",
    "    elif d[k] > d[most_common]:\n",
    "      most_common = k\n",
    "  return most_common\n",
    "\n",
    "def get_most_common_survey_result_for_user(user):\n",
    "  results = get_survey_results_for_user(user)\n",
    "  return get_most_common_key_in_dict(results)\n",
    "\n",
    "def get_most_common_survey_result_for_install(install):\n",
    "  results = get_survey_results_for_install(install)\n",
    "  return get_most_common_key_in_dict(results)"
   ]
  },
  {
   "cell_type": "code",
   "execution_count": 4,
   "metadata": {},
   "outputs": [],
   "source": [
    "def get_survey_results_across_all_installs():\n",
    "  output = Counter()\n",
    "  for install in get_installs_with_asknext_survey():\n",
    "    for k,v in get_survey_results_for_install(install).items():\n",
    "      output[k] += v\n",
    "  return output\n",
    "\n",
    "def get_survey_results_across_all_users():\n",
    "  output = Counter()\n",
    "  for user in get_users_with_asknext_survey():\n",
    "    for k,v in get_survey_results_for_user(user).items():\n",
    "      output[k] += v\n",
    "  return output"
   ]
  },
  {
   "cell_type": "code",
   "execution_count": 5,
   "metadata": {},
   "outputs": [],
   "source": [
    "def get_survey_results_for_install(install):\n",
    "  output = Counter()\n",
    "  collection_items = get_collection_for_install(install, 'internal:choose_difficulty')\n",
    "  for item in collection_items:\n",
    "    if ('developer_mode' in item) and (item['developer_mode'] == True):\n",
    "      continue\n",
    "    if ('unofficial_version' in item):\n",
    "      continue\n",
    "    if 'action_type' in item and item['action_type'] == 'asknext_chosen':\n",
    "      asknext = item['asknext']\n",
    "      output[asknext] += 1\n",
    "  return output\n",
    "\n",
    "def get_survey_results_for_user(user):\n",
    "  output = Counter()\n",
    "  collection_items = get_collection_for_user(user, 'internal:choose_difficulty')\n",
    "  for item in collection_items:\n",
    "    if ('developer_mode' in item) and (item['developer_mode'] == True):\n",
    "      continue\n",
    "    if ('unofficial_version' in item):\n",
    "      continue\n",
    "    if 'action_type' in item and item['action_type'] == 'asknext_chosen':\n",
    "      asknext = item['asknext']\n",
    "      output[asknext] += 1\n",
    "  return output"
   ]
  },
  {
   "cell_type": "code",
   "execution_count": 6,
   "metadata": {},
   "outputs": [],
   "source": [
    "def get_installs_with_asknext_survey():\n",
    "  output = []\n",
    "  installs_with_difficulty = get_installs_with_choose_difficulty()\n",
    "  for install in installs_with_difficulty:\n",
    "    abtest_settings = get_abtest_settings_for_install(install)\n",
    "    if abtest_settings.get('frequency_of_choose_difficulty') == 'survey':\n",
    "      output.append(install)\n",
    "  return output\n",
    "\n",
    "def get_users_with_asknext_survey():\n",
    "  output = []\n",
    "  users_with_difficulty = get_users_with_choose_difficulty()\n",
    "  for user in users_with_difficulty:\n",
    "    abtest_settings = get_abtest_settings(user)\n",
    "    if abtest_settings.get('frequency_of_choose_difficulty') == 'survey':\n",
    "      output.append(user)\n",
    "  return output"
   ]
  },
  {
   "cell_type": "code",
   "execution_count": 7,
   "metadata": {},
   "outputs": [
    {
     "name": "stdout",
     "output_type": "stream",
     "text": [
      "48392\n",
      "643\n"
     ]
    }
   ],
   "source": [
    "# noexport\n",
    "\n",
    "num_samples = 0\n",
    "num_users = 0\n",
    "day_set = set()\n",
    "for install in get_installs_with_asknext_survey():\n",
    "  #most_common_result = get_most_common_survey_result_for_install(install)\n",
    "  results = get_survey_results_for_install(install)\n",
    "  most_common_result = get_most_common_key_in_dict(results)\n",
    "  if most_common_result == None:\n",
    "    continue\n",
    "  num_choices = sum(results.values())\n",
    "  num_samples += num_choices\n",
    "  num_users += 1\n",
    "  collection_items = get_collection_for_install(install, 'internal:choose_difficulty')\n",
    "  for item in collection_items:\n",
    "    if ('developer_mode' in item) and (item['developer_mode'] == True):\n",
    "      continue\n",
    "    if ('unofficial_version' in item):\n",
    "      continue\n",
    "    if 'action_type' in item and item['action_type'] == 'asknext_chosen':\n",
    "      #print(item)\n",
    "      day = item['day']\n",
    "      day_set.add(day)\n",
    "  #print(num_choices)\n",
    "  #break\n",
    "  #print(results)\n",
    "  #break\n",
    "\n",
    "print(num_samples)\n",
    "print(num_users)"
   ]
  },
  {
   "cell_type": "code",
   "execution_count": 8,
   "metadata": {},
   "outputs": [
    {
     "name": "stdout",
     "output_type": "stream",
     "text": [
      "1220\n",
      "1605\n",
      "385\n"
     ]
    }
   ],
   "source": [
    "# noexpor\n",
    "\n",
    "\n",
    "print(min(day_set))\n",
    "print(max(day_set))\n",
    "print(max(day_set) - min(day_set))"
   ]
  },
  {
   "cell_type": "code",
   "execution_count": 9,
   "metadata": {},
   "outputs": [],
   "source": [
    "def get_survey_choice_to_num_installs_who_choose_it_most_commonly():\n",
    "  output = Counter()\n",
    "  for install in get_installs_with_asknext_survey():\n",
    "    most_common_result = get_most_common_survey_result_for_install(install)\n",
    "    if most_common_result == None:\n",
    "      continue\n",
    "    output[most_common_result] += 1\n",
    "  return output\n",
    "\n",
    "def get_survey_choice_to_num_users_who_choose_it_most_commonly():\n",
    "  output = Counter()\n",
    "  for user in get_users_with_asknext_survey():\n",
    "    most_common_result = get_most_common_survey_result_for_user(user)\n",
    "    if most_common_result == None:\n",
    "      continue\n",
    "    output[most_common_result] += 1\n",
    "  return output"
   ]
  },
  {
   "cell_type": "code",
   "execution_count": 10,
   "metadata": {},
   "outputs": [],
   "source": [
    "def get_most_common_difficulty_for_user(user):\n",
    "  difficulty_counts = get_choose_difficulty_counts_for_user(user)\n",
    "  max_count = 0\n",
    "  max_difficulty = None\n",
    "  for difficulty,count in difficulty_counts.items():\n",
    "    if count > max_count:\n",
    "      max_count = count\n",
    "      max_difficulty = difficulty\n",
    "  return max_difficulty\n",
    "\n",
    "def get_survey_choice_to_difficulty_choice_counts():\n",
    "  output = {\n",
    "    'nextvisit': Counter(),\n",
    "    'hour': Counter(),\n",
    "    'day': Counter(),\n",
    "    'week': Counter(),\n",
    "  }\n",
    "  for user in get_users_with_asknext_survey():\n",
    "    collection_items = get_collection_for_user(user, 'internal:choose_difficulty')\n",
    "    for item in collection_items:\n",
    "      if ('developer_mode' in item) and (item['developer_mode'] == True):\n",
    "        continue\n",
    "      if ('unofficial_version' in item):\n",
    "        continue\n",
    "      if 'action_type' in item and item['action_type'] == 'asknext_chosen':\n",
    "        asknext = item['asknext']\n",
    "        difficulty = item['difficulty']\n",
    "        output[asknext][difficulty] += 1\n",
    "        #output[asknext] += 1\n",
    "  return output\n",
    "\n",
    "def plot_survey_choice_to_difficulty_choice_counts():\n",
    "  plot_dictdict_as_bar(\n",
    "    get_survey_choice_to_difficulty_choice_counts(),\n",
    "    ylabel = 'Number of times chosen',\n",
    "    xlabel = 'Intervention difficulty chosen, along with when to ask about difficulty again',\n",
    "    title = 'Choices for intervention difficulty and when to ask about difficulty again',\n",
    "    remap_labels = {'easy': 'Easy', 'medium': 'Medium', 'hard': 'Hard', 'nothing': 'No Intervention', 'nextvisit': 'Next Visit', 'hour': 'Next Hour', 'day': 'Next Day', 'week': 'Next Week'},\n",
    "    font=dict(size=18),\n",
    "  )\n",
    "\n",
    "def plot_survey_choice_counts_raw_per_user():\n",
    "  survey_results = get_survey_results_across_all_users()\n",
    "  print(survey_results)\n",
    "  print(chisquare(list(survey_results.values())))\n",
    "  plot_dict_as_bar(\n",
    "    survey_results,\n",
    "    ylabel = 'Number of times chosen',\n",
    "    xlabel = 'Choice for when to ask next about intervention difficulty',\n",
    "    title = 'Choice for when to ask next about intervention difficulty, raw counts'\n",
    "  )\n",
    "\n",
    "def plot_survey_choice_counts_raw_per_install():\n",
    "  survey_results = get_survey_results_across_all_installs()\n",
    "  print(survey_results)\n",
    "  print(chisquare(list(survey_results.values())))\n",
    "  plot_dict_as_bar(\n",
    "    survey_results,\n",
    "    ylabel = 'Number of times chosen',\n",
    "    xlabel = 'Choice for when to ask next about intervention difficulty',\n",
    "    title = 'Choice for when to ask next about intervention difficulty, raw counts'\n",
    "  )\n",
    "\n",
    "def plot_survey_choice_counts_install_normalized():\n",
    "  survey_choice_to_num_installs_who_choose_it_most_commonly = get_survey_choice_to_num_installs_who_choose_it_most_commonly()\n",
    "  print(survey_choice_to_num_installs_who_choose_it_most_commonly)\n",
    "  print(chisquare(list(survey_choice_to_num_installs_who_choose_it_most_commonly.values())))\n",
    "  plot_dict_as_bar(\n",
    "    survey_choice_to_num_installs_who_choose_it_most_commonly,\n",
    "    ylabel = 'Number of users',\n",
    "    xlabel = 'Choice for when to next ask about intervention difficulty',\n",
    "    title = 'Users\\' most frequent choice for sampling frequency',\n",
    "    remap_labels = {'nextvisit': 'Next Visit', 'hour': 'Next Hour', 'day': 'Next Day', 'week': 'Next Week'},\n",
    "    font=dict(size=22),\n",
    "  )\n",
    "\n",
    "def plot_survey_choice_counts_user_normalized():\n",
    "  survey_choice_to_num_users_who_choose_it_most_commonly = get_survey_choice_to_num_users_who_choose_it_most_commonly()\n",
    "  print(survey_choice_to_num_users_who_choose_it_most_commonly)\n",
    "  print(chisquare(list(survey_choice_to_num_users_who_choose_it_most_commonly.values())))\n",
    "  plot_dict_as_bar(\n",
    "    survey_choice_to_num_users_who_choose_it_most_commonly,\n",
    "    ylabel = 'Number of users',\n",
    "    xlabel = 'User\\'s most frequent choice for when to next ask about intervention difficulty',\n",
    "    title = 'Most frequent choice for when to ask next about intervention difficulty, by number of users',\n",
    "  )"
   ]
  },
  {
   "cell_type": "code",
   "execution_count": 11,
   "metadata": {},
   "outputs": [
    {
     "name": "stdout",
     "output_type": "stream",
     "text": [
      "{'nextvisit': Counter({'nothing': 22057, 'easy': 535, 'medium': 155, 'hard': 125}), 'hour': Counter({'easy': 2054, 'nothing': 1158, 'medium': 132, 'hard': 36}), 'day': Counter({'nothing': 630, 'medium': 508, 'easy': 464, 'hard': 45}), 'week': Counter({'nothing': 2089, 'easy': 524, 'medium': 507, 'hard': 221})}\n"
     ]
    }
   ],
   "source": [
    "# noexport\n",
    "\n",
    "print(get_survey_choice_to_difficulty_choice_counts())"
   ]
  },
  {
   "cell_type": "code",
   "execution_count": 12,
   "metadata": {},
   "outputs": [],
   "source": [
    "# noexport\n",
    "\n",
    "survey_choice_to_difficulty_choice_counts = get_survey_choice_to_difficulty_choice_counts()"
   ]
  },
  {
   "cell_type": "code",
   "execution_count": 13,
   "metadata": {},
   "outputs": [
    {
     "name": "stdout",
     "output_type": "stream",
     "text": [
      "31240\n"
     ]
    }
   ],
   "source": [
    "total_count = 0\n",
    "for survey_choice,difficulty_counts in survey_choice_to_difficulty_choice_counts.items():\n",
    "  for difficulty,count in difficulty_counts.items():\n",
    "    total_count += count\n",
    "print(total_count)"
   ]
  },
  {
   "cell_type": "code",
   "execution_count": 14,
   "metadata": {},
   "outputs": [
    {
     "name": "stdout",
     "output_type": "stream",
     "text": [
      "{'easy': 'Easy', 'medium': 'Medium', 'hard': 'Hard', 'nothing': 'No Intervention', 'nextvisit': 'Next Visit', 'hour': 'Next Hour', 'day': 'Next Day', 'week': 'Next Week'}\n",
      "Next Visit\n",
      "Next Hour\n",
      "Next Day\n",
      "Next Week\n"
     ]
    },
    {
     "data": {
      "application/vnd.plotly.v1+json": {
       "config": {
        "linkText": "Export to plot.ly",
        "plotlyServerURL": "https://plot.ly",
        "responsive": true,
        "showLink": false
       },
       "data": [
        {
         "name": "Next Visit",
         "type": "bar",
         "uid": "e4960797-72c8-46e9-a1c4-f0282e2788d5",
         "x": [
          "No Intervention",
          "Easy",
          "Medium",
          "Hard"
         ],
         "y": [
          22057,
          535,
          155,
          125
         ]
        },
        {
         "name": "Next Hour",
         "type": "bar",
         "uid": "a188dfcb-e955-410b-832f-984a0f4b6f6e",
         "x": [
          "Easy",
          "No Intervention",
          "Medium",
          "Hard"
         ],
         "y": [
          2054,
          1158,
          132,
          36
         ]
        },
        {
         "name": "Next Day",
         "type": "bar",
         "uid": "14117624-e6cc-4edc-b30e-56c506652420",
         "x": [
          "No Intervention",
          "Medium",
          "Easy",
          "Hard"
         ],
         "y": [
          630,
          508,
          464,
          45
         ]
        },
        {
         "name": "Next Week",
         "type": "bar",
         "uid": "0564b97a-8190-4af7-9511-7d16f3c7b87e",
         "x": [
          "No Intervention",
          "Easy",
          "Medium",
          "Hard"
         ],
         "y": [
          2089,
          524,
          507,
          221
         ]
        }
       ],
       "layout": {
        "font": {
         "size": 18
        },
        "title": {
         "text": "Choices for intervention difficulty and when to ask about difficulty again"
        },
        "xaxis": {
         "title": {
          "text": "Intervention difficulty chosen, along with when to ask about difficulty again"
         }
        },
        "yaxis": {
         "title": {
          "text": "Number of times chosen"
         }
        }
       }
      },
      "text/html": [
       "<div>\n",
       "        \n",
       "        \n",
       "            <div id=\"78ca3f48-3141-45b2-b7d5-de9f2c2e2f9a\" class=\"plotly-graph-div\" style=\"height:525px; width:100%;\"></div>\n",
       "            <script type=\"text/javascript\">\n",
       "                require([\"plotly\"], function(Plotly) {\n",
       "                    window.PLOTLYENV=window.PLOTLYENV || {};\n",
       "                    window.PLOTLYENV.BASE_URL='https://plot.ly';\n",
       "                    \n",
       "                if (document.getElementById(\"78ca3f48-3141-45b2-b7d5-de9f2c2e2f9a\")) {\n",
       "                    Plotly.newPlot(\n",
       "                        '78ca3f48-3141-45b2-b7d5-de9f2c2e2f9a',\n",
       "                        [{\"name\": \"Next Visit\", \"type\": \"bar\", \"uid\": \"97f624b0-f4d0-4f3e-8a4d-c163d11cc8e2\", \"x\": [\"No Intervention\", \"Easy\", \"Medium\", \"Hard\"], \"y\": [22057, 535, 155, 125]}, {\"name\": \"Next Hour\", \"type\": \"bar\", \"uid\": \"f9aa1ea9-51b4-4d84-ac84-c4bf9ca03291\", \"x\": [\"Easy\", \"No Intervention\", \"Medium\", \"Hard\"], \"y\": [2054, 1158, 132, 36]}, {\"name\": \"Next Day\", \"type\": \"bar\", \"uid\": \"1977e6bb-3e59-49fa-9a00-894b43119513\", \"x\": [\"No Intervention\", \"Medium\", \"Easy\", \"Hard\"], \"y\": [630, 508, 464, 45]}, {\"name\": \"Next Week\", \"type\": \"bar\", \"uid\": \"6b79a9fd-f557-4724-882a-63cf8393b2cd\", \"x\": [\"No Intervention\", \"Easy\", \"Medium\", \"Hard\"], \"y\": [2089, 524, 507, 221]}],\n",
       "                        {\"font\": {\"size\": 18}, \"title\": {\"text\": \"Choices for intervention difficulty and when to ask about difficulty again\"}, \"xaxis\": {\"title\": {\"text\": \"Intervention difficulty chosen, along with when to ask about difficulty again\"}}, \"yaxis\": {\"title\": {\"text\": \"Number of times chosen\"}}},\n",
       "                        {\"showLink\": false, \"linkText\": \"Export to plot.ly\", \"plotlyServerURL\": \"https://plot.ly\", \"responsive\": true}\n",
       "                    ).then(function(){\n",
       "                            \n",
       "var gd = document.getElementById('78ca3f48-3141-45b2-b7d5-de9f2c2e2f9a');\n",
       "var x = new MutationObserver(function (mutations, observer) {{\n",
       "        var display = window.getComputedStyle(gd).display;\n",
       "        if (!display || display === 'none') {{\n",
       "            console.log([gd, 'removed!']);\n",
       "            Plotly.purge(gd);\n",
       "            observer.disconnect();\n",
       "        }}\n",
       "}});\n",
       "\n",
       "// Listen for the removal of the full notebook cells\n",
       "var notebookContainer = gd.closest('#notebook-container');\n",
       "if (notebookContainer) {{\n",
       "    x.observe(notebookContainer, {childList: true});\n",
       "}}\n",
       "\n",
       "// Listen for the clearing of the current output cell\n",
       "var outputEl = gd.closest('.output');\n",
       "if (outputEl) {{\n",
       "    x.observe(outputEl, {childList: true});\n",
       "}}\n",
       "\n",
       "                        })\n",
       "                };\n",
       "                });\n",
       "            </script>\n",
       "        </div>"
      ]
     },
     "metadata": {},
     "output_type": "display_data"
    }
   ],
   "source": [
    "# noexport\n",
    "\n",
    "plot_survey_choice_to_difficulty_choice_counts()"
   ]
  },
  {
   "cell_type": "code",
   "execution_count": 15,
   "metadata": {
    "scrolled": false
   },
   "outputs": [
    {
     "name": "stdout",
     "output_type": "stream",
     "text": [
      "Counter({'nextvisit': 36942, 'hour': 4939, 'week': 4321, 'day': 2190})\n",
      "Power_divergenceResult(statistic=68368.80558770045, pvalue=0.0)\n"
     ]
    },
    {
     "data": {
      "application/vnd.plotly.v1+json": {
       "config": {
        "linkText": "Export to plot.ly",
        "plotlyServerURL": "https://plot.ly",
        "responsive": true,
        "showLink": false
       },
       "data": [
        {
         "orientation": "v",
         "type": "bar",
         "uid": "2b0fa7d2-1252-481d-83b7-9934e19aa580",
         "x": [
          "nextvisit",
          "hour",
          "week",
          "day"
         ],
         "y": [
          36942,
          4939,
          4321,
          2190
         ]
        }
       ],
       "layout": {
        "title": {
         "text": "Choice for when to ask next about intervention difficulty, raw counts"
        },
        "xaxis": {
         "title": {
          "text": "Choice for when to ask next about intervention difficulty"
         }
        },
        "yaxis": {
         "title": {
          "text": "Number of times chosen"
         }
        }
       }
      },
      "text/html": [
       "<div>\n",
       "        \n",
       "        \n",
       "            <div id=\"cbca447d-d90d-4d77-a158-55b382da186c\" class=\"plotly-graph-div\" style=\"height:525px; width:100%;\"></div>\n",
       "            <script type=\"text/javascript\">\n",
       "                require([\"plotly\"], function(Plotly) {\n",
       "                    window.PLOTLYENV=window.PLOTLYENV || {};\n",
       "                    window.PLOTLYENV.BASE_URL='https://plot.ly';\n",
       "                    \n",
       "                if (document.getElementById(\"cbca447d-d90d-4d77-a158-55b382da186c\")) {\n",
       "                    Plotly.newPlot(\n",
       "                        'cbca447d-d90d-4d77-a158-55b382da186c',\n",
       "                        [{\"orientation\": \"v\", \"type\": \"bar\", \"uid\": \"bd95551d-8707-4127-9d81-757ced00384e\", \"x\": [\"nextvisit\", \"hour\", \"week\", \"day\"], \"y\": [36942, 4939, 4321, 2190]}],\n",
       "                        {\"title\": {\"text\": \"Choice for when to ask next about intervention difficulty, raw counts\"}, \"xaxis\": {\"title\": {\"text\": \"Choice for when to ask next about intervention difficulty\"}}, \"yaxis\": {\"title\": {\"text\": \"Number of times chosen\"}}},\n",
       "                        {\"showLink\": false, \"linkText\": \"Export to plot.ly\", \"plotlyServerURL\": \"https://plot.ly\", \"responsive\": true}\n",
       "                    ).then(function(){\n",
       "                            \n",
       "var gd = document.getElementById('cbca447d-d90d-4d77-a158-55b382da186c');\n",
       "var x = new MutationObserver(function (mutations, observer) {{\n",
       "        var display = window.getComputedStyle(gd).display;\n",
       "        if (!display || display === 'none') {{\n",
       "            console.log([gd, 'removed!']);\n",
       "            Plotly.purge(gd);\n",
       "            observer.disconnect();\n",
       "        }}\n",
       "}});\n",
       "\n",
       "// Listen for the removal of the full notebook cells\n",
       "var notebookContainer = gd.closest('#notebook-container');\n",
       "if (notebookContainer) {{\n",
       "    x.observe(notebookContainer, {childList: true});\n",
       "}}\n",
       "\n",
       "// Listen for the clearing of the current output cell\n",
       "var outputEl = gd.closest('.output');\n",
       "if (outputEl) {{\n",
       "    x.observe(outputEl, {childList: true});\n",
       "}}\n",
       "\n",
       "                        })\n",
       "                };\n",
       "                });\n",
       "            </script>\n",
       "        </div>"
      ]
     },
     "metadata": {},
     "output_type": "display_data"
    }
   ],
   "source": [
    "# noexport\n",
    "\n",
    "plot_survey_choice_counts_raw_per_install()"
   ]
  },
  {
   "cell_type": "code",
   "execution_count": 16,
   "metadata": {},
   "outputs": [
    {
     "name": "stdout",
     "output_type": "stream",
     "text": [
      "Counter({'nextvisit': 22872, 'hour': 3380, 'week': 3341, 'day': 1647})\n",
      "Power_divergenceResult(statistic=38981.21306017925, pvalue=0.0)\n"
     ]
    },
    {
     "data": {
      "application/vnd.plotly.v1+json": {
       "config": {
        "linkText": "Export to plot.ly",
        "plotlyServerURL": "https://plot.ly",
        "responsive": true,
        "showLink": false
       },
       "data": [
        {
         "orientation": "v",
         "type": "bar",
         "uid": "af18a557-046d-463e-850c-e676608387a1",
         "x": [
          "nextvisit",
          "hour",
          "week",
          "day"
         ],
         "y": [
          22872,
          3380,
          3341,
          1647
         ]
        }
       ],
       "layout": {
        "title": {
         "text": "Choice for when to ask next about intervention difficulty, raw counts"
        },
        "xaxis": {
         "title": {
          "text": "Choice for when to ask next about intervention difficulty"
         }
        },
        "yaxis": {
         "title": {
          "text": "Number of times chosen"
         }
        }
       }
      },
      "text/html": [
       "<div>\n",
       "        \n",
       "        \n",
       "            <div id=\"b5457c60-80ca-49ae-b932-8e119acb55c2\" class=\"plotly-graph-div\" style=\"height:525px; width:100%;\"></div>\n",
       "            <script type=\"text/javascript\">\n",
       "                require([\"plotly\"], function(Plotly) {\n",
       "                    window.PLOTLYENV=window.PLOTLYENV || {};\n",
       "                    window.PLOTLYENV.BASE_URL='https://plot.ly';\n",
       "                    \n",
       "                if (document.getElementById(\"b5457c60-80ca-49ae-b932-8e119acb55c2\")) {\n",
       "                    Plotly.newPlot(\n",
       "                        'b5457c60-80ca-49ae-b932-8e119acb55c2',\n",
       "                        [{\"orientation\": \"v\", \"type\": \"bar\", \"uid\": \"186bcfb5-bb78-47a8-8084-66bbbe13f367\", \"x\": [\"nextvisit\", \"hour\", \"week\", \"day\"], \"y\": [22872, 3380, 3341, 1647]}],\n",
       "                        {\"title\": {\"text\": \"Choice for when to ask next about intervention difficulty, raw counts\"}, \"xaxis\": {\"title\": {\"text\": \"Choice for when to ask next about intervention difficulty\"}}, \"yaxis\": {\"title\": {\"text\": \"Number of times chosen\"}}},\n",
       "                        {\"showLink\": false, \"linkText\": \"Export to plot.ly\", \"plotlyServerURL\": \"https://plot.ly\", \"responsive\": true}\n",
       "                    ).then(function(){\n",
       "                            \n",
       "var gd = document.getElementById('b5457c60-80ca-49ae-b932-8e119acb55c2');\n",
       "var x = new MutationObserver(function (mutations, observer) {{\n",
       "        var display = window.getComputedStyle(gd).display;\n",
       "        if (!display || display === 'none') {{\n",
       "            console.log([gd, 'removed!']);\n",
       "            Plotly.purge(gd);\n",
       "            observer.disconnect();\n",
       "        }}\n",
       "}});\n",
       "\n",
       "// Listen for the removal of the full notebook cells\n",
       "var notebookContainer = gd.closest('#notebook-container');\n",
       "if (notebookContainer) {{\n",
       "    x.observe(notebookContainer, {childList: true});\n",
       "}}\n",
       "\n",
       "// Listen for the clearing of the current output cell\n",
       "var outputEl = gd.closest('.output');\n",
       "if (outputEl) {{\n",
       "    x.observe(outputEl, {childList: true});\n",
       "}}\n",
       "\n",
       "                        })\n",
       "                };\n",
       "                });\n",
       "            </script>\n",
       "        </div>"
      ]
     },
     "metadata": {},
     "output_type": "display_data"
    }
   ],
   "source": [
    "# noexport\n",
    "\n",
    "plot_survey_choice_counts_raw_per_user()"
   ]
  },
  {
   "cell_type": "code",
   "execution_count": 17,
   "metadata": {},
   "outputs": [
    {
     "name": "stdout",
     "output_type": "stream",
     "text": [
      "Counter({'nextvisit': 187, 'week': 159, 'day': 53, 'hour': 45})\n",
      "Power_divergenceResult(statistic=142.34234234234233, pvalue=1.1813531457717157e-30)\n"
     ]
    },
    {
     "data": {
      "application/vnd.plotly.v1+json": {
       "config": {
        "linkText": "Export to plot.ly",
        "plotlyServerURL": "https://plot.ly",
        "responsive": true,
        "showLink": false
       },
       "data": [
        {
         "orientation": "v",
         "type": "bar",
         "uid": "6d722334-8963-471c-81ee-efec65855ae7",
         "x": [
          "nextvisit",
          "week",
          "day",
          "hour"
         ],
         "y": [
          187,
          159,
          53,
          45
         ]
        }
       ],
       "layout": {
        "title": {
         "text": "Most frequent choice for when to ask next about intervention difficulty, by number of users"
        },
        "xaxis": {
         "title": {
          "text": "User's most frequent choice for when to next ask about intervention difficulty"
         }
        },
        "yaxis": {
         "title": {
          "text": "Number of users"
         }
        }
       }
      },
      "text/html": [
       "<div>\n",
       "        \n",
       "        \n",
       "            <div id=\"71410207-74c4-45ee-9499-dacf1ba1960c\" class=\"plotly-graph-div\" style=\"height:525px; width:100%;\"></div>\n",
       "            <script type=\"text/javascript\">\n",
       "                require([\"plotly\"], function(Plotly) {\n",
       "                    window.PLOTLYENV=window.PLOTLYENV || {};\n",
       "                    window.PLOTLYENV.BASE_URL='https://plot.ly';\n",
       "                    \n",
       "                if (document.getElementById(\"71410207-74c4-45ee-9499-dacf1ba1960c\")) {\n",
       "                    Plotly.newPlot(\n",
       "                        '71410207-74c4-45ee-9499-dacf1ba1960c',\n",
       "                        [{\"orientation\": \"v\", \"type\": \"bar\", \"uid\": \"cc7d4f55-7f07-468c-8fea-12fdc9a82a00\", \"x\": [\"nextvisit\", \"week\", \"day\", \"hour\"], \"y\": [187, 159, 53, 45]}],\n",
       "                        {\"title\": {\"text\": \"Most frequent choice for when to ask next about intervention difficulty, by number of users\"}, \"xaxis\": {\"title\": {\"text\": \"User's most frequent choice for when to next ask about intervention difficulty\"}}, \"yaxis\": {\"title\": {\"text\": \"Number of users\"}}},\n",
       "                        {\"showLink\": false, \"linkText\": \"Export to plot.ly\", \"plotlyServerURL\": \"https://plot.ly\", \"responsive\": true}\n",
       "                    ).then(function(){\n",
       "                            \n",
       "var gd = document.getElementById('71410207-74c4-45ee-9499-dacf1ba1960c');\n",
       "var x = new MutationObserver(function (mutations, observer) {{\n",
       "        var display = window.getComputedStyle(gd).display;\n",
       "        if (!display || display === 'none') {{\n",
       "            console.log([gd, 'removed!']);\n",
       "            Plotly.purge(gd);\n",
       "            observer.disconnect();\n",
       "        }}\n",
       "}});\n",
       "\n",
       "// Listen for the removal of the full notebook cells\n",
       "var notebookContainer = gd.closest('#notebook-container');\n",
       "if (notebookContainer) {{\n",
       "    x.observe(notebookContainer, {childList: true});\n",
       "}}\n",
       "\n",
       "// Listen for the clearing of the current output cell\n",
       "var outputEl = gd.closest('.output');\n",
       "if (outputEl) {{\n",
       "    x.observe(outputEl, {childList: true});\n",
       "}}\n",
       "\n",
       "                        })\n",
       "                };\n",
       "                });\n",
       "            </script>\n",
       "        </div>"
      ]
     },
     "metadata": {},
     "output_type": "display_data"
    }
   ],
   "source": [
    "# noexport\n",
    "\n",
    "plot_survey_choice_counts_user_normalized()"
   ]
  },
  {
   "cell_type": "code",
   "execution_count": 18,
   "metadata": {},
   "outputs": [
    {
     "name": "stdout",
     "output_type": "stream",
     "text": [
      "Counter({'nextvisit': 282, 'week': 220, 'day': 74, 'hour': 67})\n",
      "Power_divergenceResult(statistic=214.78538102643859, pvalue=2.6909002056363194e-46)\n"
     ]
    },
    {
     "data": {
      "application/vnd.plotly.v1+json": {
       "config": {
        "linkText": "Export to plot.ly",
        "plotlyServerURL": "https://plot.ly",
        "responsive": true,
        "showLink": false
       },
       "data": [
        {
         "orientation": "v",
         "type": "bar",
         "uid": "eaeeb985-ecf9-45fb-b6e3-21f6349a2e78",
         "x": [
          "Next Visit",
          "Next Week",
          "Next Day",
          "Next Hour"
         ],
         "y": [
          282,
          220,
          74,
          67
         ]
        }
       ],
       "layout": {
        "font": {
         "size": 22
        },
        "title": {
         "text": "Users' most frequent choice for sampling frequency"
        },
        "xaxis": {
         "title": {
          "text": "Choice for when to next ask about intervention difficulty"
         }
        },
        "yaxis": {
         "title": {
          "text": "Number of users"
         }
        }
       }
      },
      "text/html": [
       "<div>\n",
       "        \n",
       "        \n",
       "            <div id=\"c0ce9561-8e80-4de1-bd33-b1ffb7acc40d\" class=\"plotly-graph-div\" style=\"height:525px; width:100%;\"></div>\n",
       "            <script type=\"text/javascript\">\n",
       "                require([\"plotly\"], function(Plotly) {\n",
       "                    window.PLOTLYENV=window.PLOTLYENV || {};\n",
       "                    window.PLOTLYENV.BASE_URL='https://plot.ly';\n",
       "                    \n",
       "                if (document.getElementById(\"c0ce9561-8e80-4de1-bd33-b1ffb7acc40d\")) {\n",
       "                    Plotly.newPlot(\n",
       "                        'c0ce9561-8e80-4de1-bd33-b1ffb7acc40d',\n",
       "                        [{\"orientation\": \"v\", \"type\": \"bar\", \"uid\": \"ea73e0fd-0b8e-4899-b33e-59b7f88d7b49\", \"x\": [\"Next Visit\", \"Next Week\", \"Next Day\", \"Next Hour\"], \"y\": [282, 220, 74, 67]}],\n",
       "                        {\"font\": {\"size\": 22}, \"title\": {\"text\": \"Users' most frequent choice for sampling frequency\"}, \"xaxis\": {\"title\": {\"text\": \"Choice for when to next ask about intervention difficulty\"}}, \"yaxis\": {\"title\": {\"text\": \"Number of users\"}}},\n",
       "                        {\"showLink\": false, \"linkText\": \"Export to plot.ly\", \"plotlyServerURL\": \"https://plot.ly\", \"responsive\": true}\n",
       "                    ).then(function(){\n",
       "                            \n",
       "var gd = document.getElementById('c0ce9561-8e80-4de1-bd33-b1ffb7acc40d');\n",
       "var x = new MutationObserver(function (mutations, observer) {{\n",
       "        var display = window.getComputedStyle(gd).display;\n",
       "        if (!display || display === 'none') {{\n",
       "            console.log([gd, 'removed!']);\n",
       "            Plotly.purge(gd);\n",
       "            observer.disconnect();\n",
       "        }}\n",
       "}});\n",
       "\n",
       "// Listen for the removal of the full notebook cells\n",
       "var notebookContainer = gd.closest('#notebook-container');\n",
       "if (notebookContainer) {{\n",
       "    x.observe(notebookContainer, {childList: true});\n",
       "}}\n",
       "\n",
       "// Listen for the clearing of the current output cell\n",
       "var outputEl = gd.closest('.output');\n",
       "if (outputEl) {{\n",
       "    x.observe(outputEl, {childList: true});\n",
       "}}\n",
       "\n",
       "                        })\n",
       "                };\n",
       "                });\n",
       "            </script>\n",
       "        </div>"
      ]
     },
     "metadata": {},
     "output_type": "display_data"
    }
   ],
   "source": [
    "# noexport\n",
    "\n",
    "plot_survey_choice_counts_install_normalized()"
   ]
  },
  {
   "cell_type": "code",
   "execution_count": 19,
   "metadata": {},
   "outputs": [],
   "source": [
    "# sum(Counter({'nextvisit': 282, 'week': 220, 'day': 74, 'hour': 67}).values())"
   ]
  }
 ],
 "metadata": {
  "kernelspec": {
   "display_name": "Python 3",
   "language": "python",
   "name": "python3"
  },
  "language_info": {
   "codemirror_mode": {
    "name": "ipython",
    "version": 3
   },
   "file_extension": ".py",
   "mimetype": "text/x-python",
   "name": "python",
   "nbconvert_exporter": "python",
   "pygments_lexer": "ipython3",
   "version": "3.7.4"
  }
 },
 "nbformat": 4,
 "nbformat_minor": 2
}
