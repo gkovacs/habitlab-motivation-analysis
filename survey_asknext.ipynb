{
 "cells": [
  {
   "cell_type": "code",
   "execution_count": 13,
   "metadata": {},
   "outputs": [
    {
     "name": "stdout",
     "output_type": "stream",
     "text": [
      "[NbConvertApp] Converting notebook survey_asknext.ipynb to python\r\n"
     ]
    }
   ],
   "source": [
    "# noexport\n",
    "!typech survey_asknext.ipynb"
   ]
  },
  {
   "cell_type": "code",
   "execution_count": 2,
   "metadata": {},
   "outputs": [
    {
     "data": {
      "text/html": [
       "<script type=\"text/javascript\">window.PlotlyConfig = {MathJaxConfig: 'local'};</script><script type=\"text/javascript\">if (window.MathJax) {MathJax.Hub.Config({SVG: {font: \"STIX-Web\"}});}</script><script>requirejs.config({paths: { 'plotly': ['https://cdn.plot.ly/plotly-latest.min']},});if(!window._Plotly) {require(['plotly'],function(plotly) {window._Plotly=plotly;});}</script>"
      ],
      "text/vnd.plotly.v1+html": [
       "<script type=\"text/javascript\">window.PlotlyConfig = {MathJaxConfig: 'local'};</script><script type=\"text/javascript\">if (window.MathJax) {MathJax.Hub.Config({SVG: {font: \"STIX-Web\"}});}</script><script>requirejs.config({paths: { 'plotly': ['https://cdn.plot.ly/plotly-latest.min']},});if(!window._Plotly) {require(['plotly'],function(plotly) {window._Plotly=plotly;});}</script>"
      ]
     },
     "metadata": {},
     "output_type": "display_data"
    },
    {
     "data": {
      "text/html": [
       "<script type=\"text/javascript\">window.PlotlyConfig = {MathJaxConfig: 'local'};</script><script type=\"text/javascript\">if (window.MathJax) {MathJax.Hub.Config({SVG: {font: \"STIX-Web\"}});}</script><script>requirejs.config({paths: { 'plotly': ['https://cdn.plot.ly/plotly-latest.min']},});if(!window._Plotly) {require(['plotly'],function(plotly) {window._Plotly=plotly;});}</script>"
      ],
      "text/vnd.plotly.v1+html": [
       "<script type=\"text/javascript\">window.PlotlyConfig = {MathJaxConfig: 'local'};</script><script type=\"text/javascript\">if (window.MathJax) {MathJax.Hub.Config({SVG: {font: \"STIX-Web\"}});}</script><script>requirejs.config({paths: { 'plotly': ['https://cdn.plot.ly/plotly-latest.min']},});if(!window._Plotly) {require(['plotly'],function(plotly) {window._Plotly=plotly;});}</script>"
      ]
     },
     "metadata": {},
     "output_type": "display_data"
    }
   ],
   "source": [
    "from train_utils import *\n",
    "from plot_utils import *\n",
    "from scipy.stats import chisquare\n"
   ]
  },
  {
   "cell_type": "code",
   "execution_count": 3,
   "metadata": {},
   "outputs": [],
   "source": [
    "def get_most_common_key_in_dict(d):\n",
    "  most_common = None\n",
    "  for k in sorted(d.keys()):\n",
    "    if most_common == None:\n",
    "      most_common = k\n",
    "    elif d[k] > d[most_common]:\n",
    "      most_common = k\n",
    "  return most_common\n",
    "\n",
    "def get_most_common_survey_result_for_user(user):\n",
    "  results = get_survey_results_for_user(user)\n",
    "  return get_most_common_key_in_dict(results)\n",
    "\n",
    "def get_most_common_survey_result_for_install(install):\n",
    "  results = get_survey_results_for_install(install)\n",
    "  return get_most_common_key_in_dict(results)"
   ]
  },
  {
   "cell_type": "code",
   "execution_count": 4,
   "metadata": {},
   "outputs": [],
   "source": [
    "def get_survey_results_across_all_installs():\n",
    "  output = Counter()\n",
    "  for install in get_installs_with_asknext_survey():\n",
    "    for k,v in get_survey_results_for_install(install).items():\n",
    "      output[k] += v\n",
    "  return output\n",
    "\n",
    "def get_survey_results_across_all_users():\n",
    "  output = Counter()\n",
    "  for user in get_users_with_asknext_survey():\n",
    "    for k,v in get_survey_results_for_user(user).items():\n",
    "      output[k] += v\n",
    "  return output"
   ]
  },
  {
   "cell_type": "code",
   "execution_count": 5,
   "metadata": {},
   "outputs": [],
   "source": [
    "def get_survey_results_for_install(install):\n",
    "  output = Counter()\n",
    "  collection_items = get_collection_for_install(install, 'internal:choose_difficulty')\n",
    "  for item in collection_items:\n",
    "    if ('developer_mode' in item) and (item['developer_mode'] == True):\n",
    "      continue\n",
    "    if ('unofficial_version' in item):\n",
    "      continue\n",
    "    if 'action_type' in item and item['action_type'] == 'asknext_chosen':\n",
    "      asknext = item['asknext']\n",
    "      output[asknext] += 1\n",
    "  return output\n",
    "\n",
    "def get_survey_results_for_user(user):\n",
    "  output = Counter()\n",
    "  collection_items = get_collection_for_user(user, 'internal:choose_difficulty')\n",
    "  for item in collection_items:\n",
    "    if ('developer_mode' in item) and (item['developer_mode'] == True):\n",
    "      continue\n",
    "    if ('unofficial_version' in item):\n",
    "      continue\n",
    "    if 'action_type' in item and item['action_type'] == 'asknext_chosen':\n",
    "      asknext = item['asknext']\n",
    "      output[asknext] += 1\n",
    "  return output"
   ]
  },
  {
   "cell_type": "code",
   "execution_count": 6,
   "metadata": {},
   "outputs": [],
   "source": [
    "def get_installs_with_asknext_survey():\n",
    "  output = []\n",
    "  installs_with_difficulty = get_installs_with_choose_difficulty()\n",
    "  for install in installs_with_difficulty:\n",
    "    abtest_settings = get_abtest_settings_for_install(install)\n",
    "    if abtest_settings.get('frequency_of_choose_difficulty') == 'survey':\n",
    "      output.append(install)\n",
    "  return output\n",
    "\n",
    "def get_users_with_asknext_survey():\n",
    "  output = []\n",
    "  users_with_difficulty = get_users_with_choose_difficulty()\n",
    "  for user in users_with_difficulty:\n",
    "    abtest_settings = get_abtest_settings(user)\n",
    "    if abtest_settings.get('frequency_of_choose_difficulty') == 'survey':\n",
    "      output.append(user)\n",
    "  return output"
   ]
  },
  {
   "cell_type": "code",
   "execution_count": 7,
   "metadata": {},
   "outputs": [],
   "source": [
    "def get_survey_choice_to_num_installs_who_choose_it_most_commonly():\n",
    "  output = Counter()\n",
    "  for install in get_installs_with_asknext_survey():\n",
    "    most_common_result = get_most_common_survey_result_for_install(install)\n",
    "    if most_common_result == None:\n",
    "      continue\n",
    "    output[most_common_result] += 1\n",
    "  return output\n",
    "\n",
    "def get_survey_choice_to_num_users_who_choose_it_most_commonly():\n",
    "  output = Counter()\n",
    "  for user in get_users_with_asknext_survey():\n",
    "    most_common_result = get_most_common_survey_result_for_user(user)\n",
    "    if most_common_result == None:\n",
    "      continue\n",
    "    output[most_common_result] += 1\n",
    "  return output"
   ]
  },
  {
   "cell_type": "code",
   "execution_count": 8,
   "metadata": {},
   "outputs": [],
   "source": [
    "def get_most_common_difficulty_for_user(user):\n",
    "  difficulty_counts = get_choose_difficulty_counts_for_user(user)\n",
    "  max_count = 0\n",
    "  max_difficulty = None\n",
    "  for difficulty,count in difficulty_counts.items():\n",
    "    if count > max_count:\n",
    "      max_count = count\n",
    "      max_difficulty = difficulty\n",
    "  return max_difficulty\n",
    "\n",
    "def get_survey_choice_to_difficulty_choice_counts():\n",
    "  output = {\n",
    "    'nextvisit': Counter(),\n",
    "    'hour': Counter(),\n",
    "    'day': Counter(),\n",
    "    'week': Counter(),\n",
    "  }\n",
    "  for user in get_users_with_asknext_survey():\n",
    "    collection_items = get_collection_for_user(user, 'internal:choose_difficulty')\n",
    "    for item in collection_items:\n",
    "      if ('developer_mode' in item) and (item['developer_mode'] == True):\n",
    "        continue\n",
    "      if ('unofficial_version' in item):\n",
    "        continue\n",
    "      if 'action_type' in item and item['action_type'] == 'asknext_chosen':\n",
    "        asknext = item['asknext']\n",
    "        difficulty = item['difficulty']\n",
    "        output[asknext][difficulty] += 1\n",
    "        #output[asknext] += 1\n",
    "  return output\n",
    "\n",
    "def plot_survey_choice_to_difficulty_choice_counts():\n",
    "  plot_dictdict_as_bar(\n",
    "    get_survey_choice_to_difficulty_choice_counts(),\n",
    "    ylabel = 'Number of times chosen',\n",
    "    xlabel = 'Intervention difficulty chosen, along with when to ask about difficulty again',\n",
    "    title = 'Choices for intervention difficulty and when to ask about difficulty again',\n",
    "  )\n",
    "\n",
    "def plot_survey_choice_counts_raw_per_user():\n",
    "  survey_results = get_survey_results_across_all_users()\n",
    "  print(survey_results)\n",
    "  print(chisquare(list(survey_results.values())))\n",
    "  plot_dict_as_bar(\n",
    "    survey_results,\n",
    "    ylabel = 'Number of times chosen',\n",
    "    xlabel = 'Choice for when to ask next about intervention difficulty',\n",
    "    title = 'Choice for when to ask next about intervention difficulty, raw counts'\n",
    "  )\n",
    "\n",
    "def plot_survey_choice_counts_raw_per_install():\n",
    "  survey_results = get_survey_results_across_all_installs()\n",
    "  print(survey_results)\n",
    "  print(chisquare(list(survey_results.values())))\n",
    "  plot_dict_as_bar(\n",
    "    survey_results,\n",
    "    ylabel = 'Number of times chosen',\n",
    "    xlabel = 'Choice for when to ask next about intervention difficulty',\n",
    "    title = 'Choice for when to ask next about intervention difficulty, raw counts'\n",
    "  )\n",
    "\n",
    "def plot_survey_choice_counts_install_normalized():\n",
    "  survey_choice_to_num_installs_who_choose_it_most_commonly = get_survey_choice_to_num_installs_who_choose_it_most_commonly()\n",
    "  print(survey_choice_to_num_installs_who_choose_it_most_commonly)\n",
    "  print(chisquare(list(survey_choice_to_num_installs_who_choose_it_most_commonly.values())))\n",
    "  plot_dict_as_bar(\n",
    "    survey_choice_to_num_installs_who_choose_it_most_commonly,\n",
    "    ylabel = 'Number of users',\n",
    "    xlabel = 'User\\'s most frequent choice for when to next ask about intervention difficulty',\n",
    "    title = 'Most frequent choice for when to ask next about intervention difficulty, by number of users',\n",
    "  )\n",
    "\n",
    "def plot_survey_choice_counts_user_normalized():\n",
    "  survey_choice_to_num_users_who_choose_it_most_commonly = get_survey_choice_to_num_users_who_choose_it_most_commonly()\n",
    "  print(survey_choice_to_num_users_who_choose_it_most_commonly)\n",
    "  print(chisquare(list(survey_choice_to_num_users_who_choose_it_most_commonly.values())))\n",
    "  plot_dict_as_bar(\n",
    "    survey_choice_to_num_users_who_choose_it_most_commonly,\n",
    "    ylabel = 'Number of users',\n",
    "    xlabel = 'User\\'s most frequent choice for when to next ask about intervention difficulty',\n",
    "    title = 'Most frequent choice for when to ask next about intervention difficulty, by number of users',\n",
    "  )"
   ]
  },
  {
   "cell_type": "code",
   "execution_count": 15,
   "metadata": {},
   "outputs": [
    {
     "data": {
      "application/vnd.plotly.v1+json": {
       "config": {
        "linkText": "Export to plot.ly",
        "plotlyServerURL": "https://plot.ly",
        "showLink": false
       },
       "data": [
        {
         "name": "nextvisit",
         "type": "bar",
         "uid": "56623948-c866-4bd9-b1b7-b1d60fe9209d",
         "x": [
          "nothing",
          "easy",
          "medium",
          "hard"
         ],
         "y": [
          691,
          60,
          26,
          19
         ]
        },
        {
         "name": "hour",
         "type": "bar",
         "uid": "8fec59cf-28c1-4f0c-b753-d3a934fd5edc",
         "x": [
          "easy",
          "nothing",
          "medium",
          "hard"
         ],
         "y": [
          63,
          59,
          23,
          2
         ]
        },
        {
         "name": "day",
         "type": "bar",
         "uid": "008bad56-acff-43d2-a766-095e65a1e9ec",
         "x": [
          "nothing",
          "easy",
          "medium",
          "hard"
         ],
         "y": [
          30,
          19,
          9,
          9
         ]
        },
        {
         "name": "week",
         "type": "bar",
         "uid": "be08b344-0a67-4299-bd0f-cf0bad081e44",
         "x": [
          "nothing",
          "easy",
          "medium",
          "hard"
         ],
         "y": [
          49,
          22,
          16,
          8
         ]
        }
       ],
       "layout": {
        "title": {
         "text": "Choices for intervention difficulty and when to ask about difficulty again"
        },
        "xaxis": {
         "title": {
          "text": "Intervention difficulty chosen, along with when to ask about difficulty again"
         }
        },
        "yaxis": {
         "title": {
          "text": "Number of times chosen"
         }
        }
       }
      },
      "text/html": [
       "<div id=\"5b544020-6dd9-4e1d-b7d1-7903daaa27fa\" style=\"height: 525px; width: 100%;\" class=\"plotly-graph-div\"></div><script type=\"text/javascript\">require([\"plotly\"], function(Plotly) { window.PLOTLYENV=window.PLOTLYENV || {};window.PLOTLYENV.BASE_URL=\"https://plot.ly\";Plotly.newPlot(\"5b544020-6dd9-4e1d-b7d1-7903daaa27fa\", [{\"name\": \"nextvisit\", \"x\": [\"nothing\", \"easy\", \"medium\", \"hard\"], \"y\": [691, 60, 26, 19], \"type\": \"bar\", \"uid\": \"56623948-c866-4bd9-b1b7-b1d60fe9209d\"}, {\"name\": \"hour\", \"x\": [\"easy\", \"nothing\", \"medium\", \"hard\"], \"y\": [63, 59, 23, 2], \"type\": \"bar\", \"uid\": \"8fec59cf-28c1-4f0c-b753-d3a934fd5edc\"}, {\"name\": \"day\", \"x\": [\"nothing\", \"easy\", \"medium\", \"hard\"], \"y\": [30, 19, 9, 9], \"type\": \"bar\", \"uid\": \"008bad56-acff-43d2-a766-095e65a1e9ec\"}, {\"name\": \"week\", \"x\": [\"nothing\", \"easy\", \"medium\", \"hard\"], \"y\": [49, 22, 16, 8], \"type\": \"bar\", \"uid\": \"be08b344-0a67-4299-bd0f-cf0bad081e44\"}], {\"title\": {\"text\": \"Choices for intervention difficulty and when to ask about difficulty again\"}, \"xaxis\": {\"title\": {\"text\": \"Intervention difficulty chosen, along with when to ask about difficulty again\"}}, \"yaxis\": {\"title\": {\"text\": \"Number of times chosen\"}}}, {\"showLink\": false, \"linkText\": \"Export to plot.ly\", \"plotlyServerURL\": \"https://plot.ly\"})});</script><script type=\"text/javascript\">window.addEventListener(\"resize\", function(){window._Plotly.Plots.resize(document.getElementById(\"5b544020-6dd9-4e1d-b7d1-7903daaa27fa\"));});</script>"
      ],
      "text/vnd.plotly.v1+html": [
       "<div id=\"5b544020-6dd9-4e1d-b7d1-7903daaa27fa\" style=\"height: 525px; width: 100%;\" class=\"plotly-graph-div\"></div><script type=\"text/javascript\">require([\"plotly\"], function(Plotly) { window.PLOTLYENV=window.PLOTLYENV || {};window.PLOTLYENV.BASE_URL=\"https://plot.ly\";Plotly.newPlot(\"5b544020-6dd9-4e1d-b7d1-7903daaa27fa\", [{\"name\": \"nextvisit\", \"x\": [\"nothing\", \"easy\", \"medium\", \"hard\"], \"y\": [691, 60, 26, 19], \"type\": \"bar\", \"uid\": \"56623948-c866-4bd9-b1b7-b1d60fe9209d\"}, {\"name\": \"hour\", \"x\": [\"easy\", \"nothing\", \"medium\", \"hard\"], \"y\": [63, 59, 23, 2], \"type\": \"bar\", \"uid\": \"8fec59cf-28c1-4f0c-b753-d3a934fd5edc\"}, {\"name\": \"day\", \"x\": [\"nothing\", \"easy\", \"medium\", \"hard\"], \"y\": [30, 19, 9, 9], \"type\": \"bar\", \"uid\": \"008bad56-acff-43d2-a766-095e65a1e9ec\"}, {\"name\": \"week\", \"x\": [\"nothing\", \"easy\", \"medium\", \"hard\"], \"y\": [49, 22, 16, 8], \"type\": \"bar\", \"uid\": \"be08b344-0a67-4299-bd0f-cf0bad081e44\"}], {\"title\": {\"text\": \"Choices for intervention difficulty and when to ask about difficulty again\"}, \"xaxis\": {\"title\": {\"text\": \"Intervention difficulty chosen, along with when to ask about difficulty again\"}}, \"yaxis\": {\"title\": {\"text\": \"Number of times chosen\"}}}, {\"showLink\": false, \"linkText\": \"Export to plot.ly\", \"plotlyServerURL\": \"https://plot.ly\"})});</script><script type=\"text/javascript\">window.addEventListener(\"resize\", function(){window._Plotly.Plots.resize(document.getElementById(\"5b544020-6dd9-4e1d-b7d1-7903daaa27fa\"));});</script>"
      ]
     },
     "metadata": {},
     "output_type": "display_data"
    }
   ],
   "source": [
    "# noexport\n",
    "\n",
    "plot_survey_choice_to_difficulty_choice_counts()"
   ]
  },
  {
   "cell_type": "code",
   "execution_count": 9,
   "metadata": {
    "scrolled": false
   },
   "outputs": [
    {
     "name": "stdout",
     "output_type": "stream",
     "text": [
      "Counter({'nextvisit': 994, 'hour': 192, 'week': 110, 'day': 76})\n",
      "Power_divergenceResult(statistic=1668.1632653061224, pvalue=0.0)\n"
     ]
    },
    {
     "data": {
      "application/vnd.plotly.v1+json": {
       "config": {
        "linkText": "Export to plot.ly",
        "plotlyServerURL": "https://plot.ly",
        "showLink": false
       },
       "data": [
        {
         "type": "bar",
         "uid": "f0d168d9-be6a-4e7a-a28c-8795a24153c5",
         "x": [
          "nextvisit",
          "hour",
          "week",
          "day"
         ],
         "y": [
          994,
          192,
          110,
          76
         ]
        }
       ],
       "layout": {
        "title": {
         "text": "Choice for when to ask next about intervention difficulty, raw counts"
        },
        "xaxis": {
         "title": {
          "text": "Choice for when to ask next about intervention difficulty"
         }
        },
        "yaxis": {
         "title": {
          "text": "Number of times chosen"
         }
        }
       }
      },
      "text/html": [
       "<div id=\"f9febadb-f6af-4d5e-bb56-fb147993b64e\" style=\"height: 525px; width: 100%;\" class=\"plotly-graph-div\"></div><script type=\"text/javascript\">require([\"plotly\"], function(Plotly) { window.PLOTLYENV=window.PLOTLYENV || {};window.PLOTLYENV.BASE_URL=\"https://plot.ly\";Plotly.newPlot(\"f9febadb-f6af-4d5e-bb56-fb147993b64e\", [{\"x\": [\"nextvisit\", \"hour\", \"week\", \"day\"], \"y\": [994, 192, 110, 76], \"type\": \"bar\", \"uid\": \"f0d168d9-be6a-4e7a-a28c-8795a24153c5\"}], {\"title\": {\"text\": \"Choice for when to ask next about intervention difficulty, raw counts\"}, \"xaxis\": {\"title\": {\"text\": \"Choice for when to ask next about intervention difficulty\"}}, \"yaxis\": {\"title\": {\"text\": \"Number of times chosen\"}}}, {\"showLink\": false, \"linkText\": \"Export to plot.ly\", \"plotlyServerURL\": \"https://plot.ly\"})});</script><script type=\"text/javascript\">window.addEventListener(\"resize\", function(){window._Plotly.Plots.resize(document.getElementById(\"f9febadb-f6af-4d5e-bb56-fb147993b64e\"));});</script>"
      ],
      "text/vnd.plotly.v1+html": [
       "<div id=\"f9febadb-f6af-4d5e-bb56-fb147993b64e\" style=\"height: 525px; width: 100%;\" class=\"plotly-graph-div\"></div><script type=\"text/javascript\">require([\"plotly\"], function(Plotly) { window.PLOTLYENV=window.PLOTLYENV || {};window.PLOTLYENV.BASE_URL=\"https://plot.ly\";Plotly.newPlot(\"f9febadb-f6af-4d5e-bb56-fb147993b64e\", [{\"x\": [\"nextvisit\", \"hour\", \"week\", \"day\"], \"y\": [994, 192, 110, 76], \"type\": \"bar\", \"uid\": \"f0d168d9-be6a-4e7a-a28c-8795a24153c5\"}], {\"title\": {\"text\": \"Choice for when to ask next about intervention difficulty, raw counts\"}, \"xaxis\": {\"title\": {\"text\": \"Choice for when to ask next about intervention difficulty\"}}, \"yaxis\": {\"title\": {\"text\": \"Number of times chosen\"}}}, {\"showLink\": false, \"linkText\": \"Export to plot.ly\", \"plotlyServerURL\": \"https://plot.ly\"})});</script><script type=\"text/javascript\">window.addEventListener(\"resize\", function(){window._Plotly.Plots.resize(document.getElementById(\"f9febadb-f6af-4d5e-bb56-fb147993b64e\"));});</script>"
      ]
     },
     "metadata": {},
     "output_type": "display_data"
    }
   ],
   "source": [
    "# noexport\n",
    "\n",
    "plot_survey_choice_counts_raw_per_install()"
   ]
  },
  {
   "cell_type": "code",
   "execution_count": 10,
   "metadata": {},
   "outputs": [
    {
     "name": "stdout",
     "output_type": "stream",
     "text": [
      "Counter({'nextvisit': 796, 'hour': 147, 'week': 95, 'day': 67})\n",
      "Power_divergenceResult(statistic=1315.7746606334842, pvalue=5.5593400840516244e-285)\n"
     ]
    },
    {
     "data": {
      "application/vnd.plotly.v1+json": {
       "config": {
        "linkText": "Export to plot.ly",
        "plotlyServerURL": "https://plot.ly",
        "showLink": false
       },
       "data": [
        {
         "type": "bar",
         "uid": "c31d6b25-c084-4eea-ba35-38d18ee54995",
         "x": [
          "nextvisit",
          "hour",
          "week",
          "day"
         ],
         "y": [
          796,
          147,
          95,
          67
         ]
        }
       ],
       "layout": {
        "title": {
         "text": "Choice for when to ask next about intervention difficulty, raw counts"
        },
        "xaxis": {
         "title": {
          "text": "Choice for when to ask next about intervention difficulty"
         }
        },
        "yaxis": {
         "title": {
          "text": "Number of times chosen"
         }
        }
       }
      },
      "text/html": [
       "<div id=\"d6eedf8e-3435-4d5a-9452-888298124251\" style=\"height: 525px; width: 100%;\" class=\"plotly-graph-div\"></div><script type=\"text/javascript\">require([\"plotly\"], function(Plotly) { window.PLOTLYENV=window.PLOTLYENV || {};window.PLOTLYENV.BASE_URL=\"https://plot.ly\";Plotly.newPlot(\"d6eedf8e-3435-4d5a-9452-888298124251\", [{\"x\": [\"nextvisit\", \"hour\", \"week\", \"day\"], \"y\": [796, 147, 95, 67], \"type\": \"bar\", \"uid\": \"c31d6b25-c084-4eea-ba35-38d18ee54995\"}], {\"title\": {\"text\": \"Choice for when to ask next about intervention difficulty, raw counts\"}, \"xaxis\": {\"title\": {\"text\": \"Choice for when to ask next about intervention difficulty\"}}, \"yaxis\": {\"title\": {\"text\": \"Number of times chosen\"}}}, {\"showLink\": false, \"linkText\": \"Export to plot.ly\", \"plotlyServerURL\": \"https://plot.ly\"})});</script><script type=\"text/javascript\">window.addEventListener(\"resize\", function(){window._Plotly.Plots.resize(document.getElementById(\"d6eedf8e-3435-4d5a-9452-888298124251\"));});</script>"
      ],
      "text/vnd.plotly.v1+html": [
       "<div id=\"d6eedf8e-3435-4d5a-9452-888298124251\" style=\"height: 525px; width: 100%;\" class=\"plotly-graph-div\"></div><script type=\"text/javascript\">require([\"plotly\"], function(Plotly) { window.PLOTLYENV=window.PLOTLYENV || {};window.PLOTLYENV.BASE_URL=\"https://plot.ly\";Plotly.newPlot(\"d6eedf8e-3435-4d5a-9452-888298124251\", [{\"x\": [\"nextvisit\", \"hour\", \"week\", \"day\"], \"y\": [796, 147, 95, 67], \"type\": \"bar\", \"uid\": \"c31d6b25-c084-4eea-ba35-38d18ee54995\"}], {\"title\": {\"text\": \"Choice for when to ask next about intervention difficulty, raw counts\"}, \"xaxis\": {\"title\": {\"text\": \"Choice for when to ask next about intervention difficulty\"}}, \"yaxis\": {\"title\": {\"text\": \"Number of times chosen\"}}}, {\"showLink\": false, \"linkText\": \"Export to plot.ly\", \"plotlyServerURL\": \"https://plot.ly\"})});</script><script type=\"text/javascript\">window.addEventListener(\"resize\", function(){window._Plotly.Plots.resize(document.getElementById(\"d6eedf8e-3435-4d5a-9452-888298124251\"));});</script>"
      ]
     },
     "metadata": {},
     "output_type": "display_data"
    }
   ],
   "source": [
    "# noexport\n",
    "\n",
    "plot_survey_choice_counts_raw_per_user()"
   ]
  },
  {
   "cell_type": "code",
   "execution_count": 11,
   "metadata": {},
   "outputs": [
    {
     "name": "stdout",
     "output_type": "stream",
     "text": [
      "Counter({'nextvisit': 60, 'week': 29, 'day': 17, 'hour': 15})\n",
      "Power_divergenceResult(statistic=42.80165289256199, pvalue=2.7115795481846654e-09)\n"
     ]
    },
    {
     "data": {
      "application/vnd.plotly.v1+json": {
       "config": {
        "linkText": "Export to plot.ly",
        "plotlyServerURL": "https://plot.ly",
        "showLink": false
       },
       "data": [
        {
         "type": "bar",
         "uid": "6216382a-7502-43ac-8c71-3fd2ba3c955d",
         "x": [
          "nextvisit",
          "week",
          "day",
          "hour"
         ],
         "y": [
          60,
          29,
          17,
          15
         ]
        }
       ],
       "layout": {
        "title": {
         "text": "Most frequent choice for when to ask next about intervention difficulty, by number of users"
        },
        "xaxis": {
         "title": {
          "text": "User's most frequent choice for when to next ask about intervention difficulty"
         }
        },
        "yaxis": {
         "title": {
          "text": "Number of users"
         }
        }
       }
      },
      "text/html": [
       "<div id=\"f2eae154-4dce-4f7d-a062-6684818800a3\" style=\"height: 525px; width: 100%;\" class=\"plotly-graph-div\"></div><script type=\"text/javascript\">require([\"plotly\"], function(Plotly) { window.PLOTLYENV=window.PLOTLYENV || {};window.PLOTLYENV.BASE_URL=\"https://plot.ly\";Plotly.newPlot(\"f2eae154-4dce-4f7d-a062-6684818800a3\", [{\"x\": [\"nextvisit\", \"week\", \"day\", \"hour\"], \"y\": [60, 29, 17, 15], \"type\": \"bar\", \"uid\": \"6216382a-7502-43ac-8c71-3fd2ba3c955d\"}], {\"title\": {\"text\": \"Most frequent choice for when to ask next about intervention difficulty, by number of users\"}, \"xaxis\": {\"title\": {\"text\": \"User's most frequent choice for when to next ask about intervention difficulty\"}}, \"yaxis\": {\"title\": {\"text\": \"Number of users\"}}}, {\"showLink\": false, \"linkText\": \"Export to plot.ly\", \"plotlyServerURL\": \"https://plot.ly\"})});</script><script type=\"text/javascript\">window.addEventListener(\"resize\", function(){window._Plotly.Plots.resize(document.getElementById(\"f2eae154-4dce-4f7d-a062-6684818800a3\"));});</script>"
      ],
      "text/vnd.plotly.v1+html": [
       "<div id=\"f2eae154-4dce-4f7d-a062-6684818800a3\" style=\"height: 525px; width: 100%;\" class=\"plotly-graph-div\"></div><script type=\"text/javascript\">require([\"plotly\"], function(Plotly) { window.PLOTLYENV=window.PLOTLYENV || {};window.PLOTLYENV.BASE_URL=\"https://plot.ly\";Plotly.newPlot(\"f2eae154-4dce-4f7d-a062-6684818800a3\", [{\"x\": [\"nextvisit\", \"week\", \"day\", \"hour\"], \"y\": [60, 29, 17, 15], \"type\": \"bar\", \"uid\": \"6216382a-7502-43ac-8c71-3fd2ba3c955d\"}], {\"title\": {\"text\": \"Most frequent choice for when to ask next about intervention difficulty, by number of users\"}, \"xaxis\": {\"title\": {\"text\": \"User's most frequent choice for when to next ask about intervention difficulty\"}}, \"yaxis\": {\"title\": {\"text\": \"Number of users\"}}}, {\"showLink\": false, \"linkText\": \"Export to plot.ly\", \"plotlyServerURL\": \"https://plot.ly\"})});</script><script type=\"text/javascript\">window.addEventListener(\"resize\", function(){window._Plotly.Plots.resize(document.getElementById(\"f2eae154-4dce-4f7d-a062-6684818800a3\"));});</script>"
      ]
     },
     "metadata": {},
     "output_type": "display_data"
    }
   ],
   "source": [
    "# noexport\n",
    "\n",
    "plot_survey_choice_counts_user_normalized()"
   ]
  },
  {
   "cell_type": "code",
   "execution_count": 12,
   "metadata": {},
   "outputs": [
    {
     "name": "stdout",
     "output_type": "stream",
     "text": [
      "Counter({'nextvisit': 69, 'week': 33, 'hour': 18, 'day': 18})\n",
      "Power_divergenceResult(statistic=50.34782608695652, pvalue=6.736298971691746e-11)\n"
     ]
    },
    {
     "data": {
      "application/vnd.plotly.v1+json": {
       "config": {
        "linkText": "Export to plot.ly",
        "plotlyServerURL": "https://plot.ly",
        "showLink": false
       },
       "data": [
        {
         "type": "bar",
         "uid": "fea53204-bd7e-4fc4-8883-5cebf6091068",
         "x": [
          "nextvisit",
          "week",
          "hour",
          "day"
         ],
         "y": [
          69,
          33,
          18,
          18
         ]
        }
       ],
       "layout": {
        "title": {
         "text": "Most frequent choice for when to ask next about intervention difficulty, by number of users"
        },
        "xaxis": {
         "title": {
          "text": "User's most frequent choice for when to next ask about intervention difficulty"
         }
        },
        "yaxis": {
         "title": {
          "text": "Number of users"
         }
        }
       }
      },
      "text/html": [
       "<div id=\"22afbb2a-d2d0-43fc-940f-5e411942a70e\" style=\"height: 525px; width: 100%;\" class=\"plotly-graph-div\"></div><script type=\"text/javascript\">require([\"plotly\"], function(Plotly) { window.PLOTLYENV=window.PLOTLYENV || {};window.PLOTLYENV.BASE_URL=\"https://plot.ly\";Plotly.newPlot(\"22afbb2a-d2d0-43fc-940f-5e411942a70e\", [{\"x\": [\"nextvisit\", \"week\", \"hour\", \"day\"], \"y\": [69, 33, 18, 18], \"type\": \"bar\", \"uid\": \"fea53204-bd7e-4fc4-8883-5cebf6091068\"}], {\"title\": {\"text\": \"Most frequent choice for when to ask next about intervention difficulty, by number of users\"}, \"xaxis\": {\"title\": {\"text\": \"User's most frequent choice for when to next ask about intervention difficulty\"}}, \"yaxis\": {\"title\": {\"text\": \"Number of users\"}}}, {\"showLink\": false, \"linkText\": \"Export to plot.ly\", \"plotlyServerURL\": \"https://plot.ly\"})});</script><script type=\"text/javascript\">window.addEventListener(\"resize\", function(){window._Plotly.Plots.resize(document.getElementById(\"22afbb2a-d2d0-43fc-940f-5e411942a70e\"));});</script>"
      ],
      "text/vnd.plotly.v1+html": [
       "<div id=\"22afbb2a-d2d0-43fc-940f-5e411942a70e\" style=\"height: 525px; width: 100%;\" class=\"plotly-graph-div\"></div><script type=\"text/javascript\">require([\"plotly\"], function(Plotly) { window.PLOTLYENV=window.PLOTLYENV || {};window.PLOTLYENV.BASE_URL=\"https://plot.ly\";Plotly.newPlot(\"22afbb2a-d2d0-43fc-940f-5e411942a70e\", [{\"x\": [\"nextvisit\", \"week\", \"hour\", \"day\"], \"y\": [69, 33, 18, 18], \"type\": \"bar\", \"uid\": \"fea53204-bd7e-4fc4-8883-5cebf6091068\"}], {\"title\": {\"text\": \"Most frequent choice for when to ask next about intervention difficulty, by number of users\"}, \"xaxis\": {\"title\": {\"text\": \"User's most frequent choice for when to next ask about intervention difficulty\"}}, \"yaxis\": {\"title\": {\"text\": \"Number of users\"}}}, {\"showLink\": false, \"linkText\": \"Export to plot.ly\", \"plotlyServerURL\": \"https://plot.ly\"})});</script><script type=\"text/javascript\">window.addEventListener(\"resize\", function(){window._Plotly.Plots.resize(document.getElementById(\"22afbb2a-d2d0-43fc-940f-5e411942a70e\"));});</script>"
      ]
     },
     "metadata": {},
     "output_type": "display_data"
    }
   ],
   "source": [
    "# noexport\n",
    "\n",
    "plot_survey_choice_counts_install_normalized()"
   ]
  }
 ],
 "metadata": {
  "kernelspec": {
   "display_name": "Python 3",
   "language": "python",
   "name": "python3"
  },
  "language_info": {
   "codemirror_mode": {
    "name": "ipython",
    "version": 3
   },
   "file_extension": ".py",
   "mimetype": "text/x-python",
   "name": "python",
   "nbconvert_exporter": "python",
   "pygments_lexer": "ipython3",
   "version": "3.7.2"
  }
 },
 "nbformat": 4,
 "nbformat_minor": 2
}
