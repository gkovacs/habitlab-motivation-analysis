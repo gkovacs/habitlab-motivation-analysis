{
 "cells": [
  {
   "cell_type": "code",
   "execution_count": 33,
   "metadata": {},
   "outputs": [
    {
     "name": "stdout",
     "output_type": "stream",
     "text": [
      "[NbConvertApp] Converting notebook survey_asknext.ipynb to python\r\n"
     ]
    }
   ],
   "source": [
    "# noexport\n",
    "!typech survey_asknext.ipynb"
   ]
  },
  {
   "cell_type": "code",
   "execution_count": 25,
   "metadata": {},
   "outputs": [],
   "source": [
    "from train_utils import *\n",
    "from plot_utils import *\n",
    "from scipy.stats import chisquare\n"
   ]
  },
  {
   "cell_type": "code",
   "execution_count": 3,
   "metadata": {},
   "outputs": [],
   "source": [
    "def get_most_common_key_in_dict(d):\n",
    "  most_common = None\n",
    "  for k in sorted(d.keys()):\n",
    "    if most_common == None:\n",
    "      most_common = k\n",
    "    elif d[k] > d[most_common]:\n",
    "      most_common = k\n",
    "  return most_common\n",
    "\n",
    "def get_most_common_survey_result_for_user(user):\n",
    "  results = get_survey_results_for_user(user)\n",
    "  return get_most_common_key_in_dict(results)"
   ]
  },
  {
   "cell_type": "code",
   "execution_count": 4,
   "metadata": {},
   "outputs": [],
   "source": [
    "def get_survey_results_across_all_users():\n",
    "  output = Counter()\n",
    "  for user in get_users_with_asknext_survey():\n",
    "    for k,v in get_survey_results_for_user(user).items():\n",
    "      output[k] += v\n",
    "  return output"
   ]
  },
  {
   "cell_type": "code",
   "execution_count": 5,
   "metadata": {},
   "outputs": [],
   "source": [
    "def get_survey_results_for_user(user):\n",
    "  output = Counter()\n",
    "  collection_items = get_collection_for_user(user, 'internal:choose_difficulty')\n",
    "  for item in collection_items:\n",
    "    if ('developer_mode' in item) and (item['developer_mode'] == True):\n",
    "      continue\n",
    "    if ('unofficial_version' in item):\n",
    "      continue\n",
    "    if 'action_type' in item and item['action_type'] == 'asknext_chosen':\n",
    "      asknext = item['asknext']\n",
    "      output[asknext] += 1\n",
    "  return output"
   ]
  },
  {
   "cell_type": "code",
   "execution_count": 6,
   "metadata": {},
   "outputs": [],
   "source": [
    "def get_users_with_asknext_survey():\n",
    "  output = []\n",
    "  users_with_difficulty = get_users_with_choose_difficulty()\n",
    "  for user in users_with_difficulty:\n",
    "    abtest_settings = get_abtest_settings(user)\n",
    "    if abtest_settings.get('frequency_of_choose_difficulty') == 'survey':\n",
    "      output.append(user)\n",
    "  return output"
   ]
  },
  {
   "cell_type": "code",
   "execution_count": 7,
   "metadata": {},
   "outputs": [],
   "source": [
    "def get_survey_choice_to_num_users_who_choose_it_most_commonly():\n",
    "  output = Counter()\n",
    "  for user in get_users_with_asknext_survey():\n",
    "    most_common_result = get_most_common_survey_result_for_user(user)\n",
    "    if most_common_result == None:\n",
    "      continue\n",
    "    output[most_common_result] += 1\n",
    "  return output"
   ]
  },
  {
   "cell_type": "code",
   "execution_count": 30,
   "metadata": {},
   "outputs": [],
   "source": [
    "def get_most_common_difficulty_for_user(user):\n",
    "  difficulty_counts = get_choose_difficulty_counts_for_user(user)\n",
    "  max_count = 0\n",
    "  max_difficulty = None\n",
    "  for difficulty,count in difficulty_counts.items():\n",
    "    if count > max_count:\n",
    "      max_count = count\n",
    "      max_difficulty = difficulty\n",
    "  return max_difficulty\n",
    "\n",
    "def get_survey_choice_to_difficulty_choice_counts():\n",
    "  output = {\n",
    "    'nextvisit': Counter(),\n",
    "    'hour': Counter(),\n",
    "    'day': Counter(),\n",
    "    'week': Counter(),\n",
    "  }\n",
    "  for user in get_users_with_asknext_survey():\n",
    "    collection_items = get_collection_for_user(user, 'internal:choose_difficulty')\n",
    "    for item in collection_items:\n",
    "      if ('developer_mode' in item) and (item['developer_mode'] == True):\n",
    "        continue\n",
    "      if ('unofficial_version' in item):\n",
    "        continue\n",
    "      if 'action_type' in item and item['action_type'] == 'asknext_chosen':\n",
    "        asknext = item['asknext']\n",
    "        difficulty = item['difficulty']\n",
    "        output[asknext][difficulty] += 1\n",
    "        #output[asknext] += 1\n",
    "  return output\n",
    "\n",
    "def plot_survey_choice_to_difficulty_choice_counts():\n",
    "  plot_dictdict_as_bar(get_survey_choice_to_difficulty_choice_counts())\n",
    "\n",
    "def plot_survey_choice_counts_raw():\n",
    "  survey_results = get_survey_results_across_all_users()\n",
    "  print(survey_results)\n",
    "  print(chisquare(list(survey_results.values())))\n",
    "  plot_dict_as_bar(survey_results)\n",
    "\n",
    "def plot_survey_choice_counts_user_normalized():\n",
    "  survey_choice_to_num_users_who_choose_it_most_commonly = get_survey_choice_to_num_users_who_choose_it_most_commonly()\n",
    "  print(survey_choice_to_num_users_who_choose_it_most_commonly)\n",
    "  print(chisquare(list(survey_choice_to_num_users_who_choose_it_most_commonly.values())))\n",
    "  plot_dict_as_bar(survey_choice_to_num_users_who_choose_it_most_commonly)"
   ]
  },
  {
   "cell_type": "code",
   "execution_count": 27,
   "metadata": {},
   "outputs": [
    {
     "data": {
      "application/vnd.plotly.v1+json": {
       "config": {
        "linkText": "Export to plot.ly",
        "plotlyServerURL": "https://plot.ly",
        "responsive": true,
        "showLink": false
       },
       "data": [
        {
         "name": "nextvisit",
         "type": "bar",
         "uid": "38f6027f-fd64-4f0d-8a6f-cb2ea0456956",
         "x": [
          "nothing",
          "easy",
          "hard",
          "medium"
         ],
         "y": [
          98,
          25,
          13,
          5
         ]
        },
        {
         "name": "hour",
         "type": "bar",
         "uid": "84272016-882d-45ec-bcd6-f48f43687e15",
         "x": [
          "easy",
          "nothing",
          "medium",
          "hard"
         ],
         "y": [
          21,
          16,
          8,
          1
         ]
        },
        {
         "name": "day",
         "type": "bar",
         "uid": "4758fc94-d33f-4247-9dea-312c9b5411c8",
         "x": [
          "nothing",
          "easy",
          "medium",
          "hard"
         ],
         "y": [
          9,
          6,
          5,
          5
         ]
        },
        {
         "name": "week",
         "type": "bar",
         "uid": "e0b24eef-8922-4298-ad0e-5e1e2890e179",
         "x": [
          "nothing",
          "easy",
          "medium",
          "hard"
         ],
         "y": [
          13,
          13,
          7,
          3
         ]
        }
       ],
       "layout": {}
      },
      "text/html": [
       "<div>\n",
       "        \n",
       "        \n",
       "            <div id=\"44f6239c-a15c-41d7-a8f2-3e93616ced85\" class=\"plotly-graph-div\" style=\"height:525px; width:100%;\"></div>\n",
       "            <script type=\"text/javascript\">\n",
       "                require([\"plotly\"], function(Plotly) {\n",
       "                    window.PLOTLYENV=window.PLOTLYENV || {};\n",
       "                    window.PLOTLYENV.BASE_URL='https://plot.ly';\n",
       "                    \n",
       "                if (document.getElementById(\"44f6239c-a15c-41d7-a8f2-3e93616ced85\")) {\n",
       "                    Plotly.newPlot(\n",
       "                        '44f6239c-a15c-41d7-a8f2-3e93616ced85',\n",
       "                        [{\"name\": \"nextvisit\", \"type\": \"bar\", \"uid\": \"1a26ffbb-8c50-47c4-bdfc-a62eabf7c8c6\", \"x\": [\"nothing\", \"easy\", \"hard\", \"medium\"], \"y\": [98, 25, 13, 5]}, {\"name\": \"hour\", \"type\": \"bar\", \"uid\": \"068ffd92-2fc9-4fec-9b44-dda583691a4d\", \"x\": [\"easy\", \"nothing\", \"medium\", \"hard\"], \"y\": [21, 16, 8, 1]}, {\"name\": \"day\", \"type\": \"bar\", \"uid\": \"0427e612-cd35-4b63-a26d-4f46568dd635\", \"x\": [\"nothing\", \"easy\", \"medium\", \"hard\"], \"y\": [9, 6, 5, 5]}, {\"name\": \"week\", \"type\": \"bar\", \"uid\": \"bca69325-6ee1-4b63-9054-0a97cc0744e5\", \"x\": [\"nothing\", \"easy\", \"medium\", \"hard\"], \"y\": [13, 13, 7, 3]}],\n",
       "                        {},\n",
       "                        {\"showLink\": false, \"linkText\": \"Export to plot.ly\", \"plotlyServerURL\": \"https://plot.ly\", \"responsive\": true}\n",
       "                    ).then(function(){\n",
       "                            \n",
       "var gd = document.getElementById('44f6239c-a15c-41d7-a8f2-3e93616ced85');\n",
       "var x = new MutationObserver(function (mutations, observer) {{\n",
       "        var display = window.getComputedStyle(gd).display;\n",
       "        if (!display || display === 'none') {{\n",
       "            console.log([gd, 'removed!']);\n",
       "            Plotly.purge(gd);\n",
       "            observer.disconnect();\n",
       "        }}\n",
       "}});\n",
       "\n",
       "// Listen for the removal of the full notebook cells\n",
       "var notebookContainer = gd.closest('#notebook-container');\n",
       "if (notebookContainer) {{\n",
       "    x.observe(notebookContainer, {childList: true});\n",
       "}}\n",
       "\n",
       "// Listen for the clearing of the current output cell\n",
       "var outputEl = gd.closest('.output');\n",
       "if (outputEl) {{\n",
       "    x.observe(outputEl, {childList: true});\n",
       "}}\n",
       "\n",
       "                        })\n",
       "                };\n",
       "                });\n",
       "            </script>\n",
       "        </div>"
      ]
     },
     "metadata": {},
     "output_type": "display_data"
    }
   ],
   "source": [
    "# noexport\n",
    "\n",
    "plot_survey_choice_to_difficulty_choice_counts()"
   ]
  },
  {
   "cell_type": "code",
   "execution_count": null,
   "metadata": {
    "scrolled": false
   },
   "outputs": [],
   "source": []
  },
  {
   "cell_type": "code",
   "execution_count": 29,
   "metadata": {},
   "outputs": [
    {
     "name": "stdout",
     "output_type": "stream",
     "text": [
      "Counter({'nextvisit': 141, 'hour': 46, 'week': 36, 'day': 25})\n",
      "Power_divergenceResult(statistic=137.7741935483871, pvalue=1.1411864168198394e-29)\n"
     ]
    },
    {
     "data": {
      "application/vnd.plotly.v1+json": {
       "config": {
        "linkText": "Export to plot.ly",
        "plotlyServerURL": "https://plot.ly",
        "responsive": true,
        "showLink": false
       },
       "data": [
        {
         "type": "bar",
         "uid": "415077cf-9216-44a1-a45b-841a16e4870a",
         "x": [
          "nextvisit",
          "hour",
          "week",
          "day"
         ],
         "y": [
          141,
          46,
          36,
          25
         ]
        }
       ],
       "layout": {}
      },
      "text/html": [
       "<div>\n",
       "        \n",
       "        \n",
       "            <div id=\"259e615b-4884-48e2-9ddf-5c5459246249\" class=\"plotly-graph-div\" style=\"height:525px; width:100%;\"></div>\n",
       "            <script type=\"text/javascript\">\n",
       "                require([\"plotly\"], function(Plotly) {\n",
       "                    window.PLOTLYENV=window.PLOTLYENV || {};\n",
       "                    window.PLOTLYENV.BASE_URL='https://plot.ly';\n",
       "                    \n",
       "                if (document.getElementById(\"259e615b-4884-48e2-9ddf-5c5459246249\")) {\n",
       "                    Plotly.newPlot(\n",
       "                        '259e615b-4884-48e2-9ddf-5c5459246249',\n",
       "                        [{\"type\": \"bar\", \"uid\": \"37b4f061-063b-4f92-8ac0-ae5fa10dfc61\", \"x\": [\"nextvisit\", \"hour\", \"week\", \"day\"], \"y\": [141, 46, 36, 25]}],\n",
       "                        {},\n",
       "                        {\"showLink\": false, \"linkText\": \"Export to plot.ly\", \"plotlyServerURL\": \"https://plot.ly\", \"responsive\": true}\n",
       "                    ).then(function(){\n",
       "                            \n",
       "var gd = document.getElementById('259e615b-4884-48e2-9ddf-5c5459246249');\n",
       "var x = new MutationObserver(function (mutations, observer) {{\n",
       "        var display = window.getComputedStyle(gd).display;\n",
       "        if (!display || display === 'none') {{\n",
       "            console.log([gd, 'removed!']);\n",
       "            Plotly.purge(gd);\n",
       "            observer.disconnect();\n",
       "        }}\n",
       "}});\n",
       "\n",
       "// Listen for the removal of the full notebook cells\n",
       "var notebookContainer = gd.closest('#notebook-container');\n",
       "if (notebookContainer) {{\n",
       "    x.observe(notebookContainer, {childList: true});\n",
       "}}\n",
       "\n",
       "// Listen for the clearing of the current output cell\n",
       "var outputEl = gd.closest('.output');\n",
       "if (outputEl) {{\n",
       "    x.observe(outputEl, {childList: true});\n",
       "}}\n",
       "\n",
       "                        })\n",
       "                };\n",
       "                });\n",
       "            </script>\n",
       "        </div>"
      ]
     },
     "metadata": {},
     "output_type": "display_data"
    }
   ],
   "source": [
    "# noexport\n",
    "\n",
    "plot_survey_choice_counts_raw()"
   ]
  },
  {
   "cell_type": "code",
   "execution_count": 32,
   "metadata": {},
   "outputs": [
    {
     "name": "stdout",
     "output_type": "stream",
     "text": [
      "Counter({'nextvisit': 23, 'week': 19, 'hour': 9, 'day': 9})\n",
      "Power_divergenceResult(statistic=10.133333333333333, pvalue=0.017466100712735806)\n"
     ]
    },
    {
     "data": {
      "application/vnd.plotly.v1+json": {
       "config": {
        "linkText": "Export to plot.ly",
        "plotlyServerURL": "https://plot.ly",
        "responsive": true,
        "showLink": false
       },
       "data": [
        {
         "type": "bar",
         "uid": "c77ecd30-b6ad-457e-91d7-85eef763bca1",
         "x": [
          "nextvisit",
          "week",
          "hour",
          "day"
         ],
         "y": [
          23,
          19,
          9,
          9
         ]
        }
       ],
       "layout": {}
      },
      "text/html": [
       "<div>\n",
       "        \n",
       "        \n",
       "            <div id=\"d14a198f-2aed-409c-933a-6e08abffcb12\" class=\"plotly-graph-div\" style=\"height:525px; width:100%;\"></div>\n",
       "            <script type=\"text/javascript\">\n",
       "                require([\"plotly\"], function(Plotly) {\n",
       "                    window.PLOTLYENV=window.PLOTLYENV || {};\n",
       "                    window.PLOTLYENV.BASE_URL='https://plot.ly';\n",
       "                    \n",
       "                if (document.getElementById(\"d14a198f-2aed-409c-933a-6e08abffcb12\")) {\n",
       "                    Plotly.newPlot(\n",
       "                        'd14a198f-2aed-409c-933a-6e08abffcb12',\n",
       "                        [{\"type\": \"bar\", \"uid\": \"bd22bdbd-54f6-40f5-83e0-a23ec10171e6\", \"x\": [\"nextvisit\", \"week\", \"hour\", \"day\"], \"y\": [23, 19, 9, 9]}],\n",
       "                        {},\n",
       "                        {\"showLink\": false, \"linkText\": \"Export to plot.ly\", \"plotlyServerURL\": \"https://plot.ly\", \"responsive\": true}\n",
       "                    ).then(function(){\n",
       "                            \n",
       "var gd = document.getElementById('d14a198f-2aed-409c-933a-6e08abffcb12');\n",
       "var x = new MutationObserver(function (mutations, observer) {{\n",
       "        var display = window.getComputedStyle(gd).display;\n",
       "        if (!display || display === 'none') {{\n",
       "            console.log([gd, 'removed!']);\n",
       "            Plotly.purge(gd);\n",
       "            observer.disconnect();\n",
       "        }}\n",
       "}});\n",
       "\n",
       "// Listen for the removal of the full notebook cells\n",
       "var notebookContainer = gd.closest('#notebook-container');\n",
       "if (notebookContainer) {{\n",
       "    x.observe(notebookContainer, {childList: true});\n",
       "}}\n",
       "\n",
       "// Listen for the clearing of the current output cell\n",
       "var outputEl = gd.closest('.output');\n",
       "if (outputEl) {{\n",
       "    x.observe(outputEl, {childList: true});\n",
       "}}\n",
       "\n",
       "                        })\n",
       "                };\n",
       "                });\n",
       "            </script>\n",
       "        </div>"
      ]
     },
     "metadata": {},
     "output_type": "display_data"
    }
   ],
   "source": [
    "# noexport\n",
    "\n",
    "plot_survey_choice_counts_user_normalized()"
   ]
  }
 ],
 "metadata": {
  "kernelspec": {
   "display_name": "Python 3",
   "language": "python",
   "name": "python3"
  },
  "language_info": {
   "codemirror_mode": {
    "name": "ipython",
    "version": 3
   },
   "file_extension": ".py",
   "mimetype": "text/x-python",
   "name": "python",
   "nbconvert_exporter": "python",
   "pygments_lexer": "ipython3",
   "version": "3.7.2"
  }
 },
 "nbformat": 4,
 "nbformat_minor": 2
}
