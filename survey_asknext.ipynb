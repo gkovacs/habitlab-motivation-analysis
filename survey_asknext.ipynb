{
 "cells": [
  {
   "cell_type": "code",
   "execution_count": 1,
   "metadata": {},
   "outputs": [
    {
     "name": "stdout",
     "output_type": "stream",
     "text": [
      "[NbConvertApp] Converting notebook survey_asknext.ipynb to python\r\n"
     ]
    }
   ],
   "source": [
    "# noexport\n",
    "!typech survey_asknext.ipynb"
   ]
  },
  {
   "cell_type": "code",
   "execution_count": 2,
   "metadata": {},
   "outputs": [
    {
     "data": {
      "text/html": [
       "<script type=\"text/javascript\">window.PlotlyConfig = {MathJaxConfig: 'local'};</script><script type=\"text/javascript\">if (window.MathJax) {MathJax.Hub.Config({SVG: {font: \"STIX-Web\"}});}</script><script>requirejs.config({paths: { 'plotly': ['https://cdn.plot.ly/plotly-latest.min']},});if(!window._Plotly) {require(['plotly'],function(plotly) {window._Plotly=plotly;});}</script>"
      ],
      "text/vnd.plotly.v1+html": [
       "<script type=\"text/javascript\">window.PlotlyConfig = {MathJaxConfig: 'local'};</script><script type=\"text/javascript\">if (window.MathJax) {MathJax.Hub.Config({SVG: {font: \"STIX-Web\"}});}</script><script>requirejs.config({paths: { 'plotly': ['https://cdn.plot.ly/plotly-latest.min']},});if(!window._Plotly) {require(['plotly'],function(plotly) {window._Plotly=plotly;});}</script>"
      ]
     },
     "metadata": {},
     "output_type": "display_data"
    },
    {
     "data": {
      "text/html": [
       "<script type=\"text/javascript\">window.PlotlyConfig = {MathJaxConfig: 'local'};</script><script type=\"text/javascript\">if (window.MathJax) {MathJax.Hub.Config({SVG: {font: \"STIX-Web\"}});}</script><script>requirejs.config({paths: { 'plotly': ['https://cdn.plot.ly/plotly-latest.min']},});if(!window._Plotly) {require(['plotly'],function(plotly) {window._Plotly=plotly;});}</script>"
      ],
      "text/vnd.plotly.v1+html": [
       "<script type=\"text/javascript\">window.PlotlyConfig = {MathJaxConfig: 'local'};</script><script type=\"text/javascript\">if (window.MathJax) {MathJax.Hub.Config({SVG: {font: \"STIX-Web\"}});}</script><script>requirejs.config({paths: { 'plotly': ['https://cdn.plot.ly/plotly-latest.min']},});if(!window._Plotly) {require(['plotly'],function(plotly) {window._Plotly=plotly;});}</script>"
      ]
     },
     "metadata": {},
     "output_type": "display_data"
    }
   ],
   "source": [
    "from train_utils import *\n",
    "from plot_utils import *\n",
    "from scipy.stats import chisquare\n"
   ]
  },
  {
   "cell_type": "code",
   "execution_count": 3,
   "metadata": {},
   "outputs": [],
   "source": [
    "def get_most_common_key_in_dict(d):\n",
    "  most_common = None\n",
    "  for k in sorted(d.keys()):\n",
    "    if most_common == None:\n",
    "      most_common = k\n",
    "    elif d[k] > d[most_common]:\n",
    "      most_common = k\n",
    "  return most_common\n",
    "\n",
    "def get_most_common_survey_result_for_user(user):\n",
    "  results = get_survey_results_for_user(user)\n",
    "  return get_most_common_key_in_dict(results)"
   ]
  },
  {
   "cell_type": "code",
   "execution_count": 4,
   "metadata": {},
   "outputs": [],
   "source": [
    "def get_survey_results_across_all_users():\n",
    "  output = Counter()\n",
    "  for user in get_users_with_asknext_survey():\n",
    "    for k,v in get_survey_results_for_user(user).items():\n",
    "      output[k] += v\n",
    "  return output"
   ]
  },
  {
   "cell_type": "code",
   "execution_count": 5,
   "metadata": {},
   "outputs": [],
   "source": [
    "def get_survey_results_for_user(user):\n",
    "  output = Counter()\n",
    "  collection_items = get_collection_for_user(user, 'internal:choose_difficulty')\n",
    "  for item in collection_items:\n",
    "    if ('developer_mode' in item) and (item['developer_mode'] == True):\n",
    "      continue\n",
    "    if ('unofficial_version' in item):\n",
    "      continue\n",
    "    if 'action_type' in item and item['action_type'] == 'asknext_chosen':\n",
    "      asknext = item['asknext']\n",
    "      output[asknext] += 1\n",
    "  return output"
   ]
  },
  {
   "cell_type": "code",
   "execution_count": 6,
   "metadata": {},
   "outputs": [],
   "source": [
    "def get_users_with_asknext_survey():\n",
    "  output = []\n",
    "  users_with_difficulty = get_users_with_choose_difficulty()\n",
    "  for user in users_with_difficulty:\n",
    "    abtest_settings = get_abtest_settings(user)\n",
    "    if abtest_settings.get('frequency_of_choose_difficulty') == 'survey':\n",
    "      output.append(user)\n",
    "  return output"
   ]
  },
  {
   "cell_type": "code",
   "execution_count": 7,
   "metadata": {},
   "outputs": [],
   "source": [
    "def get_survey_choice_to_num_users_who_choose_it_most_commonly():\n",
    "  output = Counter()\n",
    "  for user in get_users_with_asknext_survey():\n",
    "    most_common_result = get_most_common_survey_result_for_user(user)\n",
    "    if most_common_result == None:\n",
    "      continue\n",
    "    output[most_common_result] += 1\n",
    "  return output"
   ]
  },
  {
   "cell_type": "code",
   "execution_count": 8,
   "metadata": {},
   "outputs": [],
   "source": [
    "def get_most_common_difficulty_for_user(user):\n",
    "  difficulty_counts = get_choose_difficulty_counts_for_user(user)\n",
    "  max_count = 0\n",
    "  max_difficulty = None\n",
    "  for difficulty,count in difficulty_counts.items():\n",
    "    if count > max_count:\n",
    "      max_count = count\n",
    "      max_difficulty = difficulty\n",
    "  return max_difficulty\n",
    "\n",
    "def get_survey_choice_to_difficulty_choice_counts():\n",
    "  output = {\n",
    "    'nextvisit': Counter(),\n",
    "    'hour': Counter(),\n",
    "    'day': Counter(),\n",
    "    'week': Counter(),\n",
    "  }\n",
    "  for user in get_users_with_asknext_survey():\n",
    "    collection_items = get_collection_for_user(user, 'internal:choose_difficulty')\n",
    "    for item in collection_items:\n",
    "      if ('developer_mode' in item) and (item['developer_mode'] == True):\n",
    "        continue\n",
    "      if ('unofficial_version' in item):\n",
    "        continue\n",
    "      if 'action_type' in item and item['action_type'] == 'asknext_chosen':\n",
    "        asknext = item['asknext']\n",
    "        difficulty = item['difficulty']\n",
    "        output[asknext][difficulty] += 1\n",
    "        #output[asknext] += 1\n",
    "  return output\n",
    "\n",
    "def plot_survey_choice_to_difficulty_choice_counts():\n",
    "  plot_dictdict_as_bar(get_survey_choice_to_difficulty_choice_counts())\n",
    "\n",
    "def plot_survey_choice_counts_raw():\n",
    "  survey_results = get_survey_results_across_all_users()\n",
    "  print(survey_results)\n",
    "  print(chisquare(list(survey_results.values())))\n",
    "  plot_dict_as_bar(survey_results)\n",
    "\n",
    "def plot_survey_choice_counts_user_normalized():\n",
    "  survey_choice_to_num_users_who_choose_it_most_commonly = get_survey_choice_to_num_users_who_choose_it_most_commonly()\n",
    "  print(survey_choice_to_num_users_who_choose_it_most_commonly)\n",
    "  print(chisquare(list(survey_choice_to_num_users_who_choose_it_most_commonly.values())))\n",
    "  plot_dict_as_bar(survey_choice_to_num_users_who_choose_it_most_commonly)"
   ]
  },
  {
   "cell_type": "code",
   "execution_count": 12,
   "metadata": {},
   "outputs": [
    {
     "data": {
      "application/vnd.plotly.v1+json": {
       "config": {
        "linkText": "Export to plot.ly",
        "plotlyServerURL": "https://plot.ly",
        "showLink": false
       },
       "data": [
        {
         "name": "nextvisit",
         "type": "bar",
         "uid": "ef7129ef-dc1c-47dc-a63f-0ffbb39ee73a",
         "x": [
          "nothing",
          "easy",
          "medium",
          "hard"
         ],
         "y": [
          325,
          52,
          26,
          17
         ]
        },
        {
         "name": "hour",
         "type": "bar",
         "uid": "cf7ef140-ec83-40e8-9a43-488cc2ebd9f7",
         "x": [
          "easy",
          "nothing",
          "medium",
          "hard"
         ],
         "y": [
          61,
          25,
          20,
          1
         ]
        },
        {
         "name": "day",
         "type": "bar",
         "uid": "549fc70f-b88c-4e92-a687-9bd556d3d689",
         "x": [
          "nothing",
          "easy",
          "hard",
          "medium"
         ],
         "y": [
          15,
          11,
          9,
          6
         ]
        },
        {
         "name": "week",
         "type": "bar",
         "uid": "06175936-0f52-40e5-ad30-4cb4fc3104f9",
         "x": [
          "nothing",
          "easy",
          "medium",
          "hard"
         ],
         "y": [
          21,
          18,
          11,
          5
         ]
        }
       ],
       "layout": {}
      },
      "text/html": [
       "<div id=\"3b11b444-b3ca-4aa7-87d0-0a8bbfb97672\" style=\"height: 525px; width: 100%;\" class=\"plotly-graph-div\"></div><script type=\"text/javascript\">require([\"plotly\"], function(Plotly) { window.PLOTLYENV=window.PLOTLYENV || {};window.PLOTLYENV.BASE_URL=\"https://plot.ly\";Plotly.newPlot(\"3b11b444-b3ca-4aa7-87d0-0a8bbfb97672\", [{\"name\": \"nextvisit\", \"x\": [\"nothing\", \"easy\", \"medium\", \"hard\"], \"y\": [325, 52, 26, 17], \"type\": \"bar\", \"uid\": \"503d5a79-bd69-421b-8c55-ac19ad5ef62d\"}, {\"name\": \"hour\", \"x\": [\"easy\", \"nothing\", \"medium\", \"hard\"], \"y\": [61, 25, 20, 1], \"type\": \"bar\", \"uid\": \"9026717f-49d8-4e0d-b496-d2b5896cbeab\"}, {\"name\": \"day\", \"x\": [\"nothing\", \"easy\", \"hard\", \"medium\"], \"y\": [15, 11, 9, 6], \"type\": \"bar\", \"uid\": \"7e8629f6-7aa1-44d5-adcf-aa2083d6f34a\"}, {\"name\": \"week\", \"x\": [\"nothing\", \"easy\", \"medium\", \"hard\"], \"y\": [21, 18, 11, 5], \"type\": \"bar\", \"uid\": \"e5cdfff0-dfb3-4f59-bbf8-ac1572e3ddaa\"}], {}, {\"showLink\": false, \"linkText\": \"Export to plot.ly\", \"plotlyServerURL\": \"https://plot.ly\"})});</script><script type=\"text/javascript\">window.addEventListener(\"resize\", function(){window._Plotly.Plots.resize(document.getElementById(\"3b11b444-b3ca-4aa7-87d0-0a8bbfb97672\"));});</script>"
      ],
      "text/vnd.plotly.v1+html": [
       "<div id=\"3b11b444-b3ca-4aa7-87d0-0a8bbfb97672\" style=\"height: 525px; width: 100%;\" class=\"plotly-graph-div\"></div><script type=\"text/javascript\">require([\"plotly\"], function(Plotly) { window.PLOTLYENV=window.PLOTLYENV || {};window.PLOTLYENV.BASE_URL=\"https://plot.ly\";Plotly.newPlot(\"3b11b444-b3ca-4aa7-87d0-0a8bbfb97672\", [{\"name\": \"nextvisit\", \"x\": [\"nothing\", \"easy\", \"medium\", \"hard\"], \"y\": [325, 52, 26, 17], \"type\": \"bar\", \"uid\": \"503d5a79-bd69-421b-8c55-ac19ad5ef62d\"}, {\"name\": \"hour\", \"x\": [\"easy\", \"nothing\", \"medium\", \"hard\"], \"y\": [61, 25, 20, 1], \"type\": \"bar\", \"uid\": \"9026717f-49d8-4e0d-b496-d2b5896cbeab\"}, {\"name\": \"day\", \"x\": [\"nothing\", \"easy\", \"hard\", \"medium\"], \"y\": [15, 11, 9, 6], \"type\": \"bar\", \"uid\": \"7e8629f6-7aa1-44d5-adcf-aa2083d6f34a\"}, {\"name\": \"week\", \"x\": [\"nothing\", \"easy\", \"medium\", \"hard\"], \"y\": [21, 18, 11, 5], \"type\": \"bar\", \"uid\": \"e5cdfff0-dfb3-4f59-bbf8-ac1572e3ddaa\"}], {}, {\"showLink\": false, \"linkText\": \"Export to plot.ly\", \"plotlyServerURL\": \"https://plot.ly\"})});</script><script type=\"text/javascript\">window.addEventListener(\"resize\", function(){window._Plotly.Plots.resize(document.getElementById(\"3b11b444-b3ca-4aa7-87d0-0a8bbfb97672\"));});</script>"
      ]
     },
     "metadata": {},
     "output_type": "display_data"
    }
   ],
   "source": [
    "# noexport\n",
    "\n",
    "plot_survey_choice_to_difficulty_choice_counts()"
   ]
  },
  {
   "cell_type": "code",
   "execution_count": null,
   "metadata": {
    "scrolled": false
   },
   "outputs": [],
   "source": []
  },
  {
   "cell_type": "code",
   "execution_count": 10,
   "metadata": {},
   "outputs": [
    {
     "name": "stdout",
     "output_type": "stream",
     "text": [
      "Counter({'nextvisit': 420, 'hour': 107, 'week': 55, 'day': 41})\n",
      "Power_divergenceResult(statistic=613.3081861958267, pvalue=1.313122826358385e-132)\n"
     ]
    },
    {
     "data": {
      "application/vnd.plotly.v1+json": {
       "config": {
        "linkText": "Export to plot.ly",
        "plotlyServerURL": "https://plot.ly",
        "showLink": false
       },
       "data": [
        {
         "type": "bar",
         "uid": "49b86386-9b3c-48a1-acbb-e25eb38acf73",
         "x": [
          "nextvisit",
          "hour",
          "week",
          "day"
         ],
         "y": [
          420,
          107,
          55,
          41
         ]
        }
       ],
       "layout": {}
      },
      "text/html": [
       "<div id=\"d6df56cc-2ad4-4721-84e3-904ef368b5d0\" style=\"height: 525px; width: 100%;\" class=\"plotly-graph-div\"></div><script type=\"text/javascript\">require([\"plotly\"], function(Plotly) { window.PLOTLYENV=window.PLOTLYENV || {};window.PLOTLYENV.BASE_URL=\"https://plot.ly\";Plotly.newPlot(\"d6df56cc-2ad4-4721-84e3-904ef368b5d0\", [{\"x\": [\"nextvisit\", \"hour\", \"week\", \"day\"], \"y\": [420, 107, 55, 41], \"type\": \"bar\", \"uid\": \"4495673c-0ab4-4eeb-bae1-f032aa3226e3\"}], {}, {\"showLink\": false, \"linkText\": \"Export to plot.ly\", \"plotlyServerURL\": \"https://plot.ly\"})});</script><script type=\"text/javascript\">window.addEventListener(\"resize\", function(){window._Plotly.Plots.resize(document.getElementById(\"d6df56cc-2ad4-4721-84e3-904ef368b5d0\"));});</script>"
      ],
      "text/vnd.plotly.v1+html": [
       "<div id=\"d6df56cc-2ad4-4721-84e3-904ef368b5d0\" style=\"height: 525px; width: 100%;\" class=\"plotly-graph-div\"></div><script type=\"text/javascript\">require([\"plotly\"], function(Plotly) { window.PLOTLYENV=window.PLOTLYENV || {};window.PLOTLYENV.BASE_URL=\"https://plot.ly\";Plotly.newPlot(\"d6df56cc-2ad4-4721-84e3-904ef368b5d0\", [{\"x\": [\"nextvisit\", \"hour\", \"week\", \"day\"], \"y\": [420, 107, 55, 41], \"type\": \"bar\", \"uid\": \"4495673c-0ab4-4eeb-bae1-f032aa3226e3\"}], {}, {\"showLink\": false, \"linkText\": \"Export to plot.ly\", \"plotlyServerURL\": \"https://plot.ly\"})});</script><script type=\"text/javascript\">window.addEventListener(\"resize\", function(){window._Plotly.Plots.resize(document.getElementById(\"d6df56cc-2ad4-4721-84e3-904ef368b5d0\"));});</script>"
      ]
     },
     "metadata": {},
     "output_type": "display_data"
    }
   ],
   "source": [
    "# noexport\n",
    "\n",
    "plot_survey_choice_counts_raw()"
   ]
  },
  {
   "cell_type": "code",
   "execution_count": 11,
   "metadata": {},
   "outputs": [
    {
     "name": "stdout",
     "output_type": "stream",
     "text": [
      "Counter({'nextvisit': 36, 'week': 22, 'day': 15, 'hour': 14})\n",
      "Power_divergenceResult(statistic=14.195402298850574, pvalue=0.0026508890973803907)\n"
     ]
    },
    {
     "data": {
      "application/vnd.plotly.v1+json": {
       "config": {
        "linkText": "Export to plot.ly",
        "plotlyServerURL": "https://plot.ly",
        "showLink": false
       },
       "data": [
        {
         "type": "bar",
         "uid": "c9ee7b75-b1b4-41ca-98ad-6d9c3fb49b20",
         "x": [
          "nextvisit",
          "week",
          "day",
          "hour"
         ],
         "y": [
          36,
          22,
          15,
          14
         ]
        }
       ],
       "layout": {}
      },
      "text/html": [
       "<div id=\"aadaff63-a0bd-4a30-a4a8-dcca4dc98f77\" style=\"height: 525px; width: 100%;\" class=\"plotly-graph-div\"></div><script type=\"text/javascript\">require([\"plotly\"], function(Plotly) { window.PLOTLYENV=window.PLOTLYENV || {};window.PLOTLYENV.BASE_URL=\"https://plot.ly\";Plotly.newPlot(\"aadaff63-a0bd-4a30-a4a8-dcca4dc98f77\", [{\"x\": [\"nextvisit\", \"week\", \"day\", \"hour\"], \"y\": [36, 22, 15, 14], \"type\": \"bar\", \"uid\": \"aa798daa-134a-460e-a064-ed75fd8bc5e1\"}], {}, {\"showLink\": false, \"linkText\": \"Export to plot.ly\", \"plotlyServerURL\": \"https://plot.ly\"})});</script><script type=\"text/javascript\">window.addEventListener(\"resize\", function(){window._Plotly.Plots.resize(document.getElementById(\"aadaff63-a0bd-4a30-a4a8-dcca4dc98f77\"));});</script>"
      ],
      "text/vnd.plotly.v1+html": [
       "<div id=\"aadaff63-a0bd-4a30-a4a8-dcca4dc98f77\" style=\"height: 525px; width: 100%;\" class=\"plotly-graph-div\"></div><script type=\"text/javascript\">require([\"plotly\"], function(Plotly) { window.PLOTLYENV=window.PLOTLYENV || {};window.PLOTLYENV.BASE_URL=\"https://plot.ly\";Plotly.newPlot(\"aadaff63-a0bd-4a30-a4a8-dcca4dc98f77\", [{\"x\": [\"nextvisit\", \"week\", \"day\", \"hour\"], \"y\": [36, 22, 15, 14], \"type\": \"bar\", \"uid\": \"aa798daa-134a-460e-a064-ed75fd8bc5e1\"}], {}, {\"showLink\": false, \"linkText\": \"Export to plot.ly\", \"plotlyServerURL\": \"https://plot.ly\"})});</script><script type=\"text/javascript\">window.addEventListener(\"resize\", function(){window._Plotly.Plots.resize(document.getElementById(\"aadaff63-a0bd-4a30-a4a8-dcca4dc98f77\"));});</script>"
      ]
     },
     "metadata": {},
     "output_type": "display_data"
    }
   ],
   "source": [
    "# noexport\n",
    "\n",
    "plot_survey_choice_counts_user_normalized()"
   ]
  }
 ],
 "metadata": {
  "kernelspec": {
   "display_name": "Python 3",
   "language": "python",
   "name": "python3"
  },
  "language_info": {
   "codemirror_mode": {
    "name": "ipython",
    "version": 3
   },
   "file_extension": ".py",
   "mimetype": "text/x-python",
   "name": "python",
   "nbconvert_exporter": "python",
   "pygments_lexer": "ipython3",
   "version": "3.7.2"
  }
 },
 "nbformat": 4,
 "nbformat_minor": 2
}
