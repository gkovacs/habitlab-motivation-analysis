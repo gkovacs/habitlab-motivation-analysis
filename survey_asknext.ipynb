{
 "cells": [
  {
   "cell_type": "code",
   "execution_count": 1,
   "metadata": {},
   "outputs": [
    {
     "name": "stdout",
     "output_type": "stream",
     "text": [
      "[NbConvertApp] Converting notebook survey_asknext.ipynb to python\r\n"
     ]
    }
   ],
   "source": [
    "# noexport\n",
    "!typech survey_asknext.ipynb"
   ]
  },
  {
   "cell_type": "code",
   "execution_count": 2,
   "metadata": {},
   "outputs": [
    {
     "data": {
      "text/html": [
       "<script type=\"text/javascript\">window.PlotlyConfig = {MathJaxConfig: 'local'};</script><script type=\"text/javascript\">if (window.MathJax) {MathJax.Hub.Config({SVG: {font: \"STIX-Web\"}});}</script><script>requirejs.config({paths: { 'plotly': ['https://cdn.plot.ly/plotly-latest.min']},});if(!window._Plotly) {require(['plotly'],function(plotly) {window._Plotly=plotly;});}</script>"
      ],
      "text/vnd.plotly.v1+html": [
       "<script type=\"text/javascript\">window.PlotlyConfig = {MathJaxConfig: 'local'};</script><script type=\"text/javascript\">if (window.MathJax) {MathJax.Hub.Config({SVG: {font: \"STIX-Web\"}});}</script><script>requirejs.config({paths: { 'plotly': ['https://cdn.plot.ly/plotly-latest.min']},});if(!window._Plotly) {require(['plotly'],function(plotly) {window._Plotly=plotly;});}</script>"
      ]
     },
     "metadata": {},
     "output_type": "display_data"
    },
    {
     "data": {
      "text/html": [
       "<script type=\"text/javascript\">window.PlotlyConfig = {MathJaxConfig: 'local'};</script><script type=\"text/javascript\">if (window.MathJax) {MathJax.Hub.Config({SVG: {font: \"STIX-Web\"}});}</script><script>requirejs.config({paths: { 'plotly': ['https://cdn.plot.ly/plotly-latest.min']},});if(!window._Plotly) {require(['plotly'],function(plotly) {window._Plotly=plotly;});}</script>"
      ],
      "text/vnd.plotly.v1+html": [
       "<script type=\"text/javascript\">window.PlotlyConfig = {MathJaxConfig: 'local'};</script><script type=\"text/javascript\">if (window.MathJax) {MathJax.Hub.Config({SVG: {font: \"STIX-Web\"}});}</script><script>requirejs.config({paths: { 'plotly': ['https://cdn.plot.ly/plotly-latest.min']},});if(!window._Plotly) {require(['plotly'],function(plotly) {window._Plotly=plotly;});}</script>"
      ]
     },
     "metadata": {},
     "output_type": "display_data"
    }
   ],
   "source": [
    "from train_utils import *\n",
    "from plot_utils import *\n",
    "from scipy.stats import chisquare\n"
   ]
  },
  {
   "cell_type": "code",
   "execution_count": 3,
   "metadata": {},
   "outputs": [],
   "source": [
    "def get_most_common_key_in_dict(d):\n",
    "  most_common = None\n",
    "  for k in sorted(d.keys()):\n",
    "    if most_common == None:\n",
    "      most_common = k\n",
    "    elif d[k] > d[most_common]:\n",
    "      most_common = k\n",
    "  return most_common\n",
    "\n",
    "def get_most_common_survey_result_for_user(user):\n",
    "  results = get_survey_results_for_user(user)\n",
    "  return get_most_common_key_in_dict(results)\n",
    "\n",
    "def get_most_common_survey_result_for_install(install):\n",
    "  results = get_survey_results_for_install(install)\n",
    "  return get_most_common_key_in_dict(results)"
   ]
  },
  {
   "cell_type": "code",
   "execution_count": 4,
   "metadata": {},
   "outputs": [],
   "source": [
    "def get_survey_results_across_all_installs():\n",
    "  output = Counter()\n",
    "  for install in get_installs_with_asknext_survey():\n",
    "    for k,v in get_survey_results_for_install(install).items():\n",
    "      output[k] += v\n",
    "  return output\n",
    "\n",
    "def get_survey_results_across_all_users():\n",
    "  output = Counter()\n",
    "  for user in get_users_with_asknext_survey():\n",
    "    for k,v in get_survey_results_for_user(user).items():\n",
    "      output[k] += v\n",
    "  return output"
   ]
  },
  {
   "cell_type": "code",
   "execution_count": 5,
   "metadata": {},
   "outputs": [],
   "source": [
    "def get_survey_results_for_install(install):\n",
    "  output = Counter()\n",
    "  collection_items = get_collection_for_install(install, 'internal:choose_difficulty')\n",
    "  for item in collection_items:\n",
    "    if ('developer_mode' in item) and (item['developer_mode'] == True):\n",
    "      continue\n",
    "    if ('unofficial_version' in item):\n",
    "      continue\n",
    "    if 'action_type' in item and item['action_type'] == 'asknext_chosen':\n",
    "      asknext = item['asknext']\n",
    "      output[asknext] += 1\n",
    "  return output\n",
    "\n",
    "def get_survey_results_for_user(user):\n",
    "  output = Counter()\n",
    "  collection_items = get_collection_for_user(user, 'internal:choose_difficulty')\n",
    "  for item in collection_items:\n",
    "    if ('developer_mode' in item) and (item['developer_mode'] == True):\n",
    "      continue\n",
    "    if ('unofficial_version' in item):\n",
    "      continue\n",
    "    if 'action_type' in item and item['action_type'] == 'asknext_chosen':\n",
    "      asknext = item['asknext']\n",
    "      output[asknext] += 1\n",
    "  return output"
   ]
  },
  {
   "cell_type": "code",
   "execution_count": 6,
   "metadata": {},
   "outputs": [],
   "source": [
    "def get_installs_with_asknext_survey():\n",
    "  output = []\n",
    "  installs_with_difficulty = get_installs_with_choose_difficulty()\n",
    "  for install in installs_with_difficulty:\n",
    "    abtest_settings = get_abtest_settings_for_install(install)\n",
    "    if abtest_settings.get('frequency_of_choose_difficulty') == 'survey':\n",
    "      output.append(install)\n",
    "  return output\n",
    "\n",
    "def get_users_with_asknext_survey():\n",
    "  output = []\n",
    "  users_with_difficulty = get_users_with_choose_difficulty()\n",
    "  for user in users_with_difficulty:\n",
    "    abtest_settings = get_abtest_settings(user)\n",
    "    if abtest_settings.get('frequency_of_choose_difficulty') == 'survey':\n",
    "      output.append(user)\n",
    "  return output"
   ]
  },
  {
   "cell_type": "code",
   "execution_count": 7,
   "metadata": {},
   "outputs": [],
   "source": [
    "def get_survey_choice_to_num_installs_who_choose_it_most_commonly():\n",
    "  output = Counter()\n",
    "  for install in get_installs_with_asknext_survey():\n",
    "    most_common_result = get_most_common_survey_result_for_install(install)\n",
    "    if most_common_result == None:\n",
    "      continue\n",
    "    output[most_common_result] += 1\n",
    "  return output\n",
    "\n",
    "def get_survey_choice_to_num_users_who_choose_it_most_commonly():\n",
    "  output = Counter()\n",
    "  for user in get_users_with_asknext_survey():\n",
    "    most_common_result = get_most_common_survey_result_for_user(user)\n",
    "    if most_common_result == None:\n",
    "      continue\n",
    "    output[most_common_result] += 1\n",
    "  return output"
   ]
  },
  {
   "cell_type": "code",
   "execution_count": 14,
   "metadata": {},
   "outputs": [],
   "source": [
    "def get_most_common_difficulty_for_user(user):\n",
    "  difficulty_counts = get_choose_difficulty_counts_for_user(user)\n",
    "  max_count = 0\n",
    "  max_difficulty = None\n",
    "  for difficulty,count in difficulty_counts.items():\n",
    "    if count > max_count:\n",
    "      max_count = count\n",
    "      max_difficulty = difficulty\n",
    "  return max_difficulty\n",
    "\n",
    "def get_survey_choice_to_difficulty_choice_counts():\n",
    "  output = {\n",
    "    'nextvisit': Counter(),\n",
    "    'hour': Counter(),\n",
    "    'day': Counter(),\n",
    "    'week': Counter(),\n",
    "  }\n",
    "  for user in get_users_with_asknext_survey():\n",
    "    collection_items = get_collection_for_user(user, 'internal:choose_difficulty')\n",
    "    for item in collection_items:\n",
    "      if ('developer_mode' in item) and (item['developer_mode'] == True):\n",
    "        continue\n",
    "      if ('unofficial_version' in item):\n",
    "        continue\n",
    "      if 'action_type' in item and item['action_type'] == 'asknext_chosen':\n",
    "        asknext = item['asknext']\n",
    "        difficulty = item['difficulty']\n",
    "        output[asknext][difficulty] += 1\n",
    "        #output[asknext] += 1\n",
    "  return output\n",
    "\n",
    "def plot_survey_choice_to_difficulty_choice_counts():\n",
    "  plot_dictdict_as_bar(\n",
    "    get_survey_choice_to_difficulty_choice_counts(),\n",
    "    ylabel = 'Number of times chosen',\n",
    "    xlabel = 'Intervention difficulty chosen, along with when to ask about difficulty again',\n",
    "    title = 'Choices for intervention difficulty and when to ask about difficulty again',\n",
    "    remap_labels = {'easy': 'Easy', 'medium': 'Medium', 'hard': 'Hard', 'nothing': 'Nothing'},\n",
    "    font=dict(size=18),\n",
    "  )\n",
    "\n",
    "def plot_survey_choice_counts_raw_per_user():\n",
    "  survey_results = get_survey_results_across_all_users()\n",
    "  print(survey_results)\n",
    "  print(chisquare(list(survey_results.values())))\n",
    "  plot_dict_as_bar(\n",
    "    survey_results,\n",
    "    ylabel = 'Number of times chosen',\n",
    "    xlabel = 'Choice for when to ask next about intervention difficulty',\n",
    "    title = 'Choice for when to ask next about intervention difficulty, raw counts'\n",
    "  )\n",
    "\n",
    "def plot_survey_choice_counts_raw_per_install():\n",
    "  survey_results = get_survey_results_across_all_installs()\n",
    "  print(survey_results)\n",
    "  print(chisquare(list(survey_results.values())))\n",
    "  plot_dict_as_bar(\n",
    "    survey_results,\n",
    "    ylabel = 'Number of times chosen',\n",
    "    xlabel = 'Choice for when to ask next about intervention difficulty',\n",
    "    title = 'Choice for when to ask next about intervention difficulty, raw counts'\n",
    "  )\n",
    "\n",
    "def plot_survey_choice_counts_install_normalized():\n",
    "  survey_choice_to_num_installs_who_choose_it_most_commonly = get_survey_choice_to_num_installs_who_choose_it_most_commonly()\n",
    "  print(survey_choice_to_num_installs_who_choose_it_most_commonly)\n",
    "  print(chisquare(list(survey_choice_to_num_installs_who_choose_it_most_commonly.values())))\n",
    "  plot_dict_as_bar(\n",
    "    survey_choice_to_num_installs_who_choose_it_most_commonly,\n",
    "    ylabel = 'Number of users',\n",
    "    xlabel = 'User\\'s most frequent choice for when to next ask about intervention difficulty',\n",
    "    title = 'Most frequent choice for when to ask next about intervention difficulty, by number of users',\n",
    "  )\n",
    "\n",
    "def plot_survey_choice_counts_user_normalized():\n",
    "  survey_choice_to_num_users_who_choose_it_most_commonly = get_survey_choice_to_num_users_who_choose_it_most_commonly()\n",
    "  print(survey_choice_to_num_users_who_choose_it_most_commonly)\n",
    "  print(chisquare(list(survey_choice_to_num_users_who_choose_it_most_commonly.values())))\n",
    "  plot_dict_as_bar(\n",
    "    survey_choice_to_num_users_who_choose_it_most_commonly,\n",
    "    ylabel = 'Number of users',\n",
    "    xlabel = 'User\\'s most frequent choice for when to next ask about intervention difficulty',\n",
    "    title = 'Most frequent choice for when to ask next about intervention difficulty, by number of users',\n",
    "  )"
   ]
  },
  {
   "cell_type": "code",
   "execution_count": 15,
   "metadata": {},
   "outputs": [
    {
     "data": {
      "application/vnd.plotly.v1+json": {
       "config": {
        "linkText": "Export to plot.ly",
        "plotlyServerURL": "https://plot.ly",
        "showLink": false
       },
       "data": [
        {
         "name": "nextvisit",
         "type": "bar",
         "uid": "acfbd814-7082-44c6-9e07-055346a816e5",
         "x": [
          "nothing",
          "medium",
          "easy",
          "hard"
         ],
         "y": [
          14530,
          746,
          498,
          99
         ]
        },
        {
         "name": "hour",
         "type": "bar",
         "uid": "a1e07014-0e03-4b1c-8745-793458d4db53",
         "x": [
          "nothing",
          "easy",
          "medium",
          "hard"
         ],
         "y": [
          912,
          854,
          118,
          31
         ]
        },
        {
         "name": "day",
         "type": "bar",
         "uid": "53298324-717f-4d25-801a-c93acdab1010",
         "x": [
          "nothing",
          "easy",
          "medium",
          "hard"
         ],
         "y": [
          432,
          339,
          257,
          38
         ]
        },
        {
         "name": "week",
         "type": "bar",
         "uid": "29cc541e-a61b-44d1-a574-347240e5b0ca",
         "x": [
          "nothing",
          "easy",
          "medium",
          "hard"
         ],
         "y": [
          823,
          348,
          287,
          128
         ]
        }
       ],
       "layout": {
        "font": {
         "size": 18
        },
        "title": {
         "text": "Choices for intervention difficulty and when to ask about difficulty again"
        },
        "xaxis": {
         "title": {
          "text": "Intervention difficulty chosen, along with when to ask about difficulty again"
         }
        },
        "yaxis": {
         "title": {
          "text": "Number of times chosen"
         }
        }
       }
      },
      "text/html": [
       "<div id=\"268e6e6e-84e1-45fe-8714-1d490f0fbee0\" style=\"height: 525px; width: 100%;\" class=\"plotly-graph-div\"></div><script type=\"text/javascript\">require([\"plotly\"], function(Plotly) { window.PLOTLYENV=window.PLOTLYENV || {};window.PLOTLYENV.BASE_URL=\"https://plot.ly\";Plotly.newPlot(\"268e6e6e-84e1-45fe-8714-1d490f0fbee0\", [{\"name\": \"nextvisit\", \"x\": [\"nothing\", \"medium\", \"easy\", \"hard\"], \"y\": [14530, 746, 498, 99], \"type\": \"bar\", \"uid\": \"acfbd814-7082-44c6-9e07-055346a816e5\"}, {\"name\": \"hour\", \"x\": [\"nothing\", \"easy\", \"medium\", \"hard\"], \"y\": [912, 854, 118, 31], \"type\": \"bar\", \"uid\": \"a1e07014-0e03-4b1c-8745-793458d4db53\"}, {\"name\": \"day\", \"x\": [\"nothing\", \"easy\", \"medium\", \"hard\"], \"y\": [432, 339, 257, 38], \"type\": \"bar\", \"uid\": \"53298324-717f-4d25-801a-c93acdab1010\"}, {\"name\": \"week\", \"x\": [\"nothing\", \"easy\", \"medium\", \"hard\"], \"y\": [823, 348, 287, 128], \"type\": \"bar\", \"uid\": \"29cc541e-a61b-44d1-a574-347240e5b0ca\"}], {\"font\": {\"size\": 18}, \"title\": {\"text\": \"Choices for intervention difficulty and when to ask about difficulty again\"}, \"xaxis\": {\"title\": {\"text\": \"Intervention difficulty chosen, along with when to ask about difficulty again\"}}, \"yaxis\": {\"title\": {\"text\": \"Number of times chosen\"}}}, {\"showLink\": false, \"linkText\": \"Export to plot.ly\", \"plotlyServerURL\": \"https://plot.ly\"})});</script><script type=\"text/javascript\">window.addEventListener(\"resize\", function(){window._Plotly.Plots.resize(document.getElementById(\"268e6e6e-84e1-45fe-8714-1d490f0fbee0\"));});</script>"
      ],
      "text/vnd.plotly.v1+html": [
       "<div id=\"268e6e6e-84e1-45fe-8714-1d490f0fbee0\" style=\"height: 525px; width: 100%;\" class=\"plotly-graph-div\"></div><script type=\"text/javascript\">require([\"plotly\"], function(Plotly) { window.PLOTLYENV=window.PLOTLYENV || {};window.PLOTLYENV.BASE_URL=\"https://plot.ly\";Plotly.newPlot(\"268e6e6e-84e1-45fe-8714-1d490f0fbee0\", [{\"name\": \"nextvisit\", \"x\": [\"nothing\", \"medium\", \"easy\", \"hard\"], \"y\": [14530, 746, 498, 99], \"type\": \"bar\", \"uid\": \"acfbd814-7082-44c6-9e07-055346a816e5\"}, {\"name\": \"hour\", \"x\": [\"nothing\", \"easy\", \"medium\", \"hard\"], \"y\": [912, 854, 118, 31], \"type\": \"bar\", \"uid\": \"a1e07014-0e03-4b1c-8745-793458d4db53\"}, {\"name\": \"day\", \"x\": [\"nothing\", \"easy\", \"medium\", \"hard\"], \"y\": [432, 339, 257, 38], \"type\": \"bar\", \"uid\": \"53298324-717f-4d25-801a-c93acdab1010\"}, {\"name\": \"week\", \"x\": [\"nothing\", \"easy\", \"medium\", \"hard\"], \"y\": [823, 348, 287, 128], \"type\": \"bar\", \"uid\": \"29cc541e-a61b-44d1-a574-347240e5b0ca\"}], {\"font\": {\"size\": 18}, \"title\": {\"text\": \"Choices for intervention difficulty and when to ask about difficulty again\"}, \"xaxis\": {\"title\": {\"text\": \"Intervention difficulty chosen, along with when to ask about difficulty again\"}}, \"yaxis\": {\"title\": {\"text\": \"Number of times chosen\"}}}, {\"showLink\": false, \"linkText\": \"Export to plot.ly\", \"plotlyServerURL\": \"https://plot.ly\"})});</script><script type=\"text/javascript\">window.addEventListener(\"resize\", function(){window._Plotly.Plots.resize(document.getElementById(\"268e6e6e-84e1-45fe-8714-1d490f0fbee0\"));});</script>"
      ]
     },
     "metadata": {},
     "output_type": "display_data"
    }
   ],
   "source": [
    "# noexport\n",
    "\n",
    "plot_survey_choice_to_difficulty_choice_counts()"
   ]
  },
  {
   "cell_type": "code",
   "execution_count": 10,
   "metadata": {
    "scrolled": false
   },
   "outputs": [
    {
     "name": "stdout",
     "output_type": "stream",
     "text": [
      "Counter({'nextvisit': 19973, 'hour': 2430, 'week': 1815, 'day': 1180})\n",
      "Power_divergenceResult(statistic=39097.19710213403, pvalue=0.0)\n"
     ]
    },
    {
     "data": {
      "application/vnd.plotly.v1+json": {
       "config": {
        "linkText": "Export to plot.ly",
        "plotlyServerURL": "https://plot.ly",
        "showLink": false
       },
       "data": [
        {
         "type": "bar",
         "uid": "f9eb466f-a037-4503-bd32-848ddbb56988",
         "x": [
          "nextvisit",
          "hour",
          "week",
          "day"
         ],
         "y": [
          19973,
          2430,
          1815,
          1180
         ]
        }
       ],
       "layout": {
        "title": {
         "text": "Choice for when to ask next about intervention difficulty, raw counts"
        },
        "xaxis": {
         "title": {
          "text": "Choice for when to ask next about intervention difficulty"
         }
        },
        "yaxis": {
         "title": {
          "text": "Number of times chosen"
         }
        }
       }
      },
      "text/html": [
       "<div id=\"d351c0dc-4d25-4c3c-ab75-27995e582f18\" style=\"height: 525px; width: 100%;\" class=\"plotly-graph-div\"></div><script type=\"text/javascript\">require([\"plotly\"], function(Plotly) { window.PLOTLYENV=window.PLOTLYENV || {};window.PLOTLYENV.BASE_URL=\"https://plot.ly\";Plotly.newPlot(\"d351c0dc-4d25-4c3c-ab75-27995e582f18\", [{\"x\": [\"nextvisit\", \"hour\", \"week\", \"day\"], \"y\": [19973, 2430, 1815, 1180], \"type\": \"bar\", \"uid\": \"f9eb466f-a037-4503-bd32-848ddbb56988\"}], {\"title\": {\"text\": \"Choice for when to ask next about intervention difficulty, raw counts\"}, \"xaxis\": {\"title\": {\"text\": \"Choice for when to ask next about intervention difficulty\"}}, \"yaxis\": {\"title\": {\"text\": \"Number of times chosen\"}}}, {\"showLink\": false, \"linkText\": \"Export to plot.ly\", \"plotlyServerURL\": \"https://plot.ly\"})});</script><script type=\"text/javascript\">window.addEventListener(\"resize\", function(){window._Plotly.Plots.resize(document.getElementById(\"d351c0dc-4d25-4c3c-ab75-27995e582f18\"));});</script>"
      ],
      "text/vnd.plotly.v1+html": [
       "<div id=\"d351c0dc-4d25-4c3c-ab75-27995e582f18\" style=\"height: 525px; width: 100%;\" class=\"plotly-graph-div\"></div><script type=\"text/javascript\">require([\"plotly\"], function(Plotly) { window.PLOTLYENV=window.PLOTLYENV || {};window.PLOTLYENV.BASE_URL=\"https://plot.ly\";Plotly.newPlot(\"d351c0dc-4d25-4c3c-ab75-27995e582f18\", [{\"x\": [\"nextvisit\", \"hour\", \"week\", \"day\"], \"y\": [19973, 2430, 1815, 1180], \"type\": \"bar\", \"uid\": \"f9eb466f-a037-4503-bd32-848ddbb56988\"}], {\"title\": {\"text\": \"Choice for when to ask next about intervention difficulty, raw counts\"}, \"xaxis\": {\"title\": {\"text\": \"Choice for when to ask next about intervention difficulty\"}}, \"yaxis\": {\"title\": {\"text\": \"Number of times chosen\"}}}, {\"showLink\": false, \"linkText\": \"Export to plot.ly\", \"plotlyServerURL\": \"https://plot.ly\"})});</script><script type=\"text/javascript\">window.addEventListener(\"resize\", function(){window._Plotly.Plots.resize(document.getElementById(\"d351c0dc-4d25-4c3c-ab75-27995e582f18\"));});</script>"
      ]
     },
     "metadata": {},
     "output_type": "display_data"
    }
   ],
   "source": [
    "# noexport\n",
    "\n",
    "plot_survey_choice_counts_raw_per_install()"
   ]
  },
  {
   "cell_type": "code",
   "execution_count": 11,
   "metadata": {},
   "outputs": [
    {
     "name": "stdout",
     "output_type": "stream",
     "text": [
      "Counter({'nextvisit': 15873, 'hour': 1915, 'week': 1586, 'day': 1066})\n",
      "Power_divergenceResult(statistic=30297.985518591002, pvalue=0.0)\n"
     ]
    },
    {
     "data": {
      "application/vnd.plotly.v1+json": {
       "config": {
        "linkText": "Export to plot.ly",
        "plotlyServerURL": "https://plot.ly",
        "showLink": false
       },
       "data": [
        {
         "type": "bar",
         "uid": "9a82a7f5-4a97-46d9-a9e5-47ed48d2c4d9",
         "x": [
          "nextvisit",
          "hour",
          "week",
          "day"
         ],
         "y": [
          15873,
          1915,
          1586,
          1066
         ]
        }
       ],
       "layout": {
        "title": {
         "text": "Choice for when to ask next about intervention difficulty, raw counts"
        },
        "xaxis": {
         "title": {
          "text": "Choice for when to ask next about intervention difficulty"
         }
        },
        "yaxis": {
         "title": {
          "text": "Number of times chosen"
         }
        }
       }
      },
      "text/html": [
       "<div id=\"c768ef0e-5764-4503-ba28-14bf15fc93c3\" style=\"height: 525px; width: 100%;\" class=\"plotly-graph-div\"></div><script type=\"text/javascript\">require([\"plotly\"], function(Plotly) { window.PLOTLYENV=window.PLOTLYENV || {};window.PLOTLYENV.BASE_URL=\"https://plot.ly\";Plotly.newPlot(\"c768ef0e-5764-4503-ba28-14bf15fc93c3\", [{\"x\": [\"nextvisit\", \"hour\", \"week\", \"day\"], \"y\": [15873, 1915, 1586, 1066], \"type\": \"bar\", \"uid\": \"9a82a7f5-4a97-46d9-a9e5-47ed48d2c4d9\"}], {\"title\": {\"text\": \"Choice for when to ask next about intervention difficulty, raw counts\"}, \"xaxis\": {\"title\": {\"text\": \"Choice for when to ask next about intervention difficulty\"}}, \"yaxis\": {\"title\": {\"text\": \"Number of times chosen\"}}}, {\"showLink\": false, \"linkText\": \"Export to plot.ly\", \"plotlyServerURL\": \"https://plot.ly\"})});</script><script type=\"text/javascript\">window.addEventListener(\"resize\", function(){window._Plotly.Plots.resize(document.getElementById(\"c768ef0e-5764-4503-ba28-14bf15fc93c3\"));});</script>"
      ],
      "text/vnd.plotly.v1+html": [
       "<div id=\"c768ef0e-5764-4503-ba28-14bf15fc93c3\" style=\"height: 525px; width: 100%;\" class=\"plotly-graph-div\"></div><script type=\"text/javascript\">require([\"plotly\"], function(Plotly) { window.PLOTLYENV=window.PLOTLYENV || {};window.PLOTLYENV.BASE_URL=\"https://plot.ly\";Plotly.newPlot(\"c768ef0e-5764-4503-ba28-14bf15fc93c3\", [{\"x\": [\"nextvisit\", \"hour\", \"week\", \"day\"], \"y\": [15873, 1915, 1586, 1066], \"type\": \"bar\", \"uid\": \"9a82a7f5-4a97-46d9-a9e5-47ed48d2c4d9\"}], {\"title\": {\"text\": \"Choice for when to ask next about intervention difficulty, raw counts\"}, \"xaxis\": {\"title\": {\"text\": \"Choice for when to ask next about intervention difficulty\"}}, \"yaxis\": {\"title\": {\"text\": \"Number of times chosen\"}}}, {\"showLink\": false, \"linkText\": \"Export to plot.ly\", \"plotlyServerURL\": \"https://plot.ly\"})});</script><script type=\"text/javascript\">window.addEventListener(\"resize\", function(){window._Plotly.Plots.resize(document.getElementById(\"c768ef0e-5764-4503-ba28-14bf15fc93c3\"));});</script>"
      ]
     },
     "metadata": {},
     "output_type": "display_data"
    }
   ],
   "source": [
    "# noexport\n",
    "\n",
    "plot_survey_choice_counts_raw_per_user()"
   ]
  },
  {
   "cell_type": "code",
   "execution_count": 12,
   "metadata": {},
   "outputs": [
    {
     "name": "stdout",
     "output_type": "stream",
     "text": [
      "Counter({'nextvisit': 210, 'week': 160, 'day': 60, 'hour': 55})\n",
      "Power_divergenceResult(statistic=144.48453608247422, pvalue=4.077627919509116e-31)\n"
     ]
    },
    {
     "data": {
      "application/vnd.plotly.v1+json": {
       "config": {
        "linkText": "Export to plot.ly",
        "plotlyServerURL": "https://plot.ly",
        "showLink": false
       },
       "data": [
        {
         "type": "bar",
         "uid": "02fa2128-8b31-4d2b-80d9-d04e49f5c8b7",
         "x": [
          "nextvisit",
          "week",
          "day",
          "hour"
         ],
         "y": [
          210,
          160,
          60,
          55
         ]
        }
       ],
       "layout": {
        "title": {
         "text": "Most frequent choice for when to ask next about intervention difficulty, by number of users"
        },
        "xaxis": {
         "title": {
          "text": "User's most frequent choice for when to next ask about intervention difficulty"
         }
        },
        "yaxis": {
         "title": {
          "text": "Number of users"
         }
        }
       }
      },
      "text/html": [
       "<div id=\"a9cab01b-89ed-47e1-97c1-f4e643169350\" style=\"height: 525px; width: 100%;\" class=\"plotly-graph-div\"></div><script type=\"text/javascript\">require([\"plotly\"], function(Plotly) { window.PLOTLYENV=window.PLOTLYENV || {};window.PLOTLYENV.BASE_URL=\"https://plot.ly\";Plotly.newPlot(\"a9cab01b-89ed-47e1-97c1-f4e643169350\", [{\"x\": [\"nextvisit\", \"week\", \"day\", \"hour\"], \"y\": [210, 160, 60, 55], \"type\": \"bar\", \"uid\": \"02fa2128-8b31-4d2b-80d9-d04e49f5c8b7\"}], {\"title\": {\"text\": \"Most frequent choice for when to ask next about intervention difficulty, by number of users\"}, \"xaxis\": {\"title\": {\"text\": \"User's most frequent choice for when to next ask about intervention difficulty\"}}, \"yaxis\": {\"title\": {\"text\": \"Number of users\"}}}, {\"showLink\": false, \"linkText\": \"Export to plot.ly\", \"plotlyServerURL\": \"https://plot.ly\"})});</script><script type=\"text/javascript\">window.addEventListener(\"resize\", function(){window._Plotly.Plots.resize(document.getElementById(\"a9cab01b-89ed-47e1-97c1-f4e643169350\"));});</script>"
      ],
      "text/vnd.plotly.v1+html": [
       "<div id=\"a9cab01b-89ed-47e1-97c1-f4e643169350\" style=\"height: 525px; width: 100%;\" class=\"plotly-graph-div\"></div><script type=\"text/javascript\">require([\"plotly\"], function(Plotly) { window.PLOTLYENV=window.PLOTLYENV || {};window.PLOTLYENV.BASE_URL=\"https://plot.ly\";Plotly.newPlot(\"a9cab01b-89ed-47e1-97c1-f4e643169350\", [{\"x\": [\"nextvisit\", \"week\", \"day\", \"hour\"], \"y\": [210, 160, 60, 55], \"type\": \"bar\", \"uid\": \"02fa2128-8b31-4d2b-80d9-d04e49f5c8b7\"}], {\"title\": {\"text\": \"Most frequent choice for when to ask next about intervention difficulty, by number of users\"}, \"xaxis\": {\"title\": {\"text\": \"User's most frequent choice for when to next ask about intervention difficulty\"}}, \"yaxis\": {\"title\": {\"text\": \"Number of users\"}}}, {\"showLink\": false, \"linkText\": \"Export to plot.ly\", \"plotlyServerURL\": \"https://plot.ly\"})});</script><script type=\"text/javascript\">window.addEventListener(\"resize\", function(){window._Plotly.Plots.resize(document.getElementById(\"a9cab01b-89ed-47e1-97c1-f4e643169350\"));});</script>"
      ]
     },
     "metadata": {},
     "output_type": "display_data"
    }
   ],
   "source": [
    "# noexport\n",
    "\n",
    "plot_survey_choice_counts_user_normalized()"
   ]
  },
  {
   "cell_type": "code",
   "execution_count": 13,
   "metadata": {},
   "outputs": [
    {
     "name": "stdout",
     "output_type": "stream",
     "text": [
      "Counter({'nextvisit': 280, 'week': 197, 'day': 77, 'hour': 73})\n",
      "Power_divergenceResult(statistic=192.56618819776713, pvalue=1.7031449070858785e-41)\n"
     ]
    },
    {
     "data": {
      "application/vnd.plotly.v1+json": {
       "config": {
        "linkText": "Export to plot.ly",
        "plotlyServerURL": "https://plot.ly",
        "showLink": false
       },
       "data": [
        {
         "type": "bar",
         "uid": "b8d31a8b-cff7-4dc0-84f0-a4182a0948e4",
         "x": [
          "nextvisit",
          "week",
          "day",
          "hour"
         ],
         "y": [
          280,
          197,
          77,
          73
         ]
        }
       ],
       "layout": {
        "title": {
         "text": "Most frequent choice for when to ask next about intervention difficulty, by number of users"
        },
        "xaxis": {
         "title": {
          "text": "User's most frequent choice for when to next ask about intervention difficulty"
         }
        },
        "yaxis": {
         "title": {
          "text": "Number of users"
         }
        }
       }
      },
      "text/html": [
       "<div id=\"5dcd5bf5-a003-47e4-8bf1-bd904fdf0f8e\" style=\"height: 525px; width: 100%;\" class=\"plotly-graph-div\"></div><script type=\"text/javascript\">require([\"plotly\"], function(Plotly) { window.PLOTLYENV=window.PLOTLYENV || {};window.PLOTLYENV.BASE_URL=\"https://plot.ly\";Plotly.newPlot(\"5dcd5bf5-a003-47e4-8bf1-bd904fdf0f8e\", [{\"x\": [\"nextvisit\", \"week\", \"day\", \"hour\"], \"y\": [280, 197, 77, 73], \"type\": \"bar\", \"uid\": \"b8d31a8b-cff7-4dc0-84f0-a4182a0948e4\"}], {\"title\": {\"text\": \"Most frequent choice for when to ask next about intervention difficulty, by number of users\"}, \"xaxis\": {\"title\": {\"text\": \"User's most frequent choice for when to next ask about intervention difficulty\"}}, \"yaxis\": {\"title\": {\"text\": \"Number of users\"}}}, {\"showLink\": false, \"linkText\": \"Export to plot.ly\", \"plotlyServerURL\": \"https://plot.ly\"})});</script><script type=\"text/javascript\">window.addEventListener(\"resize\", function(){window._Plotly.Plots.resize(document.getElementById(\"5dcd5bf5-a003-47e4-8bf1-bd904fdf0f8e\"));});</script>"
      ],
      "text/vnd.plotly.v1+html": [
       "<div id=\"5dcd5bf5-a003-47e4-8bf1-bd904fdf0f8e\" style=\"height: 525px; width: 100%;\" class=\"plotly-graph-div\"></div><script type=\"text/javascript\">require([\"plotly\"], function(Plotly) { window.PLOTLYENV=window.PLOTLYENV || {};window.PLOTLYENV.BASE_URL=\"https://plot.ly\";Plotly.newPlot(\"5dcd5bf5-a003-47e4-8bf1-bd904fdf0f8e\", [{\"x\": [\"nextvisit\", \"week\", \"day\", \"hour\"], \"y\": [280, 197, 77, 73], \"type\": \"bar\", \"uid\": \"b8d31a8b-cff7-4dc0-84f0-a4182a0948e4\"}], {\"title\": {\"text\": \"Most frequent choice for when to ask next about intervention difficulty, by number of users\"}, \"xaxis\": {\"title\": {\"text\": \"User's most frequent choice for when to next ask about intervention difficulty\"}}, \"yaxis\": {\"title\": {\"text\": \"Number of users\"}}}, {\"showLink\": false, \"linkText\": \"Export to plot.ly\", \"plotlyServerURL\": \"https://plot.ly\"})});</script><script type=\"text/javascript\">window.addEventListener(\"resize\", function(){window._Plotly.Plots.resize(document.getElementById(\"5dcd5bf5-a003-47e4-8bf1-bd904fdf0f8e\"));});</script>"
      ]
     },
     "metadata": {},
     "output_type": "display_data"
    }
   ],
   "source": [
    "# noexport\n",
    "\n",
    "plot_survey_choice_counts_install_normalized()"
   ]
  }
 ],
 "metadata": {
  "kernelspec": {
   "display_name": "Python 3",
   "language": "python",
   "name": "python3"
  },
  "language_info": {
   "codemirror_mode": {
    "name": "ipython",
    "version": 3
   },
   "file_extension": ".py",
   "mimetype": "text/x-python",
   "name": "python",
   "nbconvert_exporter": "python",
   "pygments_lexer": "ipython3",
   "version": "3.7.2"
  }
 },
 "nbformat": 4,
 "nbformat_minor": 2
}
