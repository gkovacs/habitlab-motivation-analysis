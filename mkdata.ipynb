{
 "cells": [
  {
   "cell_type": "code",
   "execution_count": 56,
   "metadata": {},
   "outputs": [
    {
     "data": {
      "text/plain": [
       "0"
      ]
     },
     "execution_count": 56,
     "metadata": {},
     "output_type": "execute_result"
    }
   ],
   "source": [
    "# noexport\n",
    "\n",
    "import os\n",
    "os.system('export_notebook mkdata.ipynb')"
   ]
  },
  {
   "cell_type": "code",
   "execution_count": 42,
   "metadata": {},
   "outputs": [],
   "source": [
    "import sys\n",
    "#sys.version"
   ]
  },
  {
   "cell_type": "code",
   "execution_count": 5,
   "metadata": {},
   "outputs": [],
   "source": [
    "from memoize import memoize # pip install memoize2\n"
   ]
  },
  {
   "cell_type": "code",
   "execution_count": 2,
   "metadata": {},
   "outputs": [],
   "source": [
    "from importlib import reload"
   ]
  },
  {
   "cell_type": "code",
   "execution_count": 3,
   "metadata": {},
   "outputs": [
    {
     "data": {
      "text/html": [
       "<script type=\"text/javascript\">window.PlotlyConfig = {MathJaxConfig: 'local'};</script><script type=\"text/javascript\">if (window.MathJax) {MathJax.Hub.Config({SVG: {font: \"STIX-Web\"}});}</script><script>requirejs.config({paths: { 'plotly': ['https://cdn.plot.ly/plotly-latest.min']},});if(!window._Plotly) {require(['plotly'],function(plotly) {window._Plotly=plotly;});}</script>"
      ],
      "text/vnd.plotly.v1+html": [
       "<script type=\"text/javascript\">window.PlotlyConfig = {MathJaxConfig: 'local'};</script><script type=\"text/javascript\">if (window.MathJax) {MathJax.Hub.Config({SVG: {font: \"STIX-Web\"}});}</script><script>requirejs.config({paths: { 'plotly': ['https://cdn.plot.ly/plotly-latest.min']},});if(!window._Plotly) {require(['plotly'],function(plotly) {window._Plotly=plotly;});}</script>"
      ]
     },
     "metadata": {},
     "output_type": "display_data"
    },
    {
     "data": {
      "text/html": [
       "<script type=\"text/javascript\">window.PlotlyConfig = {MathJaxConfig: 'local'};</script><script type=\"text/javascript\">if (window.MathJax) {MathJax.Hub.Config({SVG: {font: \"STIX-Web\"}});}</script><script>requirejs.config({paths: { 'plotly': ['https://cdn.plot.ly/plotly-latest.min']},});if(!window._Plotly) {require(['plotly'],function(plotly) {window._Plotly=plotly;});}</script>"
      ],
      "text/vnd.plotly.v1+html": [
       "<script type=\"text/javascript\">window.PlotlyConfig = {MathJaxConfig: 'local'};</script><script type=\"text/javascript\">if (window.MathJax) {MathJax.Hub.Config({SVG: {font: \"STIX-Web\"}});}</script><script>requirejs.config({paths: { 'plotly': ['https://cdn.plot.ly/plotly-latest.min']},});if(!window._Plotly) {require(['plotly'],function(plotly) {window._Plotly=plotly;});}</script>"
      ]
     },
     "metadata": {},
     "output_type": "display_data"
    }
   ],
   "source": [
    "import libmotivation\n",
    "reload(libmotivation)\n",
    "from libmotivation import *\n"
   ]
  },
  {
   "cell_type": "code",
   "execution_count": 8,
   "metadata": {},
   "outputs": [],
   "source": [
    "from browser_libs import get_collection_items, get_collection_names, get_collection_for_user\n"
   ]
  },
  {
   "cell_type": "code",
   "execution_count": 38,
   "metadata": {},
   "outputs": [],
   "source": [
    "#collection_names = get_collection_names()\n",
    "#print(collection_names[0:30])"
   ]
  },
  {
   "cell_type": "code",
   "execution_count": 39,
   "metadata": {},
   "outputs": [],
   "source": [
    "# for collection_name in collection_names:\n",
    "#   if 'install' in collection_name:\n",
    "#     if collection_name in ['uninstalls', 'uninstall_feedback']:\n",
    "#       continue\n",
    "#     print(collection_name)\n",
    "#     break"
   ]
  },
  {
   "cell_type": "code",
   "execution_count": 40,
   "metadata": {},
   "outputs": [],
   "source": [
    "#installs_collection = get_collection_items('installs')"
   ]
  },
  {
   "cell_type": "code",
   "execution_count": 41,
   "metadata": {},
   "outputs": [],
   "source": [
    "#print(len(installs_collection))\n",
    "#print(installs_collection[len(installs_collection) - 1])"
   ]
  },
  {
   "cell_type": "code",
   "execution_count": 19,
   "metadata": {},
   "outputs": [],
   "source": [
    "@memoize\n",
    "def get_user_to_install_logs():\n",
    "  installs_collection = get_collection_items('installs')\n",
    "  output = {}\n",
    "  for item in installs_collection:\n",
    "    if 'user_id' not in item:\n",
    "      continue\n",
    "    user = item['user_id']\n",
    "    if user not in output:\n",
    "      output[user] = []\n",
    "    output[user].append(item)\n",
    "  return output\n",
    "\n",
    "def get_install_logs_for_user(user):\n",
    "  user_to_install_logs = get_user_to_install_logs()\n",
    "  return user_to_install_logs.get(user, [])\n",
    "\n",
    "@memoize\n",
    "def get_languages_for_user(user):\n",
    "  output = set()\n",
    "  for item in get_install_logs_for_user(user):\n",
    "    for language in item.get('languages', []):\n",
    "      output.add(language)\n",
    "  return sorted(list(output))\n"
   ]
  },
  {
   "cell_type": "code",
   "execution_count": 24,
   "metadata": {},
   "outputs": [],
   "source": [
    "@memoize\n",
    "def get_language_list():\n",
    "  user_list = get_users_with_choose_difficulty()\n",
    "  output = set()\n",
    "  for user in user_list:\n",
    "    for language in get_languages_for_user(user):\n",
    "      output.add(language)\n",
    "  return sorted(list(output))\n",
    "\n",
    "@memoize\n",
    "def get_num_languages():\n",
    "  return len(get_language_list())\n",
    "\n",
    "@memoize\n",
    "def get_language_to_index():\n",
    "  language_list = get_language_list()\n",
    "  output = {}\n",
    "  for idx,language in enumerate(language_list):\n",
    "    output[language] = idx\n",
    "  return output"
   ]
  },
  {
   "cell_type": "code",
   "execution_count": 37,
   "metadata": {},
   "outputs": [],
   "source": [
    "def convert_language_list_to_language_indexes(languages):\n",
    "  language_to_idx = get_language_to_index()\n",
    "  return [language_to_idx[language] for language in languages]\n",
    "\n",
    "def get_language_indexes_for_user(user):\n",
    "  language_to_idx = get_language_to_index()\n",
    "  languages = get_languages_for_user(user)\n",
    "  return [language_to_idx[language] for language in languages]"
   ]
  },
  {
   "cell_type": "code",
   "execution_count": 35,
   "metadata": {},
   "outputs": [],
   "source": [
    "def get_initial_difficulty_for_user(user):\n",
    "  abtest_settings = get_abtest_settings(user)\n",
    "  #return abtest_settings.get('user_chosen_difficulty_survey', None)\n",
    "  difficulty = abtest_settings.get('user_chosen_difficulty', None)\n",
    "  #if difficulty == None:\n",
    "  #  difficulty = abtest_settings.get('user_chosen_difficulty_survey', None)\n",
    "  return difficulty\n",
    "\n",
    "def get_initial_difficulty_idx_for_user(user):\n",
    "  difficulty = get_initial_difficulty_for_user(user)\n",
    "  if difficulty == None:\n",
    "    return -1\n",
    "  return ['nothing', 'easy', 'medium', 'hard'].index(difficulty)\n",
    "\n",
    "#for user in get_users_with_choose_difficulty():\n",
    "#  abtest_settings = get_abtest_settings(user)\n",
    "#  print(abtest_settings)\n",
    "#  break"
   ]
  },
  {
   "cell_type": "code",
   "execution_count": 52,
   "metadata": {},
   "outputs": [],
   "source": [
    "# difficulty_choices = Counter()\n",
    "# for user in get_users_with_choose_difficulty():\n",
    "#   difficulty = get_initial_difficulty_for_user(user)\n",
    "#   difficulty_choices[difficulty] += 1\n",
    "# print(difficulty_choices)"
   ]
  },
  {
   "cell_type": "code",
   "execution_count": 53,
   "metadata": {},
   "outputs": [],
   "source": [
    "#language_list = get_language_list()"
   ]
  },
  {
   "cell_type": "code",
   "execution_count": 54,
   "metadata": {},
   "outputs": [],
   "source": [
    "#print(len(language_list))"
   ]
  },
  {
   "cell_type": "code",
   "execution_count": 6,
   "metadata": {},
   "outputs": [],
   "source": [
    "import arrow\n",
    "from dateutil import tz\n",
    "\n",
    "#timezone_list = list(timezone_set)\n",
    "#print(timezone_list)\n",
    "#print(list(map(to_hours_and_minutes, timezone_list)))\n",
    "\n",
    "def parse_timezone_offset(datestr):\n",
    "  date_parts = datestr.split(' ')\n",
    "  for x in date_parts:\n",
    "    if 'GMT' in x:\n",
    "      output = (x.replace('GMT', ''))\n",
    "      #timezone_set.add(output)\n",
    "      return output\n",
    "  raise Exception(datestr)\n",
    "\n",
    "def to_hours_and_minutes(offset):\n",
    "  if len(offset) != 5:\n",
    "    raise Exception(offset)\n",
    "  sign = offset[0]\n",
    "  hours = int(offset[1:3])\n",
    "  minutes = int(offset[3:])\n",
    "  if sign == '+':\n",
    "    return hours,minutes\n",
    "  if sign == '-':\n",
    "    return -hours,-minutes\n",
    "  raise Exception(offset)\n",
    "\n",
    "def adjust_timestamp_to_timezone_offset(timestamp, offset):\n",
    "  hours,minutes = to_hours_and_minutes(offset)\n",
    "  #print(hours, minutes)\n",
    "  ar = arrow.get(timestamp / 1000.0)\n",
    "  return ar.shift(hours=hours, minutes=minutes)\n",
    "\n",
    "def get_time_adjusted_for_timezone(timestamp, datestr):\n",
    "  offset = parse_timezone_offset(datestr)\n",
    "  return adjust_timestamp_to_timezone_offset(timestamp, offset)\n",
    "\n",
    "#print(adjust_timestamp_to_timezone(1548789649098.0,'-0600')) # 'Tue Jan 29 2019 13:20:49 GMT-0600 (Central Standard Time)',\n",
    "#print(get_time_adjusted_for_timezone(1548789649098.0, 'Tue Jan 29 2019 13:20:49 GMT-0600 (Central Standard Time)'))"
   ]
  },
  {
   "cell_type": "code",
   "execution_count": null,
   "metadata": {},
   "outputs": [],
   "source": []
  }
 ],
 "metadata": {
  "kernelspec": {
   "display_name": "Python 3",
   "language": "python",
   "name": "python3"
  },
  "language_info": {
   "codemirror_mode": {
    "name": "ipython",
    "version": 3
   },
   "file_extension": ".py",
   "mimetype": "text/x-python",
   "name": "python",
   "nbconvert_exporter": "python",
   "pygments_lexer": "ipython3",
   "version": "3.7.2"
  }
 },
 "nbformat": 4,
 "nbformat_minor": 2
}
