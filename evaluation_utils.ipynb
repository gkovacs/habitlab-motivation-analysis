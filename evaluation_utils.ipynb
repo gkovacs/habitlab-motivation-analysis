{
 "cells": [
  {
   "cell_type": "code",
   "execution_count": 2,
   "metadata": {},
   "outputs": [
    {
     "name": "stdout",
     "output_type": "stream",
     "text": [
      "[NbConvertApp] Converting notebook evaluation_utils.ipynb to python\r\n"
     ]
    }
   ],
   "source": [
    "# noexport\n",
    "\n",
    "!typech evaluation_utils.ipynb\n"
   ]
  },
  {
   "cell_type": "code",
   "execution_count": 17,
   "metadata": {},
   "outputs": [
    {
     "data": {
      "text/html": [
       "<script type=\"text/javascript\">window.PlotlyConfig = {MathJaxConfig: 'local'};</script><script type=\"text/javascript\">if (window.MathJax) {MathJax.Hub.Config({SVG: {font: \"STIX-Web\"}});}</script><script>requirejs.config({paths: { 'plotly': ['https://cdn.plot.ly/plotly-latest.min']},});if(!window._Plotly) {require(['plotly'],function(plotly) {window._Plotly=plotly;});}</script>"
      ],
      "text/vnd.plotly.v1+html": [
       "<script type=\"text/javascript\">window.PlotlyConfig = {MathJaxConfig: 'local'};</script><script type=\"text/javascript\">if (window.MathJax) {MathJax.Hub.Config({SVG: {font: \"STIX-Web\"}});}</script><script>requirejs.config({paths: { 'plotly': ['https://cdn.plot.ly/plotly-latest.min']},});if(!window._Plotly) {require(['plotly'],function(plotly) {window._Plotly=plotly;});}</script>"
      ]
     },
     "metadata": {},
     "output_type": "display_data"
    }
   ],
   "source": [
    "from train_utils import *"
   ]
  },
  {
   "cell_type": "code",
   "execution_count": 16,
   "metadata": {},
   "outputs": [],
   "source": [
    "from getsecret import getsecret\n",
    "import subprocess\n",
    "import json"
   ]
  },
  {
   "cell_type": "code",
   "execution_count": 27,
   "metadata": {},
   "outputs": [],
   "source": [
    "#print(get_models_currently_training())"
   ]
  },
  {
   "cell_type": "code",
   "execution_count": 15,
   "metadata": {},
   "outputs": [],
   "source": [
    "def get_models_currently_training():\n",
    "  output = []\n",
    "  local_info = json.load(open('current.json'))\n",
    "  output.append(local_info['base_path'])\n",
    "  remote_info = json.loads(subprocess.check_output(getsecret('REMOTE_SSH_COMMAND'), shell=True))\n",
    "  output.append(remote_info['base_path'])\n",
    "  return output"
   ]
  },
  {
   "cell_type": "code",
   "execution_count": 9,
   "metadata": {},
   "outputs": [],
   "source": [
    "from glob import glob\n",
    "import os\n",
    "from os import path"
   ]
  },
  {
   "cell_type": "code",
   "execution_count": 11,
   "metadata": {},
   "outputs": [],
   "source": [
    "def find_last_completed_epoch(model_name):\n",
    "  return len(glob(path.join(model_name, 'info_*.json')))\n"
   ]
  },
  {
   "cell_type": "code",
   "execution_count": 30,
   "metadata": {},
   "outputs": [],
   "source": [
    "#print(get_models_with_training_status())\n"
   ]
  },
  {
   "cell_type": "code",
   "execution_count": 22,
   "metadata": {},
   "outputs": [],
   "source": [
    "\n",
    "\n",
    "def get_models_with_training_status():\n",
    "  output = []\n",
    "  models_currently_training = set(get_models_currently_training())\n",
    "  for x in glob('tm_*'):\n",
    "    model_status = {\n",
    "      'name': x,\n",
    "      'epochs_done': find_last_completed_epoch(x),\n",
    "      'status': 'incomplete'\n",
    "    }\n",
    "    status_file_path = path.join(x, 'status.json')\n",
    "    if not os.path.exists(status_file_path):\n",
    "      output.append(model_status)\n",
    "      continue\n",
    "    status_info = json.load(open(status_file_path))\n",
    "    if status_info['status'] == 'done':\n",
    "      #model_status['epochs_done'] = find_last_completed_epoch(x)\n",
    "      model_status['status'] = status_info['status']\n",
    "      output.append(model_status)\n",
    "      continue\n",
    "    if status_info['status'] == 'training':\n",
    "      if x in models_currently_training:\n",
    "        model_status['status'] = status_info['status']\n",
    "      output.append(model_status)\n",
    "      continue\n",
    "    raise Exception('invalid status for model', x, status_info['status'])\n",
    "    #output.append(model_status)\n",
    "  return output"
   ]
  },
  {
   "cell_type": "code",
   "execution_count": 28,
   "metadata": {},
   "outputs": [],
   "source": [
    "import shutil\n",
    "\n",
    "def remove_incomplete_models():\n",
    "  for status_info in get_models_with_training_status():\n",
    "    if status_info['epochs_done'] == 0 and status_info['status'] == 'incomplete':\n",
    "      model_name = status_info['name']\n",
    "      shutil.rmtree(model_name)\n",
    "\n",
    "remove_incomplete_models()"
   ]
  },
  {
   "cell_type": "code",
   "execution_count": 40,
   "metadata": {},
   "outputs": [
    {
     "data": {
      "text/plain": [
       "[[0.8085924439986627,\n",
       "  'tm_5c89f565babee6f8bbc1f7e4d0c76ca4df515adc/info_3.json'],\n",
       " [0.8037445670344366,\n",
       "  'tm_2769148d0b782749562fe2e53e40214082a280c9/info_3.json'],\n",
       " [0.8034102306920762,\n",
       "  'tm_b7c78733284824761f93f8b8c9ea52af5939749a/info_2.json'],\n",
       " [0.8027415580073554,\n",
       "  'tm_be95b6706b608bd0a6ae5d4d4c4a042a2dda1bf4/info_3.json'],\n",
       " [0.8005683717820127,\n",
       "  'tm_b7c78733284824761f93f8b8c9ea52af5939749a/info_3.json'],\n",
       " [0.7990638582413908,\n",
       "  'tm_264bddc248d1bba4b2bbdd464ea404764edd3393/info_3.json'],\n",
       " [0.7982280173854898,\n",
       "  'tm_264bddc248d1bba4b2bbdd464ea404764edd3393/info_2.json'],\n",
       " [0.7980608492143096,\n",
       "  'tm_7c371d2a549d40cf966421c94d7d05624b6511a6/info_3.json'],\n",
       " [0.7978936810431294,\n",
       "  'tm_b7c78733284824761f93f8b8c9ea52af5939749a/info_1.json'],\n",
       " [0.797559344700769,\n",
       "  'tm_264bddc248d1bba4b2bbdd464ea404764edd3393/info_1.json'],\n",
       " [0.7960548311601471,\n",
       "  'tm_f9eacb599680c28e8be667eb45366b7df8aacef1/info_3.json'],\n",
       " [0.7960548311601471,\n",
       "  'tm_f059315c6c2992e97569934dbb0082b079b67cd6/info_3.json'],\n",
       " [0.795218990304246,\n",
       "  'tm_321abf813a954e3267b1b2665c28a3846bb346fb/info_3.json'],\n",
       " [0.7937144767636242,\n",
       "  'tm_4952aae10684ba73eadb12d1375c6367f6dd799a/info_3.json'],\n",
       " [0.7925442995653628,\n",
       "  'tm_0662ad7f7ca2cc326dad8874568410bbda05bb0c/info_2.json'],\n",
       " [0.7908726178535607,\n",
       "  'tm_0662ad7f7ca2cc326dad8874568410bbda05bb0c/info_1.json'],\n",
       " [0.7890337679705784,\n",
       "  'tm_68170bbdf34ee66979d014128aeecb745062a7c2/info_3.json'],\n",
       " [0.7863590772316951,\n",
       "  'tm_0662ad7f7ca2cc326dad8874568410bbda05bb0c/info_3.json'],\n",
       " [0.7863590772316951,\n",
       "  'tm_056bc8e5fbbcaebdca52f37450d26ce6dde9f453/info_2.json'],\n",
       " [0.7858575727181545,\n",
       "  'tm_9af657ebbe6c99fa17c2424b3ea05822a373a6dc/info_3.json'],\n",
       " [0.7856904045469743,\n",
       "  'tm_056bc8e5fbbcaebdca52f37450d26ce6dde9f453/info_3.json'],\n",
       " [0.7840187228351722,\n",
       "  'tm_b0a22354fbead70b6545334d6cc85088dc684d6e/info_3.json'],\n",
       " [0.7781678368438649,\n",
       "  'tm_28b203dde6fc5a5c8ca66fab258cd7b9dc38f9e9/info_3.json'],\n",
       " [0.7769976596456035,\n",
       "  'tm_056bc8e5fbbcaebdca52f37450d26ce6dde9f453/info_1.json'],\n",
       " [0.7764961551320628,\n",
       "  'tm_b32854262ad8675421b36bac8c44cf5ffdf43f7d/info_3.json'],\n",
       " [0.7759946506185222,\n",
       "  'tm_b0a22354fbead70b6545334d6cc85088dc684d6e/info_2.json'],\n",
       " [0.7759946506185222,\n",
       "  'tm_604a90ed67b2d52f45b775f15fb660044b8c69b3/info_2.json'],\n",
       " [0.7744901370779004,\n",
       "  'tm_be95b6706b608bd0a6ae5d4d4c4a042a2dda1bf4/info_2.json'],\n",
       " [0.7731527917084587,\n",
       "  'tm_8a3630a698ed420cf85a3972e99918800ac82495/info_2.json'],\n",
       " [0.7729856235372785,\n",
       "  'tm_8a3630a698ed420cf85a3972e99918800ac82495/info_3.json'],\n",
       " [0.7728184553660983,\n",
       "  'tm_5c89f565babee6f8bbc1f7e4d0c76ca4df515adc/info_2.json'],\n",
       " [0.770143764627215,\n",
       "  'tm_be95b6706b608bd0a6ae5d4d4c4a042a2dda1bf4/info_1.json'],\n",
       " [0.770143764627215,\n",
       "  'tm_5c89f565babee6f8bbc1f7e4d0c76ca4df515adc/info_1.json'],\n",
       " [0.7698094282848545,\n",
       "  'tm_2769148d0b782749562fe2e53e40214082a280c9/info_2.json'],\n",
       " [0.769307923771314,\n",
       "  'tm_3c4be3fb5798c8f88d000d3232eeb776baa12cef/info_3.json'],\n",
       " [0.7674690738883316,\n",
       "  'tm_321abf813a954e3267b1b2665c28a3846bb346fb/info_2.json'],\n",
       " [0.7673019057171514,\n",
       "  'tm_2769148d0b782749562fe2e53e40214082a280c9/info_1.json'],\n",
       " [0.7671347375459713,\n",
       "  'tm_f9eacb599680c28e8be667eb45366b7df8aacef1/info_2.json'],\n",
       " [0.7668004012036108,\n",
       "  'tm_604a90ed67b2d52f45b775f15fb660044b8c69b3/info_3.json'],\n",
       " [0.7662988966900702,\n",
       "  'tm_f059315c6c2992e97569934dbb0082b079b67cd6/info_2.json'],\n",
       " [0.76613172851889, 'tm_321abf813a954e3267b1b2665c28a3846bb346fb/info_1.json'],\n",
       " [0.7649615513206286,\n",
       "  'tm_68170bbdf34ee66979d014128aeecb745062a7c2/info_1.json'],\n",
       " [0.7644600468070879,\n",
       "  'tm_b32854262ad8675421b36bac8c44cf5ffdf43f7d/info_2.json'],\n",
       " [0.7644600468070879,\n",
       "  'tm_68170bbdf34ee66979d014128aeecb745062a7c2/info_2.json'],\n",
       " [0.7636242059511869,\n",
       "  'tm_604a90ed67b2d52f45b775f15fb660044b8c69b3/info_1.json'],\n",
       " [0.7632898696088265,\n",
       "  'tm_b0a22354fbead70b6545334d6cc85088dc684d6e/info_1.json'],\n",
       " [0.7632898696088265,\n",
       "  'tm_7c371d2a549d40cf966421c94d7d05624b6511a6/info_2.json'],\n",
       " [0.762955533266466,\n",
       "  'tm_f9eacb599680c28e8be667eb45366b7df8aacef1/info_1.json'],\n",
       " [0.7617853560682046,\n",
       "  'tm_9af657ebbe6c99fa17c2424b3ea05822a373a6dc/info_2.json'],\n",
       " [0.7614510197258442,\n",
       "  'tm_28b203dde6fc5a5c8ca66fab258cd7b9dc38f9e9/info_2.json'],\n",
       " [0.7612838515546639,\n",
       "  'tm_f059315c6c2992e97569934dbb0082b079b67cd6/info_1.json'],\n",
       " [0.7586091608157807,\n",
       "  'tm_7c371d2a549d40cf966421c94d7d05624b6511a6/info_1.json'],\n",
       " [0.757271815446339,\n",
       "  'tm_4952aae10684ba73eadb12d1375c6367f6dd799a/info_2.json'],\n",
       " [0.7569374791039786,\n",
       "  'tm_4952aae10684ba73eadb12d1375c6367f6dd799a/info_1.json'],\n",
       " [0.7552657973921765,\n",
       "  'tm_9af657ebbe6c99fa17c2424b3ea05822a373a6dc/info_1.json'],\n",
       " [0.7550986292209964,\n",
       "  'tm_28b203dde6fc5a5c8ca66fab258cd7b9dc38f9e9/info_1.json'],\n",
       " [0.7545971247074557,\n",
       "  'tm_3c4be3fb5798c8f88d000d3232eeb776baa12cef/info_2.json'],\n",
       " [0.7534269475091943,\n",
       "  'tm_b32854262ad8675421b36bac8c44cf5ffdf43f7d/info_1.json'],\n",
       " [0.7398863256435975,\n",
       "  'tm_8a3630a698ed420cf85a3972e99918800ac82495/info_1.json'],\n",
       " [0.7236710130391174,\n",
       "  'tm_3c4be3fb5798c8f88d000d3232eeb776baa12cef/info_1.json'],\n",
       " [0.5117017719826145,\n",
       "  'tm_f05f7859ceee20113ad502c2e665a1b305a74b99/info_2.json'],\n",
       " [0.5105315947843531,\n",
       "  'tm_8d99061dc6d5b75a12c42e3685d69a5163a7c473/info_3.json'],\n",
       " [0.5070210631895687,\n",
       "  'tm_000376c1662054deaa3641ac5349db8529e13638/info_3.json'],\n",
       " [0.4906385824139084,\n",
       "  'tm_8d99061dc6d5b75a12c42e3685d69a5163a7c473/info_2.json'],\n",
       " [0.3973587428953527,\n",
       "  'tm_000376c1662054deaa3641ac5349db8529e13638/info_2.json'],\n",
       " [0.1905717151454363,\n",
       "  'tm_f05f7859ceee20113ad502c2e665a1b305a74b99/info_3.json'],\n",
       " [0.17987295218990304,\n",
       "  'tm_000376c1662054deaa3641ac5349db8529e13638/info_1.json'],\n",
       " [0.13607489134068873,\n",
       "  'tm_b354ebab8a3f1eff2ad776f67359cdd8afdc00b1/info_3.json'],\n",
       " [0.13590772316950853,\n",
       "  'tm_f05f7859ceee20113ad502c2e665a1b305a74b99/info_1.json'],\n",
       " [0.13590772316950853,\n",
       "  'tm_b94f084e6db75f16fb58d017c90f85345ce9573a/info_3.json'],\n",
       " [0.13590772316950853,\n",
       "  'tm_b94f084e6db75f16fb58d017c90f85345ce9573a/info_2.json'],\n",
       " [0.13590772316950853,\n",
       "  'tm_b94f084e6db75f16fb58d017c90f85345ce9573a/info_1.json'],\n",
       " [0.13590772316950853,\n",
       "  'tm_b354ebab8a3f1eff2ad776f67359cdd8afdc00b1/info_2.json'],\n",
       " [0.13590772316950853,\n",
       "  'tm_b354ebab8a3f1eff2ad776f67359cdd8afdc00b1/info_1.json'],\n",
       " [0.13590772316950853,\n",
       "  'tm_8d99061dc6d5b75a12c42e3685d69a5163a7c473/info_1.json'],\n",
       " [0.13590772316950853,\n",
       "  'tm_36c0578558974b10bd6676a95dea44e83616d500/info_3.json'],\n",
       " [0.13590772316950853,\n",
       "  'tm_36c0578558974b10bd6676a95dea44e83616d500/info_2.json'],\n",
       " [0.13590772316950853,\n",
       "  'tm_36c0578558974b10bd6676a95dea44e83616d500/info_1.json']]"
      ]
     },
     "execution_count": 40,
     "metadata": {},
     "output_type": "execute_result"
    }
   ],
   "source": [
    "def get_parameter_info_list_for_model(model_name):\n",
    "  parameters_file_path = path.join(model_name, 'parameters.json')\n",
    "  return json.load(open(parameters_file_path))\n",
    "\n",
    "def get_parameter_map_for_model(model_name):\n",
    "  output = {}\n",
    "  for parameter_info in get_parameter_info_list_for_model(model_name):\n",
    "    parameter_name = parameter_info['name']\n",
    "    parameter_value = parameter_info['value']\n",
    "    output[parameter_name] = parameter_value\n",
    "  return output\n",
    "\n",
    "def list_models_finished_training():\n",
    "  output = []\n",
    "  for x in glob('tm_*'):\n",
    "    status_file_path = path.join(x, 'status.json')\n",
    "    if not os.path.exists(status_file_path):\n",
    "      continue\n",
    "    status_info = json.load(open(status_file_path))\n",
    "    #print(status_info)\n",
    "    if status_info['status'] != 'done':\n",
    "      continue\n",
    "    output.append(x)\n",
    "  return output\n",
    "\n",
    "def list_models_matching_parameters(parameters_map):\n",
    "  output = []\n",
    "  for model_name in list_models_finished_training():\n",
    "    parameters_map_cur = get_parameter_map_for_model(model_name)\n",
    "    is_match = True\n",
    "    for k,v in parameters_map.items():\n",
    "      if parameters_map_cur.get(k, None) != v:\n",
    "        is_match = False\n",
    "        break\n",
    "    if is_match:\n",
    "      output.append(model_name)\n",
    "  return output\n",
    "\n",
    "\n",
    "def get_models_with_dev_correct_fraction():\n",
    "  #for x in list_models_finished_training():\n",
    "  #  get_parameter_map_for_model(x))\n",
    "  output = []\n",
    "  for model_name in list_models_matching_parameters({'enable_current_difficulty': False}):\n",
    "    for info_file_name in glob(path.join(model_name, 'info_*.json')):\n",
    "      model_info = json.load(open(info_file_name))\n",
    "      #print(model_info)\n",
    "      dev_correct = model_info['dev_correct']\n",
    "      dev_total = model_info['dev_total']\n",
    "      dev_correct_fraction = dev_correct / dev_total\n",
    "      output.append([dev_correct_fraction, info_file_name])\n",
    "  output.sort()\n",
    "  output.reverse()\n",
    "  return output\n",
    "\n",
    "get_models_with_dev_correct_fraction()"
   ]
  },
  {
   "cell_type": "code",
   "execution_count": 41,
   "metadata": {},
   "outputs": [
    {
     "ename": "TypeError",
     "evalue": "string indices must be integers",
     "output_type": "error",
     "traceback": [
      "\u001b[0;31m---------------------------------------------------------------------------\u001b[0m",
      "\u001b[0;31mTypeError\u001b[0m                                 Traceback (most recent call last)",
      "\u001b[0;32m<ipython-input-41-1e6abbf1ef71>\u001b[0m in \u001b[0;36m<module>\u001b[0;34m\u001b[0m\n\u001b[1;32m      1\u001b[0m \u001b[0mparameter_info_list\u001b[0m \u001b[0;34m=\u001b[0m \u001b[0;34m{\u001b[0m\u001b[0;34m\"train_loss\"\u001b[0m\u001b[0;34m:\u001b[0m \u001b[0;36m39490.94897335768\u001b[0m\u001b[0;34m,\u001b[0m \u001b[0;34m\"train_correct\"\u001b[0m\u001b[0;34m:\u001b[0m \u001b[0;36m95057\u001b[0m\u001b[0;34m,\u001b[0m \u001b[0;34m\"train_total\"\u001b[0m\u001b[0;34m:\u001b[0m \u001b[0;36m107670\u001b[0m\u001b[0;34m,\u001b[0m \u001b[0;34m\"train_confusion\"\u001b[0m\u001b[0;34m:\u001b[0m \u001b[0;34m[\u001b[0m\u001b[0;34m[\u001b[0m\u001b[0;36m54772\u001b[0m\u001b[0;34m,\u001b[0m \u001b[0;36m2662\u001b[0m\u001b[0;34m,\u001b[0m \u001b[0;36m961\u001b[0m\u001b[0;34m,\u001b[0m \u001b[0;36m207\u001b[0m\u001b[0;34m]\u001b[0m\u001b[0;34m,\u001b[0m \u001b[0;34m[\u001b[0m\u001b[0;36m2729\u001b[0m\u001b[0;34m,\u001b[0m \u001b[0;36m25588\u001b[0m\u001b[0;34m,\u001b[0m \u001b[0;36m1298\u001b[0m\u001b[0;34m,\u001b[0m \u001b[0;36m64\u001b[0m\u001b[0;34m]\u001b[0m\u001b[0;34m,\u001b[0m \u001b[0;34m[\u001b[0m\u001b[0;36m855\u001b[0m\u001b[0;34m,\u001b[0m \u001b[0;36m1441\u001b[0m\u001b[0;34m,\u001b[0m \u001b[0;36m12121\u001b[0m\u001b[0;34m,\u001b[0m \u001b[0;36m70\u001b[0m\u001b[0;34m]\u001b[0m\u001b[0;34m,\u001b[0m \u001b[0;34m[\u001b[0m\u001b[0;36m821\u001b[0m\u001b[0;34m,\u001b[0m \u001b[0;36m311\u001b[0m\u001b[0;34m,\u001b[0m \u001b[0;36m1194\u001b[0m\u001b[0;34m,\u001b[0m \u001b[0;36m2576\u001b[0m\u001b[0;34m]\u001b[0m\u001b[0;34m]\u001b[0m\u001b[0;34m,\u001b[0m \u001b[0;34m\"dev_correct\"\u001b[0m\u001b[0;34m:\u001b[0m \u001b[0;36m4837\u001b[0m\u001b[0;34m,\u001b[0m \u001b[0;34m\"dev_total\"\u001b[0m\u001b[0;34m:\u001b[0m \u001b[0;36m5982\u001b[0m\u001b[0;34m,\u001b[0m \u001b[0;34m\"dev_confusion\"\u001b[0m\u001b[0;34m:\u001b[0m \u001b[0;34m[\u001b[0m\u001b[0;34m[\u001b[0m\u001b[0;36m2264\u001b[0m\u001b[0;34m,\u001b[0m \u001b[0;36m213\u001b[0m\u001b[0;34m,\u001b[0m \u001b[0;36m52\u001b[0m\u001b[0;34m,\u001b[0m \u001b[0;36m43\u001b[0m\u001b[0;34m]\u001b[0m\u001b[0;34m,\u001b[0m \u001b[0;34m[\u001b[0m\u001b[0;36m315\u001b[0m\u001b[0;34m,\u001b[0m \u001b[0;36m1777\u001b[0m\u001b[0;34m,\u001b[0m \u001b[0;36m99\u001b[0m\u001b[0;34m,\u001b[0m \u001b[0;36m14\u001b[0m\u001b[0;34m]\u001b[0m\u001b[0;34m,\u001b[0m \u001b[0;34m[\u001b[0m\u001b[0;36m73\u001b[0m\u001b[0;34m,\u001b[0m \u001b[0;36m173\u001b[0m\u001b[0;34m,\u001b[0m \u001b[0;36m548\u001b[0m\u001b[0;34m,\u001b[0m \u001b[0;36m19\u001b[0m\u001b[0;34m]\u001b[0m\u001b[0;34m,\u001b[0m \u001b[0;34m[\u001b[0m\u001b[0;36m65\u001b[0m\u001b[0;34m,\u001b[0m \u001b[0;36m19\u001b[0m\u001b[0;34m,\u001b[0m \u001b[0;36m60\u001b[0m\u001b[0;34m,\u001b[0m \u001b[0;36m248\u001b[0m\u001b[0;34m]\u001b[0m\u001b[0;34m]\u001b[0m\u001b[0;34m,\u001b[0m \u001b[0;34m\"test_correct\"\u001b[0m\u001b[0;34m:\u001b[0m \u001b[0;36m4935\u001b[0m\u001b[0;34m,\u001b[0m \u001b[0;34m\"test_total\"\u001b[0m\u001b[0;34m:\u001b[0m \u001b[0;36m5982\u001b[0m\u001b[0;34m,\u001b[0m \u001b[0;34m\"test_confusion\"\u001b[0m\u001b[0;34m:\u001b[0m \u001b[0;34m[\u001b[0m\u001b[0;34m[\u001b[0m\u001b[0;36m2001\u001b[0m\u001b[0;34m,\u001b[0m \u001b[0;36m166\u001b[0m\u001b[0;34m,\u001b[0m \u001b[0;36m92\u001b[0m\u001b[0;34m,\u001b[0m \u001b[0;36m16\u001b[0m\u001b[0;34m]\u001b[0m\u001b[0;34m,\u001b[0m \u001b[0;34m[\u001b[0m\u001b[0;36m223\u001b[0m\u001b[0;34m,\u001b[0m \u001b[0;36m1434\u001b[0m\u001b[0;34m,\u001b[0m \u001b[0;36m134\u001b[0m\u001b[0;34m,\u001b[0m \u001b[0;36m11\u001b[0m\u001b[0;34m]\u001b[0m\u001b[0;34m,\u001b[0m \u001b[0;34m[\u001b[0m\u001b[0;36m125\u001b[0m\u001b[0;34m,\u001b[0m \u001b[0;36m126\u001b[0m\u001b[0;34m,\u001b[0m \u001b[0;36m1387\u001b[0m\u001b[0;34m,\u001b[0m \u001b[0;36m17\u001b[0m\u001b[0;34m]\u001b[0m\u001b[0;34m,\u001b[0m \u001b[0;34m[\u001b[0m\u001b[0;36m42\u001b[0m\u001b[0;34m,\u001b[0m \u001b[0;36m17\u001b[0m\u001b[0;34m,\u001b[0m \u001b[0;36m78\u001b[0m\u001b[0;34m,\u001b[0m \u001b[0;36m113\u001b[0m\u001b[0;34m]\u001b[0m\u001b[0;34m]\u001b[0m\u001b[0;34m,\u001b[0m \u001b[0;34m\"epoch_start_time\"\u001b[0m\u001b[0;34m:\u001b[0m \u001b[0;34m\"2019-04-04T17:19:29.213080+00:00\"\u001b[0m\u001b[0;34m,\u001b[0m \u001b[0;34m\"epoch_start_timestamp\"\u001b[0m\u001b[0;34m:\u001b[0m \u001b[0;36m1554398369\u001b[0m\u001b[0;34m,\u001b[0m \u001b[0;34m\"epoch_end_time\"\u001b[0m\u001b[0;34m:\u001b[0m \u001b[0;34m\"2019-04-04T18:13:16.462443+00:00\"\u001b[0m\u001b[0;34m,\u001b[0m \u001b[0;34m\"epoch_end_timestamp\"\u001b[0m\u001b[0;34m:\u001b[0m \u001b[0;36m1554401596\u001b[0m\u001b[0;34m}\u001b[0m\u001b[0;34m\u001b[0m\u001b[0;34m\u001b[0m\u001b[0m\n\u001b[1;32m      2\u001b[0m \u001b[0;34m\u001b[0m\u001b[0m\n\u001b[0;32m----> 3\u001b[0;31m \u001b[0mtrain_data\u001b[0m\u001b[0;34m,\u001b[0m\u001b[0mdev_data\u001b[0m\u001b[0;34m,\u001b[0m\u001b[0mtest_data\u001b[0m \u001b[0;34m=\u001b[0m \u001b[0mget_data_for_parameters\u001b[0m\u001b[0;34m(\u001b[0m\u001b[0mparameter_info_list\u001b[0m\u001b[0;34m)\u001b[0m\u001b[0;34m\u001b[0m\u001b[0;34m\u001b[0m\u001b[0m\n\u001b[0m",
      "\u001b[0;32m~/motivation/train_utils.py\u001b[0m in \u001b[0;36mget_data_for_parameters\u001b[0;34m(parameter_info_list)\u001b[0m\n\u001b[1;32m    218\u001b[0m \u001b[0;34m\u001b[0m\u001b[0m\n\u001b[1;32m    219\u001b[0m \u001b[0;32mdef\u001b[0m \u001b[0mget_data_for_parameters\u001b[0m\u001b[0;34m(\u001b[0m\u001b[0mparameter_info_list\u001b[0m\u001b[0;34m)\u001b[0m\u001b[0;34m:\u001b[0m\u001b[0;34m\u001b[0m\u001b[0;34m\u001b[0m\u001b[0m\n\u001b[0;32m--> 220\u001b[0;31m   \u001b[0mdataparams\u001b[0m \u001b[0;34m=\u001b[0m \u001b[0mget_parameter_map_for_type\u001b[0m\u001b[0;34m(\u001b[0m\u001b[0mparameter_info_list\u001b[0m\u001b[0;34m,\u001b[0m \u001b[0;34m'dataparam'\u001b[0m\u001b[0;34m)\u001b[0m\u001b[0;34m\u001b[0m\u001b[0;34m\u001b[0m\u001b[0m\n\u001b[0m\u001b[1;32m    221\u001b[0m   \u001b[0menabled_feature_list\u001b[0m \u001b[0;34m=\u001b[0m \u001b[0mget_enabled_features_list_from_parameter_info_list\u001b[0m\u001b[0;34m(\u001b[0m\u001b[0mparameter_info_list\u001b[0m\u001b[0;34m)\u001b[0m\u001b[0;34m\u001b[0m\u001b[0;34m\u001b[0m\u001b[0m\n\u001b[1;32m    222\u001b[0m   \u001b[0mdataparams\u001b[0m\u001b[0;34m[\u001b[0m\u001b[0;34m'enabled_feature_list'\u001b[0m\u001b[0;34m]\u001b[0m \u001b[0;34m=\u001b[0m \u001b[0menabled_feature_list\u001b[0m\u001b[0;34m\u001b[0m\u001b[0;34m\u001b[0m\u001b[0m\n",
      "\u001b[0;32m~/motivation/train_utils.py\u001b[0m in \u001b[0;36mget_parameter_map_for_type\u001b[0;34m(parameter_info_list, parameter_type)\u001b[0m\n\u001b[1;32m    198\u001b[0m   \u001b[0moutput\u001b[0m \u001b[0;34m=\u001b[0m \u001b[0;34m{\u001b[0m\u001b[0;34m}\u001b[0m\u001b[0;34m\u001b[0m\u001b[0;34m\u001b[0m\u001b[0m\n\u001b[1;32m    199\u001b[0m   \u001b[0;32mfor\u001b[0m \u001b[0mparameter_info\u001b[0m \u001b[0;32min\u001b[0m \u001b[0mparameter_info_list\u001b[0m\u001b[0;34m:\u001b[0m\u001b[0;34m\u001b[0m\u001b[0;34m\u001b[0m\u001b[0m\n\u001b[0;32m--> 200\u001b[0;31m     \u001b[0;32mif\u001b[0m \u001b[0mparameter_info\u001b[0m\u001b[0;34m[\u001b[0m\u001b[0;34m'type'\u001b[0m\u001b[0;34m]\u001b[0m \u001b[0;34m==\u001b[0m \u001b[0mparameter_type\u001b[0m\u001b[0;34m:\u001b[0m\u001b[0;34m\u001b[0m\u001b[0;34m\u001b[0m\u001b[0m\n\u001b[0m\u001b[1;32m    201\u001b[0m       \u001b[0mprint\u001b[0m\u001b[0;34m(\u001b[0m\u001b[0mparameter_info\u001b[0m\u001b[0;34m)\u001b[0m\u001b[0;34m\u001b[0m\u001b[0;34m\u001b[0m\u001b[0m\n\u001b[1;32m    202\u001b[0m       \u001b[0mval\u001b[0m \u001b[0;34m=\u001b[0m \u001b[0mparameter_info\u001b[0m\u001b[0;34m[\u001b[0m\u001b[0;34m'value'\u001b[0m\u001b[0;34m]\u001b[0m\u001b[0;34m\u001b[0m\u001b[0;34m\u001b[0m\u001b[0m\n",
      "\u001b[0;31mTypeError\u001b[0m: string indices must be integers"
     ]
    }
   ],
   "source": [
    "parameter_info_list = {\"train_loss\": 39490.94897335768, \"train_correct\": 95057, \"train_total\": 107670, \"train_confusion\": [[54772, 2662, 961, 207], [2729, 25588, 1298, 64], [855, 1441, 12121, 70], [821, 311, 1194, 2576]], \"dev_correct\": 4837, \"dev_total\": 5982, \"dev_confusion\": [[2264, 213, 52, 43], [315, 1777, 99, 14], [73, 173, 548, 19], [65, 19, 60, 248]], \"test_correct\": 4935, \"test_total\": 5982, \"test_confusion\": [[2001, 166, 92, 16], [223, 1434, 134, 11], [125, 126, 1387, 17], [42, 17, 78, 113]], \"epoch_start_time\": \"2019-04-04T17:19:29.213080+00:00\", \"epoch_start_timestamp\": 1554398369, \"epoch_end_time\": \"2019-04-04T18:13:16.462443+00:00\", \"epoch_end_timestamp\": 1554401596}\n",
    "\n",
    "train_data,dev_data,test_data = get_data_for_parameters(parameter_info_list)"
   ]
  },
  {
   "cell_type": "code",
   "execution_count": 39,
   "metadata": {},
   "outputs": [
    {
     "ename": "NameError",
     "evalue": "name 'dev_data' is not defined",
     "output_type": "error",
     "traceback": [
      "\u001b[0;31m---------------------------------------------------------------------------\u001b[0m",
      "\u001b[0;31mNameError\u001b[0m                                 Traceback (most recent call last)",
      "\u001b[0;32m<ipython-input-39-083d3ade1059>\u001b[0m in \u001b[0;36m<module>\u001b[0;34m\u001b[0m\n\u001b[1;32m      9\u001b[0m \u001b[0;31m#confusion = torch.zeros(n_categories, n_categories)\u001b[0m\u001b[0;34m\u001b[0m\u001b[0;34m\u001b[0m\u001b[0;34m\u001b[0m\u001b[0m\n\u001b[1;32m     10\u001b[0m \u001b[0;34m\u001b[0m\u001b[0m\n\u001b[0;32m---> 11\u001b[0;31m \u001b[0;32mfor\u001b[0m \u001b[0mitem\u001b[0m \u001b[0;32min\u001b[0m \u001b[0mdev_data\u001b[0m\u001b[0;34m:\u001b[0m\u001b[0;34m\u001b[0m\u001b[0;34m\u001b[0m\u001b[0m\n\u001b[0m\u001b[1;32m     12\u001b[0m   \u001b[0muser\u001b[0m \u001b[0;34m=\u001b[0m \u001b[0mitem\u001b[0m\u001b[0;34m[\u001b[0m\u001b[0;34m'user'\u001b[0m\u001b[0;34m]\u001b[0m\u001b[0;34m\u001b[0m\u001b[0;34m\u001b[0m\u001b[0m\n\u001b[1;32m     13\u001b[0m   \u001b[0mcategory_tensor\u001b[0m \u001b[0;34m=\u001b[0m \u001b[0mitem\u001b[0m\u001b[0;34m[\u001b[0m\u001b[0;34m'category'\u001b[0m\u001b[0;34m]\u001b[0m\u001b[0;34m\u001b[0m\u001b[0;34m\u001b[0m\u001b[0m\n",
      "\u001b[0;31mNameError\u001b[0m: name 'dev_data' is not defined"
     ]
    }
   ],
   "source": [
    "def evaluate_baseline_model_on_dataset(model, dataset, prefix='dev_'):\n",
    "  confusion = [[0,0,0,0],[0,0,0,0],[0,0,0,0],[0,0,0,0]]\n",
    "  correct = 0\n",
    "  total = 0\n",
    "  for item in dataset:\n",
    "    category_tensor = item['category']\n",
    "    feature_tensor = item['feature']\n",
    "    if feature_tensor.size()[0] == 0:\n",
    "        continue\n",
    "    difficulty = tensor_to_difficulty(category_tensor)\n",
    "    difficulty_idx = get_difficulty_idx(difficulty)\n",
    "    predicted_tensor = make_prediction(model, feature_tensor.cuda())\n",
    "    predicted_difficulty = prediction_to_difficulty(predicted_tensor)\n",
    "    predicted_difficulty_idx = get_difficulty_idx(predicted_difficulty)\n",
    "    if predicted_difficulty_idx == difficulty_idx:\n",
    "      correct += 1\n",
    "    total += 1\n",
    "    confusion[difficulty_idx][predicted_difficulty_idx] += 1\n",
    "  return {\n",
    "    prefix + 'correct': correct,\n",
    "    prefix + 'total': total,\n",
    "    prefix + 'confusion': confusion,\n",
    "  }\n"
   ]
  }
 ],
 "metadata": {
  "kernelspec": {
   "display_name": "Python 3",
   "language": "python",
   "name": "python3"
  },
  "language_info": {
   "codemirror_mode": {
    "name": "ipython",
    "version": 3
   },
   "file_extension": ".py",
   "mimetype": "text/x-python",
   "name": "python",
   "nbconvert_exporter": "python",
   "pygments_lexer": "ipython3",
   "version": "3.7.2"
  }
 },
 "nbformat": 4,
 "nbformat_minor": 2
}
