{
 "cells": [
  {
   "cell_type": "code",
   "execution_count": 1,
   "metadata": {},
   "outputs": [
    {
     "name": "stdout",
     "output_type": "stream",
     "text": [
      "[NbConvertApp] Converting notebook evaluation_utils.ipynb to python\r\n"
     ]
    }
   ],
   "source": [
    "# noexport\n",
    "\n",
    "!typech evaluation_utils.ipynb\n"
   ]
  },
  {
   "cell_type": "code",
   "execution_count": 2,
   "metadata": {},
   "outputs": [],
   "source": [
    "from typing import Dict, List, Tuple, Any"
   ]
  },
  {
   "cell_type": "code",
   "execution_count": 3,
   "metadata": {},
   "outputs": [
    {
     "data": {
      "text/html": [
       "<script type=\"text/javascript\">window.PlotlyConfig = {MathJaxConfig: 'local'};</script><script type=\"text/javascript\">if (window.MathJax) {MathJax.Hub.Config({SVG: {font: \"STIX-Web\"}});}</script><script>requirejs.config({paths: { 'plotly': ['https://cdn.plot.ly/plotly-latest.min']},});if(!window._Plotly) {require(['plotly'],function(plotly) {window._Plotly=plotly;});}</script>"
      ],
      "text/vnd.plotly.v1+html": [
       "<script type=\"text/javascript\">window.PlotlyConfig = {MathJaxConfig: 'local'};</script><script type=\"text/javascript\">if (window.MathJax) {MathJax.Hub.Config({SVG: {font: \"STIX-Web\"}});}</script><script>requirejs.config({paths: { 'plotly': ['https://cdn.plot.ly/plotly-latest.min']},});if(!window._Plotly) {require(['plotly'],function(plotly) {window._Plotly=plotly;});}</script>"
      ]
     },
     "metadata": {},
     "output_type": "display_data"
    }
   ],
   "source": [
    "from train_utils import *"
   ]
  },
  {
   "cell_type": "code",
   "execution_count": 4,
   "metadata": {},
   "outputs": [],
   "source": [
    "from getsecret import getsecret\n",
    "import subprocess\n",
    "import json"
   ]
  },
  {
   "cell_type": "code",
   "execution_count": 5,
   "metadata": {},
   "outputs": [],
   "source": [
    "import jsonmemo as jsonmemo_module\n",
    "jsonmemo_funcs = jsonmemo_module.create_jsonmemo_funcs(getsecret('DATA_DUMP'))\n",
    "jsonmemo1arg = jsonmemo_funcs['jsonmemo1arg']\n",
    "jsonmemo = jsonmemo_funcs['jsonmemo']"
   ]
  },
  {
   "cell_type": "code",
   "execution_count": 6,
   "metadata": {},
   "outputs": [],
   "source": [
    "def get_models_currently_training():\n",
    "  output = []\n",
    "  local_info = json.load(open('current.json'))\n",
    "  output.append(local_info['base_path'])\n",
    "  remote_info = json.loads(subprocess.check_output(getsecret('REMOTE_SSH_COMMAND'), shell=True))\n",
    "  output.append(remote_info['base_path'])\n",
    "  return output"
   ]
  },
  {
   "cell_type": "code",
   "execution_count": 7,
   "metadata": {},
   "outputs": [],
   "source": [
    "from glob import glob\n",
    "import os\n",
    "from os import path"
   ]
  },
  {
   "cell_type": "code",
   "execution_count": 8,
   "metadata": {},
   "outputs": [],
   "source": [
    "def find_last_completed_epoch(model_name):\n",
    "  return len(glob(path.join(model_name, 'info_*.json')))\n"
   ]
  },
  {
   "cell_type": "code",
   "execution_count": 9,
   "metadata": {},
   "outputs": [],
   "source": [
    "#print(get_models_with_training_status())\n"
   ]
  },
  {
   "cell_type": "code",
   "execution_count": 10,
   "metadata": {},
   "outputs": [],
   "source": [
    "\n",
    "\n",
    "def get_models_with_training_status():\n",
    "  output = []\n",
    "  models_currently_training = set(get_models_currently_training())\n",
    "  for x in glob('tm_*'):\n",
    "    model_status = {\n",
    "      'name': x,\n",
    "      'epochs_done': find_last_completed_epoch(x),\n",
    "      'status': 'incomplete'\n",
    "    }\n",
    "    status_file_path = path.join(x, 'status.json')\n",
    "    if not os.path.exists(status_file_path):\n",
    "      output.append(model_status)\n",
    "      continue\n",
    "    status_info = json.load(open(status_file_path))\n",
    "    if status_info['status'] == 'done':\n",
    "      #model_status['epochs_done'] = find_last_completed_epoch(x)\n",
    "      model_status['status'] = status_info['status']\n",
    "      output.append(model_status)\n",
    "      continue\n",
    "    if status_info['status'] == 'training':\n",
    "      if x in models_currently_training:\n",
    "        model_status['status'] = status_info['status']\n",
    "      output.append(model_status)\n",
    "      continue\n",
    "    raise Exception('invalid status for model', x, status_info['status'])\n",
    "    #output.append(model_status)\n",
    "  return output"
   ]
  },
  {
   "cell_type": "code",
   "execution_count": 11,
   "metadata": {},
   "outputs": [],
   "source": [
    "import shutil\n",
    "\n",
    "def remove_incomplete_models():\n",
    "  for status_info in get_models_with_training_status():\n",
    "    if status_info['epochs_done'] == 0 and status_info['status'] == 'incomplete':\n",
    "      model_name = status_info['name']\n",
    "      shutil.rmtree(model_name)\n",
    "      #print(status_info)\n",
    "\n",
    "remove_incomplete_models()"
   ]
  },
  {
   "cell_type": "code",
   "execution_count": 12,
   "metadata": {},
   "outputs": [
    {
     "data": {
      "text/plain": [
       "[]"
      ]
     },
     "execution_count": 12,
     "metadata": {},
     "output_type": "execute_result"
    }
   ],
   "source": [
    "def get_parameter_info_list_for_model(model_name):\n",
    "  parameters_file_path = path.join(model_name, 'parameters.json')\n",
    "  return json.load(open(parameters_file_path))\n",
    "\n",
    "def get_parameter_map_for_model(model_name):\n",
    "  output = {}\n",
    "  for parameter_info in get_parameter_info_list_for_model(model_name):\n",
    "    parameter_name = parameter_info['name']\n",
    "    parameter_value = parameter_info['value']\n",
    "    output[parameter_name] = parameter_value\n",
    "  return output\n",
    "\n",
    "def list_models_finished_training():\n",
    "  output = []\n",
    "  for x in glob('tm_*'):\n",
    "    status_file_path = path.join(x, 'status.json')\n",
    "    if not os.path.exists(status_file_path):\n",
    "      continue\n",
    "    status_info = json.load(open(status_file_path))\n",
    "    #print(status_info)\n",
    "    if status_info['status'] != 'done':\n",
    "      continue\n",
    "    output.append(x)\n",
    "  return output\n",
    "\n",
    "def list_models_matching_parameters(parameters_map):\n",
    "  output = []\n",
    "  for model_name in list_models_finished_training():\n",
    "    parameters_map_cur = get_parameter_map_for_model(model_name)\n",
    "    is_match = True\n",
    "    for k,v in parameters_map.items():\n",
    "      if parameters_map_cur.get(k, None) != v:\n",
    "        is_match = False\n",
    "        break\n",
    "    if is_match:\n",
    "      output.append(model_name)\n",
    "  return output\n",
    "\n",
    "\n",
    "def get_models_with_dev_correct_fraction():\n",
    "  #for x in list_models_finished_training():\n",
    "  #  get_parameter_map_for_model(x))\n",
    "  output = []\n",
    "  for model_name in list_models_matching_parameters({'enable_current_difficulty': False}):\n",
    "    for info_file_name in glob(path.join(model_name, 'info_*.json')):\n",
    "      model_info = json.load(open(info_file_name))\n",
    "      #print(model_info)\n",
    "      dev_correct = model_info['dev_correct']\n",
    "      dev_total = model_info['dev_total']\n",
    "      dev_correct_fraction = dev_correct / dev_total\n",
    "      output.append([dev_correct_fraction, info_file_name])\n",
    "  output.sort()\n",
    "  output.reverse()\n",
    "  return output\n",
    "\n",
    "get_models_with_dev_correct_fraction()"
   ]
  },
  {
   "cell_type": "code",
   "execution_count": 13,
   "metadata": {},
   "outputs": [],
   "source": [
    "# true = True\n",
    "# false = False\n",
    "# parameter_info_list : List[Dict[str, Any]] = [{\"name\": \"dataset_name\", \"type\": \"dataset\", \"values\": [\"2019_04_01\"], \"value\": \"2019_04_01\"}, {\"name\": \"model_name\", \"type\": \"model\", \"values\": [\"selfattentionlstm\"], \"value\": \"selfattentionlstm\"}, {\"name\": \"criterion\", \"type\": \"model\", \"values\": [\"NLLLoss\"], \"value\": \"NLLLoss\"}, {\"name\": \"learning_rate\", \"type\": \"model\", \"values\": [0.005, 0.05, 0.0005, 5e-05], \"value\": 5e-05}, {\"name\": \"window_embed_size\", \"type\": \"model\", \"values\": [64, 128, 256, 512], \"value\": 256}, {\"name\": \"difficulty\", \"type\": \"feature\", \"values\": [true, false], \"value\": true}, {\"name\": \"time_of_day\", \"type\": \"feature\", \"values\": [true, false], \"value\": true}, {\"name\": \"day_of_week\", \"type\": \"feature\", \"values\": [true, false], \"value\": true}, {\"name\": \"domain_productivity\", \"type\": \"feature\", \"values\": [true, false], \"value\": true}, {\"name\": \"domain_category\", \"type\": \"feature\", \"values\": [true, false], \"value\": true}, {\"name\": \"initial_difficulty\", \"type\": \"feature\", \"values\": [true, false], \"value\": true}, {\"name\": \"languages\", \"type\": \"feature\", \"values\": [true, false], \"value\": true}, {\"name\": \"num_prior_entries\", \"type\": \"dataparam\", \"values\": [10, 20, 30, 40], \"value\": 10}, {\"name\": \"sample_every_n_visits\", \"type\": \"dataparam\", \"values\": [1], \"value\": 1}, {\"name\": \"sample_difficulty_every_n_visits\", \"type\": \"dataparam\", \"values\": [1], \"value\": 1}, {\"name\": \"disable_prior_visit_history\", \"type\": \"dataparam\", \"values\": [false, true], \"value\": false}, {\"name\": \"disable_difficulty_history\", \"type\": \"dataparam\", \"values\": [false, true], \"value\": false}, {\"name\": \"enable_current_difficulty\", \"type\": \"dataparam\", \"values\": [false, true], \"value\": false}, {\"name\": \"num_features\", \"type\": \"model\", \"values\": [277], \"value\": 277}]\n",
    "\n",
    "# train_data,dev_data,test_data = get_data_for_parameters(parameter_info_list)\n",
    "\n"
   ]
  },
  {
   "cell_type": "code",
   "execution_count": 14,
   "metadata": {},
   "outputs": [],
   "source": [
    "\n",
    "\n",
    "#def get_current_difficulty(tensor):\n",
    "#  return tensor['chosen_difficulty']\n",
    "# will actually always return nothing unless we enabled it in training data\n",
    "#   feature = tensor['feature']\n",
    "#   history_length = feature.size()[0]\n",
    "#   timestep = history_length - 1\n",
    "#   difficulty_feature_idx = get_feature_index('difficulty')\n",
    "#   for difficulty_idx,difficulty in enumerate(['nothing', 'easy', 'medium', 'hard']):\n",
    "#     if feature[timestep][0][difficulty_feature_idx + difficulty_idx].item() > 0:\n",
    "#       return difficulty\n",
    "#   return 'nothing'\n",
    "\n",
    "def get_most_recently_chosen_difficulty(feature, parameter_info_list):\n",
    "  #feature = tensor['feature']\n",
    "  history_length = feature.size()[0]\n",
    "  timestep = history_length - 2\n",
    "  if len(feature) < 2:\n",
    "    return 'nothing'\n",
    "  enabled_feature_list = get_enabled_features_list_from_parameter_info_list(parameter_info_list)\n",
    "  get_feature_index = make_get_index(enabled_feature_list)\n",
    "  difficulty_feature_idx = get_feature_index('difficulty')\n",
    "  for difficulty_idx,difficulty in enumerate(['nothing', 'easy', 'medium', 'hard']):\n",
    "    if feature[timestep][0][difficulty_feature_idx + difficulty_idx].item() > 0:\n",
    "      return difficulty\n",
    "  return 'nothing'\n",
    "\n",
    "def get_first_chosen_difficulty(feature, parameter_info_list):\n",
    "  #feature = tensor['feature']\n",
    "  history_length = feature.size()[0]\n",
    "  timestep = 0\n",
    "  if len(feature) < 2:\n",
    "    return 'nothing'\n",
    "  enabled_feature_list = get_enabled_features_list_from_parameter_info_list(parameter_info_list)\n",
    "  get_feature_index = make_get_index(enabled_feature_list)\n",
    "  difficulty_feature_idx = get_feature_index('difficulty')\n",
    "  for difficulty_idx,difficulty in enumerate(['nothing', 'easy', 'medium', 'hard']):\n",
    "    if feature[timestep][0][difficulty_feature_idx + difficulty_idx].item() > 0:\n",
    "      return difficulty\n",
    "  return 'nothing'\n",
    "\n",
    "def get_initial_difficulty(feature, parameter_info_list):\n",
    "  #feature = tensor['feature']\n",
    "  history_length = feature.size()[0]\n",
    "  timestep = 0\n",
    "  #if len(feature) < 2:\n",
    "  #  return 'nothing'\n",
    "  enabled_feature_list = get_enabled_features_list_from_parameter_info_list(parameter_info_list)\n",
    "  get_feature_index = make_get_index(enabled_feature_list)\n",
    "  difficulty_feature_idx = get_feature_index('initial_difficulty')\n",
    "  for difficulty_idx,difficulty in enumerate(['nothing', 'easy', 'medium', 'hard']):\n",
    "    if feature[timestep][0][difficulty_feature_idx + difficulty_idx].item() > 0:\n",
    "      return difficulty\n",
    "  return 'nothing'\n",
    "\n",
    "def always_predict_nothing(feature, parameter_info_list):\n",
    "  return 'nothing'\n",
    "\n",
    "def most_common_key_for_counter(c):\n",
    "  best_key = None\n",
    "  for k,v in c.items():\n",
    "    if best_key == None:\n",
    "      best_key = k\n",
    "      continue\n",
    "    if c[k] > c[best_key]:\n",
    "      best_key = k\n",
    "  return best_key\n",
    "\n",
    "def always_predict_most_common_previous(feature, parameter_info_list):\n",
    "  history_length = feature.size()[0]\n",
    "  if len(feature) < 2:\n",
    "    return 'nothing'\n",
    "  enabled_feature_list = get_enabled_features_list_from_parameter_info_list(parameter_info_list)\n",
    "  get_feature_index = make_get_index(enabled_feature_list)\n",
    "  difficulty_feature_idx = get_feature_index('difficulty')\n",
    "  difficulty_choices = Counter()\n",
    "  for timestep in range(0, history_length - 1):\n",
    "    for difficulty_idx,difficulty in enumerate(['nothing', 'easy', 'medium', 'hard']):\n",
    "      if feature[timestep][0][difficulty_feature_idx + difficulty_idx].item() > 0:\n",
    "        difficulty_choices[difficulty] += 1\n",
    "  output = most_common_key_for_counter(difficulty_choices)\n",
    "  if output == None:\n",
    "    return 'nothing'\n",
    "  return output\n",
    "  #return 'nothing'\n",
    "\n",
    "#print(get_current_difficulty(train_data[299]))\n",
    "#print(get_most_recently_chosen_difficulty(train_data[299]))\n",
    "# counts = Counter()\n",
    "# for x in train_data:\n",
    "#   current_difficulty = get_most_recently_chosen_difficulty(x['feature'])\n",
    "#   counts[current_difficulty] += 1\n",
    "# print(counts)"
   ]
  },
  {
   "cell_type": "code",
   "execution_count": 15,
   "metadata": {},
   "outputs": [],
   "source": [
    "#print(train_data[0])"
   ]
  },
  {
   "cell_type": "code",
   "execution_count": 16,
   "metadata": {},
   "outputs": [],
   "source": [
    "def evaluate_function_model_on_dataset(parameter_info_list, func, dataset, prefix='dev_') -> Dict[str, Any]:\n",
    "  confusion = [[0,0,0,0],[0,0,0,0],[0,0,0,0],[0,0,0,0]]\n",
    "  correct = 0\n",
    "  total = 0\n",
    "  for item in dataset:\n",
    "    category_tensor = item['category']\n",
    "    feature_tensor = item['feature']\n",
    "    if feature_tensor.size()[0] == 0:\n",
    "        continue\n",
    "    difficulty = tensor_to_difficulty(category_tensor)\n",
    "    difficulty_idx = get_difficulty_idx(difficulty)\n",
    "    #predicted_tensor = make_prediction(model, feature_tensor.cuda())\n",
    "    #predicted_difficulty = prediction_to_difficulty(predicted_tensor)\n",
    "    predicted_difficulty = func(feature_tensor, parameter_info_list)\n",
    "    predicted_difficulty_idx = get_difficulty_idx(predicted_difficulty)\n",
    "    if predicted_difficulty_idx == difficulty_idx:\n",
    "      correct += 1\n",
    "    total += 1\n",
    "    confusion[difficulty_idx][predicted_difficulty_idx] += 1\n",
    "  return {\n",
    "    prefix + 'correct': correct,\n",
    "    prefix + 'total': total,\n",
    "    prefix + 'confusion': confusion,\n",
    "  }\n"
   ]
  },
  {
   "cell_type": "code",
   "execution_count": 17,
   "metadata": {},
   "outputs": [],
   "source": [
    "def evaluate_baseline_model_on_dataset(parameter_info_list, dataset, prefix='dev_'):\n",
    "  confusion = [[0,0,0,0],[0,0,0,0],[0,0,0,0],[0,0,0,0]]\n",
    "  correct = 0\n",
    "  total = 0\n",
    "  for item in dataset:\n",
    "    category_tensor = item['category']\n",
    "    feature_tensor = item['feature']\n",
    "    if feature_tensor.size()[0] == 0:\n",
    "        continue\n",
    "    difficulty = tensor_to_difficulty(category_tensor)\n",
    "    difficulty_idx = get_difficulty_idx(difficulty)\n",
    "    #predicted_tensor = make_prediction(model, feature_tensor.cuda())\n",
    "    #predicted_difficulty = prediction_to_difficulty(predicted_tensor)\n",
    "    predicted_difficulty = get_most_recently_chosen_difficulty(feature_tensor, parameter_info_list)\n",
    "    predicted_difficulty_idx = get_difficulty_idx(predicted_difficulty)\n",
    "    if predicted_difficulty_idx == difficulty_idx:\n",
    "      correct += 1\n",
    "    total += 1\n",
    "    confusion[difficulty_idx][predicted_difficulty_idx] += 1\n",
    "  return {\n",
    "    prefix + 'correct': correct,\n",
    "    prefix + 'total': total,\n",
    "    prefix + 'confusion': confusion,\n",
    "  }\n"
   ]
  },
  {
   "cell_type": "code",
   "execution_count": null,
   "metadata": {},
   "outputs": [],
   "source": []
  },
  {
   "cell_type": "code",
   "execution_count": 18,
   "metadata": {},
   "outputs": [],
   "source": [
    "#print(evaluate_baseline_model_on_dataset(dev_data))"
   ]
  },
  {
   "cell_type": "code",
   "execution_count": null,
   "metadata": {},
   "outputs": [],
   "source": []
  },
  {
   "cell_type": "code",
   "execution_count": 19,
   "metadata": {},
   "outputs": [],
   "source": [
    "# every_n_visits_to_dev_evaluation_results : Dict[int, Dict[str, Any]] = {}\n",
    "# every_n_visits_to_train_evaluation_results : Dict[int, Dict[str, Any]] = {}"
   ]
  },
  {
   "cell_type": "code",
   "execution_count": 20,
   "metadata": {},
   "outputs": [],
   "source": [
    "# true = True\n",
    "# false = False\n",
    "# parameter_info_list : List[Dict[str, Any]] = [{\"name\": \"dataset_name\", \"type\": \"dataset\", \"values\": [\"2019_04_01\"], \"value\": \"2019_04_01\"}, {\"name\": \"model_name\", \"type\": \"model\", \"values\": [\"selfattentionlstm\"], \"value\": \"selfattentionlstm\"}, {\"name\": \"criterion\", \"type\": \"model\", \"values\": [\"NLLLoss\"], \"value\": \"NLLLoss\"}, {\"name\": \"learning_rate\", \"type\": \"model\", \"values\": [0.005, 0.05, 0.0005, 5e-05], \"value\": 5e-05}, {\"name\": \"window_embed_size\", \"type\": \"model\", \"values\": [64, 128, 256, 512], \"value\": 256}, {\"name\": \"difficulty\", \"type\": \"feature\", \"values\": [true, false], \"value\": true}, {\"name\": \"time_of_day\", \"type\": \"feature\", \"values\": [true, false], \"value\": true}, {\"name\": \"day_of_week\", \"type\": \"feature\", \"values\": [true, false], \"value\": true}, {\"name\": \"domain_productivity\", \"type\": \"feature\", \"values\": [true, false], \"value\": true}, {\"name\": \"domain_category\", \"type\": \"feature\", \"values\": [true, false], \"value\": true}, {\"name\": \"initial_difficulty\", \"type\": \"feature\", \"values\": [true, false], \"value\": true}, {\"name\": \"languages\", \"type\": \"feature\", \"values\": [true, false], \"value\": true}, {\"name\": \"num_prior_entries\", \"type\": \"dataparam\", \"values\": [10, 20, 30, 40], \"value\": 10}, {\"name\": \"sample_every_n_visits\", \"type\": \"dataparam\", \"values\": [1], \"value\": 1}, {\"name\": \"sample_difficulty_every_n_visits\", \"type\": \"dataparam\", \"values\": [1], \"value\": 1}, {\"name\": \"disable_prior_visit_history\", \"type\": \"dataparam\", \"values\": [false, true], \"value\": false}, {\"name\": \"disable_difficulty_history\", \"type\": \"dataparam\", \"values\": [false, true], \"value\": false}, {\"name\": \"enable_current_difficulty\", \"type\": \"dataparam\", \"values\": [false, true], \"value\": false}, {\"name\": \"num_features\", \"type\": \"model\", \"values\": [277], \"value\": 277}]\n",
    "# train_data,dev_data,test_data = get_data_for_parameters(parameter_info_list)\n"
   ]
  },
  {
   "cell_type": "code",
   "execution_count": 21,
   "metadata": {},
   "outputs": [],
   "source": [
    "# initial_difficulty_stats = evaluate_function_model_on_dataset(parameter_info_list, get_initial_difficulty, dev_data)\n",
    "# print(initial_difficulty_stats)"
   ]
  },
  {
   "cell_type": "code",
   "execution_count": 22,
   "metadata": {},
   "outputs": [],
   "source": [
    "# first_chosen_difficulty_stats = evaluate_function_model_on_dataset(parameter_info_list, get_first_chosen_difficulty, dev_data)\n",
    "# print(first_chosen_difficulty_stats)"
   ]
  },
  {
   "cell_type": "code",
   "execution_count": 23,
   "metadata": {},
   "outputs": [],
   "source": [
    "# always_nothing_stats = evaluate_function_model_on_dataset(parameter_info_list, always_predict_nothing, dev_data)\n",
    "# print(always_nothing_stats)"
   ]
  },
  {
   "cell_type": "code",
   "execution_count": 24,
   "metadata": {},
   "outputs": [],
   "source": [
    "#most_common_previous_stats = evaluate_function_model_on_dataset(parameter_info_list, always_predict_most_common_previous, dev_data)\n",
    "#print(most_common_previous_stats)"
   ]
  },
  {
   "cell_type": "code",
   "execution_count": 25,
   "metadata": {},
   "outputs": [
    {
     "name": "stdout",
     "output_type": "stream",
     "text": [
      "Created cache directory 2019_04_25/get_evaluation_results_for_named_baseline\n"
     ]
    }
   ],
   "source": [
    "@jsonmemo1arg\n",
    "def get_evaluation_results_for_named_baseline(baseline_name):\n",
    "  baseline_name_to_func = {\n",
    "    'initial_difficulty': get_initial_difficulty,\n",
    "    'first_chosen': get_first_chosen_difficulty,\n",
    "    'always_nothing': always_predict_nothing,\n",
    "    'most_common_previous': always_predict_most_common_previous,\n",
    "  }\n",
    "  true = True\n",
    "  false = False\n",
    "  parameter_info_list : List[Dict[str, Any]] = [{\"name\": \"dataset_name\", \"type\": \"dataset\", \"values\": [\"2019_04_01\"], \"value\": \"2019_04_01\"}, {\"name\": \"model_name\", \"type\": \"model\", \"values\": [\"selfattentionlstm\"], \"value\": \"selfattentionlstm\"}, {\"name\": \"criterion\", \"type\": \"model\", \"values\": [\"NLLLoss\"], \"value\": \"NLLLoss\"}, {\"name\": \"learning_rate\", \"type\": \"model\", \"values\": [0.005, 0.05, 0.0005, 5e-05], \"value\": 5e-05}, {\"name\": \"window_embed_size\", \"type\": \"model\", \"values\": [64, 128, 256, 512], \"value\": 256}, {\"name\": \"difficulty\", \"type\": \"feature\", \"values\": [true, false], \"value\": true}, {\"name\": \"time_of_day\", \"type\": \"feature\", \"values\": [true, false], \"value\": true}, {\"name\": \"day_of_week\", \"type\": \"feature\", \"values\": [true, false], \"value\": true}, {\"name\": \"domain_productivity\", \"type\": \"feature\", \"values\": [true, false], \"value\": true}, {\"name\": \"domain_category\", \"type\": \"feature\", \"values\": [true, false], \"value\": true}, {\"name\": \"initial_difficulty\", \"type\": \"feature\", \"values\": [true, false], \"value\": true}, {\"name\": \"languages\", \"type\": \"feature\", \"values\": [true, false], \"value\": true}, {\"name\": \"num_prior_entries\", \"type\": \"dataparam\", \"values\": [10, 20, 30, 40], \"value\": 10}, {\"name\": \"sample_every_n_visits\", \"type\": \"dataparam\", \"values\": [1], \"value\": 1}, {\"name\": \"sample_difficulty_every_n_visits\", \"type\": \"dataparam\", \"values\": [1], \"value\": 1}, {\"name\": \"disable_prior_visit_history\", \"type\": \"dataparam\", \"values\": [false, true], \"value\": false}, {\"name\": \"disable_difficulty_history\", \"type\": \"dataparam\", \"values\": [false, true], \"value\": false}, {\"name\": \"enable_current_difficulty\", \"type\": \"dataparam\", \"values\": [false, true], \"value\": false}, {\"name\": \"num_features\", \"type\": \"model\", \"values\": [277], \"value\": 277}]\n",
    "  train_data,dev_data,test_data = get_data_for_parameters(parameter_info_list)\n",
    "  baseline_func = baseline_name_to_func[baseline_name]\n",
    "  return evaluate_function_model_on_dataset(parameter_info_list, baseline_func, dev_data)"
   ]
  },
  {
   "cell_type": "code",
   "execution_count": 26,
   "metadata": {},
   "outputs": [
    {
     "name": "stdout",
     "output_type": "stream",
     "text": [
      "Created cache directory 2019_04_25/get_evaluation_results_for_sample_every_n_visits\n"
     ]
    }
   ],
   "source": [
    "def set_parameter_in_parameter_info_list(parameter_info_list, parameter_name, parameter_value):\n",
    "  for parameter_info in parameter_info_list:\n",
    "    if parameter_info['name'] == parameter_name:\n",
    "      parameter_info['values'] = [parameter_value]\n",
    "      parameter_info['value'] = parameter_value\n",
    "\n",
    "@jsonmemo1arg\n",
    "def get_evaluation_results_for_sample_every_n_visits(sample_every_n_visits):\n",
    "  true = True\n",
    "  false = False\n",
    "  parameter_info_list = [{\"name\": \"dataset_name\", \"type\": \"dataset\", \"values\": [\"2019_04_11\"], \"value\": \"2019_04_11\"}, {\"name\": \"model_name\", \"type\": \"model\", \"values\": [\"selfattentionlstm\"], \"value\": \"selfattentionlstm\"}, {\"name\": \"criterion\", \"type\": \"model\", \"values\": [\"NLLLoss\"], \"value\": \"NLLLoss\"}, {\"name\": \"learning_rate\", \"type\": \"model\", \"values\": [0.005, 0.05, 0.0005, 5e-05], \"value\": 5e-05}, {\"name\": \"window_embed_size\", \"type\": \"model\", \"values\": [64, 128, 256, 512], \"value\": 256}, {\"name\": \"difficulty\", \"type\": \"feature\", \"values\": [true, false], \"value\": true}, {\"name\": \"time_of_day\", \"type\": \"feature\", \"values\": [true, false], \"value\": true}, {\"name\": \"day_of_week\", \"type\": \"feature\", \"values\": [true, false], \"value\": true}, {\"name\": \"domain_productivity\", \"type\": \"feature\", \"values\": [true, false], \"value\": true}, {\"name\": \"domain_category\", \"type\": \"feature\", \"values\": [true, false], \"value\": true}, {\"name\": \"initial_difficulty\", \"type\": \"feature\", \"values\": [true, false], \"value\": true}, {\"name\": \"languages\", \"type\": \"feature\", \"values\": [true, false], \"value\": true}, {\"name\": \"num_prior_entries\", \"type\": \"dataparam\", \"values\": [10, 20, 30, 40], \"value\": 10}, {\"name\": \"sample_every_n_visits\", \"type\": \"dataparam\", \"values\": [1], \"value\": 1}, {\"name\": \"sample_difficulty_every_n_visits\", \"type\": \"dataparam\", \"values\": [1], \"value\": 1}, {\"name\": \"disable_prior_visit_history\", \"type\": \"dataparam\", \"values\": [false, true], \"value\": false}, {\"name\": \"disable_difficulty_history\", \"type\": \"dataparam\", \"values\": [false, true], \"value\": false}, {\"name\": \"enable_current_difficulty\", \"type\": \"dataparam\", \"values\": [false, true], \"value\": false}, {\"name\": \"num_features\", \"type\": \"model\", \"values\": [277], \"value\": 277}]\n",
    "  set_parameter_in_parameter_info_list(parameter_info_list, 'sample_every_n_visits', sample_every_n_visits)\n",
    "  train_data,dev_data,test_data = get_data_for_parameters(parameter_info_list)\n",
    "  evaluation_results = evaluate_baseline_model_on_dataset(parameter_info_list, dev_data)\n",
    "  return evaluation_results\n",
    "\n",
    "def main():\n",
    "  for baseline_name in ['initial_difficulty', 'first_chosen', 'always_nothing', 'most_common_previous']:\n",
    "    print(baseline_name)\n",
    "    print(get_evaluation_results_for_named_baseline(baseline_name))\n",
    "  \n",
    "  sample_every_n_visits_options = [1,2,3,4,5,7,9,10,15,20,25,30,35,40,45,50,55,60,65,70,75,80,85,90,95,100,105,110,115,120,125,130]\n",
    "  sample_every_n_visits_options.extend(list(range(1, 1000)))\n",
    "  for sample_every_n_visits in sample_every_n_visits_options:\n",
    "    print(sample_every_n_visits)\n",
    "    print(get_evaluation_results_for_sample_every_n_visits(sample_every_n_visits))\n"
   ]
  },
  {
   "cell_type": "code",
   "execution_count": 27,
   "metadata": {},
   "outputs": [
    {
     "name": "stdout",
     "output_type": "stream",
     "text": [
      "initial_difficulty\n",
      "exception in jsonmemo1arg for file 2019_04_25/get_evaluation_results_for_named_baseline/initial_difficulty.json\n",
      "[Errno 2] No such file or directory: '2019_04_25/get_evaluation_results_for_named_baseline/initial_difficulty.json'\n",
      "performing computation 2019_04_25/get_evaluation_results_for_named_baseline/initial_difficulty.json for arg initial_difficulty\n",
      "running get_data_for_parameters\n",
      "{'name': 'num_prior_entries', 'type': 'dataparam', 'values': [10, 20, 30, 40], 'value': 10}\n",
      "{'name': 'sample_every_n_visits', 'type': 'dataparam', 'values': [1], 'value': 1}\n",
      "{'name': 'sample_difficulty_every_n_visits', 'type': 'dataparam', 'values': [1], 'value': 1}\n",
      "{'name': 'disable_prior_visit_history', 'type': 'dataparam', 'values': [False, True], 'value': False}\n",
      "{'name': 'disable_difficulty_history', 'type': 'dataparam', 'values': [False, True], 'value': False}\n",
      "{'name': 'enable_current_difficulty', 'type': 'dataparam', 'values': [False, True], 'value': False}\n",
      "running get_all_features_data\n",
      "all_features_data is\n",
      "<class 'dict'>\n",
      "all_data_tensors is\n",
      "<class 'list'>\n",
      "running split_into_train_dev_test\n",
      "done with computation 2019_04_25/get_evaluation_results_for_named_baseline/initial_difficulty.json\n",
      "{'dev_correct': 2454, 'dev_total': 7560, 'dev_confusion': [[141, 1485, 810, 783], [281, 1183, 573, 160], [68, 575, 1079, 59], [4, 124, 184, 51]]}\n",
      "first_chosen\n",
      "exception in jsonmemo1arg for file 2019_04_25/get_evaluation_results_for_named_baseline/first_chosen.json\n",
      "[Errno 2] No such file or directory: '2019_04_25/get_evaluation_results_for_named_baseline/first_chosen.json'\n",
      "performing computation 2019_04_25/get_evaluation_results_for_named_baseline/first_chosen.json for arg first_chosen\n",
      "running get_data_for_parameters\n",
      "{'name': 'num_prior_entries', 'type': 'dataparam', 'values': [10, 20, 30, 40], 'value': 10}\n",
      "{'name': 'sample_every_n_visits', 'type': 'dataparam', 'values': [1], 'value': 1}\n",
      "{'name': 'sample_difficulty_every_n_visits', 'type': 'dataparam', 'values': [1], 'value': 1}\n",
      "{'name': 'disable_prior_visit_history', 'type': 'dataparam', 'values': [False, True], 'value': False}\n",
      "{'name': 'disable_difficulty_history', 'type': 'dataparam', 'values': [False, True], 'value': False}\n",
      "{'name': 'enable_current_difficulty', 'type': 'dataparam', 'values': [False, True], 'value': False}\n",
      "running get_all_features_data\n",
      "all_features_data is\n",
      "<class 'dict'>\n",
      "all_data_tensors is\n",
      "<class 'list'>\n",
      "running split_into_train_dev_test\n",
      "done with computation 2019_04_25/get_evaluation_results_for_named_baseline/first_chosen.json\n",
      "{'dev_correct': 6052, 'dev_total': 7560, 'dev_confusion': [[2638, 397, 80, 104], [230, 1707, 212, 48], [100, 182, 1463, 36], [43, 20, 56, 244]]}\n",
      "always_nothing\n",
      "exception in jsonmemo1arg for file 2019_04_25/get_evaluation_results_for_named_baseline/always_nothing.json\n",
      "[Errno 2] No such file or directory: '2019_04_25/get_evaluation_results_for_named_baseline/always_nothing.json'\n",
      "performing computation 2019_04_25/get_evaluation_results_for_named_baseline/always_nothing.json for arg always_nothing\n",
      "running get_data_for_parameters\n",
      "{'name': 'num_prior_entries', 'type': 'dataparam', 'values': [10, 20, 30, 40], 'value': 10}\n",
      "{'name': 'sample_every_n_visits', 'type': 'dataparam', 'values': [1], 'value': 1}\n",
      "{'name': 'sample_difficulty_every_n_visits', 'type': 'dataparam', 'values': [1], 'value': 1}\n",
      "{'name': 'disable_prior_visit_history', 'type': 'dataparam', 'values': [False, True], 'value': False}\n",
      "{'name': 'disable_difficulty_history', 'type': 'dataparam', 'values': [False, True], 'value': False}\n",
      "{'name': 'enable_current_difficulty', 'type': 'dataparam', 'values': [False, True], 'value': False}\n",
      "running get_all_features_data\n",
      "all_features_data is\n",
      "<class 'dict'>\n",
      "all_data_tensors is\n",
      "<class 'list'>\n",
      "running split_into_train_dev_test\n",
      "done with computation 2019_04_25/get_evaluation_results_for_named_baseline/always_nothing.json\n",
      "{'dev_correct': 3219, 'dev_total': 7560, 'dev_confusion': [[3219, 0, 0, 0], [2197, 0, 0, 0], [1781, 0, 0, 0], [363, 0, 0, 0]]}\n",
      "most_common_previous\n",
      "exception in jsonmemo1arg for file 2019_04_25/get_evaluation_results_for_named_baseline/most_common_previous.json\n",
      "[Errno 2] No such file or directory: '2019_04_25/get_evaluation_results_for_named_baseline/most_common_previous.json'\n",
      "performing computation 2019_04_25/get_evaluation_results_for_named_baseline/most_common_previous.json for arg most_common_previous\n",
      "running get_data_for_parameters\n",
      "{'name': 'num_prior_entries', 'type': 'dataparam', 'values': [10, 20, 30, 40], 'value': 10}\n",
      "{'name': 'sample_every_n_visits', 'type': 'dataparam', 'values': [1], 'value': 1}\n",
      "{'name': 'sample_difficulty_every_n_visits', 'type': 'dataparam', 'values': [1], 'value': 1}\n",
      "{'name': 'disable_prior_visit_history', 'type': 'dataparam', 'values': [False, True], 'value': False}\n",
      "{'name': 'disable_difficulty_history', 'type': 'dataparam', 'values': [False, True], 'value': False}\n",
      "{'name': 'enable_current_difficulty', 'type': 'dataparam', 'values': [False, True], 'value': False}\n",
      "running get_all_features_data\n",
      "all_features_data is\n",
      "<class 'dict'>\n"
     ]
    },
    {
     "ename": "KeyboardInterrupt",
     "evalue": "",
     "output_type": "error",
     "traceback": [
      "\u001b[0;31m---------------------------------------------------------------------------\u001b[0m",
      "\u001b[0;31mKeyboardInterrupt\u001b[0m                         Traceback (most recent call last)",
      "\u001b[0;32m<ipython-input-27-b824ae557985>\u001b[0m in \u001b[0;36m<module>\u001b[0;34m\u001b[0m\n\u001b[1;32m      1\u001b[0m \u001b[0;31m# noexport\u001b[0m\u001b[0;34m\u001b[0m\u001b[0;34m\u001b[0m\u001b[0;34m\u001b[0m\u001b[0m\n\u001b[1;32m      2\u001b[0m \u001b[0;34m\u001b[0m\u001b[0m\n\u001b[0;32m----> 3\u001b[0;31m \u001b[0mmain\u001b[0m\u001b[0;34m(\u001b[0m\u001b[0;34m)\u001b[0m\u001b[0;34m\u001b[0m\u001b[0;34m\u001b[0m\u001b[0m\n\u001b[0m",
      "\u001b[0;32m<ipython-input-26-380857d1bb99>\u001b[0m in \u001b[0;36mmain\u001b[0;34m()\u001b[0m\n\u001b[1;32m     18\u001b[0m   \u001b[0;32mfor\u001b[0m \u001b[0mbaseline_name\u001b[0m \u001b[0;32min\u001b[0m \u001b[0;34m[\u001b[0m\u001b[0;34m'initial_difficulty'\u001b[0m\u001b[0;34m,\u001b[0m \u001b[0;34m'first_chosen'\u001b[0m\u001b[0;34m,\u001b[0m \u001b[0;34m'always_nothing'\u001b[0m\u001b[0;34m,\u001b[0m \u001b[0;34m'most_common_previous'\u001b[0m\u001b[0;34m]\u001b[0m\u001b[0;34m:\u001b[0m\u001b[0;34m\u001b[0m\u001b[0;34m\u001b[0m\u001b[0m\n\u001b[1;32m     19\u001b[0m     \u001b[0mprint\u001b[0m\u001b[0;34m(\u001b[0m\u001b[0mbaseline_name\u001b[0m\u001b[0;34m)\u001b[0m\u001b[0;34m\u001b[0m\u001b[0;34m\u001b[0m\u001b[0m\n\u001b[0;32m---> 20\u001b[0;31m     \u001b[0mprint\u001b[0m\u001b[0;34m(\u001b[0m\u001b[0mget_evaluation_results_for_named_baseline\u001b[0m\u001b[0;34m(\u001b[0m\u001b[0mbaseline_name\u001b[0m\u001b[0;34m)\u001b[0m\u001b[0;34m)\u001b[0m\u001b[0;34m\u001b[0m\u001b[0;34m\u001b[0m\u001b[0m\n\u001b[0m\u001b[1;32m     21\u001b[0m \u001b[0;34m\u001b[0m\u001b[0m\n\u001b[1;32m     22\u001b[0m   \u001b[0msample_every_n_visits_options\u001b[0m \u001b[0;34m=\u001b[0m \u001b[0;34m[\u001b[0m\u001b[0;36m1\u001b[0m\u001b[0;34m,\u001b[0m\u001b[0;36m2\u001b[0m\u001b[0;34m,\u001b[0m\u001b[0;36m3\u001b[0m\u001b[0;34m,\u001b[0m\u001b[0;36m4\u001b[0m\u001b[0;34m,\u001b[0m\u001b[0;36m5\u001b[0m\u001b[0;34m,\u001b[0m\u001b[0;36m7\u001b[0m\u001b[0;34m,\u001b[0m\u001b[0;36m9\u001b[0m\u001b[0;34m,\u001b[0m\u001b[0;36m10\u001b[0m\u001b[0;34m,\u001b[0m\u001b[0;36m15\u001b[0m\u001b[0;34m,\u001b[0m\u001b[0;36m20\u001b[0m\u001b[0;34m,\u001b[0m\u001b[0;36m25\u001b[0m\u001b[0;34m,\u001b[0m\u001b[0;36m30\u001b[0m\u001b[0;34m,\u001b[0m\u001b[0;36m35\u001b[0m\u001b[0;34m,\u001b[0m\u001b[0;36m40\u001b[0m\u001b[0;34m,\u001b[0m\u001b[0;36m45\u001b[0m\u001b[0;34m,\u001b[0m\u001b[0;36m50\u001b[0m\u001b[0;34m,\u001b[0m\u001b[0;36m55\u001b[0m\u001b[0;34m,\u001b[0m\u001b[0;36m60\u001b[0m\u001b[0;34m,\u001b[0m\u001b[0;36m65\u001b[0m\u001b[0;34m,\u001b[0m\u001b[0;36m70\u001b[0m\u001b[0;34m,\u001b[0m\u001b[0;36m75\u001b[0m\u001b[0;34m,\u001b[0m\u001b[0;36m80\u001b[0m\u001b[0;34m,\u001b[0m\u001b[0;36m85\u001b[0m\u001b[0;34m,\u001b[0m\u001b[0;36m90\u001b[0m\u001b[0;34m,\u001b[0m\u001b[0;36m95\u001b[0m\u001b[0;34m,\u001b[0m\u001b[0;36m100\u001b[0m\u001b[0;34m,\u001b[0m\u001b[0;36m105\u001b[0m\u001b[0;34m,\u001b[0m\u001b[0;36m110\u001b[0m\u001b[0;34m,\u001b[0m\u001b[0;36m115\u001b[0m\u001b[0;34m,\u001b[0m\u001b[0;36m120\u001b[0m\u001b[0;34m,\u001b[0m\u001b[0;36m125\u001b[0m\u001b[0;34m,\u001b[0m\u001b[0;36m130\u001b[0m\u001b[0;34m]\u001b[0m\u001b[0;34m\u001b[0m\u001b[0;34m\u001b[0m\u001b[0m\n",
      "\u001b[0;32m~/motivation/jsonmemo.py\u001b[0m in \u001b[0;36mwrapped\u001b[0;34m(arg1)\u001b[0m\n\u001b[1;32m    236\u001b[0m         \u001b[0;32mpass\u001b[0m\u001b[0;34m\u001b[0m\u001b[0;34m\u001b[0m\u001b[0m\n\u001b[1;32m    237\u001b[0m       \u001b[0mprint\u001b[0m\u001b[0;34m(\u001b[0m\u001b[0;34m'performing computation '\u001b[0m \u001b[0;34m+\u001b[0m \u001b[0mcachepath\u001b[0m \u001b[0;34m+\u001b[0m \u001b[0;34m' for arg '\u001b[0m \u001b[0;34m+\u001b[0m \u001b[0mstr\u001b[0m\u001b[0;34m(\u001b[0m\u001b[0marg1\u001b[0m\u001b[0;34m)\u001b[0m\u001b[0;34m)\u001b[0m\u001b[0;34m\u001b[0m\u001b[0;34m\u001b[0m\u001b[0m\n\u001b[0;32m--> 238\u001b[0;31m       \u001b[0mcacheitem\u001b[0m \u001b[0;34m=\u001b[0m \u001b[0mf\u001b[0m\u001b[0;34m(\u001b[0m\u001b[0marg1\u001b[0m\u001b[0;34m)\u001b[0m\u001b[0;34m\u001b[0m\u001b[0;34m\u001b[0m\u001b[0m\n\u001b[0m\u001b[1;32m    239\u001b[0m       \u001b[0mprint\u001b[0m\u001b[0;34m(\u001b[0m\u001b[0;34m'done with computation '\u001b[0m \u001b[0;34m+\u001b[0m \u001b[0mcachepath\u001b[0m\u001b[0;34m)\u001b[0m\u001b[0;34m\u001b[0m\u001b[0;34m\u001b[0m\u001b[0m\n\u001b[1;32m    240\u001b[0m       \u001b[0;32mif\u001b[0m \u001b[0;32mnot\u001b[0m \u001b[0mis_lowmem_funcname\u001b[0m\u001b[0;34m(\u001b[0m\u001b[0mfuncname\u001b[0m\u001b[0;34m)\u001b[0m\u001b[0;34m:\u001b[0m\u001b[0;34m\u001b[0m\u001b[0;34m\u001b[0m\u001b[0m\n",
      "\u001b[0;32m<ipython-input-25-cbb0550da0e4>\u001b[0m in \u001b[0;36mget_evaluation_results_for_named_baseline\u001b[0;34m(baseline_name)\u001b[0m\n\u001b[1;32m     10\u001b[0m   \u001b[0mfalse\u001b[0m \u001b[0;34m=\u001b[0m \u001b[0;32mFalse\u001b[0m\u001b[0;34m\u001b[0m\u001b[0;34m\u001b[0m\u001b[0m\n\u001b[1;32m     11\u001b[0m   \u001b[0mparameter_info_list\u001b[0m \u001b[0;34m:\u001b[0m \u001b[0mList\u001b[0m\u001b[0;34m[\u001b[0m\u001b[0mDict\u001b[0m\u001b[0;34m[\u001b[0m\u001b[0mstr\u001b[0m\u001b[0;34m,\u001b[0m \u001b[0mAny\u001b[0m\u001b[0;34m]\u001b[0m\u001b[0;34m]\u001b[0m \u001b[0;34m=\u001b[0m \u001b[0;34m[\u001b[0m\u001b[0;34m{\u001b[0m\u001b[0;34m\"name\"\u001b[0m\u001b[0;34m:\u001b[0m \u001b[0;34m\"dataset_name\"\u001b[0m\u001b[0;34m,\u001b[0m \u001b[0;34m\"type\"\u001b[0m\u001b[0;34m:\u001b[0m \u001b[0;34m\"dataset\"\u001b[0m\u001b[0;34m,\u001b[0m \u001b[0;34m\"values\"\u001b[0m\u001b[0;34m:\u001b[0m \u001b[0;34m[\u001b[0m\u001b[0;34m\"2019_04_01\"\u001b[0m\u001b[0;34m]\u001b[0m\u001b[0;34m,\u001b[0m \u001b[0;34m\"value\"\u001b[0m\u001b[0;34m:\u001b[0m \u001b[0;34m\"2019_04_01\"\u001b[0m\u001b[0;34m}\u001b[0m\u001b[0;34m,\u001b[0m \u001b[0;34m{\u001b[0m\u001b[0;34m\"name\"\u001b[0m\u001b[0;34m:\u001b[0m \u001b[0;34m\"model_name\"\u001b[0m\u001b[0;34m,\u001b[0m \u001b[0;34m\"type\"\u001b[0m\u001b[0;34m:\u001b[0m \u001b[0;34m\"model\"\u001b[0m\u001b[0;34m,\u001b[0m \u001b[0;34m\"values\"\u001b[0m\u001b[0;34m:\u001b[0m \u001b[0;34m[\u001b[0m\u001b[0;34m\"selfattentionlstm\"\u001b[0m\u001b[0;34m]\u001b[0m\u001b[0;34m,\u001b[0m \u001b[0;34m\"value\"\u001b[0m\u001b[0;34m:\u001b[0m \u001b[0;34m\"selfattentionlstm\"\u001b[0m\u001b[0;34m}\u001b[0m\u001b[0;34m,\u001b[0m \u001b[0;34m{\u001b[0m\u001b[0;34m\"name\"\u001b[0m\u001b[0;34m:\u001b[0m \u001b[0;34m\"criterion\"\u001b[0m\u001b[0;34m,\u001b[0m \u001b[0;34m\"type\"\u001b[0m\u001b[0;34m:\u001b[0m \u001b[0;34m\"model\"\u001b[0m\u001b[0;34m,\u001b[0m \u001b[0;34m\"values\"\u001b[0m\u001b[0;34m:\u001b[0m \u001b[0;34m[\u001b[0m\u001b[0;34m\"NLLLoss\"\u001b[0m\u001b[0;34m]\u001b[0m\u001b[0;34m,\u001b[0m \u001b[0;34m\"value\"\u001b[0m\u001b[0;34m:\u001b[0m \u001b[0;34m\"NLLLoss\"\u001b[0m\u001b[0;34m}\u001b[0m\u001b[0;34m,\u001b[0m \u001b[0;34m{\u001b[0m\u001b[0;34m\"name\"\u001b[0m\u001b[0;34m:\u001b[0m \u001b[0;34m\"learning_rate\"\u001b[0m\u001b[0;34m,\u001b[0m \u001b[0;34m\"type\"\u001b[0m\u001b[0;34m:\u001b[0m \u001b[0;34m\"model\"\u001b[0m\u001b[0;34m,\u001b[0m \u001b[0;34m\"values\"\u001b[0m\u001b[0;34m:\u001b[0m \u001b[0;34m[\u001b[0m\u001b[0;36m0.005\u001b[0m\u001b[0;34m,\u001b[0m \u001b[0;36m0.05\u001b[0m\u001b[0;34m,\u001b[0m \u001b[0;36m0.0005\u001b[0m\u001b[0;34m,\u001b[0m \u001b[0;36m5e-05\u001b[0m\u001b[0;34m]\u001b[0m\u001b[0;34m,\u001b[0m \u001b[0;34m\"value\"\u001b[0m\u001b[0;34m:\u001b[0m \u001b[0;36m5e-05\u001b[0m\u001b[0;34m}\u001b[0m\u001b[0;34m,\u001b[0m \u001b[0;34m{\u001b[0m\u001b[0;34m\"name\"\u001b[0m\u001b[0;34m:\u001b[0m \u001b[0;34m\"window_embed_size\"\u001b[0m\u001b[0;34m,\u001b[0m \u001b[0;34m\"type\"\u001b[0m\u001b[0;34m:\u001b[0m \u001b[0;34m\"model\"\u001b[0m\u001b[0;34m,\u001b[0m \u001b[0;34m\"values\"\u001b[0m\u001b[0;34m:\u001b[0m \u001b[0;34m[\u001b[0m\u001b[0;36m64\u001b[0m\u001b[0;34m,\u001b[0m \u001b[0;36m128\u001b[0m\u001b[0;34m,\u001b[0m \u001b[0;36m256\u001b[0m\u001b[0;34m,\u001b[0m \u001b[0;36m512\u001b[0m\u001b[0;34m]\u001b[0m\u001b[0;34m,\u001b[0m \u001b[0;34m\"value\"\u001b[0m\u001b[0;34m:\u001b[0m \u001b[0;36m256\u001b[0m\u001b[0;34m}\u001b[0m\u001b[0;34m,\u001b[0m \u001b[0;34m{\u001b[0m\u001b[0;34m\"name\"\u001b[0m\u001b[0;34m:\u001b[0m \u001b[0;34m\"difficulty\"\u001b[0m\u001b[0;34m,\u001b[0m \u001b[0;34m\"type\"\u001b[0m\u001b[0;34m:\u001b[0m \u001b[0;34m\"feature\"\u001b[0m\u001b[0;34m,\u001b[0m \u001b[0;34m\"values\"\u001b[0m\u001b[0;34m:\u001b[0m \u001b[0;34m[\u001b[0m\u001b[0mtrue\u001b[0m\u001b[0;34m,\u001b[0m \u001b[0mfalse\u001b[0m\u001b[0;34m]\u001b[0m\u001b[0;34m,\u001b[0m \u001b[0;34m\"value\"\u001b[0m\u001b[0;34m:\u001b[0m \u001b[0mtrue\u001b[0m\u001b[0;34m}\u001b[0m\u001b[0;34m,\u001b[0m \u001b[0;34m{\u001b[0m\u001b[0;34m\"name\"\u001b[0m\u001b[0;34m:\u001b[0m \u001b[0;34m\"time_of_day\"\u001b[0m\u001b[0;34m,\u001b[0m \u001b[0;34m\"type\"\u001b[0m\u001b[0;34m:\u001b[0m \u001b[0;34m\"feature\"\u001b[0m\u001b[0;34m,\u001b[0m \u001b[0;34m\"values\"\u001b[0m\u001b[0;34m:\u001b[0m \u001b[0;34m[\u001b[0m\u001b[0mtrue\u001b[0m\u001b[0;34m,\u001b[0m \u001b[0mfalse\u001b[0m\u001b[0;34m]\u001b[0m\u001b[0;34m,\u001b[0m \u001b[0;34m\"value\"\u001b[0m\u001b[0;34m:\u001b[0m \u001b[0mtrue\u001b[0m\u001b[0;34m}\u001b[0m\u001b[0;34m,\u001b[0m \u001b[0;34m{\u001b[0m\u001b[0;34m\"name\"\u001b[0m\u001b[0;34m:\u001b[0m \u001b[0;34m\"day_of_week\"\u001b[0m\u001b[0;34m,\u001b[0m \u001b[0;34m\"type\"\u001b[0m\u001b[0;34m:\u001b[0m \u001b[0;34m\"feature\"\u001b[0m\u001b[0;34m,\u001b[0m \u001b[0;34m\"values\"\u001b[0m\u001b[0;34m:\u001b[0m \u001b[0;34m[\u001b[0m\u001b[0mtrue\u001b[0m\u001b[0;34m,\u001b[0m \u001b[0mfalse\u001b[0m\u001b[0;34m]\u001b[0m\u001b[0;34m,\u001b[0m \u001b[0;34m\"value\"\u001b[0m\u001b[0;34m:\u001b[0m \u001b[0mtrue\u001b[0m\u001b[0;34m}\u001b[0m\u001b[0;34m,\u001b[0m \u001b[0;34m{\u001b[0m\u001b[0;34m\"name\"\u001b[0m\u001b[0;34m:\u001b[0m \u001b[0;34m\"domain_productivity\"\u001b[0m\u001b[0;34m,\u001b[0m \u001b[0;34m\"type\"\u001b[0m\u001b[0;34m:\u001b[0m \u001b[0;34m\"feature\"\u001b[0m\u001b[0;34m,\u001b[0m \u001b[0;34m\"values\"\u001b[0m\u001b[0;34m:\u001b[0m \u001b[0;34m[\u001b[0m\u001b[0mtrue\u001b[0m\u001b[0;34m,\u001b[0m \u001b[0mfalse\u001b[0m\u001b[0;34m]\u001b[0m\u001b[0;34m,\u001b[0m \u001b[0;34m\"value\"\u001b[0m\u001b[0;34m:\u001b[0m \u001b[0mtrue\u001b[0m\u001b[0;34m}\u001b[0m\u001b[0;34m,\u001b[0m \u001b[0;34m{\u001b[0m\u001b[0;34m\"name\"\u001b[0m\u001b[0;34m:\u001b[0m \u001b[0;34m\"domain_category\"\u001b[0m\u001b[0;34m,\u001b[0m \u001b[0;34m\"type\"\u001b[0m\u001b[0;34m:\u001b[0m \u001b[0;34m\"feature\"\u001b[0m\u001b[0;34m,\u001b[0m \u001b[0;34m\"values\"\u001b[0m\u001b[0;34m:\u001b[0m \u001b[0;34m[\u001b[0m\u001b[0mtrue\u001b[0m\u001b[0;34m,\u001b[0m \u001b[0mfalse\u001b[0m\u001b[0;34m]\u001b[0m\u001b[0;34m,\u001b[0m \u001b[0;34m\"value\"\u001b[0m\u001b[0;34m:\u001b[0m \u001b[0mtrue\u001b[0m\u001b[0;34m}\u001b[0m\u001b[0;34m,\u001b[0m \u001b[0;34m{\u001b[0m\u001b[0;34m\"name\"\u001b[0m\u001b[0;34m:\u001b[0m \u001b[0;34m\"initial_difficulty\"\u001b[0m\u001b[0;34m,\u001b[0m \u001b[0;34m\"type\"\u001b[0m\u001b[0;34m:\u001b[0m \u001b[0;34m\"feature\"\u001b[0m\u001b[0;34m,\u001b[0m \u001b[0;34m\"values\"\u001b[0m\u001b[0;34m:\u001b[0m \u001b[0;34m[\u001b[0m\u001b[0mtrue\u001b[0m\u001b[0;34m,\u001b[0m \u001b[0mfalse\u001b[0m\u001b[0;34m]\u001b[0m\u001b[0;34m,\u001b[0m \u001b[0;34m\"value\"\u001b[0m\u001b[0;34m:\u001b[0m \u001b[0mtrue\u001b[0m\u001b[0;34m}\u001b[0m\u001b[0;34m,\u001b[0m \u001b[0;34m{\u001b[0m\u001b[0;34m\"name\"\u001b[0m\u001b[0;34m:\u001b[0m \u001b[0;34m\"languages\"\u001b[0m\u001b[0;34m,\u001b[0m \u001b[0;34m\"type\"\u001b[0m\u001b[0;34m:\u001b[0m \u001b[0;34m\"feature\"\u001b[0m\u001b[0;34m,\u001b[0m \u001b[0;34m\"values\"\u001b[0m\u001b[0;34m:\u001b[0m \u001b[0;34m[\u001b[0m\u001b[0mtrue\u001b[0m\u001b[0;34m,\u001b[0m \u001b[0mfalse\u001b[0m\u001b[0;34m]\u001b[0m\u001b[0;34m,\u001b[0m \u001b[0;34m\"value\"\u001b[0m\u001b[0;34m:\u001b[0m \u001b[0mtrue\u001b[0m\u001b[0;34m}\u001b[0m\u001b[0;34m,\u001b[0m \u001b[0;34m{\u001b[0m\u001b[0;34m\"name\"\u001b[0m\u001b[0;34m:\u001b[0m \u001b[0;34m\"num_prior_entries\"\u001b[0m\u001b[0;34m,\u001b[0m \u001b[0;34m\"type\"\u001b[0m\u001b[0;34m:\u001b[0m \u001b[0;34m\"dataparam\"\u001b[0m\u001b[0;34m,\u001b[0m \u001b[0;34m\"values\"\u001b[0m\u001b[0;34m:\u001b[0m \u001b[0;34m[\u001b[0m\u001b[0;36m10\u001b[0m\u001b[0;34m,\u001b[0m \u001b[0;36m20\u001b[0m\u001b[0;34m,\u001b[0m \u001b[0;36m30\u001b[0m\u001b[0;34m,\u001b[0m \u001b[0;36m40\u001b[0m\u001b[0;34m]\u001b[0m\u001b[0;34m,\u001b[0m \u001b[0;34m\"value\"\u001b[0m\u001b[0;34m:\u001b[0m \u001b[0;36m10\u001b[0m\u001b[0;34m}\u001b[0m\u001b[0;34m,\u001b[0m \u001b[0;34m{\u001b[0m\u001b[0;34m\"name\"\u001b[0m\u001b[0;34m:\u001b[0m \u001b[0;34m\"sample_every_n_visits\"\u001b[0m\u001b[0;34m,\u001b[0m \u001b[0;34m\"type\"\u001b[0m\u001b[0;34m:\u001b[0m \u001b[0;34m\"dataparam\"\u001b[0m\u001b[0;34m,\u001b[0m \u001b[0;34m\"values\"\u001b[0m\u001b[0;34m:\u001b[0m \u001b[0;34m[\u001b[0m\u001b[0;36m1\u001b[0m\u001b[0;34m]\u001b[0m\u001b[0;34m,\u001b[0m \u001b[0;34m\"value\"\u001b[0m\u001b[0;34m:\u001b[0m \u001b[0;36m1\u001b[0m\u001b[0;34m}\u001b[0m\u001b[0;34m,\u001b[0m \u001b[0;34m{\u001b[0m\u001b[0;34m\"name\"\u001b[0m\u001b[0;34m:\u001b[0m \u001b[0;34m\"sample_difficulty_every_n_visits\"\u001b[0m\u001b[0;34m,\u001b[0m \u001b[0;34m\"type\"\u001b[0m\u001b[0;34m:\u001b[0m \u001b[0;34m\"dataparam\"\u001b[0m\u001b[0;34m,\u001b[0m \u001b[0;34m\"values\"\u001b[0m\u001b[0;34m:\u001b[0m \u001b[0;34m[\u001b[0m\u001b[0;36m1\u001b[0m\u001b[0;34m]\u001b[0m\u001b[0;34m,\u001b[0m \u001b[0;34m\"value\"\u001b[0m\u001b[0;34m:\u001b[0m \u001b[0;36m1\u001b[0m\u001b[0;34m}\u001b[0m\u001b[0;34m,\u001b[0m \u001b[0;34m{\u001b[0m\u001b[0;34m\"name\"\u001b[0m\u001b[0;34m:\u001b[0m \u001b[0;34m\"disable_prior_visit_history\"\u001b[0m\u001b[0;34m,\u001b[0m \u001b[0;34m\"type\"\u001b[0m\u001b[0;34m:\u001b[0m \u001b[0;34m\"dataparam\"\u001b[0m\u001b[0;34m,\u001b[0m \u001b[0;34m\"values\"\u001b[0m\u001b[0;34m:\u001b[0m \u001b[0;34m[\u001b[0m\u001b[0mfalse\u001b[0m\u001b[0;34m,\u001b[0m \u001b[0mtrue\u001b[0m\u001b[0;34m]\u001b[0m\u001b[0;34m,\u001b[0m \u001b[0;34m\"value\"\u001b[0m\u001b[0;34m:\u001b[0m \u001b[0mfalse\u001b[0m\u001b[0;34m}\u001b[0m\u001b[0;34m,\u001b[0m \u001b[0;34m{\u001b[0m\u001b[0;34m\"name\"\u001b[0m\u001b[0;34m:\u001b[0m \u001b[0;34m\"disable_difficulty_history\"\u001b[0m\u001b[0;34m,\u001b[0m \u001b[0;34m\"type\"\u001b[0m\u001b[0;34m:\u001b[0m \u001b[0;34m\"dataparam\"\u001b[0m\u001b[0;34m,\u001b[0m \u001b[0;34m\"values\"\u001b[0m\u001b[0;34m:\u001b[0m \u001b[0;34m[\u001b[0m\u001b[0mfalse\u001b[0m\u001b[0;34m,\u001b[0m \u001b[0mtrue\u001b[0m\u001b[0;34m]\u001b[0m\u001b[0;34m,\u001b[0m \u001b[0;34m\"value\"\u001b[0m\u001b[0;34m:\u001b[0m \u001b[0mfalse\u001b[0m\u001b[0;34m}\u001b[0m\u001b[0;34m,\u001b[0m \u001b[0;34m{\u001b[0m\u001b[0;34m\"name\"\u001b[0m\u001b[0;34m:\u001b[0m \u001b[0;34m\"enable_current_difficulty\"\u001b[0m\u001b[0;34m,\u001b[0m \u001b[0;34m\"type\"\u001b[0m\u001b[0;34m:\u001b[0m \u001b[0;34m\"dataparam\"\u001b[0m\u001b[0;34m,\u001b[0m \u001b[0;34m\"values\"\u001b[0m\u001b[0;34m:\u001b[0m \u001b[0;34m[\u001b[0m\u001b[0mfalse\u001b[0m\u001b[0;34m,\u001b[0m \u001b[0mtrue\u001b[0m\u001b[0;34m]\u001b[0m\u001b[0;34m,\u001b[0m \u001b[0;34m\"value\"\u001b[0m\u001b[0;34m:\u001b[0m \u001b[0mfalse\u001b[0m\u001b[0;34m}\u001b[0m\u001b[0;34m,\u001b[0m \u001b[0;34m{\u001b[0m\u001b[0;34m\"name\"\u001b[0m\u001b[0;34m:\u001b[0m \u001b[0;34m\"num_features\"\u001b[0m\u001b[0;34m,\u001b[0m \u001b[0;34m\"type\"\u001b[0m\u001b[0;34m:\u001b[0m \u001b[0;34m\"model\"\u001b[0m\u001b[0;34m,\u001b[0m \u001b[0;34m\"values\"\u001b[0m\u001b[0;34m:\u001b[0m \u001b[0;34m[\u001b[0m\u001b[0;36m277\u001b[0m\u001b[0;34m]\u001b[0m\u001b[0;34m,\u001b[0m \u001b[0;34m\"value\"\u001b[0m\u001b[0;34m:\u001b[0m \u001b[0;36m277\u001b[0m\u001b[0;34m}\u001b[0m\u001b[0;34m]\u001b[0m\u001b[0;34m\u001b[0m\u001b[0;34m\u001b[0m\u001b[0m\n\u001b[0;32m---> 12\u001b[0;31m   \u001b[0mtrain_data\u001b[0m\u001b[0;34m,\u001b[0m\u001b[0mdev_data\u001b[0m\u001b[0;34m,\u001b[0m\u001b[0mtest_data\u001b[0m \u001b[0;34m=\u001b[0m \u001b[0mget_data_for_parameters\u001b[0m\u001b[0;34m(\u001b[0m\u001b[0mparameter_info_list\u001b[0m\u001b[0;34m)\u001b[0m\u001b[0;34m\u001b[0m\u001b[0;34m\u001b[0m\u001b[0m\n\u001b[0m\u001b[1;32m     13\u001b[0m   \u001b[0mbaseline_func\u001b[0m \u001b[0;34m=\u001b[0m \u001b[0mbaseline_name_to_func\u001b[0m\u001b[0;34m[\u001b[0m\u001b[0mbaseline_name\u001b[0m\u001b[0;34m]\u001b[0m\u001b[0;34m\u001b[0m\u001b[0;34m\u001b[0m\u001b[0m\n\u001b[1;32m     14\u001b[0m   \u001b[0;32mreturn\u001b[0m \u001b[0mevaluate_function_model_on_dataset\u001b[0m\u001b[0;34m(\u001b[0m\u001b[0mparameter_info_list\u001b[0m\u001b[0;34m,\u001b[0m \u001b[0mbaseline_func\u001b[0m\u001b[0;34m,\u001b[0m \u001b[0mdev_data\u001b[0m\u001b[0;34m)\u001b[0m\u001b[0;34m\u001b[0m\u001b[0;34m\u001b[0m\u001b[0m\n",
      "\u001b[0;32m~/motivation/train_utils.py\u001b[0m in \u001b[0;36mget_data_for_parameters\u001b[0;34m(parameter_info_list)\u001b[0m\n\u001b[1;32m    226\u001b[0m   \u001b[0mprint\u001b[0m\u001b[0;34m(\u001b[0m\u001b[0;34m'all_features_data is'\u001b[0m\u001b[0;34m)\u001b[0m\u001b[0;34m\u001b[0m\u001b[0;34m\u001b[0m\u001b[0m\n\u001b[1;32m    227\u001b[0m   \u001b[0mprint\u001b[0m\u001b[0;34m(\u001b[0m\u001b[0mtype\u001b[0m\u001b[0;34m(\u001b[0m\u001b[0mall_features_data\u001b[0m\u001b[0;34m)\u001b[0m\u001b[0;34m)\u001b[0m\u001b[0;34m\u001b[0m\u001b[0;34m\u001b[0m\u001b[0m\n\u001b[0;32m--> 228\u001b[0;31m   \u001b[0mall_data_tensors\u001b[0m \u001b[0;34m=\u001b[0m \u001b[0mmake_tensors_from_features\u001b[0m\u001b[0;34m(\u001b[0m\u001b[0mall_features_data\u001b[0m\u001b[0;34m,\u001b[0m \u001b[0mdataparams\u001b[0m\u001b[0;34m)\u001b[0m\u001b[0;34m\u001b[0m\u001b[0;34m\u001b[0m\u001b[0m\n\u001b[0m\u001b[1;32m    229\u001b[0m   \u001b[0mprint\u001b[0m\u001b[0;34m(\u001b[0m\u001b[0;34m'all_data_tensors is'\u001b[0m\u001b[0;34m)\u001b[0m\u001b[0;34m\u001b[0m\u001b[0;34m\u001b[0m\u001b[0m\n\u001b[1;32m    230\u001b[0m   \u001b[0mprint\u001b[0m\u001b[0;34m(\u001b[0m\u001b[0mtype\u001b[0m\u001b[0;34m(\u001b[0m\u001b[0mall_data_tensors\u001b[0m\u001b[0;34m)\u001b[0m\u001b[0;34m)\u001b[0m\u001b[0;34m\u001b[0m\u001b[0;34m\u001b[0m\u001b[0m\n",
      "\u001b[0;32m~/motivation/mkdata.py\u001b[0m in \u001b[0;36mmake_tensors_from_features_v8\u001b[0;34m(features, parameters)\u001b[0m\n\u001b[1;32m    998\u001b[0m   \u001b[0moutput\u001b[0m \u001b[0;34m=\u001b[0m \u001b[0;34m[\u001b[0m\u001b[0;34m]\u001b[0m\u001b[0;34m\u001b[0m\u001b[0;34m\u001b[0m\u001b[0m\n\u001b[1;32m    999\u001b[0m   \u001b[0;32mfor\u001b[0m \u001b[0muser\u001b[0m\u001b[0;34m,\u001b[0m\u001b[0muser_features\u001b[0m \u001b[0;32min\u001b[0m \u001b[0mfeatures\u001b[0m\u001b[0;34m.\u001b[0m\u001b[0mitems\u001b[0m\u001b[0;34m(\u001b[0m\u001b[0;34m)\u001b[0m\u001b[0;34m:\u001b[0m\u001b[0;34m\u001b[0m\u001b[0;34m\u001b[0m\u001b[0m\n\u001b[0;32m-> 1000\u001b[0;31m     \u001b[0;32mfor\u001b[0m \u001b[0mx\u001b[0m \u001b[0;32min\u001b[0m \u001b[0mmake_tensors_from_features_for_user_v8\u001b[0m\u001b[0;34m(\u001b[0m\u001b[0muser\u001b[0m\u001b[0;34m,\u001b[0m \u001b[0muser_features\u001b[0m\u001b[0;34m,\u001b[0m \u001b[0mparameters\u001b[0m\u001b[0;34m)\u001b[0m\u001b[0;34m:\u001b[0m\u001b[0;34m\u001b[0m\u001b[0;34m\u001b[0m\u001b[0m\n\u001b[0m\u001b[1;32m   1001\u001b[0m       \u001b[0moutput\u001b[0m\u001b[0;34m.\u001b[0m\u001b[0mappend\u001b[0m\u001b[0;34m(\u001b[0m\u001b[0mx\u001b[0m\u001b[0;34m)\u001b[0m\u001b[0;34m\u001b[0m\u001b[0;34m\u001b[0m\u001b[0m\n\u001b[1;32m   1002\u001b[0m   \u001b[0;32mreturn\u001b[0m \u001b[0moutput\u001b[0m\u001b[0;34m\u001b[0m\u001b[0;34m\u001b[0m\u001b[0m\n",
      "\u001b[0;32m~/motivation/mkdata.py\u001b[0m in \u001b[0;36mmake_tensors_from_features_for_user_v8\u001b[0;34m(user, features, parameters)\u001b[0m\n\u001b[1;32m    979\u001b[0m         \u001b[0mf\u001b[0m\u001b[0;34m(\u001b[0m\u001b[0midx\u001b[0m\u001b[0;34m,\u001b[0m \u001b[0;34m'initial_difficulty'\u001b[0m\u001b[0;34m,\u001b[0m \u001b[0mfeatures\u001b[0m\u001b[0;34m[\u001b[0m\u001b[0;34m'initial_difficulty'\u001b[0m\u001b[0;34m]\u001b[0m\u001b[0;34m)\u001b[0m\u001b[0;34m\u001b[0m\u001b[0;34m\u001b[0m\u001b[0m\n\u001b[1;32m    980\u001b[0m         \u001b[0;32mfor\u001b[0m \u001b[0mlanguage\u001b[0m \u001b[0;32min\u001b[0m \u001b[0mfeatures\u001b[0m\u001b[0;34m[\u001b[0m\u001b[0;34m'languages'\u001b[0m\u001b[0;34m]\u001b[0m\u001b[0;34m:\u001b[0m\u001b[0;34m\u001b[0m\u001b[0;34m\u001b[0m\u001b[0m\n\u001b[0;32m--> 981\u001b[0;31m           \u001b[0mf\u001b[0m\u001b[0;34m(\u001b[0m\u001b[0midx\u001b[0m\u001b[0;34m,\u001b[0m \u001b[0;34m'languages'\u001b[0m\u001b[0;34m,\u001b[0m \u001b[0mlanguage\u001b[0m\u001b[0;34m)\u001b[0m\u001b[0;34m\u001b[0m\u001b[0;34m\u001b[0m\u001b[0m\n\u001b[0m\u001b[1;32m    982\u001b[0m         \u001b[0mf\u001b[0m\u001b[0;34m(\u001b[0m\u001b[0midx\u001b[0m\u001b[0;34m,\u001b[0m \u001b[0;34m'time_of_day'\u001b[0m\u001b[0;34m,\u001b[0m \u001b[0mprior_entry\u001b[0m\u001b[0;34m[\u001b[0m\u001b[0;34m'arrow_time'\u001b[0m\u001b[0;34m]\u001b[0m\u001b[0;34m)\u001b[0m\u001b[0;34m\u001b[0m\u001b[0;34m\u001b[0m\u001b[0m\n\u001b[1;32m    983\u001b[0m         \u001b[0mf\u001b[0m\u001b[0;34m(\u001b[0m\u001b[0midx\u001b[0m\u001b[0;34m,\u001b[0m \u001b[0;34m'day_of_week'\u001b[0m\u001b[0;34m,\u001b[0m \u001b[0mprior_entry\u001b[0m\u001b[0;34m[\u001b[0m\u001b[0;34m'arrow_time'\u001b[0m\u001b[0;34m]\u001b[0m\u001b[0;34m)\u001b[0m\u001b[0;34m\u001b[0m\u001b[0;34m\u001b[0m\u001b[0m\n",
      "\u001b[0;32m~/motivation/mkdata.py\u001b[0m in \u001b[0;36mget_feature_setter\u001b[0;34m(time_idx, feature_name, offset, value)\u001b[0m\n\u001b[1;32m    727\u001b[0m       \u001b[0;32mreturn\u001b[0m\u001b[0;34m\u001b[0m\u001b[0;34m\u001b[0m\u001b[0m\n\u001b[1;32m    728\u001b[0m     \u001b[0mfeature_idx\u001b[0m \u001b[0;34m=\u001b[0m \u001b[0mget_index\u001b[0m\u001b[0;34m(\u001b[0m\u001b[0mfeature_name\u001b[0m\u001b[0;34m)\u001b[0m\u001b[0;34m\u001b[0m\u001b[0;34m\u001b[0m\u001b[0m\n\u001b[0;32m--> 729\u001b[0;31m     \u001b[0mfeature_tensor\u001b[0m\u001b[0;34m[\u001b[0m\u001b[0mtime_idx\u001b[0m\u001b[0;34m]\u001b[0m\u001b[0;34m[\u001b[0m\u001b[0;36m0\u001b[0m\u001b[0;34m]\u001b[0m\u001b[0;34m[\u001b[0m\u001b[0mfeature_idx\u001b[0m \u001b[0;34m+\u001b[0m \u001b[0moffset_idx\u001b[0m\u001b[0;34m]\u001b[0m \u001b[0;34m=\u001b[0m \u001b[0mvalue\u001b[0m\u001b[0;34m\u001b[0m\u001b[0;34m\u001b[0m\u001b[0m\n\u001b[0m\u001b[1;32m    730\u001b[0m   \u001b[0;32mreturn\u001b[0m \u001b[0mget_feature_setter\u001b[0m\u001b[0;34m\u001b[0m\u001b[0;34m\u001b[0m\u001b[0m\n\u001b[1;32m    731\u001b[0m \u001b[0;34m\u001b[0m\u001b[0m\n",
      "\u001b[0;31mKeyboardInterrupt\u001b[0m: "
     ]
    }
   ],
   "source": [
    "# noexport\n",
    "\n",
    "main()"
   ]
  },
  {
   "cell_type": "code",
   "execution_count": null,
   "metadata": {},
   "outputs": [],
   "source": [
    "# baseline_name_to_stats : Dict[str, Dict[str, Any]] = {}\n",
    "# name_and_func : List[Tuple[str, Any]] = [\n",
    "#   ('initial_difficulty', get_initial_difficulty),\n",
    "#   ('first_chosen', get_first_chosen_difficulty),\n",
    "#   ('always_nothing', always_predict_nothing),\n",
    "#   ('most_common_previous', always_predict_most_common_previous),\n",
    "# ]\n",
    "# for [baseline_name,baseline_func] in name_and_func:\n",
    "#   baseline_name_to_stats[baseline_name] = evaluate_function_model_on_dataset(parameter_info_list, baseline_func, dev_data)"
   ]
  },
  {
   "cell_type": "code",
   "execution_count": null,
   "metadata": {},
   "outputs": [],
   "source": [
    "#print(len(get_users()))"
   ]
  },
  {
   "cell_type": "code",
   "execution_count": null,
   "metadata": {},
   "outputs": [],
   "source": []
  },
  {
   "cell_type": "code",
   "execution_count": null,
   "metadata": {},
   "outputs": [],
   "source": [
    "#print(len(get_all_features_data()))"
   ]
  },
  {
   "cell_type": "code",
   "execution_count": null,
   "metadata": {},
   "outputs": [],
   "source": []
  },
  {
   "cell_type": "code",
   "execution_count": null,
   "metadata": {},
   "outputs": [],
   "source": []
  },
  {
   "cell_type": "code",
   "execution_count": null,
   "metadata": {},
   "outputs": [],
   "source": [
    "# sample_every_n_visits_options : List[int] = list(range(1, 1000))\n",
    "\n",
    "# true = True\n",
    "# false = False\n",
    "# for sample_every_n_visits in sample_every_n_visits_options:\n",
    "#   if sample_every_n_visits in every_n_visits_to_dev_evaluation_results:\n",
    "#     continue\n",
    "#   parameter_info_list = [{\"name\": \"dataset_name\", \"type\": \"dataset\", \"values\": [\"2019_04_08\"], \"value\": \"2019_04_01\"}, {\"name\": \"model_name\", \"type\": \"model\", \"values\": [\"selfattentionlstm\"], \"value\": \"selfattentionlstm\"}, {\"name\": \"criterion\", \"type\": \"model\", \"values\": [\"NLLLoss\"], \"value\": \"NLLLoss\"}, {\"name\": \"learning_rate\", \"type\": \"model\", \"values\": [0.005, 0.05, 0.0005, 5e-05], \"value\": 5e-05}, {\"name\": \"window_embed_size\", \"type\": \"model\", \"values\": [64, 128, 256, 512], \"value\": 256}, {\"name\": \"difficulty\", \"type\": \"feature\", \"values\": [true, false], \"value\": true}, {\"name\": \"time_of_day\", \"type\": \"feature\", \"values\": [true, false], \"value\": true}, {\"name\": \"day_of_week\", \"type\": \"feature\", \"values\": [true, false], \"value\": true}, {\"name\": \"domain_productivity\", \"type\": \"feature\", \"values\": [true, false], \"value\": true}, {\"name\": \"domain_category\", \"type\": \"feature\", \"values\": [true, false], \"value\": true}, {\"name\": \"initial_difficulty\", \"type\": \"feature\", \"values\": [true, false], \"value\": true}, {\"name\": \"languages\", \"type\": \"feature\", \"values\": [true, false], \"value\": true}, {\"name\": \"num_prior_entries\", \"type\": \"dataparam\", \"values\": [10, 20, 30, 40], \"value\": 10}, {\"name\": \"sample_every_n_visits\", \"type\": \"dataparam\", \"values\": [1], \"value\": 1}, {\"name\": \"sample_difficulty_every_n_visits\", \"type\": \"dataparam\", \"values\": [1], \"value\": 1}, {\"name\": \"disable_prior_visit_history\", \"type\": \"dataparam\", \"values\": [false, true], \"value\": false}, {\"name\": \"disable_difficulty_history\", \"type\": \"dataparam\", \"values\": [false, true], \"value\": false}, {\"name\": \"enable_current_difficulty\", \"type\": \"dataparam\", \"values\": [false, true], \"value\": false}, {\"name\": \"num_features\", \"type\": \"model\", \"values\": [277], \"value\": 277}]\n",
    "#   for parameter_info in parameter_info_list:\n",
    "#     if parameter_info['name'] == 'sample_every_n_visits':\n",
    "#       parameter_info['values'] = [sample_every_n_visits]\n",
    "#       parameter_info['value'] = sample_every_n_visits\n",
    "#   train_data,dev_data,test_data = get_data_for_parameters(parameter_info_list)\n",
    "#   print(sample_every_n_visits)\n",
    "#   evaluation_results = evaluate_baseline_model_on_dataset(parameter_info_list, dev_data)\n",
    "#   every_n_visits_to_dev_evaluation_results[sample_every_n_visits] = evaluation_results\n",
    "#   print(evaluation_results)\n",
    "#   #evaluation_results = evaluate_baseline_model_on_dataset(parameter_info_list, train_data)\n",
    "#   #every_n_visits_to_train_evaluation_results[sample_every_n_visits] = evaluation_results\n",
    "#   #print(evaluation_results)\n",
    "\n",
    "\n",
    "\n"
   ]
  },
  {
   "cell_type": "code",
   "execution_count": null,
   "metadata": {},
   "outputs": [],
   "source": [
    "# noexport\n",
    "\n",
    "import plotly.graph_objs as go\n",
    "from plotly.offline import download_plotlyjs, init_notebook_mode, plot, iplot\n",
    "\n",
    "\n",
    "scatterplot = []\n",
    "for k,v in every_n_visits_to_dev_evaluation_results.items():\n",
    "  scatterplot.append([k,v['dev_correct'] / v['dev_total']])\n",
    "\n",
    "\n",
    "\n",
    "\n",
    "# Create a trace\n",
    "trace = go.Scatter(\n",
    "    x = [x[0] for x in scatterplot],\n",
    "    y = [x[1] for x in scatterplot],\n",
    "    mode = 'markers'\n",
    ")\n",
    "\n",
    "data = [trace]\n",
    "\n",
    "# Plot and embed in ipython notebook!\n",
    "iplot(data)\n",
    "\n",
    "\n",
    "baseline_name_and_correctness : List[Tuple[str, float]] = []\n",
    "for k2,v2 in baseline_name_to_stats.items():\n",
    "  correctness : float = float(v2['dev_correct'] / v2['dev_total'])\n",
    "  baseline_name_and_correctness.append((k2, correctness))\n",
    "print(baseline_name_and_correctness)"
   ]
  },
  {
   "cell_type": "code",
   "execution_count": null,
   "metadata": {},
   "outputs": [],
   "source": []
  },
  {
   "cell_type": "code",
   "execution_count": null,
   "metadata": {},
   "outputs": [],
   "source": []
  },
  {
   "cell_type": "code",
   "execution_count": null,
   "metadata": {},
   "outputs": [],
   "source": []
  },
  {
   "cell_type": "code",
   "execution_count": null,
   "metadata": {},
   "outputs": [],
   "source": []
  }
 ],
 "metadata": {
  "kernelspec": {
   "display_name": "Python 3",
   "language": "python",
   "name": "python3"
  },
  "language_info": {
   "codemirror_mode": {
    "name": "ipython",
    "version": 3
   },
   "file_extension": ".py",
   "mimetype": "text/x-python",
   "name": "python",
   "nbconvert_exporter": "python",
   "pygments_lexer": "ipython3",
   "version": "3.7.2"
  }
 },
 "nbformat": 4,
 "nbformat_minor": 2
}
