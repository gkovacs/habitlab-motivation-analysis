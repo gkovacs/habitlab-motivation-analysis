{
 "cells": [
  {
   "cell_type": "code",
   "execution_count": 2,
   "metadata": {},
   "outputs": [
    {
     "name": "stdout",
     "output_type": "stream",
     "text": [
      "[NbConvertApp] Converting notebook evaluation_utils.ipynb to python\r\n"
     ]
    }
   ],
   "source": [
    "# noexport\n",
    "\n",
    "!typech evaluation_utils.ipynb\n"
   ]
  },
  {
   "cell_type": "code",
   "execution_count": 17,
   "metadata": {},
   "outputs": [
    {
     "data": {
      "text/html": [
       "<script type=\"text/javascript\">window.PlotlyConfig = {MathJaxConfig: 'local'};</script><script type=\"text/javascript\">if (window.MathJax) {MathJax.Hub.Config({SVG: {font: \"STIX-Web\"}});}</script><script>requirejs.config({paths: { 'plotly': ['https://cdn.plot.ly/plotly-latest.min']},});if(!window._Plotly) {require(['plotly'],function(plotly) {window._Plotly=plotly;});}</script>"
      ],
      "text/vnd.plotly.v1+html": [
       "<script type=\"text/javascript\">window.PlotlyConfig = {MathJaxConfig: 'local'};</script><script type=\"text/javascript\">if (window.MathJax) {MathJax.Hub.Config({SVG: {font: \"STIX-Web\"}});}</script><script>requirejs.config({paths: { 'plotly': ['https://cdn.plot.ly/plotly-latest.min']},});if(!window._Plotly) {require(['plotly'],function(plotly) {window._Plotly=plotly;});}</script>"
      ]
     },
     "metadata": {},
     "output_type": "display_data"
    }
   ],
   "source": [
    "from train_utils import *"
   ]
  },
  {
   "cell_type": "code",
   "execution_count": 16,
   "metadata": {},
   "outputs": [],
   "source": [
    "from getsecret import getsecret\n",
    "import subprocess\n",
    "import json"
   ]
  },
  {
   "cell_type": "code",
   "execution_count": 27,
   "metadata": {},
   "outputs": [],
   "source": [
    "#print(get_models_currently_training())"
   ]
  },
  {
   "cell_type": "code",
   "execution_count": 15,
   "metadata": {},
   "outputs": [],
   "source": [
    "def get_models_currently_training():\n",
    "  output = []\n",
    "  local_info = json.load(open('current.json'))\n",
    "  output.append(local_info['base_path'])\n",
    "  remote_info = json.loads(subprocess.check_output(getsecret('REMOTE_SSH_COMMAND'), shell=True))\n",
    "  output.append(remote_info['base_path'])\n",
    "  return output"
   ]
  },
  {
   "cell_type": "code",
   "execution_count": 9,
   "metadata": {},
   "outputs": [],
   "source": [
    "from glob import glob\n",
    "import os\n",
    "from os import path"
   ]
  },
  {
   "cell_type": "code",
   "execution_count": 11,
   "metadata": {},
   "outputs": [],
   "source": [
    "def find_last_completed_epoch(model_name):\n",
    "  return len(glob(path.join(model_name, 'info_*.json')))\n"
   ]
  },
  {
   "cell_type": "code",
   "execution_count": 30,
   "metadata": {},
   "outputs": [],
   "source": [
    "#print(get_models_with_training_status())\n"
   ]
  },
  {
   "cell_type": "code",
   "execution_count": 22,
   "metadata": {},
   "outputs": [],
   "source": [
    "\n",
    "\n",
    "def get_models_with_training_status():\n",
    "  output = []\n",
    "  models_currently_training = set(get_models_currently_training())\n",
    "  for x in glob('tm_*'):\n",
    "    model_status = {\n",
    "      'name': x,\n",
    "      'epochs_done': find_last_completed_epoch(x),\n",
    "      'status': 'incomplete'\n",
    "    }\n",
    "    status_file_path = path.join(x, 'status.json')\n",
    "    if not os.path.exists(status_file_path):\n",
    "      output.append(model_status)\n",
    "      continue\n",
    "    status_info = json.load(open(status_file_path))\n",
    "    if status_info['status'] == 'done':\n",
    "      #model_status['epochs_done'] = find_last_completed_epoch(x)\n",
    "      model_status['status'] = status_info['status']\n",
    "      output.append(model_status)\n",
    "      continue\n",
    "    if status_info['status'] == 'training':\n",
    "      if x in models_currently_training:\n",
    "        model_status['status'] = status_info['status']\n",
    "      output.append(model_status)\n",
    "      continue\n",
    "    raise Exception('invalid status for model', x, status_info['status'])\n",
    "    #output.append(model_status)\n",
    "  return output"
   ]
  },
  {
   "cell_type": "code",
   "execution_count": 44,
   "metadata": {},
   "outputs": [],
   "source": [
    "import shutil\n",
    "\n",
    "def remove_incomplete_models():\n",
    "  for status_info in get_models_with_training_status():\n",
    "    if status_info['epochs_done'] == 0 and status_info['status'] == 'incomplete':\n",
    "      model_name = status_info['name']\n",
    "      shutil.rmtree(model_name)\n",
    "      #print(status_info)\n",
    "\n",
    "remove_incomplete_models()"
   ]
  },
  {
   "cell_type": "code",
   "execution_count": 45,
   "metadata": {},
   "outputs": [
    {
     "data": {
      "text/plain": [
       "[[0.8085924439986627,\n",
       "  'tm_5c89f565babee6f8bbc1f7e4d0c76ca4df515adc/info_3.json'],\n",
       " [0.8037445670344366,\n",
       "  'tm_2769148d0b782749562fe2e53e40214082a280c9/info_3.json'],\n",
       " [0.8034102306920762,\n",
       "  'tm_b7c78733284824761f93f8b8c9ea52af5939749a/info_2.json'],\n",
       " [0.8027415580073554,\n",
       "  'tm_be95b6706b608bd0a6ae5d4d4c4a042a2dda1bf4/info_3.json'],\n",
       " [0.8005683717820127,\n",
       "  'tm_b7c78733284824761f93f8b8c9ea52af5939749a/info_3.json'],\n",
       " [0.7990638582413908,\n",
       "  'tm_264bddc248d1bba4b2bbdd464ea404764edd3393/info_3.json'],\n",
       " [0.7982280173854898,\n",
       "  'tm_264bddc248d1bba4b2bbdd464ea404764edd3393/info_2.json'],\n",
       " [0.7980608492143096,\n",
       "  'tm_7c371d2a549d40cf966421c94d7d05624b6511a6/info_3.json'],\n",
       " [0.7978936810431294,\n",
       "  'tm_b7c78733284824761f93f8b8c9ea52af5939749a/info_1.json'],\n",
       " [0.797559344700769,\n",
       "  'tm_264bddc248d1bba4b2bbdd464ea404764edd3393/info_1.json'],\n",
       " [0.7960548311601471,\n",
       "  'tm_f9eacb599680c28e8be667eb45366b7df8aacef1/info_3.json'],\n",
       " [0.7960548311601471,\n",
       "  'tm_f059315c6c2992e97569934dbb0082b079b67cd6/info_3.json'],\n",
       " [0.795218990304246,\n",
       "  'tm_321abf813a954e3267b1b2665c28a3846bb346fb/info_3.json'],\n",
       " [0.7937144767636242,\n",
       "  'tm_4952aae10684ba73eadb12d1375c6367f6dd799a/info_3.json'],\n",
       " [0.7925442995653628,\n",
       "  'tm_0662ad7f7ca2cc326dad8874568410bbda05bb0c/info_2.json'],\n",
       " [0.7908726178535607,\n",
       "  'tm_0662ad7f7ca2cc326dad8874568410bbda05bb0c/info_1.json'],\n",
       " [0.7890337679705784,\n",
       "  'tm_68170bbdf34ee66979d014128aeecb745062a7c2/info_3.json'],\n",
       " [0.7863590772316951,\n",
       "  'tm_0662ad7f7ca2cc326dad8874568410bbda05bb0c/info_3.json'],\n",
       " [0.7863590772316951,\n",
       "  'tm_056bc8e5fbbcaebdca52f37450d26ce6dde9f453/info_2.json'],\n",
       " [0.7858575727181545,\n",
       "  'tm_9af657ebbe6c99fa17c2424b3ea05822a373a6dc/info_3.json'],\n",
       " [0.7856904045469743,\n",
       "  'tm_056bc8e5fbbcaebdca52f37450d26ce6dde9f453/info_3.json'],\n",
       " [0.7840187228351722,\n",
       "  'tm_b0a22354fbead70b6545334d6cc85088dc684d6e/info_3.json'],\n",
       " [0.783015713808091,\n",
       "  'tm_0b6eeae91636cbdeaec4be1bb38a8abf54a633bb/info_3.json'],\n",
       " [0.7781678368438649,\n",
       "  'tm_28b203dde6fc5a5c8ca66fab258cd7b9dc38f9e9/info_3.json'],\n",
       " [0.7769976596456035,\n",
       "  'tm_056bc8e5fbbcaebdca52f37450d26ce6dde9f453/info_1.json'],\n",
       " [0.7764961551320628,\n",
       "  'tm_b32854262ad8675421b36bac8c44cf5ffdf43f7d/info_3.json'],\n",
       " [0.7759946506185222,\n",
       "  'tm_b0a22354fbead70b6545334d6cc85088dc684d6e/info_2.json'],\n",
       " [0.7759946506185222,\n",
       "  'tm_604a90ed67b2d52f45b775f15fb660044b8c69b3/info_2.json'],\n",
       " [0.7744901370779004,\n",
       "  'tm_be95b6706b608bd0a6ae5d4d4c4a042a2dda1bf4/info_2.json'],\n",
       " [0.7731527917084587,\n",
       "  'tm_8a3630a698ed420cf85a3972e99918800ac82495/info_2.json'],\n",
       " [0.7729856235372785,\n",
       "  'tm_8a3630a698ed420cf85a3972e99918800ac82495/info_3.json'],\n",
       " [0.7728184553660983,\n",
       "  'tm_5c89f565babee6f8bbc1f7e4d0c76ca4df515adc/info_2.json'],\n",
       " [0.770143764627215,\n",
       "  'tm_be95b6706b608bd0a6ae5d4d4c4a042a2dda1bf4/info_1.json'],\n",
       " [0.770143764627215,\n",
       "  'tm_5c89f565babee6f8bbc1f7e4d0c76ca4df515adc/info_1.json'],\n",
       " [0.7698094282848545,\n",
       "  'tm_2769148d0b782749562fe2e53e40214082a280c9/info_2.json'],\n",
       " [0.769307923771314,\n",
       "  'tm_3c4be3fb5798c8f88d000d3232eeb776baa12cef/info_3.json'],\n",
       " [0.7674690738883316,\n",
       "  'tm_321abf813a954e3267b1b2665c28a3846bb346fb/info_2.json'],\n",
       " [0.7673019057171514,\n",
       "  'tm_2769148d0b782749562fe2e53e40214082a280c9/info_1.json'],\n",
       " [0.7671347375459713,\n",
       "  'tm_f9eacb599680c28e8be667eb45366b7df8aacef1/info_2.json'],\n",
       " [0.7668004012036108,\n",
       "  'tm_604a90ed67b2d52f45b775f15fb660044b8c69b3/info_3.json'],\n",
       " [0.7668004012036108,\n",
       "  'tm_5727743f30b48752b400f2adbd846352caa38b6b/info_3.json'],\n",
       " [0.7662988966900702,\n",
       "  'tm_f059315c6c2992e97569934dbb0082b079b67cd6/info_2.json'],\n",
       " [0.76613172851889, 'tm_321abf813a954e3267b1b2665c28a3846bb346fb/info_1.json'],\n",
       " [0.7651287194918087,\n",
       "  'tm_7f3c797f4f661980414c111546478e1f632b195f/info_3.json'],\n",
       " [0.7649615513206286,\n",
       "  'tm_68170bbdf34ee66979d014128aeecb745062a7c2/info_1.json'],\n",
       " [0.7644600468070879,\n",
       "  'tm_b32854262ad8675421b36bac8c44cf5ffdf43f7d/info_2.json'],\n",
       " [0.7644600468070879,\n",
       "  'tm_68170bbdf34ee66979d014128aeecb745062a7c2/info_2.json'],\n",
       " [0.7636242059511869,\n",
       "  'tm_604a90ed67b2d52f45b775f15fb660044b8c69b3/info_1.json'],\n",
       " [0.7632898696088265,\n",
       "  'tm_b0a22354fbead70b6545334d6cc85088dc684d6e/info_1.json'],\n",
       " [0.7632898696088265,\n",
       "  'tm_7c371d2a549d40cf966421c94d7d05624b6511a6/info_2.json'],\n",
       " [0.762955533266466,\n",
       "  'tm_f9eacb599680c28e8be667eb45366b7df8aacef1/info_1.json'],\n",
       " [0.7617853560682046,\n",
       "  'tm_9af657ebbe6c99fa17c2424b3ea05822a373a6dc/info_2.json'],\n",
       " [0.7614510197258442,\n",
       "  'tm_28b203dde6fc5a5c8ca66fab258cd7b9dc38f9e9/info_2.json'],\n",
       " [0.7612838515546639,\n",
       "  'tm_f059315c6c2992e97569934dbb0082b079b67cd6/info_1.json'],\n",
       " [0.7586091608157807,\n",
       "  'tm_7c371d2a549d40cf966421c94d7d05624b6511a6/info_1.json'],\n",
       " [0.757271815446339,\n",
       "  'tm_4952aae10684ba73eadb12d1375c6367f6dd799a/info_2.json'],\n",
       " [0.7569374791039786,\n",
       "  'tm_4952aae10684ba73eadb12d1375c6367f6dd799a/info_1.json'],\n",
       " [0.7552657973921765,\n",
       "  'tm_9af657ebbe6c99fa17c2424b3ea05822a373a6dc/info_1.json'],\n",
       " [0.7550986292209964,\n",
       "  'tm_28b203dde6fc5a5c8ca66fab258cd7b9dc38f9e9/info_1.json'],\n",
       " [0.7545971247074557,\n",
       "  'tm_3c4be3fb5798c8f88d000d3232eeb776baa12cef/info_2.json'],\n",
       " [0.7534269475091943,\n",
       "  'tm_b32854262ad8675421b36bac8c44cf5ffdf43f7d/info_1.json'],\n",
       " [0.7527582748244734,\n",
       "  'tm_5727743f30b48752b400f2adbd846352caa38b6b/info_2.json'],\n",
       " [0.7485790705449682,\n",
       "  'tm_0b6eeae91636cbdeaec4be1bb38a8abf54a633bb/info_2.json'],\n",
       " [0.7432296890672017,\n",
       "  'tm_0b6eeae91636cbdeaec4be1bb38a8abf54a633bb/info_1.json'],\n",
       " [0.7398863256435975,\n",
       "  'tm_8a3630a698ed420cf85a3972e99918800ac82495/info_1.json'],\n",
       " [0.7382146439317954,\n",
       "  'tm_7f3c797f4f661980414c111546478e1f632b195f/info_2.json'],\n",
       " [0.7288532263457038,\n",
       "  'tm_7f3c797f4f661980414c111546478e1f632b195f/info_1.json'],\n",
       " [0.7236710130391174,\n",
       "  'tm_3c4be3fb5798c8f88d000d3232eeb776baa12cef/info_1.json'],\n",
       " [0.7101303911735206,\n",
       "  'tm_5727743f30b48752b400f2adbd846352caa38b6b/info_1.json'],\n",
       " [0.6949180875961217,\n",
       "  'tm_48477bf8174c6e5ca641035af258c82114666bd3/info_3.json'],\n",
       " [0.683049147442327,\n",
       "  'tm_48477bf8174c6e5ca641035af258c82114666bd3/info_2.json'],\n",
       " [0.6599799398194583,\n",
       "  'tm_48477bf8174c6e5ca641035af258c82114666bd3/info_1.json'],\n",
       " [0.6038114343029087,\n",
       "  'tm_260de0495163fd9b585f84739d9c5c1a479ad97a/info_3.json'],\n",
       " [0.6031427616181879,\n",
       "  'tm_260de0495163fd9b585f84739d9c5c1a479ad97a/info_2.json'],\n",
       " [0.5860916081578067,\n",
       "  'tm_b4078d5518bd27da5ced90739798517d2896acd9/info_3.json'],\n",
       " [0.5827482447342026,\n",
       "  'tm_b4078d5518bd27da5ced90739798517d2896acd9/info_2.json'],\n",
       " [0.5817452357071213,\n",
       "  'tm_3d0078bdb0c735d7409bd49a4fad35ac85e3760a/info_1.json'],\n",
       " [0.573386827148111,\n",
       "  'tm_3d0078bdb0c735d7409bd49a4fad35ac85e3760a/info_3.json'],\n",
       " [0.5600133734536944,\n",
       "  'tm_3d0078bdb0c735d7409bd49a4fad35ac85e3760a/info_2.json'],\n",
       " [0.5434637245068539,\n",
       "  'tm_dc697286f39a2b270076d00a9d042558a66092c9/info_2.json'],\n",
       " [0.5255767301905717,\n",
       "  'tm_dc697286f39a2b270076d00a9d042558a66092c9/info_3.json'],\n",
       " [0.5229020394516884,\n",
       "  'tm_260de0495163fd9b585f84739d9c5c1a479ad97a/info_1.json'],\n",
       " [0.5117017719826145,\n",
       "  'tm_f05f7859ceee20113ad502c2e665a1b305a74b99/info_2.json'],\n",
       " [0.5105315947843531,\n",
       "  'tm_8d99061dc6d5b75a12c42e3685d69a5163a7c473/info_3.json'],\n",
       " [0.5093614175860917,\n",
       "  'tm_63a1a044f94de0f849b7c1746176a6efeca640fd/info_2.json'],\n",
       " [0.5070210631895687,\n",
       "  'tm_000376c1662054deaa3641ac5349db8529e13638/info_3.json'],\n",
       " [0.4906385824139084,\n",
       "  'tm_8d99061dc6d5b75a12c42e3685d69a5163a7c473/info_2.json'],\n",
       " [0.4882982280173855,\n",
       "  'tm_9c895574142035b45efdc6e39cb2fa9053f3e571/info_2.json'],\n",
       " [0.48528920093614175,\n",
       "  'tm_dc697286f39a2b270076d00a9d042558a66092c9/info_1.json'],\n",
       " [0.48495486459378134,\n",
       "  'tm_62e14744001a27f7aa70707260ba5ae42f086fd2/info_2.json'],\n",
       " [0.47141424272818455,\n",
       "  'tm_9c895574142035b45efdc6e39cb2fa9053f3e571/info_3.json'],\n",
       " [0.4567034436643263,\n",
       "  'tm_d799c2bf0d6ac5d7e5be1ff8d501912be9a2f4e6/info_3.json'],\n",
       " [0.4338014042126379,\n",
       "  'tm_98bb5ba9f898fd532bda71e5e15872c7c5260247/info_2.json'],\n",
       " [0.43296556335673686,\n",
       "  'tm_d799c2bf0d6ac5d7e5be1ff8d501912be9a2f4e6/info_2.json'],\n",
       " [0.43012370444667336,\n",
       "  'tm_98bb5ba9f898fd532bda71e5e15872c7c5260247/info_1.json'],\n",
       " [0.42995653627549313,\n",
       "  'tm_d799c2bf0d6ac5d7e5be1ff8d501912be9a2f4e6/info_1.json'],\n",
       " [0.42995653627549313,\n",
       "  'tm_b4078d5518bd27da5ced90739798517d2896acd9/info_1.json'],\n",
       " [0.42995653627549313,\n",
       "  'tm_9c895574142035b45efdc6e39cb2fa9053f3e571/info_1.json'],\n",
       " [0.42326980942828485,\n",
       "  'tm_63a1a044f94de0f849b7c1746176a6efeca640fd/info_1.json'],\n",
       " [0.4182547642928786,\n",
       "  'tm_62e14744001a27f7aa70707260ba5ae42f086fd2/info_1.json'],\n",
       " [0.41390839184219325,\n",
       "  'tm_98bb5ba9f898fd532bda71e5e15872c7c5260247/info_3.json'],\n",
       " [0.4082246740220662,\n",
       "  'tm_63a1a044f94de0f849b7c1746176a6efeca640fd/info_3.json'],\n",
       " [0.3973587428953527,\n",
       "  'tm_000376c1662054deaa3641ac5349db8529e13638/info_2.json'],\n",
       " [0.3789702440655299,\n",
       "  'tm_62e14744001a27f7aa70707260ba5ae42f086fd2/info_3.json'],\n",
       " [0.1905717151454363,\n",
       "  'tm_f05f7859ceee20113ad502c2e665a1b305a74b99/info_3.json'],\n",
       " [0.17987295218990304,\n",
       "  'tm_000376c1662054deaa3641ac5349db8529e13638/info_1.json'],\n",
       " [0.13607489134068873,\n",
       "  'tm_b354ebab8a3f1eff2ad776f67359cdd8afdc00b1/info_3.json'],\n",
       " [0.13590772316950853,\n",
       "  'tm_f05f7859ceee20113ad502c2e665a1b305a74b99/info_1.json'],\n",
       " [0.13590772316950853,\n",
       "  'tm_b94f084e6db75f16fb58d017c90f85345ce9573a/info_3.json'],\n",
       " [0.13590772316950853,\n",
       "  'tm_b94f084e6db75f16fb58d017c90f85345ce9573a/info_2.json'],\n",
       " [0.13590772316950853,\n",
       "  'tm_b94f084e6db75f16fb58d017c90f85345ce9573a/info_1.json'],\n",
       " [0.13590772316950853,\n",
       "  'tm_b354ebab8a3f1eff2ad776f67359cdd8afdc00b1/info_2.json'],\n",
       " [0.13590772316950853,\n",
       "  'tm_b354ebab8a3f1eff2ad776f67359cdd8afdc00b1/info_1.json'],\n",
       " [0.13590772316950853,\n",
       "  'tm_8d99061dc6d5b75a12c42e3685d69a5163a7c473/info_1.json'],\n",
       " [0.13590772316950853,\n",
       "  'tm_36c0578558974b10bd6676a95dea44e83616d500/info_3.json'],\n",
       " [0.13590772316950853,\n",
       "  'tm_36c0578558974b10bd6676a95dea44e83616d500/info_2.json'],\n",
       " [0.13590772316950853,\n",
       "  'tm_36c0578558974b10bd6676a95dea44e83616d500/info_1.json']]"
      ]
     },
     "execution_count": 45,
     "metadata": {},
     "output_type": "execute_result"
    }
   ],
   "source": [
    "def get_parameter_info_list_for_model(model_name):\n",
    "  parameters_file_path = path.join(model_name, 'parameters.json')\n",
    "  return json.load(open(parameters_file_path))\n",
    "\n",
    "def get_parameter_map_for_model(model_name):\n",
    "  output = {}\n",
    "  for parameter_info in get_parameter_info_list_for_model(model_name):\n",
    "    parameter_name = parameter_info['name']\n",
    "    parameter_value = parameter_info['value']\n",
    "    output[parameter_name] = parameter_value\n",
    "  return output\n",
    "\n",
    "def list_models_finished_training():\n",
    "  output = []\n",
    "  for x in glob('tm_*'):\n",
    "    status_file_path = path.join(x, 'status.json')\n",
    "    if not os.path.exists(status_file_path):\n",
    "      continue\n",
    "    status_info = json.load(open(status_file_path))\n",
    "    #print(status_info)\n",
    "    if status_info['status'] != 'done':\n",
    "      continue\n",
    "    output.append(x)\n",
    "  return output\n",
    "\n",
    "def list_models_matching_parameters(parameters_map):\n",
    "  output = []\n",
    "  for model_name in list_models_finished_training():\n",
    "    parameters_map_cur = get_parameter_map_for_model(model_name)\n",
    "    is_match = True\n",
    "    for k,v in parameters_map.items():\n",
    "      if parameters_map_cur.get(k, None) != v:\n",
    "        is_match = False\n",
    "        break\n",
    "    if is_match:\n",
    "      output.append(model_name)\n",
    "  return output\n",
    "\n",
    "\n",
    "def get_models_with_dev_correct_fraction():\n",
    "  #for x in list_models_finished_training():\n",
    "  #  get_parameter_map_for_model(x))\n",
    "  output = []\n",
    "  for model_name in list_models_matching_parameters({'enable_current_difficulty': False}):\n",
    "    for info_file_name in glob(path.join(model_name, 'info_*.json')):\n",
    "      model_info = json.load(open(info_file_name))\n",
    "      #print(model_info)\n",
    "      dev_correct = model_info['dev_correct']\n",
    "      dev_total = model_info['dev_total']\n",
    "      dev_correct_fraction = dev_correct / dev_total\n",
    "      output.append([dev_correct_fraction, info_file_name])\n",
    "  output.sort()\n",
    "  output.reverse()\n",
    "  return output\n",
    "\n",
    "get_models_with_dev_correct_fraction()"
   ]
  },
  {
   "cell_type": "code",
   "execution_count": 47,
   "metadata": {},
   "outputs": [
    {
     "name": "stdout",
     "output_type": "stream",
     "text": [
      "{'name': 'num_prior_entries', 'type': 'dataparam', 'values': [10, 20, 30, 40], 'value': 10}\n",
      "{'name': 'sample_every_n_visits', 'type': 'dataparam', 'values': [1], 'value': 1}\n",
      "{'name': 'sample_difficulty_every_n_visits', 'type': 'dataparam', 'values': [1], 'value': 1}\n",
      "{'name': 'disable_prior_visit_history', 'type': 'dataparam', 'values': [False, True], 'value': False}\n",
      "{'name': 'disable_difficulty_history', 'type': 'dataparam', 'values': [False, True], 'value': False}\n",
      "{'name': 'enable_current_difficulty', 'type': 'dataparam', 'values': [False, True], 'value': False}\n"
     ]
    }
   ],
   "source": [
    "true = True\n",
    "false = False\n",
    "parameter_info_list = [{\"name\": \"dataset_name\", \"type\": \"dataset\", \"values\": [\"2019_04_01\"], \"value\": \"2019_04_01\"}, {\"name\": \"model_name\", \"type\": \"model\", \"values\": [\"selfattentionlstm\"], \"value\": \"selfattentionlstm\"}, {\"name\": \"criterion\", \"type\": \"model\", \"values\": [\"NLLLoss\"], \"value\": \"NLLLoss\"}, {\"name\": \"learning_rate\", \"type\": \"model\", \"values\": [0.005, 0.05, 0.0005, 5e-05], \"value\": 5e-05}, {\"name\": \"window_embed_size\", \"type\": \"model\", \"values\": [64, 128, 256, 512], \"value\": 256}, {\"name\": \"difficulty\", \"type\": \"feature\", \"values\": [true, false], \"value\": true}, {\"name\": \"time_of_day\", \"type\": \"feature\", \"values\": [true, false], \"value\": true}, {\"name\": \"day_of_week\", \"type\": \"feature\", \"values\": [true, false], \"value\": true}, {\"name\": \"domain_productivity\", \"type\": \"feature\", \"values\": [true, false], \"value\": true}, {\"name\": \"domain_category\", \"type\": \"feature\", \"values\": [true, false], \"value\": true}, {\"name\": \"initial_difficulty\", \"type\": \"feature\", \"values\": [true, false], \"value\": true}, {\"name\": \"languages\", \"type\": \"feature\", \"values\": [true, false], \"value\": true}, {\"name\": \"num_prior_entries\", \"type\": \"dataparam\", \"values\": [10, 20, 30, 40], \"value\": 10}, {\"name\": \"sample_every_n_visits\", \"type\": \"dataparam\", \"values\": [1], \"value\": 1}, {\"name\": \"sample_difficulty_every_n_visits\", \"type\": \"dataparam\", \"values\": [1], \"value\": 1}, {\"name\": \"disable_prior_visit_history\", \"type\": \"dataparam\", \"values\": [false, true], \"value\": false}, {\"name\": \"disable_difficulty_history\", \"type\": \"dataparam\", \"values\": [false, true], \"value\": false}, {\"name\": \"enable_current_difficulty\", \"type\": \"dataparam\", \"values\": [false, true], \"value\": false}, {\"name\": \"num_features\", \"type\": \"model\", \"values\": [277], \"value\": 277}]\n",
    "\n",
    "train_data,dev_data,test_data = get_data_for_parameters(parameter_info_list)\n",
    "\n"
   ]
  },
  {
   "cell_type": "code",
   "execution_count": 135,
   "metadata": {},
   "outputs": [],
   "source": [
    "\n",
    "\n",
    "#def get_current_difficulty(tensor):\n",
    "#  return tensor['chosen_difficulty']\n",
    "# will actually always return nothing unless we enabled it in training data\n",
    "#   feature = tensor['feature']\n",
    "#   history_length = feature.size()[0]\n",
    "#   timestep = history_length - 1\n",
    "#   difficulty_feature_idx = get_feature_index('difficulty')\n",
    "#   for difficulty_idx,difficulty in enumerate(['nothing', 'easy', 'medium', 'hard']):\n",
    "#     if feature[timestep][0][difficulty_feature_idx + difficulty_idx].item() > 0:\n",
    "#       return difficulty\n",
    "#   return 'nothing'\n",
    "\n",
    "def get_most_recently_chosen_difficulty(feature, parameter_info_list):\n",
    "  #feature = tensor['feature']\n",
    "  history_length = feature.size()[0]\n",
    "  timestep = history_length - 2\n",
    "  if len(feature) < 2:\n",
    "    return 'nothing'\n",
    "  enabled_feature_list = get_enabled_features_list_from_parameter_info_list(parameter_info_list)\n",
    "  get_feature_index = make_get_index(enabled_feature_list)\n",
    "  difficulty_feature_idx = get_feature_index('difficulty')\n",
    "  for difficulty_idx,difficulty in enumerate(['nothing', 'easy', 'medium', 'hard']):\n",
    "    if feature[timestep][0][difficulty_feature_idx + difficulty_idx].item() > 0:\n",
    "      return difficulty\n",
    "  return 'nothing'\n",
    "\n",
    "def get_first_chosen_difficulty(feature, parameter_info_list):\n",
    "  #feature = tensor['feature']\n",
    "  history_length = feature.size()[0]\n",
    "  timestep = 0\n",
    "  if len(feature) < 2:\n",
    "    return 'nothing'\n",
    "  enabled_feature_list = get_enabled_features_list_from_parameter_info_list(parameter_info_list)\n",
    "  get_feature_index = make_get_index(enabled_feature_list)\n",
    "  difficulty_feature_idx = get_feature_index('difficulty')\n",
    "  for difficulty_idx,difficulty in enumerate(['nothing', 'easy', 'medium', 'hard']):\n",
    "    if feature[timestep][0][difficulty_feature_idx + difficulty_idx].item() > 0:\n",
    "      return difficulty\n",
    "  return 'nothing'\n",
    "\n",
    "def get_initial_difficulty(feature, parameter_info_list):\n",
    "  #feature = tensor['feature']\n",
    "  history_length = feature.size()[0]\n",
    "  timestep = 0\n",
    "  #if len(feature) < 2:\n",
    "  #  return 'nothing'\n",
    "  enabled_feature_list = get_enabled_features_list_from_parameter_info_list(parameter_info_list)\n",
    "  get_feature_index = make_get_index(enabled_feature_list)\n",
    "  difficulty_feature_idx = get_feature_index('initial_difficulty')\n",
    "  for difficulty_idx,difficulty in enumerate(['nothing', 'easy', 'medium', 'hard']):\n",
    "    if feature[timestep][0][difficulty_feature_idx + difficulty_idx].item() > 0:\n",
    "      return difficulty\n",
    "  return 'nothing'\n",
    "\n",
    "def always_predict_nothing(feature, parameter_info_list):\n",
    "  return 'nothing'\n",
    "\n",
    "def most_common_key_for_counter(c):\n",
    "  best_key = None\n",
    "  for k,v in c.items():\n",
    "    if best_key == None:\n",
    "      best_key = k\n",
    "      continue\n",
    "    if c[k] > c[best_key]:\n",
    "      best_key = k\n",
    "  return best_key\n",
    "\n",
    "def always_predict_most_common_previous(feature, parameter_info_list):\n",
    "  history_length = feature.size()[0]\n",
    "  if len(feature) < 2:\n",
    "    return 'nothing'\n",
    "  enabled_feature_list = get_enabled_features_list_from_parameter_info_list(parameter_info_list)\n",
    "  get_feature_index = make_get_index(enabled_feature_list)\n",
    "  difficulty_feature_idx = get_feature_index('difficulty')\n",
    "  difficulty_choices = Counter()\n",
    "  for timestep in range(0, history_length - 1):\n",
    "    for difficulty_idx,difficulty in enumerate(['nothing', 'easy', 'medium', 'hard']):\n",
    "      if feature[timestep][0][difficulty_feature_idx + difficulty_idx].item() > 0:\n",
    "        difficulty_choices[difficulty] += 1\n",
    "  output = most_common_key_for_counter(difficulty_choices)\n",
    "  if output == None:\n",
    "    return 'nothing'\n",
    "  return output\n",
    "  #return 'nothing'\n",
    "\n",
    "#print(get_current_difficulty(train_data[299]))\n",
    "#print(get_most_recently_chosen_difficulty(train_data[299]))\n",
    "# counts = Counter()\n",
    "# for x in train_data:\n",
    "#   current_difficulty = get_most_recently_chosen_difficulty(x['feature'])\n",
    "#   counts[current_difficulty] += 1\n",
    "# print(counts)"
   ]
  },
  {
   "cell_type": "code",
   "execution_count": 49,
   "metadata": {},
   "outputs": [
    {
     "name": "stdout",
     "output_type": "stream",
     "text": [
      "{'user': '8d2c9eb27dee2dc85bca705b', 'chosen_difficulty': 'medium', 'category': tensor([2]), 'feature': tensor([[[0., 0., 0., 0., 0., 0., 0., 1., 0., 1., 0., 0., 0., 0., 0., 1., 0.,\n",
      "          0., 0., 0., 0., 0., 0., 0., 0., 0., 0., 0., 1., 0., 0., 0., 0., 0.,\n",
      "          0., 0., 0., 0., 0., 0., 0., 0., 0., 0., 0., 0., 0., 0., 0., 0., 0.,\n",
      "          0., 0., 0., 0., 0., 0., 0., 0., 0., 0., 0., 0., 0., 0., 0., 0., 0.,\n",
      "          0., 0., 0., 0., 0., 0., 0., 0., 0., 0., 0., 0., 0., 0., 0., 0., 0.,\n",
      "          0., 0., 0., 0., 0., 0., 1., 0., 0., 0., 0., 0., 0., 0., 0., 0., 0.,\n",
      "          0., 0., 0., 0., 0., 0., 0., 0., 0., 0., 0., 0., 0., 0., 0., 1., 1.,\n",
      "          0., 0., 0., 0., 0., 0., 1., 0., 0., 0., 0., 0., 0., 0., 0., 0., 0.,\n",
      "          0., 0., 0., 0., 1., 0., 0., 0., 0., 0., 0., 0., 0., 0., 0., 0., 0.,\n",
      "          0., 0., 0., 0., 0., 0., 0., 0., 0., 0., 0., 0., 0., 0., 0., 0., 0.,\n",
      "          0., 0., 0., 0., 0., 0., 0., 0., 0., 0., 0., 0., 0., 0., 0., 0., 0.,\n",
      "          0., 0., 0., 0., 0., 0., 0., 0., 0., 0., 0., 0., 0., 0., 0., 0., 0.,\n",
      "          0., 0., 0., 0., 0., 0., 0., 0., 0., 0., 0., 0., 0., 0., 0., 0., 0.,\n",
      "          0., 0., 0., 0., 0., 0., 0., 0., 0., 0., 0., 0., 0., 0., 0., 0., 0.,\n",
      "          0., 0., 0., 0., 0., 0., 0., 0., 0., 0., 0., 0., 0., 0., 0., 0., 0.,\n",
      "          0., 0., 0., 0., 0., 0., 0., 0., 0., 0., 0., 0., 0., 0., 0., 0., 0.,\n",
      "          0., 0., 0., 0., 0.]]])}\n"
     ]
    }
   ],
   "source": [
    "print(train_data[0])"
   ]
  },
  {
   "cell_type": "code",
   "execution_count": 129,
   "metadata": {},
   "outputs": [],
   "source": [
    "def evaluate_function_model_on_dataset(parameter_info_list, func, dataset, prefix='dev_'):\n",
    "  confusion = [[0,0,0,0],[0,0,0,0],[0,0,0,0],[0,0,0,0]]\n",
    "  correct = 0\n",
    "  total = 0\n",
    "  for item in dataset:\n",
    "    category_tensor = item['category']\n",
    "    feature_tensor = item['feature']\n",
    "    if feature_tensor.size()[0] == 0:\n",
    "        continue\n",
    "    difficulty = tensor_to_difficulty(category_tensor)\n",
    "    difficulty_idx = get_difficulty_idx(difficulty)\n",
    "    #predicted_tensor = make_prediction(model, feature_tensor.cuda())\n",
    "    #predicted_difficulty = prediction_to_difficulty(predicted_tensor)\n",
    "    predicted_difficulty = func(feature_tensor, parameter_info_list)\n",
    "    predicted_difficulty_idx = get_difficulty_idx(predicted_difficulty)\n",
    "    if predicted_difficulty_idx == difficulty_idx:\n",
    "      correct += 1\n",
    "    total += 1\n",
    "    confusion[difficulty_idx][predicted_difficulty_idx] += 1\n",
    "  return {\n",
    "    prefix + 'correct': correct,\n",
    "    prefix + 'total': total,\n",
    "    prefix + 'confusion': confusion,\n",
    "  }\n"
   ]
  },
  {
   "cell_type": "code",
   "execution_count": 91,
   "metadata": {},
   "outputs": [],
   "source": [
    "def evaluate_baseline_model_on_dataset(parameter_info_list, dataset, prefix='dev_'):\n",
    "  confusion = [[0,0,0,0],[0,0,0,0],[0,0,0,0],[0,0,0,0]]\n",
    "  correct = 0\n",
    "  total = 0\n",
    "  for item in dataset:\n",
    "    category_tensor = item['category']\n",
    "    feature_tensor = item['feature']\n",
    "    if feature_tensor.size()[0] == 0:\n",
    "        continue\n",
    "    difficulty = tensor_to_difficulty(category_tensor)\n",
    "    difficulty_idx = get_difficulty_idx(difficulty)\n",
    "    #predicted_tensor = make_prediction(model, feature_tensor.cuda())\n",
    "    #predicted_difficulty = prediction_to_difficulty(predicted_tensor)\n",
    "    predicted_difficulty = get_most_recently_chosen_difficulty(feature_tensor, parameter_info_list)\n",
    "    predicted_difficulty_idx = get_difficulty_idx(predicted_difficulty)\n",
    "    if predicted_difficulty_idx == difficulty_idx:\n",
    "      correct += 1\n",
    "    total += 1\n",
    "    confusion[difficulty_idx][predicted_difficulty_idx] += 1\n",
    "  return {\n",
    "    prefix + 'correct': correct,\n",
    "    prefix + 'total': total,\n",
    "    prefix + 'confusion': confusion,\n",
    "  }\n"
   ]
  },
  {
   "cell_type": "code",
   "execution_count": null,
   "metadata": {},
   "outputs": [],
   "source": []
  },
  {
   "cell_type": "code",
   "execution_count": 88,
   "metadata": {},
   "outputs": [
    {
     "name": "stdout",
     "output_type": "stream",
     "text": [
      "{'dev_correct': 4883, 'dev_total': 5982, 'dev_confusion': [[2276, 197, 47, 52], [291, 1779, 115, 20], [109, 109, 560, 35], [65, 17, 42, 268]]}\n"
     ]
    }
   ],
   "source": [
    "print(evaluate_baseline_model_on_dataset(dev_data))"
   ]
  },
  {
   "cell_type": "code",
   "execution_count": 89,
   "metadata": {},
   "outputs": [
    {
     "data": {
      "text/plain": [
       "0.8162821798729522"
      ]
     },
     "execution_count": 89,
     "metadata": {},
     "output_type": "execute_result"
    }
   ],
   "source": [
    "4883 / 5982"
   ]
  },
  {
   "cell_type": "code",
   "execution_count": 2,
   "metadata": {},
   "outputs": [],
   "source": [
    "every_n_visits_to_dev_evaluation_results = {}\n",
    "every_n_visits_to_train_evaluation_results = {}"
   ]
  },
  {
   "cell_type": "code",
   "execution_count": 127,
   "metadata": {},
   "outputs": [
    {
     "name": "stdout",
     "output_type": "stream",
     "text": [
      "{'name': 'num_prior_entries', 'type': 'dataparam', 'values': [10, 20, 30, 40], 'value': 10}\n",
      "{'name': 'sample_every_n_visits', 'type': 'dataparam', 'values': [1], 'value': 1}\n",
      "{'name': 'sample_difficulty_every_n_visits', 'type': 'dataparam', 'values': [1], 'value': 1}\n",
      "{'name': 'disable_prior_visit_history', 'type': 'dataparam', 'values': [False, True], 'value': False}\n",
      "{'name': 'disable_difficulty_history', 'type': 'dataparam', 'values': [False, True], 'value': False}\n",
      "{'name': 'enable_current_difficulty', 'type': 'dataparam', 'values': [False, True], 'value': False}\n"
     ]
    },
    {
     "ename": "NameError",
     "evalue": "name 'evaluate_function_model_on_dataset' is not defined",
     "output_type": "error",
     "traceback": [
      "\u001b[0;31m---------------------------------------------------------------------------\u001b[0m",
      "\u001b[0;31mNameError\u001b[0m                                 Traceback (most recent call last)",
      "\u001b[0;32m<ipython-input-127-3b6d464a3b5d>\u001b[0m in \u001b[0;36m<module>\u001b[0;34m\u001b[0m\n\u001b[1;32m      1\u001b[0m \u001b[0mparameter_info_list\u001b[0m \u001b[0;34m=\u001b[0m \u001b[0;34m[\u001b[0m\u001b[0;34m{\u001b[0m\u001b[0;34m\"name\"\u001b[0m\u001b[0;34m:\u001b[0m \u001b[0;34m\"dataset_name\"\u001b[0m\u001b[0;34m,\u001b[0m \u001b[0;34m\"type\"\u001b[0m\u001b[0;34m:\u001b[0m \u001b[0;34m\"dataset\"\u001b[0m\u001b[0;34m,\u001b[0m \u001b[0;34m\"values\"\u001b[0m\u001b[0;34m:\u001b[0m \u001b[0;34m[\u001b[0m\u001b[0;34m\"2019_04_01\"\u001b[0m\u001b[0;34m]\u001b[0m\u001b[0;34m,\u001b[0m \u001b[0;34m\"value\"\u001b[0m\u001b[0;34m:\u001b[0m \u001b[0;34m\"2019_04_01\"\u001b[0m\u001b[0;34m}\u001b[0m\u001b[0;34m,\u001b[0m \u001b[0;34m{\u001b[0m\u001b[0;34m\"name\"\u001b[0m\u001b[0;34m:\u001b[0m \u001b[0;34m\"model_name\"\u001b[0m\u001b[0;34m,\u001b[0m \u001b[0;34m\"type\"\u001b[0m\u001b[0;34m:\u001b[0m \u001b[0;34m\"model\"\u001b[0m\u001b[0;34m,\u001b[0m \u001b[0;34m\"values\"\u001b[0m\u001b[0;34m:\u001b[0m \u001b[0;34m[\u001b[0m\u001b[0;34m\"selfattentionlstm\"\u001b[0m\u001b[0;34m]\u001b[0m\u001b[0;34m,\u001b[0m \u001b[0;34m\"value\"\u001b[0m\u001b[0;34m:\u001b[0m \u001b[0;34m\"selfattentionlstm\"\u001b[0m\u001b[0;34m}\u001b[0m\u001b[0;34m,\u001b[0m \u001b[0;34m{\u001b[0m\u001b[0;34m\"name\"\u001b[0m\u001b[0;34m:\u001b[0m \u001b[0;34m\"criterion\"\u001b[0m\u001b[0;34m,\u001b[0m \u001b[0;34m\"type\"\u001b[0m\u001b[0;34m:\u001b[0m \u001b[0;34m\"model\"\u001b[0m\u001b[0;34m,\u001b[0m \u001b[0;34m\"values\"\u001b[0m\u001b[0;34m:\u001b[0m \u001b[0;34m[\u001b[0m\u001b[0;34m\"NLLLoss\"\u001b[0m\u001b[0;34m]\u001b[0m\u001b[0;34m,\u001b[0m \u001b[0;34m\"value\"\u001b[0m\u001b[0;34m:\u001b[0m \u001b[0;34m\"NLLLoss\"\u001b[0m\u001b[0;34m}\u001b[0m\u001b[0;34m,\u001b[0m \u001b[0;34m{\u001b[0m\u001b[0;34m\"name\"\u001b[0m\u001b[0;34m:\u001b[0m \u001b[0;34m\"learning_rate\"\u001b[0m\u001b[0;34m,\u001b[0m \u001b[0;34m\"type\"\u001b[0m\u001b[0;34m:\u001b[0m \u001b[0;34m\"model\"\u001b[0m\u001b[0;34m,\u001b[0m \u001b[0;34m\"values\"\u001b[0m\u001b[0;34m:\u001b[0m \u001b[0;34m[\u001b[0m\u001b[0;36m0.005\u001b[0m\u001b[0;34m,\u001b[0m \u001b[0;36m0.05\u001b[0m\u001b[0;34m,\u001b[0m \u001b[0;36m0.0005\u001b[0m\u001b[0;34m,\u001b[0m \u001b[0;36m5e-05\u001b[0m\u001b[0;34m]\u001b[0m\u001b[0;34m,\u001b[0m \u001b[0;34m\"value\"\u001b[0m\u001b[0;34m:\u001b[0m \u001b[0;36m5e-05\u001b[0m\u001b[0;34m}\u001b[0m\u001b[0;34m,\u001b[0m \u001b[0;34m{\u001b[0m\u001b[0;34m\"name\"\u001b[0m\u001b[0;34m:\u001b[0m \u001b[0;34m\"window_embed_size\"\u001b[0m\u001b[0;34m,\u001b[0m \u001b[0;34m\"type\"\u001b[0m\u001b[0;34m:\u001b[0m \u001b[0;34m\"model\"\u001b[0m\u001b[0;34m,\u001b[0m \u001b[0;34m\"values\"\u001b[0m\u001b[0;34m:\u001b[0m \u001b[0;34m[\u001b[0m\u001b[0;36m64\u001b[0m\u001b[0;34m,\u001b[0m \u001b[0;36m128\u001b[0m\u001b[0;34m,\u001b[0m \u001b[0;36m256\u001b[0m\u001b[0;34m,\u001b[0m \u001b[0;36m512\u001b[0m\u001b[0;34m]\u001b[0m\u001b[0;34m,\u001b[0m \u001b[0;34m\"value\"\u001b[0m\u001b[0;34m:\u001b[0m \u001b[0;36m256\u001b[0m\u001b[0;34m}\u001b[0m\u001b[0;34m,\u001b[0m \u001b[0;34m{\u001b[0m\u001b[0;34m\"name\"\u001b[0m\u001b[0;34m:\u001b[0m \u001b[0;34m\"difficulty\"\u001b[0m\u001b[0;34m,\u001b[0m \u001b[0;34m\"type\"\u001b[0m\u001b[0;34m:\u001b[0m \u001b[0;34m\"feature\"\u001b[0m\u001b[0;34m,\u001b[0m \u001b[0;34m\"values\"\u001b[0m\u001b[0;34m:\u001b[0m \u001b[0;34m[\u001b[0m\u001b[0mtrue\u001b[0m\u001b[0;34m,\u001b[0m \u001b[0mfalse\u001b[0m\u001b[0;34m]\u001b[0m\u001b[0;34m,\u001b[0m \u001b[0;34m\"value\"\u001b[0m\u001b[0;34m:\u001b[0m \u001b[0mtrue\u001b[0m\u001b[0;34m}\u001b[0m\u001b[0;34m,\u001b[0m \u001b[0;34m{\u001b[0m\u001b[0;34m\"name\"\u001b[0m\u001b[0;34m:\u001b[0m \u001b[0;34m\"time_of_day\"\u001b[0m\u001b[0;34m,\u001b[0m \u001b[0;34m\"type\"\u001b[0m\u001b[0;34m:\u001b[0m \u001b[0;34m\"feature\"\u001b[0m\u001b[0;34m,\u001b[0m \u001b[0;34m\"values\"\u001b[0m\u001b[0;34m:\u001b[0m \u001b[0;34m[\u001b[0m\u001b[0mtrue\u001b[0m\u001b[0;34m,\u001b[0m \u001b[0mfalse\u001b[0m\u001b[0;34m]\u001b[0m\u001b[0;34m,\u001b[0m \u001b[0;34m\"value\"\u001b[0m\u001b[0;34m:\u001b[0m \u001b[0mtrue\u001b[0m\u001b[0;34m}\u001b[0m\u001b[0;34m,\u001b[0m \u001b[0;34m{\u001b[0m\u001b[0;34m\"name\"\u001b[0m\u001b[0;34m:\u001b[0m \u001b[0;34m\"day_of_week\"\u001b[0m\u001b[0;34m,\u001b[0m \u001b[0;34m\"type\"\u001b[0m\u001b[0;34m:\u001b[0m \u001b[0;34m\"feature\"\u001b[0m\u001b[0;34m,\u001b[0m \u001b[0;34m\"values\"\u001b[0m\u001b[0;34m:\u001b[0m \u001b[0;34m[\u001b[0m\u001b[0mtrue\u001b[0m\u001b[0;34m,\u001b[0m \u001b[0mfalse\u001b[0m\u001b[0;34m]\u001b[0m\u001b[0;34m,\u001b[0m \u001b[0;34m\"value\"\u001b[0m\u001b[0;34m:\u001b[0m \u001b[0mtrue\u001b[0m\u001b[0;34m}\u001b[0m\u001b[0;34m,\u001b[0m \u001b[0;34m{\u001b[0m\u001b[0;34m\"name\"\u001b[0m\u001b[0;34m:\u001b[0m \u001b[0;34m\"domain_productivity\"\u001b[0m\u001b[0;34m,\u001b[0m \u001b[0;34m\"type\"\u001b[0m\u001b[0;34m:\u001b[0m \u001b[0;34m\"feature\"\u001b[0m\u001b[0;34m,\u001b[0m \u001b[0;34m\"values\"\u001b[0m\u001b[0;34m:\u001b[0m \u001b[0;34m[\u001b[0m\u001b[0mtrue\u001b[0m\u001b[0;34m,\u001b[0m \u001b[0mfalse\u001b[0m\u001b[0;34m]\u001b[0m\u001b[0;34m,\u001b[0m \u001b[0;34m\"value\"\u001b[0m\u001b[0;34m:\u001b[0m \u001b[0mtrue\u001b[0m\u001b[0;34m}\u001b[0m\u001b[0;34m,\u001b[0m \u001b[0;34m{\u001b[0m\u001b[0;34m\"name\"\u001b[0m\u001b[0;34m:\u001b[0m \u001b[0;34m\"domain_category\"\u001b[0m\u001b[0;34m,\u001b[0m \u001b[0;34m\"type\"\u001b[0m\u001b[0;34m:\u001b[0m \u001b[0;34m\"feature\"\u001b[0m\u001b[0;34m,\u001b[0m \u001b[0;34m\"values\"\u001b[0m\u001b[0;34m:\u001b[0m \u001b[0;34m[\u001b[0m\u001b[0mtrue\u001b[0m\u001b[0;34m,\u001b[0m \u001b[0mfalse\u001b[0m\u001b[0;34m]\u001b[0m\u001b[0;34m,\u001b[0m \u001b[0;34m\"value\"\u001b[0m\u001b[0;34m:\u001b[0m \u001b[0mtrue\u001b[0m\u001b[0;34m}\u001b[0m\u001b[0;34m,\u001b[0m \u001b[0;34m{\u001b[0m\u001b[0;34m\"name\"\u001b[0m\u001b[0;34m:\u001b[0m \u001b[0;34m\"initial_difficulty\"\u001b[0m\u001b[0;34m,\u001b[0m \u001b[0;34m\"type\"\u001b[0m\u001b[0;34m:\u001b[0m \u001b[0;34m\"feature\"\u001b[0m\u001b[0;34m,\u001b[0m \u001b[0;34m\"values\"\u001b[0m\u001b[0;34m:\u001b[0m \u001b[0;34m[\u001b[0m\u001b[0mtrue\u001b[0m\u001b[0;34m,\u001b[0m \u001b[0mfalse\u001b[0m\u001b[0;34m]\u001b[0m\u001b[0;34m,\u001b[0m \u001b[0;34m\"value\"\u001b[0m\u001b[0;34m:\u001b[0m \u001b[0mtrue\u001b[0m\u001b[0;34m}\u001b[0m\u001b[0;34m,\u001b[0m \u001b[0;34m{\u001b[0m\u001b[0;34m\"name\"\u001b[0m\u001b[0;34m:\u001b[0m \u001b[0;34m\"languages\"\u001b[0m\u001b[0;34m,\u001b[0m \u001b[0;34m\"type\"\u001b[0m\u001b[0;34m:\u001b[0m \u001b[0;34m\"feature\"\u001b[0m\u001b[0;34m,\u001b[0m \u001b[0;34m\"values\"\u001b[0m\u001b[0;34m:\u001b[0m \u001b[0;34m[\u001b[0m\u001b[0mtrue\u001b[0m\u001b[0;34m,\u001b[0m \u001b[0mfalse\u001b[0m\u001b[0;34m]\u001b[0m\u001b[0;34m,\u001b[0m \u001b[0;34m\"value\"\u001b[0m\u001b[0;34m:\u001b[0m \u001b[0mtrue\u001b[0m\u001b[0;34m}\u001b[0m\u001b[0;34m,\u001b[0m \u001b[0;34m{\u001b[0m\u001b[0;34m\"name\"\u001b[0m\u001b[0;34m:\u001b[0m \u001b[0;34m\"num_prior_entries\"\u001b[0m\u001b[0;34m,\u001b[0m \u001b[0;34m\"type\"\u001b[0m\u001b[0;34m:\u001b[0m \u001b[0;34m\"dataparam\"\u001b[0m\u001b[0;34m,\u001b[0m \u001b[0;34m\"values\"\u001b[0m\u001b[0;34m:\u001b[0m \u001b[0;34m[\u001b[0m\u001b[0;36m10\u001b[0m\u001b[0;34m,\u001b[0m \u001b[0;36m20\u001b[0m\u001b[0;34m,\u001b[0m \u001b[0;36m30\u001b[0m\u001b[0;34m,\u001b[0m \u001b[0;36m40\u001b[0m\u001b[0;34m]\u001b[0m\u001b[0;34m,\u001b[0m \u001b[0;34m\"value\"\u001b[0m\u001b[0;34m:\u001b[0m \u001b[0;36m10\u001b[0m\u001b[0;34m}\u001b[0m\u001b[0;34m,\u001b[0m \u001b[0;34m{\u001b[0m\u001b[0;34m\"name\"\u001b[0m\u001b[0;34m:\u001b[0m \u001b[0;34m\"sample_every_n_visits\"\u001b[0m\u001b[0;34m,\u001b[0m \u001b[0;34m\"type\"\u001b[0m\u001b[0;34m:\u001b[0m \u001b[0;34m\"dataparam\"\u001b[0m\u001b[0;34m,\u001b[0m \u001b[0;34m\"values\"\u001b[0m\u001b[0;34m:\u001b[0m \u001b[0;34m[\u001b[0m\u001b[0;36m1\u001b[0m\u001b[0;34m]\u001b[0m\u001b[0;34m,\u001b[0m \u001b[0;34m\"value\"\u001b[0m\u001b[0;34m:\u001b[0m \u001b[0;36m1\u001b[0m\u001b[0;34m}\u001b[0m\u001b[0;34m,\u001b[0m \u001b[0;34m{\u001b[0m\u001b[0;34m\"name\"\u001b[0m\u001b[0;34m:\u001b[0m \u001b[0;34m\"sample_difficulty_every_n_visits\"\u001b[0m\u001b[0;34m,\u001b[0m \u001b[0;34m\"type\"\u001b[0m\u001b[0;34m:\u001b[0m \u001b[0;34m\"dataparam\"\u001b[0m\u001b[0;34m,\u001b[0m \u001b[0;34m\"values\"\u001b[0m\u001b[0;34m:\u001b[0m \u001b[0;34m[\u001b[0m\u001b[0;36m1\u001b[0m\u001b[0;34m]\u001b[0m\u001b[0;34m,\u001b[0m \u001b[0;34m\"value\"\u001b[0m\u001b[0;34m:\u001b[0m \u001b[0;36m1\u001b[0m\u001b[0;34m}\u001b[0m\u001b[0;34m,\u001b[0m \u001b[0;34m{\u001b[0m\u001b[0;34m\"name\"\u001b[0m\u001b[0;34m:\u001b[0m \u001b[0;34m\"disable_prior_visit_history\"\u001b[0m\u001b[0;34m,\u001b[0m \u001b[0;34m\"type\"\u001b[0m\u001b[0;34m:\u001b[0m \u001b[0;34m\"dataparam\"\u001b[0m\u001b[0;34m,\u001b[0m \u001b[0;34m\"values\"\u001b[0m\u001b[0;34m:\u001b[0m \u001b[0;34m[\u001b[0m\u001b[0mfalse\u001b[0m\u001b[0;34m,\u001b[0m \u001b[0mtrue\u001b[0m\u001b[0;34m]\u001b[0m\u001b[0;34m,\u001b[0m \u001b[0;34m\"value\"\u001b[0m\u001b[0;34m:\u001b[0m \u001b[0mfalse\u001b[0m\u001b[0;34m}\u001b[0m\u001b[0;34m,\u001b[0m \u001b[0;34m{\u001b[0m\u001b[0;34m\"name\"\u001b[0m\u001b[0;34m:\u001b[0m \u001b[0;34m\"disable_difficulty_history\"\u001b[0m\u001b[0;34m,\u001b[0m \u001b[0;34m\"type\"\u001b[0m\u001b[0;34m:\u001b[0m \u001b[0;34m\"dataparam\"\u001b[0m\u001b[0;34m,\u001b[0m \u001b[0;34m\"values\"\u001b[0m\u001b[0;34m:\u001b[0m \u001b[0;34m[\u001b[0m\u001b[0mfalse\u001b[0m\u001b[0;34m,\u001b[0m \u001b[0mtrue\u001b[0m\u001b[0;34m]\u001b[0m\u001b[0;34m,\u001b[0m \u001b[0;34m\"value\"\u001b[0m\u001b[0;34m:\u001b[0m \u001b[0mfalse\u001b[0m\u001b[0;34m}\u001b[0m\u001b[0;34m,\u001b[0m \u001b[0;34m{\u001b[0m\u001b[0;34m\"name\"\u001b[0m\u001b[0;34m:\u001b[0m \u001b[0;34m\"enable_current_difficulty\"\u001b[0m\u001b[0;34m,\u001b[0m \u001b[0;34m\"type\"\u001b[0m\u001b[0;34m:\u001b[0m \u001b[0;34m\"dataparam\"\u001b[0m\u001b[0;34m,\u001b[0m \u001b[0;34m\"values\"\u001b[0m\u001b[0;34m:\u001b[0m \u001b[0;34m[\u001b[0m\u001b[0mfalse\u001b[0m\u001b[0;34m,\u001b[0m \u001b[0mtrue\u001b[0m\u001b[0;34m]\u001b[0m\u001b[0;34m,\u001b[0m \u001b[0;34m\"value\"\u001b[0m\u001b[0;34m:\u001b[0m \u001b[0mfalse\u001b[0m\u001b[0;34m}\u001b[0m\u001b[0;34m,\u001b[0m \u001b[0;34m{\u001b[0m\u001b[0;34m\"name\"\u001b[0m\u001b[0;34m:\u001b[0m \u001b[0;34m\"num_features\"\u001b[0m\u001b[0;34m,\u001b[0m \u001b[0;34m\"type\"\u001b[0m\u001b[0;34m:\u001b[0m \u001b[0;34m\"model\"\u001b[0m\u001b[0;34m,\u001b[0m \u001b[0;34m\"values\"\u001b[0m\u001b[0;34m:\u001b[0m \u001b[0;34m[\u001b[0m\u001b[0;36m277\u001b[0m\u001b[0;34m]\u001b[0m\u001b[0;34m,\u001b[0m \u001b[0;34m\"value\"\u001b[0m\u001b[0;34m:\u001b[0m \u001b[0;36m277\u001b[0m\u001b[0;34m}\u001b[0m\u001b[0;34m]\u001b[0m\u001b[0;34m\u001b[0m\u001b[0;34m\u001b[0m\u001b[0m\n\u001b[1;32m      2\u001b[0m \u001b[0mtrain_data\u001b[0m\u001b[0;34m,\u001b[0m\u001b[0mdev_data\u001b[0m\u001b[0;34m,\u001b[0m\u001b[0mtest_data\u001b[0m \u001b[0;34m=\u001b[0m \u001b[0mget_data_for_parameters\u001b[0m\u001b[0;34m(\u001b[0m\u001b[0mparameter_info_list\u001b[0m\u001b[0;34m)\u001b[0m\u001b[0;34m\u001b[0m\u001b[0;34m\u001b[0m\u001b[0m\n\u001b[0;32m----> 3\u001b[0;31m \u001b[0minitial_difficulty_stats\u001b[0m \u001b[0;34m=\u001b[0m \u001b[0mevaluate_function_model_on_dataset\u001b[0m\u001b[0;34m(\u001b[0m\u001b[0mparameter_info_list\u001b[0m\u001b[0;34m,\u001b[0m \u001b[0mget_initial_difficulty\u001b[0m\u001b[0;34m,\u001b[0m \u001b[0mdev_data\u001b[0m\u001b[0;34m)\u001b[0m\u001b[0;34m\u001b[0m\u001b[0;34m\u001b[0m\u001b[0m\n\u001b[0m\u001b[1;32m      4\u001b[0m \u001b[0mprint\u001b[0m\u001b[0;34m(\u001b[0m\u001b[0minitial_difficulty_stats\u001b[0m\u001b[0;34m)\u001b[0m\u001b[0;34m\u001b[0m\u001b[0;34m\u001b[0m\u001b[0m\n",
      "\u001b[0;31mNameError\u001b[0m: name 'evaluate_function_model_on_dataset' is not defined"
     ]
    }
   ],
   "source": [
    "parameter_info_list = [{\"name\": \"dataset_name\", \"type\": \"dataset\", \"values\": [\"2019_04_01\"], \"value\": \"2019_04_01\"}, {\"name\": \"model_name\", \"type\": \"model\", \"values\": [\"selfattentionlstm\"], \"value\": \"selfattentionlstm\"}, {\"name\": \"criterion\", \"type\": \"model\", \"values\": [\"NLLLoss\"], \"value\": \"NLLLoss\"}, {\"name\": \"learning_rate\", \"type\": \"model\", \"values\": [0.005, 0.05, 0.0005, 5e-05], \"value\": 5e-05}, {\"name\": \"window_embed_size\", \"type\": \"model\", \"values\": [64, 128, 256, 512], \"value\": 256}, {\"name\": \"difficulty\", \"type\": \"feature\", \"values\": [true, false], \"value\": true}, {\"name\": \"time_of_day\", \"type\": \"feature\", \"values\": [true, false], \"value\": true}, {\"name\": \"day_of_week\", \"type\": \"feature\", \"values\": [true, false], \"value\": true}, {\"name\": \"domain_productivity\", \"type\": \"feature\", \"values\": [true, false], \"value\": true}, {\"name\": \"domain_category\", \"type\": \"feature\", \"values\": [true, false], \"value\": true}, {\"name\": \"initial_difficulty\", \"type\": \"feature\", \"values\": [true, false], \"value\": true}, {\"name\": \"languages\", \"type\": \"feature\", \"values\": [true, false], \"value\": true}, {\"name\": \"num_prior_entries\", \"type\": \"dataparam\", \"values\": [10, 20, 30, 40], \"value\": 10}, {\"name\": \"sample_every_n_visits\", \"type\": \"dataparam\", \"values\": [1], \"value\": 1}, {\"name\": \"sample_difficulty_every_n_visits\", \"type\": \"dataparam\", \"values\": [1], \"value\": 1}, {\"name\": \"disable_prior_visit_history\", \"type\": \"dataparam\", \"values\": [false, true], \"value\": false}, {\"name\": \"disable_difficulty_history\", \"type\": \"dataparam\", \"values\": [false, true], \"value\": false}, {\"name\": \"enable_current_difficulty\", \"type\": \"dataparam\", \"values\": [false, true], \"value\": false}, {\"name\": \"num_features\", \"type\": \"model\", \"values\": [277], \"value\": 277}]\n",
    "train_data,dev_data,test_data = get_data_for_parameters(parameter_info_list)\n"
   ]
  },
  {
   "cell_type": "code",
   "execution_count": 130,
   "metadata": {},
   "outputs": [
    {
     "name": "stdout",
     "output_type": "stream",
     "text": [
      "{'dev_correct': 2517, 'dev_total': 5982, 'dev_confusion': [[263, 1119, 696, 494], [41, 1693, 330, 141], [12, 398, 357, 46], [3, 14, 171, 204]]}\n"
     ]
    }
   ],
   "source": [
    "initial_difficulty_stats = evaluate_function_model_on_dataset(parameter_info_list, get_initial_difficulty, dev_data)\n",
    "print(initial_difficulty_stats)"
   ]
  },
  {
   "cell_type": "code",
   "execution_count": 131,
   "metadata": {},
   "outputs": [
    {
     "name": "stdout",
     "output_type": "stream",
     "text": [
      "{'dev_correct': 4280, 'dev_total': 5982, 'dev_confusion': [[1937, 412, 113, 110], [334, 1590, 241, 40], [117, 163, 510, 23], [54, 17, 78, 243]]}\n"
     ]
    }
   ],
   "source": [
    "first_chosen_difficulty_stats = evaluate_function_model_on_dataset(parameter_info_list, get_first_chosen_difficulty, dev_data)\n",
    "print(first_chosen_difficulty_stats)"
   ]
  },
  {
   "cell_type": "code",
   "execution_count": 132,
   "metadata": {},
   "outputs": [
    {
     "name": "stdout",
     "output_type": "stream",
     "text": [
      "{'dev_correct': 2572, 'dev_total': 5982, 'dev_confusion': [[2572, 0, 0, 0], [2205, 0, 0, 0], [813, 0, 0, 0], [392, 0, 0, 0]]}\n"
     ]
    }
   ],
   "source": [
    "always_nothing_stats = evaluate_function_model_on_dataset(parameter_info_list, always_predict_nothing, dev_data)\n",
    "print(always_nothing_stats)"
   ]
  },
  {
   "cell_type": "code",
   "execution_count": 136,
   "metadata": {},
   "outputs": [
    {
     "name": "stdout",
     "output_type": "stream",
     "text": [
      "{'dev_correct': 4768, 'dev_total': 5982, 'dev_confusion': [[2174, 274, 54, 70], [266, 1776, 134, 29], [104, 131, 552, 26], [59, 18, 49, 266]]}\n"
     ]
    }
   ],
   "source": [
    "most_common_previous_stats = evaluate_function_model_on_dataset(parameter_info_list, always_predict_most_common_previous, dev_data)\n",
    "print(most_common_previous_stats)"
   ]
  },
  {
   "cell_type": "code",
   "execution_count": 137,
   "metadata": {},
   "outputs": [],
   "source": [
    "baseline_name_to_stats = {}\n",
    "for baseline_name,baseline_func in [['initial_difficulty', get_initial_difficulty], ['first_chosen', get_first_chosen_difficulty], ['always_nothing', always_predict_nothing], ['most_common_previous', always_predict_most_common_previous]]:\n",
    "  baseline_name_to_stats[baseline_name] = evaluate_function_model_on_dataset(parameter_info_list, baseline_func, dev_data)"
   ]
  },
  {
   "cell_type": "code",
   "execution_count": 3,
   "metadata": {},
   "outputs": [
    {
     "ename": "NameError",
     "evalue": "name 'get_data_for_parameters' is not defined",
     "output_type": "error",
     "traceback": [
      "\u001b[0;31m---------------------------------------------------------------------------\u001b[0m",
      "\u001b[0;31mNameError\u001b[0m                                 Traceback (most recent call last)",
      "\u001b[0;32m<ipython-input-3-e4684b14fff6>\u001b[0m in \u001b[0;36m<module>\u001b[0;34m\u001b[0m\n\u001b[1;32m     11\u001b[0m       \u001b[0mparameter_info\u001b[0m\u001b[0;34m[\u001b[0m\u001b[0;34m'values'\u001b[0m\u001b[0;34m]\u001b[0m \u001b[0;34m=\u001b[0m \u001b[0;34m[\u001b[0m\u001b[0msample_every_n_visits\u001b[0m\u001b[0;34m]\u001b[0m\u001b[0;34m\u001b[0m\u001b[0;34m\u001b[0m\u001b[0m\n\u001b[1;32m     12\u001b[0m       \u001b[0mparameter_info\u001b[0m\u001b[0;34m[\u001b[0m\u001b[0;34m'value'\u001b[0m\u001b[0;34m]\u001b[0m \u001b[0;34m=\u001b[0m \u001b[0msample_every_n_visits\u001b[0m\u001b[0;34m\u001b[0m\u001b[0;34m\u001b[0m\u001b[0m\n\u001b[0;32m---> 13\u001b[0;31m   \u001b[0mtrain_data\u001b[0m\u001b[0;34m,\u001b[0m\u001b[0mdev_data\u001b[0m\u001b[0;34m,\u001b[0m\u001b[0mtest_data\u001b[0m \u001b[0;34m=\u001b[0m \u001b[0mget_data_for_parameters\u001b[0m\u001b[0;34m(\u001b[0m\u001b[0mparameter_info_list\u001b[0m\u001b[0;34m)\u001b[0m\u001b[0;34m\u001b[0m\u001b[0;34m\u001b[0m\u001b[0m\n\u001b[0m\u001b[1;32m     14\u001b[0m   \u001b[0mprint\u001b[0m\u001b[0;34m(\u001b[0m\u001b[0msample_every_n_visits\u001b[0m\u001b[0;34m)\u001b[0m\u001b[0;34m\u001b[0m\u001b[0;34m\u001b[0m\u001b[0m\n\u001b[1;32m     15\u001b[0m   \u001b[0mevaluation_results\u001b[0m \u001b[0;34m=\u001b[0m \u001b[0mevaluate_baseline_model_on_dataset\u001b[0m\u001b[0;34m(\u001b[0m\u001b[0mparameter_info_list\u001b[0m\u001b[0;34m,\u001b[0m \u001b[0mdev_data\u001b[0m\u001b[0;34m)\u001b[0m\u001b[0;34m\u001b[0m\u001b[0;34m\u001b[0m\u001b[0m\n",
      "\u001b[0;31mNameError\u001b[0m: name 'get_data_for_parameters' is not defined"
     ]
    }
   ],
   "source": [
    "sample_every_n_visits_options = range(1, 1000)\n",
    "\n",
    "true = True\n",
    "false = False\n",
    "for sample_every_n_visits in sample_every_n_visits_options:\n",
    "  if sample_every_n_visits in every_n_visits_to_dev_evaluation_results:\n",
    "    continue\n",
    "  parameter_info_list = [{\"name\": \"dataset_name\", \"type\": \"dataset\", \"values\": [\"2019_04_01\"], \"value\": \"2019_04_01\"}, {\"name\": \"model_name\", \"type\": \"model\", \"values\": [\"selfattentionlstm\"], \"value\": \"selfattentionlstm\"}, {\"name\": \"criterion\", \"type\": \"model\", \"values\": [\"NLLLoss\"], \"value\": \"NLLLoss\"}, {\"name\": \"learning_rate\", \"type\": \"model\", \"values\": [0.005, 0.05, 0.0005, 5e-05], \"value\": 5e-05}, {\"name\": \"window_embed_size\", \"type\": \"model\", \"values\": [64, 128, 256, 512], \"value\": 256}, {\"name\": \"difficulty\", \"type\": \"feature\", \"values\": [true, false], \"value\": true}, {\"name\": \"time_of_day\", \"type\": \"feature\", \"values\": [true, false], \"value\": true}, {\"name\": \"day_of_week\", \"type\": \"feature\", \"values\": [true, false], \"value\": true}, {\"name\": \"domain_productivity\", \"type\": \"feature\", \"values\": [true, false], \"value\": true}, {\"name\": \"domain_category\", \"type\": \"feature\", \"values\": [true, false], \"value\": true}, {\"name\": \"initial_difficulty\", \"type\": \"feature\", \"values\": [true, false], \"value\": true}, {\"name\": \"languages\", \"type\": \"feature\", \"values\": [true, false], \"value\": true}, {\"name\": \"num_prior_entries\", \"type\": \"dataparam\", \"values\": [10, 20, 30, 40], \"value\": 10}, {\"name\": \"sample_every_n_visits\", \"type\": \"dataparam\", \"values\": [1], \"value\": 1}, {\"name\": \"sample_difficulty_every_n_visits\", \"type\": \"dataparam\", \"values\": [1], \"value\": 1}, {\"name\": \"disable_prior_visit_history\", \"type\": \"dataparam\", \"values\": [false, true], \"value\": false}, {\"name\": \"disable_difficulty_history\", \"type\": \"dataparam\", \"values\": [false, true], \"value\": false}, {\"name\": \"enable_current_difficulty\", \"type\": \"dataparam\", \"values\": [false, true], \"value\": false}, {\"name\": \"num_features\", \"type\": \"model\", \"values\": [277], \"value\": 277}]\n",
    "  for parameter_info in parameter_info_list:\n",
    "    if parameter_info['name'] == 'sample_every_n_visits':\n",
    "      parameter_info['values'] = [sample_every_n_visits]\n",
    "      parameter_info['value'] = sample_every_n_visits\n",
    "  train_data,dev_data,test_data = get_data_for_parameters(parameter_info_list)\n",
    "  print(sample_every_n_visits)\n",
    "  evaluation_results = evaluate_baseline_model_on_dataset(parameter_info_list, dev_data)\n",
    "  every_n_visits_to_dev_evaluation_results[sample_every_n_visits] = evaluation_results\n",
    "  print(evaluation_results)\n",
    "  #evaluation_results = evaluate_baseline_model_on_dataset(parameter_info_list, train_data)\n",
    "  #every_n_visits_to_train_evaluation_results[sample_every_n_visits] = evaluation_results\n",
    "  #print(evaluation_results)\n",
    "\n",
    "\n",
    "\n"
   ]
  },
  {
   "cell_type": "code",
   "execution_count": 121,
   "metadata": {},
   "outputs": [],
   "source": [
    "scatterplot = []\n",
    "for k,v in every_n_visits_to_dev_evaluation_results.items():\n",
    "  scatterplot.append([k,v['dev_correct'] / v['dev_total']])"
   ]
  },
  {
   "cell_type": "code",
   "execution_count": 122,
   "metadata": {},
   "outputs": [],
   "source": [
    "import plotly.graph_objs as go\n",
    "from plotly.offline import download_plotlyjs, init_notebook_mode, plot, iplot\n"
   ]
  },
  {
   "cell_type": "code",
   "execution_count": 123,
   "metadata": {},
   "outputs": [
    {
     "name": "stdout",
     "output_type": "stream",
     "text": [
      "[[1, 0.8162821798729522], [2, 0.8042460715479772], [4, 0.7811768639251087], [8, 0.7460715479772652], [16, 0.7012704781009695], [32, 0.6200267469073888], [64, 0.565362754931461], [128, 0.5252423938482113], [3, 0.7967235038448679], [5, 0.7763289869608826], [6, 0.7719826145101972], [7, 0.753259779338014], [9, 0.7377131394182548], [10, 0.7428953527248412], [11, 0.7328652624540287], [12, 0.7303577398863257], [13, 0.7184887997325309], [14, 0.7032764961551321], [15, 0.7046138415245737], [17, 0.6937479103978602], [18, 0.6835506519558676], [19, 0.6853895018388498], [20, 0.6758609160815781], [40, 0.5966232029421598], [50, 0.5728853226345704], [80, 0.5523236375794048], [100, 0.5417920427950518], [120, 0.531427616181879], [110, 0.5346038114343029], [90, 0.5468070879304581], [21, 0.6733533935138749], [25, 0.6440989635573386], [70, 0.5615178869943163], [60, 0.5723838181210298], [23, 0.6686726847208292], [28, 0.6307255098629221], [22, 0.6656636576395855], [27, 0.6405884319625543], [29, 0.6390839184219325], [30, 0.6318956870611836], [31, 0.6218655967903711], [26, 0.6509528585757272], [24, 0.6636576395854229]]\n"
     ]
    }
   ],
   "source": [
    "print(scatterplot)"
   ]
  },
  {
   "cell_type": "code",
   "execution_count": 124,
   "metadata": {},
   "outputs": [
    {
     "data": {
      "application/vnd.plotly.v1+json": {
       "config": {
        "linkText": "Export to plot.ly",
        "plotlyServerURL": "https://plot.ly",
        "showLink": false
       },
       "data": [
        {
         "mode": "markers",
         "type": "scatter",
         "uid": "47599bf5-9d0b-4ee1-a353-48fd38a4c538",
         "x": [
          1,
          2,
          4,
          8,
          16,
          32,
          64,
          128,
          3,
          5,
          6,
          7,
          9,
          10,
          11,
          12,
          13,
          14,
          15,
          17,
          18,
          19,
          20,
          40,
          50,
          80,
          100,
          120,
          110,
          90,
          21,
          25,
          70,
          60,
          23,
          28,
          22,
          27,
          29,
          30,
          31,
          26,
          24
         ],
         "y": [
          0.8162821798729522,
          0.8042460715479772,
          0.7811768639251087,
          0.7460715479772652,
          0.7012704781009695,
          0.6200267469073888,
          0.565362754931461,
          0.5252423938482113,
          0.7967235038448679,
          0.7763289869608826,
          0.7719826145101972,
          0.753259779338014,
          0.7377131394182548,
          0.7428953527248412,
          0.7328652624540287,
          0.7303577398863257,
          0.7184887997325309,
          0.7032764961551321,
          0.7046138415245737,
          0.6937479103978602,
          0.6835506519558676,
          0.6853895018388498,
          0.6758609160815781,
          0.5966232029421598,
          0.5728853226345704,
          0.5523236375794048,
          0.5417920427950518,
          0.531427616181879,
          0.5346038114343029,
          0.5468070879304581,
          0.6733533935138749,
          0.6440989635573386,
          0.5615178869943163,
          0.5723838181210298,
          0.6686726847208292,
          0.6307255098629221,
          0.6656636576395855,
          0.6405884319625543,
          0.6390839184219325,
          0.6318956870611836,
          0.6218655967903711,
          0.6509528585757272,
          0.6636576395854229
         ]
        }
       ],
       "layout": {}
      },
      "text/html": [
       "<div id=\"f4716884-fee6-4f91-b86d-7828222c6963\" style=\"height: 525px; width: 100%;\" class=\"plotly-graph-div\"></div><script type=\"text/javascript\">require([\"plotly\"], function(Plotly) { window.PLOTLYENV=window.PLOTLYENV || {};window.PLOTLYENV.BASE_URL=\"https://plot.ly\";Plotly.newPlot(\"f4716884-fee6-4f91-b86d-7828222c6963\", [{\"mode\": \"markers\", \"x\": [1, 2, 4, 8, 16, 32, 64, 128, 3, 5, 6, 7, 9, 10, 11, 12, 13, 14, 15, 17, 18, 19, 20, 40, 50, 80, 100, 120, 110, 90, 21, 25, 70, 60, 23, 28, 22, 27, 29, 30, 31, 26, 24], \"y\": [0.8162821798729522, 0.8042460715479772, 0.7811768639251087, 0.7460715479772652, 0.7012704781009695, 0.6200267469073888, 0.565362754931461, 0.5252423938482113, 0.7967235038448679, 0.7763289869608826, 0.7719826145101972, 0.753259779338014, 0.7377131394182548, 0.7428953527248412, 0.7328652624540287, 0.7303577398863257, 0.7184887997325309, 0.7032764961551321, 0.7046138415245737, 0.6937479103978602, 0.6835506519558676, 0.6853895018388498, 0.6758609160815781, 0.5966232029421598, 0.5728853226345704, 0.5523236375794048, 0.5417920427950518, 0.531427616181879, 0.5346038114343029, 0.5468070879304581, 0.6733533935138749, 0.6440989635573386, 0.5615178869943163, 0.5723838181210298, 0.6686726847208292, 0.6307255098629221, 0.6656636576395855, 0.6405884319625543, 0.6390839184219325, 0.6318956870611836, 0.6218655967903711, 0.6509528585757272, 0.6636576395854229], \"type\": \"scatter\", \"uid\": \"226327ff-4f46-4098-b517-ddc7587a04d8\"}], {}, {\"showLink\": false, \"linkText\": \"Export to plot.ly\", \"plotlyServerURL\": \"https://plot.ly\"})});</script><script type=\"text/javascript\">window.addEventListener(\"resize\", function(){window._Plotly.Plots.resize(document.getElementById(\"f4716884-fee6-4f91-b86d-7828222c6963\"));});</script>"
      ],
      "text/vnd.plotly.v1+html": [
       "<div id=\"f4716884-fee6-4f91-b86d-7828222c6963\" style=\"height: 525px; width: 100%;\" class=\"plotly-graph-div\"></div><script type=\"text/javascript\">require([\"plotly\"], function(Plotly) { window.PLOTLYENV=window.PLOTLYENV || {};window.PLOTLYENV.BASE_URL=\"https://plot.ly\";Plotly.newPlot(\"f4716884-fee6-4f91-b86d-7828222c6963\", [{\"mode\": \"markers\", \"x\": [1, 2, 4, 8, 16, 32, 64, 128, 3, 5, 6, 7, 9, 10, 11, 12, 13, 14, 15, 17, 18, 19, 20, 40, 50, 80, 100, 120, 110, 90, 21, 25, 70, 60, 23, 28, 22, 27, 29, 30, 31, 26, 24], \"y\": [0.8162821798729522, 0.8042460715479772, 0.7811768639251087, 0.7460715479772652, 0.7012704781009695, 0.6200267469073888, 0.565362754931461, 0.5252423938482113, 0.7967235038448679, 0.7763289869608826, 0.7719826145101972, 0.753259779338014, 0.7377131394182548, 0.7428953527248412, 0.7328652624540287, 0.7303577398863257, 0.7184887997325309, 0.7032764961551321, 0.7046138415245737, 0.6937479103978602, 0.6835506519558676, 0.6853895018388498, 0.6758609160815781, 0.5966232029421598, 0.5728853226345704, 0.5523236375794048, 0.5417920427950518, 0.531427616181879, 0.5346038114343029, 0.5468070879304581, 0.6733533935138749, 0.6440989635573386, 0.5615178869943163, 0.5723838181210298, 0.6686726847208292, 0.6307255098629221, 0.6656636576395855, 0.6405884319625543, 0.6390839184219325, 0.6318956870611836, 0.6218655967903711, 0.6509528585757272, 0.6636576395854229], \"type\": \"scatter\", \"uid\": \"226327ff-4f46-4098-b517-ddc7587a04d8\"}], {}, {\"showLink\": false, \"linkText\": \"Export to plot.ly\", \"plotlyServerURL\": \"https://plot.ly\"})});</script><script type=\"text/javascript\">window.addEventListener(\"resize\", function(){window._Plotly.Plots.resize(document.getElementById(\"f4716884-fee6-4f91-b86d-7828222c6963\"));});</script>"
      ]
     },
     "metadata": {},
     "output_type": "display_data"
    }
   ],
   "source": [
    "\n",
    "\n",
    "# Create a trace\n",
    "trace = go.Scatter(\n",
    "    x = [x[0] for x in scatterplot],\n",
    "    y = [x[1] for x in scatterplot],\n",
    "    mode = 'markers'\n",
    ")\n",
    "\n",
    "data = [trace]\n",
    "\n",
    "# Plot and embed in ipython notebook!\n",
    "iplot(data)"
   ]
  },
  {
   "cell_type": "code",
   "execution_count": 139,
   "metadata": {},
   "outputs": [
    {
     "name": "stdout",
     "output_type": "stream",
     "text": [
      "[['initial_difficulty', 0.42076228686058176], ['first_chosen', 0.7154797726512871], ['always_nothing', 0.42995653627549313], ['most_common_previous', 0.7970578401872284]]\n"
     ]
    }
   ],
   "source": [
    "baseline_name_and_correctness = []\n",
    "for k,v in baseline_name_to_stats.items():\n",
    "  baseline_name_and_correctness.append([k, v['dev_correct'] / v['dev_total']])\n",
    "print(baseline_name_and_correctness)"
   ]
  }
 ],
 "metadata": {
  "kernelspec": {
   "display_name": "Python 3",
   "language": "python",
   "name": "python3"
  },
  "language_info": {
   "codemirror_mode": {
    "name": "ipython",
    "version": 3
   },
   "file_extension": ".py",
   "mimetype": "text/x-python",
   "name": "python",
   "nbconvert_exporter": "python",
   "pygments_lexer": "ipython3",
   "version": "3.7.2"
  }
 },
 "nbformat": 4,
 "nbformat_minor": 2
}
