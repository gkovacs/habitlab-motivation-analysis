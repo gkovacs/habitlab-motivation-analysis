{
 "cells": [
  {
   "cell_type": "code",
   "execution_count": 2,
   "metadata": {},
   "outputs": [
    {
     "name": "stdout",
     "output_type": "stream",
     "text": [
      "[NbConvertApp] Converting notebook evaluation_utils.ipynb to python\r\n"
     ]
    }
   ],
   "source": [
    "# noexport\n",
    "\n",
    "!typech evaluation_utils.ipynb\n"
   ]
  },
  {
   "cell_type": "code",
   "execution_count": 17,
   "metadata": {},
   "outputs": [
    {
     "data": {
      "text/html": [
       "<script type=\"text/javascript\">window.PlotlyConfig = {MathJaxConfig: 'local'};</script><script type=\"text/javascript\">if (window.MathJax) {MathJax.Hub.Config({SVG: {font: \"STIX-Web\"}});}</script><script>requirejs.config({paths: { 'plotly': ['https://cdn.plot.ly/plotly-latest.min']},});if(!window._Plotly) {require(['plotly'],function(plotly) {window._Plotly=plotly;});}</script>"
      ],
      "text/vnd.plotly.v1+html": [
       "<script type=\"text/javascript\">window.PlotlyConfig = {MathJaxConfig: 'local'};</script><script type=\"text/javascript\">if (window.MathJax) {MathJax.Hub.Config({SVG: {font: \"STIX-Web\"}});}</script><script>requirejs.config({paths: { 'plotly': ['https://cdn.plot.ly/plotly-latest.min']},});if(!window._Plotly) {require(['plotly'],function(plotly) {window._Plotly=plotly;});}</script>"
      ]
     },
     "metadata": {},
     "output_type": "display_data"
    }
   ],
   "source": [
    "from train_utils import *"
   ]
  },
  {
   "cell_type": "code",
   "execution_count": 16,
   "metadata": {},
   "outputs": [],
   "source": [
    "from getsecret import getsecret\n",
    "import subprocess\n",
    "import json"
   ]
  },
  {
   "cell_type": "code",
   "execution_count": 27,
   "metadata": {},
   "outputs": [],
   "source": [
    "#print(get_models_currently_training())"
   ]
  },
  {
   "cell_type": "code",
   "execution_count": 15,
   "metadata": {},
   "outputs": [],
   "source": [
    "def get_models_currently_training():\n",
    "  output = []\n",
    "  local_info = json.load(open('current.json'))\n",
    "  output.append(local_info['base_path'])\n",
    "  remote_info = json.loads(subprocess.check_output(getsecret('REMOTE_SSH_COMMAND'), shell=True))\n",
    "  output.append(remote_info['base_path'])\n",
    "  return output"
   ]
  },
  {
   "cell_type": "code",
   "execution_count": 9,
   "metadata": {},
   "outputs": [],
   "source": [
    "from glob import glob\n",
    "import os\n",
    "from os import path"
   ]
  },
  {
   "cell_type": "code",
   "execution_count": 11,
   "metadata": {},
   "outputs": [],
   "source": [
    "def find_last_completed_epoch(model_name):\n",
    "  return len(glob(path.join(model_name, 'info_*.json')))\n"
   ]
  },
  {
   "cell_type": "code",
   "execution_count": 22,
   "metadata": {},
   "outputs": [],
   "source": [
    "\n",
    "\n",
    "def get_models_with_training_status():\n",
    "  output = []\n",
    "  models_currently_training = set(get_models_currently_training())\n",
    "  for x in glob('tm_*'):\n",
    "    model_status = {\n",
    "      'name': x,\n",
    "      'epochs_done': find_last_completed_epoch(x),\n",
    "      'status': 'incomplete'\n",
    "    }\n",
    "    status_file_path = path.join(x, 'status.json')\n",
    "    if not os.path.exists(status_file_path):\n",
    "      output.append(model_status)\n",
    "      continue\n",
    "    status_info = json.load(open(status_file_path))\n",
    "    if status_info['status'] == 'done':\n",
    "      #model_status['epochs_done'] = find_last_completed_epoch(x)\n",
    "      model_status['status'] = status_info['status']\n",
    "      output.append(model_status)\n",
    "      continue\n",
    "    if status_info['status'] == 'training':\n",
    "      if x in models_currently_training:\n",
    "        model_status['status'] = status_info['status']\n",
    "      output.append(model_status)\n",
    "      continue\n",
    "    raise Exception('invalid status for model', x, status_info['status'])\n",
    "    #output.append(model_status)\n",
    "  return output"
   ]
  },
  {
   "cell_type": "code",
   "execution_count": 26,
   "metadata": {},
   "outputs": [],
   "source": [
    "import shutil\n",
    "\n",
    "def remove_incomplete_models():\n",
    "  for status_info in get_models_with_training_status():\n",
    "    if status_info['epochs_done'] == 0 and status_info['status'] == 'incomplete':\n",
    "      model_name = status_info['name']\n",
    "      shutil.rmtree(model_name)\n",
    "\n",
    "remove_incomplete_models()"
   ]
  },
  {
   "cell_type": "code",
   "execution_count": 22,
   "metadata": {},
   "outputs": [
    {
     "name": "stdout",
     "output_type": "stream",
     "text": [
      "{'dataset_name': '2019_04_01', 'model_name': 'selfattentionlstm', 'criterion': 'NLLLoss', 'learning_rate': 0.0005, 'window_embed_size': 256, 'difficulty': True, 'time_of_day': True, 'day_of_week': True, 'domain_productivity': True, 'domain_category': True, 'initial_difficulty': True, 'languages': True, 'num_prior_entries': 10, 'sample_every_n_visits': 1, 'sample_difficulty_every_n_visits': 1, 'disable_prior_visit_history': True, 'disable_difficulty_history': True, 'enable_current_difficulty': True, 'num_features': 277}\n",
      "{'dataset_name': '2019_04_01', 'model_name': 'selfattentionlstm', 'criterion': 'NLLLoss', 'learning_rate': 0.005, 'window_embed_size': 512, 'difficulty': True, 'time_of_day': True, 'day_of_week': True, 'domain_productivity': True, 'domain_category': True, 'initial_difficulty': True, 'languages': True, 'num_prior_entries': 30, 'sample_every_n_visits': 1, 'sample_difficulty_every_n_visits': 1, 'disable_prior_visit_history': True, 'disable_difficulty_history': True, 'enable_current_difficulty': True, 'num_features': 277}\n",
      "{'dataset_name': '2019_04_01', 'model_name': 'selfattentionlstm', 'criterion': 'NLLLoss', 'learning_rate': 0.05, 'window_embed_size': 256, 'difficulty': True, 'time_of_day': True, 'day_of_week': True, 'domain_productivity': True, 'domain_category': True, 'initial_difficulty': True, 'languages': True, 'num_prior_entries': 40, 'sample_every_n_visits': 1, 'sample_difficulty_every_n_visits': 1, 'disable_prior_visit_history': True, 'disable_difficulty_history': True, 'enable_current_difficulty': True, 'num_features': 277}\n",
      "{'dataset_name': '2019_04_01', 'model_name': 'selfattentionlstm', 'criterion': 'NLLLoss', 'learning_rate': 0.05, 'window_embed_size': 256, 'difficulty': True, 'time_of_day': True, 'day_of_week': True, 'domain_productivity': True, 'domain_category': True, 'initial_difficulty': True, 'languages': True, 'num_prior_entries': 40, 'sample_every_n_visits': 1, 'sample_difficulty_every_n_visits': 1, 'disable_prior_visit_history': False, 'disable_difficulty_history': False, 'enable_current_difficulty': False, 'num_features': 277}\n",
      "{'dataset_name': '2019_04_01', 'model_name': 'selfattentionlstm', 'criterion': 'NLLLoss', 'learning_rate': 0.0005, 'window_embed_size': 512, 'difficulty': True, 'time_of_day': True, 'day_of_week': True, 'domain_productivity': True, 'domain_category': True, 'initial_difficulty': True, 'languages': True, 'num_prior_entries': 10, 'sample_every_n_visits': 1, 'sample_difficulty_every_n_visits': 1, 'disable_prior_visit_history': False, 'disable_difficulty_history': False, 'enable_current_difficulty': False, 'num_features': 277}\n",
      "{'dataset_name': '2019_04_01', 'model_name': 'selfattentionlstm', 'criterion': 'NLLLoss', 'learning_rate': 5e-05, 'window_embed_size': 256, 'difficulty': True, 'time_of_day': True, 'day_of_week': True, 'domain_productivity': True, 'domain_category': True, 'initial_difficulty': True, 'languages': True, 'num_prior_entries': 10, 'sample_every_n_visits': 1, 'sample_difficulty_every_n_visits': 1, 'disable_prior_visit_history': False, 'disable_difficulty_history': False, 'enable_current_difficulty': False, 'num_features': 277}\n",
      "{'dataset_name': '2019_04_01', 'model_name': 'selfattentionlstm', 'criterion': 'NLLLoss', 'learning_rate': 0.0005, 'window_embed_size': 128, 'difficulty': True, 'time_of_day': True, 'day_of_week': True, 'domain_productivity': True, 'domain_category': True, 'initial_difficulty': True, 'languages': True, 'num_prior_entries': 20, 'sample_every_n_visits': 1, 'sample_difficulty_every_n_visits': 1, 'disable_prior_visit_history': True, 'disable_difficulty_history': True, 'enable_current_difficulty': True, 'num_features': 277}\n",
      "{'dataset_name': '2019_04_01', 'model_name': 'selfattentionlstm', 'criterion': 'NLLLoss', 'learning_rate': 0.05, 'window_embed_size': 128, 'difficulty': True, 'time_of_day': True, 'day_of_week': True, 'domain_productivity': True, 'domain_category': True, 'initial_difficulty': True, 'languages': True, 'num_prior_entries': 10, 'sample_every_n_visits': 1, 'sample_difficulty_every_n_visits': 1, 'disable_prior_visit_history': True, 'disable_difficulty_history': True, 'enable_current_difficulty': True, 'num_features': 277}\n",
      "{'dataset_name': '2019_04_01', 'model_name': 'selfattentionlstm', 'criterion': 'NLLLoss', 'learning_rate': 0.05, 'window_embed_size': 512, 'difficulty': True, 'time_of_day': True, 'day_of_week': True, 'domain_productivity': True, 'domain_category': True, 'initial_difficulty': True, 'languages': True, 'num_prior_entries': 20, 'sample_every_n_visits': 1, 'sample_difficulty_every_n_visits': 1, 'disable_prior_visit_history': True, 'disable_difficulty_history': True, 'enable_current_difficulty': True, 'num_features': 277}\n",
      "{'dataset_name': '2019_04_01', 'model_name': 'selfattentionlstm', 'criterion': 'NLLLoss', 'learning_rate': 0.0005, 'window_embed_size': 128, 'difficulty': True, 'time_of_day': True, 'day_of_week': True, 'domain_productivity': True, 'domain_category': True, 'initial_difficulty': True, 'languages': True, 'num_prior_entries': 30, 'sample_every_n_visits': 1, 'sample_difficulty_every_n_visits': 1, 'disable_prior_visit_history': True, 'disable_difficulty_history': True, 'enable_current_difficulty': True, 'num_features': 277}\n",
      "{'dataset_name': '2019_04_01', 'model_name': 'selfattentionlstm', 'criterion': 'NLLLoss', 'learning_rate': 0.05, 'window_embed_size': 128, 'difficulty': True, 'time_of_day': True, 'day_of_week': True, 'domain_productivity': True, 'domain_category': True, 'initial_difficulty': True, 'languages': True, 'num_prior_entries': 20, 'sample_every_n_visits': 1, 'sample_difficulty_every_n_visits': 1, 'disable_prior_visit_history': True, 'disable_difficulty_history': True, 'enable_current_difficulty': True, 'num_features': 277}\n",
      "{'dataset_name': '2019_04_01', 'model_name': 'selfattentionlstm', 'criterion': 'NLLLoss', 'learning_rate': 0.05, 'window_embed_size': 64, 'difficulty': True, 'time_of_day': True, 'day_of_week': True, 'domain_productivity': True, 'domain_category': True, 'initial_difficulty': True, 'languages': True, 'num_prior_entries': 10, 'sample_every_n_visits': 1, 'sample_difficulty_every_n_visits': 1, 'disable_prior_visit_history': True, 'disable_difficulty_history': True, 'enable_current_difficulty': True, 'num_features': 277}\n",
      "{'dataset_name': '2019_04_01', 'model_name': 'selfattentionlstm', 'criterion': 'NLLLoss', 'learning_rate': 5e-05, 'window_embed_size': 64, 'difficulty': True, 'time_of_day': True, 'day_of_week': True, 'domain_productivity': True, 'domain_category': True, 'initial_difficulty': True, 'languages': True, 'num_prior_entries': 20, 'sample_every_n_visits': 1, 'sample_difficulty_every_n_visits': 1, 'disable_prior_visit_history': False, 'disable_difficulty_history': False, 'enable_current_difficulty': False, 'num_features': 277}\n",
      "{'dataset_name': '2019_04_01', 'model_name': 'selfattentionlstm', 'criterion': 'NLLLoss', 'learning_rate': 0.0005, 'window_embed_size': 256, 'difficulty': True, 'time_of_day': True, 'day_of_week': True, 'domain_productivity': True, 'domain_category': True, 'initial_difficulty': True, 'languages': True, 'num_prior_entries': 30, 'sample_every_n_visits': 1, 'sample_difficulty_every_n_visits': 1, 'disable_prior_visit_history': True, 'disable_difficulty_history': True, 'enable_current_difficulty': True, 'num_features': 277}\n",
      "{'dataset_name': '2019_04_01', 'model_name': 'selfattentionlstm', 'criterion': 'NLLLoss', 'learning_rate': 5e-05, 'window_embed_size': 256, 'difficulty': True, 'time_of_day': True, 'day_of_week': True, 'domain_productivity': True, 'domain_category': True, 'initial_difficulty': True, 'languages': True, 'num_prior_entries': 40, 'sample_every_n_visits': 1, 'sample_difficulty_every_n_visits': 1, 'disable_prior_visit_history': False, 'disable_difficulty_history': False, 'enable_current_difficulty': False, 'num_features': 277}\n",
      "{'dataset_name': '2019_04_01', 'model_name': 'selfattentionlstm', 'criterion': 'NLLLoss', 'learning_rate': 5e-05, 'window_embed_size': 512, 'difficulty': True, 'time_of_day': True, 'day_of_week': True, 'domain_productivity': True, 'domain_category': True, 'initial_difficulty': True, 'languages': True, 'num_prior_entries': 20, 'sample_every_n_visits': 1, 'sample_difficulty_every_n_visits': 1, 'disable_prior_visit_history': True, 'disable_difficulty_history': True, 'enable_current_difficulty': True, 'num_features': 277}\n",
      "{'dataset_name': '2019_04_01', 'model_name': 'selfattentionlstm', 'criterion': 'NLLLoss', 'learning_rate': 0.0005, 'window_embed_size': 128, 'difficulty': True, 'time_of_day': True, 'day_of_week': True, 'domain_productivity': True, 'domain_category': True, 'initial_difficulty': True, 'languages': True, 'num_prior_entries': 20, 'sample_every_n_visits': 1, 'sample_difficulty_every_n_visits': 1, 'disable_prior_visit_history': False, 'disable_difficulty_history': False, 'enable_current_difficulty': False, 'num_features': 277}\n",
      "{'dataset_name': '2019_04_01', 'model_name': 'selfattentionlstm', 'criterion': 'NLLLoss', 'learning_rate': 0.0005, 'window_embed_size': 64, 'difficulty': True, 'time_of_day': True, 'day_of_week': True, 'domain_productivity': True, 'domain_category': True, 'initial_difficulty': True, 'languages': True, 'num_prior_entries': 10, 'sample_every_n_visits': 1, 'sample_difficulty_every_n_visits': 1, 'disable_prior_visit_history': True, 'disable_difficulty_history': True, 'enable_current_difficulty': True, 'num_features': 277}\n",
      "{'dataset_name': '2019_04_01', 'model_name': 'selfattentionlstm', 'criterion': 'NLLLoss', 'learning_rate': 0.0005, 'window_embed_size': 128, 'difficulty': True, 'time_of_day': True, 'day_of_week': True, 'domain_productivity': True, 'domain_category': True, 'initial_difficulty': True, 'languages': True, 'num_prior_entries': 40, 'sample_every_n_visits': 1, 'sample_difficulty_every_n_visits': 1, 'disable_prior_visit_history': True, 'disable_difficulty_history': True, 'enable_current_difficulty': True, 'num_features': 277}\n",
      "{'dataset_name': '2019_04_01', 'model_name': 'selfattentionlstm', 'criterion': 'NLLLoss', 'learning_rate': 5e-05, 'window_embed_size': 256, 'difficulty': True, 'time_of_day': True, 'day_of_week': True, 'domain_productivity': True, 'domain_category': True, 'initial_difficulty': True, 'languages': True, 'num_prior_entries': 10, 'sample_every_n_visits': 1, 'sample_difficulty_every_n_visits': 1, 'disable_prior_visit_history': True, 'disable_difficulty_history': True, 'enable_current_difficulty': True, 'num_features': 277}\n",
      "{'dataset_name': '2019_04_01', 'model_name': 'selfattentionlstm', 'criterion': 'NLLLoss', 'learning_rate': 5e-05, 'window_embed_size': 512, 'difficulty': True, 'time_of_day': True, 'day_of_week': True, 'domain_productivity': True, 'domain_category': True, 'initial_difficulty': True, 'languages': True, 'num_prior_entries': 10, 'sample_every_n_visits': 1, 'sample_difficulty_every_n_visits': 1, 'disable_prior_visit_history': True, 'disable_difficulty_history': True, 'enable_current_difficulty': True, 'num_features': 277}\n",
      "{'dataset_name': '2019_04_01', 'model_name': 'selfattentionlstm', 'criterion': 'NLLLoss', 'learning_rate': 0.005, 'window_embed_size': 256, 'difficulty': True, 'time_of_day': True, 'day_of_week': True, 'domain_productivity': True, 'domain_category': True, 'initial_difficulty': True, 'languages': True, 'num_prior_entries': 20, 'sample_every_n_visits': 1, 'sample_difficulty_every_n_visits': 1, 'disable_prior_visit_history': True, 'disable_difficulty_history': True, 'enable_current_difficulty': True, 'num_features': 277}\n",
      "{'dataset_name': '2019_04_01', 'model_name': 'selfattentionlstm', 'criterion': 'NLLLoss', 'learning_rate': 0.05, 'window_embed_size': 512, 'difficulty': True, 'time_of_day': True, 'day_of_week': True, 'domain_productivity': True, 'domain_category': True, 'initial_difficulty': True, 'languages': True, 'num_prior_entries': 30, 'sample_every_n_visits': 1, 'sample_difficulty_every_n_visits': 1, 'disable_prior_visit_history': True, 'disable_difficulty_history': True, 'enable_current_difficulty': True, 'num_features': 277}\n",
      "{'dataset_name': '2019_04_01', 'model_name': 'selfattentionlstm', 'criterion': 'NLLLoss', 'learning_rate': 0.05, 'window_embed_size': 64, 'difficulty': True, 'time_of_day': True, 'day_of_week': True, 'domain_productivity': True, 'domain_category': True, 'initial_difficulty': True, 'languages': True, 'num_prior_entries': 40, 'sample_every_n_visits': 1, 'sample_difficulty_every_n_visits': 1, 'disable_prior_visit_history': True, 'disable_difficulty_history': True, 'enable_current_difficulty': True, 'num_features': 277}\n",
      "{'dataset_name': '2019_04_01', 'model_name': 'selfattentionlstm', 'criterion': 'NLLLoss', 'learning_rate': 5e-05, 'window_embed_size': 512, 'difficulty': True, 'time_of_day': True, 'day_of_week': True, 'domain_productivity': True, 'domain_category': True, 'initial_difficulty': True, 'languages': True, 'num_prior_entries': 30, 'sample_every_n_visits': 1, 'sample_difficulty_every_n_visits': 1, 'disable_prior_visit_history': True, 'disable_difficulty_history': True, 'enable_current_difficulty': True, 'num_features': 277}\n",
      "{'dataset_name': '2019_04_01', 'model_name': 'selfattentionlstm', 'criterion': 'NLLLoss', 'learning_rate': 0.0005, 'window_embed_size': 64, 'difficulty': True, 'time_of_day': True, 'day_of_week': True, 'domain_productivity': True, 'domain_category': True, 'initial_difficulty': True, 'languages': True, 'num_prior_entries': 20, 'sample_every_n_visits': 1, 'sample_difficulty_every_n_visits': 1, 'disable_prior_visit_history': False, 'disable_difficulty_history': False, 'enable_current_difficulty': False, 'num_features': 277}\n",
      "{'dataset_name': '2019_04_01', 'model_name': 'selfattentionlstm', 'criterion': 'NLLLoss', 'learning_rate': 0.005, 'window_embed_size': 64, 'difficulty': True, 'time_of_day': True, 'day_of_week': True, 'domain_productivity': True, 'domain_category': True, 'initial_difficulty': True, 'languages': True, 'num_prior_entries': 30, 'sample_every_n_visits': 1, 'sample_difficulty_every_n_visits': 1, 'disable_prior_visit_history': False, 'disable_difficulty_history': False, 'enable_current_difficulty': False, 'num_features': 277}\n"
     ]
    }
   ],
   "source": [
    "def get_parameter_info_list_for_model(model_name):\n",
    "  parameters_file_path = path.join(x, 'parameters.json')\n",
    "  return json.load(open(parameters_file_path))\n",
    "\n",
    "def get_parameter_map_for_model(model_name):\n",
    "  output = {}\n",
    "  for parameter_info in get_parameter_info_list_for_model(model_name):\n",
    "    parameter_name = parameter_info['name']\n",
    "    parameter_value = parameter_info['value']\n",
    "    output[parameter_name] = parameter_value\n",
    "  return output\n",
    "\n",
    "def list_models_finished_training():\n",
    "  output = []\n",
    "  for x in glob('tm_*'):\n",
    "    status_file_path = path.join(x, 'status.json')\n",
    "    if not os.path.exists(status_file_path):\n",
    "      continue\n",
    "    status_info = json.load(open(status_file_path))\n",
    "    #print(status_info)\n",
    "    if status_info['status'] != 'done':\n",
    "      continue\n",
    "    output.append(x)\n",
    "  return output\n",
    "\n",
    "def list_models_matching_parameters(parameters_map):\n",
    "  for model_name in list_models_finished_training():\n",
    "    parameters_map = get_parameter_map_for_model(model_name)\n",
    "\n",
    "for x in list_models_finished_training():\n",
    "  get_parameter_map_for_model(x))"
   ]
  }
 ],
 "metadata": {
  "kernelspec": {
   "display_name": "Python 3",
   "language": "python",
   "name": "python3"
  },
  "language_info": {
   "codemirror_mode": {
    "name": "ipython",
    "version": 3
   },
   "file_extension": ".py",
   "mimetype": "text/x-python",
   "name": "python",
   "nbconvert_exporter": "python",
   "pygments_lexer": "ipython3",
   "version": "3.7.2"
  }
 },
 "nbformat": 4,
 "nbformat_minor": 2
}
