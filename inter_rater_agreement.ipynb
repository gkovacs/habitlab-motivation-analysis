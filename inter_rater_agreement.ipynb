{
 "cells": [
  {
   "cell_type": "code",
   "execution_count": 3,
   "metadata": {},
   "outputs": [
    {
     "name": "stdout",
     "output_type": "stream",
     "text": [
      "Collecting krippendorff\n",
      "  Downloading https://files.pythonhosted.org/packages/76/fb/6561753e92a90ac495ca0947c28534a674290501b62dad2780140d6da841/krippendorff-0.3.0-py2.py3-none-any.whl\n",
      "Installing collected packages: krippendorff\n",
      "\u001b[31mException:\n",
      "Traceback (most recent call last):\n",
      "  File \"/usr/local/lib/python2.7/dist-packages/pip/basecommand.py\", line 215, in main\n",
      "    status = self.run(options, args)\n",
      "  File \"/usr/local/lib/python2.7/dist-packages/pip/commands/install.py\", line 342, in run\n",
      "    prefix=options.prefix_path,\n",
      "  File \"/usr/local/lib/python2.7/dist-packages/pip/req/req_set.py\", line 784, in install\n",
      "    **kwargs\n",
      "  File \"/usr/local/lib/python2.7/dist-packages/pip/req/req_install.py\", line 851, in install\n",
      "    self.move_wheel_files(self.source_dir, root=root, prefix=prefix)\n",
      "  File \"/usr/local/lib/python2.7/dist-packages/pip/req/req_install.py\", line 1064, in move_wheel_files\n",
      "    isolated=self.isolated,\n",
      "  File \"/usr/local/lib/python2.7/dist-packages/pip/wheel.py\", line 345, in move_wheel_files\n",
      "    clobber(source, lib_dir, True)\n",
      "  File \"/usr/local/lib/python2.7/dist-packages/pip/wheel.py\", line 316, in clobber\n",
      "    ensure_dir(destdir)\n",
      "  File \"/usr/local/lib/python2.7/dist-packages/pip/utils/__init__.py\", line 83, in ensure_dir\n",
      "    os.makedirs(path)\n",
      "  File \"/usr/lib/python2.7/os.py\", line 157, in makedirs\n",
      "    mkdir(name, mode)\n",
      "OSError: [Errno 13] 权限不够: '/usr/local/lib/python2.7/dist-packages/krippendorff-0.3.0.dist-info'\u001b[0m\n",
      "\u001b[33mYou are using pip version 9.0.1, however version 19.2.3 is available.\n",
      "You should consider upgrading via the 'pip install --upgrade pip' command.\u001b[0m\n"
     ]
    }
   ],
   "source": [
    "#!pip install krippendorff"
   ]
  },
  {
   "cell_type": "code",
   "execution_count": 2,
   "metadata": {},
   "outputs": [
    {
     "name": "stdout",
     "output_type": "stream",
     "text": [
      "[[1, 2, 1, 2, 1, 1, 1, 3, 3, 3, 3, 3], [1, 2, 2, 1, 1, 2, 1, 3, 3, 2, 3, 2], [1, 2, 1, 3, 1, 3, 3, 3, 3, 2, 3, 2]]\n"
     ]
    }
   ],
   "source": [
    "scores_orig = [\n",
    "  [1, 1, 1], # Injects timer into the Facebook feed   \n",
    "  [2, 2, 2], # Removes the Facebook news feed \n",
    "  [1, 2, 1], # Notifies you of time spent in the corner of your desktop\n",
    "  [2, 1, 3], # Removes Facebook comments\n",
    "  [1, 1, 1], # Removes clickbait\n",
    "  [1, 2, 3], # Notifies you of time spent every minute\n",
    "  [1, 1, 3], # Shows time spent on site at the top of screen\n",
    "  [3, 3, 3], # Freezes scrolling after a certain amount of scrolls\n",
    "  [3, 3, 3], # Show time spent and visit count each visit\n",
    "  [3, 2, 2], # Makes you wait a few seconds before visiting\n",
    "  [3, 3, 3], # Closes tab after 60 seconds\n",
    "  [3, 2, 2], # Asks how long you want to spend on site this visit\n",
    "]\n",
    "\n",
    "\n",
    "\n",
    "scores = [[], [], []]\n",
    "for r1,r2,r3 in scores_orig:\n",
    "  scores[0].append(r1)\n",
    "  scores[1].append(r2)\n",
    "  scores[2].append(r3)\n",
    "\n",
    "print(scores)\n",
    "\n"
   ]
  },
  {
   "cell_type": "code",
   "execution_count": 23,
   "metadata": {},
   "outputs": [],
   "source": [
    "import pandas as pd\n",
    "\n",
    "def convert_list_of_dicts_into_dataframe(dict_list):\n",
    "  output = {}\n",
    "  for keyname in dict_list[0].keys():\n",
    "    output[keyname] = []\n",
    "  for item in dict_list:\n",
    "    for k,v in item.items():\n",
    "      output[k].append(v)\n",
    "  return pd.DataFrame.from_dict(output)\n",
    "\n",
    "#print(convert_list_of_dicts_into_dataframe([\n",
    "#  {'a': 3, 'b': 5},\n",
    "#  {'a': 4, 'b': 6}\n",
    "#]))\n",
    "\n",
    "list_of_dicts = []\n",
    "for r1,r2,r3 in scores_orig:\n",
    "  list_of_dicts.append({'rater1': r1, 'rater2': r2, 'rater3': r3})\n",
    "df = convert_list_of_dicts_into_dataframe(list_of_dicts)"
   ]
  },
  {
   "cell_type": "code",
   "execution_count": 24,
   "metadata": {},
   "outputs": [
    {
     "name": "stdout",
     "output_type": "stream",
     "text": [
      "    rater1  rater2  rater3\n",
      "0        1       1       1\n",
      "1        2       2       2\n",
      "2        1       2       1\n",
      "3        2       1       3\n",
      "4        1       1       1\n",
      "5        1       2       3\n",
      "6        1       1       3\n",
      "7        3       3       3\n",
      "8        3       3       3\n",
      "9        3       2       2\n",
      "10       3       3       3\n",
      "11       3       2       2\n"
     ]
    }
   ],
   "source": [
    "print(df)"
   ]
  },
  {
   "cell_type": "code",
   "execution_count": 25,
   "metadata": {},
   "outputs": [
    {
     "name": "stderr",
     "output_type": "stream",
     "text": [
      "/usr/local/lib/python3.7/dist-packages/rpy2/robjects/pandas2ri.py:191: FutureWarning: from_items is deprecated. Please use DataFrame.from_dict(dict(items), ...) instead. DataFrame.from_dict(OrderedDict(items)) may be used to preserve the key order.\n",
      "  res = PandasDataFrame.from_items(items)\n"
     ]
    }
   ],
   "source": [
    "%Rpush df"
   ]
  },
  {
   "cell_type": "code",
   "execution_count": 26,
   "metadata": {},
   "outputs": [
    {
     "data": {
      "text/plain": [
       "   rater1 rater2 rater3\n",
       "0       1      1      1\n",
       "1       2      2      2\n",
       "2       1      2      1\n",
       "3       2      1      3\n",
       "4       1      1      1\n",
       "5       1      2      3\n",
       "6       1      1      3\n",
       "7       3      3      3\n",
       "8       3      3      3\n",
       "9       3      2      2\n",
       "10      3      3      3\n",
       "11      3      2      2\n"
      ]
     },
     "metadata": {},
     "output_type": "display_data"
    }
   ],
   "source": [
    "%%R\n",
    "\n",
    "show(df)"
   ]
  },
  {
   "cell_type": "code",
   "execution_count": 11,
   "metadata": {},
   "outputs": [
    {
     "data": {
      "text/plain": [
       "0.5118025751072961"
      ]
     },
     "execution_count": 11,
     "metadata": {},
     "output_type": "execute_result"
    }
   ],
   "source": [
    "import krippendorff\n",
    "\n",
    "krippendorff.alpha(reliability_data=scores)"
   ]
  },
  {
   "cell_type": "code",
   "execution_count": 7,
   "metadata": {},
   "outputs": [],
   "source": [
    "# from nltk.metrics.agreement import AnnotationTask"
   ]
  },
  {
   "cell_type": "code",
   "execution_count": 8,
   "metadata": {},
   "outputs": [
    {
     "name": "stdout",
     "output_type": "stream",
     "text": [
      "[[0, '0', '1'], [0, '1', '1'], [0, '2', '1'], [1, '0', '1'], [1, '1', '1'], [1, '2', '0'], [2, '0', '0'], [2, '1', '1'], [2, '2', '1']]\n"
     ]
    }
   ],
   "source": [
    "# rater1 = [1,1,1]\n",
    "# rater2 = [1,1,0]\n",
    "# rater3 = [0,1,1]\n",
    "\n",
    "# taskdata=[[0,str(i),str(rater1[i])] for i in range(0,len(rater1))]+[[1,str(i),str(rater2[i])] for i in range(0,len(rater2))]+[[2,str(i),str(rater3[i])] for i in range(0,len(rater3))]\n",
    "# print(taskdata)"
   ]
  },
  {
   "cell_type": "code",
   "execution_count": 10,
   "metadata": {},
   "outputs": [
    {
     "name": "stdout",
     "output_type": "stream",
     "text": [
      "1.0158730158730158\n"
     ]
    }
   ],
   "source": [
    "# from nltk.metrics.agreement import AnnotationTask\n",
    "\n",
    "# evaluator1 = [3, 5, 5, 5, 5, 5, 5, 5, 5, 3, 3, 5, 5, 5, 5, 3, 5, 5, 5, 5]\n",
    "# evaluator2 = [0, 4, 5, 2, 2, 1, 0, 0, 5, 0, 5, 0, 5, 2, 4, 0, 0, 4, 0, 2]\n",
    "\n",
    "# data = []\n",
    "# for i in range(len(evaluator1)):\n",
    "#     for j, k in zip(evaluator1, evaluator2):\n",
    "#         data.append(('1', str(i), str(j)))\n",
    "#         data.append(('2', str(i), str(k)))\n",
    "\n",
    "# task = AnnotationTask(data)\n",
    "\n",
    "# print(task.kappa()) # 1.0158730158730158"
   ]
  },
  {
   "cell_type": "code",
   "execution_count": 15,
   "metadata": {},
   "outputs": [],
   "source": [
    "%load_ext rpy2.ipython\n"
   ]
  },
  {
   "cell_type": "code",
   "execution_count": 35,
   "metadata": {},
   "outputs": [
    {
     "data": {
      "text/plain": [
       " Single Score Intraclass Correlation\n",
       "\n",
       "   Model: twoway \n",
       "   Type : consistency \n",
       "\n",
       "   Subjects = 12 \n",
       "     Raters = 3 \n",
       "   ICC(C,1) = 0.526\n",
       "\n",
       " F-Test, H0: r0 = 0 ; H1: r0 > 0 \n",
       "   F(11,22) = 4.34 , p = 0.00167 \n",
       "\n",
       " 95%-Confidence Interval for ICC Population Values:\n",
       "  0.175 < ICC < 0.811\n"
      ]
     },
     "metadata": {},
     "output_type": "display_data"
    }
   ],
   "source": [
    "%%R\n",
    "\n",
    "#library(irr)\n",
    "#data(anxiety)\n",
    "\n",
    "#show(anxiety)\n",
    "\n",
    "#dfa <- anxiety[,c(1,2)]\n",
    "#icc(anxiety, model=\"twoway\", type=\"agreement\")\n",
    "#icc(df, model=\"twoway\", type=\"agreement\")\n",
    "icc(df, model=\"twoway\", type=\"consistency\") # oneway or twoway / agreement or consistency\n",
    "\n",
    "#show(dfa)"
   ]
  }
 ],
 "metadata": {
  "kernelspec": {
   "display_name": "Python 3",
   "language": "python",
   "name": "python3"
  },
  "language_info": {
   "codemirror_mode": {
    "name": "ipython",
    "version": 3
   },
   "file_extension": ".py",
   "mimetype": "text/x-python",
   "name": "python",
   "nbconvert_exporter": "python",
   "pygments_lexer": "ipython3",
   "version": "3.7.4"
  }
 },
 "nbformat": 4,
 "nbformat_minor": 2
}
