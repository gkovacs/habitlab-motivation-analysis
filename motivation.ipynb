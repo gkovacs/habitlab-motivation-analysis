{
 "cells": [
  {
   "cell_type": "code",
   "execution_count": 134,
   "metadata": {
    "scrolled": true
   },
   "outputs": [
    {
     "data": {
      "text/html": [
       "<script type=\"text/javascript\">window.PlotlyConfig = {MathJaxConfig: 'local'};</script><script type=\"text/javascript\">if (window.MathJax) {MathJax.Hub.Config({SVG: {font: \"STIX-Web\"}});}</script><script>requirejs.config({paths: { 'plotly': ['https://cdn.plot.ly/plotly-latest.min']},});if(!window._Plotly) {require(['plotly'],function(plotly) {window._Plotly=plotly;});}</script>"
      ],
      "text/vnd.plotly.v1+html": [
       "<script type=\"text/javascript\">window.PlotlyConfig = {MathJaxConfig: 'local'};</script><script type=\"text/javascript\">if (window.MathJax) {MathJax.Hub.Config({SVG: {font: \"STIX-Web\"}});}</script><script>requirejs.config({paths: { 'plotly': ['https://cdn.plot.ly/plotly-latest.min']},});if(!window._Plotly) {require(['plotly'],function(plotly) {window._Plotly=plotly;});}</script>"
      ]
     },
     "metadata": {},
     "output_type": "display_data"
    }
   ],
   "source": [
    "import math\n",
    "from browser_libs import get_collection_items, get_collection_names, get_collection_for_user\n",
    "from memoize import memoize # pip install memoize2\n",
    "from collections import Counter\n",
    "import pandas as pd\n",
    "import numpy as np\n",
    "import scipy as sp\n",
    "import plotly.plotly as py\n",
    "import plotly.graph_objs as go\n",
    "from plotly.offline import download_plotlyjs, init_notebook_mode, plot, iplot\n",
    "init_notebook_mode(connected=True)"
   ]
  },
  {
   "cell_type": "code",
   "execution_count": 2,
   "metadata": {},
   "outputs": [
    {
     "name": "stdout",
     "output_type": "stream",
     "text": [
      "960c17bec89c59404248b47d_synced:experiment_vars\n"
     ]
    }
   ],
   "source": [
    "collection_names = get_collection_names()\n",
    "for x in collection_names:\n",
    "  if 'experiment_vars' in x and 'for_goal' not in x:\n",
    "    print(x)\n",
    "    break"
   ]
  },
  {
   "cell_type": "code",
   "execution_count": 3,
   "metadata": {},
   "outputs": [],
   "source": [
    "@memoize\n",
    "def get_users_with_choose_difficulty():\n",
    "  collection_names = get_collection_names()\n",
    "  output = []\n",
    "  for x in collection_names:\n",
    "    if x.endswith('_internal:choose_difficulty'):\n",
    "      user = x.replace('_internal:choose_difficulty', '')\n",
    "      output.append(user)\n",
    "  return output\n"
   ]
  },
  {
   "cell_type": "code",
   "execution_count": 4,
   "metadata": {},
   "outputs": [],
   "source": [
    "@memoize\n",
    "def get_choose_difficulty_items_for_user(user):\n",
    "  collection_items = get_collection_for_user(user, 'internal:choose_difficulty')\n",
    "  output = []\n",
    "  for x in collection_items:\n",
    "    if 'is_new_session' not in x:\n",
    "      continue\n",
    "    if x['is_new_session'] != True:\n",
    "      continue\n",
    "    if ('developer_mode' in x) and (x['developer_mode'] == True):\n",
    "      continue\n",
    "    if ('is_preview_mode' in x) and (x['is_preview_mode'] == True):\n",
    "      continue\n",
    "    if ('is_suggestion_mode' in x) and (x['is_suggestion_mode'] == True):\n",
    "      continue\n",
    "    output.append(x)\n",
    "  return output"
   ]
  },
  {
   "cell_type": "code",
   "execution_count": 5,
   "metadata": {},
   "outputs": [],
   "source": [
    "def get_choose_difficulty_counts_for_user(user):\n",
    "  collection_items = get_choose_difficulty_items_for_user(user)\n",
    "  output = {}\n",
    "  for x in collection_items:\n",
    "    if 'type' not in x:\n",
    "      continue\n",
    "    if x['type'] != 'action':\n",
    "      continue\n",
    "    if 'difficulty' not in x:\n",
    "      continue\n",
    "    difficulty = x['difficulty']\n",
    "    if difficulty not in output:\n",
    "      output[difficulty] = 1\n",
    "    else:\n",
    "      output[difficulty] += 1\n",
    "  return output"
   ]
  },
  {
   "cell_type": "code",
   "execution_count": 6,
   "metadata": {},
   "outputs": [],
   "source": [
    "def get_choose_difficulty_counts_for_user_list(user_list):\n",
    "  output = Counter()\n",
    "  for user in user_list:\n",
    "    difficulty_counts = get_choose_difficulty_counts_for_user(user)\n",
    "    for difficulty,count in difficulty_counts.items():\n",
    "      output[difficulty] += count\n",
    "  return output"
   ]
  },
  {
   "cell_type": "code",
   "execution_count": 74,
   "metadata": {},
   "outputs": [],
   "source": [
    "def get_choose_difficulty_counts_for_user_list_user_normalized(user_list):\n",
    "  output = Counter()\n",
    "  for user in user_list:\n",
    "    difficulty_counts = get_choose_difficulty_counts_for_user(user)\n",
    "    difficulty_counts = to_percent_dict(difficulty_counts)\n",
    "    for difficulty,count in difficulty_counts.items():\n",
    "      output[difficulty] += count\n",
    "  return to_percent_dict(output)"
   ]
  },
  {
   "cell_type": "code",
   "execution_count": 7,
   "metadata": {},
   "outputs": [],
   "source": [
    "def get_choose_difficulty_counts_for_all_users():\n",
    "  user_list = get_users_with_choose_difficulty()\n",
    "  return get_choose_difficulty_counts_for_user_list(user_list)"
   ]
  },
  {
   "cell_type": "code",
   "execution_count": 8,
   "metadata": {},
   "outputs": [],
   "source": [
    "def get_total_counts_for_user(user):\n",
    "  difficulty_counts = get_choose_difficulty_counts_for_user(user)\n",
    "  return sum(difficulty_counts.values())"
   ]
  },
  {
   "cell_type": "code",
   "execution_count": 9,
   "metadata": {},
   "outputs": [],
   "source": [
    "def num_types_tried(user):\n",
    "  difficulty_counts = get_choose_difficulty_counts_for_user(user)\n",
    "  return len(difficulty_counts.keys())"
   ]
  },
  {
   "cell_type": "code",
   "execution_count": 10,
   "metadata": {},
   "outputs": [],
   "source": [
    "def did_user_try_multiple(user):\n",
    "  return num_types_tried(user) > 1"
   ]
  },
  {
   "cell_type": "code",
   "execution_count": 11,
   "metadata": {},
   "outputs": [],
   "source": [
    "def get_try_multiple_counts_for_all_users():\n",
    "  output = {\n",
    "    'none_total': 0,\n",
    "    'one_total': 0,\n",
    "    'one_tried': 0,\n",
    "    'multiple_tried': 0,\n",
    "  }\n",
    "  for user in get_users_with_choose_difficulty():\n",
    "    total_counts = get_total_counts_for_user(user)\n",
    "    if total_counts == 0:\n",
    "      output['none_total'] += 1\n",
    "      continue\n",
    "    if total_counts == 1:\n",
    "      output['one_total'] += 1\n",
    "      continue\n",
    "    if did_user_try_multiple(user):\n",
    "      output['multiple_tried'] += 1\n",
    "    else:\n",
    "      output['one_tried'] += 1\n",
    "  return output"
   ]
  },
  {
   "cell_type": "code",
   "execution_count": 12,
   "metadata": {},
   "outputs": [],
   "source": [
    "def get_breakdown_for_one_tried():\n",
    "  output = Counter()\n",
    "  for user in get_users_with_choose_difficulty():\n",
    "    total_counts = get_total_counts_for_user(user)\n",
    "    if total_counts <= 1:\n",
    "      continue\n",
    "    if did_user_try_multiple(user):\n",
    "      continue\n",
    "    difficulty_counts = get_choose_difficulty_counts_for_user(user)\n",
    "    chosen_difficulty = list(difficulty_counts.keys())[0]\n",
    "    output[chosen_difficulty] += difficulty_counts[chosen_difficulty]\n",
    "  return output"
   ]
  },
  {
   "cell_type": "code",
   "execution_count": 13,
   "metadata": {},
   "outputs": [
    {
     "name": "stdout",
     "output_type": "stream",
     "text": [
      "645\n"
     ]
    }
   ],
   "source": [
    "print(len(get_users_with_choose_difficulty()))"
   ]
  },
  {
   "cell_type": "code",
   "execution_count": 14,
   "metadata": {},
   "outputs": [
    {
     "name": "stdout",
     "output_type": "stream",
     "text": [
      "Counter({'nothing': 22346, 'easy': 8228, 'medium': 4119, 'hard': 1765})\n"
     ]
    }
   ],
   "source": [
    "print(get_choose_difficulty_counts_for_all_users())"
   ]
  },
  {
   "cell_type": "code",
   "execution_count": 15,
   "metadata": {
    "scrolled": true
   },
   "outputs": [
    {
     "name": "stdout",
     "output_type": "stream",
     "text": [
      "{'none_total': 33, 'one_total': 111, 'one_tried': 148, 'multiple_tried': 353}\n"
     ]
    }
   ],
   "source": [
    "print(get_try_multiple_counts_for_all_users())"
   ]
  },
  {
   "cell_type": "code",
   "execution_count": 16,
   "metadata": {},
   "outputs": [
    {
     "name": "stdout",
     "output_type": "stream",
     "text": [
      "Counter({'nothing': 2291, 'easy': 651, 'medium': 447, 'hard': 101})\n"
     ]
    }
   ],
   "source": [
    "print(get_breakdown_for_one_tried())"
   ]
  },
  {
   "cell_type": "code",
   "execution_count": 17,
   "metadata": {},
   "outputs": [],
   "source": [
    "@memoize\n",
    "def get_abtest_settings(user):\n",
    "  output = {}\n",
    "  collection_items = get_collection_for_user(user, 'synced:experiment_vars')\n",
    "  for item in collection_items:\n",
    "    if 'key' not in item:\n",
    "      continue\n",
    "    if 'val' not in item:\n",
    "      continue\n",
    "    key = item['key']\n",
    "    val = item['val']\n",
    "    output[key] = val\n",
    "  return output\n"
   ]
  },
  {
   "cell_type": "code",
   "execution_count": 18,
   "metadata": {},
   "outputs": [],
   "source": [
    "def get_abtest_options_for_group(user_list):\n",
    "  conditions = {}\n",
    "  for user in user_list:\n",
    "    abtest_settings = get_abtest_settings(user)\n",
    "    for k,v in abtest_settings.items():\n",
    "      if k == 'intervention_firstimpression_notice_seenlist':\n",
    "        continue\n",
    "      if k not in conditions:\n",
    "        conditions[k] = []\n",
    "      if v not in conditions[k]:\n",
    "        conditions[k].append(v)\n",
    "  output = {}\n",
    "  for abtest_name,options in conditions.items():\n",
    "    if len(options) > 1:\n",
    "      output[abtest_name] = options\n",
    "  return output"
   ]
  },
  {
   "cell_type": "code",
   "execution_count": 19,
   "metadata": {},
   "outputs": [],
   "source": [
    "def get_abtest_condition_to_user_list(abtest_name):\n",
    "  # note this only applies to users in the get_users_with_choose_difficulty experiment currently\n",
    "  output = {}\n",
    "  for user in get_users_with_choose_difficulty():\n",
    "    abtest_settings = get_abtest_settings(user)\n",
    "    if abtest_name not in abtest_settings:\n",
    "      continue\n",
    "    abtest_option = abtest_settings[abtest_name]\n",
    "    if abtest_option not in output:\n",
    "      output[abtest_option] = []\n",
    "    output[abtest_option].append(user)\n",
    "  return output"
   ]
  },
  {
   "cell_type": "code",
   "execution_count": 20,
   "metadata": {},
   "outputs": [],
   "source": [
    "difficulty_interface_to_users = get_abtest_condition_to_user_list('choose_difficulty_interface')"
   ]
  },
  {
   "cell_type": "code",
   "execution_count": 40,
   "metadata": {},
   "outputs": [
    {
     "name": "stdout",
     "output_type": "stream",
     "text": [
      "{'time_afford': ['e0ea34c81d4b50cddc7bd752', '6e7271d2eeace3391528efea', '53f3f933b4ec99eb16a8580c', '5ed53fe1b396c2936200bfbf', '8617b058a51286a5ab7b9e1c', '3056a2d989be02294adab708', 'bc2a2a9aa64af2b5cd1b403a', '09d27c86d835df2af5f0be24', '61376097ff6748baf63e881b', 'b7223983c51cdb868ed9126d', '95ee5208b83ce0800cbf5152', 'e18af57bfabb4e0f6da914b5', '46b27427d80b5394dc9f09dc', 'cf8b97a7bb2605921d756284', '41f24a3dd6bceb8d0a8df5c8', 'b18e869555ee012d017456c5', '82029ae7e0cf58810a19534a', 'c1603b3c13098a82375f9963', 'd90890b5c7b8c4efcda28c42', 'f4ac0658a07d13fab3de2498', 'dbce3d338b755aaadf7b4264', '599efe06863304b00287b7ac', 'c68a708fd971bde157484962', '23eab855cbe7f8f50e7986dc', '9c478b2a501d89dc2a68c8b4', 'c4d719399c459d7a65236f29', '09c312bcf7705bbb5e790d7a', '1589a7c5610e7fb5e3788736', '35119e013ddaa441b9c3f28c', '5fa00d34242c8c6fc66f69a7', '4631e0cbc3f222bee5fc4664', 'df0b4e455f45c5ae692175bc', '1122098b21d2edd8438f5303', '54eed4fc0cf5850c7c589b60', '08dcb4c0626fa03a27f70274', '993797f89227b760ece5929c', '0c8ae705608041c1244e823a', 'd5214de949e81129f9c2b9ac', 'be763f26a6488ea1d7c2ba66', '862ef50d6f6801e273cae99a', '72abb91d0daec4e47fed9818', '306268a6632fe38bb69d7305', '37f3d69b7a555b76c302df2f', 'b537c7524e9b2ceb844dcca1'], 'this_intervention': ['cc43e1c331c9d74bf7b00fc6', '06b54759c28de7967024cedf', '6ffae4b0e0a58695ae4ee174', '9ee9b7534c9bcafec6a13773', '8a2d1ec53ad08c204a999032', '329cbe941cea398f04cd560f', 'f05959c1a2ccd135e93b531e', '7d33ed1787c5d8b4f5bb9b11', '0951f6da6eff18c10db17810', 'b1cd523a3e8b9c65ed79dd9c', '6326707eff8b6e94a81fcc28', '028033fdfa87801f5ab9b713', '9c5f2b25a366062490398273', '4893b81edd7f0e2b102b0d1a', '9add59262ea1f3f7619decda', '97c51558e4074650392bf084', '1bfb8dc0cc5a41097c166a60', '4f9dfd154111179c642c8cf9', '83a0c03f7605c80cf2c395fa', '7bd50164fe03fd6254784ed3', '007c24675bd2b9078cc3cce5', '8fdc79a87aa36a0cfaa325e9', '025cf2acf9559abfe3e4fb26', '77d86a6eb6ec436369b2ebd6', 'e1405bdfc015a3c65de7f5f5', '87ceaaabfec2abc0e9d0f65b', '1bdfaf739c98b2ab824c9f33', '707228497e8dba61b21c3119', 'ce082a1c93117c41b00445b6', 'e81a33655104697de42c9ded', '77aea8e12c3471ecf6f34c1f', '1605c7817668b405b3aef298', 'bd5ff5376f6b5e3790139217', 'a3535a341c80f1da60609e79', 'd2686034f10a0e3b2fe19f69', 'b472dbbb0f647e8b76d0b1c2', '821ec108d7aa60fdb4efcadc', '6d0dec097081a66ac3a3ddd9', '98497f3134bdb0e54b0356f6', 'f851fca88b2db718c8ec151a', 'e77656cf1c28cc3473dbadb4', '155dfd6fcbea2c632f7380c1', 'dbd17107575badc649e0cc48', '70337a657f2ec83808467bd3', '1112d44d45ad4b61ed93002e', '2b584c2f8e1a6abdf3d8edb5', '157ba744aa307d7f845a1853', '435dfd0c81fcdf879024d2c5', '08488fa14b33e869b4f9f142', 'e07c1b5906c246400e7c64df', '8401753cddc1d7f8d40cd0c0', 'a62a51af654282ed880797a2', '7990666ce2143a04ed94fd67'], 'settings_update': ['ef64cb81ca663176daa85dec', '72d733ece4e778a1f19f6fef', 'f1dff470b22314377fe17b57', '71098d5b5fa2c43aca67e72c', '0038a28ca863a4f560d099e0', '42a903cbe4c9fde8e79ca3d3', 'ea122f6e31e1f14e74a1a2e0', 'e507909d613ba0280509942d', '6caa3fb1cce9488ac86a1ecd', 'e7ca769377518d66ccdc19c3', 'f4af5881e24d2c9b7767e3f6', 'd6b032c0fad8b5457ff84941', '2c9fcc0b41127c38c93e2bd5', 'c5944cafea02b23774a5959f', 'b72240e3bb91425cfe7e28aa', '3a2181f88b0c8944ed08cc03', 'dac0fc29c29e2b411715ef3a', '1904dd0682849d370c254254', 'f64eb8a905cb054b9bdb6f72', 'b35cb929ac1ceaeb8b101b65', 'edc1e39c6a09004c59a0b061', '60f29a75361b82148fcb1c77', '957c28066b24e79ee5dda20a', '46a8868b2f529f0decc4a90d', '54d25b28eccb46e46e33df03', 'bf697956d17bd62182ba9e8c', 'd2b0da4471f7d460152e8576', '960824378bbbdab54d3a1b13', 'b62786323607946dc98e8ee2', 'ad5638c428073e3f8464c860', '2f0fec9c0a3ee9f9e731dc46', '429bd37364e6e80caec5edac', '36604fc777afa3e3d85c4649', 'e6adb81384e46b6f720a9239', '3bd9b4d9398fb06bd0bad361', '06874e5a5427b18aa15bc4aa', '1262ac817ebdf0b39d795b59', '8e559c6554db3bbbcff7d1b5', 'd8c210edd4967790cc458610', '5bf29c4de3b10aace940f2fe', '0f38cde6c1e0cd2727571c5f', 'd2910c3fed7b0f73750df76b', '426de335226fd7cfeb76b920', '69f32ba9ae51239f7bab7bf6', 'bd3d9032a3bc8f5eb3635ab8', '45b434dbae77bfda70880ca2']}\n"
     ]
    }
   ],
   "source": [
    "print(difficulty_interface_to_users)"
   ]
  },
  {
   "cell_type": "code",
   "execution_count": 22,
   "metadata": {},
   "outputs": [],
   "source": [
    "def get_choose_difficulty_level_mean_for_user_list(users):\n",
    "  difficulty_to_counts = get_choose_difficulty_counts_for_user_list(users)\n",
    "  difficulty_to_value = {\n",
    "    'nothing': 0,\n",
    "    'easy': 1,\n",
    "    'medium': 2,\n",
    "    'hard': 3,\n",
    "  }\n",
    "  values = []\n",
    "  for difficulty,count in difficulty_to_counts.items():\n",
    "    value = difficulty_to_value[difficulty]\n",
    "    values.append(value)\n",
    "  return np.mean(values)"
   ]
  },
  {
   "cell_type": "code",
   "execution_count": 23,
   "metadata": {},
   "outputs": [],
   "source": [
    "def get_choose_difficulty_level_mean_by_abtest(abtest_name):\n",
    "  condition_to_user_list = get_abtest_condition_to_user_list(abtest_name)\n",
    "  for condition,user_list in condition_to_user_list.items():\n",
    "    print(condition + ':' + str(get_choose_difficulty_level_mean_for_user_list(user_list)))"
   ]
  },
  {
   "cell_type": "code",
   "execution_count": null,
   "metadata": {},
   "outputs": [],
   "source": []
  },
  {
   "cell_type": "code",
   "execution_count": 67,
   "metadata": {},
   "outputs": [],
   "source": [
    "def get_key_to_ordering_mappings():\n",
    "  key_orderings = [\n",
    "    [\n",
    "      'this_intervention',\n",
    "      'time_afford',\n",
    "      'settings_update',\n",
    "    ],\n",
    "    [\n",
    "      'nothing',\n",
    "      'easy',\n",
    "      'medium',\n",
    "      'hard',\n",
    "    ],\n",
    "  ]\n",
    "  key_to_ordering = {}\n",
    "  for ordering in key_orderings:\n",
    "    key = ' '.join(sorted(ordering))\n",
    "    key_to_ordering[key] = ordering\n",
    "  return key_to_ordering\n",
    "\n",
    "def order_list(keys):\n",
    "  key = ' '.join(sorted(keys))\n",
    "  key_to_ordering_mappings = get_key_to_ordering_mappings()\n",
    "  return get_key_to_ordering_mappings()[key]\n",
    "\n",
    "def printdict(d):\n",
    "  keys = order_list(d.keys())\n",
    "  for x in keys:\n",
    "    print(x + ': ' + str(d[x]))\n",
    "\n",
    "def to_percent_dict(d):\n",
    "  output = {}\n",
    "  total = sum(d.values())\n",
    "  for k,v in d.items():\n",
    "    output[k] = v / total\n",
    "  return output\n",
    "\n",
    "def printdict_percent(d):\n",
    "  d = to_percent_dict(d)\n",
    "  printdict(d)"
   ]
  },
  {
   "cell_type": "code",
   "execution_count": 160,
   "metadata": {},
   "outputs": [],
   "source": [
    "def plotbar(values, labels=None, title=''):\n",
    "  data = [go.Bar(\n",
    "    x=labels,\n",
    "    y=values,\n",
    "  )]\n",
    "  layout = go.Layout(title=title)\n",
    "  fig = go.Figure(data=data, layout=layout)\n",
    "  iplot(fig)\n",
    "\n",
    "def plotbarh(values, labels=None, title=''):\n",
    "  data = [go.Bar(\n",
    "    y=labels,\n",
    "    x=values,\n",
    "    orientation='h',\n",
    "  )]\n",
    "  layout = go.Layout(title=title)\n",
    "  fig = go.Figure(data=data, layout=layout)\n",
    "  iplot(fig)\n",
    "\n",
    "def plothist(values, title=''):\n",
    "  data = [go.Histogram(x=values)]\n",
    "  layout = go.Layout(title=title)\n",
    "  fig = go.Figure(data=data, layout=layout)\n",
    "  iplot(fig)\n"
   ]
  },
  {
   "cell_type": "code",
   "execution_count": 114,
   "metadata": {},
   "outputs": [],
   "source": [
    "def plotdict(d, title=''):\n",
    "  keys = order_list(d.keys())\n",
    "  values = [d[k] for k in keys]\n",
    "  plotbarh(values, keys, title)"
   ]
  },
  {
   "cell_type": "code",
   "execution_count": null,
   "metadata": {},
   "outputs": [],
   "source": []
  },
  {
   "cell_type": "code",
   "execution_count": 24,
   "metadata": {},
   "outputs": [],
   "source": [
    "#for condition,user_list in condition_to_user_list.items():\n",
    "#  print(condition + ':' + str(get_choose_difficulty_level_mean_for_user_list(user_list)))"
   ]
  },
  {
   "cell_type": "code",
   "execution_count": 42,
   "metadata": {},
   "outputs": [
    {
     "name": "stdout",
     "output_type": "stream",
     "text": [
      "time_afford:1.5\n",
      "this_intervention:1.5\n",
      "settings_update:1.5\n"
     ]
    }
   ],
   "source": [
    "get_choose_difficulty_level_mean_by_abtest('choose_difficulty_interface')"
   ]
  },
  {
   "cell_type": "code",
   "execution_count": 43,
   "metadata": {},
   "outputs": [
    {
     "name": "stdout",
     "output_type": "stream",
     "text": [
      "1.0:1.5\n",
      "0.0:1.5\n",
      "0.5:1.5\n",
      "0.25:1.5\n"
     ]
    }
   ],
   "source": [
    "get_choose_difficulty_level_mean_by_abtest('frequency_of_choose_difficulty')"
   ]
  },
  {
   "cell_type": "code",
   "execution_count": 70,
   "metadata": {},
   "outputs": [
    {
     "name": "stdout",
     "output_type": "stream",
     "text": [
      "nothing: 0.4391691394658754\n",
      "easy: 0.31008902077151335\n",
      "medium: 0.13501483679525222\n",
      "hard: 0.11572700296735905\n"
     ]
    }
   ],
   "source": [
    "printdict_percent(get_choose_difficulty_counts_for_user_list(difficulty_interface_to_users['time_afford']))"
   ]
  },
  {
   "cell_type": "code",
   "execution_count": 71,
   "metadata": {},
   "outputs": [
    {
     "name": "stdout",
     "output_type": "stream",
     "text": [
      "nothing: 0.42681159420289855\n",
      "easy: 0.31521739130434784\n",
      "medium: 0.24057971014492754\n",
      "hard: 0.017391304347826087\n"
     ]
    }
   ],
   "source": [
    "printdict_percent(get_choose_difficulty_counts_for_user_list(difficulty_interface_to_users['this_intervention']))"
   ]
  },
  {
   "cell_type": "code",
   "execution_count": 72,
   "metadata": {},
   "outputs": [
    {
     "name": "stdout",
     "output_type": "stream",
     "text": [
      "nothing: 0.37713139418254765\n",
      "easy: 0.09027081243731194\n",
      "medium: 0.4002006018054162\n",
      "hard: 0.13239719157472418\n"
     ]
    }
   ],
   "source": [
    "printdict_percent(get_choose_difficulty_counts_for_user_list(difficulty_interface_to_users['settings_update']))"
   ]
  },
  {
   "cell_type": "code",
   "execution_count": 75,
   "metadata": {},
   "outputs": [
    {
     "name": "stdout",
     "output_type": "stream",
     "text": [
      "nothing: 0.4177374521561519\n",
      "easy: 0.2000868032423844\n",
      "medium: 0.28510530964848574\n",
      "hard: 0.09707043495297807\n"
     ]
    }
   ],
   "source": [
    "printdict(get_choose_difficulty_counts_for_user_list_user_normalized(difficulty_interface_to_users['time_afford']))"
   ]
  },
  {
   "cell_type": "code",
   "execution_count": 76,
   "metadata": {},
   "outputs": [
    {
     "name": "stdout",
     "output_type": "stream",
     "text": [
      "nothing: 0.556428494250055\n",
      "easy: 0.20084278572230765\n",
      "medium: 0.20849971329747136\n",
      "hard: 0.034229006730165865\n"
     ]
    }
   ],
   "source": [
    "printdict(get_choose_difficulty_counts_for_user_list_user_normalized(difficulty_interface_to_users['this_intervention']))"
   ]
  },
  {
   "cell_type": "code",
   "execution_count": 77,
   "metadata": {},
   "outputs": [
    {
     "name": "stdout",
     "output_type": "stream",
     "text": [
      "nothing: 0.4583650291740032\n",
      "easy: 0.19402268452680874\n",
      "medium: 0.275818535876439\n",
      "hard: 0.07179375042274905\n"
     ]
    }
   ],
   "source": [
    "printdict(get_choose_difficulty_counts_for_user_list_user_normalized(difficulty_interface_to_users['settings_update']))"
   ]
  },
  {
   "cell_type": "code",
   "execution_count": 124,
   "metadata": {},
   "outputs": [
    {
     "data": {
      "application/vnd.plotly.v1+json": {
       "config": {
        "linkText": "Export to plot.ly",
        "plotlyServerURL": "https://plot.ly",
        "showLink": false
       },
       "data": [
        {
         "orientation": "h",
         "type": "bar",
         "uid": "f891e9ef-0109-4e61-83c6-214f5cdb25f4",
         "x": [
          0.4177374521561519,
          0.2000868032423844,
          0.28510530964848574,
          0.09707043495297807
         ],
         "y": [
          "nothing",
          "easy",
          "medium",
          "hard"
         ]
        }
       ],
       "layout": {
        "title": {
         "text": "Difficulty selections for \"time you can afford this visit\" interface"
        }
       }
      },
      "text/html": [
       "<div id=\"156c1024-f2ea-4c13-88ad-e180524d1b4a\" style=\"height: 525px; width: 100%;\" class=\"plotly-graph-div\"></div><script type=\"text/javascript\">require([\"plotly\"], function(Plotly) { window.PLOTLYENV=window.PLOTLYENV || {};window.PLOTLYENV.BASE_URL=\"https://plot.ly\";Plotly.newPlot(\"156c1024-f2ea-4c13-88ad-e180524d1b4a\", [{\"orientation\": \"h\", \"x\": [0.4177374521561519, 0.2000868032423844, 0.28510530964848574, 0.09707043495297807], \"y\": [\"nothing\", \"easy\", \"medium\", \"hard\"], \"type\": \"bar\", \"uid\": \"f891e9ef-0109-4e61-83c6-214f5cdb25f4\"}], {\"title\": {\"text\": \"Difficulty selections for \\\"time you can afford this visit\\\" interface\"}}, {\"showLink\": false, \"linkText\": \"Export to plot.ly\", \"plotlyServerURL\": \"https://plot.ly\"})});</script><script type=\"text/javascript\">window.addEventListener(\"resize\", function(){window._Plotly.Plots.resize(document.getElementById(\"156c1024-f2ea-4c13-88ad-e180524d1b4a\"));});</script>"
      ],
      "text/vnd.plotly.v1+html": [
       "<div id=\"156c1024-f2ea-4c13-88ad-e180524d1b4a\" style=\"height: 525px; width: 100%;\" class=\"plotly-graph-div\"></div><script type=\"text/javascript\">require([\"plotly\"], function(Plotly) { window.PLOTLYENV=window.PLOTLYENV || {};window.PLOTLYENV.BASE_URL=\"https://plot.ly\";Plotly.newPlot(\"156c1024-f2ea-4c13-88ad-e180524d1b4a\", [{\"orientation\": \"h\", \"x\": [0.4177374521561519, 0.2000868032423844, 0.28510530964848574, 0.09707043495297807], \"y\": [\"nothing\", \"easy\", \"medium\", \"hard\"], \"type\": \"bar\", \"uid\": \"f891e9ef-0109-4e61-83c6-214f5cdb25f4\"}], {\"title\": {\"text\": \"Difficulty selections for \\\"time you can afford this visit\\\" interface\"}}, {\"showLink\": false, \"linkText\": \"Export to plot.ly\", \"plotlyServerURL\": \"https://plot.ly\"})});</script><script type=\"text/javascript\">window.addEventListener(\"resize\", function(){window._Plotly.Plots.resize(document.getElementById(\"156c1024-f2ea-4c13-88ad-e180524d1b4a\"));});</script>"
      ]
     },
     "metadata": {},
     "output_type": "display_data"
    }
   ],
   "source": [
    "plotdict(get_choose_difficulty_counts_for_user_list_user_normalized(difficulty_interface_to_users['time_afford']), 'Difficulty selections for \"time you can afford this visit\" interface')"
   ]
  },
  {
   "cell_type": "code",
   "execution_count": 125,
   "metadata": {},
   "outputs": [
    {
     "data": {
      "application/vnd.plotly.v1+json": {
       "config": {
        "linkText": "Export to plot.ly",
        "plotlyServerURL": "https://plot.ly",
        "showLink": false
       },
       "data": [
        {
         "orientation": "h",
         "type": "bar",
         "uid": "eeca2503-aad7-48dc-b335-cc5d4378f01b",
         "x": [
          0.556428494250055,
          0.20084278572230765,
          0.20849971329747136,
          0.034229006730165865
         ],
         "y": [
          "nothing",
          "easy",
          "medium",
          "hard"
         ]
        }
       ],
       "layout": {
        "title": {
         "text": "Difficulty selections for \"intervention difficulty you want this visit\" interface"
        }
       }
      },
      "text/html": [
       "<div id=\"58742817-5d5a-450a-8757-69dffde9dd06\" style=\"height: 525px; width: 100%;\" class=\"plotly-graph-div\"></div><script type=\"text/javascript\">require([\"plotly\"], function(Plotly) { window.PLOTLYENV=window.PLOTLYENV || {};window.PLOTLYENV.BASE_URL=\"https://plot.ly\";Plotly.newPlot(\"58742817-5d5a-450a-8757-69dffde9dd06\", [{\"orientation\": \"h\", \"x\": [0.556428494250055, 0.20084278572230765, 0.20849971329747136, 0.034229006730165865], \"y\": [\"nothing\", \"easy\", \"medium\", \"hard\"], \"type\": \"bar\", \"uid\": \"eeca2503-aad7-48dc-b335-cc5d4378f01b\"}], {\"title\": {\"text\": \"Difficulty selections for \\\"intervention difficulty you want this visit\\\" interface\"}}, {\"showLink\": false, \"linkText\": \"Export to plot.ly\", \"plotlyServerURL\": \"https://plot.ly\"})});</script><script type=\"text/javascript\">window.addEventListener(\"resize\", function(){window._Plotly.Plots.resize(document.getElementById(\"58742817-5d5a-450a-8757-69dffde9dd06\"));});</script>"
      ],
      "text/vnd.plotly.v1+html": [
       "<div id=\"58742817-5d5a-450a-8757-69dffde9dd06\" style=\"height: 525px; width: 100%;\" class=\"plotly-graph-div\"></div><script type=\"text/javascript\">require([\"plotly\"], function(Plotly) { window.PLOTLYENV=window.PLOTLYENV || {};window.PLOTLYENV.BASE_URL=\"https://plot.ly\";Plotly.newPlot(\"58742817-5d5a-450a-8757-69dffde9dd06\", [{\"orientation\": \"h\", \"x\": [0.556428494250055, 0.20084278572230765, 0.20849971329747136, 0.034229006730165865], \"y\": [\"nothing\", \"easy\", \"medium\", \"hard\"], \"type\": \"bar\", \"uid\": \"eeca2503-aad7-48dc-b335-cc5d4378f01b\"}], {\"title\": {\"text\": \"Difficulty selections for \\\"intervention difficulty you want this visit\\\" interface\"}}, {\"showLink\": false, \"linkText\": \"Export to plot.ly\", \"plotlyServerURL\": \"https://plot.ly\"})});</script><script type=\"text/javascript\">window.addEventListener(\"resize\", function(){window._Plotly.Plots.resize(document.getElementById(\"58742817-5d5a-450a-8757-69dffde9dd06\"));});</script>"
      ]
     },
     "metadata": {},
     "output_type": "display_data"
    }
   ],
   "source": [
    "plotdict(get_choose_difficulty_counts_for_user_list_user_normalized(difficulty_interface_to_users['this_intervention']), 'Difficulty selections for \"intervention difficulty you want this visit\" interface')"
   ]
  },
  {
   "cell_type": "code",
   "execution_count": 126,
   "metadata": {},
   "outputs": [
    {
     "data": {
      "application/vnd.plotly.v1+json": {
       "config": {
        "linkText": "Export to plot.ly",
        "plotlyServerURL": "https://plot.ly",
        "showLink": false
       },
       "data": [
        {
         "orientation": "h",
         "type": "bar",
         "uid": "5158739b-b66e-4ddc-b5fc-d469cefcd5ba",
         "x": [
          0.4583650291740032,
          0.19402268452680874,
          0.275818535876439,
          0.07179375042274905
         ],
         "y": [
          "nothing",
          "easy",
          "medium",
          "hard"
         ]
        }
       ],
       "layout": {
        "title": {
         "text": "Difficulty selections for \"update your difficulty settings\" interface"
        }
       }
      },
      "text/html": [
       "<div id=\"11b6bed6-e58d-4c28-8204-4a9260865da6\" style=\"height: 525px; width: 100%;\" class=\"plotly-graph-div\"></div><script type=\"text/javascript\">require([\"plotly\"], function(Plotly) { window.PLOTLYENV=window.PLOTLYENV || {};window.PLOTLYENV.BASE_URL=\"https://plot.ly\";Plotly.newPlot(\"11b6bed6-e58d-4c28-8204-4a9260865da6\", [{\"orientation\": \"h\", \"x\": [0.4583650291740032, 0.19402268452680874, 0.275818535876439, 0.07179375042274905], \"y\": [\"nothing\", \"easy\", \"medium\", \"hard\"], \"type\": \"bar\", \"uid\": \"5158739b-b66e-4ddc-b5fc-d469cefcd5ba\"}], {\"title\": {\"text\": \"Difficulty selections for \\\"update your difficulty settings\\\" interface\"}}, {\"showLink\": false, \"linkText\": \"Export to plot.ly\", \"plotlyServerURL\": \"https://plot.ly\"})});</script><script type=\"text/javascript\">window.addEventListener(\"resize\", function(){window._Plotly.Plots.resize(document.getElementById(\"11b6bed6-e58d-4c28-8204-4a9260865da6\"));});</script>"
      ],
      "text/vnd.plotly.v1+html": [
       "<div id=\"11b6bed6-e58d-4c28-8204-4a9260865da6\" style=\"height: 525px; width: 100%;\" class=\"plotly-graph-div\"></div><script type=\"text/javascript\">require([\"plotly\"], function(Plotly) { window.PLOTLYENV=window.PLOTLYENV || {};window.PLOTLYENV.BASE_URL=\"https://plot.ly\";Plotly.newPlot(\"11b6bed6-e58d-4c28-8204-4a9260865da6\", [{\"orientation\": \"h\", \"x\": [0.4583650291740032, 0.19402268452680874, 0.275818535876439, 0.07179375042274905], \"y\": [\"nothing\", \"easy\", \"medium\", \"hard\"], \"type\": \"bar\", \"uid\": \"5158739b-b66e-4ddc-b5fc-d469cefcd5ba\"}], {\"title\": {\"text\": \"Difficulty selections for \\\"update your difficulty settings\\\" interface\"}}, {\"showLink\": false, \"linkText\": \"Export to plot.ly\", \"plotlyServerURL\": \"https://plot.ly\"})});</script><script type=\"text/javascript\">window.addEventListener(\"resize\", function(){window._Plotly.Plots.resize(document.getElementById(\"11b6bed6-e58d-4c28-8204-4a9260865da6\"));});</script>"
      ]
     },
     "metadata": {},
     "output_type": "display_data"
    }
   ],
   "source": [
    "plotdict(get_choose_difficulty_counts_for_user_list_user_normalized(difficulty_interface_to_users['settings_update']), 'Difficulty selections for \"update your difficulty settings\" interface')"
   ]
  },
  {
   "cell_type": "code",
   "execution_count": 127,
   "metadata": {},
   "outputs": [
    {
     "data": {
      "application/vnd.plotly.v1+json": {
       "config": {
        "linkText": "Export to plot.ly",
        "plotlyServerURL": "https://plot.ly",
        "showLink": false
       },
       "data": [
        {
         "orientation": "h",
         "type": "bar",
         "uid": "026ac04b-290e-4399-b628-36043583b65a",
         "x": [
          0.6413240589324285,
          0.19580876766798874,
          0.13526529546800303,
          0.027601877931579765
         ],
         "y": [
          "nothing",
          "easy",
          "medium",
          "hard"
         ]
        }
       ],
       "layout": {
        "title": {
         "text": "Difficulty selections if selection interface shown with p=1.0"
        }
       }
      },
      "text/html": [
       "<div id=\"c55d763e-7015-453b-a974-77549ad5bf23\" style=\"height: 525px; width: 100%;\" class=\"plotly-graph-div\"></div><script type=\"text/javascript\">require([\"plotly\"], function(Plotly) { window.PLOTLYENV=window.PLOTLYENV || {};window.PLOTLYENV.BASE_URL=\"https://plot.ly\";Plotly.newPlot(\"c55d763e-7015-453b-a974-77549ad5bf23\", [{\"orientation\": \"h\", \"x\": [0.6413240589324285, 0.19580876766798874, 0.13526529546800303, 0.027601877931579765], \"y\": [\"nothing\", \"easy\", \"medium\", \"hard\"], \"type\": \"bar\", \"uid\": \"026ac04b-290e-4399-b628-36043583b65a\"}], {\"title\": {\"text\": \"Difficulty selections if selection interface shown with p=1.0\"}}, {\"showLink\": false, \"linkText\": \"Export to plot.ly\", \"plotlyServerURL\": \"https://plot.ly\"})});</script><script type=\"text/javascript\">window.addEventListener(\"resize\", function(){window._Plotly.Plots.resize(document.getElementById(\"c55d763e-7015-453b-a974-77549ad5bf23\"));});</script>"
      ],
      "text/vnd.plotly.v1+html": [
       "<div id=\"c55d763e-7015-453b-a974-77549ad5bf23\" style=\"height: 525px; width: 100%;\" class=\"plotly-graph-div\"></div><script type=\"text/javascript\">require([\"plotly\"], function(Plotly) { window.PLOTLYENV=window.PLOTLYENV || {};window.PLOTLYENV.BASE_URL=\"https://plot.ly\";Plotly.newPlot(\"c55d763e-7015-453b-a974-77549ad5bf23\", [{\"orientation\": \"h\", \"x\": [0.6413240589324285, 0.19580876766798874, 0.13526529546800303, 0.027601877931579765], \"y\": [\"nothing\", \"easy\", \"medium\", \"hard\"], \"type\": \"bar\", \"uid\": \"026ac04b-290e-4399-b628-36043583b65a\"}], {\"title\": {\"text\": \"Difficulty selections if selection interface shown with p=1.0\"}}, {\"showLink\": false, \"linkText\": \"Export to plot.ly\", \"plotlyServerURL\": \"https://plot.ly\"})});</script><script type=\"text/javascript\">window.addEventListener(\"resize\", function(){window._Plotly.Plots.resize(document.getElementById(\"c55d763e-7015-453b-a974-77549ad5bf23\"));});</script>"
      ]
     },
     "metadata": {},
     "output_type": "display_data"
    }
   ],
   "source": [
    "plotdict(get_choose_difficulty_counts_for_user_list_user_normalized(frequency_of_choose_difficulty_to_users['1.0']), 'Difficulty selections if selection interface shown with p=1.0')"
   ]
  },
  {
   "cell_type": "code",
   "execution_count": 128,
   "metadata": {},
   "outputs": [
    {
     "data": {
      "application/vnd.plotly.v1+json": {
       "config": {
        "linkText": "Export to plot.ly",
        "plotlyServerURL": "https://plot.ly",
        "showLink": false
       },
       "data": [
        {
         "orientation": "h",
         "type": "bar",
         "uid": "4537d81a-3dad-4b55-94ea-695bc2f75f51",
         "x": [
          0.5196443462593665,
          0.23000797371515225,
          0.18988193257141922,
          0.06046574745406213
         ],
         "y": [
          "nothing",
          "easy",
          "medium",
          "hard"
         ]
        }
       ],
       "layout": {
        "title": {
         "text": "Difficulty selections if selection interface shown with p=0.5"
        }
       }
      },
      "text/html": [
       "<div id=\"d53a3378-97d9-4997-8883-ff56fa2d6488\" style=\"height: 525px; width: 100%;\" class=\"plotly-graph-div\"></div><script type=\"text/javascript\">require([\"plotly\"], function(Plotly) { window.PLOTLYENV=window.PLOTLYENV || {};window.PLOTLYENV.BASE_URL=\"https://plot.ly\";Plotly.newPlot(\"d53a3378-97d9-4997-8883-ff56fa2d6488\", [{\"orientation\": \"h\", \"x\": [0.5196443462593665, 0.23000797371515225, 0.18988193257141922, 0.06046574745406213], \"y\": [\"nothing\", \"easy\", \"medium\", \"hard\"], \"type\": \"bar\", \"uid\": \"4537d81a-3dad-4b55-94ea-695bc2f75f51\"}], {\"title\": {\"text\": \"Difficulty selections if selection interface shown with p=0.5\"}}, {\"showLink\": false, \"linkText\": \"Export to plot.ly\", \"plotlyServerURL\": \"https://plot.ly\"})});</script><script type=\"text/javascript\">window.addEventListener(\"resize\", function(){window._Plotly.Plots.resize(document.getElementById(\"d53a3378-97d9-4997-8883-ff56fa2d6488\"));});</script>"
      ],
      "text/vnd.plotly.v1+html": [
       "<div id=\"d53a3378-97d9-4997-8883-ff56fa2d6488\" style=\"height: 525px; width: 100%;\" class=\"plotly-graph-div\"></div><script type=\"text/javascript\">require([\"plotly\"], function(Plotly) { window.PLOTLYENV=window.PLOTLYENV || {};window.PLOTLYENV.BASE_URL=\"https://plot.ly\";Plotly.newPlot(\"d53a3378-97d9-4997-8883-ff56fa2d6488\", [{\"orientation\": \"h\", \"x\": [0.5196443462593665, 0.23000797371515225, 0.18988193257141922, 0.06046574745406213], \"y\": [\"nothing\", \"easy\", \"medium\", \"hard\"], \"type\": \"bar\", \"uid\": \"4537d81a-3dad-4b55-94ea-695bc2f75f51\"}], {\"title\": {\"text\": \"Difficulty selections if selection interface shown with p=0.5\"}}, {\"showLink\": false, \"linkText\": \"Export to plot.ly\", \"plotlyServerURL\": \"https://plot.ly\"})});</script><script type=\"text/javascript\">window.addEventListener(\"resize\", function(){window._Plotly.Plots.resize(document.getElementById(\"d53a3378-97d9-4997-8883-ff56fa2d6488\"));});</script>"
      ]
     },
     "metadata": {},
     "output_type": "display_data"
    }
   ],
   "source": [
    "plotdict(get_choose_difficulty_counts_for_user_list_user_normalized(frequency_of_choose_difficulty_to_users['0.5']), 'Difficulty selections if selection interface shown with p=0.5')"
   ]
  },
  {
   "cell_type": "code",
   "execution_count": 129,
   "metadata": {},
   "outputs": [
    {
     "data": {
      "application/vnd.plotly.v1+json": {
       "config": {
        "linkText": "Export to plot.ly",
        "plotlyServerURL": "https://plot.ly",
        "showLink": false
       },
       "data": [
        {
         "orientation": "h",
         "type": "bar",
         "uid": "0936748e-cb42-4760-9553-2d76a5443d90",
         "x": [
          0.5208821067591729,
          0.24797364763165144,
          0.17468865188628066,
          0.056455593722895034
         ],
         "y": [
          "nothing",
          "easy",
          "medium",
          "hard"
         ]
        }
       ],
       "layout": {
        "title": {
         "text": "Difficulty selections if selection interface shown with p=0.25"
        }
       }
      },
      "text/html": [
       "<div id=\"9fff2180-7287-4b86-a69c-984eff492b63\" style=\"height: 525px; width: 100%;\" class=\"plotly-graph-div\"></div><script type=\"text/javascript\">require([\"plotly\"], function(Plotly) { window.PLOTLYENV=window.PLOTLYENV || {};window.PLOTLYENV.BASE_URL=\"https://plot.ly\";Plotly.newPlot(\"9fff2180-7287-4b86-a69c-984eff492b63\", [{\"orientation\": \"h\", \"x\": [0.5208821067591729, 0.24797364763165144, 0.17468865188628066, 0.056455593722895034], \"y\": [\"nothing\", \"easy\", \"medium\", \"hard\"], \"type\": \"bar\", \"uid\": \"0936748e-cb42-4760-9553-2d76a5443d90\"}], {\"title\": {\"text\": \"Difficulty selections if selection interface shown with p=0.25\"}}, {\"showLink\": false, \"linkText\": \"Export to plot.ly\", \"plotlyServerURL\": \"https://plot.ly\"})});</script><script type=\"text/javascript\">window.addEventListener(\"resize\", function(){window._Plotly.Plots.resize(document.getElementById(\"9fff2180-7287-4b86-a69c-984eff492b63\"));});</script>"
      ],
      "text/vnd.plotly.v1+html": [
       "<div id=\"9fff2180-7287-4b86-a69c-984eff492b63\" style=\"height: 525px; width: 100%;\" class=\"plotly-graph-div\"></div><script type=\"text/javascript\">require([\"plotly\"], function(Plotly) { window.PLOTLYENV=window.PLOTLYENV || {};window.PLOTLYENV.BASE_URL=\"https://plot.ly\";Plotly.newPlot(\"9fff2180-7287-4b86-a69c-984eff492b63\", [{\"orientation\": \"h\", \"x\": [0.5208821067591729, 0.24797364763165144, 0.17468865188628066, 0.056455593722895034], \"y\": [\"nothing\", \"easy\", \"medium\", \"hard\"], \"type\": \"bar\", \"uid\": \"0936748e-cb42-4760-9553-2d76a5443d90\"}], {\"title\": {\"text\": \"Difficulty selections if selection interface shown with p=0.25\"}}, {\"showLink\": false, \"linkText\": \"Export to plot.ly\", \"plotlyServerURL\": \"https://plot.ly\"})});</script><script type=\"text/javascript\">window.addEventListener(\"resize\", function(){window._Plotly.Plots.resize(document.getElementById(\"9fff2180-7287-4b86-a69c-984eff492b63\"));});</script>"
      ]
     },
     "metadata": {},
     "output_type": "display_data"
    }
   ],
   "source": [
    "plotdict(get_choose_difficulty_counts_for_user_list_user_normalized(frequency_of_choose_difficulty_to_users['0.25']), 'Difficulty selections if selection interface shown with p=0.25')"
   ]
  },
  {
   "cell_type": "code",
   "execution_count": 163,
   "metadata": {},
   "outputs": [],
   "source": [
    "def compute_entropy_for_difficulty_selections(difficulty_selection_dict):\n",
    "  if len(difficulty_selection_dict.keys()) == 0:\n",
    "    return None\n",
    "  probs = to_percent_dict(difficulty_selection_dict)\n",
    "  items_to_sum = []\n",
    "  for k,prob in probs.items():\n",
    "    items_to_sum.append(prob * math.log(prob)/math.log(2))\n",
    "  return -sum(items_to_sum)\n",
    "\n",
    "def compute_entropy_for_difficulty_selections_for_user(user):\n",
    "    difficulty_counts = get_choose_difficulty_counts_for_user(user)\n",
    "    return compute_entropy_for_difficulty_selections(difficulty_counts)\n",
    "\n",
    "def get_entropies_for_user_list(user_list):\n",
    "  entropies = []\n",
    "  for user in user_list:\n",
    "    entropy = compute_entropy_for_difficulty_selections_for_user(user)\n",
    "    if entropy == None:\n",
    "      continue\n",
    "    entropies.append(entropy)\n",
    "  return entropies\n",
    "\n",
    "def get_entropies_for_all_users():\n",
    "  user_list = get_users_with_choose_difficulty()\n",
    "  return get_entropies_for_user_list()\n",
    "\n",
    "#print(user_list[0])\n",
    "#print(compute_entropy_for_difficulty_selections({'a': 0.25, 'b': 0.75}))\n"
   ]
  },
  {
   "cell_type": "code",
   "execution_count": 164,
   "metadata": {},
   "outputs": [
    {
     "name": "stdout",
     "output_type": "stream",
     "text": [
      "mean entropy per user 0.4167251069285489\n",
      "median entropy per user 0.18791460213862887\n"
     ]
    },
    {
     "data": {
      "application/vnd.plotly.v1+json": {
       "config": {
        "linkText": "Export to plot.ly",
        "plotlyServerURL": "https://plot.ly",
        "showLink": false
       },
       "data": [
        {
         "type": "histogram",
         "uid": "f10ade97-f24f-4adf-a34d-b1a81a1096f0",
         "x": [
          1,
          0.6777443031262382,
          0,
          0.9239817566184624,
          0,
          0,
          0,
          1,
          0.9919413667468203,
          0.228538143953528,
          0,
          1.0786672099764596,
          0,
          0.12059463047896746,
          1.584962500721156,
          0.8112781244591328,
          1.3346791410515946,
          0.8112781244591328,
          0.4650465541031257,
          0,
          0.5916727785823274,
          0,
          1.1994602933016414,
          1.4146495312777696,
          0.0989590953557431,
          0.2994113292359871,
          1.5,
          0.20797766501488765,
          0,
          1.413211940737912,
          0.13469174315499088,
          0,
          0,
          1.1883763717345073,
          0.36663735213966375,
          0.5435644431995964,
          0.5464906429312275,
          0.7219280948873623,
          0.3896364387578151,
          0.26172727549103136,
          0.6579233286521184,
          0.7942556838305386,
          0.5435644431995964,
          0.41381685030363374,
          0,
          0.113981273555772,
          0.5032583347756459,
          0.741795418914729,
          0.1306346250311531,
          0.5115779700152474,
          0,
          0,
          0,
          0.27297085791406983,
          0.32125009297129525,
          0.22228483068568797,
          1.1214713521688606,
          1,
          0.42840359039871956,
          0,
          0.17033057560105985,
          0,
          0.09549123781111851,
          0,
          0.4474992550368635,
          0.3372900666170139,
          0.3372900666170139,
          0,
          1.2464805120080338,
          0.23750814382859292,
          0,
          0.9133533657970414,
          0.17203694935311378,
          0,
          1.2555367253996503,
          0.48524774462839027,
          0,
          0.3095434291503252,
          1.2442130400563693,
          0.14609425012013633,
          0.228538143953528,
          0.9182958340544896,
          1.4591479170272446,
          0.22228483068568797,
          0,
          0.09408443883267348,
          0,
          0.19993378119137847,
          1.299889933807165,
          0.0537701586092738,
          0.1117796081762559,
          0.16923767206715445,
          0.6409441847875288,
          0,
          0.07576380761925865,
          0,
          0.862590402901891,
          0.5916727785823274,
          0.10215803640865039,
          0,
          0.2301627406079554,
          0.08970338978684995,
          0,
          1.1660870601063935,
          0.8888857761841273,
          0,
          0,
          0,
          0.9980008838722996,
          0.7219280948873623,
          0,
          0.9182958340544896,
          0.2863969571159562,
          0.824980257347893,
          0.41684419634316516,
          0,
          0.9945895934284067,
          0,
          0.906579548498746,
          0,
          0,
          0.6190652114877522,
          0.0712143598265751,
          0.7673462190003605,
          0,
          0,
          0.8658566174572235,
          1.5951136509235357,
          0,
          1.0408520829727552,
          0,
          0,
          0,
          0,
          0,
          0.8112781244591328,
          0.7319574242563764,
          0,
          0,
          0,
          1.2340156731591418,
          0.7024665512903903,
          0,
          1.4056390622295665,
          0,
          0,
          1,
          0.4394969869215134,
          0.24096783080307266,
          0.28814461925212254,
          0,
          0,
          0,
          0,
          0.1132743034970967,
          0.10802319526362832,
          0.0697699461025586,
          0.5206600681895694,
          0,
          0,
          0.13882414236823357,
          0.3776463213737003,
          0.41381685030363374,
          0,
          0.7785082449520445,
          0.0788698855855413,
          0,
          0,
          1.1559368506327257,
          0,
          0,
          0,
          1,
          1.1358885792578717,
          0,
          0,
          0.8112781244591328,
          0,
          1,
          1.0928343095844615,
          0,
          0.5665095065529053,
          0.6031530134281982,
          0,
          0.39360991596962236,
          0,
          1.7343153016906607,
          0,
          0.5916727785823274,
          0,
          1.07273728622321,
          1.584962500721156,
          0.0715037894499587,
          0.3021736184787951,
          0.08354288831032233,
          0.6998428398862386,
          0,
          0,
          0.228538143953528,
          0.9921128738610934,
          0.2863969571159562,
          0,
          1.561278124459133,
          0,
          0.69287851503822,
          0.19587805804542602,
          1.2015606910132142,
          0,
          0.2351933818192415,
          0,
          0,
          0,
          0,
          0,
          0.9819407868640977,
          0,
          0,
          0.33907641808892486,
          0,
          0.07823246525771237,
          1.556656707462823,
          0,
          0,
          0.15556286259996746,
          0.13707445663647463,
          0.18865294740404961,
          0,
          0,
          0,
          0,
          0.15331028405257777,
          0,
          0.5746356978376794,
          0,
          0,
          0,
          0.12653159222336471,
          0.17517084639430738,
          0,
          0,
          0.8930437442347137,
          0,
          0.07949044238393407,
          0.7244709806926936,
          1.2343888840832413,
          0.9182958340544896,
          0.43055186701043946,
          0.648289992467951,
          0,
          0,
          0,
          0,
          0.4394969869215134,
          1.0226297788901695,
          0.2761954276479391,
          0.18213846457886634,
          0,
          0,
          0.8643815420741403,
          0.12004966051477015,
          0.4689955935892812,
          0,
          1.2406705316766886,
          1.4369905240636789,
          0.3712323266408757,
          0,
          0,
          0,
          0,
          0,
          1,
          0.6406130960036647,
          0.06788019714294674,
          0.056832404500331515,
          0,
          0,
          0.47781024901371605,
          0,
          0.6143694458867569,
          1.0739061442367228,
          0.3339360631363668,
          1.2516291673878228,
          0.1222915970693747,
          1.1554663334311437,
          1.2326602568158207,
          1.287054028118727,
          0.3955378064564774,
          0,
          0.431122646486547,
          0.46377734988775166,
          0,
          0,
          1.0408520829727552,
          0,
          0.3095434291503252,
          0.8869456102215852,
          0,
          0,
          0,
          0,
          0,
          0,
          0.5502498086335793,
          0,
          0,
          0,
          0,
          0,
          0.41381685030363374,
          0.1831220683013728,
          0.22737828122730647,
          1.245088925911503,
          0.7939297255656709,
          0.39124356362925566,
          0.7219280948873623,
          1.2697816169827232,
          0.760658476840993,
          1.6854752972273346,
          0,
          1,
          1.468090781663233,
          0.5916727785823274,
          0,
          1.496421020267269,
          1.2987949406953985,
          0,
          0,
          0.5746356978376794,
          0.10441907800540785,
          0,
          0,
          0.2394711804443585,
          0.4394969869215134,
          1.0921271752212336,
          0,
          0,
          0,
          0,
          0.39124356362925566,
          0,
          0.7219280948873623,
          1.478188155669466,
          0,
          0,
          0.8569957178540346,
          0,
          0,
          0.3712323266408757,
          0.949768658361587,
          1.5219280948873624,
          0,
          0.17911430221849373,
          0,
          0,
          0,
          0.9182958340544896,
          1.37374323370471,
          0,
          0,
          1.265246528378741,
          0,
          0,
          0.08283655281361223,
          1,
          0,
          0,
          0.9709505944546688,
          0,
          0,
          0.5916727785823274,
          0.26676498780302604,
          0,
          0,
          0,
          0,
          0,
          0,
          0.725375928405144,
          0.8112781244591328,
          0,
          1.1488348542809166,
          1,
          0.46328187072785887,
          0,
          1.290200895121209,
          0.4945409290744157,
          0.8112781244591328,
          1.7050862978247885,
          0.39124356362925566,
          0.8112781244591328,
          0.8453509366224365,
          0.8112781244591328,
          0,
          0,
          0.922855438974896,
          1.556656707462823,
          0,
          0,
          0.9182958340544896,
          0.3095434291503252,
          0,
          0.25387844029816153,
          0,
          0.5032583347756459,
          0.09396923545355867,
          1.1254908068679137,
          0,
          0.25387844029816153,
          0.5552772073325881,
          0.3825426691977456,
          0.9182958340544896,
          0.9698024945677541,
          0.9629004147713268,
          0,
          0,
          0,
          0,
          0.6630350975031564,
          0,
          0,
          0.15884084219235378,
          0,
          0.21084230031853216,
          0,
          0,
          0.14189159258679648,
          2,
          0.6024308020404452,
          0.3500105929268849,
          1,
          0.17203694935311378,
          0.3227569588973983,
          0,
          0.5435644431995964,
          0,
          0,
          0.35010382786665806,
          0.345117314944953,
          0.5665095065529053,
          0.7219280948873623,
          0,
          0.12985150050082356,
          0.46708144015900344,
          1.584962500721156,
          0.8841837197791889,
          0,
          0,
          0.2932655271911232,
          0.5916727785823274,
          0,
          0,
          0,
          0.5916727785823274,
          0,
          1.1461683299371317,
          0,
          1.6185687757248763,
          0,
          0.5907239186406503,
          0.6402064333604702,
          0.8857509852680117,
          0.23124824035994587,
          0,
          0.24729443986205674,
          1.2987949406953985,
          0,
          0,
          0,
          0.4104161417181889,
          0,
          0.9994730201859838,
          0,
          0.2974722489192897,
          0.6143694458867569,
          0,
          0.4394969869215134,
          0,
          0,
          0.9461447090189017,
          0.7905509533915468,
          1.3250112108241772,
          0.3711939034940691,
          0,
          0,
          1.2886497645355963,
          1,
          0.18717625687320816,
          0,
          0.2580186686648155,
          0.787667201427305,
          0,
          0,
          0.9664516287472262,
          0.9709505944546688,
          0,
          0.7219280948873623,
          0.32499952858771153,
          0,
          0.5435644431995964,
          1.4609640474436811,
          0,
          0.14609425012013633,
          0,
          0,
          0.41381685030363374,
          0.4689955935892812,
          0,
          0,
          0.5254506799086206,
          0.976300951603057,
          1.4269494100663722,
          0,
          0.8284446986123978,
          0,
          0,
          1,
          0,
          0,
          1.9362600275315276,
          0.8112781244591328,
          0.9709505944546688,
          0,
          0.6500224216483541,
          0,
          0,
          0.9182958340544896,
          1.014097655573916,
          0,
          0,
          0.5499109046334101,
          0,
          0.9182958340544896,
          0,
          0.9798687566511528,
          0,
          0.5435644431995964,
          0.2822921890824148,
          0.8112781244591328,
          0.6338054550605168,
          0.7219280948873623,
          0,
          0,
          1.115520093581932,
          1.8411803921927494,
          0,
          1.823067982273661,
          1.1785594639469632,
          1.0676898236494567,
          1.3709505944546687,
          0.9910760598382221,
          0,
          0.7219280948873623,
          0,
          0.9940302114769565,
          0,
          0,
          1.164392545716586,
          1.191235910802476,
          0,
          0,
          0.2560218608695397,
          1.5304930567574826,
          0,
          0,
          0,
          0.9864267287308426,
          0.46328187072785887,
          1.4152689500270954,
          1.198192411043098,
          1.3787834934861758,
          0,
          0.9182958340544896,
          1,
          0,
          0,
          0.9182958340544896,
          1.752537670611368,
          0,
          0.8115934173471924,
          0,
          0,
          0,
          0,
          1,
          1.8631205685666308,
          0.5032583347756459,
          0.6433554975880187,
          0,
          0.6432839645190975,
          0.9182958340544896,
          0,
          0.9182958340544896,
          0,
          0,
          0,
          0,
          0.9182958340544896,
          0,
          0.8112781244591328,
          0.9182958340544896,
          1,
          0,
          0,
          0,
          0,
          0,
          0,
          0.9182958340544896,
          0.863120568566631,
          0,
          0,
          0
         ]
        }
       ],
       "layout": {
        "title": {
         "text": "Entropies per user, in bits (histogram)"
        }
       }
      },
      "text/html": [
       "<div id=\"6d280c8d-7874-44f5-a0ed-8bb0de5adf1c\" style=\"height: 525px; width: 100%;\" class=\"plotly-graph-div\"></div><script type=\"text/javascript\">require([\"plotly\"], function(Plotly) { window.PLOTLYENV=window.PLOTLYENV || {};window.PLOTLYENV.BASE_URL=\"https://plot.ly\";Plotly.newPlot(\"6d280c8d-7874-44f5-a0ed-8bb0de5adf1c\", [{\"x\": [1.0, 0.6777443031262382, -0.0, 0.9239817566184624, -0.0, -0.0, -0.0, 1.0, 0.9919413667468203, 0.228538143953528, -0.0, 1.0786672099764596, -0.0, 0.12059463047896746, 1.584962500721156, 0.8112781244591328, 1.3346791410515946, 0.8112781244591328, 0.4650465541031257, -0.0, 0.5916727785823274, -0.0, 1.1994602933016414, 1.4146495312777696, 0.0989590953557431, 0.2994113292359871, 1.5, 0.20797766501488765, -0.0, 1.413211940737912, 0.13469174315499088, -0.0, -0.0, 1.1883763717345073, 0.36663735213966375, 0.5435644431995964, 0.5464906429312275, 0.7219280948873623, 0.3896364387578151, 0.26172727549103136, 0.6579233286521184, 0.7942556838305386, 0.5435644431995964, 0.41381685030363374, -0.0, 0.113981273555772, 0.5032583347756459, 0.741795418914729, 0.1306346250311531, 0.5115779700152474, -0.0, -0.0, -0.0, 0.27297085791406983, 0.32125009297129525, 0.22228483068568797, 1.1214713521688606, 1.0, 0.42840359039871956, -0.0, 0.17033057560105985, -0.0, 0.09549123781111851, -0.0, 0.4474992550368635, 0.3372900666170139, 0.3372900666170139, -0.0, 1.2464805120080338, 0.23750814382859292, -0.0, 0.9133533657970414, 0.17203694935311378, -0.0, 1.2555367253996503, 0.48524774462839027, -0.0, 0.3095434291503252, 1.2442130400563693, 0.14609425012013633, 0.228538143953528, 0.9182958340544896, 1.4591479170272446, 0.22228483068568797, -0.0, 0.09408443883267348, -0.0, 0.19993378119137847, 1.299889933807165, 0.0537701586092738, 0.1117796081762559, 0.16923767206715445, 0.6409441847875288, -0.0, 0.07576380761925865, -0.0, 0.862590402901891, 0.5916727785823274, 0.10215803640865039, -0.0, 0.2301627406079554, 0.08970338978684995, -0.0, 1.1660870601063935, 0.8888857761841273, -0.0, -0.0, -0.0, 0.9980008838722996, 0.7219280948873623, -0.0, 0.9182958340544896, 0.2863969571159562, 0.824980257347893, 0.41684419634316516, -0.0, 0.9945895934284067, -0.0, 0.906579548498746, -0.0, -0.0, 0.6190652114877522, 0.0712143598265751, 0.7673462190003605, -0.0, -0.0, 0.8658566174572235, 1.5951136509235357, -0.0, 1.0408520829727552, -0.0, -0.0, -0.0, -0.0, -0.0, 0.8112781244591328, 0.7319574242563764, -0.0, -0.0, -0.0, 1.2340156731591418, 0.7024665512903903, -0.0, 1.4056390622295665, -0.0, -0.0, 1.0, 0.4394969869215134, 0.24096783080307266, 0.28814461925212254, -0.0, -0.0, -0.0, -0.0, 0.1132743034970967, 0.10802319526362832, 0.0697699461025586, 0.5206600681895694, -0.0, -0.0, 0.13882414236823357, 0.3776463213737003, 0.41381685030363374, -0.0, 0.7785082449520445, 0.0788698855855413, -0.0, -0.0, 1.1559368506327257, -0.0, -0.0, -0.0, 1.0, 1.1358885792578717, -0.0, -0.0, 0.8112781244591328, -0.0, 1.0, 1.0928343095844615, -0.0, 0.5665095065529053, 0.6031530134281982, -0.0, 0.39360991596962236, -0.0, 1.7343153016906607, -0.0, 0.5916727785823274, -0.0, 1.07273728622321, 1.584962500721156, 0.0715037894499587, 0.3021736184787951, 0.08354288831032233, 0.6998428398862386, -0.0, -0.0, 0.228538143953528, 0.9921128738610934, 0.2863969571159562, -0.0, 1.561278124459133, -0.0, 0.69287851503822, 0.19587805804542602, 1.2015606910132142, -0.0, 0.2351933818192415, -0.0, -0.0, -0.0, -0.0, -0.0, 0.9819407868640977, -0.0, -0.0, 0.33907641808892486, -0.0, 0.07823246525771237, 1.556656707462823, -0.0, -0.0, 0.15556286259996746, 0.13707445663647463, 0.18865294740404961, -0.0, -0.0, -0.0, -0.0, 0.15331028405257777, -0.0, 0.5746356978376794, -0.0, -0.0, -0.0, 0.12653159222336471, 0.17517084639430738, -0.0, -0.0, 0.8930437442347137, -0.0, 0.07949044238393407, 0.7244709806926936, 1.2343888840832413, 0.9182958340544896, 0.43055186701043946, 0.648289992467951, -0.0, -0.0, -0.0, -0.0, 0.4394969869215134, 1.0226297788901695, 0.2761954276479391, 0.18213846457886634, -0.0, -0.0, 0.8643815420741403, 0.12004966051477015, 0.4689955935892812, -0.0, 1.2406705316766886, 1.4369905240636789, 0.3712323266408757, -0.0, -0.0, -0.0, -0.0, -0.0, 1.0, 0.6406130960036647, 0.06788019714294674, 0.056832404500331515, -0.0, -0.0, 0.47781024901371605, -0.0, 0.6143694458867569, 1.0739061442367228, 0.3339360631363668, 1.2516291673878228, 0.1222915970693747, 1.1554663334311437, 1.2326602568158207, 1.287054028118727, 0.3955378064564774, -0.0, 0.431122646486547, 0.46377734988775166, -0.0, -0.0, 1.0408520829727552, -0.0, 0.3095434291503252, 0.8869456102215852, -0.0, -0.0, -0.0, -0.0, -0.0, -0.0, 0.5502498086335793, -0.0, -0.0, -0.0, -0.0, -0.0, 0.41381685030363374, 0.1831220683013728, 0.22737828122730647, 1.245088925911503, 0.7939297255656709, 0.39124356362925566, 0.7219280948873623, 1.2697816169827232, 0.760658476840993, 1.6854752972273346, -0.0, 1.0, 1.468090781663233, 0.5916727785823274, -0.0, 1.496421020267269, 1.2987949406953985, -0.0, -0.0, 0.5746356978376794, 0.10441907800540785, -0.0, -0.0, 0.2394711804443585, 0.4394969869215134, 1.0921271752212336, -0.0, -0.0, -0.0, -0.0, 0.39124356362925566, -0.0, 0.7219280948873623, 1.478188155669466, -0.0, -0.0, 0.8569957178540346, -0.0, -0.0, 0.3712323266408757, 0.949768658361587, 1.5219280948873624, -0.0, 0.17911430221849373, -0.0, -0.0, -0.0, 0.9182958340544896, 1.37374323370471, -0.0, -0.0, 1.265246528378741, -0.0, -0.0, 0.08283655281361223, 1.0, -0.0, -0.0, 0.9709505944546688, -0.0, -0.0, 0.5916727785823274, 0.26676498780302604, -0.0, -0.0, -0.0, -0.0, -0.0, -0.0, 0.725375928405144, 0.8112781244591328, -0.0, 1.1488348542809166, 1.0, 0.46328187072785887, -0.0, 1.290200895121209, 0.4945409290744157, 0.8112781244591328, 1.7050862978247885, 0.39124356362925566, 0.8112781244591328, 0.8453509366224365, 0.8112781244591328, -0.0, -0.0, 0.922855438974896, 1.556656707462823, -0.0, -0.0, 0.9182958340544896, 0.3095434291503252, -0.0, 0.25387844029816153, -0.0, 0.5032583347756459, 0.09396923545355867, 1.1254908068679137, -0.0, 0.25387844029816153, 0.5552772073325881, 0.3825426691977456, 0.9182958340544896, 0.9698024945677541, 0.9629004147713268, -0.0, -0.0, -0.0, -0.0, 0.6630350975031564, -0.0, -0.0, 0.15884084219235378, -0.0, 0.21084230031853216, -0.0, -0.0, 0.14189159258679648, 2.0, 0.6024308020404452, 0.3500105929268849, 1.0, 0.17203694935311378, 0.3227569588973983, -0.0, 0.5435644431995964, -0.0, -0.0, 0.35010382786665806, 0.345117314944953, 0.5665095065529053, 0.7219280948873623, -0.0, 0.12985150050082356, 0.46708144015900344, 1.584962500721156, 0.8841837197791889, -0.0, -0.0, 0.2932655271911232, 0.5916727785823274, -0.0, -0.0, -0.0, 0.5916727785823274, -0.0, 1.1461683299371317, -0.0, 1.6185687757248763, -0.0, 0.5907239186406503, 0.6402064333604702, 0.8857509852680117, 0.23124824035994587, -0.0, 0.24729443986205674, 1.2987949406953985, -0.0, -0.0, -0.0, 0.4104161417181889, -0.0, 0.9994730201859838, -0.0, 0.2974722489192897, 0.6143694458867569, -0.0, 0.4394969869215134, -0.0, -0.0, 0.9461447090189017, 0.7905509533915468, 1.3250112108241772, 0.3711939034940691, -0.0, -0.0, 1.2886497645355963, 1.0, 0.18717625687320816, -0.0, 0.2580186686648155, 0.787667201427305, -0.0, -0.0, 0.9664516287472262, 0.9709505944546688, -0.0, 0.7219280948873623, 0.32499952858771153, -0.0, 0.5435644431995964, 1.4609640474436811, -0.0, 0.14609425012013633, -0.0, -0.0, 0.41381685030363374, 0.4689955935892812, -0.0, -0.0, 0.5254506799086206, 0.976300951603057, 1.4269494100663722, -0.0, 0.8284446986123978, -0.0, -0.0, 1.0, -0.0, -0.0, 1.9362600275315276, 0.8112781244591328, 0.9709505944546688, -0.0, 0.6500224216483541, -0.0, -0.0, 0.9182958340544896, 1.014097655573916, -0.0, -0.0, 0.5499109046334101, -0.0, 0.9182958340544896, -0.0, 0.9798687566511528, -0.0, 0.5435644431995964, 0.2822921890824148, 0.8112781244591328, 0.6338054550605168, 0.7219280948873623, -0.0, -0.0, 1.115520093581932, 1.8411803921927494, -0.0, 1.823067982273661, 1.1785594639469632, 1.0676898236494567, 1.3709505944546687, 0.9910760598382221, -0.0, 0.7219280948873623, -0.0, 0.9940302114769565, -0.0, -0.0, 1.164392545716586, 1.191235910802476, -0.0, -0.0, 0.2560218608695397, 1.5304930567574826, -0.0, -0.0, -0.0, 0.9864267287308426, 0.46328187072785887, 1.4152689500270954, 1.198192411043098, 1.3787834934861758, -0.0, 0.9182958340544896, 1.0, -0.0, -0.0, 0.9182958340544896, 1.752537670611368, -0.0, 0.8115934173471924, -0.0, -0.0, -0.0, -0.0, 1.0, 1.8631205685666308, 0.5032583347756459, 0.6433554975880187, -0.0, 0.6432839645190975, 0.9182958340544896, -0.0, 0.9182958340544896, -0.0, -0.0, -0.0, -0.0, 0.9182958340544896, -0.0, 0.8112781244591328, 0.9182958340544896, 1.0, -0.0, -0.0, -0.0, -0.0, -0.0, -0.0, 0.9182958340544896, 0.863120568566631, -0.0, -0.0, -0.0], \"type\": \"histogram\", \"uid\": \"f10ade97-f24f-4adf-a34d-b1a81a1096f0\"}], {\"title\": {\"text\": \"Entropies per user, in bits (histogram)\"}}, {\"showLink\": false, \"linkText\": \"Export to plot.ly\", \"plotlyServerURL\": \"https://plot.ly\"})});</script><script type=\"text/javascript\">window.addEventListener(\"resize\", function(){window._Plotly.Plots.resize(document.getElementById(\"6d280c8d-7874-44f5-a0ed-8bb0de5adf1c\"));});</script>"
      ],
      "text/vnd.plotly.v1+html": [
       "<div id=\"6d280c8d-7874-44f5-a0ed-8bb0de5adf1c\" style=\"height: 525px; width: 100%;\" class=\"plotly-graph-div\"></div><script type=\"text/javascript\">require([\"plotly\"], function(Plotly) { window.PLOTLYENV=window.PLOTLYENV || {};window.PLOTLYENV.BASE_URL=\"https://plot.ly\";Plotly.newPlot(\"6d280c8d-7874-44f5-a0ed-8bb0de5adf1c\", [{\"x\": [1.0, 0.6777443031262382, -0.0, 0.9239817566184624, -0.0, -0.0, -0.0, 1.0, 0.9919413667468203, 0.228538143953528, -0.0, 1.0786672099764596, -0.0, 0.12059463047896746, 1.584962500721156, 0.8112781244591328, 1.3346791410515946, 0.8112781244591328, 0.4650465541031257, -0.0, 0.5916727785823274, -0.0, 1.1994602933016414, 1.4146495312777696, 0.0989590953557431, 0.2994113292359871, 1.5, 0.20797766501488765, -0.0, 1.413211940737912, 0.13469174315499088, -0.0, -0.0, 1.1883763717345073, 0.36663735213966375, 0.5435644431995964, 0.5464906429312275, 0.7219280948873623, 0.3896364387578151, 0.26172727549103136, 0.6579233286521184, 0.7942556838305386, 0.5435644431995964, 0.41381685030363374, -0.0, 0.113981273555772, 0.5032583347756459, 0.741795418914729, 0.1306346250311531, 0.5115779700152474, -0.0, -0.0, -0.0, 0.27297085791406983, 0.32125009297129525, 0.22228483068568797, 1.1214713521688606, 1.0, 0.42840359039871956, -0.0, 0.17033057560105985, -0.0, 0.09549123781111851, -0.0, 0.4474992550368635, 0.3372900666170139, 0.3372900666170139, -0.0, 1.2464805120080338, 0.23750814382859292, -0.0, 0.9133533657970414, 0.17203694935311378, -0.0, 1.2555367253996503, 0.48524774462839027, -0.0, 0.3095434291503252, 1.2442130400563693, 0.14609425012013633, 0.228538143953528, 0.9182958340544896, 1.4591479170272446, 0.22228483068568797, -0.0, 0.09408443883267348, -0.0, 0.19993378119137847, 1.299889933807165, 0.0537701586092738, 0.1117796081762559, 0.16923767206715445, 0.6409441847875288, -0.0, 0.07576380761925865, -0.0, 0.862590402901891, 0.5916727785823274, 0.10215803640865039, -0.0, 0.2301627406079554, 0.08970338978684995, -0.0, 1.1660870601063935, 0.8888857761841273, -0.0, -0.0, -0.0, 0.9980008838722996, 0.7219280948873623, -0.0, 0.9182958340544896, 0.2863969571159562, 0.824980257347893, 0.41684419634316516, -0.0, 0.9945895934284067, -0.0, 0.906579548498746, -0.0, -0.0, 0.6190652114877522, 0.0712143598265751, 0.7673462190003605, -0.0, -0.0, 0.8658566174572235, 1.5951136509235357, -0.0, 1.0408520829727552, -0.0, -0.0, -0.0, -0.0, -0.0, 0.8112781244591328, 0.7319574242563764, -0.0, -0.0, -0.0, 1.2340156731591418, 0.7024665512903903, -0.0, 1.4056390622295665, -0.0, -0.0, 1.0, 0.4394969869215134, 0.24096783080307266, 0.28814461925212254, -0.0, -0.0, -0.0, -0.0, 0.1132743034970967, 0.10802319526362832, 0.0697699461025586, 0.5206600681895694, -0.0, -0.0, 0.13882414236823357, 0.3776463213737003, 0.41381685030363374, -0.0, 0.7785082449520445, 0.0788698855855413, -0.0, -0.0, 1.1559368506327257, -0.0, -0.0, -0.0, 1.0, 1.1358885792578717, -0.0, -0.0, 0.8112781244591328, -0.0, 1.0, 1.0928343095844615, -0.0, 0.5665095065529053, 0.6031530134281982, -0.0, 0.39360991596962236, -0.0, 1.7343153016906607, -0.0, 0.5916727785823274, -0.0, 1.07273728622321, 1.584962500721156, 0.0715037894499587, 0.3021736184787951, 0.08354288831032233, 0.6998428398862386, -0.0, -0.0, 0.228538143953528, 0.9921128738610934, 0.2863969571159562, -0.0, 1.561278124459133, -0.0, 0.69287851503822, 0.19587805804542602, 1.2015606910132142, -0.0, 0.2351933818192415, -0.0, -0.0, -0.0, -0.0, -0.0, 0.9819407868640977, -0.0, -0.0, 0.33907641808892486, -0.0, 0.07823246525771237, 1.556656707462823, -0.0, -0.0, 0.15556286259996746, 0.13707445663647463, 0.18865294740404961, -0.0, -0.0, -0.0, -0.0, 0.15331028405257777, -0.0, 0.5746356978376794, -0.0, -0.0, -0.0, 0.12653159222336471, 0.17517084639430738, -0.0, -0.0, 0.8930437442347137, -0.0, 0.07949044238393407, 0.7244709806926936, 1.2343888840832413, 0.9182958340544896, 0.43055186701043946, 0.648289992467951, -0.0, -0.0, -0.0, -0.0, 0.4394969869215134, 1.0226297788901695, 0.2761954276479391, 0.18213846457886634, -0.0, -0.0, 0.8643815420741403, 0.12004966051477015, 0.4689955935892812, -0.0, 1.2406705316766886, 1.4369905240636789, 0.3712323266408757, -0.0, -0.0, -0.0, -0.0, -0.0, 1.0, 0.6406130960036647, 0.06788019714294674, 0.056832404500331515, -0.0, -0.0, 0.47781024901371605, -0.0, 0.6143694458867569, 1.0739061442367228, 0.3339360631363668, 1.2516291673878228, 0.1222915970693747, 1.1554663334311437, 1.2326602568158207, 1.287054028118727, 0.3955378064564774, -0.0, 0.431122646486547, 0.46377734988775166, -0.0, -0.0, 1.0408520829727552, -0.0, 0.3095434291503252, 0.8869456102215852, -0.0, -0.0, -0.0, -0.0, -0.0, -0.0, 0.5502498086335793, -0.0, -0.0, -0.0, -0.0, -0.0, 0.41381685030363374, 0.1831220683013728, 0.22737828122730647, 1.245088925911503, 0.7939297255656709, 0.39124356362925566, 0.7219280948873623, 1.2697816169827232, 0.760658476840993, 1.6854752972273346, -0.0, 1.0, 1.468090781663233, 0.5916727785823274, -0.0, 1.496421020267269, 1.2987949406953985, -0.0, -0.0, 0.5746356978376794, 0.10441907800540785, -0.0, -0.0, 0.2394711804443585, 0.4394969869215134, 1.0921271752212336, -0.0, -0.0, -0.0, -0.0, 0.39124356362925566, -0.0, 0.7219280948873623, 1.478188155669466, -0.0, -0.0, 0.8569957178540346, -0.0, -0.0, 0.3712323266408757, 0.949768658361587, 1.5219280948873624, -0.0, 0.17911430221849373, -0.0, -0.0, -0.0, 0.9182958340544896, 1.37374323370471, -0.0, -0.0, 1.265246528378741, -0.0, -0.0, 0.08283655281361223, 1.0, -0.0, -0.0, 0.9709505944546688, -0.0, -0.0, 0.5916727785823274, 0.26676498780302604, -0.0, -0.0, -0.0, -0.0, -0.0, -0.0, 0.725375928405144, 0.8112781244591328, -0.0, 1.1488348542809166, 1.0, 0.46328187072785887, -0.0, 1.290200895121209, 0.4945409290744157, 0.8112781244591328, 1.7050862978247885, 0.39124356362925566, 0.8112781244591328, 0.8453509366224365, 0.8112781244591328, -0.0, -0.0, 0.922855438974896, 1.556656707462823, -0.0, -0.0, 0.9182958340544896, 0.3095434291503252, -0.0, 0.25387844029816153, -0.0, 0.5032583347756459, 0.09396923545355867, 1.1254908068679137, -0.0, 0.25387844029816153, 0.5552772073325881, 0.3825426691977456, 0.9182958340544896, 0.9698024945677541, 0.9629004147713268, -0.0, -0.0, -0.0, -0.0, 0.6630350975031564, -0.0, -0.0, 0.15884084219235378, -0.0, 0.21084230031853216, -0.0, -0.0, 0.14189159258679648, 2.0, 0.6024308020404452, 0.3500105929268849, 1.0, 0.17203694935311378, 0.3227569588973983, -0.0, 0.5435644431995964, -0.0, -0.0, 0.35010382786665806, 0.345117314944953, 0.5665095065529053, 0.7219280948873623, -0.0, 0.12985150050082356, 0.46708144015900344, 1.584962500721156, 0.8841837197791889, -0.0, -0.0, 0.2932655271911232, 0.5916727785823274, -0.0, -0.0, -0.0, 0.5916727785823274, -0.0, 1.1461683299371317, -0.0, 1.6185687757248763, -0.0, 0.5907239186406503, 0.6402064333604702, 0.8857509852680117, 0.23124824035994587, -0.0, 0.24729443986205674, 1.2987949406953985, -0.0, -0.0, -0.0, 0.4104161417181889, -0.0, 0.9994730201859838, -0.0, 0.2974722489192897, 0.6143694458867569, -0.0, 0.4394969869215134, -0.0, -0.0, 0.9461447090189017, 0.7905509533915468, 1.3250112108241772, 0.3711939034940691, -0.0, -0.0, 1.2886497645355963, 1.0, 0.18717625687320816, -0.0, 0.2580186686648155, 0.787667201427305, -0.0, -0.0, 0.9664516287472262, 0.9709505944546688, -0.0, 0.7219280948873623, 0.32499952858771153, -0.0, 0.5435644431995964, 1.4609640474436811, -0.0, 0.14609425012013633, -0.0, -0.0, 0.41381685030363374, 0.4689955935892812, -0.0, -0.0, 0.5254506799086206, 0.976300951603057, 1.4269494100663722, -0.0, 0.8284446986123978, -0.0, -0.0, 1.0, -0.0, -0.0, 1.9362600275315276, 0.8112781244591328, 0.9709505944546688, -0.0, 0.6500224216483541, -0.0, -0.0, 0.9182958340544896, 1.014097655573916, -0.0, -0.0, 0.5499109046334101, -0.0, 0.9182958340544896, -0.0, 0.9798687566511528, -0.0, 0.5435644431995964, 0.2822921890824148, 0.8112781244591328, 0.6338054550605168, 0.7219280948873623, -0.0, -0.0, 1.115520093581932, 1.8411803921927494, -0.0, 1.823067982273661, 1.1785594639469632, 1.0676898236494567, 1.3709505944546687, 0.9910760598382221, -0.0, 0.7219280948873623, -0.0, 0.9940302114769565, -0.0, -0.0, 1.164392545716586, 1.191235910802476, -0.0, -0.0, 0.2560218608695397, 1.5304930567574826, -0.0, -0.0, -0.0, 0.9864267287308426, 0.46328187072785887, 1.4152689500270954, 1.198192411043098, 1.3787834934861758, -0.0, 0.9182958340544896, 1.0, -0.0, -0.0, 0.9182958340544896, 1.752537670611368, -0.0, 0.8115934173471924, -0.0, -0.0, -0.0, -0.0, 1.0, 1.8631205685666308, 0.5032583347756459, 0.6433554975880187, -0.0, 0.6432839645190975, 0.9182958340544896, -0.0, 0.9182958340544896, -0.0, -0.0, -0.0, -0.0, 0.9182958340544896, -0.0, 0.8112781244591328, 0.9182958340544896, 1.0, -0.0, -0.0, -0.0, -0.0, -0.0, -0.0, 0.9182958340544896, 0.863120568566631, -0.0, -0.0, -0.0], \"type\": \"histogram\", \"uid\": \"f10ade97-f24f-4adf-a34d-b1a81a1096f0\"}], {\"title\": {\"text\": \"Entropies per user, in bits (histogram)\"}}, {\"showLink\": false, \"linkText\": \"Export to plot.ly\", \"plotlyServerURL\": \"https://plot.ly\"})});</script><script type=\"text/javascript\">window.addEventListener(\"resize\", function(){window._Plotly.Plots.resize(document.getElementById(\"6d280c8d-7874-44f5-a0ed-8bb0de5adf1c\"));});</script>"
      ]
     },
     "metadata": {},
     "output_type": "display_data"
    }
   ],
   "source": [
    "#print(np.mean(entropies))\n",
    "#print(np.sum(entropies))\n",
    "entropies = get_entropies_for_all_users()\n",
    "print('mean entropy per user', np.mean(entropies))\n",
    "print('median entropy per user', np.median(entropies))\n",
    "plothist(entropies, 'Entropies per user, in bits (histogram)')"
   ]
  },
  {
   "cell_type": "code",
   "execution_count": 166,
   "metadata": {},
   "outputs": [
    {
     "name": "stdout",
     "output_type": "stream",
     "text": [
      "mean entropy per user 0.5957766515109777\n",
      "median entropy per user 0.33055564508284524\n"
     ]
    },
    {
     "data": {
      "application/vnd.plotly.v1+json": {
       "config": {
        "linkText": "Export to plot.ly",
        "plotlyServerURL": "https://plot.ly",
        "showLink": false
       },
       "data": [
        {
         "type": "histogram",
         "uid": "e5247265-9ced-40d7-adc5-8ba3976d3806",
         "x": [
          1.1214713521688606,
          0,
          0.08354288831032233,
          1.496421020267269,
          0,
          0,
          0.8112781244591328,
          0.9698024945677541,
          2,
          0.24729443986205674,
          1.4609640474436811,
          0.41381685030363374,
          0,
          0.976300951603057,
          0,
          0,
          1,
          0.8112781244591328,
          0.9709505944546688,
          0.5499109046334101,
          0.9182958340544896,
          0,
          0.8112781244591328,
          1.823067982273661,
          1.3709505944546687,
          0,
          0,
          1.3787834934861758,
          0,
          0,
          1.752537670611368,
          1.8631205685666308,
          0,
          0,
          0,
          0,
          1,
          0,
          0,
          0
         ]
        }
       ],
       "layout": {
        "title": {
         "text": "Entropies per user, in bits (histogram), for users with interface=time_afford"
        }
       }
      },
      "text/html": [
       "<div id=\"9119b34d-c047-486c-b388-1a9bedbcae79\" style=\"height: 525px; width: 100%;\" class=\"plotly-graph-div\"></div><script type=\"text/javascript\">require([\"plotly\"], function(Plotly) { window.PLOTLYENV=window.PLOTLYENV || {};window.PLOTLYENV.BASE_URL=\"https://plot.ly\";Plotly.newPlot(\"9119b34d-c047-486c-b388-1a9bedbcae79\", [{\"x\": [1.1214713521688606, -0.0, 0.08354288831032233, 1.496421020267269, -0.0, -0.0, 0.8112781244591328, 0.9698024945677541, 2.0, 0.24729443986205674, 1.4609640474436811, 0.41381685030363374, -0.0, 0.976300951603057, -0.0, -0.0, 1.0, 0.8112781244591328, 0.9709505944546688, 0.5499109046334101, 0.9182958340544896, -0.0, 0.8112781244591328, 1.823067982273661, 1.3709505944546687, -0.0, -0.0, 1.3787834934861758, -0.0, -0.0, 1.752537670611368, 1.8631205685666308, -0.0, -0.0, -0.0, -0.0, 1.0, -0.0, -0.0, -0.0], \"type\": \"histogram\", \"uid\": \"e5247265-9ced-40d7-adc5-8ba3976d3806\"}], {\"title\": {\"text\": \"Entropies per user, in bits (histogram), for users with interface=time_afford\"}}, {\"showLink\": false, \"linkText\": \"Export to plot.ly\", \"plotlyServerURL\": \"https://plot.ly\"})});</script><script type=\"text/javascript\">window.addEventListener(\"resize\", function(){window._Plotly.Plots.resize(document.getElementById(\"9119b34d-c047-486c-b388-1a9bedbcae79\"));});</script>"
      ],
      "text/vnd.plotly.v1+html": [
       "<div id=\"9119b34d-c047-486c-b388-1a9bedbcae79\" style=\"height: 525px; width: 100%;\" class=\"plotly-graph-div\"></div><script type=\"text/javascript\">require([\"plotly\"], function(Plotly) { window.PLOTLYENV=window.PLOTLYENV || {};window.PLOTLYENV.BASE_URL=\"https://plot.ly\";Plotly.newPlot(\"9119b34d-c047-486c-b388-1a9bedbcae79\", [{\"x\": [1.1214713521688606, -0.0, 0.08354288831032233, 1.496421020267269, -0.0, -0.0, 0.8112781244591328, 0.9698024945677541, 2.0, 0.24729443986205674, 1.4609640474436811, 0.41381685030363374, -0.0, 0.976300951603057, -0.0, -0.0, 1.0, 0.8112781244591328, 0.9709505944546688, 0.5499109046334101, 0.9182958340544896, -0.0, 0.8112781244591328, 1.823067982273661, 1.3709505944546687, -0.0, -0.0, 1.3787834934861758, -0.0, -0.0, 1.752537670611368, 1.8631205685666308, -0.0, -0.0, -0.0, -0.0, 1.0, -0.0, -0.0, -0.0], \"type\": \"histogram\", \"uid\": \"e5247265-9ced-40d7-adc5-8ba3976d3806\"}], {\"title\": {\"text\": \"Entropies per user, in bits (histogram), for users with interface=time_afford\"}}, {\"showLink\": false, \"linkText\": \"Export to plot.ly\", \"plotlyServerURL\": \"https://plot.ly\"})});</script><script type=\"text/javascript\">window.addEventListener(\"resize\", function(){window._Plotly.Plots.resize(document.getElementById(\"9119b34d-c047-486c-b388-1a9bedbcae79\"));});</script>"
      ]
     },
     "metadata": {},
     "output_type": "display_data"
    }
   ],
   "source": [
    "#print(np.mean(entropies))\n",
    "#print(np.sum(entropies))\n",
    "entropies = get_entropies_for_user_list(difficulty_interface_to_users['time_afford'])\n",
    "print('mean entropy per user', np.mean(entropies))\n",
    "print('median entropy per user', np.median(entropies))\n",
    "plothist(entropies, 'Entropies per user, in bits (histogram), for users with interface=time_afford')"
   ]
  },
  {
   "cell_type": "code",
   "execution_count": 168,
   "metadata": {},
   "outputs": [
    {
     "name": "stdout",
     "output_type": "stream",
     "text": [
      "mean entropy per user 0.4560157491547438\n",
      "median entropy per user 0.32499952858771153\n"
     ]
    },
    {
     "data": {
      "application/vnd.plotly.v1+json": {
       "config": {
        "linkText": "Export to plot.ly",
        "plotlyServerURL": "https://plot.ly",
        "showLink": false
       },
       "data": [
        {
         "type": "histogram",
         "uid": "d128aa25-3890-4165-b557-bb1420b7d986",
         "x": [
          0.5464906429312275,
          0.9980008838722996,
          0,
          0,
          0,
          0,
          0,
          0.7905509533915468,
          0,
          0.18717625687320816,
          0,
          0.9709505944546688,
          0,
          0.32499952858771153,
          0.5435644431995964,
          0.14609425012013633,
          0,
          0.4689955935892812,
          0,
          0.5254506799086206,
          0,
          1.9362600275315276,
          0,
          0,
          0,
          0.9798687566511528,
          0.5435644431995964,
          0.2822921890824148,
          0,
          1.115520093581932,
          0.9910760598382221,
          0.7219280948873623,
          0,
          1.164392545716586,
          0,
          0,
          0.9864267287308426,
          0.46328187072785887,
          1.4152689500270954,
          1.198192411043098,
          1,
          0.8115934173471924,
          0,
          0,
          1,
          0.5032583347756459,
          0,
          0.9182958340544896,
          0.8112781244591328
         ]
        }
       ],
       "layout": {
        "title": {
         "text": "Entropies per user, in bits (histogram), for users with interface=this_intervention"
        }
       }
      },
      "text/html": [
       "<div id=\"469abc01-a080-489d-854e-7160cfa72bba\" style=\"height: 525px; width: 100%;\" class=\"plotly-graph-div\"></div><script type=\"text/javascript\">require([\"plotly\"], function(Plotly) { window.PLOTLYENV=window.PLOTLYENV || {};window.PLOTLYENV.BASE_URL=\"https://plot.ly\";Plotly.newPlot(\"469abc01-a080-489d-854e-7160cfa72bba\", [{\"x\": [0.5464906429312275, 0.9980008838722996, -0.0, -0.0, -0.0, -0.0, -0.0, 0.7905509533915468, -0.0, 0.18717625687320816, -0.0, 0.9709505944546688, -0.0, 0.32499952858771153, 0.5435644431995964, 0.14609425012013633, -0.0, 0.4689955935892812, -0.0, 0.5254506799086206, -0.0, 1.9362600275315276, -0.0, -0.0, -0.0, 0.9798687566511528, 0.5435644431995964, 0.2822921890824148, -0.0, 1.115520093581932, 0.9910760598382221, 0.7219280948873623, -0.0, 1.164392545716586, -0.0, -0.0, 0.9864267287308426, 0.46328187072785887, 1.4152689500270954, 1.198192411043098, 1.0, 0.8115934173471924, -0.0, -0.0, 1.0, 0.5032583347756459, -0.0, 0.9182958340544896, 0.8112781244591328], \"type\": \"histogram\", \"uid\": \"d128aa25-3890-4165-b557-bb1420b7d986\"}], {\"title\": {\"text\": \"Entropies per user, in bits (histogram), for users with interface=this_intervention\"}}, {\"showLink\": false, \"linkText\": \"Export to plot.ly\", \"plotlyServerURL\": \"https://plot.ly\"})});</script><script type=\"text/javascript\">window.addEventListener(\"resize\", function(){window._Plotly.Plots.resize(document.getElementById(\"469abc01-a080-489d-854e-7160cfa72bba\"));});</script>"
      ],
      "text/vnd.plotly.v1+html": [
       "<div id=\"469abc01-a080-489d-854e-7160cfa72bba\" style=\"height: 525px; width: 100%;\" class=\"plotly-graph-div\"></div><script type=\"text/javascript\">require([\"plotly\"], function(Plotly) { window.PLOTLYENV=window.PLOTLYENV || {};window.PLOTLYENV.BASE_URL=\"https://plot.ly\";Plotly.newPlot(\"469abc01-a080-489d-854e-7160cfa72bba\", [{\"x\": [0.5464906429312275, 0.9980008838722996, -0.0, -0.0, -0.0, -0.0, -0.0, 0.7905509533915468, -0.0, 0.18717625687320816, -0.0, 0.9709505944546688, -0.0, 0.32499952858771153, 0.5435644431995964, 0.14609425012013633, -0.0, 0.4689955935892812, -0.0, 0.5254506799086206, -0.0, 1.9362600275315276, -0.0, -0.0, -0.0, 0.9798687566511528, 0.5435644431995964, 0.2822921890824148, -0.0, 1.115520093581932, 0.9910760598382221, 0.7219280948873623, -0.0, 1.164392545716586, -0.0, -0.0, 0.9864267287308426, 0.46328187072785887, 1.4152689500270954, 1.198192411043098, 1.0, 0.8115934173471924, -0.0, -0.0, 1.0, 0.5032583347756459, -0.0, 0.9182958340544896, 0.8112781244591328], \"type\": \"histogram\", \"uid\": \"d128aa25-3890-4165-b557-bb1420b7d986\"}], {\"title\": {\"text\": \"Entropies per user, in bits (histogram), for users with interface=this_intervention\"}}, {\"showLink\": false, \"linkText\": \"Export to plot.ly\", \"plotlyServerURL\": \"https://plot.ly\"})});</script><script type=\"text/javascript\">window.addEventListener(\"resize\", function(){window._Plotly.Plots.resize(document.getElementById(\"469abc01-a080-489d-854e-7160cfa72bba\"));});</script>"
      ]
     },
     "metadata": {},
     "output_type": "display_data"
    }
   ],
   "source": [
    "entropies = get_entropies_for_user_list(difficulty_interface_to_users['this_intervention'])\n",
    "print('mean entropy per user', np.mean(entropies))\n",
    "print('median entropy per user', np.median(entropies))\n",
    "plothist(entropies, 'Entropies per user, in bits (histogram), for users with interface=this_intervention')"
   ]
  },
  {
   "cell_type": "code",
   "execution_count": 169,
   "metadata": {},
   "outputs": [
    {
     "name": "stdout",
     "output_type": "stream",
     "text": [
      "mean entropy per user 0.44861068198392046\n",
      "median entropy per user 0.18022046943747377\n"
     ]
    },
    {
     "data": {
      "application/vnd.plotly.v1+json": {
       "config": {
        "linkText": "Export to plot.ly",
        "plotlyServerURL": "https://plot.ly",
        "showLink": false
       },
       "data": [
        {
         "type": "histogram",
         "uid": "77da73ea-fb2f-4d1d-811f-bb7f711b8d52",
         "x": [
          0.39360991596962236,
          0,
          0.5502498086335793,
          0.10441907800540785,
          0.9182958340544896,
          0,
          0.787667201427305,
          0,
          0.8284446986123978,
          0,
          0.9182958340544896,
          0,
          0.6338054550605168,
          0.7219280948873623,
          0,
          1.8411803921927494,
          0,
          1.1785594639469632,
          1.0676898236494567,
          0,
          0.9940302114769565,
          0,
          1.191235910802476,
          0,
          0.2560218608695397,
          1.5304930567574826,
          0,
          0,
          0.9182958340544896,
          0,
          0,
          0.6433554975880187,
          0.6432839645190975,
          0.9182958340544896,
          0,
          0.9182958340544896,
          0,
          0,
          0,
          0,
          0.9182958340544896,
          0.863120568566631,
          0,
          0
         ]
        }
       ],
       "layout": {
        "title": {
         "text": "Entropies per user, in bits (histogram), for users with interface=settings_update"
        }
       }
      },
      "text/html": [
       "<div id=\"ff2629cb-e0e8-4f4e-b6cc-57e52ea368b6\" style=\"height: 525px; width: 100%;\" class=\"plotly-graph-div\"></div><script type=\"text/javascript\">require([\"plotly\"], function(Plotly) { window.PLOTLYENV=window.PLOTLYENV || {};window.PLOTLYENV.BASE_URL=\"https://plot.ly\";Plotly.newPlot(\"ff2629cb-e0e8-4f4e-b6cc-57e52ea368b6\", [{\"x\": [0.39360991596962236, -0.0, 0.5502498086335793, 0.10441907800540785, 0.9182958340544896, -0.0, 0.787667201427305, -0.0, 0.8284446986123978, -0.0, 0.9182958340544896, -0.0, 0.6338054550605168, 0.7219280948873623, -0.0, 1.8411803921927494, -0.0, 1.1785594639469632, 1.0676898236494567, -0.0, 0.9940302114769565, -0.0, 1.191235910802476, -0.0, 0.2560218608695397, 1.5304930567574826, -0.0, -0.0, 0.9182958340544896, -0.0, -0.0, 0.6433554975880187, 0.6432839645190975, 0.9182958340544896, -0.0, 0.9182958340544896, -0.0, -0.0, -0.0, -0.0, 0.9182958340544896, 0.863120568566631, -0.0, -0.0], \"type\": \"histogram\", \"uid\": \"77da73ea-fb2f-4d1d-811f-bb7f711b8d52\"}], {\"title\": {\"text\": \"Entropies per user, in bits (histogram), for users with interface=settings_update\"}}, {\"showLink\": false, \"linkText\": \"Export to plot.ly\", \"plotlyServerURL\": \"https://plot.ly\"})});</script><script type=\"text/javascript\">window.addEventListener(\"resize\", function(){window._Plotly.Plots.resize(document.getElementById(\"ff2629cb-e0e8-4f4e-b6cc-57e52ea368b6\"));});</script>"
      ],
      "text/vnd.plotly.v1+html": [
       "<div id=\"ff2629cb-e0e8-4f4e-b6cc-57e52ea368b6\" style=\"height: 525px; width: 100%;\" class=\"plotly-graph-div\"></div><script type=\"text/javascript\">require([\"plotly\"], function(Plotly) { window.PLOTLYENV=window.PLOTLYENV || {};window.PLOTLYENV.BASE_URL=\"https://plot.ly\";Plotly.newPlot(\"ff2629cb-e0e8-4f4e-b6cc-57e52ea368b6\", [{\"x\": [0.39360991596962236, -0.0, 0.5502498086335793, 0.10441907800540785, 0.9182958340544896, -0.0, 0.787667201427305, -0.0, 0.8284446986123978, -0.0, 0.9182958340544896, -0.0, 0.6338054550605168, 0.7219280948873623, -0.0, 1.8411803921927494, -0.0, 1.1785594639469632, 1.0676898236494567, -0.0, 0.9940302114769565, -0.0, 1.191235910802476, -0.0, 0.2560218608695397, 1.5304930567574826, -0.0, -0.0, 0.9182958340544896, -0.0, -0.0, 0.6433554975880187, 0.6432839645190975, 0.9182958340544896, -0.0, 0.9182958340544896, -0.0, -0.0, -0.0, -0.0, 0.9182958340544896, 0.863120568566631, -0.0, -0.0], \"type\": \"histogram\", \"uid\": \"77da73ea-fb2f-4d1d-811f-bb7f711b8d52\"}], {\"title\": {\"text\": \"Entropies per user, in bits (histogram), for users with interface=settings_update\"}}, {\"showLink\": false, \"linkText\": \"Export to plot.ly\", \"plotlyServerURL\": \"https://plot.ly\"})});</script><script type=\"text/javascript\">window.addEventListener(\"resize\", function(){window._Plotly.Plots.resize(document.getElementById(\"ff2629cb-e0e8-4f4e-b6cc-57e52ea368b6\"));});</script>"
      ]
     },
     "metadata": {},
     "output_type": "display_data"
    }
   ],
   "source": [
    "entropies = get_entropies_for_user_list(difficulty_interface_to_users['settings_update'])\n",
    "print('mean entropy per user', np.mean(entropies))\n",
    "print('median entropy per user', np.median(entropies))\n",
    "plothist(entropies, 'Entropies per user, in bits (histogram), for users with interface=settings_update')"
   ]
  },
  {
   "cell_type": "code",
   "execution_count": 170,
   "metadata": {},
   "outputs": [
    {
     "name": "stdout",
     "output_type": "stream",
     "text": [
      "mean entropy per user 0.4941722578468712\n",
      "median entropy per user 0.39258712260714623\n"
     ]
    },
    {
     "data": {
      "application/vnd.plotly.v1+json": {
       "config": {
        "linkText": "Export to plot.ly",
        "plotlyServerURL": "https://plot.ly",
        "showLink": false
       },
       "data": [
        {
         "type": "histogram",
         "uid": "d2ff7611-5c7e-49ba-8a99-234ede76a12a",
         "x": [
          0.6777443031262382,
          0.9239817566184624,
          1,
          0.9919413667468203,
          0.228538143953528,
          0.12059463047896746,
          0,
          0.5916727785823274,
          1.1994602933016414,
          0.2994113292359871,
          0.20797766501488765,
          1.413211940737912,
          0.5435644431995964,
          0.7219280948873623,
          0.3896364387578151,
          0.7942556838305386,
          0.5435644431995964,
          0.5032583347756459,
          0.1306346250311531,
          0,
          0.3372900666170139,
          1.2464805120080338,
          0.23750814382859292,
          0,
          0.228538143953528,
          1.4591479170272446,
          0,
          0.19993378119137847,
          1.299889933807165,
          0.6409441847875288,
          0,
          0.5916727785823274,
          0.2301627406079554,
          0,
          1.1660870601063935,
          0.9980008838722996,
          0.2863969571159562,
          0.824980257347893,
          0.41684419634316516,
          0,
          0.906579548498746,
          0.6190652114877522,
          0.7673462190003605,
          0,
          0,
          0.8112781244591328,
          0.7319574242563764,
          1.2340156731591418,
          0,
          1,
          0.28814461925212254,
          0,
          0.0697699461025586,
          0.5206600681895694,
          0.13882414236823357,
          0.41381685030363374,
          0.7785082449520445,
          0.0788698855855413,
          1.1559368506327257,
          0,
          0,
          1,
          0,
          1.0928343095844615,
          0,
          1.7343153016906607,
          1.584962500721156,
          0.0715037894499587,
          0.6998428398862386,
          1.561278124459133,
          0.19587805804542602,
          1.2015606910132142,
          0,
          0.9819407868640977,
          0,
          0,
          0.07823246525771237,
          0,
          0.18865294740404961,
          0.12653159222336471,
          0.8930437442347137,
          0,
          0.43055186701043946,
          0,
          1.0226297788901695,
          0.2761954276479391,
          0.18213846457886634,
          0,
          0.12004966051477015,
          0,
          0.6406130960036647,
          0.056832404500331515,
          0,
          0.47781024901371605,
          1.0739061442367228,
          0.3339360631363668,
          0.3955378064564774,
          0,
          0.3095434291503252,
          0.1831220683013728,
          1.245088925911503,
          0.7939297255656709,
          0.760658476840993,
          0.10441907800540785,
          0,
          0.4394969869215134,
          0,
          0.7219280948873623,
          0.8569957178540346,
          0,
          0.949768658361587,
          1.37374323370471,
          0,
          0,
          0.5916727785823274,
          0.26676498780302604,
          0,
          1,
          0.46328187072785887,
          0,
          0.4945409290744157,
          0.8112781244591328,
          0,
          0,
          0.09396923545355867,
          0.5552772073325881,
          0.9182958340544896,
          0,
          0.6630350975031564,
          0.15884084219235378,
          0,
          0,
          2,
          0.6024308020404452,
          0,
          0.12985150050082356,
          0.46708144015900344,
          0.8841837197791889,
          0,
          0,
          0,
          0.23124824035994587,
          0,
          0,
          0,
          0,
          0.7905509533915468,
          1.3250112108241772,
          0.3711939034940691,
          1.2886497645355963,
          1,
          0,
          0.2580186686648155,
          0.787667201427305,
          0.9709505944546688,
          1.4609640474436811,
          0,
          1.4269494100663722,
          0.8284446986123978,
          0.8112781244591328,
          0,
          0.9182958340544896,
          1.014097655573916,
          0,
          0.8112781244591328,
          0.6338054550605168,
          0,
          1.115520093581932,
          1.8411803921927494,
          0.7219280948873623,
          1.191235910802476,
          0,
          0,
          0.46328187072785887,
          1.198192411043098,
          1,
          0.8115934173471924,
          0,
          0.6432839645190975,
          0,
          0.9182958340544896,
          1,
          0,
          0,
          0,
          0.863120568566631
         ]
        }
       ],
       "layout": {
        "title": {
         "text": "Entropies per user, in bits (histogram), for users with frequency=1.0"
        }
       }
      },
      "text/html": [
       "<div id=\"ce3e0ad9-42c8-4610-bac0-c5ea40cf8217\" style=\"height: 525px; width: 100%;\" class=\"plotly-graph-div\"></div><script type=\"text/javascript\">require([\"plotly\"], function(Plotly) { window.PLOTLYENV=window.PLOTLYENV || {};window.PLOTLYENV.BASE_URL=\"https://plot.ly\";Plotly.newPlot(\"ce3e0ad9-42c8-4610-bac0-c5ea40cf8217\", [{\"x\": [0.6777443031262382, 0.9239817566184624, 1.0, 0.9919413667468203, 0.228538143953528, 0.12059463047896746, -0.0, 0.5916727785823274, 1.1994602933016414, 0.2994113292359871, 0.20797766501488765, 1.413211940737912, 0.5435644431995964, 0.7219280948873623, 0.3896364387578151, 0.7942556838305386, 0.5435644431995964, 0.5032583347756459, 0.1306346250311531, -0.0, 0.3372900666170139, 1.2464805120080338, 0.23750814382859292, -0.0, 0.228538143953528, 1.4591479170272446, -0.0, 0.19993378119137847, 1.299889933807165, 0.6409441847875288, -0.0, 0.5916727785823274, 0.2301627406079554, -0.0, 1.1660870601063935, 0.9980008838722996, 0.2863969571159562, 0.824980257347893, 0.41684419634316516, -0.0, 0.906579548498746, 0.6190652114877522, 0.7673462190003605, -0.0, -0.0, 0.8112781244591328, 0.7319574242563764, 1.2340156731591418, -0.0, 1.0, 0.28814461925212254, -0.0, 0.0697699461025586, 0.5206600681895694, 0.13882414236823357, 0.41381685030363374, 0.7785082449520445, 0.0788698855855413, 1.1559368506327257, -0.0, -0.0, 1.0, -0.0, 1.0928343095844615, -0.0, 1.7343153016906607, 1.584962500721156, 0.0715037894499587, 0.6998428398862386, 1.561278124459133, 0.19587805804542602, 1.2015606910132142, -0.0, 0.9819407868640977, -0.0, -0.0, 0.07823246525771237, -0.0, 0.18865294740404961, 0.12653159222336471, 0.8930437442347137, -0.0, 0.43055186701043946, -0.0, 1.0226297788901695, 0.2761954276479391, 0.18213846457886634, -0.0, 0.12004966051477015, -0.0, 0.6406130960036647, 0.056832404500331515, -0.0, 0.47781024901371605, 1.0739061442367228, 0.3339360631363668, 0.3955378064564774, -0.0, 0.3095434291503252, 0.1831220683013728, 1.245088925911503, 0.7939297255656709, 0.760658476840993, 0.10441907800540785, -0.0, 0.4394969869215134, -0.0, 0.7219280948873623, 0.8569957178540346, -0.0, 0.949768658361587, 1.37374323370471, -0.0, -0.0, 0.5916727785823274, 0.26676498780302604, -0.0, 1.0, 0.46328187072785887, -0.0, 0.4945409290744157, 0.8112781244591328, -0.0, -0.0, 0.09396923545355867, 0.5552772073325881, 0.9182958340544896, -0.0, 0.6630350975031564, 0.15884084219235378, -0.0, -0.0, 2.0, 0.6024308020404452, -0.0, 0.12985150050082356, 0.46708144015900344, 0.8841837197791889, -0.0, -0.0, -0.0, 0.23124824035994587, -0.0, -0.0, -0.0, -0.0, 0.7905509533915468, 1.3250112108241772, 0.3711939034940691, 1.2886497645355963, 1.0, -0.0, 0.2580186686648155, 0.787667201427305, 0.9709505944546688, 1.4609640474436811, -0.0, 1.4269494100663722, 0.8284446986123978, 0.8112781244591328, -0.0, 0.9182958340544896, 1.014097655573916, -0.0, 0.8112781244591328, 0.6338054550605168, -0.0, 1.115520093581932, 1.8411803921927494, 0.7219280948873623, 1.191235910802476, -0.0, -0.0, 0.46328187072785887, 1.198192411043098, 1.0, 0.8115934173471924, -0.0, 0.6432839645190975, -0.0, 0.9182958340544896, 1.0, -0.0, -0.0, -0.0, 0.863120568566631], \"type\": \"histogram\", \"uid\": \"d2ff7611-5c7e-49ba-8a99-234ede76a12a\"}], {\"title\": {\"text\": \"Entropies per user, in bits (histogram), for users with frequency=1.0\"}}, {\"showLink\": false, \"linkText\": \"Export to plot.ly\", \"plotlyServerURL\": \"https://plot.ly\"})});</script><script type=\"text/javascript\">window.addEventListener(\"resize\", function(){window._Plotly.Plots.resize(document.getElementById(\"ce3e0ad9-42c8-4610-bac0-c5ea40cf8217\"));});</script>"
      ],
      "text/vnd.plotly.v1+html": [
       "<div id=\"ce3e0ad9-42c8-4610-bac0-c5ea40cf8217\" style=\"height: 525px; width: 100%;\" class=\"plotly-graph-div\"></div><script type=\"text/javascript\">require([\"plotly\"], function(Plotly) { window.PLOTLYENV=window.PLOTLYENV || {};window.PLOTLYENV.BASE_URL=\"https://plot.ly\";Plotly.newPlot(\"ce3e0ad9-42c8-4610-bac0-c5ea40cf8217\", [{\"x\": [0.6777443031262382, 0.9239817566184624, 1.0, 0.9919413667468203, 0.228538143953528, 0.12059463047896746, -0.0, 0.5916727785823274, 1.1994602933016414, 0.2994113292359871, 0.20797766501488765, 1.413211940737912, 0.5435644431995964, 0.7219280948873623, 0.3896364387578151, 0.7942556838305386, 0.5435644431995964, 0.5032583347756459, 0.1306346250311531, -0.0, 0.3372900666170139, 1.2464805120080338, 0.23750814382859292, -0.0, 0.228538143953528, 1.4591479170272446, -0.0, 0.19993378119137847, 1.299889933807165, 0.6409441847875288, -0.0, 0.5916727785823274, 0.2301627406079554, -0.0, 1.1660870601063935, 0.9980008838722996, 0.2863969571159562, 0.824980257347893, 0.41684419634316516, -0.0, 0.906579548498746, 0.6190652114877522, 0.7673462190003605, -0.0, -0.0, 0.8112781244591328, 0.7319574242563764, 1.2340156731591418, -0.0, 1.0, 0.28814461925212254, -0.0, 0.0697699461025586, 0.5206600681895694, 0.13882414236823357, 0.41381685030363374, 0.7785082449520445, 0.0788698855855413, 1.1559368506327257, -0.0, -0.0, 1.0, -0.0, 1.0928343095844615, -0.0, 1.7343153016906607, 1.584962500721156, 0.0715037894499587, 0.6998428398862386, 1.561278124459133, 0.19587805804542602, 1.2015606910132142, -0.0, 0.9819407868640977, -0.0, -0.0, 0.07823246525771237, -0.0, 0.18865294740404961, 0.12653159222336471, 0.8930437442347137, -0.0, 0.43055186701043946, -0.0, 1.0226297788901695, 0.2761954276479391, 0.18213846457886634, -0.0, 0.12004966051477015, -0.0, 0.6406130960036647, 0.056832404500331515, -0.0, 0.47781024901371605, 1.0739061442367228, 0.3339360631363668, 0.3955378064564774, -0.0, 0.3095434291503252, 0.1831220683013728, 1.245088925911503, 0.7939297255656709, 0.760658476840993, 0.10441907800540785, -0.0, 0.4394969869215134, -0.0, 0.7219280948873623, 0.8569957178540346, -0.0, 0.949768658361587, 1.37374323370471, -0.0, -0.0, 0.5916727785823274, 0.26676498780302604, -0.0, 1.0, 0.46328187072785887, -0.0, 0.4945409290744157, 0.8112781244591328, -0.0, -0.0, 0.09396923545355867, 0.5552772073325881, 0.9182958340544896, -0.0, 0.6630350975031564, 0.15884084219235378, -0.0, -0.0, 2.0, 0.6024308020404452, -0.0, 0.12985150050082356, 0.46708144015900344, 0.8841837197791889, -0.0, -0.0, -0.0, 0.23124824035994587, -0.0, -0.0, -0.0, -0.0, 0.7905509533915468, 1.3250112108241772, 0.3711939034940691, 1.2886497645355963, 1.0, -0.0, 0.2580186686648155, 0.787667201427305, 0.9709505944546688, 1.4609640474436811, -0.0, 1.4269494100663722, 0.8284446986123978, 0.8112781244591328, -0.0, 0.9182958340544896, 1.014097655573916, -0.0, 0.8112781244591328, 0.6338054550605168, -0.0, 1.115520093581932, 1.8411803921927494, 0.7219280948873623, 1.191235910802476, -0.0, -0.0, 0.46328187072785887, 1.198192411043098, 1.0, 0.8115934173471924, -0.0, 0.6432839645190975, -0.0, 0.9182958340544896, 1.0, -0.0, -0.0, -0.0, 0.863120568566631], \"type\": \"histogram\", \"uid\": \"d2ff7611-5c7e-49ba-8a99-234ede76a12a\"}], {\"title\": {\"text\": \"Entropies per user, in bits (histogram), for users with frequency=1.0\"}}, {\"showLink\": false, \"linkText\": \"Export to plot.ly\", \"plotlyServerURL\": \"https://plot.ly\"})});</script><script type=\"text/javascript\">window.addEventListener(\"resize\", function(){window._Plotly.Plots.resize(document.getElementById(\"ce3e0ad9-42c8-4610-bac0-c5ea40cf8217\"));});</script>"
      ]
     },
     "metadata": {},
     "output_type": "display_data"
    }
   ],
   "source": [
    "entropies = get_entropies_for_user_list(frequency_of_choose_difficulty_to_users['1.0'])\n",
    "print('mean entropy per user', np.mean(entropies))\n",
    "print('median entropy per user', np.median(entropies))\n",
    "plothist(entropies, 'Entropies per user, in bits (histogram), for users with frequency=1.0')"
   ]
  },
  {
   "cell_type": "code",
   "execution_count": 171,
   "metadata": {},
   "outputs": [
    {
     "name": "stdout",
     "output_type": "stream",
     "text": [
      "mean entropy per user 0.43227977883610436\n",
      "median entropy per user 0.22228483068568797\n"
     ]
    },
    {
     "data": {
      "application/vnd.plotly.v1+json": {
       "config": {
        "linkText": "Export to plot.ly",
        "plotlyServerURL": "https://plot.ly",
        "showLink": false
       },
       "data": [
        {
         "type": "histogram",
         "uid": "86dd3870-1f21-484d-9f9f-281e74746339",
         "x": [
          0,
          0,
          1.0786672099764596,
          1.584962500721156,
          0.8112781244591328,
          0.4650465541031257,
          0.0989590953557431,
          0,
          1.1883763717345073,
          0.113981273555772,
          0.741795418914729,
          0.5115779700152474,
          0,
          0.27297085791406983,
          0.32125009297129525,
          0.22228483068568797,
          1.1214713521688606,
          0.42840359039871956,
          0.17033057560105985,
          0.09549123781111851,
          0,
          0.4474992550368635,
          0.3372900666170139,
          0,
          1.2555367253996503,
          0.3095434291503252,
          0,
          0.09408443883267348,
          0.16923767206715445,
          0,
          0,
          0.7219280948873623,
          0.9945895934284067,
          0,
          0.0712143598265751,
          0,
          0.8658566174572235,
          1.5951136509235357,
          0,
          0,
          0,
          1.4056390622295665,
          0,
          0,
          0,
          0.1132743034970967,
          0,
          0,
          0,
          0.8112781244591328,
          0.6031530134281982,
          0.5916727785823274,
          0.3021736184787951,
          0.08354288831032233,
          0,
          0,
          0.69287851503822,
          0.2351933818192415,
          0,
          0,
          0,
          0.33907641808892486,
          0,
          0.13707445663647463,
          0,
          0.15331028405257777,
          0,
          0,
          0,
          1.2343888840832413,
          0.9182958340544896,
          0.4394969869215134,
          0.8643815420741403,
          0.3712323266408757,
          0,
          0,
          0.06788019714294674,
          0,
          1.2516291673878228,
          0.1222915970693747,
          1.1554663334311437,
          1.287054028118727,
          0.46377734988775166,
          0.8869456102215852,
          0,
          0,
          0,
          0.41381685030363374,
          0.7219280948873623,
          1.2697816169827232,
          1,
          1.496421020267269,
          0,
          1.0921271752212336,
          0,
          0,
          1.478188155669466,
          0,
          0,
          0.17911430221849373,
          0,
          0,
          1.265246528378741,
          0,
          0.08283655281361223,
          1,
          0.9709505944546688,
          1.290200895121209,
          0.8112781244591328,
          1.7050862978247885,
          0.8112781244591328,
          0.8453509366224365,
          1.556656707462823,
          0,
          0.3095434291503252,
          0,
          0.25387844029816153,
          0.5032583347756459,
          0,
          0,
          0,
          0,
          0.21084230031853216,
          0.14189159258679648,
          0.3500105929268849,
          1,
          0.3227569588973983,
          0.35010382786665806,
          0.5665095065529053,
          0.7219280948873623,
          0,
          1.584962500721156,
          0,
          0,
          1.1461683299371317,
          0.8857509852680117,
          0.2974722489192897,
          0,
          0.9461447090189017,
          0,
          0.9664516287472262,
          0,
          0.32499952858771153,
          0,
          0.41381685030363374,
          0.4689955935892812,
          0.9709505944546688,
          0.5499109046334101,
          0.5435644431995964,
          0.2822921890824148,
          1.0676898236494567,
          1.3709505944546687,
          0.9910760598382221,
          0,
          0,
          0.9940302114769565,
          0,
          1.164392545716586,
          0.2560218608695397,
          0,
          0.9864267287308426,
          0.9182958340544896,
          0,
          0.9182958340544896,
          1.752537670611368,
          0,
          0,
          0,
          0,
          1.8631205685666308,
          0.6433554975880187,
          0.9182958340544896,
          0,
          0,
          0,
          0.8112781244591328,
          0,
          0,
          0
         ]
        }
       ],
       "layout": {
        "title": {
         "text": "Entropies per user, in bits (histogram), for users with frequency=0.5"
        }
       }
      },
      "text/html": [
       "<div id=\"417447ce-2d6c-4bf0-a8f4-65d12d801262\" style=\"height: 525px; width: 100%;\" class=\"plotly-graph-div\"></div><script type=\"text/javascript\">require([\"plotly\"], function(Plotly) { window.PLOTLYENV=window.PLOTLYENV || {};window.PLOTLYENV.BASE_URL=\"https://plot.ly\";Plotly.newPlot(\"417447ce-2d6c-4bf0-a8f4-65d12d801262\", [{\"x\": [-0.0, -0.0, 1.0786672099764596, 1.584962500721156, 0.8112781244591328, 0.4650465541031257, 0.0989590953557431, -0.0, 1.1883763717345073, 0.113981273555772, 0.741795418914729, 0.5115779700152474, -0.0, 0.27297085791406983, 0.32125009297129525, 0.22228483068568797, 1.1214713521688606, 0.42840359039871956, 0.17033057560105985, 0.09549123781111851, -0.0, 0.4474992550368635, 0.3372900666170139, -0.0, 1.2555367253996503, 0.3095434291503252, -0.0, 0.09408443883267348, 0.16923767206715445, -0.0, -0.0, 0.7219280948873623, 0.9945895934284067, -0.0, 0.0712143598265751, -0.0, 0.8658566174572235, 1.5951136509235357, -0.0, -0.0, -0.0, 1.4056390622295665, -0.0, -0.0, -0.0, 0.1132743034970967, -0.0, -0.0, -0.0, 0.8112781244591328, 0.6031530134281982, 0.5916727785823274, 0.3021736184787951, 0.08354288831032233, -0.0, -0.0, 0.69287851503822, 0.2351933818192415, -0.0, -0.0, -0.0, 0.33907641808892486, -0.0, 0.13707445663647463, -0.0, 0.15331028405257777, -0.0, -0.0, -0.0, 1.2343888840832413, 0.9182958340544896, 0.4394969869215134, 0.8643815420741403, 0.3712323266408757, -0.0, -0.0, 0.06788019714294674, -0.0, 1.2516291673878228, 0.1222915970693747, 1.1554663334311437, 1.287054028118727, 0.46377734988775166, 0.8869456102215852, -0.0, -0.0, -0.0, 0.41381685030363374, 0.7219280948873623, 1.2697816169827232, 1.0, 1.496421020267269, -0.0, 1.0921271752212336, -0.0, -0.0, 1.478188155669466, -0.0, -0.0, 0.17911430221849373, -0.0, -0.0, 1.265246528378741, -0.0, 0.08283655281361223, 1.0, 0.9709505944546688, 1.290200895121209, 0.8112781244591328, 1.7050862978247885, 0.8112781244591328, 0.8453509366224365, 1.556656707462823, -0.0, 0.3095434291503252, -0.0, 0.25387844029816153, 0.5032583347756459, -0.0, -0.0, -0.0, -0.0, 0.21084230031853216, 0.14189159258679648, 0.3500105929268849, 1.0, 0.3227569588973983, 0.35010382786665806, 0.5665095065529053, 0.7219280948873623, -0.0, 1.584962500721156, -0.0, -0.0, 1.1461683299371317, 0.8857509852680117, 0.2974722489192897, -0.0, 0.9461447090189017, -0.0, 0.9664516287472262, -0.0, 0.32499952858771153, -0.0, 0.41381685030363374, 0.4689955935892812, 0.9709505944546688, 0.5499109046334101, 0.5435644431995964, 0.2822921890824148, 1.0676898236494567, 1.3709505944546687, 0.9910760598382221, -0.0, -0.0, 0.9940302114769565, -0.0, 1.164392545716586, 0.2560218608695397, -0.0, 0.9864267287308426, 0.9182958340544896, -0.0, 0.9182958340544896, 1.752537670611368, -0.0, -0.0, -0.0, -0.0, 1.8631205685666308, 0.6433554975880187, 0.9182958340544896, -0.0, -0.0, -0.0, 0.8112781244591328, -0.0, -0.0, -0.0], \"type\": \"histogram\", \"uid\": \"86dd3870-1f21-484d-9f9f-281e74746339\"}], {\"title\": {\"text\": \"Entropies per user, in bits (histogram), for users with frequency=0.5\"}}, {\"showLink\": false, \"linkText\": \"Export to plot.ly\", \"plotlyServerURL\": \"https://plot.ly\"})});</script><script type=\"text/javascript\">window.addEventListener(\"resize\", function(){window._Plotly.Plots.resize(document.getElementById(\"417447ce-2d6c-4bf0-a8f4-65d12d801262\"));});</script>"
      ],
      "text/vnd.plotly.v1+html": [
       "<div id=\"417447ce-2d6c-4bf0-a8f4-65d12d801262\" style=\"height: 525px; width: 100%;\" class=\"plotly-graph-div\"></div><script type=\"text/javascript\">require([\"plotly\"], function(Plotly) { window.PLOTLYENV=window.PLOTLYENV || {};window.PLOTLYENV.BASE_URL=\"https://plot.ly\";Plotly.newPlot(\"417447ce-2d6c-4bf0-a8f4-65d12d801262\", [{\"x\": [-0.0, -0.0, 1.0786672099764596, 1.584962500721156, 0.8112781244591328, 0.4650465541031257, 0.0989590953557431, -0.0, 1.1883763717345073, 0.113981273555772, 0.741795418914729, 0.5115779700152474, -0.0, 0.27297085791406983, 0.32125009297129525, 0.22228483068568797, 1.1214713521688606, 0.42840359039871956, 0.17033057560105985, 0.09549123781111851, -0.0, 0.4474992550368635, 0.3372900666170139, -0.0, 1.2555367253996503, 0.3095434291503252, -0.0, 0.09408443883267348, 0.16923767206715445, -0.0, -0.0, 0.7219280948873623, 0.9945895934284067, -0.0, 0.0712143598265751, -0.0, 0.8658566174572235, 1.5951136509235357, -0.0, -0.0, -0.0, 1.4056390622295665, -0.0, -0.0, -0.0, 0.1132743034970967, -0.0, -0.0, -0.0, 0.8112781244591328, 0.6031530134281982, 0.5916727785823274, 0.3021736184787951, 0.08354288831032233, -0.0, -0.0, 0.69287851503822, 0.2351933818192415, -0.0, -0.0, -0.0, 0.33907641808892486, -0.0, 0.13707445663647463, -0.0, 0.15331028405257777, -0.0, -0.0, -0.0, 1.2343888840832413, 0.9182958340544896, 0.4394969869215134, 0.8643815420741403, 0.3712323266408757, -0.0, -0.0, 0.06788019714294674, -0.0, 1.2516291673878228, 0.1222915970693747, 1.1554663334311437, 1.287054028118727, 0.46377734988775166, 0.8869456102215852, -0.0, -0.0, -0.0, 0.41381685030363374, 0.7219280948873623, 1.2697816169827232, 1.0, 1.496421020267269, -0.0, 1.0921271752212336, -0.0, -0.0, 1.478188155669466, -0.0, -0.0, 0.17911430221849373, -0.0, -0.0, 1.265246528378741, -0.0, 0.08283655281361223, 1.0, 0.9709505944546688, 1.290200895121209, 0.8112781244591328, 1.7050862978247885, 0.8112781244591328, 0.8453509366224365, 1.556656707462823, -0.0, 0.3095434291503252, -0.0, 0.25387844029816153, 0.5032583347756459, -0.0, -0.0, -0.0, -0.0, 0.21084230031853216, 0.14189159258679648, 0.3500105929268849, 1.0, 0.3227569588973983, 0.35010382786665806, 0.5665095065529053, 0.7219280948873623, -0.0, 1.584962500721156, -0.0, -0.0, 1.1461683299371317, 0.8857509852680117, 0.2974722489192897, -0.0, 0.9461447090189017, -0.0, 0.9664516287472262, -0.0, 0.32499952858771153, -0.0, 0.41381685030363374, 0.4689955935892812, 0.9709505944546688, 0.5499109046334101, 0.5435644431995964, 0.2822921890824148, 1.0676898236494567, 1.3709505944546687, 0.9910760598382221, -0.0, -0.0, 0.9940302114769565, -0.0, 1.164392545716586, 0.2560218608695397, -0.0, 0.9864267287308426, 0.9182958340544896, -0.0, 0.9182958340544896, 1.752537670611368, -0.0, -0.0, -0.0, -0.0, 1.8631205685666308, 0.6433554975880187, 0.9182958340544896, -0.0, -0.0, -0.0, 0.8112781244591328, -0.0, -0.0, -0.0], \"type\": \"histogram\", \"uid\": \"86dd3870-1f21-484d-9f9f-281e74746339\"}], {\"title\": {\"text\": \"Entropies per user, in bits (histogram), for users with frequency=0.5\"}}, {\"showLink\": false, \"linkText\": \"Export to plot.ly\", \"plotlyServerURL\": \"https://plot.ly\"})});</script><script type=\"text/javascript\">window.addEventListener(\"resize\", function(){window._Plotly.Plots.resize(document.getElementById(\"417447ce-2d6c-4bf0-a8f4-65d12d801262\"));});</script>"
      ]
     },
     "metadata": {},
     "output_type": "display_data"
    }
   ],
   "source": [
    "entropies = get_entropies_for_user_list(frequency_of_choose_difficulty_to_users['0.5'])\n",
    "print('mean entropy per user', np.mean(entropies))\n",
    "print('median entropy per user', np.median(entropies))\n",
    "plothist(entropies, 'Entropies per user, in bits (histogram), for users with frequency=0.5')"
   ]
  },
  {
   "cell_type": "code",
   "execution_count": 172,
   "metadata": {},
   "outputs": [
    {
     "name": "stdout",
     "output_type": "stream",
     "text": [
      "mean entropy per user 0.4130896585595495\n",
      "median entropy per user 0.18717625687320816\n"
     ]
    },
    {
     "data": {
      "application/vnd.plotly.v1+json": {
       "config": {
        "linkText": "Export to plot.ly",
        "plotlyServerURL": "https://plot.ly",
        "showLink": false
       },
       "data": [
        {
         "type": "histogram",
         "uid": "25176f0b-41dd-4b31-97a5-d37421061628",
         "x": [
          0,
          0,
          0,
          0.8112781244591328,
          1.4146495312777696,
          0.13469174315499088,
          0.36663735213966375,
          0.5464906429312275,
          0.26172727549103136,
          0.41381685030363374,
          0,
          1,
          0,
          0,
          0.9133533657970414,
          0.17203694935311378,
          0,
          0.48524774462839027,
          1.2442130400563693,
          0.14609425012013633,
          0.22228483068568797,
          0.0537701586092738,
          0.1117796081762559,
          0.862590402901891,
          0.10215803640865039,
          0,
          0.08970338978684995,
          0.8888857761841273,
          0,
          0,
          0.9182958340544896,
          0,
          0,
          1.0408520829727552,
          0,
          0,
          0,
          0.7024665512903903,
          0,
          0.24096783080307266,
          0.10802319526362832,
          0.3776463213737003,
          0,
          1.1358885792578717,
          0,
          1,
          0,
          0.5665095065529053,
          0,
          0.39360991596962236,
          0,
          1.07273728622321,
          0.228538143953528,
          0.9921128738610934,
          0.2863969571159562,
          0,
          1.556656707462823,
          0.15556286259996746,
          0,
          0,
          0,
          0,
          0.5746356978376794,
          0.17517084639430738,
          0,
          0.07949044238393407,
          0.7244709806926936,
          0.648289992467951,
          0,
          0.4689955935892812,
          1.2406705316766886,
          0,
          0,
          1,
          0,
          0.6143694458867569,
          1.2326602568158207,
          0,
          0,
          1.0408520829727552,
          0,
          0,
          0,
          0,
          0.22737828122730647,
          0.39124356362925566,
          1.6854752972273346,
          1.468090781663233,
          0.5916727785823274,
          1.2987949406953985,
          0,
          0.5746356978376794,
          0.2394711804443585,
          0.39124356362925566,
          0,
          0,
          0.3712323266408757,
          1.5219280948873624,
          0,
          0,
          0,
          0,
          0,
          0,
          0.725375928405144,
          0.8112781244591328,
          1.1488348542809166,
          0.39124356362925566,
          0,
          0.9182958340544896,
          1.1254908068679137,
          0.25387844029816153,
          0.3825426691977456,
          0.9698024945677541,
          0,
          0,
          0.17203694935311378,
          0.5435644431995964,
          0,
          0.345117314944953,
          0.2932655271911232,
          0.5916727785823274,
          0,
          0.5916727785823274,
          1.6185687757248763,
          0,
          0.5907239186406503,
          0.6402064333604702,
          0.24729443986205674,
          1.2987949406953985,
          0,
          0,
          0.4104161417181889,
          0,
          0.9994730201859838,
          0.6143694458867569,
          0.4394969869215134,
          0,
          0,
          0.18717625687320816,
          0,
          0.7219280948873623,
          0,
          0.5435644431995964,
          0.14609425012013633,
          0,
          0,
          0.5254506799086206,
          0.976300951603057,
          1,
          0,
          0,
          1.9362600275315276,
          0,
          0,
          0.9182958340544896,
          0,
          0.9798687566511528,
          0.7219280948873623,
          0,
          1.823067982273661,
          1.1785594639469632,
          0,
          1.5304930567574826,
          1.4152689500270954,
          1.3787834934861758,
          0,
          0,
          0,
          1,
          0.5032583347756459,
          0.9182958340544896,
          0,
          0,
          0.9182958340544896,
          0,
          0.9182958340544896,
          0,
          0
         ]
        }
       ],
       "layout": {
        "title": {
         "text": "Entropies per user, in bits (histogram), for users with frequency=0.25"
        }
       }
      },
      "text/html": [
       "<div id=\"bc760edb-153f-4b1d-8994-ab0c710fa8e8\" style=\"height: 525px; width: 100%;\" class=\"plotly-graph-div\"></div><script type=\"text/javascript\">require([\"plotly\"], function(Plotly) { window.PLOTLYENV=window.PLOTLYENV || {};window.PLOTLYENV.BASE_URL=\"https://plot.ly\";Plotly.newPlot(\"bc760edb-153f-4b1d-8994-ab0c710fa8e8\", [{\"x\": [-0.0, -0.0, -0.0, 0.8112781244591328, 1.4146495312777696, 0.13469174315499088, 0.36663735213966375, 0.5464906429312275, 0.26172727549103136, 0.41381685030363374, -0.0, 1.0, -0.0, -0.0, 0.9133533657970414, 0.17203694935311378, -0.0, 0.48524774462839027, 1.2442130400563693, 0.14609425012013633, 0.22228483068568797, 0.0537701586092738, 0.1117796081762559, 0.862590402901891, 0.10215803640865039, -0.0, 0.08970338978684995, 0.8888857761841273, -0.0, -0.0, 0.9182958340544896, -0.0, -0.0, 1.0408520829727552, -0.0, -0.0, -0.0, 0.7024665512903903, -0.0, 0.24096783080307266, 0.10802319526362832, 0.3776463213737003, -0.0, 1.1358885792578717, -0.0, 1.0, -0.0, 0.5665095065529053, -0.0, 0.39360991596962236, -0.0, 1.07273728622321, 0.228538143953528, 0.9921128738610934, 0.2863969571159562, -0.0, 1.556656707462823, 0.15556286259996746, -0.0, -0.0, -0.0, -0.0, 0.5746356978376794, 0.17517084639430738, -0.0, 0.07949044238393407, 0.7244709806926936, 0.648289992467951, -0.0, 0.4689955935892812, 1.2406705316766886, -0.0, -0.0, 1.0, -0.0, 0.6143694458867569, 1.2326602568158207, -0.0, -0.0, 1.0408520829727552, -0.0, -0.0, -0.0, -0.0, 0.22737828122730647, 0.39124356362925566, 1.6854752972273346, 1.468090781663233, 0.5916727785823274, 1.2987949406953985, -0.0, 0.5746356978376794, 0.2394711804443585, 0.39124356362925566, -0.0, -0.0, 0.3712323266408757, 1.5219280948873624, -0.0, -0.0, -0.0, -0.0, -0.0, -0.0, 0.725375928405144, 0.8112781244591328, 1.1488348542809166, 0.39124356362925566, -0.0, 0.9182958340544896, 1.1254908068679137, 0.25387844029816153, 0.3825426691977456, 0.9698024945677541, -0.0, -0.0, 0.17203694935311378, 0.5435644431995964, -0.0, 0.345117314944953, 0.2932655271911232, 0.5916727785823274, -0.0, 0.5916727785823274, 1.6185687757248763, -0.0, 0.5907239186406503, 0.6402064333604702, 0.24729443986205674, 1.2987949406953985, -0.0, -0.0, 0.4104161417181889, -0.0, 0.9994730201859838, 0.6143694458867569, 0.4394969869215134, -0.0, -0.0, 0.18717625687320816, -0.0, 0.7219280948873623, -0.0, 0.5435644431995964, 0.14609425012013633, -0.0, -0.0, 0.5254506799086206, 0.976300951603057, 1.0, -0.0, -0.0, 1.9362600275315276, -0.0, -0.0, 0.9182958340544896, -0.0, 0.9798687566511528, 0.7219280948873623, -0.0, 1.823067982273661, 1.1785594639469632, -0.0, 1.5304930567574826, 1.4152689500270954, 1.3787834934861758, -0.0, -0.0, -0.0, 1.0, 0.5032583347756459, 0.9182958340544896, -0.0, -0.0, 0.9182958340544896, -0.0, 0.9182958340544896, -0.0, -0.0], \"type\": \"histogram\", \"uid\": \"25176f0b-41dd-4b31-97a5-d37421061628\"}], {\"title\": {\"text\": \"Entropies per user, in bits (histogram), for users with frequency=0.25\"}}, {\"showLink\": false, \"linkText\": \"Export to plot.ly\", \"plotlyServerURL\": \"https://plot.ly\"})});</script><script type=\"text/javascript\">window.addEventListener(\"resize\", function(){window._Plotly.Plots.resize(document.getElementById(\"bc760edb-153f-4b1d-8994-ab0c710fa8e8\"));});</script>"
      ],
      "text/vnd.plotly.v1+html": [
       "<div id=\"bc760edb-153f-4b1d-8994-ab0c710fa8e8\" style=\"height: 525px; width: 100%;\" class=\"plotly-graph-div\"></div><script type=\"text/javascript\">require([\"plotly\"], function(Plotly) { window.PLOTLYENV=window.PLOTLYENV || {};window.PLOTLYENV.BASE_URL=\"https://plot.ly\";Plotly.newPlot(\"bc760edb-153f-4b1d-8994-ab0c710fa8e8\", [{\"x\": [-0.0, -0.0, -0.0, 0.8112781244591328, 1.4146495312777696, 0.13469174315499088, 0.36663735213966375, 0.5464906429312275, 0.26172727549103136, 0.41381685030363374, -0.0, 1.0, -0.0, -0.0, 0.9133533657970414, 0.17203694935311378, -0.0, 0.48524774462839027, 1.2442130400563693, 0.14609425012013633, 0.22228483068568797, 0.0537701586092738, 0.1117796081762559, 0.862590402901891, 0.10215803640865039, -0.0, 0.08970338978684995, 0.8888857761841273, -0.0, -0.0, 0.9182958340544896, -0.0, -0.0, 1.0408520829727552, -0.0, -0.0, -0.0, 0.7024665512903903, -0.0, 0.24096783080307266, 0.10802319526362832, 0.3776463213737003, -0.0, 1.1358885792578717, -0.0, 1.0, -0.0, 0.5665095065529053, -0.0, 0.39360991596962236, -0.0, 1.07273728622321, 0.228538143953528, 0.9921128738610934, 0.2863969571159562, -0.0, 1.556656707462823, 0.15556286259996746, -0.0, -0.0, -0.0, -0.0, 0.5746356978376794, 0.17517084639430738, -0.0, 0.07949044238393407, 0.7244709806926936, 0.648289992467951, -0.0, 0.4689955935892812, 1.2406705316766886, -0.0, -0.0, 1.0, -0.0, 0.6143694458867569, 1.2326602568158207, -0.0, -0.0, 1.0408520829727552, -0.0, -0.0, -0.0, -0.0, 0.22737828122730647, 0.39124356362925566, 1.6854752972273346, 1.468090781663233, 0.5916727785823274, 1.2987949406953985, -0.0, 0.5746356978376794, 0.2394711804443585, 0.39124356362925566, -0.0, -0.0, 0.3712323266408757, 1.5219280948873624, -0.0, -0.0, -0.0, -0.0, -0.0, -0.0, 0.725375928405144, 0.8112781244591328, 1.1488348542809166, 0.39124356362925566, -0.0, 0.9182958340544896, 1.1254908068679137, 0.25387844029816153, 0.3825426691977456, 0.9698024945677541, -0.0, -0.0, 0.17203694935311378, 0.5435644431995964, -0.0, 0.345117314944953, 0.2932655271911232, 0.5916727785823274, -0.0, 0.5916727785823274, 1.6185687757248763, -0.0, 0.5907239186406503, 0.6402064333604702, 0.24729443986205674, 1.2987949406953985, -0.0, -0.0, 0.4104161417181889, -0.0, 0.9994730201859838, 0.6143694458867569, 0.4394969869215134, -0.0, -0.0, 0.18717625687320816, -0.0, 0.7219280948873623, -0.0, 0.5435644431995964, 0.14609425012013633, -0.0, -0.0, 0.5254506799086206, 0.976300951603057, 1.0, -0.0, -0.0, 1.9362600275315276, -0.0, -0.0, 0.9182958340544896, -0.0, 0.9798687566511528, 0.7219280948873623, -0.0, 1.823067982273661, 1.1785594639469632, -0.0, 1.5304930567574826, 1.4152689500270954, 1.3787834934861758, -0.0, -0.0, -0.0, 1.0, 0.5032583347756459, 0.9182958340544896, -0.0, -0.0, 0.9182958340544896, -0.0, 0.9182958340544896, -0.0, -0.0], \"type\": \"histogram\", \"uid\": \"25176f0b-41dd-4b31-97a5-d37421061628\"}], {\"title\": {\"text\": \"Entropies per user, in bits (histogram), for users with frequency=0.25\"}}, {\"showLink\": false, \"linkText\": \"Export to plot.ly\", \"plotlyServerURL\": \"https://plot.ly\"})});</script><script type=\"text/javascript\">window.addEventListener(\"resize\", function(){window._Plotly.Plots.resize(document.getElementById(\"bc760edb-153f-4b1d-8994-ab0c710fa8e8\"));});</script>"
      ]
     },
     "metadata": {},
     "output_type": "display_data"
    }
   ],
   "source": [
    "entropies = get_entropies_for_user_list(frequency_of_choose_difficulty_to_users['0.25'])\n",
    "print('mean entropy per user', np.mean(entropies))\n",
    "print('median entropy per user', np.median(entropies))\n",
    "plothist(entropies, 'Entropies per user, in bits (histogram), for users with frequency=0.25')"
   ]
  },
  {
   "cell_type": "code",
   "execution_count": 189,
   "metadata": {},
   "outputs": [
    {
     "data": {
      "text/plain": [
       "<Arrow [2018-12-11T20:15:05.512000+00:00]>"
      ]
     },
     "execution_count": 189,
     "metadata": {},
     "output_type": "execute_result"
    }
   ],
   "source": [
    "#import moment\n",
    "#moment.unix(1544559305512.0)\n",
    "#import arrow\n",
    "#arrow.get(1544559305512.0 / 1000)"
   ]
  },
  {
   "cell_type": "code",
   "execution_count": null,
   "metadata": {},
   "outputs": [],
   "source": []
  },
  {
   "cell_type": "code",
   "execution_count": 228,
   "metadata": {},
   "outputs": [],
   "source": [
    "def get_daynum_to_difficulty_choices(user):\n",
    "  difficulty_choices = get_choose_difficulty_items_for_user(user)\n",
    "  first_timestamp = None\n",
    "  output = {}\n",
    "  for item in difficulty_choices:\n",
    "    if 'type' not in item:\n",
    "      continue\n",
    "    if item['type'] != 'action':\n",
    "      continue\n",
    "    if 'difficulty' not in item:\n",
    "      continue\n",
    "    difficulty = item['difficulty']\n",
    "    timestamp = item['timestamp_local']\n",
    "    if first_timestamp == None or timestamp < first_timestamp:\n",
    "      first_timestamp = timestamp\n",
    "  for item in difficulty_choices:\n",
    "    if 'type' not in item:\n",
    "      continue\n",
    "    if item['type'] != 'action':\n",
    "      continue\n",
    "    if 'difficulty' not in item:\n",
    "      continue\n",
    "    difficulty = item['difficulty']\n",
    "    timestamp = item['timestamp_local']\n",
    "    daynum = (timestamp - first_timestamp) / (1000 * 3600 * 24)\n",
    "    daynum = int(math.floor(daynum))\n",
    "    if daynum not in output:\n",
    "      output[daynum] = {}\n",
    "    if difficulty not in output[daynum]:\n",
    "      output[daynum][difficulty] = 0\n",
    "    output[daynum][difficulty] += 1\n",
    "  return output\n",
    "\n",
    "def get_user_to_daynum_to_difficulty_choices():\n",
    "  output = {}\n",
    "  for user in user_list:\n",
    "    difficulty_counts = get_choose_difficulty_counts_for_user(user)\n",
    "    if len(difficulty_counts.keys()) == 0:\n",
    "      continue\n",
    "    daynum_to_difficulty_choices = get_daynum_to_difficulty_choices(user)\n",
    "    if len(daynum_to_difficulty_choices.keys()) == 0:\n",
    "      continue\n",
    "    output[user] = daynum_to_difficulty_choices\n",
    "  return output\n",
    "\n",
    "def get_daynum_to_difficulty_choices_over_n_days(num_days):\n",
    "  user_to_daynum_to_difficulty_choices = get_user_to_daynum_to_difficulty_choices()\n",
    "  output = []\n",
    "  for daynum in range(num_days):\n",
    "    item = {}\n",
    "    for x in 'nothing easy medium hard'.split(' '):\n",
    "      item[x] = 0\n",
    "    output.append(item)\n",
    "  for user,daynum_to_difficulty_choices in user_to_daynum_to_difficulty_choices.items():\n",
    "    has_data = True\n",
    "    for daynum in range(num_days):\n",
    "      if not daynum in daynum_to_difficulty_choices:\n",
    "        has_data = False\n",
    "        break\n",
    "    if not has_data:\n",
    "      continue\n",
    "    for daynum in range(num_days):\n",
    "      for difficulty,num_chosen in to_percent_dict(daynum_to_difficulty_choices[daynum]).items():\n",
    "        output[daynum][difficulty] += num_chosen\n",
    "      output[daynum] = to_percent_dict(output[daynum])\n",
    "  return output\n",
    "\n",
    "def list_of_dictionaries_to_dictionary_with_list_values(dlist):\n",
    "  output = {}\n",
    "  keys = dlist[0].keys()\n",
    "  for k in keys:\n",
    "    output[k] = []\n",
    "  for d in dlist:\n",
    "    for k,v in d.items():\n",
    "      output[k].append(v)\n",
    "  return output\n",
    "\n",
    "def plotline(values, title=''):\n",
    "  trace = go.Scatter(\n",
    "    x = list(range(len(values))),\n",
    "    y=values,\n",
    "  )\n",
    "  data = [trace]\n",
    "  layout = go.Layout(title=title)\n",
    "  fig = go.Figure(data=data, layout=layout)\n",
    "  iplot(fig)\n",
    "\n",
    "def plotlines(dict_to_values, title=''):\n",
    "  data = []\n",
    "  for label,values in dict_to_values.items():\n",
    "    trace = go.Scatter(\n",
    "      x = list(range(len(values))),\n",
    "      y=values,\n",
    "      name=label,\n",
    "    )\n",
    "    data.append(trace)\n",
    "  layout = go.Layout(title=title)\n",
    "  fig = go.Figure(data=data, layout=layout)\n",
    "  iplot(fig)\n",
    "\n",
    "#plotline([3,5,2])\n",
    "#plotlines({'a': [3,5,2], 'b': [7,7,7]})"
   ]
  },
  {
   "cell_type": "code",
   "execution_count": null,
   "metadata": {},
   "outputs": [],
   "source": []
  },
  {
   "cell_type": "code",
   "execution_count": 229,
   "metadata": {},
   "outputs": [
    {
     "data": {
      "application/vnd.plotly.v1+json": {
       "config": {
        "linkText": "Export to plot.ly",
        "plotlyServerURL": "https://plot.ly",
        "showLink": false
       },
       "data": [
        {
         "name": "nothing",
         "type": "scatter",
         "uid": "7746707c-8e52-4f57-86bf-90fe96a2d892",
         "x": [
          0,
          1,
          2,
          3,
          4,
          5,
          6,
          7,
          8,
          9
         ],
         "y": [
          0.06966069178575907,
          0.14741697361499181,
          0.26957358622894717,
          0.4155141546834333,
          0.42099744406040446,
          0.3493734471332724,
          0.4170291735292295,
          0.4209968677931093,
          0.4209103380146069,
          0.42099919077719017
         ]
        },
        {
         "name": "easy",
         "type": "scatter",
         "uid": "35b9e278-e6bf-4527-a361-a7928091f85e",
         "x": [
          0,
          1,
          2,
          3,
          4,
          5,
          6,
          7,
          8,
          9
         ],
         "y": [
          0.11129877858568357,
          0.038495816560046525,
          0.018300382150805768,
          0.026062258042552255,
          0.01589199156157214,
          0.1195787530353997,
          0.01986028358948261,
          0.03672608761879613,
          0.015979242953682287,
          0.015890457158857833
         ]
        },
        {
         "name": "medium",
         "type": "scatter",
         "uid": "71fa6441-eb1a-4f49-8931-1dbaed2f2999",
         "x": [
          0,
          1,
          2,
          3,
          4,
          5,
          6,
          7,
          8,
          9
         ],
         "y": [
          0.7766643974093412,
          0.8131104314558444,
          0.682880218595305,
          0.5581631506226892,
          0.5631104053223279,
          0.5308524342329771,
          0.5561660983203996,
          0.542277018724609,
          0.5631104189658824,
          0.5631103520372586
         ]
        },
        {
         "name": "hard",
         "type": "scatter",
         "uid": "51c8a221-c504-4aa9-8947-6628794fb861",
         "x": [
          0,
          1,
          2,
          3,
          4,
          5,
          6,
          7,
          8,
          9
         ],
         "y": [
          0.042376132219216156,
          0.0009767783691173972,
          0.02924581302494208,
          0.0002604366513253485,
          1.5905569562669884e-07,
          0.00019536559835092306,
          0.006944444560888195,
          2.5863485595387238e-08,
          6.582838622030664e-11,
          2.669343264945686e-11
         ]
        }
       ],
       "layout": {
        "title": {
         "text": "Difficulty chosen over first 10 days of install"
        }
       }
      },
      "text/html": [
       "<div id=\"db767a41-73b0-4a0a-8419-bf2acf36bec5\" style=\"height: 525px; width: 100%;\" class=\"plotly-graph-div\"></div><script type=\"text/javascript\">require([\"plotly\"], function(Plotly) { window.PLOTLYENV=window.PLOTLYENV || {};window.PLOTLYENV.BASE_URL=\"https://plot.ly\";Plotly.newPlot(\"db767a41-73b0-4a0a-8419-bf2acf36bec5\", [{\"name\": \"nothing\", \"x\": [0, 1, 2, 3, 4, 5, 6, 7, 8, 9], \"y\": [0.06966069178575907, 0.14741697361499181, 0.26957358622894717, 0.4155141546834333, 0.42099744406040446, 0.3493734471332724, 0.4170291735292295, 0.4209968677931093, 0.4209103380146069, 0.42099919077719017], \"type\": \"scatter\", \"uid\": \"7746707c-8e52-4f57-86bf-90fe96a2d892\"}, {\"name\": \"easy\", \"x\": [0, 1, 2, 3, 4, 5, 6, 7, 8, 9], \"y\": [0.11129877858568357, 0.038495816560046525, 0.018300382150805768, 0.026062258042552255, 0.01589199156157214, 0.1195787530353997, 0.01986028358948261, 0.03672608761879613, 0.015979242953682287, 0.015890457158857833], \"type\": \"scatter\", \"uid\": \"35b9e278-e6bf-4527-a361-a7928091f85e\"}, {\"name\": \"medium\", \"x\": [0, 1, 2, 3, 4, 5, 6, 7, 8, 9], \"y\": [0.7766643974093412, 0.8131104314558444, 0.682880218595305, 0.5581631506226892, 0.5631104053223279, 0.5308524342329771, 0.5561660983203996, 0.542277018724609, 0.5631104189658824, 0.5631103520372586], \"type\": \"scatter\", \"uid\": \"71fa6441-eb1a-4f49-8931-1dbaed2f2999\"}, {\"name\": \"hard\", \"x\": [0, 1, 2, 3, 4, 5, 6, 7, 8, 9], \"y\": [0.042376132219216156, 0.0009767783691173972, 0.02924581302494208, 0.0002604366513253485, 1.5905569562669884e-07, 0.00019536559835092306, 0.006944444560888195, 2.5863485595387238e-08, 6.582838622030664e-11, 2.669343264945686e-11], \"type\": \"scatter\", \"uid\": \"51c8a221-c504-4aa9-8947-6628794fb861\"}], {\"title\": {\"text\": \"Difficulty chosen over first 10 days of install\"}}, {\"showLink\": false, \"linkText\": \"Export to plot.ly\", \"plotlyServerURL\": \"https://plot.ly\"})});</script><script type=\"text/javascript\">window.addEventListener(\"resize\", function(){window._Plotly.Plots.resize(document.getElementById(\"db767a41-73b0-4a0a-8419-bf2acf36bec5\"));});</script>"
      ],
      "text/vnd.plotly.v1+html": [
       "<div id=\"db767a41-73b0-4a0a-8419-bf2acf36bec5\" style=\"height: 525px; width: 100%;\" class=\"plotly-graph-div\"></div><script type=\"text/javascript\">require([\"plotly\"], function(Plotly) { window.PLOTLYENV=window.PLOTLYENV || {};window.PLOTLYENV.BASE_URL=\"https://plot.ly\";Plotly.newPlot(\"db767a41-73b0-4a0a-8419-bf2acf36bec5\", [{\"name\": \"nothing\", \"x\": [0, 1, 2, 3, 4, 5, 6, 7, 8, 9], \"y\": [0.06966069178575907, 0.14741697361499181, 0.26957358622894717, 0.4155141546834333, 0.42099744406040446, 0.3493734471332724, 0.4170291735292295, 0.4209968677931093, 0.4209103380146069, 0.42099919077719017], \"type\": \"scatter\", \"uid\": \"7746707c-8e52-4f57-86bf-90fe96a2d892\"}, {\"name\": \"easy\", \"x\": [0, 1, 2, 3, 4, 5, 6, 7, 8, 9], \"y\": [0.11129877858568357, 0.038495816560046525, 0.018300382150805768, 0.026062258042552255, 0.01589199156157214, 0.1195787530353997, 0.01986028358948261, 0.03672608761879613, 0.015979242953682287, 0.015890457158857833], \"type\": \"scatter\", \"uid\": \"35b9e278-e6bf-4527-a361-a7928091f85e\"}, {\"name\": \"medium\", \"x\": [0, 1, 2, 3, 4, 5, 6, 7, 8, 9], \"y\": [0.7766643974093412, 0.8131104314558444, 0.682880218595305, 0.5581631506226892, 0.5631104053223279, 0.5308524342329771, 0.5561660983203996, 0.542277018724609, 0.5631104189658824, 0.5631103520372586], \"type\": \"scatter\", \"uid\": \"71fa6441-eb1a-4f49-8931-1dbaed2f2999\"}, {\"name\": \"hard\", \"x\": [0, 1, 2, 3, 4, 5, 6, 7, 8, 9], \"y\": [0.042376132219216156, 0.0009767783691173972, 0.02924581302494208, 0.0002604366513253485, 1.5905569562669884e-07, 0.00019536559835092306, 0.006944444560888195, 2.5863485595387238e-08, 6.582838622030664e-11, 2.669343264945686e-11], \"type\": \"scatter\", \"uid\": \"51c8a221-c504-4aa9-8947-6628794fb861\"}], {\"title\": {\"text\": \"Difficulty chosen over first 10 days of install\"}}, {\"showLink\": false, \"linkText\": \"Export to plot.ly\", \"plotlyServerURL\": \"https://plot.ly\"})});</script><script type=\"text/javascript\">window.addEventListener(\"resize\", function(){window._Plotly.Plots.resize(document.getElementById(\"db767a41-73b0-4a0a-8419-bf2acf36bec5\"));});</script>"
      ]
     },
     "metadata": {},
     "output_type": "display_data"
    }
   ],
   "source": [
    "plotlines(list_of_dictionaries_to_dictionary_with_list_values(get_daynum_to_difficulty_choices_over_n_days(10)), 'Difficulty chosen over first 10 days of install')"
   ]
  },
  {
   "cell_type": "code",
   "execution_count": 230,
   "metadata": {},
   "outputs": [
    {
     "data": {
      "application/vnd.plotly.v1+json": {
       "config": {
        "linkText": "Export to plot.ly",
        "plotlyServerURL": "https://plot.ly",
        "showLink": false
       },
       "data": [
        {
         "type": "scatter",
         "uid": "462733a1-ce14-475d-a379-aa9e2bea7897",
         "x": [
          0,
          1,
          2,
          3,
          4,
          5,
          6,
          7,
          8,
          9
         ],
         "y": [
          1.0967406277811227,
          0.8405292880481627,
          1.140271921019095,
          1.1362567446187815,
          1.0869637513116688,
          1.3838432492318415,
          1.1590253936187938,
          1.179305132555416,
          1.087372242537634,
          1.086952897647892
         ]
        }
       ],
       "layout": {
        "title": {
         "text": "Entropy of difficulty choice selections over first 10 days of install"
        }
       }
      },
      "text/html": [
       "<div id=\"ec566d50-cba7-46a9-8e6d-fd26b5ad25b3\" style=\"height: 525px; width: 100%;\" class=\"plotly-graph-div\"></div><script type=\"text/javascript\">require([\"plotly\"], function(Plotly) { window.PLOTLYENV=window.PLOTLYENV || {};window.PLOTLYENV.BASE_URL=\"https://plot.ly\";Plotly.newPlot(\"ec566d50-cba7-46a9-8e6d-fd26b5ad25b3\", [{\"x\": [0, 1, 2, 3, 4, 5, 6, 7, 8, 9], \"y\": [1.0967406277811227, 0.8405292880481627, 1.140271921019095, 1.1362567446187815, 1.0869637513116688, 1.3838432492318415, 1.1590253936187938, 1.179305132555416, 1.087372242537634, 1.086952897647892], \"type\": \"scatter\", \"uid\": \"462733a1-ce14-475d-a379-aa9e2bea7897\"}], {\"title\": {\"text\": \"Entropy of difficulty choice selections over first 10 days of install\"}}, {\"showLink\": false, \"linkText\": \"Export to plot.ly\", \"plotlyServerURL\": \"https://plot.ly\"})});</script><script type=\"text/javascript\">window.addEventListener(\"resize\", function(){window._Plotly.Plots.resize(document.getElementById(\"ec566d50-cba7-46a9-8e6d-fd26b5ad25b3\"));});</script>"
      ],
      "text/vnd.plotly.v1+html": [
       "<div id=\"ec566d50-cba7-46a9-8e6d-fd26b5ad25b3\" style=\"height: 525px; width: 100%;\" class=\"plotly-graph-div\"></div><script type=\"text/javascript\">require([\"plotly\"], function(Plotly) { window.PLOTLYENV=window.PLOTLYENV || {};window.PLOTLYENV.BASE_URL=\"https://plot.ly\";Plotly.newPlot(\"ec566d50-cba7-46a9-8e6d-fd26b5ad25b3\", [{\"x\": [0, 1, 2, 3, 4, 5, 6, 7, 8, 9], \"y\": [1.0967406277811227, 0.8405292880481627, 1.140271921019095, 1.1362567446187815, 1.0869637513116688, 1.3838432492318415, 1.1590253936187938, 1.179305132555416, 1.087372242537634, 1.086952897647892], \"type\": \"scatter\", \"uid\": \"462733a1-ce14-475d-a379-aa9e2bea7897\"}], {\"title\": {\"text\": \"Entropy of difficulty choice selections over first 10 days of install\"}}, {\"showLink\": false, \"linkText\": \"Export to plot.ly\", \"plotlyServerURL\": \"https://plot.ly\"})});</script><script type=\"text/javascript\">window.addEventListener(\"resize\", function(){window._Plotly.Plots.resize(document.getElementById(\"ec566d50-cba7-46a9-8e6d-fd26b5ad25b3\"));});</script>"
      ]
     },
     "metadata": {},
     "output_type": "display_data"
    }
   ],
   "source": [
    "def compute_entropy_over_n_days(num_days):\n",
    "  daynum_to_difficulty_choices = get_daynum_to_difficulty_choices_over_n_days(num_days)\n",
    "  output = []\n",
    "  for daynum in range(num_days):\n",
    "    difficulty_choices = daynum_to_difficulty_choices[daynum]\n",
    "    entropy_for_day = compute_entropy_for_difficulty_selections(difficulty_choices)\n",
    "    output.append(entropy_for_day)\n",
    "  return output\n",
    "\n",
    "#print(compute_entropy_over_n_days(10))\n",
    "plotline(compute_entropy_over_n_days(10), 'Entropy of difficulty choice selections over first 10 days of install')"
   ]
  },
  {
   "cell_type": "code",
   "execution_count": 231,
   "metadata": {},
   "outputs": [
    {
     "data": {
      "application/vnd.plotly.v1+json": {
       "config": {
        "linkText": "Export to plot.ly",
        "plotlyServerURL": "https://plot.ly",
        "showLink": false
       },
       "data": [
        {
         "type": "scatter",
         "uid": "67307ff0-0acf-4c45-9811-d2a8d10b86d1",
         "x": [
          0,
          1,
          2,
          3,
          4
         ],
         "y": [
          1.7212893130448341,
          1.4163183093620773,
          1.547341739395818,
          1.7605364508256407,
          1.2381030199570178
         ]
        }
       ],
       "layout": {
        "title": {
         "text": "Entropy of difficulty choice selections over first 5 days of install"
        }
       }
      },
      "text/html": [
       "<div id=\"47184da3-771b-4553-9187-1be293c927ed\" style=\"height: 525px; width: 100%;\" class=\"plotly-graph-div\"></div><script type=\"text/javascript\">require([\"plotly\"], function(Plotly) { window.PLOTLYENV=window.PLOTLYENV || {};window.PLOTLYENV.BASE_URL=\"https://plot.ly\";Plotly.newPlot(\"47184da3-771b-4553-9187-1be293c927ed\", [{\"x\": [0, 1, 2, 3, 4], \"y\": [1.7212893130448341, 1.4163183093620773, 1.547341739395818, 1.7605364508256407, 1.2381030199570178], \"type\": \"scatter\", \"uid\": \"67307ff0-0acf-4c45-9811-d2a8d10b86d1\"}], {\"title\": {\"text\": \"Entropy of difficulty choice selections over first 5 days of install\"}}, {\"showLink\": false, \"linkText\": \"Export to plot.ly\", \"plotlyServerURL\": \"https://plot.ly\"})});</script><script type=\"text/javascript\">window.addEventListener(\"resize\", function(){window._Plotly.Plots.resize(document.getElementById(\"47184da3-771b-4553-9187-1be293c927ed\"));});</script>"
      ],
      "text/vnd.plotly.v1+html": [
       "<div id=\"47184da3-771b-4553-9187-1be293c927ed\" style=\"height: 525px; width: 100%;\" class=\"plotly-graph-div\"></div><script type=\"text/javascript\">require([\"plotly\"], function(Plotly) { window.PLOTLYENV=window.PLOTLYENV || {};window.PLOTLYENV.BASE_URL=\"https://plot.ly\";Plotly.newPlot(\"47184da3-771b-4553-9187-1be293c927ed\", [{\"x\": [0, 1, 2, 3, 4], \"y\": [1.7212893130448341, 1.4163183093620773, 1.547341739395818, 1.7605364508256407, 1.2381030199570178], \"type\": \"scatter\", \"uid\": \"67307ff0-0acf-4c45-9811-d2a8d10b86d1\"}], {\"title\": {\"text\": \"Entropy of difficulty choice selections over first 5 days of install\"}}, {\"showLink\": false, \"linkText\": \"Export to plot.ly\", \"plotlyServerURL\": \"https://plot.ly\"})});</script><script type=\"text/javascript\">window.addEventListener(\"resize\", function(){window._Plotly.Plots.resize(document.getElementById(\"47184da3-771b-4553-9187-1be293c927ed\"));});</script>"
      ]
     },
     "metadata": {},
     "output_type": "display_data"
    }
   ],
   "source": [
    "plotline(compute_entropy_over_n_days(5), 'Entropy of difficulty choice selections over first 5 days of install')"
   ]
  },
  {
   "cell_type": "code",
   "execution_count": 203,
   "metadata": {},
   "outputs": [
    {
     "name": "stdout",
     "output_type": "stream",
     "text": [
      "612\n"
     ]
    }
   ],
   "source": [
    "user_to_daynum_to_difficulty_choices = get_user_to_daynum_to_difficulty_choices()\n",
    "print(len(user_to_daynum_to_difficulty_choices.keys()))"
   ]
  },
  {
   "cell_type": "code",
   "execution_count": 69,
   "metadata": {},
   "outputs": [
    {
     "name": "stdout",
     "output_type": "stream",
     "text": [
      "Counter({'nothing': 296, 'easy': 209, 'medium': 91, 'hard': 78})\n"
     ]
    }
   ],
   "source": [
    "print(get_choose_difficulty_counts_for_user_list(difficulty_interface_to_users['time_afford']))"
   ]
  },
  {
   "cell_type": "code",
   "execution_count": 28,
   "metadata": {},
   "outputs": [
    {
     "name": "stdout",
     "output_type": "stream",
     "text": [
      "Counter({'nothing': 589, 'easy': 435, 'medium': 332, 'hard': 24})\n"
     ]
    }
   ],
   "source": [
    "print(get_choose_difficulty_counts_for_user_list(difficulty_interface_to_users['this_intervention']))"
   ]
  },
  {
   "cell_type": "code",
   "execution_count": 29,
   "metadata": {},
   "outputs": [
    {
     "name": "stdout",
     "output_type": "stream",
     "text": [
      "Counter({'medium': 399, 'nothing': 376, 'hard': 132, 'easy': 90})\n"
     ]
    }
   ],
   "source": [
    "print(get_choose_difficulty_counts_for_user_list(difficulty_interface_to_users['settings_update']))"
   ]
  },
  {
   "cell_type": "code",
   "execution_count": null,
   "metadata": {},
   "outputs": [],
   "source": []
  },
  {
   "cell_type": "code",
   "execution_count": 30,
   "metadata": {},
   "outputs": [],
   "source": [
    "frequency_of_choose_difficulty_to_users = get_abtest_condition_to_user_list('frequency_of_choose_difficulty')"
   ]
  },
  {
   "cell_type": "code",
   "execution_count": 31,
   "metadata": {},
   "outputs": [
    {
     "data": {
      "text/plain": [
       "dict_keys(['1.0', '0.0', '0.5', '0.25'])"
      ]
     },
     "execution_count": 31,
     "metadata": {},
     "output_type": "execute_result"
    }
   ],
   "source": [
    "frequency_of_choose_difficulty_to_users.keys()"
   ]
  },
  {
   "cell_type": "code",
   "execution_count": 32,
   "metadata": {},
   "outputs": [
    {
     "name": "stdout",
     "output_type": "stream",
     "text": [
      "Counter({'nothing': 14006, 'easy': 4294, 'medium': 1154, 'hard': 609})\n"
     ]
    }
   ],
   "source": [
    "print(get_choose_difficulty_counts_for_user_list(frequency_of_choose_difficulty_to_users['1.0']))"
   ]
  },
  {
   "cell_type": "code",
   "execution_count": 33,
   "metadata": {},
   "outputs": [
    {
     "name": "stdout",
     "output_type": "stream",
     "text": [
      "Counter({'nothing': 4306, 'easy': 2512, 'medium': 1433, 'hard': 823})\n"
     ]
    }
   ],
   "source": [
    "print(get_choose_difficulty_counts_for_user_list(frequency_of_choose_difficulty_to_users['0.5']))"
   ]
  },
  {
   "cell_type": "code",
   "execution_count": 34,
   "metadata": {},
   "outputs": [
    {
     "name": "stdout",
     "output_type": "stream",
     "text": [
      "Counter({'nothing': 3402, 'easy': 1279, 'medium': 987, 'hard': 310})\n"
     ]
    }
   ],
   "source": [
    "print(get_choose_difficulty_counts_for_user_list(frequency_of_choose_difficulty_to_users['0.25']))"
   ]
  },
  {
   "cell_type": "code",
   "execution_count": 35,
   "metadata": {},
   "outputs": [],
   "source": [
    "#print(get_choose_difficulty_counts_for_user_list(frequency_of_choose_difficulty_to_users['0.0']))"
   ]
  },
  {
   "cell_type": "code",
   "execution_count": 36,
   "metadata": {},
   "outputs": [],
   "source": [
    "#print('foobar')"
   ]
  },
  {
   "cell_type": "code",
   "execution_count": 37,
   "metadata": {},
   "outputs": [],
   "source": [
    "#def get_lifetime_and_whether_attritioned(user):\n",
    "  "
   ]
  },
  {
   "cell_type": "code",
   "execution_count": 38,
   "metadata": {},
   "outputs": [],
   "source": [
    "#choose_difficulty_set = set()\n",
    "#for x in collection_names:\n",
    "#  if 'difficulty' in x:\n",
    "#    choose_difficulty_set.add(x)"
   ]
  },
  {
   "cell_type": "code",
   "execution_count": 39,
   "metadata": {},
   "outputs": [],
   "source": [
    "#print(choose_difficulty_set)\n",
    "#for x in choose_difficulty_set:\n",
    "  "
   ]
  }
 ],
 "metadata": {
  "kernelspec": {
   "display_name": "Python 3",
   "language": "python",
   "name": "python3"
  },
  "language_info": {
   "codemirror_mode": {
    "name": "ipython",
    "version": 3
   },
   "file_extension": ".py",
   "mimetype": "text/x-python",
   "name": "python",
   "nbconvert_exporter": "python",
   "pygments_lexer": "ipython3",
   "version": "3.6.5"
  }
 },
 "nbformat": 4,
 "nbformat_minor": 2
}
