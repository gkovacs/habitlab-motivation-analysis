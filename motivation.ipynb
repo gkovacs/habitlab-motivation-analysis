{
 "cells": [
  {
   "cell_type": "code",
   "execution_count": 79,
   "metadata": {
    "scrolled": true
   },
   "outputs": [],
   "source": [
    "from browser_libs import get_collection_items, get_collection_names, get_collection_for_user\n",
    "from memoize import memoize # pip install memoize2\n",
    "from collections import Counter"
   ]
  },
  {
   "cell_type": "code",
   "execution_count": 80,
   "metadata": {},
   "outputs": [],
   "source": [
    "@memoize\n",
    "def get_users_with_choose_difficulty():\n",
    "  collection_names = get_collection_names()\n",
    "  output = []\n",
    "  for x in collection_names:\n",
    "    if x.endswith('_internal:choose_difficulty'):\n",
    "      user = x.replace('_internal:choose_difficulty', '')\n",
    "      output.append(user)\n",
    "  return output\n"
   ]
  },
  {
   "cell_type": "code",
   "execution_count": 81,
   "metadata": {},
   "outputs": [],
   "source": [
    "def get_choose_difficulty_items_for_user(user):\n",
    "  collection_items = get_collection_for_user(user, 'internal:choose_difficulty')\n",
    "  output = []\n",
    "  for x in collection_items:\n",
    "    if 'is_new_session' not in x:\n",
    "      continue\n",
    "    if x['is_new_session'] != True:\n",
    "      continue\n",
    "    if ('developer_mode' in x) and (x['developer_mode'] == True):\n",
    "      continue\n",
    "    if ('is_preview_mode' in x) and (x['is_preview_mode'] == True):\n",
    "      continue\n",
    "    if ('is_suggestion_mode' in x) and (x['is_suggestion_mode'] == True):\n",
    "      continue\n",
    "    output.append(x)\n",
    "  return output"
   ]
  },
  {
   "cell_type": "code",
   "execution_count": 82,
   "metadata": {},
   "outputs": [],
   "source": [
    "def get_choose_difficulty_counts_for_user(user):\n",
    "  collection_items = get_choose_difficulty_items_for_user(user)\n",
    "  output = {}\n",
    "  for x in collection_items:\n",
    "    if 'type' not in x:\n",
    "      continue\n",
    "    if x['type'] != 'action':\n",
    "      continue\n",
    "    if 'difficulty' not in x:\n",
    "      continue\n",
    "    difficulty = x['difficulty']\n",
    "    if difficulty not in output:\n",
    "      output[difficulty] = 1\n",
    "    else:\n",
    "      output[difficulty] += 1\n",
    "  return output"
   ]
  },
  {
   "cell_type": "code",
   "execution_count": 83,
   "metadata": {},
   "outputs": [],
   "source": [
    "def get_choose_difficulty_counts_for_all_users():\n",
    "  output = Counter()\n",
    "  for user in get_users_with_choose_difficulty():\n",
    "    difficulty_counts = get_choose_difficulty_counts_for_user(user)\n",
    "    for difficulty,count in difficulty_counts.items():\n",
    "      output[difficulty] += count\n",
    "  return output"
   ]
  },
  {
   "cell_type": "code",
   "execution_count": 84,
   "metadata": {},
   "outputs": [],
   "source": [
    "def get_total_counts_for_user(user):\n",
    "  difficulty_counts = get_choose_difficulty_counts_for_user(user)\n",
    "  return sum(difficulty_counts.values())"
   ]
  },
  {
   "cell_type": "code",
   "execution_count": 85,
   "metadata": {},
   "outputs": [],
   "source": [
    "def num_types_tried(user):\n",
    "  difficulty_counts = get_choose_difficulty_counts_for_user(user)\n",
    "  return len(difficulty_counts.keys())"
   ]
  },
  {
   "cell_type": "code",
   "execution_count": 86,
   "metadata": {},
   "outputs": [],
   "source": [
    "def did_user_try_multiple(user):\n",
    "  return num_types_tried(user) > 1"
   ]
  },
  {
   "cell_type": "code",
   "execution_count": 87,
   "metadata": {},
   "outputs": [],
   "source": [
    "def get_try_multiple_counts_for_all_users():\n",
    "  output = {\n",
    "    'none_total': 0,\n",
    "    'one_total': 0,\n",
    "    'one_tried': 0,\n",
    "    'multiple_tried': 0,\n",
    "  }\n",
    "  for user in get_users_with_choose_difficulty():\n",
    "    total_counts = get_total_counts_for_user(user)\n",
    "    if total_counts == 0:\n",
    "      output['none_total'] += 1\n",
    "      continue\n",
    "    if total_counts == 1:\n",
    "      output['one_total'] += 1\n",
    "      continue\n",
    "    if did_user_try_multiple(user):\n",
    "      output['multiple_tried'] += 1\n",
    "    else:\n",
    "      output['one_tried'] += 1\n",
    "  return output"
   ]
  },
  {
   "cell_type": "code",
   "execution_count": 88,
   "metadata": {},
   "outputs": [],
   "source": [
    "def get_breakdown_for_one_tried():\n",
    "  output = Counter()\n",
    "  for user in get_users_with_choose_difficulty():\n",
    "    total_counts = get_total_counts_for_user(user)\n",
    "    if total_counts <= 1:\n",
    "      continue\n",
    "    if did_user_try_multiple(user):\n",
    "      continue\n",
    "    difficulty_counts = get_choose_difficulty_counts_for_user(user)\n",
    "    chosen_difficulty = list(difficulty_counts.keys())[0]\n",
    "    output[chosen_difficulty] += difficulty_counts[chosen_difficulty]\n",
    "  return output"
   ]
  },
  {
   "cell_type": "code",
   "execution_count": 89,
   "metadata": {},
   "outputs": [
    {
     "name": "stdout",
     "output_type": "stream",
     "text": [
      "279\n"
     ]
    }
   ],
   "source": [
    "print(len(get_users_with_choose_difficulty()))"
   ]
  },
  {
   "cell_type": "code",
   "execution_count": 90,
   "metadata": {},
   "outputs": [
    {
     "name": "stdout",
     "output_type": "stream",
     "text": [
      "Counter({'nothing': 5837, 'easy': 1607, 'medium': 1239, 'hard': 460})\n"
     ]
    }
   ],
   "source": [
    "print(get_choose_difficulty_counts_for_all_users())"
   ]
  },
  {
   "cell_type": "code",
   "execution_count": 91,
   "metadata": {},
   "outputs": [
    {
     "name": "stdout",
     "output_type": "stream",
     "text": [
      "{'none_total': 11, 'one_total': 57, 'one_tried': 73, 'multiple_tried': 138}\n"
     ]
    }
   ],
   "source": [
    "print(get_try_multiple_counts_for_all_users())"
   ]
  },
  {
   "cell_type": "code",
   "execution_count": 92,
   "metadata": {},
   "outputs": [
    {
     "name": "stdout",
     "output_type": "stream",
     "text": [
      "Counter({'nothing': 601, 'easy': 280, 'medium': 238})\n"
     ]
    }
   ],
   "source": [
    "print(get_breakdown_for_one_tried())"
   ]
  },
  {
   "cell_type": "code",
   "execution_count": 93,
   "metadata": {},
   "outputs": [
    {
     "name": "stdout",
     "output_type": "stream",
     "text": [
      "{'medium': 1, 'hard': 1}\n"
     ]
    }
   ],
   "source": [
    "print(get_choose_difficulty_counts_for_user('f4d95006c663a799d9185576'))"
   ]
  },
  {
   "cell_type": "code",
   "execution_count": 94,
   "metadata": {},
   "outputs": [
    {
     "name": "stdout",
     "output_type": "stream",
     "text": [
      "{'_id': ObjectId('5c101ac9c6466e0014dba890'), 'url': 'https://www.youtube.com/', 'tab_id': 1456145845, 'session_id': 0, 'is_new_session': True, 'is_preview_mode': False, 'is_suggestion_mode': False, 'is_previously_seen': False, 'type': 'impression', 'intervention': 'internal/choose_difficulty', 'userid': 'f4d95006c663a799d9185576', 'install_id': '8132291a2f7334b45cfebbba', 'day': 1075, 'synced': 0, 'timestamp': 1544559305512.0, 'localtime': 'Tue Dec 11 2018 12:15:04 GMT-0800 (北美太平洋标准时间)', 'itemid': '2aa218b1ccde7f3e3782d08e', 'log_major_ver': '8', 'log_minor_ver': '1', 'habitlab_version': '1.0.257', 'unofficial_version': 'bleifeoekkfhicamkpadfoclfhfmmina', 'id': 1, 'logname': 'internal/choose_difficulty', 'timestamp_local': 1544559304784.0}\n",
      "{'_id': ObjectId('5c101acb7a96610014559a49'), 'difficulty': 'medium', 'intervention_name': 'youtube/remove_recommended', 'new_session': True, 'url': 'https://www.youtube.com/', 'tab_id': 1456145845, 'session_id': 0, 'is_new_session': True, 'is_preview_mode': False, 'is_suggestion_mode': False, 'is_previously_seen': False, 'type': 'action', 'intervention': 'internal/choose_difficulty', 'userid': 'f4d95006c663a799d9185576', 'install_id': '8132291a2f7334b45cfebbba', 'day': 1075, 'synced': 0, 'timestamp': 1544559307503.0, 'localtime': 'Tue Dec 11 2018 12:15:05 GMT-0800 (北美太平洋标准时间)', 'itemid': '4dd9ebc2ac58c027529f742e', 'log_major_ver': '8', 'log_minor_ver': '1', 'habitlab_version': '1.0.257', 'unofficial_version': 'bleifeoekkfhicamkpadfoclfhfmmina', 'id': 2, 'logname': 'internal/choose_difficulty', 'timestamp_local': 1544559305934.0}\n",
      "{'_id': ObjectId('5c101b467a9661001455a268'), 'url': 'https://www.youtube.com/', 'tab_id': 1456145851, 'session_id': 3, 'is_new_session': True, 'is_preview_mode': False, 'is_suggestion_mode': False, 'is_previously_seen': False, 'type': 'impression', 'intervention': 'internal/choose_difficulty', 'userid': 'f4d95006c663a799d9185576', 'install_id': '8132291a2f7334b45cfebbba', 'day': 1075, 'synced': 0, 'timestamp': 1544559430454.0, 'localtime': 'Tue Dec 11 2018 12:17:10 GMT-0800 (北美太平洋标准时间)', 'itemid': '92b06e8cd00d03aa1e5091a6', 'log_major_ver': '8', 'log_minor_ver': '1', 'habitlab_version': '1.0.257', 'unofficial_version': 'bleifeoekkfhicamkpadfoclfhfmmina', 'id': 7, 'logname': 'internal/choose_difficulty', 'timestamp_local': 1544559430051.0}\n",
      "{'_id': ObjectId('5c101b48c6466e0014dbb0c9'), 'difficulty': 'hard', 'intervention_name': 'youtube/block_after_interval_per_visit', 'new_session': True, 'url': 'https://www.youtube.com/', 'tab_id': 1456145851, 'session_id': 3, 'is_new_session': True, 'is_preview_mode': False, 'is_suggestion_mode': False, 'is_previously_seen': True, 'type': 'action', 'intervention': 'internal/choose_difficulty', 'userid': 'f4d95006c663a799d9185576', 'install_id': '8132291a2f7334b45cfebbba', 'day': 1075, 'synced': 0, 'timestamp': 1544559432457.0, 'localtime': 'Tue Dec 11 2018 12:17:12 GMT-0800 (北美太平洋标准时间)', 'itemid': '905141755638f5a1563d7d7d', 'log_major_ver': '8', 'log_minor_ver': '1', 'habitlab_version': '1.0.257', 'unofficial_version': 'bleifeoekkfhicamkpadfoclfhfmmina', 'id': 8, 'logname': 'internal/choose_difficulty', 'timestamp_local': 1544559432093.0}\n"
     ]
    }
   ],
   "source": [
    "#print(collection_names[0])\n",
    "difficulty_items = get_choose_difficulty_items_for_user('f4d95006c663a799d9185576')\n",
    "for x in difficulty_items:\n",
    "  print(x)"
   ]
  },
  {
   "cell_type": "code",
   "execution_count": 95,
   "metadata": {},
   "outputs": [],
   "source": [
    "#choose_difficulty_set = set()\n",
    "#for x in collection_names:\n",
    "#  if 'difficulty' in x:\n",
    "#    choose_difficulty_set.add(x)"
   ]
  },
  {
   "cell_type": "code",
   "execution_count": 96,
   "metadata": {},
   "outputs": [],
   "source": [
    "#print(choose_difficulty_set)\n",
    "#for x in choose_difficulty_set:\n",
    "  "
   ]
  }
 ],
 "metadata": {
  "kernelspec": {
   "display_name": "Python 3",
   "language": "python",
   "name": "python3"
  },
  "language_info": {
   "codemirror_mode": {
    "name": "ipython",
    "version": 3
   },
   "file_extension": ".py",
   "mimetype": "text/x-python",
   "name": "python",
   "nbconvert_exporter": "python",
   "pygments_lexer": "ipython3",
   "version": "3.6.4"
  }
 },
 "nbformat": 4,
 "nbformat_minor": 2
}
