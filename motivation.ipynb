{
 "cells": [
  {
   "cell_type": "code",
   "execution_count": 1,
   "metadata": {
    "scrolled": true
   },
   "outputs": [
    {
     "data": {
      "text/html": [
       "<script type=\"text/javascript\">window.PlotlyConfig = {MathJaxConfig: 'local'};</script><script type=\"text/javascript\">if (window.MathJax) {MathJax.Hub.Config({SVG: {font: \"STIX-Web\"}});}</script><script>requirejs.config({paths: { 'plotly': ['https://cdn.plot.ly/plotly-latest.min']},});if(!window._Plotly) {require(['plotly'],function(plotly) {window._Plotly=plotly;});}</script>"
      ],
      "text/vnd.plotly.v1+html": [
       "<script type=\"text/javascript\">window.PlotlyConfig = {MathJaxConfig: 'local'};</script><script type=\"text/javascript\">if (window.MathJax) {MathJax.Hub.Config({SVG: {font: \"STIX-Web\"}});}</script><script>requirejs.config({paths: { 'plotly': ['https://cdn.plot.ly/plotly-latest.min']},});if(!window._Plotly) {require(['plotly'],function(plotly) {window._Plotly=plotly;});}</script>"
      ]
     },
     "metadata": {},
     "output_type": "display_data"
    }
   ],
   "source": [
    "import math\n",
    "from browser_libs import get_collection_items, get_collection_names, get_collection_for_user\n",
    "from memoize import memoize # pip install memoize2\n",
    "from collections import Counter\n",
    "import pandas as pd\n",
    "import numpy as np\n",
    "import scipy as sp\n",
    "import plotly.plotly as py\n",
    "import plotly.graph_objs as go\n",
    "from plotly.offline import download_plotlyjs, init_notebook_mode, plot, iplot\n",
    "init_notebook_mode(connected=True)"
   ]
  },
  {
   "cell_type": "code",
   "execution_count": 2,
   "metadata": {},
   "outputs": [
    {
     "name": "stdout",
     "output_type": "stream",
     "text": [
      "960c17bec89c59404248b47d_synced:experiment_vars\n"
     ]
    }
   ],
   "source": [
    "collection_names = get_collection_names()\n",
    "for x in collection_names:\n",
    "  if 'experiment_vars' in x and 'for_goal' not in x:\n",
    "    print(x)\n",
    "    break"
   ]
  },
  {
   "cell_type": "code",
   "execution_count": 3,
   "metadata": {},
   "outputs": [],
   "source": [
    "@memoize\n",
    "def get_users_with_choose_difficulty():\n",
    "  collection_names = get_collection_names()\n",
    "  output = []\n",
    "  for x in collection_names:\n",
    "    if x.endswith('_internal:choose_difficulty'):\n",
    "      user = x.replace('_internal:choose_difficulty', '')\n",
    "      output.append(user)\n",
    "  return output\n"
   ]
  },
  {
   "cell_type": "code",
   "execution_count": 4,
   "metadata": {},
   "outputs": [],
   "source": [
    "@memoize\n",
    "def get_choose_difficulty_items_for_user(user):\n",
    "  collection_items = get_collection_for_user(user, 'internal:choose_difficulty')\n",
    "  output = []\n",
    "  for x in collection_items:\n",
    "    if 'is_new_session' not in x:\n",
    "      continue\n",
    "    if x['is_new_session'] != True:\n",
    "      continue\n",
    "    if ('developer_mode' in x) and (x['developer_mode'] == True):\n",
    "      continue\n",
    "    if ('is_preview_mode' in x) and (x['is_preview_mode'] == True):\n",
    "      continue\n",
    "    if ('is_suggestion_mode' in x) and (x['is_suggestion_mode'] == True):\n",
    "      continue\n",
    "    output.append(x)\n",
    "  return output"
   ]
  },
  {
   "cell_type": "code",
   "execution_count": 5,
   "metadata": {},
   "outputs": [],
   "source": [
    "def get_choose_difficulty_counts_for_user(user):\n",
    "  collection_items = get_choose_difficulty_items_for_user(user)\n",
    "  output = {}\n",
    "  for x in collection_items:\n",
    "    if 'type' not in x:\n",
    "      continue\n",
    "    if x['type'] != 'action':\n",
    "      continue\n",
    "    if 'difficulty' not in x:\n",
    "      continue\n",
    "    difficulty = x['difficulty']\n",
    "    if difficulty not in output:\n",
    "      output[difficulty] = 1\n",
    "    else:\n",
    "      output[difficulty] += 1\n",
    "  return output"
   ]
  },
  {
   "cell_type": "code",
   "execution_count": 6,
   "metadata": {},
   "outputs": [],
   "source": [
    "def get_choose_difficulty_counts_for_user_list(user_list):\n",
    "  output = Counter()\n",
    "  for user in user_list:\n",
    "    difficulty_counts = get_choose_difficulty_counts_for_user(user)\n",
    "    for difficulty,count in difficulty_counts.items():\n",
    "      output[difficulty] += count\n",
    "  return output"
   ]
  },
  {
   "cell_type": "code",
   "execution_count": 7,
   "metadata": {},
   "outputs": [],
   "source": [
    "def get_choose_difficulty_counts_for_user_list_user_normalized(user_list):\n",
    "  output = Counter()\n",
    "  for user in user_list:\n",
    "    difficulty_counts = get_choose_difficulty_counts_for_user(user)\n",
    "    difficulty_counts = to_percent_dict(difficulty_counts)\n",
    "    for difficulty,count in difficulty_counts.items():\n",
    "      output[difficulty] += count\n",
    "  return to_percent_dict(output)"
   ]
  },
  {
   "cell_type": "code",
   "execution_count": 8,
   "metadata": {},
   "outputs": [],
   "source": [
    "def get_choose_difficulty_counts_for_all_users():\n",
    "  user_list = get_users_with_choose_difficulty()\n",
    "  return get_choose_difficulty_counts_for_user_list(user_list)"
   ]
  },
  {
   "cell_type": "code",
   "execution_count": 9,
   "metadata": {},
   "outputs": [],
   "source": [
    "def get_total_counts_for_user(user):\n",
    "  difficulty_counts = get_choose_difficulty_counts_for_user(user)\n",
    "  return sum(difficulty_counts.values())"
   ]
  },
  {
   "cell_type": "code",
   "execution_count": 10,
   "metadata": {},
   "outputs": [],
   "source": [
    "def num_types_tried(user):\n",
    "  difficulty_counts = get_choose_difficulty_counts_for_user(user)\n",
    "  return len(difficulty_counts.keys())"
   ]
  },
  {
   "cell_type": "code",
   "execution_count": 11,
   "metadata": {},
   "outputs": [],
   "source": [
    "def did_user_try_multiple(user):\n",
    "  return num_types_tried(user) > 1"
   ]
  },
  {
   "cell_type": "code",
   "execution_count": 12,
   "metadata": {},
   "outputs": [],
   "source": [
    "def get_try_multiple_counts_for_all_users():\n",
    "  output = {\n",
    "    'none_total': 0,\n",
    "    'one_total': 0,\n",
    "    'one_tried': 0,\n",
    "    'multiple_tried': 0,\n",
    "  }\n",
    "  for user in get_users_with_choose_difficulty():\n",
    "    total_counts = get_total_counts_for_user(user)\n",
    "    if total_counts == 0:\n",
    "      output['none_total'] += 1\n",
    "      continue\n",
    "    if total_counts == 1:\n",
    "      output['one_total'] += 1\n",
    "      continue\n",
    "    if did_user_try_multiple(user):\n",
    "      output['multiple_tried'] += 1\n",
    "    else:\n",
    "      output['one_tried'] += 1\n",
    "  return output"
   ]
  },
  {
   "cell_type": "code",
   "execution_count": 13,
   "metadata": {},
   "outputs": [],
   "source": [
    "def get_breakdown_for_one_tried():\n",
    "  output = Counter()\n",
    "  for user in get_users_with_choose_difficulty():\n",
    "    total_counts = get_total_counts_for_user(user)\n",
    "    if total_counts <= 1:\n",
    "      continue\n",
    "    if did_user_try_multiple(user):\n",
    "      continue\n",
    "    difficulty_counts = get_choose_difficulty_counts_for_user(user)\n",
    "    chosen_difficulty = list(difficulty_counts.keys())[0]\n",
    "    output[chosen_difficulty] += difficulty_counts[chosen_difficulty]\n",
    "  return output"
   ]
  },
  {
   "cell_type": "code",
   "execution_count": 14,
   "metadata": {},
   "outputs": [
    {
     "name": "stdout",
     "output_type": "stream",
     "text": [
      "705\n"
     ]
    }
   ],
   "source": [
    "print(len(get_users_with_choose_difficulty()))"
   ]
  },
  {
   "cell_type": "code",
   "execution_count": 15,
   "metadata": {},
   "outputs": [
    {
     "name": "stdout",
     "output_type": "stream",
     "text": [
      "Counter({'nothing': 25605, 'easy': 9872, 'medium': 4839, 'hard': 2129})\n"
     ]
    }
   ],
   "source": [
    "print(get_choose_difficulty_counts_for_all_users())"
   ]
  },
  {
   "cell_type": "code",
   "execution_count": 16,
   "metadata": {
    "scrolled": true
   },
   "outputs": [
    {
     "name": "stdout",
     "output_type": "stream",
     "text": [
      "{'none_total': 40, 'one_total': 120, 'one_tried': 163, 'multiple_tried': 382}\n"
     ]
    }
   ],
   "source": [
    "print(get_try_multiple_counts_for_all_users())"
   ]
  },
  {
   "cell_type": "code",
   "execution_count": 17,
   "metadata": {},
   "outputs": [
    {
     "name": "stdout",
     "output_type": "stream",
     "text": [
      "Counter({'nothing': 2694, 'easy': 784, 'medium': 452, 'hard': 112})\n"
     ]
    }
   ],
   "source": [
    "print(get_breakdown_for_one_tried())"
   ]
  },
  {
   "cell_type": "code",
   "execution_count": 18,
   "metadata": {},
   "outputs": [],
   "source": [
    "@memoize\n",
    "def get_abtest_settings(user):\n",
    "  output = {}\n",
    "  collection_items = get_collection_for_user(user, 'synced:experiment_vars')\n",
    "  for item in collection_items:\n",
    "    if 'key' not in item:\n",
    "      continue\n",
    "    if 'val' not in item:\n",
    "      continue\n",
    "    key = item['key']\n",
    "    val = item['val']\n",
    "    output[key] = val\n",
    "  return output\n"
   ]
  },
  {
   "cell_type": "code",
   "execution_count": 19,
   "metadata": {},
   "outputs": [],
   "source": [
    "def get_abtest_options_for_group(user_list):\n",
    "  conditions = {}\n",
    "  for user in user_list:\n",
    "    abtest_settings = get_abtest_settings(user)\n",
    "    for k,v in abtest_settings.items():\n",
    "      if k == 'intervention_firstimpression_notice_seenlist':\n",
    "        continue\n",
    "      if k not in conditions:\n",
    "        conditions[k] = []\n",
    "      if v not in conditions[k]:\n",
    "        conditions[k].append(v)\n",
    "  output = {}\n",
    "  for abtest_name,options in conditions.items():\n",
    "    if len(options) > 1:\n",
    "      output[abtest_name] = options\n",
    "  return output"
   ]
  },
  {
   "cell_type": "code",
   "execution_count": 20,
   "metadata": {},
   "outputs": [],
   "source": [
    "def get_abtest_condition_to_user_list(abtest_name):\n",
    "  # note this only applies to users in the get_users_with_choose_difficulty experiment currently\n",
    "  output = {}\n",
    "  for user in get_users_with_choose_difficulty():\n",
    "    abtest_settings = get_abtest_settings(user)\n",
    "    if abtest_name not in abtest_settings:\n",
    "      continue\n",
    "    abtest_option = abtest_settings[abtest_name]\n",
    "    if abtest_option not in output:\n",
    "      output[abtest_option] = []\n",
    "    output[abtest_option].append(user)\n",
    "  return output"
   ]
  },
  {
   "cell_type": "code",
   "execution_count": 21,
   "metadata": {},
   "outputs": [],
   "source": [
    "difficulty_interface_to_users = get_abtest_condition_to_user_list('choose_difficulty_interface')"
   ]
  },
  {
   "cell_type": "code",
   "execution_count": 22,
   "metadata": {},
   "outputs": [
    {
     "name": "stdout",
     "output_type": "stream",
     "text": [
      "{'time_afford': ['e0ea34c81d4b50cddc7bd752', '6e7271d2eeace3391528efea', '53f3f933b4ec99eb16a8580c', '8617b058a51286a5ab7b9e1c', '3056a2d989be02294adab708', '78cb68240cb3a717a5d6fa31', 'bc2a2a9aa64af2b5cd1b403a', '8a2d1ec53ad08c204a999032', '09d27c86d835df2af5f0be24', '61376097ff6748baf63e881b', 'b7223983c51cdb868ed9126d', '95ee5208b83ce0800cbf5152', 'e18af57bfabb4e0f6da914b5', '46b27427d80b5394dc9f09dc', 'cf8b97a7bb2605921d756284', '41f24a3dd6bceb8d0a8df5c8', 'b18e869555ee012d017456c5', '82029ae7e0cf58810a19534a', 'c1603b3c13098a82375f9963', 'd90890b5c7b8c4efcda28c42', 'f4ac0658a07d13fab3de2498', 'dbce3d338b755aaadf7b4264', 'e7ca769377518d66ccdc19c3', '599efe06863304b00287b7ac', 'c68a708fd971bde157484962', '23eab855cbe7f8f50e7986dc', '9c478b2a501d89dc2a68c8b4', 'c4d719399c459d7a65236f29', '09c312bcf7705bbb5e790d7a', '1589a7c5610e7fb5e3788736', '35119e013ddaa441b9c3f28c', '5fa00d34242c8c6fc66f69a7', '4631e0cbc3f222bee5fc4664', 'df0b4e455f45c5ae692175bc', '1122098b21d2edd8438f5303', '54eed4fc0cf5850c7c589b60', '08dcb4c0626fa03a27f70274', '993797f89227b760ece5929c', '0c8ae705608041c1244e823a', 'd5214de949e81129f9c2b9ac', 'be763f26a6488ea1d7c2ba66', '862ef50d6f6801e273cae99a', '72abb91d0daec4e47fed9818', '306268a6632fe38bb69d7305', '37f3d69b7a555b76c302df2f', 'b537c7524e9b2ceb844dcca1', '45b434dbae77bfda70880ca2', '0cd2af2a1e4819f5f4f4189f', 'e9e4d1dfabc5cebeba5a6617', '2969f4d98c7e4985917bb8ff', 'f9f10056e0f303f646de2055', 'a4874bbfbc5c54aaa5eaeb3b', '93d25a1c2d1a4be5a0443512', '9d14195bae7976d99c743bde', 'e1db0b6bb8cdc2a6a6879b48', '319647af484aacc0d5fabc7d', '243ea8620fd06631645f326a', 'd1c5ef05d3adcfb188344a24', '490c823ad1e5e87573af0615', '39142cdc607dc59a7bc1b095', '63246bd51af632966de41ff5', 'c26b116cdec7c37ff5dfc612', 'cdc94c551609bd8a8c26b624', '75d2f3897e1f41b7f1a9f584', 'a0d5dad7a6149744236f0d12', '2df5bba93a8061846ef8df22', '42b989a6aa5f4ca2c34f57d9', '428d7d492e9ac130032911ad', 'd8dc3a0d6a7ebf2ec16d067a'], 'this_intervention': ['cc43e1c331c9d74bf7b00fc6', '06b54759c28de7967024cedf', '0812df1382381cee3edab4b6', 'de6a908835401dcaf037cc95', '6ffae4b0e0a58695ae4ee174', '9ee9b7534c9bcafec6a13773', 'cf2b84b289d13a0fe56a7f71', '329cbe941cea398f04cd560f', 'f05959c1a2ccd135e93b531e', '7d33ed1787c5d8b4f5bb9b11', '0951f6da6eff18c10db17810', 'b1cd523a3e8b9c65ed79dd9c', '6326707eff8b6e94a81fcc28', '028033fdfa87801f5ab9b713', '9c5f2b25a366062490398273', '4893b81edd7f0e2b102b0d1a', '9add59262ea1f3f7619decda', '97c51558e4074650392bf084', '1bfb8dc0cc5a41097c166a60', '4f9dfd154111179c642c8cf9', '83a0c03f7605c80cf2c395fa', '7bd50164fe03fd6254784ed3', '007c24675bd2b9078cc3cce5', '8fdc79a87aa36a0cfaa325e9', '025cf2acf9559abfe3e4fb26', '77d86a6eb6ec436369b2ebd6', 'e1405bdfc015a3c65de7f5f5', '87ceaaabfec2abc0e9d0f65b', '1bdfaf739c98b2ab824c9f33', '707228497e8dba61b21c3119', 'ce082a1c93117c41b00445b6', 'e81a33655104697de42c9ded', '77aea8e12c3471ecf6f34c1f', '1605c7817668b405b3aef298', 'bd5ff5376f6b5e3790139217', 'a3535a341c80f1da60609e79', 'd2686034f10a0e3b2fe19f69', 'b472dbbb0f647e8b76d0b1c2', '821ec108d7aa60fdb4efcadc', '6d0dec097081a66ac3a3ddd9', '98497f3134bdb0e54b0356f6', 'f851fca88b2db718c8ec151a', 'e77656cf1c28cc3473dbadb4', '155dfd6fcbea2c632f7380c1', 'dbd17107575badc649e0cc48', '70337a657f2ec83808467bd3', '1112d44d45ad4b61ed93002e', '2b584c2f8e1a6abdf3d8edb5', '157ba744aa307d7f845a1853', '435dfd0c81fcdf879024d2c5', '08488fa14b33e869b4f9f142', 'e07c1b5906c246400e7c64df', '8401753cddc1d7f8d40cd0c0', 'a62a51af654282ed880797a2', '7990666ce2143a04ed94fd67', 'cddefc078d3a25a18798e6b1', '047f627afa80008ccb0b2020', 'e48b30a4208b4d242eb982b8', 'b46e4fa069cc1d5e0ee2eb1e', '83d1b05e8acb0fb0984e8db7', '8eec8af6498d29e87323fd9e', 'f7bc103e54d34c39fe4f34bd'], 'settings_update': ['039a5ab92063f09a59340e92', 'ef64cb81ca663176daa85dec', '72d733ece4e778a1f19f6fef', '5ed53fe1b396c2936200bfbf', 'f1dff470b22314377fe17b57', '71098d5b5fa2c43aca67e72c', '0038a28ca863a4f560d099e0', '42a903cbe4c9fde8e79ca3d3', 'ea122f6e31e1f14e74a1a2e0', 'e507909d613ba0280509942d', '6caa3fb1cce9488ac86a1ecd', 'f4af5881e24d2c9b7767e3f6', 'd6b032c0fad8b5457ff84941', '2c9fcc0b41127c38c93e2bd5', 'c5944cafea02b23774a5959f', 'b72240e3bb91425cfe7e28aa', '3a2181f88b0c8944ed08cc03', 'dac0fc29c29e2b411715ef3a', '1904dd0682849d370c254254', 'f64eb8a905cb054b9bdb6f72', 'b35cb929ac1ceaeb8b101b65', 'edc1e39c6a09004c59a0b061', '60f29a75361b82148fcb1c77', '957c28066b24e79ee5dda20a', '46a8868b2f529f0decc4a90d', '54d25b28eccb46e46e33df03', 'bf697956d17bd62182ba9e8c', 'd2b0da4471f7d460152e8576', '960824378bbbdab54d3a1b13', 'b62786323607946dc98e8ee2', 'ad5638c428073e3f8464c860', '2f0fec9c0a3ee9f9e731dc46', '429bd37364e6e80caec5edac', '36604fc777afa3e3d85c4649', 'e6adb81384e46b6f720a9239', '3bd9b4d9398fb06bd0bad361', '06874e5a5427b18aa15bc4aa', '1262ac817ebdf0b39d795b59', '8e559c6554db3bbbcff7d1b5', 'd8c210edd4967790cc458610', '5bf29c4de3b10aace940f2fe', '0f38cde6c1e0cd2727571c5f', 'd2910c3fed7b0f73750df76b', '426de335226fd7cfeb76b920', '69f32ba9ae51239f7bab7bf6', 'bd3d9032a3bc8f5eb3635ab8', 'f2695edfe64a526986fb0b83', 'b1584bf90303eefb0ed83eda', 'ff5f102374f2453f5d11dfa1', 'f32cb59bc2542875d8f95312', '4447f0de5f79dc60750989f5', '26ff31f781dee4d279d85c22', 'd0fd104fb17c12ed4bec135a', '6de6cf27c09af8b136a6a950', 'e3d650eb237f5dfca22f1835', '0bc3e78c4ecd05a6573836a6', '2cc11117ba44aa9f0dec69a1', 'dd255758943abf38102497dc', '22e9433a1d7be8a0dae6ea9c', 'bbf13fd8b25105f117b3c931', '5d553942942322c5fce88a96', '1c499412ea5b034f2d45e0fe', 'a6a4b8327878e0849f128028', '2b094a50ccfbe785e2ab83a9', 'b83f7d5ff4c3695712f94f3b', '49d39fa16572b1652523d87e', '8e9a3e1717d60f22873441b6', 'ac5db577f6903de2b1742f1a', '5b30481359252552b9dde0fb', 'f59bfe48cbe62d84b67a6342', '2371a488fcceec7a4d4f39c8', '272bdfd42db21e042963fa11', '59bab175c66b2e618f2640ec']}\n"
     ]
    }
   ],
   "source": [
    "print(difficulty_interface_to_users)"
   ]
  },
  {
   "cell_type": "code",
   "execution_count": 23,
   "metadata": {},
   "outputs": [],
   "source": [
    "def get_choose_difficulty_level_mean_for_user_list(users):\n",
    "  difficulty_to_counts = get_choose_difficulty_counts_for_user_list(users)\n",
    "  difficulty_to_value = {\n",
    "    'nothing': 0,\n",
    "    'easy': 1,\n",
    "    'medium': 2,\n",
    "    'hard': 3,\n",
    "  }\n",
    "  values = []\n",
    "  for difficulty,count in difficulty_to_counts.items():\n",
    "    value = difficulty_to_value[difficulty]\n",
    "    values.append(value)\n",
    "  return np.mean(values)"
   ]
  },
  {
   "cell_type": "code",
   "execution_count": 24,
   "metadata": {},
   "outputs": [],
   "source": [
    "def get_choose_difficulty_level_mean_by_abtest(abtest_name):\n",
    "  condition_to_user_list = get_abtest_condition_to_user_list(abtest_name)\n",
    "  for condition,user_list in condition_to_user_list.items():\n",
    "    print(condition + ':' + str(get_choose_difficulty_level_mean_for_user_list(user_list)))"
   ]
  },
  {
   "cell_type": "code",
   "execution_count": null,
   "metadata": {},
   "outputs": [],
   "source": []
  },
  {
   "cell_type": "code",
   "execution_count": 25,
   "metadata": {},
   "outputs": [],
   "source": [
    "def get_key_to_ordering_mappings():\n",
    "  key_orderings = [\n",
    "    [\n",
    "      'this_intervention',\n",
    "      'time_afford',\n",
    "      'settings_update',\n",
    "    ],\n",
    "    [\n",
    "      'nothing',\n",
    "      'easy',\n",
    "      'medium',\n",
    "      'hard',\n",
    "    ],\n",
    "  ]\n",
    "  key_to_ordering = {}\n",
    "  for ordering in key_orderings:\n",
    "    key = ' '.join(sorted(ordering))\n",
    "    key_to_ordering[key] = ordering\n",
    "  return key_to_ordering\n",
    "\n",
    "def order_list(keys):\n",
    "  key = ' '.join(sorted(keys))\n",
    "  key_to_ordering_mappings = get_key_to_ordering_mappings()\n",
    "  return get_key_to_ordering_mappings()[key]\n",
    "\n",
    "def printdict(d):\n",
    "  keys = order_list(d.keys())\n",
    "  for x in keys:\n",
    "    print(x + ': ' + str(d[x]))\n",
    "\n",
    "def to_percent_dict(d):\n",
    "  output = {}\n",
    "  total = sum(d.values())\n",
    "  for k,v in d.items():\n",
    "    output[k] = v / total\n",
    "  return output\n",
    "\n",
    "def printdict_percent(d):\n",
    "  d = to_percent_dict(d)\n",
    "  printdict(d)"
   ]
  },
  {
   "cell_type": "code",
   "execution_count": 26,
   "metadata": {},
   "outputs": [],
   "source": [
    "def plotbar(values, labels=None, title=''):\n",
    "  data = [go.Bar(\n",
    "    x=labels,\n",
    "    y=values,\n",
    "  )]\n",
    "  layout = go.Layout(title=title)\n",
    "  fig = go.Figure(data=data, layout=layout)\n",
    "  iplot(fig)\n",
    "\n",
    "def plotbarh(values, labels=None, title=''):\n",
    "  data = [go.Bar(\n",
    "    y=labels,\n",
    "    x=values,\n",
    "    orientation='h',\n",
    "  )]\n",
    "  layout = go.Layout(title=title)\n",
    "  fig = go.Figure(data=data, layout=layout)\n",
    "  iplot(fig)\n",
    "\n",
    "def plothist(values, title=''):\n",
    "  data = [go.Histogram(x=values)]\n",
    "  layout = go.Layout(title=title)\n",
    "  fig = go.Figure(data=data, layout=layout)\n",
    "  iplot(fig)\n"
   ]
  },
  {
   "cell_type": "code",
   "execution_count": 27,
   "metadata": {},
   "outputs": [],
   "source": [
    "def plotdict(d, title=''):\n",
    "  keys = order_list(d.keys())\n",
    "  values = [d[k] for k in keys]\n",
    "  plotbarh(values, keys, title)"
   ]
  },
  {
   "cell_type": "code",
   "execution_count": null,
   "metadata": {},
   "outputs": [],
   "source": []
  },
  {
   "cell_type": "code",
   "execution_count": 28,
   "metadata": {},
   "outputs": [],
   "source": [
    "#for condition,user_list in condition_to_user_list.items():\n",
    "#  print(condition + ':' + str(get_choose_difficulty_level_mean_for_user_list(user_list)))"
   ]
  },
  {
   "cell_type": "code",
   "execution_count": 29,
   "metadata": {},
   "outputs": [
    {
     "name": "stdout",
     "output_type": "stream",
     "text": [
      "time_afford:1.5\n",
      "this_intervention:1.5\n",
      "settings_update:1.5\n"
     ]
    }
   ],
   "source": [
    "get_choose_difficulty_level_mean_by_abtest('choose_difficulty_interface')"
   ]
  },
  {
   "cell_type": "code",
   "execution_count": 30,
   "metadata": {},
   "outputs": [
    {
     "name": "stdout",
     "output_type": "stream",
     "text": [
      "1.0:1.5\n",
      "0.0:1.5\n",
      "0.5:1.5\n",
      "0.25:1.5\n"
     ]
    }
   ],
   "source": [
    "get_choose_difficulty_level_mean_by_abtest('frequency_of_choose_difficulty')"
   ]
  },
  {
   "cell_type": "code",
   "execution_count": 31,
   "metadata": {},
   "outputs": [
    {
     "name": "stdout",
     "output_type": "stream",
     "text": [
      "nothing: 0.48390064397424104\n",
      "easy: 0.1655933762649494\n",
      "medium: 0.24747010119595217\n",
      "hard: 0.10303587856485741\n"
     ]
    }
   ],
   "source": [
    "printdict_percent(get_choose_difficulty_counts_for_user_list(difficulty_interface_to_users['time_afford']))"
   ]
  },
  {
   "cell_type": "code",
   "execution_count": 32,
   "metadata": {},
   "outputs": [
    {
     "name": "stdout",
     "output_type": "stream",
     "text": [
      "nothing: 0.46492890995260666\n",
      "easy: 0.3345971563981043\n",
      "medium: 0.16350710900473933\n",
      "hard: 0.03696682464454976\n"
     ]
    }
   ],
   "source": [
    "printdict_percent(get_choose_difficulty_counts_for_user_list(difficulty_interface_to_users['this_intervention']))"
   ]
  },
  {
   "cell_type": "code",
   "execution_count": 33,
   "metadata": {},
   "outputs": [
    {
     "name": "stdout",
     "output_type": "stream",
     "text": [
      "nothing: 0.4024390243902439\n",
      "easy: 0.17327235772357724\n",
      "medium: 0.2850609756097561\n",
      "hard: 0.13922764227642276\n"
     ]
    }
   ],
   "source": [
    "printdict_percent(get_choose_difficulty_counts_for_user_list(difficulty_interface_to_users['settings_update']))"
   ]
  },
  {
   "cell_type": "code",
   "execution_count": 34,
   "metadata": {},
   "outputs": [
    {
     "name": "stdout",
     "output_type": "stream",
     "text": [
      "nothing: 0.4177264891043667\n",
      "easy: 0.16809860970216695\n",
      "medium: 0.319595494528552\n",
      "hard: 0.09457940666491425\n"
     ]
    }
   ],
   "source": [
    "printdict(get_choose_difficulty_counts_for_user_list_user_normalized(difficulty_interface_to_users['time_afford']))"
   ]
  },
  {
   "cell_type": "code",
   "execution_count": 35,
   "metadata": {},
   "outputs": [
    {
     "name": "stdout",
     "output_type": "stream",
     "text": [
      "nothing: 0.5737039722648792\n",
      "easy: 0.23713232896295533\n",
      "medium: 0.16187236327064874\n",
      "hard: 0.027291335501516637\n"
     ]
    }
   ],
   "source": [
    "printdict(get_choose_difficulty_counts_for_user_list_user_normalized(difficulty_interface_to_users['this_intervention']))"
   ]
  },
  {
   "cell_type": "code",
   "execution_count": 36,
   "metadata": {},
   "outputs": [
    {
     "name": "stdout",
     "output_type": "stream",
     "text": [
      "nothing: 0.4593335665829048\n",
      "easy: 0.2752691836125547\n",
      "medium: 0.20556209061182787\n",
      "hard: 0.05983515919271265\n"
     ]
    }
   ],
   "source": [
    "printdict(get_choose_difficulty_counts_for_user_list_user_normalized(difficulty_interface_to_users['settings_update']))"
   ]
  },
  {
   "cell_type": "code",
   "execution_count": 37,
   "metadata": {},
   "outputs": [
    {
     "data": {
      "application/vnd.plotly.v1+json": {
       "config": {
        "linkText": "Export to plot.ly",
        "plotlyServerURL": "https://plot.ly",
        "showLink": false
       },
       "data": [
        {
         "orientation": "h",
         "type": "bar",
         "uid": "84ef9d2c-c4b2-42c5-b380-3018df00cd9c",
         "x": [
          0.4177264891043667,
          0.16809860970216695,
          0.319595494528552,
          0.09457940666491425
         ],
         "y": [
          "nothing",
          "easy",
          "medium",
          "hard"
         ]
        }
       ],
       "layout": {
        "title": {
         "text": "Difficulty selections for \"time you can afford this visit\" interface"
        }
       }
      },
      "text/html": [
       "<div id=\"f0125cbd-2713-4c9e-bafa-d5a12abbdb77\" style=\"height: 525px; width: 100%;\" class=\"plotly-graph-div\"></div><script type=\"text/javascript\">require([\"plotly\"], function(Plotly) { window.PLOTLYENV=window.PLOTLYENV || {};window.PLOTLYENV.BASE_URL=\"https://plot.ly\";Plotly.newPlot(\"f0125cbd-2713-4c9e-bafa-d5a12abbdb77\", [{\"orientation\": \"h\", \"x\": [0.4177264891043667, 0.16809860970216695, 0.319595494528552, 0.09457940666491425], \"y\": [\"nothing\", \"easy\", \"medium\", \"hard\"], \"type\": \"bar\", \"uid\": \"84ef9d2c-c4b2-42c5-b380-3018df00cd9c\"}], {\"title\": {\"text\": \"Difficulty selections for \\\"time you can afford this visit\\\" interface\"}}, {\"showLink\": false, \"linkText\": \"Export to plot.ly\", \"plotlyServerURL\": \"https://plot.ly\"})});</script><script type=\"text/javascript\">window.addEventListener(\"resize\", function(){window._Plotly.Plots.resize(document.getElementById(\"f0125cbd-2713-4c9e-bafa-d5a12abbdb77\"));});</script>"
      ],
      "text/vnd.plotly.v1+html": [
       "<div id=\"f0125cbd-2713-4c9e-bafa-d5a12abbdb77\" style=\"height: 525px; width: 100%;\" class=\"plotly-graph-div\"></div><script type=\"text/javascript\">require([\"plotly\"], function(Plotly) { window.PLOTLYENV=window.PLOTLYENV || {};window.PLOTLYENV.BASE_URL=\"https://plot.ly\";Plotly.newPlot(\"f0125cbd-2713-4c9e-bafa-d5a12abbdb77\", [{\"orientation\": \"h\", \"x\": [0.4177264891043667, 0.16809860970216695, 0.319595494528552, 0.09457940666491425], \"y\": [\"nothing\", \"easy\", \"medium\", \"hard\"], \"type\": \"bar\", \"uid\": \"84ef9d2c-c4b2-42c5-b380-3018df00cd9c\"}], {\"title\": {\"text\": \"Difficulty selections for \\\"time you can afford this visit\\\" interface\"}}, {\"showLink\": false, \"linkText\": \"Export to plot.ly\", \"plotlyServerURL\": \"https://plot.ly\"})});</script><script type=\"text/javascript\">window.addEventListener(\"resize\", function(){window._Plotly.Plots.resize(document.getElementById(\"f0125cbd-2713-4c9e-bafa-d5a12abbdb77\"));});</script>"
      ]
     },
     "metadata": {},
     "output_type": "display_data"
    }
   ],
   "source": [
    "plotdict(get_choose_difficulty_counts_for_user_list_user_normalized(difficulty_interface_to_users['time_afford']), 'Difficulty selections for \"time you can afford this visit\" interface')"
   ]
  },
  {
   "cell_type": "code",
   "execution_count": 38,
   "metadata": {},
   "outputs": [
    {
     "data": {
      "application/vnd.plotly.v1+json": {
       "config": {
        "linkText": "Export to plot.ly",
        "plotlyServerURL": "https://plot.ly",
        "showLink": false
       },
       "data": [
        {
         "orientation": "h",
         "type": "bar",
         "uid": "8386bd00-fb72-4056-aa21-25bd8663a39b",
         "x": [
          0.5737039722648792,
          0.23713232896295533,
          0.16187236327064874,
          0.027291335501516637
         ],
         "y": [
          "nothing",
          "easy",
          "medium",
          "hard"
         ]
        }
       ],
       "layout": {
        "title": {
         "text": "Difficulty selections for \"intervention difficulty you want this visit\" interface"
        }
       }
      },
      "text/html": [
       "<div id=\"b44c8885-9f90-4756-96b2-222c941b1a6d\" style=\"height: 525px; width: 100%;\" class=\"plotly-graph-div\"></div><script type=\"text/javascript\">require([\"plotly\"], function(Plotly) { window.PLOTLYENV=window.PLOTLYENV || {};window.PLOTLYENV.BASE_URL=\"https://plot.ly\";Plotly.newPlot(\"b44c8885-9f90-4756-96b2-222c941b1a6d\", [{\"orientation\": \"h\", \"x\": [0.5737039722648792, 0.23713232896295533, 0.16187236327064874, 0.027291335501516637], \"y\": [\"nothing\", \"easy\", \"medium\", \"hard\"], \"type\": \"bar\", \"uid\": \"8386bd00-fb72-4056-aa21-25bd8663a39b\"}], {\"title\": {\"text\": \"Difficulty selections for \\\"intervention difficulty you want this visit\\\" interface\"}}, {\"showLink\": false, \"linkText\": \"Export to plot.ly\", \"plotlyServerURL\": \"https://plot.ly\"})});</script><script type=\"text/javascript\">window.addEventListener(\"resize\", function(){window._Plotly.Plots.resize(document.getElementById(\"b44c8885-9f90-4756-96b2-222c941b1a6d\"));});</script>"
      ],
      "text/vnd.plotly.v1+html": [
       "<div id=\"b44c8885-9f90-4756-96b2-222c941b1a6d\" style=\"height: 525px; width: 100%;\" class=\"plotly-graph-div\"></div><script type=\"text/javascript\">require([\"plotly\"], function(Plotly) { window.PLOTLYENV=window.PLOTLYENV || {};window.PLOTLYENV.BASE_URL=\"https://plot.ly\";Plotly.newPlot(\"b44c8885-9f90-4756-96b2-222c941b1a6d\", [{\"orientation\": \"h\", \"x\": [0.5737039722648792, 0.23713232896295533, 0.16187236327064874, 0.027291335501516637], \"y\": [\"nothing\", \"easy\", \"medium\", \"hard\"], \"type\": \"bar\", \"uid\": \"8386bd00-fb72-4056-aa21-25bd8663a39b\"}], {\"title\": {\"text\": \"Difficulty selections for \\\"intervention difficulty you want this visit\\\" interface\"}}, {\"showLink\": false, \"linkText\": \"Export to plot.ly\", \"plotlyServerURL\": \"https://plot.ly\"})});</script><script type=\"text/javascript\">window.addEventListener(\"resize\", function(){window._Plotly.Plots.resize(document.getElementById(\"b44c8885-9f90-4756-96b2-222c941b1a6d\"));});</script>"
      ]
     },
     "metadata": {},
     "output_type": "display_data"
    }
   ],
   "source": [
    "plotdict(get_choose_difficulty_counts_for_user_list_user_normalized(difficulty_interface_to_users['this_intervention']), 'Difficulty selections for \"intervention difficulty you want this visit\" interface')"
   ]
  },
  {
   "cell_type": "code",
   "execution_count": 39,
   "metadata": {},
   "outputs": [
    {
     "data": {
      "application/vnd.plotly.v1+json": {
       "config": {
        "linkText": "Export to plot.ly",
        "plotlyServerURL": "https://plot.ly",
        "showLink": false
       },
       "data": [
        {
         "orientation": "h",
         "type": "bar",
         "uid": "017cf8bb-c9a0-4c41-b2f3-c894132643c4",
         "x": [
          0.4593335665829048,
          0.2752691836125547,
          0.20556209061182787,
          0.05983515919271265
         ],
         "y": [
          "nothing",
          "easy",
          "medium",
          "hard"
         ]
        }
       ],
       "layout": {
        "title": {
         "text": "Difficulty selections for \"update your difficulty settings\" interface"
        }
       }
      },
      "text/html": [
       "<div id=\"1eec755a-3cf7-4066-871c-f263b0d8e2c4\" style=\"height: 525px; width: 100%;\" class=\"plotly-graph-div\"></div><script type=\"text/javascript\">require([\"plotly\"], function(Plotly) { window.PLOTLYENV=window.PLOTLYENV || {};window.PLOTLYENV.BASE_URL=\"https://plot.ly\";Plotly.newPlot(\"1eec755a-3cf7-4066-871c-f263b0d8e2c4\", [{\"orientation\": \"h\", \"x\": [0.4593335665829048, 0.2752691836125547, 0.20556209061182787, 0.05983515919271265], \"y\": [\"nothing\", \"easy\", \"medium\", \"hard\"], \"type\": \"bar\", \"uid\": \"017cf8bb-c9a0-4c41-b2f3-c894132643c4\"}], {\"title\": {\"text\": \"Difficulty selections for \\\"update your difficulty settings\\\" interface\"}}, {\"showLink\": false, \"linkText\": \"Export to plot.ly\", \"plotlyServerURL\": \"https://plot.ly\"})});</script><script type=\"text/javascript\">window.addEventListener(\"resize\", function(){window._Plotly.Plots.resize(document.getElementById(\"1eec755a-3cf7-4066-871c-f263b0d8e2c4\"));});</script>"
      ],
      "text/vnd.plotly.v1+html": [
       "<div id=\"1eec755a-3cf7-4066-871c-f263b0d8e2c4\" style=\"height: 525px; width: 100%;\" class=\"plotly-graph-div\"></div><script type=\"text/javascript\">require([\"plotly\"], function(Plotly) { window.PLOTLYENV=window.PLOTLYENV || {};window.PLOTLYENV.BASE_URL=\"https://plot.ly\";Plotly.newPlot(\"1eec755a-3cf7-4066-871c-f263b0d8e2c4\", [{\"orientation\": \"h\", \"x\": [0.4593335665829048, 0.2752691836125547, 0.20556209061182787, 0.05983515919271265], \"y\": [\"nothing\", \"easy\", \"medium\", \"hard\"], \"type\": \"bar\", \"uid\": \"017cf8bb-c9a0-4c41-b2f3-c894132643c4\"}], {\"title\": {\"text\": \"Difficulty selections for \\\"update your difficulty settings\\\" interface\"}}, {\"showLink\": false, \"linkText\": \"Export to plot.ly\", \"plotlyServerURL\": \"https://plot.ly\"})});</script><script type=\"text/javascript\">window.addEventListener(\"resize\", function(){window._Plotly.Plots.resize(document.getElementById(\"1eec755a-3cf7-4066-871c-f263b0d8e2c4\"));});</script>"
      ]
     },
     "metadata": {},
     "output_type": "display_data"
    }
   ],
   "source": [
    "plotdict(get_choose_difficulty_counts_for_user_list_user_normalized(difficulty_interface_to_users['settings_update']), 'Difficulty selections for \"update your difficulty settings\" interface')"
   ]
  },
  {
   "cell_type": "code",
   "execution_count": 40,
   "metadata": {},
   "outputs": [
    {
     "ename": "NameError",
     "evalue": "name 'frequency_of_choose_difficulty_to_users' is not defined",
     "output_type": "error",
     "traceback": [
      "\u001b[0;31m---------------------------------------------------------------------------\u001b[0m",
      "\u001b[0;31mNameError\u001b[0m                                 Traceback (most recent call last)",
      "\u001b[0;32m<ipython-input-40-d0057b4dc483>\u001b[0m in \u001b[0;36m<module>\u001b[0;34m()\u001b[0m\n\u001b[0;32m----> 1\u001b[0;31m \u001b[0mplotdict\u001b[0m\u001b[0;34m(\u001b[0m\u001b[0mget_choose_difficulty_counts_for_user_list_user_normalized\u001b[0m\u001b[0;34m(\u001b[0m\u001b[0mfrequency_of_choose_difficulty_to_users\u001b[0m\u001b[0;34m[\u001b[0m\u001b[0;34m'1.0'\u001b[0m\u001b[0;34m]\u001b[0m\u001b[0;34m)\u001b[0m\u001b[0;34m,\u001b[0m \u001b[0;34m'Difficulty selections if selection interface shown with p=1.0'\u001b[0m\u001b[0;34m)\u001b[0m\u001b[0;34m\u001b[0m\u001b[0m\n\u001b[0m",
      "\u001b[0;31mNameError\u001b[0m: name 'frequency_of_choose_difficulty_to_users' is not defined"
     ]
    }
   ],
   "source": [
    "plotdict(get_choose_difficulty_counts_for_user_list_user_normalized(frequency_of_choose_difficulty_to_users['1.0']), 'Difficulty selections if selection interface shown with p=1.0')"
   ]
  },
  {
   "cell_type": "code",
   "execution_count": null,
   "metadata": {},
   "outputs": [],
   "source": [
    "plotdict(get_choose_difficulty_counts_for_user_list_user_normalized(frequency_of_choose_difficulty_to_users['0.5']), 'Difficulty selections if selection interface shown with p=0.5')"
   ]
  },
  {
   "cell_type": "code",
   "execution_count": null,
   "metadata": {},
   "outputs": [],
   "source": [
    "plotdict(get_choose_difficulty_counts_for_user_list_user_normalized(frequency_of_choose_difficulty_to_users['0.25']), 'Difficulty selections if selection interface shown with p=0.25')"
   ]
  },
  {
   "cell_type": "code",
   "execution_count": null,
   "metadata": {},
   "outputs": [],
   "source": [
    "def compute_entropy_for_difficulty_selections(difficulty_selection_dict):\n",
    "  if len(difficulty_selection_dict.keys()) == 0:\n",
    "    return None\n",
    "  probs = to_percent_dict(difficulty_selection_dict)\n",
    "  items_to_sum = []\n",
    "  for k,prob in probs.items():\n",
    "    items_to_sum.append(prob * math.log(prob)/math.log(2))\n",
    "  return -sum(items_to_sum)\n",
    "\n",
    "def compute_entropy_for_difficulty_selections_for_user(user):\n",
    "    difficulty_counts = get_choose_difficulty_counts_for_user(user)\n",
    "    return compute_entropy_for_difficulty_selections(difficulty_counts)\n",
    "\n",
    "def get_entropies_for_user_list(user_list):\n",
    "  entropies = []\n",
    "  for user in user_list:\n",
    "    entropy = compute_entropy_for_difficulty_selections_for_user(user)\n",
    "    if entropy == None:\n",
    "      continue\n",
    "    entropies.append(entropy)\n",
    "  return entropies\n",
    "\n",
    "def get_entropies_for_all_users():\n",
    "  user_list = get_users_with_choose_difficulty()\n",
    "  return get_entropies_for_user_list()\n",
    "\n",
    "#print(user_list[0])\n",
    "#print(compute_entropy_for_difficulty_selections({'a': 0.25, 'b': 0.75}))\n"
   ]
  },
  {
   "cell_type": "code",
   "execution_count": null,
   "metadata": {},
   "outputs": [],
   "source": [
    "#print(np.mean(entropies))\n",
    "#print(np.sum(entropies))\n",
    "entropies = get_entropies_for_all_users()\n",
    "print('mean entropy per user', np.mean(entropies))\n",
    "print('median entropy per user', np.median(entropies))\n",
    "plothist(entropies, 'Entropies per user, in bits (histogram)')"
   ]
  },
  {
   "cell_type": "code",
   "execution_count": null,
   "metadata": {},
   "outputs": [],
   "source": [
    "#print(np.mean(entropies))\n",
    "#print(np.sum(entropies))\n",
    "entropies = get_entropies_for_user_list(difficulty_interface_to_users['time_afford'])\n",
    "print('mean entropy per user', np.mean(entropies))\n",
    "print('median entropy per user', np.median(entropies))\n",
    "plothist(entropies, 'Entropies per user, in bits (histogram), for users with interface=time_afford')"
   ]
  },
  {
   "cell_type": "code",
   "execution_count": null,
   "metadata": {},
   "outputs": [],
   "source": [
    "entropies = get_entropies_for_user_list(difficulty_interface_to_users['this_intervention'])\n",
    "print('mean entropy per user', np.mean(entropies))\n",
    "print('median entropy per user', np.median(entropies))\n",
    "plothist(entropies, 'Entropies per user, in bits (histogram), for users with interface=this_intervention')"
   ]
  },
  {
   "cell_type": "code",
   "execution_count": null,
   "metadata": {},
   "outputs": [],
   "source": [
    "entropies = get_entropies_for_user_list(difficulty_interface_to_users['settings_update'])\n",
    "print('mean entropy per user', np.mean(entropies))\n",
    "print('median entropy per user', np.median(entropies))\n",
    "plothist(entropies, 'Entropies per user, in bits (histogram), for users with interface=settings_update')"
   ]
  },
  {
   "cell_type": "code",
   "execution_count": null,
   "metadata": {},
   "outputs": [],
   "source": [
    "entropies = get_entropies_for_user_list(frequency_of_choose_difficulty_to_users['1.0'])\n",
    "print('mean entropy per user', np.mean(entropies))\n",
    "print('median entropy per user', np.median(entropies))\n",
    "plothist(entropies, 'Entropies per user, in bits (histogram), for users with frequency=1.0')"
   ]
  },
  {
   "cell_type": "code",
   "execution_count": null,
   "metadata": {},
   "outputs": [],
   "source": [
    "entropies = get_entropies_for_user_list(frequency_of_choose_difficulty_to_users['0.5'])\n",
    "print('mean entropy per user', np.mean(entropies))\n",
    "print('median entropy per user', np.median(entropies))\n",
    "plothist(entropies, 'Entropies per user, in bits (histogram), for users with frequency=0.5')"
   ]
  },
  {
   "cell_type": "code",
   "execution_count": null,
   "metadata": {},
   "outputs": [],
   "source": [
    "entropies = get_entropies_for_user_list(frequency_of_choose_difficulty_to_users['0.25'])\n",
    "print('mean entropy per user', np.mean(entropies))\n",
    "print('median entropy per user', np.median(entropies))\n",
    "plothist(entropies, 'Entropies per user, in bits (histogram), for users with frequency=0.25')"
   ]
  },
  {
   "cell_type": "code",
   "execution_count": null,
   "metadata": {},
   "outputs": [],
   "source": [
    "#import moment\n",
    "#moment.unix(1544559305512.0)\n",
    "#import arrow\n",
    "#arrow.get(1544559305512.0 / 1000)"
   ]
  },
  {
   "cell_type": "code",
   "execution_count": null,
   "metadata": {},
   "outputs": [],
   "source": []
  },
  {
   "cell_type": "code",
   "execution_count": null,
   "metadata": {},
   "outputs": [],
   "source": [
    "def get_daynum_to_difficulty_choices(user):\n",
    "  difficulty_choices = get_choose_difficulty_items_for_user(user)\n",
    "  first_timestamp = None\n",
    "  output = {}\n",
    "  for item in difficulty_choices:\n",
    "    if 'type' not in item:\n",
    "      continue\n",
    "    if item['type'] != 'action':\n",
    "      continue\n",
    "    if 'difficulty' not in item:\n",
    "      continue\n",
    "    difficulty = item['difficulty']\n",
    "    timestamp = item['timestamp_local']\n",
    "    if first_timestamp == None or timestamp < first_timestamp:\n",
    "      first_timestamp = timestamp\n",
    "  for item in difficulty_choices:\n",
    "    if 'type' not in item:\n",
    "      continue\n",
    "    if item['type'] != 'action':\n",
    "      continue\n",
    "    if 'difficulty' not in item:\n",
    "      continue\n",
    "    difficulty = item['difficulty']\n",
    "    timestamp = item['timestamp_local']\n",
    "    daynum = (timestamp - first_timestamp) / (1000 * 3600 * 24)\n",
    "    daynum = int(math.floor(daynum))\n",
    "    if daynum not in output:\n",
    "      output[daynum] = {}\n",
    "    if difficulty not in output[daynum]:\n",
    "      output[daynum][difficulty] = 0\n",
    "    output[daynum][difficulty] += 1\n",
    "  return output\n",
    "\n",
    "def get_user_to_daynum_to_difficulty_choices():\n",
    "  output = {}\n",
    "  for user in user_list:\n",
    "    difficulty_counts = get_choose_difficulty_counts_for_user(user)\n",
    "    if len(difficulty_counts.keys()) == 0:\n",
    "      continue\n",
    "    daynum_to_difficulty_choices = get_daynum_to_difficulty_choices(user)\n",
    "    if len(daynum_to_difficulty_choices.keys()) == 0:\n",
    "      continue\n",
    "    output[user] = daynum_to_difficulty_choices\n",
    "  return output\n",
    "\n",
    "def get_daynum_to_difficulty_choices_over_n_days(num_days):\n",
    "  user_to_daynum_to_difficulty_choices = get_user_to_daynum_to_difficulty_choices()\n",
    "  output = []\n",
    "  for daynum in range(num_days):\n",
    "    item = {}\n",
    "    for x in 'nothing easy medium hard'.split(' '):\n",
    "      item[x] = 0\n",
    "    output.append(item)\n",
    "  for user,daynum_to_difficulty_choices in user_to_daynum_to_difficulty_choices.items():\n",
    "    has_data = True\n",
    "    for daynum in range(num_days):\n",
    "      if not daynum in daynum_to_difficulty_choices:\n",
    "        has_data = False\n",
    "        break\n",
    "    if not has_data:\n",
    "      continue\n",
    "    for daynum in range(num_days):\n",
    "      for difficulty,num_chosen in to_percent_dict(daynum_to_difficulty_choices[daynum]).items():\n",
    "        output[daynum][difficulty] += num_chosen\n",
    "      output[daynum] = to_percent_dict(output[daynum])\n",
    "  return output\n",
    "\n",
    "def list_of_dictionaries_to_dictionary_with_list_values(dlist):\n",
    "  output = {}\n",
    "  keys = dlist[0].keys()\n",
    "  for k in keys:\n",
    "    output[k] = []\n",
    "  for d in dlist:\n",
    "    for k,v in d.items():\n",
    "      output[k].append(v)\n",
    "  return output\n",
    "\n",
    "def plotline(values, title=''):\n",
    "  trace = go.Scatter(\n",
    "    x = list(range(len(values))),\n",
    "    y=values,\n",
    "  )\n",
    "  data = [trace]\n",
    "  layout = go.Layout(title=title)\n",
    "  fig = go.Figure(data=data, layout=layout)\n",
    "  iplot(fig)\n",
    "\n",
    "def plotlines(dict_to_values, title=''):\n",
    "  data = []\n",
    "  for label,values in dict_to_values.items():\n",
    "    trace = go.Scatter(\n",
    "      x = list(range(len(values))),\n",
    "      y=values,\n",
    "      name=label,\n",
    "    )\n",
    "    data.append(trace)\n",
    "  layout = go.Layout(title=title)\n",
    "  fig = go.Figure(data=data, layout=layout)\n",
    "  iplot(fig)\n",
    "\n",
    "#plotline([3,5,2])\n",
    "#plotlines({'a': [3,5,2], 'b': [7,7,7]})"
   ]
  },
  {
   "cell_type": "code",
   "execution_count": null,
   "metadata": {},
   "outputs": [],
   "source": []
  },
  {
   "cell_type": "code",
   "execution_count": null,
   "metadata": {},
   "outputs": [],
   "source": [
    "plotlines(list_of_dictionaries_to_dictionary_with_list_values(get_daynum_to_difficulty_choices_over_n_days(10)), 'Difficulty chosen over first 10 days of install')"
   ]
  },
  {
   "cell_type": "code",
   "execution_count": null,
   "metadata": {},
   "outputs": [],
   "source": [
    "def compute_entropy_over_n_days(num_days):\n",
    "  daynum_to_difficulty_choices = get_daynum_to_difficulty_choices_over_n_days(num_days)\n",
    "  output = []\n",
    "  for daynum in range(num_days):\n",
    "    difficulty_choices = daynum_to_difficulty_choices[daynum]\n",
    "    entropy_for_day = compute_entropy_for_difficulty_selections(difficulty_choices)\n",
    "    output.append(entropy_for_day)\n",
    "  return output\n",
    "\n",
    "#print(compute_entropy_over_n_days(10))\n",
    "plotline(compute_entropy_over_n_days(10), 'Entropy of difficulty choice selections over first 10 days of install')"
   ]
  },
  {
   "cell_type": "code",
   "execution_count": null,
   "metadata": {},
   "outputs": [],
   "source": [
    "plotline(compute_entropy_over_n_days(5), 'Entropy of difficulty choice selections over first 5 days of install')"
   ]
  },
  {
   "cell_type": "code",
   "execution_count": null,
   "metadata": {},
   "outputs": [],
   "source": [
    "user_to_daynum_to_difficulty_choices = get_user_to_daynum_to_difficulty_choices()\n",
    "print(len(user_to_daynum_to_difficulty_choices.keys()))"
   ]
  },
  {
   "cell_type": "code",
   "execution_count": null,
   "metadata": {},
   "outputs": [],
   "source": [
    "print(get_choose_difficulty_counts_for_user_list(difficulty_interface_to_users['time_afford']))"
   ]
  },
  {
   "cell_type": "code",
   "execution_count": null,
   "metadata": {},
   "outputs": [],
   "source": [
    "print(get_choose_difficulty_counts_for_user_list(difficulty_interface_to_users['this_intervention']))"
   ]
  },
  {
   "cell_type": "code",
   "execution_count": null,
   "metadata": {},
   "outputs": [],
   "source": [
    "print(get_choose_difficulty_counts_for_user_list(difficulty_interface_to_users['settings_update']))"
   ]
  },
  {
   "cell_type": "code",
   "execution_count": null,
   "metadata": {},
   "outputs": [],
   "source": []
  },
  {
   "cell_type": "code",
   "execution_count": null,
   "metadata": {},
   "outputs": [],
   "source": [
    "frequency_of_choose_difficulty_to_users = get_abtest_condition_to_user_list('frequency_of_choose_difficulty')"
   ]
  },
  {
   "cell_type": "code",
   "execution_count": null,
   "metadata": {},
   "outputs": [],
   "source": [
    "frequency_of_choose_difficulty_to_users.keys()"
   ]
  },
  {
   "cell_type": "code",
   "execution_count": null,
   "metadata": {},
   "outputs": [],
   "source": [
    "print(get_choose_difficulty_counts_for_user_list(frequency_of_choose_difficulty_to_users['1.0']))"
   ]
  },
  {
   "cell_type": "code",
   "execution_count": null,
   "metadata": {},
   "outputs": [],
   "source": [
    "print(get_choose_difficulty_counts_for_user_list(frequency_of_choose_difficulty_to_users['0.5']))"
   ]
  },
  {
   "cell_type": "code",
   "execution_count": null,
   "metadata": {},
   "outputs": [],
   "source": [
    "print(get_choose_difficulty_counts_for_user_list(frequency_of_choose_difficulty_to_users['0.25']))"
   ]
  },
  {
   "cell_type": "code",
   "execution_count": null,
   "metadata": {},
   "outputs": [],
   "source": [
    "#print(get_choose_difficulty_counts_for_user_list(frequency_of_choose_difficulty_to_users['0.0']))"
   ]
  },
  {
   "cell_type": "code",
   "execution_count": null,
   "metadata": {},
   "outputs": [],
   "source": [
    "#print('foobar')"
   ]
  },
  {
   "cell_type": "code",
   "execution_count": null,
   "metadata": {},
   "outputs": [],
   "source": [
    "#def get_lifetime_and_whether_attritioned(user):\n",
    "  "
   ]
  },
  {
   "cell_type": "code",
   "execution_count": null,
   "metadata": {},
   "outputs": [],
   "source": [
    "#choose_difficulty_set = set()\n",
    "#for x in collection_names:\n",
    "#  if 'difficulty' in x:\n",
    "#    choose_difficulty_set.add(x)"
   ]
  },
  {
   "cell_type": "code",
   "execution_count": null,
   "metadata": {},
   "outputs": [],
   "source": [
    "#print(choose_difficulty_set)\n",
    "#for x in choose_difficulty_set:\n",
    "  "
   ]
  }
 ],
 "metadata": {
  "kernelspec": {
   "display_name": "Python 3",
   "language": "python",
   "name": "python3"
  },
  "language_info": {
   "codemirror_mode": {
    "name": "ipython",
    "version": 3
   },
   "file_extension": ".py",
   "mimetype": "text/x-python",
   "name": "python",
   "nbconvert_exporter": "python",
   "pygments_lexer": "ipython3",
   "version": "3.6.5"
  }
 },
 "nbformat": 4,
 "nbformat_minor": 2
}
