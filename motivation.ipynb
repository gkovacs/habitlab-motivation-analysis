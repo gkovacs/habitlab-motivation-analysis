{
 "cells": [
  {
   "cell_type": "code",
   "execution_count": 1,
   "metadata": {
    "scrolled": true
   },
   "outputs": [
    {
     "data": {
      "text/html": [
       "<script type=\"text/javascript\">window.PlotlyConfig = {MathJaxConfig: 'local'};</script><script type=\"text/javascript\">if (window.MathJax) {MathJax.Hub.Config({SVG: {font: \"STIX-Web\"}});}</script><script>requirejs.config({paths: { 'plotly': ['https://cdn.plot.ly/plotly-latest.min']},});if(!window._Plotly) {require(['plotly'],function(plotly) {window._Plotly=plotly;});}</script>"
      ],
      "text/vnd.plotly.v1+html": [
       "<script type=\"text/javascript\">window.PlotlyConfig = {MathJaxConfig: 'local'};</script><script type=\"text/javascript\">if (window.MathJax) {MathJax.Hub.Config({SVG: {font: \"STIX-Web\"}});}</script><script>requirejs.config({paths: { 'plotly': ['https://cdn.plot.ly/plotly-latest.min']},});if(!window._Plotly) {require(['plotly'],function(plotly) {window._Plotly=plotly;});}</script>"
      ]
     },
     "metadata": {},
     "output_type": "display_data"
    }
   ],
   "source": [
    "import math\n",
    "from browser_libs import get_collection_items, get_collection_names, get_collection_for_user\n",
    "from memoize import memoize # pip install memoize2\n",
    "from collections import Counter\n",
    "import pandas as pd\n",
    "import numpy as np\n",
    "import scipy as sp\n",
    "import plotly.plotly as py\n",
    "import plotly.graph_objs as go\n",
    "from plotly.offline import download_plotlyjs, init_notebook_mode, plot, iplot\n",
    "init_notebook_mode(connected=True)"
   ]
  },
  {
   "cell_type": "code",
   "execution_count": 2,
   "metadata": {},
   "outputs": [
    {
     "name": "stdout",
     "output_type": "stream",
     "text": [
      "960c17bec89c59404248b47d_synced:experiment_vars\n"
     ]
    }
   ],
   "source": [
    "collection_names = get_collection_names()\n",
    "for x in collection_names:\n",
    "  if 'experiment_vars' in x and 'for_goal' not in x:\n",
    "    print(x)\n",
    "    break"
   ]
  },
  {
   "cell_type": "code",
   "execution_count": 3,
   "metadata": {},
   "outputs": [],
   "source": [
    "@memoize\n",
    "def get_users_with_choose_difficulty():\n",
    "  collection_names = get_collection_names()\n",
    "  output = []\n",
    "  for x in collection_names:\n",
    "    if x.endswith('_internal:choose_difficulty'):\n",
    "      user = x.replace('_internal:choose_difficulty', '')\n",
    "      output.append(user)\n",
    "  return output\n"
   ]
  },
  {
   "cell_type": "code",
   "execution_count": 4,
   "metadata": {},
   "outputs": [],
   "source": [
    "@memoize\n",
    "def get_choose_difficulty_items_for_user(user):\n",
    "  collection_items = get_collection_for_user(user, 'internal:choose_difficulty')\n",
    "  output = []\n",
    "  for x in collection_items:\n",
    "    if 'is_new_session' not in x:\n",
    "      continue\n",
    "    if x['is_new_session'] != True:\n",
    "      continue\n",
    "    if ('developer_mode' in x) and (x['developer_mode'] == True):\n",
    "      continue\n",
    "    if ('is_preview_mode' in x) and (x['is_preview_mode'] == True):\n",
    "      continue\n",
    "    if ('is_suggestion_mode' in x) and (x['is_suggestion_mode'] == True):\n",
    "      continue\n",
    "    output.append(x)\n",
    "  return output"
   ]
  },
  {
   "cell_type": "code",
   "execution_count": 5,
   "metadata": {},
   "outputs": [],
   "source": [
    "def get_choose_difficulty_counts_for_user(user):\n",
    "  collection_items = get_choose_difficulty_items_for_user(user)\n",
    "  output = {}\n",
    "  for x in collection_items:\n",
    "    if 'type' not in x:\n",
    "      continue\n",
    "    if x['type'] != 'action':\n",
    "      continue\n",
    "    if 'difficulty' not in x:\n",
    "      continue\n",
    "    difficulty = x['difficulty']\n",
    "    if difficulty not in output:\n",
    "      output[difficulty] = 1\n",
    "    else:\n",
    "      output[difficulty] += 1\n",
    "  return output"
   ]
  },
  {
   "cell_type": "code",
   "execution_count": 6,
   "metadata": {},
   "outputs": [],
   "source": [
    "def get_choose_difficulty_counts_for_user_list(user_list):\n",
    "  output = Counter()\n",
    "  for user in user_list:\n",
    "    difficulty_counts = get_choose_difficulty_counts_for_user(user)\n",
    "    for difficulty,count in difficulty_counts.items():\n",
    "      output[difficulty] += count\n",
    "  return output"
   ]
  },
  {
   "cell_type": "code",
   "execution_count": 7,
   "metadata": {},
   "outputs": [],
   "source": [
    "def get_choose_difficulty_counts_for_user_list_user_normalized(user_list):\n",
    "  output = Counter()\n",
    "  for user in user_list:\n",
    "    difficulty_counts = get_choose_difficulty_counts_for_user(user)\n",
    "    difficulty_counts = to_percent_dict(difficulty_counts)\n",
    "    for difficulty,count in difficulty_counts.items():\n",
    "      output[difficulty] += count\n",
    "  return to_percent_dict(output)"
   ]
  },
  {
   "cell_type": "code",
   "execution_count": 8,
   "metadata": {},
   "outputs": [],
   "source": [
    "def get_choose_difficulty_counts_for_all_users():\n",
    "  user_list = get_users_with_choose_difficulty()\n",
    "  return get_choose_difficulty_counts_for_user_list(user_list)"
   ]
  },
  {
   "cell_type": "code",
   "execution_count": 9,
   "metadata": {},
   "outputs": [],
   "source": [
    "def get_total_counts_for_user(user):\n",
    "  difficulty_counts = get_choose_difficulty_counts_for_user(user)\n",
    "  return sum(difficulty_counts.values())"
   ]
  },
  {
   "cell_type": "code",
   "execution_count": 10,
   "metadata": {},
   "outputs": [],
   "source": [
    "def num_types_tried(user):\n",
    "  difficulty_counts = get_choose_difficulty_counts_for_user(user)\n",
    "  return len(difficulty_counts.keys())"
   ]
  },
  {
   "cell_type": "code",
   "execution_count": 11,
   "metadata": {},
   "outputs": [],
   "source": [
    "def did_user_try_multiple(user):\n",
    "  return num_types_tried(user) > 1"
   ]
  },
  {
   "cell_type": "code",
   "execution_count": 12,
   "metadata": {},
   "outputs": [],
   "source": [
    "def get_try_multiple_counts_for_all_users():\n",
    "  output = {\n",
    "    'none_total': 0,\n",
    "    'one_total': 0,\n",
    "    'one_tried': 0,\n",
    "    'multiple_tried': 0,\n",
    "  }\n",
    "  for user in get_users_with_choose_difficulty():\n",
    "    total_counts = get_total_counts_for_user(user)\n",
    "    if total_counts == 0:\n",
    "      output['none_total'] += 1\n",
    "      continue\n",
    "    if total_counts == 1:\n",
    "      output['one_total'] += 1\n",
    "      continue\n",
    "    if did_user_try_multiple(user):\n",
    "      output['multiple_tried'] += 1\n",
    "    else:\n",
    "      output['one_tried'] += 1\n",
    "  return output"
   ]
  },
  {
   "cell_type": "code",
   "execution_count": 13,
   "metadata": {},
   "outputs": [],
   "source": [
    "def get_breakdown_for_one_tried():\n",
    "  output = Counter()\n",
    "  for user in get_users_with_choose_difficulty():\n",
    "    total_counts = get_total_counts_for_user(user)\n",
    "    if total_counts <= 1:\n",
    "      continue\n",
    "    if did_user_try_multiple(user):\n",
    "      continue\n",
    "    difficulty_counts = get_choose_difficulty_counts_for_user(user)\n",
    "    chosen_difficulty = list(difficulty_counts.keys())[0]\n",
    "    output[chosen_difficulty] += difficulty_counts[chosen_difficulty]\n",
    "  return output"
   ]
  },
  {
   "cell_type": "code",
   "execution_count": 14,
   "metadata": {},
   "outputs": [
    {
     "name": "stdout",
     "output_type": "stream",
     "text": [
      "1767\n"
     ]
    }
   ],
   "source": [
    "print(len(get_users_with_choose_difficulty()))"
   ]
  },
  {
   "cell_type": "code",
   "execution_count": 15,
   "metadata": {},
   "outputs": [
    {
     "name": "stdout",
     "output_type": "stream",
     "text": [
      "Counter({'nothing': 37739, 'easy': 19297, 'medium': 11129, 'hard': 6529})\n"
     ]
    }
   ],
   "source": [
    "print(get_choose_difficulty_counts_for_all_users())"
   ]
  },
  {
   "cell_type": "code",
   "execution_count": 16,
   "metadata": {
    "scrolled": true
   },
   "outputs": [
    {
     "name": "stdout",
     "output_type": "stream",
     "text": [
      "{'none_total': 207, 'one_total': 219, 'one_tried': 173, 'multiple_tried': 1168}\n"
     ]
    }
   ],
   "source": [
    "print(get_try_multiple_counts_for_all_users())"
   ]
  },
  {
   "cell_type": "code",
   "execution_count": 17,
   "metadata": {},
   "outputs": [
    {
     "name": "stdout",
     "output_type": "stream",
     "text": [
      "Counter({'nothing': 1843, 'medium': 285, 'easy': 259, 'hard': 28})\n"
     ]
    }
   ],
   "source": [
    "print(get_breakdown_for_one_tried())"
   ]
  },
  {
   "cell_type": "code",
   "execution_count": 18,
   "metadata": {},
   "outputs": [],
   "source": [
    "@memoize\n",
    "def get_abtest_settings(user):\n",
    "  output = {}\n",
    "  collection_items = get_collection_for_user(user, 'synced:experiment_vars')\n",
    "  for item in collection_items:\n",
    "    if 'key' not in item:\n",
    "      continue\n",
    "    if 'val' not in item:\n",
    "      continue\n",
    "    key = item['key']\n",
    "    val = item['val']\n",
    "    output[key] = val\n",
    "  return output\n"
   ]
  },
  {
   "cell_type": "code",
   "execution_count": 19,
   "metadata": {},
   "outputs": [],
   "source": [
    "def get_abtest_options_for_group(user_list):\n",
    "  conditions = {}\n",
    "  for user in user_list:\n",
    "    abtest_settings = get_abtest_settings(user)\n",
    "    for k,v in abtest_settings.items():\n",
    "      if k == 'intervention_firstimpression_notice_seenlist':\n",
    "        continue\n",
    "      if k not in conditions:\n",
    "        conditions[k] = []\n",
    "      if v not in conditions[k]:\n",
    "        conditions[k].append(v)\n",
    "  output = {}\n",
    "  for abtest_name,options in conditions.items():\n",
    "    if len(options) > 1:\n",
    "      output[abtest_name] = options\n",
    "  return output"
   ]
  },
  {
   "cell_type": "code",
   "execution_count": 20,
   "metadata": {},
   "outputs": [],
   "source": [
    "def get_abtest_condition_to_user_list(abtest_name):\n",
    "  # note this only applies to users in the get_users_with_choose_difficulty experiment currently\n",
    "  output = {}\n",
    "  for user in get_users_with_choose_difficulty():\n",
    "    abtest_settings = get_abtest_settings(user)\n",
    "    if abtest_name not in abtest_settings:\n",
    "      continue\n",
    "    abtest_option = abtest_settings[abtest_name]\n",
    "    if abtest_option not in output:\n",
    "      output[abtest_option] = []\n",
    "    output[abtest_option].append(user)\n",
    "  return output"
   ]
  },
  {
   "cell_type": "code",
   "execution_count": 21,
   "metadata": {},
   "outputs": [],
   "source": [
    "difficulty_interface_to_users = get_abtest_condition_to_user_list('choose_difficulty_interface')"
   ]
  },
  {
   "cell_type": "code",
   "execution_count": 22,
   "metadata": {},
   "outputs": [
    {
     "name": "stdout",
     "output_type": "stream",
     "text": [
      "{'this_intervention_toast': ['e0ea34c81d4b50cddc7bd752', 'f6e9666fa6fd68a8ff0e2781', 'cd23b0b59ec703eaf9cfcce8', 'e3b19f3c864f8dd7af248d02', 'c51926d259247f8b31c0d01b', 'a94ee2df5080dead6c550d8e', 'edaf0e9904e39285a2ae74fd', 'e05c2c37fc88d54684c7f2fb', '039a5ab92063f09a59340e92', 'cf0d62c2cd12a5900eeaefcc', '7b9202fc61594c45a1e96f82', 'ef64cb81ca663176daa85dec', '9fde12966c687b2051a06786', '6ffae4b0e0a58695ae4ee174', '962979c1f36542194cbe64e8', 'cf2b84b289d13a0fe56a7f71', '9ba55c3765b5fcfdb1753a1b', '39987e39f3e03b1dfc68bd5c', '6ddc12a3c376c61b9b5cd40f', 'c1603b3c13098a82375f9963', 'ad5638c428073e3f8464c860', '429bd37364e6e80caec5edac', 'cddefc078d3a25a18798e6b1', '0cd2af2a1e4819f5f4f4189f', '243ea8620fd06631645f326a', 'cd35f84b81596b0930f8d9b5', '26553fe0e77b38a210ba874f', '034dea3b2abb7b2c4644b0d3', 'd56263f0671bfe181ae03695', '5f5801d2a0074e8d05ab016b', '7be4f9cc8a0397f79583ac41', '10faebf95ab8ab9ba2f9582f', 'f62c0929108931d73b79cb86', '0ec135009c3ceb2ce7e4a86b', 'be07d7d1ed9bd562c2885cde', 'd95e91f532e51299e1c826f8', 'b01cb9c9f09623c0688ce090', 'd759c0f3f353b9c01a67b6d2', '6bbc8f6c01b33427ff8f20e9', 'ca4db5b397defb000e1a6bc8', 'c69c2c3338abb57f9c41759e', 'ae2daaf6ea8742b94d3961ce', '22eb55c78d5201e911c557b9', 'eeb8ea3e4b4a8b0b7af5fbff', '72f871e50682e95ee10f2071', 'deb2d1581cce279f66b42f2f', 'a73fc6100fc7b36fccda09c1', '0d76cf226739fd47504f3419', '057e5488a29cc41f6cd9c1f1', '8740753bc56765de36b8f3c5', 'd1f959c7c153b7ae35edea72', '07f7f0e2d150369c2c9e3572', '4d99e8cdfa7fe3d533b9745f', '78408af649dd586576edab66', '53c0fea8a3fe5fba4ebda953', 'bf915c3007979242bde4c39c', '56306df6e1b7069210a9a9aa', '6751d267a976e214e678b276', '350240ac1aed84fc034ef0d9', '602f037f733be179de683312', 'df32b5f8171148ac0e003926', '671ba7c15989dcb3b689de87', '56ea29a247d3552f15e9af0c', 'dcd0e131d5a7ba5dd2ff231a', '0bca07bdb36cd6fc1857875b', '8d8e7f54d9213bf2d0c6bd3b', '62a234f5087e93e7e250a506', '7051d260ac5ed2f4a9d6c10c', '8fe1f5e8526cce0440879359', '578b926277472fb2cd8d1130', 'b146b8c9639f1dd8cf5cecb5', '12ceeebc951892700938281f', '17561df6ce55314ad210d622', '7e9e145f21ae6bb5cbcd9edb', '8142ad13f231ee065fef7751', '707250b303e876ee5cc6a61c', 'a9b09d252c3424dbbae89aa6', '8cec958ad0ebd685a9e10ad1', 'cffb95c7f79f1a0793fe546f', 'd55ad9882c951036e26b2562', '118db85063bf29f7ab00f8a8', '399f23dc477288c1ae772cbe', '44046bbdac9b2e19024ab1d4', '2304a0750a5078c85d317eb2', 'aec188fd2b26054cf2911260', '4f36b7bf685c9a7eb1435f3e', 'd668ae1664d2f385646b47da', '549da80e06db6b008b3f79ca', '61aa681b8c6a7e4e048813e1', '438f2f8996f4b4a9eca7e5ca', 'cc5ff7d64a4c528e47691294', '845e419dee8202c520589fb4', '7fb92bb6d9efb9560839e921', '89e8ba81fa65c624d3ab4bac', '2f0c56ad16788d4b35f5c1a0', '7bb607a7d50e4385a27575ec', '2bf097d3337d753930e8e7ae', '3cc933bb65a44fe8bb25a0be', 'e35fd44a65c64927d2197d1e', '62c0ca891292db3b39193b7e', '5735aacca430afec1ee7b98d', '5ea35cc4b48dca87e7140e5d', '228e78f7acd4e7d8f03f3ca5', '33b267ce6ba1eea09883a9d9', 'ad6ac98cdd38b986d7a20197', 'dca5b0749242846d22c42738', 'dd05699567e1de0e154a3e66', '6bc520dd237f8533c0fe1761', '043532bd1f8ab94aee599287', '84c35030e500b7c26c099acb', 'f0f4ca1ed6a175ddb8ff0b6c', '353f22ebb8ca58d50c4ff6c0', 'fe9e6cbcf603d905d24e67a4', '4d2d9bf2865eb9218512c7af', '729f1784d10cc5bf3c7f9f72', 'eddff39417479e7ab36580c1', '6a89392321b4cc22897c501a', '3d640c3e8dd41a9de29bb6e6', '55fad49647c2e94d9dafe0a1', '089bae43e5b57391faf16c21', '9018466f8ff19644a8f0f07e', '69bd8ccbeed4b4a0e2694f92', '5a52d5095bee8b1bf9cc4587', 'bab3deb854ff260b056f98e8', '65d63f88976a750c1a281c29', 'b34f53474d5e01068bfe475b', 'b7e03e9fd9642583b0942688', '680fa57492ec14ee7cf2b625', 'ffd02244bc2124d362a88918', '01a90f3b3e469b6b8674d365', '312e85bec3146b4f12701d35', '8cdc00dae8e09e5618bf0e6a', '6289665fbced043b0b7149d5', '191c2a6df4cb1537499af61e', '6612fc57f78c61407f56023f', '34681c7ff5b1fd15de37d9ee', 'becd2c45ab0d292299ea389c', '1b8271ad47904753d9d1e4b3', '685eda0aace01fb1b837961b', 'fe8617699867551114fc5c63', 'cb8cb14f9788b83740c86493', '2c517d0c479d6c2ae26219a8', 'f0cc84fcaa742781ac5820f0', '2e2f56108dfcf590742d91cd', 'b5c7e2ab8aa309e0ba44442d', '9bb0ee2aa64e7baec92e82f7', '629f24f944bdf98f86b8d773', 'fde1797b33f767bfb4ac7952', '5ff9048eab137827fa446740', 'f92ad8a7c49dc93349aebc69', '982078b73e120a8ec0283118', '3e449d9e7143f94ed66eebe1', '726c92ca624b2fd99a8acdfa', '0d2483d57c8f634692dbe9c3', 'ddb10214701439713d69df2b', 'ff66543aecde06d495f8cf74', '23ebdbe291c15ce457280ea0', '68a49f75f9422acb39c6c6ab', '9b4564be30d09eb0ccfde0fd', '84cec107f45cb7851b56ebd8', '0e5e859214859b5e6383a1cf', '97a4d76bdc56abd8ebfbd2b5', '2d1ddf6cf9fc49a17cafc303', 'd347801411a564e10bba3b59', '503da81376a52d6715015404', 'd91824320387a1de3033de9c', 'b3dd048a4edefa21d3e47d34', 'ac5f5234cef7aa0c3d2cfb4a', 'eccab25415bb7312b6f9c385', 'ae4f94a892cef7c9b97d8a47', '4468b3968d4b7848779867fa', 'ff5114d4b2dfbc7dcbf110d7', '397ddfcac5c023ad342051cd', '5b29dd6f03803532b23cb8ac', '8cc6e3860b275bfa65e84f0b', 'e62892716dac748941643ade', '03a7f278322c9dd0d96e736e', 'ce67a16aa868a09bf7182c1b', 'd1419c903d85b18576bca031', 'b38959757947c0bc07e42355', '6fc9148d86a29f85614ff93c', '8d6d3a6e2fe413537ba56204', '5a08f6d119cbe8e322b8923b', 'd2b2d32b789db5a85693a75d', '823269c3b3bc4df6ec4227b8', 'f9f1abfe4fd438357c3ba82f', 'e4e0aa487f0d23fdb16c75b7', '37d2643e8e438ec61f074c0e', 'd099b57c5714877c270bd357', '82c603bcc71cf8a031117708', '5be9268041e8fdc090cb4071', '08e360408011dde125caa8ef', '9e5e8be38d11c910a14b9e39', 'c973242e460233ebaeba67d0', 'e67c66aeb775b5f056f63ee5', '261c7f169b5b612cb4ff7e18', '6497cb2037f42f62fd57c72b', 'f739dbffa77748e6696fab3c', '69d68185b8517c34829b4e2d', '479aaa7b11c1ed96b6670836', '04329c55d4c06cb72ddac25d', '3da9049735cce0050053e1b2', '147a850c79b0b0eca17777f1', '9d4e5a561d4d83486482ca62', '795eca0ec870200df9b76006', '75ed9c43b93535084c30890b', '3b446aa8e4f4e2ef19ea920a', '7874c404f12aa51689c97f2b', 'bc008c675cc7959e1a4a770f', '30faadbb5055018063b5d3ff', 'd1dac241aec43df7927ea35f', '53b63b48fa6c28602ebac869', 'ea297bff5e529601d9f38202', 'd1531d00eac7a59cab01ff19', '95d2c0fc566c199929b64197', '29e20a584013553c2d1c73fe', '90c9d078e9dee24eeae7c419', '929780c711757b0bd79f7a09', 'd338973c7b50675807c8fdcf', '4034070305729d62d091ea5b', '960167138d6ca7497d205064', '73644dcebbc1f700fa2513a0', '8a3de6e864efb11651702891', '38dcdbd867dae61d0d831c56', 'c974f5f00a7c37ab3e6c17ed', '55463ea8750e325b3499d700', 'ad10afb2d119741c334e6492', 'b95f6e7786df316996dc6fc5', '85bedb460b703182383c122b', 'f025fe1ade3c840dbdea7a81', '165b8384832c48d379ba5a3b', 'dcc8874ee3e8571ebe996480', 'b9d90530008d1135d629a0db', '6ca0e243ae3b291112152ace', '81f0810f91f553b1b75340e4', '62ff7853e79083efcfd5ae55', 'b150c55c310a1f4c936d293d', '5821905b20584504fa38495e', '2773a31de09da7829f104bcd', 'c95f212209f30821a39a19f3', '94eceed38afea7d2f7692e85', '7d336d353b0e5b89267acd69', '4f65c0dca095bd7f2b92949e', 'f02ed2d486fb9eb8b619d53f', 'a0d49c380615e3b7e396c5d7', '45167942f8ad25596011662d', '469b7159dfbe2409100c25ef', '793b55cad9599bc99bf305eb', '0f25c4d3bcec92b516fc0aba', '3c50e8791fe8d5a8c107b7ce', '23051524bbccd90c036bf21e', '5d6596bcfbbc678d9d79c41f', '919f0af2e5818fed3d7f46dd', 'ae352f5631495547c708cf43', '1fd07439f64c4ec201dc9514', '5fc1b2e389b56b68d6df7133', '91895d06176b96f6e1d39311', '75d602d54f5484255b9fbb38', '5723acc5ec7c1a390529a54d', '55c173f7f67dd52f5796f9d8', 'b5aa3fafe014a5612ff193fb', '4112e471c30124b7597c4738', 'fb19ffdffb224867378c67b4', 'a82e71f10487e1f8f80c4552', '4c90b0569f1caad0604bcd64', '8e83771ba2b52a591ef47f18', 'bed05c328fcb0e7226787765', '526c898730e150779462250c', '74be4661bdf81b46dbd4f065', '77802a67600d33ca17032f33', 'debb05784429dedfa46638a4', '3356d1a457021695a8f59f13', '995757f4d2ecdc8424c2d942', '99da6e33aa546cf28d3fe7d9', '9916eea448bdb7c90b1a68ca', 'ab58b3b222f10ce91bf1573e', '32e7ebb90fb9eebed0ac660b', 'c6160aaab34054c6e9595e03', '7a4467a11e67de10dd7d492c', 'e9daae220d25d4bba97600fd', 'a2b2bbb0a73bbcbec0faaa41', 'ab17285b77de346cee5fc07d', 'e41affc6f9ee9b70eba898af', '4903c58dcc775c022331845d', '491153d305f443f23fe5391f', 'ce7faa96c02661693ad173e3', '03864dbf158c2920039ca914', 'df138730f0c51442b013b5b8', '55dfb1c6bbe79d67051eeb69', '797a33a4cdf6abe837cf37ab', '510931e87606362c97c8978f', 'e66ce3e564d28b4660c9dbf7', '9719ddd08526e3dc21cd90b9', '65156922e3b3a9984e65ee2e', 'c07a761eddbf579e3abf0539', 'bb20f7f5242463d295117b4d', 'ff4f7e45c00745a44d628ec3', '5e2d103a06fbebf48933ecf1', '49af23d33eb39f731e0e8060', 'feed13f2b9be6cdd205660c7', 'a70a3a87791d7c19a729d99e', '2d00e2370174e568635034f7', '7a796b893970c5dd3cbd3e2c', '6b2139632c138160b070d696', '5d32d055df0987d27e61a39a', 'c87e1a0c24e28e56446478d1', 'ec4e07e57aad4cb4750f9bdb', 'ba60a1c8f16834b027bbb6e2', '1ec8aa76ed06107fd384caed', '550f2efb4ea0e6e82bfbfc06', 'c756a9048d5a29e0017e397f', '6f60a1217e9bba1d9a9ebaa2', '6167cf28cd806e7216bb7f14', '95077b4663b00b677e43af97', 'bc540592e7fe56970c5b9414', 'f4a1ecf0b99c9acc64f3f684', '70bfee11685a11fda589cf5b', '9f63607d52338c379e9d74d2', 'd7ab990137c68a81beefb718', '2d7bdb5263221124d6123f07', 'f1d7a3ef831e1e729d87e562', '54e37440c4073772e3cd8963', '80580407efc92649d82b650e', 'f9f8f54cca3232723480138d', '2518c24bd3c0f91d51e671df', 'bc03665626f4e0709ea7e8a3', 'c1214c23d54065b55470e2c4', 'fa152a6c470e84dd9d2200c0', 'f65ad2af3f99fd25d528a687', 'c553aff8409b1a1f4e966475', '4563890c45d69af9521babeb', '80159e84e3fadc088450b0a7', '22e5d8537814c5db16e1f7d3', '87d5b07b49288cfedf5392c9', '0b47b1be3a4334f258063927', '7caa029244d10294629890f5', '185a4e6ea2ba3d9b69040611', 'c42dda4eba6d9a24c42795c1', '99d5afd2587cade3af5f7cda', '17e22cec95925e8c0a563c71', '4a55d06eba87225929f63abb', '8731903b076a4c2446a629b9', '2c020c1924a12b7ac28d4f86', '23c60610bc9978d37a5a52cf', 'aa1624b0ba7c3d4356fc8819', '376c20bd1bdd477072940b29', 'cc042b48224bd0d546ff55cc', '8a85a5555ab38059d2a5d858', '1d92397ae9bea829602f7198', 'eb50ceaef748ab8e60580f92', '5cf7ca161c3003b18575e6ff', 'bd9b64337a7cc82318b08d52', '10b8f1368100d744fefb697d', '077129cd9d735beedee1cbb4', 'acf52bee4c8abf4dedf031cd', '15f429704d223982ebc7ca24', '29eef7f0194319bf35e7cd6f', '47f5bfd75f3e7ef18cf66cf6', 'f642307f2f12f88278e0a74d', '760d6d27479753db0b5a6a98', 'b1e219ee18512be2b52a1d10', 'e8951b3683e5e970b6ddc8dd', 'b69d2b6e07e8a01aa3c4ca47', 'fd64784db227c27e14b9c8f1', '5e3687f12ffe762941a6ac7f', '0d41bde6d6328242aa909861', 'a29878663d906c7aafb521d9', '603bc2717e76e6b1fe709ef2', 'ec6b988777a7eea24e2b8410', '17dd5507b832e69c4a1611ea', '230bb3e75793b32df14710b4', '638006c06fbcc3672795247f', '6a64addc6677f169191dfcef', 'bf96ad64960861e5a4d6c569', '2e64ae58615cc885e031d352', '78bbbf277485a0e924a734ca', 'b9ef3c48e2ab3ff67d26566d', 'ac55abe7cafae8c902d0f7e8', '1367fd5854746fbbe4fa0959', '9dab1923f50fc32bb000710d', '3d4bb93fbeadee4a2cc228d9', 'c292e2e4bb00a5e02cdc854b', '6752e4b333a78cc22b905ea4', '0a5a3f46a615e3eb4898437a', '706b24085a377ff5dcbcea3b', '460c3da49bf65c5aad6608a7', '8919f5a7750cc7a3a7d23995', 'ad2caeb37faf903dbde9a774', '3be0a9de5b618195c21618aa', '9f123af00fe7d8acd0ca6c18', '75ee5ebd06e6be858814d7b5', '7b8b9c3a3d1aaef70ff54122', 'f4230254eae26656f3b6b6d9', '7c3e71fa77a8c2507cf935aa', '53ad84c711b1d285c9e8fc95', '8cc0112165c15bb7d67fd9f0', '170f0fb0aa6a854b1efe89d5', '06045bdb7fdc590986bed4d1', '0c2416b27f5268237f99ef0d', '3c44c5e45954fc5b9d49888f', 'f3ebce21e441e5354a44cae6', '6214dd4db658ab2157a175d6', 'ead11c1ad9b159b4f41e7f27', '5619fc9a0787b27332499520', '11ef69bedca87a3959d7650c', '8d618b1aa47a24688e77d4b0', '6ad1f121a66163acfc82e65b', '3173774ebf7a5dbb40ccfcfd', '53a7a26bd76e25b1aacf7dfc', '2b927395103008b7cfc918cf', 'a0a8d9223037e741b16bff96', '3f8d50eb6ee4905210e49719', '046c62d4db462ad4e699683b', '49c84ab4c0c76b72e511f0af', 'ce39d0f9dc2d4a7dab62d2c2', '67e15f0c7d7d36ff0955cfd7', '060b544d6e420c04e4d0e5cb', 'd5f13f439a61a2ea4c2da53f', 'a29207ac97c2d8948e7475b8', 'e9073e5534fa33d99221fd87', '6222e1f536a077b4ba3e0e3a', '4b71ae5a8df6a93e134a727b', '407d594e401bcb7c97ea5933', 'efdac606466a000b66240ab4', '68cf508093482b636339ecb3', '45cbe2535dc0d49e8dfefd85', '2cb79f08c241bc07d6b60f25', 'db720e9f1b4a9d5f1c095759', '9f4ab612b2b78dbe9c6f8314', '34f88479588760b0f7602963', 'a80090ce7639f13a8cf1850f', 'd1f9414b5472678a6c48f2a2', '2f470b7720f9088bfb180677', '7fcd032f6f9f3ea6278fe7cc', '38e0272cde4d060a9c84558f', '46023821f3049a8e3cb99a12', 'a90c8d1d8261b89a8120c380', '476560f347630b9767305ce4', '0ea34aa8bda116179b6069b9', 'bd5a83734c3c6b21da15e944', 'de4b5e1af816fdde9e7b3f75', '0911f02e9029fe5968464af3', 'bb5e34bad8c67161a3073b8a', '42d423a7795c4db18f83a31d', 'd56e20dd8eb07e6658e32b98', '4ca21b6f78c81620352e2066', 'bd4de1bf21519942e2c235e8', 'e2df46cc69e82fc50cc7bb98', '087dfda9e4b24dc548a8bd84', '053c751b36829143d2e4cf6d', '6f53cbef196d14989950c75e', 'e748eade7d7199d3458199f2', '77178110beccb44ed888ecdd', '7f52c8731b3ccc100adf56f2', 'aa99d940c34f7a7f63109910', 'f7e68a95224cf021acc029ef', '88c51045776e621b6a08542e', '7256721aeed534c20d50e7a9', '0e543d5eb54137d5b3bed87a', 'e8a72c62421d1b1cacc2b6f1', '0f2da3434e67cf15b0f2d1f8', 'e75beb5da9a5c7bc35a7d9d8', 'ff8ee5e4f9c07e70b0877544', 'af8df93a019bea99bdddd2af', '0ddb5cfd930b7872282072b5', 'cfdddf1e79d4752496d0ce4f', '8e135ee4e25cb0e1bda794db', '97321319bdcc3341c04e5e3a', '5b2bd9f5de389df5040f06c0', 'dc545c555ad5b031324d336a', '0f803a4a2074894a544e3aa4', 'd9b3825ffb122366704d19ae', 'd5298604c749f1f448e82a75', 'cceb3953e4ff2a92f4465c0d', 'cdb894a79956e7016ed8eca4', 'e7ebf944b2771f27cc5401e1', 'bc47858afe4bb9b24f5ea5f6', '4df8e676c58695ed9e4ce21e', 'dfe9dbe3ba93f97dfa9d4ad1', '6b746c00d81510987b1ec28a', 'ba0a177c1bfb21d24d95495d'], 'this_intervention': ['6e055258e3625ab1db57f0fa', 'cc43e1c331c9d74bf7b00fc6', '06b54759c28de7967024cedf', '0812df1382381cee3edab4b6', 'de6a908835401dcaf037cc95', '9ee9b7534c9bcafec6a13773', '329cbe941cea398f04cd560f', 'f05959c1a2ccd135e93b531e', '7d33ed1787c5d8b4f5bb9b11', '0951f6da6eff18c10db17810', 'b1cd523a3e8b9c65ed79dd9c', '6326707eff8b6e94a81fcc28', '028033fdfa87801f5ab9b713', '9c5f2b25a366062490398273', '4893b81edd7f0e2b102b0d1a', '9add59262ea1f3f7619decda', '97c51558e4074650392bf084', '1bfb8dc0cc5a41097c166a60', '4f9dfd154111179c642c8cf9', '83a0c03f7605c80cf2c395fa', '7bd50164fe03fd6254784ed3', '007c24675bd2b9078cc3cce5', '8fdc79a87aa36a0cfaa325e9', '025cf2acf9559abfe3e4fb26', 'ba447ba4a347d8e664105b68', '77d86a6eb6ec436369b2ebd6', 'e1405bdfc015a3c65de7f5f5', 'c68a708fd971bde157484962', '87ceaaabfec2abc0e9d0f65b', '1bdfaf739c98b2ab824c9f33', '707228497e8dba61b21c3119', 'ce082a1c93117c41b00445b6', 'e81a33655104697de42c9ded', '77aea8e12c3471ecf6f34c1f', '1605c7817668b405b3aef298', 'bd5ff5376f6b5e3790139217', 'a3535a341c80f1da60609e79', 'd2686034f10a0e3b2fe19f69', 'b472dbbb0f647e8b76d0b1c2', '821ec108d7aa60fdb4efcadc', '6d0dec097081a66ac3a3ddd9', '98497f3134bdb0e54b0356f6', 'f851fca88b2db718c8ec151a', 'e77656cf1c28cc3473dbadb4', '155dfd6fcbea2c632f7380c1', 'dbd17107575badc649e0cc48', '70337a657f2ec83808467bd3', '1112d44d45ad4b61ed93002e', '2b584c2f8e1a6abdf3d8edb5', '157ba744aa307d7f845a1853', '435dfd0c81fcdf879024d2c5', '08488fa14b33e869b4f9f142', 'e07c1b5906c246400e7c64df', '0c8ae705608041c1244e823a', '8401753cddc1d7f8d40cd0c0', 'a62a51af654282ed880797a2', '7990666ce2143a04ed94fd67', '047f627afa80008ccb0b2020', 'e48b30a4208b4d242eb982b8', 'b46e4fa069cc1d5e0ee2eb1e', '83d1b05e8acb0fb0984e8db7', '8eec8af6498d29e87323fd9e', 'f7bc103e54d34c39fe4f34bd', 'ac5db577f6903de2b1742f1a', '272bdfd42db21e042963fa11', '6f886b8df388d9d079cfa16b', '84fee669212988443231d39c', '9579d2bf5ad99f02dad5a9bf', 'cdd70c2b9066b2a94170c3d3', '89af37619a3ea3122e5bcd72', '62485258d69bc769643addf0', '2387ee173747161861938bbc', '80be56cc32b08e9e67ce8df5', '244955f7ea721a410642695a', '2bf317e4a10f93e63634ed98', '23cf768829b8d4b1d31e308e', '2064b7528590600a33c7cb80', 'eade7c04d9cce2319eb6950f', '5abbc8374811647848518858', '0fd847b0bca31208dd4a958a', '6722dbc2de4204e406850cbc', '44f6215dab7df6d70f04cda8', 'e102f4920f62aa9d479d3dff', 'b72ce5dfa42f8a544bf1c3f9', 'e1137d4284fbc209c8354d89', 'd4976bd7460ae8c073460d2c', '357ade2970311d078fcf7471', 'aca5d6344822b58a97fa8c7c', '342e34d0421defa888eff14f', '261d52dd2473c69da4465caa', '13620d0620ecb66cd27a902c', '58f780055f00449f48ccdc0d', '89c80b4f3864cec7f8355ed2', '7f92536eb1b833745339e44c', '01f3a63ca77ee3fddf40685e', '40c67958bbad194eb415336b', '888a8cbb6d9b19fc722fc577', 'e610d61904b860c24cca960e', '7bc140051427e5b975117bf7', 'bf6add1f7bb7e7167d9e6cb0', '5b5666ff1a0764f5a6b8be42', '79c117c58c03eeba01e965cf', 'f12773e0f35753df9f31cd16', '912b4e3f6fadba01a8983bb2', '249dbc7bd1ef5772014ad9d9', '33ec6d1263d859ada0eecdf0', '02402b1864641d8b29af2377', 'b0f305eb20fd267b168c3795', '1e80c6d1ff22683dfddee876', '5afba954c8b8118df9a336db', 'e4c7005fb56fa8ad453d0f6b', 'd9c0d33e34bb07fb5c60c6fe', '70272ecba88cc0321e1696b9', 'd0f8f37fb15a8e20e7655305', 'a937dabd26ee72b89449d42b', '9d9a0d84331d7d47b2fc2de6', '83f509ac9fbc374b4df48625', 'ddbaf5ccd132e8cd07112e62', '701566e334743d194ab62fb4', 'f65ff892f8fdde4e022c5d08', '9666e97abd6424c883108719', 'b4bdfcb549fa4c06d4cc25a1', '9a6a68bcb84a7fa68172b522', 'c29d2c20ca06646df11e7210', 'd582a9e0f3b68e38af7c391d', '10fa4a2d6a44bb7bf158b23f', '9e83d981453de9d2d2facc10', '88837ea3e091675774b09681', '6ab47e67a32f54762700652c', '808ae7e42516e23563ad3db0', '5576489d00e3a1419612e853', '74bc99182b3debd22f448444', 'e71af4ae741053636e280426', '534258958b83bb606c03bc64', 'd5f4b0b073dff2f1cd14b9e5', '57de3e1d433bbd3e2705c255', '2d9b95f03757f0f6a787b194', '65d3a9df2e990ffb5ac3a058', '9ebe2d5b89a1b9bbf3e44042', 'ca228b39972d959d30983b42', 'f03b3a48cbcb6b86a9bd4938', 'e7445fe18049bb60d9e2b1a7', '31433433beea7de3ddb01e93', '5b79969a6d183ef27a269729', '5a0089250c67d4ad2741eff9', '4b5073768b6e2e0c49580144', 'c58f86560c2d952e71c734a6', '2d451d8ce7f2ae51a1deca28', 'c8be0837b675e5cd351b22dd', 'b9ac76c0c1daf1d186edb213', '9992435f668c899f1b67bea2', '9d9980c2b252fe2a82213041', 'f8b8ca8526f4fb11ab41ee2c', '16fa3c65a3c8a261aca0238e', '9043ea3d261032f351243b97', 'c6cd0c93534949cfbc40d29a', '31b01917f9f663d51a403a8a', '02c79492594bea533c4809a7', '2c3eb21c043219394029af62', 'b4eb8d08b9db2a16d95d3851', 'd7aa390fcbdd0154bdcce726', '95c93dff54590ac1cb1f0d2b', 'fa5b0763220518309672923c', 'b0972e6bcb3fa2d914d7411d', '41ef1d27796733bf56312858', '9d7e4742bbaa38ee0f72c4ab', '7dfdcbe7e4d84cc50086eae1', '8329a6b3c48b6f72d583d28e', 'ab1df5ff13eb7d8c226924ca', 'bed74a6c114fddc4e30b971e', '589b11acaba20c05c950e169', '0067d27181d4b7260828b4f5', 'f481456a3dad303b4172ebfc', '62bb5fe6ca192438a18bdeca', '8f86413ff31639cc499a9c18', '1f15aa810bcf9ba42fed6e8b', '888396ee719332337f49e8f9', 'a5eff1b329c748cd98ba1938', 'a0e2efc66049a79dec1a4494', '81adedd6fca0879e3417b5c6', '86b99d2433cb7999a0a75f59', 'edcf8cecfef81b105b9baf90', '5c2338af38077b32d9108918', '7db1b2a595eaf3194730c4ef', 'a1c531c5d50d6859cc9b7cba', 'c3b5215f82663c1921e03924', '33d3657b4df961414d6f6579', '0a2ccff3c18ac87f50aeac2e', '6df4eb13541b9bab5893827c', '3509cb08a5d1dfe5aa151ef1', '1cb42198f7dbe54ba2b38f87', '03d7e8890a5586100d02b455', '97bfeb0d88425c52d8a3027e', '9bef0ba41c4bf8112447751f', '88c17526937e4d71db03be64', '224d58f53617988f0344f123', '51c07901504713d9c98e68df', 'cb1842381e2f761ffcd8487d', '732afe393d04dbceadced597', '813ec5afa1d1e09d4f020363', '0bcb8a2707ddda579049411a', '2246a9a5271f39c5ea423673', 'f9b725441992ed816e95f604', '81d4c9f009041d36390ab8c2', 'a5a049cd2bab39f3510e4ba0', 'fd59a976555665e4803b6697', '42dabb6f76c14499d5ee6912', '05b366cdd164a0c75444211a', '7ffed03a0d4068755649fe0e', '446f670f708701f29dce9d13', '29a294d5022abbed46d7f769', '1786e8a0563835887cdb2c5f', '983a486781e3e918068e4db2', 'baf4b9669d93a18ac2027501', '5ac0f6d9fd6e5bf200e3fbe3', '245d29343e544a271a6cadbe', 'd7cba1b962a93a469c0a2dce', '479fef99bde018542c146cb2', '52846205d51666aee56fe6b4', '61d874ca0c2a34c6f566e296', 'c6716979e3aa463dcaa08de9', '2b2a12be4b8bfbd8bfe3a7b5', '390275163862e3184041b7d6', '0ceba574984e5e8d5f1fe887', 'b79e6d45f59e9d6f0ee826e6', '00e42779517d6567934a0c12', '853e27562825ec6ce4d70f9e', '4dcfe9277d61b3cb739b352e', 'dc5a5ace834049dd7d5462fc', 'ae5b13d494c1a62ed4afdb5a', '32b7d0faf9f9d81e19b69801', 'dec8dca1cdde8c630ddc9586', '8e0b558819abe7b68376fb49', 'a421530a0b41f36964e06e07', '520c3de88286dce20409c548', 'fdcc56aaaf99dd533ccba6f4', 'cdaf3a57cf44e2c4841dfbe7', '5a9064f149b96d7682dd2c05', '9bb1275c2109db3dbda923b6', '08bf1f6049d676e37c53c1c6', '5ee8a58dc90aee0a927253da', '04cb406a86f41d123d033df5', '18fd76ce7e1453aef7b7db6a', '9bc442506dce1174d09df63d', '6fc1e674c501abff15478951', '31e596293f1b747f8d70bca6', '4be101903d60060a5246ff8d', 'df39dc27b7b3d14e185bf971', '50962c2bcc457556a4f772a6', '4e362b95c6df1a3cecaa840d', '3061dadf37f968be128be643', '614717e256b0641e6e164cee', 'dcaed829e2e5c27ce03ce989', '6cc338474e7bad2bdfc60220', 'b867c0732ae73e65e5c5d04c', 'c4af4af30594f11804ed07ce', '167d49d8ac3c5084c8578cd8', 'ad2067006f5f8789af765a93', '1a74c23b526ed866f0441444', 'c8fd6298fac362660b73a575', 'f9f56ae22f8c8f8b3be5c721', 'c8577e093d7fe810875fe6d8', '764dbd0f45344ce8acc0b5b7', '5ceae2be942ca91f09ab25a7', '41f84ae15ef6ceff96100ed1', '389225459f4f381bceb54a50', 'd4a038a453375df9c65e649d', '7ca23e369cabab564ecc5736', '103772fa497e2ef41ee388d8', '9f3129c405ff69ff1b3a2770', '3bfb7c877495da1f2c842870', 'bd957de7e373d97d41183426', '76104886c10c66e7aab98ebe', '83fdcbc465453b24679f0e9b', 'd78c52763e5c63ec12ef91a7', 'df562ee9326fd9d6a8d0493d', 'b0a3555873eacc7e6a28b104', '8e3e99e74cc64b76a977d6c2', '268fbe11f10c2f893781a86e', '26b80f17f51f0f27c26327d9', '0b512bed9bc3716c1117a521', '2306f17da7e078289ff94437', '51c4b8746e08a513d0f5916f', 'aa707648e359b70b424933e3', 'eb2621c317e7446ad8f3f1f4', 'd4d7fc6a23f0fc1c30a1cdd5', '34f4f1ffb7bdd7765dfac9a0', 'ed906381847fef32519dca51', '71aadc5ff3e384da50b1e7fd', 'b897d8aa5f98412ed2728c09', 'ffffd52cfa5f2e9bf6a10f0a', '946d3f0144f49b641b23d10c', 'fbb257cf531138519bddf084', '15182050961fe5b6b51277ac', '9f2a40a13ba640089c553221', '310f89cf21281b27d434c2c7', '1e36759d62b51ee55127e3ea', '475e889d20140acc374dc8df', '9457cef4b3bde71691a23e27', '0576e33e9656e70e42809000', '974ce09b370f04eb60cca20c', '672ee80648388a96a496c67a', '13fa72924b5f4e242b79ea98', 'e0c2d589a97e54d104aaf20f', 'c360bda9083464a313c3d433', '29c9ecdd69f93e2fd3da2901', 'c9337b5331942cc77a1dcb5d', 'd9663de4d0124faa17426389', '28ae4bcee9e60f01e2ff592a', '4cbcece86b63558a939b1195', '2bc37f68bc25090ca616dad3', 'f675a200db9e395a0d9664c1', 'f2b7b18eee41f36c4378d68f', 'b1176f621b5dbdcdc00e2603', '131b8588bce3f9496dd7a766', '44e1491ea993238234ffb95b', '6c2584797ff3e54db977f190', 'e84ebcbdece5a606a5177097', '6fa1251b3247ad735045d133', '2630dcf65f95d2ede589c5f6', '51635b984ff479a475421d01', 'f12f63a378a8ce4a1f9e856b', 'bff440437a5be8e0c175aaf0', '9da1d823cec91d3780cbceb2', '44ba0161172ec028af754247', 'b104f0690eb75c9b284157a3', 'fce645da940c68947a2865bb', 'db4815bf423993303baf4a31', 'd5bedf70921c6159855d6c56', 'e48b57bc484668fd268fc877', 'e901e68c5a9e04b80a111da7', '5deeac7f63626bfde2338471', '9a78251e828c3d8d2ae63a9f', 'bd106a69ac43a326070997b4', '77b741ea3e0c89d5ea3a7e50', '68a7150509fe7bd1b41cdc58', 'aa243450f621903aef8ef38e', '9fb33ce5003bfe9345f8ff18', '87b94cae027b319b5ede42d4', '4a34efaa691756a18af45817', '05fb859582ca77a3cc336407', 'b2772df727ad33cd34c53847', 'ab7b7b02751979d396c60f3c', '908af43fb9f18489c3ab8fba', 'fed078a8a181b7dce3608616', '0096425d15d512c160337ea2', '46020ed0c4c60faec4e26d34', '31ee2cf7392a6a9bbfdce343', 'e0b72fce18d8319ad6cd8d95', 'fa84c0d7e5f7496020e5fc88', '0b2139cbbed6338a4a70c727', '3691e034ce57ed1f0a9ad149', 'ec951df260c6d955a109109e', 'ad04661710960cda309d95d3', '3fdbece9158860761128ba65', '98d8403af1bb338fdcc9366c', '9a90568cd08ad9157265832d', 'd478578bed937d42fdbd11cb', '05fb99a0bd1af5a3d117b067', '4d03c8f3116cd70167f988f3', 'f3abd3b694ed2816a545c7f2', '1399de3053ec55ad58b578b3', '347e18c4bbd75e8537112a01', 'ec1e902605ea4f604976ec01', 'a156dae63d70d6761a6e6bde', 'a90f18b34d0e56064491312f', 'e3ae90d77f3759507a990d26', '9a195e4c8ee96305a7e5468c', '47540ee13469c284abf72cd2', '6128eea7b9ac03c573a554c8', 'c2638306a7ca5953fe1f5fe9', 'f7dcf1a4155e3f6e26121f66', '9356c73590d289f3d6a4047c', 'b2f85c4568378e9fc3d6106c', 'd372cdbd25b8e69a5d7b272b', '675bcefd263b5e615dccd5b5', 'f5838380084243cc3f47dd09', 'f10cefa3eb836dd4989a9629', '6dee0ec21dacd3987e29ac87', 'c744c0bc5712f11cc8871133', '42b8a17b229ad95c1e9f8158', '540d97d23fcd21f2ccd33f4d', '103cbd2a32af6bccc4ea44f9', 'fe4aa6723dd0a02ab7419129', '58f949727904ff567e776ee0', 'b319510a208d7c170cc32793', '1a64d81c1cacfbd86921e11f', '2c26c0c8cc69f38fd87cd972', '3449ec0f70e0dc8fce3896ef', 'ae329eb0e218c9346460fbd6', 'e4ef2bc5ce5729ca106d8947', '643e0a107b70b227561e791f', '2a47820fda1cd579b9903c60', '819c4e48cc09b78ccc15402d', '4519fefa6da435bdb5f2af96', 'bb71277ef41c1bdefd8d1f9b', '738c961597cfefd4f402e5eb', 'a5b34585600b76da74c31fd8', '156847d77c430978deaee435', 'ece3375d579d801620037228', 'b825dc1b4aa00ef503e59475', '0b07f9890606b27ce6b2e120', '010289c29033d8ef6dc36de7', 'ed35d98ee825c824f323bd5f', '12b3d115fb3c40ee55d7de46', '7177e3d84d4cd2fc2470b2c0', 'f6d27bbceb3096f8a82dbe6e', '0a3b96a5fbe446209318c92e', '4664abc7b0b82f70303db87a', '10037de3067e1b199041a11d', 'f33a49557d0a049cccebf4de', '567356b66b234421e94b665c', '716d0ee5f19c7438fde6e3c6', 'a081133efb15f3ebbf536c1e', 'a1c68e838ecf419ed6b54c34', '6d7fef916f0bcbf6a1ef22c8', '4d6c831b4d22ac6d1a0f316f', '9699b9e05cc9901ff522104c', 'bb9ec91257efb72f504bd699', '1d565839f7fbd346e205517e', '2f726b051dc6161cef7832f6', '859b2e9da1a3225828835417', 'ec3395687de4ea37a132cf22', 'deac68af0cd967026129f70d', 'e87b35721a8cae1521d16895', '33f2c6a4c03544d19b4f08e4', '8d90fd01cee89a077ea84a95', 'bb950b6435c34cf79f2aa623', 'a66750b3636ea7155c01069a', '87d72506faeb8d9c7f2fda7d', 'a15ec1df8563d89e22a86a06', 'c9bfddb9ff1866c43464db53', '4de61ad85f25d309e80b16d3', '164d75cd3331f4875695dc88', '2ad489dd255f93d8bc0778bf', '67394db81616b1bfb8b08ec9', 'f8d9d591c85029914116c06c', 'a6a19651e3d2f91b60766a2d', 'cd3081cf8876e6915585f64f', 'f6f5da37a72cc4f2f2e40e90', '6b4506c2667bb9531faf2612', '8e7d913d2db0628bfc8576b2', '8b5ff72da60494eab03bfcea', '82943fd722bd132734ba7137', 'f42309bc714b8c7bdc9f6bd6', 'd1fb81fc24a959f94a8bf45b', '5e0579cac972d7df2422a389', 'f46cd7c2d0c00a73a132af12', '7fb6a3a089b4a550d3940864', 'e5c3d57b9d1e78cc012a00ae', 'f105ece71904bbd5fe2f8ec3', 'ed0234ef70a2c1137a3d2620', '986971231da7b0c335d218e2', '0df2e3d9851b793b93f2a91a', 'e2e96854958c88b3dc27b828', '45c9c1e74ec0a48167838ca6', '6b91725b5367b06acb6f916f', 'ca47a20eb3fcd212929e49bf', 'eb1d4655aa7d05f12cf95767', '96ae32e97be489c2d1656696', 'af63777e3ee57c0cece80a0d', '11dec48c6b83f8f511e526f5', '5b135b9d3d4091d8e2bff769', 'f935dc0758d8d5118f3a622e', '9cce92b53ad1d97038b85639', '85ecbbecc4bfea94cc074a77', '0ee2d3b649a142613e228583', '4891b60c466c2f20d813325a', 'a8c55a630a58b6127e7175dc', '5a3e259c3618d2ec7369afc8', 'da1c8764247aa509ab5bd791', 'c9bdcc1ca44beee2429358fe', 'e8538c338240969a9d7a0539', 'bbb0a48a45f40792d1b18b35', '29a1e45ed0680aeee5f11cf3', '12597c55ae02decf39f4bfd4', 'eda28b547a15969cc176cfeb', '19bf2a61a7734088b2cff33e', 'edaeadcd5cbd17aaabed2d11', '046736eb5ac602eb8c829500', '5bb5886079544694ee7d94b0', '1e57913cb9e08ceecc08a7ee', 'cae16bef4051006387adcb04', '1d9fbbdf7300e9adddfda643', 'db3c427b93d9e2d5a4fc3e94', '057f64fb468235308848f900', '40cffe24a949ddbf3287ff87', 'b77dd7d331de15fa08220983', '61fda7d2b0d55df09e8d3289', '7d4f65487de3c21569518077', '2704c3780dead460439c022c', '247dafb8d2e53aec167e893c', 'dfa3a6c51090a2e08736a85a', 'bd38766d1f989be889102783', '479b9653d0efaf7cebe5f81f', 'ad1ba5af3620a087e69d9ecd', 'c192a2b155fcfe2d559bf9d1', 'cdfa5d14fcac7cc890855151', 'af511c07e3c5a87b392fdcea', '6db0092943b923b2e8f60737', '45b10074076832353ca944d1', '564dc2c07572ea02b849c877', 'd5d0c2ad446fc555d041a133', 'b707b0dd5b35c11767430b2d', '5ca94c0c12b6f9cb76b99aa3', 'ae794dccb2f48f45e2a6c758', '191d1a22e98cb8ccf1c5cfa9', '07c8f6e68d16603e3c92c1b7', 'fef68340dc5dad8df9b7848a', '1de2d50159c170d0a34a119d', 'dd98142d04e994f715403cfa', 'cc8e9b91eeab58e6f508993f', '4f48aaaadcf24f8a7c40822d', 'f4e108be2e5c53ffe8c7ce29', 'e80abfc3de48f77f3921fdb1', '8e213bfb47bd9cf99d4b977e', 'ae5827226f029741abf4f887', 'd63871b449d307753b2338f0', '957b709675f9178007c408d8', 'cae7dd7c24b6cb5d8c24eb40', 'efa1bce6941a250b34d003e8', '5d285013ada804061e0e3304', '8f8bfd4fc56beefb744e52ba', '73aaaaed1e8d484a9880e146', '05eed97547857a1b7ad085ee', '1cefab480098a8fc6dacb8e3', 'fe2ecd990d1e276c41c1482b', '02ff535e9837bbec76172d55', '0aca7c392243f55cad349558', '9c306c67bbdd620260167ba4', 'd69dc9add6f2afb5d1f27618', '545af930a3420c56ce8c7dbb', '7ff343564ed5859261d6df0a', '6e0654cd762c2e5c160a4431', 'bfefed86903a5ea29debbef4', '74e3232afb81d40268b02496', '2091fa30528436968194d8b5', '76009c0ef20420a0fc1e86c5', 'a7ab02df56c9e7092253f227', 'fea1b65dc1ff2527d5899b7c', 'fe6c3958e4c183d994b4663d', '4f40a18e50d1beef3ec77059', '845659dd56b8c9331670ee0c', 'ec29ce94ade655ba1a56c99b', '1af680dd003843539af951e5', 'd7aa3ce5f83e32f80e4b5b11', 'ffed3f5e51a6cd5dad72fc1d', 'abc1eb99b84024205b221b78', '3a201b104df2016873459dd2', 'b10035b966af5ff385c8c428', '937db5bb54959eb2e657425a', '096c6c6c8863bd2decbc9a5c', '5836368d5a92492b886035ed', 'a63d4eaa8130dc9f7cf02b28', '77fc8bafae1999b7a9655b12', '1445a0ad4e81dd0fb0dd6ab0', '7b9e8dbff3f63f37ab350362', '52478eb3507fdbe26e853d7e', '718e38a1c1e6be92f2e74102', 'f6b8fcf548ab0fbe0e4b8c8e', '7d1c844cdcbfa6485120d835', 'd325f40561488b5f450e88bf', 'e9c50b332f319416676f35f7', '005648ef03b968927261272c', '1d5177ad492e614121e3412a', 'a6cadfafd630f95896ffa2c2', 'be133d78cb1a5fdb93154415', 'b30629296bf7d6d91fef79b7', '04c646dee64771e47efbdafa', '29bb6f10cecca9759ef72917', 'c1a90c70d1ada6d19a048b95', '3231f01add157588b3b2ce12', 'b303d10cac458669d9411dad', '4f95ae3c4fabc021a1326df6', '8ac9265c8be0b4fb22e7040d', '49dfa4b4412fc2d9557d3d4d', '340ef581df674cf39e7a9da8', '0fa4a411a4cd69ecf84190e6', 'c334f346da92736a2f5fadf8', 'eda8f5924accd205679f651a', 'f01c24265ce6d5b8420b28dc', '7b699d92708e2fca9db0047a', '98f60011cb42bf4339163a04', '208e251ff92e5b60f54f9a1b', 'add8480323b5b051d482dbef', '70338b267dd51de7e1d5fe91', '128276a9491d1a987cf3b0b4', '94aa6f2af15338dd95d3ee06', '613d11e0fafb1ec8fc1c92f7', '5e417cafd2ba12a82100b7f4', '8c4823c590a17518afc6fd54', 'a776a1a73a9a242660d60a4a', '7e98919ecaf4311fcba58145', '0e2801fb15120445c5a289f2', 'a80fda77bdaa08aed591e9db', '5f2214a28aace163f9fac52f', '01bbdfaff1cee2bac0e4dc4f', '8df48dcbe7857d70640b368c', '1d77267ff7f9ab1d291526d7', '36723d6184e1201c782ea409', 'c596c386a51b05f8e72136d6', '59654c05785b476dd9bbcf49', '993e9c2979ddfd233eb6e87b', '31b5f3e843617e8e7d6b8ea1', '50daf5dd90fd8dcc11cf2055', 'e55260efa8c2af952869eed8', '81961ca030be6bf624ded76c', '28e451dd30f2023aa95eaf80', '4619d4b5a4df03abf3d5bf96', '5c34da9c723b7b7fb7830731'], 'time_afford': ['6e7271d2eeace3391528efea', '53f3f933b4ec99eb16a8580c', '8617b058a51286a5ab7b9e1c', '3056a2d989be02294adab708', '78cb68240cb3a717a5d6fa31', 'bc2a2a9aa64af2b5cd1b403a', '8a2d1ec53ad08c204a999032', '09d27c86d835df2af5f0be24', '61376097ff6748baf63e881b', 'b7223983c51cdb868ed9126d', '95ee5208b83ce0800cbf5152', 'e18af57bfabb4e0f6da914b5', '46b27427d80b5394dc9f09dc', 'cf8b97a7bb2605921d756284', '41f24a3dd6bceb8d0a8df5c8', 'b18e869555ee012d017456c5', '82029ae7e0cf58810a19534a', 'd90890b5c7b8c4efcda28c42', 'f4ac0658a07d13fab3de2498', 'dbce3d338b755aaadf7b4264', 'e7ca769377518d66ccdc19c3', '599efe06863304b00287b7ac', '23eab855cbe7f8f50e7986dc', '9c478b2a501d89dc2a68c8b4', 'c4d719399c459d7a65236f29', '09c312bcf7705bbb5e790d7a', '1589a7c5610e7fb5e3788736', '35119e013ddaa441b9c3f28c', '5fa00d34242c8c6fc66f69a7', '4631e0cbc3f222bee5fc4664', 'df0b4e455f45c5ae692175bc', '1122098b21d2edd8438f5303', '54eed4fc0cf5850c7c589b60', '08dcb4c0626fa03a27f70274', '993797f89227b760ece5929c', 'd5214de949e81129f9c2b9ac', 'be763f26a6488ea1d7c2ba66', '862ef50d6f6801e273cae99a', '72abb91d0daec4e47fed9818', '306268a6632fe38bb69d7305', '37f3d69b7a555b76c302df2f', 'b537c7524e9b2ceb844dcca1', '45b434dbae77bfda70880ca2', 'e9e4d1dfabc5cebeba5a6617', '2969f4d98c7e4985917bb8ff', 'f9f10056e0f303f646de2055', 'a4874bbfbc5c54aaa5eaeb3b', '93d25a1c2d1a4be5a0443512', '9d14195bae7976d99c743bde', 'e1db0b6bb8cdc2a6a6879b48', '319647af484aacc0d5fabc7d', 'd1c5ef05d3adcfb188344a24', '490c823ad1e5e87573af0615', '39142cdc607dc59a7bc1b095', '63246bd51af632966de41ff5', 'c26b116cdec7c37ff5dfc612', 'cdc94c551609bd8a8c26b624', '75d2f3897e1f41b7f1a9f584', 'a0d5dad7a6149744236f0d12', '2df5bba93a8061846ef8df22', '42b989a6aa5f4ca2c34f57d9', '428d7d492e9ac130032911ad', 'd8dc3a0d6a7ebf2ec16d067a', '491e5869a2a3df4408399f94', '79df2c00e38d43ff43d06221', 'c6b4af032286d5e88a489cf2', 'f3c3cc381a98828dc9b61084', '0db379d9ba899842a34a008c', 'f70fd960bb5c7d6d33606939', '0d0204e61d7e6b1a8a6791a2', 'a9918d999b83060a554f5337', '5b4f5ef2f0be064062842764', '8555d722020fafda44e2a8dd', '65f1392b09ac2f74f8ebea80', '44dd5db05d3842aaac92eb32', 'e837a3a10e33decff23c9897', '91b7653c0ccc634052f7bf75', '2220cdaf58683bfe53d5f72b', 'ed2c9d31df1e36565e938998', 'f514edb2c12ab9f37b027bc1', '8ca55a8ec6a7e219d91ea4bf', '55250ea1a39bee4e179afacb', '6484007555c64b753670fda8', 'a7ca7d749042a5d001382800', '4c77b649e0ce8234ad70fbd5', 'dc71bb3736851be20341bec6', 'e5967751c4ea5233426a7d24', 'd061294049171e31aa8b88b1', 'feace09e23b528b974636c2c'], 'settings_update': ['72d733ece4e778a1f19f6fef', '5ed53fe1b396c2936200bfbf', 'f1dff470b22314377fe17b57', '71098d5b5fa2c43aca67e72c', '0038a28ca863a4f560d099e0', '222d7f9138114a93b8a039c5', '42a903cbe4c9fde8e79ca3d3', 'ea122f6e31e1f14e74a1a2e0', 'e507909d613ba0280509942d', '6caa3fb1cce9488ac86a1ecd', 'f4af5881e24d2c9b7767e3f6', 'd6b032c0fad8b5457ff84941', '2c9fcc0b41127c38c93e2bd5', 'c5944cafea02b23774a5959f', 'b72240e3bb91425cfe7e28aa', '3a2181f88b0c8944ed08cc03', 'dac0fc29c29e2b411715ef3a', '1904dd0682849d370c254254', 'f64eb8a905cb054b9bdb6f72', 'b35cb929ac1ceaeb8b101b65', 'edc1e39c6a09004c59a0b061', '60f29a75361b82148fcb1c77', '957c28066b24e79ee5dda20a', '46a8868b2f529f0decc4a90d', '54d25b28eccb46e46e33df03', 'bf697956d17bd62182ba9e8c', 'd2b0da4471f7d460152e8576', '960824378bbbdab54d3a1b13', 'b62786323607946dc98e8ee2', '2f0fec9c0a3ee9f9e731dc46', '36604fc777afa3e3d85c4649', 'e6adb81384e46b6f720a9239', '3bd9b4d9398fb06bd0bad361', '06874e5a5427b18aa15bc4aa', '1262ac817ebdf0b39d795b59', '8e559c6554db3bbbcff7d1b5', 'd8c210edd4967790cc458610', '5bf29c4de3b10aace940f2fe', '0f38cde6c1e0cd2727571c5f', 'd2910c3fed7b0f73750df76b', '426de335226fd7cfeb76b920', '69f32ba9ae51239f7bab7bf6', 'bd3d9032a3bc8f5eb3635ab8', 'f2695edfe64a526986fb0b83', 'b1584bf90303eefb0ed83eda', 'ff5f102374f2453f5d11dfa1', 'f32cb59bc2542875d8f95312', '4447f0de5f79dc60750989f5', '26ff31f781dee4d279d85c22', 'd0fd104fb17c12ed4bec135a', '6de6cf27c09af8b136a6a950', 'e3d650eb237f5dfca22f1835', '0bc3e78c4ecd05a6573836a6', '2cc11117ba44aa9f0dec69a1', 'dd255758943abf38102497dc', '22e9433a1d7be8a0dae6ea9c', 'bbf13fd8b25105f117b3c931', '5d553942942322c5fce88a96', '1c499412ea5b034f2d45e0fe', 'a6a4b8327878e0849f128028', '2b094a50ccfbe785e2ab83a9', 'b83f7d5ff4c3695712f94f3b', '49d39fa16572b1652523d87e', '8e9a3e1717d60f22873441b6', '5b30481359252552b9dde0fb', 'f59bfe48cbe62d84b67a6342', '2371a488fcceec7a4d4f39c8', '59bab175c66b2e618f2640ec', '54323b1146330f4acf7fc81b', '5c69f950cbd4884f485874d0', 'e8c996497dbb275b5e15ea82', '5e7fbe23c2555cac2da675ce', 'a14bfb307b569e1de7c352a4', 'db880baf89fb8897e1b23ecb', '60b82300edccb77cc4a68bc2', 'c444bf914866da9c36fcf801', '6c85bfc98e08cac3406252f7', '8c8129e93451e4194b8a0705', 'b755196673711336b6bb6409', '3cb81441641c4ae828b55dbc', 'f433d8e1d57b8f7f99184cdf']}\n"
     ]
    }
   ],
   "source": [
    "print(difficulty_interface_to_users)"
   ]
  },
  {
   "cell_type": "code",
   "execution_count": 23,
   "metadata": {},
   "outputs": [],
   "source": [
    "frequency_of_choose_difficulty_to_users = get_abtest_condition_to_user_list('frequency_of_choose_difficulty')"
   ]
  },
  {
   "cell_type": "code",
   "execution_count": 24,
   "metadata": {},
   "outputs": [],
   "source": [
    "def get_choose_difficulty_level_mean_for_user_list(users):\n",
    "  difficulty_to_counts = get_choose_difficulty_counts_for_user_list(users)\n",
    "  difficulty_to_value = {\n",
    "    'nothing': 0,\n",
    "    'easy': 1,\n",
    "    'medium': 2,\n",
    "    'hard': 3,\n",
    "  }\n",
    "  values = []\n",
    "  for difficulty,count in difficulty_to_counts.items():\n",
    "    value = difficulty_to_value[difficulty]\n",
    "    values.append(value)\n",
    "  return np.mean(values)"
   ]
  },
  {
   "cell_type": "code",
   "execution_count": 25,
   "metadata": {},
   "outputs": [],
   "source": [
    "def get_choose_difficulty_level_mean_by_abtest(abtest_name):\n",
    "  condition_to_user_list = get_abtest_condition_to_user_list(abtest_name)\n",
    "  for condition,user_list in condition_to_user_list.items():\n",
    "    print(condition + ':' + str(get_choose_difficulty_level_mean_for_user_list(user_list)))"
   ]
  },
  {
   "cell_type": "code",
   "execution_count": null,
   "metadata": {},
   "outputs": [],
   "source": []
  },
  {
   "cell_type": "code",
   "execution_count": 26,
   "metadata": {},
   "outputs": [],
   "source": [
    "def get_key_to_ordering_mappings():\n",
    "  key_orderings = [\n",
    "    [\n",
    "      'this_intervention',\n",
    "      'time_afford',\n",
    "      'settings_update',\n",
    "    ],\n",
    "    [\n",
    "      'nothing',\n",
    "      'easy',\n",
    "      'medium',\n",
    "      'hard',\n",
    "    ],\n",
    "  ]\n",
    "  key_to_ordering = {}\n",
    "  for ordering in key_orderings:\n",
    "    key = ' '.join(sorted(ordering))\n",
    "    key_to_ordering[key] = ordering\n",
    "  return key_to_ordering\n",
    "\n",
    "def order_list(keys):\n",
    "  key = ' '.join(sorted(keys))\n",
    "  key_to_ordering_mappings = get_key_to_ordering_mappings()\n",
    "  return get_key_to_ordering_mappings()[key]\n",
    "\n",
    "def printdict(d):\n",
    "  keys = order_list(d.keys())\n",
    "  for x in keys:\n",
    "    print(x + ': ' + str(d[x]))\n",
    "\n",
    "def to_percent_dict(d):\n",
    "  output = {}\n",
    "  total = sum(d.values())\n",
    "  for k,v in d.items():\n",
    "    output[k] = v / total\n",
    "  return output\n",
    "\n",
    "def printdict_percent(d):\n",
    "  d = to_percent_dict(d)\n",
    "  printdict(d)"
   ]
  },
  {
   "cell_type": "code",
   "execution_count": 27,
   "metadata": {},
   "outputs": [],
   "source": [
    "def plotbar(values, labels=None, title=''):\n",
    "  data = [go.Bar(\n",
    "    x=labels,\n",
    "    y=values,\n",
    "  )]\n",
    "  layout = go.Layout(title=title)\n",
    "  fig = go.Figure(data=data, layout=layout)\n",
    "  iplot(fig)\n",
    "\n",
    "def plotbarh(values, labels=None, title=''):\n",
    "  data = [go.Bar(\n",
    "    y=labels,\n",
    "    x=values,\n",
    "    orientation='h',\n",
    "  )]\n",
    "  layout = go.Layout(title=title)\n",
    "  fig = go.Figure(data=data, layout=layout)\n",
    "  iplot(fig)\n",
    "\n",
    "def plothist(values, title=''):\n",
    "  data = [go.Histogram(x=values)]\n",
    "  layout = go.Layout(title=title)\n",
    "  fig = go.Figure(data=data, layout=layout)\n",
    "  iplot(fig)\n"
   ]
  },
  {
   "cell_type": "code",
   "execution_count": 28,
   "metadata": {},
   "outputs": [],
   "source": [
    "def plotdict(d, title=''):\n",
    "  keys = order_list(d.keys())\n",
    "  values = [d[k] for k in keys]\n",
    "  plotbarh(values, keys, title)"
   ]
  },
  {
   "cell_type": "code",
   "execution_count": null,
   "metadata": {},
   "outputs": [],
   "source": []
  },
  {
   "cell_type": "code",
   "execution_count": 29,
   "metadata": {},
   "outputs": [],
   "source": [
    "#for condition,user_list in condition_to_user_list.items():\n",
    "#  print(condition + ':' + str(get_choose_difficulty_level_mean_for_user_list(user_list)))"
   ]
  },
  {
   "cell_type": "code",
   "execution_count": 30,
   "metadata": {},
   "outputs": [
    {
     "name": "stdout",
     "output_type": "stream",
     "text": [
      "this_intervention_toast:1.5\n",
      "this_intervention:1.5\n",
      "time_afford:1.5\n",
      "settings_update:1.5\n"
     ]
    }
   ],
   "source": [
    "get_choose_difficulty_level_mean_by_abtest('choose_difficulty_interface')"
   ]
  },
  {
   "cell_type": "code",
   "execution_count": 31,
   "metadata": {},
   "outputs": [
    {
     "name": "stdout",
     "output_type": "stream",
     "text": [
      "0.5:1.5\n",
      "1.0:1.5\n",
      "0.0:1.5\n",
      "0.25:1.5\n"
     ]
    }
   ],
   "source": [
    "get_choose_difficulty_level_mean_by_abtest('frequency_of_choose_difficulty')"
   ]
  },
  {
   "cell_type": "code",
   "execution_count": 32,
   "metadata": {},
   "outputs": [
    {
     "name": "stdout",
     "output_type": "stream",
     "text": [
      "nothing: 0.38308157099697887\n",
      "easy: 0.20211480362537765\n",
      "medium: 0.3021148036253776\n",
      "hard: 0.11268882175226586\n"
     ]
    }
   ],
   "source": [
    "printdict_percent(get_choose_difficulty_counts_for_user_list(difficulty_interface_to_users['time_afford']))"
   ]
  },
  {
   "cell_type": "code",
   "execution_count": 33,
   "metadata": {},
   "outputs": [
    {
     "name": "stdout",
     "output_type": "stream",
     "text": [
      "nothing: 0.3818063677712801\n",
      "easy: 0.3082521117608837\n",
      "medium: 0.18369070825211176\n",
      "hard: 0.12625081221572448\n"
     ]
    }
   ],
   "source": [
    "printdict_percent(get_choose_difficulty_counts_for_user_list(difficulty_interface_to_users['this_intervention']))"
   ]
  },
  {
   "cell_type": "code",
   "execution_count": 34,
   "metadata": {},
   "outputs": [
    {
     "name": "stdout",
     "output_type": "stream",
     "text": [
      "nothing: 0.3535465924895688\n",
      "easy: 0.250904033379694\n",
      "medium: 0.2478442280945758\n",
      "hard: 0.14770514603616133\n"
     ]
    }
   ],
   "source": [
    "printdict_percent(get_choose_difficulty_counts_for_user_list(difficulty_interface_to_users['settings_update']))"
   ]
  },
  {
   "cell_type": "code",
   "execution_count": 35,
   "metadata": {},
   "outputs": [
    {
     "name": "stdout",
     "output_type": "stream",
     "text": [
      "nothing: 0.3906441458740581\n",
      "easy: 0.202108864081911\n",
      "medium: 0.31655060840259214\n",
      "hard: 0.09069638164143869\n"
     ]
    }
   ],
   "source": [
    "printdict(get_choose_difficulty_counts_for_user_list_user_normalized(difficulty_interface_to_users['time_afford']))"
   ]
  },
  {
   "cell_type": "code",
   "execution_count": 36,
   "metadata": {},
   "outputs": [
    {
     "name": "stdout",
     "output_type": "stream",
     "text": [
      "nothing: 0.3549591990905958\n",
      "easy: 0.31827423278293615\n",
      "medium: 0.2040028136776861\n",
      "hard: 0.12276375444878194\n"
     ]
    }
   ],
   "source": [
    "printdict(get_choose_difficulty_counts_for_user_list_user_normalized(difficulty_interface_to_users['this_intervention']))"
   ]
  },
  {
   "cell_type": "code",
   "execution_count": 37,
   "metadata": {},
   "outputs": [
    {
     "name": "stdout",
     "output_type": "stream",
     "text": [
      "nothing: 0.46761279273555295\n",
      "easy: 0.24851214248031353\n",
      "medium: 0.18042732084338076\n",
      "hard: 0.10344774394075286\n"
     ]
    }
   ],
   "source": [
    "printdict(get_choose_difficulty_counts_for_user_list_user_normalized(difficulty_interface_to_users['settings_update']))"
   ]
  },
  {
   "cell_type": "code",
   "execution_count": 38,
   "metadata": {},
   "outputs": [
    {
     "data": {
      "application/vnd.plotly.v1+json": {
       "config": {
        "linkText": "Export to plot.ly",
        "plotlyServerURL": "https://plot.ly",
        "showLink": false
       },
       "data": [
        {
         "orientation": "h",
         "type": "bar",
         "uid": "fde50ee0-6b83-46cc-8342-a961086aa3f2",
         "x": [
          0.3906441458740581,
          0.202108864081911,
          0.31655060840259214,
          0.09069638164143869
         ],
         "y": [
          "nothing",
          "easy",
          "medium",
          "hard"
         ]
        }
       ],
       "layout": {
        "title": {
         "text": "Difficulty selections for \"time you can afford this visit\" interface"
        }
       }
      },
      "text/html": [
       "<div id=\"78276ce7-630f-4c79-883b-6dfa2360b3ff\" style=\"height: 525px; width: 100%;\" class=\"plotly-graph-div\"></div><script type=\"text/javascript\">require([\"plotly\"], function(Plotly) { window.PLOTLYENV=window.PLOTLYENV || {};window.PLOTLYENV.BASE_URL=\"https://plot.ly\";Plotly.newPlot(\"78276ce7-630f-4c79-883b-6dfa2360b3ff\", [{\"orientation\": \"h\", \"x\": [0.3906441458740581, 0.202108864081911, 0.31655060840259214, 0.09069638164143869], \"y\": [\"nothing\", \"easy\", \"medium\", \"hard\"], \"type\": \"bar\", \"uid\": \"fde50ee0-6b83-46cc-8342-a961086aa3f2\"}], {\"title\": {\"text\": \"Difficulty selections for \\\"time you can afford this visit\\\" interface\"}}, {\"showLink\": false, \"linkText\": \"Export to plot.ly\", \"plotlyServerURL\": \"https://plot.ly\"})});</script><script type=\"text/javascript\">window.addEventListener(\"resize\", function(){window._Plotly.Plots.resize(document.getElementById(\"78276ce7-630f-4c79-883b-6dfa2360b3ff\"));});</script>"
      ],
      "text/vnd.plotly.v1+html": [
       "<div id=\"78276ce7-630f-4c79-883b-6dfa2360b3ff\" style=\"height: 525px; width: 100%;\" class=\"plotly-graph-div\"></div><script type=\"text/javascript\">require([\"plotly\"], function(Plotly) { window.PLOTLYENV=window.PLOTLYENV || {};window.PLOTLYENV.BASE_URL=\"https://plot.ly\";Plotly.newPlot(\"78276ce7-630f-4c79-883b-6dfa2360b3ff\", [{\"orientation\": \"h\", \"x\": [0.3906441458740581, 0.202108864081911, 0.31655060840259214, 0.09069638164143869], \"y\": [\"nothing\", \"easy\", \"medium\", \"hard\"], \"type\": \"bar\", \"uid\": \"fde50ee0-6b83-46cc-8342-a961086aa3f2\"}], {\"title\": {\"text\": \"Difficulty selections for \\\"time you can afford this visit\\\" interface\"}}, {\"showLink\": false, \"linkText\": \"Export to plot.ly\", \"plotlyServerURL\": \"https://plot.ly\"})});</script><script type=\"text/javascript\">window.addEventListener(\"resize\", function(){window._Plotly.Plots.resize(document.getElementById(\"78276ce7-630f-4c79-883b-6dfa2360b3ff\"));});</script>"
      ]
     },
     "metadata": {},
     "output_type": "display_data"
    }
   ],
   "source": [
    "plotdict(get_choose_difficulty_counts_for_user_list_user_normalized(difficulty_interface_to_users['time_afford']), 'Difficulty selections for \"time you can afford this visit\" interface')"
   ]
  },
  {
   "cell_type": "code",
   "execution_count": 39,
   "metadata": {},
   "outputs": [
    {
     "data": {
      "application/vnd.plotly.v1+json": {
       "config": {
        "linkText": "Export to plot.ly",
        "plotlyServerURL": "https://plot.ly",
        "showLink": false
       },
       "data": [
        {
         "orientation": "h",
         "type": "bar",
         "uid": "955e109d-3d73-45d1-8f28-317c6f024a8e",
         "x": [
          0.3549591990905958,
          0.31827423278293615,
          0.2040028136776861,
          0.12276375444878194
         ],
         "y": [
          "nothing",
          "easy",
          "medium",
          "hard"
         ]
        }
       ],
       "layout": {
        "title": {
         "text": "Difficulty selections for \"intervention difficulty you want this visit\" interface"
        }
       }
      },
      "text/html": [
       "<div id=\"ff92ce47-36f4-4a95-a3ae-315fff778a45\" style=\"height: 525px; width: 100%;\" class=\"plotly-graph-div\"></div><script type=\"text/javascript\">require([\"plotly\"], function(Plotly) { window.PLOTLYENV=window.PLOTLYENV || {};window.PLOTLYENV.BASE_URL=\"https://plot.ly\";Plotly.newPlot(\"ff92ce47-36f4-4a95-a3ae-315fff778a45\", [{\"orientation\": \"h\", \"x\": [0.3549591990905958, 0.31827423278293615, 0.2040028136776861, 0.12276375444878194], \"y\": [\"nothing\", \"easy\", \"medium\", \"hard\"], \"type\": \"bar\", \"uid\": \"955e109d-3d73-45d1-8f28-317c6f024a8e\"}], {\"title\": {\"text\": \"Difficulty selections for \\\"intervention difficulty you want this visit\\\" interface\"}}, {\"showLink\": false, \"linkText\": \"Export to plot.ly\", \"plotlyServerURL\": \"https://plot.ly\"})});</script><script type=\"text/javascript\">window.addEventListener(\"resize\", function(){window._Plotly.Plots.resize(document.getElementById(\"ff92ce47-36f4-4a95-a3ae-315fff778a45\"));});</script>"
      ],
      "text/vnd.plotly.v1+html": [
       "<div id=\"ff92ce47-36f4-4a95-a3ae-315fff778a45\" style=\"height: 525px; width: 100%;\" class=\"plotly-graph-div\"></div><script type=\"text/javascript\">require([\"plotly\"], function(Plotly) { window.PLOTLYENV=window.PLOTLYENV || {};window.PLOTLYENV.BASE_URL=\"https://plot.ly\";Plotly.newPlot(\"ff92ce47-36f4-4a95-a3ae-315fff778a45\", [{\"orientation\": \"h\", \"x\": [0.3549591990905958, 0.31827423278293615, 0.2040028136776861, 0.12276375444878194], \"y\": [\"nothing\", \"easy\", \"medium\", \"hard\"], \"type\": \"bar\", \"uid\": \"955e109d-3d73-45d1-8f28-317c6f024a8e\"}], {\"title\": {\"text\": \"Difficulty selections for \\\"intervention difficulty you want this visit\\\" interface\"}}, {\"showLink\": false, \"linkText\": \"Export to plot.ly\", \"plotlyServerURL\": \"https://plot.ly\"})});</script><script type=\"text/javascript\">window.addEventListener(\"resize\", function(){window._Plotly.Plots.resize(document.getElementById(\"ff92ce47-36f4-4a95-a3ae-315fff778a45\"));});</script>"
      ]
     },
     "metadata": {},
     "output_type": "display_data"
    }
   ],
   "source": [
    "plotdict(get_choose_difficulty_counts_for_user_list_user_normalized(difficulty_interface_to_users['this_intervention']), 'Difficulty selections for \"intervention difficulty you want this visit\" interface')"
   ]
  },
  {
   "cell_type": "code",
   "execution_count": 40,
   "metadata": {},
   "outputs": [
    {
     "data": {
      "application/vnd.plotly.v1+json": {
       "config": {
        "linkText": "Export to plot.ly",
        "plotlyServerURL": "https://plot.ly",
        "showLink": false
       },
       "data": [
        {
         "orientation": "h",
         "type": "bar",
         "uid": "adac3ef0-f43b-4b69-b2a2-ac73f93e5170",
         "x": [
          0.46761279273555295,
          0.24851214248031353,
          0.18042732084338076,
          0.10344774394075286
         ],
         "y": [
          "nothing",
          "easy",
          "medium",
          "hard"
         ]
        }
       ],
       "layout": {
        "title": {
         "text": "Difficulty selections for \"update your difficulty settings\" interface"
        }
       }
      },
      "text/html": [
       "<div id=\"10df77a9-a464-48d4-abc3-90cc29721ad3\" style=\"height: 525px; width: 100%;\" class=\"plotly-graph-div\"></div><script type=\"text/javascript\">require([\"plotly\"], function(Plotly) { window.PLOTLYENV=window.PLOTLYENV || {};window.PLOTLYENV.BASE_URL=\"https://plot.ly\";Plotly.newPlot(\"10df77a9-a464-48d4-abc3-90cc29721ad3\", [{\"orientation\": \"h\", \"x\": [0.46761279273555295, 0.24851214248031353, 0.18042732084338076, 0.10344774394075286], \"y\": [\"nothing\", \"easy\", \"medium\", \"hard\"], \"type\": \"bar\", \"uid\": \"adac3ef0-f43b-4b69-b2a2-ac73f93e5170\"}], {\"title\": {\"text\": \"Difficulty selections for \\\"update your difficulty settings\\\" interface\"}}, {\"showLink\": false, \"linkText\": \"Export to plot.ly\", \"plotlyServerURL\": \"https://plot.ly\"})});</script><script type=\"text/javascript\">window.addEventListener(\"resize\", function(){window._Plotly.Plots.resize(document.getElementById(\"10df77a9-a464-48d4-abc3-90cc29721ad3\"));});</script>"
      ],
      "text/vnd.plotly.v1+html": [
       "<div id=\"10df77a9-a464-48d4-abc3-90cc29721ad3\" style=\"height: 525px; width: 100%;\" class=\"plotly-graph-div\"></div><script type=\"text/javascript\">require([\"plotly\"], function(Plotly) { window.PLOTLYENV=window.PLOTLYENV || {};window.PLOTLYENV.BASE_URL=\"https://plot.ly\";Plotly.newPlot(\"10df77a9-a464-48d4-abc3-90cc29721ad3\", [{\"orientation\": \"h\", \"x\": [0.46761279273555295, 0.24851214248031353, 0.18042732084338076, 0.10344774394075286], \"y\": [\"nothing\", \"easy\", \"medium\", \"hard\"], \"type\": \"bar\", \"uid\": \"adac3ef0-f43b-4b69-b2a2-ac73f93e5170\"}], {\"title\": {\"text\": \"Difficulty selections for \\\"update your difficulty settings\\\" interface\"}}, {\"showLink\": false, \"linkText\": \"Export to plot.ly\", \"plotlyServerURL\": \"https://plot.ly\"})});</script><script type=\"text/javascript\">window.addEventListener(\"resize\", function(){window._Plotly.Plots.resize(document.getElementById(\"10df77a9-a464-48d4-abc3-90cc29721ad3\"));});</script>"
      ]
     },
     "metadata": {},
     "output_type": "display_data"
    }
   ],
   "source": [
    "plotdict(get_choose_difficulty_counts_for_user_list_user_normalized(difficulty_interface_to_users['settings_update']), 'Difficulty selections for \"update your difficulty settings\" interface')"
   ]
  },
  {
   "cell_type": "code",
   "execution_count": null,
   "metadata": {},
   "outputs": [],
   "source": []
  },
  {
   "cell_type": "code",
   "execution_count": 41,
   "metadata": {},
   "outputs": [
    {
     "data": {
      "application/vnd.plotly.v1+json": {
       "config": {
        "linkText": "Export to plot.ly",
        "plotlyServerURL": "https://plot.ly",
        "showLink": false
       },
       "data": [
        {
         "orientation": "h",
         "type": "bar",
         "uid": "e0464c6a-4d70-4aba-96c2-8cfda40d8747",
         "x": [
          0.6013283467485221,
          0.2121866955332993,
          0.13605132087438898,
          0.05043363684378961
         ],
         "y": [
          "nothing",
          "easy",
          "medium",
          "hard"
         ]
        }
       ],
       "layout": {
        "title": {
         "text": "Difficulty selections if selection interface shown with p=1.0"
        }
       }
      },
      "text/html": [
       "<div id=\"79d8807a-a2b3-453f-bd8c-09648de2bd69\" style=\"height: 525px; width: 100%;\" class=\"plotly-graph-div\"></div><script type=\"text/javascript\">require([\"plotly\"], function(Plotly) { window.PLOTLYENV=window.PLOTLYENV || {};window.PLOTLYENV.BASE_URL=\"https://plot.ly\";Plotly.newPlot(\"79d8807a-a2b3-453f-bd8c-09648de2bd69\", [{\"orientation\": \"h\", \"x\": [0.6013283467485221, 0.2121866955332993, 0.13605132087438898, 0.05043363684378961], \"y\": [\"nothing\", \"easy\", \"medium\", \"hard\"], \"type\": \"bar\", \"uid\": \"e0464c6a-4d70-4aba-96c2-8cfda40d8747\"}], {\"title\": {\"text\": \"Difficulty selections if selection interface shown with p=1.0\"}}, {\"showLink\": false, \"linkText\": \"Export to plot.ly\", \"plotlyServerURL\": \"https://plot.ly\"})});</script><script type=\"text/javascript\">window.addEventListener(\"resize\", function(){window._Plotly.Plots.resize(document.getElementById(\"79d8807a-a2b3-453f-bd8c-09648de2bd69\"));});</script>"
      ],
      "text/vnd.plotly.v1+html": [
       "<div id=\"79d8807a-a2b3-453f-bd8c-09648de2bd69\" style=\"height: 525px; width: 100%;\" class=\"plotly-graph-div\"></div><script type=\"text/javascript\">require([\"plotly\"], function(Plotly) { window.PLOTLYENV=window.PLOTLYENV || {};window.PLOTLYENV.BASE_URL=\"https://plot.ly\";Plotly.newPlot(\"79d8807a-a2b3-453f-bd8c-09648de2bd69\", [{\"orientation\": \"h\", \"x\": [0.6013283467485221, 0.2121866955332993, 0.13605132087438898, 0.05043363684378961], \"y\": [\"nothing\", \"easy\", \"medium\", \"hard\"], \"type\": \"bar\", \"uid\": \"e0464c6a-4d70-4aba-96c2-8cfda40d8747\"}], {\"title\": {\"text\": \"Difficulty selections if selection interface shown with p=1.0\"}}, {\"showLink\": false, \"linkText\": \"Export to plot.ly\", \"plotlyServerURL\": \"https://plot.ly\"})});</script><script type=\"text/javascript\">window.addEventListener(\"resize\", function(){window._Plotly.Plots.resize(document.getElementById(\"79d8807a-a2b3-453f-bd8c-09648de2bd69\"));});</script>"
      ]
     },
     "metadata": {},
     "output_type": "display_data"
    }
   ],
   "source": [
    "plotdict(get_choose_difficulty_counts_for_user_list_user_normalized(frequency_of_choose_difficulty_to_users['1.0']), 'Difficulty selections if selection interface shown with p=1.0')"
   ]
  },
  {
   "cell_type": "code",
   "execution_count": 42,
   "metadata": {},
   "outputs": [
    {
     "data": {
      "application/vnd.plotly.v1+json": {
       "config": {
        "linkText": "Export to plot.ly",
        "plotlyServerURL": "https://plot.ly",
        "showLink": false
       },
       "data": [
        {
         "orientation": "h",
         "type": "bar",
         "uid": "ce8c9050-098f-40f2-9460-a7c49e72ee7c",
         "x": [
          0.36250604751514687,
          0.29300799125058224,
          0.21032057796915193,
          0.1341653832651191
         ],
         "y": [
          "nothing",
          "easy",
          "medium",
          "hard"
         ]
        }
       ],
       "layout": {
        "title": {
         "text": "Difficulty selections if selection interface shown with p=0.5"
        }
       }
      },
      "text/html": [
       "<div id=\"86545eb4-d6c7-4f3a-a3a2-3c399f28e3cb\" style=\"height: 525px; width: 100%;\" class=\"plotly-graph-div\"></div><script type=\"text/javascript\">require([\"plotly\"], function(Plotly) { window.PLOTLYENV=window.PLOTLYENV || {};window.PLOTLYENV.BASE_URL=\"https://plot.ly\";Plotly.newPlot(\"86545eb4-d6c7-4f3a-a3a2-3c399f28e3cb\", [{\"orientation\": \"h\", \"x\": [0.36250604751514687, 0.29300799125058224, 0.21032057796915193, 0.1341653832651191], \"y\": [\"nothing\", \"easy\", \"medium\", \"hard\"], \"type\": \"bar\", \"uid\": \"ce8c9050-098f-40f2-9460-a7c49e72ee7c\"}], {\"title\": {\"text\": \"Difficulty selections if selection interface shown with p=0.5\"}}, {\"showLink\": false, \"linkText\": \"Export to plot.ly\", \"plotlyServerURL\": \"https://plot.ly\"})});</script><script type=\"text/javascript\">window.addEventListener(\"resize\", function(){window._Plotly.Plots.resize(document.getElementById(\"86545eb4-d6c7-4f3a-a3a2-3c399f28e3cb\"));});</script>"
      ],
      "text/vnd.plotly.v1+html": [
       "<div id=\"86545eb4-d6c7-4f3a-a3a2-3c399f28e3cb\" style=\"height: 525px; width: 100%;\" class=\"plotly-graph-div\"></div><script type=\"text/javascript\">require([\"plotly\"], function(Plotly) { window.PLOTLYENV=window.PLOTLYENV || {};window.PLOTLYENV.BASE_URL=\"https://plot.ly\";Plotly.newPlot(\"86545eb4-d6c7-4f3a-a3a2-3c399f28e3cb\", [{\"orientation\": \"h\", \"x\": [0.36250604751514687, 0.29300799125058224, 0.21032057796915193, 0.1341653832651191], \"y\": [\"nothing\", \"easy\", \"medium\", \"hard\"], \"type\": \"bar\", \"uid\": \"ce8c9050-098f-40f2-9460-a7c49e72ee7c\"}], {\"title\": {\"text\": \"Difficulty selections if selection interface shown with p=0.5\"}}, {\"showLink\": false, \"linkText\": \"Export to plot.ly\", \"plotlyServerURL\": \"https://plot.ly\"})});</script><script type=\"text/javascript\">window.addEventListener(\"resize\", function(){window._Plotly.Plots.resize(document.getElementById(\"86545eb4-d6c7-4f3a-a3a2-3c399f28e3cb\"));});</script>"
      ]
     },
     "metadata": {},
     "output_type": "display_data"
    }
   ],
   "source": [
    "plotdict(get_choose_difficulty_counts_for_user_list_user_normalized(frequency_of_choose_difficulty_to_users['0.5']), 'Difficulty selections if selection interface shown with p=0.5')"
   ]
  },
  {
   "cell_type": "code",
   "execution_count": 43,
   "metadata": {},
   "outputs": [
    {
     "data": {
      "application/vnd.plotly.v1+json": {
       "config": {
        "linkText": "Export to plot.ly",
        "plotlyServerURL": "https://plot.ly",
        "showLink": false
       },
       "data": [
        {
         "orientation": "h",
         "type": "bar",
         "uid": "408c4f4c-ec1a-45a3-9747-3da529223b5c",
         "x": [
          0.5081499900663076,
          0.2380237354707623,
          0.18438110701820745,
          0.06944516744472261
         ],
         "y": [
          "nothing",
          "easy",
          "medium",
          "hard"
         ]
        }
       ],
       "layout": {
        "title": {
         "text": "Difficulty selections if selection interface shown with p=0.25"
        }
       }
      },
      "text/html": [
       "<div id=\"3ca53acf-4aee-4b89-94f5-2aecca2bc872\" style=\"height: 525px; width: 100%;\" class=\"plotly-graph-div\"></div><script type=\"text/javascript\">require([\"plotly\"], function(Plotly) { window.PLOTLYENV=window.PLOTLYENV || {};window.PLOTLYENV.BASE_URL=\"https://plot.ly\";Plotly.newPlot(\"3ca53acf-4aee-4b89-94f5-2aecca2bc872\", [{\"orientation\": \"h\", \"x\": [0.5081499900663076, 0.2380237354707623, 0.18438110701820745, 0.06944516744472261], \"y\": [\"nothing\", \"easy\", \"medium\", \"hard\"], \"type\": \"bar\", \"uid\": \"408c4f4c-ec1a-45a3-9747-3da529223b5c\"}], {\"title\": {\"text\": \"Difficulty selections if selection interface shown with p=0.25\"}}, {\"showLink\": false, \"linkText\": \"Export to plot.ly\", \"plotlyServerURL\": \"https://plot.ly\"})});</script><script type=\"text/javascript\">window.addEventListener(\"resize\", function(){window._Plotly.Plots.resize(document.getElementById(\"3ca53acf-4aee-4b89-94f5-2aecca2bc872\"));});</script>"
      ],
      "text/vnd.plotly.v1+html": [
       "<div id=\"3ca53acf-4aee-4b89-94f5-2aecca2bc872\" style=\"height: 525px; width: 100%;\" class=\"plotly-graph-div\"></div><script type=\"text/javascript\">require([\"plotly\"], function(Plotly) { window.PLOTLYENV=window.PLOTLYENV || {};window.PLOTLYENV.BASE_URL=\"https://plot.ly\";Plotly.newPlot(\"3ca53acf-4aee-4b89-94f5-2aecca2bc872\", [{\"orientation\": \"h\", \"x\": [0.5081499900663076, 0.2380237354707623, 0.18438110701820745, 0.06944516744472261], \"y\": [\"nothing\", \"easy\", \"medium\", \"hard\"], \"type\": \"bar\", \"uid\": \"408c4f4c-ec1a-45a3-9747-3da529223b5c\"}], {\"title\": {\"text\": \"Difficulty selections if selection interface shown with p=0.25\"}}, {\"showLink\": false, \"linkText\": \"Export to plot.ly\", \"plotlyServerURL\": \"https://plot.ly\"})});</script><script type=\"text/javascript\">window.addEventListener(\"resize\", function(){window._Plotly.Plots.resize(document.getElementById(\"3ca53acf-4aee-4b89-94f5-2aecca2bc872\"));});</script>"
      ]
     },
     "metadata": {},
     "output_type": "display_data"
    }
   ],
   "source": [
    "plotdict(get_choose_difficulty_counts_for_user_list_user_normalized(frequency_of_choose_difficulty_to_users['0.25']), 'Difficulty selections if selection interface shown with p=0.25')"
   ]
  },
  {
   "cell_type": "code",
   "execution_count": 44,
   "metadata": {},
   "outputs": [],
   "source": [
    "def get_daynum_to_difficulty_choices(user):\n",
    "  difficulty_choices = get_choose_difficulty_items_for_user(user)\n",
    "  first_timestamp = None\n",
    "  output = {}\n",
    "  for item in difficulty_choices:\n",
    "    if 'type' not in item:\n",
    "      continue\n",
    "    if item['type'] != 'action':\n",
    "      continue\n",
    "    if 'difficulty' not in item:\n",
    "      continue\n",
    "    difficulty = item['difficulty']\n",
    "    timestamp = item['timestamp_local']\n",
    "    if first_timestamp == None or timestamp < first_timestamp:\n",
    "      first_timestamp = timestamp\n",
    "  for item in difficulty_choices:\n",
    "    if 'type' not in item:\n",
    "      continue\n",
    "    if item['type'] != 'action':\n",
    "      continue\n",
    "    if 'difficulty' not in item:\n",
    "      continue\n",
    "    difficulty = item['difficulty']\n",
    "    timestamp = item['timestamp_local']\n",
    "    daynum = (timestamp - first_timestamp) / (1000 * 3600 * 24)\n",
    "    daynum = int(math.floor(daynum))\n",
    "    if daynum not in output:\n",
    "      output[daynum] = {}\n",
    "    if difficulty not in output[daynum]:\n",
    "      output[daynum][difficulty] = 0\n",
    "    output[daynum][difficulty] += 1\n",
    "  return output\n",
    "\n",
    "def get_user_to_daynum_to_difficulty_choices():\n",
    "  output = {}\n",
    "  user_list = get_users_with_choose_difficulty()\n",
    "  for user in user_list:\n",
    "    difficulty_counts = get_choose_difficulty_counts_for_user(user)\n",
    "    if len(difficulty_counts.keys()) == 0:\n",
    "      continue\n",
    "    daynum_to_difficulty_choices = get_daynum_to_difficulty_choices(user)\n",
    "    if len(daynum_to_difficulty_choices.keys()) == 0:\n",
    "      continue\n",
    "    output[user] = daynum_to_difficulty_choices\n",
    "  return output\n",
    "\n",
    "def get_daynum_to_difficulty_choices_over_n_days(num_days):\n",
    "  user_to_daynum_to_difficulty_choices = get_user_to_daynum_to_difficulty_choices()\n",
    "  output = []\n",
    "  for daynum in range(num_days):\n",
    "    item = {}\n",
    "    for x in 'nothing easy medium hard'.split(' '):\n",
    "      item[x] = 0\n",
    "    output.append(item)\n",
    "  for user,daynum_to_difficulty_choices in user_to_daynum_to_difficulty_choices.items():\n",
    "    has_data = True\n",
    "    for daynum in range(num_days):\n",
    "      if not daynum in daynum_to_difficulty_choices:\n",
    "        has_data = False\n",
    "        break\n",
    "    if not has_data:\n",
    "      continue\n",
    "    for daynum in range(num_days):\n",
    "      for difficulty,num_chosen in to_percent_dict(daynum_to_difficulty_choices[daynum]).items():\n",
    "        output[daynum][difficulty] += num_chosen\n",
    "      output[daynum] = to_percent_dict(output[daynum])\n",
    "  return output\n",
    "\n",
    "def list_of_dictionaries_to_dictionary_with_list_values(dlist):\n",
    "  output = {}\n",
    "  keys = dlist[0].keys()\n",
    "  for k in keys:\n",
    "    output[k] = []\n",
    "  for d in dlist:\n",
    "    for k,v in d.items():\n",
    "      output[k].append(v)\n",
    "  return output\n",
    "\n",
    "def plotline(values, title=''):\n",
    "  trace = go.Scatter(\n",
    "    x = list(range(len(values))),\n",
    "    y=values,\n",
    "  )\n",
    "  data = [trace]\n",
    "  layout = go.Layout(title=title)\n",
    "  fig = go.Figure(data=data, layout=layout)\n",
    "  iplot(fig)\n",
    "\n",
    "def plotlines(dict_to_values, title=''):\n",
    "  data = []\n",
    "  for label,values in dict_to_values.items():\n",
    "    trace = go.Scatter(\n",
    "      x = list(range(len(values))),\n",
    "      y=values,\n",
    "      name=label,\n",
    "    )\n",
    "    data.append(trace)\n",
    "  layout = go.Layout(title=title)\n",
    "  fig = go.Figure(data=data, layout=layout)\n",
    "  iplot(fig)\n",
    "\n",
    "#plotline([3,5,2])\n",
    "#plotlines({'a': [3,5,2], 'b': [7,7,7]})"
   ]
  },
  {
   "cell_type": "code",
   "execution_count": 45,
   "metadata": {},
   "outputs": [],
   "source": [
    "def compute_entropy_for_difficulty_selections(difficulty_selection_dict):\n",
    "  if len(difficulty_selection_dict.keys()) == 0:\n",
    "    return None\n",
    "  probs = to_percent_dict(difficulty_selection_dict)\n",
    "  items_to_sum = []\n",
    "  for k,prob in probs.items():\n",
    "    items_to_sum.append(prob * math.log(prob)/math.log(2))\n",
    "  return -sum(items_to_sum)\n",
    "\n",
    "def compute_entropy_for_difficulty_selections_for_user(user):\n",
    "    difficulty_counts = get_choose_difficulty_counts_for_user(user)\n",
    "    return compute_entropy_for_difficulty_selections(difficulty_counts)\n",
    "\n",
    "def get_entropies_for_user_list(user_list):\n",
    "  entropies = []\n",
    "  for user in user_list:\n",
    "    entropy = compute_entropy_for_difficulty_selections_for_user(user)\n",
    "    if entropy == None:\n",
    "      continue\n",
    "    entropies.append(entropy)\n",
    "  return entropies\n",
    "\n",
    "def get_entropies_for_all_users():\n",
    "  user_list = get_users_with_choose_difficulty()\n",
    "  return get_entropies_for_user_list(user_list)\n",
    "\n",
    "def get_entropies_for_all_users_more_than_5():\n",
    "  user_list = get_users_with_choose_difficulty()\n",
    "  return get_entropies_for_user_list_with_more_than_5(user_list)\n",
    "\n",
    "def get_entropies_for_all_users_with_10_first_days():\n",
    "  user_list = get_users_with_choose_difficulty()\n",
    "  return get_entropies_for_user_list_with_10_first_days(user_list)\n",
    "\n",
    "def get_entropies_for_user_list_with_more_than_5(user_list):\n",
    "  entropies = []\n",
    "  for user in user_list:\n",
    "    difficulty_counts = get_choose_difficulty_counts_for_user(user)\n",
    "    total = sum(difficulty_counts.values())\n",
    "    if total < 5:\n",
    "      continue\n",
    "    entropy = compute_entropy_for_difficulty_selections_for_user(user)\n",
    "    if entropy == None:\n",
    "      continue\n",
    "    entropies.append(entropy)\n",
    "  return entropies\n",
    "\n",
    "\n",
    "#print(user_list[0])\n",
    "#print(compute_entropy_for_difficulty_selections({'a': 0.25, 'b': 0.75}))\n",
    "\n",
    "def get_entropies_for_user_list_with_10_first_days(user_list):\n",
    "  entropies = []\n",
    "  user_to_daynum_to_difficulty_choices = get_user_to_daynum_to_difficulty_choices()\n",
    "  for user in user_list:\n",
    "    #difficulty_counts = get_choose_difficulty_counts_for_user(user)\n",
    "    daynum_to_difficulty_choices = user_to_daynum_to_difficulty_choices[user]\n",
    "    is_valid = True\n",
    "    for i in range(10):\n",
    "      if i not in daynum_to_difficulty_choices:\n",
    "        is_valid = False\n",
    "        break\n",
    "    if not is_valid:\n",
    "      continue\n",
    "    #total = sum(difficulty_counts.values())\n",
    "    #if total < 5:\n",
    "    #  continue\n",
    "    entropy = compute_entropy_for_difficulty_selections_for_user(user)\n",
    "    if entropy == None:\n",
    "      continue\n",
    "    entropies.append(entropy)\n",
    "  return entropies\n"
   ]
  },
  {
   "cell_type": "code",
   "execution_count": 47,
   "metadata": {},
   "outputs": [
    {
     "ename": "KeyError",
     "evalue": "'d45b8b82dec8ec3c591fdbd7'",
     "output_type": "error",
     "traceback": [
      "\u001b[0;31m---------------------------------------------------------------------------\u001b[0m",
      "\u001b[0;31mKeyError\u001b[0m                                  Traceback (most recent call last)",
      "\u001b[0;32m<ipython-input-47-118447b19b58>\u001b[0m in \u001b[0;36m<module>\u001b[0;34m()\u001b[0m\n\u001b[1;32m      1\u001b[0m \u001b[0;31m#print(np.mean(entropies))\u001b[0m\u001b[0;34m\u001b[0m\u001b[0;34m\u001b[0m\u001b[0m\n\u001b[1;32m      2\u001b[0m \u001b[0;31m#print(np.sum(entropies))\u001b[0m\u001b[0;34m\u001b[0m\u001b[0;34m\u001b[0m\u001b[0m\n\u001b[0;32m----> 3\u001b[0;31m \u001b[0mentropies\u001b[0m \u001b[0;34m=\u001b[0m \u001b[0mget_entropies_for_all_users_with_10_first_days\u001b[0m\u001b[0;34m(\u001b[0m\u001b[0;34m)\u001b[0m\u001b[0;34m\u001b[0m\u001b[0m\n\u001b[0m\u001b[1;32m      4\u001b[0m \u001b[0mprint\u001b[0m\u001b[0;34m(\u001b[0m\u001b[0;34m'mean entropy per user'\u001b[0m\u001b[0;34m,\u001b[0m \u001b[0mnp\u001b[0m\u001b[0;34m.\u001b[0m\u001b[0mmean\u001b[0m\u001b[0;34m(\u001b[0m\u001b[0mentropies\u001b[0m\u001b[0;34m)\u001b[0m\u001b[0;34m)\u001b[0m\u001b[0;34m\u001b[0m\u001b[0m\n\u001b[1;32m      5\u001b[0m \u001b[0mprint\u001b[0m\u001b[0;34m(\u001b[0m\u001b[0;34m'median entropy per user'\u001b[0m\u001b[0;34m,\u001b[0m \u001b[0mnp\u001b[0m\u001b[0;34m.\u001b[0m\u001b[0mmedian\u001b[0m\u001b[0;34m(\u001b[0m\u001b[0mentropies\u001b[0m\u001b[0;34m)\u001b[0m\u001b[0;34m)\u001b[0m\u001b[0;34m\u001b[0m\u001b[0m\n",
      "\u001b[0;32m<ipython-input-45-20be17d37a7f>\u001b[0m in \u001b[0;36mget_entropies_for_all_users_with_10_first_days\u001b[0;34m()\u001b[0m\n\u001b[1;32m     31\u001b[0m \u001b[0;32mdef\u001b[0m \u001b[0mget_entropies_for_all_users_with_10_first_days\u001b[0m\u001b[0;34m(\u001b[0m\u001b[0;34m)\u001b[0m\u001b[0;34m:\u001b[0m\u001b[0;34m\u001b[0m\u001b[0m\n\u001b[1;32m     32\u001b[0m   \u001b[0muser_list\u001b[0m \u001b[0;34m=\u001b[0m \u001b[0mget_users_with_choose_difficulty\u001b[0m\u001b[0;34m(\u001b[0m\u001b[0;34m)\u001b[0m\u001b[0;34m\u001b[0m\u001b[0m\n\u001b[0;32m---> 33\u001b[0;31m   \u001b[0;32mreturn\u001b[0m \u001b[0mget_entropies_for_user_list_with_10_first_days\u001b[0m\u001b[0;34m(\u001b[0m\u001b[0muser_list\u001b[0m\u001b[0;34m)\u001b[0m\u001b[0;34m\u001b[0m\u001b[0m\n\u001b[0m\u001b[1;32m     34\u001b[0m \u001b[0;34m\u001b[0m\u001b[0m\n\u001b[1;32m     35\u001b[0m \u001b[0;32mdef\u001b[0m \u001b[0mget_entropies_for_user_list_with_more_than_5\u001b[0m\u001b[0;34m(\u001b[0m\u001b[0muser_list\u001b[0m\u001b[0;34m)\u001b[0m\u001b[0;34m:\u001b[0m\u001b[0;34m\u001b[0m\u001b[0m\n",
      "\u001b[0;32m<ipython-input-45-20be17d37a7f>\u001b[0m in \u001b[0;36mget_entropies_for_user_list_with_10_first_days\u001b[0;34m(user_list)\u001b[0m\n\u001b[1;32m     55\u001b[0m   \u001b[0;32mfor\u001b[0m \u001b[0muser\u001b[0m \u001b[0;32min\u001b[0m \u001b[0muser_list\u001b[0m\u001b[0;34m:\u001b[0m\u001b[0;34m\u001b[0m\u001b[0m\n\u001b[1;32m     56\u001b[0m     \u001b[0;31m#difficulty_counts = get_choose_difficulty_counts_for_user(user)\u001b[0m\u001b[0;34m\u001b[0m\u001b[0;34m\u001b[0m\u001b[0m\n\u001b[0;32m---> 57\u001b[0;31m     \u001b[0mdaynum_to_difficulty_choices\u001b[0m \u001b[0;34m=\u001b[0m \u001b[0muser_to_daynum_to_difficulty_choices\u001b[0m\u001b[0;34m[\u001b[0m\u001b[0muser\u001b[0m\u001b[0;34m]\u001b[0m\u001b[0;34m\u001b[0m\u001b[0m\n\u001b[0m\u001b[1;32m     58\u001b[0m     \u001b[0mis_valid\u001b[0m \u001b[0;34m=\u001b[0m \u001b[0;32mTrue\u001b[0m\u001b[0;34m\u001b[0m\u001b[0m\n\u001b[1;32m     59\u001b[0m     \u001b[0;32mfor\u001b[0m \u001b[0mi\u001b[0m \u001b[0;32min\u001b[0m \u001b[0mrange\u001b[0m\u001b[0;34m(\u001b[0m\u001b[0;36m10\u001b[0m\u001b[0;34m)\u001b[0m\u001b[0;34m:\u001b[0m\u001b[0;34m\u001b[0m\u001b[0m\n",
      "\u001b[0;31mKeyError\u001b[0m: 'd45b8b82dec8ec3c591fdbd7'"
     ]
    }
   ],
   "source": [
    "#print(np.mean(entropies))\n",
    "#print(np.sum(entropies))\n",
    "entropies = get_entropies_for_all_users_with_10_first_days()\n",
    "print('mean entropy per user', np.mean(entropies))\n",
    "print('median entropy per user', np.median(entropies))\n",
    "plothist(entropies, 'Entropies per user, in bits (histogram)')"
   ]
  },
  {
   "cell_type": "code",
   "execution_count": null,
   "metadata": {},
   "outputs": [],
   "source": [
    "#print(np.mean(entropies))\n",
    "#print(np.sum(entropies))\n",
    "entropies = get_entropies_for_user_list(difficulty_interface_to_users['time_afford'])\n",
    "print('mean entropy per user', np.mean(entropies))\n",
    "print('median entropy per user', np.median(entropies))\n",
    "plothist(entropies, 'Entropies per user, in bits (histogram), for users with interface=time_afford')"
   ]
  },
  {
   "cell_type": "code",
   "execution_count": null,
   "metadata": {},
   "outputs": [],
   "source": [
    "entropies = get_entropies_for_user_list(difficulty_interface_to_users['this_intervention'])\n",
    "print('mean entropy per user', np.mean(entropies))\n",
    "print('median entropy per user', np.median(entropies))\n",
    "plothist(entropies, 'Entropies per user, in bits (histogram), for users with interface=this_intervention')"
   ]
  },
  {
   "cell_type": "code",
   "execution_count": null,
   "metadata": {},
   "outputs": [],
   "source": [
    "entropies = get_entropies_for_user_list(difficulty_interface_to_users['settings_update'])\n",
    "print('mean entropy per user', np.mean(entropies))\n",
    "print('median entropy per user', np.median(entropies))\n",
    "plothist(entropies, 'Entropies per user, in bits (histogram), for users with interface=settings_update')"
   ]
  },
  {
   "cell_type": "code",
   "execution_count": null,
   "metadata": {},
   "outputs": [],
   "source": [
    "entropies = get_entropies_for_user_list(frequency_of_choose_difficulty_to_users['1.0'])\n",
    "print('mean entropy per user', np.mean(entropies))\n",
    "print('median entropy per user', np.median(entropies))\n",
    "plothist(entropies, 'Entropies per user, in bits (histogram), for users with frequency=1.0')"
   ]
  },
  {
   "cell_type": "code",
   "execution_count": null,
   "metadata": {},
   "outputs": [],
   "source": [
    "entropies = get_entropies_for_user_list(frequency_of_choose_difficulty_to_users['0.5'])\n",
    "print('mean entropy per user', np.mean(entropies))\n",
    "print('median entropy per user', np.median(entropies))\n",
    "plothist(entropies, 'Entropies per user, in bits (histogram), for users with frequency=0.5')"
   ]
  },
  {
   "cell_type": "code",
   "execution_count": null,
   "metadata": {},
   "outputs": [],
   "source": [
    "entropies = get_entropies_for_user_list(frequency_of_choose_difficulty_to_users['0.25'])\n",
    "print('mean entropy per user', np.mean(entropies))\n",
    "print('median entropy per user', np.median(entropies))\n",
    "plothist(entropies, 'Entropies per user, in bits (histogram), for users with frequency=0.25')"
   ]
  },
  {
   "cell_type": "code",
   "execution_count": null,
   "metadata": {},
   "outputs": [],
   "source": [
    "#import moment\n",
    "#moment.unix(1544559305512.0)\n",
    "#import arrow\n",
    "#arrow.get(1544559305512.0 / 1000)"
   ]
  },
  {
   "cell_type": "code",
   "execution_count": null,
   "metadata": {},
   "outputs": [],
   "source": []
  },
  {
   "cell_type": "code",
   "execution_count": null,
   "metadata": {},
   "outputs": [],
   "source": []
  },
  {
   "cell_type": "code",
   "execution_count": null,
   "metadata": {},
   "outputs": [],
   "source": []
  },
  {
   "cell_type": "code",
   "execution_count": null,
   "metadata": {},
   "outputs": [],
   "source": [
    "plotlines(list_of_dictionaries_to_dictionary_with_list_values(get_daynum_to_difficulty_choices_over_n_days(10)), 'Difficulty chosen over first 10 days of install')"
   ]
  },
  {
   "cell_type": "code",
   "execution_count": null,
   "metadata": {},
   "outputs": [],
   "source": [
    "def compute_entropy_over_n_days(num_days):\n",
    "  daynum_to_difficulty_choices = get_daynum_to_difficulty_choices_over_n_days(num_days)\n",
    "  output = []\n",
    "  for daynum in range(num_days):\n",
    "    difficulty_choices = daynum_to_difficulty_choices[daynum]\n",
    "    entropy_for_day = compute_entropy_for_difficulty_selections(difficulty_choices)\n",
    "    output.append(entropy_for_day)\n",
    "  return output\n",
    "\n",
    "#print(compute_entropy_over_n_days(10))\n",
    "plotline(compute_entropy_over_n_days(10), 'Entropy of difficulty choice selections over first 10 days of install')"
   ]
  },
  {
   "cell_type": "code",
   "execution_count": null,
   "metadata": {},
   "outputs": [],
   "source": [
    "plotline(compute_entropy_over_n_days(5), 'Entropy of difficulty choice selections over first 5 days of install')"
   ]
  },
  {
   "cell_type": "code",
   "execution_count": null,
   "metadata": {},
   "outputs": [],
   "source": [
    "user_to_daynum_to_difficulty_choices = get_user_to_daynum_to_difficulty_choices()\n",
    "print(len(user_to_daynum_to_difficulty_choices.keys()))"
   ]
  },
  {
   "cell_type": "code",
   "execution_count": null,
   "metadata": {},
   "outputs": [],
   "source": [
    "print(get_choose_difficulty_counts_for_user_list(difficulty_interface_to_users['time_afford']))"
   ]
  },
  {
   "cell_type": "code",
   "execution_count": null,
   "metadata": {},
   "outputs": [],
   "source": [
    "print(get_choose_difficulty_counts_for_user_list(difficulty_interface_to_users['this_intervention']))"
   ]
  },
  {
   "cell_type": "code",
   "execution_count": null,
   "metadata": {},
   "outputs": [],
   "source": [
    "print(get_choose_difficulty_counts_for_user_list(difficulty_interface_to_users['settings_update']))"
   ]
  },
  {
   "cell_type": "code",
   "execution_count": null,
   "metadata": {},
   "outputs": [],
   "source": []
  },
  {
   "cell_type": "code",
   "execution_count": null,
   "metadata": {},
   "outputs": [],
   "source": [
    "frequency_of_choose_difficulty_to_users = get_abtest_condition_to_user_list('frequency_of_choose_difficulty')"
   ]
  },
  {
   "cell_type": "code",
   "execution_count": null,
   "metadata": {},
   "outputs": [],
   "source": [
    "frequency_of_choose_difficulty_to_users.keys()"
   ]
  },
  {
   "cell_type": "code",
   "execution_count": null,
   "metadata": {},
   "outputs": [],
   "source": [
    "print(get_choose_difficulty_counts_for_user_list(frequency_of_choose_difficulty_to_users['1.0']))"
   ]
  },
  {
   "cell_type": "code",
   "execution_count": null,
   "metadata": {},
   "outputs": [],
   "source": [
    "print(get_choose_difficulty_counts_for_user_list(frequency_of_choose_difficulty_to_users['0.5']))"
   ]
  },
  {
   "cell_type": "code",
   "execution_count": null,
   "metadata": {},
   "outputs": [],
   "source": [
    "print(get_choose_difficulty_counts_for_user_list(frequency_of_choose_difficulty_to_users['0.25']))"
   ]
  },
  {
   "cell_type": "code",
   "execution_count": null,
   "metadata": {},
   "outputs": [],
   "source": [
    "#print(get_choose_difficulty_counts_for_user_list(frequency_of_choose_difficulty_to_users['0.0']))"
   ]
  },
  {
   "cell_type": "code",
   "execution_count": null,
   "metadata": {},
   "outputs": [],
   "source": [
    "#print('foobar')"
   ]
  },
  {
   "cell_type": "code",
   "execution_count": null,
   "metadata": {},
   "outputs": [],
   "source": [
    "#def get_lifetime_and_whether_attritioned(user):\n",
    "  "
   ]
  },
  {
   "cell_type": "code",
   "execution_count": null,
   "metadata": {},
   "outputs": [],
   "source": [
    "#choose_difficulty_set = set()\n",
    "#for x in collection_names:\n",
    "#  if 'difficulty' in x:\n",
    "#    choose_difficulty_set.add(x)"
   ]
  },
  {
   "cell_type": "code",
   "execution_count": null,
   "metadata": {},
   "outputs": [],
   "source": [
    "#print(choose_difficulty_set)\n",
    "#for x in choose_difficulty_set:\n",
    "  "
   ]
  }
 ],
 "metadata": {
  "kernelspec": {
   "display_name": "Python 3",
   "language": "python",
   "name": "python3"
  },
  "language_info": {
   "codemirror_mode": {
    "name": "ipython",
    "version": 3
   },
   "file_extension": ".py",
   "mimetype": "text/x-python",
   "name": "python",
   "nbconvert_exporter": "python",
   "pygments_lexer": "ipython3",
   "version": "3.6.4"
  }
 },
 "nbformat": 4,
 "nbformat_minor": 2
}
