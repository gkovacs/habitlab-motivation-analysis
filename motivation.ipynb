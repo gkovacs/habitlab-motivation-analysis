{
 "cells": [
  {
   "cell_type": "code",
   "execution_count": 1,
   "metadata": {
    "scrolled": true
   },
   "outputs": [
    {
     "data": {
      "text/html": [
       "<script type=\"text/javascript\">window.PlotlyConfig = {MathJaxConfig: 'local'};</script><script type=\"text/javascript\">if (window.MathJax) {MathJax.Hub.Config({SVG: {font: \"STIX-Web\"}});}</script><script>requirejs.config({paths: { 'plotly': ['https://cdn.plot.ly/plotly-latest.min']},});if(!window._Plotly) {require(['plotly'],function(plotly) {window._Plotly=plotly;});}</script>"
      ],
      "text/vnd.plotly.v1+html": [
       "<script type=\"text/javascript\">window.PlotlyConfig = {MathJaxConfig: 'local'};</script><script type=\"text/javascript\">if (window.MathJax) {MathJax.Hub.Config({SVG: {font: \"STIX-Web\"}});}</script><script>requirejs.config({paths: { 'plotly': ['https://cdn.plot.ly/plotly-latest.min']},});if(!window._Plotly) {require(['plotly'],function(plotly) {window._Plotly=plotly;});}</script>"
      ]
     },
     "metadata": {},
     "output_type": "display_data"
    }
   ],
   "source": [
    "import math\n",
    "from browser_libs import get_collection_items, get_collection_names, get_collection_for_user\n",
    "from memoize import memoize # pip install memoize2\n",
    "from collections import Counter\n",
    "import pandas as pd\n",
    "import numpy as np\n",
    "import scipy as sp\n",
    "import plotly.plotly as py\n",
    "import plotly.graph_objs as go\n",
    "from plotly.offline import download_plotlyjs, init_notebook_mode, plot, iplot\n",
    "init_notebook_mode(connected=True)"
   ]
  },
  {
   "cell_type": "code",
   "execution_count": 2,
   "metadata": {},
   "outputs": [
    {
     "name": "stdout",
     "output_type": "stream",
     "text": [
      "960c17bec89c59404248b47d_synced:experiment_vars\n"
     ]
    }
   ],
   "source": [
    "collection_names = get_collection_names()\n",
    "for x in collection_names:\n",
    "  if 'experiment_vars' in x and 'for_goal' not in x:\n",
    "    print(x)\n",
    "    break"
   ]
  },
  {
   "cell_type": "code",
   "execution_count": 3,
   "metadata": {},
   "outputs": [],
   "source": [
    "@memoize\n",
    "def get_users_with_choose_difficulty():\n",
    "  collection_names = get_collection_names()\n",
    "  output = []\n",
    "  for x in collection_names:\n",
    "    if x.endswith('_internal:choose_difficulty'):\n",
    "      user = x.replace('_internal:choose_difficulty', '')\n",
    "      output.append(user)\n",
    "  return output\n"
   ]
  },
  {
   "cell_type": "code",
   "execution_count": 4,
   "metadata": {},
   "outputs": [],
   "source": [
    "@memoize\n",
    "def get_choose_difficulty_items_for_user(user):\n",
    "  collection_items = get_collection_for_user(user, 'internal:choose_difficulty')\n",
    "  output = []\n",
    "  for x in collection_items:\n",
    "    if 'is_new_session' not in x:\n",
    "      continue\n",
    "    if x['is_new_session'] != True:\n",
    "      continue\n",
    "    if ('developer_mode' in x) and (x['developer_mode'] == True):\n",
    "      continue\n",
    "    if ('is_preview_mode' in x) and (x['is_preview_mode'] == True):\n",
    "      continue\n",
    "    if ('is_suggestion_mode' in x) and (x['is_suggestion_mode'] == True):\n",
    "      continue\n",
    "    output.append(x)\n",
    "  return output"
   ]
  },
  {
   "cell_type": "code",
   "execution_count": 5,
   "metadata": {},
   "outputs": [],
   "source": [
    "def get_choose_difficulty_counts_for_user(user):\n",
    "  collection_items = get_choose_difficulty_items_for_user(user)\n",
    "  output = {}\n",
    "  for x in collection_items:\n",
    "    if 'type' not in x:\n",
    "      continue\n",
    "    if x['type'] != 'action':\n",
    "      continue\n",
    "    if 'difficulty' not in x:\n",
    "      continue\n",
    "    difficulty = x['difficulty']\n",
    "    if difficulty not in output:\n",
    "      output[difficulty] = 1\n",
    "    else:\n",
    "      output[difficulty] += 1\n",
    "  return output"
   ]
  },
  {
   "cell_type": "code",
   "execution_count": 6,
   "metadata": {},
   "outputs": [],
   "source": [
    "def get_choose_difficulty_counts_for_user_list(user_list):\n",
    "  output = Counter()\n",
    "  for user in user_list:\n",
    "    difficulty_counts = get_choose_difficulty_counts_for_user(user)\n",
    "    for difficulty,count in difficulty_counts.items():\n",
    "      output[difficulty] += count\n",
    "  return output"
   ]
  },
  {
   "cell_type": "code",
   "execution_count": 7,
   "metadata": {},
   "outputs": [],
   "source": [
    "def get_choose_difficulty_counts_for_user_list_user_normalized(user_list):\n",
    "  output = Counter()\n",
    "  for user in user_list:\n",
    "    difficulty_counts = get_choose_difficulty_counts_for_user(user)\n",
    "    difficulty_counts = to_percent_dict(difficulty_counts)\n",
    "    for difficulty,count in difficulty_counts.items():\n",
    "      output[difficulty] += count\n",
    "  return to_percent_dict(output)"
   ]
  },
  {
   "cell_type": "code",
   "execution_count": 8,
   "metadata": {},
   "outputs": [],
   "source": [
    "def get_choose_difficulty_counts_for_all_users():\n",
    "  user_list = get_users_with_choose_difficulty()\n",
    "  return get_choose_difficulty_counts_for_user_list(user_list)"
   ]
  },
  {
   "cell_type": "code",
   "execution_count": 9,
   "metadata": {},
   "outputs": [],
   "source": [
    "def get_total_counts_for_user(user):\n",
    "  difficulty_counts = get_choose_difficulty_counts_for_user(user)\n",
    "  return sum(difficulty_counts.values())"
   ]
  },
  {
   "cell_type": "code",
   "execution_count": 10,
   "metadata": {},
   "outputs": [],
   "source": [
    "def num_types_tried(user):\n",
    "  difficulty_counts = get_choose_difficulty_counts_for_user(user)\n",
    "  return len(difficulty_counts.keys())"
   ]
  },
  {
   "cell_type": "code",
   "execution_count": 11,
   "metadata": {},
   "outputs": [],
   "source": [
    "def did_user_try_multiple(user):\n",
    "  return num_types_tried(user) > 1"
   ]
  },
  {
   "cell_type": "code",
   "execution_count": 12,
   "metadata": {},
   "outputs": [],
   "source": [
    "def get_try_multiple_counts_for_all_users():\n",
    "  output = {\n",
    "    'none_total': 0,\n",
    "    'one_total': 0,\n",
    "    'one_tried': 0,\n",
    "    'multiple_tried': 0,\n",
    "  }\n",
    "  for user in get_users_with_choose_difficulty():\n",
    "    total_counts = get_total_counts_for_user(user)\n",
    "    if total_counts == 0:\n",
    "      output['none_total'] += 1\n",
    "      continue\n",
    "    if total_counts == 1:\n",
    "      output['one_total'] += 1\n",
    "      continue\n",
    "    if did_user_try_multiple(user):\n",
    "      output['multiple_tried'] += 1\n",
    "    else:\n",
    "      output['one_tried'] += 1\n",
    "  return output"
   ]
  },
  {
   "cell_type": "code",
   "execution_count": 13,
   "metadata": {},
   "outputs": [],
   "source": [
    "def get_breakdown_for_one_tried():\n",
    "  output = Counter()\n",
    "  for user in get_users_with_choose_difficulty():\n",
    "    total_counts = get_total_counts_for_user(user)\n",
    "    if total_counts <= 1:\n",
    "      continue\n",
    "    if did_user_try_multiple(user):\n",
    "      continue\n",
    "    difficulty_counts = get_choose_difficulty_counts_for_user(user)\n",
    "    chosen_difficulty = list(difficulty_counts.keys())[0]\n",
    "    output[chosen_difficulty] += difficulty_counts[chosen_difficulty]\n",
    "  return output"
   ]
  },
  {
   "cell_type": "code",
   "execution_count": 14,
   "metadata": {},
   "outputs": [
    {
     "name": "stdout",
     "output_type": "stream",
     "text": [
      "1294\n"
     ]
    }
   ],
   "source": [
    "print(len(get_users_with_choose_difficulty()))"
   ]
  },
  {
   "cell_type": "code",
   "execution_count": 15,
   "metadata": {},
   "outputs": [
    {
     "name": "stdout",
     "output_type": "stream",
     "text": [
      "Counter({'nothing': 29566, 'easy': 12809, 'medium': 6481, 'hard': 2723})\n"
     ]
    }
   ],
   "source": [
    "print(get_choose_difficulty_counts_for_all_users())"
   ]
  },
  {
   "cell_type": "code",
   "execution_count": 16,
   "metadata": {
    "scrolled": true
   },
   "outputs": [
    {
     "name": "stdout",
     "output_type": "stream",
     "text": [
      "{'none_total': 342, 'one_total': 155, 'one_tried': 207, 'multiple_tried': 590}\n"
     ]
    }
   ],
   "source": [
    "print(get_try_multiple_counts_for_all_users())"
   ]
  },
  {
   "cell_type": "code",
   "execution_count": 17,
   "metadata": {},
   "outputs": [
    {
     "name": "stdout",
     "output_type": "stream",
     "text": [
      "Counter({'nothing': 2860, 'easy': 696, 'medium': 509, 'hard': 52})\n"
     ]
    }
   ],
   "source": [
    "print(get_breakdown_for_one_tried())"
   ]
  },
  {
   "cell_type": "code",
   "execution_count": 18,
   "metadata": {},
   "outputs": [],
   "source": [
    "@memoize\n",
    "def get_abtest_settings(user):\n",
    "  output = {}\n",
    "  collection_items = get_collection_for_user(user, 'synced:experiment_vars')\n",
    "  for item in collection_items:\n",
    "    if 'key' not in item:\n",
    "      continue\n",
    "    if 'val' not in item:\n",
    "      continue\n",
    "    key = item['key']\n",
    "    val = item['val']\n",
    "    output[key] = val\n",
    "  return output\n"
   ]
  },
  {
   "cell_type": "code",
   "execution_count": 19,
   "metadata": {},
   "outputs": [],
   "source": [
    "def get_abtest_options_for_group(user_list):\n",
    "  conditions = {}\n",
    "  for user in user_list:\n",
    "    abtest_settings = get_abtest_settings(user)\n",
    "    for k,v in abtest_settings.items():\n",
    "      if k == 'intervention_firstimpression_notice_seenlist':\n",
    "        continue\n",
    "      if k not in conditions:\n",
    "        conditions[k] = []\n",
    "      if v not in conditions[k]:\n",
    "        conditions[k].append(v)\n",
    "  output = {}\n",
    "  for abtest_name,options in conditions.items():\n",
    "    if len(options) > 1:\n",
    "      output[abtest_name] = options\n",
    "  return output"
   ]
  },
  {
   "cell_type": "code",
   "execution_count": 20,
   "metadata": {},
   "outputs": [],
   "source": [
    "def get_abtest_condition_to_user_list(abtest_name):\n",
    "  # note this only applies to users in the get_users_with_choose_difficulty experiment currently\n",
    "  output = {}\n",
    "  for user in get_users_with_choose_difficulty():\n",
    "    abtest_settings = get_abtest_settings(user)\n",
    "    if abtest_name not in abtest_settings:\n",
    "      continue\n",
    "    abtest_option = abtest_settings[abtest_name]\n",
    "    if abtest_option not in output:\n",
    "      output[abtest_option] = []\n",
    "    output[abtest_option].append(user)\n",
    "  return output"
   ]
  },
  {
   "cell_type": "code",
   "execution_count": 21,
   "metadata": {},
   "outputs": [],
   "source": [
    "difficulty_interface_to_users = get_abtest_condition_to_user_list('choose_difficulty_interface')"
   ]
  },
  {
   "cell_type": "code",
   "execution_count": 22,
   "metadata": {},
   "outputs": [
    {
     "name": "stdout",
     "output_type": "stream",
     "text": [
      "{'this_intervention_toast': ['e0ea34c81d4b50cddc7bd752', '6bbc8f6c01b33427ff8f20e9', '4d99e8cdfa7fe3d533b9745f', '6751d267a976e214e678b276', '350240ac1aed84fc034ef0d9', '12ceeebc951892700938281f'], 'this_intervention': ['6e055258e3625ab1db57f0fa', 'cc43e1c331c9d74bf7b00fc6', '06b54759c28de7967024cedf', '0812df1382381cee3edab4b6', 'de6a908835401dcaf037cc95', '6ffae4b0e0a58695ae4ee174', '9ee9b7534c9bcafec6a13773', 'cf2b84b289d13a0fe56a7f71', '9ba55c3765b5fcfdb1753a1b', '329cbe941cea398f04cd560f', '39987e39f3e03b1dfc68bd5c', 'f05959c1a2ccd135e93b531e', '7d33ed1787c5d8b4f5bb9b11', '0951f6da6eff18c10db17810', 'b1cd523a3e8b9c65ed79dd9c', '6326707eff8b6e94a81fcc28', '028033fdfa87801f5ab9b713', '9c5f2b25a366062490398273', '4893b81edd7f0e2b102b0d1a', '9add59262ea1f3f7619decda', '97c51558e4074650392bf084', '1bfb8dc0cc5a41097c166a60', '4f9dfd154111179c642c8cf9', '83a0c03f7605c80cf2c395fa', '7bd50164fe03fd6254784ed3', '007c24675bd2b9078cc3cce5', '8fdc79a87aa36a0cfaa325e9', '025cf2acf9559abfe3e4fb26', 'ba447ba4a347d8e664105b68', '77d86a6eb6ec436369b2ebd6', 'e1405bdfc015a3c65de7f5f5', 'c68a708fd971bde157484962', '87ceaaabfec2abc0e9d0f65b', '1bdfaf739c98b2ab824c9f33', '707228497e8dba61b21c3119', 'ce082a1c93117c41b00445b6', 'e81a33655104697de42c9ded', '77aea8e12c3471ecf6f34c1f', '1605c7817668b405b3aef298', 'bd5ff5376f6b5e3790139217', 'a3535a341c80f1da60609e79', 'd2686034f10a0e3b2fe19f69', 'b472dbbb0f647e8b76d0b1c2', '821ec108d7aa60fdb4efcadc', '6d0dec097081a66ac3a3ddd9', '98497f3134bdb0e54b0356f6', 'f851fca88b2db718c8ec151a', 'e77656cf1c28cc3473dbadb4', '155dfd6fcbea2c632f7380c1', 'dbd17107575badc649e0cc48', '70337a657f2ec83808467bd3', '1112d44d45ad4b61ed93002e', '2b584c2f8e1a6abdf3d8edb5', '157ba744aa307d7f845a1853', '435dfd0c81fcdf879024d2c5', '08488fa14b33e869b4f9f142', 'e07c1b5906c246400e7c64df', '0c8ae705608041c1244e823a', '8401753cddc1d7f8d40cd0c0', 'a62a51af654282ed880797a2', '7990666ce2143a04ed94fd67', 'cddefc078d3a25a18798e6b1', '0cd2af2a1e4819f5f4f4189f', '047f627afa80008ccb0b2020', 'e48b30a4208b4d242eb982b8', 'b46e4fa069cc1d5e0ee2eb1e', '83d1b05e8acb0fb0984e8db7', '8eec8af6498d29e87323fd9e', '243ea8620fd06631645f326a', 'f7bc103e54d34c39fe4f34bd', 'ac5db577f6903de2b1742f1a', 'cd35f84b81596b0930f8d9b5', '6f886b8df388d9d079cfa16b', '84fee669212988443231d39c', '9579d2bf5ad99f02dad5a9bf', 'cdd70c2b9066b2a94170c3d3', '89af37619a3ea3122e5bcd72', '62485258d69bc769643addf0', '2387ee173747161861938bbc', '80be56cc32b08e9e67ce8df5', '244955f7ea721a410642695a', '2bf317e4a10f93e63634ed98', '23cf768829b8d4b1d31e308e', '2064b7528590600a33c7cb80', 'eade7c04d9cce2319eb6950f', '5abbc8374811647848518858', '0fd847b0bca31208dd4a958a', '6722dbc2de4204e406850cbc', '26553fe0e77b38a210ba874f', '44f6215dab7df6d70f04cda8', 'e102f4920f62aa9d479d3dff', 'b72ce5dfa42f8a544bf1c3f9', '034dea3b2abb7b2c4644b0d3', 'e1137d4284fbc209c8354d89', 'd4976bd7460ae8c073460d2c', '357ade2970311d078fcf7471', 'd56263f0671bfe181ae03695', 'aca5d6344822b58a97fa8c7c', '5f5801d2a0074e8d05ab016b', '342e34d0421defa888eff14f', '261d52dd2473c69da4465caa', '7be4f9cc8a0397f79583ac41', '13620d0620ecb66cd27a902c', '58f780055f00449f48ccdc0d', '89c80b4f3864cec7f8355ed2', '10faebf95ab8ab9ba2f9582f', '7f92536eb1b833745339e44c', '01f3a63ca77ee3fddf40685e', '40c67958bbad194eb415336b', '888a8cbb6d9b19fc722fc577', 'e610d61904b860c24cca960e', '7bc140051427e5b975117bf7', 'bf6add1f7bb7e7167d9e6cb0', '5b5666ff1a0764f5a6b8be42', '79c117c58c03eeba01e965cf', 'f12773e0f35753df9f31cd16', '912b4e3f6fadba01a8983bb2', '249dbc7bd1ef5772014ad9d9', '33ec6d1263d859ada0eecdf0', '02402b1864641d8b29af2377', 'b0f305eb20fd267b168c3795', 'f62c0929108931d73b79cb86', '1e80c6d1ff22683dfddee876', '5afba954c8b8118df9a336db', 'e4c7005fb56fa8ad453d0f6b', 'd9c0d33e34bb07fb5c60c6fe', '70272ecba88cc0321e1696b9', 'd0f8f37fb15a8e20e7655305', 'a937dabd26ee72b89449d42b', '9d9a0d84331d7d47b2fc2de6', '83f509ac9fbc374b4df48625', 'ddbaf5ccd132e8cd07112e62', '701566e334743d194ab62fb4', 'f65ff892f8fdde4e022c5d08', '9666e97abd6424c883108719', 'b4bdfcb549fa4c06d4cc25a1', '0ec135009c3ceb2ce7e4a86b', '9a6a68bcb84a7fa68172b522', 'c29d2c20ca06646df11e7210', 'd582a9e0f3b68e38af7c391d', '10fa4a2d6a44bb7bf158b23f', '9e83d981453de9d2d2facc10', '88837ea3e091675774b09681', '6ab47e67a32f54762700652c', '808ae7e42516e23563ad3db0', '5576489d00e3a1419612e853', '74bc99182b3debd22f448444', 'e71af4ae741053636e280426', '534258958b83bb606c03bc64', 'd5f4b0b073dff2f1cd14b9e5', 'be07d7d1ed9bd562c2885cde', '57de3e1d433bbd3e2705c255', 'd95e91f532e51299e1c826f8', '2d9b95f03757f0f6a787b194', '65d3a9df2e990ffb5ac3a058', '9ebe2d5b89a1b9bbf3e44042', 'ca228b39972d959d30983b42', 'f03b3a48cbcb6b86a9bd4938', 'e7445fe18049bb60d9e2b1a7', '31433433beea7de3ddb01e93', '5b79969a6d183ef27a269729', '5a0089250c67d4ad2741eff9', '4b5073768b6e2e0c49580144', 'c58f86560c2d952e71c734a6', '2d451d8ce7f2ae51a1deca28', 'c8be0837b675e5cd351b22dd', 'b9ac76c0c1daf1d186edb213', '9992435f668c899f1b67bea2', '9d9980c2b252fe2a82213041', 'f8b8ca8526f4fb11ab41ee2c', '16fa3c65a3c8a261aca0238e', '9043ea3d261032f351243b97', 'c6cd0c93534949cfbc40d29a', '31b01917f9f663d51a403a8a', '02c79492594bea533c4809a7', '2c3eb21c043219394029af62', 'b4eb8d08b9db2a16d95d3851', 'd7aa390fcbdd0154bdcce726', '95c93dff54590ac1cb1f0d2b', 'fa5b0763220518309672923c', 'b0972e6bcb3fa2d914d7411d', '41ef1d27796733bf56312858', '9d7e4742bbaa38ee0f72c4ab', '7dfdcbe7e4d84cc50086eae1', '8329a6b3c48b6f72d583d28e', 'ab1df5ff13eb7d8c226924ca', 'bed74a6c114fddc4e30b971e', '589b11acaba20c05c950e169', '0067d27181d4b7260828b4f5', 'f481456a3dad303b4172ebfc', 'b01cb9c9f09623c0688ce090', '62bb5fe6ca192438a18bdeca', '8f86413ff31639cc499a9c18', '1f15aa810bcf9ba42fed6e8b', '888396ee719332337f49e8f9', 'a5eff1b329c748cd98ba1938', 'a0e2efc66049a79dec1a4494', '81adedd6fca0879e3417b5c6', '86b99d2433cb7999a0a75f59', 'edcf8cecfef81b105b9baf90', '5c2338af38077b32d9108918', '7db1b2a595eaf3194730c4ef', 'a1c531c5d50d6859cc9b7cba', 'c3b5215f82663c1921e03924', '33d3657b4df961414d6f6579', '0a2ccff3c18ac87f50aeac2e', '6df4eb13541b9bab5893827c', '3509cb08a5d1dfe5aa151ef1', '1cb42198f7dbe54ba2b38f87', 'd759c0f3f353b9c01a67b6d2', '03d7e8890a5586100d02b455', '97bfeb0d88425c52d8a3027e', '9bef0ba41c4bf8112447751f', '88c17526937e4d71db03be64', '224d58f53617988f0344f123', '51c07901504713d9c98e68df', 'cb1842381e2f761ffcd8487d', 'ca4db5b397defb000e1a6bc8', '732afe393d04dbceadced597', '813ec5afa1d1e09d4f020363', '0bcb8a2707ddda579049411a', '2246a9a5271f39c5ea423673', 'c69c2c3338abb57f9c41759e', 'f9b725441992ed816e95f604', '81d4c9f009041d36390ab8c2', 'a5a049cd2bab39f3510e4ba0', 'fd59a976555665e4803b6697', '42dabb6f76c14499d5ee6912', '05b366cdd164a0c75444211a', '7ffed03a0d4068755649fe0e', '446f670f708701f29dce9d13', '29a294d5022abbed46d7f769', '1786e8a0563835887cdb2c5f', '983a486781e3e918068e4db2', 'ae2daaf6ea8742b94d3961ce', 'baf4b9669d93a18ac2027501', '5ac0f6d9fd6e5bf200e3fbe3', '245d29343e544a271a6cadbe', 'd7cba1b962a93a469c0a2dce', '479fef99bde018542c146cb2', '52846205d51666aee56fe6b4', '22eb55c78d5201e911c557b9', '61d874ca0c2a34c6f566e296', 'eeb8ea3e4b4a8b0b7af5fbff', 'c6716979e3aa463dcaa08de9', '2b2a12be4b8bfbd8bfe3a7b5', '72f871e50682e95ee10f2071', '390275163862e3184041b7d6', '0ceba574984e5e8d5f1fe887', 'b79e6d45f59e9d6f0ee826e6', '00e42779517d6567934a0c12', '853e27562825ec6ce4d70f9e', '4dcfe9277d61b3cb739b352e', 'dc5a5ace834049dd7d5462fc', 'ae5b13d494c1a62ed4afdb5a', 'deb2d1581cce279f66b42f2f', '32b7d0faf9f9d81e19b69801', 'dec8dca1cdde8c630ddc9586', '8e0b558819abe7b68376fb49', 'a421530a0b41f36964e06e07', '520c3de88286dce20409c548', 'fdcc56aaaf99dd533ccba6f4', 'cdaf3a57cf44e2c4841dfbe7', '5a9064f149b96d7682dd2c05', '9bb1275c2109db3dbda923b6', '08bf1f6049d676e37c53c1c6', '5ee8a58dc90aee0a927253da', '04cb406a86f41d123d033df5', 'a73fc6100fc7b36fccda09c1', '18fd76ce7e1453aef7b7db6a', '0d76cf226739fd47504f3419', '9bc442506dce1174d09df63d', '6fc1e674c501abff15478951', '31e596293f1b747f8d70bca6', '4be101903d60060a5246ff8d', 'df39dc27b7b3d14e185bf971', '50962c2bcc457556a4f772a6', '4e362b95c6df1a3cecaa840d', '3061dadf37f968be128be643', '614717e256b0641e6e164cee', '057e5488a29cc41f6cd9c1f1', 'dcaed829e2e5c27ce03ce989', '6cc338474e7bad2bdfc60220', 'b867c0732ae73e65e5c5d04c', 'c4af4af30594f11804ed07ce', '167d49d8ac3c5084c8578cd8', 'ad2067006f5f8789af765a93', '1a74c23b526ed866f0441444', 'c8fd6298fac362660b73a575', 'f9f56ae22f8c8f8b3be5c721', 'c8577e093d7fe810875fe6d8', '764dbd0f45344ce8acc0b5b7', '8740753bc56765de36b8f3c5', '5ceae2be942ca91f09ab25a7', '41f84ae15ef6ceff96100ed1', '389225459f4f381bceb54a50', 'd4a038a453375df9c65e649d', '7ca23e369cabab564ecc5736', '103772fa497e2ef41ee388d8', 'd1f959c7c153b7ae35edea72', '9f3129c405ff69ff1b3a2770', '3bfb7c877495da1f2c842870', 'bd957de7e373d97d41183426', '07f7f0e2d150369c2c9e3572', '76104886c10c66e7aab98ebe', '83fdcbc465453b24679f0e9b', 'd78c52763e5c63ec12ef91a7', 'df562ee9326fd9d6a8d0493d', 'b0a3555873eacc7e6a28b104', '8e3e99e74cc64b76a977d6c2', '268fbe11f10c2f893781a86e', '26b80f17f51f0f27c26327d9', '0b512bed9bc3716c1117a521', '2306f17da7e078289ff94437', '51c4b8746e08a513d0f5916f', 'aa707648e359b70b424933e3', 'eb2621c317e7446ad8f3f1f4', 'd4d7fc6a23f0fc1c30a1cdd5', '34f4f1ffb7bdd7765dfac9a0', 'ed906381847fef32519dca51', '71aadc5ff3e384da50b1e7fd', 'b897d8aa5f98412ed2728c09', '78408af649dd586576edab66', 'ffffd52cfa5f2e9bf6a10f0a', '946d3f0144f49b641b23d10c', 'fbb257cf531138519bddf084', '15182050961fe5b6b51277ac', '9f2a40a13ba640089c553221', '310f89cf21281b27d434c2c7', '1e36759d62b51ee55127e3ea', '475e889d20140acc374dc8df', '9457cef4b3bde71691a23e27', '0576e33e9656e70e42809000', '53c0fea8a3fe5fba4ebda953', '974ce09b370f04eb60cca20c', '672ee80648388a96a496c67a', '13fa72924b5f4e242b79ea98', 'e0c2d589a97e54d104aaf20f', 'c360bda9083464a313c3d433', 'c9337b5331942cc77a1dcb5d', '28ae4bcee9e60f01e2ff592a', '4cbcece86b63558a939b1195', '2bc37f68bc25090ca616dad3', '56306df6e1b7069210a9a9aa', 'f2b7b18eee41f36c4378d68f', 'b1176f621b5dbdcdc00e2603', '131b8588bce3f9496dd7a766', '44e1491ea993238234ffb95b', '6c2584797ff3e54db977f190', '6fa1251b3247ad735045d133', '2630dcf65f95d2ede589c5f6', '51635b984ff479a475421d01', 'f12f63a378a8ce4a1f9e856b', '9da1d823cec91d3780cbceb2', '44ba0161172ec028af754247', 'b104f0690eb75c9b284157a3', 'd5bedf70921c6159855d6c56', 'e48b57bc484668fd268fc877', 'e901e68c5a9e04b80a111da7', '5deeac7f63626bfde2338471', '9a78251e828c3d8d2ae63a9f', 'bd106a69ac43a326070997b4', 'aa243450f621903aef8ef38e', '87b94cae027b319b5ede42d4', '05fb859582ca77a3cc336407', '602f037f733be179de683312', 'ab7b7b02751979d396c60f3c', '0096425d15d512c160337ea2', '31ee2cf7392a6a9bbfdce343', 'e0b72fce18d8319ad6cd8d95', 'fa84c0d7e5f7496020e5fc88', '0b2139cbbed6338a4a70c727', '3691e034ce57ed1f0a9ad149', 'ec951df260c6d955a109109e', 'ad04661710960cda309d95d3', '3fdbece9158860761128ba65', '671ba7c15989dcb3b689de87', '98d8403af1bb338fdcc9366c', '05fb99a0bd1af5a3d117b067', '4d03c8f3116cd70167f988f3', '56ea29a247d3552f15e9af0c', 'f3abd3b694ed2816a545c7f2', '347e18c4bbd75e8537112a01', 'ec1e902605ea4f604976ec01', 'a90f18b34d0e56064491312f', 'e3ae90d77f3759507a990d26', '9a195e4c8ee96305a7e5468c', 'dcd0e131d5a7ba5dd2ff231a', '47540ee13469c284abf72cd2', '6128eea7b9ac03c573a554c8', 'f7dcf1a4155e3f6e26121f66', '9356c73590d289f3d6a4047c', 'b2f85c4568378e9fc3d6106c', 'd372cdbd25b8e69a5d7b272b', '675bcefd263b5e615dccd5b5', 'f5838380084243cc3f47dd09', 'f10cefa3eb836dd4989a9629', '6dee0ec21dacd3987e29ac87', 'c744c0bc5712f11cc8871133', '42b8a17b229ad95c1e9f8158', '540d97d23fcd21f2ccd33f4d', '103cbd2a32af6bccc4ea44f9', '8d8e7f54d9213bf2d0c6bd3b', 'fe4aa6723dd0a02ab7419129', '62a234f5087e93e7e250a506', '58f949727904ff567e776ee0', 'b319510a208d7c170cc32793', '1a64d81c1cacfbd86921e11f', '2c26c0c8cc69f38fd87cd972', '3449ec0f70e0dc8fce3896ef', 'ae329eb0e218c9346460fbd6', 'e4ef2bc5ce5729ca106d8947', '7051d260ac5ed2f4a9d6c10c', '643e0a107b70b227561e791f', '2a47820fda1cd579b9903c60', '819c4e48cc09b78ccc15402d', '4519fefa6da435bdb5f2af96', 'bb71277ef41c1bdefd8d1f9b', '738c961597cfefd4f402e5eb', '156847d77c430978deaee435', 'ece3375d579d801620037228', 'b825dc1b4aa00ef503e59475', '0b07f9890606b27ce6b2e120', '010289c29033d8ef6dc36de7', 'ed35d98ee825c824f323bd5f', '12b3d115fb3c40ee55d7de46', '7177e3d84d4cd2fc2470b2c0', 'f6d27bbceb3096f8a82dbe6e', '0a3b96a5fbe446209318c92e', '4664abc7b0b82f70303db87a', '10037de3067e1b199041a11d', 'f33a49557d0a049cccebf4de', '567356b66b234421e94b665c', '716d0ee5f19c7438fde6e3c6', 'a081133efb15f3ebbf536c1e', 'a1c68e838ecf419ed6b54c34', '6d7fef916f0bcbf6a1ef22c8', '4d6c831b4d22ac6d1a0f316f', '1d565839f7fbd346e205517e', '8fe1f5e8526cce0440879359', '859b2e9da1a3225828835417', 'ec3395687de4ea37a132cf22', '578b926277472fb2cd8d1130', 'deac68af0cd967026129f70d', 'e87b35721a8cae1521d16895', '33f2c6a4c03544d19b4f08e4', '8d90fd01cee89a077ea84a95', 'bb950b6435c34cf79f2aa623', 'a66750b3636ea7155c01069a', '87d72506faeb8d9c7f2fda7d', 'a15ec1df8563d89e22a86a06', 'c9bfddb9ff1866c43464db53', '4de61ad85f25d309e80b16d3', '164d75cd3331f4875695dc88', '2ad489dd255f93d8bc0778bf', '7e9e145f21ae6bb5cbcd9edb', 'f8d9d591c85029914116c06c', 'a6a19651e3d2f91b60766a2d', '8142ad13f231ee065fef7751', 'cd3081cf8876e6915585f64f', 'f6f5da37a72cc4f2f2e40e90', '6b4506c2667bb9531faf2612', '8e7d913d2db0628bfc8576b2', '8b5ff72da60494eab03bfcea', 'a9b09d252c3424dbbae89aa6', '8cec958ad0ebd685a9e10ad1', '82943fd722bd132734ba7137', 'f42309bc714b8c7bdc9f6bd6', 'd1fb81fc24a959f94a8bf45b', 'cffb95c7f79f1a0793fe546f', '5e0579cac972d7df2422a389', 'd55ad9882c951036e26b2562', 'f46cd7c2d0c00a73a132af12', '7fb6a3a089b4a550d3940864', 'e5c3d57b9d1e78cc012a00ae', 'f105ece71904bbd5fe2f8ec3', 'ed0234ef70a2c1137a3d2620', '986971231da7b0c335d218e2', '0df2e3d9851b793b93f2a91a', '45c9c1e74ec0a48167838ca6', '6b91725b5367b06acb6f916f', '399f23dc477288c1ae772cbe', 'ca47a20eb3fcd212929e49bf', '44046bbdac9b2e19024ab1d4', 'eb1d4655aa7d05f12cf95767', '11dec48c6b83f8f511e526f5', '5b135b9d3d4091d8e2bff769', 'f935dc0758d8d5118f3a622e', '85ecbbecc4bfea94cc074a77', '0ee2d3b649a142613e228583', '4891b60c466c2f20d813325a', '5a3e259c3618d2ec7369afc8', 'e8538c338240969a9d7a0539', '29a1e45ed0680aeee5f11cf3', '4f36b7bf685c9a7eb1435f3e', '12597c55ae02decf39f4bfd4', 'eda28b547a15969cc176cfeb', '19bf2a61a7734088b2cff33e', 'edaeadcd5cbd17aaabed2d11', '046736eb5ac602eb8c829500', '5bb5886079544694ee7d94b0', 'cae16bef4051006387adcb04', '1d9fbbdf7300e9adddfda643', 'db3c427b93d9e2d5a4fc3e94', '057f64fb468235308848f900', '40cffe24a949ddbf3287ff87', 'b77dd7d331de15fa08220983', '7d4f65487de3c21569518077', '2704c3780dead460439c022c', '247dafb8d2e53aec167e893c', 'dfa3a6c51090a2e08736a85a', 'bd38766d1f989be889102783', '479b9653d0efaf7cebe5f81f', 'ad1ba5af3620a087e69d9ecd', 'c192a2b155fcfe2d559bf9d1', 'af511c07e3c5a87b392fdcea', '6db0092943b923b2e8f60737', '45b10074076832353ca944d1', '564dc2c07572ea02b849c877', 'd5d0c2ad446fc555d041a133', 'b707b0dd5b35c11767430b2d', '5ca94c0c12b6f9cb76b99aa3', 'ae794dccb2f48f45e2a6c758', '191d1a22e98cb8ccf1c5cfa9', '07c8f6e68d16603e3c92c1b7', '2f0c56ad16788d4b35f5c1a0', 'fef68340dc5dad8df9b7848a', '1de2d50159c170d0a34a119d', 'dd98142d04e994f715403cfa', 'cc8e9b91eeab58e6f508993f', '4f48aaaadcf24f8a7c40822d', 'f4e108be2e5c53ffe8c7ce29', 'e80abfc3de48f77f3921fdb1', '8e213bfb47bd9cf99d4b977e', 'ae5827226f029741abf4f887', 'd63871b449d307753b2338f0', '957b709675f9178007c408d8', '228e78f7acd4e7d8f03f3ca5', 'cae7dd7c24b6cb5d8c24eb40', 'efa1bce6941a250b34d003e8', '8f8bfd4fc56beefb744e52ba', '73aaaaed1e8d484a9880e146', '1cefab480098a8fc6dacb8e3', 'fe2ecd990d1e276c41c1482b'], 'time_afford': ['6e7271d2eeace3391528efea', '53f3f933b4ec99eb16a8580c', '8617b058a51286a5ab7b9e1c', '3056a2d989be02294adab708', '78cb68240cb3a717a5d6fa31', 'bc2a2a9aa64af2b5cd1b403a', '8a2d1ec53ad08c204a999032', '09d27c86d835df2af5f0be24', '61376097ff6748baf63e881b', 'b7223983c51cdb868ed9126d', '95ee5208b83ce0800cbf5152', 'e18af57bfabb4e0f6da914b5', '46b27427d80b5394dc9f09dc', 'cf8b97a7bb2605921d756284', '41f24a3dd6bceb8d0a8df5c8', 'b18e869555ee012d017456c5', '82029ae7e0cf58810a19534a', 'c1603b3c13098a82375f9963', 'd90890b5c7b8c4efcda28c42', 'f4ac0658a07d13fab3de2498', 'dbce3d338b755aaadf7b4264', 'e7ca769377518d66ccdc19c3', '599efe06863304b00287b7ac', '23eab855cbe7f8f50e7986dc', '9c478b2a501d89dc2a68c8b4', 'c4d719399c459d7a65236f29', '09c312bcf7705bbb5e790d7a', '1589a7c5610e7fb5e3788736', '35119e013ddaa441b9c3f28c', '5fa00d34242c8c6fc66f69a7', '4631e0cbc3f222bee5fc4664', 'df0b4e455f45c5ae692175bc', '1122098b21d2edd8438f5303', '54eed4fc0cf5850c7c589b60', '08dcb4c0626fa03a27f70274', '993797f89227b760ece5929c', 'd5214de949e81129f9c2b9ac', 'be763f26a6488ea1d7c2ba66', '862ef50d6f6801e273cae99a', '72abb91d0daec4e47fed9818', '306268a6632fe38bb69d7305', '37f3d69b7a555b76c302df2f', 'b537c7524e9b2ceb844dcca1', '45b434dbae77bfda70880ca2', 'e9e4d1dfabc5cebeba5a6617', '2969f4d98c7e4985917bb8ff', 'f9f10056e0f303f646de2055', 'a4874bbfbc5c54aaa5eaeb3b', '93d25a1c2d1a4be5a0443512', '9d14195bae7976d99c743bde', 'e1db0b6bb8cdc2a6a6879b48', '319647af484aacc0d5fabc7d', 'd1c5ef05d3adcfb188344a24', '490c823ad1e5e87573af0615', '39142cdc607dc59a7bc1b095', '63246bd51af632966de41ff5', 'c26b116cdec7c37ff5dfc612', 'cdc94c551609bd8a8c26b624', '75d2f3897e1f41b7f1a9f584', 'a0d5dad7a6149744236f0d12', '2df5bba93a8061846ef8df22', '42b989a6aa5f4ca2c34f57d9', '428d7d492e9ac130032911ad', 'd8dc3a0d6a7ebf2ec16d067a', '491e5869a2a3df4408399f94', '79df2c00e38d43ff43d06221', 'c6b4af032286d5e88a489cf2', 'f3c3cc381a98828dc9b61084', '0db379d9ba899842a34a008c', 'f70fd960bb5c7d6d33606939', '0d0204e61d7e6b1a8a6791a2', 'a9918d999b83060a554f5337', '5b4f5ef2f0be064062842764', '8555d722020fafda44e2a8dd', '65f1392b09ac2f74f8ebea80', '44dd5db05d3842aaac92eb32', 'e837a3a10e33decff23c9897', '91b7653c0ccc634052f7bf75', '2220cdaf58683bfe53d5f72b', 'ed2c9d31df1e36565e938998', 'f514edb2c12ab9f37b027bc1', '8ca55a8ec6a7e219d91ea4bf', '55250ea1a39bee4e179afacb', '6484007555c64b753670fda8', 'a7ca7d749042a5d001382800'], 'settings_update': ['039a5ab92063f09a59340e92', 'ef64cb81ca663176daa85dec', '72d733ece4e778a1f19f6fef', '5ed53fe1b396c2936200bfbf', 'f1dff470b22314377fe17b57', '71098d5b5fa2c43aca67e72c', '0038a28ca863a4f560d099e0', '222d7f9138114a93b8a039c5', '42a903cbe4c9fde8e79ca3d3', 'ea122f6e31e1f14e74a1a2e0', 'e507909d613ba0280509942d', '6caa3fb1cce9488ac86a1ecd', 'f4af5881e24d2c9b7767e3f6', 'd6b032c0fad8b5457ff84941', '2c9fcc0b41127c38c93e2bd5', 'c5944cafea02b23774a5959f', 'b72240e3bb91425cfe7e28aa', '3a2181f88b0c8944ed08cc03', 'dac0fc29c29e2b411715ef3a', '1904dd0682849d370c254254', 'f64eb8a905cb054b9bdb6f72', 'b35cb929ac1ceaeb8b101b65', 'edc1e39c6a09004c59a0b061', '60f29a75361b82148fcb1c77', '957c28066b24e79ee5dda20a', '46a8868b2f529f0decc4a90d', '54d25b28eccb46e46e33df03', 'bf697956d17bd62182ba9e8c', 'd2b0da4471f7d460152e8576', '960824378bbbdab54d3a1b13', 'b62786323607946dc98e8ee2', 'ad5638c428073e3f8464c860', '2f0fec9c0a3ee9f9e731dc46', '429bd37364e6e80caec5edac', '36604fc777afa3e3d85c4649', 'e6adb81384e46b6f720a9239', '3bd9b4d9398fb06bd0bad361', '06874e5a5427b18aa15bc4aa', '1262ac817ebdf0b39d795b59', '8e559c6554db3bbbcff7d1b5', 'd8c210edd4967790cc458610', '5bf29c4de3b10aace940f2fe', '0f38cde6c1e0cd2727571c5f', 'd2910c3fed7b0f73750df76b', '426de335226fd7cfeb76b920', '69f32ba9ae51239f7bab7bf6', 'bd3d9032a3bc8f5eb3635ab8', 'f2695edfe64a526986fb0b83', 'b1584bf90303eefb0ed83eda', 'ff5f102374f2453f5d11dfa1', 'f32cb59bc2542875d8f95312', '4447f0de5f79dc60750989f5', '26ff31f781dee4d279d85c22', 'd0fd104fb17c12ed4bec135a', '6de6cf27c09af8b136a6a950', 'e3d650eb237f5dfca22f1835', '0bc3e78c4ecd05a6573836a6', '2cc11117ba44aa9f0dec69a1', 'dd255758943abf38102497dc', '22e9433a1d7be8a0dae6ea9c', 'bbf13fd8b25105f117b3c931', '5d553942942322c5fce88a96', '1c499412ea5b034f2d45e0fe', 'a6a4b8327878e0849f128028', '2b094a50ccfbe785e2ab83a9', 'b83f7d5ff4c3695712f94f3b', '49d39fa16572b1652523d87e', '8e9a3e1717d60f22873441b6', '5b30481359252552b9dde0fb', 'f59bfe48cbe62d84b67a6342', '2371a488fcceec7a4d4f39c8', '272bdfd42db21e042963fa11', '59bab175c66b2e618f2640ec', '54323b1146330f4acf7fc81b', '5c69f950cbd4884f485874d0', 'e8c996497dbb275b5e15ea82', '5e7fbe23c2555cac2da675ce', 'a14bfb307b569e1de7c352a4', 'db880baf89fb8897e1b23ecb', '60b82300edccb77cc4a68bc2', 'c444bf914866da9c36fcf801', '6c85bfc98e08cac3406252f7', '8c8129e93451e4194b8a0705', 'b755196673711336b6bb6409', '3cb81441641c4ae828b55dbc', 'f433d8e1d57b8f7f99184cdf']}\n"
     ]
    }
   ],
   "source": [
    "print(difficulty_interface_to_users)"
   ]
  },
  {
   "cell_type": "code",
   "execution_count": 23,
   "metadata": {},
   "outputs": [],
   "source": [
    "frequency_of_choose_difficulty_to_users = get_abtest_condition_to_user_list('frequency_of_choose_difficulty')"
   ]
  },
  {
   "cell_type": "code",
   "execution_count": 24,
   "metadata": {},
   "outputs": [],
   "source": [
    "def get_choose_difficulty_level_mean_for_user_list(users):\n",
    "  difficulty_to_counts = get_choose_difficulty_counts_for_user_list(users)\n",
    "  difficulty_to_value = {\n",
    "    'nothing': 0,\n",
    "    'easy': 1,\n",
    "    'medium': 2,\n",
    "    'hard': 3,\n",
    "  }\n",
    "  values = []\n",
    "  for difficulty,count in difficulty_to_counts.items():\n",
    "    value = difficulty_to_value[difficulty]\n",
    "    values.append(value)\n",
    "  return np.mean(values)"
   ]
  },
  {
   "cell_type": "code",
   "execution_count": 25,
   "metadata": {},
   "outputs": [],
   "source": [
    "def get_choose_difficulty_level_mean_by_abtest(abtest_name):\n",
    "  condition_to_user_list = get_abtest_condition_to_user_list(abtest_name)\n",
    "  for condition,user_list in condition_to_user_list.items():\n",
    "    print(condition + ':' + str(get_choose_difficulty_level_mean_for_user_list(user_list)))"
   ]
  },
  {
   "cell_type": "code",
   "execution_count": null,
   "metadata": {},
   "outputs": [],
   "source": []
  },
  {
   "cell_type": "code",
   "execution_count": 26,
   "metadata": {},
   "outputs": [],
   "source": [
    "def get_key_to_ordering_mappings():\n",
    "  key_orderings = [\n",
    "    [\n",
    "      'this_intervention',\n",
    "      'time_afford',\n",
    "      'settings_update',\n",
    "    ],\n",
    "    [\n",
    "      'nothing',\n",
    "      'easy',\n",
    "      'medium',\n",
    "      'hard',\n",
    "    ],\n",
    "  ]\n",
    "  key_to_ordering = {}\n",
    "  for ordering in key_orderings:\n",
    "    key = ' '.join(sorted(ordering))\n",
    "    key_to_ordering[key] = ordering\n",
    "  return key_to_ordering\n",
    "\n",
    "def order_list(keys):\n",
    "  key = ' '.join(sorted(keys))\n",
    "  key_to_ordering_mappings = get_key_to_ordering_mappings()\n",
    "  return get_key_to_ordering_mappings()[key]\n",
    "\n",
    "def printdict(d):\n",
    "  keys = order_list(d.keys())\n",
    "  for x in keys:\n",
    "    print(x + ': ' + str(d[x]))\n",
    "\n",
    "def to_percent_dict(d):\n",
    "  output = {}\n",
    "  total = sum(d.values())\n",
    "  for k,v in d.items():\n",
    "    output[k] = v / total\n",
    "  return output\n",
    "\n",
    "def printdict_percent(d):\n",
    "  d = to_percent_dict(d)\n",
    "  printdict(d)"
   ]
  },
  {
   "cell_type": "code",
   "execution_count": 27,
   "metadata": {},
   "outputs": [],
   "source": [
    "def plotbar(values, labels=None, title=''):\n",
    "  data = [go.Bar(\n",
    "    x=labels,\n",
    "    y=values,\n",
    "  )]\n",
    "  layout = go.Layout(title=title)\n",
    "  fig = go.Figure(data=data, layout=layout)\n",
    "  iplot(fig)\n",
    "\n",
    "def plotbarh(values, labels=None, title=''):\n",
    "  data = [go.Bar(\n",
    "    y=labels,\n",
    "    x=values,\n",
    "    orientation='h',\n",
    "  )]\n",
    "  layout = go.Layout(title=title)\n",
    "  fig = go.Figure(data=data, layout=layout)\n",
    "  iplot(fig)\n",
    "\n",
    "def plothist(values, title=''):\n",
    "  data = [go.Histogram(x=values)]\n",
    "  layout = go.Layout(title=title)\n",
    "  fig = go.Figure(data=data, layout=layout)\n",
    "  iplot(fig)\n"
   ]
  },
  {
   "cell_type": "code",
   "execution_count": 28,
   "metadata": {},
   "outputs": [],
   "source": [
    "def plotdict(d, title=''):\n",
    "  keys = order_list(d.keys())\n",
    "  values = [d[k] for k in keys]\n",
    "  plotbarh(values, keys, title)"
   ]
  },
  {
   "cell_type": "code",
   "execution_count": null,
   "metadata": {},
   "outputs": [],
   "source": []
  },
  {
   "cell_type": "code",
   "execution_count": 29,
   "metadata": {},
   "outputs": [],
   "source": [
    "#for condition,user_list in condition_to_user_list.items():\n",
    "#  print(condition + ':' + str(get_choose_difficulty_level_mean_for_user_list(user_list)))"
   ]
  },
  {
   "cell_type": "code",
   "execution_count": 30,
   "metadata": {},
   "outputs": [
    {
     "name": "stdout",
     "output_type": "stream",
     "text": [
      "this_intervention_toast:1.0\n",
      "this_intervention:1.5\n",
      "time_afford:1.5\n",
      "settings_update:1.5\n"
     ]
    }
   ],
   "source": [
    "get_choose_difficulty_level_mean_by_abtest('choose_difficulty_interface')"
   ]
  },
  {
   "cell_type": "code",
   "execution_count": 31,
   "metadata": {},
   "outputs": [
    {
     "name": "stdout",
     "output_type": "stream",
     "text": [
      "0.5:1.5\n",
      "1.0:1.5\n",
      "0.0:1.5\n",
      "0.25:1.5\n"
     ]
    }
   ],
   "source": [
    "get_choose_difficulty_level_mean_by_abtest('frequency_of_choose_difficulty')"
   ]
  },
  {
   "cell_type": "code",
   "execution_count": 32,
   "metadata": {},
   "outputs": [
    {
     "name": "stdout",
     "output_type": "stream",
     "text": [
      "nothing: 0.3984375\n",
      "easy: 0.17578125\n",
      "medium: 0.33642578125\n",
      "hard: 0.08935546875\n"
     ]
    }
   ],
   "source": [
    "printdict_percent(get_choose_difficulty_counts_for_user_list(difficulty_interface_to_users['time_afford']))"
   ]
  },
  {
   "cell_type": "code",
   "execution_count": 33,
   "metadata": {},
   "outputs": [
    {
     "name": "stdout",
     "output_type": "stream",
     "text": [
      "nothing: 0.42726621282694377\n",
      "easy: 0.34163382300250805\n",
      "medium: 0.16911501254030814\n",
      "hard: 0.06198495163024006\n"
     ]
    }
   ],
   "source": [
    "printdict_percent(get_choose_difficulty_counts_for_user_list(difficulty_interface_to_users['this_intervention']))"
   ]
  },
  {
   "cell_type": "code",
   "execution_count": 34,
   "metadata": {},
   "outputs": [
    {
     "name": "stdout",
     "output_type": "stream",
     "text": [
      "nothing: 0.41920785138450756\n",
      "easy: 0.19348054679284962\n",
      "medium: 0.26498422712933756\n",
      "hard: 0.12232737469330529\n"
     ]
    }
   ],
   "source": [
    "printdict_percent(get_choose_difficulty_counts_for_user_list(difficulty_interface_to_users['settings_update']))"
   ]
  },
  {
   "cell_type": "code",
   "execution_count": 35,
   "metadata": {},
   "outputs": [
    {
     "name": "stdout",
     "output_type": "stream",
     "text": [
      "nothing: 0.40309513636068917\n",
      "easy: 0.17678153289737641\n",
      "medium: 0.3378533883500458\n",
      "hard: 0.08226994239188848\n"
     ]
    }
   ],
   "source": [
    "printdict(get_choose_difficulty_counts_for_user_list_user_normalized(difficulty_interface_to_users['time_afford']))"
   ]
  },
  {
   "cell_type": "code",
   "execution_count": 36,
   "metadata": {},
   "outputs": [
    {
     "name": "stdout",
     "output_type": "stream",
     "text": [
      "nothing: 0.390813813079382\n",
      "easy: 0.3391801336802089\n",
      "medium: 0.18678554547896845\n",
      "hard: 0.08322050776144051\n"
     ]
    }
   ],
   "source": [
    "printdict(get_choose_difficulty_counts_for_user_list_user_normalized(difficulty_interface_to_users['this_intervention']))"
   ]
  },
  {
   "cell_type": "code",
   "execution_count": 37,
   "metadata": {},
   "outputs": [
    {
     "name": "stdout",
     "output_type": "stream",
     "text": [
      "nothing: 0.4881834049538276\n",
      "easy: 0.26681993870982706\n",
      "medium: 0.1898966053234261\n",
      "hard: 0.055100051012919184\n"
     ]
    }
   ],
   "source": [
    "printdict(get_choose_difficulty_counts_for_user_list_user_normalized(difficulty_interface_to_users['settings_update']))"
   ]
  },
  {
   "cell_type": "code",
   "execution_count": 38,
   "metadata": {},
   "outputs": [
    {
     "data": {
      "application/vnd.plotly.v1+json": {
       "config": {
        "linkText": "Export to plot.ly",
        "plotlyServerURL": "https://plot.ly",
        "showLink": false
       },
       "data": [
        {
         "orientation": "h",
         "type": "bar",
         "uid": "6618b407-4905-41df-a056-104e615a1030",
         "x": [
          0.40309513636068917,
          0.17678153289737641,
          0.3378533883500458,
          0.08226994239188848
         ],
         "y": [
          "nothing",
          "easy",
          "medium",
          "hard"
         ]
        }
       ],
       "layout": {
        "title": {
         "text": "Difficulty selections for \"time you can afford this visit\" interface"
        }
       }
      },
      "text/html": [
       "<div id=\"cd862fbc-4470-43f9-aec3-f4b70ba80de5\" style=\"height: 525px; width: 100%;\" class=\"plotly-graph-div\"></div><script type=\"text/javascript\">require([\"plotly\"], function(Plotly) { window.PLOTLYENV=window.PLOTLYENV || {};window.PLOTLYENV.BASE_URL=\"https://plot.ly\";Plotly.newPlot(\"cd862fbc-4470-43f9-aec3-f4b70ba80de5\", [{\"orientation\": \"h\", \"x\": [0.40309513636068917, 0.17678153289737641, 0.3378533883500458, 0.08226994239188848], \"y\": [\"nothing\", \"easy\", \"medium\", \"hard\"], \"type\": \"bar\", \"uid\": \"6618b407-4905-41df-a056-104e615a1030\"}], {\"title\": {\"text\": \"Difficulty selections for \\\"time you can afford this visit\\\" interface\"}}, {\"showLink\": false, \"linkText\": \"Export to plot.ly\", \"plotlyServerURL\": \"https://plot.ly\"})});</script><script type=\"text/javascript\">window.addEventListener(\"resize\", function(){window._Plotly.Plots.resize(document.getElementById(\"cd862fbc-4470-43f9-aec3-f4b70ba80de5\"));});</script>"
      ],
      "text/vnd.plotly.v1+html": [
       "<div id=\"cd862fbc-4470-43f9-aec3-f4b70ba80de5\" style=\"height: 525px; width: 100%;\" class=\"plotly-graph-div\"></div><script type=\"text/javascript\">require([\"plotly\"], function(Plotly) { window.PLOTLYENV=window.PLOTLYENV || {};window.PLOTLYENV.BASE_URL=\"https://plot.ly\";Plotly.newPlot(\"cd862fbc-4470-43f9-aec3-f4b70ba80de5\", [{\"orientation\": \"h\", \"x\": [0.40309513636068917, 0.17678153289737641, 0.3378533883500458, 0.08226994239188848], \"y\": [\"nothing\", \"easy\", \"medium\", \"hard\"], \"type\": \"bar\", \"uid\": \"6618b407-4905-41df-a056-104e615a1030\"}], {\"title\": {\"text\": \"Difficulty selections for \\\"time you can afford this visit\\\" interface\"}}, {\"showLink\": false, \"linkText\": \"Export to plot.ly\", \"plotlyServerURL\": \"https://plot.ly\"})});</script><script type=\"text/javascript\">window.addEventListener(\"resize\", function(){window._Plotly.Plots.resize(document.getElementById(\"cd862fbc-4470-43f9-aec3-f4b70ba80de5\"));});</script>"
      ]
     },
     "metadata": {},
     "output_type": "display_data"
    }
   ],
   "source": [
    "plotdict(get_choose_difficulty_counts_for_user_list_user_normalized(difficulty_interface_to_users['time_afford']), 'Difficulty selections for \"time you can afford this visit\" interface')"
   ]
  },
  {
   "cell_type": "code",
   "execution_count": 39,
   "metadata": {},
   "outputs": [
    {
     "data": {
      "application/vnd.plotly.v1+json": {
       "config": {
        "linkText": "Export to plot.ly",
        "plotlyServerURL": "https://plot.ly",
        "showLink": false
       },
       "data": [
        {
         "orientation": "h",
         "type": "bar",
         "uid": "5d6c360f-d487-4da1-ba3e-02452c3ebc44",
         "x": [
          0.390813813079382,
          0.3391801336802089,
          0.18678554547896845,
          0.08322050776144051
         ],
         "y": [
          "nothing",
          "easy",
          "medium",
          "hard"
         ]
        }
       ],
       "layout": {
        "title": {
         "text": "Difficulty selections for \"intervention difficulty you want this visit\" interface"
        }
       }
      },
      "text/html": [
       "<div id=\"f498b0bc-414b-45a1-b54d-20a08ffb6dd2\" style=\"height: 525px; width: 100%;\" class=\"plotly-graph-div\"></div><script type=\"text/javascript\">require([\"plotly\"], function(Plotly) { window.PLOTLYENV=window.PLOTLYENV || {};window.PLOTLYENV.BASE_URL=\"https://plot.ly\";Plotly.newPlot(\"f498b0bc-414b-45a1-b54d-20a08ffb6dd2\", [{\"orientation\": \"h\", \"x\": [0.390813813079382, 0.3391801336802089, 0.18678554547896845, 0.08322050776144051], \"y\": [\"nothing\", \"easy\", \"medium\", \"hard\"], \"type\": \"bar\", \"uid\": \"5d6c360f-d487-4da1-ba3e-02452c3ebc44\"}], {\"title\": {\"text\": \"Difficulty selections for \\\"intervention difficulty you want this visit\\\" interface\"}}, {\"showLink\": false, \"linkText\": \"Export to plot.ly\", \"plotlyServerURL\": \"https://plot.ly\"})});</script><script type=\"text/javascript\">window.addEventListener(\"resize\", function(){window._Plotly.Plots.resize(document.getElementById(\"f498b0bc-414b-45a1-b54d-20a08ffb6dd2\"));});</script>"
      ],
      "text/vnd.plotly.v1+html": [
       "<div id=\"f498b0bc-414b-45a1-b54d-20a08ffb6dd2\" style=\"height: 525px; width: 100%;\" class=\"plotly-graph-div\"></div><script type=\"text/javascript\">require([\"plotly\"], function(Plotly) { window.PLOTLYENV=window.PLOTLYENV || {};window.PLOTLYENV.BASE_URL=\"https://plot.ly\";Plotly.newPlot(\"f498b0bc-414b-45a1-b54d-20a08ffb6dd2\", [{\"orientation\": \"h\", \"x\": [0.390813813079382, 0.3391801336802089, 0.18678554547896845, 0.08322050776144051], \"y\": [\"nothing\", \"easy\", \"medium\", \"hard\"], \"type\": \"bar\", \"uid\": \"5d6c360f-d487-4da1-ba3e-02452c3ebc44\"}], {\"title\": {\"text\": \"Difficulty selections for \\\"intervention difficulty you want this visit\\\" interface\"}}, {\"showLink\": false, \"linkText\": \"Export to plot.ly\", \"plotlyServerURL\": \"https://plot.ly\"})});</script><script type=\"text/javascript\">window.addEventListener(\"resize\", function(){window._Plotly.Plots.resize(document.getElementById(\"f498b0bc-414b-45a1-b54d-20a08ffb6dd2\"));});</script>"
      ]
     },
     "metadata": {},
     "output_type": "display_data"
    }
   ],
   "source": [
    "plotdict(get_choose_difficulty_counts_for_user_list_user_normalized(difficulty_interface_to_users['this_intervention']), 'Difficulty selections for \"intervention difficulty you want this visit\" interface')"
   ]
  },
  {
   "cell_type": "code",
   "execution_count": 40,
   "metadata": {},
   "outputs": [
    {
     "data": {
      "application/vnd.plotly.v1+json": {
       "config": {
        "linkText": "Export to plot.ly",
        "plotlyServerURL": "https://plot.ly",
        "showLink": false
       },
       "data": [
        {
         "orientation": "h",
         "type": "bar",
         "uid": "e6f876f0-d7ac-4fef-bce6-43967d3e5ea3",
         "x": [
          0.4881834049538276,
          0.26681993870982706,
          0.1898966053234261,
          0.055100051012919184
         ],
         "y": [
          "nothing",
          "easy",
          "medium",
          "hard"
         ]
        }
       ],
       "layout": {
        "title": {
         "text": "Difficulty selections for \"update your difficulty settings\" interface"
        }
       }
      },
      "text/html": [
       "<div id=\"32d5f831-72a0-4283-b9af-b3281d95ebd1\" style=\"height: 525px; width: 100%;\" class=\"plotly-graph-div\"></div><script type=\"text/javascript\">require([\"plotly\"], function(Plotly) { window.PLOTLYENV=window.PLOTLYENV || {};window.PLOTLYENV.BASE_URL=\"https://plot.ly\";Plotly.newPlot(\"32d5f831-72a0-4283-b9af-b3281d95ebd1\", [{\"orientation\": \"h\", \"x\": [0.4881834049538276, 0.26681993870982706, 0.1898966053234261, 0.055100051012919184], \"y\": [\"nothing\", \"easy\", \"medium\", \"hard\"], \"type\": \"bar\", \"uid\": \"e6f876f0-d7ac-4fef-bce6-43967d3e5ea3\"}], {\"title\": {\"text\": \"Difficulty selections for \\\"update your difficulty settings\\\" interface\"}}, {\"showLink\": false, \"linkText\": \"Export to plot.ly\", \"plotlyServerURL\": \"https://plot.ly\"})});</script><script type=\"text/javascript\">window.addEventListener(\"resize\", function(){window._Plotly.Plots.resize(document.getElementById(\"32d5f831-72a0-4283-b9af-b3281d95ebd1\"));});</script>"
      ],
      "text/vnd.plotly.v1+html": [
       "<div id=\"32d5f831-72a0-4283-b9af-b3281d95ebd1\" style=\"height: 525px; width: 100%;\" class=\"plotly-graph-div\"></div><script type=\"text/javascript\">require([\"plotly\"], function(Plotly) { window.PLOTLYENV=window.PLOTLYENV || {};window.PLOTLYENV.BASE_URL=\"https://plot.ly\";Plotly.newPlot(\"32d5f831-72a0-4283-b9af-b3281d95ebd1\", [{\"orientation\": \"h\", \"x\": [0.4881834049538276, 0.26681993870982706, 0.1898966053234261, 0.055100051012919184], \"y\": [\"nothing\", \"easy\", \"medium\", \"hard\"], \"type\": \"bar\", \"uid\": \"e6f876f0-d7ac-4fef-bce6-43967d3e5ea3\"}], {\"title\": {\"text\": \"Difficulty selections for \\\"update your difficulty settings\\\" interface\"}}, {\"showLink\": false, \"linkText\": \"Export to plot.ly\", \"plotlyServerURL\": \"https://plot.ly\"})});</script><script type=\"text/javascript\">window.addEventListener(\"resize\", function(){window._Plotly.Plots.resize(document.getElementById(\"32d5f831-72a0-4283-b9af-b3281d95ebd1\"));});</script>"
      ]
     },
     "metadata": {},
     "output_type": "display_data"
    }
   ],
   "source": [
    "plotdict(get_choose_difficulty_counts_for_user_list_user_normalized(difficulty_interface_to_users['settings_update']), 'Difficulty selections for \"update your difficulty settings\" interface')"
   ]
  },
  {
   "cell_type": "code",
   "execution_count": null,
   "metadata": {},
   "outputs": [],
   "source": []
  },
  {
   "cell_type": "code",
   "execution_count": 42,
   "metadata": {},
   "outputs": [
    {
     "data": {
      "application/vnd.plotly.v1+json": {
       "config": {
        "linkText": "Export to plot.ly",
        "plotlyServerURL": "https://plot.ly",
        "showLink": false
       },
       "data": [
        {
         "orientation": "h",
         "type": "bar",
         "uid": "502ccf44-d833-4a78-be1f-f9b44556daa5",
         "x": [
          0.6209982248032425,
          0.21069947158924854,
          0.13241218642825375,
          0.03589011717925523
         ],
         "y": [
          "nothing",
          "easy",
          "medium",
          "hard"
         ]
        }
       ],
       "layout": {
        "title": {
         "text": "Difficulty selections if selection interface shown with p=1.0"
        }
       }
      },
      "text/html": [
       "<div id=\"df1c6b3a-3bdb-499b-825d-1abf4b37f8dc\" style=\"height: 525px; width: 100%;\" class=\"plotly-graph-div\"></div><script type=\"text/javascript\">require([\"plotly\"], function(Plotly) { window.PLOTLYENV=window.PLOTLYENV || {};window.PLOTLYENV.BASE_URL=\"https://plot.ly\";Plotly.newPlot(\"df1c6b3a-3bdb-499b-825d-1abf4b37f8dc\", [{\"orientation\": \"h\", \"x\": [0.6209982248032425, 0.21069947158924854, 0.13241218642825375, 0.03589011717925523], \"y\": [\"nothing\", \"easy\", \"medium\", \"hard\"], \"type\": \"bar\", \"uid\": \"502ccf44-d833-4a78-be1f-f9b44556daa5\"}], {\"title\": {\"text\": \"Difficulty selections if selection interface shown with p=1.0\"}}, {\"showLink\": false, \"linkText\": \"Export to plot.ly\", \"plotlyServerURL\": \"https://plot.ly\"})});</script><script type=\"text/javascript\">window.addEventListener(\"resize\", function(){window._Plotly.Plots.resize(document.getElementById(\"df1c6b3a-3bdb-499b-825d-1abf4b37f8dc\"));});</script>"
      ],
      "text/vnd.plotly.v1+html": [
       "<div id=\"df1c6b3a-3bdb-499b-825d-1abf4b37f8dc\" style=\"height: 525px; width: 100%;\" class=\"plotly-graph-div\"></div><script type=\"text/javascript\">require([\"plotly\"], function(Plotly) { window.PLOTLYENV=window.PLOTLYENV || {};window.PLOTLYENV.BASE_URL=\"https://plot.ly\";Plotly.newPlot(\"df1c6b3a-3bdb-499b-825d-1abf4b37f8dc\", [{\"orientation\": \"h\", \"x\": [0.6209982248032425, 0.21069947158924854, 0.13241218642825375, 0.03589011717925523], \"y\": [\"nothing\", \"easy\", \"medium\", \"hard\"], \"type\": \"bar\", \"uid\": \"502ccf44-d833-4a78-be1f-f9b44556daa5\"}], {\"title\": {\"text\": \"Difficulty selections if selection interface shown with p=1.0\"}}, {\"showLink\": false, \"linkText\": \"Export to plot.ly\", \"plotlyServerURL\": \"https://plot.ly\"})});</script><script type=\"text/javascript\">window.addEventListener(\"resize\", function(){window._Plotly.Plots.resize(document.getElementById(\"df1c6b3a-3bdb-499b-825d-1abf4b37f8dc\"));});</script>"
      ]
     },
     "metadata": {},
     "output_type": "display_data"
    }
   ],
   "source": [
    "plotdict(get_choose_difficulty_counts_for_user_list_user_normalized(frequency_of_choose_difficulty_to_users['1.0']), 'Difficulty selections if selection interface shown with p=1.0')"
   ]
  },
  {
   "cell_type": "code",
   "execution_count": 43,
   "metadata": {},
   "outputs": [
    {
     "data": {
      "application/vnd.plotly.v1+json": {
       "config": {
        "linkText": "Export to plot.ly",
        "plotlyServerURL": "https://plot.ly",
        "showLink": false
       },
       "data": [
        {
         "orientation": "h",
         "type": "bar",
         "uid": "08df3025-2378-4c1e-914b-f4deba7fcc30",
         "x": [
          0.42887140920222966,
          0.30570195991858606,
          0.18961699369931612,
          0.0758096371798682
         ],
         "y": [
          "nothing",
          "easy",
          "medium",
          "hard"
         ]
        }
       ],
       "layout": {
        "title": {
         "text": "Difficulty selections if selection interface shown with p=0.5"
        }
       }
      },
      "text/html": [
       "<div id=\"304351fd-f6d2-443c-8d7f-d08533b0f0b7\" style=\"height: 525px; width: 100%;\" class=\"plotly-graph-div\"></div><script type=\"text/javascript\">require([\"plotly\"], function(Plotly) { window.PLOTLYENV=window.PLOTLYENV || {};window.PLOTLYENV.BASE_URL=\"https://plot.ly\";Plotly.newPlot(\"304351fd-f6d2-443c-8d7f-d08533b0f0b7\", [{\"orientation\": \"h\", \"x\": [0.42887140920222966, 0.30570195991858606, 0.18961699369931612, 0.0758096371798682], \"y\": [\"nothing\", \"easy\", \"medium\", \"hard\"], \"type\": \"bar\", \"uid\": \"08df3025-2378-4c1e-914b-f4deba7fcc30\"}], {\"title\": {\"text\": \"Difficulty selections if selection interface shown with p=0.5\"}}, {\"showLink\": false, \"linkText\": \"Export to plot.ly\", \"plotlyServerURL\": \"https://plot.ly\"})});</script><script type=\"text/javascript\">window.addEventListener(\"resize\", function(){window._Plotly.Plots.resize(document.getElementById(\"304351fd-f6d2-443c-8d7f-d08533b0f0b7\"));});</script>"
      ],
      "text/vnd.plotly.v1+html": [
       "<div id=\"304351fd-f6d2-443c-8d7f-d08533b0f0b7\" style=\"height: 525px; width: 100%;\" class=\"plotly-graph-div\"></div><script type=\"text/javascript\">require([\"plotly\"], function(Plotly) { window.PLOTLYENV=window.PLOTLYENV || {};window.PLOTLYENV.BASE_URL=\"https://plot.ly\";Plotly.newPlot(\"304351fd-f6d2-443c-8d7f-d08533b0f0b7\", [{\"orientation\": \"h\", \"x\": [0.42887140920222966, 0.30570195991858606, 0.18961699369931612, 0.0758096371798682], \"y\": [\"nothing\", \"easy\", \"medium\", \"hard\"], \"type\": \"bar\", \"uid\": \"08df3025-2378-4c1e-914b-f4deba7fcc30\"}], {\"title\": {\"text\": \"Difficulty selections if selection interface shown with p=0.5\"}}, {\"showLink\": false, \"linkText\": \"Export to plot.ly\", \"plotlyServerURL\": \"https://plot.ly\"})});</script><script type=\"text/javascript\">window.addEventListener(\"resize\", function(){window._Plotly.Plots.resize(document.getElementById(\"304351fd-f6d2-443c-8d7f-d08533b0f0b7\"));});</script>"
      ]
     },
     "metadata": {},
     "output_type": "display_data"
    }
   ],
   "source": [
    "plotdict(get_choose_difficulty_counts_for_user_list_user_normalized(frequency_of_choose_difficulty_to_users['0.5']), 'Difficulty selections if selection interface shown with p=0.5')"
   ]
  },
  {
   "cell_type": "code",
   "execution_count": 44,
   "metadata": {},
   "outputs": [
    {
     "data": {
      "application/vnd.plotly.v1+json": {
       "config": {
        "linkText": "Export to plot.ly",
        "plotlyServerURL": "https://plot.ly",
        "showLink": false
       },
       "data": [
        {
         "orientation": "h",
         "type": "bar",
         "uid": "edc9869f-a739-4898-bf76-220b0756100a",
         "x": [
          0.522967338526486,
          0.2384578897842203,
          0.18525125301417206,
          0.05332351867512149
         ],
         "y": [
          "nothing",
          "easy",
          "medium",
          "hard"
         ]
        }
       ],
       "layout": {
        "title": {
         "text": "Difficulty selections if selection interface shown with p=0.25"
        }
       }
      },
      "text/html": [
       "<div id=\"0965d3f9-89c2-428c-b581-e23a48a5b764\" style=\"height: 525px; width: 100%;\" class=\"plotly-graph-div\"></div><script type=\"text/javascript\">require([\"plotly\"], function(Plotly) { window.PLOTLYENV=window.PLOTLYENV || {};window.PLOTLYENV.BASE_URL=\"https://plot.ly\";Plotly.newPlot(\"0965d3f9-89c2-428c-b581-e23a48a5b764\", [{\"orientation\": \"h\", \"x\": [0.522967338526486, 0.2384578897842203, 0.18525125301417206, 0.05332351867512149], \"y\": [\"nothing\", \"easy\", \"medium\", \"hard\"], \"type\": \"bar\", \"uid\": \"edc9869f-a739-4898-bf76-220b0756100a\"}], {\"title\": {\"text\": \"Difficulty selections if selection interface shown with p=0.25\"}}, {\"showLink\": false, \"linkText\": \"Export to plot.ly\", \"plotlyServerURL\": \"https://plot.ly\"})});</script><script type=\"text/javascript\">window.addEventListener(\"resize\", function(){window._Plotly.Plots.resize(document.getElementById(\"0965d3f9-89c2-428c-b581-e23a48a5b764\"));});</script>"
      ],
      "text/vnd.plotly.v1+html": [
       "<div id=\"0965d3f9-89c2-428c-b581-e23a48a5b764\" style=\"height: 525px; width: 100%;\" class=\"plotly-graph-div\"></div><script type=\"text/javascript\">require([\"plotly\"], function(Plotly) { window.PLOTLYENV=window.PLOTLYENV || {};window.PLOTLYENV.BASE_URL=\"https://plot.ly\";Plotly.newPlot(\"0965d3f9-89c2-428c-b581-e23a48a5b764\", [{\"orientation\": \"h\", \"x\": [0.522967338526486, 0.2384578897842203, 0.18525125301417206, 0.05332351867512149], \"y\": [\"nothing\", \"easy\", \"medium\", \"hard\"], \"type\": \"bar\", \"uid\": \"edc9869f-a739-4898-bf76-220b0756100a\"}], {\"title\": {\"text\": \"Difficulty selections if selection interface shown with p=0.25\"}}, {\"showLink\": false, \"linkText\": \"Export to plot.ly\", \"plotlyServerURL\": \"https://plot.ly\"})});</script><script type=\"text/javascript\">window.addEventListener(\"resize\", function(){window._Plotly.Plots.resize(document.getElementById(\"0965d3f9-89c2-428c-b581-e23a48a5b764\"));});</script>"
      ]
     },
     "metadata": {},
     "output_type": "display_data"
    }
   ],
   "source": [
    "plotdict(get_choose_difficulty_counts_for_user_list_user_normalized(frequency_of_choose_difficulty_to_users['0.25']), 'Difficulty selections if selection interface shown with p=0.25')"
   ]
  },
  {
   "cell_type": "code",
   "execution_count": 47,
   "metadata": {},
   "outputs": [],
   "source": [
    "def get_daynum_to_difficulty_choices(user):\n",
    "  difficulty_choices = get_choose_difficulty_items_for_user(user)\n",
    "  first_timestamp = None\n",
    "  output = {}\n",
    "  for item in difficulty_choices:\n",
    "    if 'type' not in item:\n",
    "      continue\n",
    "    if item['type'] != 'action':\n",
    "      continue\n",
    "    if 'difficulty' not in item:\n",
    "      continue\n",
    "    difficulty = item['difficulty']\n",
    "    timestamp = item['timestamp_local']\n",
    "    if first_timestamp == None or timestamp < first_timestamp:\n",
    "      first_timestamp = timestamp\n",
    "  for item in difficulty_choices:\n",
    "    if 'type' not in item:\n",
    "      continue\n",
    "    if item['type'] != 'action':\n",
    "      continue\n",
    "    if 'difficulty' not in item:\n",
    "      continue\n",
    "    difficulty = item['difficulty']\n",
    "    timestamp = item['timestamp_local']\n",
    "    daynum = (timestamp - first_timestamp) / (1000 * 3600 * 24)\n",
    "    daynum = int(math.floor(daynum))\n",
    "    if daynum not in output:\n",
    "      output[daynum] = {}\n",
    "    if difficulty not in output[daynum]:\n",
    "      output[daynum][difficulty] = 0\n",
    "    output[daynum][difficulty] += 1\n",
    "  return output\n",
    "\n",
    "def get_user_to_daynum_to_difficulty_choices():\n",
    "  output = {}\n",
    "  user_list = get_users_with_choose_difficulty()\n",
    "  for user in user_list:\n",
    "    difficulty_counts = get_choose_difficulty_counts_for_user(user)\n",
    "    if len(difficulty_counts.keys()) == 0:\n",
    "      continue\n",
    "    daynum_to_difficulty_choices = get_daynum_to_difficulty_choices(user)\n",
    "    if len(daynum_to_difficulty_choices.keys()) == 0:\n",
    "      continue\n",
    "    output[user] = daynum_to_difficulty_choices\n",
    "  return output\n",
    "\n",
    "def get_daynum_to_difficulty_choices_over_n_days(num_days):\n",
    "  user_to_daynum_to_difficulty_choices = get_user_to_daynum_to_difficulty_choices()\n",
    "  output = []\n",
    "  for daynum in range(num_days):\n",
    "    item = {}\n",
    "    for x in 'nothing easy medium hard'.split(' '):\n",
    "      item[x] = 0\n",
    "    output.append(item)\n",
    "  for user,daynum_to_difficulty_choices in user_to_daynum_to_difficulty_choices.items():\n",
    "    has_data = True\n",
    "    for daynum in range(num_days):\n",
    "      if not daynum in daynum_to_difficulty_choices:\n",
    "        has_data = False\n",
    "        break\n",
    "    if not has_data:\n",
    "      continue\n",
    "    for daynum in range(num_days):\n",
    "      for difficulty,num_chosen in to_percent_dict(daynum_to_difficulty_choices[daynum]).items():\n",
    "        output[daynum][difficulty] += num_chosen\n",
    "      output[daynum] = to_percent_dict(output[daynum])\n",
    "  return output\n",
    "\n",
    "def list_of_dictionaries_to_dictionary_with_list_values(dlist):\n",
    "  output = {}\n",
    "  keys = dlist[0].keys()\n",
    "  for k in keys:\n",
    "    output[k] = []\n",
    "  for d in dlist:\n",
    "    for k,v in d.items():\n",
    "      output[k].append(v)\n",
    "  return output\n",
    "\n",
    "def plotline(values, title=''):\n",
    "  trace = go.Scatter(\n",
    "    x = list(range(len(values))),\n",
    "    y=values,\n",
    "  )\n",
    "  data = [trace]\n",
    "  layout = go.Layout(title=title)\n",
    "  fig = go.Figure(data=data, layout=layout)\n",
    "  iplot(fig)\n",
    "\n",
    "def plotlines(dict_to_values, title=''):\n",
    "  data = []\n",
    "  for label,values in dict_to_values.items():\n",
    "    trace = go.Scatter(\n",
    "      x = list(range(len(values))),\n",
    "      y=values,\n",
    "      name=label,\n",
    "    )\n",
    "    data.append(trace)\n",
    "  layout = go.Layout(title=title)\n",
    "  fig = go.Figure(data=data, layout=layout)\n",
    "  iplot(fig)\n",
    "\n",
    "#plotline([3,5,2])\n",
    "#plotlines({'a': [3,5,2], 'b': [7,7,7]})"
   ]
  },
  {
   "cell_type": "code",
   "execution_count": 48,
   "metadata": {},
   "outputs": [],
   "source": [
    "def compute_entropy_for_difficulty_selections(difficulty_selection_dict):\n",
    "  if len(difficulty_selection_dict.keys()) == 0:\n",
    "    return None\n",
    "  probs = to_percent_dict(difficulty_selection_dict)\n",
    "  items_to_sum = []\n",
    "  for k,prob in probs.items():\n",
    "    items_to_sum.append(prob * math.log(prob)/math.log(2))\n",
    "  return -sum(items_to_sum)\n",
    "\n",
    "def compute_entropy_for_difficulty_selections_for_user(user):\n",
    "    difficulty_counts = get_choose_difficulty_counts_for_user(user)\n",
    "    return compute_entropy_for_difficulty_selections(difficulty_counts)\n",
    "\n",
    "def get_entropies_for_user_list(user_list):\n",
    "  entropies = []\n",
    "  for user in user_list:\n",
    "    entropy = compute_entropy_for_difficulty_selections_for_user(user)\n",
    "    if entropy == None:\n",
    "      continue\n",
    "    entropies.append(entropy)\n",
    "  return entropies\n",
    "\n",
    "def get_entropies_for_all_users():\n",
    "  user_list = get_users_with_choose_difficulty()\n",
    "  return get_entropies_for_user_list(user_list)\n",
    "\n",
    "def get_entropies_for_all_users_more_than_5():\n",
    "  user_list = get_users_with_choose_difficulty()\n",
    "  return get_entropies_for_user_list_with_more_than_5(user_list)\n",
    "\n",
    "def get_entropies_for_all_users_with_10_first_days():\n",
    "  user_list = get_users_with_choose_difficulty()\n",
    "  return get_entropies_for_user_list_with_10_first_days(user_list)\n",
    "\n",
    "def get_entropies_for_user_list_with_more_than_5(user_list):\n",
    "  entropies = []\n",
    "  for user in user_list:\n",
    "    difficulty_counts = get_choose_difficulty_counts_for_user(user)\n",
    "    total = sum(difficulty_counts.values())\n",
    "    if total < 5:\n",
    "      continue\n",
    "    entropy = compute_entropy_for_difficulty_selections_for_user(user)\n",
    "    if entropy == None:\n",
    "      continue\n",
    "    entropies.append(entropy)\n",
    "  return entropies\n",
    "\n",
    "\n",
    "#print(user_list[0])\n",
    "#print(compute_entropy_for_difficulty_selections({'a': 0.25, 'b': 0.75}))\n",
    "\n",
    "def get_entropies_for_user_list_with_10_first_days(user_list):\n",
    "  entropies = []\n",
    "  user_to_daynum_to_difficulty_choices = get_user_to_daynum_to_difficulty_choices()\n",
    "  for user in user_list:\n",
    "    #difficulty_counts = get_choose_difficulty_counts_for_user(user)\n",
    "    daynum_to_difficulty_choices = user_to_daynum_to_difficulty_choices[user]\n",
    "    is_valid = True\n",
    "    for i in range(10):\n",
    "      if i not in daynum_to_difficulty_choices:\n",
    "        is_valid = False\n",
    "        break\n",
    "    if not is_valid:\n",
    "      continue\n",
    "    #total = sum(difficulty_counts.values())\n",
    "    #if total < 5:\n",
    "    #  continue\n",
    "    entropy = compute_entropy_for_difficulty_selections_for_user(user)\n",
    "    if entropy == None:\n",
    "      continue\n",
    "    entropies.append(entropy)\n",
    "  return entropies\n"
   ]
  },
  {
   "cell_type": "code",
   "execution_count": 46,
   "metadata": {},
   "outputs": [
    {
     "ename": "NameError",
     "evalue": "name 'get_user_to_daynum_to_difficulty_choices' is not defined",
     "output_type": "error",
     "traceback": [
      "\u001b[0;31m---------------------------------------------------------------------------\u001b[0m",
      "\u001b[0;31mNameError\u001b[0m                                 Traceback (most recent call last)",
      "\u001b[0;32m<ipython-input-46-118447b19b58>\u001b[0m in \u001b[0;36m<module>\u001b[0;34m()\u001b[0m\n\u001b[1;32m      1\u001b[0m \u001b[0;31m#print(np.mean(entropies))\u001b[0m\u001b[0;34m\u001b[0m\u001b[0;34m\u001b[0m\u001b[0m\n\u001b[1;32m      2\u001b[0m \u001b[0;31m#print(np.sum(entropies))\u001b[0m\u001b[0;34m\u001b[0m\u001b[0;34m\u001b[0m\u001b[0m\n\u001b[0;32m----> 3\u001b[0;31m \u001b[0mentropies\u001b[0m \u001b[0;34m=\u001b[0m \u001b[0mget_entropies_for_all_users_with_10_first_days\u001b[0m\u001b[0;34m(\u001b[0m\u001b[0;34m)\u001b[0m\u001b[0;34m\u001b[0m\u001b[0m\n\u001b[0m\u001b[1;32m      4\u001b[0m \u001b[0mprint\u001b[0m\u001b[0;34m(\u001b[0m\u001b[0;34m'mean entropy per user'\u001b[0m\u001b[0;34m,\u001b[0m \u001b[0mnp\u001b[0m\u001b[0;34m.\u001b[0m\u001b[0mmean\u001b[0m\u001b[0;34m(\u001b[0m\u001b[0mentropies\u001b[0m\u001b[0;34m)\u001b[0m\u001b[0;34m)\u001b[0m\u001b[0;34m\u001b[0m\u001b[0m\n\u001b[1;32m      5\u001b[0m \u001b[0mprint\u001b[0m\u001b[0;34m(\u001b[0m\u001b[0;34m'median entropy per user'\u001b[0m\u001b[0;34m,\u001b[0m \u001b[0mnp\u001b[0m\u001b[0;34m.\u001b[0m\u001b[0mmedian\u001b[0m\u001b[0;34m(\u001b[0m\u001b[0mentropies\u001b[0m\u001b[0;34m)\u001b[0m\u001b[0;34m)\u001b[0m\u001b[0;34m\u001b[0m\u001b[0m\n",
      "\u001b[0;32m<ipython-input-45-20be17d37a7f>\u001b[0m in \u001b[0;36mget_entropies_for_all_users_with_10_first_days\u001b[0;34m()\u001b[0m\n\u001b[1;32m     31\u001b[0m \u001b[0;32mdef\u001b[0m \u001b[0mget_entropies_for_all_users_with_10_first_days\u001b[0m\u001b[0;34m(\u001b[0m\u001b[0;34m)\u001b[0m\u001b[0;34m:\u001b[0m\u001b[0;34m\u001b[0m\u001b[0m\n\u001b[1;32m     32\u001b[0m   \u001b[0muser_list\u001b[0m \u001b[0;34m=\u001b[0m \u001b[0mget_users_with_choose_difficulty\u001b[0m\u001b[0;34m(\u001b[0m\u001b[0;34m)\u001b[0m\u001b[0;34m\u001b[0m\u001b[0m\n\u001b[0;32m---> 33\u001b[0;31m   \u001b[0;32mreturn\u001b[0m \u001b[0mget_entropies_for_user_list_with_10_first_days\u001b[0m\u001b[0;34m(\u001b[0m\u001b[0muser_list\u001b[0m\u001b[0;34m)\u001b[0m\u001b[0;34m\u001b[0m\u001b[0m\n\u001b[0m\u001b[1;32m     34\u001b[0m \u001b[0;34m\u001b[0m\u001b[0m\n\u001b[1;32m     35\u001b[0m \u001b[0;32mdef\u001b[0m \u001b[0mget_entropies_for_user_list_with_more_than_5\u001b[0m\u001b[0;34m(\u001b[0m\u001b[0muser_list\u001b[0m\u001b[0;34m)\u001b[0m\u001b[0;34m:\u001b[0m\u001b[0;34m\u001b[0m\u001b[0m\n",
      "\u001b[0;32m<ipython-input-45-20be17d37a7f>\u001b[0m in \u001b[0;36mget_entropies_for_user_list_with_10_first_days\u001b[0;34m(user_list)\u001b[0m\n\u001b[1;32m     52\u001b[0m \u001b[0;32mdef\u001b[0m \u001b[0mget_entropies_for_user_list_with_10_first_days\u001b[0m\u001b[0;34m(\u001b[0m\u001b[0muser_list\u001b[0m\u001b[0;34m)\u001b[0m\u001b[0;34m:\u001b[0m\u001b[0;34m\u001b[0m\u001b[0m\n\u001b[1;32m     53\u001b[0m   \u001b[0mentropies\u001b[0m \u001b[0;34m=\u001b[0m \u001b[0;34m[\u001b[0m\u001b[0;34m]\u001b[0m\u001b[0;34m\u001b[0m\u001b[0m\n\u001b[0;32m---> 54\u001b[0;31m   \u001b[0muser_to_daynum_to_difficulty_choices\u001b[0m \u001b[0;34m=\u001b[0m \u001b[0mget_user_to_daynum_to_difficulty_choices\u001b[0m\u001b[0;34m(\u001b[0m\u001b[0;34m)\u001b[0m\u001b[0;34m\u001b[0m\u001b[0m\n\u001b[0m\u001b[1;32m     55\u001b[0m   \u001b[0;32mfor\u001b[0m \u001b[0muser\u001b[0m \u001b[0;32min\u001b[0m \u001b[0muser_list\u001b[0m\u001b[0;34m:\u001b[0m\u001b[0;34m\u001b[0m\u001b[0m\n\u001b[1;32m     56\u001b[0m     \u001b[0;31m#difficulty_counts = get_choose_difficulty_counts_for_user(user)\u001b[0m\u001b[0;34m\u001b[0m\u001b[0;34m\u001b[0m\u001b[0m\n",
      "\u001b[0;31mNameError\u001b[0m: name 'get_user_to_daynum_to_difficulty_choices' is not defined"
     ]
    }
   ],
   "source": [
    "#print(np.mean(entropies))\n",
    "#print(np.sum(entropies))\n",
    "entropies = get_entropies_for_all_users_with_10_first_days()\n",
    "print('mean entropy per user', np.mean(entropies))\n",
    "print('median entropy per user', np.median(entropies))\n",
    "plothist(entropies, 'Entropies per user, in bits (histogram)')"
   ]
  },
  {
   "cell_type": "code",
   "execution_count": null,
   "metadata": {},
   "outputs": [],
   "source": [
    "#print(np.mean(entropies))\n",
    "#print(np.sum(entropies))\n",
    "entropies = get_entropies_for_user_list(difficulty_interface_to_users['time_afford'])\n",
    "print('mean entropy per user', np.mean(entropies))\n",
    "print('median entropy per user', np.median(entropies))\n",
    "plothist(entropies, 'Entropies per user, in bits (histogram), for users with interface=time_afford')"
   ]
  },
  {
   "cell_type": "code",
   "execution_count": null,
   "metadata": {},
   "outputs": [],
   "source": [
    "entropies = get_entropies_for_user_list(difficulty_interface_to_users['this_intervention'])\n",
    "print('mean entropy per user', np.mean(entropies))\n",
    "print('median entropy per user', np.median(entropies))\n",
    "plothist(entropies, 'Entropies per user, in bits (histogram), for users with interface=this_intervention')"
   ]
  },
  {
   "cell_type": "code",
   "execution_count": null,
   "metadata": {},
   "outputs": [],
   "source": [
    "entropies = get_entropies_for_user_list(difficulty_interface_to_users['settings_update'])\n",
    "print('mean entropy per user', np.mean(entropies))\n",
    "print('median entropy per user', np.median(entropies))\n",
    "plothist(entropies, 'Entropies per user, in bits (histogram), for users with interface=settings_update')"
   ]
  },
  {
   "cell_type": "code",
   "execution_count": null,
   "metadata": {},
   "outputs": [],
   "source": [
    "entropies = get_entropies_for_user_list(frequency_of_choose_difficulty_to_users['1.0'])\n",
    "print('mean entropy per user', np.mean(entropies))\n",
    "print('median entropy per user', np.median(entropies))\n",
    "plothist(entropies, 'Entropies per user, in bits (histogram), for users with frequency=1.0')"
   ]
  },
  {
   "cell_type": "code",
   "execution_count": null,
   "metadata": {},
   "outputs": [],
   "source": [
    "entropies = get_entropies_for_user_list(frequency_of_choose_difficulty_to_users['0.5'])\n",
    "print('mean entropy per user', np.mean(entropies))\n",
    "print('median entropy per user', np.median(entropies))\n",
    "plothist(entropies, 'Entropies per user, in bits (histogram), for users with frequency=0.5')"
   ]
  },
  {
   "cell_type": "code",
   "execution_count": null,
   "metadata": {},
   "outputs": [],
   "source": [
    "entropies = get_entropies_for_user_list(frequency_of_choose_difficulty_to_users['0.25'])\n",
    "print('mean entropy per user', np.mean(entropies))\n",
    "print('median entropy per user', np.median(entropies))\n",
    "plothist(entropies, 'Entropies per user, in bits (histogram), for users with frequency=0.25')"
   ]
  },
  {
   "cell_type": "code",
   "execution_count": null,
   "metadata": {},
   "outputs": [],
   "source": [
    "#import moment\n",
    "#moment.unix(1544559305512.0)\n",
    "#import arrow\n",
    "#arrow.get(1544559305512.0 / 1000)"
   ]
  },
  {
   "cell_type": "code",
   "execution_count": null,
   "metadata": {},
   "outputs": [],
   "source": []
  },
  {
   "cell_type": "code",
   "execution_count": null,
   "metadata": {},
   "outputs": [],
   "source": []
  },
  {
   "cell_type": "code",
   "execution_count": null,
   "metadata": {},
   "outputs": [],
   "source": []
  },
  {
   "cell_type": "code",
   "execution_count": null,
   "metadata": {},
   "outputs": [],
   "source": [
    "plotlines(list_of_dictionaries_to_dictionary_with_list_values(get_daynum_to_difficulty_choices_over_n_days(10)), 'Difficulty chosen over first 10 days of install')"
   ]
  },
  {
   "cell_type": "code",
   "execution_count": null,
   "metadata": {},
   "outputs": [],
   "source": [
    "def compute_entropy_over_n_days(num_days):\n",
    "  daynum_to_difficulty_choices = get_daynum_to_difficulty_choices_over_n_days(num_days)\n",
    "  output = []\n",
    "  for daynum in range(num_days):\n",
    "    difficulty_choices = daynum_to_difficulty_choices[daynum]\n",
    "    entropy_for_day = compute_entropy_for_difficulty_selections(difficulty_choices)\n",
    "    output.append(entropy_for_day)\n",
    "  return output\n",
    "\n",
    "#print(compute_entropy_over_n_days(10))\n",
    "plotline(compute_entropy_over_n_days(10), 'Entropy of difficulty choice selections over first 10 days of install')"
   ]
  },
  {
   "cell_type": "code",
   "execution_count": null,
   "metadata": {},
   "outputs": [],
   "source": [
    "plotline(compute_entropy_over_n_days(5), 'Entropy of difficulty choice selections over first 5 days of install')"
   ]
  },
  {
   "cell_type": "code",
   "execution_count": null,
   "metadata": {},
   "outputs": [],
   "source": [
    "user_to_daynum_to_difficulty_choices = get_user_to_daynum_to_difficulty_choices()\n",
    "print(len(user_to_daynum_to_difficulty_choices.keys()))"
   ]
  },
  {
   "cell_type": "code",
   "execution_count": null,
   "metadata": {},
   "outputs": [],
   "source": [
    "print(get_choose_difficulty_counts_for_user_list(difficulty_interface_to_users['time_afford']))"
   ]
  },
  {
   "cell_type": "code",
   "execution_count": null,
   "metadata": {},
   "outputs": [],
   "source": [
    "print(get_choose_difficulty_counts_for_user_list(difficulty_interface_to_users['this_intervention']))"
   ]
  },
  {
   "cell_type": "code",
   "execution_count": null,
   "metadata": {},
   "outputs": [],
   "source": [
    "print(get_choose_difficulty_counts_for_user_list(difficulty_interface_to_users['settings_update']))"
   ]
  },
  {
   "cell_type": "code",
   "execution_count": null,
   "metadata": {},
   "outputs": [],
   "source": []
  },
  {
   "cell_type": "code",
   "execution_count": null,
   "metadata": {},
   "outputs": [],
   "source": [
    "frequency_of_choose_difficulty_to_users = get_abtest_condition_to_user_list('frequency_of_choose_difficulty')"
   ]
  },
  {
   "cell_type": "code",
   "execution_count": null,
   "metadata": {},
   "outputs": [],
   "source": [
    "frequency_of_choose_difficulty_to_users.keys()"
   ]
  },
  {
   "cell_type": "code",
   "execution_count": null,
   "metadata": {},
   "outputs": [],
   "source": [
    "print(get_choose_difficulty_counts_for_user_list(frequency_of_choose_difficulty_to_users['1.0']))"
   ]
  },
  {
   "cell_type": "code",
   "execution_count": null,
   "metadata": {},
   "outputs": [],
   "source": [
    "print(get_choose_difficulty_counts_for_user_list(frequency_of_choose_difficulty_to_users['0.5']))"
   ]
  },
  {
   "cell_type": "code",
   "execution_count": null,
   "metadata": {},
   "outputs": [],
   "source": [
    "print(get_choose_difficulty_counts_for_user_list(frequency_of_choose_difficulty_to_users['0.25']))"
   ]
  },
  {
   "cell_type": "code",
   "execution_count": null,
   "metadata": {},
   "outputs": [],
   "source": [
    "#print(get_choose_difficulty_counts_for_user_list(frequency_of_choose_difficulty_to_users['0.0']))"
   ]
  },
  {
   "cell_type": "code",
   "execution_count": null,
   "metadata": {},
   "outputs": [],
   "source": [
    "#print('foobar')"
   ]
  },
  {
   "cell_type": "code",
   "execution_count": null,
   "metadata": {},
   "outputs": [],
   "source": [
    "#def get_lifetime_and_whether_attritioned(user):\n",
    "  "
   ]
  },
  {
   "cell_type": "code",
   "execution_count": null,
   "metadata": {},
   "outputs": [],
   "source": [
    "#choose_difficulty_set = set()\n",
    "#for x in collection_names:\n",
    "#  if 'difficulty' in x:\n",
    "#    choose_difficulty_set.add(x)"
   ]
  },
  {
   "cell_type": "code",
   "execution_count": null,
   "metadata": {},
   "outputs": [],
   "source": [
    "#print(choose_difficulty_set)\n",
    "#for x in choose_difficulty_set:\n",
    "  "
   ]
  }
 ],
 "metadata": {
  "kernelspec": {
   "display_name": "Python 3",
   "language": "python",
   "name": "python3"
  },
  "language_info": {
   "codemirror_mode": {
    "name": "ipython",
    "version": 3
   },
   "file_extension": ".py",
   "mimetype": "text/x-python",
   "name": "python",
   "nbconvert_exporter": "python",
   "pygments_lexer": "ipython3",
   "version": "3.6.5"
  }
 },
 "nbformat": 4,
 "nbformat_minor": 2
}
