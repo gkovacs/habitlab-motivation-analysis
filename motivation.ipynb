{
 "cells": [
  {
   "cell_type": "code",
   "execution_count": 13,
   "metadata": {
    "scrolled": true
   },
   "outputs": [
    {
     "data": {
      "text/html": [
       "<script type=\"text/javascript\">window.PlotlyConfig = {MathJaxConfig: 'local'};</script><script type=\"text/javascript\">if (window.MathJax) {MathJax.Hub.Config({SVG: {font: \"STIX-Web\"}});}</script><script>requirejs.config({paths: { 'plotly': ['https://cdn.plot.ly/plotly-latest.min']},});if(!window._Plotly) {require(['plotly'],function(plotly) {window._Plotly=plotly;});}</script>"
      ],
      "text/vnd.plotly.v1+html": [
       "<script type=\"text/javascript\">window.PlotlyConfig = {MathJaxConfig: 'local'};</script><script type=\"text/javascript\">if (window.MathJax) {MathJax.Hub.Config({SVG: {font: \"STIX-Web\"}});}</script><script>requirejs.config({paths: { 'plotly': ['https://cdn.plot.ly/plotly-latest.min']},});if(!window._Plotly) {require(['plotly'],function(plotly) {window._Plotly=plotly;});}</script>"
      ]
     },
     "metadata": {},
     "output_type": "display_data"
    }
   ],
   "source": [
    "import math\n",
    "from browser_libs import get_collection_items, get_collection_names, get_collection_for_user\n",
    "from memoize import memoize # pip install memoize2\n",
    "from collections import Counter\n",
    "import pandas as pd\n",
    "import numpy as np\n",
    "import scipy as sp\n",
    "import plotly.plotly as py\n",
    "import plotly.graph_objs as go\n",
    "from plotly.offline import download_plotlyjs, init_notebook_mode, plot, iplot\n",
    "init_notebook_mode(connected=True)"
   ]
  },
  {
   "cell_type": "code",
   "execution_count": 12,
   "metadata": {},
   "outputs": [
    {
     "name": "stdout",
     "output_type": "stream",
     "text": [
      "960c17bec89c59404248b47d_synced:experiment_vars\n"
     ]
    }
   ],
   "source": [
    "collection_names = get_collection_names()\n",
    "for x in collection_names:\n",
    "  if 'experiment_vars' in x and 'for_goal' not in x:\n",
    "    print(x)\n",
    "    break"
   ]
  },
  {
   "cell_type": "code",
   "execution_count": 14,
   "metadata": {},
   "outputs": [],
   "source": [
    "@memoize\n",
    "def get_users_with_choose_difficulty():\n",
    "  collection_names = get_collection_names()\n",
    "  output = []\n",
    "  for x in collection_names:\n",
    "    if x.endswith('_internal:choose_difficulty'):\n",
    "      user = x.replace('_internal:choose_difficulty', '')\n",
    "      output.append(user)\n",
    "  return output\n"
   ]
  },
  {
   "cell_type": "code",
   "execution_count": 16,
   "metadata": {},
   "outputs": [],
   "source": [
    "@memoize\n",
    "def get_choose_difficulty_items_for_user(user):\n",
    "  collection_items = get_collection_for_user(user, 'internal:choose_difficulty')\n",
    "  output = []\n",
    "  for x in collection_items:\n",
    "    if 'is_new_session' not in x:\n",
    "      continue\n",
    "    if x['is_new_session'] != True:\n",
    "      continue\n",
    "    if ('developer_mode' in x) and (x['developer_mode'] == True):\n",
    "      continue\n",
    "    if ('is_preview_mode' in x) and (x['is_preview_mode'] == True):\n",
    "      continue\n",
    "    if ('is_suggestion_mode' in x) and (x['is_suggestion_mode'] == True):\n",
    "      continue\n",
    "    output.append(x)\n",
    "  return output"
   ]
  },
  {
   "cell_type": "code",
   "execution_count": 17,
   "metadata": {},
   "outputs": [],
   "source": [
    "def get_choose_difficulty_counts_for_user(user):\n",
    "  collection_items = get_choose_difficulty_items_for_user(user)\n",
    "  output = {}\n",
    "  for x in collection_items:\n",
    "    if 'type' not in x:\n",
    "      continue\n",
    "    if x['type'] != 'action':\n",
    "      continue\n",
    "    if 'difficulty' not in x:\n",
    "      continue\n",
    "    difficulty = x['difficulty']\n",
    "    if difficulty not in output:\n",
    "      output[difficulty] = 1\n",
    "    else:\n",
    "      output[difficulty] += 1\n",
    "  return output"
   ]
  },
  {
   "cell_type": "code",
   "execution_count": 18,
   "metadata": {},
   "outputs": [],
   "source": [
    "def get_choose_difficulty_counts_for_user_list(user_list):\n",
    "  output = Counter()\n",
    "  for user in user_list:\n",
    "    difficulty_counts = get_choose_difficulty_counts_for_user(user)\n",
    "    for difficulty,count in difficulty_counts.items():\n",
    "      output[difficulty] += count\n",
    "  return output"
   ]
  },
  {
   "cell_type": "code",
   "execution_count": 19,
   "metadata": {},
   "outputs": [],
   "source": [
    "def get_choose_difficulty_counts_for_user_list_user_normalized(user_list):\n",
    "  output = Counter()\n",
    "  for user in user_list:\n",
    "    difficulty_counts = get_choose_difficulty_counts_for_user(user)\n",
    "    difficulty_counts = to_percent_dict(difficulty_counts)\n",
    "    for difficulty,count in difficulty_counts.items():\n",
    "      output[difficulty] += count\n",
    "  return to_percent_dict(output)"
   ]
  },
  {
   "cell_type": "code",
   "execution_count": 20,
   "metadata": {},
   "outputs": [],
   "source": [
    "def get_random_counts():\n",
    "  user_list = get_users_with_choose_difficulty()\n",
    "  random_counts = Counter()\n",
    "  for user in user_list:\n",
    "    collection_items = get_choose_difficulty_items_for_user(user)\n",
    "    for item in collection_items:\n",
    "      if 'is_random' in item:\n",
    "        is_random = item['is_random']\n",
    "        random_counts[is_random] += 1\n",
    "  return random_counts"
   ]
  },
  {
   "cell_type": "code",
   "execution_count": 21,
   "metadata": {},
   "outputs": [
    {
     "name": "stdout",
     "output_type": "stream",
     "text": [
      "Counter({True: 13885, False: 8949})\n"
     ]
    }
   ],
   "source": [
    "\n",
    "\n",
    "print(get_random_counts())\n",
    "\n",
    "def get_random_counts2():\n",
    "  user_to_random_counts = {}\n",
    "  for user in user_list:\n",
    "    collection_items = get_choose_difficulty_items_for_user(user)\n",
    "    for item in collection_items:\n",
    "      if 'is_random' in item:\n",
    "        is_random = item['is_random']\n",
    "        random_counts[is_random] += 1"
   ]
  },
  {
   "cell_type": "code",
   "execution_count": null,
   "metadata": {},
   "outputs": [],
   "source": []
  },
  {
   "cell_type": "code",
   "execution_count": 22,
   "metadata": {},
   "outputs": [],
   "source": [
    "def get_choose_difficulty_counts_for_all_users():\n",
    "  user_list = get_users_with_choose_difficulty()\n",
    "  return get_choose_difficulty_counts_for_user_list(user_list)"
   ]
  },
  {
   "cell_type": "code",
   "execution_count": 23,
   "metadata": {},
   "outputs": [],
   "source": [
    "def get_total_counts_for_user(user):\n",
    "  difficulty_counts = get_choose_difficulty_counts_for_user(user)\n",
    "  return sum(difficulty_counts.values())"
   ]
  },
  {
   "cell_type": "code",
   "execution_count": 24,
   "metadata": {},
   "outputs": [],
   "source": [
    "def num_types_tried(user):\n",
    "  difficulty_counts = get_choose_difficulty_counts_for_user(user)\n",
    "  return len(difficulty_counts.keys())"
   ]
  },
  {
   "cell_type": "code",
   "execution_count": 25,
   "metadata": {},
   "outputs": [],
   "source": [
    "def did_user_try_multiple(user):\n",
    "  return num_types_tried(user) > 1"
   ]
  },
  {
   "cell_type": "code",
   "execution_count": 26,
   "metadata": {},
   "outputs": [],
   "source": [
    "def get_try_multiple_counts_for_all_users():\n",
    "  output = {\n",
    "    'none_total': 0,\n",
    "    'one_total': 0,\n",
    "    'one_tried': 0,\n",
    "    'multiple_tried': 0,\n",
    "  }\n",
    "  for user in get_users_with_choose_difficulty():\n",
    "    total_counts = get_total_counts_for_user(user)\n",
    "    if total_counts == 0:\n",
    "      output['none_total'] += 1\n",
    "      continue\n",
    "    if total_counts == 1:\n",
    "      output['one_total'] += 1\n",
    "      continue\n",
    "    if did_user_try_multiple(user):\n",
    "      output['multiple_tried'] += 1\n",
    "    else:\n",
    "      output['one_tried'] += 1\n",
    "  return output"
   ]
  },
  {
   "cell_type": "code",
   "execution_count": 27,
   "metadata": {},
   "outputs": [],
   "source": [
    "def get_breakdown_for_one_tried():\n",
    "  output = Counter()\n",
    "  for user in get_users_with_choose_difficulty():\n",
    "    total_counts = get_total_counts_for_user(user)\n",
    "    if total_counts <= 1:\n",
    "      continue\n",
    "    if did_user_try_multiple(user):\n",
    "      continue\n",
    "    difficulty_counts = get_choose_difficulty_counts_for_user(user)\n",
    "    chosen_difficulty = list(difficulty_counts.keys())[0]\n",
    "    output[chosen_difficulty] += difficulty_counts[chosen_difficulty]\n",
    "  return output"
   ]
  },
  {
   "cell_type": "code",
   "execution_count": 28,
   "metadata": {},
   "outputs": [
    {
     "name": "stdout",
     "output_type": "stream",
     "text": [
      "1976\n"
     ]
    }
   ],
   "source": [
    "print(len(get_users_with_choose_difficulty()))"
   ]
  },
  {
   "cell_type": "code",
   "execution_count": 29,
   "metadata": {},
   "outputs": [
    {
     "name": "stdout",
     "output_type": "stream",
     "text": [
      "Counter({'nothing': 38243, 'easy': 19520, 'medium': 11301, 'hard': 6717})\n"
     ]
    }
   ],
   "source": [
    "print(get_choose_difficulty_counts_for_all_users())"
   ]
  },
  {
   "cell_type": "code",
   "execution_count": 30,
   "metadata": {
    "scrolled": true
   },
   "outputs": [
    {
     "name": "stdout",
     "output_type": "stream",
     "text": [
      "{'none_total': 416, 'one_total': 219, 'one_tried': 172, 'multiple_tried': 1169}\n"
     ]
    }
   ],
   "source": [
    "print(get_try_multiple_counts_for_all_users())"
   ]
  },
  {
   "cell_type": "code",
   "execution_count": 31,
   "metadata": {},
   "outputs": [
    {
     "name": "stdout",
     "output_type": "stream",
     "text": [
      "Counter({'nothing': 1768, 'medium': 288, 'easy': 259, 'hard': 28})\n"
     ]
    }
   ],
   "source": [
    "print(get_breakdown_for_one_tried())"
   ]
  },
  {
   "cell_type": "code",
   "execution_count": 32,
   "metadata": {},
   "outputs": [],
   "source": [
    "@memoize\n",
    "def get_abtest_settings(user):\n",
    "  output = {}\n",
    "  collection_items = get_collection_for_user(user, 'synced:experiment_vars')\n",
    "  for item in collection_items:\n",
    "    if 'key' not in item:\n",
    "      continue\n",
    "    if 'val' not in item:\n",
    "      continue\n",
    "    key = item['key']\n",
    "    val = item['val']\n",
    "    output[key] = val\n",
    "  return output\n"
   ]
  },
  {
   "cell_type": "code",
   "execution_count": 33,
   "metadata": {},
   "outputs": [],
   "source": [
    "def get_abtest_options_for_group(user_list):\n",
    "  conditions = {}\n",
    "  for user in user_list:\n",
    "    abtest_settings = get_abtest_settings(user)\n",
    "    for k,v in abtest_settings.items():\n",
    "      if k == 'intervention_firstimpression_notice_seenlist':\n",
    "        continue\n",
    "      if k not in conditions:\n",
    "        conditions[k] = []\n",
    "      if v not in conditions[k]:\n",
    "        conditions[k].append(v)\n",
    "  output = {}\n",
    "  for abtest_name,options in conditions.items():\n",
    "    if len(options) > 1:\n",
    "      output[abtest_name] = options\n",
    "  return output"
   ]
  },
  {
   "cell_type": "code",
   "execution_count": 34,
   "metadata": {},
   "outputs": [],
   "source": [
    "def get_abtest_condition_to_user_list(abtest_name):\n",
    "  # note this only applies to users in the get_users_with_choose_difficulty experiment currently\n",
    "  output = {}\n",
    "  for user in get_users_with_choose_difficulty():\n",
    "    abtest_settings = get_abtest_settings(user)\n",
    "    if abtest_name not in abtest_settings:\n",
    "      continue\n",
    "    abtest_option = abtest_settings[abtest_name]\n",
    "    if abtest_option not in output:\n",
    "      output[abtest_option] = []\n",
    "    output[abtest_option].append(user)\n",
    "  return output"
   ]
  },
  {
   "cell_type": "code",
   "execution_count": 35,
   "metadata": {},
   "outputs": [],
   "source": [
    "difficulty_interface_to_users = get_abtest_condition_to_user_list('choose_difficulty_interface')"
   ]
  },
  {
   "cell_type": "code",
   "execution_count": 36,
   "metadata": {},
   "outputs": [
    {
     "name": "stdout",
     "output_type": "stream",
     "text": [
      "{'this_intervention_toast': ['e0ea34c81d4b50cddc7bd752', 'f6e9666fa6fd68a8ff0e2781', 'cd23b0b59ec703eaf9cfcce8', 'e3b19f3c864f8dd7af248d02', 'c51926d259247f8b31c0d01b', 'a94ee2df5080dead6c550d8e', 'edaf0e9904e39285a2ae74fd', 'e05c2c37fc88d54684c7f2fb', '039a5ab92063f09a59340e92', 'cf0d62c2cd12a5900eeaefcc', '7b9202fc61594c45a1e96f82', 'ef64cb81ca663176daa85dec', '9e2210bf3fb69f3b241a3cbc', '9fde12966c687b2051a06786', '6ffae4b0e0a58695ae4ee174', '962979c1f36542194cbe64e8', 'cf2b84b289d13a0fe56a7f71', '9ba55c3765b5fcfdb1753a1b', '39987e39f3e03b1dfc68bd5c', '6ddc12a3c376c61b9b5cd40f', 'e507909d613ba0280509942d', 'c1603b3c13098a82375f9963', 'ad5638c428073e3f8464c860', '429bd37364e6e80caec5edac', 'cddefc078d3a25a18798e6b1', '0cd2af2a1e4819f5f4f4189f', '243ea8620fd06631645f326a', 'cd35f84b81596b0930f8d9b5', '26553fe0e77b38a210ba874f', '034dea3b2abb7b2c4644b0d3', 'd56263f0671bfe181ae03695', '5f5801d2a0074e8d05ab016b', '7be4f9cc8a0397f79583ac41', '10faebf95ab8ab9ba2f9582f', 'f62c0929108931d73b79cb86', '0ec135009c3ceb2ce7e4a86b', 'be07d7d1ed9bd562c2885cde', 'd95e91f532e51299e1c826f8', 'b01cb9c9f09623c0688ce090', 'd759c0f3f353b9c01a67b6d2', '6bbc8f6c01b33427ff8f20e9', 'ca4db5b397defb000e1a6bc8', 'c69c2c3338abb57f9c41759e', 'ae2daaf6ea8742b94d3961ce', '22eb55c78d5201e911c557b9', 'eeb8ea3e4b4a8b0b7af5fbff', '72f871e50682e95ee10f2071', 'deb2d1581cce279f66b42f2f', 'a73fc6100fc7b36fccda09c1', '0d76cf226739fd47504f3419', '057e5488a29cc41f6cd9c1f1', '8740753bc56765de36b8f3c5', 'd1f959c7c153b7ae35edea72', '07f7f0e2d150369c2c9e3572', '4d99e8cdfa7fe3d533b9745f', '78408af649dd586576edab66', '53c0fea8a3fe5fba4ebda953', 'bf915c3007979242bde4c39c', '56306df6e1b7069210a9a9aa', '6751d267a976e214e678b276', '350240ac1aed84fc034ef0d9', '602f037f733be179de683312', 'df32b5f8171148ac0e003926', '671ba7c15989dcb3b689de87', '56ea29a247d3552f15e9af0c', 'dcd0e131d5a7ba5dd2ff231a', '0bca07bdb36cd6fc1857875b', '8d8e7f54d9213bf2d0c6bd3b', '62a234f5087e93e7e250a506', '7051d260ac5ed2f4a9d6c10c', '8fe1f5e8526cce0440879359', '578b926277472fb2cd8d1130', 'b146b8c9639f1dd8cf5cecb5', '12ceeebc951892700938281f', '17561df6ce55314ad210d622', '7e9e145f21ae6bb5cbcd9edb', '8142ad13f231ee065fef7751', '707250b303e876ee5cc6a61c', 'a9b09d252c3424dbbae89aa6', '8cec958ad0ebd685a9e10ad1', 'cffb95c7f79f1a0793fe546f', 'd55ad9882c951036e26b2562', '118db85063bf29f7ab00f8a8', '399f23dc477288c1ae772cbe', '44046bbdac9b2e19024ab1d4', '2304a0750a5078c85d317eb2', 'aec188fd2b26054cf2911260', '4f36b7bf685c9a7eb1435f3e', 'd668ae1664d2f385646b47da', '549da80e06db6b008b3f79ca', '61aa681b8c6a7e4e048813e1', '438f2f8996f4b4a9eca7e5ca', 'cc5ff7d64a4c528e47691294', '845e419dee8202c520589fb4', '7fb92bb6d9efb9560839e921', '89e8ba81fa65c624d3ab4bac', '2f0c56ad16788d4b35f5c1a0', '7bb607a7d50e4385a27575ec', '2bf097d3337d753930e8e7ae', '3cc933bb65a44fe8bb25a0be', 'e35fd44a65c64927d2197d1e', '62c0ca891292db3b39193b7e', '5735aacca430afec1ee7b98d', '5ea35cc4b48dca87e7140e5d', '228e78f7acd4e7d8f03f3ca5', '33b267ce6ba1eea09883a9d9', 'ad6ac98cdd38b986d7a20197', 'dca5b0749242846d22c42738', 'dd05699567e1de0e154a3e66', '6bc520dd237f8533c0fe1761', '043532bd1f8ab94aee599287', '84c35030e500b7c26c099acb', 'f0f4ca1ed6a175ddb8ff0b6c', '353f22ebb8ca58d50c4ff6c0', 'fe9e6cbcf603d905d24e67a4', '4d2d9bf2865eb9218512c7af', '729f1784d10cc5bf3c7f9f72', 'eddff39417479e7ab36580c1', '6a89392321b4cc22897c501a', '3d640c3e8dd41a9de29bb6e6', '55fad49647c2e94d9dafe0a1', '089bae43e5b57391faf16c21', '9018466f8ff19644a8f0f07e', '69bd8ccbeed4b4a0e2694f92', '5a52d5095bee8b1bf9cc4587', 'bab3deb854ff260b056f98e8', '65d63f88976a750c1a281c29', 'b34f53474d5e01068bfe475b', 'b7e03e9fd9642583b0942688', '680fa57492ec14ee7cf2b625', 'ffd02244bc2124d362a88918', '01a90f3b3e469b6b8674d365', '312e85bec3146b4f12701d35', '8cdc00dae8e09e5618bf0e6a', '6289665fbced043b0b7149d5', '191c2a6df4cb1537499af61e', '6612fc57f78c61407f56023f', '34681c7ff5b1fd15de37d9ee', 'becd2c45ab0d292299ea389c', '1b8271ad47904753d9d1e4b3', '685eda0aace01fb1b837961b', 'fe8617699867551114fc5c63', 'cb8cb14f9788b83740c86493', '2c517d0c479d6c2ae26219a8', 'f0cc84fcaa742781ac5820f0', '2e2f56108dfcf590742d91cd', 'b5c7e2ab8aa309e0ba44442d', '9bb0ee2aa64e7baec92e82f7', '629f24f944bdf98f86b8d773', 'fde1797b33f767bfb4ac7952', '5ff9048eab137827fa446740', 'f92ad8a7c49dc93349aebc69', '982078b73e120a8ec0283118', '3e449d9e7143f94ed66eebe1', '726c92ca624b2fd99a8acdfa', '0d2483d57c8f634692dbe9c3', 'ddb10214701439713d69df2b', 'ff66543aecde06d495f8cf74', '23ebdbe291c15ce457280ea0', '68a49f75f9422acb39c6c6ab', '9b4564be30d09eb0ccfde0fd', '84cec107f45cb7851b56ebd8', '0e5e859214859b5e6383a1cf', '97a4d76bdc56abd8ebfbd2b5', '2d1ddf6cf9fc49a17cafc303', 'd347801411a564e10bba3b59', '503da81376a52d6715015404', 'd91824320387a1de3033de9c', 'b3dd048a4edefa21d3e47d34', 'ac5f5234cef7aa0c3d2cfb4a', 'eccab25415bb7312b6f9c385', 'ae4f94a892cef7c9b97d8a47', '4468b3968d4b7848779867fa', 'ff5114d4b2dfbc7dcbf110d7', '397ddfcac5c023ad342051cd', '5b29dd6f03803532b23cb8ac', '8cc6e3860b275bfa65e84f0b', 'e62892716dac748941643ade', '03a7f278322c9dd0d96e736e', 'ce67a16aa868a09bf7182c1b', 'd1419c903d85b18576bca031', 'b38959757947c0bc07e42355', '6fc9148d86a29f85614ff93c', '8d6d3a6e2fe413537ba56204', '5a08f6d119cbe8e322b8923b', 'd2b2d32b789db5a85693a75d', '823269c3b3bc4df6ec4227b8', 'f9f1abfe4fd438357c3ba82f', 'e4e0aa487f0d23fdb16c75b7', '37d2643e8e438ec61f074c0e', 'd099b57c5714877c270bd357', '82c603bcc71cf8a031117708', '5be9268041e8fdc090cb4071', '08e360408011dde125caa8ef', '9e5e8be38d11c910a14b9e39', 'c973242e460233ebaeba67d0', 'e67c66aeb775b5f056f63ee5', '261c7f169b5b612cb4ff7e18', '6497cb2037f42f62fd57c72b', 'f739dbffa77748e6696fab3c', '69d68185b8517c34829b4e2d', '479aaa7b11c1ed96b6670836', '04329c55d4c06cb72ddac25d', '3da9049735cce0050053e1b2', '147a850c79b0b0eca17777f1', '9d4e5a561d4d83486482ca62', '795eca0ec870200df9b76006', '75ed9c43b93535084c30890b', '3b446aa8e4f4e2ef19ea920a', '7874c404f12aa51689c97f2b', 'bc008c675cc7959e1a4a770f', '30faadbb5055018063b5d3ff', 'd1dac241aec43df7927ea35f', '53b63b48fa6c28602ebac869', 'ea297bff5e529601d9f38202', 'd1531d00eac7a59cab01ff19', '95d2c0fc566c199929b64197', '29e20a584013553c2d1c73fe', '90c9d078e9dee24eeae7c419', '929780c711757b0bd79f7a09', 'd338973c7b50675807c8fdcf', '4034070305729d62d091ea5b', '960167138d6ca7497d205064', '73644dcebbc1f700fa2513a0', '8a3de6e864efb11651702891', '38dcdbd867dae61d0d831c56', 'c974f5f00a7c37ab3e6c17ed', '55463ea8750e325b3499d700', 'ad10afb2d119741c334e6492', 'b95f6e7786df316996dc6fc5', '85bedb460b703182383c122b', 'f025fe1ade3c840dbdea7a81', '165b8384832c48d379ba5a3b', 'dcc8874ee3e8571ebe996480', 'b9d90530008d1135d629a0db', '6ca0e243ae3b291112152ace', '81f0810f91f553b1b75340e4', '62ff7853e79083efcfd5ae55', 'b150c55c310a1f4c936d293d', '5821905b20584504fa38495e', '2773a31de09da7829f104bcd', 'c95f212209f30821a39a19f3', '94eceed38afea7d2f7692e85', '7d336d353b0e5b89267acd69', '4f65c0dca095bd7f2b92949e', 'f02ed2d486fb9eb8b619d53f', 'a0d49c380615e3b7e396c5d7', '45167942f8ad25596011662d', '469b7159dfbe2409100c25ef', '793b55cad9599bc99bf305eb', '0f25c4d3bcec92b516fc0aba', '3c50e8791fe8d5a8c107b7ce', '23051524bbccd90c036bf21e', '5d6596bcfbbc678d9d79c41f', '919f0af2e5818fed3d7f46dd', 'ae352f5631495547c708cf43', '1fd07439f64c4ec201dc9514', '5fc1b2e389b56b68d6df7133', '91895d06176b96f6e1d39311', '75d602d54f5484255b9fbb38', '5723acc5ec7c1a390529a54d', '55c173f7f67dd52f5796f9d8', 'b5aa3fafe014a5612ff193fb', '4112e471c30124b7597c4738', 'fb19ffdffb224867378c67b4', 'a82e71f10487e1f8f80c4552', '4c90b0569f1caad0604bcd64', '8e83771ba2b52a591ef47f18', 'bed05c328fcb0e7226787765', '526c898730e150779462250c', '74be4661bdf81b46dbd4f065', '77802a67600d33ca17032f33', 'debb05784429dedfa46638a4', '3356d1a457021695a8f59f13', '995757f4d2ecdc8424c2d942', '99da6e33aa546cf28d3fe7d9', '9916eea448bdb7c90b1a68ca', 'ab58b3b222f10ce91bf1573e', '32e7ebb90fb9eebed0ac660b', 'c6160aaab34054c6e9595e03', '7a4467a11e67de10dd7d492c', 'e9daae220d25d4bba97600fd', 'a2b2bbb0a73bbcbec0faaa41', 'ab17285b77de346cee5fc07d', 'e41affc6f9ee9b70eba898af', '4903c58dcc775c022331845d', '491153d305f443f23fe5391f', 'ce7faa96c02661693ad173e3', '03864dbf158c2920039ca914', 'df138730f0c51442b013b5b8', '55dfb1c6bbe79d67051eeb69', '797a33a4cdf6abe837cf37ab', '510931e87606362c97c8978f', 'e66ce3e564d28b4660c9dbf7', '9719ddd08526e3dc21cd90b9', '65156922e3b3a9984e65ee2e', 'c07a761eddbf579e3abf0539', 'bb20f7f5242463d295117b4d', 'ff4f7e45c00745a44d628ec3', '5e2d103a06fbebf48933ecf1', '49af23d33eb39f731e0e8060', 'feed13f2b9be6cdd205660c7', 'a70a3a87791d7c19a729d99e', '2d00e2370174e568635034f7', '7a796b893970c5dd3cbd3e2c', '6b2139632c138160b070d696', '5d32d055df0987d27e61a39a', 'c87e1a0c24e28e56446478d1', 'ec4e07e57aad4cb4750f9bdb', 'ba60a1c8f16834b027bbb6e2', '1ec8aa76ed06107fd384caed', '550f2efb4ea0e6e82bfbfc06', 'c756a9048d5a29e0017e397f', '6f60a1217e9bba1d9a9ebaa2', '6167cf28cd806e7216bb7f14', '95077b4663b00b677e43af97', 'bc540592e7fe56970c5b9414', 'f4a1ecf0b99c9acc64f3f684', '70bfee11685a11fda589cf5b', '9f63607d52338c379e9d74d2', 'd7ab990137c68a81beefb718', '2d7bdb5263221124d6123f07', 'f1d7a3ef831e1e729d87e562', '54e37440c4073772e3cd8963', '80580407efc92649d82b650e', 'f9f8f54cca3232723480138d', '2518c24bd3c0f91d51e671df', 'bc03665626f4e0709ea7e8a3', 'c1214c23d54065b55470e2c4', 'fa152a6c470e84dd9d2200c0', 'f65ad2af3f99fd25d528a687', 'c553aff8409b1a1f4e966475', '4563890c45d69af9521babeb', '80159e84e3fadc088450b0a7', '22e5d8537814c5db16e1f7d3', '87d5b07b49288cfedf5392c9', '0b47b1be3a4334f258063927', '7caa029244d10294629890f5', '185a4e6ea2ba3d9b69040611', 'c42dda4eba6d9a24c42795c1', '99d5afd2587cade3af5f7cda', '17e22cec95925e8c0a563c71', '4a55d06eba87225929f63abb', '8731903b076a4c2446a629b9', '2c020c1924a12b7ac28d4f86', '23c60610bc9978d37a5a52cf', 'aa1624b0ba7c3d4356fc8819', '376c20bd1bdd477072940b29', 'cc042b48224bd0d546ff55cc', '8a85a5555ab38059d2a5d858', '1d92397ae9bea829602f7198', 'eb50ceaef748ab8e60580f92', '5cf7ca161c3003b18575e6ff', 'bd9b64337a7cc82318b08d52', '10b8f1368100d744fefb697d', '077129cd9d735beedee1cbb4', 'acf52bee4c8abf4dedf031cd', '15f429704d223982ebc7ca24', '29eef7f0194319bf35e7cd6f', '47f5bfd75f3e7ef18cf66cf6', 'f642307f2f12f88278e0a74d', '760d6d27479753db0b5a6a98', 'b1e219ee18512be2b52a1d10', 'e8951b3683e5e970b6ddc8dd', 'b69d2b6e07e8a01aa3c4ca47', 'fd64784db227c27e14b9c8f1', '5e3687f12ffe762941a6ac7f', '0d41bde6d6328242aa909861', 'a29878663d906c7aafb521d9', '603bc2717e76e6b1fe709ef2', 'ec6b988777a7eea24e2b8410', '17dd5507b832e69c4a1611ea', '230bb3e75793b32df14710b4', '638006c06fbcc3672795247f', '6a64addc6677f169191dfcef', 'bf96ad64960861e5a4d6c569', '2e64ae58615cc885e031d352', '78bbbf277485a0e924a734ca', 'b9ef3c48e2ab3ff67d26566d', 'ac55abe7cafae8c902d0f7e8', '1367fd5854746fbbe4fa0959', '9dab1923f50fc32bb000710d', '3d4bb93fbeadee4a2cc228d9', 'c292e2e4bb00a5e02cdc854b', '6752e4b333a78cc22b905ea4', '0a5a3f46a615e3eb4898437a', '706b24085a377ff5dcbcea3b', '460c3da49bf65c5aad6608a7', '8919f5a7750cc7a3a7d23995', 'ad2caeb37faf903dbde9a774', '3be0a9de5b618195c21618aa', '9f123af00fe7d8acd0ca6c18', '75ee5ebd06e6be858814d7b5', '7b8b9c3a3d1aaef70ff54122', 'f4230254eae26656f3b6b6d9', '7c3e71fa77a8c2507cf935aa', '53ad84c711b1d285c9e8fc95', '8cc0112165c15bb7d67fd9f0', '170f0fb0aa6a854b1efe89d5', '06045bdb7fdc590986bed4d1', '0c2416b27f5268237f99ef0d', '3c44c5e45954fc5b9d49888f', 'f3ebce21e441e5354a44cae6', '6214dd4db658ab2157a175d6', 'ead11c1ad9b159b4f41e7f27', '5619fc9a0787b27332499520', '11ef69bedca87a3959d7650c', '8d618b1aa47a24688e77d4b0', '6ad1f121a66163acfc82e65b', '3173774ebf7a5dbb40ccfcfd', '53a7a26bd76e25b1aacf7dfc', '2b927395103008b7cfc918cf', 'a0a8d9223037e741b16bff96', '3f8d50eb6ee4905210e49719', '046c62d4db462ad4e699683b', '49c84ab4c0c76b72e511f0af', 'ce39d0f9dc2d4a7dab62d2c2', '67e15f0c7d7d36ff0955cfd7', '060b544d6e420c04e4d0e5cb', 'd5f13f439a61a2ea4c2da53f', 'a29207ac97c2d8948e7475b8', 'e9073e5534fa33d99221fd87', '6222e1f536a077b4ba3e0e3a', '4b71ae5a8df6a93e134a727b', '407d594e401bcb7c97ea5933', 'efdac606466a000b66240ab4', '68cf508093482b636339ecb3', '45cbe2535dc0d49e8dfefd85', '2cb79f08c241bc07d6b60f25', 'db720e9f1b4a9d5f1c095759', '9f4ab612b2b78dbe9c6f8314', '34f88479588760b0f7602963', 'a80090ce7639f13a8cf1850f', 'd1f9414b5472678a6c48f2a2', '2f470b7720f9088bfb180677', '7fcd032f6f9f3ea6278fe7cc', '38e0272cde4d060a9c84558f', '46023821f3049a8e3cb99a12', 'a90c8d1d8261b89a8120c380', '476560f347630b9767305ce4', '0ea34aa8bda116179b6069b9', 'bd5a83734c3c6b21da15e944', 'de4b5e1af816fdde9e7b3f75', '0911f02e9029fe5968464af3', 'bb5e34bad8c67161a3073b8a', '42d423a7795c4db18f83a31d', 'd56e20dd8eb07e6658e32b98', '4ca21b6f78c81620352e2066', 'bd4de1bf21519942e2c235e8', 'e2df46cc69e82fc50cc7bb98', '087dfda9e4b24dc548a8bd84', '053c751b36829143d2e4cf6d', '6f53cbef196d14989950c75e', 'e748eade7d7199d3458199f2', '77178110beccb44ed888ecdd', '7f52c8731b3ccc100adf56f2', 'aa99d940c34f7a7f63109910', 'f7e68a95224cf021acc029ef', '88c51045776e621b6a08542e', '7256721aeed534c20d50e7a9', '0e543d5eb54137d5b3bed87a', 'e8a72c62421d1b1cacc2b6f1', '0f2da3434e67cf15b0f2d1f8', 'e75beb5da9a5c7bc35a7d9d8', 'ff8ee5e4f9c07e70b0877544', 'af8df93a019bea99bdddd2af', '0ddb5cfd930b7872282072b5', 'cfdddf1e79d4752496d0ce4f', '8e135ee4e25cb0e1bda794db', '97321319bdcc3341c04e5e3a', '5b2bd9f5de389df5040f06c0', 'dc545c555ad5b031324d336a', '0f803a4a2074894a544e3aa4', 'd9b3825ffb122366704d19ae', 'd5298604c749f1f448e82a75', 'cceb3953e4ff2a92f4465c0d', 'cdb894a79956e7016ed8eca4', 'e7ebf944b2771f27cc5401e1', 'bc47858afe4bb9b24f5ea5f6', '4df8e676c58695ed9e4ce21e', 'dfe9dbe3ba93f97dfa9d4ad1', '6b746c00d81510987b1ec28a', 'ba0a177c1bfb21d24d95495d', 'e7a6aae17a6cbcbde1cd6969', '4701b007958f2e62ec7af088', 'a1f49e2e0a2c4c9c9fde7ed9', 'e316f28e589b9d8d09b6e35e', '53ad57236e3d4198aa099a1e', '981d8b5c31b7288a34cf685c', '71a3258e3eb43624b2098fd7', 'b8dd7c82c04983176e03d7c1', '04557bbc14f5c14a7b918006', '4db93fffc63fb6390a835fca', '23c4871b92cbe501ff73ec2b', '7632a80f72ed42c6e4bc7d27', '2fb59a140c6fb4d84ff4aee8', '86ead3fe1d436d0e7880ae83', '8a6066fa46cba4d8499eea6e', 'df1c5de31e19a356c6e47c31', '6754560c669c137bc743281d', '8b0781fd9a2c094f0d943896', '125aa2180250c1e04d6bf842', '427da57343b01df08264bc4e', '68a01aa4d44a392d00e28dd1', 'ebd85272d9b79bb4e008d390', 'a4ab9a93015d82bc70d46ea5', '6ef76e8078fc98d26ad4d899', '25fe84b631e9286f7afe9b3f', '7d0c600720cadbf5a163bee4', '601a7bed714e986e0bfd21c5', 'aad86945580593921e0bcb20', '4eb504f1869f8b35a38d4d41', '852ca94c3715402a6163f0af', '53656a8f902f8001fb9fbe6d', '863726bb52e1cb7d323616ad', '88497b1b8ff265453917028f', 'fbbf15bf9c3107d77b99dfae', '3da3ed627ce9d7a13e5bc7e5', '5c9b7c9a14c30af3e944a880', '488b37169af2425d827d7000', 'c1378d1fbd5002e474e56722', '6085d98b5e6480a066232263', '99a79ee2a6de6c8404f66a79', '73eb2d5dafec125ad6925ff2', '55424913303496ad74b7d827', '5fa5ddf1f6bacbe3b78a189b', 'f4a4664575f145300bf7c2c5', '7f49589974fc128d4ae44824', '4296ed751a538b91242fc74c', '55f3b2bbfe27154c2cb7b16a', 'e8ce667cbd9bd8a476ed5d74', '79a434bf4bb2d7fda826fefc', '9373b39098e49f9976cc76f5', '41cc7081353f7dd7ec84ae6f', '5272c9066e2f36b539fac0aa', '681e37626d76d6fb0aec3353', '6b62a440910c0d7c096561bb', 'f823435a85d3ce0c8632bced', '2252907e1929a98dfa677f6e', '3286404f44c8ea1da7de8484'], 'this_intervention': ['6e055258e3625ab1db57f0fa', 'cc43e1c331c9d74bf7b00fc6', '06b54759c28de7967024cedf', '0812df1382381cee3edab4b6', 'de6a908835401dcaf037cc95', '9ee9b7534c9bcafec6a13773', '329cbe941cea398f04cd560f', 'f05959c1a2ccd135e93b531e', '7d33ed1787c5d8b4f5bb9b11', '0951f6da6eff18c10db17810', 'b1cd523a3e8b9c65ed79dd9c', '6326707eff8b6e94a81fcc28', '028033fdfa87801f5ab9b713', '9c5f2b25a366062490398273', '4893b81edd7f0e2b102b0d1a', '9add59262ea1f3f7619decda', '97c51558e4074650392bf084', '1bfb8dc0cc5a41097c166a60', '4f9dfd154111179c642c8cf9', '83a0c03f7605c80cf2c395fa', '7bd50164fe03fd6254784ed3', '007c24675bd2b9078cc3cce5', '8fdc79a87aa36a0cfaa325e9', '025cf2acf9559abfe3e4fb26', 'ba447ba4a347d8e664105b68', '77d86a6eb6ec436369b2ebd6', 'e1405bdfc015a3c65de7f5f5', 'c68a708fd971bde157484962', '87ceaaabfec2abc0e9d0f65b', '1bdfaf739c98b2ab824c9f33', '707228497e8dba61b21c3119', 'ce082a1c93117c41b00445b6', 'e81a33655104697de42c9ded', '77aea8e12c3471ecf6f34c1f', '1605c7817668b405b3aef298', 'bd5ff5376f6b5e3790139217', 'a3535a341c80f1da60609e79', 'd2686034f10a0e3b2fe19f69', 'b472dbbb0f647e8b76d0b1c2', '821ec108d7aa60fdb4efcadc', '6d0dec097081a66ac3a3ddd9', '98497f3134bdb0e54b0356f6', 'f851fca88b2db718c8ec151a', 'e77656cf1c28cc3473dbadb4', '155dfd6fcbea2c632f7380c1', 'dbd17107575badc649e0cc48', '70337a657f2ec83808467bd3', '1112d44d45ad4b61ed93002e', '2b584c2f8e1a6abdf3d8edb5', '157ba744aa307d7f845a1853', '435dfd0c81fcdf879024d2c5', '08488fa14b33e869b4f9f142', 'e07c1b5906c246400e7c64df', '0c8ae705608041c1244e823a', '8401753cddc1d7f8d40cd0c0', 'a62a51af654282ed880797a2', '7990666ce2143a04ed94fd67', '047f627afa80008ccb0b2020', 'e48b30a4208b4d242eb982b8', 'b46e4fa069cc1d5e0ee2eb1e', '83d1b05e8acb0fb0984e8db7', '8eec8af6498d29e87323fd9e', 'f7bc103e54d34c39fe4f34bd', 'ac5db577f6903de2b1742f1a', '272bdfd42db21e042963fa11', '6f886b8df388d9d079cfa16b', '84fee669212988443231d39c', '9579d2bf5ad99f02dad5a9bf', 'cdd70c2b9066b2a94170c3d3', '89af37619a3ea3122e5bcd72', '62485258d69bc769643addf0', '2387ee173747161861938bbc', '80be56cc32b08e9e67ce8df5', '244955f7ea721a410642695a', '2bf317e4a10f93e63634ed98', '23cf768829b8d4b1d31e308e', '2064b7528590600a33c7cb80', 'eade7c04d9cce2319eb6950f', '5abbc8374811647848518858', '0fd847b0bca31208dd4a958a', '6722dbc2de4204e406850cbc', '44f6215dab7df6d70f04cda8', 'e102f4920f62aa9d479d3dff', 'b72ce5dfa42f8a544bf1c3f9', 'e1137d4284fbc209c8354d89', 'd4976bd7460ae8c073460d2c', '357ade2970311d078fcf7471', 'aca5d6344822b58a97fa8c7c', '342e34d0421defa888eff14f', '261d52dd2473c69da4465caa', '13620d0620ecb66cd27a902c', '58f780055f00449f48ccdc0d', '89c80b4f3864cec7f8355ed2', '7f92536eb1b833745339e44c', '01f3a63ca77ee3fddf40685e', '40c67958bbad194eb415336b', '888a8cbb6d9b19fc722fc577', 'e610d61904b860c24cca960e', '7bc140051427e5b975117bf7', 'bf6add1f7bb7e7167d9e6cb0', '5b5666ff1a0764f5a6b8be42', '79c117c58c03eeba01e965cf', 'f12773e0f35753df9f31cd16', '912b4e3f6fadba01a8983bb2', '249dbc7bd1ef5772014ad9d9', '33ec6d1263d859ada0eecdf0', '02402b1864641d8b29af2377', 'b0f305eb20fd267b168c3795', '1e80c6d1ff22683dfddee876', '5afba954c8b8118df9a336db', 'e4c7005fb56fa8ad453d0f6b', 'd9c0d33e34bb07fb5c60c6fe', '70272ecba88cc0321e1696b9', 'd0f8f37fb15a8e20e7655305', 'a937dabd26ee72b89449d42b', '9d9a0d84331d7d47b2fc2de6', '83f509ac9fbc374b4df48625', 'ddbaf5ccd132e8cd07112e62', '701566e334743d194ab62fb4', 'f65ff892f8fdde4e022c5d08', '9666e97abd6424c883108719', 'b4bdfcb549fa4c06d4cc25a1', '9a6a68bcb84a7fa68172b522', 'c29d2c20ca06646df11e7210', 'd582a9e0f3b68e38af7c391d', '10fa4a2d6a44bb7bf158b23f', '9e83d981453de9d2d2facc10', '88837ea3e091675774b09681', '6ab47e67a32f54762700652c', '808ae7e42516e23563ad3db0', '5576489d00e3a1419612e853', '74bc99182b3debd22f448444', 'e71af4ae741053636e280426', '534258958b83bb606c03bc64', 'd5f4b0b073dff2f1cd14b9e5', '57de3e1d433bbd3e2705c255', '2d9b95f03757f0f6a787b194', '65d3a9df2e990ffb5ac3a058', '9ebe2d5b89a1b9bbf3e44042', 'ca228b39972d959d30983b42', 'f03b3a48cbcb6b86a9bd4938', 'e7445fe18049bb60d9e2b1a7', '31433433beea7de3ddb01e93', '5b79969a6d183ef27a269729', '5a0089250c67d4ad2741eff9', '4b5073768b6e2e0c49580144', 'c58f86560c2d952e71c734a6', '2d451d8ce7f2ae51a1deca28', 'c8be0837b675e5cd351b22dd', 'b9ac76c0c1daf1d186edb213', '9992435f668c899f1b67bea2', '9d9980c2b252fe2a82213041', 'f8b8ca8526f4fb11ab41ee2c', '16fa3c65a3c8a261aca0238e', '9043ea3d261032f351243b97', 'c6cd0c93534949cfbc40d29a', '31b01917f9f663d51a403a8a', '02c79492594bea533c4809a7', '2c3eb21c043219394029af62', 'b4eb8d08b9db2a16d95d3851', 'd7aa390fcbdd0154bdcce726', '95c93dff54590ac1cb1f0d2b', 'fa5b0763220518309672923c', 'b0972e6bcb3fa2d914d7411d', '41ef1d27796733bf56312858', '9d7e4742bbaa38ee0f72c4ab', '7dfdcbe7e4d84cc50086eae1', '8329a6b3c48b6f72d583d28e', 'ab1df5ff13eb7d8c226924ca', 'bed74a6c114fddc4e30b971e', '589b11acaba20c05c950e169', '0067d27181d4b7260828b4f5', 'f481456a3dad303b4172ebfc', '62bb5fe6ca192438a18bdeca', '8f86413ff31639cc499a9c18', '1f15aa810bcf9ba42fed6e8b', '888396ee719332337f49e8f9', 'a5eff1b329c748cd98ba1938', 'a0e2efc66049a79dec1a4494', '81adedd6fca0879e3417b5c6', '86b99d2433cb7999a0a75f59', 'edcf8cecfef81b105b9baf90', '5c2338af38077b32d9108918', '7db1b2a595eaf3194730c4ef', 'a1c531c5d50d6859cc9b7cba', 'c3b5215f82663c1921e03924', '33d3657b4df961414d6f6579', '0a2ccff3c18ac87f50aeac2e', '6df4eb13541b9bab5893827c', '3509cb08a5d1dfe5aa151ef1', '1cb42198f7dbe54ba2b38f87', '03d7e8890a5586100d02b455', '97bfeb0d88425c52d8a3027e', '9bef0ba41c4bf8112447751f', '88c17526937e4d71db03be64', '224d58f53617988f0344f123', '51c07901504713d9c98e68df', 'cb1842381e2f761ffcd8487d', '732afe393d04dbceadced597', '813ec5afa1d1e09d4f020363', '0bcb8a2707ddda579049411a', '2246a9a5271f39c5ea423673', 'f9b725441992ed816e95f604', '81d4c9f009041d36390ab8c2', 'a5a049cd2bab39f3510e4ba0', 'fd59a976555665e4803b6697', '42dabb6f76c14499d5ee6912', '05b366cdd164a0c75444211a', '7ffed03a0d4068755649fe0e', '446f670f708701f29dce9d13', '29a294d5022abbed46d7f769', '1786e8a0563835887cdb2c5f', '983a486781e3e918068e4db2', 'baf4b9669d93a18ac2027501', '5ac0f6d9fd6e5bf200e3fbe3', '245d29343e544a271a6cadbe', 'd7cba1b962a93a469c0a2dce', '479fef99bde018542c146cb2', '52846205d51666aee56fe6b4', '61d874ca0c2a34c6f566e296', 'c6716979e3aa463dcaa08de9', '2b2a12be4b8bfbd8bfe3a7b5', '390275163862e3184041b7d6', '0ceba574984e5e8d5f1fe887', 'b79e6d45f59e9d6f0ee826e6', '00e42779517d6567934a0c12', '853e27562825ec6ce4d70f9e', '4dcfe9277d61b3cb739b352e', 'dc5a5ace834049dd7d5462fc', 'ae5b13d494c1a62ed4afdb5a', '32b7d0faf9f9d81e19b69801', 'dec8dca1cdde8c630ddc9586', '8e0b558819abe7b68376fb49', 'a421530a0b41f36964e06e07', '520c3de88286dce20409c548', 'fdcc56aaaf99dd533ccba6f4', 'cdaf3a57cf44e2c4841dfbe7', '5a9064f149b96d7682dd2c05', '9bb1275c2109db3dbda923b6', '08bf1f6049d676e37c53c1c6', '5ee8a58dc90aee0a927253da', '04cb406a86f41d123d033df5', '18fd76ce7e1453aef7b7db6a', '9bc442506dce1174d09df63d', '6fc1e674c501abff15478951', '31e596293f1b747f8d70bca6', '4be101903d60060a5246ff8d', 'df39dc27b7b3d14e185bf971', '50962c2bcc457556a4f772a6', '4e362b95c6df1a3cecaa840d', '3061dadf37f968be128be643', '614717e256b0641e6e164cee', 'dcaed829e2e5c27ce03ce989', '6cc338474e7bad2bdfc60220', 'b867c0732ae73e65e5c5d04c', 'c4af4af30594f11804ed07ce', '167d49d8ac3c5084c8578cd8', 'ad2067006f5f8789af765a93', '1a74c23b526ed866f0441444', 'c8fd6298fac362660b73a575', 'f9f56ae22f8c8f8b3be5c721', 'c8577e093d7fe810875fe6d8', '764dbd0f45344ce8acc0b5b7', '5ceae2be942ca91f09ab25a7', '41f84ae15ef6ceff96100ed1', '389225459f4f381bceb54a50', 'd4a038a453375df9c65e649d', '7ca23e369cabab564ecc5736', '103772fa497e2ef41ee388d8', '9f3129c405ff69ff1b3a2770', '3bfb7c877495da1f2c842870', 'bd957de7e373d97d41183426', '76104886c10c66e7aab98ebe', '83fdcbc465453b24679f0e9b', 'd78c52763e5c63ec12ef91a7', 'df562ee9326fd9d6a8d0493d', 'b0a3555873eacc7e6a28b104', '8e3e99e74cc64b76a977d6c2', '268fbe11f10c2f893781a86e', '26b80f17f51f0f27c26327d9', '0b512bed9bc3716c1117a521', '2306f17da7e078289ff94437', '51c4b8746e08a513d0f5916f', 'aa707648e359b70b424933e3', 'eb2621c317e7446ad8f3f1f4', 'd4d7fc6a23f0fc1c30a1cdd5', '34f4f1ffb7bdd7765dfac9a0', 'ed906381847fef32519dca51', '71aadc5ff3e384da50b1e7fd', 'b897d8aa5f98412ed2728c09', 'ffffd52cfa5f2e9bf6a10f0a', '946d3f0144f49b641b23d10c', 'fbb257cf531138519bddf084', '15182050961fe5b6b51277ac', '9f2a40a13ba640089c553221', '310f89cf21281b27d434c2c7', '1e36759d62b51ee55127e3ea', '475e889d20140acc374dc8df', '9457cef4b3bde71691a23e27', '0576e33e9656e70e42809000', '974ce09b370f04eb60cca20c', '672ee80648388a96a496c67a', '13fa72924b5f4e242b79ea98', 'e0c2d589a97e54d104aaf20f', 'c360bda9083464a313c3d433', '29c9ecdd69f93e2fd3da2901', 'c9337b5331942cc77a1dcb5d', 'd9663de4d0124faa17426389', '28ae4bcee9e60f01e2ff592a', '4cbcece86b63558a939b1195', '2bc37f68bc25090ca616dad3', 'f675a200db9e395a0d9664c1', 'f2b7b18eee41f36c4378d68f', 'b1176f621b5dbdcdc00e2603', '131b8588bce3f9496dd7a766', '44e1491ea993238234ffb95b', '6c2584797ff3e54db977f190', 'e84ebcbdece5a606a5177097', '6fa1251b3247ad735045d133', '2630dcf65f95d2ede589c5f6', '51635b984ff479a475421d01', 'f12f63a378a8ce4a1f9e856b', 'bff440437a5be8e0c175aaf0', '9da1d823cec91d3780cbceb2', '44ba0161172ec028af754247', 'b104f0690eb75c9b284157a3', 'fce645da940c68947a2865bb', 'db4815bf423993303baf4a31', 'd5bedf70921c6159855d6c56', 'e48b57bc484668fd268fc877', 'e901e68c5a9e04b80a111da7', '5deeac7f63626bfde2338471', '9a78251e828c3d8d2ae63a9f', 'bd106a69ac43a326070997b4', '77b741ea3e0c89d5ea3a7e50', '68a7150509fe7bd1b41cdc58', 'aa243450f621903aef8ef38e', '9fb33ce5003bfe9345f8ff18', '87b94cae027b319b5ede42d4', '4a34efaa691756a18af45817', '05fb859582ca77a3cc336407', 'b2772df727ad33cd34c53847', 'ab7b7b02751979d396c60f3c', '908af43fb9f18489c3ab8fba', 'fed078a8a181b7dce3608616', '0096425d15d512c160337ea2', '46020ed0c4c60faec4e26d34', '31ee2cf7392a6a9bbfdce343', 'e0b72fce18d8319ad6cd8d95', 'fa84c0d7e5f7496020e5fc88', '0b2139cbbed6338a4a70c727', '3691e034ce57ed1f0a9ad149', 'ec951df260c6d955a109109e', 'ad04661710960cda309d95d3', '3fdbece9158860761128ba65', '98d8403af1bb338fdcc9366c', '9a90568cd08ad9157265832d', 'd478578bed937d42fdbd11cb', '05fb99a0bd1af5a3d117b067', '4d03c8f3116cd70167f988f3', 'f3abd3b694ed2816a545c7f2', '1399de3053ec55ad58b578b3', '347e18c4bbd75e8537112a01', 'ec1e902605ea4f604976ec01', 'a156dae63d70d6761a6e6bde', 'a90f18b34d0e56064491312f', 'e3ae90d77f3759507a990d26', '9a195e4c8ee96305a7e5468c', '47540ee13469c284abf72cd2', '6128eea7b9ac03c573a554c8', 'c2638306a7ca5953fe1f5fe9', 'f7dcf1a4155e3f6e26121f66', '9356c73590d289f3d6a4047c', 'b2f85c4568378e9fc3d6106c', 'd372cdbd25b8e69a5d7b272b', '675bcefd263b5e615dccd5b5', 'f5838380084243cc3f47dd09', 'f10cefa3eb836dd4989a9629', '6dee0ec21dacd3987e29ac87', 'c744c0bc5712f11cc8871133', '42b8a17b229ad95c1e9f8158', '540d97d23fcd21f2ccd33f4d', '103cbd2a32af6bccc4ea44f9', 'fe4aa6723dd0a02ab7419129', '58f949727904ff567e776ee0', 'b319510a208d7c170cc32793', '1a64d81c1cacfbd86921e11f', '2c26c0c8cc69f38fd87cd972', '3449ec0f70e0dc8fce3896ef', 'ae329eb0e218c9346460fbd6', 'e4ef2bc5ce5729ca106d8947', '643e0a107b70b227561e791f', '2a47820fda1cd579b9903c60', '819c4e48cc09b78ccc15402d', '4519fefa6da435bdb5f2af96', 'bb71277ef41c1bdefd8d1f9b', '738c961597cfefd4f402e5eb', 'a5b34585600b76da74c31fd8', '156847d77c430978deaee435', 'ece3375d579d801620037228', 'b825dc1b4aa00ef503e59475', '0b07f9890606b27ce6b2e120', '010289c29033d8ef6dc36de7', 'ed35d98ee825c824f323bd5f', '12b3d115fb3c40ee55d7de46', '7177e3d84d4cd2fc2470b2c0', 'f6d27bbceb3096f8a82dbe6e', '0a3b96a5fbe446209318c92e', '4664abc7b0b82f70303db87a', '10037de3067e1b199041a11d', 'f33a49557d0a049cccebf4de', '567356b66b234421e94b665c', '716d0ee5f19c7438fde6e3c6', 'a081133efb15f3ebbf536c1e', 'a1c68e838ecf419ed6b54c34', '6d7fef916f0bcbf6a1ef22c8', '4d6c831b4d22ac6d1a0f316f', '9699b9e05cc9901ff522104c', 'bb9ec91257efb72f504bd699', '1d565839f7fbd346e205517e', '2f726b051dc6161cef7832f6', '859b2e9da1a3225828835417', 'ec3395687de4ea37a132cf22', 'deac68af0cd967026129f70d', 'e87b35721a8cae1521d16895', '33f2c6a4c03544d19b4f08e4', '8d90fd01cee89a077ea84a95', 'bb950b6435c34cf79f2aa623', 'a66750b3636ea7155c01069a', '87d72506faeb8d9c7f2fda7d', 'a15ec1df8563d89e22a86a06', 'c9bfddb9ff1866c43464db53', '4de61ad85f25d309e80b16d3', '164d75cd3331f4875695dc88', '2ad489dd255f93d8bc0778bf', '67394db81616b1bfb8b08ec9', 'f8d9d591c85029914116c06c', 'a6a19651e3d2f91b60766a2d', 'cd3081cf8876e6915585f64f', 'f6f5da37a72cc4f2f2e40e90', '6b4506c2667bb9531faf2612', '8e7d913d2db0628bfc8576b2', '8b5ff72da60494eab03bfcea', '82943fd722bd132734ba7137', 'f42309bc714b8c7bdc9f6bd6', 'd1fb81fc24a959f94a8bf45b', '5e0579cac972d7df2422a389', 'f46cd7c2d0c00a73a132af12', '7fb6a3a089b4a550d3940864', 'e5c3d57b9d1e78cc012a00ae', 'f105ece71904bbd5fe2f8ec3', 'ed0234ef70a2c1137a3d2620', '986971231da7b0c335d218e2', '0df2e3d9851b793b93f2a91a', 'e2e96854958c88b3dc27b828', '45c9c1e74ec0a48167838ca6', '6b91725b5367b06acb6f916f', 'ca47a20eb3fcd212929e49bf', 'eb1d4655aa7d05f12cf95767', '96ae32e97be489c2d1656696', 'af63777e3ee57c0cece80a0d', '11dec48c6b83f8f511e526f5', '5b135b9d3d4091d8e2bff769', 'f935dc0758d8d5118f3a622e', '9cce92b53ad1d97038b85639', '85ecbbecc4bfea94cc074a77', '0ee2d3b649a142613e228583', '4891b60c466c2f20d813325a', 'a8c55a630a58b6127e7175dc', '5a3e259c3618d2ec7369afc8', 'da1c8764247aa509ab5bd791', 'c9bdcc1ca44beee2429358fe', 'e8538c338240969a9d7a0539', 'bbb0a48a45f40792d1b18b35', '29a1e45ed0680aeee5f11cf3', '12597c55ae02decf39f4bfd4', 'eda28b547a15969cc176cfeb', '19bf2a61a7734088b2cff33e', 'edaeadcd5cbd17aaabed2d11', '046736eb5ac602eb8c829500', '5bb5886079544694ee7d94b0', '1e57913cb9e08ceecc08a7ee', 'cae16bef4051006387adcb04', '1d9fbbdf7300e9adddfda643', 'db3c427b93d9e2d5a4fc3e94', '057f64fb468235308848f900', '40cffe24a949ddbf3287ff87', 'b77dd7d331de15fa08220983', '61fda7d2b0d55df09e8d3289', '7d4f65487de3c21569518077', '2704c3780dead460439c022c', '247dafb8d2e53aec167e893c', 'dfa3a6c51090a2e08736a85a', 'bd38766d1f989be889102783', '479b9653d0efaf7cebe5f81f', 'ad1ba5af3620a087e69d9ecd', 'c192a2b155fcfe2d559bf9d1', 'cdfa5d14fcac7cc890855151', 'af511c07e3c5a87b392fdcea', '6db0092943b923b2e8f60737', '45b10074076832353ca944d1', '564dc2c07572ea02b849c877', 'd5d0c2ad446fc555d041a133', 'b707b0dd5b35c11767430b2d', '5ca94c0c12b6f9cb76b99aa3', 'ae794dccb2f48f45e2a6c758', '191d1a22e98cb8ccf1c5cfa9', '07c8f6e68d16603e3c92c1b7', 'fef68340dc5dad8df9b7848a', '1de2d50159c170d0a34a119d', 'dd98142d04e994f715403cfa', 'cc8e9b91eeab58e6f508993f', '4f48aaaadcf24f8a7c40822d', 'f4e108be2e5c53ffe8c7ce29', 'e80abfc3de48f77f3921fdb1', '8e213bfb47bd9cf99d4b977e', 'ae5827226f029741abf4f887', 'd63871b449d307753b2338f0', '957b709675f9178007c408d8', 'cae7dd7c24b6cb5d8c24eb40', 'efa1bce6941a250b34d003e8', '5d285013ada804061e0e3304', '8f8bfd4fc56beefb744e52ba', '73aaaaed1e8d484a9880e146', '05eed97547857a1b7ad085ee', '1cefab480098a8fc6dacb8e3', 'fe2ecd990d1e276c41c1482b', '02ff535e9837bbec76172d55', '0aca7c392243f55cad349558', '9c306c67bbdd620260167ba4', 'd69dc9add6f2afb5d1f27618', '545af930a3420c56ce8c7dbb', '7ff343564ed5859261d6df0a', '6e0654cd762c2e5c160a4431', 'bfefed86903a5ea29debbef4', '74e3232afb81d40268b02496', '2091fa30528436968194d8b5', '76009c0ef20420a0fc1e86c5', 'a7ab02df56c9e7092253f227', 'fea1b65dc1ff2527d5899b7c', 'fe6c3958e4c183d994b4663d', '4f40a18e50d1beef3ec77059', '845659dd56b8c9331670ee0c', 'ec29ce94ade655ba1a56c99b', '1af680dd003843539af951e5', 'd7aa3ce5f83e32f80e4b5b11', 'ffed3f5e51a6cd5dad72fc1d', 'abc1eb99b84024205b221b78', '3a201b104df2016873459dd2', 'b10035b966af5ff385c8c428', '937db5bb54959eb2e657425a', '096c6c6c8863bd2decbc9a5c', '5836368d5a92492b886035ed', 'a63d4eaa8130dc9f7cf02b28', '77fc8bafae1999b7a9655b12', '1445a0ad4e81dd0fb0dd6ab0', '7b9e8dbff3f63f37ab350362', '52478eb3507fdbe26e853d7e', '718e38a1c1e6be92f2e74102', 'f6b8fcf548ab0fbe0e4b8c8e', '7d1c844cdcbfa6485120d835', 'd325f40561488b5f450e88bf', 'e9c50b332f319416676f35f7', '005648ef03b968927261272c', '1d5177ad492e614121e3412a', 'a6cadfafd630f95896ffa2c2', 'be133d78cb1a5fdb93154415', 'b30629296bf7d6d91fef79b7', '04c646dee64771e47efbdafa', '29bb6f10cecca9759ef72917', 'c1a90c70d1ada6d19a048b95', '3231f01add157588b3b2ce12', 'b303d10cac458669d9411dad', '4f95ae3c4fabc021a1326df6', '8ac9265c8be0b4fb22e7040d', '49dfa4b4412fc2d9557d3d4d', '340ef581df674cf39e7a9da8', '0fa4a411a4cd69ecf84190e6', 'c334f346da92736a2f5fadf8', 'eda8f5924accd205679f651a', 'f01c24265ce6d5b8420b28dc', '7b699d92708e2fca9db0047a', '98f60011cb42bf4339163a04', '208e251ff92e5b60f54f9a1b', 'add8480323b5b051d482dbef', '70338b267dd51de7e1d5fe91', '128276a9491d1a987cf3b0b4', '94aa6f2af15338dd95d3ee06', '613d11e0fafb1ec8fc1c92f7', '5e417cafd2ba12a82100b7f4', '8c4823c590a17518afc6fd54', 'a776a1a73a9a242660d60a4a', '7e98919ecaf4311fcba58145', '0e2801fb15120445c5a289f2', 'a80fda77bdaa08aed591e9db', '5f2214a28aace163f9fac52f', '01bbdfaff1cee2bac0e4dc4f', '8df48dcbe7857d70640b368c', '1d77267ff7f9ab1d291526d7', '36723d6184e1201c782ea409', 'c596c386a51b05f8e72136d6', '59654c05785b476dd9bbcf49', '993e9c2979ddfd233eb6e87b', '31b5f3e843617e8e7d6b8ea1', '50daf5dd90fd8dcc11cf2055', 'e55260efa8c2af952869eed8', '81961ca030be6bf624ded76c', '28e451dd30f2023aa95eaf80', '4619d4b5a4df03abf3d5bf96', '5c34da9c723b7b7fb7830731', '2ef1abb2b3469360d0235744', '66232a6b19d1c593c562af1d', '1d1836ac32d9b213bfe4f1c5', 'dfde04789a1b6b56aff9c189', '0368a5bd399d6dbd083abd1a', '0cb0b701253c7fc497dff815', 'd44c8bb38ba594f6d1269d87', '5b486d0b53de3590921d3c10', '8cb7d6caf8799f6b5fa34677', '74eec93241711fa92b71b1a9'], 'time_afford': ['6e7271d2eeace3391528efea', '53f3f933b4ec99eb16a8580c', '8617b058a51286a5ab7b9e1c', '3056a2d989be02294adab708', '78cb68240cb3a717a5d6fa31', 'bc2a2a9aa64af2b5cd1b403a', '8a2d1ec53ad08c204a999032', '09d27c86d835df2af5f0be24', '61376097ff6748baf63e881b', 'b7223983c51cdb868ed9126d', '95ee5208b83ce0800cbf5152', 'e18af57bfabb4e0f6da914b5', '46b27427d80b5394dc9f09dc', 'cf8b97a7bb2605921d756284', '41f24a3dd6bceb8d0a8df5c8', 'b18e869555ee012d017456c5', '82029ae7e0cf58810a19534a', 'd90890b5c7b8c4efcda28c42', 'f4ac0658a07d13fab3de2498', 'dbce3d338b755aaadf7b4264', 'e7ca769377518d66ccdc19c3', '599efe06863304b00287b7ac', '23eab855cbe7f8f50e7986dc', '9c478b2a501d89dc2a68c8b4', 'c4d719399c459d7a65236f29', '09c312bcf7705bbb5e790d7a', '1589a7c5610e7fb5e3788736', '35119e013ddaa441b9c3f28c', '5fa00d34242c8c6fc66f69a7', '4631e0cbc3f222bee5fc4664', 'df0b4e455f45c5ae692175bc', '1122098b21d2edd8438f5303', '54eed4fc0cf5850c7c589b60', '08dcb4c0626fa03a27f70274', '993797f89227b760ece5929c', 'd5214de949e81129f9c2b9ac', 'be763f26a6488ea1d7c2ba66', '862ef50d6f6801e273cae99a', '72abb91d0daec4e47fed9818', '306268a6632fe38bb69d7305', '37f3d69b7a555b76c302df2f', 'b537c7524e9b2ceb844dcca1', '45b434dbae77bfda70880ca2', 'e9e4d1dfabc5cebeba5a6617', '2969f4d98c7e4985917bb8ff', 'f9f10056e0f303f646de2055', 'a4874bbfbc5c54aaa5eaeb3b', '93d25a1c2d1a4be5a0443512', '9d14195bae7976d99c743bde', 'e1db0b6bb8cdc2a6a6879b48', '319647af484aacc0d5fabc7d', 'd1c5ef05d3adcfb188344a24', '490c823ad1e5e87573af0615', '39142cdc607dc59a7bc1b095', '63246bd51af632966de41ff5', 'c26b116cdec7c37ff5dfc612', 'cdc94c551609bd8a8c26b624', '75d2f3897e1f41b7f1a9f584', 'a0d5dad7a6149744236f0d12', '2df5bba93a8061846ef8df22', '42b989a6aa5f4ca2c34f57d9', '428d7d492e9ac130032911ad', 'd8dc3a0d6a7ebf2ec16d067a', '491e5869a2a3df4408399f94', '79df2c00e38d43ff43d06221', 'c6b4af032286d5e88a489cf2', 'f3c3cc381a98828dc9b61084', '0db379d9ba899842a34a008c', 'f70fd960bb5c7d6d33606939', '0d0204e61d7e6b1a8a6791a2', 'a9918d999b83060a554f5337', '5b4f5ef2f0be064062842764', '8555d722020fafda44e2a8dd', '65f1392b09ac2f74f8ebea80', '44dd5db05d3842aaac92eb32', 'e837a3a10e33decff23c9897', '91b7653c0ccc634052f7bf75', '2220cdaf58683bfe53d5f72b', 'ed2c9d31df1e36565e938998', 'f514edb2c12ab9f37b027bc1', '8ca55a8ec6a7e219d91ea4bf', '55250ea1a39bee4e179afacb', '6484007555c64b753670fda8', 'a7ca7d749042a5d001382800', '4c77b649e0ce8234ad70fbd5', 'dc71bb3736851be20341bec6', 'e5967751c4ea5233426a7d24', 'd061294049171e31aa8b88b1', 'feace09e23b528b974636c2c'], 'settings_update': ['72d733ece4e778a1f19f6fef', '5ed53fe1b396c2936200bfbf', 'f1dff470b22314377fe17b57', '71098d5b5fa2c43aca67e72c', '0038a28ca863a4f560d099e0', '222d7f9138114a93b8a039c5', '42a903cbe4c9fde8e79ca3d3', 'ea122f6e31e1f14e74a1a2e0', '6caa3fb1cce9488ac86a1ecd', 'f4af5881e24d2c9b7767e3f6', 'd6b032c0fad8b5457ff84941', '2c9fcc0b41127c38c93e2bd5', 'c5944cafea02b23774a5959f', 'b72240e3bb91425cfe7e28aa', '3a2181f88b0c8944ed08cc03', 'dac0fc29c29e2b411715ef3a', '1904dd0682849d370c254254', 'f64eb8a905cb054b9bdb6f72', 'b35cb929ac1ceaeb8b101b65', 'edc1e39c6a09004c59a0b061', '60f29a75361b82148fcb1c77', '957c28066b24e79ee5dda20a', '46a8868b2f529f0decc4a90d', '54d25b28eccb46e46e33df03', 'bf697956d17bd62182ba9e8c', 'd2b0da4471f7d460152e8576', '960824378bbbdab54d3a1b13', 'b62786323607946dc98e8ee2', '2f0fec9c0a3ee9f9e731dc46', '36604fc777afa3e3d85c4649', 'e6adb81384e46b6f720a9239', '3bd9b4d9398fb06bd0bad361', '06874e5a5427b18aa15bc4aa', '1262ac817ebdf0b39d795b59', '8e559c6554db3bbbcff7d1b5', 'd8c210edd4967790cc458610', '5bf29c4de3b10aace940f2fe', '0f38cde6c1e0cd2727571c5f', 'd2910c3fed7b0f73750df76b', '426de335226fd7cfeb76b920', '69f32ba9ae51239f7bab7bf6', 'bd3d9032a3bc8f5eb3635ab8', 'f2695edfe64a526986fb0b83', 'b1584bf90303eefb0ed83eda', 'ff5f102374f2453f5d11dfa1', 'f32cb59bc2542875d8f95312', '4447f0de5f79dc60750989f5', '26ff31f781dee4d279d85c22', 'd0fd104fb17c12ed4bec135a', '6de6cf27c09af8b136a6a950', 'e3d650eb237f5dfca22f1835', '0bc3e78c4ecd05a6573836a6', '2cc11117ba44aa9f0dec69a1', 'dd255758943abf38102497dc', '22e9433a1d7be8a0dae6ea9c', 'bbf13fd8b25105f117b3c931', '5d553942942322c5fce88a96', '1c499412ea5b034f2d45e0fe', 'a6a4b8327878e0849f128028', '2b094a50ccfbe785e2ab83a9', 'b83f7d5ff4c3695712f94f3b', '49d39fa16572b1652523d87e', '8e9a3e1717d60f22873441b6', '5b30481359252552b9dde0fb', 'f59bfe48cbe62d84b67a6342', '2371a488fcceec7a4d4f39c8', '59bab175c66b2e618f2640ec', '54323b1146330f4acf7fc81b', '5c69f950cbd4884f485874d0', 'e8c996497dbb275b5e15ea82', '5e7fbe23c2555cac2da675ce', 'a14bfb307b569e1de7c352a4', 'db880baf89fb8897e1b23ecb', '60b82300edccb77cc4a68bc2', 'c444bf914866da9c36fcf801', '6c85bfc98e08cac3406252f7', '8c8129e93451e4194b8a0705', 'b755196673711336b6bb6409', '3cb81441641c4ae828b55dbc', 'f433d8e1d57b8f7f99184cdf']}\n"
     ]
    }
   ],
   "source": [
    "print(difficulty_interface_to_users)"
   ]
  },
  {
   "cell_type": "code",
   "execution_count": 37,
   "metadata": {},
   "outputs": [],
   "source": [
    "frequency_of_choose_difficulty_to_users = get_abtest_condition_to_user_list('frequency_of_choose_difficulty')"
   ]
  },
  {
   "cell_type": "code",
   "execution_count": 38,
   "metadata": {},
   "outputs": [],
   "source": [
    "def get_choose_difficulty_level_mean_for_user_list(users):\n",
    "  difficulty_to_counts = get_choose_difficulty_counts_for_user_list(users)\n",
    "  difficulty_to_value = {\n",
    "    'nothing': 0,\n",
    "    'easy': 1,\n",
    "    'medium': 2,\n",
    "    'hard': 3,\n",
    "  }\n",
    "  values = []\n",
    "  for difficulty,count in difficulty_to_counts.items():\n",
    "    value = difficulty_to_value[difficulty]\n",
    "    values.append(value)\n",
    "  return np.mean(values)"
   ]
  },
  {
   "cell_type": "code",
   "execution_count": 39,
   "metadata": {},
   "outputs": [],
   "source": [
    "def get_choose_difficulty_level_mean_by_abtest(abtest_name):\n",
    "  condition_to_user_list = get_abtest_condition_to_user_list(abtest_name)\n",
    "  for condition,user_list in condition_to_user_list.items():\n",
    "    print(condition + ':' + str(get_choose_difficulty_level_mean_for_user_list(user_list)))"
   ]
  },
  {
   "cell_type": "code",
   "execution_count": null,
   "metadata": {},
   "outputs": [],
   "source": []
  },
  {
   "cell_type": "code",
   "execution_count": 40,
   "metadata": {},
   "outputs": [],
   "source": [
    "def get_key_to_ordering_mappings():\n",
    "  key_orderings = [\n",
    "    [\n",
    "      'this_intervention',\n",
    "      'time_afford',\n",
    "      'settings_update',\n",
    "    ],\n",
    "    [\n",
    "      'nothing',\n",
    "      'easy',\n",
    "      'medium',\n",
    "      'hard',\n",
    "    ],\n",
    "  ]\n",
    "  key_to_ordering = {}\n",
    "  for ordering in key_orderings:\n",
    "    key = ' '.join(sorted(ordering))\n",
    "    key_to_ordering[key] = ordering\n",
    "  return key_to_ordering\n",
    "\n",
    "def order_list(keys):\n",
    "  key = ' '.join(sorted(keys))\n",
    "  key_to_ordering_mappings = get_key_to_ordering_mappings()\n",
    "  return get_key_to_ordering_mappings()[key]\n",
    "\n",
    "def printdict(d):\n",
    "  keys = order_list(d.keys())\n",
    "  for x in keys:\n",
    "    print(x + ': ' + str(d[x]))\n",
    "\n",
    "def to_percent_dict(d):\n",
    "  output = {}\n",
    "  total = sum(d.values())\n",
    "  for k,v in d.items():\n",
    "    output[k] = v / total\n",
    "  return output\n",
    "\n",
    "def printdict_percent(d):\n",
    "  d = to_percent_dict(d)\n",
    "  printdict(d)"
   ]
  },
  {
   "cell_type": "code",
   "execution_count": 41,
   "metadata": {},
   "outputs": [],
   "source": [
    "def plotbar(values, labels=None, title=''):\n",
    "  data = [go.Bar(\n",
    "    x=labels,\n",
    "    y=values,\n",
    "  )]\n",
    "  layout = go.Layout(title=title)\n",
    "  fig = go.Figure(data=data, layout=layout)\n",
    "  iplot(fig)\n",
    "\n",
    "def plotbarh(values, labels=None, title=''):\n",
    "  data = [go.Bar(\n",
    "    y=labels,\n",
    "    x=values,\n",
    "    orientation='h',\n",
    "  )]\n",
    "  layout = go.Layout(title=title)\n",
    "  fig = go.Figure(data=data, layout=layout)\n",
    "  iplot(fig)\n",
    "\n",
    "def plothist(values, title=''):\n",
    "  data = [go.Histogram(x=values)]\n",
    "  layout = go.Layout(title=title)\n",
    "  fig = go.Figure(data=data, layout=layout)\n",
    "  iplot(fig)\n"
   ]
  },
  {
   "cell_type": "code",
   "execution_count": 42,
   "metadata": {},
   "outputs": [],
   "source": [
    "def plotdict(d, title=''):\n",
    "  keys = order_list(d.keys())\n",
    "  values = [d[k] for k in keys]\n",
    "  plotbarh(values, keys, title)"
   ]
  },
  {
   "cell_type": "code",
   "execution_count": null,
   "metadata": {},
   "outputs": [],
   "source": []
  },
  {
   "cell_type": "code",
   "execution_count": 43,
   "metadata": {},
   "outputs": [],
   "source": [
    "#for condition,user_list in condition_to_user_list.items():\n",
    "#  print(condition + ':' + str(get_choose_difficulty_level_mean_for_user_list(user_list)))"
   ]
  },
  {
   "cell_type": "code",
   "execution_count": 44,
   "metadata": {},
   "outputs": [
    {
     "name": "stdout",
     "output_type": "stream",
     "text": [
      "this_intervention_toast:1.5\n",
      "this_intervention:1.5\n",
      "time_afford:1.5\n",
      "settings_update:1.5\n"
     ]
    }
   ],
   "source": [
    "get_choose_difficulty_level_mean_by_abtest('choose_difficulty_interface')"
   ]
  },
  {
   "cell_type": "code",
   "execution_count": 45,
   "metadata": {},
   "outputs": [
    {
     "name": "stdout",
     "output_type": "stream",
     "text": [
      "0.5:1.5\n",
      "1.0:1.5\n",
      "0.0:1.5\n",
      "0.25:1.5\n"
     ]
    }
   ],
   "source": [
    "get_choose_difficulty_level_mean_by_abtest('frequency_of_choose_difficulty')"
   ]
  },
  {
   "cell_type": "code",
   "execution_count": 46,
   "metadata": {},
   "outputs": [
    {
     "name": "stdout",
     "output_type": "stream",
     "text": [
      "nothing: 0.38329312424607964\n",
      "easy: 0.20174909529553678\n",
      "medium: 0.30247285886610376\n",
      "hard: 0.11248492159227985\n"
     ]
    }
   ],
   "source": [
    "printdict_percent(get_choose_difficulty_counts_for_user_list(difficulty_interface_to_users['time_afford']))"
   ]
  },
  {
   "cell_type": "code",
   "execution_count": 47,
   "metadata": {},
   "outputs": [
    {
     "name": "stdout",
     "output_type": "stream",
     "text": [
      "nothing: 0.3818063677712801\n",
      "easy: 0.3082521117608837\n",
      "medium: 0.18369070825211176\n",
      "hard: 0.12625081221572448\n"
     ]
    }
   ],
   "source": [
    "printdict_percent(get_choose_difficulty_counts_for_user_list(difficulty_interface_to_users['this_intervention']))"
   ]
  },
  {
   "cell_type": "code",
   "execution_count": 48,
   "metadata": {},
   "outputs": [
    {
     "name": "stdout",
     "output_type": "stream",
     "text": [
      "nothing: 0.3536449638286032\n",
      "easy: 0.25069560378408456\n",
      "medium: 0.24791318864774625\n",
      "hard: 0.14774624373956594\n"
     ]
    }
   ],
   "source": [
    "printdict_percent(get_choose_difficulty_counts_for_user_list(difficulty_interface_to_users['settings_update']))"
   ]
  },
  {
   "cell_type": "code",
   "execution_count": 49,
   "metadata": {},
   "outputs": [
    {
     "name": "stdout",
     "output_type": "stream",
     "text": [
      "nothing: 0.3902041249206794\n",
      "easy: 0.20210886408191103\n",
      "medium: 0.31703253611343557\n",
      "hard: 0.09065447488397406\n"
     ]
    }
   ],
   "source": [
    "printdict(get_choose_difficulty_counts_for_user_list_user_normalized(difficulty_interface_to_users['time_afford']))"
   ]
  },
  {
   "cell_type": "code",
   "execution_count": 50,
   "metadata": {},
   "outputs": [
    {
     "name": "stdout",
     "output_type": "stream",
     "text": [
      "nothing: 0.3549591990905958\n",
      "easy: 0.31827423278293615\n",
      "medium: 0.2040028136776861\n",
      "hard: 0.12276375444878194\n"
     ]
    }
   ],
   "source": [
    "printdict(get_choose_difficulty_counts_for_user_list_user_normalized(difficulty_interface_to_users['this_intervention']))"
   ]
  },
  {
   "cell_type": "code",
   "execution_count": 51,
   "metadata": {},
   "outputs": [
    {
     "name": "stdout",
     "output_type": "stream",
     "text": [
      "nothing: 0.473847629972027\n",
      "easy: 0.23849230438005103\n",
      "medium: 0.18283301845462585\n",
      "hard: 0.10482704719329623\n"
     ]
    }
   ],
   "source": [
    "printdict(get_choose_difficulty_counts_for_user_list_user_normalized(difficulty_interface_to_users['settings_update']))"
   ]
  },
  {
   "cell_type": "code",
   "execution_count": 52,
   "metadata": {},
   "outputs": [
    {
     "data": {
      "application/vnd.plotly.v1+json": {
       "config": {
        "linkText": "Export to plot.ly",
        "plotlyServerURL": "https://plot.ly",
        "showLink": false
       },
       "data": [
        {
         "orientation": "h",
         "type": "bar",
         "uid": "0a094e01-9d4e-4c00-b25a-6b4595319133",
         "x": [
          0.3902041249206794,
          0.20210886408191103,
          0.31703253611343557,
          0.09065447488397406
         ],
         "y": [
          "nothing",
          "easy",
          "medium",
          "hard"
         ]
        }
       ],
       "layout": {
        "title": {
         "text": "Difficulty selections for \"time you can afford this visit\" interface"
        }
       }
      },
      "text/html": [
       "<div id=\"3104ab9e-59db-4c85-9654-f5dc706b837f\" style=\"height: 525px; width: 100%;\" class=\"plotly-graph-div\"></div><script type=\"text/javascript\">require([\"plotly\"], function(Plotly) { window.PLOTLYENV=window.PLOTLYENV || {};window.PLOTLYENV.BASE_URL=\"https://plot.ly\";Plotly.newPlot(\"3104ab9e-59db-4c85-9654-f5dc706b837f\", [{\"orientation\": \"h\", \"x\": [0.3902041249206794, 0.20210886408191103, 0.31703253611343557, 0.09065447488397406], \"y\": [\"nothing\", \"easy\", \"medium\", \"hard\"], \"type\": \"bar\", \"uid\": \"0a094e01-9d4e-4c00-b25a-6b4595319133\"}], {\"title\": {\"text\": \"Difficulty selections for \\\"time you can afford this visit\\\" interface\"}}, {\"showLink\": false, \"linkText\": \"Export to plot.ly\", \"plotlyServerURL\": \"https://plot.ly\"})});</script><script type=\"text/javascript\">window.addEventListener(\"resize\", function(){window._Plotly.Plots.resize(document.getElementById(\"3104ab9e-59db-4c85-9654-f5dc706b837f\"));});</script>"
      ],
      "text/vnd.plotly.v1+html": [
       "<div id=\"3104ab9e-59db-4c85-9654-f5dc706b837f\" style=\"height: 525px; width: 100%;\" class=\"plotly-graph-div\"></div><script type=\"text/javascript\">require([\"plotly\"], function(Plotly) { window.PLOTLYENV=window.PLOTLYENV || {};window.PLOTLYENV.BASE_URL=\"https://plot.ly\";Plotly.newPlot(\"3104ab9e-59db-4c85-9654-f5dc706b837f\", [{\"orientation\": \"h\", \"x\": [0.3902041249206794, 0.20210886408191103, 0.31703253611343557, 0.09065447488397406], \"y\": [\"nothing\", \"easy\", \"medium\", \"hard\"], \"type\": \"bar\", \"uid\": \"0a094e01-9d4e-4c00-b25a-6b4595319133\"}], {\"title\": {\"text\": \"Difficulty selections for \\\"time you can afford this visit\\\" interface\"}}, {\"showLink\": false, \"linkText\": \"Export to plot.ly\", \"plotlyServerURL\": \"https://plot.ly\"})});</script><script type=\"text/javascript\">window.addEventListener(\"resize\", function(){window._Plotly.Plots.resize(document.getElementById(\"3104ab9e-59db-4c85-9654-f5dc706b837f\"));});</script>"
      ]
     },
     "metadata": {},
     "output_type": "display_data"
    }
   ],
   "source": [
    "plotdict(get_choose_difficulty_counts_for_user_list_user_normalized(difficulty_interface_to_users['time_afford']), 'Difficulty selections for \"time you can afford this visit\" interface')"
   ]
  },
  {
   "cell_type": "code",
   "execution_count": 53,
   "metadata": {
    "scrolled": true
   },
   "outputs": [
    {
     "data": {
      "application/vnd.plotly.v1+json": {
       "config": {
        "linkText": "Export to plot.ly",
        "plotlyServerURL": "https://plot.ly",
        "showLink": false
       },
       "data": [
        {
         "orientation": "h",
         "type": "bar",
         "uid": "3bc6e0e9-d673-494a-bd6f-f990d57b8371",
         "x": [
          0.3549591990905958,
          0.31827423278293615,
          0.2040028136776861,
          0.12276375444878194
         ],
         "y": [
          "nothing",
          "easy",
          "medium",
          "hard"
         ]
        }
       ],
       "layout": {
        "title": {
         "text": "Difficulty selections for \"intervention difficulty you want this visit\" interface"
        }
       }
      },
      "text/html": [
       "<div id=\"dd7a1f93-8e06-4344-be8b-a4f677051c5f\" style=\"height: 525px; width: 100%;\" class=\"plotly-graph-div\"></div><script type=\"text/javascript\">require([\"plotly\"], function(Plotly) { window.PLOTLYENV=window.PLOTLYENV || {};window.PLOTLYENV.BASE_URL=\"https://plot.ly\";Plotly.newPlot(\"dd7a1f93-8e06-4344-be8b-a4f677051c5f\", [{\"orientation\": \"h\", \"x\": [0.3549591990905958, 0.31827423278293615, 0.2040028136776861, 0.12276375444878194], \"y\": [\"nothing\", \"easy\", \"medium\", \"hard\"], \"type\": \"bar\", \"uid\": \"3bc6e0e9-d673-494a-bd6f-f990d57b8371\"}], {\"title\": {\"text\": \"Difficulty selections for \\\"intervention difficulty you want this visit\\\" interface\"}}, {\"showLink\": false, \"linkText\": \"Export to plot.ly\", \"plotlyServerURL\": \"https://plot.ly\"})});</script><script type=\"text/javascript\">window.addEventListener(\"resize\", function(){window._Plotly.Plots.resize(document.getElementById(\"dd7a1f93-8e06-4344-be8b-a4f677051c5f\"));});</script>"
      ],
      "text/vnd.plotly.v1+html": [
       "<div id=\"dd7a1f93-8e06-4344-be8b-a4f677051c5f\" style=\"height: 525px; width: 100%;\" class=\"plotly-graph-div\"></div><script type=\"text/javascript\">require([\"plotly\"], function(Plotly) { window.PLOTLYENV=window.PLOTLYENV || {};window.PLOTLYENV.BASE_URL=\"https://plot.ly\";Plotly.newPlot(\"dd7a1f93-8e06-4344-be8b-a4f677051c5f\", [{\"orientation\": \"h\", \"x\": [0.3549591990905958, 0.31827423278293615, 0.2040028136776861, 0.12276375444878194], \"y\": [\"nothing\", \"easy\", \"medium\", \"hard\"], \"type\": \"bar\", \"uid\": \"3bc6e0e9-d673-494a-bd6f-f990d57b8371\"}], {\"title\": {\"text\": \"Difficulty selections for \\\"intervention difficulty you want this visit\\\" interface\"}}, {\"showLink\": false, \"linkText\": \"Export to plot.ly\", \"plotlyServerURL\": \"https://plot.ly\"})});</script><script type=\"text/javascript\">window.addEventListener(\"resize\", function(){window._Plotly.Plots.resize(document.getElementById(\"dd7a1f93-8e06-4344-be8b-a4f677051c5f\"));});</script>"
      ]
     },
     "metadata": {},
     "output_type": "display_data"
    }
   ],
   "source": [
    "plotdict(get_choose_difficulty_counts_for_user_list_user_normalized(difficulty_interface_to_users['this_intervention']), 'Difficulty selections for \"intervention difficulty you want this visit\" interface')"
   ]
  },
  {
   "cell_type": "code",
   "execution_count": 54,
   "metadata": {},
   "outputs": [
    {
     "data": {
      "application/vnd.plotly.v1+json": {
       "config": {
        "linkText": "Export to plot.ly",
        "plotlyServerURL": "https://plot.ly",
        "showLink": false
       },
       "data": [
        {
         "orientation": "h",
         "type": "bar",
         "uid": "4557789a-1615-4778-a1cf-36feb95ec664",
         "x": [
          0.473847629972027,
          0.23849230438005103,
          0.18283301845462585,
          0.10482704719329623
         ],
         "y": [
          "nothing",
          "easy",
          "medium",
          "hard"
         ]
        }
       ],
       "layout": {
        "title": {
         "text": "Difficulty selections for \"update your difficulty settings\" interface"
        }
       }
      },
      "text/html": [
       "<div id=\"245e18a5-77cf-4af5-92b0-7a3003b46c3f\" style=\"height: 525px; width: 100%;\" class=\"plotly-graph-div\"></div><script type=\"text/javascript\">require([\"plotly\"], function(Plotly) { window.PLOTLYENV=window.PLOTLYENV || {};window.PLOTLYENV.BASE_URL=\"https://plot.ly\";Plotly.newPlot(\"245e18a5-77cf-4af5-92b0-7a3003b46c3f\", [{\"orientation\": \"h\", \"x\": [0.473847629972027, 0.23849230438005103, 0.18283301845462585, 0.10482704719329623], \"y\": [\"nothing\", \"easy\", \"medium\", \"hard\"], \"type\": \"bar\", \"uid\": \"4557789a-1615-4778-a1cf-36feb95ec664\"}], {\"title\": {\"text\": \"Difficulty selections for \\\"update your difficulty settings\\\" interface\"}}, {\"showLink\": false, \"linkText\": \"Export to plot.ly\", \"plotlyServerURL\": \"https://plot.ly\"})});</script><script type=\"text/javascript\">window.addEventListener(\"resize\", function(){window._Plotly.Plots.resize(document.getElementById(\"245e18a5-77cf-4af5-92b0-7a3003b46c3f\"));});</script>"
      ],
      "text/vnd.plotly.v1+html": [
       "<div id=\"245e18a5-77cf-4af5-92b0-7a3003b46c3f\" style=\"height: 525px; width: 100%;\" class=\"plotly-graph-div\"></div><script type=\"text/javascript\">require([\"plotly\"], function(Plotly) { window.PLOTLYENV=window.PLOTLYENV || {};window.PLOTLYENV.BASE_URL=\"https://plot.ly\";Plotly.newPlot(\"245e18a5-77cf-4af5-92b0-7a3003b46c3f\", [{\"orientation\": \"h\", \"x\": [0.473847629972027, 0.23849230438005103, 0.18283301845462585, 0.10482704719329623], \"y\": [\"nothing\", \"easy\", \"medium\", \"hard\"], \"type\": \"bar\", \"uid\": \"4557789a-1615-4778-a1cf-36feb95ec664\"}], {\"title\": {\"text\": \"Difficulty selections for \\\"update your difficulty settings\\\" interface\"}}, {\"showLink\": false, \"linkText\": \"Export to plot.ly\", \"plotlyServerURL\": \"https://plot.ly\"})});</script><script type=\"text/javascript\">window.addEventListener(\"resize\", function(){window._Plotly.Plots.resize(document.getElementById(\"245e18a5-77cf-4af5-92b0-7a3003b46c3f\"));});</script>"
      ]
     },
     "metadata": {},
     "output_type": "display_data"
    }
   ],
   "source": [
    "plotdict(get_choose_difficulty_counts_for_user_list_user_normalized(difficulty_interface_to_users['settings_update']), 'Difficulty selections for \"update your difficulty settings\" interface')"
   ]
  },
  {
   "cell_type": "code",
   "execution_count": null,
   "metadata": {},
   "outputs": [],
   "source": []
  },
  {
   "cell_type": "code",
   "execution_count": 55,
   "metadata": {},
   "outputs": [
    {
     "data": {
      "application/vnd.plotly.v1+json": {
       "config": {
        "linkText": "Export to plot.ly",
        "plotlyServerURL": "https://plot.ly",
        "showLink": false
       },
       "data": [
        {
         "orientation": "h",
         "type": "bar",
         "uid": "b36325df-4408-46f7-8737-f81071ee3cdb",
         "x": [
          0.6006223807245026,
          0.21212689337104812,
          0.13626507984464226,
          0.050985646059807106
         ],
         "y": [
          "nothing",
          "easy",
          "medium",
          "hard"
         ]
        }
       ],
       "layout": {
        "title": {
         "text": "Difficulty selections if selection interface shown with p=1.0"
        }
       }
      },
      "text/html": [
       "<div id=\"55f50942-48f2-44f9-851f-1261ec9ec67e\" style=\"height: 525px; width: 100%;\" class=\"plotly-graph-div\"></div><script type=\"text/javascript\">require([\"plotly\"], function(Plotly) { window.PLOTLYENV=window.PLOTLYENV || {};window.PLOTLYENV.BASE_URL=\"https://plot.ly\";Plotly.newPlot(\"55f50942-48f2-44f9-851f-1261ec9ec67e\", [{\"orientation\": \"h\", \"x\": [0.6006223807245026, 0.21212689337104812, 0.13626507984464226, 0.050985646059807106], \"y\": [\"nothing\", \"easy\", \"medium\", \"hard\"], \"type\": \"bar\", \"uid\": \"b36325df-4408-46f7-8737-f81071ee3cdb\"}], {\"title\": {\"text\": \"Difficulty selections if selection interface shown with p=1.0\"}}, {\"showLink\": false, \"linkText\": \"Export to plot.ly\", \"plotlyServerURL\": \"https://plot.ly\"})});</script><script type=\"text/javascript\">window.addEventListener(\"resize\", function(){window._Plotly.Plots.resize(document.getElementById(\"55f50942-48f2-44f9-851f-1261ec9ec67e\"));});</script>"
      ],
      "text/vnd.plotly.v1+html": [
       "<div id=\"55f50942-48f2-44f9-851f-1261ec9ec67e\" style=\"height: 525px; width: 100%;\" class=\"plotly-graph-div\"></div><script type=\"text/javascript\">require([\"plotly\"], function(Plotly) { window.PLOTLYENV=window.PLOTLYENV || {};window.PLOTLYENV.BASE_URL=\"https://plot.ly\";Plotly.newPlot(\"55f50942-48f2-44f9-851f-1261ec9ec67e\", [{\"orientation\": \"h\", \"x\": [0.6006223807245026, 0.21212689337104812, 0.13626507984464226, 0.050985646059807106], \"y\": [\"nothing\", \"easy\", \"medium\", \"hard\"], \"type\": \"bar\", \"uid\": \"b36325df-4408-46f7-8737-f81071ee3cdb\"}], {\"title\": {\"text\": \"Difficulty selections if selection interface shown with p=1.0\"}}, {\"showLink\": false, \"linkText\": \"Export to plot.ly\", \"plotlyServerURL\": \"https://plot.ly\"})});</script><script type=\"text/javascript\">window.addEventListener(\"resize\", function(){window._Plotly.Plots.resize(document.getElementById(\"55f50942-48f2-44f9-851f-1261ec9ec67e\"));});</script>"
      ]
     },
     "metadata": {},
     "output_type": "display_data"
    }
   ],
   "source": [
    "plotdict(get_choose_difficulty_counts_for_user_list_user_normalized(frequency_of_choose_difficulty_to_users['1.0']), 'Difficulty selections if selection interface shown with p=1.0')"
   ]
  },
  {
   "cell_type": "code",
   "execution_count": 56,
   "metadata": {},
   "outputs": [
    {
     "data": {
      "application/vnd.plotly.v1+json": {
       "config": {
        "linkText": "Export to plot.ly",
        "plotlyServerURL": "https://plot.ly",
        "showLink": false
       },
       "data": [
        {
         "orientation": "h",
         "type": "bar",
         "uid": "cf48162e-5874-4b46-ab33-1237e7bf6d27",
         "x": [
          0.3616790857949487,
          0.29421793354223114,
          0.21003238525045048,
          0.13407059541236965
         ],
         "y": [
          "nothing",
          "easy",
          "medium",
          "hard"
         ]
        }
       ],
       "layout": {
        "title": {
         "text": "Difficulty selections if selection interface shown with p=0.5"
        }
       }
      },
      "text/html": [
       "<div id=\"65093779-cf81-4af8-8e2d-f336fc0da6b6\" style=\"height: 525px; width: 100%;\" class=\"plotly-graph-div\"></div><script type=\"text/javascript\">require([\"plotly\"], function(Plotly) { window.PLOTLYENV=window.PLOTLYENV || {};window.PLOTLYENV.BASE_URL=\"https://plot.ly\";Plotly.newPlot(\"65093779-cf81-4af8-8e2d-f336fc0da6b6\", [{\"orientation\": \"h\", \"x\": [0.3616790857949487, 0.29421793354223114, 0.21003238525045048, 0.13407059541236965], \"y\": [\"nothing\", \"easy\", \"medium\", \"hard\"], \"type\": \"bar\", \"uid\": \"cf48162e-5874-4b46-ab33-1237e7bf6d27\"}], {\"title\": {\"text\": \"Difficulty selections if selection interface shown with p=0.5\"}}, {\"showLink\": false, \"linkText\": \"Export to plot.ly\", \"plotlyServerURL\": \"https://plot.ly\"})});</script><script type=\"text/javascript\">window.addEventListener(\"resize\", function(){window._Plotly.Plots.resize(document.getElementById(\"65093779-cf81-4af8-8e2d-f336fc0da6b6\"));});</script>"
      ],
      "text/vnd.plotly.v1+html": [
       "<div id=\"65093779-cf81-4af8-8e2d-f336fc0da6b6\" style=\"height: 525px; width: 100%;\" class=\"plotly-graph-div\"></div><script type=\"text/javascript\">require([\"plotly\"], function(Plotly) { window.PLOTLYENV=window.PLOTLYENV || {};window.PLOTLYENV.BASE_URL=\"https://plot.ly\";Plotly.newPlot(\"65093779-cf81-4af8-8e2d-f336fc0da6b6\", [{\"orientation\": \"h\", \"x\": [0.3616790857949487, 0.29421793354223114, 0.21003238525045048, 0.13407059541236965], \"y\": [\"nothing\", \"easy\", \"medium\", \"hard\"], \"type\": \"bar\", \"uid\": \"cf48162e-5874-4b46-ab33-1237e7bf6d27\"}], {\"title\": {\"text\": \"Difficulty selections if selection interface shown with p=0.5\"}}, {\"showLink\": false, \"linkText\": \"Export to plot.ly\", \"plotlyServerURL\": \"https://plot.ly\"})});</script><script type=\"text/javascript\">window.addEventListener(\"resize\", function(){window._Plotly.Plots.resize(document.getElementById(\"65093779-cf81-4af8-8e2d-f336fc0da6b6\"));});</script>"
      ]
     },
     "metadata": {},
     "output_type": "display_data"
    }
   ],
   "source": [
    "plotdict(get_choose_difficulty_counts_for_user_list_user_normalized(frequency_of_choose_difficulty_to_users['0.5']), 'Difficulty selections if selection interface shown with p=0.5')"
   ]
  },
  {
   "cell_type": "code",
   "execution_count": 57,
   "metadata": {},
   "outputs": [
    {
     "data": {
      "application/vnd.plotly.v1+json": {
       "config": {
        "linkText": "Export to plot.ly",
        "plotlyServerURL": "https://plot.ly",
        "showLink": false
       },
       "data": [
        {
         "orientation": "h",
         "type": "bar",
         "uid": "856f1f58-9276-436b-a48a-a902e6ca7a3d",
         "x": [
          0.5062519099594313,
          0.2390539085981859,
          0.1851311231702636,
          0.06956305827211919
         ],
         "y": [
          "nothing",
          "easy",
          "medium",
          "hard"
         ]
        }
       ],
       "layout": {
        "title": {
         "text": "Difficulty selections if selection interface shown with p=0.25"
        }
       }
      },
      "text/html": [
       "<div id=\"50298b3f-8921-4126-9603-daaecc89b108\" style=\"height: 525px; width: 100%;\" class=\"plotly-graph-div\"></div><script type=\"text/javascript\">require([\"plotly\"], function(Plotly) { window.PLOTLYENV=window.PLOTLYENV || {};window.PLOTLYENV.BASE_URL=\"https://plot.ly\";Plotly.newPlot(\"50298b3f-8921-4126-9603-daaecc89b108\", [{\"orientation\": \"h\", \"x\": [0.5062519099594313, 0.2390539085981859, 0.1851311231702636, 0.06956305827211919], \"y\": [\"nothing\", \"easy\", \"medium\", \"hard\"], \"type\": \"bar\", \"uid\": \"856f1f58-9276-436b-a48a-a902e6ca7a3d\"}], {\"title\": {\"text\": \"Difficulty selections if selection interface shown with p=0.25\"}}, {\"showLink\": false, \"linkText\": \"Export to plot.ly\", \"plotlyServerURL\": \"https://plot.ly\"})});</script><script type=\"text/javascript\">window.addEventListener(\"resize\", function(){window._Plotly.Plots.resize(document.getElementById(\"50298b3f-8921-4126-9603-daaecc89b108\"));});</script>"
      ],
      "text/vnd.plotly.v1+html": [
       "<div id=\"50298b3f-8921-4126-9603-daaecc89b108\" style=\"height: 525px; width: 100%;\" class=\"plotly-graph-div\"></div><script type=\"text/javascript\">require([\"plotly\"], function(Plotly) { window.PLOTLYENV=window.PLOTLYENV || {};window.PLOTLYENV.BASE_URL=\"https://plot.ly\";Plotly.newPlot(\"50298b3f-8921-4126-9603-daaecc89b108\", [{\"orientation\": \"h\", \"x\": [0.5062519099594313, 0.2390539085981859, 0.1851311231702636, 0.06956305827211919], \"y\": [\"nothing\", \"easy\", \"medium\", \"hard\"], \"type\": \"bar\", \"uid\": \"856f1f58-9276-436b-a48a-a902e6ca7a3d\"}], {\"title\": {\"text\": \"Difficulty selections if selection interface shown with p=0.25\"}}, {\"showLink\": false, \"linkText\": \"Export to plot.ly\", \"plotlyServerURL\": \"https://plot.ly\"})});</script><script type=\"text/javascript\">window.addEventListener(\"resize\", function(){window._Plotly.Plots.resize(document.getElementById(\"50298b3f-8921-4126-9603-daaecc89b108\"));});</script>"
      ]
     },
     "metadata": {},
     "output_type": "display_data"
    }
   ],
   "source": [
    "plotdict(get_choose_difficulty_counts_for_user_list_user_normalized(frequency_of_choose_difficulty_to_users['0.25']), 'Difficulty selections if selection interface shown with p=0.25')"
   ]
  },
  {
   "cell_type": "code",
   "execution_count": 58,
   "metadata": {},
   "outputs": [],
   "source": [
    "def get_daynum_to_difficulty_choices(user):\n",
    "  difficulty_choices = get_choose_difficulty_items_for_user(user)\n",
    "  first_timestamp = None\n",
    "  output = {}\n",
    "  for item in difficulty_choices:\n",
    "    if 'type' not in item:\n",
    "      continue\n",
    "    if item['type'] != 'action':\n",
    "      continue\n",
    "    if 'difficulty' not in item:\n",
    "      continue\n",
    "    difficulty = item['difficulty']\n",
    "    timestamp = item['timestamp_local']\n",
    "    if first_timestamp == None or timestamp < first_timestamp:\n",
    "      first_timestamp = timestamp\n",
    "  for item in difficulty_choices:\n",
    "    if 'type' not in item:\n",
    "      continue\n",
    "    if item['type'] != 'action':\n",
    "      continue\n",
    "    if 'difficulty' not in item:\n",
    "      continue\n",
    "    difficulty = item['difficulty']\n",
    "    timestamp = item['timestamp_local']\n",
    "    daynum = (timestamp - first_timestamp) / (1000 * 3600 * 24)\n",
    "    daynum = int(math.floor(daynum))\n",
    "    if daynum not in output:\n",
    "      output[daynum] = {}\n",
    "    if difficulty not in output[daynum]:\n",
    "      output[daynum][difficulty] = 0\n",
    "    output[daynum][difficulty] += 1\n",
    "  return output\n",
    "\n",
    "def get_user_to_daynum_to_difficulty_choices():\n",
    "  output = {}\n",
    "  user_list = get_users_with_choose_difficulty()\n",
    "  for user in user_list:\n",
    "    difficulty_counts = get_choose_difficulty_counts_for_user(user)\n",
    "    if len(difficulty_counts.keys()) == 0:\n",
    "      continue\n",
    "    daynum_to_difficulty_choices = get_daynum_to_difficulty_choices(user)\n",
    "    if len(daynum_to_difficulty_choices.keys()) == 0:\n",
    "      continue\n",
    "    output[user] = daynum_to_difficulty_choices\n",
    "  return output\n",
    "\n",
    "def get_daynum_to_difficulty_choices_over_n_days(num_days):\n",
    "  user_to_daynum_to_difficulty_choices = get_user_to_daynum_to_difficulty_choices()\n",
    "  output = []\n",
    "  for daynum in range(num_days):\n",
    "    item = {}\n",
    "    for x in 'nothing easy medium hard'.split(' '):\n",
    "      item[x] = 0\n",
    "    output.append(item)\n",
    "  for user,daynum_to_difficulty_choices in user_to_daynum_to_difficulty_choices.items():\n",
    "    has_data = True\n",
    "    for daynum in range(num_days):\n",
    "      if not daynum in daynum_to_difficulty_choices:\n",
    "        has_data = False\n",
    "        break\n",
    "    if not has_data:\n",
    "      continue\n",
    "    for daynum in range(num_days):\n",
    "      for difficulty,num_chosen in to_percent_dict(daynum_to_difficulty_choices[daynum]).items():\n",
    "        output[daynum][difficulty] += num_chosen\n",
    "      output[daynum] = to_percent_dict(output[daynum])\n",
    "  return output\n",
    "\n",
    "def list_of_dictionaries_to_dictionary_with_list_values(dlist):\n",
    "  output = {}\n",
    "  keys = dlist[0].keys()\n",
    "  for k in keys:\n",
    "    output[k] = []\n",
    "  for d in dlist:\n",
    "    for k,v in d.items():\n",
    "      output[k].append(v)\n",
    "  return output\n",
    "\n",
    "def plotline(values, title=''):\n",
    "  trace = go.Scatter(\n",
    "    x = list(range(len(values))),\n",
    "    y=values,\n",
    "  )\n",
    "  data = [trace]\n",
    "  layout = go.Layout(title=title)\n",
    "  fig = go.Figure(data=data, layout=layout)\n",
    "  iplot(fig)\n",
    "\n",
    "def plotlines(dict_to_values, title=''):\n",
    "  data = []\n",
    "  for label,values in dict_to_values.items():\n",
    "    trace = go.Scatter(\n",
    "      x = list(range(len(values))),\n",
    "      y=values,\n",
    "      name=label,\n",
    "    )\n",
    "    data.append(trace)\n",
    "  layout = go.Layout(title=title)\n",
    "  fig = go.Figure(data=data, layout=layout)\n",
    "  iplot(fig)\n",
    "\n",
    "#plotline([3,5,2])\n",
    "#plotlines({'a': [3,5,2], 'b': [7,7,7]})"
   ]
  },
  {
   "cell_type": "code",
   "execution_count": 59,
   "metadata": {},
   "outputs": [],
   "source": [
    "def compute_entropy_for_difficulty_selections(difficulty_selection_dict):\n",
    "  if len(difficulty_selection_dict.keys()) == 0:\n",
    "    return None\n",
    "  probs = to_percent_dict(difficulty_selection_dict)\n",
    "  items_to_sum = []\n",
    "  for k,prob in probs.items():\n",
    "    items_to_sum.append(prob * math.log(prob)/math.log(2))\n",
    "  return -sum(items_to_sum)\n",
    "\n",
    "def compute_entropy_for_difficulty_selections_for_user(user):\n",
    "    difficulty_counts = get_choose_difficulty_counts_for_user(user)\n",
    "    return compute_entropy_for_difficulty_selections(difficulty_counts)\n",
    "\n",
    "def get_entropies_for_user_list(user_list):\n",
    "  entropies = []\n",
    "  for user in user_list:\n",
    "    entropy = compute_entropy_for_difficulty_selections_for_user(user)\n",
    "    if entropy == None:\n",
    "      continue\n",
    "    entropies.append(entropy)\n",
    "  return entropies\n",
    "\n",
    "def get_entropies_for_all_users():\n",
    "  user_list = get_users_with_choose_difficulty()\n",
    "  return get_entropies_for_user_list(user_list)\n",
    "\n",
    "def get_entropies_for_all_users_more_than_5():\n",
    "  user_list = get_users_with_choose_difficulty()\n",
    "  return get_entropies_for_user_list_with_more_than_5(user_list)\n",
    "\n",
    "def get_entropies_for_all_users_with_10_first_days():\n",
    "  user_list = get_users_with_choose_difficulty()\n",
    "  return get_entropies_for_user_list_with_10_first_days(user_list)\n",
    "\n",
    "def get_entropies_for_user_list_with_more_than_5(user_list):\n",
    "  entropies = []\n",
    "  for user in user_list:\n",
    "    difficulty_counts = get_choose_difficulty_counts_for_user(user)\n",
    "    total = sum(difficulty_counts.values())\n",
    "    if total < 5:\n",
    "      continue\n",
    "    entropy = compute_entropy_for_difficulty_selections_for_user(user)\n",
    "    if entropy == None:\n",
    "      continue\n",
    "    entropies.append(entropy)\n",
    "  return entropies\n",
    "\n",
    "\n",
    "#print(user_list[0])\n",
    "#print(compute_entropy_for_difficulty_selections({'a': 0.25, 'b': 0.75}))\n",
    "\n",
    "def get_entropies_for_user_list_with_10_first_days(user_list):\n",
    "  entropies = []\n",
    "  user_to_daynum_to_difficulty_choices = get_user_to_daynum_to_difficulty_choices()\n",
    "  for user in user_list:\n",
    "    #difficulty_counts = get_choose_difficulty_counts_for_user(user)\n",
    "    if user not in user_to_daynum_to_difficulty_choices:\n",
    "      continue\n",
    "    daynum_to_difficulty_choices = user_to_daynum_to_difficulty_choices[user]\n",
    "    is_valid = True\n",
    "    for i in range(10):\n",
    "      if i not in daynum_to_difficulty_choices:\n",
    "        is_valid = False\n",
    "        break\n",
    "    if not is_valid:\n",
    "      continue\n",
    "    #total = sum(difficulty_counts.values())\n",
    "    #if total < 5:\n",
    "    #  continue\n",
    "    entropy = compute_entropy_for_difficulty_selections_for_user(user)\n",
    "    if entropy == None:\n",
    "      continue\n",
    "    entropies.append(entropy)\n",
    "  return entropies\n"
   ]
  },
  {
   "cell_type": "code",
   "execution_count": null,
   "metadata": {},
   "outputs": [],
   "source": []
  },
  {
   "cell_type": "code",
   "execution_count": 60,
   "metadata": {},
   "outputs": [
    {
     "name": "stdout",
     "output_type": "stream",
     "text": [
      "mean entropy per user 0.8890993744583879\n",
      "median entropy per user 0.765747309567398\n"
     ]
    },
    {
     "data": {
      "application/vnd.plotly.v1+json": {
       "config": {
        "linkText": "Export to plot.ly",
        "plotlyServerURL": "https://plot.ly",
        "showLink": false
       },
       "data": [
        {
         "type": "histogram",
         "uid": "684a21cf-5ef8-4229-bdbb-b39d9b07d6f4",
         "x": [
          0.9239883711223993,
          0.19171816206991943,
          0.13102484511116785,
          0.500905431826832,
          0.13469174315499088,
          0.3329957351668609,
          0.5094330653657044,
          0.47163511680013037,
          0.4557550448682709,
          1.3188806363267027,
          0.9108996942994035,
          0.9910402765917719,
          0.5592536894829354,
          0,
          0,
          0.6190652114877522,
          0.17691097869777175,
          0.3366790555444543,
          0.6692592814269931,
          0.5448564522758061,
          1.1358885792578717,
          1.0928343095844615,
          0.6402064333604702,
          0.18448561779718256,
          1.1476101164599375,
          0.594161283857837,
          0.17508297338458834,
          0.18865294740404961,
          0,
          0.15820502669098435,
          0.75776994753018,
          0.11759466565886477,
          0.5812126095074552,
          0.23614218843402401,
          0.6680304451949285,
          0.3339360631363668,
          0.38395456535296746,
          0.6319147729337363,
          1.4444384561023487,
          1.0027307332992095,
          0.765747309567398,
          0.4486976089343474,
          1.2021971781060556,
          1.007632815012383,
          0.2863969571159562,
          0.4454659438212749,
          0.6464675885091743,
          0.1237443914320628,
          0.6630350975031564,
          0.8690680686877597,
          0.9393050446829774,
          0.30880312371969315,
          0.2580186686648155,
          1.656117718491376,
          0.7772968567425483,
          0.1292337748458849,
          1.0383600955919874,
          0.4626180441915523,
          0.31287908941146386,
          1.5941035567191117,
          0.5689730116435885,
          1.4111073672751937,
          0.26184844032122445,
          1.2252595862798141,
          1.2728258121917737,
          0.9959482086700628,
          1.8924446499266439,
          1.8069544828934903,
          1.8239845764123357,
          1.740918777418858,
          1.293304878150617,
          1.4888392525335299,
          1.3273333558774318,
          1.6777210715454165,
          1.7513134874138518,
          1.7820239456660327,
          1.323351684420694,
          1.671374879087784,
          1.4233186736475805,
          1.5960833257775042,
          1.8455376192464692,
          1.7176856953872668,
          1.9584661817581865,
          1.8418298705042457,
          1.4908920690779461,
          1.650335261060192,
          1.8106370366402462,
          1.5322000973722265,
          1.7582975702780197
         ]
        }
       ],
       "layout": {
        "title": {
         "text": "Entropies per user among users who used habitlab for 10+ days, in bits (histogram)"
        }
       }
      },
      "text/html": [
       "<div id=\"b39270d0-9568-42c1-b1aa-e114e5b4a24e\" style=\"height: 525px; width: 100%;\" class=\"plotly-graph-div\"></div><script type=\"text/javascript\">require([\"plotly\"], function(Plotly) { window.PLOTLYENV=window.PLOTLYENV || {};window.PLOTLYENV.BASE_URL=\"https://plot.ly\";Plotly.newPlot(\"b39270d0-9568-42c1-b1aa-e114e5b4a24e\", [{\"x\": [0.9239883711223993, 0.19171816206991943, 0.13102484511116785, 0.500905431826832, 0.13469174315499088, 0.3329957351668609, 0.5094330653657044, 0.47163511680013037, 0.4557550448682709, 1.3188806363267027, 0.9108996942994035, 0.9910402765917719, 0.5592536894829354, -0.0, -0.0, 0.6190652114877522, 0.17691097869777175, 0.3366790555444543, 0.6692592814269931, 0.5448564522758061, 1.1358885792578717, 1.0928343095844615, 0.6402064333604702, 0.18448561779718256, 1.1476101164599375, 0.594161283857837, 0.17508297338458834, 0.18865294740404961, -0.0, 0.15820502669098435, 0.75776994753018, 0.11759466565886477, 0.5812126095074552, 0.23614218843402401, 0.6680304451949285, 0.3339360631363668, 0.38395456535296746, 0.6319147729337363, 1.4444384561023487, 1.0027307332992095, 0.765747309567398, 0.4486976089343474, 1.2021971781060556, 1.007632815012383, 0.2863969571159562, 0.4454659438212749, 0.6464675885091743, 0.1237443914320628, 0.6630350975031564, 0.8690680686877597, 0.9393050446829774, 0.30880312371969315, 0.2580186686648155, 1.656117718491376, 0.7772968567425483, 0.1292337748458849, 1.0383600955919874, 0.4626180441915523, 0.31287908941146386, 1.5941035567191117, 0.5689730116435885, 1.4111073672751937, 0.26184844032122445, 1.2252595862798141, 1.2728258121917737, 0.9959482086700628, 1.8924446499266439, 1.8069544828934903, 1.8239845764123357, 1.740918777418858, 1.293304878150617, 1.4888392525335299, 1.3273333558774318, 1.6777210715454165, 1.7513134874138518, 1.7820239456660327, 1.323351684420694, 1.671374879087784, 1.4233186736475805, 1.5960833257775042, 1.8455376192464692, 1.7176856953872668, 1.9584661817581865, 1.8418298705042457, 1.4908920690779461, 1.650335261060192, 1.8106370366402462, 1.5322000973722265, 1.7582975702780197], \"type\": \"histogram\", \"uid\": \"684a21cf-5ef8-4229-bdbb-b39d9b07d6f4\"}], {\"title\": {\"text\": \"Entropies per user among users who used habitlab for 10+ days, in bits (histogram)\"}}, {\"showLink\": false, \"linkText\": \"Export to plot.ly\", \"plotlyServerURL\": \"https://plot.ly\"})});</script><script type=\"text/javascript\">window.addEventListener(\"resize\", function(){window._Plotly.Plots.resize(document.getElementById(\"b39270d0-9568-42c1-b1aa-e114e5b4a24e\"));});</script>"
      ],
      "text/vnd.plotly.v1+html": [
       "<div id=\"b39270d0-9568-42c1-b1aa-e114e5b4a24e\" style=\"height: 525px; width: 100%;\" class=\"plotly-graph-div\"></div><script type=\"text/javascript\">require([\"plotly\"], function(Plotly) { window.PLOTLYENV=window.PLOTLYENV || {};window.PLOTLYENV.BASE_URL=\"https://plot.ly\";Plotly.newPlot(\"b39270d0-9568-42c1-b1aa-e114e5b4a24e\", [{\"x\": [0.9239883711223993, 0.19171816206991943, 0.13102484511116785, 0.500905431826832, 0.13469174315499088, 0.3329957351668609, 0.5094330653657044, 0.47163511680013037, 0.4557550448682709, 1.3188806363267027, 0.9108996942994035, 0.9910402765917719, 0.5592536894829354, -0.0, -0.0, 0.6190652114877522, 0.17691097869777175, 0.3366790555444543, 0.6692592814269931, 0.5448564522758061, 1.1358885792578717, 1.0928343095844615, 0.6402064333604702, 0.18448561779718256, 1.1476101164599375, 0.594161283857837, 0.17508297338458834, 0.18865294740404961, -0.0, 0.15820502669098435, 0.75776994753018, 0.11759466565886477, 0.5812126095074552, 0.23614218843402401, 0.6680304451949285, 0.3339360631363668, 0.38395456535296746, 0.6319147729337363, 1.4444384561023487, 1.0027307332992095, 0.765747309567398, 0.4486976089343474, 1.2021971781060556, 1.007632815012383, 0.2863969571159562, 0.4454659438212749, 0.6464675885091743, 0.1237443914320628, 0.6630350975031564, 0.8690680686877597, 0.9393050446829774, 0.30880312371969315, 0.2580186686648155, 1.656117718491376, 0.7772968567425483, 0.1292337748458849, 1.0383600955919874, 0.4626180441915523, 0.31287908941146386, 1.5941035567191117, 0.5689730116435885, 1.4111073672751937, 0.26184844032122445, 1.2252595862798141, 1.2728258121917737, 0.9959482086700628, 1.8924446499266439, 1.8069544828934903, 1.8239845764123357, 1.740918777418858, 1.293304878150617, 1.4888392525335299, 1.3273333558774318, 1.6777210715454165, 1.7513134874138518, 1.7820239456660327, 1.323351684420694, 1.671374879087784, 1.4233186736475805, 1.5960833257775042, 1.8455376192464692, 1.7176856953872668, 1.9584661817581865, 1.8418298705042457, 1.4908920690779461, 1.650335261060192, 1.8106370366402462, 1.5322000973722265, 1.7582975702780197], \"type\": \"histogram\", \"uid\": \"684a21cf-5ef8-4229-bdbb-b39d9b07d6f4\"}], {\"title\": {\"text\": \"Entropies per user among users who used habitlab for 10+ days, in bits (histogram)\"}}, {\"showLink\": false, \"linkText\": \"Export to plot.ly\", \"plotlyServerURL\": \"https://plot.ly\"})});</script><script type=\"text/javascript\">window.addEventListener(\"resize\", function(){window._Plotly.Plots.resize(document.getElementById(\"b39270d0-9568-42c1-b1aa-e114e5b4a24e\"));});</script>"
      ]
     },
     "metadata": {},
     "output_type": "display_data"
    }
   ],
   "source": [
    "#print(np.mean(entropies))\n",
    "#print(np.sum(entropies))\n",
    "entropies = get_entropies_for_all_users_with_10_first_days()\n",
    "print('mean entropy per user', np.mean(entropies))\n",
    "print('median entropy per user', np.median(entropies))\n",
    "plothist(entropies, 'Entropies per user among users who used habitlab for 10+ days, in bits (histogram)')"
   ]
  },
  {
   "cell_type": "code",
   "execution_count": 61,
   "metadata": {},
   "outputs": [
    {
     "data": {
      "text/plain": [
       "{}"
      ]
     },
     "execution_count": 61,
     "metadata": {},
     "output_type": "execute_result"
    }
   ],
   "source": [
    "get_choose_difficulty_counts_for_user('d45b8b82dec8ec3c591fdbd7')"
   ]
  },
  {
   "cell_type": "code",
   "execution_count": 62,
   "metadata": {},
   "outputs": [
    {
     "name": "stdout",
     "output_type": "stream",
     "text": [
      "{'e0ea34c81d4b50cddc7bd752': {0: {'medium': 1}}, 'f4d95006c663a799d9185576': {0: {'medium': 1, 'hard': 1}}, '8d2c9eb27dee2dc85bca705b': {0: {'medium': 33, 'hard': 1, 'nothing': 6}, 1: {'nothing': 19, 'medium': 11, 'hard': 12}, 2: {'medium': 28, 'hard': 1, 'nothing': 4}, 3: {'medium': 10, 'nothing': 22}, 4: {'nothing': 7, 'medium': 3}, 5: {'nothing': 21, 'medium': 4, 'easy': 1, 'hard': 2}, 6: {'hard': 4, 'nothing': 11, 'medium': 2}, 7: {'nothing': 28, 'medium': 2, 'hard': 1}, 8: {'nothing': 33, 'medium': 1}, 9: {'nothing': 50, 'easy': 1}, 10: {'nothing': 65, 'hard': 1, 'medium': 2}, 11: {'nothing': 31, 'hard': 10}, 12: {'nothing': 25}, 13: {'nothing': 8}, 14: {'nothing': 32, 'hard': 12}, 15: {'nothing': 22, 'hard': 6}, 16: {'nothing': 20, 'hard': 3}, 17: {'hard': 5, 'nothing': 28}, 18: {'nothing': 31, 'hard': 1}, 19: {'nothing': 4}, 20: {'nothing': 19}, 21: {'nothing': 17, 'hard': 2}, 22: {'nothing': 16, 'hard': 2}, 23: {'nothing': 34}, 24: {'nothing': 35}, 25: {'nothing': 6, 'hard': 1}, 26: {'nothing': 18}, 27: {'nothing': 40}, 28: {'nothing': 46, 'hard': 1}, 29: {'nothing': 34, 'hard': 1}, 30: {'nothing': 45, 'hard': 4}, 31: {'nothing': 26}, 32: {'nothing': 43}, 33: {'nothing': 50}, 34: {'nothing': 44}, 35: {'nothing': 46}, 36: {'nothing': 21}, 37: {'nothing': 44}, 38: {'nothing': 56, 'hard': 1}, 39: {'nothing': 57}, 40: {'nothing': 30}, 41: {'nothing': 18, 'hard': 4}, 42: {'nothing': 34}, 43: {'nothing': 50}, 44: {'nothing': 65}, 45: {'nothing': 22}, 46: {'nothing': 38}, 47: {'nothing': 30}, 48: {'nothing': 49}, 49: {'nothing': 14, 'hard': 7, 'medium': 4, 'easy': 6}, 50: {'nothing': 35, 'easy': 6, 'medium': 5, 'hard': 7}, 51: {'nothing': 18, 'medium': 2, 'hard': 3, 'easy': 1}, 52: {'nothing': 27, 'hard': 8, 'easy': 5, 'medium': 5}, 53: {'nothing': 27, 'easy': 7, 'hard': 6, 'medium': 5}, 54: {'nothing': 39, 'medium': 6, 'hard': 5, 'easy': 5}, 55: {'nothing': 15, 'easy': 5, 'hard': 2, 'medium': 2}, 56: {'nothing': 16, 'easy': 3, 'medium': 1, 'hard': 3}, 57: {'nothing': 18, 'medium': 2, 'easy': 1, 'hard': 3}, 58: {'nothing': 7, 'easy': 2, 'medium': 2, 'hard': 1}, 59: {'nothing': 15, 'medium': 2, 'easy': 5, 'hard': 3}, 60: {'nothing': 5, 'easy': 2, 'medium': 1}, 61: {'nothing': 13, 'hard': 3, 'easy': 1, 'medium': 3}, 62: {'nothing': 15, 'easy': 1, 'hard': 3, 'medium': 4}, 63: {'nothing': 13, 'medium': 3, 'easy': 4, 'hard': 1}, 64: {'nothing': 28, 'easy': 10, 'medium': 2, 'hard': 5}, 65: {'nothing': 26, 'easy': 1, 'hard': 7}, 66: {'nothing': 17, 'medium': 4, 'easy': 8, 'hard': 1}, 67: {'nothing': 18, 'easy': 6, 'medium': 5, 'hard': 4}, 68: {'nothing': 11, 'easy': 3, 'hard': 3}}, '4a5f492c987b873871be4c12': {0: {'nothing': 1}}, '78cc8c70b8be7412e00a1575': {0: {'medium': 1, 'easy': 3}, 3: {'nothing': 1, 'medium': 1}, 6: {'medium': 2}, 7: {'medium': 1}, 9: {'medium': 1}, 15: {'hard': 1, 'easy': 1, 'medium': 5, 'nothing': 1}, 18: {'medium': 1}, 24: {'nothing': 2, 'medium': 1}, 25: {'medium': 6}, 26: {'medium': 7, 'nothing': 1}, 27: {'medium': 7, 'easy': 1}, 28: {'medium': 2}, 32: {'medium': 1}, 33: {'medium': 5}, 34: {'medium': 1}, 36: {'medium': 2}, 38: {'medium': 3}, 40: {'medium': 2}, 41: {'medium': 1}, 42: {'nothing': 1}, 43: {'medium': 1}, 44: {'medium': 2}, 47: {'medium': 3}, 48: {'medium': 2}, 50: {'hard': 1}, 51: {'medium': 6, 'hard': 1, 'easy': 1, 'nothing': 1}, 53: {'medium': 1}, 54: {'medium': 2}, 55: {'nothing': 4, 'hard': 1, 'medium': 1}, 57: {'medium': 1}, 61: {'medium': 2, 'easy': 2, 'hard': 2, 'nothing': 1}, 62: {'medium': 5, 'nothing': 1, 'easy': 2, 'hard': 1}, 64: {'medium': 1, 'nothing': 1}, 68: {'medium': 1}}, '04c7fb2ae3098eab5ae390b8': {0: {'nothing': 2}}, '8642884bd204eafc660a04a2': {0: {'nothing': 1}, 1: {'nothing': 3}, 2: {'nothing': 3}, 3: {'nothing': 1}, 4: {'nothing': 3}, 5: {'nothing': 3}, 6: {'nothing': 2}, 7: {'nothing': 6}, 8: {'nothing': 1}, 9: {'nothing': 3}, 10: {'nothing': 5}, 11: {'nothing': 2}, 12: {'nothing': 1}, 13: {'nothing': 1}, 14: {'nothing': 1}, 15: {'nothing': 4}, 16: {'nothing': 1}, 18: {'nothing': 1}, 20: {'nothing': 6}, 21: {'nothing': 2}, 22: {'nothing': 5}, 23: {'nothing': 1}, 24: {'nothing': 4}, 26: {'nothing': 1}, 28: {'nothing': 2}, 29: {'nothing': 2}, 31: {'nothing': 1}, 35: {'nothing': 3}, 39: {'nothing': 1}, 43: {'nothing': 1}, 44: {'nothing': 2}, 48: {'nothing': 1}, 50: {'nothing': 1}, 52: {'nothing': 1}, 55: {'nothing': 1}, 63: {'nothing': 1}, 65: {'nothing': 1}, 66: {'medium': 1}, 67: {'easy': 1}}, '9ca53f1f33ac3e25c2e3f3d2': {0: {'easy': 1}}, '6e055258e3625ab1db57f0fa': {0: {'medium': 1, 'easy': 1}, 46: {'easy': 1, 'nothing': 1}}, '9c00827409f8c296d67f78b4': {0: {'nothing': 28}, 1: {'nothing': 37}, 2: {'nothing': 45}, 3: {'nothing': 28, 'easy': 1}, 4: {'nothing': 34}, 5: {'nothing': 21, 'easy': 1}, 6: {'nothing': 14}, 7: {'nothing': 16}, 15: {'easy': 3, 'nothing': 31}, 16: {'nothing': 123, 'easy': 4}, 17: {'nothing': 100, 'easy': 1}, 18: {'nothing': 38}, 19: {'nothing': 42, 'easy': 1}, 20: {'nothing': 117, 'easy': 4}, 21: {'nothing': 27}, 22: {'nothing': 33, 'easy': 3}, 23: {'nothing': 63}, 24: {'nothing': 50, 'easy': 8}, 25: {'nothing': 73, 'easy': 26}, 26: {'nothing': 47, 'easy': 25}, 27: {'nothing': 9, 'easy': 13}, 28: {'nothing': 2, 'easy': 11}, 29: {'nothing': 15, 'easy': 28}, 30: {'easy': 54, 'nothing': 6, 'medium': 1}, 31: {'easy': 38, 'nothing': 4}, 32: {'easy': 42, 'nothing': 5}, 33: {'easy': 67, 'nothing': 1}, 34: {'nothing': 4, 'easy': 82}, 35: {'easy': 51}, 36: {'easy': 60}, 37: {'easy': 86, 'nothing': 2}, 38: {'easy': 43, 'nothing': 1}, 39: {'easy': 52}, 40: {'easy': 44}, 41: {'easy': 59, 'nothing': 2}, 42: {'easy': 34}, 43: {'easy': 77}, 44: {'easy': 58, 'nothing': 2}, 45: {'easy': 36}, 46: {'easy': 51}, 47: {'easy': 89}, 48: {'easy': 92}, 49: {'easy': 2, 'medium': 1}, 50: {'easy': 1, 'medium': 1}, 52: {'easy': 7, 'nothing': 1, 'hard': 3}, 54: {'easy': 1}, 56: {'nothing': 1, 'easy': 1}, 57: {'easy': 4, 'nothing': 2, 'hard': 1}, 58: {'easy': 1, 'nothing': 1}, 59: {'easy': 2, 'hard': 1}, 60: {'hard': 1, 'medium': 1}, 61: {'easy': 1, 'medium': 1}, 63: {'easy': 2, 'hard': 1}, 64: {'medium': 3, 'easy': 3, 'nothing': 1}, 65: {'easy': 1, 'nothing': 1}}, '687606ae6354d8b707f064ee': {0: {'nothing': 5, 'easy': 1}, 1: {'nothing': 3}, 3: {'nothing': 9}, 4: {'nothing': 1}, 6: {'nothing': 4}, 10: {'nothing': 1}, 11: {'nothing': 2}, 12: {'nothing': 1}}, '57ddb2820db2de361757d21b': {0: {'nothing': 1}, 7: {'nothing': 1}, 8: {'nothing': 1}, 9: {'nothing': 1}, 12: {'nothing': 1}, 13: {'nothing': 1}, 14: {'nothing': 1}, 18: {'nothing': 1}, 21: {'nothing': 1}, 26: {'nothing': 1}, 28: {'nothing': 1}, 29: {'nothing': 1}, 31: {'nothing': 1}, 32: {'nothing': 1}}, 'af8454409cde73bead9d1071': {0: {'easy': 1, 'nothing': 2}, 1: {'easy': 7}, 2: {'easy': 8}, 3: {'nothing': 2}, 5: {'nothing': 1}, 8: {'nothing': 2, 'easy': 1}, 10: {'nothing': 2}, 17: {'nothing': 1}, 18: {'nothing': 2}, 19: {'nothing': 4}, 20: {'nothing': 1}, 22: {'nothing': 1}, 24: {'nothing': 1}, 26: {'nothing': 3}, 28: {'nothing': 1}, 29: {'medium': 1}, 30: {'nothing': 2}, 31: {'nothing': 1}, 32: {'nothing': 1}, 33: {'nothing': 1}, 34: {'nothing': 1}, 40: {'nothing': 2}, 41: {'nothing': 1}, 42: {'nothing': 4}, 45: {'nothing': 19}, 51: {'easy': 1}, 55: {'easy': 1, 'nothing': 1}, 56: {'nothing': 1, 'medium': 1}}, 'eccfe39b9019a3f566346399': {0: {'easy': 2}}, 'f32cf25130f6fa751892960e': {0: {'nothing': 10, 'medium': 1, 'easy': 2}, 1: {'nothing': 12}, 2: {'nothing': 1}, 3: {'nothing': 15}, 4: {'nothing': 13}, 5: {'nothing': 13}, 6: {'nothing': 14}, 7: {'nothing': 14, 'hard': 1}, 8: {'nothing': 20}, 9: {'nothing': 10}, 10: {'nothing': 7}, 11: {'nothing': 9}, 12: {'nothing': 19}, 13: {'nothing': 11}, 14: {'nothing': 20}, 15: {'nothing': 14}, 16: {'nothing': 15}, 17: {'nothing': 15}, 18: {'nothing': 18}, 19: {'nothing': 16, 'medium': 1}, 20: {'nothing': 21}, 21: {'nothing': 13}, 22: {'nothing': 16}, 23: {'nothing': 9}, 24: {'nothing': 12}, 25: {'nothing': 5}, 26: {'nothing': 10}, 27: {'nothing': 13}, 28: {'nothing': 21}, 29: {'nothing': 5}, 30: {'nothing': 6, 'easy': 1}, 31: {'nothing': 13}, 32: {'nothing': 15}, 33: {'nothing': 14, 'hard': 1}, 34: {'nothing': 4}, 35: {'nothing': 16}, 36: {'nothing': 24}, 37: {'nothing': 13}, 38: {'nothing': 20}, 39: {'nothing': 11}, 40: {'nothing': 17, 'easy': 1}}, '8f77439cf19de38abfd4a417': {0: {'medium': 1, 'hard': 1}, 1: {'nothing': 1}}, '3bc557eda64de5ff9d2e6fca': {0: {'medium': 1}, 26: {'medium': 1, 'nothing': 4}, 27: {'nothing': 2}}, '16043b6d098957d10448c009': {0: {'medium': 8, 'nothing': 2, 'hard': 3}}, 'edc3437cabf565d7a8c2f96c': {0: {'easy': 1}, 18: {'nothing': 2}, 19: {'nothing': 1}}, '88550c3144f8e1a6e84e83e2': {0: {'medium': 3, 'easy': 6}, 2: {'hard': 1, 'easy': 9}, 3: {'easy': 2, 'nothing': 1, 'medium': 1}, 4: {'easy': 5}, 5: {'easy': 1}, 7: {'easy': 5}, 8: {'easy': 3}, 9: {'easy': 7, 'medium': 3}, 10: {'easy': 4, 'medium': 1}, 11: {'easy': 6}, 12: {'easy': 1, 'medium': 1}, 13: {'easy': 13}, 14: {'easy': 6}, 15: {'easy': 5}, 16: {'easy': 8, 'medium': 2}, 17: {'easy': 2}, 18: {'easy': 9}, 19: {'easy': 7}, 20: {'easy': 14}, 21: {'easy': 2}, 22: {'easy': 2}, 24: {'easy': 2}, 25: {'easy': 1}, 27: {'easy': 6}, 28: {'easy': 5}, 29: {'easy': 12}, 30: {'easy': 6}, 31: {'easy': 1}, 33: {'easy': 15, 'nothing': 1}, 34: {'easy': 2}, 35: {'easy': 2}, 36: {'easy': 10, 'nothing': 1}, 37: {'easy': 4}, 38: {'easy': 1}, 39: {'easy': 1}, 40: {'easy': 4}, 41: {'easy': 4}, 42: {'easy': 4}, 43: {'easy': 4}, 44: {'easy': 7}, 45: {'easy': 7, 'nothing': 2}, 46: {'easy': 4}, 47: {'easy': 1, 'medium': 1}, 48: {'easy': 8, 'hard': 3, 'nothing': 2, 'medium': 1}, 49: {'hard': 1, 'easy': 2}, 50: {'easy': 2}, 51: {'medium': 2, 'easy': 5, 'nothing': 1, 'hard': 1}, 52: {'easy': 2, 'medium': 1, 'hard': 1}, 53: {'nothing': 1}, 54: {'easy': 5, 'nothing': 1}, 55: {'nothing': 4, 'medium': 4, 'easy': 9, 'hard': 2}, 56: {'medium': 3, 'easy': 3, 'nothing': 1}, 57: {'easy': 3}, 58: {'easy': 3, 'nothing': 2, 'hard': 1}, 59: {'medium': 1, 'easy': 3, 'hard': 2, 'nothing': 2}, 60: {'easy': 4, 'nothing': 3, 'hard': 2}, 61: {'easy': 6, 'medium': 2, 'hard': 4, 'nothing': 1}, 62: {'hard': 1, 'nothing': 1, 'medium': 1, 'easy': 2}, 63: {'easy': 4, 'medium': 4, 'nothing': 3, 'hard': 1}, 64: {'easy': 1, 'hard': 3}, 65: {'hard': 1, 'easy': 4, 'medium': 2, 'nothing': 3}, 66: {'nothing': 1}}, '3bc201cd34fc67185861245e': {0: {'nothing': 16}, 1: {'nothing': 1}}, '472a909dcf35ed6f1bc6da82': {0: {'easy': 1}, 1: {'easy': 5}, 3: {'nothing': 1}}, 'f45c319882842376492cffa7': {0: {'hard': 1}}, '150f93e5b7dea556c943813e': {0: {'medium': 2}, 1: {'nothing': 3, 'easy': 3}, 2: {'nothing': 2}, 3: {'nothing': 5}, 4: {'nothing': 1}}, '93b71831840fb44e554b6e36': {0: {'hard': 2, 'easy': 1, 'nothing': 1}, 2: {'medium': 1}, 4: {'easy': 2}, 5: {'nothing': 1}, 10: {'nothing': 2}, 11: {'nothing': 1}, 12: {'easy': 1, 'nothing': 3}, 13: {'nothing': 2}, 14: {'nothing': 2}, 15: {'medium': 1, 'easy': 2}, 18: {'nothing': 4}, 19: {'nothing': 2}, 20: {'nothing': 2}, 21: {'nothing': 1, 'easy': 2}, 22: {'nothing': 1}, 23: {'nothing': 1}, 24: {'easy': 1, 'nothing': 1, 'medium': 1}, 25: {'nothing': 2}, 26: {'nothing': 1}, 27: {'medium': 1, 'easy': 3, 'nothing': 3}, 28: {'easy': 3, 'nothing': 2}, 31: {'easy': 1}, 32: {'nothing': 2}, 33: {'easy': 1}, 40: {'nothing': 1}, 44: {'nothing': 3}, 45: {'nothing': 1, 'medium': 1}, 46: {'easy': 3, 'medium': 2}, 47: {'medium': 1, 'easy': 1, 'nothing': 1}, 48: {'easy': 1}, 50: {'nothing': 2, 'hard': 1, 'easy': 1}, 52: {'easy': 2}}, 'cb266f371364b060f117b6a1': {0: {'easy': 7}, 1: {'easy': 5}, 2: {'easy': 6}, 3: {'easy': 5}, 4: {'easy': 1}, 6: {'easy': 3}, 7: {'easy': 1}, 12: {'easy': 1}, 13: {'easy': 2}, 14: {'easy': 2}, 15: {'easy': 3}, 16: {'easy': 1}, 17: {'easy': 1}, 18: {'easy': 1}, 19: {'easy': 1}, 20: {'easy': 5}, 21: {'easy': 8}, 22: {'easy': 5}, 24: {'easy': 4}, 25: {'easy': 1}, 26: {'easy': 2}, 27: {'easy': 1}, 28: {'easy': 1}, 29: {'easy': 1}, 30: {'easy': 4}, 32: {'easy': 1, 'medium': 1}, 33: {'easy': 1}, 37: {'easy': 2}, 39: {'easy': 1}, 40: {'easy': 4}, 41: {'easy': 1}, 44: {'easy': 5}, 46: {'easy': 3}, 49: {'easy': 1, 'hard': 1}, 51: {'nothing': 1, 'medium': 1, 'easy': 1}, 52: {'easy': 1, 'medium': 1}, 53: {'easy': 1}, 56: {'easy': 1, 'medium': 1}, 59: {'easy': 2}, 64: {'easy': 2}}, '4e69f3aebac131196a8f2912': {0: {'easy': 2, 'nothing': 6}, 2: {'easy': 3}, 3: {'nothing': 9}, 4: {'nothing': 23}, 5: {'nothing': 1}, 15: {'nothing': 2}, 16: {'nothing': 9}, 17: {'nothing': 5}, 18: {'nothing': 5}, 19: {'nothing': 6}, 20: {'nothing': 1}, 21: {'nothing': 5}, 22: {'nothing': 5}, 24: {'nothing': 5}, 26: {'nothing': 3}, 27: {'nothing': 4}, 28: {'nothing': 3}, 29: {'nothing': 2}, 30: {'nothing': 1}, 33: {'nothing': 4, 'easy': 1}, 34: {'nothing': 3}, 35: {'nothing': 3}, 38: {'nothing': 2}, 39: {'nothing': 2}, 40: {'nothing': 4}, 41: {'nothing': 4}, 42: {'nothing': 2}, 43: {'nothing': 1}, 44: {'nothing': 3}, 45: {'nothing': 3}, 46: {'nothing': 1}}, '834ab49ae4351c22a1d49c2d': {0: {'nothing': 1, 'medium': 2}, 7: {'easy': 1}}, '43a6fdadccd61a51caf5b588': {0: {'medium': 3, 'nothing': 4}, 1: {'nothing': 7, 'hard': 1}, 2: {'nothing': 9}, 3: {'nothing': 9}, 4: {'nothing': 12}, 5: {'nothing': 14}, 6: {'nothing': 7}, 7: {'nothing': 11}, 8: {'nothing': 13}, 9: {'nothing': 6}, 10: {'nothing': 13}, 11: {'nothing': 5}, 14: {'nothing': 5}, 16: {'nothing': 15}, 17: {'nothing': 8}, 53: {'nothing': 3, 'easy': 1, 'medium': 1}, 54: {'nothing': 1, 'hard': 1}, 55: {'nothing': 1, 'easy': 1, 'hard': 1}, 56: {'nothing': 3, 'medium': 1}, 57: {'nothing': 1, 'hard': 1}, 58: {'nothing': 1, 'easy': 1}}, '968e70f748b83408bf3a9fa3': {0: {'medium': 1}}, 'f6e9666fa6fd68a8ff0e2781': {0: {'easy': 2, 'medium': 1, 'nothing': 5}, 1: {'hard': 1}, 2: {'hard': 3, 'easy': 1}, 3: {'nothing': 2}, 10: {'nothing': 2}, 17: {'medium': 2}, 18: {'easy': 1}, 19: {'nothing': 1}, 20: {'nothing': 14}, 22: {'easy': 1}, 23: {'nothing': 1}}, '48df425ff6b2910b961070e5': {0: {'hard': 3, 'medium': 3}, 1: {'medium': 7}, 2: {'medium': 11}, 3: {'medium': 11}, 4: {'medium': 16}, 5: {'medium': 17}, 6: {'medium': 11}, 7: {'medium': 2}, 8: {'medium': 5}, 9: {'medium': 10}, 10: {'medium': 15}, 11: {'medium': 5}, 12: {'medium': 19}, 13: {'medium': 15}, 14: {'medium': 8}, 17: {'medium': 5, 'hard': 1}, 18: {'medium': 20}, 19: {'medium': 11}, 20: {'medium': 7}, 21: {'medium': 10}, 22: {'medium': 3}, 23: {'medium': 18}, 24: {'medium': 16}, 25: {'medium': 18, 'easy': 1}, 26: {'medium': 14}, 27: {'medium': 17}}, 'ffdc2b2d686dbf9c8c621b35': {0: {'easy': 2}}, '42564d59c50078ce37d551e1': {0: {'medium': 1}}, '9595707af25dc9cf08d162f2': {0: {'easy': 1, 'medium': 1}, 3: {'easy': 4, 'nothing': 1}, 9: {'easy': 2}, 19: {'nothing': 9}, 32: {'nothing': 2}, 50: {'nothing': 2, 'hard': 1}, 52: {'easy': 1, 'hard': 2, 'medium': 1}, 55: {'medium': 3, 'nothing': 1}, 57: {'medium': 1}, 58: {'medium': 3, 'nothing': 1}, 59: {'medium': 2}, 60: {'medium': 4, 'nothing': 2, 'hard': 1}, 62: {'medium': 3, 'easy': 1}, 63: {'hard': 1}, 64: {'medium': 1, 'hard': 1}}, '414492408538c282663be78d': {0: {'medium': 1, 'easy': 1}, 1: {'easy': 1, 'nothing': 3}, 2: {'nothing': 3}, 3: {'nothing': 2}, 5: {'medium': 1}, 6: {'nothing': 2}, 8: {'nothing': 4}, 9: {'nothing': 2}, 13: {'nothing': 3}, 14: {'nothing': 2}, 15: {'nothing': 2}, 16: {'nothing': 3, 'easy': 1}, 17: {'nothing': 3}, 18: {'nothing': 1}, 19: {'nothing': 2}, 20: {'nothing': 4}, 21: {'nothing': 1}, 22: {'nothing': 3}, 23: {'nothing': 2}, 24: {'nothing': 8}, 25: {'nothing': 1}, 28: {'nothing': 4}, 29: {'nothing': 2}, 31: {'nothing': 4}, 33: {'nothing': 5}, 34: {'nothing': 1}, 35: {'nothing': 8}, 36: {'nothing': 5}, 37: {'nothing': 4}, 38: {'nothing': 2}, 39: {'nothing': 3}, 43: {'nothing': 4}, 45: {'nothing': 3}, 46: {'nothing': 1}, 49: {'nothing': 4, 'easy': 2, 'hard': 1}, 50: {'nothing': 1, 'easy': 1}, 53: {'nothing': 3, 'easy': 1}, 54: {'nothing': 1, 'easy': 1}, 55: {'nothing': 1, 'medium': 1}, 57: {'nothing': 1, 'medium': 1}, 58: {'medium': 2, 'nothing': 5, 'hard': 2, 'easy': 1}, 59: {'nothing': 5, 'medium': 2, 'hard': 1, 'easy': 1}, 60: {'nothing': 1}, 61: {'nothing': 3}, 63: {'nothing': 1, 'medium': 1}, 64: {'nothing': 4, 'medium': 1, 'hard': 2}, 65: {'nothing': 3, 'hard': 1}}, '8880741c0eb16b95ba062848': {0: {'nothing': 2}, 6: {'nothing': 1}, 11: {'nothing': 1}, 13: {'nothing': 2}, 29: {'nothing': 1}, 33: {'easy': 1}}, 'cc43e1c331c9d74bf7b00fc6': {0: {'medium': 8, 'easy': 4}, 1: {'medium': 2}, 2: {'easy': 5, 'medium': 5}, 3: {'medium': 8, 'easy': 10}, 4: {'easy': 3, 'medium': 1}, 5: {'easy': 5, 'medium': 7}, 11: {'easy': 18, 'medium': 2}, 12: {'easy': 15, 'medium': 2}, 13: {'easy': 16}, 14: {'easy': 2}, 15: {'easy': 11}, 16: {'easy': 19}, 17: {'easy': 22}, 18: {'easy': 2}, 19: {'easy': 2}, 20: {'easy': 9}, 21: {'easy': 11}, 22: {'easy': 6}, 23: {'easy': 11}, 24: {'easy': 1}, 25: {'easy': 6}, 26: {'easy': 6}, 27: {'easy': 7}, 28: {'easy': 7}, 29: {'easy': 3}, 30: {'easy': 5}, 31: {'easy': 7, 'nothing': 1}, 32: {'easy': 5}, 33: {'easy': 13}, 34: {'easy': 22}, 35: {'easy': 10}, 36: {'easy': 5}, 38: {'easy': 2}, 39: {'easy': 2}, 40: {'easy': 1}, 42: {'easy': 6}, 43: {'easy': 1}, 44: {'easy': 1}}, 'ae97c36156bb44a178a6519d': {0: {'easy': 1, 'nothing': 4}}, '2065bc9f616de4053a71c97b': {0: {'easy': 7, 'nothing': 1}, 1: {'nothing': 31, 'easy': 4}, 2: {'nothing': 16, 'hard': 1, 'easy': 1}, 3: {'hard': 1, 'nothing': 33}, 4: {'nothing': 23}, 5: {'nothing': 6}, 6: {'nothing': 12}, 7: {'nothing': 12}, 8: {'nothing': 18}, 9: {'nothing': 2}, 11: {'nothing': 14}, 12: {'nothing': 1}, 20: {'nothing': 1}, 23: {'nothing': 7}, 24: {'nothing': 18}, 25: {'nothing': 4}, 26: {'nothing': 2}, 27: {'nothing': 4}, 30: {'nothing': 34, 'easy': 1}, 31: {'nothing': 13, 'hard': 1, 'medium': 2}, 32: {'nothing': 27, 'hard': 1}, 33: {'nothing': 22, 'easy': 1}, 34: {'nothing': 6}, 35: {'nothing': 19}, 36: {'nothing': 8, 'easy': 1}, 37: {'nothing': 7}, 38: {'nothing': 8, 'easy': 1}, 39: {'nothing': 15}, 40: {'nothing': 26}, 41: {'nothing': 32}, 42: {'nothing': 15}, 43: {'nothing': 10, 'easy': 1}, 44: {'nothing': 2}}, '1ac79e4a7430d335fd2995e7': {0: {'medium': 1, 'nothing': 11}, 2: {'nothing': 1}, 3: {'nothing': 4}, 4: {'nothing': 2}, 5: {'nothing': 1}, 6: {'nothing': 8, 'easy': 1}, 7: {'nothing': 5, 'medium': 1}, 8: {'nothing': 2}, 9: {'nothing': 4}, 17: {'nothing': 3}, 18: {'nothing': 5}, 19: {'nothing': 6}, 20: {'nothing': 4}, 22: {'nothing': 5}, 23: {'nothing': 1}, 25: {'nothing': 1}, 27: {'nothing': 5}, 28: {'nothing': 9}, 29: {'nothing': 2}, 30: {'nothing': 9}, 33: {'nothing': 4}, 34: {'nothing': 8, 'easy': 1}, 35: {'nothing': 4}, 37: {'nothing': 2}, 38: {'nothing': 3}, 39: {'nothing': 1}, 41: {'nothing': 21}, 43: {'nothing': 1}, 44: {'nothing': 2}, 45: {'nothing': 2}, 48: {'nothing': 1, 'hard': 1}, 51: {'nothing': 2, 'medium': 1}, 55: {'nothing': 2, 'easy': 2}, 59: {'nothing': 5, 'medium': 1, 'easy': 1}, 61: {'nothing': 1, 'medium': 1}, 62: {'nothing': 3, 'medium': 1, 'easy': 1}, 63: {'nothing': 1, 'medium': 1}}, '99ae501cd07551f9d6628470': {0: {'medium': 4}, 2: {'medium': 5}, 3: {'medium': 3}, 4: {'medium': 1, 'easy': 1}, 6: {'nothing': 1}, 7: {'nothing': 1}, 8: {'nothing': 1}, 9: {'nothing': 5}, 10: {'nothing': 3}, 11: {'nothing': 1}, 12: {'nothing': 3}, 13: {'nothing': 3}, 16: {'nothing': 2}, 17: {'nothing': 2}, 18: {'nothing': 1}, 19: {'nothing': 3}, 20: {'nothing': 3}, 21: {'nothing': 4}, 24: {'nothing': 3}, 25: {'nothing': 1}, 26: {'nothing': 1}, 27: {'nothing': 5}, 28: {'nothing': 7}, 29: {'nothing': 4}, 30: {'nothing': 5}, 31: {'nothing': 3}, 32: {'nothing': 3}, 33: {'nothing': 5}, 34: {'nothing': 2}, 35: {'nothing': 4}, 36: {'nothing': 2}, 37: {'nothing': 3}, 38: {'nothing': 2}, 40: {'nothing': 5}, 42: {'nothing': 4}, 43: {'nothing': 7}, 44: {'nothing': 6, 'hard': 1}, 45: {'nothing': 14, 'hard': 1}, 49: {'nothing': 2}, 51: {'nothing': 3, 'easy': 1, 'medium': 1}, 52: {'nothing': 4, 'medium': 2, 'hard': 1, 'easy': 1}, 53: {'nothing': 2}, 54: {'nothing': 4, 'hard': 1, 'easy': 1}, 59: {'nothing': 4}, 60: {'nothing': 3, 'medium': 1, 'easy': 1}, 61: {'nothing': 6, 'easy': 1, 'hard': 2}, 62: {'easy': 1}, 63: {'nothing': 4, 'easy': 1}, 64: {'nothing': 1, 'easy': 1}}, '477fc312a221a8a498d83e8b': {0: {'medium': 7, 'easy': 1, 'nothing': 16}, 16: {'nothing': 6}, 34: {'nothing': 5}, 35: {'nothing': 8}, 39: {'nothing': 1}, 56: {'medium': 1, 'nothing': 1}, 57: {'nothing': 2}}, '27d2e50244b58e785a4d3706': {0: {'medium': 1, 'easy': 3}, 2: {'easy': 4}}, 'e73a5f909ec0a8c7a457a6c1': {0: {'nothing': 5, 'hard': 1}, 1: {'nothing': 2}, 2: {'nothing': 2}, 3: {'nothing': 1}, 4: {'nothing': 1}}, '8a9efc1c6f47dc441cb499c5': {0: {'nothing': 1}}, 'cd23b0b59ec703eaf9cfcce8': {0: {'nothing': 14}, 1: {'nothing': 13}, 2: {'nothing': 2}, 5: {'nothing': 1}, 6: {'nothing': 2}, 7: {'nothing': 4}, 8: {'nothing': 6}, 9: {'nothing': 6, 'hard': 1}, 10: {'nothing': 4}, 11: {'nothing': 3}, 12: {'nothing': 2}, 13: {'nothing': 3}, 14: {'nothing': 5}, 15: {'nothing': 11, 'easy': 1}, 16: {'nothing': 7}, 17: {'nothing': 9}, 18: {'nothing': 6}, 19: {'nothing': 3}, 20: {'nothing': 2}, 21: {'nothing': 1}, 22: {'nothing': 4}, 23: {'nothing': 11}, 24: {'nothing': 5}, 25: {'nothing': 5}, 26: {'nothing': 3}, 27: {'nothing': 9}, 28: {'nothing': 6}, 29: {'nothing': 7}, 30: {'nothing': 7}, 31: {'nothing': 10}, 32: {'nothing': 3}, 33: {'nothing': 13}, 34: {'nothing': 8}, 35: {'nothing': 12}, 36: {'nothing': 8}, 37: {'nothing': 7, 'hard': 1}, 38: {'nothing': 7}, 39: {'nothing': 18}, 40: {'nothing': 12}, 41: {'nothing': 3}, 42: {'nothing': 5}, 43: {'nothing': 4}, 44: {'nothing': 10}, 45: {'nothing': 10}, 46: {'nothing': 2, 'hard': 1, 'medium': 1}, 47: {'nothing': 1}, 48: {'nothing': 1, 'hard': 1}, 51: {'nothing': 2, 'medium': 3, 'hard': 1}, 52: {'nothing': 2, 'easy': 2}, 53: {'nothing': 3, 'hard': 1, 'medium': 1}, 55: {'nothing': 3, 'hard': 1}, 57: {'nothing': 1, 'hard': 1}, 59: {'medium': 1}, 61: {'nothing': 1}}, '44c348106c62c885c6b3effa': {0: {'easy': 2, 'nothing': 5}, 1: {'nothing': 9}, 2: {'nothing': 2}}, '7160b96f9caf24961e8b6f91': {0: {'easy': 2, 'medium': 11, 'hard': 4}, 1: {'hard': 3}, 2: {'medium': 4}, 3: {'hard': 1, 'medium': 3}, 4: {'medium': 8, 'hard': 2}, 5: {'medium': 10}, 6: {'medium': 4, 'hard': 3}, 7: {'hard': 1, 'medium': 1}, 9: {'medium': 2}, 12: {'medium': 4}, 13: {'medium': 1}, 14: {'medium': 1}, 26: {'medium': 4, 'hard': 1}, 27: {'medium': 5}, 28: {'medium': 6}, 31: {'medium': 1}, 32: {'medium': 4}, 33: {'medium': 1}, 34: {'medium': 1}, 35: {'medium': 2}, 36: {'medium': 3}, 37: {'medium': 2}, 39: {'medium': 4}, 40: {'medium': 3}, 41: {'medium': 4}, 42: {'medium': 7}, 43: {'medium': 2}, 44: {'medium': 1}, 45: {'medium': 7, 'nothing': 2}}, 'c8a439104ae6135a8d238ca1': {0: {'medium': 7, 'easy': 5, 'nothing': 31}, 1: {'nothing': 32}, 2: {'nothing': 52}, 3: {'nothing': 25}, 4: {'nothing': 23}, 5: {'nothing': 24}, 9: {'nothing': 61}, 10: {'nothing': 68}, 11: {'nothing': 43}, 17: {'nothing': 24}, 18: {'nothing': 46}, 21: {'nothing': 20}, 22: {'nothing': 16}, 23: {'nothing': 23}, 24: {'nothing': 20}, 25: {'nothing': 21}, 26: {'nothing': 33, 'easy': 1}, 27: {'nothing': 31}, 28: {'nothing': 19}, 29: {'nothing': 22}, 30: {'nothing': 25}, 31: {'nothing': 14}, 32: {'nothing': 30}, 35: {'nothing': 48}, 36: {'nothing': 21}, 37: {'nothing': 55}, 38: {'nothing': 65}, 39: {'nothing': 50}, 40: {'nothing': 22}, 45: {'nothing': 6, 'hard': 1}, 49: {'nothing': 5}, 50: {'nothing': 2, 'hard': 1, 'easy': 1}, 51: {'nothing': 9, 'medium': 3, 'easy': 1, 'hard': 1}, 52: {'nothing': 5, 'easy': 4, 'hard': 1, 'medium': 1}, 53: {'nothing': 4, 'hard': 1, 'medium': 1}, 56: {'nothing': 2, 'medium': 1, 'easy': 1}, 60: {'nothing': 2}, 61: {'nothing': 2}, 63: {'nothing': 2, 'hard': 1}, 64: {'nothing': 5, 'medium': 1, 'hard': 1, 'easy': 2}}, '72f5c45c3921ea89a1a070cf': {0: {'easy': 2, 'nothing': 1, 'medium': 1}, 1: {'nothing': 4}, 2: {'nothing': 7}, 3: {'nothing': 2}, 4: {'nothing': 6}, 5: {'nothing': 8}, 6: {'nothing': 3}}, '5807cd69de50a9fde8613946': {0: {'nothing': 5}}, 'dbfd8358a8e4c0c155ddf332': {0: {'easy': 2}}, 'e3b19f3c864f8dd7af248d02': {0: {'nothing': 7}, 52: {'easy': 1, 'hard': 1}}, 'c45b56ed25e74bb9d2f17153': {0: {'nothing': 6, 'easy': 3}, 1: {'nothing': 2}, 3: {'nothing': 13}, 4: {'nothing': 6}, 5: {'nothing': 1}, 6: {'nothing': 4}, 7: {'nothing': 6}, 8: {'nothing': 11}, 9: {'nothing': 6}, 10: {'nothing': 2}, 11: {'nothing': 1}, 27: {'nothing': 1}, 28: {'nothing': 2}}, '2c2e34667d6161f4353e50bd': {0: {'medium': 2, 'hard': 1, 'nothing': 3}, 2: {'medium': 1, 'hard': 3}, 3: {'hard': 1}, 4: {'hard': 1}, 7: {'hard': 2}, 9: {'hard': 3}, 11: {'hard': 1, 'nothing': 1}, 12: {'hard': 1}, 15: {'hard': 9}, 19: {'hard': 3}, 20: {'nothing': 2, 'hard': 15}, 21: {'hard': 10}, 22: {'hard': 10}, 23: {'hard': 13}, 24: {'hard': 10}, 25: {'hard': 3}, 26: {'hard': 6}, 27: {'hard': 1}, 28: {'hard': 21}, 29: {'hard': 10}, 30: {'hard': 16}, 31: {'hard': 7}, 32: {'hard': 14}, 33: {'hard': 2}, 34: {'hard': 4}, 35: {'hard': 2}, 36: {'hard': 10}, 37: {'hard': 11}, 38: {'hard': 12}}, '985c495eb782988f1c1dfe8f': {0: {'medium': 5, 'nothing': 14}, 1: {'nothing': 5}, 2: {'nothing': 4}, 4: {'nothing': 5}, 6: {'nothing': 1}, 7: {'nothing': 1}, 9: {'nothing': 2}, 10: {'nothing': 1}, 15: {'nothing': 1}, 16: {'nothing': 9}, 17: {'nothing': 13}, 18: {'nothing': 6}, 19: {'nothing': 16}, 20: {'nothing': 6}, 21: {'nothing': 8}, 22: {'nothing': 11}, 23: {'nothing': 3}, 24: {'nothing': 1}, 25: {'nothing': 7}, 29: {'nothing': 21}}, '6e7271d2eeace3391528efea': {0: {'easy': 16}, 1: {'easy': 2}, 32: {'easy': 16}, 33: {'medium': 5, 'easy': 2, 'nothing': 9}, 35: {'medium': 11, 'easy': 20}, 36: {'easy': 8}, 37: {'easy': 7}, 38: {'easy': 2}, 39: {'easy': 6}, 42: {'easy': 60}, 43: {'easy': 16}}, '0b5612a2c7f38244ca47fd61': {0: {'medium': 1, 'easy': 1}}, 'c51926d259247f8b31c0d01b': {0: {'nothing': 5, 'hard': 1, 'easy': 5, 'medium': 1}, 1: {'nothing': 10}, 2: {'nothing': 7}, 3: {'nothing': 9}, 4: {'nothing': 4}, 5: {'nothing': 7}, 6: {'nothing': 4}, 7: {'nothing': 13}, 8: {'nothing': 5}, 9: {'nothing': 10}, 10: {'nothing': 4}, 11: {'nothing': 3}, 12: {'nothing': 7}, 13: {'nothing': 8}, 14: {'nothing': 8}, 15: {'nothing': 6, 'easy': 1}, 16: {'nothing': 3}, 18: {'nothing': 1, 'easy': 1}, 20: {'nothing': 5}, 21: {'nothing': 2}, 22: {'nothing': 8}, 23: {'nothing': 6}, 33: {'hard': 1}, 34: {'nothing': 3}, 35: {'nothing': 4}, 36: {'nothing': 13, 'easy': 1}, 37: {'nothing': 1}, 38: {'nothing': 3}, 39: {'nothing': 5}, 40: {'nothing': 5}, 41: {'nothing': 9}, 42: {'nothing': 7}, 43: {'nothing': 5, 'easy': 1}, 51: {'medium': 1, 'easy': 1}, 52: {'hard': 2, 'nothing': 1}, 55: {'nothing': 1, 'easy': 1}}, 'de00ba2c05cfd1b40e7e2a67': {0: {'easy': 1}}, '0c3c86bf011cfb8aa394fc90': {0: {'medium': 2, 'nothing': 5}, 1: {'nothing': 3}, 2: {'nothing': 5}, 8: {'nothing': 2}, 9: {'nothing': 1}, 10: {'nothing': 4}, 21: {'nothing': 5}, 30: {'nothing': 14}, 32: {'nothing': 8}, 33: {'nothing': 10}, 34: {'nothing': 11}, 35: {'nothing': 9}, 36: {'nothing': 3}, 37: {'nothing': 5}, 38: {'nothing': 1}, 44: {'nothing': 3, 'medium': 1, 'easy': 1, 'hard': 1}, 45: {'nothing': 5, 'medium': 1, 'hard': 1}, 47: {'nothing': 3, 'easy': 2, 'hard': 1}, 48: {'nothing': 2}, 49: {'nothing': 1, 'medium': 1}, 51: {'nothing': 1, 'medium': 1}, 52: {'nothing': 4, 'easy': 1, 'hard': 1}, 53: {'nothing': 9, 'hard': 2, 'easy': 2, 'medium': 1}, 54: {'nothing': 3, 'hard': 1}, 55: {'nothing': 3, 'hard': 1, 'medium': 1, 'easy': 1}, 56: {'nothing': 2, 'easy': 1, 'hard': 1}, 57: {'nothing': 2, 'medium': 2}, 60: {'nothing': 5, 'easy': 1, 'medium': 3}, 61: {'nothing': 2, 'hard': 1, 'medium': 1}, 62: {'nothing': 6, 'easy': 3, 'hard': 1, 'medium': 1}}, 'a58ea19013c2d420d924cbbd': {0: {'nothing': 1}}, 'e17cd451743b03db3b1b12f1': {0: {'medium': 3}, 2: {'easy': 1}, 3: {'easy': 1, 'medium': 4}, 4: {'medium': 2}, 5: {'medium': 6}, 6: {'medium': 3}, 7: {'medium': 7}, 8: {'medium': 2}, 9: {'medium': 2}, 10: {'medium': 8}, 11: {'medium': 4}, 12: {'medium': 4}, 13: {'medium': 10}, 14: {'medium': 6}, 15: {'medium': 6}, 16: {'medium': 6}, 17: {'medium': 18}, 18: {'medium': 1}, 20: {'medium': 7}, 22: {'medium': 1}, 23: {'medium': 10}, 24: {'medium': 8}, 25: {'medium': 1}, 26: {'medium': 1}, 27: {'medium': 3}, 28: {'medium': 1}, 29: {'medium': 5}, 30: {'medium': 3}, 32: {'medium': 3}, 33: {'medium': 5}, 34: {'medium': 6}, 35: {'medium': 4}, 36: {'medium': 7}, 37: {'medium': 1}, 38: {'medium': 4}, 39: {'medium': 5}, 40: {'medium': 4}, 41: {'medium': 6}, 42: {'medium': 2}, 43: {'medium': 2}, 44: {'medium': 3}, 45: {'medium': 1}, 48: {'medium': 1}, 61: {'hard': 1, 'nothing': 2, 'medium': 3}}, 'b8da967436ced79e238b0d3f': {0: {'nothing': 1}, 1: {'nothing': 10}}, 'a8f24c7df63230017f993bbf': {0: {'easy': 1}, 1: {'easy': 2}, 2: {'nothing': 1, 'easy': 2}, 4: {'easy': 1}, 5: {'easy': 1}, 6: {'easy': 2}, 7: {'easy': 4}, 14: {'easy': 5}, 16: {'easy': 2}, 17: {'easy': 3}, 18: {'easy': 8}, 20: {'easy': 3}, 21: {'easy': 1}, 22: {'easy': 4}, 25: {'easy': 6, 'nothing': 6}, 29: {'easy': 6}, 30: {'easy': 9}, 31: {'easy': 4}, 35: {'easy': 1}, 36: {'easy': 3}, 37: {'easy': 2}, 38: {'easy': 4}, 39: {'easy': 3}, 40: {'easy': 1}, 42: {'easy': 1}, 46: {'easy': 2, 'medium': 1, 'hard': 1}, 47: {'easy': 4, 'hard': 2}, 48: {'easy': 1, 'hard': 1}}, 'ddf940c5bd003122c7290b7b': {0: {'medium': 1, 'nothing': 13}, 1: {'nothing': 2}}, '3445cf61b95a85b8aff8fc1a': {0: {'nothing': 4, 'easy': 1}, 2: {'nothing': 6}, 3: {'nothing': 3}, 4: {'nothing': 2}}, 'cff14bf15eac18ae5c30e0c7': {0: {'nothing': 3}, 2: {'nothing': 1}, 4: {'nothing': 1}, 5: {'nothing': 2}, 7: {'nothing': 4}, 8: {'nothing': 3}, 10: {'nothing': 2}, 11: {'nothing': 4}, 14: {'nothing': 2}, 15: {'nothing': 3}, 16: {'nothing': 1}}, '9db0c0d2fffc23836134ade0': {0: {'medium': 1}, 1: {'nothing': 2, 'easy': 1}, 2: {'nothing': 2}, 3: {'nothing': 3, 'hard': 2}, 4: {'nothing': 2}, 5: {'nothing': 6}, 6: {'medium': 8, 'nothing': 1, 'easy': 4}, 18: {'nothing': 2}, 23: {'nothing': 3}, 25: {'medium': 2, 'nothing': 1}, 27: {'nothing': 1}, 28: {'nothing': 3}, 30: {'nothing': 2}, 31: {'nothing': 11}, 32: {'nothing': 1}, 33: {'nothing': 1}, 34: {'nothing': 1}, 36: {'nothing': 1}, 38: {'nothing': 1}, 40: {'nothing': 2}, 44: {'nothing': 3}, 45: {'nothing': 2}, 46: {'nothing': 1, 'medium': 1}, 47: {'nothing': 3, 'easy': 2, 'medium': 1}, 48: {'nothing': 3, 'easy': 1}, 51: {'hard': 1}, 52: {'nothing': 1, 'hard': 1}}, 'a94ee2df5080dead6c550d8e': {0: {'easy': 2, 'nothing': 1}, 1: {'nothing': 3}, 2: {'nothing': 2}, 3: {'nothing': 7}, 4: {'nothing': 2}, 5: {'nothing': 3}, 6: {'nothing': 3, 'easy': 1}, 8: {'nothing': 1}, 9: {'nothing': 1}, 10: {'nothing': 2}, 11: {'nothing': 5}, 13: {'nothing': 4}, 14: {'nothing': 1}, 15: {'nothing': 6}, 16: {'nothing': 2}, 17: {'nothing': 2}, 19: {'nothing': 3}, 20: {'nothing': 2}, 21: {'nothing': 3}, 22: {'nothing': 3}, 23: {'nothing': 1}, 24: {'nothing': 1}, 25: {'nothing': 1}, 27: {'nothing': 2}, 28: {'nothing': 2}, 29: {'nothing': 2}, 30: {'nothing': 3}, 31: {'nothing': 2}, 34: {'nothing': 3}, 35: {'nothing': 2}, 36: {'nothing': 1}, 37: {'nothing': 1}, 38: {'nothing': 6}, 39: {'nothing': 8}, 41: {'nothing': 1}, 42: {'nothing': 3}, 43: {'hard': 1, 'nothing': 2, 'easy': 1, 'medium': 1}, 45: {'nothing': 2}, 48: {'nothing': 1}, 7: {'nothing': 1}, 32: {'nothing': 1}, 44: {'nothing': 1, 'medium': 1}, 46: {'nothing': 1, 'medium': 1}}, '445e63dc885d056704000094': {0: {'easy': 1}, 40: {'easy': 1}, 42: {'nothing': 7}}, '2a001388f0e6ef2e903cbf32': {0: {'hard': 3, 'nothing': 1}, 2: {'hard': 1}, 4: {'hard': 1}, 5: {'medium': 1}, 6: {'hard': 4, 'medium': 2, 'nothing': 1}, 7: {'hard': 3}, 9: {'hard': 2}, 11: {'hard': 1}, 12: {'hard': 1}, 13: {'hard': 3}, 14: {'hard': 1}, 15: {'hard': 2}, 18: {'hard': 1}, 19: {'hard': 2}, 21: {'hard': 2}, 22: {'medium': 3}, 25: {'hard': 1, 'medium': 1}, 26: {'hard': 3}, 27: {'hard': 1}, 30: {'hard': 1}, 36: {'hard': 1}, 37: {'hard': 1, 'medium': 1}, 38: {'easy': 1}, 39: {'easy': 1}, 40: {'hard': 1}, 41: {'medium': 1}, 42: {'nothing': 1}, 43: {'nothing': 2}, 45: {'medium': 2}, 46: {'nothing': 2}, 52: {'nothing': 2, 'hard': 1}, 56: {'nothing': 1, 'medium': 1}, 59: {'easy': 1}, 60: {'nothing': 1, 'medium': 1}}, '5e2b24f0e57b4c3f31a63f05': {0: {'hard': 1, 'nothing': 8}, 1: {'nothing': 1}, 2: {'nothing': 3}, 3: {'nothing': 2}, 4: {'nothing': 3}, 5: {'nothing': 2}, 8: {'nothing': 4}, 9: {'nothing': 1}, 13: {'nothing': 3}, 16: {'nothing': 4}, 19: {'nothing': 3}, 20: {'nothing': 1}, 27: {'nothing': 1}, 33: {'nothing': 2}, 35: {'nothing': 1}}, '44697bb34e4dcc1ca89816c0': {0: {'easy': 6}, 1: {'easy': 7}, 2: {'easy': 9}, 9: {'easy': 7}, 11: {'easy': 1}, 12: {'easy': 1}, 13: {'easy': 1}, 14: {'easy': 1}, 15: {'easy': 4}, 16: {'easy': 2}, 19: {'easy': 5}, 20: {'easy': 5}, 21: {'easy': 1}, 22: {'easy': 1}, 23: {'easy': 8}, 24: {'easy': 4}, 26: {'easy': 1}, 27: {'easy': 2}, 28: {'easy': 2}, 29: {'easy': 2}, 30: {'easy': 7}, 31: {'easy': 3}, 36: {'easy': 2}, 37: {'easy': 8}, 38: {'easy': 2}, 48: {'easy': 2}, 49: {'hard': 1, 'medium': 1, 'easy': 1, 'nothing': 1}, 51: {'medium': 3, 'easy': 3, 'nothing': 1, 'hard': 1}, 52: {'easy': 3, 'nothing': 1}, 55: {'easy': 2, 'medium': 1, 'nothing': 2}, 56: {'easy': 1, 'hard': 1, 'medium': 1}, 58: {'medium': 1}}, '555b90517021ddd0d1e5f244': {0: {'medium': 2}, 1: {'medium': 1}, 2: {'easy': 1}, 3: {'nothing': 1}, 5: {'medium': 3, 'nothing': 1}, 6: {'medium': 3}, 7: {'easy': 1}, 8: {'medium': 1}, 9: {'medium': 3}, 13: {'medium': 1}, 15: {'medium': 1}, 16: {'nothing': 4}, 19: {'medium': 1, 'nothing': 2}, 26: {'medium': 1}, 27: {'nothing': 1}, 29: {'nothing': 1}, 31: {'nothing': 1}, 42: {'nothing': 1}, 43: {'nothing': 1}}, 'e3413f3835048fe5462e9ac1': {0: {'easy': 3, 'nothing': 1}, 1: {'nothing': 2}, 2: {'easy': 3, 'nothing': 4}, 3: {'easy': 3, 'nothing': 1}, 4: {'easy': 8}, 5: {'easy': 1}, 6: {'easy': 2}, 7: {'easy': 3}, 8: {'easy': 7}, 9: {'easy': 1}, 10: {'easy': 1}, 11: {'easy': 1}, 12: {'easy': 4, 'medium': 1}, 13: {'easy': 3}, 14: {'easy': 3}, 15: {'easy': 2}, 16: {'easy': 3}, 17: {'easy': 1}, 18: {'easy': 7}, 19: {'easy': 7}, 20: {'easy': 3}, 22: {'easy': 1}, 23: {'easy': 5}, 24: {'easy': 1}, 25: {'easy': 3}, 27: {'easy': 2}, 28: {'easy': 2}, 30: {'easy': 1}, 31: {'easy': 1}, 33: {'easy': 2}, 34: {'easy': 2}, 35: {'easy': 4}, 37: {'easy': 2}, 38: {'easy': 3}, 42: {'easy': 2}, 43: {'easy': 2}}, '968bfaf545d6514c368e74cf': {0: {'nothing': 1}, 3: {'nothing': 7}}, '3d70152102246362b29edb44': {0: {'easy': 2, 'nothing': 2}, 1: {'nothing': 1}, 2: {'nothing': 2}, 3: {'nothing': 3}, 5: {'nothing': 4}, 6: {'nothing': 1}, 7: {'nothing': 2}, 8: {'nothing': 3}, 9: {'nothing': 6}, 10: {'nothing': 1}, 11: {'nothing': 4}, 12: {'nothing': 5}}, '070ec62756f62335a8ee400d': {0: {'medium': 3, 'hard': 2}, 1: {'hard': 1, 'medium': 1}, 2: {'medium': 5, 'hard': 4}, 3: {'nothing': 2}, 4: {'nothing': 1}, 5: {'hard': 1, 'nothing': 4}, 6: {'nothing': 9, 'medium': 1}, 7: {'nothing': 4}, 8: {'nothing': 10}, 9: {'hard': 1, 'medium': 3, 'nothing': 1}, 10: {'nothing': 1}, 11: {'nothing': 7, 'easy': 2, 'medium': 1}, 12: {'nothing': 2}, 13: {'nothing': 1}, 14: {'medium': 3, 'easy': 3}, 15: {'nothing': 3, 'easy': 1, 'hard': 1}, 16: {'nothing': 3}, 17: {'nothing': 5, 'medium': 1}, 18: {'nothing': 1}, 19: {'medium': 1, 'nothing': 1}, 20: {'nothing': 3, 'medium': 1}, 21: {'medium': 2, 'nothing': 5}, 22: {'nothing': 4}, 23: {'nothing': 2}, 24: {'nothing': 1}, 25: {'medium': 2, 'hard': 1}, 26: {'nothing': 6}, 27: {'nothing': 2, 'medium': 2}, 28: {'nothing': 1, 'easy': 1}, 29: {'nothing': 6}, 30: {'nothing': 7}, 31: {'nothing': 14, 'easy': 1}, 32: {'nothing': 5, 'medium': 1}, 33: {'nothing': 3}, 34: {'nothing': 3}, 35: {'nothing': 5}, 36: {'nothing': 2}, 38: {'nothing': 1}, 40: {'nothing': 1}, 41: {'nothing': 3}, 42: {'nothing': 1}, 43: {'medium': 1, 'nothing': 3}, 44: {'nothing': 1, 'medium': 1}, 46: {'nothing': 1, 'hard': 1}, 47: {'nothing': 4, 'medium': 1, 'easy': 2}, 48: {'nothing': 3}, 49: {'nothing': 2}, 50: {'medium': 1, 'easy': 1, 'nothing': 2, 'hard': 2}, 51: {'nothing': 1}, 52: {'nothing': 3, 'medium': 1, 'hard': 1, 'easy': 1}, 53: {'nothing': 5, 'easy': 2, 'hard': 1, 'medium': 1}, 54: {'nothing': 4}, 55: {'nothing': 3, 'easy': 1, 'hard': 1}, 56: {'nothing': 2, 'easy': 2}, 57: {'nothing': 2, 'hard': 1, 'medium': 1, 'easy': 1}, 58: {'nothing': 4}, 61: {'nothing': 1, 'hard': 1}}, '5181f211fcb17b02ca77d128': {0: {'hard': 1, 'nothing': 7}, 5: {'nothing': 1}, 1: {'nothing': 1}, 2: {'nothing': 1}, 3: {'nothing': 4}, 6: {'nothing': 2}, 7: {'nothing': 1}, 8: {'nothing': 8}, 9: {'nothing': 2}, 10: {'nothing': 5}, 12: {'nothing': 1}, 13: {'nothing': 4}, 16: {'nothing': 1}, 17: {'nothing': 5}, 29: {'nothing': 2}, 31: {'nothing': 3}, 34: {'nothing': 1}, 36: {'nothing': 1}, 38: {'nothing': 3}, 39: {'nothing': 2}, 41: {'nothing': 2}, 42: {'nothing': 11}, 43: {'nothing': 1}}, '5817af6822a2dc632842ca97': {0: {'hard': 2}, 1: {'hard': 2, 'nothing': 7}, 2: {'nothing': 2}, 3: {'nothing': 2}, 4: {'nothing': 2}, 5: {'nothing': 3}, 6: {'nothing': 2}, 7: {'nothing': 3}, 8: {'nothing': 2}, 13: {'nothing': 3}, 14: {'nothing': 4}, 15: {'nothing': 4}, 16: {'nothing': 2}, 17: {'nothing': 2}, 22: {'nothing': 6}, 23: {'nothing': 5}, 24: {'nothing': 2}, 25: {'nothing': 1}, 26: {'nothing': 2}, 27: {'nothing': 6}, 28: {'nothing': 4}, 29: {'nothing': 1}, 30: {'nothing': 5}, 31: {'nothing': 1}, 32: {'nothing': 2}, 33: {'nothing': 5}, 34: {'nothing': 9}, 35: {'nothing': 3}, 36: {'nothing': 3}, 37: {'nothing': 7}, 38: {'nothing': 2}, 39: {'nothing': 2}, 40: {'nothing': 3}, 41: {'nothing': 4}, 42: {'nothing': 6}, 43: {'nothing': 3}, 44: {'nothing': 7}, 45: {'nothing': 3}, 46: {'nothing': 4}, 50: {'nothing': 2}}, '834c1c64bc6244f4e3159e12': {0: {'nothing': 1}, 3: {'easy': 1}, 6: {'nothing': 2}, 7: {'nothing': 1, 'easy': 1}}, 'c362a207b09426ac3e2b8047': {0: {'medium': 1}, 1: {'easy': 2}, 7: {'easy': 1}, 12: {'nothing': 1}, 24: {'nothing': 1}, 42: {'nothing': 1}}, 'd9610cfe99c17030165a4a28': {0: {'easy': 2, 'nothing': 1}, 2: {'nothing': 1}, 3: {'nothing': 1}, 13: {'nothing': 2}, 14: {'nothing': 2}, 15: {'nothing': 9, 'easy': 1}, 16: {'nothing': 5, 'easy': 1}, 17: {'nothing': 6}, 18: {'nothing': 13}, 19: {'nothing': 8}, 20: {'nothing': 4}, 21: {'nothing': 9}, 22: {'nothing': 4}, 23: {'nothing': 2}, 24: {'nothing': 9}, 26: {'nothing': 2}, 27: {'nothing': 6}, 28: {'nothing': 3}, 29: {'nothing': 2}, 32: {'nothing': 8}, 33: {'nothing': 3}, 34: {'nothing': 8}, 35: {'nothing': 4}, 36: {'nothing': 7}, 37: {'nothing': 10}, 38: {'nothing': 2}, 39: {'nothing': 3}, 40: {'nothing': 5}, 41: {'nothing': 2}}, '143884c8a472dddd4f695d0a': {0: {'medium': 2}}, '464d88e56a470bc0e67b7ff2': {0: {'easy': 1, 'nothing': 1}, 1: {'nothing': 2}, 2: {'nothing': 4}, 3: {'nothing': 4}, 4: {'nothing': 15}, 5: {'nothing': 3}, 6: {'nothing': 1}, 8: {'nothing': 1}, 9: {'nothing': 2}, 12: {'nothing': 1}, 13: {'nothing': 2}, 14: {'nothing': 4}, 15: {'nothing': 7}, 16: {'nothing': 2}, 17: {'nothing': 1}, 18: {'nothing': 1}, 19: {'nothing': 4}, 20: {'nothing': 3}, 22: {'nothing': 2}, 23: {'nothing': 2}, 24: {'nothing': 4}, 25: {'nothing': 1}, 26: {'nothing': 2}, 27: {'nothing': 2}, 28: {'nothing': 4}, 29: {'nothing': 2}, 30: {'nothing': 2}, 31: {'nothing': 2}, 33: {'nothing': 1}, 36: {'nothing': 3}, 40: {'nothing': 4}, 43: {'nothing': 3, 'hard': 1}, 47: {'nothing': 1, 'hard': 1}}, '78a0961bc6e192e1eb51b821': {0: {'nothing': 1}, 4: {'nothing': 2}, 5: {'nothing': 1}, 7: {'nothing': 1}, 9: {'nothing': 6}, 11: {'nothing': 1}, 12: {'nothing': 1}, 13: {'nothing': 3}, 14: {'nothing': 1}, 25: {'nothing': 4}, 27: {'nothing': 2}, 30: {'nothing': 2}, 31: {'nothing': 2}, 33: {'nothing': 4}, 34: {'nothing': 7}, 35: {'nothing': 1}, 36: {'nothing': 4}, 38: {'nothing': 3}, 39: {'nothing': 2}, 40: {'nothing': 2}, 41: {'nothing': 3}, 44: {'nothing': 7}, 46: {'nothing': 1}, 47: {'nothing': 1}, 53: {'nothing': 3, 'hard': 2, 'easy': 1}, 61: {'nothing': 1, 'hard': 1}}, '9a38840cee368f821e4ab4a5': {0: {'easy': 2, 'nothing': 4}, 1: {'nothing': 11}, 2: {'nothing': 20, 'easy': 1}, 3: {'nothing': 14}, 4: {'nothing': 20}, 5: {'nothing': 7}, 6: {'nothing': 16}, 7: {'nothing': 8, 'easy': 1}, 8: {'nothing': 8}, 9: {'nothing': 14, 'easy': 1}, 11: {'nothing': 1}, 12: {'nothing': 3}, 13: {'nothing': 3}, 16: {'nothing': 2}, 17: {'nothing': 4}, 18: {'nothing': 2}, 21: {'nothing': 3}, 22: {'nothing': 7}, 23: {'nothing': 11, 'easy': 1}, 25: {'nothing': 4}, 27: {'nothing': 6}, 28: {'nothing': 9}, 29: {'nothing': 4}, 31: {'nothing': 7, 'easy': 1}, 33: {'nothing': 12}, 34: {'nothing': 9}, 35: {'nothing': 6}, 36: {'nothing': 3}, 37: {'nothing': 5}, 38: {'nothing': 5}, 39: {'nothing': 4}, 40: {'nothing': 11, 'easy': 2}, 56: {'nothing': 5, 'easy': 1}, 57: {'nothing': 9, 'medium': 6, 'easy': 4, 'hard': 3}, 58: {'easy': 6, 'medium': 7, 'nothing': 16, 'hard': 7}, 59: {'nothing': 15, 'medium': 3, 'easy': 3, 'hard': 4}, 60: {'nothing': 9, 'medium': 2, 'easy': 2, 'hard': 2}, 63: {'nothing': 8, 'hard': 1, 'medium': 1}}, '3559dfb8ab9268d1dca444f5': {0: {'medium': 6}, 1: {'easy': 7}, 2: {'easy': 2}, 3: {'easy': 1}, 4: {'easy': 1}, 5: {'easy': 1}, 6: {'easy': 6}, 7: {'easy': 1}, 9: {'easy': 4}, 10: {'easy': 1}, 13: {'nothing': 4}, 14: {'nothing': 4}, 16: {'easy': 4, 'nothing': 1}, 17: {'nothing': 2}, 18: {'easy': 1, 'nothing': 9}, 19: {'nothing': 1}, 20: {'nothing': 7}, 21: {'nothing': 1}, 22: {'nothing': 1}, 23: {'nothing': 1}, 26: {'nothing': 4}, 29: {'nothing': 2}, 30: {'nothing': 2}, 31: {'nothing': 1}, 33: {'nothing': 1}, 34: {'nothing': 1, 'easy': 1}, 35: {'nothing': 4}, 36: {'nothing': 9, 'medium': 1}, 37: {'nothing': 5, 'easy': 1}, 38: {'nothing': 4}, 39: {'nothing': 10, 'easy': 1}, 40: {'nothing': 4}, 41: {'nothing': 10}, 42: {'nothing': 5}, 43: {'nothing': 4, 'medium': 2}, 45: {'easy': 1, 'medium': 1}, 53: {'nothing': 1, 'easy': 1}, 54: {'easy': 1, 'medium': 5, 'hard': 1, 'nothing': 1}, 55: {'nothing': 1, 'medium': 1}, 57: {'nothing': 1, 'medium': 1}}, '74a0da0f877038bd2fc48b68': {0: {'nothing': 19}, 1: {'nothing': 14}, 2: {'nothing': 8}, 3: {'nothing': 15}, 4: {'nothing': 11}, 5: {'nothing': 5}, 6: {'nothing': 11, 'easy': 1}, 7: {'nothing': 17}, 8: {'nothing': 16}, 9: {'nothing': 7}, 10: {'nothing': 20}, 11: {'nothing': 20}, 12: {'nothing': 7}, 13: {'nothing': 6}, 14: {'nothing': 12}, 15: {'nothing': 14}, 16: {'nothing': 9}, 17: {'nothing': 4}, 23: {'easy': 1, 'nothing': 1}, 24: {'nothing': 20}, 25: {'nothing': 10}, 26: {'nothing': 7}, 27: {'nothing': 6}, 28: {'nothing': 6}, 29: {'nothing': 7}, 30: {'nothing': 15}, 31: {'nothing': 14}, 34: {'nothing': 1}, 35: {'nothing': 19}, 36: {'nothing': 4}, 37: {'nothing': 19}, 38: {'nothing': 19}, 39: {'nothing': 2}, 40: {'nothing': 9}, 41: {'nothing': 6}, 42: {'nothing': 7}, 43: {'nothing': 12}, 44: {'nothing': 7, 'medium': 1}, 45: {'nothing': 10, 'medium': 3, 'easy': 2, 'hard': 1}, 46: {'nothing': 6, 'hard': 3, 'medium': 1, 'easy': 1}, 47: {'nothing': 4, 'medium': 3, 'hard': 3, 'easy': 2}, 48: {'nothing': 4, 'easy': 1}, 49: {'nothing': 9, 'medium': 4, 'hard': 1, 'easy': 4}, 50: {'nothing': 11, 'medium': 3, 'easy': 6}, 51: {'nothing': 2, 'easy': 4, 'medium': 2}, 52: {'nothing': 10, 'hard': 2, 'medium': 3, 'easy': 2}, 53: {'nothing': 3, 'medium': 2, 'hard': 3}, 54: {'nothing': 5, 'hard': 2}, 55: {'hard': 1, 'nothing': 2, 'easy': 1, 'medium': 1}, 56: {'nothing': 3, 'easy': 4, 'medium': 2}, 57: {'nothing': 10, 'easy': 4, 'hard': 6, 'medium': 3}, 58: {'nothing': 9, 'hard': 4, 'easy': 1, 'medium': 1}, 59: {'nothing': 12, 'medium': 5, 'easy': 1, 'hard': 1}, 60: {'hard': 4, 'nothing': 8, 'easy': 5, 'medium': 1}, 61: {'hard': 3, 'nothing': 2, 'medium': 2, 'easy': 1}, 62: {'nothing': 6, 'hard': 2, 'medium': 2}, 63: {'nothing': 4, 'easy': 3, 'hard': 2}}, '6d2537ae60c4592ec7c81958': {0: {'hard': 1}, 3: {'nothing': 6}, 4: {'nothing': 4}, 5: {'nothing': 1}, 6: {'nothing': 26}, 7: {'nothing': 2}, 8: {'nothing': 2}, 9: {'nothing': 8, 'easy': 1}, 10: {'nothing': 22}, 11: {'nothing': 21}, 12: {'nothing': 14}, 13: {'nothing': 11}, 14: {'nothing': 37}}, '52ad32996253d43760a3a531': {0: {'nothing': 3, 'hard': 5}, 1: {'hard': 5}, 2: {'hard': 6}, 3: {'hard': 2}, 4: {'hard': 4}, 5: {'hard': 19}, 6: {'hard': 24}, 7: {'hard': 24}, 8: {'hard': 15}, 9: {'hard': 1, 'nothing': 1}, 10: {'hard': 4}, 11: {'hard': 17}, 12: {'hard': 4}, 13: {'hard': 8}, 14: {'hard': 22}, 15: {'hard': 14, 'medium': 1}, 16: {'hard': 11}, 17: {'hard': 19}, 18: {'hard': 28}, 19: {'hard': 23}, 20: {'hard': 7}, 21: {'hard': 14}, 22: {'hard': 22, 'nothing': 1}, 23: {'hard': 12}, 24: {'hard': 15}, 25: {'hard': 9}, 26: {'hard': 11}, 27: {'hard': 4}, 28: {'hard': 17}, 29: {'hard': 34, 'medium': 1}, 30: {'hard': 11}, 31: {'hard': 6}, 32: {'hard': 17}, 33: {'hard': 21, 'medium': 3}, 34: {'hard': 25, 'easy': 1}, 35: {'hard': 24}, 36: {'hard': 16}, 37: {'hard': 30}, 38: {'hard': 15}, 39: {'hard': 25}, 40: {'hard': 26, 'medium': 1}, 41: {'hard': 15}, 42: {'hard': 3, 'medium': 1}, 43: {'hard': 5}, 44: {'hard': 4, 'easy': 4, 'medium': 1}, 45: {'nothing': 1, 'hard': 3, 'easy': 1}, 46: {'hard': 2, 'nothing': 2, 'medium': 1}, 47: {'hard': 5, 'easy': 1, 'medium': 2}, 48: {'hard': 8, 'nothing': 4, 'medium': 1}, 49: {'hard': 4, 'medium': 2, 'easy': 1, 'nothing': 2}, 50: {'hard': 1, 'medium': 1, 'easy': 1}, 51: {'hard': 4, 'easy': 1, 'nothing': 2}, 52: {'hard': 3, 'medium': 1, 'nothing': 2}, 53: {'easy': 1, 'medium': 1, 'hard': 5, 'nothing': 1}, 54: {'hard': 2, 'nothing': 1, 'medium': 1}, 55: {'easy': 1, 'hard': 3, 'medium': 1, 'nothing': 1}, 56: {'hard': 2, 'medium': 1}, 57: {'medium': 1}, 58: {'medium': 3, 'easy': 1, 'nothing': 1}, 59: {'medium': 1, 'hard': 2, 'easy': 1}, 60: {'hard': 9, 'medium': 1, 'nothing': 1, 'easy': 1}, 61: {'nothing': 1, 'hard': 1, 'easy': 1}}, 'ff85fe5cfcaf8455ead69f4d': {0: {'easy': 2}, 13: {'easy': 2}, 14: {'nothing': 3}, 15: {'nothing': 4}, 16: {'nothing': 5}, 17: {'easy': 1, 'nothing': 1}, 20: {'nothing': 2}, 21: {'nothing': 1}, 22: {'nothing': 2}, 25: {'easy': 2}, 26: {'nothing': 1}, 27: {'nothing': 8}, 28: {'nothing': 1}, 29: {'nothing': 1}, 30: {'nothing': 2}, 31: {'nothing': 3}, 34: {'nothing': 2}, 35: {'nothing': 2}, 36: {'nothing': 3}, 37: {'nothing': 1, 'easy': 1}, 38: {'nothing': 1}, 39: {'nothing': 3}, 40: {'nothing': 2}}, '54c09f9d1d3347a27ca591ec': {0: {'nothing': 7}, 1: {'nothing': 9}, 2: {'nothing': 16}, 3: {'nothing': 14}, 4: {'nothing': 20}, 5: {'nothing': 12}, 6: {'nothing': 15}, 7: {'nothing': 19}, 8: {'nothing': 13}, 9: {'nothing': 9}, 10: {'nothing': 13}, 11: {'nothing': 10}, 12: {'nothing': 1}, 13: {'nothing': 3}, 14: {'nothing': 23}, 15: {'nothing': 16}, 16: {'nothing': 10}, 17: {'nothing': 16}, 18: {'nothing': 63}, 19: {'nothing': 22}, 20: {'nothing': 10}, 21: {'nothing': 30}, 22: {'nothing': 19}, 23: {'nothing': 30}, 24: {'nothing': 24}, 25: {'nothing': 11}, 26: {'nothing': 35}, 27: {'nothing': 15}, 28: {'nothing': 13}, 29: {'nothing': 22}, 30: {'nothing': 23}, 31: {'nothing': 23}, 32: {'nothing': 20}, 33: {'nothing': 39}, 34: {'nothing': 33}, 35: {'nothing': 1}, 36: {'nothing': 1}, 37: {'nothing': 12}, 38: {'nothing': 12}}, '2256d6dc567830c7fa42afdd': {0: {'medium': 27}, 1: {'medium': 27}, 2: {'medium': 3}, 3: {'medium': 2}, 4: {'medium': 22}, 10: {'medium': 13}, 11: {'medium': 18}, 12: {'medium': 7}, 13: {'medium': 10}, 14: {'medium': 1}, 15: {'medium': 12}, 16: {'medium': 10}, 17: {'medium': 12}, 18: {'medium': 6}, 19: {'medium': 7}, 20: {'medium': 22}, 21: {'medium': 20}, 22: {'medium': 19}, 23: {'medium': 18}, 24: {'medium': 3}, 25: {'medium': 2}, 26: {'medium': 12}, 27: {'medium': 9}, 28: {'medium': 27, 'hard': 1, 'easy': 1}, 29: {'medium': 8}, 30: {'medium': 7}, 31: {'medium': 18}, 32: {'medium': 7}, 33: {'easy': 1, 'medium': 16}, 34: {'medium': 18}, 35: {'medium': 26, 'hard': 1}, 36: {'medium': 41}, 37: {'medium': 22}, 38: {'medium': 19}, 39: {'medium': 20}, 41: {'medium': 26, 'nothing': 1}, 42: {'medium': 11, 'nothing': 4, 'hard': 2, 'easy': 2}, 43: {'medium': 15, 'hard': 6, 'easy': 5, 'nothing': 4}, 44: {'easy': 4, 'medium': 6, 'hard': 4, 'nothing': 1}, 45: {'medium': 29, 'nothing': 12, 'easy': 6, 'hard': 19}, 46: {'hard': 7, 'medium': 9, 'easy': 6, 'nothing': 4}, 47: {'easy': 7, 'hard': 1, 'medium': 7, 'nothing': 4}, 48: {'medium': 8, 'easy': 4, 'hard': 3, 'nothing': 5}, 49: {'medium': 12, 'hard': 4, 'nothing': 7, 'easy': 5}, 50: {'medium': 7, 'hard': 2, 'nothing': 3, 'easy': 7}}, '2ef916fd6e6c87c380c7f743': {0: {'hard': 1}}, '6b5768306184234a589f03a9': {0: {'medium': 4, 'hard': 1, 'nothing': 2, 'easy': 1}, 1: {'easy': 6}, 2: {'medium': 2, 'nothing': 1, 'easy': 4}, 3: {'easy': 1, 'nothing': 1, 'medium': 1}, 4: {'easy': 2}, 7: {'easy': 1}, 8: {'easy': 6}, 9: {'easy': 1}, 10: {'nothing': 1, 'easy': 2}, 11: {'nothing': 9, 'easy': 1}, 12: {'nothing': 4}, 13: {'nothing': 3}, 14: {'nothing': 2}, 15: {'nothing': 7}, 16: {'nothing': 5}, 17: {'nothing': 7}, 18: {'nothing': 5}, 19: {'nothing': 7}, 20: {'nothing': 6}, 21: {'nothing': 13}, 22: {'nothing': 4}, 23: {'nothing': 3}, 24: {'nothing': 12}, 25: {'nothing': 9, 'easy': 1}, 26: {'nothing': 2}, 27: {'nothing': 6}, 28: {'nothing': 2}, 29: {'nothing': 7}, 30: {'nothing': 7}, 31: {'nothing': 8}, 32: {'nothing': 7}, 33: {'nothing': 7}, 34: {'nothing': 1}, 35: {'nothing': 8}, 36: {'nothing': 8}, 37: {'nothing': 5}, 38: {'nothing': 14}, 39: {'nothing': 2}, 40: {'nothing': 2}, 41: {'nothing': 7}, 42: {'nothing': 2}, 43: {'medium': 5, 'hard': 2, 'nothing': 8, 'easy': 3}, 44: {'nothing': 1, 'medium': 1}, 45: {'nothing': 8, 'easy': 3, 'medium': 1, 'hard': 1}, 46: {'nothing': 2, 'medium': 1}, 47: {'nothing': 2, 'hard': 1, 'medium': 1}, 48: {'nothing': 8, 'hard': 1, 'medium': 2}, 49: {'medium': 3, 'nothing': 3, 'easy': 5}, 50: {'nothing': 8, 'hard': 3, 'medium': 2}, 51: {'nothing': 14, 'medium': 5, 'hard': 2, 'easy': 1}, 52: {'nothing': 5, 'easy': 1}, 53: {'nothing': 1}, 54: {'hard': 2, 'nothing': 4}, 55: {'easy': 4, 'nothing': 1, 'medium': 1}, 56: {'nothing': 6, 'medium': 2, 'easy': 2}, 57: {'nothing': 4, 'hard': 4}, 58: {'easy': 1, 'medium': 1, 'nothing': 2, 'hard': 3}, 59: {'hard': 2, 'nothing': 1}, 60: {'easy': 1, 'nothing': 3}, 61: {'nothing': 3, 'medium': 1}}, '08d9b55c3ee2eace6bb718bb': {0: {'easy': 1}, 24: {'nothing': 1}, 28: {'nothing': 1}, 31: {'nothing': 2}, 32: {'nothing': 2}, 39: {'nothing': 1}, 41: {'nothing': 4}, 42: {'nothing': 3, 'hard': 1}, 47: {'nothing': 2}, 54: {'nothing': 2}}, 'a01f17d13800f5febc065a62': {0: {'hard': 5, 'nothing': 1}, 1: {'hard': 3}, 7: {'hard': 3}, 8: {'hard': 3}, 9: {'hard': 1}, 13: {'hard': 1}, 14: {'hard': 6}, 15: {'hard': 9}, 16: {'hard': 1}, 18: {'hard': 3}, 19: {'hard': 3}, 20: {'hard': 3}, 21: {'hard': 2}, 22: {'hard': 1}, 23: {'hard': 1}, 25: {'hard': 1}, 26: {'hard': 4}, 27: {'hard': 2}, 28: {'hard': 2}, 29: {'hard': 6}, 32: {'hard': 2}, 33: {'hard': 11}, 34: {'hard': 5}, 35: {'hard': 1}, 36: {'hard': 9, 'nothing': 1, 'medium': 1}, 39: {'hard': 3}, 40: {'hard': 4}, 41: {'hard': 3, 'medium': 1}, 42: {'hard': 6, 'medium': 3, 'easy': 1}, 43: {'hard': 6, 'medium': 2, 'easy': 1}, 46: {'hard': 7, 'easy': 1, 'medium': 1, 'nothing': 1}, 49: {'hard': 1, 'medium': 1}, 50: {'hard': 6, 'nothing': 1}, 51: {'hard': 1}, 53: {'medium': 4, 'hard': 7}, 54: {'hard': 6}, 55: {'hard': 5, 'nothing': 1}, 56: {'hard': 6, 'nothing': 1, 'medium': 1}}, '34fbc6c1d5c212cf7ecfce78': {0: {'nothing': 1}, 7: {'nothing': 4}, 8: {'nothing': 2}, 15: {'nothing': 1}}, 'da12541bd8847827f33a2dc4': {0: {'easy': 5, 'nothing': 12}, 1: {'nothing': 8, 'easy': 2}, 2: {'nothing': 10, 'easy': 1}, 3: {'nothing': 9}, 4: {'nothing': 8}, 5: {'nothing': 6}, 6: {'nothing': 2}, 7: {'nothing': 3}, 9: {'nothing': 1}, 10: {'nothing': 1}, 11: {'nothing': 1}, 12: {'nothing': 6}, 13: {'nothing': 1}, 14: {'nothing': 3}, 15: {'nothing': 1}, 16: {'nothing': 2}, 17: {'nothing': 2}, 18: {'nothing': 5}, 19: {'nothing': 4}, 20: {'nothing': 6}, 21: {'nothing': 3}, 22: {'nothing': 7}, 23: {'nothing': 6}, 24: {'nothing': 14}, 25: {'nothing': 9}, 26: {'nothing': 8}, 27: {'nothing': 8}, 28: {'nothing': 7}, 29: {'nothing': 12}, 30: {'nothing': 6}, 31: {'nothing': 10}, 32: {'nothing': 8}, 33: {'nothing': 8}, 34: {'nothing': 9}, 35: {'nothing': 6}, 36: {'nothing': 8}, 37: {'nothing': 11}, 38: {'nothing': 8}, 39: {'nothing': 13}, 40: {'nothing': 17}, 41: {'nothing': 14}, 42: {'nothing': 3, 'easy': 1}, 44: {'nothing': 2, 'medium': 1, 'hard': 1}, 46: {'nothing': 1, 'medium': 1}, 48: {'nothing': 1, 'easy': 1}, 51: {'nothing': 2, 'medium': 1, 'hard': 1}, 52: {'nothing': 1, 'medium': 1}, 53: {'nothing': 6, 'medium': 2, 'easy': 1, 'hard': 1}, 54: {'nothing': 1, 'medium': 1}, 55: {'nothing': 2, 'hard': 1, 'medium': 2}, 56: {'nothing': 1, 'medium': 1}, 57: {'nothing': 1, 'hard': 1}, 58: {'nothing': 1, 'hard': 1}, 59: {'nothing': 2, 'easy': 1}, 60: {'hard': 2, 'easy': 1, 'nothing': 3}}, '43cce43e114ecc71a301780e': {0: {'easy': 1, 'nothing': 13}, 1: {'nothing': 6}, 2: {'nothing': 1}, 4: {'nothing': 1}, 5: {'nothing': 3}, 6: {'nothing': 1}, 8: {'nothing': 2}, 10: {'nothing': 2}, 11: {'nothing': 4}, 12: {'nothing': 4}, 13: {'nothing': 4}, 14: {'nothing': 8}, 15: {'nothing': 6}, 16: {'nothing': 1}, 18: {'nothing': 2}, 19: {'nothing': 2}, 20: {'nothing': 1}, 21: {'nothing': 1}, 23: {'nothing': 1}, 25: {'nothing': 11}, 27: {'nothing': 2}, 30: {'nothing': 1}, 33: {'nothing': 9}, 36: {'nothing': 1}, 39: {'nothing': 6}, 40: {'nothing': 6}, 41: {'nothing': 1}, 42: {'nothing': 1}, 46: {'nothing': 1}, 47: {'nothing': 2}, 49: {'hard': 1}, 52: {'nothing': 6, 'medium': 1, 'hard': 1}, 53: {'nothing': 2}, 60: {'nothing': 1, 'medium': 1}}, '83be32379ca39ef09296cbb0': {0: {'nothing': 4}, 1: {'nothing': 1}, 2: {'nothing': 5}, 4: {'nothing': 2}, 5: {'nothing': 1}}, '960357148e5b31de144ea968': {0: {'easy': 2, 'nothing': 4, 'hard': 1}, 1: {'nothing': 7, 'easy': 3}}, 'fa70983f62ecc72c1191d576': {0: {'hard': 5, 'nothing': 10}, 1: {'nothing': 1}, 12: {'nothing': 7, 'easy': 1}, 15: {'nothing': 2}, 23: {'nothing': 1}, 27: {'nothing': 1}}, '13bfd0a759c27f45768fbc98': {0: {'easy': 5}, 1: {'easy': 4}, 2: {'easy': 7}, 3: {'easy': 2}, 4: {'easy': 3}, 5: {'easy': 5}, 6: {'easy': 6}, 7: {'easy': 10}, 8: {'easy': 6}, 9: {'easy': 4}, 10: {'easy': 1}, 11: {'easy': 2}}, 'a42fa9b8d9d04003c9fecbda': {0: {'nothing': 1}, 1: {'nothing': 1}}, 'afe536d6907aedb612edf18b': {0: {'medium': 1}}, '06b54759c28de7967024cedf': {0: {'nothing': 1}, 6: {'nothing': 1}, 7: {'easy': 4, 'nothing': 1}, 11: {'easy': 1}, 17: {'easy': 1}, 18: {'nothing': 1}, 19: {'easy': 2}, 21: {'easy': 2, 'nothing': 5}, 36: {'easy': 1}}, 'd769300fd27086b461e88146': {0: {'easy': 3}, 5: {'easy': 1}, 13: {'nothing': 1}, 40: {'easy': 1}}, '3ba289fa715810763b25b50d': {0: {'nothing': 1}}, 'b076244406dcb10ed011b62f': {0: {'nothing': 1}, 4: {'nothing': 1}, 6: {'easy': 1}, 9: {'nothing': 3}, 12: {'easy': 1}, 19: {'easy': 1}, 24: {'easy': 3}, 26: {'easy': 3}, 27: {'easy': 1}, 28: {'easy': 1}, 29: {'easy': 1}, 31: {'nothing': 1}, 33: {'nothing': 1, 'easy': 1}, 35: {'easy': 2, 'nothing': 1}, 38: {'easy': 1}, 40: {'easy': 1, 'nothing': 1}, 42: {'easy': 1}, 45: {'easy': 1}, 54: {'easy': 1}, 55: {'hard': 1}}, '94dbd36a39bf755620619dc1': {0: {'medium': 1}, 1: {'nothing': 1}, 2: {'nothing': 3}, 4: {'nothing': 1}, 5: {'nothing': 1}, 6: {'nothing': 1}, 7: {'nothing': 1}, 8: {'nothing': 1}, 9: {'nothing': 1}, 10: {'nothing': 1}, 11: {'nothing': 1}, 12: {'nothing': 1}, 13: {'nothing': 1}, 14: {'nothing': 1}, 15: {'nothing': 2}, 21: {'nothing': 1}, 23: {'nothing': 1}}, 'a51a2834457f3e80e98d7e0c': {0: {'easy': 1, 'medium': 4}, 2: {'nothing': 1}, 6: {'nothing': 6}, 16: {'nothing': 2}, 18: {'nothing': 2}, 19: {'nothing': 10}, 20: {'nothing': 1}, 25: {'nothing': 2}, 27: {'nothing': 3}, 29: {'nothing': 2}, 33: {'nothing': 1}, 35: {'nothing': 1}, 36: {'nothing': 3}, 37: {'nothing': 1}, 39: {'nothing': 5}, 41: {'nothing': 1}, 44: {'nothing': 2}, 45: {'nothing': 5}, 46: {'nothing': 1}, 47: {'nothing': 1}, 48: {'nothing': 1}, 52: {'nothing': 1}, 55: {'nothing': 1}, 56: {'nothing': 6}, 58: {'nothing': 1}, 59: {'nothing': 1}}, 'c4892740b6edae0879066413': {0: {'easy': 2, 'nothing': 3}, 1: {'nothing': 2}, 2: {'nothing': 2}, 3: {'nothing': 1}, 5: {'nothing': 2}, 7: {'nothing': 1}, 9: {'nothing': 4}, 11: {'nothing': 4}, 12: {'nothing': 2}, 13: {'nothing': 5}, 17: {'nothing': 3}, 19: {'nothing': 5}, 20: {'nothing': 2}, 21: {'nothing': 6}, 22: {'easy': 2, 'nothing': 8}, 23: {'nothing': 8}, 24: {'nothing': 10, 'easy': 2}, 25: {'nothing': 5, 'easy': 2}, 26: {'nothing': 10}, 27: {'nothing': 2}, 28: {'nothing': 2}}, '17922a9e7db02f22478809d5': {0: {'nothing': 66}}, '9b3f555c14c67b354ad3ad6c': {0: {'easy': 3}, 1: {'easy': 3}, 2: {'easy': 11}, 3: {'easy': 2, 'medium': 1, 'nothing': 1}, 4: {'easy': 2}, 5: {'easy': 1, 'nothing': 1}, 7: {'nothing': 6, 'easy': 1}, 8: {'nothing': 3}, 9: {'nothing': 3}, 10: {'nothing': 5}, 11: {'easy': 1, 'nothing': 1}, 12: {'nothing': 4, 'easy': 3}, 13: {'nothing': 2, 'easy': 1}, 14: {'nothing': 2}, 15: {'nothing': 5}, 16: {'nothing': 12}, 17: {'nothing': 3, 'medium': 2}, 18: {'easy': 1, 'nothing': 1}, 19: {'easy': 2, 'nothing': 5}, 20: {'easy': 2}, 21: {'easy': 4, 'nothing': 3}, 22: {'easy': 1, 'medium': 1, 'nothing': 2}, 23: {'nothing': 13, 'easy': 2}, 24: {'nothing': 8, 'easy': 2}, 25: {'nothing': 4, 'easy': 1}, 26: {'nothing': 3, 'easy': 1}, 27: {'easy': 1, 'nothing': 3}, 28: {'nothing': 2}, 29: {'nothing': 4}, 30: {'easy': 1, 'nothing': 7}, 31: {'nothing': 10, 'easy': 1}, 32: {'nothing': 2}, 34: {'nothing': 8}, 35: {'easy': 1, 'nothing': 4}, 36: {'nothing': 2, 'easy': 2}, 37: {'nothing': 7}, 38: {'nothing': 4}, 39: {'nothing': 3}, 40: {'easy': 1, 'nothing': 2}, 41: {'easy': 1}, 54: {'medium': 2}}, '6219daf44ca9b9a16c30e589': {0: {'easy': 1}}, 'edaf0e9904e39285a2ae74fd': {0: {'easy': 22, 'nothing': 3}, 1: {'nothing': 3, 'easy': 5}, 2: {'easy': 8}, 4: {'nothing': 1, 'easy': 1}, 5: {'nothing': 1, 'easy': 3}, 9: {'easy': 1}, 11: {'easy': 2}, 12: {'easy': 5}, 13: {'easy': 3}, 14: {'easy': 1}, 15: {'easy': 5, 'nothing': 2}, 16: {'nothing': 5}, 17: {'nothing': 2}, 18: {'nothing': 7, 'easy': 1}, 19: {'nothing': 6}, 20: {'nothing': 1}, 21: {'nothing': 11}, 22: {'nothing': 7}, 23: {'nothing': 8}, 24: {'nothing': 6}, 25: {'nothing': 8}, 27: {'nothing': 14}, 28: {'nothing': 16}, 29: {'nothing': 2}, 30: {'nothing': 10}, 31: {'nothing': 6}, 32: {'nothing': 6}, 33: {'nothing': 2}, 34: {'nothing': 13}, 35: {'easy': 1, 'nothing': 1}, 37: {'nothing': 1}, 39: {'easy': 1}, 41: {'easy': 2}, 43: {'nothing': 1, 'medium': 1}, 46: {'easy': 1, 'nothing': 1}, 48: {'easy': 1, 'hard': 1}}, '08cff4602bdd19af8443f649': {0: {'nothing': 3}, 1: {'nothing': 2}, 2: {'nothing': 1}, 4: {'nothing': 2}}, 'a9eb0ed9eb9f5d2278430576': {0: {'nothing': 1}}, '85090a8366e58d1130eff7fd': {0: {'easy': 28, 'medium': 2, 'nothing': 1}, 1: {'nothing': 19, 'easy': 19}, 2: {'nothing': 26, 'medium': 1, 'easy': 1}, 3: {'nothing': 14, 'easy': 2}, 4: {'nothing': 25, 'easy': 1}, 5: {'nothing': 11, 'easy': 6}, 6: {'easy': 17, 'nothing': 25}, 7: {'nothing': 40, 'easy': 2, 'medium': 1}, 8: {'nothing': 53, 'easy': 2}, 9: {'nothing': 43, 'easy': 1}, 10: {'nothing': 37, 'easy': 1}, 11: {'nothing': 21, 'easy': 3}, 12: {'nothing': 84, 'easy': 12}, 13: {'nothing': 61, 'easy': 5}, 14: {'nothing': 41}, 15: {'nothing': 30}, 16: {'nothing': 36}, 17: {'nothing': 21}, 18: {'nothing': 6}, 19: {'nothing': 11}, 20: {'nothing': 4, 'easy': 1}, 21: {'nothing': 10}, 22: {'nothing': 22}}, '2f143bbc11e336d039de252a': {0: {'medium': 2, 'easy': 29}, 1: {'medium': 2, 'easy': 15}, 2: {'easy': 16}, 3: {'easy': 15}, 4: {'easy': 14}, 5: {'easy': 26}, 6: {'easy': 22}, 7: {'easy': 26, 'medium': 1}, 8: {'easy': 36}, 9: {'easy': 12}, 10: {'easy': 18}, 11: {'easy': 17}, 12: {'easy': 41}, 13: {'easy': 26, 'medium': 1}, 14: {'easy': 10}, 15: {'easy': 12}, 16: {'easy': 33}, 17: {'easy': 18}, 18: {'easy': 18}, 19: {'easy': 28}, 20: {'easy': 41}, 21: {'easy': 35}, 22: {'easy': 24}, 23: {'easy': 17}, 24: {'easy': 13}, 25: {'easy': 45, 'medium': 1}, 26: {'easy': 41}, 27: {'easy': 25}, 28: {'easy': 34}, 29: {'easy': 36}, 30: {'easy': 35}, 31: {'easy': 31}, 32: {'easy': 19}, 33: {'easy': 46}, 34: {'easy': 32}, 35: {'easy': 19}, 36: {'easy': 48, 'medium': 2}, 37: {'easy': 61}, 38: {'easy': 21}, 39: {'easy': 12}, 41: {'easy': 2}, 42: {'easy': 2}, 45: {'nothing': 1, 'easy': 1}, 46: {'nothing': 2}, 47: {'nothing': 2}, 48: {'hard': 2, 'nothing': 3}, 50: {'nothing': 1, 'hard': 1}, 56: {'nothing': 2}}, 'd128caa782a0d0fa2a2eeee2': {0: {'medium': 1, 'easy': 2}, 1: {'medium': 2, 'nothing': 2}, 2: {'nothing': 1}, 8: {'easy': 2}, 9: {'nothing': 4}, 10: {'nothing': 4}, 11: {'nothing': 6}, 12: {'nothing': 5}, 14: {'easy': 1, 'nothing': 8}, 15: {'nothing': 2}, 17: {'nothing': 1}, 18: {'nothing': 1}, 20: {'nothing': 7, 'hard': 1}, 22: {'nothing': 2}, 25: {'nothing': 3}, 26: {'nothing': 1}, 27: {'nothing': 1}, 28: {'nothing': 3}, 29: {'nothing': 5}, 32: {'nothing': 2}, 34: {'nothing': 3}, 35: {'nothing': 6}, 36: {'nothing': 3}, 37: {'nothing': 3}, 38: {'nothing': 6}, 39: {'nothing': 3, 'medium': 1, 'easy': 1, 'hard': 1}}, '4e43a4913ec538c3b15789f8': {0: {'easy': 1}}, 'dfefc18aafc529b7a583ce6a': {0: {'nothing': 2}, 1: {'nothing': 2}, 5: {'nothing': 1}, 53: {'nothing': 2}}, 'e07893081287ac73f8955f9a': {0: {'medium': 4, 'nothing': 1, 'easy': 13}, 1: {'easy': 3}, 2: {'easy': 7}, 3: {'easy': 7, 'nothing': 1}, 4: {'easy': 6, 'nothing': 2}}, '5f1ec7dd112d327c0a397c72': {0: {'nothing': 1}, 1: {'easy': 1, 'nothing': 3}, 2: {'nothing': 5, 'easy': 1, 'medium': 4}, 3: {'nothing': 3}, 5: {'nothing': 3, 'easy': 1, 'medium': 5}, 7: {'easy': 1}, 8: {'medium': 1}, 11: {'medium': 2}, 12: {'medium': 4, 'easy': 1}, 13: {'medium': 8, 'nothing': 3}, 14: {'easy': 1, 'medium': 1}, 15: {'medium': 1}, 16: {'medium': 4, 'hard': 1, 'easy': 9}, 19: {'easy': 1}, 23: {'medium': 5}, 24: {'easy': 2}, 25: {'easy': 1}, 26: {'medium': 2, 'easy': 2}, 27: {'medium': 1, 'easy': 2}, 28: {'easy': 2}, 29: {'easy': 7, 'medium': 1}, 30: {'easy': 19, 'medium': 2}, 31: {'easy': 2, 'medium': 1}, 32: {'easy': 4}, 33: {'easy': 4}, 34: {'nothing': 1, 'easy': 2, 'medium': 1}, 35: {'easy': 2}, 36: {'easy': 3}, 37: {'easy': 4}, 38: {'easy': 11, 'medium': 2}, 39: {'easy': 5, 'medium': 1}, 43: {'medium': 2}}, '5ff4e09ae2b8a6ae5c991af6': {0: {'easy': 2}}, 'e05c2c37fc88d54684c7f2fb': {0: {'medium': 1, 'nothing': 2}, 1: {'easy': 1, 'medium': 1}, 2: {'nothing': 1}, 7: {'nothing': 1}, 15: {'nothing': 1}, 24: {'nothing': 1}, 25: {'nothing': 1}, 29: {'nothing': 1}, 30: {'nothing': 1}, 31: {'nothing': 1}, 32: {'nothing': 1}, 34: {'nothing': 1}, 35: {'nothing': 1}, 46: {'nothing': 1, 'hard': 1}, 48: {'hard': 2, 'nothing': 2}, 55: {'hard': 1}}, '1f48524303eb6abe04e42b2d': {0: {'nothing': 10}, 1: {'nothing': 3}, 2: {'nothing': 1}, 3: {'nothing': 1}, 4: {'nothing': 3}, 5: {'nothing': 4}, 6: {'nothing': 4}, 7: {'nothing': 8}, 8: {'nothing': 1}, 9: {'nothing': 1}, 10: {'nothing': 2}, 11: {'nothing': 1}, 12: {'nothing': 5}, 20: {'nothing': 2}, 27: {'nothing': 1}, 34: {'nothing': 2}, 35: {'nothing': 3}, 37: {'nothing': 3}, 41: {'easy': 1}, 48: {'hard': 1}, 55: {'easy': 1}, 56: {'nothing': 1}}, 'f257955a0b152058de2c7dfb': {2: {'nothing': 5}, 0: {'nothing': 3}, 1: {'nothing': 3}, 3: {'nothing': 2}, 6: {'nothing': 2}, 7: {'nothing': 2}, 9: {'nothing': 3}, 10: {'nothing': 1}, 12: {'nothing': 1}, 15: {'nothing': 2}}, '0588603c5dff3f53a5aa5930': {0: {'nothing': 3}, 1: {'nothing': 4}, 4: {'nothing': 2}, 5: {'nothing': 2}, 6: {'nothing': 2}, 7: {'nothing': 2}, 9: {'nothing': 1}, 10: {'nothing': 2}, 11: {'nothing': 4}, 12: {'nothing': 2}, 13: {'nothing': 2}, 15: {'nothing': 1}, 16: {'nothing': 1}, 18: {'nothing': 1}, 24: {'nothing': 6}, 26: {'nothing': 3, 'medium': 1}, 34: {'nothing': 1, 'hard': 1}, 44: {'hard': 1}}, '5f5396a5efc6a76a05eafd19': {0: {'nothing': 1}}, '4c5e3a18a2058d62688565cf': {0: {'nothing': 1}, 1: {'nothing': 8}, 9: {'nothing': 3}, 10: {'nothing': 2}, 11: {'nothing': 2}, 14: {'nothing': 1}, 15: {'nothing': 2}, 18: {'nothing': 1}, 21: {'nothing': 3}, 22: {'nothing': 4}, 23: {'nothing': 4}, 24: {'nothing': 2}, 25: {'nothing': 1}, 28: {'nothing': 2}, 29: {'nothing': 3}, 30: {'nothing': 2}, 32: {'nothing': 2}, 35: {'nothing': 2}, 36: {'nothing': 2}, 37: {'nothing': 3}, 38: {'nothing': 1, 'easy': 1}, 42: {'medium': 1}, 44: {'hard': 1}, 45: {'nothing': 1, 'easy': 1}, 50: {'hard': 1}, 52: {'nothing': 1, 'hard': 1}}, '7a84c48fa1958db7b91918e3': {0: {'easy': 3, 'nothing': 1}}, '039a5ab92063f09a59340e92': {0: {'medium': 3}, 1: {'medium': 2, 'easy': 6}, 2: {'easy': 5}, 3: {'easy': 7, 'nothing': 3}, 4: {'nothing': 4, 'easy': 1}, 7: {'nothing': 3}, 8: {'nothing': 2}, 9: {'nothing': 8}, 10: {'nothing': 9}, 11: {'nothing': 7}, 12: {'nothing': 1}, 13: {'nothing': 6}, 14: {'nothing': 13}, 15: {'nothing': 2}, 16: {'nothing': 4}, 18: {'nothing': 1}, 19: {'nothing': 1}, 20: {'nothing': 2}, 21: {'nothing': 6}, 22: {'nothing': 12}, 23: {'nothing': 16}, 24: {'nothing': 11, 'easy': 1}, 25: {'nothing': 9}, 27: {'nothing': 4}, 28: {'nothing': 7}, 29: {'nothing': 4}, 30: {'nothing': 2}, 31: {'nothing': 5}, 32: {'nothing': 5}, 33: {'nothing': 5}, 34: {'nothing': 2}, 35: {'nothing': 10}, 36: {'nothing': 11}, 37: {'nothing': 8}, 38: {'nothing': 2, 'easy': 1}, 39: {'nothing': 1, 'easy': 1}, 50: {'easy': 2, 'nothing': 2}}, '8997a901ee7cc52649159415': {0: {'nothing': 1}, 4: {'nothing': 1}, 5: {'nothing': 1}, 6: {'nothing': 1}, 9: {'nothing': 1}, 16: {'nothing': 2}, 17: {'nothing': 1}, 21: {'nothing': 1}, 22: {'nothing': 1}, 24: {'nothing': 1}, 29: {'nothing': 1}, 30: {'nothing': 1}, 36: {'nothing': 1}}, '8e4f16e1449591bb76384925': {0: {'nothing': 1}}, 'd486c38f670f4ac2362acae2': {0: {'nothing': 1}}, 'd8454e6e1166cbb1d206df17': {0: {'easy': 3, 'medium': 15, 'nothing': 6}, 1: {'medium': 14}, 2: {'medium': 5, 'hard': 1, 'nothing': 1, 'easy': 3}, 3: {'medium': 9, 'easy': 2}, 4: {'easy': 4, 'medium': 4}, 5: {'medium': 8, 'hard': 1, 'nothing': 2, 'easy': 5}, 6: {'medium': 2}, 11: {'medium': 7, 'easy': 1}, 12: {'medium': 15, 'easy': 4}, 13: {'easy': 1}, 27: {'medium': 1, 'easy': 2}, 32: {'medium': 3, 'easy': 1}, 33: {'easy': 2, 'medium': 5}, 34: {'medium': 3, 'hard': 1, 'easy': 1}, 40: {'hard': 2}}, 'cf0d62c2cd12a5900eeaefcc': {0: {'hard': 4}, 2: {'hard': 1}, 3: {'nothing': 1}, 5: {'nothing': 1}, 10: {'nothing': 1}, 11: {'hard': 2}, 14: {'hard': 1}, 16: {'hard': 3}, 17: {'hard': 1, 'nothing': 1}, 18: {'hard': 2}, 19: {'hard': 3}}, '4b7d87ddae2d83b19829cc9b': {0: {'nothing': 1}}, '756bb0a552699a78297b62be': {0: {'medium': 1, 'easy': 3, 'nothing': 1}, 9: {'nothing': 3}}, 'b5654f75537908c7365e5005': {0: {'nothing': 2}, 4: {'nothing': 3}, 6: {'nothing': 1}, 8: {'nothing': 1}, 9: {'nothing': 3}, 11: {'nothing': 3}, 13: {'nothing': 1}, 15: {'nothing': 1}, 18: {'nothing': 1}, 23: {'nothing': 2}, 24: {'nothing': 1}, 25: {'nothing': 7}, 26: {'nothing': 6}, 27: {'nothing': 1}, 28: {'nothing': 1}, 33: {'nothing': 2}, 35: {'nothing': 1}, 36: {'nothing': 1}}, '89911aada5bce47591de506a': {0: {'easy': 1}, 31: {'nothing': 1}}, '6f44ba41cf2ab420e9e9e782': {0: {'easy': 2}, 1: {'nothing': 2}}, '8f275d4d45a9aae852c9708d': {0: {'medium': 10, 'nothing': 1}}, 'fe11c5d6a35f5503cf6a9e1b': {0: {'hard': 1, 'medium': 26, 'easy': 1}, 1: {'medium': 16}, 2: {'medium': 17}}, '37e5e651470b8b34a6c45d09': {0: {'easy': 8}, 1: {'easy': 1, 'nothing': 1}, 2: {'easy': 8}, 3: {'easy': 8, 'nothing': 1}, 7: {'easy': 1}, 8: {'easy': 6}, 9: {'easy': 6}, 10: {'easy': 7}, 11: {'easy': 1}, 12: {'easy': 2}, 13: {'easy': 1}, 15: {'easy': 1}, 17: {'easy': 10}, 18: {'easy': 3}, 29: {'easy': 6, 'hard': 1}, 30: {'easy': 24, 'medium': 1, 'hard': 1}, 31: {'easy': 21, 'nothing': 1}, 32: {'easy': 12}, 34: {'easy': 3}, 35: {'easy': 6}, 36: {'easy': 7}, 37: {'easy': 9}, 38: {'easy': 3, 'hard': 1}, 43: {'medium': 2, 'easy': 1, 'hard': 1}, 45: {'easy': 1}, 47: {'medium': 1}, 51: {'medium': 1}}, '400de495ebad9294da22e524': {0: {'nothing': 2}, 5: {'nothing': 1}, 11: {'nothing': 2}, 34: {'nothing': 3}, 35: {'nothing': 1, 'medium': 1}}, '1eafb508c45c4fb04efac2bd': {0: {'easy': 3}, 1: {'easy': 2}, 4: {'easy': 5}, 5: {'easy': 2}, 6: {'easy': 2}, 7: {'easy': 7}, 8: {'easy': 1}, 9: {'easy': 1}, 12: {'easy': 5}}, 'e8af950dbdce9197cf585647': {0: {'nothing': 1}, 16: {'nothing': 1}, 17: {'nothing': 1}, 23: {'nothing': 1}, 27: {'nothing': 1}, 32: {'nothing': 1}, 38: {'nothing': 1, 'easy': 1}, 39: {'nothing': 1, 'hard': 1}}, 'b48a725d43b157c24710ad03': {0: {'nothing': 1}}, '025f71395bdeddb2815a8e14': {0: {'medium': 13}, 1: {'medium': 8}, 2: {'medium': 22}, 3: {'medium': 17, 'hard': 1}, 5: {'medium': 2}, 6: {'medium': 2}, 9: {'medium': 1}}, '34a0f089b55965bd89517ca9': {0: {'easy': 1, 'medium': 7}, 1: {'medium': 2}, 2: {'medium': 2}, 3: {'medium': 5}, 4: {'medium': 5}, 5: {'medium': 7}, 6: {'medium': 2}, 7: {'medium': 1}, 8: {'medium': 4}, 9: {'medium': 2}, 10: {'medium': 2}, 11: {'medium': 1}, 12: {'medium': 1}, 13: {'medium': 2}, 15: {'medium': 1}, 16: {'medium': 1}, 17: {'medium': 3}, 18: {'medium': 1}, 19: {'medium': 3}, 20: {'medium': 1}, 21: {'medium': 1}, 22: {'medium': 2}, 23: {'medium': 5}, 25: {'medium': 3}, 26: {'medium': 3}, 28: {'medium': 2}, 29: {'medium': 3}, 30: {'medium': 3}, 31: {'medium': 3}, 32: {'medium': 4}, 33: {'medium': 2}, 35: {'medium': 3}, 38: {'easy': 2}, 39: {'nothing': 1, 'hard': 1}, 43: {'easy': 1}, 44: {'nothing': 1}, 45: {'medium': 1, 'hard': 1}, 46: {'easy': 1}, 47: {'medium': 1, 'hard': 1}, 48: {'nothing': 1}}, '53a358c6df83ec21b07f342f': {0: {'easy': 2, 'nothing': 2}, 1: {'nothing': 9}, 2: {'nothing': 18}, 3: {'nothing': 16}, 5: {'nothing': 5}, 6: {'nothing': 3}, 7: {'nothing': 13}, 8: {'nothing': 4}, 9: {'nothing': 2}, 10: {'nothing': 12}, 11: {'nothing': 6}, 12: {'nothing': 13}, 14: {'nothing': 13}, 15: {'nothing': 27}, 16: {'nothing': 26}, 17: {'nothing': 36}, 18: {'nothing': 18}, 19: {'nothing': 14}}, 'e594632569320c5bad946ea6': {0: {'easy': 1, 'medium': 7}, 1: {'medium': 3, 'nothing': 18, 'easy': 3}, 2: {'medium': 2, 'nothing': 17, 'hard': 3}, 3: {'medium': 1, 'nothing': 13}, 4: {'nothing': 4, 'easy': 1}, 5: {'nothing': 29, 'hard': 3}, 7: {'nothing': 1}, 8: {'nothing': 22}, 9: {'nothing': 29, 'hard': 1}, 10: {'hard': 2, 'nothing': 9}, 11: {'nothing': 9}, 12: {'nothing': 19, 'hard': 2}, 13: {'nothing': 7}, 15: {'nothing': 18, 'hard': 1}, 16: {'nothing': 8}, 17: {'nothing': 5}, 18: {'nothing': 9, 'hard': 1}, 19: {'nothing': 29}, 20: {'nothing': 14}, 21: {'nothing': 5, 'hard': 1}, 22: {'nothing': 13}, 23: {'nothing': 13, 'hard': 1}, 24: {'nothing': 20}, 25: {'nothing': 4}, 26: {'nothing': 29}, 27: {'nothing': 25}, 28: {'nothing': 23, 'easy': 1}, 29: {'nothing': 18, 'hard': 1}, 30: {'nothing': 33, 'hard': 1}, 31: {'nothing': 7}, 32: {'nothing': 16, 'hard': 1}, 33: {'nothing': 17}, 34: {'nothing': 11, 'hard': 1}, 35: {'nothing': 8}, 36: {'easy': 4, 'nothing': 7, 'hard': 3}, 37: {'nothing': 9, 'easy': 4, 'hard': 2}, 40: {'nothing': 8, 'easy': 1, 'hard': 1, 'medium': 2}, 41: {'nothing': 14, 'hard': 6, 'medium': 2, 'easy': 2}, 42: {'nothing': 5, 'medium': 1, 'hard': 1, 'easy': 2}, 44: {'nothing': 9, 'medium': 3, 'easy': 2, 'hard': 1}, 46: {'nothing': 1, 'hard': 1}}, 'd2629fa92242532f893590f6': {0: {'easy': 1}}, '138caa9f23f4059ffa95de3c': {0: {'easy': 21}, 1: {'easy': 17}, 2: {'easy': 7}, 3: {'easy': 17}, 4: {'easy': 7}, 5: {'easy': 5}, 11: {'easy': 2}, 12: {'easy': 9}, 13: {'easy': 13}, 14: {'easy': 18}, 15: {'easy': 21}, 16: {'easy': 20}, 17: {'easy': 5}, 18: {'easy': 5}, 19: {'easy': 10}, 20: {'easy': 26}, 21: {'easy': 15}, 22: {'easy': 18}, 23: {'easy': 13}, 24: {'easy': 2}, 26: {'easy': 11}, 27: {'easy': 15}, 28: {'easy': 13}, 29: {'easy': 15}, 30: {'easy': 12}, 31: {'easy': 13}, 32: {'easy': 6}, 33: {'easy': 8}, 35: {'hard': 2, 'easy': 1}, 36: {'easy': 7, 'hard': 4, 'nothing': 2}, 37: {'medium': 5, 'easy': 14, 'hard': 2, 'nothing': 1}, 38: {'easy': 1}, 39: {'easy': 4, 'hard': 1}, 40: {'easy': 4, 'medium': 1}, 41: {'medium': 1, 'hard': 5, 'easy': 12, 'nothing': 2}, 42: {'easy': 5, 'medium': 5, 'nothing': 2, 'hard': 1}, 43: {'easy': 11, 'medium': 4, 'nothing': 4}, 44: {'hard': 2, 'easy': 5, 'nothing': 1, 'medium': 1}, 45: {'medium': 1, 'easy': 1, 'nothing': 1}, 46: {'easy': 2, 'nothing': 2, 'hard': 1}, 47: {'easy': 14, 'medium': 1, 'nothing': 3}, 48: {'easy': 11, 'nothing': 8, 'medium': 4, 'hard': 1}, 49: {'easy': 7, 'medium': 2, 'hard': 2, 'nothing': 1}, 50: {'easy': 21, 'medium': 8, 'hard': 6, 'nothing': 8}, 51: {'easy': 9, 'hard': 6, 'nothing': 3, 'medium': 1}, 52: {'easy': 4, 'hard': 3, 'medium': 3}, 53: {'easy': 4, 'hard': 3, 'nothing': 1, 'medium': 1}, 54: {'easy': 9, 'nothing': 3, 'hard': 3, 'medium': 3}, 55: {'easy': 11, 'nothing': 3, 'hard': 2}}, 'd9bab32d414f0635e3999c8f': {0: {'medium': 3, 'hard': 12, 'nothing': 63, 'easy': 1}, 1: {'nothing': 94}, 2: {'nothing': 111}, 3: {'nothing': 87}, 4: {'nothing': 41, 'easy': 2}, 9: {'nothing': 66}, 10: {'nothing': 80}, 11: {'nothing': 94}, 12: {'nothing': 89}, 13: {'nothing': 80}, 14: {'nothing': 98}, 15: {'nothing': 97}, 16: {'nothing': 95}, 17: {'nothing': 49, 'easy': 1}, 18: {'nothing': 74}, 19: {'nothing': 58, 'easy': 1}, 20: {'nothing': 23, 'easy': 1}, 21: {'nothing': 58, 'easy': 1}, 22: {'nothing': 62, 'easy': 1}, 23: {'nothing': 20}, 50: {'nothing': 14, 'medium': 2, 'easy': 1, 'hard': 1}, 52: {'hard': 2, 'nothing': 1}, 53: {'hard': 1, 'nothing': 1}, 54: {'nothing': 2, 'hard': 1, 'easy': 1}}, '723f403bba74514c836aabc6': {0: {'easy': 2, 'nothing': 3}, 1: {'nothing': 2}, 3: {'nothing': 2}, 4: {'nothing': 2}, 7: {'nothing': 3}, 8: {'nothing': 5}, 9: {'nothing': 8}, 10: {'nothing': 6, 'easy': 1}, 11: {'nothing': 2}, 12: {'nothing': 1}, 15: {'nothing': 2}, 20: {'nothing': 1}, 25: {'nothing': 1}, 31: {'nothing': 1}, 32: {'nothing': 1}, 38: {'nothing': 1, 'hard': 1}, 44: {'nothing': 1, 'hard': 1}, 46: {'nothing': 1, 'easy': 1}}, 'dadeb0a9a2b317f1cac9261d': {0: {'medium': 1, 'nothing': 2}, 1: {'nothing': 4}, 2: {'nothing': 5}}, 'c56c26a78bb0a53dd5a93c84': {0: {'nothing': 1}}, '54b6b4f1c769235635a45d59': {0: {'medium': 2}, 1: {'easy': 3, 'medium': 5, 'hard': 1}, 2: {'medium': 1}, 3: {'medium': 1}, 4: {'medium': 7}, 5: {'medium': 1}, 7: {'medium': 1}, 8: {'medium': 3, 'hard': 1}, 10: {'medium': 18}, 11: {'medium': 2}, 14: {'medium': 3}, 18: {'medium': 10}, 21: {'medium': 1}, 22: {'medium': 2}, 24: {'medium': 1}, 25: {'medium': 5}, 26: {'medium': 12, 'easy': 8}, 27: {'medium': 8, 'easy': 2, 'nothing': 1}, 28: {'medium': 4, 'easy': 7}, 29: {'easy': 3, 'medium': 4}, 30: {'medium': 3}, 31: {'medium': 7, 'easy': 5}, 32: {'medium': 8, 'easy': 2, 'hard': 1}, 35: {'medium': 2, 'easy': 1}, 36: {'medium': 1, 'hard': 1, 'easy': 1}, 38: {'medium': 12, 'easy': 6, 'hard': 2, 'nothing': 1}, 39: {'medium': 3, 'nothing': 1}, 41: {'medium': 4, 'hard': 1}, 45: {'hard': 1}, 46: {'easy': 6, 'medium': 4, 'hard': 2, 'nothing': 2}, 47: {'medium': 3, 'easy': 6, 'nothing': 2, 'hard': 1}, 48: {'nothing': 1, 'medium': 1}, 49: {'medium': 1, 'easy': 1}, 50: {'medium': 1}, 51: {'nothing': 3}, 52: {'medium': 3, 'easy': 2, 'nothing': 1}, 53: {'medium': 2, 'easy': 5, 'hard': 1}}, 'f898e59e0a0f83354c816d8b': {0: {'easy': 26, 'nothing': 4}, 1: {'easy': 32}, 2: {'easy': 20}, 3: {'easy': 17}, 4: {'easy': 10}, 5: {'easy': 8}, 6: {'easy': 10}, 7: {'easy': 26}, 8: {'easy': 9}, 9: {'easy': 21}, 10: {'easy': 18}, 11: {'easy': 21}, 12: {'easy': 40}, 13: {'easy': 24}, 14: {'easy': 27}, 15: {'easy': 36}, 16: {'easy': 30}, 17: {'easy': 24}, 18: {'easy': 11}, 19: {'easy': 14}, 20: {'easy': 16}, 21: {'easy': 20}, 22: {'easy': 28, 'medium': 1}, 23: {'easy': 13}, 24: {'easy': 22}, 25: {'easy': 14}, 26: {'easy': 11}, 27: {'easy': 17}, 28: {'easy': 24}, 29: {'easy': 24}, 30: {'easy': 27}, 31: {'easy': 26}, 32: {'easy': 22}, 33: {'easy': 17}, 34: {'easy': 33}, 35: {'easy': 10, 'hard': 4, 'medium': 1, 'nothing': 1}, 36: {'medium': 2, 'easy': 2, 'nothing': 1}, 37: {'easy': 4, 'nothing': 1, 'medium': 1, 'hard': 1}, 38: {'hard': 8, 'nothing': 10, 'easy': 17, 'medium': 10}, 39: {'nothing': 4, 'hard': 4, 'easy': 8, 'medium': 3}, 40: {'medium': 6, 'easy': 15, 'hard': 6, 'nothing': 4}}, '7ab2c7347372246cf6c1d11f': {0: {'easy': 1}, 31: {'nothing': 1}, 33: {'nothing': 4}}, '5bd6a594e93ab20c2f338074': {0: {'nothing': 3}, 3: {'nothing': 1}, 7: {'nothing': 1}, 8: {'nothing': 1}}, 'a559970d1a264b3dfd16bd83': {0: {'medium': 1}, 1: {'medium': 5, 'nothing': 1}, 2: {'nothing': 1}, 3: {'medium': 3}, 4: {'easy': 1}, 5: {'easy': 1}, 7: {'easy': 2}, 9: {'easy': 1}, 14: {'easy': 1}, 15: {'easy': 1}, 16: {'easy': 1}, 18: {'easy': 1}, 19: {'easy': 2}, 20: {'easy': 2, 'nothing': 1}, 22: {'easy': 4}, 23: {'easy': 4}, 24: {'easy': 3}, 25: {'easy': 1}, 26: {'easy': 2}, 27: {'easy': 1}, 29: {'easy': 1}, 30: {'easy': 1}, 31: {'easy': 1}, 32: {'easy': 1}, 33: {'easy': 1, 'medium': 1}, 34: {'easy': 2, 'medium': 1}, 35: {'medium': 1, 'hard': 1}, 36: {'easy': 1}, 37: {'medium': 1, 'nothing': 1}, 38: {'easy': 3}, 39: {'nothing': 1, 'easy': 2}, 40: {'easy': 1}, 41: {'easy': 3, 'medium': 3, 'nothing': 1}, 42: {'easy': 2, 'hard': 1}, 44: {'easy': 1, 'hard': 1}, 45: {'easy': 1, 'nothing': 1}, 46: {'medium': 1, 'hard': 1}, 47: {'nothing': 2, 'easy': 1}, 48: {'easy': 1}, 49: {'easy': 1, 'medium': 1, 'nothing': 1}, 50: {'medium': 1, 'hard': 1}, 51: {'medium': 2, 'hard': 1}, 52: {'nothing': 2, 'medium': 2}, 53: {'hard': 1}}, '3e6ee42e84007ea98ffd1493': {0: {'nothing': 1}, 1: {'nothing': 1}, 2: {'nothing': 1}, 3: {'nothing': 1}, 4: {'nothing': 3}, 5: {'nothing': 1}, 8: {'nothing': 1}, 11: {'nothing': 5}, 12: {'nothing': 3}, 15: {'nothing': 1}, 20: {'nothing': 1}, 21: {'nothing': 2}, 30: {'nothing': 3}, 35: {'nothing': 3}, 40: {'nothing': 1}, 41: {'nothing': 2}, 45: {'nothing': 1, 'medium': 1}, 50: {'nothing': 2}, 54: {'nothing': 1, 'medium': 1}}, 'fe28e6d288efc8d0be7a1bbd': {0: {'nothing': 6}, 11: {'nothing': 1}, 27: {'nothing': 5}, 28: {'nothing': 2}, 45: {'nothing': 2}}, 'e05b75ee3af7ba751ceed4be': {0: {'nothing': 1}, 1: {'nothing': 3}}, 'be7e0052afb1de54a55f076f': {0: {'nothing': 1, 'easy': 1}}, '81675e598a1f7c4ee054b535': {0: {'easy': 2, 'medium': 3}, 1: {'easy': 4, 'medium': 1}, 2: {'medium': 2, 'easy': 1}, 3: {'medium': 2, 'nothing': 2}, 4: {'easy': 1}, 5: {'easy': 1, 'nothing': 3}, 6: {'nothing': 8, 'easy': 1}, 7: {'nothing': 3}, 8: {'nothing': 10}, 9: {'nothing': 3}, 10: {'nothing': 10}, 11: {'nothing': 7}}, '53f3f933b4ec99eb16a8580c': {0: {'nothing': 1}, 12: {'nothing': 2}, 13: {'nothing': 2}, 14: {'nothing': 3}, 17: {'nothing': 4}, 18: {'nothing': 10}, 19: {'nothing': 3}, 20: {'nothing': 1}, 21: {'nothing': 3}, 23: {'nothing': 3}, 24: {'nothing': 3}, 25: {'nothing': 5}, 26: {'nothing': 2}, 27: {'nothing': 1}, 28: {'nothing': 3}, 29: {'nothing': 2}, 31: {'nothing': 3}, 32: {'nothing': 3}, 33: {'nothing': 2}, 35: {'nothing': 3}, 36: {'nothing': 2}, 37: {'nothing': 2}, 41: {'nothing': 1, 'hard': 1}, 43: {'nothing': 1, 'hard': 1}, 45: {'nothing': 1, 'hard': 1}, 51: {'nothing': 2, 'medium': 2}, 53: {'nothing': 1, 'medium': 1}}, '47473a93fe7fb6f698c8d7fb': {0: {'easy': 1}}, 'a816f8fc5500ebf023079435': {0: {'easy': 1}, 2: {'easy': 1}, 3: {'easy': 1}, 4: {'nothing': 1, 'easy': 1}, 9: {'nothing': 1}, 10: {'nothing': 2}, 12: {'nothing': 1}, 13: {'nothing': 1}, 14: {'nothing': 1}, 15: {'nothing': 2}, 16: {'easy': 1}, 18: {'nothing': 2}, 22: {'nothing': 1}, 23: {'nothing': 1}, 24: {'nothing': 1}, 27: {'nothing': 1}, 30: {'nothing': 1}, 31: {'nothing': 1}, 33: {'nothing': 2}, 34: {'nothing': 1}, 36: {'nothing': 1, 'medium': 1}}, 'ad9aae843cdb813a8d76e15b': {0: {'nothing': 3}, 1: {'nothing': 2}, 6: {'nothing': 1}, 13: {'nothing': 1}, 19: {'nothing': 1}, 20: {'nothing': 1}, 21: {'nothing': 1}, 22: {'nothing': 4}, 23: {'nothing': 1}, 27: {'nothing': 1}, 29: {'hard': 1}, 41: {'nothing': 1, 'hard': 1}}, '94074dbc1053fe8f186a5774': {0: {'easy': 1, 'nothing': 1}, 12: {'easy': 1}, 25: {'nothing': 1}, 44: {'hard': 1}, 53: {'easy': 2}}, '5d1ab6ba219fe6eb6595fdea': {0: {'nothing': 10, 'easy': 6, 'medium': 1}, 1: {'nothing': 7, 'hard': 1}, 2: {'nothing': 10, 'easy': 2}, 3: {'nothing': 2, 'easy': 1}, 4: {'easy': 3, 'nothing': 4}, 5: {'nothing': 14, 'easy': 7}, 6: {'nothing': 18, 'easy': 7}, 7: {'easy': 12, 'nothing': 12}, 8: {'nothing': 4, 'easy': 3}, 9: {'nothing': 1, 'easy': 4}, 10: {'easy': 7}, 11: {'easy': 4, 'nothing': 6, 'medium': 1}, 12: {'easy': 4, 'nothing': 6}, 13: {'easy': 1, 'nothing': 4}}, '7b9202fc61594c45a1e96f82': {0: {'medium': 1}, 1: {'medium': 1}, 3: {'medium': 1}, 4: {'medium': 2}, 5: {'medium': 1}, 8: {'medium': 1}, 12: {'medium': 2}, 15: {'medium': 1}, 21: {'medium': 1}, 51: {'medium': 3}}, '7b7554656ba3ec1c32a5504a': {0: {'easy': 1, 'nothing': 1}, 1: {'nothing': 1}, 5: {'nothing': 1}, 6: {'easy': 1}, 8: {'nothing': 1}, 10: {'nothing': 1}, 19: {'nothing': 4}, 23: {'nothing': 1}, 24: {'nothing': 2}, 25: {'nothing': 1}, 27: {'nothing': 2}, 28: {'nothing': 4}, 29: {'nothing': 1}, 30: {'nothing': 4}, 31: {'nothing': 2}, 32: {'nothing': 8}, 33: {'nothing': 1}, 34: {'nothing': 2}, 36: {'nothing': 1, 'medium': 1}, 38: {'nothing': 1, 'medium': 1}, 48: {'hard': 1}, 49: {'nothing': 2}, 50: {'nothing': 1}}, '49f1df908e71cc75c9d5da30': {0: {'medium': 10}, 5: {'nothing': 16}, 6: {'nothing': 3}, 7: {'nothing': 40, 'easy': 1}, 8: {'nothing': 1}, 16: {'nothing': 16}}, '71eb0ac73d5e689c36c01199': {0: {'medium': 1}}, 'ef64cb81ca663176daa85dec': {0: {'easy': 4}, 1: {'hard': 1, 'nothing': 1}, 4: {'nothing': 2}, 5: {'nothing': 1}, 6: {'nothing': 5}, 7: {'nothing': 2}, 8: {'nothing': 2}, 11: {'nothing': 5}, 12: {'nothing': 10}, 13: {'nothing': 6}, 14: {'nothing': 7}, 15: {'nothing': 1}, 17: {'nothing': 4}, 18: {'nothing': 18}, 21: {'nothing': 1}, 22: {'nothing': 6}, 24: {'nothing': 1}}, '80cad5aae53659ee702b205c': {0: {'medium': 1}}, '0812df1382381cee3edab4b6': {0: {'medium': 8, 'easy': 1}, 1: {'medium': 2}, 5: {'easy': 1}, 6: {'easy': 3, 'medium': 1, 'hard': 4}, 7: {'medium': 1}, 8: {'medium': 1, 'hard': 4}, 9: {'medium': 1, 'hard': 2}, 11: {'hard': 5}, 12: {'hard': 8, 'medium': 3}, 15: {'hard': 3, 'medium': 1, 'easy': 6}, 16: {'hard': 2}, 17: {'hard': 7, 'medium': 2}, 18: {'hard': 2, 'nothing': 1}, 19: {'nothing': 1, 'hard': 2}, 20: {'nothing': 1, 'medium': 1, 'easy': 1, 'hard': 1}, 22: {'easy': 3}, 23: {'easy': 1}, 24: {'easy': 7}, 25: {'medium': 2, 'hard': 4, 'easy': 2, 'nothing': 2}, 26: {'hard': 1}, 27: {'medium': 3, 'easy': 8, 'nothing': 2, 'hard': 1}, 28: {'hard': 1, 'nothing': 1, 'easy': 1}, 29: {'nothing': 3, 'easy': 7, 'hard': 2}, 31: {'nothing': 2, 'easy': 9}, 32: {'easy': 11, 'nothing': 1}, 33: {'easy': 7}, 34: {'easy': 9, 'medium': 2}, 39: {'easy': 4, 'medium': 2, 'nothing': 1}, 40: {'easy': 2}, 41: {'easy': 2}, 43: {'easy': 4, 'nothing': 1}, 44: {'easy': 1, 'nothing': 1}, 46: {'nothing': 1, 'easy': 1, 'medium': 1}}, '9aadbf02a4fd0cfc384adb44': {0: {'nothing': 1}, 4: {'nothing': 1}}, '9638aeaeb86457fb652af578': {0: {'easy': 1, 'nothing': 1}, 1: {'nothing': 8}, 2: {'nothing': 3}, 3: {'easy': 1}, 4: {'nothing': 1, 'easy': 1}, 5: {'nothing': 4}, 6: {'nothing': 1}}, '72d733ece4e778a1f19f6fef': {0: {'nothing': 1}}, '96f24b20e495248154de892c': {0: {'medium': 3, 'hard': 3, 'nothing': 1}, 1: {'nothing': 1, 'hard': 1}, 2: {'medium': 7}, 3: {'medium': 3}, 5: {'hard': 1}, 6: {'medium': 1}, 7: {'medium': 1}, 8: {'medium': 3}, 9: {'medium': 1}}, '8cea197f872e5185e9b9d945': {0: {'medium': 1}, 11: {'medium': 1}, 18: {'easy': 1}, 23: {'nothing': 2, 'easy': 1}}, '1f8b5737b629e31a06ac3143': {0: {'easy': 2, 'nothing': 20}, 2: {'nothing': 22}, 3: {'nothing': 11}, 4: {'nothing': 23}, 5: {'nothing': 9}, 6: {'nothing': 9}, 7: {'nothing': 8}, 8: {'nothing': 25}, 9: {'nothing': 15}, 10: {'nothing': 11}, 11: {'nothing': 7}, 12: {'nothing': 12}, 13: {'nothing': 4}, 14: {'nothing': 8}, 15: {'nothing': 29}, 16: {'nothing': 17}}, 'de6a908835401dcaf037cc95': {0: {'easy': 2, 'nothing': 2}, 1: {'easy': 1, 'nothing': 3}, 2: {'nothing': 7}, 3: {'nothing': 4, 'easy': 1}, 4: {'nothing': 11}, 5: {'nothing': 3}, 6: {'nothing': 8}, 7: {'nothing': 4}, 8: {'nothing': 3}, 9: {'nothing': 1}, 11: {'nothing': 7, 'easy': 1}, 13: {'nothing': 2}, 14: {'nothing': 1}, 15: {'nothing': 5}, 16: {'nothing': 2}, 17: {'nothing': 1}, 18: {'nothing': 3}, 19: {'nothing': 2}, 20: {'nothing': 1}, 21: {'nothing': 3}, 23: {'nothing': 3}, 24: {'nothing': 4}, 25: {'nothing': 2}, 26: {'nothing': 7}, 27: {'nothing': 7}, 28: {'nothing': 2}, 30: {'nothing': 2}, 31: {'nothing': 2}, 32: {'nothing': 5}, 33: {'nothing': 3}, 34: {'nothing': 3}, 35: {'hard': 1}, 36: {'nothing': 1, 'hard': 1}, 37: {'hard': 2}, 38: {'nothing': 1, 'easy': 1}, 40: {'nothing': 1, 'easy': 1}, 42: {'nothing': 2, 'hard': 4, 'easy': 1}, 46: {'nothing': 2}}, '5ed53fe1b396c2936200bfbf': {0: {'easy': 15, 'nothing': 1}, 1: {'easy': 4}, 3: {'easy': 1}, 4: {'easy': 7}, 5: {'easy': 1}, 6: {'easy': 8}, 7: {'easy': 15}, 8: {'easy': 3}, 11: {'easy': 13}, 12: {'easy': 8}, 13: {'easy': 2}, 14: {'easy': 6}, 15: {'easy': 1}, 18: {'easy': 1}, 19: {'easy': 1}, 20: {'easy': 1}, 21: {'easy': 2}, 22: {'easy': 4}, 25: {'easy': 2}, 27: {'easy': 1}, 28: {'easy': 4}, 29: {'easy': 1}, 32: {'easy': 1, 'nothing': 1}, 33: {'nothing': 2, 'hard': 1}, 34: {'nothing': 1}}, '2d2ece842c44046b7e1953ad': {0: {'medium': 1, 'easy': 1, 'nothing': 5}, 1: {'nothing': 6}, 12: {'nothing': 1}, 15: {'nothing': 1}}, '9e2210bf3fb69f3b241a3cbc': {0: {'easy': 1}}, 'd86549a7a0fe4ca79b9c2225': {0: {'nothing': 1}}, '6cc1bf414952799d62561c98': {0: {'nothing': 3}, 1: {'nothing': 1}, 2: {'nothing': 3}, 3: {'nothing': 1}, 8: {'nothing': 1}, 9: {'nothing': 1, 'easy': 1}, 10: {'nothing': 1}, 11: {'nothing': 1}, 12: {'nothing': 1}, 13: {'nothing': 1}, 14: {'nothing': 1}, 15: {'nothing': 1}, 16: {'nothing': 1}, 18: {'nothing': 3}, 19: {'nothing': 3}, 20: {'nothing': 2}, 23: {'nothing': 1}, 26: {'nothing': 1}, 28: {'nothing': 3}, 30: {'nothing': 2}, 31: {'nothing': 2}}, '9338bc90cf7efa38c86e0edd': {0: {'hard': 5, 'medium': 3, 'easy': 1, 'nothing': 1}, 1: {'easy': 1}, 2: {'easy': 1, 'nothing': 1}, 3: {'nothing': 5}, 4: {'nothing': 8}, 5: {'nothing': 6}, 6: {'nothing': 4}, 8: {'nothing': 2}, 9: {'nothing': 4}, 10: {'nothing': 2}, 11: {'nothing': 6, 'easy': 1}, 12: {'nothing': 3}, 13: {'nothing': 3}, 14: {'nothing': 5}, 15: {'nothing': 2}, 16: {'nothing': 4}, 17: {'nothing': 1}, 18: {'nothing': 2}, 19: {'nothing': 4}, 20: {'nothing': 8}, 21: {'nothing': 6}, 23: {'hard': 5, 'easy': 1, 'nothing': 3, 'medium': 1}, 24: {'nothing': 4, 'hard': 2}, 25: {'nothing': 3}, 26: {'nothing': 5, 'hard': 2}, 27: {'nothing': 8}, 28: {'nothing': 10}, 29: {'nothing': 11}, 30: {'nothing': 7, 'hard': 1}, 31: {'nothing': 5}, 32: {'nothing': 4}, 33: {'nothing': 4}, 34: {'nothing': 2}, 38: {'easy': 1}, 40: {'nothing': 2, 'medium': 1, 'easy': 1}, 41: {'nothing': 1}, 42: {'easy': 1, 'nothing': 1, 'hard': 1}, 45: {'nothing': 1, 'easy': 1}, 46: {'nothing': 2}}, '90ac9e6795b5df1b6cd90539': {0: {'nothing': 1}, 1: {'nothing': 1}, 4: {'nothing': 1}, 5: {'nothing': 1}, 6: {'nothing': 1}, 8: {'nothing': 1}, 9: {'nothing': 1}, 11: {'nothing': 3}, 13: {'easy': 1}, 14: {'nothing': 1}, 16: {'nothing': 1}, 18: {'nothing': 1}, 19: {'nothing': 1}, 20: {'nothing': 1}, 22: {'nothing': 1}, 23: {'nothing': 3}, 25: {'nothing': 1}, 26: {'nothing': 1}, 29: {'nothing': 1}, 31: {'nothing': 1}, 32: {'nothing': 1}, 33: {'nothing': 2}, 34: {'medium': 1}, 37: {'nothing': 2, 'medium': 2}}, 'b354bcafe90d5fddf7bfa370': {0: {'nothing': 1}}, '6299956f1fee8b164bfecd1f': {0: {'medium': 3, 'easy': 1, 'nothing': 1}, 1: {'easy': 1, 'nothing': 2}}, 'e6fb4bc52f706f0cb48e787f': {0: {'medium': 1}}, 'f71425bd54deea74a6dbf8f2': {0: {'medium': 15, 'nothing': 5}, 2: {'medium': 3, 'nothing': 7}, 3: {'nothing': 1}, 4: {'nothing': 19, 'medium': 2}, 5: {'nothing': 7, 'medium': 3}, 6: {'medium': 2}, 7: {'medium': 7, 'nothing': 2}, 9: {'medium': 1, 'nothing': 2}, 10: {'medium': 2, 'nothing': 1}, 11: {'nothing': 1, 'medium': 2}, 12: {'nothing': 4}, 13: {'nothing': 6}, 14: {'nothing': 6}, 15: {'nothing': 1}, 16: {'nothing': 8}, 17: {'nothing': 15}, 18: {'nothing': 12}, 19: {'nothing': 6}, 20: {'nothing': 8}, 21: {'nothing': 4}, 22: {'nothing': 16}, 23: {'nothing': 11}, 24: {'nothing': 15}, 25: {'nothing': 4}, 26: {'nothing': 9}, 27: {'nothing': 13}, 28: {'nothing': 13}, 29: {'nothing': 19}, 30: {'nothing': 3}, 31: {'nothing': 6}, 32: {'nothing': 5}, 33: {'nothing': 2, 'hard': 1, 'easy': 1}, 34: {'nothing': 5, 'easy': 1, 'hard': 1}, 35: {'nothing': 1, 'medium': 1}, 36: {'nothing': 2}, 37: {'nothing': 1, 'easy': 2}, 38: {'easy': 2, 'nothing': 3, 'medium': 1}, 39: {'medium': 1, 'nothing': 1}, 40: {'nothing': 2, 'medium': 2, 'hard': 1}, 41: {'hard': 3, 'easy': 2}, 43: {'medium': 2, 'nothing': 1}, 44: {'easy': 1, 'nothing': 1, 'hard': 1}}, '839d3e1b1a0e0ecc3f2690ff': {0: {'easy': 7}, 1: {'easy': 8}, 2: {'easy': 1}, 3: {'easy': 1}, 4: {'easy': 5}, 5: {'easy': 6, 'nothing': 1}, 6: {'easy': 4, 'nothing': 1}, 7: {'easy': 14, 'nothing': 1}, 8: {'easy': 6}, 9: {'easy': 1}, 10: {'easy': 3}, 11: {'easy': 5}, 12: {'easy': 17}, 13: {'easy': 4}, 14: {'easy': 6, 'medium': 1}, 15: {'easy': 1}, 16: {'easy': 6}, 17: {'easy': 6}, 18: {'easy': 3}, 19: {'easy': 9}, 20: {'easy': 1}, 21: {'easy': 10}, 22: {'easy': 8}, 23: {'easy': 8}, 24: {'easy': 9}, 25: {'easy': 2}, 26: {'easy': 13}, 27: {'easy': 10}, 28: {'easy': 10, 'nothing': 1}, 30: {'easy': 7}, 31: {'easy': 2}, 32: {'easy': 5}}, 'f5575eb59e9026a797c24d7b': {0: {'hard': 16, 'medium': 3}, 1: {'medium': 3, 'hard': 8, 'easy': 1}, 2: {'hard': 24}, 3: {'hard': 15}, 4: {'hard': 17, 'easy': 1}, 5: {'hard': 6}, 6: {'hard': 6}, 7: {'hard': 19, 'medium': 6}, 8: {'hard': 52, 'medium': 9, 'easy': 22, 'nothing': 9}, 9: {'easy': 30, 'hard': 11, 'nothing': 4, 'medium': 3}, 10: {'easy': 37, 'hard': 4, 'medium': 1}, 11: {'easy': 45, 'medium': 5, 'hard': 5}, 12: {'easy': 35, 'hard': 5}, 13: {'hard': 19, 'easy': 38, 'nothing': 1, 'medium': 2}, 14: {'hard': 16, 'easy': 51, 'medium': 1}, 15: {'easy': 29, 'hard': 8}, 16: {'hard': 2, 'easy': 25}, 17: {'easy': 32, 'hard': 1}, 18: {'easy': 16, 'hard': 1, 'medium': 1}, 19: {'easy': 36, 'hard': 2}, 20: {'easy': 15}, 21: {'easy': 26}, 22: {'easy': 26, 'hard': 2}, 23: {'easy': 14}, 24: {'easy': 5}, 25: {'easy': 4}, 26: {'easy': 16}, 27: {'easy': 39}, 28: {'easy': 28, 'hard': 7}, 29: {'easy': 27}, 30: {'easy': 47, 'hard': 1}, 31: {'easy': 16}, 32: {'easy': 37}, 33: {'easy': 55, 'hard': 5, 'medium': 1}, 34: {'easy': 28, 'hard': 1}, 35: {'hard': 4, 'easy': 19, 'nothing': 1, 'medium': 1}, 36: {'hard': 2, 'nothing': 1, 'easy': 1, 'medium': 1}, 37: {'hard': 1, 'easy': 1}, 38: {'medium': 2, 'easy': 4}, 39: {'easy': 3, 'hard': 3}, 40: {'easy': 2}, 41: {'hard': 4, 'nothing': 3, 'easy': 1, 'medium': 3}, 42: {'hard': 4, 'easy': 10}, 43: {'nothing': 2, 'hard': 2, 'easy': 3, 'medium': 1}, 44: {'easy': 2, 'medium': 2, 'nothing': 1}, 45: {'nothing': 2, 'hard': 3, 'easy': 4}, 46: {'easy': 3, 'hard': 3, 'medium': 3}, 47: {'easy': 3}}, '643e61669e8d16095c48f0dd': {0: {'medium': 2}}, '80c243bff54d6778b77ad70f': {0: {'easy': 1, 'hard': 11}, 1: {'hard': 2}, 5: {'hard': 4}, 6: {'hard': 8}, 27: {'nothing': 3}, 28: {'nothing': 5, 'hard': 2}, 29: {'nothing': 2}, 31: {'nothing': 3}, 32: {'easy': 5, 'nothing': 6, 'medium': 1}, 33: {'nothing': 8, 'easy': 4}, 34: {'nothing': 2, 'medium': 1, 'easy': 1, 'hard': 1}, 35: {'nothing': 5, 'hard': 2}, 36: {'nothing': 4, 'easy': 1, 'hard': 1}, 38: {'nothing': 7, 'easy': 1, 'medium': 2}, 39: {'nothing': 4, 'hard': 1, 'easy': 1}, 40: {'easy': 1}, 41: {'nothing': 7, 'medium': 1, 'hard': 3, 'easy': 4}, 42: {'nothing': 4, 'medium': 2, 'hard': 2, 'easy': 1}, 43: {'nothing': 1, 'easy': 1}, 45: {'nothing': 5, 'hard': 1, 'easy': 1}, 46: {'nothing': 6, 'easy': 4, 'hard': 1, 'medium': 1}}, 'de36298bd2c2a409dd194f9e': {0: {'nothing': 2}}, '02a02b2e9f39870aceb18467': {0: {'easy': 1}}, '71ae284202ee5ee70f5cce51': {0: {'medium': 1}, 21: {'medium': 1}, 22: {'medium': 2}, 25: {'medium': 1}, 27: {'medium': 1}, 42: {'hard': 1, 'nothing': 1}, 43: {'medium': 1}}, '2fb6ec9968841d7da533966c': {0: {'nothing': 1}, 3: {'nothing': 1}, 4: {'nothing': 1}, 5: {'nothing': 2}, 7: {'nothing': 1}, 8: {'nothing': 1}, 9: {'nothing': 4}, 10: {'nothing': 1}, 12: {'nothing': 1}, 14: {'nothing': 1}, 16: {'nothing': 1}, 17: {'nothing': 1}, 18: {'nothing': 2}, 19: {'nothing': 1}, 20: {'nothing': 1}, 22: {'nothing': 2}, 26: {'nothing': 1}, 27: {'nothing': 1}, 29: {'nothing': 2}, 34: {'nothing': 1}}, '5c6135342ef6cebce9bb4920': {0: {'nothing': 1}}, 'fce077ef875e4638153da1a1': {0: {'medium': 11}, 2: {'medium': 2}, 4: {'medium': 1}, 5: {'nothing': 1}, 6: {'nothing': 1}, 8: {'nothing': 2}, 11: {'medium': 3}, 12: {'medium': 1}, 14: {'medium': 1}, 15: {'medium': 1}, 21: {'medium': 2, 'nothing': 9}, 22: {'nothing': 3}, 28: {'nothing': 2}, 29: {'nothing': 4}, 30: {'nothing': 2}, 32: {'medium': 1, 'nothing': 3, 'hard': 1}, 33: {'nothing': 3, 'easy': 1}, 35: {'nothing': 7, 'medium': 3, 'easy': 1, 'hard': 4}, 36: {'nothing': 1, 'medium': 1, 'easy': 1}, 37: {'nothing': 2}, 38: {'nothing': 4, 'hard': 1, 'medium': 1}, 39: {'nothing': 3, 'medium': 3, 'hard': 1}, 40: {'nothing': 6, 'hard': 2, 'easy': 3}, 42: {'nothing': 1}, 43: {'nothing': 5, 'medium': 3}, 44: {'nothing': 2}}, '589de8a1906b28164546ee28': {0: {'medium': 3}, 1: {'medium': 1}, 2: {'medium': 2}, 3: {'medium': 1}, 5: {'medium': 4}, 6: {'medium': 1}, 7: {'medium': 6}, 12: {'medium': 2}, 21: {'medium': 2}, 24: {'medium': 7}, 27: {'medium': 3}, 30: {'medium': 2}, 31: {'medium': 16}, 32: {'medium': 5}, 33: {'medium': 1}, 37: {'easy': 1}}, 'd4874d5e7babc623445090e6': {0: {'easy': 1}}, 'c347c7844b5944fdf172d1d5': {0: {'medium': 2, 'easy': 3, 'nothing': 11, 'hard': 2}, 1: {'nothing': 9}, 2: {'nothing': 32}, 3: {'nothing': 12, 'medium': 1}, 5: {'nothing': 16}, 6: {'nothing': 2}, 10: {'nothing': 2}, 11: {'nothing': 3}, 12: {'nothing': 2}, 13: {'nothing': 9}, 14: {'nothing': 3, 'easy': 1}, 16: {'nothing': 1}, 17: {'nothing': 4}, 18: {'nothing': 6}, 19: {'nothing': 19}, 20: {'nothing': 14}, 21: {'nothing': 9}, 22: {'nothing': 10}, 23: {'nothing': 21}, 24: {'nothing': 2}}, '0d60ce17315efa5067305364': {0: {'nothing': 1}}, 'a5d3f42a447533bd767d68b3': {0: {'nothing': 8, 'medium': 1}, 1: {'nothing': 4}, 2: {'nothing': 4}, 3: {'nothing': 4}, 4: {'nothing': 5}, 5: {'nothing': 4}, 6: {'nothing': 6}, 7: {'nothing': 5}, 8: {'nothing': 3}, 9: {'nothing': 2}, 10: {'nothing': 5}, 11: {'nothing': 2}, 12: {'nothing': 5}, 13: {'nothing': 1}, 14: {'nothing': 5}, 15: {'nothing': 2}, 16: {'nothing': 3}, 17: {'nothing': 2}, 18: {'nothing': 3}, 19: {'nothing': 3}, 20: {'nothing': 3}, 21: {'nothing': 11}, 22: {'nothing': 7}, 23: {'nothing': 3}, 24: {'nothing': 3}, 25: {'nothing': 3}, 26: {'nothing': 3}, 27: {'nothing': 3}, 28: {'nothing': 5}, 29: {'nothing': 14}, 30: {'nothing': 2}, 31: {'nothing': 2}, 32: {'nothing': 4}, 33: {'hard': 1}, 36: {'nothing': 2, 'medium': 1, 'easy': 1}, 37: {'medium': 1}, 38: {'nothing': 2, 'easy': 2, 'medium': 1}, 39: {'medium': 1, 'easy': 1, 'nothing': 1}, 40: {'nothing': 2}, 41: {'nothing': 2}, 42: {'nothing': 1, 'easy': 1}, 43: {'easy': 1}, 44: {'medium': 2, 'nothing': 1, 'hard': 1, 'easy': 1}}, '833ee6e05049b4d44cba2a74': {0: {'medium': 3}, 5: {'nothing': 1}, 11: {'easy': 1}, 13: {'nothing': 1}, 22: {'easy': 1}, 27: {'nothing': 1}}, 'fe1a637ae28652e35f207c9d': {0: {'medium': 22}, 1: {'medium': 18}, 2: {'medium': 6}, 4: {'medium': 5}}, '6719a4bf44d00e893c24aa4c': {0: {'easy': 1}}, '9fde12966c687b2051a06786': {0: {'medium': 3, 'hard': 3}, 1: {'medium': 4}, 2: {'medium': 9}, 3: {'medium': 4}, 5: {'medium': 3}, 6: {'medium': 2}, 7: {'medium': 3}, 8: {'medium': 5}, 9: {'medium': 6}, 10: {'medium': 14}, 11: {'medium': 9}, 12: {'medium': 8}, 13: {'medium': 4}, 14: {'medium': 11}, 15: {'medium': 11}, 16: {'medium': 10}, 17: {'medium': 8}, 18: {'medium': 3}, 19: {'medium': 4}, 20: {'medium': 1}, 21: {'medium': 2}, 22: {'medium': 3}, 23: {'medium': 12}, 24: {'medium': 7}, 26: {'medium': 8}, 28: {'medium': 3}, 29: {'medium': 2}, 30: {'medium': 8}, 31: {'medium': 3}}, '3c7080d4f979cad9072b8fee': {0: {'medium': 10}, 1: {'hard': 1, 'medium': 5}, 2: {'medium': 10}, 3: {'medium': 9}, 4: {'medium': 4}, 5: {'medium': 7}, 6: {'medium': 13}, 7: {'medium': 7}, 8: {'medium': 6}, 9: {'medium': 1}, 10: {'medium': 6}, 11: {'medium': 1}, 12: {'medium': 2}, 13: {'medium': 7}, 14: {'medium': 1}, 15: {'medium': 6}, 16: {'easy': 1, 'medium': 4}, 17: {'medium': 8}, 18: {'medium': 5}, 19: {'medium': 2}, 20: {'medium': 4}, 21: {'medium': 1}, 22: {'medium': 1}, 26: {'medium': 5}, 27: {'medium': 9}, 28: {'medium': 3}, 29: {'medium': 1}, 30: {'medium': 6}, 42: {'nothing': 1, 'medium': 1}}, '507dc5873b74a76a3f8e1a31': {0: {'medium': 4, 'easy': 5, 'nothing': 33}, 1: {'nothing': 74}, 2: {'nothing': 19}, 3: {'nothing': 2}, 4: {'medium': 1, 'nothing': 2}, 5: {'nothing': 83, 'easy': 1}, 6: {'nothing': 12}, 7: {'nothing': 47}, 8: {'nothing': 52}, 9: {'nothing': 34}, 10: {'nothing': 7}, 14: {'nothing': 21}, 15: {'nothing': 52}, 16: {'nothing': 5}}, '8406a9c3973cac0fd0dd469a': {0: {'easy': 1}, 10: {'easy': 1}, 23: {'nothing': 1}, 24: {'nothing': 1}, 28: {'nothing': 1}}, '52cc05b06e2009bef8937375': {0: {'easy': 1}, 1: {'easy': 1}, 4: {'easy': 1}, 5: {'easy': 1}, 17: {'easy': 2}, 19: {'easy': 1}, 26: {'nothing': 1}, 31: {'easy': 2}}, '91df825c8f2d52e363412b58': {0: {'medium': 2}, 1: {'medium': 5}, 2: {'medium': 1}, 4: {'medium': 2}}, 'd7d58a61a262e68d20960bcb': {0: {'nothing': 6}}, '5d6a780aaed18275fd44dab0': {0: {'medium': 13}, 1: {'medium': 13}, 2: {'medium': 11}, 3: {'medium': 1}, 4: {'medium': 5}, 6: {'medium': 2}, 7: {'medium': 10, 'easy': 1}, 8: {'medium': 1}, 11: {'easy': 1, 'medium': 8}, 12: {'medium': 21}, 13: {'medium': 31}, 14: {'medium': 15, 'nothing': 1}, 15: {'medium': 10}, 16: {'medium': 3}, 17: {'medium': 6}, 18: {'medium': 11}, 19: {'medium': 18}, 20: {'medium': 9}, 21: {'nothing': 1, 'medium': 10}, 22: {'medium': 11}, 23: {'medium': 17}, 24: {'medium': 17}, 25: {'medium': 15, 'nothing': 1}, 26: {'medium': 8}, 27: {'medium': 6, 'hard': 1}, 31: {'medium': 2}, 32: {'medium': 30, 'hard': 8, 'nothing': 4, 'easy': 4}, 33: {'nothing': 7, 'medium': 4, 'easy': 6, 'hard': 2}, 34: {'medium': 3, 'easy': 1, 'nothing': 1, 'hard': 1}, 35: {'medium': 1, 'hard': 1}, 36: {'medium': 2, 'nothing': 2}, 37: {'medium': 3, 'nothing': 1, 'hard': 1}, 38: {'medium': 4, 'hard': 2, 'nothing': 1, 'easy': 1}, 39: {'medium': 5, 'easy': 2, 'hard': 1}, 40: {'medium': 16, 'easy': 6, 'hard': 1, 'nothing': 3}, 41: {'hard': 2, 'medium': 8, 'nothing': 2, 'easy': 4}, 42: {'medium': 3, 'hard': 1, 'nothing': 1}}, '361f0c07cc5af4737ebcfaf5': {0: {'nothing': 5}, 1: {'nothing': 4}, 3: {'nothing': 1}, 4: {'nothing': 1}, 5: {'nothing': 3}, 9: {'nothing': 6}, 10: {'nothing': 3}, 12: {'nothing': 3}, 13: {'nothing': 3}, 14: {'nothing': 1}, 16: {'nothing': 8}, 17: {'nothing': 3}, 18: {'nothing': 2}, 20: {'nothing': 2}, 22: {'nothing': 3}, 23: {'nothing': 3}, 24: {'nothing': 6}, 25: {'nothing': 1}, 26: {'nothing': 3}, 27: {'nothing': 1}, 28: {'nothing': 3}, 29: {'nothing': 3}, 30: {'nothing': 4}, 31: {'nothing': 1}, 32: {'nothing': 1}, 33: {'nothing': 4}, 34: {'nothing': 1}, 35: {'easy': 1}, 36: {'medium': 1}, 37: {'nothing': 2, 'hard': 1, 'easy': 1}, 40: {'hard': 1}, 41: {'easy': 1}, 42: {'nothing': 2}, 43: {'nothing': 1, 'easy': 1}, 46: {'nothing': 2, 'medium': 1, 'hard': 2}}, '8279995f4e80cef63dc5c781': {0: {'nothing': 3}, 5: {'easy': 2}, 6: {'easy': 2}, 9: {'easy': 1}, 10: {'easy': 2}, 11: {'easy': 2}, 12: {'easy': 1}, 14: {'easy': 1}, 16: {'easy': 2}, 18: {'easy': 1}, 20: {'easy': 3}, 21: {'easy': 1}, 23: {'easy': 1}, 24: {'easy': 1}, 27: {'easy': 3}, 30: {'easy': 1}, 41: {'nothing': 1}, 42: {'medium': 1}, 43: {'easy': 1, 'hard': 1}}, '520f1afca1809bc394f46865': {0: {'nothing': 6}, 1: {'nothing': 5}, 2: {'nothing': 11}, 3: {'nothing': 4}, 4: {'nothing': 6}, 5: {'nothing': 5}, 6: {'nothing': 9}, 7: {'nothing': 6}, 8: {'nothing': 1}, 9: {'nothing': 2}, 10: {'nothing': 8}, 11: {'nothing': 2}}, 'd8bd88e79533b55a649a77d5': {0: {'medium': 1}}, '24683d82ea3c1acfefde4a12': {0: {'easy': 1}}, '2ccd08c121e4b23949d1c887': {0: {'easy': 8, 'nothing': 1}, 1: {'easy': 2}, 2: {'easy': 2}, 3: {'easy': 24}, 4: {'easy': 14}, 5: {'easy': 6}, 6: {'easy': 11}, 7: {'easy': 36, 'nothing': 1}, 8: {'easy': 10}}, '7655914bd9200a71cc6e05be': {0: {'nothing': 2, 'easy': 1}, 1: {'nothing': 5}, 2: {'nothing': 1, 'medium': 2}, 3: {'nothing': 6}, 4: {'nothing': 9}, 5: {'nothing': 6}, 6: {'nothing': 3}, 7: {'nothing': 9}, 8: {'nothing': 9}, 9: {'nothing': 11}, 10: {'nothing': 5}, 11: {'nothing': 7}, 12: {'nothing': 1, 'easy': 1}, 13: {'nothing': 6}, 15: {'nothing': 8}, 16: {'nothing': 17}, 17: {'nothing': 5}, 18: {'nothing': 13}, 19: {'nothing': 23}, 20: {'nothing': 8}, 21: {'nothing': 7}, 22: {'nothing': 17}, 23: {'nothing': 6}, 24: {'nothing': 7}, 25: {'nothing': 5}, 26: {'nothing': 4}, 27: {'nothing': 1}}, '1bc3e1f4b637b779f69af5e2': {0: {'easy': 1}}, '2e590b5b30c90f58b1e4ba55': {0: {'nothing': 2}, 20: {'nothing': 1}}, 'fec93c9ac15fadd14d675d38': {0: {'hard': 3, 'medium': 26, 'easy': 5}, 1: {'easy': 3, 'hard': 1}, 2: {'easy': 27, 'medium': 3, 'nothing': 4}, 3: {'easy': 6}, 4: {'easy': 14}, 5: {'easy': 2}, 6: {'easy': 3}, 8: {'easy': 9}, 9: {'easy': 10}, 10: {'easy': 6}, 11: {'easy': 4}, 12: {'easy': 6, 'nothing': 2}, 13: {'easy': 32, 'nothing': 2}, 14: {'easy': 14}, 15: {'easy': 10, 'medium': 1}, 16: {'easy': 1}, 17: {'easy': 1}, 19: {'easy': 16}, 20: {'easy': 3}, 21: {'easy': 22, 'nothing': 2}, 22: {'easy': 6}, 23: {'easy': 8}, 24: {'easy': 10}, 25: {'easy': 7}, 26: {'easy': 13}, 27: {'easy': 19}, 28: {'easy': 10, 'medium': 1, 'nothing': 1}, 29: {'easy': 33, 'nothing': 2}, 30: {'easy': 4, 'nothing': 3, 'hard': 1}, 31: {'easy': 5, 'medium': 1, 'nothing': 7, 'hard': 1}, 36: {'nothing': 2, 'hard': 1, 'easy': 3, 'medium': 2}, 37: {'easy': 3, 'nothing': 11, 'medium': 4, 'hard': 4}, 38: {'easy': 5, 'nothing': 6, 'hard': 2}, 39: {'easy': 12, 'hard': 3, 'medium': 8, 'nothing': 11}, 40: {'nothing': 15, 'hard': 7, 'medium': 7, 'easy': 9}, 41: {'nothing': 5, 'easy': 1}, 42: {'nothing': 5, 'medium': 2, 'easy': 3, 'hard': 1}}, 'c1e20962f332bf8248d093b3': {0: {'nothing': 1}, 1: {'nothing': 1}, 3: {'nothing': 1}, 7: {'nothing': 1}}, 'fcc65bbea22aed0c55bd32f4': {0: {'nothing': 5}, 1: {'nothing': 7}, 2: {'nothing': 7}, 3: {'nothing': 9}, 4: {'nothing': 4}, 5: {'nothing': 5}, 6: {'nothing': 7}, 7: {'nothing': 6}, 8: {'nothing': 4}, 9: {'nothing': 3}, 10: {'nothing': 5}, 11: {'nothing': 4}, 12: {'nothing': 3}, 13: {'nothing': 1, 'easy': 1}, 14: {'nothing': 3}, 15: {'nothing': 5}, 16: {'nothing': 2}, 17: {'nothing': 5}, 18: {'nothing': 5}, 19: {'nothing': 3}, 20: {'nothing': 7}, 21: {'nothing': 3}, 22: {'nothing': 2}, 23: {'nothing': 3}, 24: {'nothing': 10}, 25: {'nothing': 5}, 26: {'nothing': 4}, 27: {'nothing': 9}, 28: {'nothing': 4}, 29: {'medium': 1, 'nothing': 1, 'easy': 2}, 30: {'easy': 2}, 31: {'medium': 1, 'easy': 1}, 32: {'easy': 1}, 33: {'easy': 1, 'nothing': 2, 'hard': 1}, 34: {'nothing': 3, 'easy': 1, 'hard': 2}, 36: {'medium': 2, 'easy': 1}, 37: {'nothing': 2, 'easy': 2, 'hard': 2}, 38: {'nothing': 1, 'easy': 1}, 40: {'medium': 1}}, '408c90cdfdb8c16455f4698a': {0: {'medium': 2}, 1: {'medium': 2, 'nothing': 1}, 2: {'nothing': 4, 'medium': 1}, 3: {'nothing': 11}, 5: {'nothing': 6}, 6: {'medium': 1}, 7: {'medium': 1}, 8: {'nothing': 1}, 9: {'nothing': 3}, 10: {'nothing': 1}, 14: {'nothing': 4}, 15: {'nothing': 8}, 16: {'hard': 2}, 17: {'nothing': 2}, 19: {'nothing': 4}, 21: {'nothing': 2}, 22: {'nothing': 4}, 23: {'nothing': 2}, 24: {'nothing': 1}, 25: {'nothing': 7}, 26: {'nothing': 2}, 27: {'nothing': 12, 'medium': 3}, 28: {'nothing': 8}, 29: {'nothing': 3}}, '6ee19d477be75bb10f08ac9e': {0: {'medium': 1, 'easy': 3}, 2: {'easy': 3, 'nothing': 2}, 3: {'nothing': 4, 'easy': 4, 'medium': 1}, 4: {'easy': 1, 'nothing': 1}, 5: {'easy': 1}, 18: {'easy': 3}, 19: {'easy': 4, 'nothing': 5}, 25: {'easy': 1, 'nothing': 2}, 26: {'nothing': 5, 'easy': 1}, 32: {'easy': 1}, 40: {'nothing': 1}, 41: {'nothing': 3, 'medium': 1}, 42: {'nothing': 1, 'medium': 1}}, '84d6df498dd201f19106bbab': {0: {'easy': 8, 'nothing': 6}, 1: {'nothing': 6}, 2: {'nothing': 4}}, '96a89305b09c57fe2bfe4feb': {0: {'easy': 3, 'nothing': 22}, 1: {'nothing': 7}, 2: {'nothing': 1}, 3: {'nothing': 1}}, '008d2a82b202b210004d07e8': {0: {'easy': 11, 'medium': 4, 'nothing': 2}, 1: {'easy': 13, 'nothing': 3}, 2: {'easy': 9}, 3: {'easy': 8}, 4: {'easy': 10}, 5: {'easy': 11}, 6: {'easy': 4}}, 'dd82d9645d3bfc3f4a99556c': {0: {'nothing': 2}, 1: {'nothing': 2}}, '58aed72e26f78160ec07d017': {0: {'nothing': 1}}, '6ffae4b0e0a58695ae4ee174': {0: {'nothing': 3}, 1: {'nothing': 3}, 4: {'nothing': 1}, 5: {'nothing': 1}}, '4821c345ef565ef2d2fc4e4b': {0: {'nothing': 3}, 1: {'nothing': 2}, 2: {'nothing': 5}, 3: {'nothing': 2}, 4: {'nothing': 16}, 5: {'nothing': 5}, 6: {'nothing': 7}, 7: {'nothing': 6}, 8: {'nothing': 6}, 9: {'nothing': 3}, 10: {'nothing': 2}, 11: {'nothing': 1}, 12: {'nothing': 3}, 13: {'nothing': 2}, 14: {'nothing': 1}, 15: {'nothing': 3}, 16: {'nothing': 11}, 17: {'nothing': 7}, 18: {'nothing': 4}, 19: {'nothing': 2}, 20: {'nothing': 4}, 21: {'nothing': 3}, 22: {'nothing': 5}, 23: {'nothing': 6}, 24: {'nothing': 8}, 26: {'nothing': 1}, 28: {'nothing': 2}, 29: {'nothing': 2}, 30: {'nothing': 1, 'hard': 1}, 35: {'nothing': 1, 'hard': 1}}, '6ad0ac783fec4ee0fb20e2ac': {0: {'nothing': 1}, 6: {'nothing': 3}, 8: {'nothing': 3, 'easy': 1}, 10: {'nothing': 1}, 14: {'nothing': 1}, 15: {'nothing': 1}, 24: {'nothing': 1}, 25: {'nothing': 3}, 26: {'nothing': 1}, 27: {'nothing': 2}}, '9b2999508703e14dd82a7961': {0: {'medium': 4}, 1: {'easy': 1}, 2: {'medium': 1, 'nothing': 6}, 3: {'nothing': 5}, 5: {'nothing': 1}, 8: {'nothing': 1}, 9: {'nothing': 2}, 13: {'nothing': 1}}, '8797f546baead468712f11b5': {0: {'easy': 1, 'nothing': 15}, 1: {'nothing': 5}}, '55f340a92f7c1ec26cb53b3f': {0: {'easy': 1}, 1: {'easy': 2, 'nothing': 3}, 2: {'nothing': 13}, 3: {'nothing': 1}, 4: {'nothing': 5, 'easy': 1}, 5: {'nothing': 5}, 6: {'nothing': 7}, 7: {'nothing': 9}, 8: {'nothing': 1}, 9: {'nothing': 5}, 10: {'nothing': 5}, 11: {'nothing': 1}, 12: {'nothing': 5}, 13: {'nothing': 5}, 14: {'nothing': 10}, 15: {'nothing': 7}, 16: {'nothing': 7}, 17: {'nothing': 3}, 18: {'nothing': 8}, 19: {'nothing': 4}, 20: {'nothing': 7}, 21: {'nothing': 16}, 22: {'nothing': 8}, 23: {'nothing': 1}, 24: {'nothing': 3}, 25: {'nothing': 4}, 26: {'nothing': 4}, 27: {'nothing': 9}, 28: {'nothing': 1}, 29: {'nothing': 2}, 30: {'nothing': 5}, 31: {'nothing': 4}, 32: {'nothing': 11}, 33: {'nothing': 5}, 35: {'nothing': 1, 'medium': 1}, 39: {'nothing': 1, 'hard': 1}, 41: {'easy': 2, 'nothing': 4, 'medium': 1}, 43: {'nothing': 8, 'medium': 4, 'hard': 2}, 44: {'nothing': 1, 'hard': 1}, 45: {'easy': 2, 'medium': 1, 'nothing': 1, 'hard': 1}}, '0daa6ca733f537db2d90f933': {0: {'nothing': 1}, 5: {'nothing': 2}, 9: {'nothing': 3}, 10: {'nothing': 1}, 13: {'nothing': 5}, 14: {'nothing': 2}, 21: {'nothing': 4}, 32: {'nothing': 4, 'hard': 1, 'medium': 2}}, 'b48ed6a187490b709705b584': {0: {'nothing': 1}}, 'fe1bd352d7b98b30e8f7b18f': {0: {'nothing': 1, 'easy': 1}, 1: {'nothing': 1}, 2: {'easy': 3, 'nothing': 1}, 4: {'nothing': 1}, 5: {'nothing': 2}, 6: {'nothing': 6}, 8: {'nothing': 5}, 9: {'nothing': 5}, 10: {'nothing': 7, 'easy': 1}, 11: {'nothing': 7}, 12: {'nothing': 3}, 13: {'nothing': 4}, 14: {'nothing': 6, 'easy': 2}, 15: {'easy': 2}, 17: {'easy': 2, 'nothing': 4}, 20: {'nothing': 2}, 21: {'nothing': 16}, 22: {'nothing': 1}, 23: {'nothing': 3, 'easy': 2}, 24: {'nothing': 4, 'easy': 2, 'medium': 1}, 25: {'nothing': 1}, 27: {'nothing': 1, 'easy': 1}, 28: {'nothing': 3, 'easy': 1}, 29: {'nothing': 3, 'easy': 1, 'medium': 2, 'hard': 1}, 30: {'nothing': 9, 'easy': 1}, 31: {'hard': 1, 'easy': 3}, 32: {'medium': 1}, 33: {'easy': 2}, 34: {'easy': 1, 'nothing': 1}, 35: {'easy': 4, 'nothing': 3, 'medium': 1, 'hard': 1}, 36: {'easy': 2}, 38: {'nothing': 4}, 43: {'hard': 1}, 49: {'nothing': 1, 'medium': 1}, 51: {'medium': 1}}, 'ff653a6b31ecd5e9b16daf95': {0: {'nothing': 28}, 1: {'nothing': 5, 'easy': 1}, 2: {'nothing': 47}, 3: {'nothing': 5}, 4: {'nothing': 16}, 5: {'nothing': 28, 'easy': 1}, 6: {'nothing': 19}, 7: {'nothing': 24, 'easy': 1}, 8: {'nothing': 18}, 9: {'nothing': 11}, 10: {'nothing': 10, 'easy': 1}, 11: {'nothing': 21}, 12: {'nothing': 7}, 13: {'nothing': 8}, 15: {'nothing': 18}, 16: {'nothing': 12}, 17: {'nothing': 10, 'easy': 1}, 18: {'nothing': 9}, 19: {'nothing': 4}, 21: {'nothing': 6}, 22: {'nothing': 10}, 23: {'nothing': 13}, 25: {'nothing': 17}, 32: {'nothing': 1, 'medium': 3, 'easy': 1}, 33: {'hard': 1, 'easy': 1}}, '9221d6d695525d3e4381fb43': {0: {'easy': 2}, 10: {'medium': 1, 'easy': 1}, 13: {'easy': 1}, 16: {'easy': 2}, 17: {'easy': 1}, 19: {'easy': 1}, 20: {'easy': 1}, 25: {'easy': 1}, 33: {'nothing': 1}, 34: {'easy': 1, 'hard': 1}, 37: {'nothing': 2, 'easy': 1, 'medium': 1}, 38: {'hard': 1}}, '8fd547bc926be8d5f490ac6c': {0: {'easy': 1}}, 'a2d4fd9ebd79ddfe143de169': {0: {'easy': 1}, 4: {'medium': 1}, 9: {'easy': 1}, 10: {'nothing': 1}, 11: {'easy': 2, 'nothing': 2}, 12: {'easy': 1}, 16: {'easy': 1}, 21: {'easy': 1}, 24: {'easy': 2}, 25: {'easy': 5}, 29: {'easy': 2, 'nothing': 1, 'medium': 1}, 33: {'easy': 2}}, 'b040f589472cfd2903d6fe10': {0: {'nothing': 1, 'easy': 1}, 2: {'nothing': 1, 'easy': 3, 'medium': 3}, 1: {'easy': 3}, 3: {'medium': 1}, 5: {'medium': 1, 'nothing': 3, 'easy': 9}, 6: {'easy': 1, 'nothing': 7}}, 'ac2e79bac5e9c62f462e67d6': {0: {'nothing': 1, 'easy': 1}, 3: {'nothing': 4}, 4: {'nothing': 3}, 7: {'nothing': 1}, 8: {'nothing': 1}, 9: {'nothing': 3}}, '50074d2f45e0d8ef4516b656': {0: {'nothing': 1}, 14: {'nothing': 1}}, '42a1ee3a57c2d74249413568': {0: {'nothing': 2}, 3: {'nothing': 1}, 4: {'nothing': 1}, 7: {'nothing': 1}}, '030d759317911fce956b42de': {0: {'nothing': 2}}, '52c4a9474134dbbbd829779a': {0: {'nothing': 2}, 2: {'nothing': 2}, 3: {'nothing': 1}, 4: {'nothing': 1}, 5: {'nothing': 1}, 6: {'nothing': 2}, 7: {'nothing': 4}, 9: {'nothing': 1}, 11: {'nothing': 1}, 12: {'nothing': 3}, 15: {'nothing': 3}, 19: {'nothing': 2}, 20: {'nothing': 1}, 21: {'nothing': 3}}, '58c9cb8a97045d95845f7661': {0: {'nothing': 1}}, '4fc3175565d222bba343ff59': {0: {'easy': 1}, 7: {'medium': 1}}, '48402cc4611bbdb5b4ffc16e': {0: {'easy': 2, 'nothing': 5}, 1: {'easy': 23, 'nothing': 5}, 2: {'nothing': 13, 'easy': 2}, 3: {'nothing': 6}, 4: {'nothing': 12}, 6: {'nothing': 3}, 7: {'nothing': 5}, 10: {'nothing': 12}, 11: {'nothing': 34}, 12: {'nothing': 14}, 13: {'nothing': 4}, 14: {'nothing': 17}, 15: {'nothing': 3}, 17: {'nothing': 3}, 18: {'nothing': 2}, 19: {'nothing': 1}, 20: {'nothing': 1}, 21: {'nothing': 1}}, '7fbfdd7d0e94e3eb1ca12be0': {0: {'medium': 2, 'nothing': 66}, 1: {'nothing': 22}, 2: {'nothing': 42}, 3: {'nothing': 46, 'easy': 1}, 4: {'nothing': 25}, 6: {'nothing': 53}, 7: {'nothing': 44}, 8: {'nothing': 61}, 9: {'nothing': 41}, 10: {'nothing': 37}, 11: {'nothing': 45}, 13: {'nothing': 89, 'easy': 1}, 14: {'nothing': 9}, 15: {'nothing': 78}, 16: {'nothing': 40, 'easy': 1}}, 'ab7b19552195ba7b413c7420': {0: {'nothing': 15, 'easy': 1}, 1: {'nothing': 17}, 2: {'nothing': 23}, 3: {'nothing': 28}, 4: {'nothing': 32}, 5: {'nothing': 36}, 6: {'nothing': 1}}, '93d483b5bc2cebcc39f4eadf': {0: {'hard': 4}, 1: {'hard': 4}, 3: {'hard': 4}, 4: {'hard': 6}}, '34379b405c315a1ae48c1c64': {0: {'nothing': 1}}, 'd26e3d03aa9e5b65407f0da7': {0: {'medium': 14, 'hard': 7, 'nothing': 21}, 1: {'hard': 10, 'nothing': 11}, 2: {'nothing': 13}, 3: {'hard': 4, 'nothing': 20}, 4: {'nothing': 39}, 5: {'nothing': 19}, 6: {'nothing': 14}, 7: {'nothing': 7}, 8: {'nothing': 17}, 9: {'nothing': 21}, 10: {'nothing': 6}, 11: {'nothing': 15}, 12: {'nothing': 23}, 13: {'nothing': 22}, 14: {'nothing': 31}, 15: {'nothing': 24}, 16: {'nothing': 9}, 17: {'nothing': 18}, 18: {'nothing': 56}, 19: {'nothing': 18}, 20: {'nothing': 8}, 21: {'nothing': 42}, 22: {'nothing': 61}, 23: {'nothing': 55}, 24: {'nothing': 62}, 25: {'nothing': 48}, 26: {'nothing': 29}, 27: {'nothing': 48}, 28: {'nothing': 16, 'easy': 3, 'medium': 8}, 29: {'nothing': 7, 'medium': 4, 'hard': 1, 'easy': 1}, 30: {'nothing': 19, 'medium': 8, 'hard': 3, 'easy': 8}, 31: {'nothing': 15, 'easy': 3, 'medium': 2, 'hard': 3}, 32: {'nothing': 22, 'hard': 4, 'easy': 4, 'medium': 3}, 33: {'nothing': 6, 'hard': 2}, 34: {'nothing': 8, 'hard': 2, 'easy': 4, 'medium': 1}, 35: {'nothing': 2, 'medium': 1, 'hard': 1}, 36: {'nothing': 1, 'easy': 1}, 37: {'nothing': 3, 'easy': 2, 'hard': 1}}, '98815eb99c4c12d20c0144f1': {0: {'nothing': 1}}, '962979c1f36542194cbe64e8': {0: {'nothing': 1, 'medium': 1}, 1: {'nothing': 2}, 4: {'nothing': 4}, 5: {'nothing': 1}, 6: {'nothing': 2}, 7: {'nothing': 1}, 14: {'nothing': 2}, 15: {'easy': 1}, 16: {'nothing': 2}, 17: {'nothing': 1}, 19: {'nothing': 3}, 20: {'nothing': 1}, 22: {'nothing': 2}, 23: {'nothing': 3, 'medium': 1}, 24: {'nothing': 1}, 25: {'nothing': 2}, 27: {'nothing': 1, 'hard': 1, 'easy': 1}, 28: {'nothing': 1, 'medium': 2}, 29: {'nothing': 1, 'hard': 1}, 30: {'nothing': 3, 'medium': 1, 'hard': 1}, 31: {'nothing': 2}, 32: {'nothing': 1, 'medium': 1}, 34: {'nothing': 4}, 35: {'hard': 1}, 36: {'nothing': 3, 'hard': 2}, 37: {'easy': 1, 'nothing': 2}, 38: {'nothing': 1, 'medium': 1, 'hard': 1}}, 'e6991711c24d0f13770d91d1': {0: {'nothing': 3, 'easy': 22}, 1: {'easy': 14}, 2: {'easy': 17, 'medium': 3, 'hard': 2}, 4: {'easy': 4, 'medium': 2}, 5: {'easy': 13}, 7: {'easy': 3}, 9: {'easy': 6, 'nothing': 7}, 11: {'easy': 3}, 12: {'easy': 1}, 17: {'nothing': 5}, 18: {'nothing': 2}, 19: {'nothing': 4}, 20: {'nothing': 6, 'easy': 1}, 21: {'easy': 1, 'nothing': 1}, 22: {'nothing': 3}, 23: {'nothing': 4}, 26: {'nothing': 9}, 27: {'nothing': 7}}, '69054c781326b447cc6ef8c3': {0: {'easy': 4}, 1: {'easy': 1, 'nothing': 7}, 2: {'nothing': 20}, 3: {'nothing': 8, 'easy': 1}, 4: {'nothing': 14}, 5: {'nothing': 7}, 6: {'nothing': 12, 'easy': 3}, 7: {'nothing': 12}, 8: {'nothing': 13}, 9: {'nothing': 17}, 10: {'nothing': 4}, 11: {'nothing': 9}, 12: {'nothing': 6}, 13: {'nothing': 3}, 14: {'nothing': 5}}, '91a45ed3b73082effcd22c24': {0: {'nothing': 2, 'medium': 8, 'easy': 2}}, 'c93d63c38eb61cb6fb1252f1': {0: {'easy': 1, 'nothing': 2}, 1: {'nothing': 1}, 2: {'nothing': 1}, 15: {'nothing': 1}, 16: {'nothing': 2}, 17: {'nothing': 8}, 18: {'nothing': 2}, 19: {'nothing': 2}, 20: {'nothing': 8}, 21: {'nothing': 3}, 22: {'nothing': 1}, 23: {'nothing': 3}, 27: {'nothing': 1}, 28: {'nothing': 10}, 29: {'nothing': 7}, 30: {'nothing': 7}, 35: {'nothing': 2}, 36: {'nothing': 1}, 37: {'nothing': 5}, 38: {'nothing': 7}, 39: {'nothing': 3}, 40: {'nothing': 5}, 41: {'nothing': 6}, 43: {'nothing': 3, 'hard': 1}, 49: {'nothing': 1, 'medium': 1}}, '66099aae9dfe528b17ba5660': {0: {'medium': 10, 'hard': 1, 'easy': 1}, 1: {'medium': 10}, 2: {'medium': 6}, 4: {'medium': 2}, 5: {'medium': 11}, 6: {'medium': 4, 'nothing': 12}, 7: {'medium': 2, 'nothing': 4}, 8: {'nothing': 7}, 10: {'nothing': 14}, 11: {'nothing': 1}, 15: {'nothing': 2}}, '6acfa4ffca039e79945ecd3a': {0: {'easy': 1}, 4: {'easy': 1}, 6: {'medium': 1}, 9: {'nothing': 1}, 10: {'nothing': 2}, 12: {'nothing': 2}, 13: {'nothing': 1}, 14: {'easy': 1}, 15: {'easy': 3}, 17: {'easy': 1}, 18: {'easy': 1}, 20: {'nothing': 1, 'easy': 1}, 21: {'easy': 1}, 24: {'easy': 1}, 26: {'nothing': 1}, 27: {'nothing': 1}, 28: {'nothing': 4}, 29: {'nothing': 1}}, '97cb49e624f652003243187f': {0: {'hard': 2, 'easy': 3, 'nothing': 1}, 1: {'nothing': 1}, 2: {'nothing': 1}, 3: {'nothing': 3}, 4: {'nothing': 3}}, 'd38dddc90673dfc67cba0456': {0: {'easy': 1, 'nothing': 1}, 1: {'easy': 1}, 2: {'easy': 1}, 3: {'easy': 2}, 4: {'easy': 4, 'nothing': 2}, 5: {'easy': 2}, 6: {'easy': 3}, 7: {'easy': 6}, 8: {'easy': 4}, 9: {'easy': 5}, 10: {'easy': 1}, 11: {'easy': 3}, 12: {'easy': 1}, 13: {'easy': 5, 'nothing': 1}, 14: {'easy': 3}, 15: {'easy': 5}, 16: {'easy': 5}, 17: {'nothing': 1, 'easy': 1}, 18: {'easy': 3}, 19: {'easy': 2}, 20: {'easy': 2}, 21: {'easy': 4}, 22: {'easy': 8}, 23: {'easy': 2}, 24: {'easy': 2}, 25: {'easy': 1}, 26: {'easy': 10}, 27: {'easy': 1}, 33: {'medium': 1}}, '0a66e67f59668b32d6cc82ef': {0: {'nothing': 9}, 1: {'nothing': 10}, 2: {'nothing': 16}, 3: {'nothing': 2}, 4: {'nothing': 9}}, 'afc5f2d856842d1534e3acfa': {0: {'easy': 3, 'hard': 6, 'nothing': 21}, 1: {'nothing': 19, 'hard': 4, 'easy': 1}, 2: {'nothing': 24}, 3: {'nothing': 11}, 4: {'easy': 5, 'medium': 1, 'hard': 3, 'nothing': 9}, 5: {'hard': 1, 'nothing': 17}, 6: {'nothing': 20}, 7: {'hard': 1, 'nothing': 36}, 8: {'nothing': 24}, 9: {'nothing': 16}, 10: {'nothing': 22}, 11: {'nothing': 7, 'hard': 1, 'easy': 1}, 12: {'nothing': 19}, 13: {'nothing': 22}, 14: {'nothing': 23}, 15: {'nothing': 32}, 16: {'nothing': 11}, 17: {'nothing': 10}, 18: {'nothing': 17}, 19: {'nothing': 17}, 20: {'nothing': 16}, 21: {'nothing': 39, 'hard': 1, 'easy': 1}, 22: {'nothing': 24}, 23: {'nothing': 1}, 24: {'nothing': 23}, 28: {'hard': 2, 'medium': 1, 'nothing': 1}, 29: {'nothing': 3, 'hard': 1}, 30: {'nothing': 1, 'easy': 1}, 31: {'hard': 1, 'nothing': 2, 'medium': 1, 'easy': 1}, 32: {'nothing': 4, 'hard': 1, 'easy': 1}, 33: {'hard': 2, 'nothing': 1}, 34: {'medium': 3, 'nothing': 2, 'easy': 2}, 35: {'easy': 2, 'nothing': 2, 'medium': 1}, 36: {'nothing': 1, 'medium': 2, 'hard': 1}, 37: {'nothing': 1}, 38: {'hard': 2, 'nothing': 3, 'easy': 1}, 39: {'hard': 2, 'nothing': 1, 'medium': 1}}, 'acb304294ade665599f19f63': {0: {'easy': 3, 'nothing': 3}, 2: {'nothing': 1}, 3: {'nothing': 11, 'easy': 2}, 4: {'nothing': 10, 'easy': 1}, 5: {'nothing': 3}, 6: {'nothing': 1}, 7: {'nothing': 6}, 8: {'nothing': 2}, 9: {'nothing': 18}}, 'b52aa189d2055f309399726f': {0: {'hard': 9}, 1: {'hard': 4}, 2: {'hard': 7}, 3: {'hard': 3}, 4: {'hard': 1}, 5: {'hard': 1}, 6: {'hard': 2}, 7: {'hard': 6}, 8: {'hard': 5}, 10: {'hard': 1}, 11: {'hard': 3}, 12: {'hard': 9}, 13: {'hard': 5}, 14: {'hard': 2}, 17: {'hard': 6}, 18: {'hard': 4}, 19: {'hard': 11}, 20: {'hard': 4}, 21: {'hard': 1}, 23: {'hard': 2}, 24: {'hard': 1}, 25: {'hard': 7}, 26: {'hard': 3}, 27: {'hard': 3, 'medium': 1}, 28: {'hard': 4, 'nothing': 3, 'easy': 2, 'medium': 1}, 31: {'hard': 1, 'medium': 1}, 32: {'hard': 2, 'medium': 1}, 33: {'hard': 8, 'nothing': 4, 'medium': 1, 'easy': 1}, 34: {'easy': 2, 'hard': 1}, 35: {'hard': 2, 'medium': 1, 'nothing': 2}, 36: {'hard': 4, 'nothing': 1}, 38: {'hard': 6, 'easy': 1, 'nothing': 2, 'medium': 3}, 39: {'hard': 7}}, 'e31522dd93d1c310e8ecb460': {0: {'medium': 1}}, 'e318e5d8ffde50df14eba1c1': {0: {'medium': 1}, 4: {'easy': 2}, 5: {'easy': 1}, 6: {'medium': 1, 'nothing': 1}, 7: {'easy': 1}, 8: {'easy': 1}, 13: {'easy': 2}, 14: {'easy': 1}, 16: {'easy': 1}, 20: {'easy': 1}, 25: {'easy': 2}, 26: {'medium': 1}, 30: {'easy': 1, 'hard': 1}, 36: {'nothing': 3, 'medium': 1}, 38: {'nothing': 1, 'hard': 1}}, '7f6ac7673930fa22108a895b': {0: {'nothing': 2}}, 'fb2fb7cfff45b95f6dd74ad9': {0: {'nothing': 1}, 15: {'medium': 7}, 16: {'medium': 2}, 17: {'medium': 6}, 18: {'medium': 2}, 22: {'medium': 17}, 23: {'medium': 7}, 24: {'medium': 5}}, 'ea5bed2c17931c6724b857ab': {0: {'easy': 12, 'nothing': 4}, 1: {'easy': 5, 'nothing': 1}, 2: {'easy': 3}, 3: {'easy': 9}, 4: {'easy': 8}, 5: {'easy': 6}, 6: {'easy': 4}, 7: {'easy': 6}, 8: {'easy': 2}, 9: {'easy': 4}, 10: {'easy': 7}, 11: {'easy': 15}, 12: {'easy': 7, 'nothing': 2}, 13: {'nothing': 5}, 14: {'easy': 1, 'nothing': 4}, 15: {'nothing': 9}, 16: {'nothing': 7}, 17: {'nothing': 5}, 18: {'nothing': 2}, 19: {'nothing': 1}, 20: {'nothing': 21}, 21: {'nothing': 10}, 23: {'nothing': 6}, 24: {'nothing': 4}, 25: {'nothing': 11}, 26: {'nothing': 14}, 27: {'nothing': 18, 'hard': 2, 'medium': 2, 'easy': 1}, 28: {'nothing': 5, 'easy': 2, 'hard': 2}, 30: {'nothing': 9, 'medium': 3, 'hard': 1}, 31: {'nothing': 20, 'hard': 4, 'easy': 1, 'medium': 2}, 32: {'nothing': 8, 'hard': 4, 'medium': 1, 'easy': 1}, 33: {'nothing': 8, 'hard': 4, 'easy': 1}, 34: {'nothing': 6, 'easy': 2, 'medium': 3, 'hard': 1}, 35: {'nothing': 11, 'easy': 3, 'hard': 4, 'medium': 2}, 36: {'nothing': 9, 'medium': 3, 'easy': 1}, 37: {'nothing': 10, 'medium': 4, 'hard': 2}, 38: {'nothing': 9, 'medium': 1}, 39: {'nothing': 3}}, '8c1457d3977c3ce1048c85e6': {0: {'easy': 1}}, '41187f8198471969a9aad7f8': {0: {'nothing': 1}}, '11aa7b5f3cfb57b2cf83d1d5': {0: {'nothing': 2}, 1: {'nothing': 3}, 19: {'nothing': 1}, 22: {'nothing': 1}, 32: {'medium': 1}}, 'eec319d0f19977453faa8f2e': {0: {'nothing': 1}, 4: {'nothing': 1}, 6: {'nothing': 1}, 11: {'nothing': 1}, 14: {'nothing': 1}, 18: {'nothing': 1}}, '6a49388bd60c5d5316ba3b45': {0: {'easy': 3}, 1: {'easy': 7}, 2: {'easy': 1}, 3: {'easy': 2}, 11: {'easy': 1}, 13: {'easy': 1}, 18: {'easy': 1}, 27: {'medium': 1}}, 'a167e563d0b05ea175ee4252': {0: {'medium': 1}}, 'f1dff470b22314377fe17b57': {0: {'medium': 2}, 1: {'medium': 1}, 2: {'medium': 3}, 3: {'medium': 2}, 5: {'medium': 4}, 6: {'medium': 1}, 7: {'medium': 3}, 8: {'medium': 7}, 9: {'nothing': 3, 'medium': 2, 'easy': 4}, 10: {'medium': 4}, 11: {'easy': 1, 'medium': 2}, 12: {'medium': 7}, 13: {'medium': 15}, 14: {'medium': 4}, 15: {'medium': 17, 'nothing': 1}, 16: {'medium': 7}, 17: {'medium': 2}, 18: {'medium': 3}, 19: {'medium': 5, 'nothing': 1}, 20: {'medium': 10}, 21: {'medium': 9}, 22: {'medium': 1}, 23: {'medium': 4}, 27: {'nothing': 1, 'medium': 1}, 29: {'hard': 1}, 32: {'nothing': 1, 'easy': 1}, 34: {'hard': 1}, 35: {'nothing': 1, 'easy': 1}}, '5540c4a89209aa951ebbac25': {0: {'nothing': 2}}, 'eb552a62a17312ce9d632727': {0: {'medium': 1}}, '8ddac78c69dce1281539d91e': {0: {'nothing': 1}, 12: {'nothing': 3}, 13: {'nothing': 2}, 16: {'nothing': 2}, 17: {'nothing': 3}, 24: {'nothing': 1}}, '4e0bf4a415c346a14d7641e0': {0: {'easy': 1}}, 'fa506f8b31bcdc434e63fc27': {0: {'easy': 2}}, 'cdaee80f14695254fa618065': {0: {'nothing': 1, 'medium': 1}, 8: {'nothing': 3}, 15: {'nothing': 2}, 23: {'nothing': 1}, 24: {'nothing': 2}, 25: {'nothing': 1}, 30: {'nothing': 1}, 34: {'nothing': 1}, 35: {'nothing': 1}}, '153ca1e698ed7219fcab6f69': {0: {'easy': 1}, 1: {'nothing': 1}, 2: {'nothing': 1}, 3: {'nothing': 3}, 4: {'nothing': 8}, 6: {'nothing': 1}, 7: {'nothing': 1}, 8: {'nothing': 2}, 10: {'nothing': 1}, 11: {'nothing': 2}, 12: {'nothing': 1}, 13: {'nothing': 1}, 15: {'nothing': 4}, 16: {'nothing': 1}, 17: {'nothing': 7}, 18: {'nothing': 1}, 19: {'nothing': 1}, 20: {'nothing': 1}, 23: {'nothing': 2}, 24: {'nothing': 2}, 25: {'nothing': 1}}, 'a2181ec6d5e09584ae951010': {0: {'hard': 1, 'medium': 2, 'easy': 6}, 1: {'easy': 13}, 2: {'easy': 15}, 3: {'easy': 6}, 4: {'easy': 14}, 5: {'easy': 12, 'nothing': 1}, 6: {'easy': 5}, 7: {'easy': 2}, 9: {'easy': 2}, 10: {'easy': 10}, 11: {'easy': 15}, 12: {'easy': 3}, 13: {'easy': 4}, 14: {'easy': 4}, 15: {'easy': 6}, 16: {'easy': 2}, 17: {'easy': 8}, 18: {'easy': 12}, 19: {'easy': 4}, 20: {'easy': 6}, 21: {'easy': 1}, 22: {'easy': 2}, 23: {'easy': 11}, 24: {'easy': 5}, 25: {'easy': 1}, 26: {'easy': 4, 'nothing': 4, 'medium': 1, 'hard': 3}, 29: {'easy': 3, 'nothing': 1, 'hard': 2}, 30: {'easy': 2, 'medium': 1, 'nothing': 1}, 31: {'nothing': 1}, 32: {'hard': 3, 'easy': 3, 'medium': 2}, 33: {'nothing': 1}, 36: {'easy': 1, 'medium': 1}, 37: {'easy': 5, 'hard': 1, 'nothing': 1}}, '8d674f96bdccb511cb513ae8': {0: {'medium': 2, 'nothing': 1}, 1: {'medium': 1}, 2: {'medium': 1, 'hard': 2, 'nothing': 1}, 3: {'nothing': 1, 'medium': 5}, 4: {'medium': 3, 'hard': 1}, 6: {'medium': 4}, 7: {'medium': 2}, 8: {'medium': 6}, 9: {'medium': 1, 'easy': 1}, 10: {'medium': 4, 'hard': 2}, 11: {'medium': 1, 'hard': 1}, 13: {'medium': 3, 'hard': 1}, 14: {'medium': 1}, 15: {'hard': 3}, 16: {'medium': 3}, 17: {'hard': 1}, 21: {'hard': 3}, 22: {'hard': 2}, 23: {'hard': 3, 'nothing': 2}, 24: {'hard': 1}, 25: {'medium': 1}, 26: {'hard': 2, 'nothing': 1}, 28: {'medium': 3}, 29: {'medium': 2, 'nothing': 1, 'easy': 1}, 30: {'medium': 1, 'hard': 1}, 34: {'medium': 2}, 36: {'medium': 1, 'nothing': 1}, 38: {'easy': 1}}, 'b2ea2efdb5c130778f97f072': {0: {'nothing': 1}, 8: {'hard': 1, 'nothing': 1}}, '7d7d89428931ea7a8d9fe2a7': {0: {'easy': 5, 'hard': 1, 'nothing': 20}, 1: {'nothing': 37, 'easy': 10, 'medium': 1}, 2: {'easy': 24, 'nothing': 22, 'medium': 1}, 3: {'nothing': 9, 'medium': 3, 'easy': 4}, 4: {'easy': 13, 'nothing': 4}, 5: {'easy': 25, 'medium': 1}, 6: {'easy': 19, 'medium': 1}, 7: {'easy': 56, 'nothing': 3}, 8: {'easy': 55, 'nothing': 1, 'medium': 1}, 9: {'easy': 26, 'nothing': 1}, 10: {'easy': 20}, 11: {'easy': 16, 'medium': 1, 'nothing': 1}, 12: {'easy': 40}, 13: {'nothing': 3, 'easy': 27, 'medium': 1}, 14: {'easy': 68}, 15: {'easy': 20}, 16: {'easy': 7}, 17: {'easy': 21}, 18: {'easy': 26}, 21: {'easy': 57}, 22: {'easy': 60}, 23: {'easy': 17}, 24: {'easy': 38}, 25: {'easy': 45}, 30: {'nothing': 7, 'medium': 4, 'easy': 12, 'hard': 9}, 31: {'easy': 5, 'nothing': 4, 'medium': 1, 'hard': 1}, 32: {'easy': 3, 'medium': 2, 'hard': 2, 'nothing': 3}, 34: {'easy': 3, 'medium': 1, 'nothing': 3, 'hard': 1}, 35: {'easy': 16, 'hard': 2, 'medium': 8, 'nothing': 6}, 36: {'easy': 40, 'medium': 10, 'nothing': 8, 'hard': 14}, 37: {'medium': 4, 'easy': 14, 'hard': 3, 'nothing': 2}}, '67598524d5dbe8cc6549fdf3': {0: {'nothing': 1, 'medium': 1}, 1: {'medium': 2}, 2: {'medium': 1}, 3: {'medium': 1}, 4: {'medium': 2}, 7: {'medium': 3}, 12: {'medium': 1}, 13: {'medium': 1}, 26: {'hard': 1}, 31: {'hard': 1}}, 'a8cbeb34ffbfb930e4795aa8': {0: {'easy': 1, 'nothing': 2}, 1: {'nothing': 2}}, '38ede66a95e7975b1b006a9c': {0: {'easy': 1}, 2: {'easy': 1}, 3: {'easy': 2}, 4: {'medium': 1}, 5: {'medium': 8}, 9: {'medium': 12, 'nothing': 1, 'easy': 2}, 10: {'medium': 1, 'easy': 3}, 11: {'nothing': 2, 'easy': 3}, 12: {'easy': 3}, 13: {'easy': 2}, 14: {'easy': 1}, 16: {'easy': 3}, 17: {'easy': 3}, 18: {'easy': 1}, 19: {'easy': 2}, 20: {'easy': 3}, 25: {'easy': 1}, 26: {'medium': 4, 'hard': 3, 'nothing': 1, 'easy': 1}, 30: {'easy': 1, 'hard': 1}, 32: {'nothing': 1}, 33: {'easy': 1}, 34: {'nothing': 3, 'medium': 2, 'easy': 1}, 35: {'nothing': 1}, 37: {'easy': 2, 'nothing': 3}}, '0afd31e6d079e4e80b59ff2d': {0: {'medium': 2, 'easy': 1, 'nothing': 4}, 1: {'nothing': 2}, 13: {'nothing': 1}, 14: {'nothing': 1, 'easy': 2}, 15: {'nothing': 4}, 16: {'nothing': 1}, 19: {'nothing': 1}, 22: {'nothing': 3}, 25: {'nothing': 3}, 26: {'nothing': 6, 'easy': 1}, 27: {'nothing': 3}, 28: {'nothing': 2}, 29: {'nothing': 2}, 39: {'easy': 1}, 40: {'easy': 2, 'nothing': 4}, 43: {'easy': 1}, 47: {'easy': 1, 'nothing': 1}}, 'cec076f310d5e1519539dda1': {0: {'nothing': 1}, 1: {'easy': 1}, 2: {'nothing': 1, 'easy': 1}, 5: {'easy': 1, 'hard': 1}, 9: {'nothing': 1}, 16: {'nothing': 1}, 17: {'medium': 1, 'nothing': 1}}, '1356e888bcb6b204f0ed8591': {0: {'medium': 3}, 1: {'medium': 2}, 2: {'medium': 6}, 5: {'medium': 6}, 7: {'medium': 1}, 8: {'medium': 1}, 9: {'medium': 2}, 10: {'medium': 5}, 11: {'medium': 1}, 12: {'medium': 2}, 13: {'medium': 2}, 14: {'medium': 2}, 15: {'hard': 1, 'medium': 3}, 16: {'hard': 7, 'medium': 1}, 17: {'hard': 7, 'medium': 1}, 18: {'hard': 1, 'medium': 1}, 19: {'medium': 4}, 20: {'hard': 1, 'medium': 4}, 21: {'medium': 1}, 22: {'medium': 2}, 23: {'medium': 2}, 24: {'medium': 1}, 25: {'medium': 2, 'nothing': 1, 'easy': 1}, 28: {'medium': 3, 'hard': 4}, 29: {'medium': 2, 'nothing': 3, 'easy': 1}, 31: {'medium': 2, 'hard': 1, 'nothing': 2}, 32: {'medium': 4, 'hard': 4, 'easy': 1}}, '34329b196b73616e36d96772': {0: {'medium': 1, 'nothing': 1}}, 'a208d0a59ec5856af2dc50e1': {0: {'easy': 2}, 2: {'hard': 2, 'easy': 1}, 3: {'hard': 2}, 4: {'hard': 1}, 8: {'medium': 1, 'hard': 2}, 9: {'medium': 1, 'hard': 1}, 10: {'easy': 1, 'hard': 1}, 14: {'medium': 2}, 15: {'medium': 3, 'easy': 1}, 16: {'medium': 2}, 17: {'medium': 3}, 20: {'medium': 2}, 21: {'medium': 4}, 23: {'medium': 1}, 24: {'easy': 1}, 28: {'medium': 1, 'easy': 1}, 30: {'medium': 1, 'hard': 1}, 31: {'easy': 1, 'hard': 1, 'nothing': 1}}, '4a32760f173ef7ace6047541': {0: {'nothing': 1, 'easy': 1}, 7: {'nothing': 1}, 8: {'nothing': 1}, 10: {'nothing': 2}, 12: {'nothing': 1}, 16: {'nothing': 1}, 18: {'nothing': 1}, 19: {'nothing': 1}, 21: {'nothing': 1}}, 'd84a3bc360e706c13c38e6bf': {0: {'medium': 1}}, '8617b058a51286a5ab7b9e1c': {0: {'medium': 2, 'hard': 2}, 1: {'medium': 1, 'hard': 3}, 2: {'medium': 1, 'hard': 1}, 3: {'hard': 2}, 4: {'hard': 1}, 6: {'hard': 1}, 7: {'hard': 1}, 8: {'hard': 1}, 10: {'hard': 1}, 13: {'hard': 1}, 14: {'hard': 1}, 16: {'hard': 1}, 17: {'medium': 1, 'nothing': 1, 'easy': 6, 'hard': 1}, 18: {'hard': 1, 'nothing': 1, 'medium': 1, 'easy': 1}, 19: {'nothing': 4, 'medium': 1, 'hard': 1}, 20: {'nothing': 2}, 21: {'medium': 3, 'easy': 1}, 23: {'medium': 1}, 24: {'nothing': 5, 'easy': 1, 'medium': 1}, 26: {'hard': 1}, 27: {'nothing': 1, 'medium': 1}, 28: {'nothing': 4, 'medium': 1, 'easy': 1}, 29: {'nothing': 1, 'hard': 1}, 30: {'nothing': 3, 'hard': 1}, 31: {'nothing': 3, 'easy': 1, 'medium': 1, 'hard': 1}, 32: {'medium': 1}, 34: {'nothing': 2, 'hard': 1, 'medium': 1}, 37: {'hard': 1}}, '8da35e44d84233ec248f4172': {0: {'medium': 2}, 10: {'nothing': 1}, 13: {'nothing': 1}, 14: {'easy': 1, 'nothing': 2}, 15: {'nothing': 1}}, '33a883006ed5d3235f00978b': {0: {'hard': 1}}, '928c527e00506a4158cdccfb': {0: {'nothing': 1}, 1: {'nothing': 1}, 2: {'nothing': 1}, 11: {'nothing': 1}, 18: {'nothing': 26}, 24: {'nothing': 1}, 25: {'nothing': 1}}, 'b05febd5854b233d269b04e2': {0: {'nothing': 4, 'easy': 7}, 1: {'easy': 5}, 2: {'nothing': 3}, 3: {'nothing': 7}, 4: {'nothing': 6}, 5: {'nothing': 7, 'easy': 1}, 6: {'easy': 2, 'nothing': 4}, 7: {'nothing': 3}, 8: {'nothing': 12}, 9: {'nothing': 2}, 10: {'nothing': 9}, 11: {'nothing': 2}, 12: {'nothing': 7}, 13: {'nothing': 10}, 14: {'nothing': 2}, 15: {'nothing': 3}, 16: {'nothing': 10}, 17: {'nothing': 3}, 18: {'nothing': 3}, 19: {'nothing': 7}, 20: {'nothing': 7}, 21: {'nothing': 12}, 22: {'nothing': 8}, 23: {'nothing': 25}, 24: {'nothing': 10}, 25: {'easy': 1, 'nothing': 1}, 26: {'nothing': 4}, 27: {'easy': 1, 'medium': 1}, 28: {'nothing': 1, 'medium': 1, 'hard': 2, 'easy': 1}, 29: {'hard': 3, 'nothing': 1, 'easy': 1}, 31: {'easy': 1, 'nothing': 1, 'hard': 1}, 37: {'easy': 1, 'hard': 1}}, '71098d5b5fa2c43aca67e72c': {0: {'nothing': 22}, 1: {'nothing': 8}, 2: {'nothing': 7}, 3: {'nothing': 1}, 4: {'nothing': 3}, 5: {'nothing': 7}, 10: {'easy': 1}, 11: {'nothing': 12}, 13: {'nothing': 7}, 14: {'nothing': 1}, 15: {'nothing': 4}, 27: {'hard': 1}}, 'b27520836efa5514d7e606a0': {0: {'nothing': 2}, 1: {'nothing': 2}, 2: {'nothing': 1}, 3: {'nothing': 1}, 4: {'nothing': 1}, 6: {'nothing': 2}, 7: {'nothing': 3}, 9: {'nothing': 1}, 10: {'nothing': 1}, 11: {'nothing': 1}, 12: {'nothing': 2}, 15: {'nothing': 1}, 16: {'nothing': 1}, 17: {'nothing': 1}, 18: {'nothing': 2}, 19: {'nothing': 1}, 20: {'nothing': 1}, 24: {'nothing': 1}, 28: {'easy': 1}, 29: {'nothing': 1, 'easy': 1}, 30: {'nothing': 2}, 31: {'nothing': 1, 'easy': 1}, 32: {'nothing': 2, 'hard': 1}, 34: {'nothing': 2}}, '8c68857d77921615ec167ca3': {0: {'easy': 1}}, 'b586773da2f5ac24536eeb4f': {0: {'easy': 4, 'nothing': 1, 'medium': 1}, 1: {'easy': 10}, 2: {'easy': 8}, 3: {'easy': 25}, 4: {'easy': 9}, 5: {'easy': 2}, 6: {'easy': 5}, 7: {'easy': 2}, 8: {'easy': 10}, 9: {'easy': 9}, 11: {'easy': 4}, 12: {'easy': 11, 'nothing': 1}, 13: {'easy': 10}, 14: {'easy': 4, 'nothing': 1}, 16: {'easy': 1}, 17: {'easy': 8, 'nothing': 1}, 18: {'easy': 4}, 19: {'easy': 3, 'nothing': 1}, 20: {'nothing': 1, 'easy': 2}, 21: {'easy': 4}, 22: {'easy': 8}, 23: {'easy': 3}, 24: {'nothing': 1, 'easy': 2, 'hard': 1, 'medium': 1}, 32: {'medium': 1}}, 'ce1ef1c40c2bd0dd1e2f3aa2': {0: {'nothing': 2}, 1: {'easy': 1}, 5: {'easy': 1}, 6: {'nothing': 1}, 9: {'nothing': 2}, 10: {'nothing': 5}, 11: {'nothing': 1}, 13: {'nothing': 1}, 16: {'nothing': 4}, 17: {'nothing': 5}, 18: {'nothing': 1}, 21: {'nothing': 2}, 22: {'nothing': 2}, 25: {'nothing': 1, 'easy': 1}}, 'b120e76e564050b2d0457792': {0: {'hard': 5, 'nothing': 5, 'easy': 9, 'medium': 1}, 1: {'easy': 4, 'nothing': 19}, 2: {'nothing': 16, 'easy': 5}, 3: {'easy': 3, 'nothing': 9}, 4: {'nothing': 13, 'easy': 1}, 5: {'nothing': 42, 'easy': 1}, 6: {'nothing': 7}, 7: {'nothing': 12, 'easy': 1}, 8: {'nothing': 10}, 9: {'nothing': 24}, 10: {'nothing': 26}, 11: {'nothing': 33, 'easy': 2, 'medium': 2}, 12: {'medium': 4, 'nothing': 6, 'easy': 1}, 13: {'easy': 5, 'nothing': 2, 'medium': 4}, 14: {'easy': 9, 'medium': 1, 'nothing': 20}, 15: {'easy': 4, 'nothing': 9, 'medium': 2, 'hard': 10}, 16: {'nothing': 16, 'medium': 3, 'easy': 2}, 17: {'nothing': 28, 'easy': 7, 'hard': 1, 'medium': 2}, 18: {'easy': 5, 'nothing': 16, 'medium': 4}, 19: {'nothing': 48, 'easy': 5}, 20: {'nothing': 39, 'easy': 6, 'medium': 1, 'hard': 1}, 21: {'nothing': 43, 'easy': 9, 'medium': 3}, 22: {'nothing': 31, 'easy': 3}, 23: {'easy': 13, 'nothing': 11, 'medium': 1}, 24: {'nothing': 12, 'easy': 6}, 25: {'easy': 7, 'nothing': 17, 'medium': 1}, 26: {'easy': 4, 'nothing': 8, 'medium': 2, 'hard': 10}, 27: {'nothing': 5, 'hard': 2, 'easy': 3, 'medium': 2}, 28: {'hard': 4, 'nothing': 5, 'medium': 1}, 29: {'hard': 2, 'nothing': 2, 'easy': 1, 'medium': 2}, 31: {'hard': 1, 'medium': 2, 'easy': 4, 'nothing': 2}, 32: {'nothing': 10, 'medium': 2, 'hard': 3}}, '99dfe99b1f4d6fa8cdbb4110': {0: {'nothing': 3}, 1: {'nothing': 1}, 3: {'nothing': 1}, 4: {'nothing': 2}, 5: {'nothing': 1}, 16: {'nothing': 2}, 18: {'nothing': 2}, 19: {'nothing': 1}, 21: {'nothing': 1}, 24: {'nothing': 2}, 26: {'nothing': 2, 'medium': 1}, 29: {'nothing': 1}, 30: {'medium': 1}, 32: {'nothing': 3, 'easy': 1}, 34: {'nothing': 2}, 35: {'nothing': 2}, 36: {'nothing': 2, 'hard': 1, 'medium': 1}}, 'c57b61dbfa89921bf4679013': {0: {'medium': 1}}, '2fb4052db10fb9e1d796c14f': {0: {'nothing': 1}, 2: {'nothing': 4}, 3: {'nothing': 2}, 4: {'nothing': 1}, 5: {'nothing': 3}, 7: {'nothing': 4}, 8: {'nothing': 4}, 9: {'nothing': 6}, 10: {'nothing': 5}, 12: {'nothing': 2}, 13: {'nothing': 1}, 14: {'nothing': 4}, 15: {'nothing': 3}, 16: {'nothing': 3}, 17: {'nothing': 2}, 18: {'nothing': 4}, 19: {'nothing': 3}, 20: {'nothing': 4}, 21: {'nothing': 1}, 22: {'nothing': 2}, 23: {'nothing': 4, 'medium': 1}, 24: {'nothing': 6, 'easy': 2, 'hard': 2, 'medium': 1}, 25: {'nothing': 4, 'hard': 1, 'medium': 1, 'easy': 1}, 26: {'nothing': 1, 'hard': 1, 'easy': 2}, 27: {'nothing': 3, 'easy': 1}, 28: {'nothing': 1, 'medium': 1, 'hard': 1, 'easy': 2}, 29: {'nothing': 2, 'medium': 2, 'easy': 1}, 30: {'easy': 1}, 31: {'easy': 1}}, '44c361621083a0c056b029b4': {0: {'medium': 1}}, 'd2a3afc469e10fac6f90a5e5': {0: {'easy': 2, 'nothing': 1}, 1: {'nothing': 1}, 2: {'nothing': 3}, 4: {'nothing': 1}, 5: {'nothing': 1}, 6: {'nothing': 5}, 9: {'nothing': 1}, 10: {'nothing': 4}, 11: {'nothing': 2}, 13: {'nothing': 2}, 14: {'nothing': 3}, 17: {'easy': 1, 'nothing': 3}, 18: {'nothing': 2}, 19: {'nothing': 2}, 20: {'nothing': 1}, 24: {'nothing': 1, 'medium': 1}}, '759798d48ea480cd146738d4': {0: {'easy': 1}}, '1310cd2f7f35173a9551c8cf': {0: {'medium': 4, 'easy': 1}}, '8e2da14192c115ee45870d0c': {0: {'medium': 2}, 3: {'medium': 1, 'nothing': 1}, 4: {'nothing': 5}, 5: {'hard': 1, 'nothing': 1}, 6: {'nothing': 4}, 7: {'nothing': 3, 'medium': 1}, 8: {'nothing': 3, 'hard': 1, 'easy': 1}, 9: {'medium': 1}, 10: {'hard': 1, 'medium': 1, 'nothing': 1}, 11: {'medium': 1, 'hard': 1, 'nothing': 2}, 12: {'nothing': 3}, 13: {'hard': 2, 'medium': 4, 'nothing': 2}, 16: {'hard': 1, 'nothing': 2}, 17: {'nothing': 1, 'medium': 1}, 18: {'medium': 1, 'easy': 1}, 19: {'nothing': 1}, 20: {'nothing': 3, 'medium': 4, 'hard': 1, 'easy': 1}, 21: {'medium': 1}, 22: {'easy': 1}, 23: {'medium': 2, 'hard': 1}, 24: {'nothing': 2, 'medium': 1}, 25: {'nothing': 2}, 27: {'nothing': 1, 'hard': 1}, 28: {'medium': 1, 'easy': 1}, 29: {'hard': 1}, 30: {'medium': 2, 'easy': 1}, 34: {'nothing': 3, 'medium': 1}}, '4bebe3f9d6a73dcfa0ba288e': {0: {'nothing': 2}, 1: {'nothing': 2}}, 'f2ca89d4971eba6f0a2b4da7': {0: {'nothing': 1}}, 'b02ec08559176d815a86c29c': {0: {'medium': 1, 'easy': 1}, 3: {'easy': 2, 'nothing': 12}, 4: {'nothing': 5}}, 'f0b3d19bb278c0334accee9f': {0: {'medium': 1}, 1: {'medium': 1}, 6: {'medium': 1}, 15: {'medium': 1}, 19: {'medium': 5}, 22: {'medium': 2}, 24: {'medium': 1}, 26: {'medium': 2}, 27: {'medium': 1, 'hard': 1}, 28: {'easy': 1}, 30: {'nothing': 1, 'medium': 1}, 33: {'medium': 4, 'hard': 2}, 34: {'medium': 1, 'easy': 1}, 36: {'hard': 2}}, 'f4777b7e5d213643f6f7be96': {0: {'nothing': 1}, 4: {'nothing': 1}, 5: {'nothing': 5}}, '6584dc6e6039cf7bc6a65d78': {0: {'easy': 1, 'nothing': 4}, 1: {'nothing': 1}, 3: {'nothing': 1}, 4: {'nothing': 1}, 8: {'nothing': 1}, 10: {'nothing': 1}, 13: {'nothing': 3}, 14: {'nothing': 1}, 17: {'nothing': 1}, 19: {'nothing': 1}, 21: {'nothing': 2, 'easy': 1}, 23: {'nothing': 1}}, 'fb9a51627e26f2af8dab5dc8': {0: {'medium': 1, 'easy': 13, 'nothing': 6}, 1: {'nothing': 2}, 2: {'nothing': 4}, 3: {'nothing': 17}, 4: {'nothing': 8}}, '4c849873e044b007b91f7f39': {0: {'nothing': 1, 'medium': 1}, 7: {'easy': 1, 'medium': 1}, 15: {'easy': 1}, 22: {'nothing': 1}, 23: {'nothing': 1}}, '90440b09cd2c17ca7784f21d': {0: {'hard': 1}}, '572a93aa3041afcab9c816e2': {0: {'hard': 1, 'medium': 1, 'easy': 1, 'nothing': 8}, 1: {'nothing': 4}, 2: {'nothing': 13}, 3: {'nothing': 17}, 4: {'nothing': 5}, 5: {'nothing': 12}, 6: {'nothing': 1}, 7: {'nothing': 9}, 8: {'nothing': 9}, 9: {'nothing': 16}, 10: {'nothing': 10}, 11: {'nothing': 8}, 12: {'nothing': 4}, 14: {'nothing': 8}, 15: {'nothing': 5}, 16: {'nothing': 25}, 17: {'nothing': 10}, 18: {'nothing': 10}, 19: {'nothing': 9}, 20: {'nothing': 12}, 21: {'nothing': 9}, 22: {'nothing': 6}, 23: {'nothing': 17}, 24: {'nothing': 9, 'hard': 3, 'easy': 1, 'medium': 1}, 25: {'nothing': 1, 'medium': 1}, 26: {'nothing': 4, 'medium': 4, 'easy': 2, 'hard': 1}, 27: {'medium': 1}, 28: {'nothing': 1, 'hard': 2}, 29: {'nothing': 2}, 30: {'easy': 1, 'hard': 1}, 31: {'medium': 3, 'hard': 3, 'nothing': 1, 'easy': 1}, 32: {'medium': 2, 'nothing': 3, 'easy': 2, 'hard': 3}, 33: {'nothing': 15, 'easy': 9, 'medium': 6, 'hard': 1}, 34: {'medium': 4, 'nothing': 2, 'easy': 2, 'hard': 1}, 35: {'nothing': 1, 'easy': 4, 'medium': 1}, 36: {'nothing': 3, 'hard': 1}}, 'b570d0d6f46f095ccdd24376': {0: {'medium': 3}, 1: {'medium': 1}, 2: {'medium': 1}, 3: {'medium': 1}, 4: {'medium': 2}, 5: {'medium': 1}, 6: {'medium': 1}, 7: {'medium': 5}, 8: {'medium': 3}, 9: {'medium': 2}, 10: {'medium': 1}, 13: {'medium': 4}, 15: {'medium': 1}, 17: {'medium': 3}, 18: {'medium': 2}, 19: {'medium': 1}, 20: {'medium': 3}, 21: {'medium': 3}, 25: {'hard': 1}, 35: {'hard': 1}}, '40b957b71fcc72d41866e6b8': {0: {'hard': 1}, 6: {'hard': 1}, 17: {'hard': 1}}, '3056a2d989be02294adab708': {0: {'nothing': 3}, 1: {'nothing': 2}, 2: {'nothing': 1}, 3: {'nothing': 1}, 4: {'nothing': 2}, 6: {'nothing': 1}, 8: {'nothing': 6}, 9: {'nothing': 1}, 10: {'nothing': 5}, 11: {'nothing': 4}, 14: {'nothing': 3}, 15: {'nothing': 11}, 16: {'nothing': 5}, 17: {'nothing': 5}, 18: {'nothing': 1}, 19: {'nothing': 3}, 20: {'nothing': 16}, 21: {'nothing': 5}, 23: {'nothing': 1, 'easy': 1}, 24: {'nothing': 2, 'easy': 1}, 25: {'nothing': 4, 'hard': 1, 'easy': 2}, 26: {'nothing': 4}, 27: {'medium': 1, 'nothing': 1, 'easy': 1}, 28: {'nothing': 1, 'medium': 1}, 31: {'nothing': 1}, 35: {'nothing': 1, 'hard': 1}}, '0038a28ca863a4f560d099e0': {0: {'medium': 1}, 7: {'nothing': 1}, 14: {'nothing': 1}}, '63b6228a68cbc5f3597e9743': {0: {'nothing': 8, 'easy': 2, 'medium': 10}, 1: {'easy': 2, 'medium': 16, 'nothing': 5}, 2: {'easy': 3, 'medium': 3, 'nothing': 19}}, '92202175520ab67835acedff': {0: {'nothing': 14}, 1: {'nothing': 1}, 3: {'nothing': 1}, 6: {'nothing': 4}, 7: {'nothing': 12}, 8: {'nothing': 13}, 11: {'nothing': 1}, 12: {'nothing': 3}, 14: {'nothing': 1}, 16: {'nothing': 1}, 17: {'nothing': 4}, 18: {'nothing': 1}, 19: {'nothing': 1}, 20: {'nothing': 2}, 21: {'nothing': 2}, 22: {'nothing': 2}, 23: {'nothing': 1}, 24: {'nothing': 1}, 31: {'nothing': 1, 'easy': 1}, 34: {'nothing': 1, 'hard': 1}}, '78cb68240cb3a717a5d6fa31': {1: {'nothing': 1}, 0: {'nothing': 1}, 2: {'nothing': 9}, 3: {'nothing': 5}, 4: {'nothing': 13}, 19: {'nothing': 2}, 21: {'nothing': 1}, 23: {'nothing': 4}, 25: {'nothing': 4}, 26: {'nothing': 1, 'easy': 1}}, '480015300ad3d0c4520023f2': {0: {'easy': 4, 'nothing': 2, 'medium': 1}, 1: {'easy': 1, 'hard': 1}, 3: {'easy': 1}, 4: {'medium': 1, 'easy': 2}, 5: {'medium': 1, 'easy': 3}, 6: {'easy': 1}, 7: {'easy': 1, 'medium': 1}, 8: {'easy': 2, 'medium': 2}, 10: {'medium': 2}, 13: {'easy': 1}, 15: {'easy': 2}, 18: {'medium': 1, 'easy': 1}, 19: {'easy': 5}, 20: {'medium': 1, 'easy': 1}, 21: {'medium': 2}, 22: {'medium': 1}, 23: {'easy': 3, 'medium': 2}, 24: {'easy': 5, 'medium': 1}, 25: {'medium': 1, 'easy': 2}, 26: {'easy': 1}, 27: {'easy': 2}, 29: {'easy': 1, 'nothing': 1}, 30: {'hard': 1, 'easy': 2}, 31: {'easy': 8, 'nothing': 3, 'medium': 1}, 33: {'medium': 1}, 36: {'easy': 2, 'nothing': 1, 'medium': 1}, 37: {'easy': 4, 'nothing': 2}, 38: {'nothing': 1}}, '48c5e9231f6e69e87f68009d': {0: {'easy': 1}}, 'c4bddbc8daa7eaaf6711bf71': {0: {'nothing': 1}}, 'de0f8a6433da584c0fa066f3': {0: {'medium': 1}, 1: {'medium': 3}, 3: {'medium': 7, 'easy': 1}, 4: {'medium': 3}, 5: {'medium': 3}, 6: {'medium': 14}, 7: {'medium': 3}, 8: {'medium': 3}, 9: {'medium': 6}, 10: {'medium': 6}, 11: {'medium': 7}, 12: {'medium': 10}, 13: {'medium': 18}, 14: {'medium': 7}, 15: {'medium': 7}, 16: {'medium': 8}, 17: {'medium': 8}, 18: {'medium': 16}, 19: {'medium': 13, 'hard': 1}, 20: {'medium': 20, 'hard': 1}, 21: {'medium': 6}, 22: {'medium': 7}, 23: {'medium': 9, 'easy': 1}, 24: {'easy': 1}, 25: {'medium': 5, 'hard': 2, 'easy': 1}, 26: {'medium': 7, 'easy': 2}, 27: {'easy': 1}, 28: {'hard': 2, 'medium': 3, 'nothing': 1}, 29: {'medium': 4, 'hard': 2, 'nothing': 1, 'easy': 2}, 30: {'hard': 1, 'medium': 4, 'nothing': 3}, 31: {'medium': 2, 'nothing': 1}, 32: {'hard': 1}}, '77d96358edb2978a0899bfcc': {0: {'easy': 1}, 10: {'nothing': 1}}, '7669818720e10485946be94c': {0: {'medium': 6}, 1: {'medium': 9}, 2: {'medium': 2}, 4: {'medium': 2}, 5: {'medium': 3}, 3: {'medium': 9}, 7: {'medium': 10}, 8: {'medium': 11}, 9: {'medium': 1}, 10: {'medium': 8}, 11: {'medium': 5}, 14: {'medium': 15}, 15: {'medium': 9}, 16: {'medium': 7}, 17: {'medium': 6}, 18: {'medium': 2}, 21: {'medium': 4}, 22: {'medium': 5}}, '7837eb10f86c3a8baf835fcc': {0: {'nothing': 2}, 27: {'easy': 2}}, 'c7e7e27d6fb15ced618a19d0': {0: {'medium': 9, 'hard': 6}}, 'bc2a2a9aa64af2b5cd1b403a': {0: {'nothing': 1}, 16: {'hard': 1}}, '27cfcc4681e11b23b54acf63': {0: {'medium': 2}}, 'a8bf6d62f2be3db749ab5c85': {0: {'easy': 1, 'nothing': 3}, 1: {'nothing': 3}}, '235bb31da5dc39b661d12d22': {0: {'medium': 1, 'nothing': 2}, 2: {'nothing': 3}, 3: {'nothing': 4}, 6: {'nothing': 2}, 7: {'nothing': 2}, 8: {'nothing': 1}, 9: {'nothing': 1}, 13: {'nothing': 4}, 14: {'nothing': 2}, 15: {'nothing': 1}, 16: {'nothing': 3}, 17: {'nothing': 2}, 21: {'nothing': 2}, 22: {'hard': 1}, 24: {'nothing': 4}, 27: {'nothing': 4, 'medium': 1}, 28: {'nothing': 6, 'medium': 1, 'hard': 1}, 29: {'nothing': 1, 'hard': 1}, 30: {'nothing': 4, 'medium': 2, 'hard': 2}, 31: {'nothing': 1}, 34: {'nothing': 2, 'medium': 1, 'hard': 1}}, '9ee9b7534c9bcafec6a13773': {0: {'nothing': 2}, 1: {'nothing': 3}, 2: {'nothing': 6}, 4: {'nothing': 4}, 5: {'nothing': 11}, 7: {'nothing': 1}, 9: {'nothing': 1}, 11: {'nothing': 3}, 15: {'nothing': 1}}, '8fcff0a298c6a5bbd6d40487': {0: {'nothing': 1}, 5: {'nothing': 1}, 6: {'nothing': 1}, 7: {'nothing': 2}, 11: {'nothing': 1}, 14: {'nothing': 1}, 17: {'nothing': 1}, 18: {'nothing': 3}, 27: {'nothing': 2, 'hard': 1}, 30: {'easy': 1}}, '297f28ab3e26161b316fcf54': {0: {'nothing': 1}, 1: {'nothing': 4}, 2: {'nothing': 2}, 3: {'nothing': 6}, 4: {'nothing': 3}, 6: {'nothing': 8}, 7: {'nothing': 4}, 8: {'nothing': 6}, 9: {'nothing': 5}, 10: {'nothing': 1}, 14: {'nothing': 6}, 15: {'nothing': 1}, 16: {'nothing': 5}, 17: {'nothing': 1}, 19: {'nothing': 3}, 20: {'nothing': 7}, 23: {'nothing': 1}, 26: {'nothing': 1, 'medium': 1}, 31: {'hard': 1, 'medium': 1, 'easy': 1, 'nothing': 1}, 32: {'nothing': 1, 'hard': 1}}, '256281b12e168695353321f9': {0: {'nothing': 2}}, '60101b72ef16fe7ca8ad510d': {0: {'medium': 3}, 2: {'medium': 1}}, '828d5664d65b18aa895a3fe5': {0: {'nothing': 2}}, '222d7f9138114a93b8a039c5': {0: {'easy': 1, 'nothing': 1}, 2: {'nothing': 2}, 3: {'nothing': 1}, 5: {'nothing': 4, 'easy': 1}, 6: {'medium': 1, 'nothing': 6}, 8: {'nothing': 1}, 9: {'easy': 1, 'nothing': 3}, 11: {'nothing': 4}, 13: {'nothing': 1}, 20: {'nothing': 1}}, 'f111a8bfa3fca00051a0ce7c': {0: {'easy': 3, 'nothing': 1}}, '0665b11d1ffee106cb3c3fb1': {0: {'easy': 1}}, 'ac5bcd553aa0dc6be14da62a': {0: {'medium': 1}, 1: {'easy': 1}, 3: {'nothing': 1}, 5: {'nothing': 2}, 6: {'nothing': 1}, 10: {'nothing': 1}, 24: {'nothing': 1}, 25: {'nothing': 1}, 28: {'medium': 1}}, 'cf2b84b289d13a0fe56a7f71': {0: {'easy': 1, 'nothing': 1}}, '49ea2283e79afad7e1ede6ff': {0: {'easy': 10, 'nothing': 4, 'hard': 1}, 1: {'nothing': 1, 'easy': 5}, 2: {'easy': 15}, 3: {'easy': 1}, 4: {'easy': 1}, 5: {'easy': 1}, 6: {'easy': 5}, 7: {'easy': 4}, 8: {'easy': 8}, 9: {'easy': 6}, 10: {'easy': 1}, 11: {'easy': 1}, 14: {'easy': 9}, 20: {'easy': 3}, 21: {'easy': 1}}, '8a2d1ec53ad08c204a999032': {0: {'medium': 9}, 1: {'medium': 4}, 2: {'medium': 7}, 3: {'medium': 3}, 4: {'medium': 4}, 5: {'medium': 2}, 6: {'medium': 8}, 7: {'medium': 1}, 8: {'medium': 4}, 9: {'medium': 1}, 10: {'medium': 6}, 11: {'medium': 5}, 13: {'medium': 23}, 14: {'medium': 8}, 15: {'nothing': 2, 'easy': 2, 'medium': 1}, 16: {'medium': 3}, 17: {'medium': 13}, 18: {'medium': 13}, 19: {'medium': 4}, 20: {'medium': 25}, 21: {'medium': 6}, 22: {'medium': 2, 'hard': 1}, 23: {'medium': 3, 'nothing': 1}, 24: {'medium': 1, 'nothing': 1}, 25: {'medium': 2, 'hard': 1}, 26: {'medium': 3, 'nothing': 1}, 27: {'nothing': 1}, 28: {'medium': 4, 'nothing': 1, 'hard': 1, 'easy': 1}, 29: {'easy': 1}, 30: {'medium': 2, 'easy': 1}, 31: {'medium': 2, 'easy': 1, 'nothing': 1}, 32: {'medium': 1}, 33: {'medium': 3, 'easy': 1}, 34: {'easy': 2, 'medium': 2, 'nothing': 1}}, '39778195ca201f72bad0e6de': {0: {'medium': 2}, 2: {'easy': 3}, 3: {'easy': 6, 'medium': 2, 'hard': 1}, 4: {'easy': 2, 'medium': 1}, 5: {'easy': 1, 'nothing': 6}, 6: {'easy': 4, 'nothing': 4}, 7: {'nothing': 3, 'easy': 1}, 8: {'nothing': 10, 'easy': 3}, 10: {'nothing': 2}, 11: {'nothing': 6}, 12: {'easy': 2, 'nothing': 6}, 13: {'nothing': 4, 'easy': 3}, 16: {'easy': 3, 'nothing': 15}, 17: {'nothing': 9, 'easy': 24}, 18: {'easy': 3, 'nothing': 2, 'hard': 1}, 19: {'easy': 5, 'nothing': 6}, 20: {'easy': 5, 'nothing': 1}, 21: {'easy': 7, 'nothing': 1}, 22: {'easy': 9}, 23: {'nothing': 3}, 24: {'easy': 2}, 25: {'easy': 3, 'nothing': 8}, 26: {'nothing': 4, 'easy': 2}, 28: {'easy': 1, 'medium': 1}, 30: {'nothing': 2}, 34: {'hard': 1}}, '59ab611d4e99391f215e88f2': {0: {'hard': 2, 'medium': 1, 'easy': 4, 'nothing': 1}, 1: {'nothing': 15, 'easy': 1}, 2: {'easy': 3, 'nothing': 25}, 3: {'nothing': 2}, 5: {'nothing': 17, 'easy': 1}, 6: {'nothing': 18, 'easy': 2, 'medium': 1}, 7: {'nothing': 24, 'easy': 1}, 8: {'nothing': 15}, 9: {'nothing': 4}, 12: {'nothing': 26}, 13: {'nothing': 20}, 14: {'nothing': 30, 'easy': 1}, 15: {'nothing': 11}, 16: {'nothing': 17, 'easy': 1}, 19: {'nothing': 7}, 20: {'nothing': 15}, 21: {'nothing': 11, 'easy': 1}, 22: {'nothing': 3, 'medium': 1}, 23: {'nothing': 9, 'easy': 7, 'medium': 1, 'hard': 3}, 24: {'easy': 1}, 26: {'nothing': 14, 'easy': 5, 'hard': 4, 'medium': 4}, 27: {'easy': 8, 'nothing': 10, 'hard': 4, 'medium': 2}, 28: {'nothing': 7, 'hard': 1, 'easy': 1, 'medium': 2}, 29: {'medium': 3, 'nothing': 6, 'easy': 2, 'hard': 2}, 30: {'easy': 5, 'nothing': 6}, 31: {'nothing': 6, 'medium': 1, 'easy': 2, 'hard': 1}, 33: {'nothing': 11, 'medium': 5, 'hard': 2, 'easy': 1}, 34: {'hard': 4, 'nothing': 5, 'medium': 1, 'easy': 2}}, '6f52e207fcf0e4f2a06729b7': {0: {'easy': 2}, 1: {'easy': 1}, 2: {'easy': 1}, 5: {'easy': 2, 'medium': 1}, 8: {'medium': 1}}, '8ccda4acf0cfef149ecedc5c': {0: {'medium': 2, 'nothing': 1}, 1: {'hard': 1, 'medium': 1}, 2: {'medium': 3}, 3: {'medium': 2}, 5: {'medium': 1}, 6: {'medium': 1, 'easy': 4}, 7: {'easy': 2}, 8: {'easy': 6}, 9: {'nothing': 2}, 12: {'nothing': 3}, 13: {'nothing': 7}, 14: {'easy': 1, 'nothing': 1}, 15: {'nothing': 3}, 16: {'nothing': 1}}, 'e19c8558d70c302d03c2b557': {0: {'medium': 4}, 1: {'medium': 1}, 6: {'medium': 2}, 8: {'medium': 3}, 9: {'medium': 2}, 13: {'easy': 1}, 14: {'easy': 2}, 16: {'easy': 3}, 19: {'medium': 1, 'easy': 1}, 20: {'easy': 3}, 21: {'easy': 2}, 22: {'medium': 1, 'nothing': 1}, 23: {'medium': 5, 'easy': 2, 'nothing': 1}, 24: {'medium': 1, 'easy': 1}, 26: {'medium': 2, 'hard': 1, 'easy': 1}, 27: {'medium': 1}, 28: {'medium': 1, 'easy': 1}, 29: {'medium': 7, 'hard': 1}, 30: {'medium': 4, 'nothing': 1}, 33: {'medium': 2}}, 'f17293d808752f791fef8452': {0: {'easy': 1, 'nothing': 1}, 1: {'nothing': 2}}, '5ee1b051445a4c978e8174a2': {0: {'nothing': 2, 'easy': 4}, 1: {'easy': 2, 'nothing': 2}, 2: {'nothing': 1}, 3: {'nothing': 11}}, '09d27c86d835df2af5f0be24': {0: {'easy': 1}, 1: {'easy': 1}, 2: {'easy': 1}, 3: {'nothing': 1}, 6: {'nothing': 1}, 13: {'nothing': 3}, 8: {'nothing': 1}, 10: {'nothing': 1}, 14: {'nothing': 3}, 15: {'nothing': 3}, 16: {'nothing': 1}, 18: {'nothing': 2}, 20: {'nothing': 1}, 21: {'nothing': 2}, 22: {'nothing': 4}}, 'd5e2424eae96ecaead6a2d33': {0: {'nothing': 1}}, '0ae7ef8f2467adc9deac8b78': {0: {'nothing': 7}, 1: {'nothing': 13}, 4: {'nothing': 2}, 6: {'nothing': 1}}, '78671462e29c9038f675d095': {0: {'medium': 8}, 1: {'medium': 4, 'nothing': 1, 'easy': 7}, 2: {'easy': 9, 'medium': 1}, 3: {'nothing': 1, 'easy': 3}, 4: {'medium': 1, 'easy': 3}, 5: {'easy': 2}, 8: {'easy': 2}, 12: {'easy': 22}, 13: {'easy': 3}, 24: {'medium': 2, 'hard': 1, 'easy': 1, 'nothing': 2}, 27: {'medium': 1}, 31: {'nothing': 2}, 34: {'medium': 1}}, '0e722db741caeab896cc7692': {0: {'easy': 2, 'medium': 2}, 4: {'medium': 2}, 8: {'easy': 1, 'medium': 1, 'nothing': 3}, 9: {'easy': 1, 'medium': 1}, 12: {'nothing': 1}, 18: {'nothing': 3, 'easy': 1, 'medium': 1}, 31: {'medium': 1, 'hard': 1, 'nothing': 1}, 32: {'nothing': 1, 'easy': 2, 'medium': 1}, 33: {'medium': 3, 'nothing': 1}}, 'e118e25983b0dd2e48723817': {0: {'nothing': 1}}, '679e6fb57eff0b5153dbe71f': {0: {'nothing': 1}}, 'baf0f16632ecf91730f0278c': {0: {'easy': 1}, 3: {'easy': 1}, 4: {'nothing': 1}, 5: {'nothing': 3}, 14: {'nothing': 2}, 32: {'nothing': 1, 'hard': 1}, 33: {'easy': 1}}, '5d2d752f891fe772b8b2bfdf': {0: {'hard': 1}, 4: {'nothing': 2}, 5: {'nothing': 1}, 7: {'nothing': 3}, 8: {'nothing': 2}, 9: {'nothing': 3}, 10: {'nothing': 3}, 11: {'nothing': 1}, 12: {'nothing': 1}, 13: {'nothing': 1}, 14: {'nothing': 2}, 15: {'nothing': 3}, 16: {'nothing': 1}, 19: {'nothing': 2}, 20: {'nothing': 1}, 21: {'nothing': 3}, 22: {'easy': 2, 'nothing': 1}, 26: {'nothing': 1, 'easy': 1}}, 'c34a4f1b79fbb8967a8b2dc0': {0: {'nothing': 12}, 1: {'nothing': 4}}, '2ea1741f25db9aa245e6d982': {0: {'nothing': 7, 'easy': 1}, 1: {'nothing': 5}, 3: {'nothing': 5}, 4: {'nothing': 4}, 5: {'nothing': 2}, 6: {'nothing': 4}, 7: {'nothing': 5}, 8: {'nothing': 1}, 9: {'nothing': 1, 'easy': 1}, 11: {'nothing': 8}, 12: {'nothing': 1}, 13: {'nothing': 2}, 14: {'nothing': 4}, 15: {'nothing': 3}, 16: {'nothing': 2}, 17: {'nothing': 1}, 18: {'nothing': 4}, 19: {'nothing': 7}, 20: {'nothing': 5}, 22: {'nothing': 1}, 26: {'medium': 1}}, '9ba55c3765b5fcfdb1753a1b': {0: {'nothing': 2}, 2: {'nothing': 1}, 9: {'nothing': 1}, 12: {'nothing': 1}, 13: {'nothing': 3}, 14: {'nothing': 1}, 15: {'nothing': 2}, 16: {'nothing': 3}, 17: {'nothing': 2}, 18: {'nothing': 1}, 20: {'nothing': 1}, 21: {'nothing': 1, 'hard': 1}, 26: {'nothing': 1, 'easy': 1}}, '60b345380f0e28aac7f3788a': {0: {'nothing': 5, 'easy': 1}, 2: {'nothing': 1}, 7: {'nothing': 2}, 14: {'nothing': 2}, 15: {'nothing': 3}, 16: {'nothing': 6}, 17: {'nothing': 5}, 19: {'nothing': 4}, 20: {'nothing': 20}, 21: {'nothing': 4, 'medium': 1}}, '0f7d30c5f669518a4ecbf405': {0: {'easy': 5, 'nothing': 47}, 1: {'nothing': 68}, 2: {'nothing': 102, 'easy': 1}, 3: {'nothing': 91, 'easy': 1}, 4: {'nothing': 58}, 5: {'nothing': 29}, 6: {'nothing': 17}, 7: {'nothing': 48}, 8: {'nothing': 9}, 9: {'nothing': 69}, 10: {'nothing': 29, 'easy': 1}, 11: {'nothing': 22}, 12: {'nothing': 37}, 13: {'nothing': 31}, 14: {'nothing': 15}, 15: {'nothing': 34}, 16: {'nothing': 20}, 17: {'nothing': 102}, 18: {'nothing': 41}, 19: {'nothing': 15}, 20: {'nothing': 14}, 21: {'nothing': 1}, 22: {'medium': 2, 'nothing': 1}, 23: {'hard': 1}, 24: {'medium': 1}, 26: {'nothing': 2, 'easy': 1}}, '74c55043e4da46f49595c348': {0: {'hard': 1, 'easy': 1}, 1: {'easy': 1, 'nothing': 4}, 3: {'nothing': 6, 'easy': 1}, 4: {'nothing': 4, 'hard': 1}, 7: {'easy': 1}, 12: {'nothing': 1}, 13: {'hard': 1}, 20: {'easy': 2}, 22: {'easy': 16, 'hard': 7, 'nothing': 6, 'medium': 7}, 28: {'easy': 1}, 30: {'easy': 1}, 31: {'nothing': 2}, 32: {'easy': 1}, 33: {'nothing': 1, 'medium': 1}}, 'ccd0d63312e118234b62cfc6': {0: {'nothing': 2}, 6: {'nothing': 2}, 7: {'nothing': 1}, 8: {'nothing': 1}, 13: {'nothing': 1}, 15: {'nothing': 1}, 22: {'nothing': 1, 'medium': 1}, 27: {'nothing': 1}}, 'ec3005eb959e23f5e4034487': {0: {'medium': 2, 'nothing': 3}, 1: {'nothing': 5}, 2: {'nothing': 5}, 3: {'nothing': 3}, 4: {'nothing': 1}, 9: {'nothing': 4}, 10: {'nothing': 6}, 11: {'nothing': 5}, 12: {'nothing': 6}, 13: {'nothing': 3}, 14: {'nothing': 4}, 15: {'nothing': 4, 'easy': 1}, 16: {'nothing': 1}, 17: {'nothing': 15, 'easy': 1, 'medium': 1}, 18: {'nothing': 9, 'easy': 1, 'medium': 1}, 21: {'hard': 2}}, 'c747f5aec311d4f96a5ca9a0': {0: {'easy': 28, 'nothing': 1}, 1: {'easy': 29}, 2: {'easy': 22}, 3: {'easy': 10}, 4: {'easy': 21}, 5: {'easy': 22, 'nothing': 2}, 6: {'easy': 11, 'nothing': 19}, 7: {'easy': 1, 'nothing': 1}, 9: {'easy': 6}, 10: {'easy': 2}, 11: {'easy': 3}, 13: {'easy': 2}, 14: {'easy': 19, 'nothing': 1}, 15: {'easy': 5}, 16: {'easy': 5, 'medium': 1, 'nothing': 1}, 17: {'easy': 5}, 18: {'easy': 14}, 19: {'easy': 9}, 20: {'easy': 2}, 21: {'easy': 6, 'hard': 1, 'medium': 3, 'nothing': 5}, 22: {'nothing': 3, 'easy': 2, 'hard': 1, 'medium': 1}, 23: {'easy': 4, 'nothing': 6, 'hard': 1, 'medium': 3}, 24: {'easy': 1, 'medium': 1}, 25: {'easy': 9, 'hard': 2, 'nothing': 3, 'medium': 1}, 26: {'easy': 3, 'medium': 2, 'nothing': 2}, 27: {'medium': 1, 'nothing': 4, 'easy': 3}, 28: {'easy': 8, 'medium': 2, 'hard': 2, 'nothing': 1}, 29: {'easy': 10, 'hard': 10, 'medium': 5, 'nothing': 6}, 30: {'easy': 20, 'hard': 5, 'medium': 7, 'nothing': 10}, 31: {'easy': 5, 'nothing': 3, 'hard': 1}, 32: {'easy': 7, 'medium': 4, 'nothing': 2, 'hard': 3}}, 'fb499201315736f0fa19df2b': {0: {'hard': 1, 'medium': 1}, 2: {'nothing': 1}, 5: {'hard': 1}, 6: {'nothing': 1}, 7: {'nothing': 1}, 8: {'nothing': 8}, 9: {'nothing': 5}, 10: {'nothing': 9}, 11: {'nothing': 5}, 12: {'nothing': 7}, 13: {'nothing': 7}, 14: {'nothing': 3}, 15: {'nothing': 1}, 16: {'nothing': 3}, 21: {'nothing': 2}, 22: {'nothing': 2}}, '652616af0696628cd25c09a7': {0: {'easy': 2}, 7: {'nothing': 1}}, '61376097ff6748baf63e881b': {0: {'medium': 1}, 1: {'hard': 1, 'easy': 1}, 2: {'nothing': 1}, 4: {'nothing': 4, 'easy': 1}, 5: {'nothing': 9}, 6: {'medium': 1, 'nothing': 1}, 9: {'nothing': 1}, 11: {'nothing': 7, 'easy': 1}, 12: {'nothing': 3}, 13: {'easy': 1, 'nothing': 1}, 14: {'nothing': 8}, 15: {'nothing': 5}, 16: {'nothing': 1}, 17: {'nothing': 3}, 18: {'nothing': 4}, 19: {'nothing': 2}, 21: {'nothing': 1, 'easy': 1}, 23: {'nothing': 2, 'hard': 1, 'medium': 1}, 24: {'easy': 1}, 26: {'easy': 1, 'nothing': 1, 'hard': 1}, 27: {'nothing': 1, 'medium': 1}, 30: {'easy': 1}, 32: {'hard': 2}, 33: {'nothing': 1, 'hard': 1}}, 'a4805ed4a1c1798c999c3f19': {0: {'easy': 3}, 1: {'easy': 2}, 2: {'easy': 3}, 3: {'easy': 1}, 4: {'nothing': 4, 'easy': 2}, 5: {'nothing': 3, 'easy': 1}, 6: {'nothing': 3}, 7: {'nothing': 4}, 8: {'nothing': 2}, 10: {'nothing': 1}, 11: {'nothing': 2}, 13: {'nothing': 1}, 14: {'nothing': 1}, 17: {'nothing': 1}, 18: {'nothing': 4}, 19: {'nothing': 2}, 20: {'medium': 1}}, '0aeb7885133548af161a61d2': {0: {'nothing': 5}, 1: {'nothing': 3}, 9: {'nothing': 1}}, 'db584a84b090771555cd5fab': {0: {'easy': 1}}, '8b2ad4e4ea484dc3fb93ad2e': {0: {'easy': 1}}, 'd71de4890c0b5f74cbecf421': {0: {'easy': 1}}, '3b671c8757b6b83ba2c4c590': {0: {'nothing': 8, 'easy': 1, 'hard': 8}, 1: {'hard': 6, 'nothing': 6}, 2: {'nothing': 7, 'hard': 4, 'easy': 1}, 3: {'nothing': 13, 'hard': 2}, 4: {'nothing': 20}, 5: {'nothing': 18, 'hard': 2}, 6: {'nothing': 31, 'easy': 1}, 7: {'nothing': 25}, 8: {'nothing': 21, 'easy': 1}, 9: {'nothing': 8}, 11: {'nothing': 6}}, '3672370d18e10686fe5a15ba': {0: {'nothing': 2}, 1: {'nothing': 2}, 2: {'nothing': 1}, 3: {'nothing': 1}, 7: {'nothing': 1}, 9: {'nothing': 2}, 10: {'nothing': 1}}, '8bfcba10dcb6ea0bd3a8a1e7': {0: {'easy': 1}, 6: {'easy': 1}}, 'b89623c138b89a095e714e58': {0: {'hard': 2, 'nothing': 1}, 5: {'nothing': 1}, 6: {'nothing': 1, 'easy': 1}, 8: {'easy': 1}}, '4058d8a61cec263f90624dee': {0: {'easy': 11}, 1: {'easy': 10}, 2: {'easy': 5}, 3: {'easy': 10}, 4: {'easy': 16}, 5: {'easy': 21}, 6: {'easy': 12, 'medium': 1}, 7: {'easy': 9}, 14: {'nothing': 1, 'easy': 6}, 15: {'easy': 4}, 16: {'easy': 2}, 17: {'nothing': 2, 'easy': 1}, 19: {'easy': 6}, 20: {'easy': 3}, 21: {'easy': 8}, 22: {'easy': 2}, 23: {'easy': 4, 'medium': 1}, 29: {'easy': 1, 'hard': 1}, 30: {'easy': 1}, 33: {'easy': 1, 'hard': 1}, 34: {'easy': 1, 'nothing': 1}}, '85cdd82dd62c4a33c7253177': {0: {'nothing': 1}, 1: {'nothing': 4}, 3: {'nothing': 1}, 4: {'nothing': 3}}, '7f28173b19f2aed31379c20d': {0: {'medium': 15, 'hard': 1}, 1: {'medium': 2}, 2: {'medium': 4}, 3: {'medium': 7}, 9: {'medium': 1}}, '2f45a7c75522cb37ce3bf401': {0: {'easy': 1}}, 'afcb7089dc16049b5b2b3467': {0: {'nothing': 6}, 5: {'nothing': 2}, 6: {'nothing': 2}, 12: {'nothing': 2}, 19: {'nothing': 1}, 21: {'nothing': 6}, 24: {'nothing': 7, 'hard': 2, 'easy': 1, 'medium': 1}}, 'fa6fa3266eab86e74a291aa5': {0: {'easy': 16, 'medium': 1}, 1: {'easy': 9}, 2: {'easy': 2}, 3: {'easy': 11}, 4: {'easy': 5}, 7: {'easy': 6}, 8: {'easy': 16}, 9: {'easy': 11}, 10: {'easy': 7, 'nothing': 1}, 11: {'easy': 6}, 14: {'easy': 2}, 15: {'easy': 24}, 16: {'easy': 20}, 17: {'easy': 19}, 21: {'easy': 13}, 22: {'easy': 24}, 23: {'easy': 9, 'medium': 2, 'hard': 1}, 24: {'medium': 4, 'easy': 3, 'nothing': 4, 'hard': 1}, 25: {'easy': 2}, 27: {'nothing': 2, 'easy': 1, 'hard': 1, 'medium': 1}, 28: {'easy': 13, 'medium': 12, 'hard': 7, 'nothing': 6}, 29: {'hard': 6, 'easy': 16, 'nothing': 7, 'medium': 5}, 30: {'easy': 11, 'nothing': 3, 'medium': 9, 'hard': 1}}, 'b7223983c51cdb868ed9126d': {0: {'hard': 1}, 2: {'medium': 1}, 4: {'easy': 1}, 8: {'nothing': 1}}, '66cfdf90032cce26f2672c2c': {0: {'nothing': 5, 'easy': 1}, 1: {'nothing': 2}, 2: {'nothing': 2}, 3: {'nothing': 13, 'easy': 3}, 4: {'nothing': 7, 'easy': 1}}, 'eecfbb2614512cb8d7d3b323': {0: {'easy': 1, 'nothing': 4}, 1: {'nothing': 1}, 2: {'easy': 2, 'nothing': 6}, 3: {'nothing': 5}, 5: {'nothing': 4}, 6: {'nothing': 12, 'easy': 1}, 7: {'nothing': 3, 'easy': 1}, 8: {'nothing': 7}, 10: {'nothing': 19}, 11: {'nothing': 8}, 12: {'nothing': 7}, 13: {'nothing': 3}, 14: {'nothing': 1}, 15: {'nothing': 4}, 16: {'nothing': 3}, 17: {'nothing': 14}, 18: {'nothing': 9}, 19: {'nothing': 9}, 20: {'hard': 1, 'nothing': 1, 'medium': 1}, 21: {'hard': 1}, 22: {'easy': 1, 'nothing': 1}, 23: {'nothing': 1, 'medium': 1}, 24: {'nothing': 2}, 25: {'nothing': 4, 'medium': 1, 'hard': 1}, 26: {'nothing': 7, 'hard': 1, 'medium': 1}, 27: {'nothing': 3, 'medium': 2}, 28: {'nothing': 3, 'medium': 4, 'hard': 1}, 29: {'nothing': 1, 'easy': 1, 'hard': 1}, 30: {'nothing': 2}, 31: {'nothing': 5, 'hard': 1}, 32: {'nothing': 2, 'hard': 1, 'medium': 1}}, '0eb917bbdebabf9f07aa9bfc': {0: {'medium': 1}, 9: {'easy': 1}}, 'be792160b4192a542e3b15a3': {0: {'easy': 9, 'medium': 1}, 1: {'easy': 9}, 4: {'easy': 2}, 5: {'easy': 9}, 6: {'easy': 8}, 7: {'easy': 1}, 14: {'medium': 1, 'hard': 1}, 19: {'medium': 1, 'nothing': 1}}, '243e6391f2a0417b11ed45b4': {0: {'easy': 5, 'nothing': 1}, 1: {'easy': 2}, 2: {'easy': 4}, 3: {'easy': 6}, 4: {'easy': 5, 'nothing': 1}, 5: {'easy': 4}, 6: {'easy': 5}, 9: {'easy': 1}}, '368f50d640ba3e1a02e82b6b': {0: {'nothing': 3}, 1: {'nothing': 2}, 2: {'nothing': 3}, 3: {'nothing': 1}, 6: {'nothing': 4}, 8: {'nothing': 3}, 10: {'nothing': 1}, 11: {'nothing': 1}, 12: {'nothing': 2}, 13: {'nothing': 2}, 14: {'nothing': 1}, 15: {'nothing': 2}, 16: {'nothing': 1}, 19: {'nothing': 4}, 20: {'nothing': 3}, 23: {'nothing': 1, 'hard': 1}}, '3e007aa6e0da38c18a08b832': {0: {'easy': 2}, 1: {'easy': 2}, 5: {'easy': 2}, 6: {'nothing': 1}, 7: {'easy': 1}, 13: {'easy': 1}, 14: {'easy': 2}, 15: {'easy': 1}, 17: {'easy': 1}, 20: {'easy': 2}, 31: {'hard': 1}}, '98bdc4f3fc092d6bcba10abf': {0: {'nothing': 1}}, '9a09a59e9c0753d1d0eab941': {0: {'nothing': 1}}, '89a7575f008972184b89e0d7': {0: {'medium': 1, 'nothing': 2}, 1: {'nothing': 2}, 4: {'nothing': 3}, 11: {'nothing': 5}, 12: {'nothing': 3}, 13: {'nothing': 3}, 14: {'nothing': 1}, 15: {'nothing': 1}, 16: {'nothing': 5}, 18: {'nothing': 3}, 19: {'nothing': 1}, 20: {'nothing': 2}, 21: {'nothing': 3, 'easy': 1}, 22: {'nothing': 2}, 23: {'nothing': 2}, 24: {'nothing': 3}, 25: {'nothing': 5}, 30: {'nothing': 3}, 31: {'nothing': 4, 'hard': 2}, 32: {'hard': 1, 'nothing': 5, 'easy': 1}, 33: {'nothing': 4, 'medium': 1, 'easy': 1}, 34: {'nothing': 1}, 39: {'nothing': 1, 'easy': 1}}, '62c2c6167b70695982d0098f': {0: {'easy': 1}, 2: {'nothing': 1, 'easy': 2}, 3: {'easy': 3}, 4: {'easy': 2}, 5: {'easy': 1}, 7: {'easy': 3}, 8: {'easy': 4}, 9: {'easy': 1}, 10: {'easy': 6}, 11: {'easy': 1}, 12: {'nothing': 1, 'easy': 2}, 14: {'easy': 3}, 15: {'easy': 3}, 16: {'easy': 1}, 17: {'easy': 1}, 18: {'easy': 6}, 19: {'easy': 7}, 20: {'easy': 5, 'nothing': 1}, 21: {'nothing': 1, 'easy': 1}, 22: {'easy': 2}, 23: {'nothing': 1, 'easy': 1}, 25: {'easy': 5}}, 'b6dbdc3722dea65245188082': {0: {'easy': 1, 'nothing': 5}, 1: {'nothing': 3, 'easy': 1}, 4: {'nothing': 1}, 5: {'nothing': 1}, 6: {'nothing': 3}}, 'fe238b86aa234e386ba7f358': {0: {'easy': 2, 'nothing': 1}, 5: {'easy': 1}, 9: {'easy': 1}, 17: {'nothing': 10}, 18: {'nothing': 2}, 19: {'nothing': 4, 'medium': 1}, 20: {'nothing': 3, 'medium': 2, 'hard': 1}, 26: {'nothing': 1, 'hard': 1}}, '3759f7814064a144cd1928c9': {0: {'nothing': 1}, 4: {'nothing': 2}, 6: {'nothing': 1}, 10: {'nothing': 2}, 12: {'nothing': 1}, 13: {'nothing': 2}, 14: {'nothing': 2}, 17: {'nothing': 1}, 18: {'nothing': 6}, 19: {'nothing': 2, 'easy': 1, 'hard': 1}, 20: {'nothing': 3, 'hard': 1}, 21: {'nothing': 7, 'medium': 3}, 24: {'nothing': 2, 'easy': 1, 'medium': 1}, 25: {'nothing': 2, 'hard': 1, 'easy': 1}, 26: {'nothing': 2, 'medium': 1, 'hard': 1}, 27: {'nothing': 1, 'medium': 1}, 28: {'nothing': 2}, 31: {'nothing': 1, 'medium': 1}}, '470cc3e3c187a62baeb64f77': {0: {'easy': 3, 'nothing': 28}, 1: {'nothing': 24}, 2: {'nothing': 6}, 3: {'nothing': 20}, 4: {'nothing': 38}, 5: {'nothing': 29}, 6: {'nothing': 19}}, '323b238f978989b9511a4a57': {0: {'easy': 6, 'medium': 1}, 1: {'nothing': 1}, 2: {'easy': 2}, 3: {'easy': 9}, 5: {'easy': 5}, 6: {'easy': 2}, 7: {'easy': 5, 'medium': 1}, 8: {'easy': 2}, 9: {'easy': 6}, 10: {'medium': 1, 'easy': 9}, 12: {'easy': 25}, 13: {'easy': 8}, 14: {'medium': 3, 'nothing': 2, 'easy': 7}, 15: {'easy': 2}, 16: {'easy': 11}, 17: {'easy': 2}, 19: {'easy': 18}, 20: {'easy': 2}, 21: {'easy': 2}, 24: {'easy': 1, 'hard': 2}, 25: {'easy': 4, 'hard': 3, 'nothing': 2}, 26: {'nothing': 1, 'easy': 5, 'hard': 4, 'medium': 3}, 27: {'easy': 2, 'hard': 1, 'medium': 1}, 29: {'easy': 3, 'medium': 1}, 31: {'easy': 4, 'nothing': 1, 'hard': 3, 'medium': 1}}, '3ff673311328663cd56a2261': {0: {'hard': 1, 'easy': 1, 'nothing': 1}}, '638a4d0866ca488ec9a44436': {0: {'medium': 1}, 1: {'easy': 6, 'medium': 1, 'nothing': 6}, 2: {'nothing': 6}, 3: {'nothing': 6}, 5: {'nothing': 1}, 6: {'nothing': 2}, 7: {'nothing': 4}, 8: {'nothing': 5}, 10: {'nothing': 1}, 11: {'nothing': 6}, 12: {'nothing': 2}, 15: {'nothing': 3}, 16: {'nothing': 1}, 17: {'nothing': 1}, 18: {'nothing': 4}, 20: {'nothing': 1, 'easy': 1}, 21: {'nothing': 4}, 22: {'nothing': 4, 'easy': 2}, 23: {'nothing': 3, 'hard': 3, 'medium': 2}, 24: {'nothing': 3, 'hard': 1}, 27: {'nothing': 3, 'easy': 1}, 28: {'nothing': 1, 'hard': 1}, 29: {'nothing': 7, 'medium': 3, 'easy': 1, 'hard': 1}, 30: {'nothing': 7, 'hard': 1}, 31: {'nothing': 1, 'easy': 1}}, 'a6b31cec60c85def108fde5f': {0: {'easy': 1}}, '5376bd405d8ea00cc3407680': {0: {'nothing': 2}, 3: {'nothing': 1}, 13: {'nothing': 1}, 14: {'nothing': 1}, 15: {'nothing': 1}, 24: {'nothing': 1}, 29: {'medium': 1, 'nothing': 1}}, '8c0907cf9d9b43676276a646': {0: {'easy': 5, 'medium': 3, 'nothing': 3}, 1: {'nothing': 12}, 2: {'nothing': 22}, 3: {'nothing': 25}, 4: {'nothing': 12}, 5: {'nothing': 12}, 6: {'nothing': 14}, 7: {'nothing': 3}, 8: {'nothing': 2}, 9: {'nothing': 8}, 10: {'nothing': 18}, 11: {'nothing': 16}, 12: {'nothing': 15}, 13: {'nothing': 3}, 14: {'nothing': 6}, 17: {'nothing': 12}, 18: {'nothing': 33}, 19: {'nothing': 3}, 20: {'nothing': 12}, 21: {'nothing': 17}, 22: {'nothing': 10}, 23: {'nothing': 25}, 24: {'nothing': 20}, 25: {'nothing': 12, 'hard': 1, 'medium': 4, 'easy': 4}, 26: {'nothing': 6, 'medium': 2, 'easy': 2, 'hard': 1}, 27: {'nothing': 1}, 30: {'medium': 3, 'nothing': 1, 'easy': 3, 'hard': 1}, 31: {'nothing': 5, 'easy': 3, 'medium': 3, 'hard': 2}, 32: {'easy': 2, 'medium': 5, 'hard': 3, 'nothing': 4}, 33: {'nothing': 6, 'easy': 1, 'medium': 3}, 34: {'nothing': 5, 'easy': 3}, 35: {'nothing': 4, 'hard': 2, 'easy': 2}, 36: {'nothing': 1, 'hard': 1}, 37: {'nothing': 7, 'medium': 3, 'easy': 4, 'hard': 1}}, '35856a0f280d69db7a72fea3': {0: {'easy': 1}, 1: {'nothing': 2}, 3: {'nothing': 1}, 9: {'nothing': 1}, 10: {'nothing': 1}, 11: {'nothing': 2}, 12: {'nothing': 1}, 14: {'nothing': 2}, 15: {'nothing': 2}, 18: {'nothing': 3}, 23: {'nothing': 2, 'hard': 1}, 26: {'nothing': 1, 'medium': 1}, 27: {'nothing': 1, 'easy': 1}, 29: {'nothing': 1, 'medium': 2}}, '306bcc627c961060a8c2414d': {0: {'medium': 1}}, '329cbe941cea398f04cd560f': {0: {'nothing': 1}}, '39987e39f3e03b1dfc68bd5c': {0: {'nothing': 1}, 4: {'nothing': 1}, 6: {'nothing': 1}, 7: {'nothing': 2}, 12: {'nothing': 1}, 14: {'nothing': 2}, 18: {'nothing': 2}, 21: {'nothing': 1}, 22: {'nothing': 1}}, 'fe856a60263ee304982b7a3d': {0: {'easy': 1}, 3: {'easy': 1}, 6: {'easy': 2}, 8: {'easy': 1}, 10: {'easy': 1}, 12: {'nothing': 1}, 16: {'easy': 3}, 17: {'nothing': 1}, 28: {'easy': 1}, 31: {'easy': 2}}, '31eccc089295db24b4c79724': {0: {'nothing': 2}, 9: {'nothing': 2}, 10: {'nothing': 3}, 11: {'nothing': 1}, 14: {'nothing': 7}, 16: {'nothing': 1}, 17: {'nothing': 1}, 18: {'nothing': 4}, 25: {'nothing': 1}, 28: {'nothing': 1}, 35: {'nothing': 2}}, '48cbc3c7c154dd0a6beac06e': {0: {'easy': 2, 'medium': 2}, 1: {'easy': 3}, 2: {'medium': 3, 'easy': 2, 'nothing': 2}, 3: {'easy': 3, 'medium': 1, 'nothing': 2}, 4: {'nothing': 1}, 5: {'nothing': 2}, 6: {'easy': 1, 'nothing': 1}, 7: {'nothing': 9}, 8: {'nothing': 2}, 9: {'nothing': 3}, 10: {'easy': 1, 'nothing': 3}, 11: {'nothing': 5}, 14: {'nothing': 5}, 15: {'nothing': 7}, 16: {'nothing': 2}, 17: {'nothing': 4}, 19: {'nothing': 6}, 20: {'nothing': 5}, 22: {'nothing': 1}, 24: {'nothing': 1}, 25: {'nothing': 1}, 26: {'nothing': 3}, 27: {'nothing': 2}}, '925b9c7a402de3c5e2dcc5fc': {0: {'easy': 3}, 3: {'easy': 1}, 39: {'medium': 1}}, '37a571b2282d05829b15c301': {0: {'nothing': 1}, 3: {'nothing': 1}, 4: {'easy': 5, 'medium': 1}, 5: {'easy': 1, 'medium': 1}, 6: {'easy': 1}, 7: {'nothing': 1}, 8: {'hard': 1, 'medium': 1, 'easy': 1}, 10: {'medium': 3, 'easy': 2}, 11: {'medium': 3}, 13: {'medium': 3}, 15: {'medium': 3}, 18: {'easy': 1, 'medium': 2}, 19: {'easy': 1, 'medium': 2}, 20: {'medium': 2}, 21: {'nothing': 1, 'medium': 1}, 26: {'nothing': 1}, 27: {'easy': 1, 'nothing': 1}, 29: {'medium': 1, 'nothing': 1}}, '2a6fd899338e29eb33e3eb39': {0: {'nothing': 1}}, '10126a5ec57ee3ae6238e30a': {0: {'medium': 1, 'easy': 1, 'nothing': 2}, 1: {'nothing': 6}, 2: {'nothing': 3}, 4: {'nothing': 3}, 5: {'nothing': 3}, 12: {'nothing': 1}, 13: {'nothing': 1}, 17: {'nothing': 4}, 18: {'nothing': 2}}, 'eb40e869d4ca03ff356bce8c': {0: {'easy': 1}, 3: {'hard': 1}, 5: {'nothing': 4}, 8: {'nothing': 3}, 9: {'nothing': 1}, 10: {'nothing': 1}, 11: {'nothing': 6}, 12: {'nothing': 2}, 13: {'nothing': 1}, 15: {'nothing': 2}, 16: {'nothing': 1}}, '465b1f7b6bd4a990663f297f': {0: {'easy': 4}, 1: {'easy': 4, 'nothing': 1}, 2: {'nothing': 4}, 3: {'easy': 1, 'nothing': 5}, 4: {'nothing': 4}, 6: {'nothing': 6, 'easy': 6}, 7: {'easy': 2, 'nothing': 1}, 9: {'nothing': 7, 'easy': 5, 'medium': 1}, 12: {'nothing': 9}, 13: {'nothing': 6, 'easy': 1}, 14: {'nothing': 14}, 15: {'nothing': 8, 'easy': 1}, 16: {'nothing': 21}, 17: {'nothing': 5}, 19: {'nothing': 3}, 20: {'nothing': 11, 'easy': 1}, 21: {'nothing': 1}, 22: {'nothing': 3}, 23: {'nothing': 5}, 24: {'nothing': 1, 'easy': 1}, 26: {'hard': 1, 'nothing': 1, 'easy': 1}, 27: {'nothing': 1, 'medium': 1}, 30: {'nothing': 3, 'medium': 1}, 31: {'nothing': 2}, 35: {'nothing': 1, 'medium': 1}, 36: {'nothing': 2, 'hard': 1, 'easy': 1}}, 'e1b32b9bf439586c5a214814': {0: {'medium': 2, 'nothing': 9}, 1: {'nothing': 4}, 2: {'nothing': 16}, 3: {'nothing': 6}, 4: {'nothing': 18, 'easy': 1}, 5: {'nothing': 11}, 6: {'nothing': 7}, 7: {'nothing': 18}, 8: {'nothing': 3}}, 'e76d97e6709e8afb6b9f9143': {0: {'easy': 9}, 1: {'easy': 5}, 2: {'easy': 2}, 3: {'easy': 6}, 4: {'easy': 5}, 5: {'easy': 5}, 6: {'easy': 14}, 7: {'easy': 10}, 8: {'easy': 16}, 9: {'easy': 22}, 10: {'easy': 7}, 11: {'easy': 11}, 12: {'easy': 11}, 13: {'easy': 11}, 14: {'easy': 15}, 15: {'easy': 2}, 24: {'easy': 2, 'nothing': 1}, 26: {'easy': 1, 'nothing': 1}, 27: {'easy': 2, 'hard': 1}, 28: {'medium': 1, 'hard': 1}, 29: {'easy': 1, 'nothing': 1}, 30: {'easy': 1}, 31: {'easy': 1}, 32: {'easy': 1, 'nothing': 1}}, '95ee5208b83ce0800cbf5152': {0: {'easy': 2, 'nothing': 8}, 1: {'nothing': 5, 'easy': 1}, 4: {'nothing': 8}, 2: {'nothing': 12}, 3: {'nothing': 2}, 5: {'nothing': 7}, 6: {'nothing': 4}, 8: {'nothing': 8}, 7: {'nothing': 11}, 9: {'nothing': 2}, 10: {'nothing': 4}, 11: {'nothing': 3}, 12: {'nothing': 6}, 13: {'nothing': 3, 'easy': 1}, 14: {'nothing': 1}, 15: {'nothing': 2}, 16: {'nothing': 1}, 18: {'nothing': 1}}, '700520d350da18f4b69028a6': {0: {'easy': 1}, 6: {'easy': 1}, 7: {'medium': 1}, 18: {'medium': 2}, 25: {'hard': 1}, 26: {'medium': 2}, 32: {'medium': 1}, 42: {'nothing': 1}}, '42a903cbe4c9fde8e79ca3d3': {0: {'easy': 1}}, '9c66a4a0f0b150ae95c88dd0': {0: {'nothing': 1}, 1: {'nothing': 1}, 2: {'nothing': 5}, 3: {'nothing': 1}, 4: {'nothing': 5}, 5: {'nothing': 2}, 6: {'nothing': 2}, 8: {'nothing': 3}, 9: {'nothing': 7}, 10: {'nothing': 7}, 11: {'nothing': 2}, 12: {'nothing': 1}, 13: {'nothing': 5}, 14: {'nothing': 8}, 15: {'nothing': 1}, 18: {'nothing': 3}, 22: {'nothing': 2}}, 'c5dc60e46313bd8248deacdd': {0: {'easy': 1}, 1: {'easy': 1}, 6: {'easy': 4}, 9: {'easy': 3}}, '99b83adff023b1005886f3ad': {0: {'easy': 1, 'nothing': 5}, 1: {'nothing': 4, 'easy': 1}, 5: {'nothing': 3}, 6: {'nothing': 6, 'easy': 1}, 7: {'nothing': 5}, 8: {'nothing': 1}, 9: {'nothing': 6, 'easy': 1}, 10: {'nothing': 5, 'easy': 1}, 12: {'nothing': 1}, 13: {'nothing': 2}, 14: {'nothing': 6}, 15: {'nothing': 3}, 16: {'nothing': 6}, 17: {'nothing': 3}, 18: {'easy': 1, 'nothing': 13}, 19: {'nothing': 3}, 21: {'nothing': 2, 'easy': 1}, 22: {'nothing': 4}, 23: {'nothing': 5}, 24: {'nothing': 1}, 25: {'nothing': 5}, 26: {'nothing': 3}, 27: {'nothing': 6}, 28: {'nothing': 3}, 29: {'nothing': 1}, 30: {'nothing': 2}, 34: {'hard': 1}, 36: {'nothing': 1, 'medium': 1}, 38: {'nothing': 1, 'hard': 1}, 43: {'easy': 1, 'hard': 1}}, '626e10517adbd40f04c71979': {0: {'medium': 3}, 1: {'medium': 1}, 2: {'medium': 10}, 4: {'medium': 1}, 5: {'medium': 20}, 8: {'medium': 1}, 9: {'medium': 1}, 10: {'medium': 4}, 11: {'medium': 2}, 12: {'medium': 11}, 13: {'medium': 3}, 14: {'medium': 1}, 15: {'medium': 4}, 16: {'medium': 8}, 18: {'medium': 2}, 19: {'medium': 3}, 20: {'medium': 3}, 28: {'easy': 1}, 29: {'nothing': 1}, 30: {'medium': 1, 'easy': 1}}, 'fe14a2fba70d1476e9da4ac4': {0: {'nothing': 4}, 3: {'easy': 2}, 8: {'easy': 2}, 9: {'easy': 3, 'nothing': 1}, 11: {'easy': 7}, 17: {'easy': 2}, 18: {'nothing': 1}, 19: {'nothing': 3, 'easy': 1}, 20: {'nothing': 4}, 21: {'nothing': 2}, 23: {'easy': 2, 'nothing': 1}, 26: {'nothing': 2}, 28: {'nothing': 1}, 29: {'nothing': 1}, 31: {'nothing': 5, 'easy': 2}, 37: {'hard': 1, 'nothing': 2}, 42: {'nothing': 1}}, '6ddc12a3c376c61b9b5cd40f': {0: {'nothing': 4}, 1: {'nothing': 1}, 2: {'nothing': 8}, 3: {'nothing': 2}, 5: {'nothing': 6}, 6: {'nothing': 3}, 8: {'nothing': 2}, 9: {'nothing': 1}, 10: {'nothing': 1}, 11: {'nothing': 3}, 12: {'nothing': 5}, 13: {'nothing': 2}, 15: {'nothing': 2}, 16: {'nothing': 7}, 17: {'nothing': 5}, 18: {'nothing': 1}}, '135f7e7d1280ea21ea698e5a': {0: {'easy': 4}, 1: {'easy': 4}, 2: {'easy': 2}, 4: {'easy': 2}, 5: {'easy': 1}, 7: {'easy': 1}, 8: {'easy': 2, 'medium': 1}, 9: {'easy': 1}, 10: {'easy': 1}, 12: {'easy': 3, 'medium': 1}, 14: {'medium': 1, 'easy': 1}, 15: {'medium': 1}, 17: {'medium': 2, 'easy': 1}, 19: {'medium': 1}, 22: {'medium': 2}}, '115117ab839988bca1b32709': {0: {'easy': 4}, 1: {'easy': 1}, 2: {'hard': 1, 'easy': 1}, 5: {'easy': 2}, 7: {'easy': 1}, 8: {'easy': 4, 'nothing': 1}, 10: {'easy': 2}, 12: {'easy': 1}, 15: {'easy': 2}, 16: {'easy': 1}, 17: {'easy': 3}, 19: {'easy': 1}}, 'ce5e48d9d4b5ca2527a9be9c': {0: {'hard': 2}, 6: {'hard': 1}, 20: {'easy': 1}, 28: {'hard': 1}}, '4556c3bcabdcab2a08464732': {0: {'easy': 1}, 2: {'easy': 3}, 3: {'easy': 1, 'medium': 1}, 5: {'easy': 1}, 6: {'easy': 1}, 7: {'easy': 1}, 9: {'easy': 2}, 16: {'easy': 1}}, 'e1a6117ef58da5fb26639103': {0: {'nothing': 1}, 1: {'nothing': 5}}, 'f05959c1a2ccd135e93b531e': {0: {'nothing': 2}, 1: {'nothing': 3}, 2: {'nothing': 1}, 3: {'nothing': 2}}, '496c7430cdaac82e4dcb7bf9': {0: {'easy': 3, 'medium': 2, 'nothing': 6}, 1: {'nothing': 5}, 2: {'nothing': 2}, 3: {'nothing': 1}, 4: {'nothing': 6, 'medium': 1}, 5: {'nothing': 2}, 6: {'nothing': 5, 'medium': 1}, 7: {'nothing': 5, 'medium': 2}, 9: {'nothing': 2}, 10: {'nothing': 2}, 11: {'nothing': 1, 'medium': 2}, 12: {'nothing': 2}, 13: {'nothing': 1}, 14: {'nothing': 1}, 15: {'nothing': 6, 'easy': 2}, 16: {'medium': 2, 'easy': 2}, 18: {'medium': 1}, 19: {'easy': 1, 'nothing': 2, 'medium': 1}, 20: {'nothing': 5, 'easy': 1}, 26: {'easy': 2}, 27: {'easy': 1, 'nothing': 1}, 28: {'easy': 2}, 29: {'easy': 2, 'medium': 1, 'nothing': 1}, 30: {'hard': 2, 'easy': 1}, 31: {'nothing': 2}}, '7d33ed1787c5d8b4f5bb9b11': {3: {'medium': 9, 'easy': 1}, 0: {'medium': 8, 'hard': 1}, 1: {'medium': 7}, 2: {'medium': 6, 'hard': 2, 'nothing': 1}, 4: {'medium': 6}, 5: {'medium': 5}, 6: {'medium': 8, 'hard': 1}, 7: {'easy': 1, 'medium': 2}, 8: {'medium': 2}, 9: {'medium': 1}, 10: {'easy': 5}, 11: {'easy': 3}, 12: {'nothing': 2, 'easy': 1}, 13: {'easy': 3, 'nothing': 2, 'medium': 1}, 14: {'easy': 2, 'nothing': 2, 'medium': 1}, 15: {'nothing': 1, 'medium': 1, 'easy': 2}, 16: {'easy': 5, 'medium': 2, 'nothing': 1}, 17: {'nothing': 1, 'easy': 2, 'medium': 4}, 18: {'easy': 6, 'nothing': 2, 'medium': 1}, 22: {'easy': 1, 'medium': 2}, 23: {'medium': 2, 'hard': 1, 'easy': 1, 'nothing': 2}, 25: {'medium': 2}, 26: {'medium': 1, 'nothing': 2}, 27: {'medium': 1, 'nothing': 3, 'easy': 1, 'hard': 1}, 28: {'easy': 1, 'medium': 1, 'hard': 1, 'nothing': 1}, 29: {'easy': 4, 'nothing': 2, 'hard': 1}}, '2be9402254bdcdcdde50fa15': {0: {'easy': 1}, 1: {'medium': 1}, 3: {'easy': 1, 'nothing': 1}, 4: {'easy': 1}, 5: {'easy': 1, 'nothing': 1}, 6: {'nothing': 2}, 9: {'easy': 1}, 12: {'nothing': 1}, 13: {'easy': 1}, 15: {'easy': 1}, 20: {'nothing': 1}, 21: {'nothing': 2}}, '2b5f5724e97f8a7c7560f7b7': {0: {'easy': 1, 'medium': 1}, 1: {'nothing': 3, 'medium': 1}, 2: {'nothing': 2}, 3: {'nothing': 4}, 4: {'nothing': 18}, 5: {'nothing': 4}, 6: {'nothing': 6}, 7: {'nothing': 4}, 9: {'nothing': 4}, 10: {'nothing': 4}}, '0fe940fb9e81ec96c208452b': {0: {'nothing': 1}, 5: {'nothing': 1}, 7: {'nothing': 1}, 10: {'nothing': 1}, 18: {'nothing': 4}, 22: {'nothing': 1}, 24: {'nothing': 1}, 25: {'nothing': 2}, 26: {'nothing': 3}, 27: {'nothing': 1}, 28: {'nothing': 2, 'hard': 1, 'easy': 1}, 34: {'easy': 1, 'medium': 1}, 35: {'nothing': 1, 'medium': 1}, 36: {'hard': 1}}, '0951f6da6eff18c10db17810': {0: {'medium': 1}, 1: {'medium': 2}, 2: {'medium': 2}, 3: {'medium': 2}, 4: {'medium': 2}, 5: {'medium': 3}, 6: {'medium': 4}, 9: {'medium': 1}, 10: {'medium': 4}, 11: {'medium': 1}, 12: {'medium': 1}, 14: {'medium': 1}, 15: {'medium': 7}, 16: {'medium': 4, 'hard': 1}, 17: {'medium': 1}, 19: {'medium': 2}, 20: {'medium': 1, 'easy': 1}, 30: {'hard': 1}}, '3a3fd7e9be6c0e0ba1345712': {0: {'medium': 1}, 2: {'medium': 1}, 3: {'medium': 2}, 4: {'medium': 7}, 5: {'medium': 2, 'easy': 1, 'nothing': 1}, 6: {'nothing': 1}, 7: {'easy': 1}, 8: {'easy': 3}, 9: {'easy': 2}, 10: {'easy': 4, 'nothing': 17}, 11: {'nothing': 1}, 12: {'easy': 1, 'nothing': 1}, 13: {'nothing': 6}, 15: {'nothing': 7}, 16: {'nothing': 1}, 17: {'nothing': 1}}, 'f9d339d94ed00f632dc74c00': {0: {'hard': 1}, 9: {'nothing': 1}}, 'b1cd523a3e8b9c65ed79dd9c': {0: {'easy': 3, 'nothing': 7}, 2: {'nothing': 5}, 3: {'nothing': 8}, 4: {'nothing': 14}, 5: {'nothing': 12}, 6: {'nothing': 13}, 7: {'nothing': 7}, 8: {'nothing': 26}, 9: {'nothing': 7}, 10: {'nothing': 6}, 11: {'nothing': 16}, 12: {'nothing': 15}, 13: {'nothing': 10}, 14: {'nothing': 4}}, '6326707eff8b6e94a81fcc28': {0: {'nothing': 9}, 1: {'nothing': 3}}, '0e652762e52745d976fdcd3b': {0: {'nothing': 2}, 6: {'nothing': 1}, 7: {'nothing': 3, 'medium': 1}, 8: {'nothing': 2}, 14: {'nothing': 3}, 18: {'nothing': 9}, 19: {'nothing': 2}}, 'ea122f6e31e1f14e74a1a2e0': {0: {'nothing': 2}, 1: {'nothing': 3, 'medium': 3}, 2: {'nothing': 9}, 3: {'nothing': 7, 'medium': 1}, 4: {'easy': 1}, 5: {'nothing': 3}, 11: {'nothing': 1}}, '85c692e4aa7dfb5d482cda3d': {0: {'medium': 1}, 2: {'medium': 1}, 3: {'medium': 2}, 5: {'medium': 3}, 6: {'medium': 1}, 9: {'medium': 2}, 10: {'medium': 1}, 11: {'medium': 5}, 12: {'medium': 1}, 14: {'medium': 1}, 15: {'medium': 2}, 16: {'medium': 1}, 27: {'medium': 1, 'easy': 1}}, 'c7cfe03b7ca652817e472c15': {0: {'nothing': 1}, 6: {'nothing': 1}}, '10636b44be49d1e1b7dbdc22': {0: {'easy': 3, 'nothing': 1, 'medium': 1}, 2: {'medium': 1, 'nothing': 1}, 3: {'nothing': 1}, 4: {'nothing': 1}, 5: {'nothing': 2}, 6: {'nothing': 2}, 7: {'nothing': 3}, 8: {'nothing': 1}, 9: {'nothing': 2}, 10: {'nothing': 1}, 11: {'nothing': 2}, 12: {'nothing': 1}, 15: {'nothing': 2}, 16: {'nothing': 1}, 17: {'nothing': 3}, 19: {'easy': 1}, 20: {'nothing': 1}, 21: {'nothing': 1}, 25: {'nothing': 2, 'hard': 1}, 30: {'nothing': 2}}, '028033fdfa87801f5ab9b713': {0: {'medium': 1}, 6: {'medium': 1, 'nothing': 3}, 9: {'nothing': 1}, 11: {'nothing': 1}}, '9c5f2b25a366062490398273': {0: {'nothing': 3}, 11: {'nothing': 1}, 12: {'nothing': 1}, 15: {'nothing': 1}, 24: {'nothing': 2}, 25: {'nothing': 1, 'hard': 1}}, '96acaec0deaf7fa6dda4f89c': {0: {'medium': 2}, 11: {'nothing': 3}, 12: {'nothing': 5}}, '4893b81edd7f0e2b102b0d1a': {0: {'medium': 4, 'nothing': 2}, 1: {'nothing': 12, 'easy': 1}, 2: {'nothing': 2}, 3: {'nothing': 16}, 4: {'nothing': 14}, 5: {'nothing': 6}, 6: {'nothing': 7}, 7: {'nothing': 10}, 8: {'nothing': 6}, 9: {'nothing': 17}, 10: {'nothing': 8}, 12: {'nothing': 3}, 13: {'nothing': 12}, 14: {'nothing': 2}, 15: {'nothing': 19}, 16: {'nothing': 5}, 17: {'nothing': 9}, 18: {'nothing': 2}, 19: {'nothing': 2, 'easy': 1, 'hard': 1}, 20: {'nothing': 2, 'easy': 1}, 21: {'nothing': 4, 'medium': 1, 'hard': 1}, 22: {'nothing': 4, 'medium': 1, 'easy': 1}, 23: {'nothing': 4, 'easy': 1}, 24: {'nothing': 4, 'medium': 3, 'hard': 1}, 25: {'nothing': 3, 'hard': 1, 'easy': 1}, 26: {'nothing': 6, 'hard': 2, 'easy': 4, 'medium': 1}, 28: {'medium': 1, 'nothing': 5}, 29: {'hard': 1}, 30: {'nothing': 1, 'medium': 1}}, '9e8c7eb970b78494aa476a22': {0: {'nothing': 1}}, '9add59262ea1f3f7619decda': {0: {'easy': 1}, 1: {'medium': 3}, 2: {'medium': 1}, 5: {'medium': 2}, 7: {'medium': 1}, 8: {'medium': 2}, 15: {'medium': 1}, 17: {'medium': 3, 'easy': 1}, 22: {'nothing': 1}, 23: {'medium': 1, 'easy': 1}, 27: {'medium': 1, 'easy': 2, 'hard': 1}}, 'e18af57bfabb4e0f6da914b5': {0: {'hard': 1, 'medium': 1}, 1: {'medium': 3}, 3: {'medium': 4, 'easy': 4}, 5: {'nothing': 1}, 6: {'medium': 1, 'easy': 2}, 7: {'easy': 2}, 8: {'medium': 1}, 9: {'medium': 1}, 10: {'medium': 4}, 11: {'nothing': 2, 'easy': 3, 'medium': 2}}, 'e507909d613ba0280509942d': {0: {'easy': 1}}, '97c51558e4074650392bf084': {0: {'medium': 1, 'nothing': 5}, 1: {'nothing': 5}, 2: {'nothing': 3}, 3: {'nothing': 6}, 4: {'nothing': 9}, 5: {'nothing': 1}, 6: {'nothing': 7}, 7: {'nothing': 10}, 8: {'nothing': 6}, 9: {'nothing': 3}}, '1bfb8dc0cc5a41097c166a60': {0: {'nothing': 1}}, '42398e5127af8b45a60b9b63': {0: {'nothing': 1}}, '46b27427d80b5394dc9f09dc': {0: {'medium': 5, 'easy': 1}, 2: {'medium': 6}}, '4f9dfd154111179c642c8cf9': {0: {'nothing': 2, 'easy': 1}, 1: {'nothing': 1}, 3: {'nothing': 1}, 4: {'nothing': 4}, 8: {'nothing': 1}, 10: {'nothing': 1}, 14: {'nothing': 1}, 17: {'nothing': 4, 'easy': 1, 'medium': 1}, 18: {'nothing': 3, 'easy': 1, 'medium': 1, 'hard': 1}}, '83a0c03f7605c80cf2c395fa': {0: {'nothing': 2}}, 'cf8b97a7bb2605921d756284': {0: {'nothing': 1}}, '7bd50164fe03fd6254784ed3': {0: {'medium': 2}, 2: {'medium': 6}, 4: {'medium': 7}, 5: {'medium': 2}, 6: {'medium': 8, 'hard': 1}, 3: {'medium': 3}, 7: {'medium': 2}, 8: {'medium': 2, 'hard': 1}, 9: {'medium': 16}, 10: {'medium': 4, 'hard': 4}, 11: {'hard': 1, 'medium': 1}, 13: {'medium': 2}, 14: {'medium': 12, 'easy': 2}, 15: {'medium': 3, 'easy': 3}, 16: {'medium': 2}, 18: {'medium': 1}, 19: {'easy': 4, 'medium': 2}, 20: {'easy': 2}, 23: {'nothing': 1}, 25: {'nothing': 1, 'medium': 1}, 26: {'nothing': 1}, 28: {'hard': 1}}, '41f24a3dd6bceb8d0a8df5c8': {0: {'easy': 1, 'medium': 2}, 1: {'medium': 1}, 2: {'medium': 2, 'nothing': 1}, 3: {'nothing': 3}, 4: {'nothing': 7}, 5: {'easy': 2, 'nothing': 5}, 6: {'nothing': 3}, 7: {'nothing': 4}, 8: {'nothing': 1}, 9: {'nothing': 6}, 10: {'nothing': 4}, 11: {'nothing': 1}, 12: {'nothing': 8}, 13: {'nothing': 7, 'easy': 1}, 14: {'nothing': 1}, 15: {'nothing': 3}, 16: {'nothing': 2}, 17: {'hard': 1, 'nothing': 2}, 18: {'nothing': 4, 'hard': 2, 'medium': 1}, 19: {'nothing': 3, 'medium': 1}, 20: {'nothing': 2}, 21: {'nothing': 1}, 25: {'easy': 1}, 26: {'nothing': 1, 'medium': 1}, 28: {'nothing': 1, 'medium': 1}, 29: {'nothing': 2, 'medium': 1, 'easy': 1}}, '7cbbdf0c1b2d27f5d3336700': {0: {'easy': 2, 'medium': 1, 'nothing': 1}, 1: {'medium': 6, 'easy': 1}, 2: {'medium': 2}, 3: {'medium': 1, 'easy': 1}, 4: {'medium': 7, 'nothing': 2}, 5: {'medium': 2}, 6: {'medium': 6}, 7: {'medium': 3, 'easy': 4, 'nothing': 3}, 8: {'medium': 4}, 14: {'medium': 5, 'easy': 2, 'nothing': 1}, 15: {'medium': 1}, 16: {'nothing': 3, 'medium': 1, 'easy': 3}, 17: {'nothing': 8}, 18: {'easy': 3, 'nothing': 12}, 19: {'nothing': 16}, 20: {'nothing': 5}, 21: {'nothing': 6}, 22: {'nothing': 2}, 23: {'nothing': 21}, 24: {'nothing': 3}, 25: {'nothing': 14}, 26: {'nothing': 2}, 27: {'nothing': 4}, 28: {'nothing': 8}, 29: {'nothing': 1}, 31: {'nothing': 1, 'medium': 1}, 34: {'nothing': 1, 'hard': 1}, 35: {'nothing': 1, 'medium': 1}, 38: {'easy': 1}}, '000bdc84bcbce31f2ddebaeb': {0: {'nothing': 1}}, '6caa3fb1cce9488ac86a1ecd': {0: {'hard': 12, 'medium': 7}, 1: {'medium': 6, 'easy': 1, 'hard': 1}, 2: {'medium': 8}, 3: {'medium': 10}, 4: {'medium': 6}, 6: {'medium': 10}, 7: {'medium': 11}, 8: {'medium': 6, 'easy': 1}, 9: {'medium': 7}, 10: {'medium': 15}, 11: {'medium': 5}, 12: {'medium': 3, 'easy': 1}, 13: {'medium': 11}, 14: {'medium': 12}, 15: {'medium': 8}, 23: {'medium': 1, 'hard': 1}}, 'b18e869555ee012d017456c5': {0: {'nothing': 1}}, '82029ae7e0cf58810a19534a': {0: {'nothing': 1}}, 'c1603b3c13098a82375f9963': {0: {'hard': 1}, 2: {'easy': 1}}, '007c24675bd2b9078cc3cce5': {0: {'easy': 2}, 1: {'easy': 4}, 2: {'easy': 4}, 4: {'easy': 1}, 8: {'easy': 1}}, 'ec81a91e2a857d5d3e157ac0': {0: {'nothing': 1}, 2: {'nothing': 3}, 3: {'nothing': 1}, 6: {'nothing': 3}, 12: {'nothing': 1}, 13: {'nothing': 1}, 16: {'nothing': 2, 'easy': 1}, 20: {'nothing': 5, 'hard': 2, 'medium': 1}, 22: {'easy': 1}, 23: {'nothing': 2}, 24: {'nothing': 2}}, '8fdc79a87aa36a0cfaa325e9': {0: {'medium': 1, 'nothing': 1}, 2: {'easy': 1}, 3: {'hard': 1}, 4: {'medium': 1}, 5: {'hard': 2}, 6: {'nothing': 1}, 7: {'easy': 1}, 8: {'easy': 1}, 9: {'hard': 1}, 11: {'hard': 1, 'nothing': 5}, 12: {'nothing': 1}, 13: {'nothing': 1}, 14: {'nothing': 1}, 16: {'easy': 1}, 17: {'easy': 1}}, 'f4ac0658a07d13fab3de2498': {0: {'easy': 1}, 1: {'easy': 1}, 5: {'medium': 1, 'easy': 1}, 7: {'medium': 1}, 12: {'medium': 1}, 13: {'medium': 1, 'hard': 2, 'nothing': 1}, 15: {'hard': 1, 'easy': 1, 'nothing': 1, 'medium': 1}}, 'dbce3d338b755aaadf7b4264': {0: {'medium': 2, 'easy': 1}, 2: {'easy': 1}, 6: {'medium': 1}, 8: {'easy': 2}, 9: {'easy': 3}, 12: {'easy': 1}, 13: {'medium': 1, 'easy': 2}, 14: {'medium': 1}, 23: {'nothing': 1}}, '025cf2acf9559abfe3e4fb26': {0: {'nothing': 1}}, 'ba447ba4a347d8e664105b68': {0: {'easy': 1}, 1: {'easy': 3}, 2: {'easy': 4, 'nothing': 1}, 5: {'easy': 1}, 7: {'easy': 1, 'nothing': 1}, 8: {'easy': 1, 'nothing': 1}, 13: {'medium': 1, 'easy': 2}, 14: {'easy': 3}, 19: {'medium': 1}, 22: {'easy': 1, 'hard': 1}}, '77d86a6eb6ec436369b2ebd6': {0: {'nothing': 4}}, 'e7ca769377518d66ccdc19c3': {0: {'nothing': 4}}, 'f4af5881e24d2c9b7767e3f6': {0: {'easy': 1, 'nothing': 2}}, '809a0aa7fc780781c03bc79b': {0: {'nothing': 1, 'easy': 1, 'medium': 1}, 1: {'easy': 2}, 2: {'nothing': 8}, 3: {'nothing': 3}, 9: {'nothing': 2}, 10: {'nothing': 3}, 11: {'nothing': 2}, 13: {'nothing': 4}, 15: {'nothing': 3}, 16: {'nothing': 8, 'medium': 1, 'easy': 1}, 17: {'nothing': 4, 'easy': 3, 'medium': 1}, 18: {'nothing': 2, 'medium': 1}, 20: {'nothing': 3, 'medium': 1}, 21: {'nothing': 2, 'hard': 1}, 22: {'nothing': 3, 'hard': 1, 'medium': 1, 'easy': 1}, 23: {'nothing': 2, 'hard': 1, 'easy': 1}, 24: {'nothing': 4, 'medium': 1}, 25: {'nothing': 4, 'easy': 1, 'hard': 1}, 26: {'nothing': 2}, 27: {'nothing': 2, 'medium': 1}}, 'f31d3020c6d4fba8d678f981': {0: {'nothing': 1}}, 'e69ab337f62f5dc0ab8e32c3': {0: {'nothing': 1}}, '599efe06863304b00287b7ac': {0: {'hard': 2, 'medium': 5}, 1: {'medium': 1, 'hard': 3}, 2: {'hard': 5, 'medium': 1}, 3: {'hard': 6}, 4: {'hard': 13}, 5: {'hard': 8}, 6: {'hard': 11}, 7: {'hard': 6}, 8: {'hard': 7}, 9: {'hard': 6}, 10: {'hard': 6}, 12: {'hard': 7}, 13: {'hard': 6}, 18: {'hard': 1}, 23: {'easy': 1}}, 'e1405bdfc015a3c65de7f5f5': {0: {'nothing': 2}, 2: {'nothing': 4}, 6: {'nothing': 2}, 10: {'nothing': 1}, 23: {'hard': 1}}, 'c68a708fd971bde157484962': {0: {'easy': 1}, 5: {'nothing': 1}, 6: {'nothing': 1}}, '23eab855cbe7f8f50e7986dc': {0: {'medium': 1}}, '87ceaaabfec2abc0e9d0f65b': {0: {'easy': 3}, 1: {'medium': 1, 'easy': 1}, 3: {'medium': 1}, 5: {'easy': 1, 'medium': 5}, 7: {'medium': 1, 'easy': 1}, 8: {'easy': 1, 'medium': 3}, 9: {'medium': 3}, 10: {'medium': 3}, 11: {'medium': 1}, 12: {'medium': 2}, 13: {'medium': 5}, 15: {'medium': 2}, 19: {'medium': 1, 'nothing': 1}, 21: {'medium': 3, 'nothing': 1}}, '2c9fcc0b41127c38c93e2bd5': {0: {'nothing': 1}}, '1bdfaf739c98b2ab824c9f33': {0: {'easy': 7, 'nothing': 1}}, '707228497e8dba61b21c3119': {0: {'hard': 1, 'nothing': 17, 'easy': 1}, 1: {'nothing': 10}, 2: {'nothing': 8}, 4: {'nothing': 4}, 5: {'nothing': 2}, 6: {'nothing': 7}, 7: {'nothing': 1}, 9: {'nothing': 5}, 11: {'nothing': 1}, 12: {'nothing': 1}, 13: {'nothing': 1}, 15: {'nothing': 3, 'medium': 1}, 16: {'easy': 1, 'nothing': 1}, 18: {'hard': 2, 'easy': 1, 'medium': 2}, 21: {'nothing': 5, 'easy': 2, 'medium': 2}, 22: {'medium': 1, 'easy': 1}, 26: {'nothing': 1}}, '9c478b2a501d89dc2a68c8b4': {0: {'easy': 1}, 1: {'nothing': 2}, 5: {'nothing': 1}, 12: {'nothing': 2}}, 'c5944cafea02b23774a5959f': {0: {'easy': 2, 'medium': 1, 'nothing': 9}, 1: {'easy': 1, 'nothing': 1}, 2: {'nothing': 2}, 3: {'nothing': 2, 'easy': 1}, 4: {'nothing': 11}, 5: {'nothing': 13}, 6: {'nothing': 14}, 7: {'nothing': 9}, 8: {'nothing': 7}, 9: {'nothing': 5}, 10: {'nothing': 4}, 11: {'nothing': 20}, 12: {'nothing': 2}}, 'b72240e3bb91425cfe7e28aa': {0: {'hard': 1, 'nothing': 4}}, 'ce082a1c93117c41b00445b6': {0: {'easy': 1}}, '3a2181f88b0c8944ed08cc03': {0: {'nothing': 1}}, 'e81a33655104697de42c9ded': {0: {'easy': 3}, 1: {'nothing': 3, 'easy': 3}, 2: {'nothing': 6}, 3: {'nothing': 3}, 5: {'nothing': 2, 'hard': 1, 'easy': 3}, 6: {'medium': 1, 'nothing': 1}, 7: {'nothing': 5}, 8: {'nothing': 10}, 9: {'nothing': 3}, 10: {'nothing': 9, 'hard': 1, 'medium': 1}, 11: {'nothing': 1}, 12: {'nothing': 4, 'medium': 1}, 13: {'easy': 1}, 15: {'nothing': 1, 'easy': 2}, 18: {'medium': 1, 'nothing': 1}, 19: {'hard': 1, 'nothing': 3, 'easy': 1}, 21: {'hard': 1, 'nothing': 1}, 22: {'nothing': 1, 'easy': 1}, 24: {'nothing': 1, 'easy': 1}}, 'dac0fc29c29e2b411715ef3a': {0: {'medium': 1, 'easy': 4, 'hard': 2}, 1: {'medium': 3}, 2: {'nothing': 4, 'medium': 2, 'hard': 1, 'easy': 1}, 3: {'medium': 1, 'nothing': 4}, 4: {'medium': 3, 'nothing': 4, 'easy': 1}, 5: {'nothing': 1, 'easy': 1}, 6: {'nothing': 5}, 7: {'nothing': 5, 'easy': 1}, 8: {'nothing': 11, 'easy': 3}, 9: {'nothing': 3}, 10: {'medium': 1, 'nothing': 4, 'easy': 1}, 11: {'nothing': 5}, 12: {'nothing': 2}, 13: {'hard': 2}, 14: {'medium': 3, 'hard': 1, 'nothing': 1}, 15: {'nothing': 1}, 17: {'medium': 1, 'nothing': 1, 'easy': 1}, 18: {'nothing': 1, 'medium': 1, 'hard': 1}, 19: {'hard': 1, 'nothing': 2}, 20: {'nothing': 1, 'easy': 1}, 21: {'nothing': 1, 'hard': 1}, 24: {'nothing': 5, 'hard': 1}, 25: {'nothing': 1, 'hard': 1}}, '1904dd0682849d370c254254': {0: {'easy': 2}, 1: {'easy': 1}, 2: {'easy': 4}, 6: {'easy': 11}, 8: {'easy': 3}, 12: {'easy': 1}, 13: {'easy': 2}, 14: {'easy': 1}, 15: {'easy': 1, 'medium': 1}, 16: {'hard': 1}, 17: {'easy': 3}, 20: {'easy': 2, 'medium': 1, 'hard': 1}, 21: {'easy': 2, 'nothing': 2}, 22: {'easy': 3, 'nothing': 1}, 23: {'easy': 3, 'nothing': 1}}, 'c4d719399c459d7a65236f29': {0: {'medium': 1}, 2: {'easy': 1}, 3: {'medium': 1, 'easy': 1}, 4: {'easy': 1}, 5: {'hard': 1, 'easy': 1, 'nothing': 1}, 6: {'nothing': 4}, 7: {'medium': 2, 'nothing': 1}, 8: {'medium': 2, 'nothing': 1}, 9: {'nothing': 1, 'easy': 1, 'hard': 1, 'medium': 1}, 10: {'hard': 3, 'nothing': 1}, 11: {'hard': 1, 'medium': 1}, 13: {'medium': 2}, 14: {'hard': 5}}, 'f64eb8a905cb054b9bdb6f72': {0: {'medium': 4, 'easy': 1}, 1: {'medium': 1}, 2: {'easy': 2, 'medium': 1, 'nothing': 5}, 3: {'nothing': 7}, 4: {'nothing': 7}, 6: {'nothing': 1}, 7: {'easy': 1}, 8: {'nothing': 2}, 10: {'nothing': 10}, 11: {'nothing': 10}, 12: {'nothing': 2}, 13: {'nothing': 4}, 14: {'nothing': 7, 'medium': 3}, 15: {'nothing': 12, 'hard': 3, 'medium': 2, 'easy': 2}, 16: {'nothing': 1}, 17: {'nothing': 4, 'medium': 2, 'hard': 1}, 18: {'nothing': 1}, 20: {'nothing': 1, 'easy': 1}, 23: {'nothing': 1}, 24: {'nothing': 3, 'medium': 1}}, 'b35cb929ac1ceaeb8b101b65': {0: {'hard': 1, 'medium': 4, 'easy': 1}, 1: {'medium': 4, 'easy': 4}, 2: {'easy': 3}, 3: {'easy': 4}, 4: {'easy': 6}, 5: {'easy': 1}, 6: {'easy': 1}, 7: {'easy': 5}, 8: {'easy': 10}, 9: {'easy': 4}, 10: {'easy': 2}, 11: {'easy': 10}, 12: {'easy': 11}, 13: {'easy': 7}, 14: {'easy': 1}}, '09c312bcf7705bbb5e790d7a': {0: {'medium': 2, 'hard': 1}, 1: {'medium': 1}, 4: {'nothing': 1}, 8: {'nothing': 1}, 9: {'medium': 3}, 11: {'nothing': 1, 'medium': 1}, 12: {'nothing': 1}, 13: {'nothing': 2}, 16: {'easy': 1, 'nothing': 1}, 21: {'medium': 1, 'hard': 1}, 23: {'easy': 3, 'nothing': 1}, 26: {'easy': 1}}, '77aea8e12c3471ecf6f34c1f': {0: {'easy': 5, 'medium': 3}, 1: {'medium': 1}, 2: {'nothing': 2, 'easy': 2}, 3: {'medium': 1, 'easy': 3}, 4: {'easy': 1}, 5: {'medium': 1, 'easy': 6}, 6: {'easy': 3}, 9: {'easy': 3, 'nothing': 1}, 10: {'easy': 2, 'nothing': 2}, 11: {'nothing': 3, 'easy': 8}, 12: {'easy': 10, 'nothing': 3, 'medium': 4}, 13: {'medium': 4, 'easy': 3}, 14: {'nothing': 2, 'easy': 5, 'medium': 1}, 15: {'easy': 16, 'hard': 5, 'medium': 4, 'nothing': 1}, 16: {'easy': 1, 'nothing': 1}, 17: {'easy': 4, 'medium': 1, 'nothing': 1}, 18: {'easy': 17, 'nothing': 5, 'medium': 5, 'hard': 1}, 19: {'easy': 10, 'nothing': 3, 'hard': 2, 'medium': 1}, 20: {'easy': 8, 'medium': 5, 'nothing': 2, 'hard': 2}, 21: {'hard': 3, 'nothing': 3, 'medium': 2, 'easy': 11}, 22: {'nothing': 4, 'medium': 3, 'easy': 9, 'hard': 3}, 23: {'hard': 2, 'easy': 1}, 24: {'easy': 11, 'hard': 4, 'medium': 1, 'nothing': 1}, 25: {'easy': 8, 'medium': 6, 'hard': 3, 'nothing': 2}, 26: {'easy': 7, 'medium': 3, 'hard': 1, 'nothing': 1}}, 'edc1e39c6a09004c59a0b061': {0: {'nothing': 2}, 2: {'nothing': 6}, 5: {'nothing': 1}, 8: {'nothing': 1}}, '1605c7817668b405b3aef298': {0: {'nothing': 3}, 1: {'nothing': 2}, 4: {'nothing': 1, 'easy': 1}, 3: {'nothing': 2}, 7: {'nothing': 5}, 8: {'nothing': 10}, 9: {'nothing': 1}, 11: {'nothing': 4}, 12: {'nothing': 2}, 18: {'nothing': 1, 'hard': 1}, 20: {'easy': 1, 'nothing': 1, 'medium': 1}, 24: {'hard': 1}}, 'bd5ff5376f6b5e3790139217': {0: {'nothing': 4}, 1: {'nothing': 1}, 2: {'nothing': 3}, 5: {'nothing': 1}, 7: {'nothing': 4}, 8: {'nothing': 4}, 9: {'nothing': 3}, 12: {'nothing': 2}, 14: {'nothing': 1}}, '60f29a75361b82148fcb1c77': {0: {'nothing': 2}, 3: {'nothing': 3, 'medium': 1}, 4: {'medium': 4, 'nothing': 1}, 5: {'nothing': 1}, 6: {'medium': 2, 'nothing': 1}, 18: {'hard': 1, 'easy': 1}, 23: {'easy': 1}}, '1589a7c5610e7fb5e3788736': {0: {'medium': 1}, 1: {'medium': 1}, 3: {'medium': 1}, 4: {'medium': 2}, 5: {'medium': 2, 'hard': 1}, 6: {'medium': 1, 'easy': 1}, 8: {'medium': 1}, 9: {'easy': 2, 'medium': 1}, 10: {'medium': 3}, 13: {'easy': 1}, 18: {'medium': 1}, 20: {'hard': 1}, 21: {'medium': 1}, 23: {'medium': 1}, 24: {'nothing': 1, 'easy': 1}}, '957c28066b24e79ee5dda20a': {0: {'medium': 1}}, 'a3535a341c80f1da60609e79': {0: {'hard': 6, 'medium': 11}, 1: {'medium': 8, 'easy': 3}, 2: {'easy': 5, 'medium': 2}, 3: {'easy': 39}, 4: {'easy': 21, 'nothing': 1}, 5: {'easy': 14, 'nothing': 1}, 8: {'easy': 1, 'medium': 1}, 9: {'easy': 26}, 10: {'easy': 11}, 11: {'easy': 11}, 12: {'medium': 1, 'nothing': 1, 'easy': 5, 'hard': 1}, 13: {'easy': 11, 'nothing': 4, 'hard': 2, 'medium': 3}, 14: {'easy': 8, 'hard': 7, 'medium': 6, 'nothing': 7}, 15: {'easy': 8, 'medium': 7, 'hard': 2, 'nothing': 4}}, '46a8868b2f529f0decc4a90d': {0: {'easy': 3, 'medium': 4, 'nothing': 1}, 1: {'hard': 1, 'medium': 1}, 2: {'easy': 2, 'nothing': 1}, 3: {'hard': 1}, 4: {'nothing': 11}, 5: {'nothing': 25, 'medium': 1}, 6: {'nothing': 6}, 7: {'nothing': 5, 'easy': 1}, 8: {'nothing': 11}, 9: {'nothing': 1, 'hard': 2}, 10: {'medium': 1, 'nothing': 4, 'easy': 2}, 11: {'nothing': 15, 'easy': 3}, 12: {'nothing': 8, 'easy': 4}, 13: {'easy': 5, 'nothing': 4, 'hard': 2, 'medium': 1}, 14: {'nothing': 3, 'easy': 1, 'hard': 3}, 15: {'hard': 2, 'nothing': 3, 'easy': 1}, 16: {'easy': 1, 'medium': 1}, 18: {'medium': 1}, 19: {'easy': 3, 'medium': 1, 'nothing': 1}, 20: {'nothing': 2, 'hard': 1, 'easy': 1}, 21: {'nothing': 1}, 22: {'nothing': 6, 'easy': 1, 'hard': 2, 'medium': 1}}, 'd2686034f10a0e3b2fe19f69': {0: {'nothing': 1}, 12: {'medium': 1}, 17: {'hard': 1}, 18: {'easy': 1}}, '54d25b28eccb46e46e33df03': {0: {'nothing': 1}}, 'bf697956d17bd62182ba9e8c': {0: {'medium': 27, 'hard': 2}, 1: {'medium': 19}, 2: {'medium': 32, 'hard': 1, 'nothing': 1}, 3: {'medium': 10}, 4: {'medium': 11}, 5: {'medium': 29, 'easy': 2}, 6: {'medium': 3}, 7: {'medium': 18}, 8: {'medium': 22}, 9: {'medium': 19}, 10: {'medium': 3}, 11: {'medium': 7}, 12: {'medium': 7}, 13: {'medium': 2}, 14: {'medium': 7}, 15: {'medium': 12}, 16: {'medium': 16}, 17: {'medium': 4, 'hard': 3}}, 'd2b0da4471f7d460152e8576': {0: {'medium': 1}, 3: {'easy': 4, 'hard': 1, 'medium': 1}, 4: {'hard': 2}, 5: {'nothing': 1}, 6: {'medium': 1, 'nothing': 1}, 10: {'easy': 1, 'nothing': 1}, 11: {'nothing': 6, 'medium': 1}, 13: {'medium': 1, 'easy': 1}, 19: {'medium': 2}}, 'b472dbbb0f647e8b76d0b1c2': {0: {'medium': 4}}, '35119e013ddaa441b9c3f28c': {0: {'nothing': 8}, 1: {'nothing': 5}, 2: {'nothing': 4}}, '960824378bbbdab54d3a1b13': {0: {'nothing': 9}}, '821ec108d7aa60fdb4efcadc': {0: {'nothing': 1, 'medium': 1}, 2: {'nothing': 4, 'easy': 1}, 3: {'nothing': 2}, 4: {'nothing': 4}, 5: {'nothing': 5, 'medium': 1}, 6: {'nothing': 3}, 7: {'nothing': 4}, 8: {'nothing': 4}, 9: {'nothing': 3}, 10: {'nothing': 2}, 11: {'nothing': 2, 'hard': 2}, 12: {'nothing': 2}, 13: {'nothing': 4, 'easy': 1, 'hard': 1}, 14: {'nothing': 3, 'hard': 1}, 15: {'nothing': 2, 'medium': 1, 'hard': 2}, 16: {'nothing': 2}, 17: {'nothing': 1, 'hard': 1}, 18: {'nothing': 1, 'medium': 1}, 19: {'nothing': 4, 'medium': 1, 'hard': 1}, 20: {'nothing': 3, 'easy': 1}, 22: {'nothing': 2, 'medium': 1, 'hard': 1}}, '6d0dec097081a66ac3a3ddd9': {0: {'easy': 1, 'medium': 3, 'nothing': 12}, 1: {'nothing': 26}, 2: {'nothing': 24, 'medium': 2}, 3: {'nothing': 5}, 7: {'nothing': 6}, 8: {'nothing': 4}, 9: {'nothing': 4}, 10: {'nothing': 4}, 11: {'nothing': 8, 'medium': 2, 'hard': 2, 'easy': 1}, 12: {'nothing': 12, 'medium': 1, 'easy': 5, 'hard': 1}, 13: {'nothing': 13, 'hard': 6, 'easy': 4, 'medium': 2}, 14: {'nothing': 2, 'medium': 1}, 15: {'nothing': 1, 'easy': 1}, 16: {'nothing': 2, 'hard': 2, 'medium': 1}, 17: {'nothing': 7, 'medium': 2, 'hard': 2, 'easy': 1}, 18: {'nothing': 4, 'medium': 1, 'hard': 1}, 19: {'nothing': 4, 'hard': 2, 'easy': 1, 'medium': 1}, 21: {'nothing': 4, 'easy': 1, 'hard': 1, 'medium': 1}, 22: {'nothing': 7, 'hard': 2, 'easy': 1, 'medium': 1}, 23: {'nothing': 3, 'medium': 2}, 24: {'nothing': 1}}, '98497f3134bdb0e54b0356f6': {0: {'easy': 4, 'medium': 4}, 1: {'nothing': 1, 'medium': 1}, 2: {'medium': 2}, 3: {'medium': 3, 'nothing': 2, 'easy': 4}, 7: {'nothing': 2}, 9: {'nothing': 1}, 10: {'nothing': 3}, 16: {'nothing': 1, 'medium': 1}}, 'f851fca88b2db718c8ec151a': {0: {'easy': 3}, 1: {'medium': 3, 'easy': 2}, 3: {'easy': 4, 'medium': 5, 'nothing': 1}, 4: {'medium': 8, 'easy': 1, 'nothing': 1}, 5: {'medium': 2}, 6: {'medium': 2}, 7: {'medium': 4}, 8: {'medium': 4}, 9: {'medium': 3}, 11: {'medium': 8}, 16: {'medium': 4, 'nothing': 2, 'hard': 2, 'easy': 1}, 17: {'medium': 3, 'nothing': 4, 'hard': 2}, 18: {'nothing': 4, 'medium': 5, 'hard': 1, 'easy': 1}, 19: {'medium': 1}, 20: {'medium': 2, 'hard': 1, 'nothing': 1}, 24: {'easy': 2, 'medium': 3, 'nothing': 2}, 25: {'easy': 2, 'medium': 2, 'hard': 2}}, '5fa00d34242c8c6fc66f69a7': {0: {'nothing': 6}, 1: {'nothing': 6}, 2: {'nothing': 4}, 3: {'nothing': 2}, 5: {'nothing': 2, 'hard': 1}, 6: {'nothing': 2}, 8: {'medium': 1, 'nothing': 2}, 9: {'nothing': 6}, 10: {'nothing': 3}, 14: {'nothing': 5, 'hard': 1, 'easy': 1}, 22: {'easy': 1, 'hard': 1}}, '4631e0cbc3f222bee5fc4664': {0: {'medium': 2, 'easy': 2}, 1: {'easy': 1}, 3: {'easy': 1}, 4: {'nothing': 1}}, 'b62786323607946dc98e8ee2': {0: {'medium': 1}}, '67846a963ca00fad534bee60': {0: {'medium': 1}, 33: {'nothing': 8}, 38: {'nothing': 1}, 39: {'nothing': 1}, 41: {'nothing': 4}, 42: {'nothing': 2}}, '155dfd6fcbea2c632f7380c1': {0: {'easy': 1, 'nothing': 1}}, 'df0b4e455f45c5ae692175bc': {0: {'nothing': 2}, 5: {'nothing': 2}, 7: {'nothing': 2}, 8: {'nothing': 2}, 10: {'nothing': 1}, 15: {'nothing': 1, 'easy': 1}}, '1122098b21d2edd8438f5303': {0: {'medium': 1}}, 'ad5638c428073e3f8464c860': {0: {'easy': 1}, 1: {'easy': 2, 'nothing': 3}, 2: {'nothing': 3}, 3: {'nothing': 1}, 4: {'nothing': 8}, 5: {'nothing': 7}, 6: {'nothing': 8}, 8: {'nothing': 10}, 10: {'nothing': 9}, 12: {'nothing': 3, 'easy': 1}, 13: {'nothing': 4, 'easy': 2}, 15: {'nothing': 5, 'easy': 1}, 16: {'nothing': 9, 'hard': 2, 'medium': 2, 'easy': 1}, 17: {'medium': 3, 'nothing': 3, 'easy': 3, 'hard': 1}, 18: {'easy': 1}, 21: {'nothing': 1, 'hard': 1}, 22: {'nothing': 4, 'hard': 2}}, '54eed4fc0cf5850c7c589b60': {0: {'hard': 4, 'medium': 4, 'easy': 1, 'nothing': 4}, 1: {'medium': 1, 'nothing': 2}, 2: {'nothing': 2, 'medium': 1}, 3: {'medium': 1, 'nothing': 3}, 4: {'nothing': 1}, 6: {'nothing': 2}, 7: {'easy': 2, 'medium': 1, 'nothing': 3}, 8: {'easy': 1, 'nothing': 6}, 9: {'medium': 2, 'nothing': 3, 'easy': 8}, 10: {'easy': 7, 'hard': 1, 'medium': 2}, 11: {'nothing': 2}, 12: {'medium': 2}, 13: {'medium': 1, 'easy': 2, 'nothing': 1}, 14: {'easy': 2}, 15: {'easy': 2, 'medium': 3}, 16: {'hard': 1, 'medium': 1, 'nothing': 1}, 17: {'medium': 2, 'nothing': 1}, 18: {'medium': 1}, 19: {'medium': 1, 'hard': 1}, 20: {'easy': 1, 'hard': 1, 'medium': 3, 'nothing': 1}, 21: {'medium': 1, 'hard': 2, 'easy': 1}, 22: {'easy': 1, 'hard': 2, 'medium': 1}, 23: {'medium': 3, 'easy': 1}, 24: {'nothing': 1}, 25: {'easy': 1, 'hard': 1}, 26: {'easy': 2}, 27: {'easy': 3, 'nothing': 1, 'medium': 1}}, '2f0fec9c0a3ee9f9e731dc46': {0: {'easy': 2}, 1: {'easy': 2}}, 'dbd17107575badc649e0cc48': {0: {'easy': 5, 'medium': 1, 'nothing': 17}, 1: {'nothing': 22}, 2: {'nothing': 32, 'easy': 25}, 3: {'medium': 1, 'easy': 30, 'nothing': 1}, 4: {'nothing': 2, 'easy': 26, 'hard': 1, 'medium': 1}, 5: {'easy': 64, 'medium': 1}, 6: {'easy': 20}, 8: {'easy': 29, 'medium': 1}, 9: {'easy': 47}, 12: {'easy': 6, 'medium': 5, 'hard': 5, 'nothing': 4}, 13: {'nothing': 30, 'easy': 6, 'hard': 5, 'medium': 5}, 14: {'nothing': 9, 'medium': 4, 'hard': 5}, 15: {'nothing': 1, 'medium': 1}, 16: {'nothing': 6, 'medium': 1, 'easy': 1, 'hard': 1}, 17: {'nothing': 16, 'easy': 2, 'medium': 2, 'hard': 4}, 18: {'nothing': 5, 'medium': 2, 'easy': 1}, 19: {'nothing': 2, 'hard': 2}, 20: {'easy': 2, 'nothing': 1, 'hard': 1}, 21: {'easy': 11, 'nothing': 2, 'hard': 2}}, '429bd37364e6e80caec5edac': {0: {'nothing': 1}, 2: {'nothing': 4}, 3: {'nothing': 3, 'medium': 1}, 7: {'nothing': 2}, 12: {'nothing': 4}, 13: {'nothing': 2, 'hard': 1}}, '70337a657f2ec83808467bd3': {0: {'nothing': 4}, 1: {'nothing': 4}, 3: {'nothing': 6}, 4: {'nothing': 7}, 5: {'nothing': 3}, 6: {'nothing': 6}, 7: {'nothing': 9}, 8: {'nothing': 5}, 9: {'nothing': 2, 'easy': 1}, 10: {'nothing': 4, 'easy': 1, 'medium': 1}, 13: {'nothing': 2, 'hard': 1, 'medium': 1, 'easy': 1}, 14: {'nothing': 2, 'easy': 1, 'medium': 1}, 15: {'nothing': 8, 'medium': 1, 'hard': 1, 'easy': 1}, 16: {'nothing': 1, 'medium': 1}, 17: {'nothing': 2, 'easy': 1, 'hard': 1}, 21: {'nothing': 2, 'easy': 1, 'hard': 1}}, '1112d44d45ad4b61ed93002e': {0: {'hard': 1}, 3: {'hard': 1, 'nothing': 2}}, '2b584c2f8e1a6abdf3d8edb5': {0: {'nothing': 1}}, 'f18fcd0b0e74ed65c9f6887a': {0: {'nothing': 2}, 2: {'nothing': 1}}, '157ba744aa307d7f845a1853': {0: {'nothing': 1, 'easy': 1}}, '08dcb4c0626fa03a27f70274': {0: {'medium': 4, 'hard': 1, 'easy': 2}, 1: {'medium': 1, 'nothing': 4, 'hard': 1}, 2: {'nothing': 2}, 3: {'nothing': 2}, 7: {'nothing': 4}, 8: {'nothing': 2}, 9: {'nothing': 3, 'easy': 1}, 10: {'nothing': 1, 'medium': 1}, 11: {'nothing': 4, 'easy': 2, 'hard': 1}, 12: {'easy': 1}, 13: {'nothing': 1, 'easy': 1}, 14: {'nothing': 1, 'hard': 1}, 17: {'nothing': 2}, 18: {'nothing': 3, 'medium': 1}, 19: {'nothing': 1, 'medium': 1, 'hard': 1}, 21: {'nothing': 3, 'easy': 1}}, '435dfd0c81fcdf879024d2c5': {0: {'medium': 4, 'easy': 1}, 1: {'medium': 3}, 2: {'medium': 1}, 4: {'medium': 1}, 5: {'medium': 5, 'easy': 1}, 6: {'medium': 3}, 8: {'medium': 2}, 9: {'medium': 4}, 10: {'medium': 1}, 13: {'easy': 1}, 14: {'medium': 2, 'nothing': 2}, 15: {'medium': 3}, 17: {'medium': 1, 'hard': 1}, 18: {'medium': 4, 'hard': 1, 'nothing': 2}, 19: {'easy': 1}, 20: {'medium': 2}}, '36604fc777afa3e3d85c4649': {0: {'medium': 2, 'hard': 1, 'nothing': 10}, 1: {'nothing': 11}, 2: {'nothing': 13, 'easy': 1}, 3: {'nothing': 5}, 4: {'nothing': 5}, 5: {'nothing': 14}, 7: {'nothing': 2}, 9: {'nothing': 3}, 11: {'nothing': 4}, 12: {'easy': 2, 'nothing': 4, 'hard': 1}, 14: {'nothing': 2, 'easy': 1, 'hard': 2}, 15: {'nothing': 5, 'easy': 1, 'medium': 1}}, '993797f89227b760ece5929c': {0: {'nothing': 5}, 1: {'nothing': 4}, 2: {'nothing': 2}, 3: {'nothing': 3}, 5: {'nothing': 2}, 6: {'nothing': 4}, 8: {'nothing': 5}, 9: {'nothing': 5}}, 'e6adb81384e46b6f720a9239': {0: {'easy': 4, 'hard': 32, 'medium': 2, 'nothing': 4}, 1: {'hard': 59, 'nothing': 1}, 2: {'hard': 57, 'nothing': 2}, 3: {'hard': 19, 'nothing': 2}, 4: {'hard': 37}, 5: {'hard': 33, 'nothing': 1}, 6: {'hard': 16, 'nothing': 1}, 7: {'hard': 25, 'nothing': 2}, 8: {'hard': 13, 'nothing': 3}, 9: {'hard': 5, 'nothing': 4}, 10: {'hard': 5, 'easy': 2, 'medium': 1, 'nothing': 1}, 11: {'hard': 9, 'easy': 4, 'nothing': 1, 'medium': 5}, 12: {'nothing': 1, 'medium': 1}, 14: {'nothing': 5, 'easy': 1}, 15: {'nothing': 5, 'medium': 3, 'easy': 1}, 16: {'nothing': 6, 'easy': 1}, 18: {'nothing': 3, 'medium': 1}, 19: {'nothing': 10, 'easy': 2, 'hard': 1, 'medium': 1}, 20: {'nothing': 6, 'medium': 2, 'hard': 1}, 21: {'nothing': 25, 'hard': 12, 'easy': 7, 'medium': 4}, 22: {'nothing': 3, 'medium': 2}}, '3bd9b4d9398fb06bd0bad361': {0: {'nothing': 2}, 1: {'medium': 1}, 3: {'nothing': 1}}, '08488fa14b33e869b4f9f142': {0: {'nothing': 1}}, 'e07c1b5906c246400e7c64df': {0: {'medium': 1}, 3: {'nothing': 2}, 11: {'easy': 1}, 13: {'hard': 1}, 16: {'medium': 1, 'easy': 1}, 18: {'easy': 1}, 19: {'medium': 2, 'hard': 2, 'easy': 1}, 23: {'easy': 1}}, '0c8ae705608041c1244e823a': {0: {'medium': 9, 'easy': 1, 'nothing': 1, 'hard': 1}, 1: {'medium': 1}, 8: {'medium': 2}, 21: {'hard': 1}}, '06874e5a5427b18aa15bc4aa': {0: {'easy': 6}, 1: {'easy': 7}, 2: {'easy': 1}, 12: {'nothing': 1, 'easy': 1}, 15: {'nothing': 2}, 21: {'nothing': 1, 'hard': 1}}, 'd5214de949e81129f9c2b9ac': {0: {'hard': 1}, 7: {'easy': 1, 'nothing': 2}, 8: {'medium': 1}, 10: {'nothing': 2, 'easy': 1}, 11: {'nothing': 1, 'medium': 1}, 13: {'nothing': 1, 'easy': 1}, 14: {'nothing': 1, 'easy': 1}, 16: {'easy': 1, 'medium': 1}, 18: {'easy': 1}, 20: {'hard': 1}}, '487f5cb36ecbee4b263560a3': {0: {'nothing': 1}, 16: {'nothing': 1}}, '85f596af6b3d0ff7074c7ab3': {0: {'easy': 2}, 14: {'nothing': 1}, 34: {'nothing': 3, 'medium': 1, 'hard': 1}}, 'be763f26a6488ea1d7c2ba66': {0: {'medium': 12}, 1: {'easy': 1, 'medium': 3}, 2: {'medium': 1, 'easy': 1}, 3: {'medium': 2, 'easy': 3}, 4: {'easy': 1, 'nothing': 1}, 5: {'easy': 1}, 6: {'medium': 2, 'easy': 1}, 7: {'easy': 2, 'medium': 2}, 8: {'medium': 3, 'easy': 3}, 16: {'nothing': 1}, 17: {'hard': 1, 'nothing': 1}, 18: {'nothing': 2}}, '8401753cddc1d7f8d40cd0c0': {0: {'easy': 2}, 1: {'nothing': 1, 'easy': 1}}, '8e559c6554db3bbbcff7d1b5': {0: {'hard': 1, 'nothing': 2}}, 'a62a51af654282ed880797a2': {0: {'nothing': 2}, 2: {'nothing': 1}, 5: {'nothing': 4}, 6: {'nothing': 4}, 7: {'nothing': 1}, 8: {'nothing': 1}, 11: {'nothing': 2}}, '862ef50d6f6801e273cae99a': {0: {'medium': 1, 'easy': 1}, 1: {'medium': 1, 'easy': 1}, 3: {'easy': 1}, 14: {'easy': 1, 'nothing': 1}, 15: {'nothing': 1, 'easy': 1}, 17: {'easy': 1, 'hard': 1}}, 'd8c210edd4967790cc458610': {0: {'medium': 7, 'easy': 1}, 3: {'easy': 2, 'medium': 2}, 4: {'medium': 2, 'nothing': 1}, 5: {'medium': 2, 'easy': 4}, 6: {'easy': 8, 'medium': 1}, 7: {'easy': 5}, 8: {'easy': 9, 'medium': 2, 'hard': 1}, 10: {'easy': 2, 'medium': 1, 'hard': 1}, 13: {'easy': 5, 'medium': 1, 'nothing': 1}, 14: {'easy': 5, 'nothing': 1, 'hard': 1}, 15: {'easy': 1, 'medium': 1}, 17: {'easy': 3, 'nothing': 2, 'hard': 1}, 19: {'easy': 2, 'nothing': 1}, 20: {'easy': 6, 'hard': 3, 'medium': 2}}, '5bf29c4de3b10aace940f2fe': {0: {'medium': 15}, 1: {'medium': 16}, 2: {'medium': 10, 'easy': 2}, 3: {'medium': 13}, 4: {'medium': 6, 'easy': 1}, 6: {'medium': 12, 'nothing': 2}, 7: {'medium': 14}, 5: {'easy': 1}, 8: {'medium': 15, 'nothing': 1}, 10: {'medium': 1}, 17: {'easy': 1}, 18: {'nothing': 1}}, '0f38cde6c1e0cd2727571c5f': {0: {'hard': 3}}, '72abb91d0daec4e47fed9818': {0: {'nothing': 1}, 1: {'nothing': 2}, 3: {'nothing': 3}, 4: {'nothing': 5}, 5: {'nothing': 3}, 6: {'nothing': 2}, 7: {'nothing': 1}, 8: {'nothing': 3, 'easy': 1, 'hard': 1}, 9: {'nothing': 5, 'medium': 1}, 10: {'nothing': 6, 'medium': 2}, 11: {'hard': 1, 'nothing': 2, 'easy': 1}, 12: {'nothing': 1, 'hard': 1}, 16: {'nothing': 2, 'hard': 1}, 17: {'nothing': 3, 'medium': 1}, 18: {'nothing': 5, 'easy': 2, 'medium': 1, 'hard': 1}, 19: {'nothing': 1, 'medium': 1}}, '306268a6632fe38bb69d7305': {0: {'easy': 1}}, 'd2910c3fed7b0f73750df76b': {0: {'easy': 1}}, '426de335226fd7cfeb76b920': {0: {'medium': 2, 'nothing': 1}, 2: {'medium': 1}, 3: {'medium': 2}, 4: {'medium': 4}, 5: {'medium': 1}, 6: {'medium': 3}, 7: {'medium': 5}, 8: {'medium': 6}, 10: {'hard': 1}, 11: {'medium': 2, 'easy': 1, 'hard': 1}, 12: {'medium': 1, 'hard': 1, 'nothing': 1}, 14: {'nothing': 1}, 15: {'medium': 1, 'easy': 1}, 16: {'medium': 1}, 17: {'hard': 1, 'nothing': 1}, 18: {'medium': 1, 'hard': 1}}, '37f3d69b7a555b76c302df2f': {0: {'medium': 2, 'easy': 1}, 1: {'nothing': 3}, 3: {'nothing': 4}, 4: {'nothing': 4}, 5: {'medium': 1, 'nothing': 3}, 6: {'nothing': 4, 'medium': 1}, 7: {'nothing': 1}, 8: {'medium': 1}, 9: {'medium': 3}, 10: {'easy': 2, 'medium': 1}, 11: {'medium': 2, 'nothing': 1, 'hard': 1}, 12: {'medium': 2, 'nothing': 1, 'hard': 1}, 13: {'medium': 3, 'easy': 2, 'hard': 1}, 14: {'medium': 1, 'nothing': 6, 'hard': 1}, 15: {'nothing': 4, 'medium': 5, 'easy': 1}, 16: {'medium': 1, 'nothing': 4, 'easy': 1}, 17: {'nothing': 3, 'hard': 2, 'medium': 1}, 19: {'nothing': 3, 'easy': 2}, 20: {'nothing': 1, 'easy': 1}}, '69f32ba9ae51239f7bab7bf6': {0: {'medium': 2, 'nothing': 6}, 1: {'nothing': 2}}, '7990666ce2143a04ed94fd67': {0: {'easy': 1}, 5: {'easy': 1}, 8: {'easy': 1}}, 'b537c7524e9b2ceb844dcca1': {0: {'medium': 1}, 8: {'medium': 1}}, 'bd3d9032a3bc8f5eb3635ab8': {0: {'medium': 2, 'nothing': 10}, 1: {'nothing': 7, 'medium': 2, 'easy': 1}, 2: {'nothing': 14}, 3: {'nothing': 5, 'easy': 3}, 4: {'nothing': 9, 'easy': 2}, 5: {'nothing': 9}, 6: {'nothing': 5}, 7: {'nothing': 8, 'medium': 1}, 8: {'nothing': 14, 'easy': 4, 'medium': 4}, 9: {'nothing': 14, 'hard': 4, 'medium': 3}, 10: {'nothing': 10, 'hard': 3, 'medium': 1, 'easy': 1}, 11: {'nothing': 9, 'medium': 1}, 12: {'nothing': 8, 'easy': 5, 'hard': 2}, 13: {'nothing': 10, 'hard': 3, 'easy': 1}, 14: {'nothing': 4}, 15: {'nothing': 8, 'medium': 4, 'hard': 2}, 16: {'nothing': 8, 'easy': 3, 'hard': 1}, 17: {'nothing': 2, 'medium': 2}, 18: {'nothing': 2}, 19: {'nothing': 6, 'easy': 4, 'hard': 1}, 20: {'nothing': 6, 'easy': 1, 'medium': 1, 'hard': 1}}, '45b434dbae77bfda70880ca2': {0: {'medium': 1}}, 'cddefc078d3a25a18798e6b1': {0: {'easy': 1}, 1: {'easy': 1}, 2: {'easy': 3}, 3: {'easy': 1}, 5: {'easy': 1}, 12: {'nothing': 1}, 15: {'medium': 1, 'easy': 2, 'hard': 1}, 16: {'easy': 1, 'hard': 1}}, 'f2695edfe64a526986fb0b83': {0: {'nothing': 1}}, '0cd2af2a1e4819f5f4f4189f': {0: {'nothing': 1}}, '047f627afa80008ccb0b2020': {0: {'medium': 2, 'easy': 1}, 1: {'medium': 2, 'hard': 2}, 2: {'nothing': 5, 'hard': 1}, 3: {'nothing': 3}, 4: {'easy': 1, 'nothing': 1}, 5: {'hard': 1, 'nothing': 2}}, 'e48b30a4208b4d242eb982b8': {0: {'nothing': 1}}, 'e9e4d1dfabc5cebeba5a6617': {0: {'easy': 3}}, 'b1584bf90303eefb0ed83eda': {0: {'easy': 12}, 1: {'medium': 1, 'easy': 8}, 3: {'easy': 1}, 4: {'easy': 3, 'nothing': 10}, 5: {'easy': 25, 'nothing': 2}, 6: {'easy': 5, 'nothing': 8}, 7: {'nothing': 1}}, '2969f4d98c7e4985917bb8ff': {0: {'medium': 1}}, 'b46e4fa069cc1d5e0ee2eb1e': {0: {'nothing': 37}, 1: {'nothing': 14}, 2: {'nothing': 11}, 3: {'nothing': 2}, 5: {'nothing': 3}, 7: {'nothing': 1, 'medium': 1}, 13: {'medium': 1}, 14: {'nothing': 1, 'hard': 1}, 15: {'nothing': 1, 'easy': 1, 'medium': 1, 'hard': 1}, 16: {'nothing': 3, 'medium': 1}, 17: {'nothing': 3, 'hard': 1}, 18: {'nothing': 1, 'hard': 1}}, 'f9f10056e0f303f646de2055': {0: {'nothing': 1}, 6: {'medium': 1, 'easy': 1}, 7: {'nothing': 4, 'medium': 2}}, 'a4874bbfbc5c54aaa5eaeb3b': {0: {'medium': 2}, 1: {'medium': 6, 'easy': 2}, 2: {'medium': 1}, 4: {'easy': 2}, 5: {'easy': 3, 'medium': 1}, 6: {'easy': 1}, 15: {'nothing': 1}, 18: {'medium': 1}}, '93d25a1c2d1a4be5a0443512': {0: {'nothing': 3}, 1: {'nothing': 1}, 5: {'nothing': 3}}, 'f32cb59bc2542875d8f95312': {0: {'easy': 1}}, '4447f0de5f79dc60750989f5': {0: {'easy': 28}}, '26ff31f781dee4d279d85c22': {0: {'easy': 7}, 2: {'easy': 1}, 4: {'easy': 1}, 7: {'easy': 1}}, '4f4ee561e3dd421b86d932b3': {0: {'easy': 2}, 1: {'easy': 1}, 7: {'nothing': 3, 'easy': 2}, 12: {'medium': 1}, 17: {'nothing': 1}, 18: {'nothing': 2}}, 'd0fd104fb17c12ed4bec135a': {0: {'easy': 1, 'medium': 2}, 1: {'easy': 6}, 2: {'easy': 1}, 3: {'easy': 5}, 4: {'easy': 7}, 6: {'easy': 1}, 7: {'nothing': 3}, 9: {'easy': 3, 'nothing': 1}, 10: {'nothing': 7, 'medium': 2, 'hard': 1}}, '9d14195bae7976d99c743bde': {0: {'medium': 1, 'nothing': 1, 'easy': 3}, 1: {'medium': 3, 'nothing': 1, 'easy': 2}, 2: {'nothing': 5}, 3: {'nothing': 3}, 6: {'easy': 1}, 7: {'easy': 1, 'nothing': 1}, 11: {'medium': 2, 'nothing': 1, 'easy': 1}, 12: {'medium': 1}, 13: {'hard': 3, 'nothing': 1}, 14: {'hard': 1, 'nothing': 1}, 15: {'hard': 1, 'medium': 1}, 17: {'hard': 1, 'medium': 1}}, '302a6630c2a7269db7303c2e': {0: {'nothing': 8}, 1: {'nothing': 2}, 4: {'nothing': 3}, 7: {'nothing': 1, 'medium': 1}, 14: {'nothing': 2, 'medium': 1}}, '83d1b05e8acb0fb0984e8db7': {0: {'nothing': 1}, 1: {'easy': 3, 'nothing': 1}, 2: {'easy': 1, 'nothing': 6}, 4: {'nothing': 2, 'easy': 1}, 5: {'easy': 1}, 6: {'easy': 1, 'nothing': 4}, 8: {'easy': 1}, 10: {'nothing': 1}, 11: {'medium': 1}, 13: {'nothing': 2, 'easy': 1}, 16: {'hard': 1}, 18: {'nothing': 2, 'medium': 1, 'hard': 1}}, '8eec8af6498d29e87323fd9e': {0: {'medium': 1, 'easy': 1}}, '6de6cf27c09af8b136a6a950': {0: {'medium': 8}, 2: {'medium': 5}, 3: {'nothing': 3, 'medium': 4}, 4: {'medium': 1}}, 'e3d650eb237f5dfca22f1835': {0: {'hard': 1}}, '0bc3e78c4ecd05a6573836a6': {0: {'nothing': 5}, 4: {'nothing': 1}, 8: {'nothing': 1, 'easy': 1}}, 'e1db0b6bb8cdc2a6a6879b48': {0: {'easy': 1, 'nothing': 2}, 2: {'easy': 1}, 3: {'medium': 1}, 4: {'medium': 1}, 5: {'nothing': 1}, 8: {'easy': 1}, 10: {'nothing': 1, 'hard': 1}, 14: {'nothing': 3, 'hard': 1}, 15: {'nothing': 1, 'medium': 1}, 16: {'medium': 2, 'nothing': 1}, 17: {'nothing': 5, 'medium': 1}}, '319647af484aacc0d5fabc7d': {0: {'easy': 2, 'medium': 5}, 1: {'hard': 2, 'medium': 1}, 2: {'hard': 3}, 4: {'medium': 1}, 5: {'medium': 3}, 7: {'easy': 1, 'hard': 1}, 11: {'easy': 2, 'hard': 2}, 16: {'easy': 2, 'medium': 1}, 17: {'easy': 1, 'nothing': 1}, 18: {'hard': 1}}, '2cc11117ba44aa9f0dec69a1': {0: {'easy': 2, 'medium': 1, 'nothing': 1}, 5: {'easy': 13, 'medium': 2, 'nothing': 2}, 6: {'medium': 3, 'nothing': 3, 'easy': 28, 'hard': 1}, 7: {'easy': 17, 'nothing': 3, 'medium': 1, 'hard': 5}, 8: {'easy': 15, 'medium': 1, 'hard': 3, 'nothing': 3}, 9: {'easy': 14, 'medium': 4, 'hard': 6, 'nothing': 2}, 10: {'easy': 20, 'nothing': 6, 'medium': 8, 'hard': 3}, 11: {'medium': 3, 'easy': 25, 'nothing': 6, 'hard': 6}, 12: {'nothing': 7, 'easy': 20, 'medium': 3, 'hard': 7}, 13: {'easy': 12, 'hard': 1, 'medium': 1, 'nothing': 4}, 14: {'easy': 13, 'hard': 5, 'nothing': 1, 'medium': 2}, 15: {'easy': 32, 'medium': 5, 'nothing': 4, 'hard': 4}, 16: {'easy': 2, 'nothing': 1}, 17: {'easy': 18, 'nothing': 3, 'medium': 4, 'hard': 4}, 18: {'easy': 17, 'nothing': 3, 'hard': 5, 'medium': 3}, 19: {'easy': 25, 'medium': 5, 'hard': 4, 'nothing': 3}, 20: {'easy': 10, 'hard': 3, 'nothing': 1, 'medium': 1}}, 'dd255758943abf38102497dc': {0: {'easy': 1, 'medium': 1}, 1: {'easy': 1}, 2: {'nothing': 1}, 4: {'nothing': 2}, 5: {'nothing': 2}, 8: {'nothing': 4}, 9: {'nothing': 3}, 10: {'nothing': 1}}, '243ea8620fd06631645f326a': {0: {'hard': 1}, 3: {'easy': 1, 'nothing': 1}}, '22e9433a1d7be8a0dae6ea9c': {0: {'nothing': 1}}, 'bbf13fd8b25105f117b3c931': {0: {'easy': 3, 'hard': 1, 'medium': 1}, 2: {'nothing': 1, 'easy': 1}, 3: {'hard': 3, 'easy': 1, 'medium': 5, 'nothing': 1}, 4: {'medium': 1}, 5: {'medium': 2}, 6: {'hard': 1}, 10: {'hard': 1, 'easy': 1, 'nothing': 2, 'medium': 1}, 11: {'easy': 6, 'nothing': 2, 'hard': 2}, 13: {'medium': 3, 'easy': 4, 'hard': 5, 'nothing': 1}, 14: {'medium': 2, 'easy': 1, 'hard': 1}, 16: {'easy': 2, 'hard': 2}, 17: {'nothing': 1, 'hard': 1}}, 'd1c5ef05d3adcfb188344a24': {0: {'medium': 1}}, '490c823ad1e5e87573af0615': {0: {'medium': 4, 'easy': 1, 'nothing': 1}, 2: {'medium': 2, 'nothing': 3, 'easy': 3, 'hard': 2}, 3: {'easy': 1, 'medium': 5, 'nothing': 2, 'hard': 1}, 4: {'medium': 8, 'hard': 1, 'nothing': 2, 'easy': 1}}, '5d553942942322c5fce88a96': {0: {'easy': 2}, 2: {'easy': 4}, 3: {'easy': 10}, 4: {'easy': 1}, 6: {'nothing': 1}}, '1c499412ea5b034f2d45e0fe': {0: {'nothing': 9}}, 'a6a4b8327878e0849f128028': {0: {'easy': 1, 'nothing': 13}, 1: {'nothing': 4}, 2: {'nothing': 2}, 4: {'nothing': 4}, 5: {'nothing': 5}, 12: {'nothing': 1, 'medium': 1}}, '39142cdc607dc59a7bc1b095': {0: {'easy': 1}, 2: {'medium': 1, 'easy': 1}, 3: {'medium': 1}, 4: {'medium': 1, 'easy': 1}}, 'f7bc103e54d34c39fe4f34bd': {0: {'easy': 1}, 3: {'hard': 5, 'medium': 1}, 4: {'hard': 4}}, '63246bd51af632966de41ff5': {0: {'nothing': 4}, 1: {'nothing': 4}, 2: {'nothing': 2}, 3: {'nothing': 2}, 5: {'nothing': 2}, 6: {'medium': 1}}, '2b094a50ccfbe785e2ab83a9': {0: {'nothing': 1, 'medium': 1}, 3: {'nothing': 1}}, 'c26b116cdec7c37ff5dfc612': {0: {'medium': 1}, 1: {'medium': 1, 'easy': 1}, 2: {'easy': 1}, 5: {'medium': 1, 'nothing': 1, 'hard': 1, 'easy': 1}, 6: {'easy': 1}, 7: {'hard': 2}}, 'cdc94c551609bd8a8c26b624': {0: {'nothing': 7}, 1: {'nothing': 26}, 2: {'nothing': 20}, 3: {'nothing': 12}, 6: {'nothing': 14}, 7: {'nothing': 5, 'medium': 2}}, 'b83f7d5ff4c3695712f94f3b': {0: {'nothing': 1}}, '49d39fa16572b1652523d87e': {0: {'easy': 1}}, '85d88b9d04b7c08dd3ad0c11': {0: {'nothing': 1}, 14: {'nothing': 2}}, '8e9a3e1717d60f22873441b6': {0: {'medium': 1}}, 'ac5db577f6903de2b1742f1a': {0: {'medium': 2}, 1: {'medium': 1}, 2: {'medium': 3}, 3: {'medium': 2}, 5: {'medium': 1}, 6: {'medium': 1, 'nothing': 1, 'easy': 1}, 7: {'medium': 1, 'hard': 2}, 8: {'easy': 1}, 9: {'medium': 1, 'hard': 1, 'easy': 1}, 10: {'nothing': 2, 'easy': 1, 'medium': 1}, 12: {'easy': 1, 'nothing': 1, 'hard': 1}}, '5b30481359252552b9dde0fb': {0: {'nothing': 3}, 1: {'nothing': 1}, 2: {'nothing': 1}, 3: {'nothing': 1}}, 'f59bfe48cbe62d84b67a6342': {0: {'hard': 1}}, '2371a488fcceec7a4d4f39c8': {0: {'nothing': 5}, 1: {'nothing': 8}, 2: {'nothing': 2}, 3: {'nothing': 4}, 4: {'nothing': 3, 'hard': 1, 'easy': 1}, 5: {'nothing': 3, 'easy': 2, 'medium': 1}, 7: {'nothing': 2}, 8: {'nothing': 2, 'medium': 1, 'hard': 1}, 9: {'nothing': 1, 'easy': 1}, 10: {'nothing': 4, 'easy': 2, 'hard': 2}, 12: {'nothing': 1, 'hard': 1}, 13: {'nothing': 1, 'medium': 1}, 14: {'medium': 2, 'nothing': 3}, 15: {'nothing': 3, 'hard': 1}}, '2df5bba93a8061846ef8df22': {0: {'medium': 8}, 1: {'medium': 4}, 2: {'medium': 21}, 3: {'medium': 43, 'easy': 1}, 4: {'medium': 24, 'nothing': 1, 'hard': 1}, 5: {'easy': 2}, 6: {'easy': 1, 'nothing': 1}, 7: {'easy': 1, 'hard': 1}, 8: {'easy': 1}, 9: {'easy': 1, 'hard': 1, 'nothing': 1}, 10: {'easy': 2}, 12: {'easy': 1}, 13: {'hard': 1, 'medium': 2}, 14: {'nothing': 1}, 15: {'medium': 1, 'hard': 1}, 16: {'hard': 1, 'nothing': 2, 'easy': 1, 'medium': 1}, 17: {'easy': 2}}, '42b989a6aa5f4ca2c34f57d9': {0: {'medium': 1}, 1: {'medium': 1}}, '428d7d492e9ac130032911ad': {0: {'nothing': 1, 'hard': 1}, 1: {'hard': 1}, 2: {'hard': 3}, 4: {'hard': 1}, 8: {'easy': 1}}, 'd8dc3a0d6a7ebf2ec16d067a': {0: {'medium': 3, 'easy': 4}, 2: {'medium': 7}, 3: {'medium': 1, 'hard': 1, 'easy': 1}, 4: {'nothing': 1, 'hard': 1, 'easy': 2, 'medium': 1}, 5: {'nothing': 7, 'easy': 16, 'hard': 7, 'medium': 5}, 6: {'nothing': 1, 'hard': 1}, 9: {'easy': 1, 'nothing': 1}, 16: {'nothing': 1, 'easy': 1}}, '272bdfd42db21e042963fa11': {0: {'easy': 3}, 3: {'easy': 1}, 5: {'easy': 2, 'medium': 1, 'hard': 1}, 8: {'easy': 1, 'nothing': 1}, 12: {'nothing': 1}}, '59bab175c66b2e618f2640ec': {0: {'medium': 1}, 1: {'easy': 2}, 2: {'easy': 1}, 3: {'easy': 1}, 4: {'nothing': 1}, 6: {'easy': 2}, 7: {'nothing': 1, 'easy': 1, 'medium': 1}, 10: {'nothing': 1, 'hard': 1, 'easy': 1, 'medium': 1}, 14: {'nothing': 2, 'hard': 2, 'medium': 1}, 16: {'nothing': 1, 'medium': 1}, 19: {'easy': 1, 'medium': 1}}, '491e5869a2a3df4408399f94': {0: {'nothing': 16}, 8: {'nothing': 1}}, 'cd35f84b81596b0930f8d9b5': {0: {'nothing': 1}, 3: {'easy': 1}, 5: {'nothing': 1, 'hard': 1}, 6: {'nothing': 1, 'medium': 1}}, '5e4a219b35c059a00c9131e2': {0: {'easy': 1}}, '714a57df8163e780463ca316': {0: {'medium': 1}}, '6f886b8df388d9d079cfa16b': {0: {'nothing': 1}, 9: {'medium': 1, 'hard': 1}}, '84fee669212988443231d39c': {0: {'hard': 2, 'easy': 1, 'nothing': 1}}, '9579d2bf5ad99f02dad5a9bf': {0: {'nothing': 3}, 2: {'nothing': 1}, 8: {'hard': 1}, 9: {'nothing': 3, 'hard': 1, 'medium': 1}, 12: {'easy': 1}, 13: {'nothing': 1, 'easy': 1}, 14: {'nothing': 1, 'easy': 1}}, 'cdd70c2b9066b2a94170c3d3': {0: {'easy': 1, 'nothing': 8}, 1: {'nothing': 21}, 2: {'nothing': 8}, 3: {'nothing': 2, 'hard': 1}, 4: {'nothing': 2}, 5: {'easy': 1}, 6: {'medium': 1}}, 'c6b4af032286d5e88a489cf2': {0: {'medium': 7, 'easy': 7, 'hard': 7}, 1: {'nothing': 1, 'medium': 11, 'easy': 4, 'hard': 2}, 2: {'medium': 28, 'easy': 1, 'hard': 2}, 3: {'easy': 1}, 4: {'hard': 3, 'medium': 2, 'easy': 3}, 5: {'nothing': 3, 'medium': 5, 'hard': 2}, 6: {'easy': 1, 'medium': 1}, 7: {'hard': 3, 'nothing': 3, 'medium': 4, 'easy': 2}, 8: {'easy': 8, 'nothing': 4, 'medium': 4, 'hard': 2}, 9: {'easy': 4, 'hard': 1, 'nothing': 2}, 10: {'medium': 2, 'easy': 8}, 11: {'medium': 3, 'easy': 9, 'nothing': 3, 'hard': 2}, 12: {'hard': 2, 'easy': 5, 'nothing': 3, 'medium': 1}, 13: {'nothing': 10, 'easy': 5, 'medium': 3, 'hard': 4}}, 'f3c3cc381a98828dc9b61084': {0: {'easy': 1}}, '0db379d9ba899842a34a008c': {0: {'easy': 1}, 1: {'easy': 1}}, '54323b1146330f4acf7fc81b': {0: {'easy': 1, 'nothing': 1}, 1: {'nothing': 1}, 5: {'hard': 2, 'nothing': 2, 'easy': 2}, 6: {'nothing': 3, 'hard': 1, 'medium': 2}, 7: {'nothing': 3, 'hard': 1}, 9: {'nothing': 2}}, '5c69f950cbd4884f485874d0': {0: {'medium': 2}, 1: {'easy': 1}, 7: {'easy': 1}, 9: {'easy': 1}, 14: {'nothing': 1, 'hard': 1}}, 'f70fd960bb5c7d6d33606939': {0: {'nothing': 2}}, '099996f56d114c4f4c4ea486': {0: {'medium': 1}}, '0d0204e61d7e6b1a8a6791a2': {0: {'nothing': 2}}, 'a9918d999b83060a554f5337': {0: {'hard': 1, 'nothing': 1, 'medium': 1, 'easy': 1}, 1: {'hard': 1, 'medium': 1}, 3: {'nothing': 1}}, 'e8c996497dbb275b5e15ea82': {0: {'nothing': 33}, 1: {'nothing': 31}, 2: {'nothing': 14}, 4: {'hard': 2, 'nothing': 1, 'medium': 1}, 5: {'nothing': 2, 'medium': 1, 'hard': 1}, 6: {'nothing': 2, 'easy': 1, 'hard': 1}, 7: {'nothing': 1, 'hard': 1}, 9: {'nothing': 3, 'easy': 1}, 11: {'easy': 1, 'nothing': 1, 'medium': 1}, 12: {'hard': 1, 'nothing': 1}, 13: {'hard': 2, 'easy': 1, 'nothing': 2, 'medium': 1}}, '5b4f5ef2f0be064062842764': {0: {'medium': 1}}, 'e5daab2a45c107b7de88b0f7': {0: {'medium': 1}}, '8555d722020fafda44e2a8dd': {0: {'hard': 3, 'medium': 1}, 1: {'hard': 1}, 2: {'hard': 3}, 3: {'nothing': 1}, 5: {'hard': 2, 'nothing': 1, 'easy': 1}, 6: {'hard': 2, 'nothing': 2}, 7: {'easy': 1}, 8: {'easy': 1}, 9: {'easy': 1}, 10: {'nothing': 2}, 11: {'easy': 2, 'medium': 1}, 12: {'easy': 1, 'medium': 1}, 13: {'easy': 1, 'nothing': 1}, 14: {'medium': 1}}, '62485258d69bc769643addf0': {0: {'nothing': 1}, 1: {'nothing': 1}}, '2387ee173747161861938bbc': {0: {'easy': 1}}, '80be56cc32b08e9e67ce8df5': {0: {'medium': 1}}, '44dd5db05d3842aaac92eb32': {0: {'hard': 1, 'easy': 1}}, '244955f7ea721a410642695a': {0: {'easy': 7}, 1: {'easy': 1}, 2: {'easy': 2}, 4: {'easy': 3, 'hard': 1}, 7: {'easy': 1, 'medium': 1}, 11: {'easy': 2}}, '2bf317e4a10f93e63634ed98': {0: {'nothing': 1}, 2: {'nothing': 4}, 3: {'nothing': 2}, 4: {'nothing': 1}, 5: {'nothing': 1, 'medium': 1}, 9: {'hard': 1}, 10: {'nothing': 1, 'hard': 1}, 11: {'easy': 1}, 12: {'nothing': 2, 'hard': 1, 'easy': 1}, 13: {'nothing': 1, 'easy': 1}, 14: {'nothing': 1, 'medium': 1}, 16: {'easy': 1}}, '23cf768829b8d4b1d31e308e': {0: {'easy': 3, 'nothing': 10}, 1: {'nothing': 5}, 7: {'nothing': 1, 'medium': 1}, 8: {'nothing': 1, 'hard': 1}, 9: {'nothing': 1, 'easy': 1}}, '2064b7528590600a33c7cb80': {0: {'easy': 1, 'nothing': 1}, 1: {'nothing': 1}}, '5e7fbe23c2555cac2da675ce': {0: {'medium': 2}, 2: {'medium': 2}, 10: {'hard': 1, 'medium': 1}}, 'eade7c04d9cce2319eb6950f': {0: {'hard': 1}}, '5abbc8374811647848518858': {0: {'easy': 1, 'nothing': 1}, 1: {'easy': 1}}, 'e837a3a10e33decff23c9897': {0: {'medium': 4, 'nothing': 2}, 1: {'nothing': 7, 'medium': 5, 'easy': 3, 'hard': 1}, 2: {'medium': 3, 'nothing': 1, 'hard': 1}, 4: {'easy': 2, 'medium': 3, 'nothing': 2}, 5: {'nothing': 1, 'hard': 1}, 7: {'nothing': 2}, 8: {'nothing': 3, 'hard': 1, 'easy': 1, 'medium': 1}, 9: {'hard': 2, 'easy': 4, 'medium': 1, 'nothing': 1}, 10: {'nothing': 3, 'hard': 5, 'medium': 3, 'easy': 4}, 11: {'nothing': 1, 'medium': 1}, 14: {'nothing': 1, 'medium': 1}}, '0fd847b0bca31208dd4a958a': {0: {'easy': 2}, 1: {'easy': 1}, 2: {'easy': 8, 'hard': 2, 'medium': 2, 'nothing': 5}}, '6722dbc2de4204e406850cbc': {0: {'easy': 2, 'medium': 9}, 1: {'medium': 2}, 8: {'medium': 1, 'hard': 1}, 9: {'medium': 3, 'hard': 3}, 11: {'medium': 6, 'hard': 1, 'nothing': 1, 'easy': 1}, 12: {'hard': 1}}, '91b7653c0ccc634052f7bf75': {0: {'nothing': 6, 'easy': 5, 'medium': 5, 'hard': 2}, 1: {'easy': 1, 'nothing': 1}, 3: {'nothing': 1}, 4: {'medium': 6, 'nothing': 9, 'hard': 1, 'easy': 1}, 5: {'medium': 4, 'nothing': 1, 'hard': 1}, 8: {'hard': 1}, 12: {'medium': 1}}, 'db880baf89fb8897e1b23ecb': {0: {'medium': 3, 'easy': 1}, 1: {'medium': 4, 'easy': 1}, 2: {'hard': 1}, 3: {'easy': 2}, 4: {'easy': 1}, 5: {'nothing': 1}, 6: {'easy': 2}, 8: {'nothing': 1}, 9: {'medium': 1, 'hard': 1}, 10: {'medium': 1, 'hard': 1}, 11: {'easy': 1}, 12: {'hard': 1}, 13: {'easy': 1, 'hard': 1, 'nothing': 1}, 14: {'easy': 1, 'nothing': 1}}, '26553fe0e77b38a210ba874f': {0: {'medium': 21}, 1: {'medium': 22}, 2: {'medium': 10, 'nothing': 2, 'hard': 1, 'easy': 2}, 3: {'easy': 3}, 4: {'nothing': 3, 'medium': 2, 'hard': 2}, 5: {'hard': 5, 'medium': 6, 'easy': 3, 'nothing': 5}, 6: {'medium': 9, 'easy': 3, 'nothing': 1, 'hard': 2}, 7: {'hard': 7, 'medium': 3, 'nothing': 1, 'easy': 2}, 8: {'medium': 4, 'hard': 2, 'easy': 1, 'nothing': 2}, 9: {'medium': 7, 'hard': 4, 'easy': 2}, 10: {'easy': 1, 'hard': 3, 'medium': 3}, 11: {'hard': 8, 'medium': 8, 'easy': 2, 'nothing': 4}, 12: {'nothing': 2, 'medium': 1, 'easy': 1, 'hard': 1}, 13: {'hard': 6, 'easy': 7, 'nothing': 8, 'medium': 1}, 14: {'nothing': 5, 'hard': 3, 'medium': 2, 'easy': 2}}, '44f6215dab7df6d70f04cda8': {0: {'hard': 5, 'easy': 1}, 1: {'hard': 3, 'nothing': 3}, 2: {'nothing': 3, 'easy': 1}, 4: {'nothing': 1}, 5: {'hard': 1}, 7: {'nothing': 3, 'medium': 1, 'hard': 1, 'easy': 1}, 8: {'hard': 1, 'easy': 1, 'nothing': 2, 'medium': 1}, 9: {'medium': 1, 'nothing': 1}, 10: {'nothing': 2}, 11: {'nothing': 1, 'easy': 1}}, 'e102f4920f62aa9d479d3dff': {0: {'hard': 4}, 1: {'hard': 11}, 2: {'hard': 6, 'nothing': 2}, 3: {'hard': 6, 'medium': 1}, 4: {'hard': 9, 'easy': 2, 'nothing': 1}, 7: {'hard': 9, 'easy': 4, 'nothing': 1}, 8: {'hard': 6, 'medium': 2, 'nothing': 2}, 9: {'easy': 2, 'hard': 5, 'medium': 4}, 10: {'hard': 3, 'easy': 2, 'medium': 1}, 11: {'hard': 9, 'medium': 4, 'nothing': 1}, 13: {'medium': 3, 'hard': 1}, 14: {'hard': 3, 'medium': 3, 'nothing': 1}}, '2220cdaf58683bfe53d5f72b': {0: {'medium': 23, 'easy': 1}, 1: {'medium': 4}, 2: {'medium': 20}, 3: {'medium': 42, 'hard': 1}, 4: {'medium': 24, 'easy': 2, 'nothing': 2}, 5: {'easy': 18, 'hard': 5, 'medium': 5, 'nothing': 3}, 6: {'medium': 5, 'hard': 4, 'easy': 10, 'nothing': 5}, 7: {'easy': 8, 'nothing': 5, 'medium': 3, 'hard': 2}, 8: {'nothing': 4, 'hard': 3, 'easy': 2}, 9: {'nothing': 5, 'easy': 1, 'medium': 1, 'hard': 1}, 10: {'nothing': 28, 'hard': 7, 'easy': 2, 'medium': 4}, 11: {'nothing': 17, 'medium': 3, 'easy': 4, 'hard': 3}, 12: {'nothing': 15, 'easy': 5, 'hard': 4, 'medium': 3}, 13: {'nothing': 15, 'easy': 2, 'medium': 6, 'hard': 5}, 14: {'nothing': 22, 'hard': 5, 'medium': 6, 'easy': 5}, 16: {'easy': 1, 'nothing': 3}, 17: {'nothing': 8, 'hard': 1, 'medium': 4, 'easy': 1}}, 'b72ce5dfa42f8a544bf1c3f9': {0: {'easy': 1}}, '034dea3b2abb7b2c4644b0d3': {0: {'easy': 3, 'medium': 1, 'nothing': 2}, 1: {'nothing': 4}, 2: {'nothing': 2, 'hard': 1, 'medium': 1}, 3: {'easy': 2}, 8: {'nothing': 1, 'medium': 1}, 9: {'nothing': 4}, 10: {'nothing': 1, 'hard': 1}, 13: {'medium': 1, 'nothing': 1, 'hard': 1}}, 'e1137d4284fbc209c8354d89': {0: {'medium': 2, 'hard': 10}, 1: {'hard': 8}, 2: {'hard': 1, 'medium': 1}, 4: {'hard': 3}, 6: {'hard': 1, 'easy': 1}, 10: {'hard': 1, 'nothing': 1}, 11: {'hard': 3, 'nothing': 2}, 14: {'nothing': 1}}, 'd4976bd7460ae8c073460d2c': {0: {'easy': 2}, 1: {'medium': 1}, 4: {'hard': 1}, 5: {'medium': 1, 'hard': 1}, 6: {'nothing': 1, 'hard': 1}, 7: {'nothing': 1}, 10: {'hard': 1}}, '357ade2970311d078fcf7471': {0: {'easy': 8, 'nothing': 3}, 1: {'easy': 9, 'nothing': 1}, 2: {'nothing': 4, 'medium': 1, 'easy': 1}, 3: {'easy': 2, 'nothing': 1, 'medium': 2}, 4: {'easy': 2, 'nothing': 1, 'hard': 2}, 7: {'easy': 3, 'hard': 1, 'nothing': 2}, 8: {'nothing': 3, 'easy': 3, 'medium': 2, 'hard': 1}, 9: {'easy': 5, 'medium': 4, 'nothing': 3, 'hard': 2}, 10: {'nothing': 2, 'easy': 4, 'medium': 2}, 11: {'easy': 3, 'medium': 2, 'nothing': 4, 'hard': 2}, 14: {'easy': 4, 'hard': 4, 'nothing': 10, 'medium': 2}}, 'ed2c9d31df1e36565e938998': {0: {'easy': 1, 'nothing': 3}, 1: {'nothing': 4}, 2: {'nothing': 3}, 3: {'nothing': 1}}, 'd56263f0671bfe181ae03695': {0: {'easy': 3, 'nothing': 2}, 1: {'nothing': 3}, 2: {'easy': 1, 'nothing': 2, 'medium': 2}, 3: {'nothing': 4, 'medium': 1, 'easy': 1}, 4: {'easy': 2, 'hard': 2, 'medium': 1, 'nothing': 1}, 5: {'nothing': 2, 'medium': 1, 'easy': 1}, 6: {'nothing': 1}, 7: {'nothing': 2, 'hard': 1, 'medium': 1}, 8: {'nothing': 5, 'easy': 4, 'medium': 1}, 9: {'nothing': 9, 'medium': 5, 'easy': 1}, 11: {'nothing': 1, 'easy': 1, 'hard': 1}, 12: {'nothing': 2, 'easy': 2, 'hard': 1}, 13: {'nothing': 3, 'easy': 1, 'hard': 2, 'medium': 1}, 14: {'nothing': 3, 'hard': 1}}, 'aca5d6344822b58a97fa8c7c': {0: {'medium': 4}, 1: {'medium': 1}, 2: {'medium': 1}, 3: {'easy': 1, 'medium': 1, 'hard': 1}, 4: {'hard': 1}}, '5f5801d2a0074e8d05ab016b': {0: {'easy': 1, 'nothing': 5}, 1: {'nothing': 6}, 7: {'medium': 1, 'hard': 1}, 12: {'nothing': 1}}, '342e34d0421defa888eff14f': {0: {'nothing': 9}}, '261d52dd2473c69da4465caa': {0: {'hard': 8}, 1: {'hard': 8}, 2: {'hard': 3, 'easy': 1}, 6: {'hard': 1}, 7: {'hard': 1, 'nothing': 1}}, '7be4f9cc8a0397f79583ac41': {0: {'nothing': 3, 'medium': 1, 'easy': 1}, 1: {'easy': 1}, 2: {'nothing': 1, 'hard': 1}, 7: {'easy': 2}, 10: {'nothing': 2}}, '13620d0620ecb66cd27a902c': {0: {'easy': 1}, 3: {'medium': 4, 'easy': 2, 'hard': 1}, 6: {'medium': 8, 'nothing': 1, 'easy': 1, 'hard': 1}, 10: {'medium': 1, 'easy': 1}, 11: {'medium': 1}, 12: {'medium': 2, 'nothing': 1}, 13: {'easy': 1, 'medium': 3}, 14: {'medium': 1, 'easy': 1}}, '58f780055f00449f48ccdc0d': {0: {'medium': 1}}, '89c80b4f3864cec7f8355ed2': {0: {'medium': 1}, 1: {'medium': 3}}, '10faebf95ab8ab9ba2f9582f': {0: {'easy': 3, 'nothing': 2}, 1: {'nothing': 3, 'easy': 1, 'medium': 1}, 2: {'easy': 5, 'nothing': 4}, 3: {'nothing': 4, 'hard': 1, 'medium': 1}, 4: {'nothing': 1}, 6: {'nothing': 1, 'easy': 1}, 7: {'nothing': 3, 'easy': 1, 'hard': 1}}, '7f92536eb1b833745339e44c': {0: {'easy': 4}, 1: {'easy': 4}, 2: {'medium': 1, 'easy': 1}, 3: {'nothing': 2, 'hard': 2, 'easy': 2, 'medium': 2}, 4: {'medium': 1}, 5: {'medium': 2, 'hard': 4, 'easy': 4, 'nothing': 3}, 6: {'hard': 1}, 9: {'easy': 1}}, '01f3a63ca77ee3fddf40685e': {0: {'nothing': 3}, 1: {'medium': 2}, 2: {'hard': 2, 'easy': 1, 'nothing': 3, 'medium': 1}, 6: {'medium': 1}, 7: {'hard': 1, 'easy': 1}, 8: {'hard': 3, 'nothing': 2}, 9: {'hard': 2}, 10: {'hard': 2}, 12: {'easy': 1, 'hard': 2, 'medium': 1}, 13: {'nothing': 6, 'hard': 2, 'easy': 2}, 14: {'nothing': 1, 'medium': 1}}, '40c67958bbad194eb415336b': {0: {'medium': 3, 'easy': 1, 'nothing': 1}, 2: {'nothing': 1, 'easy': 1}, 3: {'nothing': 6, 'medium': 1, 'hard': 1}}, '60b82300edccb77cc4a68bc2': {0: {'nothing': 1}}, '888a8cbb6d9b19fc722fc577': {0: {'easy': 6}}, 'e610d61904b860c24cca960e': {0: {'easy': 2}, 1: {'easy': 1}, 2: {'easy': 3, 'nothing': 1, 'medium': 1, 'hard': 1}, 4: {'easy': 1}, 7: {'easy': 1}, 8: {'easy': 1, 'nothing': 1}, 9: {'easy': 5, 'hard': 1}, 10: {'easy': 4, 'medium': 1, 'nothing': 1}, 11: {'easy': 1, 'hard': 1}}, '7bc140051427e5b975117bf7': {0: {'medium': 3}}, 'bf6add1f7bb7e7167d9e6cb0': {0: {'easy': 1}, 3: {'hard': 1}, 5: {'easy': 2}, 6: {'nothing': 1}, 11: {'nothing': 1, 'medium': 1}, 13: {'nothing': 2, 'easy': 2}, 14: {'medium': 1, 'hard': 2}}, '5b5666ff1a0764f5a6b8be42': {0: {'medium': 3, 'nothing': 1, 'easy': 1}, 1: {'easy': 1, 'medium': 1}}, '79c117c58c03eeba01e965cf': {0: {'hard': 4, 'medium': 1}, 1: {'hard': 2, 'nothing': 1}, 2: {'hard': 2}, 4: {'hard': 1, 'easy': 1}, 6: {'easy': 1, 'nothing': 1, 'medium': 1}, 7: {'medium': 2, 'hard': 2, 'nothing': 1}, 8: {'easy': 1, 'hard': 1}, 9: {'hard': 2, 'easy': 1}, 10: {'easy': 1}, 11: {'nothing': 1}, 13: {'nothing': 1, 'medium': 1}}, 'f12773e0f35753df9f31cd16': {0: {'nothing': 8, 'easy': 1}, 1: {'easy': 3}, 2: {'nothing': 1, 'medium': 1, 'easy': 1, 'hard': 1}, 3: {'nothing': 5, 'medium': 2, 'easy': 4}, 4: {'nothing': 3, 'medium': 1, 'easy': 1}, 6: {'nothing': 3, 'medium': 1, 'easy': 1}, 7: {'medium': 5, 'easy': 2, 'nothing': 3}, 8: {'hard': 2, 'easy': 3, 'nothing': 1}, 9: {'easy': 1, 'hard': 1, 'nothing': 2}, 10: {'hard': 1, 'easy': 1, 'medium': 1}, 11: {'easy': 2, 'nothing': 2, 'medium': 1}, 12: {'easy': 5, 'hard': 2, 'nothing': 5, 'medium': 5}, 13: {'nothing': 1, 'hard': 1}, 14: {'hard': 5, 'easy': 6, 'nothing': 1}}, '912b4e3f6fadba01a8983bb2': {0: {'easy': 1, 'medium': 1, 'nothing': 12}, 1: {'nothing': 8, 'easy': 1, 'medium': 1, 'hard': 2}, 2: {'nothing': 8, 'easy': 3, 'medium': 1}, 3: {'medium': 1}, 7: {'nothing': 9, 'medium': 1, 'easy': 2, 'hard': 1}, 8: {'nothing': 11, 'easy': 4}, 9: {'hard': 2, 'easy': 1, 'nothing': 3}, 10: {'nothing': 4, 'easy': 2, 'medium': 2, 'hard': 1}, 11: {'nothing': 5, 'easy': 1, 'medium': 1}, 13: {'nothing': 4, 'medium': 2, 'easy': 1}, 14: {'nothing': 6, 'medium': 2, 'hard': 2}}, '249dbc7bd1ef5772014ad9d9': {0: {'medium': 6, 'easy': 1, 'nothing': 1}, 1: {'easy': 1, 'nothing': 2, 'medium': 3}, 2: {'medium': 2, 'easy': 1}, 11: {'medium': 1, 'nothing': 1}, 12: {'nothing': 1}}, 'c444bf914866da9c36fcf801': {0: {'nothing': 1}, 1: {'nothing': 1}, 2: {'nothing': 2}, 6: {'nothing': 1}, 7: {'nothing': 2}, 13: {'nothing': 1, 'hard': 1}, 15: {'hard': 1}}, '6c85bfc98e08cac3406252f7': {0: {'medium': 1, 'nothing': 1}, 2: {'nothing': 2}, 5: {'nothing': 2}, 6: {'nothing': 1}, 7: {'nothing': 4}}, '33ec6d1263d859ada0eecdf0': {0: {'easy': 1, 'nothing': 1}, 1: {'nothing': 2}, 2: {'nothing': 2}, 3: {'nothing': 2, 'medium': 1, 'easy': 1}, 5: {'nothing': 1, 'hard': 1}, 6: {'nothing': 2, 'hard': 1, 'easy': 1}, 8: {'nothing': 2, 'easy': 1}, 10: {'nothing': 5, 'hard': 1, 'easy': 2}, 11: {'nothing': 7, 'hard': 1}, 14: {'nothing': 1, 'medium': 1}}, '02402b1864641d8b29af2377': {0: {'nothing': 2, 'easy': 1}}, 'b0f305eb20fd267b168c3795': {0: {'nothing': 1, 'easy': 4}, 1: {'nothing': 7}, 2: {'nothing': 1}, 3: {'nothing': 1, 'easy': 1}, 6: {'nothing': 1, 'hard': 1}, 7: {'nothing': 1, 'hard': 1}, 8: {'nothing': 4}, 10: {'medium': 2, 'easy': 2}, 13: {'nothing': 1}}, 'f62c0929108931d73b79cb86': {0: {'medium': 3, 'easy': 6, 'nothing': 7}, 1: {'easy': 1, 'nothing': 4}, 2: {'nothing': 1, 'medium': 1}, 3: {'nothing': 1}, 8: {'medium': 1, 'nothing': 1, 'easy': 1}, 10: {'nothing': 1}}, '1e80c6d1ff22683dfddee876': {0: {'nothing': 3, 'hard': 1, 'medium': 1}, 1: {'nothing': 2, 'hard': 1}, 2: {'nothing': 1, 'easy': 2}}, '5afba954c8b8118df9a336db': {0: {'medium': 4, 'easy': 2, 'hard': 6}, 1: {'easy': 2, 'medium': 10, 'hard': 1}, 2: {'easy': 3, 'medium': 2, 'nothing': 1, 'hard': 5}, 3: {'hard': 1, 'easy': 1, 'nothing': 2, 'medium': 1}, 4: {'hard': 1}, 6: {'hard': 1, 'easy': 3}, 7: {'medium': 3, 'hard': 2, 'easy': 1}, 8: {'hard': 1, 'medium': 1}, 9: {'medium': 1, 'nothing': 2}, 10: {'easy': 3, 'medium': 2, 'hard': 3, 'nothing': 4}, 11: {'nothing': 1, 'medium': 2, 'easy': 2}, 12: {'hard': 3, 'nothing': 2, 'medium': 1, 'easy': 1}, 13: {'easy': 3, 'nothing': 2, 'medium': 2, 'hard': 2}}, 'e4c7005fb56fa8ad453d0f6b': {0: {'easy': 2, 'nothing': 5}, 1: {'nothing': 10}, 2: {'nothing': 1, 'hard': 1}, 3: {'nothing': 5, 'easy': 1, 'hard': 2, 'medium': 1}, 4: {'nothing': 3, 'medium': 1, 'easy': 2}, 7: {'nothing': 5, 'medium': 2}, 8: {'nothing': 6, 'medium': 2}, 9: {'nothing': 2, 'easy': 1, 'medium': 1}, 10: {'nothing': 6, 'easy': 1, 'medium': 1}, 11: {'nothing': 2, 'easy': 2}, 13: {'nothing': 1, 'hard': 1}}, 'd9c0d33e34bb07fb5c60c6fe': {0: {'easy': 4}, 1: {'medium': 1}, 8: {'hard': 1}, 10: {'medium': 1, 'hard': 1, 'nothing': 1, 'easy': 1}}, '70272ecba88cc0321e1696b9': {0: {'easy': 7, 'nothing': 2, 'medium': 1}, 1: {'easy': 2}, 2: {'easy': 2, 'nothing': 1, 'hard': 1}, 3: {'easy': 5, 'hard': 1}, 6: {'medium': 1, 'easy': 1}, 7: {'medium': 4}, 8: {'hard': 1}, 11: {'medium': 2, 'hard': 1, 'nothing': 1}, 12: {'medium': 3, 'easy': 1, 'nothing': 1}, 13: {'medium': 5, 'hard': 2, 'nothing': 1}, 14: {'medium': 1, 'hard': 1}}, 'd0f8f37fb15a8e20e7655305': {0: {'easy': 9, 'nothing': 1}, 1: {'easy': 5, 'nothing': 1, 'medium': 1}, 2: {'easy': 3, 'medium': 1}, 3: {'easy': 2}, 4: {'easy': 1, 'medium': 1}, 9: {'easy': 1, 'nothing': 1}, 10: {'easy': 1}, 14: {'easy': 2}}, 'a937dabd26ee72b89449d42b': {0: {'easy': 2, 'medium': 3, 'nothing': 5}, 1: {'nothing': 1}, 2: {'nothing': 5, 'easy': 1}, 3: {'nothing': 1}, 4: {'nothing': 5, 'hard': 1}, 5: {'nothing': 1}, 6: {'nothing': 2}, 8: {'nothing': 3, 'hard': 2}, 10: {'nothing': 1, 'hard': 1}}, '9d9a0d84331d7d47b2fc2de6': {0: {'nothing': 4}, 1: {'nothing': 1}, 2: {'easy': 2, 'medium': 1}, 4: {'medium': 1}, 7: {'medium': 1, 'nothing': 1, 'easy': 1}, 8: {'hard': 1, 'easy': 1, 'medium': 1}, 9: {'hard': 3, 'medium': 1, 'nothing': 1}}, '83f509ac9fbc374b4df48625': {0: {'medium': 3}}, 'ddbaf5ccd132e8cd07112e62': {0: {'easy': 2}, 14: {'nothing': 1, 'hard': 1}}, '701566e334743d194ab62fb4': {0: {'nothing': 3}, 1: {'nothing': 3, 'easy': 1}, 2: {'nothing': 1, 'easy': 1}, 3: {'easy': 2, 'hard': 1, 'nothing': 1}, 4: {'easy': 2, 'hard': 2}, 6: {'easy': 3, 'nothing': 1}, 7: {'easy': 5, 'medium': 1}, 8: {'easy': 3}, 9: {'easy': 2}, 10: {'easy': 1, 'nothing': 1}, 11: {'easy': 2}, 13: {'easy': 2, 'nothing': 1, 'medium': 1}, 14: {'easy': 1, 'hard': 1}}, 'f65ff892f8fdde4e022c5d08': {0: {'medium': 1, 'nothing': 8}}, '9666e97abd6424c883108719': {0: {'easy': 4, 'nothing': 31}, 1: {'nothing': 24, 'easy': 2, 'medium': 1}, 2: {'nothing': 6, 'easy': 2, 'medium': 1}, 3: {'nothing': 6, 'easy': 2, 'medium': 2}, 4: {'nothing': 3, 'medium': 3, 'hard': 2}, 5: {'nothing': 8, 'easy': 2, 'hard': 3, 'medium': 1}, 6: {'nothing': 12, 'medium': 3, 'hard': 2, 'easy': 1}, 7: {'nothing': 18, 'hard': 1, 'easy': 9}, 8: {'easy': 3, 'nothing': 12, 'medium': 2, 'hard': 1}, 9: {'nothing': 4, 'medium': 1, 'hard': 1, 'easy': 1}, 10: {'nothing': 2, 'easy': 1, 'hard': 1}, 14: {'nothing': 2}}, 'b4bdfcb549fa4c06d4cc25a1': {0: {'easy': 8, 'nothing': 23}, 1: {'nothing': 28, 'hard': 5, 'easy': 1}, 2: {'nothing': 11, 'hard': 3, 'medium': 1, 'easy': 1}, 3: {'nothing': 6, 'easy': 3, 'medium': 1, 'hard': 2}, 4: {'nothing': 22, 'hard': 6, 'easy': 1, 'medium': 1}, 5: {'nothing': 3, 'medium': 2, 'hard': 1}, 6: {'nothing': 7, 'hard': 3, 'easy': 3, 'medium': 1}, 7: {'nothing': 18, 'hard': 5, 'medium': 3, 'easy': 1}, 8: {'medium': 3, 'nothing': 6, 'hard': 1, 'easy': 1}, 9: {'nothing': 8, 'easy': 1, 'hard': 2, 'medium': 1}, 10: {'nothing': 5, 'medium': 4, 'easy': 1}, 11: {'nothing': 13, 'easy': 5, 'medium': 2, 'hard': 2}, 12: {'nothing': 6, 'easy': 3, 'hard': 2, 'medium': 2}, 13: {'nothing': 9, 'medium': 4, 'hard': 2, 'easy': 3}, 14: {'nothing': 6, 'hard': 2}}, '0ec135009c3ceb2ce7e4a86b': {0: {'easy': 7, 'medium': 1}, 1: {'easy': 3}, 2: {'nothing': 1}, 9: {'easy': 4, 'nothing': 2, 'hard': 2}, 10: {'nothing': 2, 'easy': 3, 'medium': 3}, 14: {'easy': 7, 'nothing': 1, 'medium': 1, 'hard': 1}}, '9a6a68bcb84a7fa68172b522': {0: {'medium': 2, 'nothing': 1}, 1: {'medium': 5, 'nothing': 2}, 2: {'easy': 1, 'nothing': 3, 'medium': 1}, 3: {'easy': 3, 'medium': 6}, 4: {'medium': 3, 'hard': 1}}, 'c29d2c20ca06646df11e7210': {0: {'hard': 10, 'easy': 2}, 1: {'easy': 2, 'hard': 2}, 6: {'hard': 3, 'nothing': 2}, 7: {'hard': 5, 'medium': 3, 'easy': 3, 'nothing': 2}, 8: {'hard': 4}, 9: {'hard': 5, 'nothing': 1, 'medium': 1, 'easy': 1}, 10: {'easy': 3, 'nothing': 6, 'medium': 3, 'hard': 2}, 11: {'hard': 2, 'nothing': 2, 'medium': 1}, 13: {'medium': 6, 'easy': 1, 'nothing': 2}, 14: {'nothing': 3, 'easy': 1, 'hard': 2}}, 'b9769b47053959d340aa13a2': {0: {'easy': 2}}, 'd582a9e0f3b68e38af7c391d': {0: {'easy': 1}, 2: {'easy': 1, 'hard': 1}}, '10fa4a2d6a44bb7bf158b23f': {0: {'easy': 3}, 1: {'easy': 1}, 2: {'easy': 1}, 3: {'easy': 3, 'medium': 1, 'hard': 2}, 4: {'easy': 2}, 8: {'easy': 2, 'medium': 1, 'hard': 1}, 10: {'easy': 2}, 11: {'nothing': 1}, 14: {'easy': 2}}, '9e83d981453de9d2d2facc10': {0: {'nothing': 9}, 1: {'nothing': 6, 'hard': 1}, 2: {'nothing': 1}, 3: {'nothing': 3, 'easy': 1}, 4: {'hard': 1}, 6: {'hard': 3, 'easy': 1, 'medium': 1}, 7: {'hard': 1, 'medium': 1}, 8: {'hard': 1, 'easy': 1}, 9: {'hard': 1, 'medium': 1}, 10: {'hard': 2, 'medium': 1}, 13: {'hard': 2, 'nothing': 1}, 14: {'hard': 2}}, '6ab47e67a32f54762700652c': {0: {'nothing': 3}}, '80e94236d253c683dc021916': {0: {'medium': 1}}, 'f514edb2c12ab9f37b027bc1': {0: {'medium': 2, 'easy': 3, 'nothing': 3}, 1: {'easy': 1, 'nothing': 1}, 2: {'medium': 1}, 3: {'easy': 1, 'nothing': 1}, 4: {'nothing': 1}, 7: {'hard': 1}, 11: {'easy': 1, 'nothing': 1}, 16: {'nothing': 1, 'easy': 1}, 17: {'hard': 2, 'nothing': 2}}, '808ae7e42516e23563ad3db0': {0: {'easy': 1, 'nothing': 23}, 1: {'nothing': 25}, 2: {'nothing': 3, 'medium': 1}, 3: {'nothing': 4, 'hard': 2, 'medium': 3, 'easy': 1}, 4: {'nothing': 10, 'easy': 1, 'medium': 2, 'hard': 1}, 5: {'nothing': 2, 'hard': 1}, 6: {'medium': 1, 'nothing': 2, 'hard': 1}, 7: {'nothing': 3, 'hard': 1, 'easy': 1}, 8: {'nothing': 2, 'hard': 2}, 9: {'medium': 3, 'nothing': 2}, 10: {'nothing': 4, 'easy': 2, 'medium': 1, 'hard': 4}, 11: {'nothing': 1}, 12: {'medium': 1, 'hard': 1}, 13: {'hard': 1}, 14: {'easy': 1, 'medium': 1}}, '5576489d00e3a1419612e853': {0: {'easy': 1, 'nothing': 4}, 1: {'nothing': 1}, 2: {'nothing': 2, 'medium': 1}}, '74bc99182b3debd22f448444': {0: {'easy': 2, 'nothing': 17}}, 'e71af4ae741053636e280426': {0: {'hard': 1, 'nothing': 4, 'easy': 1}, 1: {'nothing': 2, 'hard': 2}, 3: {'medium': 1, 'nothing': 4, 'hard': 2}, 6: {'nothing': 1, 'easy': 1}, 7: {'nothing': 2}, 8: {'nothing': 3, 'medium': 1, 'easy': 1}, 9: {'nothing': 4, 'easy': 1}}, '534258958b83bb606c03bc64': {0: {'nothing': 5}, 1: {'nothing': 2}, 3: {'nothing': 3, 'medium': 2}}, 'd5f4b0b073dff2f1cd14b9e5': {0: {'easy': 3}, 1: {'easy': 8, 'nothing': 1}, 2: {'hard': 1, 'easy': 6, 'medium': 1}, 4: {'easy': 7, 'medium': 2, 'hard': 3, 'nothing': 1}, 5: {'nothing': 1, 'hard': 1}, 6: {'hard': 1, 'easy': 3, 'medium': 1}, 7: {'easy': 7, 'hard': 2, 'nothing': 1, 'medium': 3}, 8: {'easy': 8, 'medium': 1, 'hard': 1}, 9: {'easy': 9, 'nothing': 3, 'hard': 3}, 10: {'easy': 9, 'medium': 1, 'nothing': 2, 'hard': 5}, 11: {'easy': 12, 'medium': 1, 'nothing': 2, 'hard': 2}, 12: {'easy': 2, 'nothing': 1, 'hard': 1}, 13: {'nothing': 2, 'easy': 4, 'medium': 2, 'hard': 2}, 14: {'hard': 1, 'medium': 5, 'easy': 6}}, 'be07d7d1ed9bd562c2885cde': {0: {'nothing': 13}, 3: {'nothing': 1, 'medium': 1}, 6: {'nothing': 1}, 7: {'nothing': 4, 'easy': 1}, 12: {'nothing': 4}, 13: {'nothing': 3, 'medium': 1}}, '57de3e1d433bbd3e2705c255': {0: {'medium': 1, 'easy': 13}, 1: {'easy': 9, 'nothing': 1}, 2: {'easy': 8}, 3: {'easy': 10, 'nothing': 2, 'medium': 2, 'hard': 1}, 4: {'easy': 1, 'nothing': 1}, 5: {'easy': 4, 'hard': 1, 'nothing': 2}, 6: {'easy': 4, 'nothing': 2, 'medium': 1, 'hard': 1}, 7: {'easy': 2, 'hard': 1, 'nothing': 1}, 8: {'nothing': 1, 'medium': 1}, 10: {'easy': 1, 'nothing': 1}, 12: {'easy': 4, 'nothing': 1}, 13: {'easy': 1}}, 'd95e91f532e51299e1c826f8': {0: {'nothing': 11}, 1: {'nothing': 2}, 2: {'nothing': 9, 'medium': 3}, 3: {'nothing': 1}, 5: {'nothing': 2, 'easy': 1, 'medium': 1}, 7: {'nothing': 2, 'easy': 1, 'hard': 1}, 8: {'nothing': 3, 'medium': 1}, 10: {'hard': 1, 'nothing': 3}, 11: {'nothing': 2, 'hard': 1}, 12: {'nothing': 1}, 14: {'nothing': 1}}, '2d9b95f03757f0f6a787b194': {0: {'easy': 2, 'nothing': 3}, 1: {'nothing': 4}, 2: {'nothing': 7, 'easy': 1}, 3: {'nothing': 1}, 5: {'nothing': 5}, 6: {'nothing': 6}, 9: {'nothing': 2}, 10: {'nothing': 2}, 11: {'nothing': 4}}, '65d3a9df2e990ffb5ac3a058': {0: {'nothing': 6}, 1: {'nothing': 1}, 3: {'nothing': 1, 'easy': 1}, 4: {'nothing': 7, 'easy': 2}, 5: {'nothing': 2}, 6: {'hard': 1}, 7: {'nothing': 1}, 10: {'hard': 1, 'medium': 1}}, 'ca228b39972d959d30983b42': {0: {'easy': 2}, 1: {'easy': 1, 'nothing': 1}, 2: {'easy': 1, 'nothing': 1}, 8: {'easy': 3, 'medium': 1}}, 'f03b3a48cbcb6b86a9bd4938': {0: {'medium': 3, 'hard': 6}, 1: {'hard': 3}, 2: {'hard': 1, 'nothing': 1, 'easy': 2}, 3: {'medium': 1, 'easy': 1, 'nothing': 1}, 4: {'nothing': 1}, 10: {'hard': 1}}, 'e7445fe18049bb60d9e2b1a7': {0: {'easy': 1, 'nothing': 1}}, '5b79969a6d183ef27a269729': {0: {'easy': 4, 'nothing': 1}, 1: {'easy': 5}, 6: {'nothing': 2}, 13: {'hard': 1}}, '5a0089250c67d4ad2741eff9': {0: {'easy': 1}}, '4b5073768b6e2e0c49580144': {0: {'easy': 1}, 2: {'medium': 1}, 3: {'easy': 1}, 4: {'easy': 2, 'hard': 1, 'nothing': 1}, 7: {'nothing': 1}, 8: {'hard': 2, 'easy': 1}, 9: {'medium': 3, 'easy': 3, 'hard': 1}, 10: {'easy': 2}, 11: {'nothing': 1, 'easy': 2}, 12: {'easy': 1}, 13: {'medium': 1, 'easy': 1, 'nothing': 1}}, 'c58f86560c2d952e71c734a6': {0: {'easy': 1, 'nothing': 2}, 1: {'nothing': 4}, 7: {'nothing': 1, 'easy': 1}}, '2d451d8ce7f2ae51a1deca28': {0: {'medium': 5, 'hard': 2, 'easy': 7, 'nothing': 1}}, 'c8be0837b675e5cd351b22dd': {0: {'easy': 5, 'nothing': 5}}, 'b9ac76c0c1daf1d186edb213': {0: {'hard': 1, 'nothing': 1}}, '9992435f668c899f1b67bea2': {0: {'easy': 8, 'nothing': 1}, 1: {'easy': 4, 'nothing': 1, 'hard': 2}, 2: {'easy': 5, 'nothing': 2, 'medium': 1, 'hard': 1}, 3: {'easy': 5, 'hard': 4, 'nothing': 2, 'medium': 5}, 6: {'easy': 4, 'nothing': 1, 'medium': 1}, 7: {'easy': 7, 'hard': 2, 'nothing': 2, 'medium': 1}, 8: {'easy': 6, 'hard': 2, 'nothing': 1, 'medium': 1}, 9: {'easy': 3, 'hard': 1, 'medium': 2, 'nothing': 2}}, '9d9980c2b252fe2a82213041': {0: {'hard': 2}}, 'f8b8ca8526f4fb11ab41ee2c': {0: {'easy': 3}, 7: {'easy': 2, 'nothing': 1, 'medium': 1}, 8: {'easy': 1, 'medium': 1}, 13: {'easy': 1, 'nothing': 1}}, '16fa3c65a3c8a261aca0238e': {0: {'medium': 3, 'easy': 4, 'nothing': 1}, 1: {'easy': 1}, 6: {'medium': 1}}, '9043ea3d261032f351243b97': {0: {'medium': 1}}, 'c6cd0c93534949cfbc40d29a': {0: {'easy': 8, 'medium': 3, 'nothing': 4}, 1: {'nothing': 6, 'easy': 4, 'medium': 1}, 6: {'easy': 3, 'medium': 3, 'nothing': 2, 'hard': 1}, 8: {'medium': 2, 'hard': 1}}, '31b01917f9f663d51a403a8a': {0: {'medium': 1}, 4: {'nothing': 1}, 12: {'nothing': 3, 'easy': 1}, 13: {'nothing': 1}}, '02c79492594bea533c4809a7': {0: {'easy': 3, 'nothing': 4}, 1: {'nothing': 8, 'easy': 5, 'hard': 4, 'medium': 2}}, '2c3eb21c043219394029af62': {0: {'easy': 13, 'nothing': 3}, 1: {'easy': 12, 'nothing': 24, 'medium': 4, 'hard': 4}, 2: {'nothing': 4, 'medium': 1, 'easy': 1, 'hard': 1}, 3: {'nothing': 10, 'medium': 5, 'hard': 1}, 4: {'nothing': 6, 'hard': 2, 'medium': 2, 'easy': 1}, 5: {'nothing': 12, 'hard': 5, 'easy': 1, 'medium': 3}, 6: {'nothing': 5, 'easy': 2, 'medium': 3}, 7: {'nothing': 11, 'medium': 3, 'easy': 4}, 8: {'nothing': 25, 'medium': 7, 'easy': 4, 'hard': 6}, 9: {'nothing': 11, 'easy': 3, 'hard': 2, 'medium': 2}, 10: {'nothing': 3, 'easy': 3, 'medium': 2, 'hard': 2}, 11: {'nothing': 14, 'medium': 5, 'easy': 2, 'hard': 1}, 12: {'nothing': 2, 'easy': 1, 'medium': 1}, 13: {'nothing': 16, 'easy': 6, 'hard': 1, 'medium': 3}, 14: {'easy': 2, 'nothing': 1}}, 'b4eb8d08b9db2a16d95d3851': {0: {'easy': 1, 'medium': 1}, 1: {'easy': 1}, 5: {'easy': 1, 'medium': 1}}, 'd7aa390fcbdd0154bdcce726': {0: {'easy': 1, 'nothing': 1}, 1: {'nothing': 2}, 3: {'easy': 2, 'nothing': 4, 'medium': 2, 'hard': 1}, 4: {'nothing': 1, 'easy': 1}, 7: {'medium': 1}, 9: {'nothing': 1, 'easy': 1}}, '95c93dff54590ac1cb1f0d2b': {0: {'medium': 12, 'nothing': 3, 'easy': 3}, 1: {'medium': 1, 'nothing': 2}, 2: {'easy': 1}, 3: {'medium': 4, 'hard': 2, 'easy': 3, 'nothing': 2}, 4: {'hard': 2, 'easy': 2, 'medium': 3, 'nothing': 4}, 6: {'hard': 1, 'nothing': 1, 'easy': 1}, 7: {'nothing': 4, 'easy': 3, 'hard': 3, 'medium': 3}, 8: {'nothing': 8, 'medium': 3, 'hard': 3}, 9: {'nothing': 1, 'medium': 4, 'easy': 2, 'hard': 1}, 10: {'medium': 1, 'easy': 2, 'nothing': 1}, 14: {'medium': 7, 'easy': 1, 'nothing': 4, 'hard': 3}}, 'fa5b0763220518309672923c': {0: {'medium': 1}}, 'b0972e6bcb3fa2d914d7411d': {0: {'nothing': 1}, 5: {'nothing': 1}, 7: {'nothing': 1, 'easy': 1}, 8: {'medium': 1}, 12: {'nothing': 1, 'hard': 1}, 13: {'nothing': 1, 'easy': 1}}, '41ef1d27796733bf56312858': {0: {'hard': 1, 'easy': 1, 'medium': 1, 'nothing': 1}, 3: {'nothing': 1}, 6: {'hard': 1}, 7: {'nothing': 1, 'hard': 1}, 11: {'medium': 1}, 12: {'medium': 2, 'nothing': 1}, 13: {'nothing': 1}}, '9d7e4742bbaa38ee0f72c4ab': {0: {'easy': 1}}, '7dfdcbe7e4d84cc50086eae1': {0: {'nothing': 1, 'easy': 1}, 8: {'hard': 1}}, '8329a6b3c48b6f72d583d28e': {0: {'medium': 4}, 1: {'medium': 1}, 2: {'medium': 1, 'nothing': 1}, 5: {'hard': 3}, 6: {'nothing': 1}, 12: {'nothing': 1, 'medium': 1}, 14: {'nothing': 2, 'hard': 2}}, 'ab1df5ff13eb7d8c226924ca': {0: {'easy': 1, 'medium': 1}, 3: {'medium': 1}, 6: {'hard': 1}}, 'bed74a6c114fddc4e30b971e': {0: {'easy': 7, 'medium': 3}, 1: {'easy': 4, 'medium': 1}, 2: {'easy': 7, 'nothing': 2, 'medium': 2, 'hard': 2}, 3: {'medium': 3, 'easy': 4, 'hard': 2}, 4: {'hard': 2}, 5: {'nothing': 1, 'easy': 1}, 6: {'easy': 1, 'nothing': 1}, 7: {'medium': 2, 'hard': 1, 'easy': 3, 'nothing': 1}, 8: {'hard': 1, 'medium': 2}, 9: {'easy': 3, 'hard': 2, 'medium': 3, 'nothing': 1}, 10: {'easy': 3}, 12: {'easy': 2, 'medium': 2, 'hard': 1, 'nothing': 1}}, '589b11acaba20c05c950e169': {0: {'easy': 4, 'nothing': 18}}, 'f481456a3dad303b4172ebfc': {0: {'easy': 1, 'nothing': 2}, 4: {'nothing': 3, 'easy': 1}, 5: {'easy': 1}, 8: {'nothing': 1, 'easy': 1}, 9: {'nothing': 2}, 10: {'nothing': 1, 'hard': 1}, 11: {'nothing': 1, 'hard': 1}, 12: {'nothing': 2, 'hard': 1, 'easy': 1}, 13: {'nothing': 2}}, 'b01cb9c9f09623c0688ce090': {0: {'nothing': 1, 'hard': 1}, 11: {'medium': 1}}, '62bb5fe6ca192438a18bdeca': {0: {'easy': 1}, 1: {'easy': 1}}, '8f86413ff31639cc499a9c18': {0: {'easy': 2}, 1: {'nothing': 1}, 2: {'easy': 1}, 3: {'medium': 1, 'nothing': 1}, 4: {'hard': 1, 'nothing': 1}, 12: {'medium': 1}, 13: {'hard': 1, 'nothing': 1, 'easy': 3}}, '1f15aa810bcf9ba42fed6e8b': {0: {'medium': 3, 'hard': 1}, 7: {'easy': 1}, 8: {'medium': 1, 'hard': 1}}, '888396ee719332337f49e8f9': {0: {'medium': 28}}, 'a5eff1b329c748cd98ba1938': {0: {'easy': 1}, 3: {'easy': 3, 'medium': 1}, 8: {'easy': 2, 'hard': 1, 'nothing': 1}, 9: {'easy': 1, 'hard': 1}, 10: {'easy': 1, 'hard': 1}}, 'a0e2efc66049a79dec1a4494': {0: {'medium': 4}, 1: {'medium': 3, 'hard': 1}, 3: {'nothing': 1, 'medium': 1}, 6: {'nothing': 1}, 9: {'easy': 1, 'nothing': 1, 'medium': 1}, 12: {'medium': 4, 'easy': 2, 'hard': 1}}, '81adedd6fca0879e3417b5c6': {0: {'nothing': 7, 'easy': 1}}, '86b99d2433cb7999a0a75f59': {0: {'nothing': 14}, 1: {'nothing': 10, 'hard': 1, 'medium': 1}, 2: {'nothing': 1}, 3: {'hard': 1, 'easy': 1}, 4: {'easy': 1}, 6: {'nothing': 2}, 8: {'easy': 1, 'nothing': 3}, 9: {'medium': 1, 'easy': 1}, 11: {'nothing': 4, 'medium': 2, 'hard': 1}, 12: {'nothing': 2, 'hard': 1}, 13: {'easy': 1, 'nothing': 2, 'medium': 1}}, 'edcf8cecfef81b105b9baf90': {0: {'easy': 2}, 1: {'easy': 2}, 2: {'easy': 1, 'nothing': 1}, 4: {'easy': 1}, 5: {'hard': 1, 'medium': 1}, 6: {'medium': 2}, 7: {'easy': 2}, 8: {'easy': 3, 'nothing': 2}, 9: {'hard': 2, 'easy': 1}, 10: {'easy': 1, 'medium': 1}, 11: {'easy': 2, 'medium': 1, 'nothing': 1, 'hard': 1}, 12: {'hard': 2}, 13: {'easy': 2, 'hard': 2}}, '5c2338af38077b32d9108918': {0: {'medium': 11}, 1: {'medium': 7}, 8: {'medium': 2}, 9: {'nothing': 1}, 10: {'medium': 1, 'easy': 1, 'hard': 1}, 13: {'medium': 1, 'easy': 1}}, '7db1b2a595eaf3194730c4ef': {0: {'easy': 2}}, 'a1c531c5d50d6859cc9b7cba': {0: {'nothing': 1}}, 'c3b5215f82663c1921e03924': {0: {'medium': 1}, 11: {'medium': 1}}, '0a2ccff3c18ac87f50aeac2e': {0: {'easy': 6}, 1: {'easy': 1}, 9: {'easy': 2}}, '6df4eb13541b9bab5893827c': {0: {'easy': 16, 'nothing': 1}, 1: {'easy': 1, 'hard': 1}, 2: {'nothing': 1, 'easy': 1, 'medium': 1}, 3: {'easy': 2, 'nothing': 3, 'medium': 1, 'hard': 1}, 4: {'nothing': 3, 'easy': 1, 'medium': 2}, 5: {'easy': 1, 'nothing': 2, 'hard': 1}, 6: {'easy': 2, 'medium': 2}, 8: {'nothing': 1, 'hard': 1}, 9: {'nothing': 4, 'hard': 1}, 10: {'easy': 2, 'nothing': 1, 'hard': 1}}, '3509cb08a5d1dfe5aa151ef1': {0: {'medium': 12, 'hard': 1}, 1: {'medium': 1, 'nothing': 3}, 6: {'easy': 1, 'nothing': 3}, 7: {'medium': 5, 'hard': 6, 'easy': 5}, 9: {'hard': 4, 'easy': 3, 'medium': 2}, 10: {'nothing': 1, 'hard': 2, 'easy': 1, 'medium': 1}, 13: {'nothing': 4, 'hard': 3, 'easy': 1, 'medium': 1}}, '1cb42198f7dbe54ba2b38f87': {0: {'medium': 2, 'nothing': 10, 'hard': 1}, 1: {'medium': 1, 'nothing': 4}, 2: {'nothing': 2}}, 'd759c0f3f353b9c01a67b6d2': {0: {'easy': 9}, 1: {'easy': 1, 'medium': 1}, 4: {'medium': 1}}, '03d7e8890a5586100d02b455': {0: {'easy': 44, 'nothing': 1}, 1: {'easy': 13}, 2: {'easy': 4}, 5: {'easy': 1, 'medium': 1}}, '97bfeb0d88425c52d8a3027e': {0: {'easy': 2}, 1: {'easy': 1}, 2: {'easy': 1}, 8: {'nothing': 1}, 12: {'hard': 1}}, '6bbc8f6c01b33427ff8f20e9': {0: {'easy': 2}, 1: {'nothing': 1}, 5: {'easy': 6, 'nothing': 2, 'medium': 2, 'hard': 2}}, '9bef0ba41c4bf8112447751f': {0: {'easy': 2, 'nothing': 2}, 1: {'nothing': 1}}, '8ca55a8ec6a7e219d91ea4bf': {0: {'medium': 1}}, '88c17526937e4d71db03be64': {0: {'medium': 18, 'easy': 4}, 1: {'medium': 4}, 6: {'medium': 1}}, '224d58f53617988f0344f123': {0: {'easy': 1, 'nothing': 1}}, '51c07901504713d9c98e68df': {0: {'medium': 1, 'nothing': 5}, 1: {'nothing': 12, 'medium': 3, 'hard': 1}, 2: {'easy': 1, 'nothing': 1, 'hard': 2}, 3: {'nothing': 2, 'hard': 4, 'medium': 4}, 4: {'nothing': 2}, 6: {'nothing': 7, 'hard': 5}, 7: {'nothing': 4, 'medium': 2, 'hard': 2}, 8: {'nothing': 1}, 9: {'nothing': 4, 'hard': 4, 'medium': 3}, 10: {'nothing': 6, 'medium': 2, 'hard': 3}, 13: {'easy': 2, 'medium': 2, 'hard': 2, 'nothing': 5}, 14: {'nothing': 3, 'easy': 1}}, 'cb1842381e2f761ffcd8487d': {0: {'nothing': 2}, 1: {'nothing': 2, 'easy': 1}, 2: {'nothing': 1, 'easy': 1}, 5: {'nothing': 1, 'easy': 1}, 6: {'nothing': 2}, 9: {'nothing': 1, 'hard': 1}, 10: {'nothing': 3, 'medium': 1}, 11: {'nothing': 1, 'hard': 1, 'easy': 1, 'medium': 1}, 13: {'nothing': 1, 'easy': 1}}, '732afe393d04dbceadced597': {0: {'nothing': 2}}, '0bcb8a2707ddda579049411a': {0: {'easy': 1}}, '2246a9a5271f39c5ea423673': {0: {'nothing': 11, 'easy': 1}, 1: {'nothing': 1, 'easy': 1}, 13: {'nothing': 2}}, 'c69c2c3338abb57f9c41759e': {0: {'easy': 9}, 1: {'easy': 5, 'hard': 1, 'nothing': 2, 'medium': 1}, 2: {'easy': 1}, 3: {'easy': 3}, 6: {'easy': 7, 'medium': 1, 'nothing': 1}, 8: {'easy': 4, 'hard': 1}, 10: {'easy': 1}, 13: {'easy': 4, 'nothing': 2, 'medium': 1}}, 'f9b725441992ed816e95f604': {0: {'nothing': 31, 'easy': 11}, 1: {'nothing': 8}, 2: {'nothing': 1}, 6: {'nothing': 1, 'medium': 1}, 8: {'easy': 1, 'nothing': 1}, 10: {'nothing': 1, 'medium': 1}, 11: {'nothing': 3, 'easy': 1, 'hard': 1}, 13: {'easy': 1, 'medium': 1}}, '81d4c9f009041d36390ab8c2': {0: {'easy': 23, 'nothing': 4}, 1: {'easy': 19, 'nothing': 3, 'medium': 1}, 2: {'easy': 6, 'nothing': 1, 'hard': 1, 'medium': 3}, 3: {'nothing': 1, 'hard': 1}}, 'a5a049cd2bab39f3510e4ba0': {0: {'easy': 1}}, 'fd59a976555665e4803b6697': {0: {'easy': 1}, 6: {'nothing': 2, 'easy': 1, 'medium': 1}, 7: {'nothing': 1}}, '42dabb6f76c14499d5ee6912': {0: {'easy': 1, 'nothing': 1}, 2: {'nothing': 3, 'medium': 1}, 3: {'nothing': 3, 'medium': 2, 'easy': 1, 'hard': 1}, 8: {'nothing': 4}, 9: {'nothing': 1, 'hard': 1}, 11: {'nothing': 2}, 12: {'nothing': 3, 'hard': 1}}, '05b366cdd164a0c75444211a': {0: {'easy': 3, 'nothing': 6}, 1: {'nothing': 1, 'medium': 1}, 6: {'easy': 1}}, '7ffed03a0d4068755649fe0e': {0: {'medium': 6, 'hard': 2}, 1: {'hard': 5, 'nothing': 1, 'medium': 1}, 2: {'medium': 9, 'nothing': 2, 'easy': 2, 'hard': 2}, 13: {'medium': 4, 'hard': 2}}, '446f670f708701f29dce9d13': {0: {'medium': 2}, 1: {'medium': 2}}, '29a294d5022abbed46d7f769': {0: {'hard': 2, 'nothing': 1}, 1: {'hard': 1}, 2: {'medium': 1, 'hard': 1}, 5: {'easy': 1}, 9: {'hard': 1, 'nothing': 1}, 10: {'hard': 2}, 11: {'easy': 2}, 12: {'hard': 1, 'medium': 1}, 13: {'hard': 1}}, '1786e8a0563835887cdb2c5f': {0: {'medium': 2, 'hard': 2, 'easy': 1}, 1: {'hard': 2, 'easy': 1, 'medium': 1}, 2: {'nothing': 2, 'hard': 4, 'easy': 1, 'medium': 1}, 3: {'hard': 2}, 6: {'hard': 3, 'medium': 2}, 7: {'easy': 2, 'hard': 1}, 8: {'medium': 2, 'hard': 1, 'nothing': 2}, 9: {'hard': 3, 'nothing': 1}, 10: {'hard': 4, 'nothing': 6, 'easy': 1}, 13: {'hard': 1, 'nothing': 1, 'easy': 3}}, '983a486781e3e918068e4db2': {0: {'easy': 1}}, 'ae2daaf6ea8742b94d3961ce': {0: {'medium': 10}, 1: {'nothing': 7}, 3: {'nothing': 3, 'medium': 1, 'easy': 1}, 5: {'nothing': 1, 'hard': 1}, 6: {'nothing': 3, 'hard': 1}, 8: {'nothing': 2, 'medium': 1}, 11: {'nothing': 2, 'easy': 1, 'hard': 1}, 12: {'medium': 2, 'nothing': 1}}, 'baf4b9669d93a18ac2027501': {0: {'hard': 2}, 3: {'hard': 1, 'medium': 1}, 4: {'nothing': 5, 'easy': 1, 'hard': 3}, 5: {'nothing': 4, 'hard': 1, 'easy': 2}, 6: {'nothing': 4, 'medium': 2, 'easy': 1}, 7: {'nothing': 1}, 8: {'nothing': 1, 'hard': 1, 'easy': 1}, 9: {'nothing': 7, 'easy': 1, 'hard': 1, 'medium': 1}, 10: {'nothing': 7, 'hard': 2}, 11: {'nothing': 3, 'medium': 1, 'easy': 2}, 12: {'nothing': 3, 'medium': 4, 'hard': 1, 'easy': 2}, 13: {'medium': 1, 'nothing': 2, 'hard': 1, 'easy': 1}}, '7f0abbf14a84e8aedb8cc1ec': {0: {'easy': 2}}, '5ac0f6d9fd6e5bf200e3fbe3': {0: {'easy': 6}, 1: {'easy': 3, 'nothing': 3}, 2: {'easy': 7, 'medium': 4}, 4: {'easy': 4, 'hard': 1}, 5: {'medium': 5, 'easy': 5, 'nothing': 4, 'hard': 3}, 6: {'easy': 9, 'nothing': 2, 'hard': 1, 'medium': 3}, 7: {'medium': 8, 'nothing': 5, 'hard': 2, 'easy': 3}, 8: {'easy': 7, 'medium': 5, 'nothing': 5, 'hard': 2}, 9: {'medium': 1, 'hard': 2, 'nothing': 1}, 10: {'medium': 1}, 11: {'nothing': 1, 'medium': 4, 'hard': 1}, 12: {'medium': 8, 'hard': 1, 'nothing': 1, 'easy': 2}, 13: {'medium': 12, 'easy': 1, 'nothing': 4, 'hard': 1}}, '245d29343e544a271a6cadbe': {0: {'hard': 3, 'nothing': 2, 'medium': 1}, 1: {'hard': 4, 'medium': 1}, 2: {'medium': 1, 'hard': 1, 'easy': 1}, 3: {'nothing': 4}, 6: {'nothing': 1, 'hard': 1}, 7: {'hard': 5, 'nothing': 1, 'easy': 1}, 8: {'hard': 3, 'nothing': 1, 'easy': 1}, 9: {'nothing': 2, 'hard': 1}, 10: {'hard': 1}, 11: {'hard': 1, 'nothing': 2}, 13: {'hard': 2, 'easy': 2, 'nothing': 1}}, 'd7cba1b962a93a469c0a2dce': {0: {'easy': 7, 'nothing': 2}, 1: {'easy': 3, 'medium': 2, 'hard': 1}, 2: {'medium': 1, 'easy': 1, 'nothing': 1}, 3: {'nothing': 2, 'medium': 1}, 4: {'nothing': 4, 'easy': 3, 'hard': 5, 'medium': 1}, 5: {'nothing': 4, 'easy': 6, 'hard': 1, 'medium': 2}, 6: {'medium': 2, 'easy': 9, 'hard': 2}, 7: {'easy': 5, 'medium': 4, 'hard': 1}, 8: {'easy': 4, 'nothing': 2}, 9: {'easy': 4, 'hard': 1, 'medium': 1, 'nothing': 4}, 10: {'easy': 6, 'nothing': 5, 'medium': 1}, 11: {'easy': 2, 'hard': 1}, 12: {'easy': 3, 'hard': 1}, 13: {'easy': 2, 'medium': 3, 'hard': 1}}, '479fef99bde018542c146cb2': {0: {'easy': 2}, 1: {'easy': 3, 'hard': 1}, 2: {'easy': 7, 'hard': 1, 'medium': 2, 'nothing': 1}, 3: {'easy': 1, 'nothing': 1}, 6: {'nothing': 1}, 7: {'easy': 1, 'nothing': 2}, 8: {'easy': 1, 'nothing': 1}, 9: {'easy': 2, 'hard': 1}, 13: {'easy': 2}}, '52846205d51666aee56fe6b4': {0: {'easy': 7}, 1: {'easy': 9, 'medium': 2, 'nothing': 2, 'hard': 3}, 2: {'easy': 5, 'hard': 1, 'medium': 1, 'nothing': 1}, 3: {'medium': 1}, 5: {'easy': 7, 'nothing': 2}, 6: {'easy': 6, 'medium': 1, 'hard': 3}, 8: {'easy': 2, 'medium': 1}, 9: {'medium': 2, 'hard': 2, 'easy': 4}}, '22eb55c78d5201e911c557b9': {0: {'medium': 1}, 1: {'medium': 1}, 12: {'hard': 1}}, '61d874ca0c2a34c6f566e296': {0: {'hard': 3}, 2: {'easy': 1}, 3: {'hard': 2}, 9: {'hard': 1}}, 'eeb8ea3e4b4a8b0b7af5fbff': {0: {'medium': 2}, 1: {'medium': 2}, 5: {'medium': 1, 'hard': 1, 'nothing': 1}, 7: {'nothing': 1, 'easy': 2, 'medium': 1}, 12: {'easy': 1, 'hard': 1, 'nothing': 2}, 13: {'easy': 1}}, '083484c72a0458ebe49e2f0c': {0: {'nothing': 4, 'easy': 1}, 1: {'nothing': 1, 'hard': 1}}, 'c6716979e3aa463dcaa08de9': {0: {'nothing': 27}, 1: {'nothing': 7, 'hard': 1}, 2: {'nothing': 4, 'medium': 1, 'hard': 2}, 3: {'nothing': 8, 'easy': 2, 'medium': 2}, 4: {'easy': 1, 'nothing': 3, 'hard': 1, 'medium': 1}}, '2b2a12be4b8bfbd8bfe3a7b5': {0: {'medium': 7}, 1: {'medium': 4}, 8: {'medium': 1, 'nothing': 1}, 14: {'easy': 1}}, '72f871e50682e95ee10f2071': {0: {'easy': 3, 'hard': 1, 'nothing': 4}, 1: {'hard': 1, 'nothing': 1, 'easy': 1}, 2: {'nothing': 1}, 6: {'hard': 2, 'nothing': 1}}, '390275163862e3184041b7d6': {0: {'nothing': 17, 'hard': 3, 'easy': 1}, 1: {'nothing': 15, 'hard': 2}, 2: {'nothing': 5, 'hard': 1, 'medium': 2}, 3: {'nothing': 5, 'hard': 3, 'easy': 1, 'medium': 1}, 4: {'nothing': 1, 'hard': 1}, 5: {'nothing': 7, 'hard': 2, 'medium': 1}, 6: {'nothing': 12, 'hard': 3, 'medium': 2, 'easy': 1}, 7: {'nothing': 2, 'hard': 2}, 8: {'nothing': 6, 'hard': 1}, 9: {'nothing': 7, 'easy': 4, 'hard': 1}, 10: {'hard': 1, 'easy': 1, 'nothing': 6}, 12: {'nothing': 3, 'medium': 1, 'easy': 1}, 13: {'medium': 1, 'hard': 1, 'nothing': 1}}, '0ceba574984e5e8d5f1fe887': {0: {'nothing': 27}, 1: {'nothing': 30, 'easy': 1, 'hard': 1}, 2: {'nothing': 1, 'medium': 1}, 3: {'nothing': 1, 'medium': 1}, 4: {'nothing': 3, 'medium': 1}, 6: {'nothing': 2, 'easy': 1, 'hard': 1}}, 'b79e6d45f59e9d6f0ee826e6': {0: {'medium': 2, 'easy': 1}, 1: {'medium': 1, 'nothing': 1}, 4: {'medium': 2, 'nothing': 5}, 5: {'easy': 5, 'hard': 1, 'medium': 2, 'nothing': 1}, 6: {'easy': 1, 'medium': 5, 'hard': 1, 'nothing': 1}, 7: {'nothing': 6, 'easy': 3, 'hard': 2, 'medium': 2}, 8: {'medium': 1, 'easy': 2, 'hard': 1}, 11: {'easy': 1, 'nothing': 1}, 12: {'easy': 2, 'medium': 1, 'nothing': 1}}, '00e42779517d6567934a0c12': {0: {'easy': 1, 'nothing': 2}}, '853e27562825ec6ce4d70f9e': {0: {'easy': 2}, 7: {'nothing': 1, 'easy': 1}, 13: {'nothing': 1}}, '4dcfe9277d61b3cb739b352e': {0: {'easy': 15}, 1: {'easy': 6, 'nothing': 5}, 2: {'nothing': 7, 'medium': 3, 'hard': 2, 'easy': 2}, 3: {'nothing': 2, 'medium': 1, 'easy': 1}, 4: {'nothing': 7, 'medium': 1, 'hard': 2}, 5: {'nothing': 5, 'hard': 1, 'easy': 1, 'medium': 1}, 6: {'nothing': 7, 'easy': 1, 'hard': 2}, 7: {'nothing': 4, 'medium': 1, 'easy': 3}, 8: {'nothing': 3, 'easy': 2, 'medium': 2}, 9: {'nothing': 6, 'hard': 2}, 10: {'nothing': 1}}, 'dc5a5ace834049dd7d5462fc': {0: {'easy': 2, 'nothing': 11}, 1: {'nothing': 16, 'hard': 4, 'easy': 1, 'medium': 1}, 2: {'nothing': 9, 'hard': 4, 'easy': 2}, 3: {'nothing': 11, 'easy': 2, 'medium': 2}, 4: {'nothing': 10, 'medium': 2, 'hard': 2, 'easy': 1}, 5: {'nothing': 3, 'medium': 1, 'hard': 1}, 6: {'nothing': 16, 'medium': 1, 'easy': 7, 'hard': 1}, 7: {'nothing': 18, 'medium': 3, 'hard': 2, 'easy': 2}, 8: {'nothing': 9, 'hard': 5, 'easy': 2}, 9: {'medium': 3, 'nothing': 15, 'easy': 3}, 10: {'nothing': 12, 'hard': 1, 'easy': 3, 'medium': 3}, 11: {'nothing': 8, 'medium': 1}, 12: {'nothing': 4, 'hard': 2, 'easy': 1, 'medium': 1}, 13: {'nothing': 7, 'hard': 3, 'medium': 2, 'easy': 1}}, 'ae5b13d494c1a62ed4afdb5a': {0: {'hard': 2, 'easy': 1, 'nothing': 1}, 1: {'nothing': 1, 'medium': 1}}, 'deb2d1581cce279f66b42f2f': {0: {'easy': 7, 'medium': 2}, 1: {'medium': 1, 'nothing': 3}, 5: {'nothing': 1}, 6: {'easy': 1, 'hard': 1, 'medium': 1}, 7: {'hard': 1, 'medium': 1, 'easy': 1, 'nothing': 1}, 8: {'easy': 1, 'nothing': 1}, 9: {'nothing': 1}, 12: {'easy': 1}, 13: {'easy': 2, 'nothing': 1}}, '32b7d0faf9f9d81e19b69801': {0: {'easy': 1, 'nothing': 3}, 1: {'easy': 1, 'nothing': 1, 'hard': 1}, 2: {'hard': 1, 'nothing': 1, 'easy': 1}, 3: {'nothing': 1, 'medium': 1}, 6: {'nothing': 2, 'hard': 1, 'medium': 1}, 7: {'nothing': 1, 'medium': 1}, 8: {'nothing': 1, 'hard': 1}, 9: {'nothing': 1, 'easy': 1}, 10: {'nothing': 2, 'hard': 1, 'easy': 1}, 13: {'nothing': 1, 'medium': 1}}, 'dec8dca1cdde8c630ddc9586': {0: {'nothing': 6}, 1: {'nothing': 21}, 3: {'easy': 1}, 5: {'medium': 1}}, '8e0b558819abe7b68376fb49': {0: {'easy': 9, 'nothing': 1}}, 'a421530a0b41f36964e06e07': {0: {'medium': 6, 'easy': 3}, 1: {'medium': 16}, 7: {'medium': 1, 'easy': 1}, 12: {'medium': 1, 'easy': 1}, 13: {'hard': 1}}, '520c3de88286dce20409c548': {0: {'medium': 1, 'nothing': 7}, 1: {'medium': 2, 'easy': 1, 'hard': 1}, 2: {'nothing': 1, 'medium': 1}, 5: {'nothing': 3, 'hard': 1, 'medium': 1}, 6: {'nothing': 5, 'hard': 1, 'easy': 1, 'medium': 1}, 7: {'easy': 1}, 8: {'nothing': 1, 'medium': 1}, 9: {'easy': 1}, 12: {'nothing': 1}, 13: {'nothing': 1, 'medium': 1}}, 'fdcc56aaaf99dd533ccba6f4': {0: {'nothing': 1, 'easy': 2}, 1: {'easy': 3, 'nothing': 1}, 2: {'medium': 3, 'easy': 4, 'nothing': 2, 'hard': 1}, 3: {'easy': 1, 'medium': 1}, 5: {'nothing': 2}, 6: {'nothing': 2, 'hard': 1, 'medium': 1}, 7: {'nothing': 1, 'hard': 1}, 8: {'nothing': 1, 'hard': 1}, 9: {'nothing': 2}, 12: {'nothing': 1, 'medium': 1}}, 'cdaf3a57cf44e2c4841dfbe7': {0: {'easy': 1, 'hard': 1, 'medium': 4}, 1: {'medium': 1}, 13: {'medium': 1, 'nothing': 1}}, '5a9064f149b96d7682dd2c05': {0: {'medium': 6}, 1: {'medium': 24}, 2: {'medium': 1, 'hard': 1}, 3: {'easy': 2}, 4: {'medium': 6, 'easy': 6, 'nothing': 2, 'hard': 3}, 5: {'hard': 1}, 6: {'medium': 1, 'nothing': 1, 'easy': 1}, 7: {'hard': 1, 'medium': 1}, 8: {'medium': 4, 'easy': 2, 'nothing': 3}, 9: {'medium': 5, 'nothing': 1, 'easy': 1, 'hard': 1}, 10: {'hard': 1, 'easy': 2}, 11: {'nothing': 5, 'medium': 4}, 12: {'nothing': 1}, 13: {'medium': 1, 'easy': 1}}, '9bb1275c2109db3dbda923b6': {0: {'easy': 1}}, '08bf1f6049d676e37c53c1c6': {0: {'easy': 1}}, '5ee8a58dc90aee0a927253da': {0: {'nothing': 3}, 2: {'nothing': 2}, 6: {'nothing': 2}}, '04cb406a86f41d123d033df5': {0: {'medium': 1}, 1: {'nothing': 1, 'hard': 1}, 2: {'medium': 1, 'hard': 1}, 4: {'nothing': 2, 'medium': 1}, 5: {'easy': 2, 'medium': 1}, 6: {'medium': 4, 'nothing': 2}, 7: {'medium': 4, 'easy': 1, 'nothing': 3}, 8: {'medium': 2, 'easy': 1, 'nothing': 1}, 10: {'medium': 3, 'nothing': 1}, 12: {'nothing': 1}, 13: {'medium': 1, 'easy': 1}}, 'a73fc6100fc7b36fccda09c1': {0: {'hard': 1, 'medium': 1}, 1: {'medium': 2, 'nothing': 1, 'hard': 1}, 3: {'medium': 1, 'easy': 1}, 5: {'medium': 2}}, '18fd76ce7e1453aef7b7db6a': {0: {'easy': 7, 'nothing': 8}, 5: {'nothing': 2, 'easy': 1}, 7: {'nothing': 5, 'medium': 2, 'hard': 1}, 9: {'nothing': 1}}, '0d76cf226739fd47504f3419': {0: {'hard': 4, 'nothing': 15, 'medium': 1, 'easy': 1}, 1: {'nothing': 4}}, '9bc442506dce1174d09df63d': {0: {'easy': 2}, 1: {'easy': 2}}, 'cabc3c0e3edace7ae74f10ff': {0: {'nothing': 3, 'easy': 2}}, '6fc1e674c501abff15478951': {0: {'nothing': 1, 'easy': 2}, 1: {'medium': 2, 'hard': 1}, 2: {'medium': 1}, 3: {'medium': 1, 'hard': 1}, 5: {'nothing': 1}, 6: {'medium': 1, 'easy': 1, 'nothing': 1}, 8: {'easy': 1, 'medium': 1}, 9: {'medium': 1}, 10: {'easy': 2, 'nothing': 1, 'medium': 1}}, '31e596293f1b747f8d70bca6': {0: {'medium': 4}, 1: {'medium': 1, 'nothing': 1, 'hard': 1, 'easy': 1}, 2: {'nothing': 3, 'easy': 3, 'medium': 1}, 3: {'nothing': 1, 'medium': 1, 'hard': 1}, 5: {'medium': 3, 'nothing': 2, 'easy': 1}, 12: {'nothing': 1, 'easy': 2, 'medium': 5, 'hard': 1}}, '4be101903d60060a5246ff8d': {0: {'easy': 2, 'nothing': 2}, 11: {'nothing': 1}}, 'df39dc27b7b3d14e185bf971': {0: {'easy': 6, 'nothing': 2}, 1: {'nothing': 3, 'easy': 2, 'medium': 1, 'hard': 2}, 2: {'easy': 1, 'nothing': 5, 'hard': 4, 'medium': 1}, 3: {'easy': 2, 'hard': 2, 'nothing': 1, 'medium': 2}, 6: {'easy': 2, 'medium': 2, 'hard': 1, 'nothing': 1}, 7: {'easy': 2, 'medium': 2, 'nothing': 1}, 8: {'easy': 1, 'medium': 1, 'nothing': 1}, 9: {'nothing': 1, 'easy': 1, 'medium': 1}, 10: {'nothing': 4, 'hard': 1, 'medium': 1}, 13: {'nothing': 6, 'hard': 2, 'easy': 1}, 14: {'hard': 1, 'easy': 1}}, '50962c2bcc457556a4f772a6': {0: {'nothing': 5}, 1: {'nothing': 2}}, '4e362b95c6df1a3cecaa840d': {0: {'medium': 7, 'easy': 1}, 1: {'medium': 1, 'easy': 1}, 2: {'easy': 1, 'nothing': 1}, 3: {'medium': 5, 'nothing': 2, 'hard': 2, 'easy': 2}, 5: {'nothing': 1, 'hard': 1}, 6: {'medium': 1, 'nothing': 1}, 10: {'medium': 2, 'hard': 1, 'nothing': 1}, 11: {'easy': 2, 'hard': 1, 'nothing': 1}, 13: {'medium': 3, 'hard': 2, 'easy': 1}, 14: {'medium': 3, 'nothing': 1}}, '3061dadf37f968be128be643': {0: {'medium': 4, 'easy': 1}, 1: {'medium': 1, 'easy': 2, 'nothing': 1}, 3: {'easy': 2}, 5: {'easy': 1}, 6: {'nothing': 2}, 7: {'nothing': 1, 'easy': 1}, 8: {'nothing': 1}, 10: {'nothing': 1, 'hard': 1}}, '614717e256b0641e6e164cee': {0: {'easy': 1, 'nothing': 3}, 1: {'nothing': 5}, 2: {'nothing': 2}, 3: {'hard': 1, 'nothing': 1, 'easy': 1}, 6: {'nothing': 4, 'hard': 1}, 8: {'nothing': 4, 'easy': 3, 'hard': 1}, 9: {'nothing': 1}, 10: {'nothing': 3, 'medium': 2}, 13: {'nothing': 4, 'medium': 1, 'easy': 1, 'hard': 1}, 14: {'nothing': 5}}, '057e5488a29cc41f6cd9c1f1': {0: {'easy': 2, 'nothing': 3}, 1: {'nothing': 2, 'easy': 3}, 4: {'nothing': 1, 'easy': 1}, 5: {'hard': 1, 'nothing': 1, 'medium': 1}}, 'dcaed829e2e5c27ce03ce989': {0: {'medium': 1}, 1: {'nothing': 1}}, '6cc338474e7bad2bdfc60220': {0: {'easy': 2, 'nothing': 4, 'medium': 1}, 1: {'nothing': 4, 'easy': 3}, 2: {'medium': 1, 'nothing': 2, 'hard': 1}, 3: {'medium': 3, 'easy': 2, 'nothing': 4, 'hard': 1}, 5: {'medium': 1, 'nothing': 1}, 6: {'hard': 1, 'nothing': 2, 'easy': 1}, 7: {'nothing': 3, 'hard': 1, 'medium': 1, 'easy': 1}, 8: {'nothing': 4, 'hard': 1, 'easy': 3}, 9: {'medium': 1, 'nothing': 2, 'easy': 2}, 10: {'nothing': 4, 'easy': 1, 'hard': 1}, 11: {'nothing': 4, 'easy': 1, 'medium': 1}, 12: {'nothing': 8, 'easy': 1, 'hard': 3}, 13: {'nothing': 2, 'easy': 2, 'hard': 1, 'medium': 1}}, 'b867c0732ae73e65e5c5d04c': {0: {'hard': 2, 'medium': 1, 'nothing': 14, 'easy': 1}, 1: {'nothing': 5}, 3: {'hard': 2, 'nothing': 2}, 4: {'medium': 1, 'easy': 1}, 8: {'medium': 1, 'nothing': 1}, 9: {'hard': 1}}, '167d49d8ac3c5084c8578cd8': {0: {'easy': 1, 'nothing': 2}}, 'ad2067006f5f8789af765a93': {0: {'medium': 6, 'hard': 2}, 2: {'easy': 2, 'medium': 2}, 3: {'easy': 2, 'medium': 2}}, '1a74c23b526ed866f0441444': {0: {'easy': 4}, 1: {'easy': 1, 'medium': 1, 'nothing': 1}, 2: {'easy': 2, 'medium': 1, 'hard': 1}, 3: {'easy': 2, 'hard': 1, 'nothing': 1}, 7: {'medium': 2, 'hard': 1, 'easy': 1}, 8: {'easy': 2}, 10: {'easy': 1, 'medium': 1}, 11: {'easy': 2}, 12: {'easy': 1}, 13: {'easy': 1, 'nothing': 1}}, 'c8fd6298fac362660b73a575': {0: {'easy': 81}, 1: {'easy': 53}, 2: {'easy': 1}, 9: {'hard': 1}}, 'f9f56ae22f8c8f8b3be5c721': {0: {'nothing': 12}, 2: {'nothing': 1, 'hard': 1}, 4: {'nothing': 2, 'hard': 1, 'medium': 1}, 5: {'nothing': 2, 'easy': 1, 'medium': 1}, 6: {'nothing': 1, 'medium': 1}, 7: {'nothing': 4, 'easy': 3}, 8: {'hard': 1}, 9: {'nothing': 3, 'hard': 1, 'easy': 1, 'medium': 1}, 10: {'hard': 1}}, 'c8577e093d7fe810875fe6d8': {0: {'nothing': 1}}, '764dbd0f45344ce8acc0b5b7': {0: {'easy': 1, 'nothing': 1}, 4: {'nothing': 1}, 5: {'easy': 2, 'nothing': 1, 'medium': 1}, 12: {'nothing': 1, 'medium': 1}}, '8740753bc56765de36b8f3c5': {0: {'easy': 3}, 1: {'easy': 5}, 2: {'nothing': 1}, 3: {'easy': 1}, 7: {'medium': 1, 'easy': 2}, 9: {'nothing': 1}, 14: {'easy': 3, 'nothing': 1, 'medium': 2, 'hard': 1}}, '5ceae2be942ca91f09ab25a7': {0: {'easy': 2}, 1: {'easy': 1, 'medium': 1}, 2: {'nothing': 1, 'easy': 1}, 3: {'easy': 3, 'medium': 3}, 4: {'nothing': 1, 'easy': 1}, 5: {'nothing': 2}, 6: {'nothing': 6, 'easy': 1}, 7: {'nothing': 3, 'medium': 2, 'easy': 1}, 8: {'nothing': 1}, 12: {'easy': 2}, 13: {'nothing': 2, 'hard': 1, 'medium': 1, 'easy': 1}}, '41f84ae15ef6ceff96100ed1': {0: {'nothing': 12}, 1: {'nothing': 15, 'hard': 3}, 3: {'nothing': 1, 'easy': 1, 'hard': 2}, 4: {'nothing': 1, 'easy': 1}, 6: {'nothing': 3, 'easy': 1}, 8: {'nothing': 3}, 9: {'nothing': 2}, 10: {'nothing': 1, 'hard': 1}, 13: {'nothing': 3}, 14: {'hard': 7, 'nothing': 8, 'medium': 7, 'easy': 12}}, '389225459f4f381bceb54a50': {0: {'medium': 9, 'hard': 5, 'nothing': 1, 'easy': 2}, 1: {'hard': 6, 'medium': 3, 'nothing': 2}, 3: {'nothing': 1, 'easy': 1, 'medium': 1}, 4: {'nothing': 1, 'medium': 1}, 5: {'nothing': 4, 'easy': 1, 'hard': 2, 'medium': 1}, 7: {'nothing': 7, 'easy': 7, 'medium': 3, 'hard': 5}, 8: {'nothing': 2, 'easy': 1, 'hard': 1}, 10: {'medium': 1, 'easy': 1, 'hard': 1}, 11: {'nothing': 1, 'hard': 1}, 12: {'nothing': 4, 'medium': 1}}, 'd4a038a453375df9c65e649d': {0: {'nothing': 1, 'easy': 4}, 2: {'easy': 2}, 4: {'easy': 2, 'medium': 1, 'nothing': 1}, 7: {'easy': 2, 'hard': 1, 'medium': 1}, 8: {'easy': 4, 'hard': 1, 'medium': 1}, 9: {'easy': 6, 'hard': 2, 'nothing': 1}, 10: {'easy': 4, 'hard': 2, 'medium': 1, 'nothing': 1}, 11: {'easy': 6, 'nothing': 2, 'medium': 1}}, '7ca23e369cabab564ecc5736': {0: {'easy': 1}}, '103772fa497e2ef41ee388d8': {0: {'nothing': 1}, 6: {'easy': 1, 'medium': 1}, 9: {'nothing': 1}}, 'd1f959c7c153b7ae35edea72': {0: {'hard': 3, 'easy': 1, 'medium': 2}, 1: {'hard': 5, 'medium': 1}, 7: {'easy': 1}}, '9f3129c405ff69ff1b3a2770': {0: {'easy': 4}, 1: {'nothing': 1}, 2: {'nothing': 1, 'hard': 1}, 4: {'easy': 1, 'nothing': 2}, 5: {'easy': 1, 'nothing': 1}, 6: {'nothing': 2}, 7: {'medium': 1}, 8: {'nothing': 2}, 12: {'nothing': 1, 'medium': 1}, 14: {'nothing': 1, 'medium': 1}}, '55250ea1a39bee4e179afacb': {0: {'medium': 1}}, '3bfb7c877495da1f2c842870': {0: {'easy': 3, 'hard': 1}, 2: {'easy': 1}, 4: {'medium': 1, 'hard': 1}, 5: {'hard': 1}, 7: {'nothing': 1, 'hard': 1}, 8: {'hard': 1}}, 'bd957de7e373d97d41183426': {0: {'medium': 1}}, '07f7f0e2d150369c2c9e3572': {0: {'easy': 5}, 1: {'easy': 2, 'hard': 1, 'nothing': 1}, 7: {'easy': 3}}, '76104886c10c66e7aab98ebe': {0: {'nothing': 7}, 1: {'nothing': 4}, 3: {'hard': 1}, 4: {'nothing': 1, 'hard': 1}, 8: {'nothing': 2, 'easy': 1}, 9: {'nothing': 3, 'medium': 1}, 12: {'nothing': 1, 'hard': 1}}, '83fdcbc465453b24679f0e9b': {0: {'easy': 1, 'nothing': 2}}, 'd78c52763e5c63ec12ef91a7': {0: {'easy': 5}, 2: {'easy': 1, 'medium': 1}, 9: {'easy': 1}}, 'df562ee9326fd9d6a8d0493d': {0: {'medium': 14}, 1: {'medium': 7, 'hard': 1}, 2: {'medium': 2, 'nothing': 1, 'easy': 3, 'hard': 1}, 3: {'medium': 5, 'easy': 4}, 4: {'hard': 2, 'medium': 2}}, 'b0a3555873eacc7e6a28b104': {0: {'easy': 1, 'nothing': 3, 'medium': 1}, 1: {'nothing': 4, 'easy': 1, 'hard': 4, 'medium': 1}, 3: {'medium': 1}, 6: {'easy': 2, 'nothing': 3}, 8: {'hard': 1}, 12: {'nothing': 1, 'hard': 1}, 13: {'nothing': 4, 'medium': 1, 'easy': 1, 'hard': 1}}, '8e3e99e74cc64b76a977d6c2': {0: {'medium': 2, 'nothing': 1}}, '268fbe11f10c2f893781a86e': {0: {'medium': 1, 'hard': 1}, 7: {'easy': 1, 'hard': 1}}, '4d99e8cdfa7fe3d533b9745f': {0: {'easy': 1}, 6: {'nothing': 5, 'hard': 1, 'medium': 2, 'easy': 1}, 8: {'easy': 1}, 9: {'nothing': 1, 'hard': 1}, 10: {'nothing': 2}, 12: {'nothing': 3}}, '26b80f17f51f0f27c26327d9': {0: {'nothing': 1}}, '0b512bed9bc3716c1117a521': {0: {'easy': 2}, 1: {'medium': 1, 'nothing': 1}, 3: {'medium': 1}, 4: {'easy': 1, 'medium': 1}, 5: {'easy': 2}, 6: {'nothing': 1}, 11: {'nothing': 6, 'medium': 1, 'hard': 1}, 12: {'easy': 1}}, '2306f17da7e078289ff94437': {0: {'easy': 1, 'nothing': 2}, 1: {'hard': 2, 'medium': 1, 'nothing': 1}, 2: {'nothing': 1, 'medium': 1}, 3: {'hard': 1, 'medium': 1}, 4: {'nothing': 3, 'hard': 2, 'easy': 1}, 6: {'nothing': 3, 'medium': 2}, 7: {'nothing': 2, 'medium': 3}, 8: {'nothing': 2, 'easy': 2, 'medium': 1, 'hard': 1}, 9: {'nothing': 3}}, '51c4b8746e08a513d0f5916f': {0: {'easy': 3}, 1: {'easy': 5, 'hard': 2}, 3: {'nothing': 2, 'easy': 1, 'medium': 1}, 4: {'nothing': 2}, 5: {'nothing': 1}, 6: {'medium': 1}}, 'aa707648e359b70b424933e3': {0: {'medium': 2}, 1: {'nothing': 2, 'medium': 1}, 2: {'medium': 1, 'nothing': 2, 'hard': 1}, 3: {'medium': 1, 'easy': 1}, 5: {'medium': 1, 'hard': 1}, 6: {'easy': 1}, 9: {'medium': 2, 'hard': 1, 'nothing': 1}, 13: {'medium': 1, 'easy': 1}}, 'eb2621c317e7446ad8f3f1f4': {0: {'easy': 1}, 1: {'medium': 1, 'nothing': 2, 'easy': 1, 'hard': 1}, 2: {'easy': 1, 'medium': 2}, 4: {'easy': 1, 'hard': 1}, 6: {'nothing': 2}, 7: {'nothing': 4, 'easy': 2, 'medium': 1}, 8: {'nothing': 1, 'medium': 1}, 9: {'hard': 1}, 12: {'nothing': 2, 'hard': 1, 'medium': 1}, 13: {'easy': 1}}, 'd4d7fc6a23f0fc1c30a1cdd5': {0: {'easy': 12, 'nothing': 13}, 1: {'nothing': 5, 'easy': 9, 'medium': 1}, 2: {'hard': 1}, 7: {'medium': 1}, 8: {'nothing': 1}, 9: {'medium': 1}, 11: {'hard': 1}}, '34f4f1ffb7bdd7765dfac9a0': {0: {'nothing': 1, 'hard': 1}, 2: {'hard': 1}, 3: {'easy': 1, 'nothing': 1}, 8: {'easy': 1, 'hard': 1}, 9: {'nothing': 1, 'easy': 1}, 10: {'nothing': 1, 'hard': 1}, 14: {'nothing': 1, 'easy': 1}}, 'ed906381847fef32519dca51': {0: {'easy': 4}}, '71aadc5ff3e384da50b1e7fd': {0: {'nothing': 2}}, 'b897d8aa5f98412ed2728c09': {0: {'easy': 1}, 10: {'nothing': 2}}, '78408af649dd586576edab66': {0: {'easy': 4, 'nothing': 2}, 1: {'nothing': 2}, 2: {'nothing': 1}, 3: {'hard': 1}, 5: {'medium': 1}, 6: {'nothing': 1, 'hard': 1, 'easy': 1}, 7: {'medium': 1}}, 'ffffd52cfa5f2e9bf6a10f0a': {0: {'easy': 2, 'nothing': 2}, 1: {'easy': 1, 'hard': 1}, 2: {'easy': 4, 'hard': 2, 'nothing': 2}, 3: {'medium': 3, 'easy': 2, 'hard': 1, 'nothing': 1}, 6: {'easy': 5, 'hard': 1, 'medium': 1, 'nothing': 1}, 7: {'easy': 1, 'hard': 1}}, '946d3f0144f49b641b23d10c': {0: {'easy': 1, 'nothing': 1}, 1: {'easy': 2, 'nothing': 1}, 2: {'medium': 1}, 8: {'nothing': 1, 'easy': 2}, 13: {'easy': 1, 'nothing': 1}, 14: {'hard': 1}}, 'fbb257cf531138519bddf084': {0: {'easy': 4, 'nothing': 1}}, '15182050961fe5b6b51277ac': {0: {'easy': 5, 'nothing': 1}, 1: {'easy': 2}, 10: {'hard': 2}, 12: {'easy': 1, 'nothing': 1}, 13: {'easy': 1, 'medium': 1}}, '9f2a40a13ba640089c553221': {0: {'medium': 1, 'hard': 2}, 1: {'medium': 2}, 3: {'easy': 1, 'hard': 1}, 5: {'easy': 2, 'hard': 1, 'nothing': 1}, 6: {'easy': 4, 'nothing': 1, 'medium': 2, 'hard': 4}, 7: {'medium': 1}, 8: {'easy': 3, 'nothing': 1}, 9: {'easy': 2, 'nothing': 1}}, '310f89cf21281b27d434c2c7': {0: {'easy': 2, 'nothing': 5}, 1: {'easy': 2, 'nothing': 6, 'hard': 1}, 2: {'nothing': 5, 'hard': 1}, 4: {'nothing': 1, 'hard': 1}, 8: {'nothing': 1, 'easy': 1}, 12: {'hard': 1}, 13: {'easy': 1}}, '1e36759d62b51ee55127e3ea': {0: {'easy': 8}, 2: {'hard': 1, 'easy': 2, 'nothing': 1}, 4: {'easy': 2}}, '475e889d20140acc374dc8df': {0: {'nothing': 4}, 1: {'nothing': 1, 'easy': 1}, 3: {'nothing': 1, 'hard': 1}, 9: {'nothing': 1, 'medium': 1}}, '9457cef4b3bde71691a23e27': {0: {'nothing': 2, 'easy': 1}, 1: {'nothing': 4, 'easy': 1}, 3: {'hard': 1}, 10: {'hard': 1}}, '0576e33e9656e70e42809000': {0: {'easy': 2}, 1: {'easy': 2}, 2: {'easy': 2, 'medium': 3}, 3: {'easy': 1, 'nothing': 1}, 6: {'nothing': 1}, 7: {'hard': 1, 'easy': 2}, 9: {'easy': 2, 'nothing': 1, 'medium': 1}}, '53c0fea8a3fe5fba4ebda953': {0: {'medium': 1}, 9: {'nothing': 1, 'easy': 1}}, '974ce09b370f04eb60cca20c': {0: {'easy': 1, 'nothing': 1}}, '672ee80648388a96a496c67a': {0: {'easy': 2, 'nothing': 1}}, '13fa72924b5f4e242b79ea98': {0: {'easy': 2, 'medium': 1}, 5: {'medium': 1, 'nothing': 1, 'easy': 1}, 6: {'easy': 1}, 9: {'nothing': 1, 'hard': 1}}, 'e0c2d589a97e54d104aaf20f': {0: {'nothing': 1}, 1: {'nothing': 2, 'easy': 2}, 3: {'easy': 2, 'nothing': 2}, 4: {'easy': 2, 'nothing': 5, 'hard': 1}, 5: {'hard': 2, 'nothing': 1, 'easy': 1}, 6: {'nothing': 4, 'easy': 4}, 7: {'nothing': 3, 'medium': 1}, 8: {'easy': 1, 'nothing': 1}, 9: {'nothing': 3, 'medium': 1, 'easy': 1}}, 'c360bda9083464a313c3d433': {0: {'easy': 3}, 1: {'easy': 6, 'medium': 2}, 2: {'easy': 4}, 3: {'easy': 1, 'medium': 1}, 4: {'easy': 1, 'nothing': 2, 'medium': 1}, 5: {'nothing': 1}, 7: {'easy': 1, 'nothing': 1}, 8: {'easy': 2, 'medium': 1}, 9: {'easy': 1}}, '29c9ecdd69f93e2fd3da2901': {0: {'medium': 4, 'easy': 1}, 1: {'easy': 4, 'nothing': 1}, 2: {'easy': 4}, 5: {'easy': 1}, 6: {'easy': 2, 'nothing': 1, 'hard': 2}, 7: {'easy': 2, 'hard': 1, 'medium': 1}, 8: {'easy': 2, 'nothing': 2}, 9: {'easy': 1, 'hard': 1, 'medium': 1}, 10: {'easy': 1, 'hard': 1}, 12: {'easy': 4}}, 'c9337b5331942cc77a1dcb5d': {0: {'nothing': 1}}, 'd9663de4d0124faa17426389': {0: {'medium': 2, 'nothing': 2, 'easy': 2}, 1: {'medium': 2, 'hard': 2, 'easy': 2}, 8: {'easy': 2}, 9: {'easy': 1, 'hard': 1}, 10: {'nothing': 1, 'medium': 1}, 13: {'easy': 1}}, '28ae4bcee9e60f01e2ff592a': {0: {'nothing': 4, 'easy': 1, 'medium': 1}, 6: {'medium': 1}, 7: {'easy': 4, 'nothing': 1, 'hard': 1}, 8: {'easy': 2}, 12: {'easy': 1, 'medium': 1}, 13: {'easy': 2}}, '4cbcece86b63558a939b1195': {0: {'easy': 1}}, 'bf915c3007979242bde4c39c': {0: {'easy': 1, 'nothing': 1}, 1: {'nothing': 2, 'hard': 1}, 4: {'nothing': 1, 'easy': 1}, 8: {'hard': 1}, 9: {'nothing': 1, 'easy': 1}, 10: {'nothing': 2}, 13: {'nothing': 1, 'hard': 1}}, '2bc37f68bc25090ca616dad3': {0: {'medium': 7, 'easy': 1, 'nothing': 1}, 5: {'medium': 2, 'nothing': 1, 'easy': 1}}, '56306df6e1b7069210a9a9aa': {0: {'nothing': 3, 'easy': 1}, 1: {'easy': 1, 'nothing': 2}, 3: {'nothing': 1}}, 'f2b7b18eee41f36c4378d68f': {0: {'easy': 1}}, 'b1176f621b5dbdcdc00e2603': {0: {'medium': 2}, 1: {'medium': 2}}, '131b8588bce3f9496dd7a766': {0: {'medium': 2, 'easy': 1}, 1: {'medium': 2, 'easy': 3, 'nothing': 1}}, '44e1491ea993238234ffb95b': {0: {'medium': 2}}, '6c2584797ff3e54db977f190': {1: {'nothing': 1}, 0: {'easy': 2, 'nothing': 5}, 2: {'nothing': 3, 'hard': 1, 'medium': 1}, 5: {'nothing': 1}, 8: {'nothing': 2}, 9: {'nothing': 2, 'hard': 1}, 10: {'nothing': 1}, 14: {'nothing': 1, 'easy': 1, 'medium': 1}}, 'e84ebcbdece5a606a5177097': {0: {'medium': 6, 'nothing': 2}}, '6fa1251b3247ad735045d133': {0: {'hard': 1, 'nothing': 6}, 1: {'nothing': 2, 'hard': 2}}, '2630dcf65f95d2ede589c5f6': {0: {'nothing': 1}, 10: {'nothing': 1, 'hard': 1}}, '51635b984ff479a475421d01': {0: {'easy': 4}, 3: {'easy': 1, 'medium': 1, 'hard': 1}, 4: {'nothing': 1}, 5: {'easy': 1, 'medium': 1}, 7: {'easy': 1, 'medium': 1, 'hard': 1}, 8: {'easy': 2, 'hard': 1}, 10: {'medium': 2}, 11: {'nothing': 3, 'medium': 1, 'easy': 1}, 12: {'hard': 1}, 13: {'medium': 1}}, 'f12f63a378a8ce4a1f9e856b': {0: {'easy': 1}, 7: {'medium': 1}, 8: {'nothing': 1}, 9: {'easy': 2, 'hard': 1, 'nothing': 1}, 12: {'easy': 1, 'hard': 1}}, 'bff440437a5be8e0c175aaf0': {0: {'easy': 2}, 1: {'medium': 1}, 3: {'easy': 1}, 5: {'nothing': 1}, 7: {'nothing': 1}}, '9da1d823cec91d3780cbceb2': {0: {'nothing': 2}, 5: {'nothing': 1}}, '6751d267a976e214e678b276': {0: {'hard': 2, 'medium': 3, 'easy': 1}, 5: {'hard': 1}, 7: {'medium': 1}, 10: {'easy': 1}}, '44ba0161172ec028af754247': {0: {'easy': 14}, 1: {'easy': 6}, 2: {'easy': 1, 'medium': 1}, 3: {'easy': 1, 'medium': 1, 'nothing': 1}, 9: {'easy': 1, 'hard': 1}, 13: {'easy': 2, 'nothing': 2}, 14: {'medium': 1}}, 'b104f0690eb75c9b284157a3': {0: {'easy': 1}}, 'fce645da940c68947a2865bb': {0: {'easy': 1, 'nothing': 1}, 5: {'medium': 2}, 6: {'medium': 1}, 10: {'nothing': 1, 'medium': 1}}, 'db4815bf423993303baf4a31': {0: {'hard': 2, 'easy': 1, 'nothing': 1}, 4: {'hard': 5, 'easy': 1, 'nothing': 2}, 5: {'hard': 2, 'medium': 2}, 6: {'hard': 1, 'easy': 1}, 9: {'medium': 1}, 11: {'hard': 2}, 12: {'easy': 1}}, 'd5bedf70921c6159855d6c56': {0: {'nothing': 5, 'easy': 1}, 1: {'nothing': 5}, 2: {'nothing': 1}, 3: {'nothing': 7, 'medium': 2, 'hard': 2}, 4: {'nothing': 7, 'easy': 1, 'hard': 1, 'medium': 1}, 6: {'nothing': 3, 'medium': 1}, 7: {'nothing': 6, 'medium': 1, 'easy': 1}, 8: {'nothing': 1}, 9: {'nothing': 1}, 10: {'nothing': 6, 'medium': 1, 'hard': 1, 'easy': 1}, 11: {'hard': 1, 'easy': 1}}, 'e48b57bc484668fd268fc877': {0: {'easy': 1}}, '8c8129e93451e4194b8a0705': {0: {'hard': 1}}, 'e901e68c5a9e04b80a111da7': {0: {'nothing': 2}, 10: {'nothing': 1, 'easy': 1}}, '2872b0d0ad0cf96c92f69376': {0: {'easy': 7, 'medium': 2}}, '350240ac1aed84fc034ef0d9': {0: {'easy': 1, 'medium': 9}, 1: {'easy': 1}, 8: {'medium': 2}, 9: {'nothing': 1}}, '5deeac7f63626bfde2338471': {0: {'hard': 1, 'nothing': 1}}, '9a78251e828c3d8d2ae63a9f': {0: {'nothing': 1}}, 'bd106a69ac43a326070997b4': {0: {'nothing': 2}}, '77b741ea3e0c89d5ea3a7e50': {0: {'medium': 1}, 13: {'hard': 1}}, '68a7150509fe7bd1b41cdc58': {0: {'nothing': 2, 'easy': 3}, 2: {'hard': 1}, 5: {'easy': 2}, 6: {'medium': 2, 'nothing': 1, 'easy': 1}, 7: {'medium': 1, 'nothing': 1}, 8: {'medium': 1, 'nothing': 1}}, 'aa243450f621903aef8ef38e': {0: {'hard': 1, 'nothing': 2}, 1: {'nothing': 2}, 2: {'hard': 1, 'nothing': 1, 'medium': 1}, 3: {'nothing': 2, 'medium': 2}, 4: {'hard': 1, 'nothing': 1, 'easy': 1}, 6: {'nothing': 5, 'easy': 1}, 7: {'nothing': 4, 'easy': 1, 'medium': 1, 'hard': 1}, 8: {'hard': 1, 'nothing': 11, 'easy': 2, 'medium': 1}, 9: {'nothing': 5, 'medium': 1, 'easy': 1}, 10: {'nothing': 1}, 11: {'nothing': 1}, 12: {'nothing': 2}, 13: {'nothing': 6, 'easy': 1, 'hard': 1}}, '9fb33ce5003bfe9345f8ff18': {0: {'hard': 3}, 1: {'nothing': 2, 'hard': 6, 'medium': 2}, 2: {'nothing': 1, 'medium': 2, 'hard': 1, 'easy': 1}, 4: {'easy': 2, 'hard': 1}, 5: {'medium': 5, 'hard': 9, 'nothing': 2, 'easy': 1}, 6: {'hard': 2, 'nothing': 1}, 7: {'hard': 2, 'nothing': 1}, 8: {'hard': 3, 'easy': 1, 'medium': 2}, 9: {'hard': 2}, 11: {'hard': 8, 'nothing': 3}, 12: {'hard': 6, 'nothing': 2, 'easy': 4, 'medium': 1}}, '87b94cae027b319b5ede42d4': {0: {'nothing': 2, 'easy': 6, 'hard': 1}, 1: {'medium': 4, 'easy': 4, 'hard': 1}, 2: {'nothing': 5, 'easy': 6, 'medium': 2}, 3: {'easy': 6, 'hard': 1, 'medium': 1}, 4: {'easy': 9, 'medium': 5, 'nothing': 4}, 5: {'easy': 4, 'nothing': 1, 'hard': 1, 'medium': 2}, 6: {'easy': 11, 'nothing': 2, 'medium': 1, 'hard': 2}, 7: {'nothing': 3, 'hard': 1, 'easy': 5, 'medium': 2}, 8: {'medium': 3, 'easy': 3, 'nothing': 3, 'hard': 1}, 9: {'easy': 3, 'nothing': 1, 'hard': 5, 'medium': 1}, 10: {'hard': 5, 'medium': 4, 'easy': 6, 'nothing': 4}, 11: {'medium': 1, 'hard': 3, 'easy': 2, 'nothing': 1}, 12: {'medium': 4, 'easy': 3, 'hard': 1}, 13: {'nothing': 1, 'medium': 1, 'hard': 1, 'easy': 1}}, '4a34efaa691756a18af45817': {0: {'nothing': 3}, 1: {'nothing': 1, 'hard': 1}, 2: {'nothing': 1, 'easy': 1}, 3: {'nothing': 1}}, '05fb859582ca77a3cc336407': {0: {'easy': 1}, 5: {'easy': 2}, 10: {'easy': 2, 'medium': 2}}, '602f037f733be179de683312': {0: {'medium': 18, 'nothing': 10}, 1: {'easy': 2, 'nothing': 4}, 2: {'nothing': 3, 'hard': 1, 'easy': 1, 'medium': 1}}, 'b755196673711336b6bb6409': {0: {'nothing': 5}, 3: {'nothing': 2}, 4: {'nothing': 4}, 5: {'nothing': 5}, 6: {'nothing': 4}, 7: {'nothing': 7}, 11: {'nothing': 1}, 14: {'nothing': 1}, 18: {'medium': 1}, 20: {'nothing': 1, 'easy': 1}}, '6484007555c64b753670fda8': {0: {'easy': 3, 'nothing': 1, 'medium': 1, 'hard': 1}, 1: {'easy': 4, 'nothing': 2}, 2: {'hard': 1, 'nothing': 1, 'easy': 2, 'medium': 2}, 3: {'easy': 1, 'nothing': 1, 'medium': 2}, 5: {'hard': 1, 'easy': 1}, 6: {'nothing': 1, 'easy': 1}, 7: {'hard': 1}, 9: {'easy': 4, 'hard': 1, 'medium': 1}}, 'b2772df727ad33cd34c53847': {0: {'medium': 1, 'easy': 1}, 1: {'easy': 2}, 4: {'easy': 1}, 5: {'medium': 1}}, 'ab7b7b02751979d396c60f3c': {0: {'medium': 10}, 1: {'medium': 23, 'hard': 5, 'easy': 4, 'nothing': 3}, 2: {'hard': 3, 'easy': 6, 'medium': 3, 'nothing': 3}, 6: {'nothing': 2, 'medium': 2}, 9: {'nothing': 2, 'medium': 1, 'easy': 1}, 12: {'nothing': 1, 'easy': 1}, 13: {'medium': 5, 'hard': 6, 'nothing': 2, 'easy': 2}}, '908af43fb9f18489c3ab8fba': {0: {'easy': 1, 'medium': 2}, 1: {'medium': 2, 'nothing': 1}, 5: {'easy': 1}, 6: {'medium': 2, 'nothing': 1}, 7: {'nothing': 4, 'hard': 2, 'medium': 4}, 8: {'nothing': 10, 'medium': 5, 'hard': 2, 'easy': 1}, 9: {'nothing': 2}, 13: {'nothing': 4, 'hard': 3, 'easy': 1}}, 'fed078a8a181b7dce3608616': {0: {'easy': 3, 'medium': 2, 'nothing': 1}, 1: {'easy': 12, 'medium': 3, 'nothing': 1, 'hard': 1}}, '0096425d15d512c160337ea2': {0: {'easy': 9, 'medium': 2, 'nothing': 2}, 1: {'easy': 9}, 5: {'hard': 2, 'medium': 5, 'easy': 2}, 6: {'nothing': 2, 'hard': 2, 'easy': 2}, 7: {'hard': 1}, 8: {'easy': 2, 'hard': 1}}, '46020ed0c4c60faec4e26d34': {0: {'easy': 3, 'hard': 2, 'nothing': 3}, 2: {'nothing': 1, 'medium': 1}, 4: {'hard': 2, 'nothing': 3}, 9: {'nothing': 3, 'medium': 1}, 10: {'nothing': 1, 'hard': 1}, 11: {'nothing': 2, 'easy': 1, 'hard': 1}}, 'e0b72fce18d8319ad6cd8d95': {0: {'easy': 2, 'medium': 1}, 1: {'easy': 3}, 3: {'hard': 1}, 5: {'medium': 1, 'easy': 1}, 8: {'hard': 2, 'easy': 1, 'medium': 1}, 9: {'easy': 2, 'hard': 2, 'nothing': 1}, 10: {'hard': 2, 'easy': 2, 'nothing': 1}, 11: {'hard': 1, 'easy': 1, 'nothing': 1, 'medium': 2}, 12: {'hard': 1, 'medium': 2, 'easy': 1}}, 'fa84c0d7e5f7496020e5fc88': {0: {'easy': 6}}, '0b2139cbbed6338a4a70c727': {0: {'easy': 12}, 1: {'easy': 4}, 4: {'nothing': 1, 'easy': 1, 'medium': 1}, 5: {'nothing': 1, 'hard': 1}, 7: {'hard': 2, 'nothing': 1, 'medium': 1}, 10: {'easy': 1, 'nothing': 1}, 11: {'medium': 1, 'hard': 1}, 12: {'hard': 1, 'medium': 1, 'nothing': 1}, 13: {'medium': 1}, 14: {'nothing': 1}}, 'df32b5f8171148ac0e003926': {0: {'medium': 5}, 3: {'nothing': 1}, 4: {'nothing': 1, 'medium': 1}, 7: {'medium': 1, 'easy': 6, 'hard': 2, 'nothing': 1}, 9: {'easy': 7, 'medium': 1, 'nothing': 1}, 10: {'nothing': 1}}, '3691e034ce57ed1f0a9ad149': {0: {'medium': 3, 'hard': 1}, 5: {'medium': 1, 'easy': 1}}, 'ec951df260c6d955a109109e': {0: {'nothing': 18, 'hard': 2, 'medium': 3, 'easy': 5}, 1: {'easy': 1}, 2: {'medium': 1, 'nothing': 3, 'hard': 1}}, 'ad04661710960cda309d95d3': {0: {'nothing': 1}, 8: {'nothing': 1, 'hard': 1}}, '3fdbece9158860761128ba65': {0: {'nothing': 5}, 3: {'nothing': 4, 'hard': 1, 'medium': 1}, 5: {'nothing': 1, 'easy': 1}, 6: {'nothing': 1, 'easy': 1}, 7: {'nothing': 2, 'medium': 1}, 12: {'nothing': 1, 'easy': 1}}, '671ba7c15989dcb3b689de87': {0: {'easy': 1}, 1: {'nothing': 1, 'medium': 1}, 5: {'easy': 1}}, 'd478578bed937d42fdbd11cb': {0: {'hard': 4, 'easy': 2}, 1: {'easy': 3}}, '05fb99a0bd1af5a3d117b067': {0: {'medium': 4, 'easy': 1}}, '4d03c8f3116cd70167f988f3': {0: {'nothing': 3}, 3: {'nothing': 1}}, '56ea29a247d3552f15e9af0c': {0: {'easy': 3, 'medium': 1}, 1: {'easy': 3, 'medium': 1}, 7: {'easy': 2}}, 'f3abd3b694ed2816a545c7f2': {0: {'easy': 6}, 1: {'easy': 2, 'hard': 1, 'nothing': 1}, 3: {'medium': 2}, 4: {'nothing': 2, 'easy': 2, 'medium': 1}, 7: {'easy': 2}, 8: {'medium': 1, 'hard': 2, 'easy': 1, 'nothing': 1}, 9: {'easy': 1, 'hard': 1}, 10: {'easy': 2}, 11: {'easy': 2, 'nothing': 2}, 13: {'easy': 2}}, '1399de3053ec55ad58b578b3': {0: {'medium': 9}, 1: {'medium': 3, 'nothing': 2}, 2: {'nothing': 1}}, 'ec1e902605ea4f604976ec01': {0: {'nothing': 1, 'medium': 1, 'easy': 1}, 2: {'nothing': 1, 'medium': 1}}, 'a156dae63d70d6761a6e6bde': {0: {'medium': 1, 'easy': 1}, 8: {'easy': 1}}, 'a90f18b34d0e56064491312f': {0: {'nothing': 5}, 1: {'nothing': 3}}, 'e3ae90d77f3759507a990d26': {0: {'medium': 1}, 4: {'medium': 1}, 11: {'easy': 1}}, '9a195e4c8ee96305a7e5468c': {0: {'nothing': 1}, 2: {'medium': 2, 'hard': 1}, 3: {'medium': 1}, 4: {'medium': 1}}, 'dcd0e131d5a7ba5dd2ff231a': {0: {'easy': 2}, 3: {'easy': 1}}, '47540ee13469c284abf72cd2': {0: {'medium': 1}, 2: {'easy': 1}, 6: {'easy': 1}, 7: {'easy': 6, 'hard': 4, 'nothing': 2}, 8: {'hard': 1, 'easy': 1}, 11: {'nothing': 1}}, '6128eea7b9ac03c573a554c8': {0: {'nothing': 1}}, 'c2638306a7ca5953fe1f5fe9': {0: {'medium': 1}}, '0bca07bdb36cd6fc1857875b': {0: {'nothing': 1, 'easy': 2}, 1: {'easy': 1, 'medium': 1}, 2: {'easy': 1, 'hard': 1}}, 'f7dcf1a4155e3f6e26121f66': {0: {'nothing': 1, 'easy': 5, 'medium': 1}, 1: {'easy': 34, 'medium': 2}}, '9356c73590d289f3d6a4047c': {0: {'nothing': 1}, 2: {'nothing': 1}, 11: {'easy': 1}}, 'b2f85c4568378e9fc3d6106c': {0: {'easy': 4}}, 'd372cdbd25b8e69a5d7b272b': {0: {'medium': 2}, 1: {'nothing': 1}}, '675bcefd263b5e615dccd5b5': {0: {'hard': 4, 'medium': 1, 'nothing': 1}, 1: {'hard': 3}, 2: {'medium': 2, 'nothing': 4}, 3: {'nothing': 4, 'easy': 2, 'hard': 2}, 4: {'nothing': 2, 'hard': 1, 'easy': 1}, 5: {'nothing': 3, 'hard': 2, 'easy': 1}, 6: {'nothing': 3, 'hard': 3, 'medium': 1}, 7: {'nothing': 1, 'hard': 1}, 8: {'nothing': 9, 'hard': 2, 'medium': 1}, 9: {'nothing': 3, 'medium': 2, 'easy': 1}, 10: {'nothing': 1, 'easy': 1}, 12: {'nothing': 2, 'medium': 2}}, 'f5838380084243cc3f47dd09': {0: {'medium': 2, 'nothing': 1, 'easy': 1}, 1: {'nothing': 3}}, 'f10cefa3eb836dd4989a9629': {0: {'medium': 1, 'nothing': 12, 'easy': 1}, 1: {'nothing': 2}, 3: {'nothing': 6, 'easy': 1, 'medium': 1}, 6: {'easy': 2, 'nothing': 1}, 7: {'hard': 2, 'nothing': 3}, 9: {'nothing': 1, 'hard': 1}, 10: {'nothing': 1}, 13: {'nothing': 1, 'hard': 1}}, '6dee0ec21dacd3987e29ac87': {0: {'easy': 2}}, 'c744c0bc5712f11cc8871133': {0: {'medium': 1, 'easy': 2}, 1: {'nothing': 1, 'hard': 1}}, '540d97d23fcd21f2ccd33f4d': {0: {'hard': 1}}, '103cbd2a32af6bccc4ea44f9': {0: {'easy': 6}, 3: {'easy': 1, 'hard': 1}, 6: {'easy': 3, 'medium': 1}, 7: {'easy': 2}, 8: {'easy': 2}}, '8d8e7f54d9213bf2d0c6bd3b': {0: {'easy': 1, 'medium': 1}, 2: {'hard': 1}, 4: {'medium': 1}, 5: {'hard': 2, 'easy': 1}, 6: {'nothing': 1}, 10: {'easy': 1}}, 'fe4aa6723dd0a02ab7419129': {0: {'easy': 1, 'medium': 15, 'hard': 1}}, '62a234f5087e93e7e250a506': {0: {'easy': 1}}, '58f949727904ff567e776ee0': {0: {'easy': 11}, 2: {'easy': 2}, 3: {'easy': 5, 'nothing': 1, 'medium': 2}, 4: {'easy': 2, 'hard': 2}, 5: {'easy': 1, 'medium': 1}, 6: {'easy': 2, 'hard': 1, 'medium': 1}, 7: {'easy': 2, 'medium': 2}, 8: {'easy': 1, 'nothing': 1}, 9: {'easy': 1, 'medium': 1}, 10: {'easy': 1, 'nothing': 1}, 12: {'easy': 2, 'nothing': 1, 'hard': 1}, 13: {'easy': 2, 'hard': 1}}, 'b319510a208d7c170cc32793': {0: {'easy': 2, 'nothing': 2}, 1: {'nothing': 2}, 2: {'nothing': 2}, 6: {'nothing': 2}}, '1a64d81c1cacfbd86921e11f': {0: {'nothing': 1, 'hard': 1, 'medium': 1}, 1: {'easy': 1, 'hard': 2}}, '2c26c0c8cc69f38fd87cd972': {0: {'medium': 2}, 1: {'medium': 1, 'easy': 1}}, '3449ec0f70e0dc8fce3896ef': {0: {'hard': 13, 'nothing': 3}, 1: {'nothing': 3, 'hard': 1, 'easy': 1}, 2: {'medium': 4, 'hard': 6, 'easy': 1, 'nothing': 2}, 3: {'hard': 4, 'medium': 1, 'nothing': 1, 'easy': 1}, 6: {'easy': 7, 'medium': 4, 'hard': 9, 'nothing': 4}, 7: {'hard': 12, 'nothing': 4, 'easy': 2, 'medium': 3}, 8: {'hard': 8, 'medium': 3}, 9: {'hard': 8, 'nothing': 1, 'easy': 1, 'medium': 1}, 10: {'hard': 3, 'nothing': 1, 'easy': 2}, 13: {'hard': 3, 'easy': 1, 'nothing': 2}, 14: {'hard': 3, 'nothing': 2, 'easy': 1, 'medium': 1}}, 'ae329eb0e218c9346460fbd6': {0: {'nothing': 4, 'easy': 1}, 1: {'nothing': 2, 'medium': 1}, 3: {'medium': 1}, 9: {'nothing': 1, 'medium': 1}, 12: {'hard': 1}}, 'e4ef2bc5ce5729ca106d8947': {0: {'easy': 5, 'medium': 1}, 1: {'medium': 1, 'easy': 6, 'nothing': 1}, 2: {'easy': 6, 'hard': 1, 'nothing': 1, 'medium': 1}, 3: {'easy': 1, 'medium': 2}, 4: {'medium': 3, 'hard': 1, 'easy': 2, 'nothing': 1}, 5: {'easy': 3, 'medium': 1, 'hard': 1, 'nothing': 1}, 6: {'easy': 6, 'nothing': 4}, 7: {'easy': 1, 'medium': 3}, 9: {'easy': 4, 'nothing': 2, 'hard': 2}, 10: {'easy': 2, 'hard': 1, 'nothing': 1}, 14: {'easy': 3, 'nothing': 1}}, '7051d260ac5ed2f4a9d6c10c': {0: {'easy': 1}, 1: {'easy': 3}, 7: {'easy': 3, 'medium': 3}, 10: {'easy': 1, 'hard': 1}}, '643e0a107b70b227561e791f': {0: {'easy': 1}}, '2a47820fda1cd579b9903c60': {0: {'medium': 3}, 2: {'medium': 1, 'easy': 1}, 3: {'nothing': 1}, 5: {'hard': 2, 'easy': 1}, 6: {'hard': 3, 'medium': 4, 'easy': 3, 'nothing': 1}, 7: {'hard': 1, 'medium': 2, 'easy': 1}, 8: {'nothing': 6, 'hard': 5, 'medium': 1, 'easy': 4}, 9: {'easy': 3, 'hard': 2, 'medium': 4}, 12: {'medium': 1, 'nothing': 1}, 13: {'easy': 1}}, '819c4e48cc09b78ccc15402d': {0: {'easy': 4, 'nothing': 6}, 1: {'nothing': 1}, 2: {'nothing': 2, 'hard': 1, 'easy': 1}, 3: {'nothing': 5, 'medium': 1}, 5: {'nothing': 1, 'hard': 1}, 7: {'nothing': 5, 'medium': 2, 'easy': 1}}, '4519fefa6da435bdb5f2af96': {0: {'easy': 5, 'nothing': 2}, 1: {'easy': 2}}, 'bb71277ef41c1bdefd8d1f9b': {0: {'medium': 2}, 1: {'medium': 2, 'easy': 1}}, '738c961597cfefd4f402e5eb': {0: {'easy': 3}, 1: {'easy': 1}, 3: {'easy': 1, 'nothing': 1}, 5: {'easy': 1}, 8: {'easy': 1, 'hard': 1}, 9: {'easy': 1, 'medium': 1}, 12: {'easy': 1}, 13: {'easy': 1, 'hard': 1}}, 'a5b34585600b76da74c31fd8': {0: {'medium': 1}}, '156847d77c430978deaee435': {0: {'medium': 1, 'nothing': 2, 'hard': 1, 'easy': 1}, 1: {'nothing': 1, 'medium': 1}, 2: {'medium': 1, 'hard': 2}, 3: {'easy': 1, 'medium': 1}, 5: {'easy': 1}, 6: {'hard': 2, 'nothing': 1}, 7: {'hard': 1}, 8: {'nothing': 2}, 9: {'nothing': 3, 'hard': 1}, 11: {'nothing': 1}, 13: {'nothing': 1, 'easy': 1}, 14: {'nothing': 1}}, 'ece3375d579d801620037228': {0: {'easy': 10, 'hard': 2, 'nothing': 1}, 1: {'easy': 1}, 2: {'easy': 2, 'nothing': 1, 'medium': 1}, 8: {'easy': 2, 'medium': 2}, 10: {'easy': 5, 'medium': 1}, 11: {'easy': 1, 'hard': 1}, 12: {'easy': 1, 'nothing': 1}, 14: {'easy': 1, 'medium': 1}}, 'b825dc1b4aa00ef503e59475': {0: {'easy': 5}, 1: {'easy': 3}, 2: {'easy': 6, 'hard': 1}, 3: {'easy': 7, 'nothing': 1, 'medium': 2}, 4: {'easy': 3, 'hard': 2}, 5: {'easy': 2}, 6: {'easy': 3, 'hard': 1}, 9: {'medium': 2}, 12: {'easy': 2, 'medium': 1}, 13: {'easy': 2}, 14: {'nothing': 1, 'hard': 1}}, '0b07f9890606b27ce6b2e120': {0: {'easy': 3}}, '010289c29033d8ef6dc36de7': {0: {'easy': 4, 'nothing': 1}, 1: {'medium': 1}, 2: {'hard': 1}}, 'ed35d98ee825c824f323bd5f': {0: {'easy': 1, 'nothing': 5, 'medium': 2}, 1: {'hard': 1}, 4: {'easy': 2, 'hard': 2}, 5: {'nothing': 1}, 12: {'nothing': 2}}, '12b3d115fb3c40ee55d7de46': {0: {'easy': 4}, 1: {'easy': 3, 'hard': 2, 'nothing': 1}, 5: {'easy': 7, 'medium': 1, 'hard': 1, 'nothing': 1}, 8: {'easy': 3, 'nothing': 1}}, '7177e3d84d4cd2fc2470b2c0': {0: {'nothing': 2, 'hard': 4}, 1: {'nothing': 3, 'medium': 1}, 4: {'hard': 1, 'nothing': 2, 'easy': 1}, 5: {'nothing': 1, 'medium': 1}, 6: {'nothing': 6, 'easy': 1, 'hard': 1}, 7: {'nothing': 1, 'easy': 2}, 10: {'nothing': 4, 'hard': 4}, 13: {'nothing': 1}}, 'f6d27bbceb3096f8a82dbe6e': {0: {'nothing': 2}, 1: {'nothing': 4}}, '0a3b96a5fbe446209318c92e': {0: {'hard': 2, 'easy': 5, 'nothing': 3}, 1: {'easy': 1, 'nothing': 1}, 2: {'easy': 1, 'nothing': 1}, 3: {'hard': 1}, 4: {'nothing': 1, 'medium': 1}, 5: {'nothing': 1, 'medium': 1}, 6: {'medium': 1, 'nothing': 2, 'hard': 3}, 8: {'easy': 1}}, '4664abc7b0b82f70303db87a': {0: {'easy': 2}}, '10037de3067e1b199041a11d': {0: {'easy': 2}}, 'f33a49557d0a049cccebf4de': {0: {'nothing': 3, 'easy': 1}, 1: {'easy': 2}}, '567356b66b234421e94b665c': {0: {'nothing': 7}, 1: {'nothing': 5}, 6: {'nothing': 1, 'medium': 1}, 10: {'nothing': 1, 'easy': 1}}, '716d0ee5f19c7438fde6e3c6': {0: {'nothing': 11, 'easy': 1, 'medium': 1, 'hard': 1}, 1: {'hard': 1, 'nothing': 1}, 2: {'nothing': 1, 'medium': 1}, 3: {'easy': 2, 'nothing': 3}, 4: {'easy': 1, 'nothing': 1, 'medium': 1}}, 'a7ca7d749042a5d001382800': {0: {'easy': 9, 'medium': 11}, 1: {'easy': 5, 'medium': 4}, 2: {'easy': 2, 'medium': 14}, 4: {'easy': 4, 'medium': 14, 'nothing': 1}, 5: {'medium': 11}, 6: {'medium': 4}, 7: {'medium': 10}, 8: {'medium': 15}, 9: {'hard': 6, 'nothing': 1, 'medium': 2, 'easy': 1}, 10: {'easy': 4, 'medium': 3, 'nothing': 3, 'hard': 4}, 11: {'easy': 6, 'nothing': 3, 'hard': 1}, 12: {'easy': 3, 'nothing': 2, 'medium': 1}, 13: {'medium': 3, 'nothing': 5, 'hard': 1, 'easy': 1}, 14: {'easy': 5, 'medium': 3, 'hard': 3, 'nothing': 3}, 15: {'nothing': 7, 'easy': 6, 'hard': 2, 'medium': 2}, 16: {'easy': 6, 'hard': 4, 'nothing': 4, 'medium': 1}, 17: {'easy': 2, 'hard': 1, 'medium': 2, 'nothing': 5}, 18: {'nothing': 12, 'easy': 9, 'medium': 5, 'hard': 5}, 19: {'hard': 4, 'nothing': 8, 'medium': 6, 'easy': 3}, 20: {'easy': 2, 'nothing': 2, 'hard': 1}, 21: {'medium': 1, 'easy': 2}}, 'a081133efb15f3ebbf536c1e': {0: {'easy': 1, 'nothing': 3}, 1: {'nothing': 2}}, 'a1c68e838ecf419ed6b54c34': {0: {'hard': 5, 'medium': 2, 'nothing': 1}, 1: {'hard': 1}, 6: {'hard': 1}, 7: {'easy': 1}, 11: {'medium': 1, 'hard': 1}}, '6d7fef916f0bcbf6a1ef22c8': {0: {'medium': 8, 'nothing': 2, 'hard': 2, 'easy': 1}, 1: {'medium': 1, 'nothing': 1}, 2: {'nothing': 1, 'medium': 1}, 3: {'nothing': 1}, 4: {'medium': 3, 'nothing': 1, 'easy': 1, 'hard': 1}, 5: {'medium': 1, 'easy': 1}, 7: {'hard': 1, 'easy': 2}, 8: {'medium': 1, 'nothing': 1}}, '4d6c831b4d22ac6d1a0f316f': {0: {'easy': 7}, 3: {'nothing': 1, 'hard': 1}, 7: {'hard': 3}, 9: {'nothing': 1}}, '9699b9e05cc9901ff522104c': {0: {'medium': 1, 'easy': 1}, 3: {'medium': 1, 'nothing': 1}}, 'bb9ec91257efb72f504bd699': {0: {'nothing': 2}, 3: {'easy': 1}, 9: {'nothing': 1}}, '1d565839f7fbd346e205517e': {0: {'easy': 1, 'hard': 3, 'nothing': 1}, 2: {'easy': 1}, 6: {'medium': 1}, 7: {'medium': 1}, 8: {'hard': 2}, 10: {'medium': 1}}, '2f726b051dc6161cef7832f6': {0: {'nothing': 2, 'medium': 1}, 2: {'easy': 2, 'medium': 2, 'nothing': 1}, 6: {'easy': 1, 'medium': 1}, 7: {'easy': 2, 'nothing': 2}, 12: {'easy': 1, 'nothing': 1}}, '8fe1f5e8526cce0440879359': {0: {'medium': 3, 'hard': 2, 'nothing': 3}, 4: {'hard': 1}, 5: {'nothing': 3, 'easy': 1}, 6: {'nothing': 4, 'medium': 3, 'easy': 2, 'hard': 1}, 10: {'nothing': 1, 'easy': 1}}, '859b2e9da1a3225828835417': {0: {'medium': 1}}, 'ec3395687de4ea37a132cf22': {0: {'medium': 2, 'hard': 1, 'nothing': 7}, 1: {'nothing': 4}, 2: {'nothing': 2, 'hard': 1, 'easy': 1}, 4: {'nothing': 1}, 5: {'nothing': 2}, 6: {'nothing': 2, 'medium': 1, 'easy': 1}, 7: {'nothing': 2, 'easy': 1}}, '578b926277472fb2cd8d1130': {0: {'easy': 2}, 1: {'nothing': 1}}, 'deac68af0cd967026129f70d': {0: {'nothing': 1}, 2: {'nothing': 2, 'hard': 1, 'medium': 1}, 9: {'easy': 1, 'nothing': 1}, 11: {'easy': 1, 'medium': 1}}, 'b146b8c9639f1dd8cf5cecb5': {0: {'easy': 1}}, 'e87b35721a8cae1521d16895': {0: {'medium': 1, 'hard': 2, 'nothing': 96, 'easy': 3}, 1: {'nothing': 19, 'hard': 2}}, '33f2c6a4c03544d19b4f08e4': {0: {'easy': 4}, 1: {'nothing': 6}}, '12ceeebc951892700938281f': {0: {'nothing': 1, 'medium': 1}}, '8d90fd01cee89a077ea84a95': {0: {'easy': 1}, 7: {'easy': 1, 'hard': 1}}, '17561df6ce55314ad210d622': {0: {'medium': 1, 'easy': 1}, 2: {'easy': 2, 'medium': 1, 'hard': 2, 'nothing': 2}, 1: {'medium': 1}, 4: {'medium': 2, 'hard': 2}, 5: {'easy': 2, 'medium': 1, 'nothing': 1, 'hard': 1}, 7: {'easy': 1, 'medium': 1}, 8: {'easy': 4, 'nothing': 4, 'medium': 1}, 11: {'nothing': 1, 'easy': 1, 'hard': 1}, 12: {'nothing': 1, 'easy': 1}}, 'bb950b6435c34cf79f2aa623': {0: {'nothing': 1}, 7: {'medium': 1}, 11: {'medium': 1, 'nothing': 1, 'easy': 1}}, 'a66750b3636ea7155c01069a': {0: {'nothing': 3}}, '87d72506faeb8d9c7f2fda7d': {0: {'medium': 8, 'nothing': 1, 'easy': 2}, 1: {'medium': 6, 'easy': 6, 'nothing': 1, 'hard': 8}, 2: {'medium': 9, 'easy': 7, 'nothing': 2, 'hard': 3}, 3: {'easy': 6, 'nothing': 5, 'medium': 5, 'hard': 2}, 4: {'nothing': 6, 'medium': 10, 'easy': 7, 'hard': 3}, 5: {'easy': 4, 'medium': 4, 'hard': 1, 'nothing': 1}, 7: {'easy': 4, 'hard': 3, 'medium': 3}, 8: {'easy': 7, 'medium': 5, 'nothing': 5, 'hard': 2}, 9: {'medium': 5, 'nothing': 2, 'easy': 10}, 10: {'easy': 2, 'medium': 1, 'nothing': 1}, 12: {'easy': 9, 'hard': 3, 'nothing': 2, 'medium': 4}, 13: {'easy': 2}, 14: {'hard': 1}}, 'a15ec1df8563d89e22a86a06': {0: {'easy': 1, 'hard': 1}, 1: {'hard': 1}, 2: {'medium': 1, 'nothing': 1}, 4: {'nothing': 4, 'hard': 3, 'medium': 4, 'easy': 2}, 5: {'medium': 1, 'easy': 1}, 6: {'medium': 1, 'hard': 1}}, 'c9bfddb9ff1866c43464db53': {0: {'easy': 5}, 2: {'easy': 1, 'nothing': 1}, 7: {'easy': 1, 'nothing': 1}, 9: {'nothing': 1}}, '4de61ad85f25d309e80b16d3': {0: {'medium': 2, 'nothing': 7, 'easy': 2}, 1: {'nothing': 1}}, '164d75cd3331f4875695dc88': {0: {'nothing': 2}}, '2ad489dd255f93d8bc0778bf': {0: {'hard': 1, 'medium': 4, 'nothing': 3}, 1: {'nothing': 14, 'easy': 1}, 2: {'hard': 1}, 3: {'nothing': 3}, 4: {'nothing': 3, 'medium': 3, 'easy': 1}, 6: {'nothing': 4, 'hard': 2, 'medium': 1, 'easy': 1}, 7: {'easy': 1, 'nothing': 9, 'medium': 3, 'hard': 2}, 8: {'medium': 1, 'nothing': 11, 'easy': 4, 'hard': 2}, 9: {'nothing': 7, 'hard': 2, 'easy': 3}, 11: {'nothing': 2}, 12: {'nothing': 5}, 13: {'nothing': 2, 'easy': 2}, 14: {'nothing': 1, 'medium': 1}}, '67394db81616b1bfb8b08ec9': {0: {'easy': 10, 'medium': 2, 'hard': 1, 'nothing': 1}, 1: {'hard': 1}, 4: {'easy': 7, 'hard': 2, 'nothing': 1}, 5: {'medium': 1, 'easy': 2}, 6: {'easy': 10, 'hard': 5, 'nothing': 1, 'medium': 2}, 7: {'easy': 9, 'medium': 1, 'hard': 3, 'nothing': 1}, 8: {'nothing': 2, 'easy': 6, 'hard': 1}, 9: {'easy': 2, 'hard': 1, 'medium': 1}, 11: {'easy': 8, 'medium': 2, 'nothing': 2, 'hard': 1}, 12: {'easy': 3, 'hard': 1}}, '7e9e145f21ae6bb5cbcd9edb': {0: {'easy': 1}, 1: {'nothing': 5, 'medium': 2, 'easy': 1}, 2: {'easy': 1, 'medium': 1, 'hard': 2}, 9: {'easy': 1, 'medium': 1}}, 'f8d9d591c85029914116c06c': {0: {'medium': 5, 'hard': 1, 'easy': 4, 'nothing': 8}, 1: {'easy': 5, 'medium': 1, 'nothing': 3}, 6: {'hard': 1}}, 'a6a19651e3d2f91b60766a2d': {0: {'medium': 1}, 4: {'hard': 2}, 6: {'medium': 1, 'hard': 1, 'nothing': 1}}, '8142ad13f231ee065fef7751': {0: {'easy': 3, 'medium': 2, 'nothing': 4}, 2: {'nothing': 1}, 3: {'nothing': 1, 'easy': 1}, 4: {'easy': 1}, 6: {'easy': 1, 'medium': 1}, 7: {'hard': 1}, 8: {'nothing': 1}, 9: {'easy': 1, 'medium': 1, 'hard': 1}, 10: {'nothing': 2, 'medium': 1, 'easy': 1, 'hard': 1}, 11: {'easy': 1, 'hard': 1}, 12: {'nothing': 1}}, 'cd3081cf8876e6915585f64f': {0: {'hard': 1, 'easy': 1}, 1: {'nothing': 1}, 11: {'easy': 1, 'medium': 1}}, '707250b303e876ee5cc6a61c': {0: {'medium': 1}, 5: {'easy': 1}}, 'f6f5da37a72cc4f2f2e40e90': {0: {'easy': 2, 'hard': 3, 'nothing': 1}, 1: {'nothing': 2, 'medium': 3, 'hard': 2, 'easy': 1}, 2: {'easy': 1, 'nothing': 3, 'hard': 1, 'medium': 3}}, '6b4506c2667bb9531faf2612': {0: {'easy': 12}, 1: {'easy': 9}, 5: {'medium': 1, 'easy': 1}}, '8e7d913d2db0628bfc8576b2': {0: {'hard': 1}, 5: {'nothing': 1, 'medium': 1}, 7: {'medium': 1}, 10: {'easy': 2, 'nothing': 3}, 13: {'nothing': 1}, 14: {'easy': 1}}, '8b5ff72da60494eab03bfcea': {0: {'easy': 1, 'nothing': 1, 'medium': 1}, 1: {'medium': 1, 'nothing': 5}, 2: {'nothing': 4}, 5: {'hard': 1, 'nothing': 2, 'medium': 1, 'easy': 1}, 6: {'nothing': 3, 'easy': 1}, 7: {'easy': 3, 'nothing': 1, 'hard': 1}, 8: {'nothing': 1, 'medium': 1, 'easy': 1}, 10: {'nothing': 1, 'easy': 1}, 11: {'nothing': 2, 'easy': 1}, 12: {'nothing': 2, 'hard': 2}}, 'e55333c1b7224fac4d96718b': {0: {'nothing': 1, 'easy': 1}}, 'a9b09d252c3424dbbae89aa6': {0: {'nothing': 2, 'easy': 1, 'medium': 1, 'hard': 1}, 1: {'easy': 1, 'nothing': 2, 'hard': 1}, 2: {'nothing': 1}, 3: {'nothing': 2}, 5: {'medium': 1, 'easy': 2, 'nothing': 2}, 6: {'easy': 4, 'hard': 2, 'nothing': 2}, 7: {'easy': 3, 'nothing': 3, 'hard': 1}, 8: {'nothing': 2, 'easy': 2}, 9: {'nothing': 2, 'hard': 2}, 12: {'nothing': 1, 'hard': 1}}, '8cec958ad0ebd685a9e10ad1': {0: {'medium': 1}, 1: {'easy': 2, 'medium': 1, 'nothing': 1, 'hard': 1}, 3: {'nothing': 1, 'easy': 1}}, '82943fd722bd132734ba7137': {0: {'medium': 1, 'easy': 1}}, 'f42309bc714b8c7bdc9f6bd6': {0: {'hard': 1}}, 'd1fb81fc24a959f94a8bf45b': {0: {'medium': 3}, 1: {'hard': 1}, 2: {'medium': 1, 'easy': 1}, 3: {'hard': 1}, 5: {'medium': 2, 'easy': 1, 'hard': 1}, 9: {'medium': 1}, 10: {'medium': 1, 'hard': 1}, 12: {'easy': 2, 'medium': 2, 'nothing': 1}}, 'cffb95c7f79f1a0793fe546f': {0: {'medium': 3, 'nothing': 1}, 2: {'easy': 1, 'hard': 1}, 5: {'nothing': 2, 'hard': 1, 'medium': 1}}, '5e0579cac972d7df2422a389': {0: {'medium': 1, 'nothing': 1}, 5: {'hard': 1}, 9: {'medium': 1}}, 'd55ad9882c951036e26b2562': {0: {'easy': 2, 'nothing': 1}, 1: {'nothing': 1, 'easy': 1}}, 'f46cd7c2d0c00a73a132af12': {0: {'easy': 9, 'nothing': 2}, 1: {'easy': 6}, 2: {'easy': 1, 'medium': 1}}, '7fb6a3a089b4a550d3940864': {0: {'easy': 3, 'nothing': 5}, 1: {'nothing': 2, 'easy': 2}, 2: {'nothing': 1}, 3: {'easy': 1, 'medium': 1, 'nothing': 1, 'hard': 1}}, 'e5c3d57b9d1e78cc012a00ae': {0: {'hard': 3, 'nothing': 4, 'medium': 1}, 2: {'nothing': 1, 'medium': 2, 'easy': 2, 'hard': 1}, 3: {'nothing': 4, 'hard': 1, 'medium': 1}, 6: {'medium': 1}, 7: {'medium': 1, 'hard': 3}}, 'f105ece71904bbd5fe2f8ec3': {0: {'easy': 1}, 6: {'easy': 1, 'hard': 1}, 7: {'easy': 1, 'hard': 1}, 9: {'easy': 1, 'medium': 1}, 10: {'nothing': 1}}, 'ed0234ef70a2c1137a3d2620': {0: {'easy': 1, 'nothing': 14}}, '986971231da7b0c335d218e2': {0: {'easy': 6}, 1: {'easy': 4, 'nothing': 3}, 2: {'nothing': 1}, 3: {'easy': 1, 'hard': 1}, 4: {'easy': 3, 'hard': 1, 'medium': 1}, 6: {'nothing': 1}, 7: {'easy': 1, 'hard': 1}, 8: {'easy': 1, 'nothing': 1}, 10: {'easy': 2, 'hard': 2}, 11: {'nothing': 1}, 13: {'medium': 1}}, '0df2e3d9851b793b93f2a91a': {0: {'easy': 2, 'nothing': 1}, 2: {'easy': 3, 'hard': 2, 'nothing': 1}, 5: {'easy': 2, 'hard': 1, 'nothing': 1}, 6: {'easy': 2, 'hard': 2}, 7: {'easy': 2, 'medium': 1, 'nothing': 1}, 8: {'hard': 1, 'medium': 1}, 10: {'easy': 2}}, 'e2e96854958c88b3dc27b828': {0: {'nothing': 3, 'easy': 1}, 1: {'nothing': 1, 'medium': 1}, 5: {'nothing': 4, 'medium': 2, 'hard': 1, 'easy': 1}, 6: {'nothing': 6, 'easy': 1, 'medium': 1}, 7: {'easy': 1, 'hard': 1, 'nothing': 1}, 9: {'easy': 2, 'hard': 2, 'nothing': 4}, 10: {'nothing': 3, 'hard': 1}, 11: {'nothing': 4, 'hard': 1, 'easy': 1}}, '118db85063bf29f7ab00f8a8': {0: {'nothing': 1, 'medium': 1}}, '45c9c1e74ec0a48167838ca6': {0: {'medium': 1, 'nothing': 1}, 1: {'nothing': 1, 'medium': 1}, 6: {'hard': 1}, 7: {'hard': 1}, 10: {'hard': 1}, 11: {'nothing': 2}, 12: {'nothing': 1}}, '6b91725b5367b06acb6f916f': {0: {'medium': 5, 'easy': 3}, 1: {'easy': 1, 'medium': 1, 'nothing': 1, 'hard': 1}, 2: {'nothing': 1}, 3: {'medium': 1}, 4: {'nothing': 2, 'medium': 1}, 5: {'hard': 2, 'easy': 1}, 6: {'easy': 1}, 7: {'easy': 1}, 8: {'medium': 1}, 9: {'medium': 1, 'nothing': 2, 'hard': 1}, 10: {'easy': 1}, 11: {'medium': 1, 'hard': 1}, 12: {'nothing': 1}, 13: {'medium': 1, 'hard': 1, 'nothing': 1}, 14: {'medium': 1, 'nothing': 1, 'hard': 1}}, 'ca47a20eb3fcd212929e49bf': {0: {'medium': 2}, 3: {'hard': 1}, 11: {'medium': 1}}, '44046bbdac9b2e19024ab1d4': {0: {'easy': 1}, 1: {'nothing': 1, 'medium': 1}, 3: {'easy': 1, 'hard': 1}}, 'eb1d4655aa7d05f12cf95767': {0: {'easy': 1}, 2: {'nothing': 2, 'easy': 1}}, '96ae32e97be489c2d1656696': {0: {'easy': 6, 'medium': 5}}, 'af63777e3ee57c0cece80a0d': {0: {'hard': 1, 'medium': 1}}, '11dec48c6b83f8f511e526f5': {0: {'easy': 1, 'nothing': 3}, 1: {'nothing': 1}, 2: {'nothing': 2, 'hard': 2}}, '2304a0750a5078c85d317eb2': {0: {'easy': 1}}, '5b135b9d3d4091d8e2bff769': {0: {'medium': 1}, 1: {'hard': 2, 'medium': 13}, 2: {'medium': 1, 'nothing': 1}, 8: {'nothing': 2}}, 'f935dc0758d8d5118f3a622e': {0: {'nothing': 2}, 3: {'nothing': 1}, 5: {'nothing': 2, 'medium': 2}}, '9cce92b53ad1d97038b85639': {0: {'nothing': 4, 'medium': 1}, 1: {'nothing': 7, 'medium': 2, 'easy': 3, 'hard': 3}, 5: {'nothing': 2, 'medium': 1, 'hard': 1}, 6: {'nothing': 3, 'hard': 1}, 7: {'nothing': 5, 'hard': 2, 'easy': 1, 'medium': 2}}, '85ecbbecc4bfea94cc074a77': {0: {'hard': 1}}, '0ee2d3b649a142613e228583': {0: {'hard': 2, 'nothing': 1}}, '4891b60c466c2f20d813325a': {0: {'easy': 2, 'nothing': 6, 'medium': 1, 'hard': 1}, 1: {'nothing': 2, 'medium': 1}, 2: {'nothing': 3, 'easy': 2, 'medium': 1}, 4: {'nothing': 1, 'hard': 1}, 6: {'nothing': 5, 'easy': 3}, 7: {'nothing': 8, 'medium': 1}, 8: {'nothing': 4}, 9: {'nothing': 2}, 11: {'nothing': 2}}, 'a8c55a630a58b6127e7175dc': {0: {'easy': 2, 'medium': 3, 'nothing': 1}}, '5a3e259c3618d2ec7369afc8': {0: {'medium': 10, 'easy': 2}, 2: {'medium': 1}, 5: {'medium': 1, 'easy': 1}, 7: {'hard': 1, 'medium': 1}, 12: {'medium': 1, 'easy': 1}}, 'da1c8764247aa509ab5bd791': {0: {'easy': 7, 'nothing': 2}}, 'c9bdcc1ca44beee2429358fe': {0: {'medium': 12, 'easy': 4, 'nothing': 1, 'hard': 2}, 1: {'medium': 4, 'hard': 2, 'easy': 3}, 2: {'hard': 3, 'medium': 3, 'easy': 2}}, 'bbb0a48a45f40792d1b18b35': {0: {'easy': 1, 'hard': 1}, 1: {'nothing': 2, 'medium': 1}}, '29a1e45ed0680aeee5f11cf3': {0: {'medium': 2}, 9: {'easy': 1, 'nothing': 1}, 10: {'medium': 1, 'easy': 1}}, '4f36b7bf685c9a7eb1435f3e': {0: {'nothing': 4, 'easy': 1}, 5: {'nothing': 2, 'medium': 1, 'easy': 1}, 6: {'nothing': 1}, 7: {'nothing': 1, 'hard': 1}}, 'd668ae1664d2f385646b47da': {0: {'nothing': 2, 'medium': 1, 'easy': 3, 'hard': 1}, 1: {'nothing': 1, 'medium': 1}}, '549da80e06db6b008b3f79ca': {0: {'hard': 1, 'nothing': 1, 'easy': 3}, 1: {'hard': 1, 'medium': 1, 'easy': 3}, 2: {'medium': 1}, 3: {'easy': 1, 'nothing': 1}, 4: {'nothing': 2, 'easy': 1, 'hard': 1, 'medium': 1}, 5: {'easy': 2, 'nothing': 2}, 6: {'easy': 4, 'hard': 2, 'nothing': 3}, 7: {'medium': 1}, 8: {'hard': 4, 'easy': 4}, 9: {'medium': 1, 'nothing': 2, 'hard': 1, 'easy': 1}, 10: {'easy': 1, 'hard': 1, 'medium': 1}, 11: {'easy': 3, 'hard': 1, 'nothing': 1}, 12: {'hard': 1, 'easy': 1}}, '12597c55ae02decf39f4bfd4': {0: {'hard': 1}, 1: {'hard': 1}}, 'eda28b547a15969cc176cfeb': {0: {'easy': 3, 'medium': 1}, 1: {'easy': 5, 'nothing': 1}, 2: {'easy': 2}, 3: {'easy': 1, 'hard': 1}, 4: {'easy': 4, 'nothing': 2}, 5: {'easy': 2, 'hard': 1}, 7: {'easy': 2}, 8: {'easy': 2}, 9: {'easy': 1}, 10: {'easy': 1, 'medium': 1}}, '19bf2a61a7734088b2cff33e': {0: {'easy': 12}}, 'edaeadcd5cbd17aaabed2d11': {0: {'nothing': 3}, 1: {'easy': 1}, 8: {'nothing': 1, 'hard': 1}, 10: {'nothing': 3, 'hard': 3}}, '046736eb5ac602eb8c829500': {0: {'nothing': 2}, 8: {'nothing': 2}, 9: {'nothing': 1, 'hard': 1}}, '5bb5886079544694ee7d94b0': {0: {'medium': 1}}, '1e57913cb9e08ceecc08a7ee': {0: {'easy': 1, 'nothing': 1}, 2: {'nothing': 3}, 3: {'nothing': 2, 'easy': 2}, 5: {'nothing': 1}, 11: {'hard': 1}}, '61aa681b8c6a7e4e048813e1': {0: {'nothing': 3, 'easy': 2, 'medium': 1, 'hard': 2}, 1: {'easy': 2, 'hard': 2, 'nothing': 1}, 2: {'medium': 2, 'hard': 2}, 5: {'medium': 3, 'nothing': 3, 'hard': 3, 'easy': 2}, 6: {'medium': 5, 'easy': 1, 'nothing': 1}, 7: {'hard': 3, 'nothing': 2, 'easy': 2}, 8: {'hard': 5, 'medium': 1, 'easy': 1}, 9: {'nothing': 2, 'hard': 1}, 10: {'hard': 1, 'medium': 1}, 11: {'nothing': 1, 'medium': 1, 'hard': 1}, 12: {'hard': 4, 'nothing': 2, 'medium': 2}}, '1d9fbbdf7300e9adddfda643': {0: {'easy': 1}}, 'db3c427b93d9e2d5a4fc3e94': {0: {'medium': 9}, 1: {'medium': 2, 'hard': 1}, 2: {'easy': 3, 'medium': 5}, 3: {'medium': 2}, 4: {'medium': 3, 'easy': 2}, 5: {'medium': 3, 'easy': 2, 'nothing': 1, 'hard': 1}, 6: {'medium': 3, 'easy': 3, 'nothing': 1}, 7: {'medium': 5, 'hard': 1, 'nothing': 2}, 8: {'medium': 5, 'nothing': 1, 'easy': 1, 'hard': 1}, 9: {'medium': 3, 'nothing': 2}, 10: {'medium': 2, 'nothing': 1}, 11: {'medium': 5, 'nothing': 2, 'hard': 1}, 12: {'hard': 2, 'medium': 2}, 13: {'medium': 2}}, '057f64fb468235308848f900': {0: {'nothing': 11}, 10: {'nothing': 2}}, '40cffe24a949ddbf3287ff87': {0: {'nothing': 1, 'easy': 8}, 1: {'easy': 1}}, 'b77dd7d331de15fa08220983': {0: {'easy': 2}, 1: {'easy': 2}, 9: {'nothing': 1, 'hard': 1}}, '61fda7d2b0d55df09e8d3289': {0: {'easy': 5, 'nothing': 1}}, '7d4f65487de3c21569518077': {0: {'nothing': 1}, 1: {'easy': 1, 'hard': 1}}, '2704c3780dead460439c022c': {0: {'medium': 3, 'nothing': 1, 'easy': 1}}, '247dafb8d2e53aec167e893c': {0: {'hard': 3, 'medium': 1, 'nothing': 2}, 1: {'nothing': 2}, 3: {'nothing': 4, 'medium': 1}, 7: {'nothing': 1, 'medium': 1}, 12: {'nothing': 2}, 13: {'nothing': 2, 'easy': 1, 'hard': 1, 'medium': 1}}, 'dfa3a6c51090a2e08736a85a': {0: {'easy': 1, 'nothing': 1}, 1: {'easy': 3, 'medium': 1, 'nothing': 2}, 2: {'easy': 2, 'nothing': 1}, 5: {'medium': 1}, 6: {'hard': 1}, 7: {'nothing': 2, 'hard': 1, 'easy': 1}}, '479b9653d0efaf7cebe5f81f': {0: {'nothing': 1, 'hard': 1}, 1: {'nothing': 2}, 2: {'nothing': 1, 'hard': 2}, 3: {'nothing': 2, 'easy': 2}, 6: {'nothing': 4, 'medium': 1, 'easy': 1}, 7: {'nothing': 1, 'medium': 1}, 8: {'nothing': 1, 'hard': 1}, 9: {'nothing': 1, 'easy': 1}, 10: {'nothing': 4, 'easy': 2}, 13: {'nothing': 5, 'medium': 2, 'easy': 1}}, 'ad1ba5af3620a087e69d9ecd': {0: {'easy': 4, 'nothing': 1}}, 'c192a2b155fcfe2d559bf9d1': {0: {'easy': 3}}, 'cdfa5d14fcac7cc890855151': {0: {'hard': 3, 'nothing': 3, 'easy': 1}}, 'af511c07e3c5a87b392fdcea': {0: {'nothing': 9}, 1: {'nothing': 2, 'medium': 1, 'easy': 1}}, '6db0092943b923b2e8f60737': {0: {'medium': 1, 'nothing': 1}, 1: {'nothing': 1, 'hard': 1}, 2: {'nothing': 1, 'medium': 1}, 3: {'easy': 1, 'hard': 1, 'nothing': 1, 'medium': 1}, 4: {'nothing': 1, 'medium': 1}, 6: {'nothing': 1, 'hard': 1, 'medium': 1}, 13: {'nothing': 1, 'hard': 1}, 14: {'nothing': 1, 'easy': 2, 'hard': 1}}, 'cc5ff7d64a4c528e47691294': {0: {'easy': 1}, 3: {'nothing': 1}, 5: {'medium': 1}, 6: {'medium': 1}, 8: {'medium': 1}, 9: {'nothing': 1, 'hard': 1}, 10: {'hard': 1}}, '45b10074076832353ca944d1': {0: {'easy': 1, 'nothing': 1}, 9: {'medium': 1}}, 'd5d0c2ad446fc555d041a133': {0: {'hard': 1, 'medium': 16, 'easy': 4, 'nothing': 2}, 1: {'easy': 22, 'medium': 3, 'nothing': 5, 'hard': 1}, 2: {'easy': 5, 'nothing': 3, 'hard': 2}, 3: {'easy': 13, 'nothing': 6, 'medium': 3, 'hard': 2}, 4: {'easy': 6, 'nothing': 2, 'medium': 1}, 5: {'easy': 9, 'medium': 2, 'nothing': 2, 'hard': 2}, 6: {'easy': 7, 'medium': 2}, 7: {'easy': 6, 'hard': 1}, 8: {'easy': 4, 'nothing': 4, 'medium': 1, 'hard': 1}, 9: {'easy': 2, 'hard': 1, 'medium': 1, 'nothing': 2}, 10: {'easy': 5, 'hard': 2, 'medium': 1}, 11: {'easy': 7, 'medium': 2, 'hard': 2}, 12: {'easy': 7, 'nothing': 1, 'hard': 1}, 13: {'easy': 2, 'medium': 1}}, 'b707b0dd5b35c11767430b2d': {0: {'easy': 10, 'nothing': 4, 'hard': 3, 'medium': 1}}, '5ca94c0c12b6f9cb76b99aa3': {0: {'easy': 7}, 1: {'easy': 4}, 6: {'easy': 4, 'nothing': 2, 'medium': 2}, 7: {'hard': 3, 'easy': 4}, 8: {'easy': 1, 'nothing': 1}, 10: {'medium': 1}, 13: {'easy': 1, 'hard': 1}}, 'ae794dccb2f48f45e2a6c758': {0: {'medium': 1, 'easy': 2}, 1: {'easy': 1}, 2: {'easy': 1, 'nothing': 1}, 5: {'medium': 1, 'easy': 1}, 8: {'easy': 2}, 9: {'nothing': 3, 'medium': 2}, 11: {'medium': 2}, 12: {'easy': 1}, 13: {'nothing': 1}}, '89e8ba81fa65c624d3ab4bac': {0: {'medium': 1}, 1: {'medium': 5, 'easy': 1, 'nothing': 1}, 2: {'medium': 1, 'easy': 1}, 4: {'medium': 2, 'nothing': 1}, 6: {'medium': 2}, 8: {'medium': 2, 'nothing': 2, 'hard': 1}}, '07c8f6e68d16603e3c92c1b7': {0: {'medium': 2, 'easy': 1, 'nothing': 2}, 3: {'nothing': 1, 'hard': 1}}, '2f0c56ad16788d4b35f5c1a0': {0: {'easy': 1, 'medium': 4, 'nothing': 2}, 1: {'easy': 1, 'medium': 1, 'hard': 2, 'nothing': 2}, 2: {'easy': 2, 'hard': 1}, 4: {'nothing': 1, 'easy': 1}, 5: {'nothing': 6, 'hard': 2, 'easy': 1, 'medium': 1}, 8: {'nothing': 5, 'easy': 4, 'hard': 1, 'medium': 3}, 9: {'medium': 6, 'easy': 1, 'nothing': 2}, 10: {'easy': 4, 'medium': 5, 'hard': 1, 'nothing': 3}, 11: {'easy': 2, 'medium': 2, 'hard': 2}, 12: {'nothing': 1, 'easy': 1}, 13: {'nothing': 5, 'easy': 1}}, '7bb607a7d50e4385a27575ec': {0: {'medium': 3, 'easy': 11, 'nothing': 2, 'hard': 1}, 1: {'easy': 4, 'hard': 2}}, '2bf097d3337d753930e8e7ae': {0: {'easy': 1, 'medium': 12, 'nothing': 3, 'hard': 2}, 1: {'medium': 3, 'easy': 1}, 5: {'medium': 19, 'easy': 5, 'hard': 7, 'nothing': 5}, 6: {'medium': 10, 'easy': 1, 'hard': 2, 'nothing': 2}, 7: {'medium': 19, 'hard': 10, 'easy': 4, 'nothing': 3}, 8: {'hard': 5, 'nothing': 4, 'medium': 13, 'easy': 3}, 9: {'medium': 8, 'easy': 1, 'hard': 1, 'nothing': 1}, 11: {'medium': 2, 'easy': 1}, 12: {'medium': 4, 'easy': 2, 'hard': 1}}, '3cb81441641c4ae828b55dbc': {0: {'nothing': 2, 'easy': 1}, 8: {'nothing': 1}}, '1de2d50159c170d0a34a119d': {0: {'easy': 3}, 1: {'easy': 7, 'medium': 2, 'nothing': 1}, 8: {'easy': 2, 'nothing': 1, 'medium': 1}, 9: {'easy': 3, 'medium': 1}, 13: {'easy': 2}}, 'dd98142d04e994f715403cfa': {0: {'easy': 1, 'nothing': 2}, 2: {'easy': 1}, 3: {'nothing': 1}, 5: {'hard': 1}, 7: {'nothing': 1}, 10: {'nothing': 1, 'easy': 1}}, 'cc8e9b91eeab58e6f508993f': {0: {'medium': 8}, 1: {'medium': 7, 'hard': 1}, 2: {'medium': 3, 'easy': 1}, 4: {'medium': 2, 'hard': 2}, 6: {'medium': 2, 'easy': 1}, 7: {'hard': 1, 'medium': 3}, 8: {'medium': 3, 'hard': 1}, 9: {'nothing': 2, 'medium': 2, 'hard': 1}, 10: {'easy': 1}, 12: {'easy': 1}, 13: {'medium': 3, 'nothing': 1}}, '3cc933bb65a44fe8bb25a0be': {0: {'medium': 3, 'hard': 1}, 1: {'easy': 1, 'medium': 1}, 2: {'medium': 4}, 3: {'medium': 1}}, '4f48aaaadcf24f8a7c40822d': {0: {'nothing': 5}, 1: {'nothing': 6, 'medium': 1}, 4: {'hard': 1, 'nothing': 2, 'easy': 2}, 5: {'nothing': 2, 'medium': 1}, 6: {'nothing': 1, 'medium': 1}, 7: {'easy': 1}, 8: {'nothing': 1, 'easy': 1}, 10: {'easy': 1}, 11: {'nothing': 2, 'hard': 1, 'medium': 1}, 12: {'hard': 1, 'nothing': 1}, 13: {'medium': 2, 'nothing': 1}}, 'f4e108be2e5c53ffe8c7ce29': {0: {'easy': 5}, 1: {'nothing': 1, 'hard': 1}, 2: {'hard': 1, 'easy': 1, 'nothing': 4}, 6: {'easy': 3, 'hard': 2, 'nothing': 1}, 7: {'medium': 1}, 11: {'easy': 1, 'medium': 1}, 12: {'easy': 1, 'hard': 1}}, 'e35fd44a65c64927d2197d1e': {0: {'medium': 3, 'easy': 1}, 9: {'easy': 1, 'nothing': 1}}, 'e80abfc3de48f77f3921fdb1': {0: {'medium': 1, 'easy': 1}, 1: {'easy': 2, 'medium': 1}, 3: {'easy': 2}}, '8e213bfb47bd9cf99d4b977e': {0: {'easy': 8}, 1: {'easy': 9}, 3: {'easy': 3, 'nothing': 2, 'hard': 1}, 4: {'easy': 1, 'nothing': 1}, 6: {'easy': 3, 'nothing': 1}, 7: {'easy': 3, 'medium': 1, 'hard': 2, 'nothing': 1}, 8: {'easy': 2, 'nothing': 1, 'hard': 1}, 9: {'easy': 4, 'medium': 1, 'nothing': 1}, 10: {'easy': 1, 'hard': 1}, 12: {'easy': 1, 'medium': 1}}, 'd63871b449d307753b2338f0': {0: {'nothing': 1}}, '5735aacca430afec1ee7b98d': {0: {'hard': 3, 'nothing': 1, 'easy': 2}, 1: {'hard': 1, 'easy': 1}, 2: {'hard': 3, 'medium': 1}, 3: {'hard': 2}, 4: {'hard': 2}, 5: {'medium': 1, 'easy': 2, 'nothing': 1}, 6: {'hard': 2, 'nothing': 3, 'easy': 1}, 7: {'hard': 4, 'easy': 2, 'medium': 1}, 8: {'nothing': 3, 'easy': 1}}, '5ea35cc4b48dca87e7140e5d': {0: {'nothing': 1}}, '228e78f7acd4e7d8f03f3ca5': {0: {'nothing': 1, 'hard': 1, 'easy': 1}, 1: {'medium': 1}, 5: {'hard': 1, 'medium': 1}}, 'cae7dd7c24b6cb5d8c24eb40': {0: {'nothing': 1}, 6: {'nothing': 1, 'hard': 1}, 7: {'easy': 2}, 12: {'easy': 1, 'nothing': 1}, 13: {'hard': 5, 'nothing': 10, 'medium': 2, 'easy': 2}}, '33b267ce6ba1eea09883a9d9': {0: {'medium': 3, 'easy': 1, 'nothing': 1}, 1: {'medium': 1, 'nothing': 1}, 3: {'medium': 3, 'nothing': 1}, 4: {'medium': 2, 'nothing': 1, 'easy': 1}, 5: {'medium': 1, 'nothing': 1}, 7: {'medium': 1, 'easy': 1}, 8: {'medium': 1, 'hard': 1}, 9: {'easy': 1, 'medium': 1}, 10: {'medium': 2, 'nothing': 1, 'easy': 1}, 11: {'medium': 1}, 12: {'medium': 1, 'easy': 1}}, 'efa1bce6941a250b34d003e8': {0: {'nothing': 1}, 5: {'easy': 1, 'hard': 1}, 7: {'medium': 1, 'hard': 1}, 8: {'hard': 1}}, 'dca5b0749242846d22c42738': {0: {'nothing': 3}, 4: {'medium': 2}}, '5d285013ada804061e0e3304': {0: {'hard': 1}, 3: {'easy': 1, 'hard': 1}, 4: {'easy': 1, 'hard': 1}}, '8f8bfd4fc56beefb744e52ba': {0: {'easy': 1, 'nothing': 1, 'medium': 1}, 1: {'nothing': 1, 'easy': 1}}, '73aaaaed1e8d484a9880e146': {0: {'easy': 4}}, '05eed97547857a1b7ad085ee': {0: {'easy': 1, 'medium': 1}, 4: {'medium': 1}, 5: {'easy': 2}, 6: {'medium': 1, 'easy': 1}, 8: {'medium': 1}, 10: {'easy': 1}, 12: {'easy': 1, 'medium': 1}}, '1cefab480098a8fc6dacb8e3': {0: {'easy': 2, 'nothing': 4}, 1: {'nothing': 1}, 3: {'nothing': 1}, 11: {'nothing': 1, 'easy': 1}}, 'fe2ecd990d1e276c41c1482b': {0: {'easy': 3}, 2: {'easy': 2}, 3: {'easy': 2}}, '02ff535e9837bbec76172d55': {0: {'hard': 1, 'nothing': 3}, 1: {'nothing': 9, 'hard': 1}, 3: {'nothing': 1, 'easy': 1}, 7: {'easy': 2}, 11: {'nothing': 1, 'medium': 1}}, 'dd05699567e1de0e154a3e66': {0: {'easy': 1, 'hard': 2, 'nothing': 1}, 3: {'hard': 1}}, '0aca7c392243f55cad349558': {0: {'easy': 1}}, 'd69dc9add6f2afb5d1f27618': {0: {'easy': 2, 'medium': 1}, 2: {'nothing': 1}, 3: {'easy': 1, 'nothing': 1}, 4: {'easy': 1, 'medium': 1}, 7: {'easy': 1, 'hard': 1}, 9: {'medium': 1}, 10: {'easy': 1, 'medium': 1}, 11: {'hard': 1}}, '545af930a3420c56ce8c7dbb': {0: {'medium': 1}, 1: {'medium': 1, 'easy': 1}, 2: {'medium': 1, 'hard': 1}, 3: {'easy': 1, 'nothing': 1}, 5: {'nothing': 1}, 6: {'easy': 1, 'nothing': 1, 'hard': 1, 'medium': 1}, 7: {'nothing': 3, 'easy': 3, 'medium': 1}, 8: {'medium': 1, 'easy': 1}, 9: {'hard': 1}, 10: {'nothing': 1}}, '7ff343564ed5859261d6df0a': {0: {'nothing': 2}, 1: {'nothing': 1, 'medium': 1}, 3: {'nothing': 1, 'easy': 1}}, '6e0654cd762c2e5c160a4431': {0: {'medium': 5}}, '74e3232afb81d40268b02496': {0: {'medium': 1}}, '2091fa30528436968194d8b5': {0: {'easy': 1, 'medium': 1}}, '6bc520dd237f8533c0fe1761': {0: {'hard': 1, 'medium': 1}, 1: {'hard': 3}, 2: {'nothing': 3, 'hard': 2}, 6: {'easy': 1, 'hard': 2, 'medium': 3, 'nothing': 1}, 7: {'nothing': 1, 'easy': 2, 'medium': 2, 'hard': 3}, 8: {'medium': 2}, 9: {'medium': 1, 'nothing': 2}, 10: {'easy': 1, 'nothing': 1, 'medium': 2}, 11: {'medium': 1}, 12: {'medium': 2, 'easy': 1}}, '76009c0ef20420a0fc1e86c5': {0: {'easy': 1, 'nothing': 1}, 1: {'easy': 2}, 7: {'nothing': 1, 'easy': 1}}, 'a7ab02df56c9e7092253f227': {0: {'nothing': 1, 'hard': 1}, 1: {'nothing': 2}}, '043532bd1f8ab94aee599287': {0: {'hard': 1}}, 'fe6c3958e4c183d994b4663d': {1: {'hard': 2, 'easy': 1, 'medium': 1}, 3: {'hard': 2, 'medium': 1}, 0: {'medium': 1}, 7: {'nothing': 1}, 8: {'hard': 3, 'nothing': 1}}, '84c35030e500b7c26c099acb': {0: {'medium': 1, 'hard': 1}, 2: {'nothing': 1, 'hard': 1, 'easy': 2}, 3: {'nothing': 1, 'easy': 1, 'medium': 3}, 4: {'easy': 2, 'medium': 2, 'nothing': 2}, 5: {'easy': 2}, 6: {'hard': 1, 'nothing': 1, 'easy': 2}, 7: {'easy': 1, 'medium': 3, 'nothing': 3, 'hard': 1}, 9: {'easy': 1}}, '4f40a18e50d1beef3ec77059': {0: {'easy': 2, 'nothing': 2}, 1: {'medium': 1, 'easy': 1, 'nothing': 1}, 2: {'easy': 1, 'medium': 1}, 4: {'hard': 1}, 6: {'nothing': 1}, 13: {'medium': 1}}, '845659dd56b8c9331670ee0c': {0: {'easy': 1}, 2: {'nothing': 1}, 6: {'hard': 1, 'nothing': 3, 'medium': 1}, 11: {'medium': 1}, 12: {'easy': 1}}, 'f0f4ca1ed6a175ddb8ff0b6c': {0: {'easy': 1}}, '353f22ebb8ca58d50c4ff6c0': {0: {'hard': 7, 'medium': 5, 'nothing': 5, 'easy': 11}, 1: {'easy': 16, 'nothing': 6, 'hard': 8, 'medium': 5}, 2: {'hard': 1}, 3: {'easy': 1, 'medium': 1}, 4: {'easy': 34, 'nothing': 4, 'hard': 11, 'medium': 4}, 5: {'easy': 6, 'nothing': 3, 'hard': 4, 'medium': 1}, 9: {'nothing': 3, 'easy': 6, 'medium': 3, 'hard': 1}, 10: {'easy': 15, 'hard': 5, 'medium': 4, 'nothing': 2}, 11: {'easy': 17, 'medium': 4, 'hard': 5, 'nothing': 5}}, 'ec29ce94ade655ba1a56c99b': {0: {'medium': 1}, 3: {'medium': 1}}, '1af680dd003843539af951e5': {0: {'medium': 1, 'nothing': 1}, 1: {'nothing': 2, 'easy': 2, 'hard': 1}}, 'fe9e6cbcf603d905d24e67a4': {0: {'easy': 1, 'hard': 1}, 4: {'easy': 1, 'medium': 1}, 5: {'easy': 4}}, '4d2d9bf2865eb9218512c7af': {0: {'hard': 1}}, '729f1784d10cc5bf3c7f9f72': {0: {'medium': 2, 'hard': 3, 'easy': 1}, 1: {'nothing': 1, 'hard': 1}, 2: {'hard': 2, 'medium': 10, 'nothing': 4}, 3: {'medium': 4}, 4: {'hard': 2, 'medium': 1, 'easy': 1}, 5: {'nothing': 1}, 6: {'easy': 1, 'medium': 3, 'hard': 3}, 7: {'hard': 2, 'medium': 3, 'nothing': 1}, 8: {'medium': 1, 'nothing': 2, 'hard': 1}, 9: {'medium': 1, 'easy': 1, 'hard': 1}, 10: {'nothing': 2, 'easy': 1, 'medium': 1}, 11: {'nothing': 2, 'medium': 4, 'hard': 1, 'easy': 2}, 12: {'hard': 1, 'medium': 1}}, 'eddff39417479e7ab36580c1': {0: {'easy': 1, 'medium': 1}, 1: {'nothing': 3}, 2: {'hard': 1, 'easy': 2, 'nothing': 3}, 3: {'nothing': 1, 'hard': 1}, 4: {'medium': 1, 'nothing': 1, 'hard': 1}, 5: {'nothing': 1, 'easy': 1}, 7: {'nothing': 1, 'medium': 1}, 8: {'hard': 1, 'easy': 1}, 9: {'nothing': 2}, 10: {'easy': 1, 'nothing': 1, 'medium': 1}, 11: {'nothing': 1, 'hard': 1}}, '6a89392321b4cc22897c501a': {0: {'nothing': 1, 'easy': 1}, 2: {'nothing': 1}, 4: {'easy': 4, 'nothing': 2}, 5: {'nothing': 1, 'easy': 1}, 6: {'nothing': 1, 'medium': 1}, 7: {'nothing': 1, 'medium': 1}, 9: {'medium': 1}}, '3d640c3e8dd41a9de29bb6e6': {0: {'medium': 4, 'nothing': 1}, 5: {'medium': 4, 'nothing': 1}, 8: {'medium': 2, 'nothing': 2}, 11: {'medium': 2}, 12: {'nothing': 1}}, 'd7aa3ce5f83e32f80e4b5b11': {0: {'medium': 1, 'easy': 2}}, '55fad49647c2e94d9dafe0a1': {0: {'easy': 2}, 2: {'nothing': 1}, 3: {'medium': 1}}, '089bae43e5b57391faf16c21': {0: {'hard': 1}}, 'ffed3f5e51a6cd5dad72fc1d': {0: {'easy': 4, 'medium': 3}, 1: {'medium': 3, 'easy': 1}, 2: {'medium': 4, 'easy': 2}, 3: {'nothing': 2, 'easy': 1}, 4: {'medium': 1}, 5: {'medium': 1, 'nothing': 1}, 7: {'medium': 1, 'nothing': 1}, 8: {'medium': 1}, 10: {'medium': 2}, 11: {'easy': 1, 'medium': 1}, 12: {'medium': 1}, 14: {'nothing': 1, 'easy': 1}}, '9018466f8ff19644a8f0f07e': {0: {'easy': 1, 'hard': 1}, 3: {'easy': 1, 'hard': 1}, 7: {'easy': 2}}, 'abc1eb99b84024205b221b78': {0: {'nothing': 2}}, '3a201b104df2016873459dd2': {0: {'nothing': 1}, 3: {'easy': 2}, 6: {'nothing': 1}, 7: {'nothing': 1}, 8: {'nothing': 1}, 9: {'medium': 1}, 10: {'nothing': 1}}, '69bd8ccbeed4b4a0e2694f92': {0: {'medium': 1}}, 'b10035b966af5ff385c8c428': {0: {'nothing': 1, 'easy': 1}}, '937db5bb54959eb2e657425a': {0: {'medium': 1}, 8: {'medium': 1}}, '096c6c6c8863bd2decbc9a5c': {0: {'medium': 2}}, '5a52d5095bee8b1bf9cc4587': {0: {'medium': 1}}, 'bab3deb854ff260b056f98e8': {0: {'medium': 1, 'easy': 1}, 4: {'medium': 1, 'easy': 1}, 11: {'nothing': 1, 'medium': 1}}, '65d63f88976a750c1a281c29': {0: {'hard': 1}}, 'b34f53474d5e01068bfe475b': {0: {'nothing': 1, 'easy': 2, 'medium': 4}, 2: {'medium': 1, 'nothing': 1}, 3: {'medium': 2}, 4: {'medium': 1, 'hard': 1}, 5: {'medium': 2, 'hard': 1}, 6: {'medium': 2, 'easy': 1, 'hard': 1}, 8: {'medium': 3}}, 'b7e03e9fd9642583b0942688': {0: {'nothing': 2}, 8: {'nothing': 1, 'easy': 1}}, '680fa57492ec14ee7cf2b625': {0: {'medium': 1}, 3: {'medium': 1}, 5: {'nothing': 4}, 13: {'nothing': 1}, 14: {'medium': 1}, 17: {'easy': 1, 'nothing': 1, 'medium': 1}, 18: {'medium': 1}}, 'ffd02244bc2124d362a88918': {0: {'hard': 4, 'medium': 3, 'easy': 1}, 1: {'medium': 1, 'nothing': 1}, 3: {'hard': 1, 'medium': 3}, 4: {'medium': 2, 'hard': 1, 'easy': 1}, 5: {'easy': 1, 'nothing': 1}, 6: {'easy': 2, 'medium': 1, 'hard': 1}, 7: {'nothing': 1, 'easy': 1}, 8: {'nothing': 2, 'hard': 1, 'easy': 1, 'medium': 1}}, '01a90f3b3e469b6b8674d365': {0: {'medium': 1}, 4: {'hard': 1}}, '312e85bec3146b4f12701d35': {0: {'easy': 1}, 4: {'hard': 2, 'medium': 1, 'easy': 1}, 7: {'hard': 1}, 8: {'easy': 1}, 9: {'medium': 1}, 10: {'hard': 1, 'easy': 1}}, '8cdc00dae8e09e5618bf0e6a': {0: {'easy': 1}, 4: {'easy': 1}, 11: {'easy': 1}}, '6289665fbced043b0b7149d5': {0: {'nothing': 1}}, '191c2a6df4cb1537499af61e': {0: {'medium': 3}}, '34681c7ff5b1fd15de37d9ee': {0: {'nothing': 1, 'hard': 1}, 1: {'easy': 1}}, 'becd2c45ab0d292299ea389c': {0: {'hard': 2, 'easy': 1, 'medium': 1}, 1: {'nothing': 1}}, '685eda0aace01fb1b837961b': {0: {'hard': 2, 'medium': 3, 'easy': 3}, 1: {'medium': 1}}, '769b4a8de599c811ca3c675e': {0: {'nothing': 2}}, '1445a0ad4e81dd0fb0dd6ab0': {0: {'medium': 7}}, '718e38a1c1e6be92f2e74102': {0: {'hard': 1}}, 'fe8617699867551114fc5c63': {0: {'easy': 1}, 1: {'medium': 2}, 2: {'medium': 1}, 4: {'nothing': 1}}, 'cb8cb14f9788b83740c86493': {0: {'nothing': 3, 'medium': 1}, 1: {'easy': 1, 'medium': 1}, 2: {'nothing': 1}, 3: {'hard': 1, 'nothing': 1}, 7: {'nothing': 2, 'hard': 1}, 11: {'easy': 2, 'medium': 1, 'nothing': 1}}, '4c77b649e0ce8234ad70fbd5': {0: {'medium': 1}}, 'f0cc84fcaa742781ac5820f0': {0: {'easy': 2}, 1: {'nothing': 1, 'easy': 3}}, '2e2f56108dfcf590742d91cd': {0: {'hard': 1, 'nothing': 1}, 1: {'easy': 1}, 3: {'nothing': 1, 'easy': 1}}, '9bb0ee2aa64e7baec92e82f7': {0: {'easy': 2, 'nothing': 1, 'medium': 1}, 1: {'medium': 1, 'easy': 1}, 2: {'medium': 5, 'hard': 3, 'nothing': 4, 'easy': 1}, 3: {'hard': 3, 'medium': 1}, 4: {'medium': 1, 'hard': 1, 'nothing': 1, 'easy': 1}, 6: {'hard': 3, 'nothing': 2, 'easy': 2}, 7: {'easy': 1, 'nothing': 1}, 8: {'medium': 3, 'hard': 1, 'nothing': 1, 'easy': 1}, 9: {'nothing': 2, 'hard': 1}, 10: {'easy': 3}}, '629f24f944bdf98f86b8d773': {0: {'nothing': 2, 'medium': 1, 'hard': 1}}, 'fde1797b33f767bfb4ac7952': {0: {'nothing': 3}, 3: {'nothing': 1, 'hard': 1}, 7: {'medium': 1}}, '5ff9048eab137827fa446740': {0: {'hard': 1}, 3: {'nothing': 1}}, 'f92ad8a7c49dc93349aebc69': {0: {'hard': 1, 'nothing': 2, 'medium': 1}}, '982078b73e120a8ec0283118': {0: {'easy': 2}, 5: {'easy': 1, 'medium': 1}, 6: {'hard': 2, 'nothing': 1}}, '7d1c844cdcbfa6485120d835': {0: {'nothing': 1, 'easy': 1}}, '0d2483d57c8f634692dbe9c3': {0: {'medium': 1, 'hard': 1}, 7: {'nothing': 2, 'easy': 1, 'medium': 1}, 9: {'nothing': 1, 'easy': 1}}, 'd325f40561488b5f450e88bf': {0: {'nothing': 2, 'easy': 2}, 1: {'nothing': 2}, 2: {'nothing': 1, 'hard': 1}, 3: {'nothing': 2}, 4: {'nothing': 2}, 7: {'nothing': 2, 'easy': 1, 'hard': 1}, 8: {'nothing': 1}, 9: {'nothing': 2}}, 'ddb10214701439713d69df2b': {0: {'easy': 5}, 1: {'easy': 1, 'medium': 1}}, 'e9c50b332f319416676f35f7': {0: {'medium': 1}, 2: {'medium': 1}}, '573ac7c691bc33e5fcdb5670': {0: {'easy': 1}, 1: {'easy': 1}}, 'ff66543aecde06d495f8cf74': {0: {'medium': 1, 'easy': 1}}, '23ebdbe291c15ce457280ea0': {0: {'hard': 2, 'easy': 1, 'medium': 1}, 1: {'medium': 1}, 5: {'easy': 1, 'nothing': 1}, 6: {'easy': 1}, 7: {'hard': 1, 'easy': 1, 'medium': 2, 'nothing': 4}}, '68a49f75f9422acb39c6c6ab': {0: {'easy': 4, 'medium': 2, 'hard': 1}, 2: {'easy': 1, 'medium': 1}, 3: {'easy': 4, 'nothing': 2, 'medium': 3, 'hard': 1}, 4: {'nothing': 1, 'hard': 4, 'medium': 1, 'easy': 2}, 5: {'medium': 1, 'nothing': 1}, 6: {'medium': 3, 'easy': 3, 'hard': 2, 'nothing': 1}, 9: {'hard': 1}}, '84cec107f45cb7851b56ebd8': {0: {'medium': 2, 'hard': 1}}, '0e5e859214859b5e6383a1cf': {0: {'easy': 2}, 3: {'medium': 3, 'hard': 1}, 4: {'medium': 1, 'nothing': 1}, 5: {'medium': 1}}, '97a4d76bdc56abd8ebfbd2b5': {0: {'nothing': 1}}, '2d1ddf6cf9fc49a17cafc303': {0: {'medium': 3, 'easy': 2, 'nothing': 4, 'hard': 1}, 1: {'medium': 1}, 2: {'nothing': 1, 'hard': 1}, 4: {'medium': 2, 'hard': 2, 'easy': 1}, 5: {'medium': 1}, 6: {'easy': 3, 'medium': 1, 'nothing': 1, 'hard': 1}, 8: {'nothing': 1}, 9: {'medium': 1, 'easy': 2, 'nothing': 1, 'hard': 1}, 10: {'easy': 3, 'nothing': 1, 'medium': 1}, 12: {'easy': 1, 'medium': 1}}, 'd347801411a564e10bba3b59': {0: {'hard': 1}, 2: {'nothing': 1}, 3: {'easy': 1, 'hard': 1}}, '005648ef03b968927261272c': {0: {'medium': 1, 'nothing': 5, 'hard': 1}, 5: {'nothing': 4, 'easy': 1, 'medium': 1, 'hard': 1}, 6: {'nothing': 1, 'medium': 1}, 8: {'nothing': 3, 'easy': 1, 'hard': 1}}, '503da81376a52d6715015404': {0: {'nothing': 1, 'easy': 1}, 1: {'medium': 1}, 4: {'easy': 1, 'hard': 1}, 5: {'nothing': 1, 'easy': 2, 'medium': 1}, 6: {'nothing': 1, 'easy': 3, 'medium': 3, 'hard': 1}, 7: {'easy': 1, 'nothing': 2}, 8: {'nothing': 1}, 9: {'medium': 1, 'nothing': 1}}, 'ac5f5234cef7aa0c3d2cfb4a': {0: {'medium': 1, 'nothing': 1}, 6: {'hard': 2}}, 'eccab25415bb7312b6f9c385': {0: {'medium': 2, 'hard': 1, 'easy': 1}}, 'ae4f94a892cef7c9b97d8a47': {0: {'hard': 2, 'nothing': 3, 'easy': 3, 'medium': 2}, 1: {'nothing': 3, 'easy': 1}, 2: {'nothing': 2, 'medium': 1, 'easy': 1}, 3: {'easy': 1, 'medium': 1, 'nothing': 1, 'hard': 1}, 5: {'nothing': 2}, 7: {'nothing': 1, 'hard': 1}, 8: {'nothing': 1, 'medium': 1, 'hard': 1}, 9: {'nothing': 4, 'hard': 2}}, '4468b3968d4b7848779867fa': {0: {'nothing': 10, 'easy': 2, 'hard': 3, 'medium': 3}, 1: {'nothing': 21, 'easy': 7, 'hard': 6}, 2: {'nothing': 9, 'easy': 5, 'hard': 2}, 4: {'nothing': 6, 'medium': 2, 'hard': 1}, 5: {'nothing': 12, 'hard': 4, 'medium': 3, 'easy': 3}, 6: {'nothing': 5, 'hard': 2, 'easy': 2}, 7: {'easy': 3, 'nothing': 7, 'medium': 3, 'hard': 2}, 8: {'nothing': 11, 'medium': 4, 'easy': 3, 'hard': 2}, 9: {'nothing': 8, 'hard': 1, 'medium': 2, 'easy': 1}, 10: {'medium': 2, 'hard': 1}, 11: {'medium': 3, 'nothing': 1}, 12: {'nothing': 6, 'medium': 2, 'hard': 2, 'easy': 2}}, '1d5177ad492e614121e3412a': {0: {'easy': 1, 'nothing': 1}, 8: {'nothing': 1}, 9: {'nothing': 2, 'easy': 1}}, 'ff5114d4b2dfbc7dcbf110d7': {0: {'easy': 1}, 9: {'nothing': 1, 'hard': 1}}, 'a6cadfafd630f95896ffa2c2': {0: {'medium': 1, 'easy': 1, 'hard': 1}, 1: {'easy': 1, 'nothing': 1}, 6: {'easy': 1, 'hard': 1}, 8: {'easy': 2}}, '5b29dd6f03803532b23cb8ac': {0: {'medium': 1}}, '8cc6e3860b275bfa65e84f0b': {0: {'easy': 1}}, 'be133d78cb1a5fdb93154415': {0: {'easy': 1}, 5: {'nothing': 1}, 9: {'hard': 1}}, 'b30629296bf7d6d91fef79b7': {0: {'medium': 2}, 3: {'hard': 1, 'easy': 1}, 4: {'easy': 1}, 7: {'medium': 1, 'easy': 1}, 9: {'medium': 1}, 10: {'medium': 1, 'hard': 1}}, 'e62892716dac748941643ade': {0: {'medium': 2, 'nothing': 3, 'easy': 1}}, '03a7f278322c9dd0d96e736e': {0: {'hard': 1}}, '29bb6f10cecca9759ef72917': {0: {'medium': 1}}, 'b38959757947c0bc07e42355': {0: {'easy': 1}}, '6fc9148d86a29f85614ff93c': {0: {'easy': 1}, 3: {'hard': 1}, 6: {'medium': 1}, 9: {'medium': 1}}, 'c1a90c70d1ada6d19a048b95': {0: {'nothing': 2, 'easy': 1}, 7: {'nothing': 2}}, '8d6d3a6e2fe413537ba56204': {0: {'easy': 1}, 2: {'nothing': 2}, 9: {'nothing': 2}}, '3231f01add157588b3b2ce12': {0: {'nothing': 1}, 4: {'nothing': 1, 'hard': 1}, 5: {'nothing': 1}, 6: {'nothing': 4, 'easy': 1}, 9: {'nothing': 1}}, 'b303d10cac458669d9411dad': {0: {'easy': 1, 'hard': 1}}, '823269c3b3bc4df6ec4227b8': {0: {'easy': 5, 'hard': 11, 'medium': 1, 'nothing': 8}}, 'f9f1abfe4fd438357c3ba82f': {0: {'hard': 1, 'medium': 1}, 4: {'hard': 1, 'nothing': 4, 'easy': 1}, 9: {'nothing': 1}}, 'e4e0aa487f0d23fdb16c75b7': {0: {'hard': 1}, 4: {'hard': 1}, 5: {'nothing': 2, 'medium': 1, 'easy': 1}, 6: {'nothing': 3, 'easy': 2}, 7: {'nothing': 2, 'medium': 1, 'easy': 1}, 8: {'nothing': 2}}, 'd099b57c5714877c270bd357': {0: {'nothing': 1}, 1: {'medium': 1, 'nothing': 1}, 3: {'medium': 1}, 8: {'hard': 1}}, '8ac9265c8be0b4fb22e7040d': {0: {'nothing': 8, 'medium': 1}, 1: {'nothing': 1}, 2: {'nothing': 2}, 3: {'nothing': 2}, 4: {'nothing': 2, 'hard': 1}, 5: {'nothing': 4, 'medium': 2}, 11: {'nothing': 4, 'hard': 2, 'easy': 1}, 12: {'nothing': 1}}, '5be9268041e8fdc090cb4071': {0: {'easy': 2, 'medium': 1, 'hard': 1}, 2: {'nothing': 2, 'easy': 1, 'medium': 1}, 3: {'nothing': 1, 'easy': 1}, 4: {'easy': 2, 'medium': 1}, 5: {'easy': 3, 'nothing': 3}, 6: {'nothing': 5, 'easy': 1, 'hard': 1, 'medium': 1}, 7: {'nothing': 2, 'medium': 2}, 8: {'nothing': 1, 'easy': 1}, 9: {'nothing': 2, 'medium': 2}}, '08e360408011dde125caa8ef': {0: {'nothing': 1, 'medium': 1, 'hard': 1}, 2: {'easy': 1, 'hard': 2, 'nothing': 1}, 3: {'nothing': 4}, 5: {'nothing': 1, 'easy': 1, 'hard': 1}, 6: {'nothing': 2, 'hard': 1}, 7: {'medium': 2, 'nothing': 1}, 8: {'nothing': 3, 'hard': 1}, 9: {'nothing': 1, 'easy': 1}}, '9e5e8be38d11c910a14b9e39': {0: {'medium': 1, 'nothing': 1}, 6: {'nothing': 1, 'medium': 1}}, 'c973242e460233ebaeba67d0': {0: {'easy': 1}}, 'e67c66aeb775b5f056f63ee5': {0: {'hard': 1}}, '261c7f169b5b612cb4ff7e18': {0: {'nothing': 1, 'hard': 1, 'easy': 2}, 3: {'medium': 1, 'nothing': 1}, 8: {'hard': 1, 'medium': 3}, 9: {'medium': 2}}, '6497cb2037f42f62fd57c72b': {0: {'medium': 5, 'hard': 7, 'easy': 12, 'nothing': 9}, 1: {'medium': 1, 'hard': 1}, 3: {'nothing': 1, 'hard': 1}, 5: {'nothing': 1}, 6: {'medium': 3, 'nothing': 2, 'easy': 3, 'hard': 1}, 8: {'nothing': 3, 'hard': 2}}, '69d68185b8517c34829b4e2d': {0: {'nothing': 1, 'medium': 1}, 4: {'hard': 1, 'nothing': 1, 'medium': 1}, 5: {'easy': 1}, 7: {'nothing': 2}}, '479aaa7b11c1ed96b6670836': {0: {'nothing': 1, 'easy': 1}, 6: {'nothing': 1}}, '04329c55d4c06cb72ddac25d': {0: {'easy': 2, 'medium': 4}}, '3da9049735cce0050053e1b2': {0: {'nothing': 3, 'easy': 1}, 2: {'nothing': 2, 'hard': 1, 'easy': 1}, 3: {'hard': 1, 'nothing': 1}, 4: {'hard': 2, 'nothing': 3, 'easy': 3}, 5: {'nothing': 11, 'medium': 3}, 6: {'nothing': 1, 'medium': 1}, 8: {'nothing': 3, 'hard': 2, 'medium': 1}, 9: {'nothing': 3, 'medium': 2, 'easy': 1}, 10: {'medium': 2, 'nothing': 7, 'hard': 1, 'easy': 2}, 11: {'nothing': 6, 'hard': 2, 'medium': 2}}, '147a850c79b0b0eca17777f1': {0: {'nothing': 1}, 3: {'hard': 2, 'nothing': 1}, 5: {'nothing': 4, 'hard': 2, 'easy': 1}}, '9d4e5a561d4d83486482ca62': {0: {'medium': 1, 'easy': 1}, 3: {'medium': 2, 'easy': 1, 'nothing': 1, 'hard': 3}, 4: {'hard': 1}, 5: {'medium': 1, 'nothing': 1, 'easy': 1}, 7: {'medium': 1, 'hard': 1}}, '795eca0ec870200df9b76006': {0: {'medium': 1}, 1: {'easy': 1, 'nothing': 1, 'hard': 1}, 7: {'nothing': 2, 'medium': 1}}, '340ef581df674cf39e7a9da8': {0: {'nothing': 3, 'easy': 1, 'hard': 1}, 2: {'nothing': 2}, 3: {'nothing': 1, 'hard': 1}}, '0fa4a411a4cd69ecf84190e6': {0: {'easy': 2}}, '75ed9c43b93535084c30890b': {0: {'hard': 2, 'medium': 1}, 2: {'easy': 1}, 3: {'easy': 1, 'nothing': 1, 'medium': 1}, 5: {'nothing': 1, 'easy': 1}, 10: {'nothing': 4}}, '3b446aa8e4f4e2ef19ea920a': {0: {'easy': 1}, 2: {'medium': 1, 'nothing': 1}, 3: {'medium': 1, 'hard': 1}, 4: {'nothing': 2, 'easy': 1}, 5: {'nothing': 3, 'hard': 1}, 6: {'nothing': 1, 'easy': 1}, 7: {'nothing': 1, 'hard': 1}}, 'c334f346da92736a2f5fadf8': {0: {'easy': 1}}, 'eda8f5924accd205679f651a': {0: {'easy': 2}, 3: {'easy': 1}, 11: {'nothing': 1, 'easy': 1}, 12: {'easy': 3, 'hard': 1}, 13: {'easy': 1}}, '30faadbb5055018063b5d3ff': {0: {'easy': 1, 'nothing': 1, 'hard': 2, 'medium': 1}, 2: {'medium': 1, 'nothing': 2, 'hard': 1}, 4: {'hard': 1}, 5: {'easy': 1}}, 'd1dac241aec43df7927ea35f': {0: {'easy': 1, 'nothing': 1}, 4: {'medium': 1}, 5: {'easy': 1, 'nothing': 1}, 8: {'nothing': 1, 'hard': 1}}, 'ea297bff5e529601d9f38202': {0: {'hard': 1}}, 'd1531d00eac7a59cab01ff19': {0: {'medium': 2, 'hard': 1}, 1: {'hard': 1}}, '95d2c0fc566c199929b64197': {0: {'easy': 1}}, '29e20a584013553c2d1c73fe': {0: {'medium': 1}}, '90c9d078e9dee24eeae7c419': {0: {'medium': 2}, 6: {'nothing': 2}}, '4034070305729d62d091ea5b': {0: {'nothing': 5, 'easy': 1, 'hard': 1, 'medium': 1}, 1: {'nothing': 2, 'hard': 1}, 4: {'nothing': 2}}, '960167138d6ca7497d205064': {0: {'easy': 2}, 6: {'hard': 1}}, '73644dcebbc1f700fa2513a0': {0: {'easy': 2}, 8: {'easy': 1, 'nothing': 1}}, '7b699d92708e2fca9db0047a': {0: {'nothing': 2, 'hard': 1, 'medium': 1, 'easy': 1}, 1: {'nothing': 1, 'hard': 1}}, '8a3de6e864efb11651702891': {0: {'nothing': 2, 'medium': 1, 'hard': 1}}, '98f60011cb42bf4339163a04': {0: {'easy': 1}, 6: {'nothing': 1, 'easy': 1}}, '38dcdbd867dae61d0d831c56': {0: {'easy': 5, 'nothing': 3, 'hard': 2}, 1: {'easy': 4, 'medium': 2}, 2: {'easy': 8, 'nothing': 2, 'medium': 3}, 3: {'hard': 1, 'nothing': 2, 'easy': 1, 'medium': 1}, 4: {'easy': 5, 'medium': 2, 'hard': 3, 'nothing': 1}, 5: {'easy': 1, 'hard': 2}, 6: {'medium': 5, 'easy': 13, 'hard': 3, 'nothing': 1}}, 'c974f5f00a7c37ab3e6c17ed': {0: {'nothing': 1, 'easy': 1}}, '55463ea8750e325b3499d700': {0: {'medium': 2}}, '208e251ff92e5b60f54f9a1b': {0: {'nothing': 2, 'easy': 2, 'medium': 2}, 1: {'easy': 6}, 2: {'easy': 3, 'hard': 1, 'nothing': 1}, 3: {'easy': 1, 'medium': 1}, 4: {'easy': 1, 'medium': 1}, 6: {'easy': 1, 'hard': 1, 'medium': 1, 'nothing': 1}, 7: {'hard': 1}, 9: {'easy': 2}, 10: {'easy': 2}, 11: {'medium': 1}, 13: {'nothing': 1, 'easy': 1, 'hard': 1}, 14: {'hard': 2}}, 'ad10afb2d119741c334e6492': {0: {'hard': 2, 'nothing': 4, 'easy': 1}, 1: {'nothing': 1, 'easy': 1}, 2: {'nothing': 4, 'medium': 1, 'easy': 1}, 3: {'nothing': 6, 'medium': 2, 'hard': 1, 'easy': 1}, 4: {'nothing': 3, 'hard': 1}, 7: {'nothing': 3, 'hard': 2, 'medium': 1}, 8: {'nothing': 2, 'easy': 1}}, 'b95f6e7786df316996dc6fc5': {0: {'hard': 3, 'medium': 4, 'easy': 1, 'nothing': 4}, 1: {'nothing': 10, 'medium': 2, 'easy': 1, 'hard': 4}, 2: {'medium': 2, 'nothing': 1}, 3: {'nothing': 4}, 5: {'nothing': 2, 'easy': 1}}, 'add8480323b5b051d482dbef': {0: {'nothing': 1, 'easy': 1}}, '85bedb460b703182383c122b': {0: {'medium': 2, 'easy': 1, 'nothing': 1}, 3: {'nothing': 1, 'medium': 1}, 4: {'medium': 1, 'nothing': 1, 'hard': 1, 'easy': 1}, 5: {'nothing': 4, 'hard': 2, 'medium': 1}, 6: {'medium': 1}, 7: {'nothing': 2, 'easy': 1, 'medium': 1}}, 'f025fe1ade3c840dbdea7a81': {0: {'hard': 1}}, '165b8384832c48d379ba5a3b': {0: {'hard': 1}, 1: {'nothing': 2}}, 'dcc8874ee3e8571ebe996480': {0: {'medium': 3, 'hard': 2, 'nothing': 1}, 1: {'hard': 2, 'easy': 1, 'nothing': 1}, 2: {'medium': 1, 'hard': 1}, 3: {'easy': 1, 'medium': 2}, 4: {'easy': 1, 'medium': 1}, 5: {'hard': 1, 'easy': 3, 'nothing': 1}, 8: {'easy': 3}}, 'b9d90530008d1135d629a0db': {0: {'easy': 1, 'hard': 1}}, '6ca0e243ae3b291112152ace': {0: {'easy': 1, 'nothing': 2}, 1: {'hard': 1}}, '81f0810f91f553b1b75340e4': {0: {'nothing': 1, 'medium': 1}, 4: {'easy': 9, 'nothing': 6, 'medium': 3, 'hard': 1}, 5: {'medium': 1, 'nothing': 1}, 6: {'easy': 3, 'medium': 2}}, 'b150c55c310a1f4c936d293d': {0: {'nothing': 3, 'medium': 3, 'easy': 8}, 1: {'easy': 5, 'hard': 1, 'medium': 1}, 2: {'easy': 11, 'hard': 4, 'nothing': 2, 'medium': 1}, 5: {'medium': 1}, 6: {'easy': 6, 'medium': 2, 'nothing': 3, 'hard': 1}}, '5821905b20584504fa38495e': {0: {'medium': 1, 'nothing': 2, 'hard': 1}, 1: {'nothing': 2}, 2: {'hard': 1, 'medium': 1}}, '2773a31de09da7829f104bcd': {0: {'medium': 1, 'nothing': 2, 'hard': 1}, 1: {'easy': 1, 'hard': 2}, 2: {'medium': 1}, 3: {'easy': 2, 'medium': 2, 'hard': 1, 'nothing': 1}, 4: {'easy': 1}, 5: {'easy': 2, 'hard': 1, 'medium': 2, 'nothing': 1}, 6: {'medium': 2}, 7: {'nothing': 5, 'medium': 1, 'easy': 2, 'hard': 2}}, 'c95f212209f30821a39a19f3': {0: {'medium': 1}}, '94eceed38afea7d2f7692e85': {0: {'nothing': 1, 'hard': 1}, 3: {'nothing': 1}}, '7d336d353b0e5b89267acd69': {0: {'nothing': 6, 'medium': 5, 'easy': 3, 'hard': 1}, 2: {'nothing': 2, 'medium': 1}, 3: {'nothing': 4, 'hard': 3, 'easy': 3, 'medium': 2}, 4: {'nothing': 3, 'hard': 1}, 5: {'nothing': 2}, 6: {'nothing': 1, 'easy': 1}}, '4f65c0dca095bd7f2b92949e': {0: {'nothing': 1, 'hard': 1}}, '70338b267dd51de7e1d5fe91': {0: {'medium': 4, 'easy': 2, 'nothing': 2}, 6: {'easy': 4, 'medium': 2, 'hard': 1}, 7: {'easy': 4, 'medium': 2, 'nothing': 1}, 8: {'nothing': 3, 'easy': 2, 'medium': 1}, 9: {'nothing': 1, 'medium': 1}, 10: {'nothing': 2, 'easy': 1, 'hard': 1}, 12: {'nothing': 1, 'hard': 1}, 13: {'nothing': 2, 'hard': 1}}, '94aa6f2af15338dd95d3ee06': {0: {'hard': 1}, 2: {'medium': 1, 'hard': 1}}, '0f25c4d3bcec92b516fc0aba': {0: {'easy': 1}}, '23051524bbccd90c036bf21e': {0: {'easy': 2, 'hard': 1}, 1: {'hard': 1}}, '5d6596bcfbbc678d9d79c41f': {0: {'hard': 1}}, '919f0af2e5818fed3d7f46dd': {0: {'easy': 1, 'hard': 1}, 6: {'medium': 1, 'hard': 1, 'nothing': 1}}, 'ae352f5631495547c708cf43': {0: {'medium': 3, 'nothing': 2, 'hard': 2}, 1: {'easy': 1, 'medium': 2, 'hard': 1}, 3: {'nothing': 2, 'easy': 2}, 6: {'nothing': 5, 'easy': 1, 'medium': 1}}, '1fd07439f64c4ec201dc9514': {0: {'nothing': 2, 'hard': 1, 'easy': 2}, 2: {'easy': 1, 'medium': 1}, 3: {'easy': 1, 'hard': 1, 'nothing': 1}, 7: {'easy': 1}}, '5fc1b2e389b56b68d6df7133': {0: {'hard': 1, 'easy': 1}, 2: {'nothing': 2, 'easy': 1, 'medium': 1, 'hard': 1}, 3: {'nothing': 2, 'medium': 1}}, '91895d06176b96f6e1d39311': {0: {'hard': 11, 'medium': 3, 'easy': 3, 'nothing': 1}, 1: {'hard': 3, 'nothing': 1, 'easy': 1, 'medium': 2}, 3: {'hard': 4, 'nothing': 8, 'easy': 3, 'medium': 2}, 4: {'hard': 6, 'nothing': 4, 'easy': 1}, 5: {'easy': 1, 'hard': 1, 'medium': 2, 'nothing': 3}, 6: {'nothing': 8, 'hard': 1}, 7: {'hard': 4, 'nothing': 17, 'medium': 2, 'easy': 3}, 8: {'nothing': 6, 'hard': 3, 'medium': 1}, 10: {'nothing': 8, 'medium': 3, 'easy': 2}, 11: {'nothing': 6, 'hard': 1, 'easy': 1}}, '75d602d54f5484255b9fbb38': {0: {'nothing': 2}}, '4112e471c30124b7597c4738': {0: {'medium': 3, 'easy': 2, 'nothing': 3}, 4: {'nothing': 3, 'easy': 1}}, 'fb19ffdffb224867378c67b4': {0: {'hard': 1}}, '5e417cafd2ba12a82100b7f4': {0: {'medium': 1}, 8: {'hard': 1}}, 'a82e71f10487e1f8f80c4552': {0: {'hard': 2, 'nothing': 1}}, '4c90b0569f1caad0604bcd64': {0: {'easy': 7, 'hard': 1, 'medium': 1}, 1: {'easy': 1, 'medium': 1}, 3: {'easy': 1, 'hard': 1}, 4: {'easy': 7, 'hard': 3, 'nothing': 3, 'medium': 2}, 5: {'easy': 6, 'medium': 1, 'hard': 2}, 6: {'easy': 3, 'medium': 1, 'hard': 2}, 7: {'easy': 4}}, '8e83771ba2b52a591ef47f18': {0: {'hard': 2, 'nothing': 1}, 1: {'easy': 1, 'hard': 1}, 4: {'medium': 1, 'hard': 1}, 5: {'hard': 2}, 6: {'easy': 2, 'hard': 1, 'nothing': 1}}, 'dc71bb3736851be20341bec6': {0: {'easy': 1, 'medium': 1, 'nothing': 1}}, 'bed05c328fcb0e7226787765': {0: {'nothing': 1}}, 'a776a1a73a9a242660d60a4a': {0: {'medium': 2, 'nothing': 1, 'easy': 1}, 1: {'easy': 4}}, '74be4661bdf81b46dbd4f065': {0: {'nothing': 1, 'hard': 1}}, 'debb05784429dedfa46638a4': {0: {'easy': 3, 'hard': 6, 'nothing': 2, 'medium': 1}, 1: {'easy': 1}, 2: {'hard': 9, 'nothing': 3, 'easy': 1}, 3: {'hard': 7, 'nothing': 2, 'medium': 1, 'easy': 1}, 4: {'hard': 2}, 5: {'hard': 4, 'easy': 1, 'nothing': 1, 'medium': 1}, 6: {'hard': 7, 'nothing': 1, 'medium': 1}, 7: {'hard': 7, 'medium': 1, 'easy': 3}, 8: {'hard': 1, 'nothing': 1}, 9: {'hard': 2, 'nothing': 1, 'medium': 1}}, '3356d1a457021695a8f59f13': {0: {'nothing': 5, 'hard': 2}, 2: {'hard': 1, 'medium': 1}}, '995757f4d2ecdc8424c2d942': {0: {'easy': 2, 'hard': 1, 'nothing': 2}, 5: {'medium': 1, 'easy': 2, 'nothing': 2}, 6: {'nothing': 3, 'medium': 1}, 7: {'nothing': 5, 'hard': 3}, 11: {'nothing': 1}}, '99da6e33aa546cf28d3fe7d9': {0: {'easy': 1}}, 'ab58b3b222f10ce91bf1573e': {0: {'hard': 1, 'easy': 3, 'nothing': 3, 'medium': 1}, 1: {'medium': 1}, 2: {'easy': 1, 'medium': 1}}, '32e7ebb90fb9eebed0ac660b': {0: {'hard': 1}, 1: {'easy': 2, 'nothing': 2, 'medium': 1}}, 'c6160aaab34054c6e9595e03': {0: {'nothing': 1}}, '7a4467a11e67de10dd7d492c': {0: {'easy': 3, 'nothing': 2, 'medium': 1}, 1: {'hard': 1, 'easy': 1, 'medium': 1, 'nothing': 2}, 2: {'medium': 1}, 4: {'nothing': 5, 'medium': 5, 'easy': 6, 'hard': 1}, 5: {'nothing': 3, 'hard': 1}, 6: {'medium': 3, 'easy': 2, 'nothing': 4, 'hard': 2}}, 'e9daae220d25d4bba97600fd': {0: {'medium': 1}}, '4903c58dcc775c022331845d': {0: {'easy': 1}}, 'ce7faa96c02661693ad173e3': {0: {'easy': 5, 'medium': 14, 'hard': 6, 'nothing': 4}, 1: {'nothing': 8, 'easy': 9, 'medium': 12, 'hard': 5}, 2: {'nothing': 7, 'easy': 6, 'hard': 8, 'medium': 3}, 3: {'nothing': 6, 'easy': 5, 'medium': 4, 'hard': 3}, 4: {'nothing': 6, 'easy': 1, 'medium': 1, 'hard': 1}}, '03864dbf158c2920039ca914': {0: {'nothing': 1, 'hard': 1}, 1: {'medium': 1}, 2: {'nothing': 1, 'easy': 1}}, 'df138730f0c51442b013b5b8': {0: {'medium': 1, 'hard': 2}, 1: {'medium': 1, 'easy': 1}}, '55dfb1c6bbe79d67051eeb69': {0: {'nothing': 2, 'medium': 1, 'hard': 1, 'easy': 1}, 2: {'nothing': 3, 'medium': 1}, 3: {'hard': 1}, 4: {'medium': 3, 'easy': 2, 'nothing': 5, 'hard': 5}, 5: {'nothing': 8, 'hard': 3, 'medium': 1}, 6: {'easy': 4, 'nothing': 3, 'medium': 1}, 9: {'nothing': 5}}, '9719ddd08526e3dc21cd90b9': {0: {'easy': 1}, 1: {'easy': 1}, 3: {'nothing': 1}, 5: {'hard': 1}}, 'e87239495461aab0bdf074fe': {0: {'medium': 1, 'hard': 1}, 1: {'hard': 2, 'easy': 1}, 2: {'nothing': 1, 'medium': 1, 'hard': 2}, 3: {'medium': 3, 'easy': 1, 'nothing': 1}}, 'bb20f7f5242463d295117b4d': {0: {'easy': 2}, 1: {'medium': 1}}, 'ff4f7e45c00745a44d628ec3': {0: {'easy': 1, 'nothing': 2}, 5: {'easy': 1}}, '5e2d103a06fbebf48933ecf1': {0: {'easy': 1}}, '49af23d33eb39f731e0e8060': {0: {'medium': 1}, 9: {'medium': 1}}, 'a70a3a87791d7c19a729d99e': {0: {'nothing': 1}, 1: {'nothing': 1}}, '2d00e2370174e568635034f7': {0: {'hard': 1}}, '76539655cbfdb2ae3aeb0bef': {0: {'easy': 6, 'medium': 2}, 1: {'easy': 5}, 2: {'easy': 2}, 3: {'easy': 5}, 4: {'easy': 7}, 5: {'easy': 9}, 6: {'easy': 5}, 7: {'easy': 14}, 12: {'easy': 6}, 13: {'easy': 10, 'nothing': 1}, 14: {'easy': 4}, 15: {'easy': 13, 'nothing': 1}, 16: {'easy': 8}, 19: {'easy': 9}, 20: {'easy': 9}, 21: {'easy': 24}, 22: {'easy': 16}, 23: {'easy': 5}, 24: {'easy': 11}, 25: {'easy': 7}, 26: {'easy': 7}, 27: {'easy': 11}, 28: {'easy': 15, 'nothing': 1}, 29: {'easy': 12, 'nothing': 1}, 30: {'easy': 2}, 31: {'easy': 2}, 32: {'easy': 2}, 33: {'easy': 9}, 35: {'easy': 1}, 36: {'easy': 3}, 37: {'easy': 1}, 39: {'easy': 5}, 40: {'easy': 7, 'nothing': 1}, 41: {'easy': 4, 'nothing': 1}, 42: {'easy': 2}, 43: {'easy': 5}, 44: {'easy': 2, 'nothing': 1}, 45: {'easy': 1}, 46: {'easy': 5}, 47: {'easy': 11}, 48: {'easy': 13}, 49: {'easy': 2, 'nothing': 1, 'medium': 1}, 50: {'easy': 6, 'hard': 1, 'nothing': 3}, 51: {'easy': 5, 'nothing': 1, 'hard': 3}, 52: {'easy': 1, 'medium': 1, 'nothing': 2}, 53: {'easy': 1}, 54: {'easy': 3, 'nothing': 1, 'medium': 1, 'hard': 1}, 55: {'easy': 2, 'hard': 3, 'nothing': 1}, 56: {'easy': 13, 'nothing': 12, 'hard': 2}, 57: {'nothing': 13, 'hard': 4, 'easy': 4, 'medium': 3}, 58: {'nothing': 10, 'hard': 3, 'medium': 1}, 59: {'medium': 1, 'nothing': 2}, 61: {'nothing': 1}}, '7a796b893970c5dd3cbd3e2c': {0: {'medium': 2, 'hard': 2, 'nothing': 1, 'easy': 1}}, '6b2139632c138160b070d696': {0: {'hard': 1, 'easy': 1}, 5: {'nothing': 1}}, '5d32d055df0987d27e61a39a': {0: {'nothing': 1}, 1: {'medium': 2, 'hard': 2, 'nothing': 1}, 5: {'nothing': 2}, 8: {'medium': 1}}, 'c87e1a0c24e28e56446478d1': {0: {'easy': 1, 'hard': 1}, 1: {'easy': 1}}, '550f2efb4ea0e6e82bfbfc06': {0: {'easy': 1}, 1: {'medium': 1, 'nothing': 1}, 2: {'medium': 2, 'easy': 1, 'nothing': 1}}, 'c756a9048d5a29e0017e397f': {6: {'nothing': 1, 'medium': 1}, 0: {'nothing': 1}}, '6167cf28cd806e7216bb7f14': {0: {'easy': 1, 'hard': 1}, 4: {'medium': 2, 'easy': 1, 'hard': 1, 'nothing': 1}, 9: {'medium': 1}}, '95077b4663b00b677e43af97': {0: {'nothing': 1}, 4: {'nothing': 1}}, 'bc540592e7fe56970c5b9414': {0: {'medium': 1}, 3: {'nothing': 1}}, 'f4a1ecf0b99c9acc64f3f684': {0: {'easy': 1}}, '70bfee11685a11fda589cf5b': {0: {'medium': 7, 'easy': 2, 'nothing': 2, 'hard': 1}, 1: {'medium': 8, 'hard': 1, 'nothing': 2, 'easy': 6}, 2: {'medium': 5, 'hard': 2}, 3: {'medium': 21, 'nothing': 9, 'hard': 6, 'easy': 3}, 4: {'medium': 10, 'hard': 4, 'nothing': 8, 'easy': 3}, 5: {'easy': 7, 'medium': 10, 'nothing': 3, 'hard': 2}, 6: {'medium': 15, 'easy': 5, 'nothing': 6, 'hard': 1}, 7: {'medium': 3, 'hard': 2, 'nothing': 1, 'easy': 1}}, '9f63607d52338c379e9d74d2': {0: {'nothing': 1, 'easy': 1}, 1: {'medium': 1}}, '2d7bdb5263221124d6123f07': {0: {'easy': 1}, 3: {'easy': 1, 'medium': 1}}, '2518c24bd3c0f91d51e671df': {0: {'nothing': 1}, 2: {'easy': 1}, 3: {'nothing': 1, 'easy': 1}}, 'bc03665626f4e0709ea7e8a3': {0: {'nothing': 2, 'medium': 1}}, 'c1214c23d54065b55470e2c4': {0: {'medium': 6, 'nothing': 13, 'hard': 5, 'easy': 2}, 1: {'nothing': 15, 'hard': 2, 'easy': 3, 'medium': 2}, 2: {'nothing': 17, 'hard': 5, 'easy': 7, 'medium': 6}, 3: {'nothing': 7, 'medium': 5, 'easy': 1, 'hard': 2}, 4: {'nothing': 7, 'easy': 5, 'hard': 4, 'medium': 2}, 5: {'nothing': 2, 'easy': 2, 'medium': 1}, 6: {'nothing': 3, 'easy': 1}, 7: {'nothing': 3, 'easy': 1}}, '01bbdfaff1cee2bac0e4dc4f': {0: {'easy': 1}}, 'c553aff8409b1a1f4e966475': {0: {'easy': 5, 'hard': 1, 'medium': 1}, 2: {'easy': 1, 'medium': 1}, 3: {'easy': 3, 'nothing': 1}, 4: {'medium': 3, 'easy': 2, 'nothing': 2}}, '80159e84e3fadc088450b0a7': {0: {'medium': 1, 'nothing': 1}, 1: {'hard': 1}, 6: {'hard': 1, 'nothing': 2, 'easy': 2, 'medium': 1}}, '22e5d8537814c5db16e1f7d3': {0: {'nothing': 1}}, '87d5b07b49288cfedf5392c9': {0: {'nothing': 1}}, '0b47b1be3a4334f258063927': {0: {'medium': 1}}, '7caa029244d10294629890f5': {0: {'hard': 4, 'nothing': 1, 'easy': 1, 'medium': 1}, 1: {'easy': 1, 'hard': 1}}, 'c42dda4eba6d9a24c42795c1': {0: {'medium': 1, 'easy': 1}, 3: {'nothing': 4, 'medium': 1, 'hard': 1}}, '95336a14cc95b3d47e12787e': {0: {'nothing': 2}, 3: {'nothing': 2, 'hard': 2}}, '99d5afd2587cade3af5f7cda': {0: {'easy': 1, 'nothing': 1}, 3: {'medium': 1, 'hard': 1}}, '17e22cec95925e8c0a563c71': {0: {'hard': 1}, 5: {'nothing': 1, 'easy': 2, 'hard': 1}, 6: {'easy': 1, 'hard': 1}, 10: {'nothing': 1}}, '4a55d06eba87225929f63abb': {0: {'medium': 1}, 3: {'hard': 1}}, '8731903b076a4c2446a629b9': {0: {'easy': 1, 'nothing': 1}}, '23c60610bc9978d37a5a52cf': {0: {'nothing': 5, 'easy': 8, 'medium': 2}, 1: {'nothing': 11, 'medium': 4, 'easy': 6, 'hard': 4}, 2: {'hard': 11, 'medium': 1, 'easy': 7, 'nothing': 4}, 3: {'hard': 2, 'medium': 2, 'nothing': 2, 'easy': 1}}, 'aa1624b0ba7c3d4356fc8819': {0: {'nothing': 1, 'easy': 1, 'medium': 1}, 1: {'nothing': 2}, 2: {'nothing': 4, 'medium': 1, 'easy': 1}, 3: {'nothing': 1, 'hard': 1}}, '376c20bd1bdd477072940b29': {0: {'medium': 1}}, 'cc042b48224bd0d546ff55cc': {0: {'medium': 1}}, 'eb50ceaef748ab8e60580f92': {0: {'medium': 3, 'easy': 1, 'hard': 1, 'nothing': 2}, 1: {'hard': 4, 'medium': 1, 'nothing': 2}, 2: {'nothing': 3, 'medium': 1}, 3: {'medium': 1, 'easy': 2, 'nothing': 1}, 4: {'hard': 6, 'medium': 4, 'easy': 2}}, '5cf7ca161c3003b18575e6ff': {0: {'nothing': 3}, 1: {'nothing': 1}, 2: {'medium': 1}, 3: {'nothing': 6, 'easy': 1, 'hard': 1}, 4: {'nothing': 1, 'easy': 1}, 5: {'easy': 1, 'hard': 2, 'nothing': 1}}, '077129cd9d735beedee1cbb4': {0: {'easy': 5, 'hard': 3, 'nothing': 1, 'medium': 3}, 1: {'easy': 6, 'nothing': 4, 'medium': 2}, 2: {'easy': 5, 'hard': 2, 'medium': 1, 'nothing': 1}, 4: {'easy': 5, 'medium': 1}, 5: {'medium': 2, 'easy': 1, 'nothing': 1}, 6: {'easy': 1, 'medium': 1}, 7: {'medium': 1, 'easy': 4, 'nothing': 2, 'hard': 1}}, '29eef7f0194319bf35e7cd6f': {0: {'medium': 1, 'hard': 1}, 4: {'medium': 1}}, '47f5bfd75f3e7ef18cf66cf6': {0: {'nothing': 1}, 5: {'nothing': 1}}, 'f642307f2f12f88278e0a74d': {0: {'nothing': 2, 'hard': 1}}, 'b1e219ee18512be2b52a1d10': {0: {'easy': 2, 'medium': 3}}, 'e8951b3683e5e970b6ddc8dd': {0: {'easy': 1, 'medium': 1}}, 'b69d2b6e07e8a01aa3c4ca47': {0: {'hard': 1, 'nothing': 1}, 3: {'easy': 1, 'nothing': 1}}, 'fd64784db227c27e14b9c8f1': {0: {'nothing': 4, 'easy': 5, 'medium': 2, 'hard': 3}, 1: {'easy': 1, 'nothing': 1}, 2: {'medium': 1, 'easy': 3}}, '5e3687f12ffe762941a6ac7f': {0: {'medium': 2, 'hard': 2}, 2: {'easy': 1, 'medium': 1, 'nothing': 1, 'hard': 1}, 3: {'hard': 1, 'easy': 1}, 4: {'hard': 1}}, '0d41bde6d6328242aa909861': {0: {'medium': 1, 'hard': 1}}, 'e5967751c4ea5233426a7d24': {0: {'easy': 1, 'nothing': 1}}, '603bc2717e76e6b1fe709ef2': {0: {'easy': 1}}, '36723d6184e1201c782ea409': {0: {'nothing': 12, 'easy': 4, 'medium': 1}, 1: {'nothing': 8}, 9: {'hard': 1, 'medium': 1}, 10: {'nothing': 6, 'easy': 1}, 13: {'nothing': 4, 'easy': 1, 'hard': 2, 'medium': 1}, 14: {'nothing': 2, 'hard': 1}}, '17dd5507b832e69c4a1611ea': {0: {'nothing': 12, 'medium': 1, 'hard': 2, 'easy': 2}, 1: {'nothing': 5, 'hard': 1}, 3: {'nothing': 1, 'medium': 1, 'easy': 2, 'hard': 1}, 4: {'nothing': 7, 'medium': 2, 'hard': 2}}, '230bb3e75793b32df14710b4': {0: {'easy': 1, 'medium': 1, 'hard': 1}}, '638006c06fbcc3672795247f': {0: {'medium': 1}}, 'bf96ad64960861e5a4d6c569': {0: {'medium': 2, 'nothing': 2}, 1: {'easy': 1, 'hard': 1}, 2: {'medium': 1, 'nothing': 1}, 3: {'medium': 1, 'easy': 3, 'nothing': 1}, 4: {'nothing': 1}}, '2e64ae58615cc885e031d352': {0: {'nothing': 3, 'medium': 2}, 1: {'medium': 1}}, '9dab1923f50fc32bb000710d': {0: {'easy': 4}, 3: {'nothing': 2}}, 'c292e2e4bb00a5e02cdc854b': {0: {'easy': 7, 'nothing': 5, 'medium': 3, 'hard': 1}, 1: {'medium': 1, 'easy': 1}, 2: {'easy': 1, 'medium': 1}}, '6752e4b333a78cc22b905ea4': {0: {'easy': 2, 'medium': 1}}, '0a5a3f46a615e3eb4898437a': {0: {'medium': 10, 'easy': 3, 'nothing': 3, 'hard': 1}, 1: {'medium': 4, 'hard': 1, 'nothing': 1, 'easy': 2}, 2: {'medium': 2}}, '706b24085a377ff5dcbcea3b': {0: {'nothing': 3}, 1: {'medium': 1, 'nothing': 1}, 3: {'nothing': 1, 'hard': 1}}, '8919f5a7750cc7a3a7d23995': {0: {'easy': 2, 'nothing': 1}}, 'ad2caeb37faf903dbde9a774': {0: {'easy': 2}, 3: {'easy': 1, 'hard': 1}, 9: {'easy': 1, 'nothing': 1}, 10: {'easy': 1, 'medium': 1}}, '3be0a9de5b618195c21618aa': {0: {'easy': 1, 'nothing': 1}}, 'c596c386a51b05f8e72136d6': {0: {'nothing': 1, 'hard': 1}}, '7b8b9c3a3d1aaef70ff54122': {0: {'nothing': 4, 'medium': 3, 'hard': 10, 'easy': 2}, 1: {'hard': 5, 'nothing': 6, 'easy': 3}, 3: {'easy': 2, 'hard': 4, 'medium': 2}, 4: {'hard': 4, 'easy': 4}}, 'f4230254eae26656f3b6b6d9': {0: {'medium': 2, 'hard': 1, 'nothing': 1}}, '7c3e71fa77a8c2507cf935aa': {0: {'hard': 1, 'easy': 1, 'nothing': 4, 'medium': 1}, 3: {'medium': 1}, 6: {'easy': 2}}, '53ad84c711b1d285c9e8fc95': {0: {'hard': 8, 'nothing': 7, 'medium': 7, 'easy': 2}, 1: {'nothing': 7, 'medium': 5, 'easy': 3}, 2: {'nothing': 13, 'hard': 16, 'medium': 7, 'easy': 9}, 3: {'nothing': 8, 'medium': 1, 'hard': 2, 'easy': 1}}, '8cc0112165c15bb7d67fd9f0': {0: {'medium': 2, 'nothing': 1, 'easy': 1}}, '59654c05785b476dd9bbcf49': {0: {'easy': 2, 'hard': 2, 'medium': 1, 'nothing': 1}}, '06045bdb7fdc590986bed4d1': {0: {'nothing': 1}}, '0c2416b27f5268237f99ef0d': {0: {'hard': 1}}, '993e9c2979ddfd233eb6e87b': {0: {'easy': 2, 'nothing': 5, 'hard': 3, 'medium': 1}}, 'f3ebce21e441e5354a44cae6': {0: {'nothing': 1}}, '6214dd4db658ab2157a175d6': {0: {'hard': 1}}, 'ead11c1ad9b159b4f41e7f27': {0: {'easy': 2}}, '11ef69bedca87a3959d7650c': {0: {'nothing': 1, 'hard': 1, 'easy': 1, 'medium': 1}, 1: {'nothing': 1}, 2: {'easy': 1}}, '8d618b1aa47a24688e77d4b0': {0: {'hard': 1}}, '6ad1f121a66163acfc82e65b': {0: {'medium': 2}, 1: {'easy': 1, 'medium': 1}, 2: {'nothing': 1, 'medium': 1}}, 'feace09e23b528b974636c2c': {0: {'medium': 1}}, '53a7a26bd76e25b1aacf7dfc': {0: {'hard': 1}, 2: {'easy': 3, 'medium': 1}}, 'a0a8d9223037e741b16bff96': {0: {'easy': 1, 'medium': 1}, 1: {'nothing': 1, 'easy': 1}}, '3f8d50eb6ee4905210e49719': {0: {'nothing': 1}, 1: {'hard': 1}}, '046c62d4db462ad4e699683b': {0: {'hard': 2, 'nothing': 2}}, 'aeaba3cc03f8caec9a01318d': {0: {'medium': 1}}, '31b5f3e843617e8e7d6b8ea1': {0: {'nothing': 2}, 1: {'nothing': 7}, 2: {'nothing': 9}, 3: {'nothing': 7}, 4: {'nothing': 2}, 11: {'nothing': 1, 'medium': 1}}, '6222e1f536a077b4ba3e0e3a': {0: {'medium': 1, 'nothing': 1}, 1: {'medium': 1}, 2: {'nothing': 1}, 4: {'medium': 1}, 5: {'nothing': 1, 'medium': 1}}, '50daf5dd90fd8dcc11cf2055': {0: {'easy': 1}, 3: {'nothing': 2}, 6: {'nothing': 1}, 8: {'nothing': 4}, 9: {'nothing': 1}}, 'e55260efa8c2af952869eed8': {0: {'easy': 2, 'medium': 2, 'nothing': 2, 'hard': 1}}, 'efdac606466a000b66240ab4': {0: {'easy': 1, 'nothing': 1}, 3: {'nothing': 1, 'easy': 1, 'medium': 1}, 4: {'medium': 1, 'hard': 1, 'easy': 1}}, '45cbe2535dc0d49e8dfefd85': {0: {'nothing': 1}}, '2cb79f08c241bc07d6b60f25': {0: {'easy': 2}}, 'db720e9f1b4a9d5f1c095759': {0: {'easy': 1, 'medium': 1}, 1: {'easy': 1}}, '9f4ab612b2b78dbe9c6f8314': {0: {'nothing': 1}, 1: {'nothing': 1}, 3: {'medium': 2}}, '34f88479588760b0f7602963': {0: {'easy': 2, 'nothing': 2}}, 'a80090ce7639f13a8cf1850f': {0: {'hard': 1}, 3: {'hard': 1}, 8: {'easy': 1, 'medium': 1}}, '81961ca030be6bf624ded76c': {0: {'nothing': 4, 'medium': 1, 'hard': 2}, 1: {'easy': 2, 'hard': 1}}, '46023821f3049a8e3cb99a12': {0: {'hard': 1, 'medium': 1}}, '476560f347630b9767305ce4': {0: {'easy': 1, 'nothing': 2}, 2: {'medium': 1}, 4: {'nothing': 1, 'easy': 1}}, 'bd5a83734c3c6b21da15e944': {0: {'easy': 1}, 1: {'medium': 1}}, 'de4b5e1af816fdde9e7b3f75': {0: {'medium': 2}}, '0911f02e9029fe5968464af3': {0: {'easy': 3}}, 'bb5e34bad8c67161a3073b8a': {0: {'hard': 1, 'easy': 1, 'nothing': 1}}, '42d423a7795c4db18f83a31d': {0: {'easy': 1}}, '4ca21b6f78c81620352e2066': {0: {'easy': 4, 'hard': 1}}, 'bd4de1bf21519942e2c235e8': {0: {'nothing': 2, 'easy': 2}}, '087dfda9e4b24dc548a8bd84': {0: {'nothing': 1, 'hard': 2, 'medium': 1, 'easy': 5}}, '053c751b36829143d2e4cf6d': {0: {'easy': 2, 'hard': 1}}, '6f53cbef196d14989950c75e': {0: {'nothing': 4, 'medium': 2}}, 'e748eade7d7199d3458199f2': {0: {'nothing': 1, 'easy': 1, 'hard': 1}}, '77178110beccb44ed888ecdd': {0: {'medium': 1, 'nothing': 1}, 1: {'medium': 1}}, 'f7e68a95224cf021acc029ef': {0: {'easy': 1, 'nothing': 1}}, '0e543d5eb54137d5b3bed87a': {0: {'hard': 1, 'nothing': 1}}, 'e8a72c62421d1b1cacc2b6f1': {0: {'hard': 1, 'medium': 1}, 3: {'nothing': 6, 'easy': 2, 'hard': 1}}, 'e75beb5da9a5c7bc35a7d9d8': {0: {'medium': 2, 'easy': 6, 'hard': 1, 'nothing': 1}, 4: {'easy': 5, 'nothing': 3, 'medium': 3, 'hard': 2}}, 'ff8ee5e4f9c07e70b0877544': {0: {'medium': 3, 'easy': 1}}, '8e135ee4e25cb0e1bda794db': {0: {'easy': 1, 'medium': 1}, 2: {'easy': 1, 'nothing': 2, 'hard': 2}}, '0f803a4a2074894a544e3aa4': {0: {'medium': 3, 'easy': 5, 'nothing': 2, 'hard': 1}, 2: {'easy': 1, 'nothing': 1}}, 'd9b3825ffb122366704d19ae': {0: {'medium': 1, 'easy': 2}, 6: {'hard': 1, 'easy': 1}}, 'cceb3953e4ff2a92f4465c0d': {0: {'medium': 2}}, '28e451dd30f2023aa95eaf80': {0: {'nothing': 1, 'easy': 1, 'medium': 1}}, 'e7ebf944b2771f27cc5401e1': {0: {'hard': 1}, 4: {'medium': 2}}, 'bc47858afe4bb9b24f5ea5f6': {0: {'easy': 1}}, '5c34da9c723b7b7fb7830731': {0: {'easy': 1}}, 'dfe9dbe3ba93f97dfa9d4ad1': {0: {'easy': 1}}, 'ba0a177c1bfb21d24d95495d': {0: {'nothing': 1, 'hard': 1}, 1: {'easy': 1}, 2: {'easy': 3, 'nothing': 1, 'medium': 1}, 3: {'nothing': 1, 'medium': 1}, 4: {'nothing': 2}, 5: {'nothing': 1, 'medium': 1}, 6: {'nothing': 1, 'medium': 1}, 7: {'easy': 1}, 8: {'nothing': 1, 'medium': 1}, 9: {'nothing': 4, 'hard': 1, 'medium': 1}}}\n"
     ]
    }
   ],
   "source": [
    "user_to_daynum_to_difficulty_choices = get_user_to_daynum_to_difficulty_choices()\n",
    "print(user_to_daynum_to_difficulty_choices)\n",
    "#print(user_to_daynum_to_difficulty_choices['d45b8b82dec8ec3c591fdbd7'])"
   ]
  },
  {
   "cell_type": "code",
   "execution_count": 63,
   "metadata": {},
   "outputs": [
    {
     "name": "stdout",
     "output_type": "stream",
     "text": [
      "mean entropy per user 0.8849907437971919\n",
      "median entropy per user 0.9959482086700628\n"
     ]
    },
    {
     "data": {
      "application/vnd.plotly.v1+json": {
       "config": {
        "linkText": "Export to plot.ly",
        "plotlyServerURL": "https://plot.ly",
        "showLink": false
       },
       "data": [
        {
         "type": "histogram",
         "uid": "86718a4c-de01-4e6b-831a-bea57fbc7090",
         "x": [
          0.7122497194936322,
          0.48217919020227273,
          1.9216908022742647,
          0.5699988509472104,
          0.16232618017539294,
          1,
          0.6464675885091743,
          0.5159469300074474,
          1.1726743029322908,
          2,
          0.2580186686648155,
          1.490765512236578,
          0.41381685030363374,
          0,
          1.0383600955919874,
          0,
          0,
          1.924174352300441,
          1.198192411043098,
          0,
          0.4626180441915523,
          0,
          0.6500224216483541,
          1.9460831814792088,
          1.8448819354293253,
          1.3512274809529559,
          0,
          0.7736104137959401,
          1.3787834934861758,
          0.4394969869215134,
          0,
          1.9153079217838682,
          1.5683199759918802,
          0,
          1.841250170281555,
          1.4637097651227717,
          1.6858157091530306,
          1.2026771820485334,
          0,
          1.6594363006276418,
          0,
          0,
          0,
          0,
          1.3516441151533924,
          1.219240704636849,
          0,
          1.9299379892474848,
          1.6211509331628502,
          1.7344267600244319,
          0,
          1.7440372099598942,
          1,
          0.35335933502142136,
          1.8676338909712122,
          0.15935006268563445,
          0.9959482086700628,
          0,
          1.061278124459133,
          1.9001957679521742,
          0,
          1.8924446499266439,
          0,
          0,
          0,
          0,
          1.950212064914747,
          0,
          1.916716186961402,
          1,
          1.9313906076575693,
          1.8209581526917593,
          1.8239845764123357,
          0.41381685030363374,
          1.811364547030761,
          0,
          0,
          1.813206528961766,
          1.8668695300440714,
          0,
          1.584962500721156,
          1,
          0
         ]
        }
       ],
       "layout": {
        "title": {
         "text": "Entropies per user, in bits (histogram), for users with interface=time_afford"
        }
       }
      },
      "text/html": [
       "<div id=\"f675227e-3e19-4cc0-ad87-62c7ba859b1e\" style=\"height: 525px; width: 100%;\" class=\"plotly-graph-div\"></div><script type=\"text/javascript\">require([\"plotly\"], function(Plotly) { window.PLOTLYENV=window.PLOTLYENV || {};window.PLOTLYENV.BASE_URL=\"https://plot.ly\";Plotly.newPlot(\"f675227e-3e19-4cc0-ad87-62c7ba859b1e\", [{\"x\": [0.7122497194936322, 0.48217919020227273, 1.9216908022742647, 0.5699988509472104, 0.16232618017539294, 1.0, 0.6464675885091743, 0.5159469300074474, 1.1726743029322908, 2.0, 0.2580186686648155, 1.490765512236578, 0.41381685030363374, -0.0, 1.0383600955919874, -0.0, -0.0, 1.924174352300441, 1.198192411043098, -0.0, 0.4626180441915523, -0.0, 0.6500224216483541, 1.9460831814792088, 1.8448819354293253, 1.3512274809529559, -0.0, 0.7736104137959401, 1.3787834934861758, 0.4394969869215134, -0.0, 1.9153079217838682, 1.5683199759918802, -0.0, 1.841250170281555, 1.4637097651227717, 1.6858157091530306, 1.2026771820485334, -0.0, 1.6594363006276418, -0.0, -0.0, -0.0, -0.0, 1.3516441151533924, 1.219240704636849, -0.0, 1.9299379892474848, 1.6211509331628502, 1.7344267600244319, -0.0, 1.7440372099598942, 1.0, 0.35335933502142136, 1.8676338909712122, 0.15935006268563445, 0.9959482086700628, -0.0, 1.061278124459133, 1.9001957679521742, -0.0, 1.8924446499266439, -0.0, -0.0, -0.0, -0.0, 1.950212064914747, -0.0, 1.916716186961402, 1.0, 1.9313906076575693, 1.8209581526917593, 1.8239845764123357, 0.41381685030363374, 1.811364547030761, -0.0, -0.0, 1.813206528961766, 1.8668695300440714, -0.0, 1.584962500721156, 1.0, -0.0], \"type\": \"histogram\", \"uid\": \"86718a4c-de01-4e6b-831a-bea57fbc7090\"}], {\"title\": {\"text\": \"Entropies per user, in bits (histogram), for users with interface=time_afford\"}}, {\"showLink\": false, \"linkText\": \"Export to plot.ly\", \"plotlyServerURL\": \"https://plot.ly\"})});</script><script type=\"text/javascript\">window.addEventListener(\"resize\", function(){window._Plotly.Plots.resize(document.getElementById(\"f675227e-3e19-4cc0-ad87-62c7ba859b1e\"));});</script>"
      ],
      "text/vnd.plotly.v1+html": [
       "<div id=\"f675227e-3e19-4cc0-ad87-62c7ba859b1e\" style=\"height: 525px; width: 100%;\" class=\"plotly-graph-div\"></div><script type=\"text/javascript\">require([\"plotly\"], function(Plotly) { window.PLOTLYENV=window.PLOTLYENV || {};window.PLOTLYENV.BASE_URL=\"https://plot.ly\";Plotly.newPlot(\"f675227e-3e19-4cc0-ad87-62c7ba859b1e\", [{\"x\": [0.7122497194936322, 0.48217919020227273, 1.9216908022742647, 0.5699988509472104, 0.16232618017539294, 1.0, 0.6464675885091743, 0.5159469300074474, 1.1726743029322908, 2.0, 0.2580186686648155, 1.490765512236578, 0.41381685030363374, -0.0, 1.0383600955919874, -0.0, -0.0, 1.924174352300441, 1.198192411043098, -0.0, 0.4626180441915523, -0.0, 0.6500224216483541, 1.9460831814792088, 1.8448819354293253, 1.3512274809529559, -0.0, 0.7736104137959401, 1.3787834934861758, 0.4394969869215134, -0.0, 1.9153079217838682, 1.5683199759918802, -0.0, 1.841250170281555, 1.4637097651227717, 1.6858157091530306, 1.2026771820485334, -0.0, 1.6594363006276418, -0.0, -0.0, -0.0, -0.0, 1.3516441151533924, 1.219240704636849, -0.0, 1.9299379892474848, 1.6211509331628502, 1.7344267600244319, -0.0, 1.7440372099598942, 1.0, 0.35335933502142136, 1.8676338909712122, 0.15935006268563445, 0.9959482086700628, -0.0, 1.061278124459133, 1.9001957679521742, -0.0, 1.8924446499266439, -0.0, -0.0, -0.0, -0.0, 1.950212064914747, -0.0, 1.916716186961402, 1.0, 1.9313906076575693, 1.8209581526917593, 1.8239845764123357, 0.41381685030363374, 1.811364547030761, -0.0, -0.0, 1.813206528961766, 1.8668695300440714, -0.0, 1.584962500721156, 1.0, -0.0], \"type\": \"histogram\", \"uid\": \"86718a4c-de01-4e6b-831a-bea57fbc7090\"}], {\"title\": {\"text\": \"Entropies per user, in bits (histogram), for users with interface=time_afford\"}}, {\"showLink\": false, \"linkText\": \"Export to plot.ly\", \"plotlyServerURL\": \"https://plot.ly\"})});</script><script type=\"text/javascript\">window.addEventListener(\"resize\", function(){window._Plotly.Plots.resize(document.getElementById(\"f675227e-3e19-4cc0-ad87-62c7ba859b1e\"));});</script>"
      ]
     },
     "metadata": {},
     "output_type": "display_data"
    }
   ],
   "source": [
    "#print(np.mean(entropies))\n",
    "#print(np.sum(entropies))\n",
    "entropies = get_entropies_for_user_list(difficulty_interface_to_users['time_afford'])\n",
    "print('mean entropy per user', np.mean(entropies))\n",
    "print('median entropy per user', np.median(entropies))\n",
    "plothist(entropies, 'Entropies per user, in bits (histogram), for users with interface=time_afford')"
   ]
  },
  {
   "cell_type": "code",
   "execution_count": 64,
   "metadata": {},
   "outputs": [
    {
     "name": "stdout",
     "output_type": "stream",
     "text": [
      "mean entropy per user 1.0676469878484651\n",
      "median entropy per user 1.2470394553949502\n"
     ]
    },
    {
     "data": {
      "application/vnd.plotly.v1+json": {
       "config": {
        "linkText": "Export to plot.ly",
        "plotlyServerURL": "https://plot.ly",
        "showLink": false
       },
       "data": [
        {
         "type": "histogram",
         "uid": "eb596b91-1b13-4c1b-91ef-49a16ac31432",
         "x": [
          1.5,
          0.5313715172840316,
          0.9927744539878083,
          1.7634655444978913,
          0.6402064333604702,
          0,
          0,
          0,
          1.656117718491376,
          0.43682488621619636,
          0.1392329990550989,
          0,
          0.863120568566631,
          0.4689955935892812,
          0.7772968567425483,
          1.267931645520725,
          0.1292337748458849,
          0,
          1.176065103715944,
          0,
          1.0876575346367774,
          0,
          1.8031333505578768,
          0,
          1.2087030080822636,
          0,
          0.4689955935892812,
          0.9182958340544896,
          0.9411388429774533,
          0.5435644431995964,
          0.9648396476487167,
          0,
          1.2523491011957861,
          1.6201730408300326,
          0.7770209331965173,
          0,
          1.3650250081515716,
          2,
          0,
          1.1353369182216067,
          1.2507785422509425,
          1.572704141545369,
          1.5771659783348366,
          1,
          1.4346606450228077,
          1.0052912302684816,
          1,
          0,
          1,
          1.0862293462325945,
          0,
          1.9241743523004413,
          1.186278124459133,
          0.8112781244591328,
          0,
          0,
          1.7230913368258904,
          0,
          0.6292582008241048,
          1.4612516322372209,
          1,
          0.8658566174572235,
          1.7883106100537456,
          1.4911148500551858,
          1.584962500721156,
          1.5,
          1.5546097612655667,
          0.5660834921220874,
          0,
          0,
          0,
          0.6143694458867569,
          1.5645247207974509,
          1.1241854163060887,
          0.9182958340544896,
          0,
          0.9182958340544896,
          1.6387586809150083,
          1.3250566850693148,
          1.7459037088989509,
          1.4168085106941932,
          0,
          1.096801586642763,
          1.9219280948873623,
          1.8112775484724628,
          1.1567796494470395,
          0,
          0.5131851787372753,
          1.4029044925755696,
          0,
          0,
          1.829495196157193,
          1.846284511844913,
          1.6402239289418519,
          0,
          1.339317214765133,
          0,
          1.924174352300441,
          1.3787834934861756,
          1.8189502940200932,
          1.8901960855945215,
          1.4442472357443168,
          1.3527241956246547,
          1.3822593183669214,
          0.9182958340544896,
          1.4809851807840686,
          1.6858157091530304,
          1.9514695816904701,
          1.3703701607323486,
          1.7609640474436812,
          1.841071296847249,
          0.9219280948873623,
          1.3360253406140252,
          1.9588718484453604,
          0,
          1.5,
          1.4839804573173703,
          0.5032583347756459,
          1.293304878150617,
          1.4888392525335299,
          1.4860462325725075,
          1.872025084091411,
          0.9182958340544896,
          1.2433003685389579,
          1.638127167820104,
          0,
          1.3273333558774318,
          0.9864267287308426,
          0.4854607607459134,
          1.4687704274131959,
          0.6500224216483541,
          1.5738402124825936,
          1.219967330522749,
          0.40597703847557115,
          1.176065103715944,
          1.1567796494470395,
          1.7464353842388936,
          1,
          1.1401156785146092,
          0,
          1.758124191672977,
          0.7642045065086203,
          1.6894822670191827,
          1,
          1,
          1.7139270656426162,
          0,
          1.3092966682370037,
          1.3609640474436813,
          0,
          1.7702371461866788,
          1.1488348542809166,
          1.7381493331928664,
          1.6777210715454165,
          0.9709505944546688,
          1.6758220575766962,
          1.9028652219676245,
          0,
          1.657742726504889,
          1.8262452584026092,
          0,
          1.584962500721156,
          1.5656531116458186,
          1.5,
          1.7513134874138518,
          0.6840384356390417,
          1.292727214755173,
          0,
          1.8423709931771088,
          1.3787834934861758,
          0,
          1.4885252948977485,
          1.5534845018187062,
          0.5435644431995964,
          1.2650449785309024,
          1.7610949360829105,
          0.8501514254479946,
          0,
          0,
          0,
          0,
          1.7320915266019448,
          1.9366407419411669,
          0.8841837197791889,
          0.23187232431271465,
          1.2516291673878228,
          0.9709505944546688,
          0.6051865766334206,
          1,
          1.6062993899513245,
          1.527361548089914,
          0,
          0,
          0.5435644431995964,
          1.122785837662617,
          1.1104938116333085,
          0,
          1.4591479170272448,
          1.4039904575514166,
          1.2806721295208872,
          1.5241695235278405,
          0,
          1.6697367178034823,
          1.862155102545977,
          0,
          1.7535707868569466,
          1.848569601344328,
          1.6463636073775865,
          1.7820239456660327,
          1.4743810868779008,
          1.4861948703399055,
          0.5916727785823274,
          0.9756294312117073,
          0.7345299214394703,
          1.323351684420694,
          0.6179881406009712,
          1.8886512679763887,
          0.9182958340544896,
          0.9709505944546688,
          1.671374879087784,
          1.4233186736475805,
          1.9182958340544893,
          1.788703141426173,
          0.43101676897537733,
          0.4689955935892812,
          0.8519325792170331,
          1.6325948924976457,
          1.8675828378725519,
          1.4466166676282084,
          1.5960833257775042,
          0,
          0,
          0,
          1.6498683818476263,
          1.4215541688301352,
          0,
          1.8464393446710157,
          1.801675001458621,
          0.9709505944546688,
          1.9261909053585646,
          0,
          1.8083202060091466,
          1.7863012011716395,
          1.308193929518777,
          1,
          1.7080011678141962,
          1.3602492629180993,
          0.9182958340544896,
          1.2987949406953985,
          1.5714162156283358,
          0.06268265300135283,
          1.5080769446765627,
          0,
          1.5304930567574824,
          1.6484479388657762,
          1.6127776360405413,
          1.9703596692501393,
          1.5155269718617599,
          0,
          1.5,
          1.6152502650882519,
          1.676737030052133,
          0,
          1.0534081504863568,
          0.9182958340544896,
          0.5435644431995964,
          1.2290268912868845,
          1.7972774760975907,
          0.9182958340544896,
          1.5,
          0,
          1.7474130395316414,
          1.7942036592599924,
          1.7177602521413333,
          1.8394910703001344,
          1.9068189483525888,
          1.498426959975329,
          1.5766212201074916,
          0,
          0,
          0.9182958340544896,
          1.8050702154584348,
          1.6258145836939115,
          0.7219280948873623,
          1.4838317068446891,
          1.8892464285091581,
          1.2870540281187268,
          0.7345299214394703,
          1.3567796494470397,
          1.3709505944546687,
          1.5737888130660205,
          1,
          0.9182958340544896,
          1.8365916681089791,
          1.4977256086869073,
          1.2244883781338562,
          1.60872603890505,
          0,
          1.8732214356139147,
          1.638253359471275,
          0,
          1.198183947911799,
          0,
          0,
          1.3921472236645345,
          0,
          1.3603059777020794,
          0.8112781244591328,
          0.8453509366224365,
          0.9182958340544896,
          1.8890255736436508,
          1.8365916681089791,
          1.4591479170272446,
          0,
          1.0748068828532795,
          0,
          1.3787834934861756,
          1.708098663501806,
          1.2854570690946672,
          0,
          0.8112781244591328,
          1,
          0,
          0,
          1,
          1.8050365325772657,
          1.3735443923990154,
          1.6703247570951807,
          1.8455376192464692,
          1.061278124459133,
          0.863120568566631,
          0.9182958340544896,
          1.7631951082143114,
          1.7440804382513324,
          1.383866329597683,
          1.6209578710561834,
          1.6992365361682793,
          1.8424558342068216,
          0,
          1.7407656065690988,
          1.2516291673878228,
          1.5432473005196226,
          0.9182958340544896,
          1.319035274338866,
          0.9910760598382221,
          0.7219280948873623,
          0,
          1.6183941088363931,
          0.7219280948873623,
          1.5219280948873624,
          0.9182958340544896,
          0,
          0.9182958340544896,
          1.2516291673878228,
          1.6758220575766962,
          0,
          0,
          0.5219490794046293,
          0.9182958340544896,
          0,
          0.9182958340544896,
          1.7176856953872668,
          1.3787834934861758,
          1.2531841072934458,
          0,
          1.9219280948873623,
          0,
          0.6685644431995964,
          0.6402064333604702,
          1.4336890647036555,
          0.7219280948873623,
          1.7924812503605778,
          0.8112781244591328,
          1.6968305704101936,
          1.5510981710072647,
          1.6494003762381348,
          0,
          1.9708625978022178,
          1.4476406844437253,
          0.7642045065086203,
          0.7219280948873623,
          1.2916919971380596,
          0,
          1.8411454850132056,
          1.406246945130485,
          1.2322022766029508,
          0,
          1.6644977792004614,
          1.7806390622295662,
          1.2934356963218767,
          1.5683182557028439,
          0,
          1.900670967392199,
          0,
          0,
          1,
          0.6685644431995964,
          1.4603721872403521,
          0.6500224216483541,
          1.4885252948977485,
          1.797277476097591,
          1.4195562985716133,
          1.5,
          0.8112781244591328,
          1.7899290753099992,
          1.561278124459133,
          0,
          1.3092000326978117,
          1.8365916681089791,
          0.43856130728422676,
          0.9709505944546688,
          0.9182958340544896,
          1.5219280948873624,
          0,
          1.8703047064860279,
          1.9698452580387984,
          0.8812908992306927,
          1.2516291673878228,
          0,
          1.5095490535693046,
          1.502919142769996,
          1.804038928403389,
          1.4591479170272448,
          1.9219280948873623,
          1.9808259362290785,
          0.2580186686648155,
          1.789929075309999,
          1.6280478439134958,
          1,
          0,
          1.6574390424502368,
          1.5,
          0.7742433029172697,
          1.4969275461145897,
          1.8422921890824149,
          1.75,
          0.35335933502142136,
          1.6150070326624482,
          1.6992365361682793,
          1.5803881935300383,
          1.4854752972273344,
          1.9584661817581865,
          0.8112781244591328,
          1,
          0.9940302114769565,
          1,
          1.224394445405986,
          1.0540157730728,
          0.863120568566631,
          1.6847715835203187,
          0,
          0.9182958340544896,
          1.260159990986748,
          1.4591479170272448,
          1.0214554656116668,
          0.7642045065086203,
          1.5896074396975302,
          1.9219280948873623,
          1.4591479170272448,
          0,
          1.1469968458926931,
          0,
          1.280672129520887,
          0.6500224216483541,
          0,
          1.2406705316766886,
          0,
          1.4908920690779461,
          0,
          0.4689955935892812,
          1.2516291673878228,
          0.6500224216483541,
          1.584962500721156,
          1.3709505944546687,
          1.5455354215539248,
          1.7838593436779768,
          1.5943457963201992,
          0.7219280948873623,
          0,
          1.4488156357251847,
          0.7732283485249176,
          1.9173570203484225,
          1.584962500721156,
          1.650335261060192,
          1.6158045319402516,
          1.4139240238487818,
          1.5574319619297041,
          1.8423709931771088,
          1.0676111603502403,
          1.3516441151533924,
          1.2903082942022441,
          1.5831981923940757,
          1.786080697230572,
          0.863120568566631,
          1.3330378292931782,
          0,
          1.7302423406565557,
          1.7924812503605778,
          0.9709505944546688,
          1.5219280948873624,
          0,
          0.9940302114769565,
          0.8812908992306927,
          0,
          1.319035274338866,
          0,
          1.8423709931771088,
          1.9336649380006277,
          1.2516291673878228,
          0,
          0,
          1,
          0.9182958340544896,
          0.8112781244591328,
          1.669180336866731,
          1.8553885422075338,
          1.836591668108979,
          0,
          1.8423709931771088,
          0.9182958340544896,
          1.411437408774452,
          0,
          1.2987949406953985,
          1,
          0,
          0,
          0,
          0,
          1,
          1.0869877023399053,
          0,
          1.5534845018187062,
          0.9182958340544896,
          1.657742726504889,
          1.584962500721156,
          1.4854752972273344,
          0,
          0.7219280948873623,
          0.9219280948873623,
          1,
          1.097780987108337,
          1.224394445405986,
          0,
          0,
          0.9219280948873623,
          1.8423709931771088,
          0.9182958340544896,
          1.743819078150123,
          1,
          1.8919522882632307,
          0.9182958340544896,
          1,
          1.2987949406953985,
          0,
          1.3081939295187768,
          1,
          1.9182958340544893,
          1.7899290753099992,
          0.21639693245126468,
          0.5032583347756459,
          1.950212064914747,
          1.8464393446710154,
          1.584962500721156,
          0
         ]
        }
       ],
       "layout": {
        "title": {
         "text": "Entropies per user, in bits (histogram), for users with interface=this_intervention"
        }
       }
      },
      "text/html": [
       "<div id=\"e73a4438-4ec6-410c-bead-e4cd3b4ed037\" style=\"height: 525px; width: 100%;\" class=\"plotly-graph-div\"></div><script type=\"text/javascript\">require([\"plotly\"], function(Plotly) { window.PLOTLYENV=window.PLOTLYENV || {};window.PLOTLYENV.BASE_URL=\"https://plot.ly\";Plotly.newPlot(\"e73a4438-4ec6-410c-bead-e4cd3b4ed037\", [{\"x\": [1.5, 0.5313715172840316, 0.9927744539878083, 1.7634655444978913, 0.6402064333604702, -0.0, -0.0, -0.0, 1.656117718491376, 0.43682488621619636, 0.1392329990550989, -0.0, 0.863120568566631, 0.4689955935892812, 0.7772968567425483, 1.267931645520725, 0.1292337748458849, -0.0, 1.176065103715944, -0.0, 1.0876575346367774, -0.0, 1.8031333505578768, -0.0, 1.2087030080822636, -0.0, 0.4689955935892812, 0.9182958340544896, 0.9411388429774533, 0.5435644431995964, 0.9648396476487167, -0.0, 1.2523491011957861, 1.6201730408300326, 0.7770209331965173, -0.0, 1.3650250081515716, 2.0, -0.0, 1.1353369182216067, 1.2507785422509425, 1.572704141545369, 1.5771659783348366, 1.0, 1.4346606450228077, 1.0052912302684816, 1.0, -0.0, 1.0, 1.0862293462325945, -0.0, 1.9241743523004413, 1.186278124459133, 0.8112781244591328, -0.0, -0.0, 1.7230913368258904, -0.0, 0.6292582008241048, 1.4612516322372209, 1.0, 0.8658566174572235, 1.7883106100537456, 1.4911148500551858, 1.584962500721156, 1.5, 1.5546097612655667, 0.5660834921220874, -0.0, -0.0, -0.0, 0.6143694458867569, 1.5645247207974509, 1.1241854163060887, 0.9182958340544896, -0.0, 0.9182958340544896, 1.6387586809150083, 1.3250566850693148, 1.7459037088989509, 1.4168085106941932, -0.0, 1.096801586642763, 1.9219280948873623, 1.8112775484724628, 1.1567796494470395, -0.0, 0.5131851787372753, 1.4029044925755696, -0.0, -0.0, 1.829495196157193, 1.846284511844913, 1.6402239289418519, -0.0, 1.339317214765133, -0.0, 1.924174352300441, 1.3787834934861756, 1.8189502940200932, 1.8901960855945215, 1.4442472357443168, 1.3527241956246547, 1.3822593183669214, 0.9182958340544896, 1.4809851807840686, 1.6858157091530304, 1.9514695816904701, 1.3703701607323486, 1.7609640474436812, 1.841071296847249, 0.9219280948873623, 1.3360253406140252, 1.9588718484453604, -0.0, 1.5, 1.4839804573173703, 0.5032583347756459, 1.293304878150617, 1.4888392525335299, 1.4860462325725075, 1.872025084091411, 0.9182958340544896, 1.2433003685389579, 1.638127167820104, -0.0, 1.3273333558774318, 0.9864267287308426, 0.4854607607459134, 1.4687704274131959, 0.6500224216483541, 1.5738402124825936, 1.219967330522749, 0.40597703847557115, 1.176065103715944, 1.1567796494470395, 1.7464353842388936, 1.0, 1.1401156785146092, -0.0, 1.758124191672977, 0.7642045065086203, 1.6894822670191827, 1.0, 1.0, 1.7139270656426162, -0.0, 1.3092966682370037, 1.3609640474436813, -0.0, 1.7702371461866788, 1.1488348542809166, 1.7381493331928664, 1.6777210715454165, 0.9709505944546688, 1.6758220575766962, 1.9028652219676245, -0.0, 1.657742726504889, 1.8262452584026092, -0.0, 1.584962500721156, 1.5656531116458186, 1.5, 1.7513134874138518, 0.6840384356390417, 1.292727214755173, -0.0, 1.8423709931771088, 1.3787834934861758, -0.0, 1.4885252948977485, 1.5534845018187062, 0.5435644431995964, 1.2650449785309024, 1.7610949360829105, 0.8501514254479946, -0.0, -0.0, -0.0, -0.0, 1.7320915266019448, 1.9366407419411669, 0.8841837197791889, 0.23187232431271465, 1.2516291673878228, 0.9709505944546688, 0.6051865766334206, 1.0, 1.6062993899513245, 1.527361548089914, -0.0, -0.0, 0.5435644431995964, 1.122785837662617, 1.1104938116333085, -0.0, 1.4591479170272448, 1.4039904575514166, 1.2806721295208872, 1.5241695235278405, -0.0, 1.6697367178034823, 1.862155102545977, -0.0, 1.7535707868569466, 1.848569601344328, 1.6463636073775865, 1.7820239456660327, 1.4743810868779008, 1.4861948703399055, 0.5916727785823274, 0.9756294312117073, 0.7345299214394703, 1.323351684420694, 0.6179881406009712, 1.8886512679763887, 0.9182958340544896, 0.9709505944546688, 1.671374879087784, 1.4233186736475805, 1.9182958340544893, 1.788703141426173, 0.43101676897537733, 0.4689955935892812, 0.8519325792170331, 1.6325948924976457, 1.8675828378725519, 1.4466166676282084, 1.5960833257775042, -0.0, -0.0, -0.0, 1.6498683818476263, 1.4215541688301352, -0.0, 1.8464393446710157, 1.801675001458621, 0.9709505944546688, 1.9261909053585646, -0.0, 1.8083202060091466, 1.7863012011716395, 1.308193929518777, 1.0, 1.7080011678141962, 1.3602492629180993, 0.9182958340544896, 1.2987949406953985, 1.5714162156283358, 0.06268265300135283, 1.5080769446765627, -0.0, 1.5304930567574824, 1.6484479388657762, 1.6127776360405413, 1.9703596692501393, 1.5155269718617599, -0.0, 1.5, 1.6152502650882519, 1.676737030052133, -0.0, 1.0534081504863568, 0.9182958340544896, 0.5435644431995964, 1.2290268912868845, 1.7972774760975907, 0.9182958340544896, 1.5, -0.0, 1.7474130395316414, 1.7942036592599924, 1.7177602521413333, 1.8394910703001344, 1.9068189483525888, 1.498426959975329, 1.5766212201074916, -0.0, -0.0, 0.9182958340544896, 1.8050702154584348, 1.6258145836939115, 0.7219280948873623, 1.4838317068446891, 1.8892464285091581, 1.2870540281187268, 0.7345299214394703, 1.3567796494470397, 1.3709505944546687, 1.5737888130660205, 1.0, 0.9182958340544896, 1.8365916681089791, 1.4977256086869073, 1.2244883781338562, 1.60872603890505, -0.0, 1.8732214356139147, 1.638253359471275, -0.0, 1.198183947911799, -0.0, -0.0, 1.3921472236645345, -0.0, 1.3603059777020794, 0.8112781244591328, 0.8453509366224365, 0.9182958340544896, 1.8890255736436508, 1.8365916681089791, 1.4591479170272446, -0.0, 1.0748068828532795, -0.0, 1.3787834934861756, 1.708098663501806, 1.2854570690946672, -0.0, 0.8112781244591328, 1.0, -0.0, -0.0, 1.0, 1.8050365325772657, 1.3735443923990154, 1.6703247570951807, 1.8455376192464692, 1.061278124459133, 0.863120568566631, 0.9182958340544896, 1.7631951082143114, 1.7440804382513324, 1.383866329597683, 1.6209578710561834, 1.6992365361682793, 1.8424558342068216, -0.0, 1.7407656065690988, 1.2516291673878228, 1.5432473005196226, 0.9182958340544896, 1.319035274338866, 0.9910760598382221, 0.7219280948873623, -0.0, 1.6183941088363931, 0.7219280948873623, 1.5219280948873624, 0.9182958340544896, -0.0, 0.9182958340544896, 1.2516291673878228, 1.6758220575766962, -0.0, -0.0, 0.5219490794046293, 0.9182958340544896, -0.0, 0.9182958340544896, 1.7176856953872668, 1.3787834934861758, 1.2531841072934458, -0.0, 1.9219280948873623, -0.0, 0.6685644431995964, 0.6402064333604702, 1.4336890647036555, 0.7219280948873623, 1.7924812503605778, 0.8112781244591328, 1.6968305704101936, 1.5510981710072647, 1.6494003762381348, -0.0, 1.9708625978022178, 1.4476406844437253, 0.7642045065086203, 0.7219280948873623, 1.2916919971380596, -0.0, 1.8411454850132056, 1.406246945130485, 1.2322022766029508, -0.0, 1.6644977792004614, 1.7806390622295662, 1.2934356963218767, 1.5683182557028439, -0.0, 1.900670967392199, -0.0, -0.0, 1.0, 0.6685644431995964, 1.4603721872403521, 0.6500224216483541, 1.4885252948977485, 1.797277476097591, 1.4195562985716133, 1.5, 0.8112781244591328, 1.7899290753099992, 1.561278124459133, -0.0, 1.3092000326978117, 1.8365916681089791, 0.43856130728422676, 0.9709505944546688, 0.9182958340544896, 1.5219280948873624, -0.0, 1.8703047064860279, 1.9698452580387984, 0.8812908992306927, 1.2516291673878228, -0.0, 1.5095490535693046, 1.502919142769996, 1.804038928403389, 1.4591479170272448, 1.9219280948873623, 1.9808259362290785, 0.2580186686648155, 1.789929075309999, 1.6280478439134958, 1.0, -0.0, 1.6574390424502368, 1.5, 0.7742433029172697, 1.4969275461145897, 1.8422921890824149, 1.75, 0.35335933502142136, 1.6150070326624482, 1.6992365361682793, 1.5803881935300383, 1.4854752972273344, 1.9584661817581865, 0.8112781244591328, 1.0, 0.9940302114769565, 1.0, 1.224394445405986, 1.0540157730728, 0.863120568566631, 1.6847715835203187, -0.0, 0.9182958340544896, 1.260159990986748, 1.4591479170272448, 1.0214554656116668, 0.7642045065086203, 1.5896074396975302, 1.9219280948873623, 1.4591479170272448, -0.0, 1.1469968458926931, -0.0, 1.280672129520887, 0.6500224216483541, -0.0, 1.2406705316766886, -0.0, 1.4908920690779461, -0.0, 0.4689955935892812, 1.2516291673878228, 0.6500224216483541, 1.584962500721156, 1.3709505944546687, 1.5455354215539248, 1.7838593436779768, 1.5943457963201992, 0.7219280948873623, -0.0, 1.4488156357251847, 0.7732283485249176, 1.9173570203484225, 1.584962500721156, 1.650335261060192, 1.6158045319402516, 1.4139240238487818, 1.5574319619297041, 1.8423709931771088, 1.0676111603502403, 1.3516441151533924, 1.2903082942022441, 1.5831981923940757, 1.786080697230572, 0.863120568566631, 1.3330378292931782, -0.0, 1.7302423406565557, 1.7924812503605778, 0.9709505944546688, 1.5219280948873624, -0.0, 0.9940302114769565, 0.8812908992306927, -0.0, 1.319035274338866, -0.0, 1.8423709931771088, 1.9336649380006277, 1.2516291673878228, -0.0, -0.0, 1.0, 0.9182958340544896, 0.8112781244591328, 1.669180336866731, 1.8553885422075338, 1.836591668108979, -0.0, 1.8423709931771088, 0.9182958340544896, 1.411437408774452, -0.0, 1.2987949406953985, 1.0, -0.0, -0.0, -0.0, -0.0, 1.0, 1.0869877023399053, -0.0, 1.5534845018187062, 0.9182958340544896, 1.657742726504889, 1.584962500721156, 1.4854752972273344, -0.0, 0.7219280948873623, 0.9219280948873623, 1.0, 1.097780987108337, 1.224394445405986, -0.0, -0.0, 0.9219280948873623, 1.8423709931771088, 0.9182958340544896, 1.743819078150123, 1.0, 1.8919522882632307, 0.9182958340544896, 1.0, 1.2987949406953985, -0.0, 1.3081939295187768, 1.0, 1.9182958340544893, 1.7899290753099992, 0.21639693245126468, 0.5032583347756459, 1.950212064914747, 1.8464393446710154, 1.584962500721156, -0.0], \"type\": \"histogram\", \"uid\": \"eb596b91-1b13-4c1b-91ef-49a16ac31432\"}], {\"title\": {\"text\": \"Entropies per user, in bits (histogram), for users with interface=this_intervention\"}}, {\"showLink\": false, \"linkText\": \"Export to plot.ly\", \"plotlyServerURL\": \"https://plot.ly\"})});</script><script type=\"text/javascript\">window.addEventListener(\"resize\", function(){window._Plotly.Plots.resize(document.getElementById(\"e73a4438-4ec6-410c-bead-e4cd3b4ed037\"));});</script>"
      ],
      "text/vnd.plotly.v1+html": [
       "<div id=\"e73a4438-4ec6-410c-bead-e4cd3b4ed037\" style=\"height: 525px; width: 100%;\" class=\"plotly-graph-div\"></div><script type=\"text/javascript\">require([\"plotly\"], function(Plotly) { window.PLOTLYENV=window.PLOTLYENV || {};window.PLOTLYENV.BASE_URL=\"https://plot.ly\";Plotly.newPlot(\"e73a4438-4ec6-410c-bead-e4cd3b4ed037\", [{\"x\": [1.5, 0.5313715172840316, 0.9927744539878083, 1.7634655444978913, 0.6402064333604702, -0.0, -0.0, -0.0, 1.656117718491376, 0.43682488621619636, 0.1392329990550989, -0.0, 0.863120568566631, 0.4689955935892812, 0.7772968567425483, 1.267931645520725, 0.1292337748458849, -0.0, 1.176065103715944, -0.0, 1.0876575346367774, -0.0, 1.8031333505578768, -0.0, 1.2087030080822636, -0.0, 0.4689955935892812, 0.9182958340544896, 0.9411388429774533, 0.5435644431995964, 0.9648396476487167, -0.0, 1.2523491011957861, 1.6201730408300326, 0.7770209331965173, -0.0, 1.3650250081515716, 2.0, -0.0, 1.1353369182216067, 1.2507785422509425, 1.572704141545369, 1.5771659783348366, 1.0, 1.4346606450228077, 1.0052912302684816, 1.0, -0.0, 1.0, 1.0862293462325945, -0.0, 1.9241743523004413, 1.186278124459133, 0.8112781244591328, -0.0, -0.0, 1.7230913368258904, -0.0, 0.6292582008241048, 1.4612516322372209, 1.0, 0.8658566174572235, 1.7883106100537456, 1.4911148500551858, 1.584962500721156, 1.5, 1.5546097612655667, 0.5660834921220874, -0.0, -0.0, -0.0, 0.6143694458867569, 1.5645247207974509, 1.1241854163060887, 0.9182958340544896, -0.0, 0.9182958340544896, 1.6387586809150083, 1.3250566850693148, 1.7459037088989509, 1.4168085106941932, -0.0, 1.096801586642763, 1.9219280948873623, 1.8112775484724628, 1.1567796494470395, -0.0, 0.5131851787372753, 1.4029044925755696, -0.0, -0.0, 1.829495196157193, 1.846284511844913, 1.6402239289418519, -0.0, 1.339317214765133, -0.0, 1.924174352300441, 1.3787834934861756, 1.8189502940200932, 1.8901960855945215, 1.4442472357443168, 1.3527241956246547, 1.3822593183669214, 0.9182958340544896, 1.4809851807840686, 1.6858157091530304, 1.9514695816904701, 1.3703701607323486, 1.7609640474436812, 1.841071296847249, 0.9219280948873623, 1.3360253406140252, 1.9588718484453604, -0.0, 1.5, 1.4839804573173703, 0.5032583347756459, 1.293304878150617, 1.4888392525335299, 1.4860462325725075, 1.872025084091411, 0.9182958340544896, 1.2433003685389579, 1.638127167820104, -0.0, 1.3273333558774318, 0.9864267287308426, 0.4854607607459134, 1.4687704274131959, 0.6500224216483541, 1.5738402124825936, 1.219967330522749, 0.40597703847557115, 1.176065103715944, 1.1567796494470395, 1.7464353842388936, 1.0, 1.1401156785146092, -0.0, 1.758124191672977, 0.7642045065086203, 1.6894822670191827, 1.0, 1.0, 1.7139270656426162, -0.0, 1.3092966682370037, 1.3609640474436813, -0.0, 1.7702371461866788, 1.1488348542809166, 1.7381493331928664, 1.6777210715454165, 0.9709505944546688, 1.6758220575766962, 1.9028652219676245, -0.0, 1.657742726504889, 1.8262452584026092, -0.0, 1.584962500721156, 1.5656531116458186, 1.5, 1.7513134874138518, 0.6840384356390417, 1.292727214755173, -0.0, 1.8423709931771088, 1.3787834934861758, -0.0, 1.4885252948977485, 1.5534845018187062, 0.5435644431995964, 1.2650449785309024, 1.7610949360829105, 0.8501514254479946, -0.0, -0.0, -0.0, -0.0, 1.7320915266019448, 1.9366407419411669, 0.8841837197791889, 0.23187232431271465, 1.2516291673878228, 0.9709505944546688, 0.6051865766334206, 1.0, 1.6062993899513245, 1.527361548089914, -0.0, -0.0, 0.5435644431995964, 1.122785837662617, 1.1104938116333085, -0.0, 1.4591479170272448, 1.4039904575514166, 1.2806721295208872, 1.5241695235278405, -0.0, 1.6697367178034823, 1.862155102545977, -0.0, 1.7535707868569466, 1.848569601344328, 1.6463636073775865, 1.7820239456660327, 1.4743810868779008, 1.4861948703399055, 0.5916727785823274, 0.9756294312117073, 0.7345299214394703, 1.323351684420694, 0.6179881406009712, 1.8886512679763887, 0.9182958340544896, 0.9709505944546688, 1.671374879087784, 1.4233186736475805, 1.9182958340544893, 1.788703141426173, 0.43101676897537733, 0.4689955935892812, 0.8519325792170331, 1.6325948924976457, 1.8675828378725519, 1.4466166676282084, 1.5960833257775042, -0.0, -0.0, -0.0, 1.6498683818476263, 1.4215541688301352, -0.0, 1.8464393446710157, 1.801675001458621, 0.9709505944546688, 1.9261909053585646, -0.0, 1.8083202060091466, 1.7863012011716395, 1.308193929518777, 1.0, 1.7080011678141962, 1.3602492629180993, 0.9182958340544896, 1.2987949406953985, 1.5714162156283358, 0.06268265300135283, 1.5080769446765627, -0.0, 1.5304930567574824, 1.6484479388657762, 1.6127776360405413, 1.9703596692501393, 1.5155269718617599, -0.0, 1.5, 1.6152502650882519, 1.676737030052133, -0.0, 1.0534081504863568, 0.9182958340544896, 0.5435644431995964, 1.2290268912868845, 1.7972774760975907, 0.9182958340544896, 1.5, -0.0, 1.7474130395316414, 1.7942036592599924, 1.7177602521413333, 1.8394910703001344, 1.9068189483525888, 1.498426959975329, 1.5766212201074916, -0.0, -0.0, 0.9182958340544896, 1.8050702154584348, 1.6258145836939115, 0.7219280948873623, 1.4838317068446891, 1.8892464285091581, 1.2870540281187268, 0.7345299214394703, 1.3567796494470397, 1.3709505944546687, 1.5737888130660205, 1.0, 0.9182958340544896, 1.8365916681089791, 1.4977256086869073, 1.2244883781338562, 1.60872603890505, -0.0, 1.8732214356139147, 1.638253359471275, -0.0, 1.198183947911799, -0.0, -0.0, 1.3921472236645345, -0.0, 1.3603059777020794, 0.8112781244591328, 0.8453509366224365, 0.9182958340544896, 1.8890255736436508, 1.8365916681089791, 1.4591479170272446, -0.0, 1.0748068828532795, -0.0, 1.3787834934861756, 1.708098663501806, 1.2854570690946672, -0.0, 0.8112781244591328, 1.0, -0.0, -0.0, 1.0, 1.8050365325772657, 1.3735443923990154, 1.6703247570951807, 1.8455376192464692, 1.061278124459133, 0.863120568566631, 0.9182958340544896, 1.7631951082143114, 1.7440804382513324, 1.383866329597683, 1.6209578710561834, 1.6992365361682793, 1.8424558342068216, -0.0, 1.7407656065690988, 1.2516291673878228, 1.5432473005196226, 0.9182958340544896, 1.319035274338866, 0.9910760598382221, 0.7219280948873623, -0.0, 1.6183941088363931, 0.7219280948873623, 1.5219280948873624, 0.9182958340544896, -0.0, 0.9182958340544896, 1.2516291673878228, 1.6758220575766962, -0.0, -0.0, 0.5219490794046293, 0.9182958340544896, -0.0, 0.9182958340544896, 1.7176856953872668, 1.3787834934861758, 1.2531841072934458, -0.0, 1.9219280948873623, -0.0, 0.6685644431995964, 0.6402064333604702, 1.4336890647036555, 0.7219280948873623, 1.7924812503605778, 0.8112781244591328, 1.6968305704101936, 1.5510981710072647, 1.6494003762381348, -0.0, 1.9708625978022178, 1.4476406844437253, 0.7642045065086203, 0.7219280948873623, 1.2916919971380596, -0.0, 1.8411454850132056, 1.406246945130485, 1.2322022766029508, -0.0, 1.6644977792004614, 1.7806390622295662, 1.2934356963218767, 1.5683182557028439, -0.0, 1.900670967392199, -0.0, -0.0, 1.0, 0.6685644431995964, 1.4603721872403521, 0.6500224216483541, 1.4885252948977485, 1.797277476097591, 1.4195562985716133, 1.5, 0.8112781244591328, 1.7899290753099992, 1.561278124459133, -0.0, 1.3092000326978117, 1.8365916681089791, 0.43856130728422676, 0.9709505944546688, 0.9182958340544896, 1.5219280948873624, -0.0, 1.8703047064860279, 1.9698452580387984, 0.8812908992306927, 1.2516291673878228, -0.0, 1.5095490535693046, 1.502919142769996, 1.804038928403389, 1.4591479170272448, 1.9219280948873623, 1.9808259362290785, 0.2580186686648155, 1.789929075309999, 1.6280478439134958, 1.0, -0.0, 1.6574390424502368, 1.5, 0.7742433029172697, 1.4969275461145897, 1.8422921890824149, 1.75, 0.35335933502142136, 1.6150070326624482, 1.6992365361682793, 1.5803881935300383, 1.4854752972273344, 1.9584661817581865, 0.8112781244591328, 1.0, 0.9940302114769565, 1.0, 1.224394445405986, 1.0540157730728, 0.863120568566631, 1.6847715835203187, -0.0, 0.9182958340544896, 1.260159990986748, 1.4591479170272448, 1.0214554656116668, 0.7642045065086203, 1.5896074396975302, 1.9219280948873623, 1.4591479170272448, -0.0, 1.1469968458926931, -0.0, 1.280672129520887, 0.6500224216483541, -0.0, 1.2406705316766886, -0.0, 1.4908920690779461, -0.0, 0.4689955935892812, 1.2516291673878228, 0.6500224216483541, 1.584962500721156, 1.3709505944546687, 1.5455354215539248, 1.7838593436779768, 1.5943457963201992, 0.7219280948873623, -0.0, 1.4488156357251847, 0.7732283485249176, 1.9173570203484225, 1.584962500721156, 1.650335261060192, 1.6158045319402516, 1.4139240238487818, 1.5574319619297041, 1.8423709931771088, 1.0676111603502403, 1.3516441151533924, 1.2903082942022441, 1.5831981923940757, 1.786080697230572, 0.863120568566631, 1.3330378292931782, -0.0, 1.7302423406565557, 1.7924812503605778, 0.9709505944546688, 1.5219280948873624, -0.0, 0.9940302114769565, 0.8812908992306927, -0.0, 1.319035274338866, -0.0, 1.8423709931771088, 1.9336649380006277, 1.2516291673878228, -0.0, -0.0, 1.0, 0.9182958340544896, 0.8112781244591328, 1.669180336866731, 1.8553885422075338, 1.836591668108979, -0.0, 1.8423709931771088, 0.9182958340544896, 1.411437408774452, -0.0, 1.2987949406953985, 1.0, -0.0, -0.0, -0.0, -0.0, 1.0, 1.0869877023399053, -0.0, 1.5534845018187062, 0.9182958340544896, 1.657742726504889, 1.584962500721156, 1.4854752972273344, -0.0, 0.7219280948873623, 0.9219280948873623, 1.0, 1.097780987108337, 1.224394445405986, -0.0, -0.0, 0.9219280948873623, 1.8423709931771088, 0.9182958340544896, 1.743819078150123, 1.0, 1.8919522882632307, 0.9182958340544896, 1.0, 1.2987949406953985, -0.0, 1.3081939295187768, 1.0, 1.9182958340544893, 1.7899290753099992, 0.21639693245126468, 0.5032583347756459, 1.950212064914747, 1.8464393446710154, 1.584962500721156, -0.0], \"type\": \"histogram\", \"uid\": \"eb596b91-1b13-4c1b-91ef-49a16ac31432\"}], {\"title\": {\"text\": \"Entropies per user, in bits (histogram), for users with interface=this_intervention\"}}, {\"showLink\": false, \"linkText\": \"Export to plot.ly\", \"plotlyServerURL\": \"https://plot.ly\"})});</script><script type=\"text/javascript\">window.addEventListener(\"resize\", function(){window._Plotly.Plots.resize(document.getElementById(\"e73a4438-4ec6-410c-bead-e4cd3b4ed037\"));});</script>"
      ]
     },
     "metadata": {},
     "output_type": "display_data"
    }
   ],
   "source": [
    "entropies = get_entropies_for_user_list(difficulty_interface_to_users['this_intervention'])\n",
    "print('mean entropy per user', np.mean(entropies))\n",
    "print('median entropy per user', np.median(entropies))\n",
    "plothist(entropies, 'Entropies per user, in bits (histogram), for users with interface=this_intervention')"
   ]
  },
  {
   "cell_type": "code",
   "execution_count": 65,
   "metadata": {},
   "outputs": [
    {
     "name": "stdout",
     "output_type": "stream",
     "text": [
      "mean entropy per user 0.6335112094483013\n",
      "median entropy per user 0.5916727785823274\n"
     ]
    },
    {
     "data": {
      "application/vnd.plotly.v1+json": {
       "config": {
        "linkText": "Export to plot.ly",
        "plotlyServerURL": "https://plot.ly",
        "showLink": false
       },
       "data": [
        {
         "type": "histogram",
         "uid": "fdd85457-1476-4b68-9424-5db2754c99c2",
         "x": [
          0,
          0.3456557859085671,
          0.7306412333267416,
          0.2062830939553485,
          0.9182958340544896,
          0.7075696535050606,
          0,
          0.7703437707962479,
          0.606059261450002,
          0.9182958340544896,
          0,
          0.31287908941146386,
          0.7219280948873623,
          0,
          1.5941035567191117,
          0.9135104147493889,
          1.140715804518509,
          0.5689730116435885,
          0,
          1.6337314206421332,
          0,
          1.4111073672751937,
          0,
          0.26184844032122445,
          1.9060373108197468,
          0,
          0,
          0,
          0.7737875291312786,
          1.2252595862798141,
          0.8112781244591328,
          0.9917601481809735,
          0.9182958340544896,
          1.4891537322977664,
          0.4863345568408324,
          0,
          0,
          1.2400798499182701,
          0.7219280948873623,
          1.2728258121917737,
          0,
          0.9452618424543584,
          0,
          0,
          0,
          1.4196068993294118,
          0.5916727785823274,
          0,
          0.5435644431995964,
          1.5039540915939518,
          0.8683927290103626,
          0,
          1.9368659308735077,
          0.3095434291503252,
          0,
          0.409633443977211,
          0.9182958340544896,
          0,
          0,
          0,
          0,
          0,
          1.3215155537720342,
          1.9056390622295665,
          1.6411537317874583,
          1.8423709931771088,
          0.8329687409985175,
          0.6500224216483541,
          1.9017032636186313,
          0,
          0.7219280948873623,
          0.4394969869215134,
          0,
          0.3997900666170139,
          0.8112781244591328
         ]
        }
       ],
       "layout": {
        "title": {
         "text": "Entropies per user, in bits (histogram), for users with interface=settings_update"
        }
       }
      },
      "text/html": [
       "<div id=\"7febc62b-c45c-4e0e-84e3-f1e55b02b34f\" style=\"height: 525px; width: 100%;\" class=\"plotly-graph-div\"></div><script type=\"text/javascript\">require([\"plotly\"], function(Plotly) { window.PLOTLYENV=window.PLOTLYENV || {};window.PLOTLYENV.BASE_URL=\"https://plot.ly\";Plotly.newPlot(\"7febc62b-c45c-4e0e-84e3-f1e55b02b34f\", [{\"x\": [-0.0, 0.3456557859085671, 0.7306412333267416, 0.2062830939553485, 0.9182958340544896, 0.7075696535050606, -0.0, 0.7703437707962479, 0.606059261450002, 0.9182958340544896, -0.0, 0.31287908941146386, 0.7219280948873623, -0.0, 1.5941035567191117, 0.9135104147493889, 1.140715804518509, 0.5689730116435885, -0.0, 1.6337314206421332, -0.0, 1.4111073672751937, -0.0, 0.26184844032122445, 1.9060373108197468, -0.0, -0.0, -0.0, 0.7737875291312786, 1.2252595862798141, 0.8112781244591328, 0.9917601481809735, 0.9182958340544896, 1.4891537322977664, 0.4863345568408324, -0.0, -0.0, 1.2400798499182701, 0.7219280948873623, 1.2728258121917737, -0.0, 0.9452618424543584, -0.0, -0.0, -0.0, 1.4196068993294118, 0.5916727785823274, -0.0, 0.5435644431995964, 1.5039540915939518, 0.8683927290103626, -0.0, 1.9368659308735077, 0.3095434291503252, -0.0, 0.409633443977211, 0.9182958340544896, -0.0, -0.0, -0.0, -0.0, -0.0, 1.3215155537720342, 1.9056390622295665, 1.6411537317874583, 1.8423709931771088, 0.8329687409985175, 0.6500224216483541, 1.9017032636186313, -0.0, 0.7219280948873623, 0.4394969869215134, -0.0, 0.3997900666170139, 0.8112781244591328], \"type\": \"histogram\", \"uid\": \"fdd85457-1476-4b68-9424-5db2754c99c2\"}], {\"title\": {\"text\": \"Entropies per user, in bits (histogram), for users with interface=settings_update\"}}, {\"showLink\": false, \"linkText\": \"Export to plot.ly\", \"plotlyServerURL\": \"https://plot.ly\"})});</script><script type=\"text/javascript\">window.addEventListener(\"resize\", function(){window._Plotly.Plots.resize(document.getElementById(\"7febc62b-c45c-4e0e-84e3-f1e55b02b34f\"));});</script>"
      ],
      "text/vnd.plotly.v1+html": [
       "<div id=\"7febc62b-c45c-4e0e-84e3-f1e55b02b34f\" style=\"height: 525px; width: 100%;\" class=\"plotly-graph-div\"></div><script type=\"text/javascript\">require([\"plotly\"], function(Plotly) { window.PLOTLYENV=window.PLOTLYENV || {};window.PLOTLYENV.BASE_URL=\"https://plot.ly\";Plotly.newPlot(\"7febc62b-c45c-4e0e-84e3-f1e55b02b34f\", [{\"x\": [-0.0, 0.3456557859085671, 0.7306412333267416, 0.2062830939553485, 0.9182958340544896, 0.7075696535050606, -0.0, 0.7703437707962479, 0.606059261450002, 0.9182958340544896, -0.0, 0.31287908941146386, 0.7219280948873623, -0.0, 1.5941035567191117, 0.9135104147493889, 1.140715804518509, 0.5689730116435885, -0.0, 1.6337314206421332, -0.0, 1.4111073672751937, -0.0, 0.26184844032122445, 1.9060373108197468, -0.0, -0.0, -0.0, 0.7737875291312786, 1.2252595862798141, 0.8112781244591328, 0.9917601481809735, 0.9182958340544896, 1.4891537322977664, 0.4863345568408324, -0.0, -0.0, 1.2400798499182701, 0.7219280948873623, 1.2728258121917737, -0.0, 0.9452618424543584, -0.0, -0.0, -0.0, 1.4196068993294118, 0.5916727785823274, -0.0, 0.5435644431995964, 1.5039540915939518, 0.8683927290103626, -0.0, 1.9368659308735077, 0.3095434291503252, -0.0, 0.409633443977211, 0.9182958340544896, -0.0, -0.0, -0.0, -0.0, -0.0, 1.3215155537720342, 1.9056390622295665, 1.6411537317874583, 1.8423709931771088, 0.8329687409985175, 0.6500224216483541, 1.9017032636186313, -0.0, 0.7219280948873623, 0.4394969869215134, -0.0, 0.3997900666170139, 0.8112781244591328], \"type\": \"histogram\", \"uid\": \"fdd85457-1476-4b68-9424-5db2754c99c2\"}], {\"title\": {\"text\": \"Entropies per user, in bits (histogram), for users with interface=settings_update\"}}, {\"showLink\": false, \"linkText\": \"Export to plot.ly\", \"plotlyServerURL\": \"https://plot.ly\"})});</script><script type=\"text/javascript\">window.addEventListener(\"resize\", function(){window._Plotly.Plots.resize(document.getElementById(\"7febc62b-c45c-4e0e-84e3-f1e55b02b34f\"));});</script>"
      ]
     },
     "metadata": {},
     "output_type": "display_data"
    }
   ],
   "source": [
    "entropies = get_entropies_for_user_list(difficulty_interface_to_users['settings_update'])\n",
    "print('mean entropy per user', np.mean(entropies))\n",
    "print('median entropy per user', np.median(entropies))\n",
    "plothist(entropies, 'Entropies per user, in bits (histogram), for users with interface=settings_update')"
   ]
  },
  {
   "cell_type": "code",
   "execution_count": 66,
   "metadata": {},
   "outputs": [
    {
     "name": "stdout",
     "output_type": "stream",
     "text": [
      "mean entropy per user 0.6755898500363616\n",
      "median entropy per user 0.5916727785823274\n"
     ]
    },
    {
     "data": {
      "application/vnd.plotly.v1+json": {
       "config": {
        "linkText": "Export to plot.ly",
        "plotlyServerURL": "https://plot.ly",
        "showLink": false
       },
       "data": [
        {
         "type": "histogram",
         "uid": "304b5dcb-adaf-44c5-8959-9ad2ccfe154a",
         "x": [
          0.9239883711223993,
          1.2963026056637275,
          1.0484273537503368,
          0.228538143953528,
          0.13102484511116785,
          0,
          0.5916727785823274,
          1.1994602933016414,
          0.2652619074982422,
          0.500905431826832,
          0.5435644431995964,
          0.7219280948873623,
          0.3329957351668609,
          0.7905731978955793,
          0.5435644431995964,
          0.5032583347756459,
          0.26865697819320505,
          0,
          0.3372900666170139,
          1.3068215150622982,
          0,
          0.18717625687320816,
          1.4488156357251847,
          0.36235588294751797,
          0.9108996942994035,
          1.2830778806152852,
          0.5916727785823274,
          0,
          0.5689955935892812,
          0.5810075099047548,
          0,
          1.1660870601063935,
          0.9927744539878083,
          0.2863969571159562,
          0.4417429437321495,
          0.41684419634316516,
          0,
          0.6190652114877522,
          0.7372586454754054,
          0.3366790555444543,
          0,
          0.8112781244591328,
          1.295718096396589,
          0,
          1,
          0.4822741244507185,
          0.9219280948873623,
          0.0697699461025586,
          0.7166753283486118,
          0.1804129473446513,
          0.41381685030363374,
          1.361326929378823,
          0.5448564522758061,
          1.6276119921488585,
          0,
          0,
          1,
          0.4854607607459134,
          1.0928343095844615,
          0,
          1.584962500721156,
          0.0715037894499587,
          0.6998428398862386,
          1.561278124459133,
          0.18448561779718256,
          1.1476101164599375,
          0,
          1.5196523116050655,
          0.12741851179235877,
          0,
          0.594161283857837,
          0,
          0.18865294740404961,
          0.12653159222336471,
          1.3484730606100794,
          0,
          0.43055186701043946,
          0.11759466565886477,
          1.0226297788901695,
          0.2761954276479391,
          0.5812126095074552,
          0.6395563653739031,
          0.23614218843402401,
          0,
          0.6360156177392154,
          0.056832404500331515,
          0,
          0.6680304451949285,
          1.2318883823260276,
          0.3339360631363668,
          0.38395456535296746,
          0,
          0.14854949043034824,
          0.15935006268563445,
          1.4773501446090231,
          1.0027307332992095,
          0.9218410579144518,
          0.2062830939553485,
          0.5818886780345598,
          0.4689955935892812,
          0,
          0.7219280948873623,
          0.8569957178540346,
          0,
          0.949768658361587,
          1.37374323370471,
          0,
          1,
          0.5916727785823274,
          0.8929427417665807,
          0.46953644921077414,
          0.4454659438212749,
          1.082232453929389,
          0.5159469300074474,
          0,
          0.1237443914320628,
          1.3173320077179393,
          0.9182958340544896,
          0,
          0.6630350975031564,
          0.39724041865016446,
          0,
          0.7665095065529054,
          2,
          0.6024308020404452,
          0.18717625687320816,
          0.12985150050082356,
          0.9714444052248425,
          1.1656117309028835,
          0,
          0,
          0.7219280948873623,
          0.23124824035994587,
          0.30880312371969315,
          0,
          0,
          1.656117718491376,
          1.271782221599798,
          0.3711939034940691,
          1.3857772327036844,
          1,
          0,
          0.2580186686648155,
          0.7703437707962479,
          0.863120568566631,
          1.490765512236578,
          0,
          1.2568638616579217,
          0.606059261450002,
          1.924174352300441,
          0,
          0,
          1.221133468101857,
          0.4689955935892812,
          0.6500224216483541,
          0.31287908941146386,
          0,
          1.2523491011957861,
          1.5941035567191117,
          0.7770209331965173,
          1.4111073672751937,
          0,
          0,
          1.2507785422509425,
          1.5771659783348366,
          1,
          1.4346606450228077,
          0,
          0,
          1.2252595862798141,
          1.4637097651227717,
          0.9182958340544896,
          1.6858157091530306,
          1.4891537322977664,
          0,
          1.2026771820485334,
          1.6594363006276418,
          0.7219280948873623,
          0,
          0,
          0,
          0.9452618424543584,
          0.6292582008241048,
          1.3516441151533924,
          1.219240704636849,
          0,
          1.9299379892474848,
          0,
          1.9368659308735077,
          1.7440372099598942,
          0.409633443977211,
          1,
          0.8658566174572235,
          0.15935006268563445,
          0,
          0,
          0,
          1.3215155537720342,
          0.9959482086700628,
          1.9001957679521742,
          1.5,
          0.5660834921220874,
          0,
          1.8423709931771088,
          0,
          0,
          0.8329687409985175,
          0.6143694458867569,
          1.1241854163060887,
          1.9313906076575693,
          1.8209581526917593,
          1.8239845764123357,
          1.811364547030761,
          1.813206528961766,
          1.8668695300440714,
          1.584962500721156,
          0.9563825584070104,
          0
         ]
        }
       ],
       "layout": {
        "title": {
         "text": "Entropies per user, in bits (histogram), for users with frequency=1.0"
        }
       }
      },
      "text/html": [
       "<div id=\"5cb0c6f5-c167-4028-bedf-80c9a3b47b89\" style=\"height: 525px; width: 100%;\" class=\"plotly-graph-div\"></div><script type=\"text/javascript\">require([\"plotly\"], function(Plotly) { window.PLOTLYENV=window.PLOTLYENV || {};window.PLOTLYENV.BASE_URL=\"https://plot.ly\";Plotly.newPlot(\"5cb0c6f5-c167-4028-bedf-80c9a3b47b89\", [{\"x\": [0.9239883711223993, 1.2963026056637275, 1.0484273537503368, 0.228538143953528, 0.13102484511116785, -0.0, 0.5916727785823274, 1.1994602933016414, 0.2652619074982422, 0.500905431826832, 0.5435644431995964, 0.7219280948873623, 0.3329957351668609, 0.7905731978955793, 0.5435644431995964, 0.5032583347756459, 0.26865697819320505, -0.0, 0.3372900666170139, 1.3068215150622982, -0.0, 0.18717625687320816, 1.4488156357251847, 0.36235588294751797, 0.9108996942994035, 1.2830778806152852, 0.5916727785823274, -0.0, 0.5689955935892812, 0.5810075099047548, -0.0, 1.1660870601063935, 0.9927744539878083, 0.2863969571159562, 0.4417429437321495, 0.41684419634316516, -0.0, 0.6190652114877522, 0.7372586454754054, 0.3366790555444543, -0.0, 0.8112781244591328, 1.295718096396589, -0.0, 1.0, 0.4822741244507185, 0.9219280948873623, 0.0697699461025586, 0.7166753283486118, 0.1804129473446513, 0.41381685030363374, 1.361326929378823, 0.5448564522758061, 1.6276119921488585, -0.0, -0.0, 1.0, 0.4854607607459134, 1.0928343095844615, -0.0, 1.584962500721156, 0.0715037894499587, 0.6998428398862386, 1.561278124459133, 0.18448561779718256, 1.1476101164599375, -0.0, 1.5196523116050655, 0.12741851179235877, -0.0, 0.594161283857837, -0.0, 0.18865294740404961, 0.12653159222336471, 1.3484730606100794, -0.0, 0.43055186701043946, 0.11759466565886477, 1.0226297788901695, 0.2761954276479391, 0.5812126095074552, 0.6395563653739031, 0.23614218843402401, -0.0, 0.6360156177392154, 0.056832404500331515, -0.0, 0.6680304451949285, 1.2318883823260276, 0.3339360631363668, 0.38395456535296746, -0.0, 0.14854949043034824, 0.15935006268563445, 1.4773501446090231, 1.0027307332992095, 0.9218410579144518, 0.2062830939553485, 0.5818886780345598, 0.4689955935892812, -0.0, 0.7219280948873623, 0.8569957178540346, -0.0, 0.949768658361587, 1.37374323370471, -0.0, 1.0, 0.5916727785823274, 0.8929427417665807, 0.46953644921077414, 0.4454659438212749, 1.082232453929389, 0.5159469300074474, -0.0, 0.1237443914320628, 1.3173320077179393, 0.9182958340544896, -0.0, 0.6630350975031564, 0.39724041865016446, -0.0, 0.7665095065529054, 2.0, 0.6024308020404452, 0.18717625687320816, 0.12985150050082356, 0.9714444052248425, 1.1656117309028835, -0.0, -0.0, 0.7219280948873623, 0.23124824035994587, 0.30880312371969315, -0.0, -0.0, 1.656117718491376, 1.271782221599798, 0.3711939034940691, 1.3857772327036844, 1.0, -0.0, 0.2580186686648155, 0.7703437707962479, 0.863120568566631, 1.490765512236578, -0.0, 1.2568638616579217, 0.606059261450002, 1.924174352300441, -0.0, -0.0, 1.221133468101857, 0.4689955935892812, 0.6500224216483541, 0.31287908941146386, -0.0, 1.2523491011957861, 1.5941035567191117, 0.7770209331965173, 1.4111073672751937, -0.0, -0.0, 1.2507785422509425, 1.5771659783348366, 1.0, 1.4346606450228077, -0.0, -0.0, 1.2252595862798141, 1.4637097651227717, 0.9182958340544896, 1.6858157091530306, 1.4891537322977664, -0.0, 1.2026771820485334, 1.6594363006276418, 0.7219280948873623, -0.0, -0.0, -0.0, 0.9452618424543584, 0.6292582008241048, 1.3516441151533924, 1.219240704636849, -0.0, 1.9299379892474848, -0.0, 1.9368659308735077, 1.7440372099598942, 0.409633443977211, 1.0, 0.8658566174572235, 0.15935006268563445, -0.0, -0.0, -0.0, 1.3215155537720342, 0.9959482086700628, 1.9001957679521742, 1.5, 0.5660834921220874, -0.0, 1.8423709931771088, -0.0, -0.0, 0.8329687409985175, 0.6143694458867569, 1.1241854163060887, 1.9313906076575693, 1.8209581526917593, 1.8239845764123357, 1.811364547030761, 1.813206528961766, 1.8668695300440714, 1.584962500721156, 0.9563825584070104, -0.0], \"type\": \"histogram\", \"uid\": \"304b5dcb-adaf-44c5-8959-9ad2ccfe154a\"}], {\"title\": {\"text\": \"Entropies per user, in bits (histogram), for users with frequency=1.0\"}}, {\"showLink\": false, \"linkText\": \"Export to plot.ly\", \"plotlyServerURL\": \"https://plot.ly\"})});</script><script type=\"text/javascript\">window.addEventListener(\"resize\", function(){window._Plotly.Plots.resize(document.getElementById(\"5cb0c6f5-c167-4028-bedf-80c9a3b47b89\"));});</script>"
      ],
      "text/vnd.plotly.v1+html": [
       "<div id=\"5cb0c6f5-c167-4028-bedf-80c9a3b47b89\" style=\"height: 525px; width: 100%;\" class=\"plotly-graph-div\"></div><script type=\"text/javascript\">require([\"plotly\"], function(Plotly) { window.PLOTLYENV=window.PLOTLYENV || {};window.PLOTLYENV.BASE_URL=\"https://plot.ly\";Plotly.newPlot(\"5cb0c6f5-c167-4028-bedf-80c9a3b47b89\", [{\"x\": [0.9239883711223993, 1.2963026056637275, 1.0484273537503368, 0.228538143953528, 0.13102484511116785, -0.0, 0.5916727785823274, 1.1994602933016414, 0.2652619074982422, 0.500905431826832, 0.5435644431995964, 0.7219280948873623, 0.3329957351668609, 0.7905731978955793, 0.5435644431995964, 0.5032583347756459, 0.26865697819320505, -0.0, 0.3372900666170139, 1.3068215150622982, -0.0, 0.18717625687320816, 1.4488156357251847, 0.36235588294751797, 0.9108996942994035, 1.2830778806152852, 0.5916727785823274, -0.0, 0.5689955935892812, 0.5810075099047548, -0.0, 1.1660870601063935, 0.9927744539878083, 0.2863969571159562, 0.4417429437321495, 0.41684419634316516, -0.0, 0.6190652114877522, 0.7372586454754054, 0.3366790555444543, -0.0, 0.8112781244591328, 1.295718096396589, -0.0, 1.0, 0.4822741244507185, 0.9219280948873623, 0.0697699461025586, 0.7166753283486118, 0.1804129473446513, 0.41381685030363374, 1.361326929378823, 0.5448564522758061, 1.6276119921488585, -0.0, -0.0, 1.0, 0.4854607607459134, 1.0928343095844615, -0.0, 1.584962500721156, 0.0715037894499587, 0.6998428398862386, 1.561278124459133, 0.18448561779718256, 1.1476101164599375, -0.0, 1.5196523116050655, 0.12741851179235877, -0.0, 0.594161283857837, -0.0, 0.18865294740404961, 0.12653159222336471, 1.3484730606100794, -0.0, 0.43055186701043946, 0.11759466565886477, 1.0226297788901695, 0.2761954276479391, 0.5812126095074552, 0.6395563653739031, 0.23614218843402401, -0.0, 0.6360156177392154, 0.056832404500331515, -0.0, 0.6680304451949285, 1.2318883823260276, 0.3339360631363668, 0.38395456535296746, -0.0, 0.14854949043034824, 0.15935006268563445, 1.4773501446090231, 1.0027307332992095, 0.9218410579144518, 0.2062830939553485, 0.5818886780345598, 0.4689955935892812, -0.0, 0.7219280948873623, 0.8569957178540346, -0.0, 0.949768658361587, 1.37374323370471, -0.0, 1.0, 0.5916727785823274, 0.8929427417665807, 0.46953644921077414, 0.4454659438212749, 1.082232453929389, 0.5159469300074474, -0.0, 0.1237443914320628, 1.3173320077179393, 0.9182958340544896, -0.0, 0.6630350975031564, 0.39724041865016446, -0.0, 0.7665095065529054, 2.0, 0.6024308020404452, 0.18717625687320816, 0.12985150050082356, 0.9714444052248425, 1.1656117309028835, -0.0, -0.0, 0.7219280948873623, 0.23124824035994587, 0.30880312371969315, -0.0, -0.0, 1.656117718491376, 1.271782221599798, 0.3711939034940691, 1.3857772327036844, 1.0, -0.0, 0.2580186686648155, 0.7703437707962479, 0.863120568566631, 1.490765512236578, -0.0, 1.2568638616579217, 0.606059261450002, 1.924174352300441, -0.0, -0.0, 1.221133468101857, 0.4689955935892812, 0.6500224216483541, 0.31287908941146386, -0.0, 1.2523491011957861, 1.5941035567191117, 0.7770209331965173, 1.4111073672751937, -0.0, -0.0, 1.2507785422509425, 1.5771659783348366, 1.0, 1.4346606450228077, -0.0, -0.0, 1.2252595862798141, 1.4637097651227717, 0.9182958340544896, 1.6858157091530306, 1.4891537322977664, -0.0, 1.2026771820485334, 1.6594363006276418, 0.7219280948873623, -0.0, -0.0, -0.0, 0.9452618424543584, 0.6292582008241048, 1.3516441151533924, 1.219240704636849, -0.0, 1.9299379892474848, -0.0, 1.9368659308735077, 1.7440372099598942, 0.409633443977211, 1.0, 0.8658566174572235, 0.15935006268563445, -0.0, -0.0, -0.0, 1.3215155537720342, 0.9959482086700628, 1.9001957679521742, 1.5, 0.5660834921220874, -0.0, 1.8423709931771088, -0.0, -0.0, 0.8329687409985175, 0.6143694458867569, 1.1241854163060887, 1.9313906076575693, 1.8209581526917593, 1.8239845764123357, 1.811364547030761, 1.813206528961766, 1.8668695300440714, 1.584962500721156, 0.9563825584070104, -0.0], \"type\": \"histogram\", \"uid\": \"304b5dcb-adaf-44c5-8959-9ad2ccfe154a\"}], {\"title\": {\"text\": \"Entropies per user, in bits (histogram), for users with frequency=1.0\"}}, {\"showLink\": false, \"linkText\": \"Export to plot.ly\", \"plotlyServerURL\": \"https://plot.ly\"})});</script><script type=\"text/javascript\">window.addEventListener(\"resize\", function(){window._Plotly.Plots.resize(document.getElementById(\"5cb0c6f5-c167-4028-bedf-80c9a3b47b89\"));});</script>"
      ]
     },
     "metadata": {},
     "output_type": "display_data"
    }
   ],
   "source": [
    "entropies = get_entropies_for_user_list(frequency_of_choose_difficulty_to_users['1.0'])\n",
    "print('mean entropy per user', np.mean(entropies))\n",
    "print('median entropy per user', np.median(entropies))\n",
    "plothist(entropies, 'Entropies per user, in bits (histogram), for users with frequency=1.0')"
   ]
  },
  {
   "cell_type": "code",
   "execution_count": 67,
   "metadata": {},
   "outputs": [
    {
     "name": "stdout",
     "output_type": "stream",
     "text": [
      "mean entropy per user 1.0275326230025583\n",
      "median entropy per user 1.07120902160176\n"
     ]
    },
    {
     "data": {
      "application/vnd.plotly.v1+json": {
       "config": {
        "linkText": "Export to plot.ly",
        "plotlyServerURL": "https://plot.ly",
        "showLink": false
       },
       "data": [
        {
         "type": "histogram",
         "uid": "f8219a81-8eb5-4ce9-abc4-f0f9eb88a4b8",
         "x": [
          0,
          0,
          0,
          1.5,
          0.9625130706209868,
          1.584962500721156,
          0.8112781244591328,
          1.1570351179177192,
          0.38751879968630026,
          0,
          1.413211940737912,
          1.8579710104738327,
          0.37464080524531773,
          0.759680867719472,
          0.5115779700152474,
          0.9864267287308426,
          0.27297085791406983,
          0.2935002217766025,
          0.22228483068568797,
          0.7122497194936322,
          0.5094330653657044,
          1.09631367118442,
          0.21195501652845383,
          0,
          0.6931766465765996,
          0.3372900666170139,
          0,
          0.47163511680013037,
          1.2627317300909384,
          0.3095434291503252,
          0,
          0.22931906912691744,
          0.5592536894829354,
          0,
          0,
          0.6500224216483541,
          1.0002154324569534,
          0.9655513072570181,
          0,
          0.17691097869777175,
          0,
          0.8658566174572235,
          1.4057944930281088,
          0,
          1.306170651709187,
          0.43682488621619636,
          0.6227333613277222,
          0.6559685384023577,
          0.7024665512903903,
          1.4056390622295665,
          1,
          0.4689955935892812,
          0,
          0.1132743034970967,
          0,
          1.0601173104579575,
          0.6500224216483541,
          0.908653933541588,
          0,
          0.6031530134281982,
          0.39360991596962236,
          1.7634655444978913,
          0.5916727785823274,
          0,
          0,
          0,
          0.9257589898398033,
          1.6862765430415376,
          0,
          0.9864267287308426,
          0,
          0.33907641808892486,
          0,
          0.126238940668096,
          0.17508297338458834,
          0,
          0.9238587791212592,
          0,
          0,
          0,
          1.320924277228159,
          0.9182958340544896,
          0,
          0.3095434291503252,
          1.1709148657116077,
          0.3712323266408757,
          0,
          0,
          0.06788019714294674,
          0,
          1.2324448056278299,
          1.2516291673878228,
          0.2523008719388933,
          1.1554663334311437,
          1.287054028118727,
          0.46377734988775166,
          1.4444384561023487,
          0,
          0,
          0,
          0.3712323266408757,
          0.9182958340544896,
          0.7219280948873623,
          1.6685504676434155,
          1,
          1.9216908022742647,
          0,
          1.2021971781060556,
          0.821338806637957,
          1.0750977843757799,
          1.6924660125546716,
          0,
          0,
          1.007632815012383,
          0.5699988509472104,
          0.21826393850757847,
          0.16232618017539294,
          1.3896949086018646,
          0,
          0.6541767777306715,
          1,
          0.9709505944546688,
          1,
          1.2710522513849214,
          0.8112781244591328,
          1.668897248715202,
          0.8112781244591328,
          0.8453509366224365,
          1.7105467485441612,
          0,
          0.6054266419690637,
          0,
          0.2790240224445944,
          0.5304060778306042,
          0.26557518099056504,
          0.4394969869215134,
          0,
          0,
          0,
          0.21084230031853216,
          1.133299662991951,
          0.8308578218485319,
          1,
          0.3227569588973983,
          0.7274288396722985,
          0.5665095065529053,
          1.3404388162579375,
          1.2126005437919651,
          1.584962500721156,
          0.5032583347756459,
          0,
          0,
          0.9393050446829774,
          0.9271661414455266,
          0,
          0.8571484374283718,
          0.7219280948873623,
          1.3879032923909065,
          0.2580186686648155,
          0.9606231529733942,
          0.4689955935892812,
          0.7772968567425483,
          0,
          0,
          0.41381685030363374,
          1.176065103715944,
          1,
          1.198192411043098,
          1.2087030080822636,
          0.9182958340544896,
          0.4626180441915523,
          0.9182958340544896,
          0.5435644431995964,
          0.9648396476487167,
          0.5689730116435885,
          1.8448819354293253,
          1.6201730408300326,
          0,
          0,
          1.6337314206421332,
          1.3512274809529559,
          1.3650250081515716,
          0.26184844032122445,
          0,
          1.1353369182216067,
          0.3227569588973983,
          0.4394969869215134,
          1.109693279200577,
          1.9153079217838682,
          0,
          0.6143694458867569,
          1.0052912302684816,
          1,
          0,
          1.5683199759918802,
          0.7737875291312786,
          1.9241743523004413,
          0.9917601481809735,
          0,
          0.8112781244591328,
          0,
          0.4863345568408324,
          0,
          0,
          1.2728258121917737,
          1.2916919971380594,
          0,
          0,
          0,
          1.4196068993294118,
          0.5032583347756459,
          1.4612516322372209,
          1,
          0.5916727785823274,
          1.6211509331628502,
          1.5039540915939518,
          0.8683927290103626,
          1.584962500721156,
          0,
          0.3095434291503252,
          0,
          1.8676338909712122,
          1.7883106100537456,
          0,
          1.4911148500551858,
          0,
          1.7924812503605778,
          0,
          0,
          1.5546097612655667,
          1.8924446499266439,
          1.950212064914747,
          1.916716186961402,
          0,
          0,
          1,
          1.5645247207974509,
          0.9182958340544896,
          0,
          0.9182958340544896,
          1.6387586809150083,
          1.3250566850693148,
          1.8069544828934903,
          1.7459037088989509,
          1.4168085106941932,
          0,
          1.6820028017661328,
          1.096801586642763,
          1.9219280948873623,
          1.8112775484724628,
          0.41381685030363374,
          1.740918777418858,
          1.1567796494470395,
          1.0389205950315936,
          0,
          0.5131851787372753,
          1.6258145836939115,
          1.4029044925755696,
          0,
          0,
          1.495533579025972,
          1.829495196157193,
          1.846284511844913,
          1.6402239289418519,
          0,
          1.339317214765133,
          0,
          1.924174352300441,
          1.3787834934861756,
          1.8189502940200932,
          1.8901960855945215,
          1.4442472357443168,
          1.3527241956246547,
          1.3822593183669214,
          0.9182958340544896,
          1.4809851807840686,
          1.4426049431802974,
          1.6858157091530304,
          1.9514695816904701,
          1.3703701607323486,
          1.7609640474436812,
          1.841071296847249,
          0.9219280948873623,
          1.3360253406140252,
          1.9588718484453604,
          0,
          1.5,
          1.4839804573173703,
          0.5032583347756459,
          1.293304878150617,
          1.4888392525335299,
          1.5133642766479287,
          1.4860462325725075,
          1.872025084091411,
          0.9182958340544896,
          1.2433003685389579,
          1.638127167820104,
          0,
          1.3273333558774318,
          0.9864267287308426,
          0.4854607607459134,
          1.4687704274131959,
          0.6500224216483541,
          1.5738402124825936,
          0.574828144380386,
          1.219967330522749,
          1.0627951813612242,
          0.40597703847557115,
          1.176065103715944,
          1.1567796494470395,
          1.7464353842388936,
          1,
          1.1401156785146092,
          0,
          1.758124191672977,
          0.7642045065086203,
          1.6894822670191827,
          1,
          1,
          1.7139270656426162,
          0,
          1.3092966682370037,
          1.3609640474436813,
          0,
          1.7702371461866788,
          1.1488348542809166,
          1.7381493331928664,
          1.6777210715454165,
          0.9709505944546688,
          1.6758220575766962,
          1.9028652219676245,
          0,
          1.657742726504889,
          1.8262452584026092,
          0,
          1.584962500721156,
          1.5656531116458186,
          1.5,
          1.7513134874138518,
          0.6840384356390417,
          1.292727214755173,
          1.584962500721156,
          0,
          1.8423709931771088,
          1.3787834934861758,
          0,
          1.4885252948977485,
          1.5534845018187062,
          0.5435644431995964,
          1.2650449785309024,
          1.7610949360829105,
          0.8501514254479946,
          0,
          0,
          0,
          0,
          1.7320915266019448,
          1.9366407419411669,
          0.8841837197791889,
          0.6500224216483541,
          0.23187232431271465,
          1.2516291673878228,
          1.7232314287976207,
          0.9709505944546688,
          0.6051865766334206,
          1,
          1.6062993899513245,
          1.527361548089914,
          0,
          0,
          0.5435644431995964,
          1.110834696384756,
          1.122785837662617,
          1.1104938116333085,
          0,
          1.4591479170272448,
          1.4039904575514166,
          1.2806721295208872,
          1.5241695235278405,
          0,
          1.6697367178034823,
          1.862155102545977,
          0,
          1.5434938511699527,
          1.7535707868569466,
          1.848569601344328,
          1.6463636073775865,
          1.7820239456660327,
          1.4743810868779008,
          1.4861948703399055,
          0.9182958340544896,
          0.5916727785823274,
          1.9056390622295665,
          1.1488348542809166,
          0.9756294312117073,
          0.7345299214394703,
          1.53012496531497,
          1.323351684420694,
          0.6179881406009712,
          1.8886512679763887,
          0.9182958340544896,
          0.9709505944546688,
          1.671374879087784,
          1.4233186736475805,
          1.9182958340544893,
          1.7460921788336397,
          1.788703141426173,
          0.43101676897537733,
          0.4689955935892812,
          0.8519325792170331,
          1.6325948924976457,
          1.8675828378725519,
          1.4466166676282084,
          1.5960833257775042,
          0,
          0,
          0,
          1.6498683818476263,
          1.570950594454669,
          1.4215541688301352,
          1.0954312795575998,
          0,
          1.8464393446710157,
          1.801675001458621,
          0.9709505944546688,
          1.9261909053585646,
          0,
          1.8083202060091466,
          1.7863012011716395,
          1.308193929518777,
          1.5628066316931744,
          1,
          1.7080011678141962,
          1.3602492629180993,
          0.9182958340544896,
          1.2987949406953985,
          1.5714162156283358,
          0.06268265300135283,
          1.5080769446765627,
          0,
          1.5304930567574824,
          1.4012343792962179,
          1.6484479388657762,
          1.6127776360405413,
          1.9703596692501393,
          1.5155269718617599,
          0,
          1.5,
          1.3346791410515946,
          1.6152502650882519,
          1.676737030052133,
          0,
          0.8166890883150209,
          1.0534081504863568,
          0.9182958340544896,
          0.5435644431995964,
          1.2290268912868845,
          1.7972774760975907,
          0.9182958340544896,
          1.5,
          1.5694452621548822,
          0,
          1.7474130395316414,
          1.7942036592599924,
          1.7177602521413333,
          1.8394910703001344,
          1.9068189483525888,
          1.498426959975329,
          1.5766212201074916,
          0,
          0,
          0.9182958340544896,
          1.8322628970242687,
          1.8050702154584348,
          1.6258145836939115,
          0.7219280948873623,
          1.4838317068446891,
          1.8892464285091581,
          1.2870540281187268,
          0.7345299214394703,
          1.3567796494470397,
          1.3709505944546687,
          1.5737888130660205,
          1.584962500721156,
          1,
          0.9182958340544896,
          1.8365916681089791,
          1.4977256086869073,
          1.2244883781338562,
          1.60872603890505,
          0,
          1.8732214356139147,
          1.638253359471275,
          0,
          1.4137995646056802,
          1.198183947911799,
          0.8112781244591328,
          0,
          0,
          1.3921472236645345,
          0,
          1.3603059777020794,
          0.8112781244591328,
          0.8453509366224365,
          0.9182958340544896,
          1.8890255736436508,
          1.8365916681089791,
          1.4591479170272446,
          0,
          1.5304930567574824,
          1.0748068828532795,
          0,
          1.3787834934861756,
          1.708098663501806,
          1.2854570690946672,
          0,
          0,
          0.8112781244591328,
          0.946372935985442,
          1,
          0,
          0,
          1,
          1.8050365325772657,
          1.3735443923990154,
          1.6703247570951807,
          1.8455376192464692,
          1.061278124459133,
          0.863120568566631,
          1.4481186309161784,
          0.9182958340544896,
          1.7631951082143114,
          1.7440804382513324,
          1.383866329597683,
          1.6209578710561834,
          1.6992365361682793,
          1.8424558342068216,
          0,
          1.7407656065690988,
          1.7460921788336397,
          1.2516291673878228,
          1.5432473005196226,
          0.9182958340544896,
          1.319035274338866,
          1.5,
          0.9910760598382221,
          0.7219280948873623,
          0,
          0.7219280948873623,
          1.6183941088363931,
          0.7219280948873623,
          1.5219280948873624,
          0.9182958340544896,
          0,
          0.9182958340544896,
          1.2516291673878228,
          0,
          1.6758220575766962,
          0,
          0,
          1.6644977792004614,
          0.5219490794046293,
          0.9182958340544896,
          0,
          0.9182958340544896,
          1.7176856953872668,
          1.3787834934861758,
          1.2531841072934458,
          0,
          1.9219280948873623,
          0,
          0.6685644431995964,
          1.8910611120726526,
          0.6402064333604702,
          0,
          1.4336890647036555,
          0.7219280948873623,
          1.7924812503605778,
          0.8112781244591328,
          1.6968305704101936,
          1.5510981710072647,
          1.6494003762381348,
          1.188721875540867,
          0,
          1.9708625978022178,
          1.4476406844437253,
          0.7642045065086203,
          0.7219280948873623,
          1.2916919971380596,
          0,
          1.8411454850132056,
          1.406246945130485,
          1.2322022766029508,
          0,
          1.6644977792004614,
          1.7806390622295662,
          1.2934356963218767,
          1.5683182557028439,
          0,
          1.900670967392199,
          0,
          0,
          1,
          0.6685644431995964,
          1.4603721872403521,
          0.6500224216483541,
          1.4885252948977485,
          1.797277476097591,
          1.4195562985716133,
          1.5,
          0.8112781244591328,
          1.7899290753099992,
          1.561278124459133,
          1.8613152774012367,
          0,
          1.3092000326978117,
          0.9182958340544896,
          1.8365916681089791,
          0,
          0.43856130728422676,
          0.9709505944546688,
          1,
          0.9182958340544896,
          1.9561787304889204,
          1.5219280948873624,
          0,
          1.8703047064860279,
          1.9698452580387984,
          0.8812908992306927,
          1.2516291673878228,
          0,
          1.5095490535693046,
          1.502919142769996,
          1.9329145639793979,
          1.804038928403389,
          1.4591479170272448,
          1.9017032636186308,
          1.9219280948873623,
          1,
          1.9808259362290785,
          0.2580186686648155,
          1.789929075309999,
          1.6280478439134958,
          1.7062141110820384,
          1.9056390622295665,
          1,
          1.6574390424502368,
          1.8464393446710157,
          1.5,
          0.9709505944546688,
          0.7742433029172697,
          1.4969275461145897,
          1.8422921890824149,
          1.75,
          0.35335933502142136,
          1.6150070326624482,
          1.6992365361682793,
          1.5803881935300383,
          1,
          1.4854752972273344,
          1.9584661817581865,
          0.8112781244591328,
          1.9219280948873623,
          1,
          0.9940302114769565,
          1,
          1.224394445405986,
          0,
          1.0540157730728,
          0.863120568566631,
          1.6847715835203187,
          0,
          0.9182958340544896,
          1.260159990986748,
          1.4591479170272448,
          1.0214554656116668,
          0.7642045065086203,
          1.5896074396975302,
          1.9219280948873623,
          1.4591479170272448,
          1.4182958340544896,
          1.8910611120726526,
          1.8418298705042457,
          0,
          1.1469968458926931,
          0,
          1.280672129520887,
          0.6500224216483541,
          0,
          1.2406705316766886,
          1.9321871991775446,
          0,
          1.4908920690779461,
          0,
          0.4689955935892812,
          1.2516291673878228,
          0.6500224216483541,
          1.584962500721156,
          1.3709505944546687,
          1.5455354215539248,
          1.7838593436779768,
          1.5943457963201992,
          0.7219280948873623,
          0,
          1.4488156357251847,
          0.7732283485249176,
          1.9173570203484225,
          1.9056390622295665,
          1.584962500721156,
          1.650335261060192,
          1.6158045319402516,
          1.4139240238487818,
          1.5574319619297041,
          1.4166422780956525,
          1.8423709931771088,
          1.9066643856709649,
          1.4751648282981122,
          1.633272861605377,
          0.8112781244591328,
          1.0676111603502403,
          1.3516441151533924,
          1.2903082942022441,
          0.8658566174572235,
          1.5831981923940757,
          1.786080697230572,
          1.4591479170272448,
          0.863120568566631,
          1.3330378292931782,
          0,
          1.7832079381586783,
          0,
          1.9182958340544896,
          1.7302423406565557,
          1.5566766519448638,
          1.7924812503605778,
          0.9709505944546688,
          0.9709505944546688,
          1.5219280948873624,
          0,
          0.9940302114769565,
          0.8812908992306927,
          0,
          1.319035274338866,
          1.3709505944546687,
          0,
          1.8423709931771088,
          1.9336649380006277,
          1.2516291673878228,
          0,
          1,
          1.9067075874369133,
          0.9182958340544896,
          0.8112781244591328,
          0,
          1.669180336866731,
          1.919278974437779,
          1.8553885422075338,
          1.836591668108979,
          0,
          1.7410758171042227,
          0,
          1.8423709931771088,
          1.061278124459133,
          0,
          1.8106370366402462,
          1.8089332576251513,
          1.5052408149441479,
          0.8739810481273578,
          0.9182958340544896,
          1.5,
          0,
          1.411437408774452,
          0.9182958340544896,
          0,
          1.2987949406953985,
          0,
          1,
          0,
          0,
          0,
          1.4591479170272448,
          0,
          1.4751648282981122,
          0.8112781244591328,
          1.3250112108241772,
          1.944039125423962,
          1,
          1.5219280948873624,
          0,
          0,
          0,
          1.584962500721156,
          1.9219280948873623,
          1.5304930567574826,
          0,
          0,
          0,
          1.3709505944546687,
          1.7806390622295665,
          0.6500224216483541,
          1.5219280948873624,
          2,
          1.5,
          1.2516291673878228,
          1,
          1.5,
          1.8423709931771088,
          1,
          1.9056390622295665,
          1.0869877023399053,
          0.5916727785823274,
          0,
          0,
          1,
          1.9772170014624826,
          1.9137180598562396,
          0.9182958340544896,
          1.657742726504889,
          0,
          1.9554959915759043,
          1.5,
          1.5534845018187062,
          1.8643767621991796,
          1.5,
          1.5,
          1.8076324959614594,
          1.7014902166773487,
          0.9182958340544896,
          1.584962500721156,
          1.657742726504889,
          0,
          0,
          1.584962500721156,
          1.4854752972273344,
          1.4591479170272448,
          0,
          0,
          0,
          1.5,
          0.7219280948873623,
          0.7219280948873623,
          0.9219280948873623,
          1,
          1.6973206585968417,
          1.657742726504889,
          1.7033848993102918,
          1.5219280948873624,
          1.097780987108337,
          1.7485412627908345,
          1.688035144392618,
          1,
          0,
          0,
          1.792481250360578,
          1.9667429112995065,
          1.75,
          0.9182958340544896,
          0.9182958340544896,
          1.6248128910520223,
          1.3221793455166668,
          1.9086126988727123,
          1.8423709931771088,
          1.224394445405986,
          0,
          1.8339272176418302,
          1.7806390622295662,
          0,
          0.9219280948873623,
          1.9362600275315276,
          1.8423709931771088,
          0,
          1,
          0,
          0,
          1,
          1.352030101757953,
          0.9182958340544896,
          0.8112781244591328,
          1.8423709931771088,
          1.5,
          0.9182958340544896,
          1.7373035357721607,
          1,
          0,
          1.743819078150123,
          1.585786974810032,
          1.6791191974540265,
          1,
          1.8371323244686166,
          0,
          0.9182958340544896,
          1.9060373108197468,
          1,
          1.5,
          1.711960834091279,
          1.648199470591429,
          1.5,
          1.9925718623777005,
          0,
          0.9182958340544896,
          1.8184597514751206,
          1,
          1.8919522882632307,
          0.9182958340544896,
          0,
          1,
          0,
          1.9219280948873623,
          1.8778867313886058,
          1.7899290753099992,
          1.9219280948873623,
          1.7444178146526677,
          0,
          1.5,
          0,
          1,
          0.9182958340544896,
          1.5189412691633648,
          1.6691803368667308,
          0,
          1.2987949406953985,
          1,
          1.5322000973722265,
          1.3516441151533924,
          1.6494003762381346,
          0,
          1.8676338909712122,
          1.9182958340544893,
          0,
          1.8984557484531848,
          0,
          0,
          1.9837042256955806,
          1.9219280948873623,
          1.5219280948873624,
          1.7491825391877551,
          1.5,
          0.9182958340544896,
          1,
          0,
          0,
          0,
          0,
          1.9182958340544893,
          1.584962500721156,
          1.5304930567574824,
          0.9182958340544896,
          1.556656707462823,
          0.9182958340544896,
          1.9056390622295665,
          0,
          1,
          0,
          1.7682781801325942,
          1.584962500721156,
          0.9182958340544896,
          1,
          0.9182958340544896,
          1.7577263483947778,
          0,
          1.601014305806835,
          1.974937501201927,
          0,
          0,
          0,
          1.657742726504889,
          1.75,
          0.9182958340544896,
          2,
          1.561278124459133,
          1,
          1,
          1.9259803807409999,
          1.5465935642949384,
          0,
          0,
          1.9438549227703188,
          1.4832261969709115,
          1.7566976171909037,
          0.9182958340544896,
          0,
          0.9182958340544896,
          0.9709505944546688,
          1,
          1.5,
          1.8394910703001344,
          1.789929075309999,
          1,
          1,
          0,
          1.3081939295187768,
          1.5006283791521189,
          1.584962500721156,
          0,
          1.8352377453121176,
          1,
          0.9182958340544896,
          1.7344977967946407,
          0.9182958340544896,
          1.5841600771843276,
          1.1488348542809166,
          0.9182958340544896,
          1.5487949406953985,
          1,
          1,
          1.7999222070206775,
          1.5,
          1.8464393446710154,
          1.9310223017980601,
          1.5,
          1.9182958340544893,
          0,
          0,
          1.7899290753099992,
          0,
          0,
          0,
          1.9182958340544893,
          0,
          1.2516291673878228,
          0,
          1.3709505944546687,
          1.5,
          1,
          1,
          0.9852281360342516,
          0.5032583347756459,
          1.950212064914747,
          1.9056390622295665,
          0,
          0,
          0.9182958340544896,
          1,
          1,
          1.5,
          1.8464393446710154,
          1,
          1.4591479170272448,
          1,
          0,
          0,
          1.584962500721156,
          0,
          0.7219280948873623,
          1,
          1.657742726504889,
          0.9182958340544896,
          0.9182958340544896,
          1.584962500721156,
          0.9182958340544896,
          1,
          1,
          1.6858157091530304,
          1.8097238785956846,
          0.8112781244591328,
          1.9502120649147472,
          1.77585894824464,
          1.3709505944546687,
          0,
          1.584962500721156,
          0.9182958340544896,
          0,
          0,
          1.7582975702780197
         ]
        }
       ],
       "layout": {
        "title": {
         "text": "Entropies per user, in bits (histogram), for users with frequency=0.5"
        }
       }
      },
      "text/html": [
       "<div id=\"9cfdf9c7-f91f-4ae7-be3e-9b065b589e0d\" style=\"height: 525px; width: 100%;\" class=\"plotly-graph-div\"></div><script type=\"text/javascript\">require([\"plotly\"], function(Plotly) { window.PLOTLYENV=window.PLOTLYENV || {};window.PLOTLYENV.BASE_URL=\"https://plot.ly\";Plotly.newPlot(\"9cfdf9c7-f91f-4ae7-be3e-9b065b589e0d\", [{\"x\": [-0.0, -0.0, -0.0, 1.5, 0.9625130706209868, 1.584962500721156, 0.8112781244591328, 1.1570351179177192, 0.38751879968630026, -0.0, 1.413211940737912, 1.8579710104738327, 0.37464080524531773, 0.759680867719472, 0.5115779700152474, 0.9864267287308426, 0.27297085791406983, 0.2935002217766025, 0.22228483068568797, 0.7122497194936322, 0.5094330653657044, 1.09631367118442, 0.21195501652845383, -0.0, 0.6931766465765996, 0.3372900666170139, -0.0, 0.47163511680013037, 1.2627317300909384, 0.3095434291503252, -0.0, 0.22931906912691744, 0.5592536894829354, -0.0, -0.0, 0.6500224216483541, 1.0002154324569534, 0.9655513072570181, -0.0, 0.17691097869777175, -0.0, 0.8658566174572235, 1.4057944930281088, -0.0, 1.306170651709187, 0.43682488621619636, 0.6227333613277222, 0.6559685384023577, 0.7024665512903903, 1.4056390622295665, 1.0, 0.4689955935892812, -0.0, 0.1132743034970967, -0.0, 1.0601173104579575, 0.6500224216483541, 0.908653933541588, -0.0, 0.6031530134281982, 0.39360991596962236, 1.7634655444978913, 0.5916727785823274, -0.0, -0.0, -0.0, 0.9257589898398033, 1.6862765430415376, -0.0, 0.9864267287308426, -0.0, 0.33907641808892486, -0.0, 0.126238940668096, 0.17508297338458834, -0.0, 0.9238587791212592, -0.0, -0.0, -0.0, 1.320924277228159, 0.9182958340544896, -0.0, 0.3095434291503252, 1.1709148657116077, 0.3712323266408757, -0.0, -0.0, 0.06788019714294674, -0.0, 1.2324448056278299, 1.2516291673878228, 0.2523008719388933, 1.1554663334311437, 1.287054028118727, 0.46377734988775166, 1.4444384561023487, -0.0, -0.0, -0.0, 0.3712323266408757, 0.9182958340544896, 0.7219280948873623, 1.6685504676434155, 1.0, 1.9216908022742647, -0.0, 1.2021971781060556, 0.821338806637957, 1.0750977843757799, 1.6924660125546716, -0.0, -0.0, 1.007632815012383, 0.5699988509472104, 0.21826393850757847, 0.16232618017539294, 1.3896949086018646, -0.0, 0.6541767777306715, 1.0, 0.9709505944546688, 1.0, 1.2710522513849214, 0.8112781244591328, 1.668897248715202, 0.8112781244591328, 0.8453509366224365, 1.7105467485441612, -0.0, 0.6054266419690637, -0.0, 0.2790240224445944, 0.5304060778306042, 0.26557518099056504, 0.4394969869215134, -0.0, -0.0, -0.0, 0.21084230031853216, 1.133299662991951, 0.8308578218485319, 1.0, 0.3227569588973983, 0.7274288396722985, 0.5665095065529053, 1.3404388162579375, 1.2126005437919651, 1.584962500721156, 0.5032583347756459, -0.0, -0.0, 0.9393050446829774, 0.9271661414455266, -0.0, 0.8571484374283718, 0.7219280948873623, 1.3879032923909065, 0.2580186686648155, 0.9606231529733942, 0.4689955935892812, 0.7772968567425483, -0.0, -0.0, 0.41381685030363374, 1.176065103715944, 1.0, 1.198192411043098, 1.2087030080822636, 0.9182958340544896, 0.4626180441915523, 0.9182958340544896, 0.5435644431995964, 0.9648396476487167, 0.5689730116435885, 1.8448819354293253, 1.6201730408300326, -0.0, -0.0, 1.6337314206421332, 1.3512274809529559, 1.3650250081515716, 0.26184844032122445, -0.0, 1.1353369182216067, 0.3227569588973983, 0.4394969869215134, 1.109693279200577, 1.9153079217838682, -0.0, 0.6143694458867569, 1.0052912302684816, 1.0, -0.0, 1.5683199759918802, 0.7737875291312786, 1.9241743523004413, 0.9917601481809735, -0.0, 0.8112781244591328, -0.0, 0.4863345568408324, -0.0, -0.0, 1.2728258121917737, 1.2916919971380594, -0.0, -0.0, -0.0, 1.4196068993294118, 0.5032583347756459, 1.4612516322372209, 1.0, 0.5916727785823274, 1.6211509331628502, 1.5039540915939518, 0.8683927290103626, 1.584962500721156, -0.0, 0.3095434291503252, -0.0, 1.8676338909712122, 1.7883106100537456, -0.0, 1.4911148500551858, -0.0, 1.7924812503605778, -0.0, -0.0, 1.5546097612655667, 1.8924446499266439, 1.950212064914747, 1.916716186961402, -0.0, -0.0, 1.0, 1.5645247207974509, 0.9182958340544896, -0.0, 0.9182958340544896, 1.6387586809150083, 1.3250566850693148, 1.8069544828934903, 1.7459037088989509, 1.4168085106941932, -0.0, 1.6820028017661328, 1.096801586642763, 1.9219280948873623, 1.8112775484724628, 0.41381685030363374, 1.740918777418858, 1.1567796494470395, 1.0389205950315936, -0.0, 0.5131851787372753, 1.6258145836939115, 1.4029044925755696, -0.0, -0.0, 1.495533579025972, 1.829495196157193, 1.846284511844913, 1.6402239289418519, -0.0, 1.339317214765133, -0.0, 1.924174352300441, 1.3787834934861756, 1.8189502940200932, 1.8901960855945215, 1.4442472357443168, 1.3527241956246547, 1.3822593183669214, 0.9182958340544896, 1.4809851807840686, 1.4426049431802974, 1.6858157091530304, 1.9514695816904701, 1.3703701607323486, 1.7609640474436812, 1.841071296847249, 0.9219280948873623, 1.3360253406140252, 1.9588718484453604, -0.0, 1.5, 1.4839804573173703, 0.5032583347756459, 1.293304878150617, 1.4888392525335299, 1.5133642766479287, 1.4860462325725075, 1.872025084091411, 0.9182958340544896, 1.2433003685389579, 1.638127167820104, -0.0, 1.3273333558774318, 0.9864267287308426, 0.4854607607459134, 1.4687704274131959, 0.6500224216483541, 1.5738402124825936, 0.574828144380386, 1.219967330522749, 1.0627951813612242, 0.40597703847557115, 1.176065103715944, 1.1567796494470395, 1.7464353842388936, 1.0, 1.1401156785146092, -0.0, 1.758124191672977, 0.7642045065086203, 1.6894822670191827, 1.0, 1.0, 1.7139270656426162, -0.0, 1.3092966682370037, 1.3609640474436813, -0.0, 1.7702371461866788, 1.1488348542809166, 1.7381493331928664, 1.6777210715454165, 0.9709505944546688, 1.6758220575766962, 1.9028652219676245, -0.0, 1.657742726504889, 1.8262452584026092, -0.0, 1.584962500721156, 1.5656531116458186, 1.5, 1.7513134874138518, 0.6840384356390417, 1.292727214755173, 1.584962500721156, -0.0, 1.8423709931771088, 1.3787834934861758, -0.0, 1.4885252948977485, 1.5534845018187062, 0.5435644431995964, 1.2650449785309024, 1.7610949360829105, 0.8501514254479946, -0.0, -0.0, -0.0, -0.0, 1.7320915266019448, 1.9366407419411669, 0.8841837197791889, 0.6500224216483541, 0.23187232431271465, 1.2516291673878228, 1.7232314287976207, 0.9709505944546688, 0.6051865766334206, 1.0, 1.6062993899513245, 1.527361548089914, -0.0, -0.0, 0.5435644431995964, 1.110834696384756, 1.122785837662617, 1.1104938116333085, -0.0, 1.4591479170272448, 1.4039904575514166, 1.2806721295208872, 1.5241695235278405, -0.0, 1.6697367178034823, 1.862155102545977, -0.0, 1.5434938511699527, 1.7535707868569466, 1.848569601344328, 1.6463636073775865, 1.7820239456660327, 1.4743810868779008, 1.4861948703399055, 0.9182958340544896, 0.5916727785823274, 1.9056390622295665, 1.1488348542809166, 0.9756294312117073, 0.7345299214394703, 1.53012496531497, 1.323351684420694, 0.6179881406009712, 1.8886512679763887, 0.9182958340544896, 0.9709505944546688, 1.671374879087784, 1.4233186736475805, 1.9182958340544893, 1.7460921788336397, 1.788703141426173, 0.43101676897537733, 0.4689955935892812, 0.8519325792170331, 1.6325948924976457, 1.8675828378725519, 1.4466166676282084, 1.5960833257775042, -0.0, -0.0, -0.0, 1.6498683818476263, 1.570950594454669, 1.4215541688301352, 1.0954312795575998, -0.0, 1.8464393446710157, 1.801675001458621, 0.9709505944546688, 1.9261909053585646, -0.0, 1.8083202060091466, 1.7863012011716395, 1.308193929518777, 1.5628066316931744, 1.0, 1.7080011678141962, 1.3602492629180993, 0.9182958340544896, 1.2987949406953985, 1.5714162156283358, 0.06268265300135283, 1.5080769446765627, -0.0, 1.5304930567574824, 1.4012343792962179, 1.6484479388657762, 1.6127776360405413, 1.9703596692501393, 1.5155269718617599, -0.0, 1.5, 1.3346791410515946, 1.6152502650882519, 1.676737030052133, -0.0, 0.8166890883150209, 1.0534081504863568, 0.9182958340544896, 0.5435644431995964, 1.2290268912868845, 1.7972774760975907, 0.9182958340544896, 1.5, 1.5694452621548822, -0.0, 1.7474130395316414, 1.7942036592599924, 1.7177602521413333, 1.8394910703001344, 1.9068189483525888, 1.498426959975329, 1.5766212201074916, -0.0, -0.0, 0.9182958340544896, 1.8322628970242687, 1.8050702154584348, 1.6258145836939115, 0.7219280948873623, 1.4838317068446891, 1.8892464285091581, 1.2870540281187268, 0.7345299214394703, 1.3567796494470397, 1.3709505944546687, 1.5737888130660205, 1.584962500721156, 1.0, 0.9182958340544896, 1.8365916681089791, 1.4977256086869073, 1.2244883781338562, 1.60872603890505, -0.0, 1.8732214356139147, 1.638253359471275, -0.0, 1.4137995646056802, 1.198183947911799, 0.8112781244591328, -0.0, -0.0, 1.3921472236645345, -0.0, 1.3603059777020794, 0.8112781244591328, 0.8453509366224365, 0.9182958340544896, 1.8890255736436508, 1.8365916681089791, 1.4591479170272446, -0.0, 1.5304930567574824, 1.0748068828532795, -0.0, 1.3787834934861756, 1.708098663501806, 1.2854570690946672, -0.0, -0.0, 0.8112781244591328, 0.946372935985442, 1.0, -0.0, -0.0, 1.0, 1.8050365325772657, 1.3735443923990154, 1.6703247570951807, 1.8455376192464692, 1.061278124459133, 0.863120568566631, 1.4481186309161784, 0.9182958340544896, 1.7631951082143114, 1.7440804382513324, 1.383866329597683, 1.6209578710561834, 1.6992365361682793, 1.8424558342068216, -0.0, 1.7407656065690988, 1.7460921788336397, 1.2516291673878228, 1.5432473005196226, 0.9182958340544896, 1.319035274338866, 1.5, 0.9910760598382221, 0.7219280948873623, -0.0, 0.7219280948873623, 1.6183941088363931, 0.7219280948873623, 1.5219280948873624, 0.9182958340544896, -0.0, 0.9182958340544896, 1.2516291673878228, -0.0, 1.6758220575766962, -0.0, -0.0, 1.6644977792004614, 0.5219490794046293, 0.9182958340544896, -0.0, 0.9182958340544896, 1.7176856953872668, 1.3787834934861758, 1.2531841072934458, -0.0, 1.9219280948873623, -0.0, 0.6685644431995964, 1.8910611120726526, 0.6402064333604702, -0.0, 1.4336890647036555, 0.7219280948873623, 1.7924812503605778, 0.8112781244591328, 1.6968305704101936, 1.5510981710072647, 1.6494003762381348, 1.188721875540867, -0.0, 1.9708625978022178, 1.4476406844437253, 0.7642045065086203, 0.7219280948873623, 1.2916919971380596, -0.0, 1.8411454850132056, 1.406246945130485, 1.2322022766029508, -0.0, 1.6644977792004614, 1.7806390622295662, 1.2934356963218767, 1.5683182557028439, -0.0, 1.900670967392199, -0.0, -0.0, 1.0, 0.6685644431995964, 1.4603721872403521, 0.6500224216483541, 1.4885252948977485, 1.797277476097591, 1.4195562985716133, 1.5, 0.8112781244591328, 1.7899290753099992, 1.561278124459133, 1.8613152774012367, -0.0, 1.3092000326978117, 0.9182958340544896, 1.8365916681089791, -0.0, 0.43856130728422676, 0.9709505944546688, 1.0, 0.9182958340544896, 1.9561787304889204, 1.5219280948873624, -0.0, 1.8703047064860279, 1.9698452580387984, 0.8812908992306927, 1.2516291673878228, -0.0, 1.5095490535693046, 1.502919142769996, 1.9329145639793979, 1.804038928403389, 1.4591479170272448, 1.9017032636186308, 1.9219280948873623, 1.0, 1.9808259362290785, 0.2580186686648155, 1.789929075309999, 1.6280478439134958, 1.7062141110820384, 1.9056390622295665, 1.0, 1.6574390424502368, 1.8464393446710157, 1.5, 0.9709505944546688, 0.7742433029172697, 1.4969275461145897, 1.8422921890824149, 1.75, 0.35335933502142136, 1.6150070326624482, 1.6992365361682793, 1.5803881935300383, 1.0, 1.4854752972273344, 1.9584661817581865, 0.8112781244591328, 1.9219280948873623, 1.0, 0.9940302114769565, 1.0, 1.224394445405986, -0.0, 1.0540157730728, 0.863120568566631, 1.6847715835203187, -0.0, 0.9182958340544896, 1.260159990986748, 1.4591479170272448, 1.0214554656116668, 0.7642045065086203, 1.5896074396975302, 1.9219280948873623, 1.4591479170272448, 1.4182958340544896, 1.8910611120726526, 1.8418298705042457, -0.0, 1.1469968458926931, -0.0, 1.280672129520887, 0.6500224216483541, -0.0, 1.2406705316766886, 1.9321871991775446, -0.0, 1.4908920690779461, -0.0, 0.4689955935892812, 1.2516291673878228, 0.6500224216483541, 1.584962500721156, 1.3709505944546687, 1.5455354215539248, 1.7838593436779768, 1.5943457963201992, 0.7219280948873623, -0.0, 1.4488156357251847, 0.7732283485249176, 1.9173570203484225, 1.9056390622295665, 1.584962500721156, 1.650335261060192, 1.6158045319402516, 1.4139240238487818, 1.5574319619297041, 1.4166422780956525, 1.8423709931771088, 1.9066643856709649, 1.4751648282981122, 1.633272861605377, 0.8112781244591328, 1.0676111603502403, 1.3516441151533924, 1.2903082942022441, 0.8658566174572235, 1.5831981923940757, 1.786080697230572, 1.4591479170272448, 0.863120568566631, 1.3330378292931782, -0.0, 1.7832079381586783, -0.0, 1.9182958340544896, 1.7302423406565557, 1.5566766519448638, 1.7924812503605778, 0.9709505944546688, 0.9709505944546688, 1.5219280948873624, -0.0, 0.9940302114769565, 0.8812908992306927, -0.0, 1.319035274338866, 1.3709505944546687, -0.0, 1.8423709931771088, 1.9336649380006277, 1.2516291673878228, -0.0, 1.0, 1.9067075874369133, 0.9182958340544896, 0.8112781244591328, -0.0, 1.669180336866731, 1.919278974437779, 1.8553885422075338, 1.836591668108979, -0.0, 1.7410758171042227, -0.0, 1.8423709931771088, 1.061278124459133, -0.0, 1.8106370366402462, 1.8089332576251513, 1.5052408149441479, 0.8739810481273578, 0.9182958340544896, 1.5, -0.0, 1.411437408774452, 0.9182958340544896, -0.0, 1.2987949406953985, -0.0, 1.0, -0.0, -0.0, -0.0, 1.4591479170272448, -0.0, 1.4751648282981122, 0.8112781244591328, 1.3250112108241772, 1.944039125423962, 1.0, 1.5219280948873624, -0.0, -0.0, -0.0, 1.584962500721156, 1.9219280948873623, 1.5304930567574826, -0.0, -0.0, -0.0, 1.3709505944546687, 1.7806390622295665, 0.6500224216483541, 1.5219280948873624, 2.0, 1.5, 1.2516291673878228, 1.0, 1.5, 1.8423709931771088, 1.0, 1.9056390622295665, 1.0869877023399053, 0.5916727785823274, -0.0, -0.0, 1.0, 1.9772170014624826, 1.9137180598562396, 0.9182958340544896, 1.657742726504889, -0.0, 1.9554959915759043, 1.5, 1.5534845018187062, 1.8643767621991796, 1.5, 1.5, 1.8076324959614594, 1.7014902166773487, 0.9182958340544896, 1.584962500721156, 1.657742726504889, -0.0, -0.0, 1.584962500721156, 1.4854752972273344, 1.4591479170272448, -0.0, -0.0, -0.0, 1.5, 0.7219280948873623, 0.7219280948873623, 0.9219280948873623, 1.0, 1.6973206585968417, 1.657742726504889, 1.7033848993102918, 1.5219280948873624, 1.097780987108337, 1.7485412627908345, 1.688035144392618, 1.0, -0.0, -0.0, 1.792481250360578, 1.9667429112995065, 1.75, 0.9182958340544896, 0.9182958340544896, 1.6248128910520223, 1.3221793455166668, 1.9086126988727123, 1.8423709931771088, 1.224394445405986, -0.0, 1.8339272176418302, 1.7806390622295662, -0.0, 0.9219280948873623, 1.9362600275315276, 1.8423709931771088, -0.0, 1.0, -0.0, -0.0, 1.0, 1.352030101757953, 0.9182958340544896, 0.8112781244591328, 1.8423709931771088, 1.5, 0.9182958340544896, 1.7373035357721607, 1.0, -0.0, 1.743819078150123, 1.585786974810032, 1.6791191974540265, 1.0, 1.8371323244686166, -0.0, 0.9182958340544896, 1.9060373108197468, 1.0, 1.5, 1.711960834091279, 1.648199470591429, 1.5, 1.9925718623777005, -0.0, 0.9182958340544896, 1.8184597514751206, 1.0, 1.8919522882632307, 0.9182958340544896, -0.0, 1.0, -0.0, 1.9219280948873623, 1.8778867313886058, 1.7899290753099992, 1.9219280948873623, 1.7444178146526677, -0.0, 1.5, -0.0, 1.0, 0.9182958340544896, 1.5189412691633648, 1.6691803368667308, -0.0, 1.2987949406953985, 1.0, 1.5322000973722265, 1.3516441151533924, 1.6494003762381346, -0.0, 1.8676338909712122, 1.9182958340544893, -0.0, 1.8984557484531848, -0.0, -0.0, 1.9837042256955806, 1.9219280948873623, 1.5219280948873624, 1.7491825391877551, 1.5, 0.9182958340544896, 1.0, -0.0, -0.0, -0.0, -0.0, 1.9182958340544893, 1.584962500721156, 1.5304930567574824, 0.9182958340544896, 1.556656707462823, 0.9182958340544896, 1.9056390622295665, -0.0, 1.0, -0.0, 1.7682781801325942, 1.584962500721156, 0.9182958340544896, 1.0, 0.9182958340544896, 1.7577263483947778, -0.0, 1.601014305806835, 1.974937501201927, -0.0, -0.0, -0.0, 1.657742726504889, 1.75, 0.9182958340544896, 2.0, 1.561278124459133, 1.0, 1.0, 1.9259803807409999, 1.5465935642949384, -0.0, -0.0, 1.9438549227703188, 1.4832261969709115, 1.7566976171909037, 0.9182958340544896, -0.0, 0.9182958340544896, 0.9709505944546688, 1.0, 1.5, 1.8394910703001344, 1.789929075309999, 1.0, 1.0, -0.0, 1.3081939295187768, 1.5006283791521189, 1.584962500721156, -0.0, 1.8352377453121176, 1.0, 0.9182958340544896, 1.7344977967946407, 0.9182958340544896, 1.5841600771843276, 1.1488348542809166, 0.9182958340544896, 1.5487949406953985, 1.0, 1.0, 1.7999222070206775, 1.5, 1.8464393446710154, 1.9310223017980601, 1.5, 1.9182958340544893, -0.0, -0.0, 1.7899290753099992, -0.0, -0.0, -0.0, 1.9182958340544893, -0.0, 1.2516291673878228, -0.0, 1.3709505944546687, 1.5, 1.0, 1.0, 0.9852281360342516, 0.5032583347756459, 1.950212064914747, 1.9056390622295665, -0.0, -0.0, 0.9182958340544896, 1.0, 1.0, 1.5, 1.8464393446710154, 1.0, 1.4591479170272448, 1.0, -0.0, -0.0, 1.584962500721156, -0.0, 0.7219280948873623, 1.0, 1.657742726504889, 0.9182958340544896, 0.9182958340544896, 1.584962500721156, 0.9182958340544896, 1.0, 1.0, 1.6858157091530304, 1.8097238785956846, 0.8112781244591328, 1.9502120649147472, 1.77585894824464, 1.3709505944546687, -0.0, 1.584962500721156, 0.9182958340544896, -0.0, -0.0, 1.7582975702780197], \"type\": \"histogram\", \"uid\": \"f8219a81-8eb5-4ce9-abc4-f0f9eb88a4b8\"}], {\"title\": {\"text\": \"Entropies per user, in bits (histogram), for users with frequency=0.5\"}}, {\"showLink\": false, \"linkText\": \"Export to plot.ly\", \"plotlyServerURL\": \"https://plot.ly\"})});</script><script type=\"text/javascript\">window.addEventListener(\"resize\", function(){window._Plotly.Plots.resize(document.getElementById(\"9cfdf9c7-f91f-4ae7-be3e-9b065b589e0d\"));});</script>"
      ],
      "text/vnd.plotly.v1+html": [
       "<div id=\"9cfdf9c7-f91f-4ae7-be3e-9b065b589e0d\" style=\"height: 525px; width: 100%;\" class=\"plotly-graph-div\"></div><script type=\"text/javascript\">require([\"plotly\"], function(Plotly) { window.PLOTLYENV=window.PLOTLYENV || {};window.PLOTLYENV.BASE_URL=\"https://plot.ly\";Plotly.newPlot(\"9cfdf9c7-f91f-4ae7-be3e-9b065b589e0d\", [{\"x\": [-0.0, -0.0, -0.0, 1.5, 0.9625130706209868, 1.584962500721156, 0.8112781244591328, 1.1570351179177192, 0.38751879968630026, -0.0, 1.413211940737912, 1.8579710104738327, 0.37464080524531773, 0.759680867719472, 0.5115779700152474, 0.9864267287308426, 0.27297085791406983, 0.2935002217766025, 0.22228483068568797, 0.7122497194936322, 0.5094330653657044, 1.09631367118442, 0.21195501652845383, -0.0, 0.6931766465765996, 0.3372900666170139, -0.0, 0.47163511680013037, 1.2627317300909384, 0.3095434291503252, -0.0, 0.22931906912691744, 0.5592536894829354, -0.0, -0.0, 0.6500224216483541, 1.0002154324569534, 0.9655513072570181, -0.0, 0.17691097869777175, -0.0, 0.8658566174572235, 1.4057944930281088, -0.0, 1.306170651709187, 0.43682488621619636, 0.6227333613277222, 0.6559685384023577, 0.7024665512903903, 1.4056390622295665, 1.0, 0.4689955935892812, -0.0, 0.1132743034970967, -0.0, 1.0601173104579575, 0.6500224216483541, 0.908653933541588, -0.0, 0.6031530134281982, 0.39360991596962236, 1.7634655444978913, 0.5916727785823274, -0.0, -0.0, -0.0, 0.9257589898398033, 1.6862765430415376, -0.0, 0.9864267287308426, -0.0, 0.33907641808892486, -0.0, 0.126238940668096, 0.17508297338458834, -0.0, 0.9238587791212592, -0.0, -0.0, -0.0, 1.320924277228159, 0.9182958340544896, -0.0, 0.3095434291503252, 1.1709148657116077, 0.3712323266408757, -0.0, -0.0, 0.06788019714294674, -0.0, 1.2324448056278299, 1.2516291673878228, 0.2523008719388933, 1.1554663334311437, 1.287054028118727, 0.46377734988775166, 1.4444384561023487, -0.0, -0.0, -0.0, 0.3712323266408757, 0.9182958340544896, 0.7219280948873623, 1.6685504676434155, 1.0, 1.9216908022742647, -0.0, 1.2021971781060556, 0.821338806637957, 1.0750977843757799, 1.6924660125546716, -0.0, -0.0, 1.007632815012383, 0.5699988509472104, 0.21826393850757847, 0.16232618017539294, 1.3896949086018646, -0.0, 0.6541767777306715, 1.0, 0.9709505944546688, 1.0, 1.2710522513849214, 0.8112781244591328, 1.668897248715202, 0.8112781244591328, 0.8453509366224365, 1.7105467485441612, -0.0, 0.6054266419690637, -0.0, 0.2790240224445944, 0.5304060778306042, 0.26557518099056504, 0.4394969869215134, -0.0, -0.0, -0.0, 0.21084230031853216, 1.133299662991951, 0.8308578218485319, 1.0, 0.3227569588973983, 0.7274288396722985, 0.5665095065529053, 1.3404388162579375, 1.2126005437919651, 1.584962500721156, 0.5032583347756459, -0.0, -0.0, 0.9393050446829774, 0.9271661414455266, -0.0, 0.8571484374283718, 0.7219280948873623, 1.3879032923909065, 0.2580186686648155, 0.9606231529733942, 0.4689955935892812, 0.7772968567425483, -0.0, -0.0, 0.41381685030363374, 1.176065103715944, 1.0, 1.198192411043098, 1.2087030080822636, 0.9182958340544896, 0.4626180441915523, 0.9182958340544896, 0.5435644431995964, 0.9648396476487167, 0.5689730116435885, 1.8448819354293253, 1.6201730408300326, -0.0, -0.0, 1.6337314206421332, 1.3512274809529559, 1.3650250081515716, 0.26184844032122445, -0.0, 1.1353369182216067, 0.3227569588973983, 0.4394969869215134, 1.109693279200577, 1.9153079217838682, -0.0, 0.6143694458867569, 1.0052912302684816, 1.0, -0.0, 1.5683199759918802, 0.7737875291312786, 1.9241743523004413, 0.9917601481809735, -0.0, 0.8112781244591328, -0.0, 0.4863345568408324, -0.0, -0.0, 1.2728258121917737, 1.2916919971380594, -0.0, -0.0, -0.0, 1.4196068993294118, 0.5032583347756459, 1.4612516322372209, 1.0, 0.5916727785823274, 1.6211509331628502, 1.5039540915939518, 0.8683927290103626, 1.584962500721156, -0.0, 0.3095434291503252, -0.0, 1.8676338909712122, 1.7883106100537456, -0.0, 1.4911148500551858, -0.0, 1.7924812503605778, -0.0, -0.0, 1.5546097612655667, 1.8924446499266439, 1.950212064914747, 1.916716186961402, -0.0, -0.0, 1.0, 1.5645247207974509, 0.9182958340544896, -0.0, 0.9182958340544896, 1.6387586809150083, 1.3250566850693148, 1.8069544828934903, 1.7459037088989509, 1.4168085106941932, -0.0, 1.6820028017661328, 1.096801586642763, 1.9219280948873623, 1.8112775484724628, 0.41381685030363374, 1.740918777418858, 1.1567796494470395, 1.0389205950315936, -0.0, 0.5131851787372753, 1.6258145836939115, 1.4029044925755696, -0.0, -0.0, 1.495533579025972, 1.829495196157193, 1.846284511844913, 1.6402239289418519, -0.0, 1.339317214765133, -0.0, 1.924174352300441, 1.3787834934861756, 1.8189502940200932, 1.8901960855945215, 1.4442472357443168, 1.3527241956246547, 1.3822593183669214, 0.9182958340544896, 1.4809851807840686, 1.4426049431802974, 1.6858157091530304, 1.9514695816904701, 1.3703701607323486, 1.7609640474436812, 1.841071296847249, 0.9219280948873623, 1.3360253406140252, 1.9588718484453604, -0.0, 1.5, 1.4839804573173703, 0.5032583347756459, 1.293304878150617, 1.4888392525335299, 1.5133642766479287, 1.4860462325725075, 1.872025084091411, 0.9182958340544896, 1.2433003685389579, 1.638127167820104, -0.0, 1.3273333558774318, 0.9864267287308426, 0.4854607607459134, 1.4687704274131959, 0.6500224216483541, 1.5738402124825936, 0.574828144380386, 1.219967330522749, 1.0627951813612242, 0.40597703847557115, 1.176065103715944, 1.1567796494470395, 1.7464353842388936, 1.0, 1.1401156785146092, -0.0, 1.758124191672977, 0.7642045065086203, 1.6894822670191827, 1.0, 1.0, 1.7139270656426162, -0.0, 1.3092966682370037, 1.3609640474436813, -0.0, 1.7702371461866788, 1.1488348542809166, 1.7381493331928664, 1.6777210715454165, 0.9709505944546688, 1.6758220575766962, 1.9028652219676245, -0.0, 1.657742726504889, 1.8262452584026092, -0.0, 1.584962500721156, 1.5656531116458186, 1.5, 1.7513134874138518, 0.6840384356390417, 1.292727214755173, 1.584962500721156, -0.0, 1.8423709931771088, 1.3787834934861758, -0.0, 1.4885252948977485, 1.5534845018187062, 0.5435644431995964, 1.2650449785309024, 1.7610949360829105, 0.8501514254479946, -0.0, -0.0, -0.0, -0.0, 1.7320915266019448, 1.9366407419411669, 0.8841837197791889, 0.6500224216483541, 0.23187232431271465, 1.2516291673878228, 1.7232314287976207, 0.9709505944546688, 0.6051865766334206, 1.0, 1.6062993899513245, 1.527361548089914, -0.0, -0.0, 0.5435644431995964, 1.110834696384756, 1.122785837662617, 1.1104938116333085, -0.0, 1.4591479170272448, 1.4039904575514166, 1.2806721295208872, 1.5241695235278405, -0.0, 1.6697367178034823, 1.862155102545977, -0.0, 1.5434938511699527, 1.7535707868569466, 1.848569601344328, 1.6463636073775865, 1.7820239456660327, 1.4743810868779008, 1.4861948703399055, 0.9182958340544896, 0.5916727785823274, 1.9056390622295665, 1.1488348542809166, 0.9756294312117073, 0.7345299214394703, 1.53012496531497, 1.323351684420694, 0.6179881406009712, 1.8886512679763887, 0.9182958340544896, 0.9709505944546688, 1.671374879087784, 1.4233186736475805, 1.9182958340544893, 1.7460921788336397, 1.788703141426173, 0.43101676897537733, 0.4689955935892812, 0.8519325792170331, 1.6325948924976457, 1.8675828378725519, 1.4466166676282084, 1.5960833257775042, -0.0, -0.0, -0.0, 1.6498683818476263, 1.570950594454669, 1.4215541688301352, 1.0954312795575998, -0.0, 1.8464393446710157, 1.801675001458621, 0.9709505944546688, 1.9261909053585646, -0.0, 1.8083202060091466, 1.7863012011716395, 1.308193929518777, 1.5628066316931744, 1.0, 1.7080011678141962, 1.3602492629180993, 0.9182958340544896, 1.2987949406953985, 1.5714162156283358, 0.06268265300135283, 1.5080769446765627, -0.0, 1.5304930567574824, 1.4012343792962179, 1.6484479388657762, 1.6127776360405413, 1.9703596692501393, 1.5155269718617599, -0.0, 1.5, 1.3346791410515946, 1.6152502650882519, 1.676737030052133, -0.0, 0.8166890883150209, 1.0534081504863568, 0.9182958340544896, 0.5435644431995964, 1.2290268912868845, 1.7972774760975907, 0.9182958340544896, 1.5, 1.5694452621548822, -0.0, 1.7474130395316414, 1.7942036592599924, 1.7177602521413333, 1.8394910703001344, 1.9068189483525888, 1.498426959975329, 1.5766212201074916, -0.0, -0.0, 0.9182958340544896, 1.8322628970242687, 1.8050702154584348, 1.6258145836939115, 0.7219280948873623, 1.4838317068446891, 1.8892464285091581, 1.2870540281187268, 0.7345299214394703, 1.3567796494470397, 1.3709505944546687, 1.5737888130660205, 1.584962500721156, 1.0, 0.9182958340544896, 1.8365916681089791, 1.4977256086869073, 1.2244883781338562, 1.60872603890505, -0.0, 1.8732214356139147, 1.638253359471275, -0.0, 1.4137995646056802, 1.198183947911799, 0.8112781244591328, -0.0, -0.0, 1.3921472236645345, -0.0, 1.3603059777020794, 0.8112781244591328, 0.8453509366224365, 0.9182958340544896, 1.8890255736436508, 1.8365916681089791, 1.4591479170272446, -0.0, 1.5304930567574824, 1.0748068828532795, -0.0, 1.3787834934861756, 1.708098663501806, 1.2854570690946672, -0.0, -0.0, 0.8112781244591328, 0.946372935985442, 1.0, -0.0, -0.0, 1.0, 1.8050365325772657, 1.3735443923990154, 1.6703247570951807, 1.8455376192464692, 1.061278124459133, 0.863120568566631, 1.4481186309161784, 0.9182958340544896, 1.7631951082143114, 1.7440804382513324, 1.383866329597683, 1.6209578710561834, 1.6992365361682793, 1.8424558342068216, -0.0, 1.7407656065690988, 1.7460921788336397, 1.2516291673878228, 1.5432473005196226, 0.9182958340544896, 1.319035274338866, 1.5, 0.9910760598382221, 0.7219280948873623, -0.0, 0.7219280948873623, 1.6183941088363931, 0.7219280948873623, 1.5219280948873624, 0.9182958340544896, -0.0, 0.9182958340544896, 1.2516291673878228, -0.0, 1.6758220575766962, -0.0, -0.0, 1.6644977792004614, 0.5219490794046293, 0.9182958340544896, -0.0, 0.9182958340544896, 1.7176856953872668, 1.3787834934861758, 1.2531841072934458, -0.0, 1.9219280948873623, -0.0, 0.6685644431995964, 1.8910611120726526, 0.6402064333604702, -0.0, 1.4336890647036555, 0.7219280948873623, 1.7924812503605778, 0.8112781244591328, 1.6968305704101936, 1.5510981710072647, 1.6494003762381348, 1.188721875540867, -0.0, 1.9708625978022178, 1.4476406844437253, 0.7642045065086203, 0.7219280948873623, 1.2916919971380596, -0.0, 1.8411454850132056, 1.406246945130485, 1.2322022766029508, -0.0, 1.6644977792004614, 1.7806390622295662, 1.2934356963218767, 1.5683182557028439, -0.0, 1.900670967392199, -0.0, -0.0, 1.0, 0.6685644431995964, 1.4603721872403521, 0.6500224216483541, 1.4885252948977485, 1.797277476097591, 1.4195562985716133, 1.5, 0.8112781244591328, 1.7899290753099992, 1.561278124459133, 1.8613152774012367, -0.0, 1.3092000326978117, 0.9182958340544896, 1.8365916681089791, -0.0, 0.43856130728422676, 0.9709505944546688, 1.0, 0.9182958340544896, 1.9561787304889204, 1.5219280948873624, -0.0, 1.8703047064860279, 1.9698452580387984, 0.8812908992306927, 1.2516291673878228, -0.0, 1.5095490535693046, 1.502919142769996, 1.9329145639793979, 1.804038928403389, 1.4591479170272448, 1.9017032636186308, 1.9219280948873623, 1.0, 1.9808259362290785, 0.2580186686648155, 1.789929075309999, 1.6280478439134958, 1.7062141110820384, 1.9056390622295665, 1.0, 1.6574390424502368, 1.8464393446710157, 1.5, 0.9709505944546688, 0.7742433029172697, 1.4969275461145897, 1.8422921890824149, 1.75, 0.35335933502142136, 1.6150070326624482, 1.6992365361682793, 1.5803881935300383, 1.0, 1.4854752972273344, 1.9584661817581865, 0.8112781244591328, 1.9219280948873623, 1.0, 0.9940302114769565, 1.0, 1.224394445405986, -0.0, 1.0540157730728, 0.863120568566631, 1.6847715835203187, -0.0, 0.9182958340544896, 1.260159990986748, 1.4591479170272448, 1.0214554656116668, 0.7642045065086203, 1.5896074396975302, 1.9219280948873623, 1.4591479170272448, 1.4182958340544896, 1.8910611120726526, 1.8418298705042457, -0.0, 1.1469968458926931, -0.0, 1.280672129520887, 0.6500224216483541, -0.0, 1.2406705316766886, 1.9321871991775446, -0.0, 1.4908920690779461, -0.0, 0.4689955935892812, 1.2516291673878228, 0.6500224216483541, 1.584962500721156, 1.3709505944546687, 1.5455354215539248, 1.7838593436779768, 1.5943457963201992, 0.7219280948873623, -0.0, 1.4488156357251847, 0.7732283485249176, 1.9173570203484225, 1.9056390622295665, 1.584962500721156, 1.650335261060192, 1.6158045319402516, 1.4139240238487818, 1.5574319619297041, 1.4166422780956525, 1.8423709931771088, 1.9066643856709649, 1.4751648282981122, 1.633272861605377, 0.8112781244591328, 1.0676111603502403, 1.3516441151533924, 1.2903082942022441, 0.8658566174572235, 1.5831981923940757, 1.786080697230572, 1.4591479170272448, 0.863120568566631, 1.3330378292931782, -0.0, 1.7832079381586783, -0.0, 1.9182958340544896, 1.7302423406565557, 1.5566766519448638, 1.7924812503605778, 0.9709505944546688, 0.9709505944546688, 1.5219280948873624, -0.0, 0.9940302114769565, 0.8812908992306927, -0.0, 1.319035274338866, 1.3709505944546687, -0.0, 1.8423709931771088, 1.9336649380006277, 1.2516291673878228, -0.0, 1.0, 1.9067075874369133, 0.9182958340544896, 0.8112781244591328, -0.0, 1.669180336866731, 1.919278974437779, 1.8553885422075338, 1.836591668108979, -0.0, 1.7410758171042227, -0.0, 1.8423709931771088, 1.061278124459133, -0.0, 1.8106370366402462, 1.8089332576251513, 1.5052408149441479, 0.8739810481273578, 0.9182958340544896, 1.5, -0.0, 1.411437408774452, 0.9182958340544896, -0.0, 1.2987949406953985, -0.0, 1.0, -0.0, -0.0, -0.0, 1.4591479170272448, -0.0, 1.4751648282981122, 0.8112781244591328, 1.3250112108241772, 1.944039125423962, 1.0, 1.5219280948873624, -0.0, -0.0, -0.0, 1.584962500721156, 1.9219280948873623, 1.5304930567574826, -0.0, -0.0, -0.0, 1.3709505944546687, 1.7806390622295665, 0.6500224216483541, 1.5219280948873624, 2.0, 1.5, 1.2516291673878228, 1.0, 1.5, 1.8423709931771088, 1.0, 1.9056390622295665, 1.0869877023399053, 0.5916727785823274, -0.0, -0.0, 1.0, 1.9772170014624826, 1.9137180598562396, 0.9182958340544896, 1.657742726504889, -0.0, 1.9554959915759043, 1.5, 1.5534845018187062, 1.8643767621991796, 1.5, 1.5, 1.8076324959614594, 1.7014902166773487, 0.9182958340544896, 1.584962500721156, 1.657742726504889, -0.0, -0.0, 1.584962500721156, 1.4854752972273344, 1.4591479170272448, -0.0, -0.0, -0.0, 1.5, 0.7219280948873623, 0.7219280948873623, 0.9219280948873623, 1.0, 1.6973206585968417, 1.657742726504889, 1.7033848993102918, 1.5219280948873624, 1.097780987108337, 1.7485412627908345, 1.688035144392618, 1.0, -0.0, -0.0, 1.792481250360578, 1.9667429112995065, 1.75, 0.9182958340544896, 0.9182958340544896, 1.6248128910520223, 1.3221793455166668, 1.9086126988727123, 1.8423709931771088, 1.224394445405986, -0.0, 1.8339272176418302, 1.7806390622295662, -0.0, 0.9219280948873623, 1.9362600275315276, 1.8423709931771088, -0.0, 1.0, -0.0, -0.0, 1.0, 1.352030101757953, 0.9182958340544896, 0.8112781244591328, 1.8423709931771088, 1.5, 0.9182958340544896, 1.7373035357721607, 1.0, -0.0, 1.743819078150123, 1.585786974810032, 1.6791191974540265, 1.0, 1.8371323244686166, -0.0, 0.9182958340544896, 1.9060373108197468, 1.0, 1.5, 1.711960834091279, 1.648199470591429, 1.5, 1.9925718623777005, -0.0, 0.9182958340544896, 1.8184597514751206, 1.0, 1.8919522882632307, 0.9182958340544896, -0.0, 1.0, -0.0, 1.9219280948873623, 1.8778867313886058, 1.7899290753099992, 1.9219280948873623, 1.7444178146526677, -0.0, 1.5, -0.0, 1.0, 0.9182958340544896, 1.5189412691633648, 1.6691803368667308, -0.0, 1.2987949406953985, 1.0, 1.5322000973722265, 1.3516441151533924, 1.6494003762381346, -0.0, 1.8676338909712122, 1.9182958340544893, -0.0, 1.8984557484531848, -0.0, -0.0, 1.9837042256955806, 1.9219280948873623, 1.5219280948873624, 1.7491825391877551, 1.5, 0.9182958340544896, 1.0, -0.0, -0.0, -0.0, -0.0, 1.9182958340544893, 1.584962500721156, 1.5304930567574824, 0.9182958340544896, 1.556656707462823, 0.9182958340544896, 1.9056390622295665, -0.0, 1.0, -0.0, 1.7682781801325942, 1.584962500721156, 0.9182958340544896, 1.0, 0.9182958340544896, 1.7577263483947778, -0.0, 1.601014305806835, 1.974937501201927, -0.0, -0.0, -0.0, 1.657742726504889, 1.75, 0.9182958340544896, 2.0, 1.561278124459133, 1.0, 1.0, 1.9259803807409999, 1.5465935642949384, -0.0, -0.0, 1.9438549227703188, 1.4832261969709115, 1.7566976171909037, 0.9182958340544896, -0.0, 0.9182958340544896, 0.9709505944546688, 1.0, 1.5, 1.8394910703001344, 1.789929075309999, 1.0, 1.0, -0.0, 1.3081939295187768, 1.5006283791521189, 1.584962500721156, -0.0, 1.8352377453121176, 1.0, 0.9182958340544896, 1.7344977967946407, 0.9182958340544896, 1.5841600771843276, 1.1488348542809166, 0.9182958340544896, 1.5487949406953985, 1.0, 1.0, 1.7999222070206775, 1.5, 1.8464393446710154, 1.9310223017980601, 1.5, 1.9182958340544893, -0.0, -0.0, 1.7899290753099992, -0.0, -0.0, -0.0, 1.9182958340544893, -0.0, 1.2516291673878228, -0.0, 1.3709505944546687, 1.5, 1.0, 1.0, 0.9852281360342516, 0.5032583347756459, 1.950212064914747, 1.9056390622295665, -0.0, -0.0, 0.9182958340544896, 1.0, 1.0, 1.5, 1.8464393446710154, 1.0, 1.4591479170272448, 1.0, -0.0, -0.0, 1.584962500721156, -0.0, 0.7219280948873623, 1.0, 1.657742726504889, 0.9182958340544896, 0.9182958340544896, 1.584962500721156, 0.9182958340544896, 1.0, 1.0, 1.6858157091530304, 1.8097238785956846, 0.8112781244591328, 1.9502120649147472, 1.77585894824464, 1.3709505944546687, -0.0, 1.584962500721156, 0.9182958340544896, -0.0, -0.0, 1.7582975702780197], \"type\": \"histogram\", \"uid\": \"f8219a81-8eb5-4ce9-abc4-f0f9eb88a4b8\"}], {\"title\": {\"text\": \"Entropies per user, in bits (histogram), for users with frequency=0.5\"}}, {\"showLink\": false, \"linkText\": \"Export to plot.ly\", \"plotlyServerURL\": \"https://plot.ly\"})});</script><script type=\"text/javascript\">window.addEventListener(\"resize\", function(){window._Plotly.Plots.resize(document.getElementById(\"9cfdf9c7-f91f-4ae7-be3e-9b065b589e0d\"));});</script>"
      ]
     },
     "metadata": {},
     "output_type": "display_data"
    }
   ],
   "source": [
    "entropies = get_entropies_for_user_list(frequency_of_choose_difficulty_to_users['0.5'])\n",
    "print('mean entropy per user', np.mean(entropies))\n",
    "print('median entropy per user', np.median(entropies))\n",
    "plothist(entropies, 'Entropies per user, in bits (histogram), for users with frequency=0.5')"
   ]
  },
  {
   "cell_type": "code",
   "execution_count": 68,
   "metadata": {},
   "outputs": [
    {
     "name": "stdout",
     "output_type": "stream",
     "text": [
      "mean entropy per user 0.612005044915718\n",
      "median entropy per user 0.5301790624412356\n"
     ]
    },
    {
     "data": {
      "application/vnd.plotly.v1+json": {
       "config": {
        "linkText": "Export to plot.ly",
        "plotlyServerURL": "https://plot.ly",
        "showLink": false
       },
       "data": [
        {
         "type": "histogram",
         "uid": "fe1af46b-5919-4d99-a5e6-284694181c7d",
         "x": [
          0.19171816206991943,
          0,
          0,
          0.8112781244591328,
          1.5247788342053317,
          0.13469174315499088,
          0.9315770415932221,
          0.5313715172840316,
          0.5289866075984395,
          0.41381685030363374,
          0,
          1,
          0,
          0.7642045065086203,
          1.5677480285737644,
          0.16866093149667025,
          0.7363157203022537,
          0.4557550448682709,
          1.3188806363267027,
          0.10802319526362832,
          0.18213846457886634,
          0.9910402765917719,
          0.1117796081762559,
          1.2427758900192851,
          0.7447313770034996,
          0,
          0.31755641586255134,
          0.8888857761841273,
          0,
          0,
          1.07462769858425,
          0,
          0,
          0,
          0,
          0,
          0,
          0.24096783080307266,
          0.6692592814269931,
          0.6488040389684693,
          0,
          1.1358885792578717,
          0.48217919020227273,
          1.3787834934861758,
          0.6508158355774687,
          0,
          0,
          1.07273728622321,
          0.18717625687320816,
          0.8892877126530094,
          0.6449742087569881,
          0,
          1.561278124459133,
          0.9709505944546688,
          0.4689955935892812,
          0,
          0.6406003246338601,
          0.9510864799233876,
          0.15820502669098435,
          0,
          0.75776994753018,
          0.615954233367718,
          0.648289992467951,
          0,
          1.5229571181374095,
          1.0408520829727552,
          0,
          0,
          1,
          0,
          1.1867198445327567,
          0,
          0.9051045977746013,
          1.6801559669598642,
          0.5435644431995964,
          0,
          0,
          0,
          0.7444608632649856,
          0.9055872616982603,
          1.6854752972273346,
          1.59432240258481,
          0.4394969869215134,
          1.2987949406953985,
          0,
          0.765747309567398,
          0.4486976089343474,
          0.5818886780345598,
          0,
          1.2080393967554763,
          0.4689955935892812,
          1.556656707462823,
          0.2863969571159562,
          0,
          0,
          0.6998428398862386,
          0,
          0,
          0.8112781244591328,
          1.1567796494470395,
          1.3234645691636993,
          0,
          1.2406705316766886,
          1.8369132843301679,
          0.6611305571456507,
          0.3411743702334984,
          1.1726743029322908,
          0,
          1.556656707462823,
          0,
          0.6779825916086162,
          0.6685644431995964,
          0,
          0.38705142139219784,
          0.8690680686877597,
          1.1160762796829875,
          0.5916727785823274,
          1.5549060327384627,
          0,
          0.45502065977946415,
          0.5131851787372753,
          0.2580186686648155,
          1.570950594454669,
          0,
          0,
          0.5952324079562261,
          0.26000713747185045,
          1.1069641158553871,
          0.48217919020227273,
          0.41381685030363374,
          1.1754312795575999,
          0.43682488621619636,
          0.1392329990550989,
          0,
          0.7219280948873623,
          0,
          1.267931645520725,
          0.1292337748458849,
          0,
          0,
          1.0876575346367774,
          1.0383600955919874,
          0,
          0.9989525689736319,
          1.8031333505578768,
          0,
          0,
          0,
          0.9411388429774533,
          0.7219280948873623,
          0.9135104147493889,
          1.9460831814792088,
          1.140715804518509,
          2,
          1.9060373108197468,
          1.572704141545369,
          0.7736104137959401,
          1.3787834934861758,
          0,
          0,
          1,
          1.0862293462325945,
          0.8112781244591328,
          0,
          1.841250170281555,
          1.75,
          0,
          1.2400798499182701,
          0,
          0,
          0,
          1.3250112108241772,
          0.5435644431995964,
          1.7344267600244319,
          0.9182958340544896,
          0,
          0,
          1.9056390622295665,
          1.584962500721156,
          1.6411537317874583,
          0,
          0.6500224216483541,
          1.9017032636186313,
          0.7219280948873623,
          0.4394969869215134,
          0,
          0.3997900666170139,
          0,
          0,
          0,
          0.21639693245126468,
          0
         ]
        }
       ],
       "layout": {
        "title": {
         "text": "Entropies per user, in bits (histogram), for users with frequency=0.25"
        }
       }
      },
      "text/html": [
       "<div id=\"04096cf7-c47b-4334-98a8-13f2850cf5f3\" style=\"height: 525px; width: 100%;\" class=\"plotly-graph-div\"></div><script type=\"text/javascript\">require([\"plotly\"], function(Plotly) { window.PLOTLYENV=window.PLOTLYENV || {};window.PLOTLYENV.BASE_URL=\"https://plot.ly\";Plotly.newPlot(\"04096cf7-c47b-4334-98a8-13f2850cf5f3\", [{\"x\": [0.19171816206991943, -0.0, -0.0, 0.8112781244591328, 1.5247788342053317, 0.13469174315499088, 0.9315770415932221, 0.5313715172840316, 0.5289866075984395, 0.41381685030363374, -0.0, 1.0, -0.0, 0.7642045065086203, 1.5677480285737644, 0.16866093149667025, 0.7363157203022537, 0.4557550448682709, 1.3188806363267027, 0.10802319526362832, 0.18213846457886634, 0.9910402765917719, 0.1117796081762559, 1.2427758900192851, 0.7447313770034996, -0.0, 0.31755641586255134, 0.8888857761841273, -0.0, -0.0, 1.07462769858425, -0.0, -0.0, -0.0, -0.0, -0.0, -0.0, 0.24096783080307266, 0.6692592814269931, 0.6488040389684693, -0.0, 1.1358885792578717, 0.48217919020227273, 1.3787834934861758, 0.6508158355774687, -0.0, -0.0, 1.07273728622321, 0.18717625687320816, 0.8892877126530094, 0.6449742087569881, -0.0, 1.561278124459133, 0.9709505944546688, 0.4689955935892812, -0.0, 0.6406003246338601, 0.9510864799233876, 0.15820502669098435, -0.0, 0.75776994753018, 0.615954233367718, 0.648289992467951, -0.0, 1.5229571181374095, 1.0408520829727552, -0.0, -0.0, 1.0, -0.0, 1.1867198445327567, -0.0, 0.9051045977746013, 1.6801559669598642, 0.5435644431995964, -0.0, -0.0, -0.0, 0.7444608632649856, 0.9055872616982603, 1.6854752972273346, 1.59432240258481, 0.4394969869215134, 1.2987949406953985, -0.0, 0.765747309567398, 0.4486976089343474, 0.5818886780345598, -0.0, 1.2080393967554763, 0.4689955935892812, 1.556656707462823, 0.2863969571159562, -0.0, -0.0, 0.6998428398862386, -0.0, -0.0, 0.8112781244591328, 1.1567796494470395, 1.3234645691636993, -0.0, 1.2406705316766886, 1.8369132843301679, 0.6611305571456507, 0.3411743702334984, 1.1726743029322908, -0.0, 1.556656707462823, -0.0, 0.6779825916086162, 0.6685644431995964, -0.0, 0.38705142139219784, 0.8690680686877597, 1.1160762796829875, 0.5916727785823274, 1.5549060327384627, -0.0, 0.45502065977946415, 0.5131851787372753, 0.2580186686648155, 1.570950594454669, -0.0, -0.0, 0.5952324079562261, 0.26000713747185045, 1.1069641158553871, 0.48217919020227273, 0.41381685030363374, 1.1754312795575999, 0.43682488621619636, 0.1392329990550989, -0.0, 0.7219280948873623, -0.0, 1.267931645520725, 0.1292337748458849, -0.0, -0.0, 1.0876575346367774, 1.0383600955919874, -0.0, 0.9989525689736319, 1.8031333505578768, -0.0, -0.0, -0.0, 0.9411388429774533, 0.7219280948873623, 0.9135104147493889, 1.9460831814792088, 1.140715804518509, 2.0, 1.9060373108197468, 1.572704141545369, 0.7736104137959401, 1.3787834934861758, -0.0, -0.0, 1.0, 1.0862293462325945, 0.8112781244591328, -0.0, 1.841250170281555, 1.75, -0.0, 1.2400798499182701, -0.0, -0.0, -0.0, 1.3250112108241772, 0.5435644431995964, 1.7344267600244319, 0.9182958340544896, -0.0, -0.0, 1.9056390622295665, 1.584962500721156, 1.6411537317874583, -0.0, 0.6500224216483541, 1.9017032636186313, 0.7219280948873623, 0.4394969869215134, -0.0, 0.3997900666170139, -0.0, -0.0, -0.0, 0.21639693245126468, -0.0], \"type\": \"histogram\", \"uid\": \"fe1af46b-5919-4d99-a5e6-284694181c7d\"}], {\"title\": {\"text\": \"Entropies per user, in bits (histogram), for users with frequency=0.25\"}}, {\"showLink\": false, \"linkText\": \"Export to plot.ly\", \"plotlyServerURL\": \"https://plot.ly\"})});</script><script type=\"text/javascript\">window.addEventListener(\"resize\", function(){window._Plotly.Plots.resize(document.getElementById(\"04096cf7-c47b-4334-98a8-13f2850cf5f3\"));});</script>"
      ],
      "text/vnd.plotly.v1+html": [
       "<div id=\"04096cf7-c47b-4334-98a8-13f2850cf5f3\" style=\"height: 525px; width: 100%;\" class=\"plotly-graph-div\"></div><script type=\"text/javascript\">require([\"plotly\"], function(Plotly) { window.PLOTLYENV=window.PLOTLYENV || {};window.PLOTLYENV.BASE_URL=\"https://plot.ly\";Plotly.newPlot(\"04096cf7-c47b-4334-98a8-13f2850cf5f3\", [{\"x\": [0.19171816206991943, -0.0, -0.0, 0.8112781244591328, 1.5247788342053317, 0.13469174315499088, 0.9315770415932221, 0.5313715172840316, 0.5289866075984395, 0.41381685030363374, -0.0, 1.0, -0.0, 0.7642045065086203, 1.5677480285737644, 0.16866093149667025, 0.7363157203022537, 0.4557550448682709, 1.3188806363267027, 0.10802319526362832, 0.18213846457886634, 0.9910402765917719, 0.1117796081762559, 1.2427758900192851, 0.7447313770034996, -0.0, 0.31755641586255134, 0.8888857761841273, -0.0, -0.0, 1.07462769858425, -0.0, -0.0, -0.0, -0.0, -0.0, -0.0, 0.24096783080307266, 0.6692592814269931, 0.6488040389684693, -0.0, 1.1358885792578717, 0.48217919020227273, 1.3787834934861758, 0.6508158355774687, -0.0, -0.0, 1.07273728622321, 0.18717625687320816, 0.8892877126530094, 0.6449742087569881, -0.0, 1.561278124459133, 0.9709505944546688, 0.4689955935892812, -0.0, 0.6406003246338601, 0.9510864799233876, 0.15820502669098435, -0.0, 0.75776994753018, 0.615954233367718, 0.648289992467951, -0.0, 1.5229571181374095, 1.0408520829727552, -0.0, -0.0, 1.0, -0.0, 1.1867198445327567, -0.0, 0.9051045977746013, 1.6801559669598642, 0.5435644431995964, -0.0, -0.0, -0.0, 0.7444608632649856, 0.9055872616982603, 1.6854752972273346, 1.59432240258481, 0.4394969869215134, 1.2987949406953985, -0.0, 0.765747309567398, 0.4486976089343474, 0.5818886780345598, -0.0, 1.2080393967554763, 0.4689955935892812, 1.556656707462823, 0.2863969571159562, -0.0, -0.0, 0.6998428398862386, -0.0, -0.0, 0.8112781244591328, 1.1567796494470395, 1.3234645691636993, -0.0, 1.2406705316766886, 1.8369132843301679, 0.6611305571456507, 0.3411743702334984, 1.1726743029322908, -0.0, 1.556656707462823, -0.0, 0.6779825916086162, 0.6685644431995964, -0.0, 0.38705142139219784, 0.8690680686877597, 1.1160762796829875, 0.5916727785823274, 1.5549060327384627, -0.0, 0.45502065977946415, 0.5131851787372753, 0.2580186686648155, 1.570950594454669, -0.0, -0.0, 0.5952324079562261, 0.26000713747185045, 1.1069641158553871, 0.48217919020227273, 0.41381685030363374, 1.1754312795575999, 0.43682488621619636, 0.1392329990550989, -0.0, 0.7219280948873623, -0.0, 1.267931645520725, 0.1292337748458849, -0.0, -0.0, 1.0876575346367774, 1.0383600955919874, -0.0, 0.9989525689736319, 1.8031333505578768, -0.0, -0.0, -0.0, 0.9411388429774533, 0.7219280948873623, 0.9135104147493889, 1.9460831814792088, 1.140715804518509, 2.0, 1.9060373108197468, 1.572704141545369, 0.7736104137959401, 1.3787834934861758, -0.0, -0.0, 1.0, 1.0862293462325945, 0.8112781244591328, -0.0, 1.841250170281555, 1.75, -0.0, 1.2400798499182701, -0.0, -0.0, -0.0, 1.3250112108241772, 0.5435644431995964, 1.7344267600244319, 0.9182958340544896, -0.0, -0.0, 1.9056390622295665, 1.584962500721156, 1.6411537317874583, -0.0, 0.6500224216483541, 1.9017032636186313, 0.7219280948873623, 0.4394969869215134, -0.0, 0.3997900666170139, -0.0, -0.0, -0.0, 0.21639693245126468, -0.0], \"type\": \"histogram\", \"uid\": \"fe1af46b-5919-4d99-a5e6-284694181c7d\"}], {\"title\": {\"text\": \"Entropies per user, in bits (histogram), for users with frequency=0.25\"}}, {\"showLink\": false, \"linkText\": \"Export to plot.ly\", \"plotlyServerURL\": \"https://plot.ly\"})});</script><script type=\"text/javascript\">window.addEventListener(\"resize\", function(){window._Plotly.Plots.resize(document.getElementById(\"04096cf7-c47b-4334-98a8-13f2850cf5f3\"));});</script>"
      ]
     },
     "metadata": {},
     "output_type": "display_data"
    }
   ],
   "source": [
    "entropies = get_entropies_for_user_list(frequency_of_choose_difficulty_to_users['0.25'])\n",
    "print('mean entropy per user', np.mean(entropies))\n",
    "print('median entropy per user', np.median(entropies))\n",
    "plothist(entropies, 'Entropies per user, in bits (histogram), for users with frequency=0.25')"
   ]
  },
  {
   "cell_type": "code",
   "execution_count": 69,
   "metadata": {},
   "outputs": [],
   "source": [
    "#import moment\n",
    "#moment.unix(1544559305512.0)\n",
    "#import arrow\n",
    "#arrow.get(1544559305512.0 / 1000)"
   ]
  },
  {
   "cell_type": "code",
   "execution_count": null,
   "metadata": {},
   "outputs": [],
   "source": []
  },
  {
   "cell_type": "code",
   "execution_count": null,
   "metadata": {},
   "outputs": [],
   "source": []
  },
  {
   "cell_type": "code",
   "execution_count": null,
   "metadata": {},
   "outputs": [],
   "source": []
  },
  {
   "cell_type": "code",
   "execution_count": 70,
   "metadata": {},
   "outputs": [
    {
     "data": {
      "application/vnd.plotly.v1+json": {
       "config": {
        "linkText": "Export to plot.ly",
        "plotlyServerURL": "https://plot.ly",
        "showLink": false
       },
       "data": [
        {
         "name": "nothing",
         "type": "scatter",
         "uid": "4d3f2807-1c61-4e07-bd2e-6aabcebe7f39",
         "x": [
          0,
          1,
          2,
          3,
          4,
          5,
          6,
          7,
          8,
          9
         ],
         "y": [
          0.3018521627249808,
          0.07512933694746256,
          0.2193953309735147,
          0.32144333630006383,
          0.5284431111569774,
          0.4341041743388745,
          0.2902899605946013,
          0.03168901773659524,
          0.4707687072347668,
          0.4422412779744794
         ]
        },
        {
         "name": "easy",
         "type": "scatter",
         "uid": "2e2c4ef8-6b56-4203-aa28-318eb4329cc2",
         "x": [
          0,
          1,
          2,
          3,
          4,
          5,
          6,
          7,
          8,
          9
         ],
         "y": [
          0.10821813083545684,
          0.806765758736057,
          0.3632407934685778,
          0.06796644707770136,
          0.09088856123575863,
          0.0942626888902745,
          0.0965160910170075,
          0.6306337146263026,
          0.03769593300927931,
          0.06713246385435387
         ]
        },
        {
         "name": "medium",
         "type": "scatter",
         "uid": "eddc06c5-25d5-463e-8480-42000e845224",
         "x": [
          0,
          1,
          2,
          3,
          4,
          5,
          6,
          7,
          8,
          9
         ],
         "y": [
          0.14374864371516502,
          0.033855429496984016,
          0.21548569826718839,
          0.4450237244296936,
          0.06366046326266037,
          0.3080825733062348,
          0.3596864486988566,
          0.12135255271839313,
          0.31628337176467447,
          0.2239459505940607
         ]
        },
        {
         "name": "hard",
         "type": "scatter",
         "uid": "d975ed65-7091-463e-9a05-6179334bbcdb",
         "x": [
          0,
          1,
          2,
          3,
          4,
          5,
          6,
          7,
          8,
          9
         ],
         "y": [
          0.4461810627243974,
          0.08424947481949621,
          0.20187817729071908,
          0.16556649219254127,
          0.3170078643446036,
          0.16355056346461605,
          0.2535074996895346,
          0.21632471491870908,
          0.17525198799127936,
          0.266680307577106
         ]
        }
       ],
       "layout": {
        "title": {
         "text": "Difficulty chosen over first 10 days of install"
        }
       }
      },
      "text/html": [
       "<div id=\"7da3aec0-cb81-455c-9c92-1b93dfc8d8f5\" style=\"height: 525px; width: 100%;\" class=\"plotly-graph-div\"></div><script type=\"text/javascript\">require([\"plotly\"], function(Plotly) { window.PLOTLYENV=window.PLOTLYENV || {};window.PLOTLYENV.BASE_URL=\"https://plot.ly\";Plotly.newPlot(\"7da3aec0-cb81-455c-9c92-1b93dfc8d8f5\", [{\"name\": \"nothing\", \"x\": [0, 1, 2, 3, 4, 5, 6, 7, 8, 9], \"y\": [0.3018521627249808, 0.07512933694746256, 0.2193953309735147, 0.32144333630006383, 0.5284431111569774, 0.4341041743388745, 0.2902899605946013, 0.03168901773659524, 0.4707687072347668, 0.4422412779744794], \"type\": \"scatter\", \"uid\": \"4d3f2807-1c61-4e07-bd2e-6aabcebe7f39\"}, {\"name\": \"easy\", \"x\": [0, 1, 2, 3, 4, 5, 6, 7, 8, 9], \"y\": [0.10821813083545684, 0.806765758736057, 0.3632407934685778, 0.06796644707770136, 0.09088856123575863, 0.0942626888902745, 0.0965160910170075, 0.6306337146263026, 0.03769593300927931, 0.06713246385435387], \"type\": \"scatter\", \"uid\": \"2e2c4ef8-6b56-4203-aa28-318eb4329cc2\"}, {\"name\": \"medium\", \"x\": [0, 1, 2, 3, 4, 5, 6, 7, 8, 9], \"y\": [0.14374864371516502, 0.033855429496984016, 0.21548569826718839, 0.4450237244296936, 0.06366046326266037, 0.3080825733062348, 0.3596864486988566, 0.12135255271839313, 0.31628337176467447, 0.2239459505940607], \"type\": \"scatter\", \"uid\": \"eddc06c5-25d5-463e-8480-42000e845224\"}, {\"name\": \"hard\", \"x\": [0, 1, 2, 3, 4, 5, 6, 7, 8, 9], \"y\": [0.4461810627243974, 0.08424947481949621, 0.20187817729071908, 0.16556649219254127, 0.3170078643446036, 0.16355056346461605, 0.2535074996895346, 0.21632471491870908, 0.17525198799127936, 0.266680307577106], \"type\": \"scatter\", \"uid\": \"d975ed65-7091-463e-9a05-6179334bbcdb\"}], {\"title\": {\"text\": \"Difficulty chosen over first 10 days of install\"}}, {\"showLink\": false, \"linkText\": \"Export to plot.ly\", \"plotlyServerURL\": \"https://plot.ly\"})});</script><script type=\"text/javascript\">window.addEventListener(\"resize\", function(){window._Plotly.Plots.resize(document.getElementById(\"7da3aec0-cb81-455c-9c92-1b93dfc8d8f5\"));});</script>"
      ],
      "text/vnd.plotly.v1+html": [
       "<div id=\"7da3aec0-cb81-455c-9c92-1b93dfc8d8f5\" style=\"height: 525px; width: 100%;\" class=\"plotly-graph-div\"></div><script type=\"text/javascript\">require([\"plotly\"], function(Plotly) { window.PLOTLYENV=window.PLOTLYENV || {};window.PLOTLYENV.BASE_URL=\"https://plot.ly\";Plotly.newPlot(\"7da3aec0-cb81-455c-9c92-1b93dfc8d8f5\", [{\"name\": \"nothing\", \"x\": [0, 1, 2, 3, 4, 5, 6, 7, 8, 9], \"y\": [0.3018521627249808, 0.07512933694746256, 0.2193953309735147, 0.32144333630006383, 0.5284431111569774, 0.4341041743388745, 0.2902899605946013, 0.03168901773659524, 0.4707687072347668, 0.4422412779744794], \"type\": \"scatter\", \"uid\": \"4d3f2807-1c61-4e07-bd2e-6aabcebe7f39\"}, {\"name\": \"easy\", \"x\": [0, 1, 2, 3, 4, 5, 6, 7, 8, 9], \"y\": [0.10821813083545684, 0.806765758736057, 0.3632407934685778, 0.06796644707770136, 0.09088856123575863, 0.0942626888902745, 0.0965160910170075, 0.6306337146263026, 0.03769593300927931, 0.06713246385435387], \"type\": \"scatter\", \"uid\": \"2e2c4ef8-6b56-4203-aa28-318eb4329cc2\"}, {\"name\": \"medium\", \"x\": [0, 1, 2, 3, 4, 5, 6, 7, 8, 9], \"y\": [0.14374864371516502, 0.033855429496984016, 0.21548569826718839, 0.4450237244296936, 0.06366046326266037, 0.3080825733062348, 0.3596864486988566, 0.12135255271839313, 0.31628337176467447, 0.2239459505940607], \"type\": \"scatter\", \"uid\": \"eddc06c5-25d5-463e-8480-42000e845224\"}, {\"name\": \"hard\", \"x\": [0, 1, 2, 3, 4, 5, 6, 7, 8, 9], \"y\": [0.4461810627243974, 0.08424947481949621, 0.20187817729071908, 0.16556649219254127, 0.3170078643446036, 0.16355056346461605, 0.2535074996895346, 0.21632471491870908, 0.17525198799127936, 0.266680307577106], \"type\": \"scatter\", \"uid\": \"d975ed65-7091-463e-9a05-6179334bbcdb\"}], {\"title\": {\"text\": \"Difficulty chosen over first 10 days of install\"}}, {\"showLink\": false, \"linkText\": \"Export to plot.ly\", \"plotlyServerURL\": \"https://plot.ly\"})});</script><script type=\"text/javascript\">window.addEventListener(\"resize\", function(){window._Plotly.Plots.resize(document.getElementById(\"7da3aec0-cb81-455c-9c92-1b93dfc8d8f5\"));});</script>"
      ]
     },
     "metadata": {},
     "output_type": "display_data"
    }
   ],
   "source": [
    "plotlines(list_of_dictionaries_to_dictionary_with_list_values(get_daynum_to_difficulty_choices_over_n_days(10)), 'Difficulty chosen over first 10 days of install')"
   ]
  },
  {
   "cell_type": "code",
   "execution_count": 71,
   "metadata": {},
   "outputs": [
    {
     "data": {
      "application/vnd.plotly.v1+json": {
       "config": {
        "linkText": "Export to plot.ly",
        "plotlyServerURL": "https://plot.ly",
        "showLink": false
       },
       "data": [
        {
         "type": "scatter",
         "uid": "681f07ef-fafb-468c-8deb-788c018cd290",
         "x": [
          0,
          1,
          2,
          3,
          4,
          5,
          6,
          7,
          8,
          9
         ],
         "y": [
          1.7905400929394655,
          0.9965555218468198,
          1.954001205339699,
          1.7393370111967452,
          1.579079165777302,
          1.7943190524142298,
          1.8760849001490718,
          1.4243031223118645,
          1.655539213159078,
          1.7741245533539274
         ]
        }
       ],
       "layout": {
        "title": {
         "text": "Entropy of difficulty choice selections over first 10 days of install"
        }
       }
      },
      "text/html": [
       "<div id=\"9193fafc-a8d8-4d0b-a4f1-fa22f180b952\" style=\"height: 525px; width: 100%;\" class=\"plotly-graph-div\"></div><script type=\"text/javascript\">require([\"plotly\"], function(Plotly) { window.PLOTLYENV=window.PLOTLYENV || {};window.PLOTLYENV.BASE_URL=\"https://plot.ly\";Plotly.newPlot(\"9193fafc-a8d8-4d0b-a4f1-fa22f180b952\", [{\"x\": [0, 1, 2, 3, 4, 5, 6, 7, 8, 9], \"y\": [1.7905400929394655, 0.9965555218468198, 1.954001205339699, 1.7393370111967452, 1.579079165777302, 1.7943190524142298, 1.8760849001490718, 1.4243031223118645, 1.655539213159078, 1.7741245533539274], \"type\": \"scatter\", \"uid\": \"681f07ef-fafb-468c-8deb-788c018cd290\"}], {\"title\": {\"text\": \"Entropy of difficulty choice selections over first 10 days of install\"}}, {\"showLink\": false, \"linkText\": \"Export to plot.ly\", \"plotlyServerURL\": \"https://plot.ly\"})});</script><script type=\"text/javascript\">window.addEventListener(\"resize\", function(){window._Plotly.Plots.resize(document.getElementById(\"9193fafc-a8d8-4d0b-a4f1-fa22f180b952\"));});</script>"
      ],
      "text/vnd.plotly.v1+html": [
       "<div id=\"9193fafc-a8d8-4d0b-a4f1-fa22f180b952\" style=\"height: 525px; width: 100%;\" class=\"plotly-graph-div\"></div><script type=\"text/javascript\">require([\"plotly\"], function(Plotly) { window.PLOTLYENV=window.PLOTLYENV || {};window.PLOTLYENV.BASE_URL=\"https://plot.ly\";Plotly.newPlot(\"9193fafc-a8d8-4d0b-a4f1-fa22f180b952\", [{\"x\": [0, 1, 2, 3, 4, 5, 6, 7, 8, 9], \"y\": [1.7905400929394655, 0.9965555218468198, 1.954001205339699, 1.7393370111967452, 1.579079165777302, 1.7943190524142298, 1.8760849001490718, 1.4243031223118645, 1.655539213159078, 1.7741245533539274], \"type\": \"scatter\", \"uid\": \"681f07ef-fafb-468c-8deb-788c018cd290\"}], {\"title\": {\"text\": \"Entropy of difficulty choice selections over first 10 days of install\"}}, {\"showLink\": false, \"linkText\": \"Export to plot.ly\", \"plotlyServerURL\": \"https://plot.ly\"})});</script><script type=\"text/javascript\">window.addEventListener(\"resize\", function(){window._Plotly.Plots.resize(document.getElementById(\"9193fafc-a8d8-4d0b-a4f1-fa22f180b952\"));});</script>"
      ]
     },
     "metadata": {},
     "output_type": "display_data"
    }
   ],
   "source": [
    "def compute_entropy_over_n_days(num_days):\n",
    "  daynum_to_difficulty_choices = get_daynum_to_difficulty_choices_over_n_days(num_days)\n",
    "  output = []\n",
    "  for daynum in range(num_days):\n",
    "    difficulty_choices = daynum_to_difficulty_choices[daynum]\n",
    "    entropy_for_day = compute_entropy_for_difficulty_selections(difficulty_choices)\n",
    "    output.append(entropy_for_day)\n",
    "  return output\n",
    "\n",
    "#print(compute_entropy_over_n_days(10))\n",
    "plotline(compute_entropy_over_n_days(10), 'Entropy of difficulty choice selections over first 10 days of install')"
   ]
  },
  {
   "cell_type": "code",
   "execution_count": 72,
   "metadata": {},
   "outputs": [
    {
     "data": {
      "application/vnd.plotly.v1+json": {
       "config": {
        "linkText": "Export to plot.ly",
        "plotlyServerURL": "https://plot.ly",
        "showLink": false
       },
       "data": [
        {
         "type": "scatter",
         "uid": "8e6201fb-96b4-4965-a620-c8ccbd65aa28",
         "x": [
          0,
          1,
          2,
          3,
          4
         ],
         "y": [
          1.2881719800517875,
          1.35438323574733,
          1.5823773356089958,
          1.3867572268873258,
          0.5348592019022492
         ]
        }
       ],
       "layout": {
        "title": {
         "text": "Entropy of difficulty choice selections over first 5 days of install"
        }
       }
      },
      "text/html": [
       "<div id=\"fe18633b-eef4-499a-8f18-aebbf1270733\" style=\"height: 525px; width: 100%;\" class=\"plotly-graph-div\"></div><script type=\"text/javascript\">require([\"plotly\"], function(Plotly) { window.PLOTLYENV=window.PLOTLYENV || {};window.PLOTLYENV.BASE_URL=\"https://plot.ly\";Plotly.newPlot(\"fe18633b-eef4-499a-8f18-aebbf1270733\", [{\"x\": [0, 1, 2, 3, 4], \"y\": [1.2881719800517875, 1.35438323574733, 1.5823773356089958, 1.3867572268873258, 0.5348592019022492], \"type\": \"scatter\", \"uid\": \"8e6201fb-96b4-4965-a620-c8ccbd65aa28\"}], {\"title\": {\"text\": \"Entropy of difficulty choice selections over first 5 days of install\"}}, {\"showLink\": false, \"linkText\": \"Export to plot.ly\", \"plotlyServerURL\": \"https://plot.ly\"})});</script><script type=\"text/javascript\">window.addEventListener(\"resize\", function(){window._Plotly.Plots.resize(document.getElementById(\"fe18633b-eef4-499a-8f18-aebbf1270733\"));});</script>"
      ],
      "text/vnd.plotly.v1+html": [
       "<div id=\"fe18633b-eef4-499a-8f18-aebbf1270733\" style=\"height: 525px; width: 100%;\" class=\"plotly-graph-div\"></div><script type=\"text/javascript\">require([\"plotly\"], function(Plotly) { window.PLOTLYENV=window.PLOTLYENV || {};window.PLOTLYENV.BASE_URL=\"https://plot.ly\";Plotly.newPlot(\"fe18633b-eef4-499a-8f18-aebbf1270733\", [{\"x\": [0, 1, 2, 3, 4], \"y\": [1.2881719800517875, 1.35438323574733, 1.5823773356089958, 1.3867572268873258, 0.5348592019022492], \"type\": \"scatter\", \"uid\": \"8e6201fb-96b4-4965-a620-c8ccbd65aa28\"}], {\"title\": {\"text\": \"Entropy of difficulty choice selections over first 5 days of install\"}}, {\"showLink\": false, \"linkText\": \"Export to plot.ly\", \"plotlyServerURL\": \"https://plot.ly\"})});</script><script type=\"text/javascript\">window.addEventListener(\"resize\", function(){window._Plotly.Plots.resize(document.getElementById(\"fe18633b-eef4-499a-8f18-aebbf1270733\"));});</script>"
      ]
     },
     "metadata": {},
     "output_type": "display_data"
    }
   ],
   "source": [
    "plotline(compute_entropy_over_n_days(5), 'Entropy of difficulty choice selections over first 5 days of install')"
   ]
  },
  {
   "cell_type": "code",
   "execution_count": 73,
   "metadata": {},
   "outputs": [
    {
     "name": "stdout",
     "output_type": "stream",
     "text": [
      "1560\n"
     ]
    }
   ],
   "source": [
    "user_to_daynum_to_difficulty_choices = get_user_to_daynum_to_difficulty_choices()\n",
    "print(len(user_to_daynum_to_difficulty_choices.keys()))"
   ]
  },
  {
   "cell_type": "code",
   "execution_count": 74,
   "metadata": {},
   "outputs": [
    {
     "name": "stdout",
     "output_type": "stream",
     "text": [
      "Counter({'nothing': 1271, 'medium': 1003, 'easy': 669, 'hard': 373})\n"
     ]
    }
   ],
   "source": [
    "print(get_choose_difficulty_counts_for_user_list(difficulty_interface_to_users['time_afford']))"
   ]
  },
  {
   "cell_type": "code",
   "execution_count": 75,
   "metadata": {},
   "outputs": [
    {
     "name": "stdout",
     "output_type": "stream",
     "text": [
      "Counter({'nothing': 5876, 'easy': 4744, 'medium': 2827, 'hard': 1943})\n"
     ]
    }
   ],
   "source": [
    "print(get_choose_difficulty_counts_for_user_list(difficulty_interface_to_users['this_intervention']))"
   ]
  },
  {
   "cell_type": "code",
   "execution_count": 76,
   "metadata": {},
   "outputs": [
    {
     "name": "stdout",
     "output_type": "stream",
     "text": [
      "Counter({'nothing': 1271, 'easy': 901, 'medium': 891, 'hard': 531})\n"
     ]
    }
   ],
   "source": [
    "print(get_choose_difficulty_counts_for_user_list(difficulty_interface_to_users['settings_update']))"
   ]
  },
  {
   "cell_type": "code",
   "execution_count": null,
   "metadata": {},
   "outputs": [],
   "source": []
  },
  {
   "cell_type": "code",
   "execution_count": 77,
   "metadata": {},
   "outputs": [],
   "source": [
    "frequency_of_choose_difficulty_to_users = get_abtest_condition_to_user_list('frequency_of_choose_difficulty')"
   ]
  },
  {
   "cell_type": "code",
   "execution_count": 78,
   "metadata": {},
   "outputs": [
    {
     "data": {
      "text/plain": [
       "dict_keys(['0.5', '1.0', '0.0', '0.25'])"
      ]
     },
     "execution_count": 78,
     "metadata": {},
     "output_type": "execute_result"
    }
   ],
   "source": [
    "frequency_of_choose_difficulty_to_users.keys()"
   ]
  },
  {
   "cell_type": "code",
   "execution_count": 79,
   "metadata": {},
   "outputs": [
    {
     "name": "stdout",
     "output_type": "stream",
     "text": [
      "Counter({'nothing': 18392, 'easy': 7667, 'medium': 2436, 'hard': 1515})\n"
     ]
    }
   ],
   "source": [
    "print(get_choose_difficulty_counts_for_user_list(frequency_of_choose_difficulty_to_users['1.0']))"
   ]
  },
  {
   "cell_type": "code",
   "execution_count": 80,
   "metadata": {},
   "outputs": [
    {
     "name": "stdout",
     "output_type": "stream",
     "text": [
      "Counter({'nothing': 13715, 'easy': 9668, 'medium': 6354, 'hard': 4380})\n"
     ]
    }
   ],
   "source": [
    "print(get_choose_difficulty_counts_for_user_list(frequency_of_choose_difficulty_to_users['0.5']))"
   ]
  },
  {
   "cell_type": "code",
   "execution_count": 81,
   "metadata": {},
   "outputs": [
    {
     "name": "stdout",
     "output_type": "stream",
     "text": [
      "Counter({'nothing': 5076, 'easy': 1842, 'medium': 1397, 'hard': 672})\n"
     ]
    }
   ],
   "source": [
    "print(get_choose_difficulty_counts_for_user_list(frequency_of_choose_difficulty_to_users['0.25']))"
   ]
  },
  {
   "cell_type": "code",
   "execution_count": 82,
   "metadata": {},
   "outputs": [
    {
     "ename": "ModuleNotFoundError",
     "evalue": "No module named 'pytorch'",
     "output_type": "error",
     "traceback": [
      "\u001b[0;31m---------------------------------------------------------------------------\u001b[0m",
      "\u001b[0;31mModuleNotFoundError\u001b[0m                       Traceback (most recent call last)",
      "\u001b[0;32m<ipython-input-82-d35c46f8d1a2>\u001b[0m in \u001b[0;36m<module>\u001b[0;34m\u001b[0m\n\u001b[0;32m----> 1\u001b[0;31m \u001b[0;32mimport\u001b[0m \u001b[0mpytorch\u001b[0m\u001b[0;34m\u001b[0m\u001b[0;34m\u001b[0m\u001b[0m\n\u001b[0m",
      "\u001b[0;31mModuleNotFoundError\u001b[0m: No module named 'pytorch'"
     ]
    }
   ],
   "source": [
    "import pytorch"
   ]
  },
  {
   "cell_type": "code",
   "execution_count": null,
   "metadata": {},
   "outputs": [],
   "source": [
    "#print(get_choose_difficulty_counts_for_user_list(frequency_of_choose_difficulty_to_users['0.0']))"
   ]
  },
  {
   "cell_type": "code",
   "execution_count": null,
   "metadata": {},
   "outputs": [],
   "source": [
    "#print('foobar')"
   ]
  },
  {
   "cell_type": "code",
   "execution_count": null,
   "metadata": {},
   "outputs": [],
   "source": [
    "#def get_lifetime_and_whether_attritioned(user):\n",
    "  "
   ]
  },
  {
   "cell_type": "code",
   "execution_count": null,
   "metadata": {},
   "outputs": [],
   "source": [
    "#choose_difficulty_set = set()\n",
    "#for x in collection_names:\n",
    "#  if 'difficulty' in x:\n",
    "#    choose_difficulty_set.add(x)"
   ]
  },
  {
   "cell_type": "code",
   "execution_count": null,
   "metadata": {},
   "outputs": [],
   "source": [
    "#print(choose_difficulty_set)\n",
    "#for x in choose_difficulty_set:\n",
    "  "
   ]
  },
  {
   "cell_type": "code",
   "execution_count": null,
   "metadata": {},
   "outputs": [],
   "source": []
  }
 ],
 "metadata": {
  "kernelspec": {
   "display_name": "Python 3",
   "language": "python",
   "name": "python3"
  },
  "language_info": {
   "codemirror_mode": {
    "name": "ipython",
    "version": 3
   },
   "file_extension": ".py",
   "mimetype": "text/x-python",
   "name": "python",
   "nbconvert_exporter": "python",
   "pygments_lexer": "ipython3",
   "version": "3.7.2"
  }
 },
 "nbformat": 4,
 "nbformat_minor": 2
}
