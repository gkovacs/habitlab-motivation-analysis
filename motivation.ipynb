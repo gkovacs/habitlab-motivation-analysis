{
 "cells": [
  {
   "cell_type": "code",
   "execution_count": 1,
   "metadata": {
    "scrolled": true
   },
   "outputs": [
    {
     "ename": "ModuleNotFoundError",
     "evalue": "No module named 'getsecret'",
     "output_type": "error",
     "traceback": [
      "\u001b[0;31m---------------------------------------------------------------------------\u001b[0m",
      "\u001b[0;31mModuleNotFoundError\u001b[0m                       Traceback (most recent call last)",
      "\u001b[0;32m<ipython-input-1-5cd620b0571a>\u001b[0m in \u001b[0;36m<module>\u001b[0;34m()\u001b[0m\n\u001b[0;32m----> 1\u001b[0;31m \u001b[0;32mfrom\u001b[0m \u001b[0mbrowser_libs\u001b[0m \u001b[0;32mimport\u001b[0m \u001b[0mget_collection_items\u001b[0m\u001b[0;34m,\u001b[0m \u001b[0mget_collection_names\u001b[0m\u001b[0;34m,\u001b[0m \u001b[0mget_collection_for_user\u001b[0m\u001b[0;34m\u001b[0m\u001b[0m\n\u001b[0m\u001b[1;32m      2\u001b[0m \u001b[0;32mfrom\u001b[0m \u001b[0mmemoize\u001b[0m \u001b[0;32mimport\u001b[0m \u001b[0mmemoize\u001b[0m \u001b[0;31m# pip install memoize2\u001b[0m\u001b[0;34m\u001b[0m\u001b[0m\n\u001b[1;32m      3\u001b[0m \u001b[0;32mfrom\u001b[0m \u001b[0mcollections\u001b[0m \u001b[0;32mimport\u001b[0m \u001b[0mCounter\u001b[0m\u001b[0;34m\u001b[0m\u001b[0m\n",
      "\u001b[0;32m~/motivation/browser_libs.py\u001b[0m in \u001b[0;36m<module>\u001b[0;34m()\u001b[0m\n\u001b[1;32m     20\u001b[0m \u001b[0;32mfrom\u001b[0m \u001b[0mmemoize\u001b[0m \u001b[0;32mimport\u001b[0m \u001b[0mmemoize\u001b[0m \u001b[0;31m# pip install memoize2\u001b[0m\u001b[0;34m\u001b[0m\u001b[0m\n\u001b[1;32m     21\u001b[0m \u001b[0;32mfrom\u001b[0m \u001b[0mpymongo\u001b[0m \u001b[0;32mimport\u001b[0m \u001b[0mMongoClient\u001b[0m\u001b[0;34m\u001b[0m\u001b[0m\n\u001b[0;32m---> 22\u001b[0;31m \u001b[0;32mfrom\u001b[0m \u001b[0mgetsecret\u001b[0m \u001b[0;32mimport\u001b[0m \u001b[0mgetsecret\u001b[0m\u001b[0;34m\u001b[0m\u001b[0m\n\u001b[0m\u001b[1;32m     23\u001b[0m \u001b[0;32mimport\u001b[0m \u001b[0murllib\u001b[0m\u001b[0;34m.\u001b[0m\u001b[0mparse\u001b[0m\u001b[0;34m\u001b[0m\u001b[0m\n\u001b[1;32m     24\u001b[0m \u001b[0;32mimport\u001b[0m \u001b[0mmoment\u001b[0m\u001b[0;34m\u001b[0m\u001b[0m\n",
      "\u001b[0;31mModuleNotFoundError\u001b[0m: No module named 'getsecret'"
     ]
    }
   ],
   "source": [
    "from browser_libs import get_collection_items, get_collection_names, get_collection_for_user\n",
    "from memoize import memoize # pip install memoize2\n",
    "from collections import Counter"
   ]
  },
  {
   "cell_type": "code",
   "execution_count": null,
   "metadata": {},
   "outputs": [],
   "source": [
    "@memoize\n",
    "def get_users_with_choose_difficulty():\n",
    "  collection_names = get_collection_names()\n",
    "  output = []\n",
    "  for x in collection_names:\n",
    "    if x.endswith('_internal:choose_difficulty'):\n",
    "      user = x.replace('_internal:choose_difficulty', '')\n",
    "      output.append(user)\n",
    "  return output\n"
   ]
  },
  {
   "cell_type": "code",
   "execution_count": null,
   "metadata": {},
   "outputs": [],
   "source": [
    "def get_choose_difficulty_items_for_user(user):\n",
    "  collection_items = get_collection_for_user(user, 'internal:choose_difficulty')\n",
    "  output = []\n",
    "  for x in collection_items:\n",
    "    if 'is_new_session' not in x:\n",
    "      continue\n",
    "    if x['is_new_session'] != True:\n",
    "      continue\n",
    "    if ('developer_mode' in x) and (x['developer_mode'] == True):\n",
    "      continue\n",
    "    if ('is_preview_mode' in x) and (x['is_preview_mode'] == True):\n",
    "      continue\n",
    "    if ('is_suggestion_mode' in x) and (x['is_suggestion_mode'] == True):\n",
    "      continue\n",
    "    output.append(x)\n",
    "  return output"
   ]
  },
  {
   "cell_type": "code",
   "execution_count": null,
   "metadata": {},
   "outputs": [],
   "source": [
    "def get_choose_difficulty_counts_for_user(user):\n",
    "  collection_items = get_choose_difficulty_items_for_user(user)\n",
    "  output = {}\n",
    "  for x in collection_items:\n",
    "    if 'type' not in x:\n",
    "      continue\n",
    "    if x['type'] != 'action':\n",
    "      continue\n",
    "    if 'difficulty' not in x:\n",
    "      continue\n",
    "    difficulty = x['difficulty']\n",
    "    if difficulty not in output:\n",
    "      output[difficulty] = 1\n",
    "    else:\n",
    "      output[difficulty] += 1\n",
    "  return output"
   ]
  },
  {
   "cell_type": "code",
   "execution_count": null,
   "metadata": {},
   "outputs": [],
   "source": [
    "def get_choose_difficulty_counts_for_all_users():\n",
    "  output = Counter()\n",
    "  for user in get_users_with_choose_difficulty():\n",
    "    difficulty_counts = get_choose_difficulty_counts_for_user(user)\n",
    "    for difficulty,count in difficulty_counts.items():\n",
    "      output[difficulty] += count\n",
    "  return output"
   ]
  },
  {
   "cell_type": "code",
   "execution_count": null,
   "metadata": {},
   "outputs": [],
   "source": [
    "def get_total_counts_for_user(user):\n",
    "  difficulty_counts = get_choose_difficulty_counts_for_user(user)\n",
    "  return sum(difficulty_counts.values())"
   ]
  },
  {
   "cell_type": "code",
   "execution_count": null,
   "metadata": {},
   "outputs": [],
   "source": [
    "def num_types_tried(user):\n",
    "  difficulty_counts = get_choose_difficulty_counts_for_user(user)\n",
    "  return len(difficulty_counts.keys())"
   ]
  },
  {
   "cell_type": "code",
   "execution_count": null,
   "metadata": {},
   "outputs": [],
   "source": [
    "def did_user_try_multiple(user):\n",
    "  return num_types_tried(user) > 1"
   ]
  },
  {
   "cell_type": "code",
   "execution_count": null,
   "metadata": {},
   "outputs": [],
   "source": [
    "def get_try_multiple_counts_for_all_users():\n",
    "  output = {\n",
    "    'none_total': 0,\n",
    "    'one_total': 0,\n",
    "    'one_tried': 0,\n",
    "    'multiple_tried': 0,\n",
    "  }\n",
    "  for user in get_users_with_choose_difficulty():\n",
    "    total_counts = get_total_counts_for_user(user)\n",
    "    if total_counts == 0:\n",
    "      output['none_total'] += 1\n",
    "      continue\n",
    "    if total_counts == 1:\n",
    "      output['one_total'] += 1\n",
    "      continue\n",
    "    if did_user_try_multiple(user):\n",
    "      output['multiple_tried'] += 1\n",
    "    else:\n",
    "      output['one_tried'] += 1\n",
    "  return output"
   ]
  },
  {
   "cell_type": "code",
   "execution_count": null,
   "metadata": {},
   "outputs": [],
   "source": [
    "def get_breakdown_for_one_tried():\n",
    "  output = Counter()\n",
    "  for user in get_users_with_choose_difficulty():\n",
    "    total_counts = get_total_counts_for_user(user)\n",
    "    if total_counts <= 1:\n",
    "      continue\n",
    "    if did_user_try_multiple(user):\n",
    "      continue\n",
    "    difficulty_counts = get_choose_difficulty_counts_for_user(user)\n",
    "    chosen_difficulty = list(difficulty_counts.keys())[0]\n",
    "    output[chosen_difficulty] += difficulty_counts[chosen_difficulty]\n",
    "  return output"
   ]
  },
  {
   "cell_type": "code",
   "execution_count": null,
   "metadata": {},
   "outputs": [],
   "source": [
    "print(len(get_users_with_choose_difficulty()))"
   ]
  },
  {
   "cell_type": "code",
   "execution_count": null,
   "metadata": {},
   "outputs": [],
   "source": [
    "print(get_choose_difficulty_counts_for_all_users())"
   ]
  },
  {
   "cell_type": "code",
   "execution_count": null,
   "metadata": {},
   "outputs": [],
   "source": [
    "print(get_try_multiple_counts_for_all_users())"
   ]
  },
  {
   "cell_type": "code",
   "execution_count": null,
   "metadata": {},
   "outputs": [],
   "source": [
    "print(get_breakdown_for_one_tried())"
   ]
  },
  {
   "cell_type": "code",
   "execution_count": null,
   "metadata": {},
   "outputs": [],
   "source": [
    "print(get_choose_difficulty_counts_for_user('f4d95006c663a799d9185576'))"
   ]
  },
  {
   "cell_type": "code",
   "execution_count": null,
   "metadata": {},
   "outputs": [],
   "source": [
    "#print(collection_names[0])\n",
    "difficulty_items = get_choose_difficulty_items_for_user('f4d95006c663a799d9185576')\n",
    "for x in difficulty_items:\n",
    "  print(x)"
   ]
  },
  {
   "cell_type": "code",
   "execution_count": null,
   "metadata": {},
   "outputs": [],
   "source": [
    "#choose_difficulty_set = set()\n",
    "#for x in collection_names:\n",
    "#  if 'difficulty' in x:\n",
    "#    choose_difficulty_set.add(x)"
   ]
  },
  {
   "cell_type": "code",
   "execution_count": null,
   "metadata": {},
   "outputs": [],
   "source": [
    "#print(choose_difficulty_set)\n",
    "#for x in choose_difficulty_set:\n",
    "  "
   ]
  }
 ],
 "metadata": {
  "kernelspec": {
   "display_name": "Python 3",
   "language": "python",
   "name": "python3"
  },
  "language_info": {
   "codemirror_mode": {
    "name": "ipython",
    "version": 3
   },
   "file_extension": ".py",
   "mimetype": "text/x-python",
   "name": "python",
   "nbconvert_exporter": "python",
   "pygments_lexer": "ipython3",
   "version": "3.6.5"
  }
 },
 "nbformat": 4,
 "nbformat_minor": 2
}
