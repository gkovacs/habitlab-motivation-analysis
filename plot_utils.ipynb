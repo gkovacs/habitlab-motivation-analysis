{
 "cells": [
  {
   "cell_type": "code",
   "execution_count": 9,
   "metadata": {},
   "outputs": [
    {
     "name": "stdout",
     "output_type": "stream",
     "text": [
      "[NbConvertApp] Converting notebook plot_utils.ipynb to python\r\n"
     ]
    }
   ],
   "source": [
    "# noexport\n",
    "\n",
    "!typech plot_utils.ipynb"
   ]
  },
  {
   "cell_type": "code",
   "execution_count": 3,
   "metadata": {},
   "outputs": [
    {
     "data": {
      "text/html": [
       "        <script type=\"text/javascript\">\n",
       "        window.PlotlyConfig = {MathJaxConfig: 'local'};\n",
       "        if (window.MathJax) {MathJax.Hub.Config({SVG: {font: \"STIX-Web\"}});}\n",
       "        if (typeof require !== 'undefined') {\n",
       "        require.undef(\"plotly\");\n",
       "        requirejs.config({\n",
       "            paths: {\n",
       "                'plotly': ['https://cdn.plot.ly/plotly-latest.min']\n",
       "            }\n",
       "        });\n",
       "        require(['plotly'], function(Plotly) {\n",
       "            window._Plotly = Plotly;\n",
       "        });\n",
       "        }\n",
       "        </script>\n",
       "        "
      ]
     },
     "metadata": {},
     "output_type": "display_data"
    }
   ],
   "source": [
    "import plotly.graph_objs as go\n",
    "from plotly.offline import download_plotlyjs, init_notebook_mode, plot, iplot\n",
    "init_notebook_mode(connected=True)\n"
   ]
  },
  {
   "cell_type": "code",
   "execution_count": 20,
   "metadata": {},
   "outputs": [],
   "source": [
    "def plot_data(data, **kwargs):\n",
    "  title = kwargs.get('title')\n",
    "  xlabel = kwargs.get('xlabel')\n",
    "  ylabel = kwargs.get('ylabel')\n",
    "  font = kwargs.get('font')\n",
    "  \n",
    "  layout = go.Layout()\n",
    "  if title is not None:\n",
    "    layout.title = go.layout.Title(text = title)\n",
    "  if xlabel is not None:\n",
    "    layout.xaxis = go.layout.XAxis(title = xlabel)\n",
    "  if ylabel is not None:\n",
    "    layout.yaxis = go.layout.YAxis(title = ylabel)\n",
    "  if font is not None:\n",
    "    layout.font = font\n",
    "  fig = go.Figure(data=data, layout=layout)\n",
    "  iplot(fig)\n",
    "\n",
    "def plot_histogram(x_values, **kwargs):\n",
    "  data = [go.Histogram(x=x_values)]\n",
    "  plot_data(data, **kwargs)\n",
    "\n",
    "def plot_points(points, **kwargs):\n",
    "  data = [go.Scatter(x=[x for x,y in points], y=[y for x,y in points])]\n",
    "  plot_data(data, **kwargs)\n",
    "\n",
    "def plot_several_points(points_list, **kwargs):\n",
    "  data = []\n",
    "  for label,points in points_list:\n",
    "    data.append(go.Scatter(x=[x for x,y in points], y=[y for x,y in points], name=label))\n",
    "  plot_data(data, **kwargs)\n",
    "\n",
    "def plot_bar(label_with_value_list, **kwargs):\n",
    "  labels = [x for x,y in label_with_value_list]\n",
    "  remap_labels = kwargs.get('remap_labels')\n",
    "  orientation = kwargs.get('orientation', 'v')\n",
    "  if remap_labels is not None:\n",
    "    labels = [remap_labels.get(x, x) for x in labels]\n",
    "  if orientation == 'h':\n",
    "    data = [go.Bar(y=labels, x=[y for x,y in label_with_value_list], orientation=orientation)]\n",
    "  else:\n",
    "    data = [go.Bar(x=labels, y=[y for x,y in label_with_value_list], orientation=orientation)]\n",
    "  plot_data(data, **kwargs)\n",
    "\n",
    "def plot_dict_as_bar(d, **kwargs):\n",
    "  data = []\n",
    "  items = list(d.items())\n",
    "  items.sort(key=lambda x: x[1], reverse=True)\n",
    "  plot_bar(items, **kwargs)\n",
    "\n",
    "def plot_dict_as_bar_percent(d, **kwargs):\n",
    "  data = []\n",
    "  nd = {}\n",
    "  val_sum = sum(d.values())\n",
    "  for k,v in d.items():\n",
    "    nd[k] = 100 * v / val_sum\n",
    "  items = list(nd.items())\n",
    "  items.sort(key=lambda x: x[1], reverse=True)\n",
    "  plot_bar(items, **kwargs)\n",
    "\n",
    "def plot_dict_as_bar_fraction(d, **kwargs):\n",
    "  data = []\n",
    "  nd = {}\n",
    "  val_sum = sum(d.values())\n",
    "  for k,v in d.items():\n",
    "    nd[k] = v / val_sum\n",
    "  items = list(nd.items())\n",
    "  items.sort(key=lambda x: x[1], reverse=True)\n",
    "  plot_bar(items, **kwargs)\n",
    "\n",
    "def plot_heatmap(heatmap_data, **kwargs):\n",
    "  ticktext = kwargs.get('ticktext')\n",
    "  colorscale = kwargs.get('colorscale')\n",
    "  \n",
    "  heatmap = go.Heatmap(z = heatmap_data)\n",
    "  heatmap.colorscale = 'Viridis' # Greys\n",
    "  if colorscale is not None:\n",
    "    heatmap.colorscale = colorscale\n",
    "  heatmap.showscale = True\n",
    "  if ticktext is not None:\n",
    "    heatmap.colorbar = dict(\n",
    "      tickmode = 'array',\n",
    "      tickvals = list(range(len(ticktext))),\n",
    "      ticktext = ticktext,\n",
    "      #tick0 = 0,\n",
    "      #dtick = 1,\n",
    "      #autotick = False,\n",
    "    )\n",
    "  data = [ heatmap ]\n",
    "  plot_data(data, **kwargs)\n",
    "\n",
    "def plot_dictdict_as_bar(d_dict, **kwargs):\n",
    "  data = []\n",
    "  remap_labels = kwargs.get('remap_labels', {})\n",
    "  print(remap_labels)\n",
    "  for label,d in d_dict.items():\n",
    "    label = remap_labels.get(label, label)\n",
    "    print(label)\n",
    "    items = list(d.items())\n",
    "    items.sort(key=lambda x: x[1], reverse=True)\n",
    "    data.append(go.Bar(x=[remap_labels.get(x, x) for x,y in items], y=[y for x,y in items], name=label))\n",
    "  plot_data(data, **kwargs)\n",
    "\n"
   ]
  },
  {
   "cell_type": "code",
   "execution_count": 21,
   "metadata": {},
   "outputs": [
    {
     "name": "stdout",
     "output_type": "stream",
     "text": [
      "{'easy': 'Easy', 'medium': 'Medium', 'hard': 'Hard', 'nothing': 'Nothing', 'nextvisit': 'Next Visit', 'hour': 'Next Hour', 'day': 'Next Day', 'week': 'Next Week'}\n",
      "Next Visit\n",
      "Next Hour\n",
      "Next Day\n",
      "Next Week\n"
     ]
    },
    {
     "data": {
      "application/vnd.plotly.v1+json": {
       "config": {
        "linkText": "Export to plot.ly",
        "plotlyServerURL": "https://plot.ly",
        "responsive": true,
        "showLink": false
       },
       "data": [
        {
         "name": "Next Visit",
         "type": "bar",
         "uid": "ef5f60c8-73f2-4826-91f7-8db12e6b3164",
         "x": [
          "Nothing",
          "Easy",
          "Medium",
          "Hard"
         ],
         "y": [
          22057,
          535,
          155,
          125
         ]
        },
        {
         "name": "Next Hour",
         "type": "bar",
         "uid": "92bbe905-f5a9-4853-87d3-a8f0559c5047",
         "x": [
          "Easy",
          "Nothing",
          "Medium",
          "Hard"
         ],
         "y": [
          2054,
          1158,
          132,
          36
         ]
        },
        {
         "name": "Next Day",
         "type": "bar",
         "uid": "847f7f90-7264-4da9-9ad6-f2435fd4547a",
         "x": [
          "Nothing",
          "Medium",
          "Easy",
          "Hard"
         ],
         "y": [
          630,
          508,
          464,
          45
         ]
        },
        {
         "name": "Next Week",
         "type": "bar",
         "uid": "617db34f-2619-4ff8-bcd3-977c8226e41d",
         "x": [
          "Nothing",
          "Easy",
          "Medium",
          "Hard"
         ],
         "y": [
          2089,
          524,
          507,
          221
         ]
        }
       ],
       "layout": {
        "font": {
         "size": 22
        },
        "title": {
         "text": "Choices for intervention difficulty and when to ask again"
        },
        "xaxis": {
         "title": {
          "text": "Intervention difficulty chosen, and when to ask again"
         }
        },
        "yaxis": {
         "title": {
          "text": "Number of times chosen"
         }
        }
       }
      },
      "text/html": [
       "<div>\n",
       "        \n",
       "        \n",
       "            <div id=\"fe83332f-eeb3-4bcb-9356-ef3d481f8dad\" class=\"plotly-graph-div\" style=\"height:525px; width:100%;\"></div>\n",
       "            <script type=\"text/javascript\">\n",
       "                require([\"plotly\"], function(Plotly) {\n",
       "                    window.PLOTLYENV=window.PLOTLYENV || {};\n",
       "                    window.PLOTLYENV.BASE_URL='https://plot.ly';\n",
       "                    \n",
       "                if (document.getElementById(\"fe83332f-eeb3-4bcb-9356-ef3d481f8dad\")) {\n",
       "                    Plotly.newPlot(\n",
       "                        'fe83332f-eeb3-4bcb-9356-ef3d481f8dad',\n",
       "                        [{\"name\": \"Next Visit\", \"type\": \"bar\", \"uid\": \"16e27b04-1eb5-4b01-96ad-2eb06a4c3335\", \"x\": [\"Nothing\", \"Easy\", \"Medium\", \"Hard\"], \"y\": [22057, 535, 155, 125]}, {\"name\": \"Next Hour\", \"type\": \"bar\", \"uid\": \"8991144b-f75f-4258-8deb-2c5b4bdb7eac\", \"x\": [\"Easy\", \"Nothing\", \"Medium\", \"Hard\"], \"y\": [2054, 1158, 132, 36]}, {\"name\": \"Next Day\", \"type\": \"bar\", \"uid\": \"34cef0ec-6390-4494-b200-164b64adfdd4\", \"x\": [\"Nothing\", \"Medium\", \"Easy\", \"Hard\"], \"y\": [630, 508, 464, 45]}, {\"name\": \"Next Week\", \"type\": \"bar\", \"uid\": \"4bb1d661-458a-4b5b-b0fd-0fd823e775c2\", \"x\": [\"Nothing\", \"Easy\", \"Medium\", \"Hard\"], \"y\": [2089, 524, 507, 221]}],\n",
       "                        {\"font\": {\"size\": 22}, \"title\": {\"text\": \"Choices for intervention difficulty and when to ask again\"}, \"xaxis\": {\"title\": {\"text\": \"Intervention difficulty chosen, and when to ask again\"}}, \"yaxis\": {\"title\": {\"text\": \"Number of times chosen\"}}},\n",
       "                        {\"showLink\": false, \"linkText\": \"Export to plot.ly\", \"plotlyServerURL\": \"https://plot.ly\", \"responsive\": true}\n",
       "                    ).then(function(){\n",
       "                            \n",
       "var gd = document.getElementById('fe83332f-eeb3-4bcb-9356-ef3d481f8dad');\n",
       "var x = new MutationObserver(function (mutations, observer) {{\n",
       "        var display = window.getComputedStyle(gd).display;\n",
       "        if (!display || display === 'none') {{\n",
       "            console.log([gd, 'removed!']);\n",
       "            Plotly.purge(gd);\n",
       "            observer.disconnect();\n",
       "        }}\n",
       "}});\n",
       "\n",
       "// Listen for the removal of the full notebook cells\n",
       "var notebookContainer = gd.closest('#notebook-container');\n",
       "if (notebookContainer) {{\n",
       "    x.observe(notebookContainer, {childList: true});\n",
       "}}\n",
       "\n",
       "// Listen for the clearing of the current output cell\n",
       "var outputEl = gd.closest('.output');\n",
       "if (outputEl) {{\n",
       "    x.observe(outputEl, {childList: true});\n",
       "}}\n",
       "\n",
       "                        })\n",
       "                };\n",
       "                });\n",
       "            </script>\n",
       "        </div>"
      ]
     },
     "metadata": {},
     "output_type": "display_data"
    }
   ],
   "source": [
    "# noexport\n",
    "\n",
    "from collections import Counter\n",
    "a = {'nextvisit': Counter({'nothing': 22057, 'easy': 535, 'medium': 155, 'hard': 125}), 'hour': Counter({'easy': 2054, 'nothing': 1158, 'medium': 132, 'hard': 36}), 'day': Counter({'nothing': 630, 'medium': 508, 'easy': 464, 'hard': 45}), 'week': Counter({'nothing': 2089, 'easy': 524, 'medium': 507, 'hard': 221})}\n",
    "plot_dictdict_as_bar(\n",
    "    a,\n",
    "    ylabel = 'Number of times chosen',\n",
    "    xlabel = 'Intervention difficulty chosen, and when to ask again',\n",
    "    title = 'Choices for intervention difficulty and when to ask again',\n",
    "    remap_labels = {'easy': 'Easy', 'medium': 'Medium', 'hard': 'Hard', 'nothing': 'Nothing', 'nextvisit': 'Next Visit', 'hour': 'Next Hour', 'day': 'Next Day', 'week': 'Next Week'},\n",
    "    font=dict(size=22),\n",
    "  )"
   ]
  },
  {
   "cell_type": "code",
   "execution_count": 8,
   "metadata": {},
   "outputs": [
    {
     "data": {
      "application/vnd.plotly.v1+json": {
       "config": {
        "linkText": "Export to plot.ly",
        "plotlyServerURL": "https://plot.ly",
        "responsive": true,
        "showLink": false
       },
       "data": [
        {
         "name": "Next Visit",
         "type": "bar",
         "uid": "fd41dfda-496b-4780-bfb1-35faae51a1e7",
         "x": [
          "Nothing",
          "Medium",
          "Easy",
          "Hard"
         ],
         "y": [
          14530,
          746,
          498,
          99
         ]
        },
        {
         "name": "Next Hour",
         "type": "bar",
         "uid": "202c9d0f-2a7f-44f2-acf2-71202311b665",
         "x": [
          "Nothing",
          "Easy",
          "Medium",
          "Hard"
         ],
         "y": [
          912,
          854,
          118,
          31
         ]
        },
        {
         "name": "Next Day",
         "type": "bar",
         "uid": "8031df20-21b3-420e-bc4c-624c08977356",
         "x": [
          "Nothing",
          "Easy",
          "Medium",
          "Hard"
         ],
         "y": [
          432,
          339,
          257,
          38
         ]
        },
        {
         "name": "Next Week",
         "type": "bar",
         "uid": "8f2067e8-19a1-47e7-81d3-030ff06e34dd",
         "x": [
          "Nothing",
          "Easy",
          "Medium",
          "Hard"
         ],
         "y": [
          823,
          348,
          287,
          128
         ]
        }
       ],
       "layout": {
        "font": {
         "size": 22
        },
        "title": {
         "text": "Choices for intervention difficulty and when to ask again"
        },
        "xaxis": {
         "title": {
          "text": "Intervention difficulty chosen, and when to ask again"
         }
        },
        "yaxis": {
         "title": {
          "text": "Number of times chosen"
         }
        }
       }
      },
      "text/html": [
       "<div>\n",
       "        \n",
       "        \n",
       "            <div id=\"f9e95bba-e7b1-4ce8-8f68-4870ba6b32d6\" class=\"plotly-graph-div\" style=\"height:525px; width:100%;\"></div>\n",
       "            <script type=\"text/javascript\">\n",
       "                require([\"plotly\"], function(Plotly) {\n",
       "                    window.PLOTLYENV=window.PLOTLYENV || {};\n",
       "                    window.PLOTLYENV.BASE_URL='https://plot.ly';\n",
       "                    \n",
       "                if (document.getElementById(\"f9e95bba-e7b1-4ce8-8f68-4870ba6b32d6\")) {\n",
       "                    Plotly.newPlot(\n",
       "                        'f9e95bba-e7b1-4ce8-8f68-4870ba6b32d6',\n",
       "                        [{\"name\": \"Next Visit\", \"type\": \"bar\", \"uid\": \"3c8a1806-c0ee-4bf8-b6fd-2ec932545d40\", \"x\": [\"Nothing\", \"Medium\", \"Easy\", \"Hard\"], \"y\": [14530, 746, 498, 99]}, {\"name\": \"Next Hour\", \"type\": \"bar\", \"uid\": \"e63e4b6c-b69f-4dab-b7b8-3881ca2d53af\", \"x\": [\"Nothing\", \"Easy\", \"Medium\", \"Hard\"], \"y\": [912, 854, 118, 31]}, {\"name\": \"Next Day\", \"type\": \"bar\", \"uid\": \"df62b949-3bd9-462a-914c-2335ed3bb9fe\", \"x\": [\"Nothing\", \"Easy\", \"Medium\", \"Hard\"], \"y\": [432, 339, 257, 38]}, {\"name\": \"Next Week\", \"type\": \"bar\", \"uid\": \"aff2c765-6639-46a0-9c6f-06472c2d654e\", \"x\": [\"Nothing\", \"Easy\", \"Medium\", \"Hard\"], \"y\": [823, 348, 287, 128]}],\n",
       "                        {\"font\": {\"size\": 22}, \"title\": {\"text\": \"Choices for intervention difficulty and when to ask again\"}, \"xaxis\": {\"title\": {\"text\": \"Intervention difficulty chosen, and when to ask again\"}}, \"yaxis\": {\"title\": {\"text\": \"Number of times chosen\"}}},\n",
       "                        {\"showLink\": false, \"linkText\": \"Export to plot.ly\", \"plotlyServerURL\": \"https://plot.ly\", \"responsive\": true}\n",
       "                    ).then(function(){\n",
       "                            \n",
       "var gd = document.getElementById('f9e95bba-e7b1-4ce8-8f68-4870ba6b32d6');\n",
       "var x = new MutationObserver(function (mutations, observer) {{\n",
       "        var display = window.getComputedStyle(gd).display;\n",
       "        if (!display || display === 'none') {{\n",
       "            console.log([gd, 'removed!']);\n",
       "            Plotly.purge(gd);\n",
       "            observer.disconnect();\n",
       "        }}\n",
       "}});\n",
       "\n",
       "// Listen for the removal of the full notebook cells\n",
       "var notebookContainer = gd.closest('#notebook-container');\n",
       "if (notebookContainer) {{\n",
       "    x.observe(notebookContainer, {childList: true});\n",
       "}}\n",
       "\n",
       "// Listen for the clearing of the current output cell\n",
       "var outputEl = gd.closest('.output');\n",
       "if (outputEl) {{\n",
       "    x.observe(outputEl, {childList: true});\n",
       "}}\n",
       "\n",
       "                        })\n",
       "                };\n",
       "                });\n",
       "            </script>\n",
       "        </div>"
      ]
     },
     "metadata": {},
     "output_type": "display_data"
    }
   ],
   "source": [
    "# noexport\n",
    "\n",
    "from collections import Counter\n",
    "a = {'Next Visit': Counter({'Nothing': 14530, 'Medium': 746, 'Easy': 498, 'Hard': 99}), 'Next Hour': Counter({'Nothing': 912, 'Easy': 854, 'Medium': 118, 'Hard': 31}), 'Next Day': Counter({'Nothing': 432, 'Easy': 339, 'Medium': 257, 'Hard': 38}), 'Next Week': Counter({'Nothing': 823, 'Easy': 348, 'Medium': 287, 'Hard': 128})}\n",
    "plot_dictdict_as_bar(\n",
    "    a,\n",
    "    ylabel = 'Number of times chosen',\n",
    "    xlabel = 'Intervention difficulty chosen, and when to ask again',\n",
    "    title = 'Choices for intervention difficulty and when to ask again',\n",
    "    remap_labels = {'easy': 'Easy', 'medium': 'Medium', 'hard': 'Hard', 'nothing': 'Nothing'},\n",
    "    font=dict(size=22),\n",
    "  )"
   ]
  },
  {
   "cell_type": "code",
   "execution_count": null,
   "metadata": {},
   "outputs": [],
   "source": [
    "#print(go.Heatmap.colorbar)\n",
    "#print(go.nticks)"
   ]
  },
  {
   "cell_type": "code",
   "execution_count": 33,
   "metadata": {},
   "outputs": [
    {
     "data": {
      "application/vnd.plotly.v1+json": {
       "config": {
        "linkText": "Export to plot.ly",
        "plotlyServerURL": "https://plot.ly",
        "showLink": false
       },
       "data": [
        {
         "colorbar": {
          "tickmode": "array",
          "ticktext": [
           "a",
           "b",
           "c",
           "d",
           "e",
           "f",
           "g",
           "h",
           "i"
          ],
          "tickvals": [
           0,
           1,
           2,
           3,
           4,
           5,
           6,
           7,
           8
          ]
         },
         "colorscale": [
          [
           0,
           "rgb(0, 0, 0)"
          ],
          [
           0.5,
           "rgb(0, 0, 0)"
          ],
          [
           0.5,
           "rgb(255, 255, 255)"
          ],
          [
           1,
           "rgb(255, 255, 255)"
          ]
         ],
         "showscale": true,
         "type": "heatmap",
         "uid": "884ff6ac-5576-44cd-9dc0-3cfc4d39a5fe",
         "z": [
          [
           0,
           1
          ],
          [
           1,
           1
          ]
         ]
        }
       ],
       "layout": {
        "title": {
         "text": "Plot title"
        },
        "xaxis": {
         "title": {
          "text": "x label"
         }
        },
        "yaxis": {
         "title": {
          "text": "y label"
         }
        }
       }
      },
      "text/html": [
       "<div id=\"ec310c6e-1b35-4adb-ae17-ec87011da9f6\" style=\"height: 525px; width: 100%;\" class=\"plotly-graph-div\"></div><script type=\"text/javascript\">require([\"plotly\"], function(Plotly) { window.PLOTLYENV=window.PLOTLYENV || {};window.PLOTLYENV.BASE_URL=\"https://plot.ly\";Plotly.newPlot(\"ec310c6e-1b35-4adb-ae17-ec87011da9f6\", [{\"colorbar\": {\"tickmode\": \"array\", \"ticktext\": [\"a\", \"b\", \"c\", \"d\", \"e\", \"f\", \"g\", \"h\", \"i\"], \"tickvals\": [0, 1, 2, 3, 4, 5, 6, 7, 8]}, \"colorscale\": [[0.0, \"rgb(0, 0, 0)\"], [0.5, \"rgb(0, 0, 0)\"], [0.5, \"rgb(255, 255, 255)\"], [1.0, \"rgb(255, 255, 255)\"]], \"showscale\": true, \"z\": [[0, 1], [1, 1]], \"type\": \"heatmap\", \"uid\": \"884ff6ac-5576-44cd-9dc0-3cfc4d39a5fe\"}], {\"title\": {\"text\": \"Plot title\"}, \"xaxis\": {\"title\": {\"text\": \"x label\"}}, \"yaxis\": {\"title\": {\"text\": \"y label\"}}}, {\"showLink\": false, \"linkText\": \"Export to plot.ly\", \"plotlyServerURL\": \"https://plot.ly\"})});</script><script type=\"text/javascript\">window.addEventListener(\"resize\", function(){window._Plotly.Plots.resize(document.getElementById(\"ec310c6e-1b35-4adb-ae17-ec87011da9f6\"));});</script>"
      ],
      "text/vnd.plotly.v1+html": [
       "<div id=\"ec310c6e-1b35-4adb-ae17-ec87011da9f6\" style=\"height: 525px; width: 100%;\" class=\"plotly-graph-div\"></div><script type=\"text/javascript\">require([\"plotly\"], function(Plotly) { window.PLOTLYENV=window.PLOTLYENV || {};window.PLOTLYENV.BASE_URL=\"https://plot.ly\";Plotly.newPlot(\"ec310c6e-1b35-4adb-ae17-ec87011da9f6\", [{\"colorbar\": {\"tickmode\": \"array\", \"ticktext\": [\"a\", \"b\", \"c\", \"d\", \"e\", \"f\", \"g\", \"h\", \"i\"], \"tickvals\": [0, 1, 2, 3, 4, 5, 6, 7, 8]}, \"colorscale\": [[0.0, \"rgb(0, 0, 0)\"], [0.5, \"rgb(0, 0, 0)\"], [0.5, \"rgb(255, 255, 255)\"], [1.0, \"rgb(255, 255, 255)\"]], \"showscale\": true, \"z\": [[0, 1], [1, 1]], \"type\": \"heatmap\", \"uid\": \"884ff6ac-5576-44cd-9dc0-3cfc4d39a5fe\"}], {\"title\": {\"text\": \"Plot title\"}, \"xaxis\": {\"title\": {\"text\": \"x label\"}}, \"yaxis\": {\"title\": {\"text\": \"y label\"}}}, {\"showLink\": false, \"linkText\": \"Export to plot.ly\", \"plotlyServerURL\": \"https://plot.ly\"})});</script><script type=\"text/javascript\">window.addEventListener(\"resize\", function(){window._Plotly.Plots.resize(document.getElementById(\"ec310c6e-1b35-4adb-ae17-ec87011da9f6\"));});</script>"
      ]
     },
     "metadata": {},
     "output_type": "display_data"
    }
   ],
   "source": [
    "# plot_heatmap(\n",
    "#   [[0,1],[1,1]],\n",
    "#   ticktext=['a', 'b', 'c', 'd', 'e', 'f', 'g', 'h', 'i'],\n",
    "#   title='Plot title',\n",
    "#   xlabel='x label',\n",
    "#   ylabel='y label',\n",
    "#   #colorscale = 'Greys',\n",
    "#   colorscale = [\n",
    "#     [0.0, 'rgb(0, 0, 0)'],\n",
    "#     [0.5, 'rgb(0, 0, 0)'],\n",
    "#     [0.5, 'rgb(255, 255, 255)'],\n",
    "#     [1.0, 'rgb(255, 255, 255)'],\n",
    "#   ],\n",
    "# )\n"
   ]
  },
  {
   "cell_type": "code",
   "execution_count": 26,
   "metadata": {},
   "outputs": [
    {
     "data": {
      "application/vnd.plotly.v1+json": {
       "config": {
        "linkText": "Export to plot.ly",
        "plotlyServerURL": "https://plot.ly",
        "showLink": false
       },
       "data": [
        {
         "colorbar": {
          "tickmode": "array",
          "ticktext": [
           "a",
           "b",
           "c",
           "d",
           "e",
           "f",
           "g",
           "h",
           "i"
          ],
          "tickvals": [
           0,
           1,
           2,
           3,
           4,
           5,
           6,
           7,
           8
          ]
         },
         "colorscale": [
          [
           0,
           "rgb(0, 0, 0)"
          ],
          [
           0.1,
           "rgb(0, 0, 0)"
          ],
          [
           0.1,
           "rgb(20, 20, 20)"
          ],
          [
           0.2,
           "rgb(20, 20, 20)"
          ],
          [
           0.2,
           "rgb(40, 40, 40)"
          ],
          [
           0.3,
           "rgb(40, 40, 40)"
          ],
          [
           0.3,
           "rgb(60, 60, 60)"
          ],
          [
           0.4,
           "rgb(60, 60, 60)"
          ],
          [
           0.4,
           "rgb(80, 80, 80)"
          ],
          [
           0.5,
           "rgb(80, 80, 80)"
          ],
          [
           0.5,
           "rgb(100, 100, 100)"
          ],
          [
           0.6,
           "rgb(100, 100, 100)"
          ],
          [
           0.6,
           "rgb(120, 120, 120)"
          ],
          [
           0.7,
           "rgb(120, 120, 120)"
          ],
          [
           0.7,
           "rgb(140, 140, 140)"
          ],
          [
           0.8,
           "rgb(140, 140, 140)"
          ],
          [
           0.8,
           "rgb(160, 160, 160)"
          ],
          [
           0.9,
           "rgb(160, 160, 160)"
          ],
          [
           0.9,
           "rgb(180, 180, 180)"
          ],
          [
           1,
           "rgb(180, 180, 180)"
          ]
         ],
         "showscale": true,
         "type": "heatmap",
         "uid": "f100c0a0-7be7-4b2d-8385-958dfd927f81",
         "z": [
          [
           3,
           5
          ],
          [
           6,
           7
          ]
         ]
        }
       ],
       "layout": {
        "title": {
         "text": "Plot title"
        },
        "xaxis": {
         "title": {
          "text": "x label"
         }
        },
        "yaxis": {
         "title": {
          "text": "y label"
         }
        }
       }
      },
      "text/html": [
       "<div id=\"c9576df3-78fc-439b-8c6a-0b7aa435db46\" style=\"height: 525px; width: 100%;\" class=\"plotly-graph-div\"></div><script type=\"text/javascript\">require([\"plotly\"], function(Plotly) { window.PLOTLYENV=window.PLOTLYENV || {};window.PLOTLYENV.BASE_URL=\"https://plot.ly\";Plotly.newPlot(\"c9576df3-78fc-439b-8c6a-0b7aa435db46\", [{\"colorbar\": {\"tickmode\": \"array\", \"ticktext\": [\"a\", \"b\", \"c\", \"d\", \"e\", \"f\", \"g\", \"h\", \"i\"], \"tickvals\": [0, 1, 2, 3, 4, 5, 6, 7, 8]}, \"colorscale\": [[0, \"rgb(0, 0, 0)\"], [0.1, \"rgb(0, 0, 0)\"], [0.1, \"rgb(20, 20, 20)\"], [0.2, \"rgb(20, 20, 20)\"], [0.2, \"rgb(40, 40, 40)\"], [0.3, \"rgb(40, 40, 40)\"], [0.3, \"rgb(60, 60, 60)\"], [0.4, \"rgb(60, 60, 60)\"], [0.4, \"rgb(80, 80, 80)\"], [0.5, \"rgb(80, 80, 80)\"], [0.5, \"rgb(100, 100, 100)\"], [0.6, \"rgb(100, 100, 100)\"], [0.6, \"rgb(120, 120, 120)\"], [0.7, \"rgb(120, 120, 120)\"], [0.7, \"rgb(140, 140, 140)\"], [0.8, \"rgb(140, 140, 140)\"], [0.8, \"rgb(160, 160, 160)\"], [0.9, \"rgb(160, 160, 160)\"], [0.9, \"rgb(180, 180, 180)\"], [1.0, \"rgb(180, 180, 180)\"]], \"showscale\": true, \"z\": [[3, 5], [6, 7]], \"type\": \"heatmap\", \"uid\": \"f100c0a0-7be7-4b2d-8385-958dfd927f81\"}], {\"title\": {\"text\": \"Plot title\"}, \"xaxis\": {\"title\": {\"text\": \"x label\"}}, \"yaxis\": {\"title\": {\"text\": \"y label\"}}}, {\"showLink\": false, \"linkText\": \"Export to plot.ly\", \"plotlyServerURL\": \"https://plot.ly\"})});</script><script type=\"text/javascript\">window.addEventListener(\"resize\", function(){window._Plotly.Plots.resize(document.getElementById(\"c9576df3-78fc-439b-8c6a-0b7aa435db46\"));});</script>"
      ],
      "text/vnd.plotly.v1+html": [
       "<div id=\"c9576df3-78fc-439b-8c6a-0b7aa435db46\" style=\"height: 525px; width: 100%;\" class=\"plotly-graph-div\"></div><script type=\"text/javascript\">require([\"plotly\"], function(Plotly) { window.PLOTLYENV=window.PLOTLYENV || {};window.PLOTLYENV.BASE_URL=\"https://plot.ly\";Plotly.newPlot(\"c9576df3-78fc-439b-8c6a-0b7aa435db46\", [{\"colorbar\": {\"tickmode\": \"array\", \"ticktext\": [\"a\", \"b\", \"c\", \"d\", \"e\", \"f\", \"g\", \"h\", \"i\"], \"tickvals\": [0, 1, 2, 3, 4, 5, 6, 7, 8]}, \"colorscale\": [[0, \"rgb(0, 0, 0)\"], [0.1, \"rgb(0, 0, 0)\"], [0.1, \"rgb(20, 20, 20)\"], [0.2, \"rgb(20, 20, 20)\"], [0.2, \"rgb(40, 40, 40)\"], [0.3, \"rgb(40, 40, 40)\"], [0.3, \"rgb(60, 60, 60)\"], [0.4, \"rgb(60, 60, 60)\"], [0.4, \"rgb(80, 80, 80)\"], [0.5, \"rgb(80, 80, 80)\"], [0.5, \"rgb(100, 100, 100)\"], [0.6, \"rgb(100, 100, 100)\"], [0.6, \"rgb(120, 120, 120)\"], [0.7, \"rgb(120, 120, 120)\"], [0.7, \"rgb(140, 140, 140)\"], [0.8, \"rgb(140, 140, 140)\"], [0.8, \"rgb(160, 160, 160)\"], [0.9, \"rgb(160, 160, 160)\"], [0.9, \"rgb(180, 180, 180)\"], [1.0, \"rgb(180, 180, 180)\"]], \"showscale\": true, \"z\": [[3, 5], [6, 7]], \"type\": \"heatmap\", \"uid\": \"f100c0a0-7be7-4b2d-8385-958dfd927f81\"}], {\"title\": {\"text\": \"Plot title\"}, \"xaxis\": {\"title\": {\"text\": \"x label\"}}, \"yaxis\": {\"title\": {\"text\": \"y label\"}}}, {\"showLink\": false, \"linkText\": \"Export to plot.ly\", \"plotlyServerURL\": \"https://plot.ly\"})});</script><script type=\"text/javascript\">window.addEventListener(\"resize\", function(){window._Plotly.Plots.resize(document.getElementById(\"c9576df3-78fc-439b-8c6a-0b7aa435db46\"));});</script>"
      ]
     },
     "metadata": {},
     "output_type": "display_data"
    }
   ],
   "source": [
    "# plot_heatmap(\n",
    "#   [[3,5],[6,7]],\n",
    "#   ticktext=['a', 'b', 'c', 'd', 'e', 'f', 'g', 'h', 'i'],\n",
    "#   title='Plot title',\n",
    "#   xlabel='x label',\n",
    "#   ylabel='y label',\n",
    "#   colorscale= [\n",
    "#         [0, 'rgb(0, 0, 0)'],\n",
    "#         [0.1, 'rgb(0, 0, 0)'],\n",
    "#         [0.1, 'rgb(20, 20, 20)'],\n",
    "#         [0.2, 'rgb(20, 20, 20)'],\n",
    "#         [0.2, 'rgb(40, 40, 40)'],\n",
    "#         [0.3, 'rgb(40, 40, 40)'],\n",
    "#         [0.3, 'rgb(60, 60, 60)'],\n",
    "#         [0.4, 'rgb(60, 60, 60)'],\n",
    "#         [0.4, 'rgb(80, 80, 80)'],\n",
    "#         [0.5, 'rgb(80, 80, 80)'],\n",
    "#         [0.5, 'rgb(100, 100, 100)'],\n",
    "#         [0.6, 'rgb(100, 100, 100)'],\n",
    "#         [0.6, 'rgb(120, 120, 120)'],\n",
    "#         [0.7, 'rgb(120, 120, 120)'],\n",
    "#         [0.7, 'rgb(140, 140, 140)'],\n",
    "#         [0.8, 'rgb(140, 140, 140)'],\n",
    "#         [0.8, 'rgb(160, 160, 160)'],\n",
    "#         [0.9, 'rgb(160, 160, 160)'],\n",
    "#         [0.9, 'rgb(180, 180, 180)'],\n",
    "#         [1.0, 'rgb(180, 180, 180)'],\n",
    "#     ],\n",
    "# )\n"
   ]
  },
  {
   "cell_type": "code",
   "execution_count": null,
   "metadata": {},
   "outputs": [],
   "source": [
    "# plot_dictdict_as_bar({'first': {'a': 3, 'b': 5}, 'second': {'a': 4, 'b': 6}})"
   ]
  },
  {
   "cell_type": "code",
   "execution_count": null,
   "metadata": {},
   "outputs": [],
   "source": []
  }
 ],
 "metadata": {
  "kernelspec": {
   "display_name": "Python 3",
   "language": "python",
   "name": "python3"
  },
  "language_info": {
   "codemirror_mode": {
    "name": "ipython",
    "version": 3
   },
   "file_extension": ".py",
   "mimetype": "text/x-python",
   "name": "python",
   "nbconvert_exporter": "python",
   "pygments_lexer": "ipython3",
   "version": "3.7.4"
  }
 },
 "nbformat": 4,
 "nbformat_minor": 2
}
