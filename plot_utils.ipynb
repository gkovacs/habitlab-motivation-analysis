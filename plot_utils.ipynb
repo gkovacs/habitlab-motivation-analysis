{
 "cells": [
  {
   "cell_type": "code",
   "execution_count": 4,
   "metadata": {},
   "outputs": [
    {
     "name": "stdout",
     "output_type": "stream",
     "text": [
      "[NbConvertApp] Converting notebook plot_utils.ipynb to python\r\n"
     ]
    }
   ],
   "source": [
    "# noexport\n",
    "\n",
    "!typech plot_utils.ipynb"
   ]
  },
  {
   "cell_type": "code",
   "execution_count": null,
   "metadata": {},
   "outputs": [],
   "source": [
    "import plotly.graph_objs as go\n",
    "from plotly.offline import download_plotlyjs, init_notebook_mode, plot, iplot\n",
    "init_notebook_mode(connected=True)\n"
   ]
  },
  {
   "cell_type": "code",
   "execution_count": null,
   "metadata": {},
   "outputs": [],
   "source": [
    "def plot_data(data, **kwargs):\n",
    "  title = kwargs.get('title')\n",
    "  xlabel = kwargs.get('xlabel')\n",
    "  ylabel = kwargs.get('ylabel')\n",
    "  \n",
    "  layout = go.Layout()\n",
    "  if title is not None:\n",
    "    layout.title = go.layout.Title(text = title)\n",
    "  if xlabel is not None:\n",
    "    layout.xaxis = go.layout.XAxis(title = xlabel)\n",
    "  if ylabel is not None:\n",
    "    layout.yaxis = go.layout.YAxis(title = ylabel)\n",
    "  fig = go.Figure(data=data, layout=layout)\n",
    "  iplot(fig)\n",
    "\n",
    "def plot_histogram(x_values, **kwargs):\n",
    "  data = [go.Histogram(x=x_values)]\n",
    "  plot_data(data, **kwargs)\n",
    "\n",
    "def plot_points(points, **kwargs):\n",
    "  data = [go.Scatter(x=[x for x,y in points], y=[y for x,y in points])]\n",
    "  plot_data(data, **kwargs)\n",
    "\n",
    "def plot_several_points(points_list, **kwargs):\n",
    "  data = []\n",
    "  for label,points in points_list:\n",
    "    data.append(go.Scatter(x=[x for x,y in points], y=[y for x,y in points], name=label))\n",
    "  plot_data(data, **kwargs)\n",
    "\n",
    "def plot_bar(label_with_value_list, **kwargs):\n",
    "  data = [go.Bar(x=[x for x,y in label_with_value_list], y=[y for x,y in label_with_value_list])]\n",
    "  plot_data(data, **kwargs)\n",
    "\n",
    "def plot_dict_as_bar(d, **kwargs):\n",
    "  data = []\n",
    "  items = list(d.items())\n",
    "  items.sort(key=lambda x: x[1], reverse=True)\n",
    "  plot_bar(items, **kwargs)\n",
    "\n",
    "def plot_heatmap(heatmap_data, **kwargs):\n",
    "  ticktext = kwargs.get('ticktext')\n",
    "  colorscale = kwargs.get('colorscale')\n",
    "  \n",
    "  heatmap = go.Heatmap(z = heatmap_data)\n",
    "  heatmap.colorscale = 'Viridis' # Greys\n",
    "  if colorscale is not None:\n",
    "    heatmap.colorscale = colorscale\n",
    "  heatmap.showscale = True\n",
    "  if ticktext is not None:\n",
    "    heatmap.colorbar = dict(\n",
    "      tickmode = 'array',\n",
    "      tickvals = list(range(len(ticktext))),\n",
    "      ticktext = ticktext,\n",
    "    )\n",
    "  data = [ heatmap ]\n",
    "  plot_data(data, **kwargs)\n",
    "\n",
    "def plot_dictdict_as_bar(d_dict, **kwargs):\n",
    "  data = []\n",
    "  for label,d in d_dict.items():\n",
    "    items = list(d.items())\n",
    "    items.sort(key=lambda x: x[1], reverse=True)\n",
    "    data.append(go.Bar(x=[x for x,y in items], y=[y for x,y in items], name=label))\n",
    "  plot_data(data, **kwargs)"
   ]
  },
  {
   "cell_type": "code",
   "execution_count": null,
   "metadata": {},
   "outputs": [],
   "source": [
    "#print(go.Heatmap.colorbar)\n",
    "#print(go.nticks)"
   ]
  },
  {
   "cell_type": "code",
   "execution_count": null,
   "metadata": {},
   "outputs": [],
   "source": [
    "# plot_heatmap(\n",
    "#   [[3,5],[6,7]],\n",
    "#   ticktext=['a', 'b', 'c', 'd', 'e', 'f', 'g', 'h', 'i'],\n",
    "#   title='Plot title',\n",
    "#   xlabel='x label',\n",
    "#   ylabel='y label',\n",
    "# )\n"
   ]
  },
  {
   "cell_type": "code",
   "execution_count": null,
   "metadata": {},
   "outputs": [],
   "source": [
    "# plot_dictdict_as_bar({'first': {'a': 3, 'b': 5}, 'second': {'a': 4, 'b': 6}})"
   ]
  },
  {
   "cell_type": "code",
   "execution_count": null,
   "metadata": {},
   "outputs": [],
   "source": []
  }
 ],
 "metadata": {
  "kernelspec": {
   "display_name": "Python 3",
   "language": "python",
   "name": "python3"
  },
  "language_info": {
   "codemirror_mode": {
    "name": "ipython",
    "version": 3
   },
   "file_extension": ".py",
   "mimetype": "text/x-python",
   "name": "python",
   "nbconvert_exporter": "python",
   "pygments_lexer": "ipython3",
   "version": "3.7.2"
  }
 },
 "nbformat": 4,
 "nbformat_minor": 2
}
