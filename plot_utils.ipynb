{
 "cells": [
  {
   "cell_type": "code",
   "execution_count": 1,
   "metadata": {},
   "outputs": [
    {
     "name": "stdout",
     "output_type": "stream",
     "text": [
      "[NbConvertApp] Converting notebook plot_utils.ipynb to python\r\n"
     ]
    }
   ],
   "source": [
    "# noexport\n",
    "\n",
    "!typech plot_utils.ipynb"
   ]
  },
  {
   "cell_type": "code",
   "execution_count": 6,
   "metadata": {},
   "outputs": [
    {
     "data": {
      "text/html": [
       "<script type=\"text/javascript\">window.PlotlyConfig = {MathJaxConfig: 'local'};</script><script type=\"text/javascript\">if (window.MathJax) {MathJax.Hub.Config({SVG: {font: \"STIX-Web\"}});}</script><script>requirejs.config({paths: { 'plotly': ['https://cdn.plot.ly/plotly-latest.min']},});if(!window._Plotly) {require(['plotly'],function(plotly) {window._Plotly=plotly;});}</script>"
      ],
      "text/vnd.plotly.v1+html": [
       "<script type=\"text/javascript\">window.PlotlyConfig = {MathJaxConfig: 'local'};</script><script type=\"text/javascript\">if (window.MathJax) {MathJax.Hub.Config({SVG: {font: \"STIX-Web\"}});}</script><script>requirejs.config({paths: { 'plotly': ['https://cdn.plot.ly/plotly-latest.min']},});if(!window._Plotly) {require(['plotly'],function(plotly) {window._Plotly=plotly;});}</script>"
      ]
     },
     "metadata": {},
     "output_type": "display_data"
    }
   ],
   "source": [
    "import plotly.graph_objs as go\n",
    "from plotly.offline import download_plotlyjs, init_notebook_mode, plot, iplot\n",
    "init_notebook_mode(connected=True)\n"
   ]
  },
  {
   "cell_type": "code",
   "execution_count": 25,
   "metadata": {},
   "outputs": [],
   "source": [
    "def plot_data(data, **kwargs):\n",
    "  title = kwargs.get('title')\n",
    "  xlabel = kwargs.get('xlabel')\n",
    "  ylabel = kwargs.get('ylabel')\n",
    "  \n",
    "  layout = go.Layout()\n",
    "  if title is not None:\n",
    "    layout.title = go.layout.Title(text = title)\n",
    "  if xlabel is not None:\n",
    "    layout.xaxis = go.layout.XAxis(title = xlabel)\n",
    "  if ylabel is not None:\n",
    "    layout.yaxis = go.layout.YAxis(title = ylabel)\n",
    "  fig = go.Figure(data=data, layout=layout)\n",
    "  iplot(fig)\n",
    "\n",
    "def plot_histogram(x_values, **kwargs):\n",
    "  data = [go.Histogram(x=x_values)]\n",
    "  plot_data(data, **kwargs)\n",
    "\n",
    "def plot_points(points, **kwargs):\n",
    "  data = [go.Scatter(x=[x for x,y in points], y=[y for x,y in points])]\n",
    "  plot_data(data, **kwargs)\n",
    "\n",
    "def plot_several_points(points_list, **kwargs):\n",
    "  data = []\n",
    "  for label,points in points_list:\n",
    "    data.append(go.Scatter(x=[x for x,y in points], y=[y for x,y in points], name=label))\n",
    "  plot_data(data, **kwargs)\n",
    "\n",
    "def plot_bar(label_with_value_list, **kwargs):\n",
    "  labels = [x for x,y in label_with_value_list]\n",
    "  remap_labels = kwargs.get('remap_labels')\n",
    "  if remap_labels is not None:\n",
    "    labels = [remap_labels.get(x, x) for x in labels]\n",
    "  data = [go.Bar(x=labels, y=[y for x,y in label_with_value_list])]\n",
    "  plot_data(data, **kwargs)\n",
    "\n",
    "def plot_dict_as_bar(d, **kwargs):\n",
    "  data = []\n",
    "  items = list(d.items())\n",
    "  items.sort(key=lambda x: x[1], reverse=True)\n",
    "  plot_bar(items, **kwargs)\n",
    "\n",
    "def plot_dict_as_bar_percent(d, **kwargs):\n",
    "  data = []\n",
    "  nd = {}\n",
    "  val_sum = sum(d.values())\n",
    "  for k,v in d.items():\n",
    "    nd[k] = v / val_sum\n",
    "  items = list(nd.items())\n",
    "  items.sort(key=lambda x: x[1], reverse=True)\n",
    "  plot_bar(items, **kwargs)\n",
    "\n",
    "def plot_heatmap(heatmap_data, **kwargs):\n",
    "  ticktext = kwargs.get('ticktext')\n",
    "  colorscale = kwargs.get('colorscale')\n",
    "  \n",
    "  heatmap = go.Heatmap(z = heatmap_data)\n",
    "  heatmap.colorscale = 'Viridis' # Greys\n",
    "  if colorscale is not None:\n",
    "    heatmap.colorscale = colorscale\n",
    "  heatmap.showscale = True\n",
    "  if ticktext is not None:\n",
    "    heatmap.colorbar = dict(\n",
    "      tickmode = 'array',\n",
    "      tickvals = list(range(len(ticktext))),\n",
    "      ticktext = ticktext,\n",
    "      #tick0 = 0,\n",
    "      #dtick = 1,\n",
    "      #autotick = False,\n",
    "    )\n",
    "  data = [ heatmap ]\n",
    "  plot_data(data, **kwargs)\n",
    "\n",
    "def plot_dictdict_as_bar(d_dict, **kwargs):\n",
    "  data = []\n",
    "  for label,d in d_dict.items():\n",
    "    items = list(d.items())\n",
    "    items.sort(key=lambda x: x[1], reverse=True)\n",
    "    data.append(go.Bar(x=[x for x,y in items], y=[y for x,y in items], name=label))\n",
    "  plot_data(data, **kwargs)"
   ]
  },
  {
   "cell_type": "code",
   "execution_count": null,
   "metadata": {},
   "outputs": [],
   "source": [
    "#print(go.Heatmap.colorbar)\n",
    "#print(go.nticks)"
   ]
  },
  {
   "cell_type": "code",
   "execution_count": 33,
   "metadata": {},
   "outputs": [
    {
     "data": {
      "application/vnd.plotly.v1+json": {
       "config": {
        "linkText": "Export to plot.ly",
        "plotlyServerURL": "https://plot.ly",
        "showLink": false
       },
       "data": [
        {
         "colorbar": {
          "tickmode": "array",
          "ticktext": [
           "a",
           "b",
           "c",
           "d",
           "e",
           "f",
           "g",
           "h",
           "i"
          ],
          "tickvals": [
           0,
           1,
           2,
           3,
           4,
           5,
           6,
           7,
           8
          ]
         },
         "colorscale": [
          [
           0,
           "rgb(0, 0, 0)"
          ],
          [
           0.5,
           "rgb(0, 0, 0)"
          ],
          [
           0.5,
           "rgb(255, 255, 255)"
          ],
          [
           1,
           "rgb(255, 255, 255)"
          ]
         ],
         "showscale": true,
         "type": "heatmap",
         "uid": "884ff6ac-5576-44cd-9dc0-3cfc4d39a5fe",
         "z": [
          [
           0,
           1
          ],
          [
           1,
           1
          ]
         ]
        }
       ],
       "layout": {
        "title": {
         "text": "Plot title"
        },
        "xaxis": {
         "title": {
          "text": "x label"
         }
        },
        "yaxis": {
         "title": {
          "text": "y label"
         }
        }
       }
      },
      "text/html": [
       "<div id=\"ec310c6e-1b35-4adb-ae17-ec87011da9f6\" style=\"height: 525px; width: 100%;\" class=\"plotly-graph-div\"></div><script type=\"text/javascript\">require([\"plotly\"], function(Plotly) { window.PLOTLYENV=window.PLOTLYENV || {};window.PLOTLYENV.BASE_URL=\"https://plot.ly\";Plotly.newPlot(\"ec310c6e-1b35-4adb-ae17-ec87011da9f6\", [{\"colorbar\": {\"tickmode\": \"array\", \"ticktext\": [\"a\", \"b\", \"c\", \"d\", \"e\", \"f\", \"g\", \"h\", \"i\"], \"tickvals\": [0, 1, 2, 3, 4, 5, 6, 7, 8]}, \"colorscale\": [[0.0, \"rgb(0, 0, 0)\"], [0.5, \"rgb(0, 0, 0)\"], [0.5, \"rgb(255, 255, 255)\"], [1.0, \"rgb(255, 255, 255)\"]], \"showscale\": true, \"z\": [[0, 1], [1, 1]], \"type\": \"heatmap\", \"uid\": \"884ff6ac-5576-44cd-9dc0-3cfc4d39a5fe\"}], {\"title\": {\"text\": \"Plot title\"}, \"xaxis\": {\"title\": {\"text\": \"x label\"}}, \"yaxis\": {\"title\": {\"text\": \"y label\"}}}, {\"showLink\": false, \"linkText\": \"Export to plot.ly\", \"plotlyServerURL\": \"https://plot.ly\"})});</script><script type=\"text/javascript\">window.addEventListener(\"resize\", function(){window._Plotly.Plots.resize(document.getElementById(\"ec310c6e-1b35-4adb-ae17-ec87011da9f6\"));});</script>"
      ],
      "text/vnd.plotly.v1+html": [
       "<div id=\"ec310c6e-1b35-4adb-ae17-ec87011da9f6\" style=\"height: 525px; width: 100%;\" class=\"plotly-graph-div\"></div><script type=\"text/javascript\">require([\"plotly\"], function(Plotly) { window.PLOTLYENV=window.PLOTLYENV || {};window.PLOTLYENV.BASE_URL=\"https://plot.ly\";Plotly.newPlot(\"ec310c6e-1b35-4adb-ae17-ec87011da9f6\", [{\"colorbar\": {\"tickmode\": \"array\", \"ticktext\": [\"a\", \"b\", \"c\", \"d\", \"e\", \"f\", \"g\", \"h\", \"i\"], \"tickvals\": [0, 1, 2, 3, 4, 5, 6, 7, 8]}, \"colorscale\": [[0.0, \"rgb(0, 0, 0)\"], [0.5, \"rgb(0, 0, 0)\"], [0.5, \"rgb(255, 255, 255)\"], [1.0, \"rgb(255, 255, 255)\"]], \"showscale\": true, \"z\": [[0, 1], [1, 1]], \"type\": \"heatmap\", \"uid\": \"884ff6ac-5576-44cd-9dc0-3cfc4d39a5fe\"}], {\"title\": {\"text\": \"Plot title\"}, \"xaxis\": {\"title\": {\"text\": \"x label\"}}, \"yaxis\": {\"title\": {\"text\": \"y label\"}}}, {\"showLink\": false, \"linkText\": \"Export to plot.ly\", \"plotlyServerURL\": \"https://plot.ly\"})});</script><script type=\"text/javascript\">window.addEventListener(\"resize\", function(){window._Plotly.Plots.resize(document.getElementById(\"ec310c6e-1b35-4adb-ae17-ec87011da9f6\"));});</script>"
      ]
     },
     "metadata": {},
     "output_type": "display_data"
    }
   ],
   "source": [
    "# plot_heatmap(\n",
    "#   [[0,1],[1,1]],\n",
    "#   ticktext=['a', 'b', 'c', 'd', 'e', 'f', 'g', 'h', 'i'],\n",
    "#   title='Plot title',\n",
    "#   xlabel='x label',\n",
    "#   ylabel='y label',\n",
    "#   #colorscale = 'Greys',\n",
    "#   colorscale = [\n",
    "#     [0.0, 'rgb(0, 0, 0)'],\n",
    "#     [0.5, 'rgb(0, 0, 0)'],\n",
    "#     [0.5, 'rgb(255, 255, 255)'],\n",
    "#     [1.0, 'rgb(255, 255, 255)'],\n",
    "#   ],\n",
    "# )\n"
   ]
  },
  {
   "cell_type": "code",
   "execution_count": 26,
   "metadata": {},
   "outputs": [
    {
     "data": {
      "application/vnd.plotly.v1+json": {
       "config": {
        "linkText": "Export to plot.ly",
        "plotlyServerURL": "https://plot.ly",
        "showLink": false
       },
       "data": [
        {
         "colorbar": {
          "tickmode": "array",
          "ticktext": [
           "a",
           "b",
           "c",
           "d",
           "e",
           "f",
           "g",
           "h",
           "i"
          ],
          "tickvals": [
           0,
           1,
           2,
           3,
           4,
           5,
           6,
           7,
           8
          ]
         },
         "colorscale": [
          [
           0,
           "rgb(0, 0, 0)"
          ],
          [
           0.1,
           "rgb(0, 0, 0)"
          ],
          [
           0.1,
           "rgb(20, 20, 20)"
          ],
          [
           0.2,
           "rgb(20, 20, 20)"
          ],
          [
           0.2,
           "rgb(40, 40, 40)"
          ],
          [
           0.3,
           "rgb(40, 40, 40)"
          ],
          [
           0.3,
           "rgb(60, 60, 60)"
          ],
          [
           0.4,
           "rgb(60, 60, 60)"
          ],
          [
           0.4,
           "rgb(80, 80, 80)"
          ],
          [
           0.5,
           "rgb(80, 80, 80)"
          ],
          [
           0.5,
           "rgb(100, 100, 100)"
          ],
          [
           0.6,
           "rgb(100, 100, 100)"
          ],
          [
           0.6,
           "rgb(120, 120, 120)"
          ],
          [
           0.7,
           "rgb(120, 120, 120)"
          ],
          [
           0.7,
           "rgb(140, 140, 140)"
          ],
          [
           0.8,
           "rgb(140, 140, 140)"
          ],
          [
           0.8,
           "rgb(160, 160, 160)"
          ],
          [
           0.9,
           "rgb(160, 160, 160)"
          ],
          [
           0.9,
           "rgb(180, 180, 180)"
          ],
          [
           1,
           "rgb(180, 180, 180)"
          ]
         ],
         "showscale": true,
         "type": "heatmap",
         "uid": "f100c0a0-7be7-4b2d-8385-958dfd927f81",
         "z": [
          [
           3,
           5
          ],
          [
           6,
           7
          ]
         ]
        }
       ],
       "layout": {
        "title": {
         "text": "Plot title"
        },
        "xaxis": {
         "title": {
          "text": "x label"
         }
        },
        "yaxis": {
         "title": {
          "text": "y label"
         }
        }
       }
      },
      "text/html": [
       "<div id=\"c9576df3-78fc-439b-8c6a-0b7aa435db46\" style=\"height: 525px; width: 100%;\" class=\"plotly-graph-div\"></div><script type=\"text/javascript\">require([\"plotly\"], function(Plotly) { window.PLOTLYENV=window.PLOTLYENV || {};window.PLOTLYENV.BASE_URL=\"https://plot.ly\";Plotly.newPlot(\"c9576df3-78fc-439b-8c6a-0b7aa435db46\", [{\"colorbar\": {\"tickmode\": \"array\", \"ticktext\": [\"a\", \"b\", \"c\", \"d\", \"e\", \"f\", \"g\", \"h\", \"i\"], \"tickvals\": [0, 1, 2, 3, 4, 5, 6, 7, 8]}, \"colorscale\": [[0, \"rgb(0, 0, 0)\"], [0.1, \"rgb(0, 0, 0)\"], [0.1, \"rgb(20, 20, 20)\"], [0.2, \"rgb(20, 20, 20)\"], [0.2, \"rgb(40, 40, 40)\"], [0.3, \"rgb(40, 40, 40)\"], [0.3, \"rgb(60, 60, 60)\"], [0.4, \"rgb(60, 60, 60)\"], [0.4, \"rgb(80, 80, 80)\"], [0.5, \"rgb(80, 80, 80)\"], [0.5, \"rgb(100, 100, 100)\"], [0.6, \"rgb(100, 100, 100)\"], [0.6, \"rgb(120, 120, 120)\"], [0.7, \"rgb(120, 120, 120)\"], [0.7, \"rgb(140, 140, 140)\"], [0.8, \"rgb(140, 140, 140)\"], [0.8, \"rgb(160, 160, 160)\"], [0.9, \"rgb(160, 160, 160)\"], [0.9, \"rgb(180, 180, 180)\"], [1.0, \"rgb(180, 180, 180)\"]], \"showscale\": true, \"z\": [[3, 5], [6, 7]], \"type\": \"heatmap\", \"uid\": \"f100c0a0-7be7-4b2d-8385-958dfd927f81\"}], {\"title\": {\"text\": \"Plot title\"}, \"xaxis\": {\"title\": {\"text\": \"x label\"}}, \"yaxis\": {\"title\": {\"text\": \"y label\"}}}, {\"showLink\": false, \"linkText\": \"Export to plot.ly\", \"plotlyServerURL\": \"https://plot.ly\"})});</script><script type=\"text/javascript\">window.addEventListener(\"resize\", function(){window._Plotly.Plots.resize(document.getElementById(\"c9576df3-78fc-439b-8c6a-0b7aa435db46\"));});</script>"
      ],
      "text/vnd.plotly.v1+html": [
       "<div id=\"c9576df3-78fc-439b-8c6a-0b7aa435db46\" style=\"height: 525px; width: 100%;\" class=\"plotly-graph-div\"></div><script type=\"text/javascript\">require([\"plotly\"], function(Plotly) { window.PLOTLYENV=window.PLOTLYENV || {};window.PLOTLYENV.BASE_URL=\"https://plot.ly\";Plotly.newPlot(\"c9576df3-78fc-439b-8c6a-0b7aa435db46\", [{\"colorbar\": {\"tickmode\": \"array\", \"ticktext\": [\"a\", \"b\", \"c\", \"d\", \"e\", \"f\", \"g\", \"h\", \"i\"], \"tickvals\": [0, 1, 2, 3, 4, 5, 6, 7, 8]}, \"colorscale\": [[0, \"rgb(0, 0, 0)\"], [0.1, \"rgb(0, 0, 0)\"], [0.1, \"rgb(20, 20, 20)\"], [0.2, \"rgb(20, 20, 20)\"], [0.2, \"rgb(40, 40, 40)\"], [0.3, \"rgb(40, 40, 40)\"], [0.3, \"rgb(60, 60, 60)\"], [0.4, \"rgb(60, 60, 60)\"], [0.4, \"rgb(80, 80, 80)\"], [0.5, \"rgb(80, 80, 80)\"], [0.5, \"rgb(100, 100, 100)\"], [0.6, \"rgb(100, 100, 100)\"], [0.6, \"rgb(120, 120, 120)\"], [0.7, \"rgb(120, 120, 120)\"], [0.7, \"rgb(140, 140, 140)\"], [0.8, \"rgb(140, 140, 140)\"], [0.8, \"rgb(160, 160, 160)\"], [0.9, \"rgb(160, 160, 160)\"], [0.9, \"rgb(180, 180, 180)\"], [1.0, \"rgb(180, 180, 180)\"]], \"showscale\": true, \"z\": [[3, 5], [6, 7]], \"type\": \"heatmap\", \"uid\": \"f100c0a0-7be7-4b2d-8385-958dfd927f81\"}], {\"title\": {\"text\": \"Plot title\"}, \"xaxis\": {\"title\": {\"text\": \"x label\"}}, \"yaxis\": {\"title\": {\"text\": \"y label\"}}}, {\"showLink\": false, \"linkText\": \"Export to plot.ly\", \"plotlyServerURL\": \"https://plot.ly\"})});</script><script type=\"text/javascript\">window.addEventListener(\"resize\", function(){window._Plotly.Plots.resize(document.getElementById(\"c9576df3-78fc-439b-8c6a-0b7aa435db46\"));});</script>"
      ]
     },
     "metadata": {},
     "output_type": "display_data"
    }
   ],
   "source": [
    "# plot_heatmap(\n",
    "#   [[3,5],[6,7]],\n",
    "#   ticktext=['a', 'b', 'c', 'd', 'e', 'f', 'g', 'h', 'i'],\n",
    "#   title='Plot title',\n",
    "#   xlabel='x label',\n",
    "#   ylabel='y label',\n",
    "#   colorscale= [\n",
    "#         [0, 'rgb(0, 0, 0)'],\n",
    "#         [0.1, 'rgb(0, 0, 0)'],\n",
    "#         [0.1, 'rgb(20, 20, 20)'],\n",
    "#         [0.2, 'rgb(20, 20, 20)'],\n",
    "#         [0.2, 'rgb(40, 40, 40)'],\n",
    "#         [0.3, 'rgb(40, 40, 40)'],\n",
    "#         [0.3, 'rgb(60, 60, 60)'],\n",
    "#         [0.4, 'rgb(60, 60, 60)'],\n",
    "#         [0.4, 'rgb(80, 80, 80)'],\n",
    "#         [0.5, 'rgb(80, 80, 80)'],\n",
    "#         [0.5, 'rgb(100, 100, 100)'],\n",
    "#         [0.6, 'rgb(100, 100, 100)'],\n",
    "#         [0.6, 'rgb(120, 120, 120)'],\n",
    "#         [0.7, 'rgb(120, 120, 120)'],\n",
    "#         [0.7, 'rgb(140, 140, 140)'],\n",
    "#         [0.8, 'rgb(140, 140, 140)'],\n",
    "#         [0.8, 'rgb(160, 160, 160)'],\n",
    "#         [0.9, 'rgb(160, 160, 160)'],\n",
    "#         [0.9, 'rgb(180, 180, 180)'],\n",
    "#         [1.0, 'rgb(180, 180, 180)'],\n",
    "#     ],\n",
    "# )\n"
   ]
  },
  {
   "cell_type": "code",
   "execution_count": null,
   "metadata": {},
   "outputs": [],
   "source": [
    "# plot_dictdict_as_bar({'first': {'a': 3, 'b': 5}, 'second': {'a': 4, 'b': 6}})"
   ]
  },
  {
   "cell_type": "code",
   "execution_count": null,
   "metadata": {},
   "outputs": [],
   "source": []
  }
 ],
 "metadata": {
  "kernelspec": {
   "display_name": "Python 3",
   "language": "python",
   "name": "python3"
  },
  "language_info": {
   "codemirror_mode": {
    "name": "ipython",
    "version": 3
   },
   "file_extension": ".py",
   "mimetype": "text/x-python",
   "name": "python",
   "nbconvert_exporter": "python",
   "pygments_lexer": "ipython3",
   "version": "3.7.2"
  }
 },
 "nbformat": 4,
 "nbformat_minor": 2
}
