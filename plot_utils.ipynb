{
 "cells": [
  {
   "cell_type": "code",
   "execution_count": 26,
   "metadata": {},
   "outputs": [
    {
     "name": "stdout",
     "output_type": "stream",
     "text": [
      "[NbConvertApp] Converting notebook plot_utils.ipynb to python\r\n"
     ]
    }
   ],
   "source": [
    "# noexport\n",
    "\n",
    "!typech plot_utils.ipynb"
   ]
  },
  {
   "cell_type": "code",
   "execution_count": 14,
   "metadata": {},
   "outputs": [
    {
     "data": {
      "text/html": [
       "        <script type=\"text/javascript\">\n",
       "        window.PlotlyConfig = {MathJaxConfig: 'local'};\n",
       "        if (window.MathJax) {MathJax.Hub.Config({SVG: {font: \"STIX-Web\"}});}\n",
       "        if (typeof require !== 'undefined') {\n",
       "        require.undef(\"plotly\");\n",
       "        requirejs.config({\n",
       "            paths: {\n",
       "                'plotly': ['https://cdn.plot.ly/plotly-latest.min']\n",
       "            }\n",
       "        });\n",
       "        require(['plotly'], function(Plotly) {\n",
       "            window._Plotly = Plotly;\n",
       "        });\n",
       "        }\n",
       "        </script>\n",
       "        "
      ]
     },
     "metadata": {},
     "output_type": "display_data"
    }
   ],
   "source": [
    "import plotly.graph_objs as go\n",
    "from plotly.offline import download_plotlyjs, init_notebook_mode, plot, iplot\n",
    "init_notebook_mode(connected=True)\n"
   ]
  },
  {
   "cell_type": "code",
   "execution_count": 22,
   "metadata": {},
   "outputs": [],
   "source": [
    "def plot_histogram(x_values):\n",
    "  data = [go.Histogram(x=x_values)]\n",
    "  iplot(data)\n",
    "\n",
    "def plot_points(points):\n",
    "  data = [go.Scatter(x=[x for x,y in points], y=[y for x,y in points])]\n",
    "  iplot(data)\n",
    "\n",
    "def plot_several_points(points_list):\n",
    "  data = []\n",
    "  for label,points in points_list:\n",
    "    data.append(go.Scatter(x=[x for x,y in points], y=[y for x,y in points], name=label))\n",
    "  iplot(data)\n",
    "\n",
    "def plot_bar(label_with_value_list):\n",
    "  data = [go.Bar(x=[x for x,y in label_with_value_list], y=[y for x,y in label_with_value_list])]\n",
    "  iplot(data)\n",
    "\n",
    "def plot_dict_as_bar(d):\n",
    "  data = []\n",
    "  items = list(d.items())\n",
    "  items.sort(key=lambda x: x[1], reverse=True)\n",
    "  plot_bar(items)\n",
    "\n",
    "def plot_heatmap(heatmap_data):\n",
    "  data = [go.Heatmap(z=heatmap_data)]\n",
    "  iplot(data)\n"
   ]
  },
  {
   "cell_type": "code",
   "execution_count": null,
   "metadata": {},
   "outputs": [],
   "source": []
  },
  {
   "cell_type": "code",
   "execution_count": null,
   "metadata": {},
   "outputs": [],
   "source": []
  }
 ],
 "metadata": {
  "kernelspec": {
   "display_name": "Python 3",
   "language": "python",
   "name": "python3"
  },
  "language_info": {
   "codemirror_mode": {
    "name": "ipython",
    "version": 3
   },
   "file_extension": ".py",
   "mimetype": "text/x-python",
   "name": "python",
   "nbconvert_exporter": "python",
   "pygments_lexer": "ipython3",
   "version": "3.7.2"
  }
 },
 "nbformat": 4,
 "nbformat_minor": 2
}
